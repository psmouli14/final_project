{
  "nbformat": 4,
  "nbformat_minor": 0,
  "metadata": {
    "colab": {
      "provenance": [],
      "collapsed_sections": [],
      "machine_shape": "hm",
      "authorship_tag": "ABX9TyO/haI6ho/MHLF8e9tTSN/9",
      "include_colab_link": true
    },
    "kernelspec": {
      "name": "python3",
      "display_name": "Python 3"
    },
    "language_info": {
      "name": "python"
    },
    "gpuClass": "standard",
    "accelerator": "GPU"
  },
  "cells": [
    {
      "cell_type": "markdown",
      "metadata": {
        "id": "view-in-github",
        "colab_type": "text"
      },
      "source": [
        "<a href=\"https://colab.research.google.com/github/psmouli14/final_project/blob/main/few_shot_learning_with_cifar100.ipynb\" target=\"_parent\"><img src=\"https://colab.research.google.com/assets/colab-badge.svg\" alt=\"Open In Colab\"/></a>"
      ]
    },
    {
      "cell_type": "code",
      "execution_count": null,
      "metadata": {
        "id": "DOlu814zHVl8"
      },
      "outputs": [],
      "source": [
        "import os\n",
        "import glob\n",
        "from PIL import Image\n",
        "import pandas as pd\n",
        "import numpy as np\n",
        "import tensorflow as tf"
      ]
    },
    {
      "cell_type": "code",
      "source": [
        "from google.colab import files\n",
        "uploaded = files.upload()"
      ],
      "metadata": {
        "colab": {
          "resources": {
            "http://localhost:8080/nbextensions/google.colab/files.js": {
              "data": "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",
              "ok": true,
              "headers": [
                [
                  "content-type",
                  "application/javascript"
                ]
              ],
              "status": 200,
              "status_text": ""
            }
          },
          "base_uri": "https://localhost:8080/",
          "height": 74
        },
        "id": "lqjRUIPrI9dN",
        "outputId": "36ffed23-8349-4631-cf81-be10e938eb6a"
      },
      "execution_count": null,
      "outputs": [
        {
          "output_type": "display_data",
          "data": {
            "text/plain": [
              "<IPython.core.display.HTML object>"
            ],
            "text/html": [
              "\n",
              "     <input type=\"file\" id=\"files-ae90dc0c-db4e-4e69-9d25-77ce9a413aba\" name=\"files[]\" multiple disabled\n",
              "        style=\"border:none\" />\n",
              "     <output id=\"result-ae90dc0c-db4e-4e69-9d25-77ce9a413aba\">\n",
              "      Upload widget is only available when the cell has been executed in the\n",
              "      current browser session. Please rerun this cell to enable.\n",
              "      </output>\n",
              "      <script src=\"/nbextensions/google.colab/files.js\"></script> "
            ]
          },
          "metadata": {}
        },
        {
          "output_type": "stream",
          "name": "stdout",
          "text": [
            "Saving cifar-100-python.tar.gz to cifar-100-python.tar.gz\n"
          ]
        }
      ]
    },
    {
      "cell_type": "code",
      "source": [
        "!tar -zxvf cifar-100-python.tar.gz"
      ],
      "metadata": {
        "colab": {
          "base_uri": "https://localhost:8080/"
        },
        "id": "w5xXwzyFJAv8",
        "outputId": "8e31a345-23b9-4daf-b45a-903e41eeb266"
      },
      "execution_count": null,
      "outputs": [
        {
          "output_type": "stream",
          "name": "stdout",
          "text": [
            "cifar-100-python/\n",
            "cifar-100-python/file.txt~\n",
            "cifar-100-python/train\n",
            "cifar-100-python/test\n",
            "cifar-100-python/meta\n"
          ]
        }
      ]
    },
    {
      "cell_type": "code",
      "source": [
        "def unpickle(file):\n",
        "    import pickle\n",
        "    with open(file, 'rb') as fo:\n",
        "        cifar_dict = pickle.load(fo, encoding='bytes')\n",
        "    return cifar_dict"
      ],
      "metadata": {
        "id": "JDFUbAHEZ-An"
      },
      "execution_count": null,
      "outputs": []
    },
    {
      "cell_type": "code",
      "source": [
        "meta = unpickle('cifar-100-python/meta')\n",
        "train = unpickle('cifar-100-python/train')\n",
        "test = unpickle('cifar-100-python/test')"
      ],
      "metadata": {
        "id": "5-Y9nNg_auc4"
      },
      "execution_count": null,
      "outputs": []
    },
    {
      "cell_type": "code",
      "source": [
        "meta_keys = list(meta.keys())\n",
        "meta_keys"
      ],
      "metadata": {
        "colab": {
          "base_uri": "https://localhost:8080/"
        },
        "id": "cz-Qix47bL0A",
        "outputId": "4f5b1582-34e2-4856-a7a5-e20d40dbe834"
      },
      "execution_count": null,
      "outputs": [
        {
          "output_type": "execute_result",
          "data": {
            "text/plain": [
              "[b'fine_label_names', b'coarse_label_names']"
            ]
          },
          "metadata": {},
          "execution_count": 6
        }
      ]
    },
    {
      "cell_type": "code",
      "source": [
        "Classes = pd.DataFrame(meta[b'fine_label_names'],columns = ['Classes'])"
      ],
      "metadata": {
        "id": "tqkGn9fvbeoG"
      },
      "execution_count": null,
      "outputs": []
    },
    {
      "cell_type": "code",
      "source": [
        "len(Classes)"
      ],
      "metadata": {
        "colab": {
          "base_uri": "https://localhost:8080/"
        },
        "id": "Cdm6adGobhyu",
        "outputId": "39a5b1bc-cf78-45df-d3a8-803eee6dd822"
      },
      "execution_count": null,
      "outputs": [
        {
          "output_type": "execute_result",
          "data": {
            "text/plain": [
              "100"
            ]
          },
          "metadata": {},
          "execution_count": 8
        }
      ]
    },
    {
      "cell_type": "code",
      "source": [
        "training_keys = list(train.keys())\n",
        "training_keys"
      ],
      "metadata": {
        "colab": {
          "base_uri": "https://localhost:8080/"
        },
        "id": "jJv2yegldRZK",
        "outputId": "ffec3025-3e6c-4283-add2-756dee162495"
      },
      "execution_count": null,
      "outputs": [
        {
          "output_type": "execute_result",
          "data": {
            "text/plain": [
              "[b'filenames', b'batch_label', b'fine_labels', b'coarse_labels', b'data']"
            ]
          },
          "metadata": {},
          "execution_count": 9
        }
      ]
    },
    {
      "cell_type": "code",
      "source": [
        "test_keys = list(test.keys())\n",
        "test_keys"
      ],
      "metadata": {
        "colab": {
          "base_uri": "https://localhost:8080/"
        },
        "id": "0Unfmv4Udsqf",
        "outputId": "5c871575-ae69-497e-974b-58fd29313e1e"
      },
      "execution_count": null,
      "outputs": [
        {
          "output_type": "execute_result",
          "data": {
            "text/plain": [
              "[b'filenames', b'batch_label', b'fine_labels', b'coarse_labels', b'data']"
            ]
          },
          "metadata": {},
          "execution_count": 10
        }
      ]
    },
    {
      "cell_type": "code",
      "source": [
        "train_images = train[b'data']\n",
        "test_images = test[b'data']\n",
        "train_images.shape\n"
      ],
      "metadata": {
        "colab": {
          "base_uri": "https://localhost:8080/"
        },
        "id": "Jqr9ImIJebNg",
        "outputId": "905df349-28e7-491c-fad5-b6c064bd47ab"
      },
      "execution_count": null,
      "outputs": [
        {
          "output_type": "execute_result",
          "data": {
            "text/plain": [
              "(50000, 3072)"
            ]
          },
          "metadata": {},
          "execution_count": 11
        }
      ]
    },
    {
      "cell_type": "code",
      "source": [
        "test_images.shape"
      ],
      "metadata": {
        "colab": {
          "base_uri": "https://localhost:8080/"
        },
        "id": "rKpQCyfyfakr",
        "outputId": "4667969f-6260-46ed-878e-3519678e28ac"
      },
      "execution_count": null,
      "outputs": [
        {
          "output_type": "execute_result",
          "data": {
            "text/plain": [
              "(10000, 3072)"
            ]
          },
          "metadata": {},
          "execution_count": 12
        }
      ]
    },
    {
      "cell_type": "code",
      "source": [
        "import matplotlib.pyplot as plt\n",
        "%matplotlib inline\n",
        "train_images = train_images.reshape(50000, 3, 32, 32).transpose(0,2,3,1).astype(\"uint8\")\n",
        "train_images = tf.cast(train_images, tf.float32)\n",
        "train_images.shape\n",
        "train_images = train_images/255"
      ],
      "metadata": {
        "id": "2rqJ-jGugc8H"
      },
      "execution_count": null,
      "outputs": []
    },
    {
      "cell_type": "code",
      "source": [
        "plt.figure(figsize=(6,3))\n",
        "plt.xticks([])\n",
        "plt.yticks([])\n",
        "plt.imshow(train_images[10])"
      ],
      "metadata": {
        "colab": {
          "base_uri": "https://localhost:8080/",
          "height": 215
        },
        "id": "E3Akskpphg0m",
        "outputId": "e2cc3d02-1f2f-4931-c428-71c4370aea76"
      },
      "execution_count": null,
      "outputs": [
        {
          "output_type": "execute_result",
          "data": {
            "text/plain": [
              "<matplotlib.image.AxesImage at 0x7f31bb029450>"
            ]
          },
          "metadata": {},
          "execution_count": 14
        },
        {
          "output_type": "display_data",
          "data": {
            "text/plain": [
              "<Figure size 432x216 with 1 Axes>"
            ],
            "image/png": "[encoded data removed]"
          },
          "metadata": {}
        }
      ]
    },
    {
      "cell_type": "code",
      "source": [
        "test_images = test_images.reshape(10000, 3, 32, 32).transpose(0,2,3,1).astype(\"uint8\")\n",
        "test_images = tf.cast(test_images, tf.float32)\n",
        "test_images.shape\n",
        "test_images = test_images/255"
      ],
      "metadata": {
        "id": "_3HxwYtkddDt"
      },
      "execution_count": null,
      "outputs": []
    },
    {
      "cell_type": "code",
      "source": [
        "# Now we build the labels and images as lists\n",
        "train_labels = train[b'fine_labels']\n",
        "test_labels = test[b'fine_labels']"
      ],
      "metadata": {
        "id": "4AJPyU-MtAlV"
      },
      "execution_count": null,
      "outputs": []
    },
    {
      "cell_type": "code",
      "source": [
        "len(train_labels), len(test_labels)"
      ],
      "metadata": {
        "colab": {
          "base_uri": "https://localhost:8080/"
        },
        "id": "4uM_FiFNjVqw",
        "outputId": "e105e337-0642-49c9-9706-4effe9219051"
      },
      "execution_count": null,
      "outputs": [
        {
          "output_type": "execute_result",
          "data": {
            "text/plain": [
              "(50000, 10000)"
            ]
          },
          "metadata": {},
          "execution_count": 17
        }
      ]
    },
    {
      "cell_type": "code",
      "source": [
        "# Lists to hold values for N-way k-shots experiments\n",
        "train_num_ways = [60, 30]\n",
        "test_num_ways = [5, 5]\n",
        "num_shots = [5, 1]\n",
        "img_width = 32\n",
        "img_height = 32\n",
        "channels = 3\n",
        "learning_rate = 0.001\n",
        "num_classes = 100"
      ],
      "metadata": {
        "id": "W4Ypmp1-jb6m"
      },
      "execution_count": null,
      "outputs": []
    },
    {
      "cell_type": "code",
      "source": [
        "print(test_images.shape)\n",
        "print(train_images.shape)"
      ],
      "metadata": {
        "colab": {
          "base_uri": "https://localhost:8080/"
        },
        "id": "iQ_Io6mQ2N2i",
        "outputId": "9b6fc233-c14d-4c15-d584-b02da97fe727"
      },
      "execution_count": null,
      "outputs": [
        {
          "output_type": "stream",
          "name": "stdout",
          "text": [
            "(10000, 32, 32, 3)\n",
            "(50000, 32, 32, 3)\n"
          ]
        }
      ]
    },
    {
      "cell_type": "code",
      "source": [
        "#split train into train and val\n",
        "train_images_split = np.zeros([40000, img_width , img_height, channels], dtype=np.float32)\n",
        "val_images_split = np.zeros([10000, img_width , img_height, channels], dtype=np.float32)\n",
        "train_labels_split = np.zeros(40000)\n",
        "val_labels_split = np.zeros(10000)\n",
        "\n",
        "train_split = 400\n",
        "val_split = 100\n",
        "for class_ in range(len(Classes)):\n",
        "  train_start_index = class_ * 500\n",
        "  train_end_index = train_start_index + train_split\n",
        "  train_index = class_ * train_split\n",
        "  val_start_index = train_end_index\n",
        "  val_end_index = val_start_index + val_split\n",
        "  val_index = class_ * val_split\n",
        "\n",
        "  train_images_split[train_index : train_index + train_split] = train_images[train_start_index: train_end_index]\n",
        "  val_images_split[val_index : val_index + val_split] = train_images[val_start_index : val_end_index]\n",
        "\n",
        "\n",
        "  train_labels_split[train_index : train_index + train_split] = train_labels[train_start_index : train_end_index]\n",
        "  val_labels_split[val_index : val_index + val_split] = train_labels[val_start_index : val_end_index]\n"
      ],
      "metadata": {
        "id": "MGAzDc-p3DAZ"
      },
      "execution_count": null,
      "outputs": []
    },
    {
      "cell_type": "code",
      "source": [
        "print(test_images.shape)\n",
        "print(train_images_split.shape)\n",
        "print(val_images_split.shape)"
      ],
      "metadata": {
        "colab": {
          "base_uri": "https://localhost:8080/"
        },
        "id": "wl8-Bw6yhkVh",
        "outputId": "2618a30e-9af8-4722-c05b-716d59da9e99"
      },
      "execution_count": null,
      "outputs": [
        {
          "output_type": "stream",
          "name": "stdout",
          "text": [
            "(10000, 32, 32, 3)\n",
            "(40000, 32, 32, 3)\n",
            "(10000, 32, 32, 3)\n"
          ]
        }
      ]
    },
    {
      "cell_type": "code",
      "source": [
        "def get_next_batch(dataset, labels, num_way, num_shot, num_query, no_of_classes):\n",
        "  episodic_classes = np.random.permutation(no_of_classes)[:num_way]\n",
        "  support = np.zeros([num_way, num_shot, img_width , img_height, channels], dtype=np.float32)\n",
        "  query = np.zeros([num_way, num_query, img_width , img_height, channels], dtype=np.float32)\n",
        "\n",
        "  for index, class_ in enumerate(episodic_classes):\n",
        "    indices = find_indices(labels, class_)\n",
        "    #check that the size is greater than num_shot + num_query\n",
        "    selected = np.random.permutation(indices)[:num_shot + num_query]\n",
        "    for support_index in range(num_shot):\n",
        "       support[index][support_index] = dataset[selected[support_index]] \n",
        "    for query_index in range(num_query):\n",
        "       query[index][query_index] = dataset[selected[num_shot + query_index]]  \n",
        "    \n",
        "  return support, query\n",
        "\n",
        "def find_indices(list_to_check, item_to_find):\n",
        "  indices = []\n",
        "  for idx, value in enumerate(list_to_check):\n",
        "    if value == item_to_find:\n",
        "      indices.append(idx)\n",
        "  return indices\n",
        "\n"
      ],
      "metadata": {
        "id": "t8iENgdpyI8r"
      },
      "execution_count": null,
      "outputs": []
    },
    {
      "cell_type": "code",
      "source": [
        "support, query = get_next_batch(val_images_split, val_labels_split, 20, 7, 3, 100)"
      ],
      "metadata": {
        "id": "aslgCiUk-stA"
      },
      "execution_count": null,
      "outputs": []
    },
    {
      "cell_type": "code",
      "source": [
        "support.shape"
      ],
      "metadata": {
        "colab": {
          "base_uri": "https://localhost:8080/"
        },
        "id": "wZCM-q4w_XNC",
        "outputId": "219a0158-400e-4e5c-a3de-af48e3b9aeaf"
      },
      "execution_count": null,
      "outputs": [
        {
          "output_type": "execute_result",
          "data": {
            "text/plain": [
              "(20, 7, 32, 32, 3)"
            ]
          },
          "metadata": {},
          "execution_count": 24
        }
      ]
    },
    {
      "cell_type": "code",
      "source": [
        "query.shape"
      ],
      "metadata": {
        "colab": {
          "base_uri": "https://localhost:8080/"
        },
        "id": "XdYHI3Je_asi",
        "outputId": "68c5bf26-9f4a-4988-927c-f0fe586393b5"
      },
      "execution_count": null,
      "outputs": [
        {
          "output_type": "execute_result",
          "data": {
            "text/plain": [
              "(20, 3, 32, 32, 3)"
            ]
          },
          "metadata": {},
          "execution_count": 25
        }
      ]
    },
    {
      "cell_type": "code",
      "source": [
        "def show_image(dataset, index, image_number):\n",
        "  plt.figure(figsize=(2,3))\n",
        "  plt.xticks([])\n",
        "  plt.yticks([])\n",
        "  plt.imshow(dataset[index][image_number])\n"
      ],
      "metadata": {
        "id": "dsjaPAdV_eMB"
      },
      "execution_count": null,
      "outputs": []
    },
    {
      "cell_type": "code",
      "source": [
        "show_image(support, 4, 6)"
      ],
      "metadata": {
        "colab": {
          "base_uri": "https://localhost:8080/",
          "height": 146
        },
        "id": "3pP-fPoOHXrJ",
        "outputId": "97b5d1e1-86e5-4232-ff4e-b919e3a5ea25"
      },
      "execution_count": null,
      "outputs": [
        {
          "output_type": "display_data",
          "data": {
            "text/plain": [
              "<Figure size 144x216 with 1 Axes>"
            ],
            "image/png": "[encoded data removed]"
          },
          "metadata": {}
        }
      ]
    },
    {
      "cell_type": "code",
      "source": [
        "show_image(query, 4, 0)"
      ],
      "metadata": {
        "colab": {
          "base_uri": "https://localhost:8080/",
          "height": 146
        },
        "id": "Tf_USxDCl7Gv",
        "outputId": "73697572-a81f-4d11-93fe-5966474a7da6"
      },
      "execution_count": null,
      "outputs": [
        {
          "output_type": "display_data",
          "data": {
            "text/plain": [
              "<Figure size 144x216 with 1 Axes>"
            ],
            "image/png": "[encoded data removed]"
          },
          "metadata": {}
        }
      ]
    },
    {
      "cell_type": "code",
      "source": [
        "from tensorflow import keras  \n",
        "from tensorflow.keras.layers import Dense, Flatten, Conv2D\n",
        "from tensorflow.keras import Model"
      ],
      "metadata": {
        "id": "yQsRfRaEYaSh"
      },
      "execution_count": null,
      "outputs": []
    },
    {
      "cell_type": "code",
      "source": [
        "from tensorflow.keras.layers import Dense, Flatten, Conv2D, BatchNormalization, Dropout, GlobalMaxPooling2D\n",
        "from tensorflow.keras import Model\n",
        "\n",
        "class Prototypical(Model):\n",
        "    \n",
        "    def __init__(self, n_support, n_query, w, h, c):\n",
        "        super(Prototypical, self).__init__()\n",
        "        self.w, self.h, self.c = w, h, c\n",
        "\n",
        "        # Encoder CNN with 4 blocks\n",
        "        self.encoder = keras.Sequential([\n",
        "            keras.layers.Conv2D(filters=64, kernel_size=3, padding='same'),\n",
        "            keras.layers.BatchNormalization(),\n",
        "            keras.layers.ReLU(),\n",
        "            keras.layers.MaxPool2D((2, 2)),\n",
        "\n",
        "            keras.layers.Conv2D(filters=64, kernel_size=3, padding='same'),\n",
        "            keras.layers.BatchNormalization(),\n",
        "            keras.layers.ReLU(),\n",
        "            keras.layers.MaxPool2D((2, 2)),\n",
        "\n",
        "            keras.layers.Conv2D(filters=64, kernel_size=3, padding='same'),\n",
        "            keras.layers.BatchNormalization(),\n",
        "            keras.layers.ReLU(),\n",
        "            keras.layers.MaxPool2D((2, 2)),\n",
        "\n",
        "            keras.layers.Conv2D(filters=64, kernel_size=3, padding='same'),\n",
        "            keras.layers.BatchNormalization(),\n",
        "            keras.layers.ReLU(),\n",
        "            keras.layers.MaxPool2D((2, 2)), Flatten()]\n",
        "        )\n",
        "\n",
        "    def call(self, support, query):\n",
        "        n_class = support.shape[0]\n",
        "        n_support = support.shape[1]\n",
        "        n_query = query.shape[1]\n",
        "        y = np.tile(np.arange(n_class)[:, np.newaxis], (1, n_query))\n",
        "        y_onehot = tf.cast(tf.one_hot(y, n_class), tf.float32)\n",
        "\n",
        "        # correct indices of support samples (just natural order)\n",
        "        target_inds = tf.reshape(tf.range(n_class), [n_class, 1])\n",
        "        target_inds = tf.tile(target_inds, [1, n_query])\n",
        "\n",
        "        # merge support and query to forward through encoder\n",
        "        cat = tf.concat([\n",
        "            tf.reshape(support, [n_class * n_support,\n",
        "                                 self.w, self.h, self.c]),\n",
        "            tf.reshape(query, [n_class * n_query,\n",
        "                               self.w, self.h, self.c])], axis=0)\n",
        "        z = self.encoder(cat)\n",
        "\n",
        "        # Divide embedding into support and query\n",
        "        z_prototypes = tf.reshape(z[:n_class * n_support],\n",
        "                                  [n_class, n_support, z.shape[-1]])\n",
        "        # Prototypes are means of n_support examples\n",
        "        z_prototypes = tf.math.reduce_mean(z_prototypes, axis=1)\n",
        "        z_query = z[n_class * n_support:]\n",
        "\n",
        "        # Calculate distances between query and prototypes\n",
        "        dists = euclidean_distance(z_query, z_prototypes)\n",
        "\n",
        "        # log softmax of calculated distances\n",
        "        log_p_y = tf.nn.log_softmax(-dists, axis=-1)\n",
        "        log_p_y = tf.reshape(log_p_y, [n_class, n_query, -1])\n",
        "        \n",
        "        loss = -tf.reduce_mean(tf.reshape(tf.reduce_sum(tf.multiply(y_onehot, log_p_y), axis=-1), [-1]))\n",
        "        eq = tf.cast(tf.equal(\n",
        "            tf.cast(tf.argmax(log_p_y, axis=-1), tf.int32), \n",
        "            tf.cast(y, tf.int32)), tf.float32)\n",
        "        acc = tf.reduce_mean(eq)\n",
        "        return loss, acc\n",
        "\n",
        "    def save(self, model_path):\n",
        "        self.encoder.save(model_path)\n",
        "\n",
        "    def load(self, model_path):\n",
        "        self.encoder(tf.zeros([1, self.w, self.h, self.c]))\n",
        "        self.encoder.load_weights(model_path)"
      ],
      "metadata": {
        "id": "RYIxk1m1HcYH"
      },
      "execution_count": null,
      "outputs": []
    },
    {
      "cell_type": "code",
      "source": [
        "def euclidean_distance(a, b):\n",
        "\n",
        "    N, D = tf.shape(a)[0], tf.shape(a)[1]\n",
        "    M = tf.shape(b)[0]\n",
        "    a = tf.tile(tf.expand_dims(a, axis=1), (1, M, 1))\n",
        "    b = tf.tile(tf.expand_dims(b, axis=0), (N, 1, 1))\n",
        "    return tf.reduce_mean(tf.square(a - b), axis=2)"
      ],
      "metadata": {
        "id": "9qLG5YjxYdH8"
      },
      "execution_count": null,
      "outputs": []
    },
    {
      "cell_type": "code",
      "source": [
        "#number of classes\n",
        "num_way = train_num_ways[0] \n",
        "\n",
        "#number of examples per class for support set\n",
        "num_shot = num_shots[0]  \n",
        "\n",
        "#number of query points\n",
        "num_query = num_shots[0] \n",
        "\n",
        "train_loss = tf.metrics.Mean(name='train_loss')\n",
        "train_acc = tf.metrics.Mean(name='train_accuracy')\n",
        "support = np.zeros([num_way, num_shot, img_width, img_height, channels], dtype=np.float32)\n",
        "query = np.zeros([num_way, num_query, img_height, channels], dtype=np.float32)\n",
        "model = Prototypical(support, query, img_width, img_height, channels)\n",
        "optimizer = tf.keras.optimizers.Adam(learning_rate)\n",
        "\n",
        "num_epochs = 100\n",
        "num_episodes = 100\n",
        "save_path = \"./results/models/cifar100_train0.h5\"\n",
        "\n",
        "least_loss = {'least_loss': 100.00}\n",
        "\n",
        "@tf.function\n",
        "def loss(support, query):\n",
        "  loss, acc = model(support, query)\n",
        "  return loss, acc\n",
        "\n",
        "@tf.function\n",
        "def train_step(support, query):\n",
        "  with tf.GradientTape() as tape:\n",
        "    loss, acc = model(support, query)\n",
        "  gradients = tape.gradient(loss, model.trainable_variables)\n",
        "  optimizer.apply_gradients(\n",
        "        zip(gradients, model.trainable_variables))\n",
        "  train_loss(loss)\n",
        "  train_acc(acc)\n",
        "\n",
        "@tf.function\n",
        "def val_step(loss_func, support, query):\n",
        "  loss, acc = loss_func(support, query)\n",
        "  val_loss(loss)\n",
        "  val_acc(acc)\n",
        "\n",
        "for epoch in range(num_epochs):\n",
        "  train_loss.reset_states()\n",
        "  train_acc.reset_states()\n",
        "\n",
        "  for episode in range(num_episodes):\n",
        "    train_support, train_query = get_next_batch(train_images_split, train_labels_split, num_way, num_shot, num_query, num_classes)\n",
        "    train_step(train_support, train_query)\n",
        "\n",
        "  cur_loss = train_loss.result().numpy()\n",
        "  if cur_loss < least_loss['least_loss']:\n",
        "      print(\"Saving new best model with loss: \", cur_loss)\n",
        "      least_loss['least_loss'] = cur_loss\n",
        "      model.save(save_path)\n",
        "      \n",
        "  template = 'Epoch {}, Loss: {}, Accuracy: {}'\n",
        "  print(template.format(epoch + 1, train_loss.result(), train_acc.result() * 100))"
      ],
      "metadata": {
        "colab": {
          "base_uri": "https://localhost:8080/"
        },
        "id": "Hm-NC26kYqEy",
        "outputId": "a20ae559-1500-458e-98db-bfaa12c5e478"
      },
      "execution_count": null,
      "outputs": [
        {
          "output_type": "stream",
          "name": "stderr",
          "text": [
            "WARNING:tensorflow:Compiled the loaded model, but the compiled metrics have yet to be built. `model.compile_metrics` will be empty until you train or evaluate the model.\n"
          ]
        },
        {
          "output_type": "stream",
          "name": "stdout",
          "text": [
            "Saving new best model with loss:  3.7885697\n",
            "Epoch 1, Loss: 3.788569688796997, Accuracy: 8.616665840148926\n"
          ]
        },
        {
          "output_type": "stream",
          "name": "stderr",
          "text": [
            "WARNING:tensorflow:Compiled the loaded model, but the compiled metrics have yet to be built. `model.compile_metrics` will be empty until you train or evaluate the model.\n"
          ]
        },
        {
          "output_type": "stream",
          "name": "stdout",
          "text": [
            "Saving new best model with loss:  3.5846808\n",
            "Epoch 2, Loss: 3.5846807956695557, Accuracy: 11.629999160766602\n"
          ]
        },
        {
          "output_type": "stream",
          "name": "stderr",
          "text": [
            "WARNING:tensorflow:Compiled the loaded model, but the compiled metrics have yet to be built. `model.compile_metrics` will be empty until you train or evaluate the model.\n"
          ]
        },
        {
          "output_type": "stream",
          "name": "stdout",
          "text": [
            "Saving new best model with loss:  3.4252338\n",
            "Epoch 3, Loss: 3.425233840942383, Accuracy: 14.799997329711914\n"
          ]
        },
        {
          "output_type": "stream",
          "name": "stderr",
          "text": [
            "WARNING:tensorflow:Compiled the loaded model, but the compiled metrics have yet to be built. `model.compile_metrics` will be empty until you train or evaluate the model.\n"
          ]
        },
        {
          "output_type": "stream",
          "name": "stdout",
          "text": [
            "Saving new best model with loss:  3.3369436\n",
            "Epoch 4, Loss: 3.3369436264038086, Accuracy: 16.25\n"
          ]
        },
        {
          "output_type": "stream",
          "name": "stderr",
          "text": [
            "WARNING:tensorflow:Compiled the loaded model, but the compiled metrics have yet to be built. `model.compile_metrics` will be empty until you train or evaluate the model.\n"
          ]
        },
        {
          "output_type": "stream",
          "name": "stdout",
          "text": [
            "Saving new best model with loss:  3.2790158\n",
            "Epoch 5, Loss: 3.2790157794952393, Accuracy: 17.68999671936035\n"
          ]
        },
        {
          "output_type": "stream",
          "name": "stderr",
          "text": [
            "WARNING:tensorflow:Compiled the loaded model, but the compiled metrics have yet to be built. `model.compile_metrics` will be empty until you train or evaluate the model.\n"
          ]
        },
        {
          "output_type": "stream",
          "name": "stdout",
          "text": [
            "Saving new best model with loss:  3.2069025\n",
            "Epoch 6, Loss: 3.206902503967285, Accuracy: 18.92333221435547\n"
          ]
        },
        {
          "output_type": "stream",
          "name": "stderr",
          "text": [
            "WARNING:tensorflow:Compiled the loaded model, but the compiled metrics have yet to be built. `model.compile_metrics` will be empty until you train or evaluate the model.\n"
          ]
        },
        {
          "output_type": "stream",
          "name": "stdout",
          "text": [
            "Saving new best model with loss:  3.1371427\n",
            "Epoch 7, Loss: 3.1371426582336426, Accuracy: 19.933320999145508\n"
          ]
        },
        {
          "output_type": "stream",
          "name": "stderr",
          "text": [
            "WARNING:tensorflow:Compiled the loaded model, but the compiled metrics have yet to be built. `model.compile_metrics` will be empty until you train or evaluate the model.\n"
          ]
        },
        {
          "output_type": "stream",
          "name": "stdout",
          "text": [
            "Saving new best model with loss:  3.071547\n",
            "Epoch 8, Loss: 3.071547031402588, Accuracy: 21.27332305908203\n"
          ]
        },
        {
          "output_type": "stream",
          "name": "stderr",
          "text": [
            "WARNING:tensorflow:Compiled the loaded model, but the compiled metrics have yet to be built. `model.compile_metrics` will be empty until you train or evaluate the model.\n"
          ]
        },
        {
          "output_type": "stream",
          "name": "stdout",
          "text": [
            "Saving new best model with loss:  3.0302951\n",
            "Epoch 9, Loss: 3.0302951335906982, Accuracy: 22.019990921020508\n"
          ]
        },
        {
          "output_type": "stream",
          "name": "stderr",
          "text": [
            "WARNING:tensorflow:Compiled the loaded model, but the compiled metrics have yet to be built. `model.compile_metrics` will be empty until you train or evaluate the model.\n"
          ]
        },
        {
          "output_type": "stream",
          "name": "stdout",
          "text": [
            "Saving new best model with loss:  2.9924643\n",
            "Epoch 10, Loss: 2.992464303970337, Accuracy: 22.88666534423828\n"
          ]
        },
        {
          "output_type": "stream",
          "name": "stderr",
          "text": [
            "WARNING:tensorflow:Compiled the loaded model, but the compiled metrics have yet to be built. `model.compile_metrics` will be empty until you train or evaluate the model.\n"
          ]
        },
        {
          "output_type": "stream",
          "name": "stdout",
          "text": [
            "Saving new best model with loss:  2.9551618\n",
            "Epoch 11, Loss: 2.9551618099212646, Accuracy: 23.626659393310547\n"
          ]
        },
        {
          "output_type": "stream",
          "name": "stderr",
          "text": [
            "WARNING:tensorflow:Compiled the loaded model, but the compiled metrics have yet to be built. `model.compile_metrics` will be empty until you train or evaluate the model.\n"
          ]
        },
        {
          "output_type": "stream",
          "name": "stdout",
          "text": [
            "Saving new best model with loss:  2.9079525\n",
            "Epoch 12, Loss: 2.9079525470733643, Accuracy: 24.896663665771484\n"
          ]
        },
        {
          "output_type": "stream",
          "name": "stderr",
          "text": [
            "WARNING:tensorflow:Compiled the loaded model, but the compiled metrics have yet to be built. `model.compile_metrics` will be empty until you train or evaluate the model.\n"
          ]
        },
        {
          "output_type": "stream",
          "name": "stdout",
          "text": [
            "Saving new best model with loss:  2.8581529\n",
            "Epoch 13, Loss: 2.8581528663635254, Accuracy: 25.56999969482422\n"
          ]
        },
        {
          "output_type": "stream",
          "name": "stderr",
          "text": [
            "WARNING:tensorflow:Compiled the loaded model, but the compiled metrics have yet to be built. `model.compile_metrics` will be empty until you train or evaluate the model.\n"
          ]
        },
        {
          "output_type": "stream",
          "name": "stdout",
          "text": [
            "Saving new best model with loss:  2.7808514\n",
            "Epoch 14, Loss: 2.780851364135742, Accuracy: 26.873332977294922\n"
          ]
        },
        {
          "output_type": "stream",
          "name": "stderr",
          "text": [
            "WARNING:tensorflow:Compiled the loaded model, but the compiled metrics have yet to be built. `model.compile_metrics` will be empty until you train or evaluate the model.\n"
          ]
        },
        {
          "output_type": "stream",
          "name": "stdout",
          "text": [
            "Saving new best model with loss:  2.7480218\n",
            "Epoch 15, Loss: 2.7480218410491943, Accuracy: 27.373336791992188\n"
          ]
        },
        {
          "output_type": "stream",
          "name": "stderr",
          "text": [
            "WARNING:tensorflow:Compiled the loaded model, but the compiled metrics have yet to be built. `model.compile_metrics` will be empty until you train or evaluate the model.\n"
          ]
        },
        {
          "output_type": "stream",
          "name": "stdout",
          "text": [
            "Saving new best model with loss:  2.709256\n",
            "Epoch 16, Loss: 2.7092559337615967, Accuracy: 28.533340454101562\n"
          ]
        },
        {
          "output_type": "stream",
          "name": "stderr",
          "text": [
            "WARNING:tensorflow:Compiled the loaded model, but the compiled metrics have yet to be built. `model.compile_metrics` will be empty until you train or evaluate the model.\n"
          ]
        },
        {
          "output_type": "stream",
          "name": "stdout",
          "text": [
            "Saving new best model with loss:  2.6580155\n",
            "Epoch 17, Loss: 2.658015489578247, Accuracy: 29.479997634887695\n"
          ]
        },
        {
          "output_type": "stream",
          "name": "stderr",
          "text": [
            "WARNING:tensorflow:Compiled the loaded model, but the compiled metrics have yet to be built. `model.compile_metrics` will be empty until you train or evaluate the model.\n"
          ]
        },
        {
          "output_type": "stream",
          "name": "stdout",
          "text": [
            "Saving new best model with loss:  2.6409605\n",
            "Epoch 18, Loss: 2.640960454940796, Accuracy: 29.6300048828125\n"
          ]
        },
        {
          "output_type": "stream",
          "name": "stderr",
          "text": [
            "WARNING:tensorflow:Compiled the loaded model, but the compiled metrics have yet to be built. `model.compile_metrics` will be empty until you train or evaluate the model.\n"
          ]
        },
        {
          "output_type": "stream",
          "name": "stdout",
          "text": [
            "Saving new best model with loss:  2.6025405\n",
            "Epoch 19, Loss: 2.6025404930114746, Accuracy: 30.570003509521484\n"
          ]
        },
        {
          "output_type": "stream",
          "name": "stderr",
          "text": [
            "WARNING:tensorflow:Compiled the loaded model, but the compiled metrics have yet to be built. `model.compile_metrics` will be empty until you train or evaluate the model.\n"
          ]
        },
        {
          "output_type": "stream",
          "name": "stdout",
          "text": [
            "Saving new best model with loss:  2.5562747\n",
            "Epoch 20, Loss: 2.556274652481079, Accuracy: 31.510007858276367\n"
          ]
        },
        {
          "output_type": "stream",
          "name": "stderr",
          "text": [
            "WARNING:tensorflow:Compiled the loaded model, but the compiled metrics have yet to be built. `model.compile_metrics` will be empty until you train or evaluate the model.\n"
          ]
        },
        {
          "output_type": "stream",
          "name": "stdout",
          "text": [
            "Saving new best model with loss:  2.504942\n",
            "Epoch 21, Loss: 2.504941940307617, Accuracy: 32.46333694458008\n"
          ]
        },
        {
          "output_type": "stream",
          "name": "stderr",
          "text": [
            "WARNING:tensorflow:Compiled the loaded model, but the compiled metrics have yet to be built. `model.compile_metrics` will be empty until you train or evaluate the model.\n"
          ]
        },
        {
          "output_type": "stream",
          "name": "stdout",
          "text": [
            "Saving new best model with loss:  2.4903033\n",
            "Epoch 22, Loss: 2.4903032779693604, Accuracy: 33.22666931152344\n"
          ]
        },
        {
          "output_type": "stream",
          "name": "stderr",
          "text": [
            "WARNING:tensorflow:Compiled the loaded model, but the compiled metrics have yet to be built. `model.compile_metrics` will be empty until you train or evaluate the model.\n"
          ]
        },
        {
          "output_type": "stream",
          "name": "stdout",
          "text": [
            "Saving new best model with loss:  2.4664347\n",
            "Epoch 23, Loss: 2.4664347171783447, Accuracy: 33.46333694458008\n"
          ]
        },
        {
          "output_type": "stream",
          "name": "stderr",
          "text": [
            "WARNING:tensorflow:Compiled the loaded model, but the compiled metrics have yet to be built. `model.compile_metrics` will be empty until you train or evaluate the model.\n"
          ]
        },
        {
          "output_type": "stream",
          "name": "stdout",
          "text": [
            "Saving new best model with loss:  2.4497995\n",
            "Epoch 24, Loss: 2.4497995376586914, Accuracy: 33.709991455078125\n"
          ]
        },
        {
          "output_type": "stream",
          "name": "stderr",
          "text": [
            "WARNING:tensorflow:Compiled the loaded model, but the compiled metrics have yet to be built. `model.compile_metrics` will be empty until you train or evaluate the model.\n"
          ]
        },
        {
          "output_type": "stream",
          "name": "stdout",
          "text": [
            "Saving new best model with loss:  2.4299297\n",
            "Epoch 25, Loss: 2.429929733276367, Accuracy: 33.74333190917969\n"
          ]
        },
        {
          "output_type": "stream",
          "name": "stderr",
          "text": [
            "WARNING:tensorflow:Compiled the loaded model, but the compiled metrics have yet to be built. `model.compile_metrics` will be empty until you train or evaluate the model.\n"
          ]
        },
        {
          "output_type": "stream",
          "name": "stdout",
          "text": [
            "Saving new best model with loss:  2.3921506\n",
            "Epoch 26, Loss: 2.392150640487671, Accuracy: 34.486663818359375\n"
          ]
        },
        {
          "output_type": "stream",
          "name": "stderr",
          "text": [
            "WARNING:tensorflow:Compiled the loaded model, but the compiled metrics have yet to be built. `model.compile_metrics` will be empty until you train or evaluate the model.\n"
          ]
        },
        {
          "output_type": "stream",
          "name": "stdout",
          "text": [
            "Saving new best model with loss:  2.383531\n",
            "Epoch 27, Loss: 2.383531093597412, Accuracy: 35.10667419433594\n"
          ]
        },
        {
          "output_type": "stream",
          "name": "stderr",
          "text": [
            "WARNING:tensorflow:Compiled the loaded model, but the compiled metrics have yet to be built. `model.compile_metrics` will be empty until you train or evaluate the model.\n"
          ]
        },
        {
          "output_type": "stream",
          "name": "stdout",
          "text": [
            "Saving new best model with loss:  2.3448098\n",
            "Epoch 28, Loss: 2.3448097705841064, Accuracy: 35.92666244506836\n"
          ]
        },
        {
          "output_type": "stream",
          "name": "stderr",
          "text": [
            "WARNING:tensorflow:Compiled the loaded model, but the compiled metrics have yet to be built. `model.compile_metrics` will be empty until you train or evaluate the model.\n"
          ]
        },
        {
          "output_type": "stream",
          "name": "stdout",
          "text": [
            "Saving new best model with loss:  2.3441517\n",
            "Epoch 29, Loss: 2.344151735305786, Accuracy: 36.0966682434082\n"
          ]
        },
        {
          "output_type": "stream",
          "name": "stderr",
          "text": [
            "WARNING:tensorflow:Compiled the loaded model, but the compiled metrics have yet to be built. `model.compile_metrics` will be empty until you train or evaluate the model.\n"
          ]
        },
        {
          "output_type": "stream",
          "name": "stdout",
          "text": [
            "Saving new best model with loss:  2.2995582\n",
            "Epoch 30, Loss: 2.299558162689209, Accuracy: 36.7933349609375\n"
          ]
        },
        {
          "output_type": "stream",
          "name": "stderr",
          "text": [
            "WARNING:tensorflow:Compiled the loaded model, but the compiled metrics have yet to be built. `model.compile_metrics` will be empty until you train or evaluate the model.\n"
          ]
        },
        {
          "output_type": "stream",
          "name": "stdout",
          "text": [
            "Saving new best model with loss:  2.2709324\n",
            "Epoch 31, Loss: 2.27093243598938, Accuracy: 36.97334289550781\n"
          ]
        },
        {
          "output_type": "stream",
          "name": "stderr",
          "text": [
            "WARNING:tensorflow:Compiled the loaded model, but the compiled metrics have yet to be built. `model.compile_metrics` will be empty until you train or evaluate the model.\n"
          ]
        },
        {
          "output_type": "stream",
          "name": "stdout",
          "text": [
            "Saving new best model with loss:  2.2646804\n",
            "Epoch 32, Loss: 2.2646803855895996, Accuracy: 38.16999435424805\n"
          ]
        },
        {
          "output_type": "stream",
          "name": "stderr",
          "text": [
            "WARNING:tensorflow:Compiled the loaded model, but the compiled metrics have yet to be built. `model.compile_metrics` will be empty until you train or evaluate the model.\n"
          ]
        },
        {
          "output_type": "stream",
          "name": "stdout",
          "text": [
            "Saving new best model with loss:  2.2343023\n",
            "Epoch 33, Loss: 2.234302282333374, Accuracy: 38.033329010009766\n"
          ]
        },
        {
          "output_type": "stream",
          "name": "stderr",
          "text": [
            "WARNING:tensorflow:Compiled the loaded model, but the compiled metrics have yet to be built. `model.compile_metrics` will be empty until you train or evaluate the model.\n"
          ]
        },
        {
          "output_type": "stream",
          "name": "stdout",
          "text": [
            "Saving new best model with loss:  2.229882\n",
            "Epoch 34, Loss: 2.229882001876831, Accuracy: 37.986663818359375\n"
          ]
        },
        {
          "output_type": "stream",
          "name": "stderr",
          "text": [
            "WARNING:tensorflow:Compiled the loaded model, but the compiled metrics have yet to be built. `model.compile_metrics` will be empty until you train or evaluate the model.\n"
          ]
        },
        {
          "output_type": "stream",
          "name": "stdout",
          "text": [
            "Saving new best model with loss:  2.2059722\n",
            "Epoch 35, Loss: 2.205972194671631, Accuracy: 38.866668701171875\n"
          ]
        },
        {
          "output_type": "stream",
          "name": "stderr",
          "text": [
            "WARNING:tensorflow:Compiled the loaded model, but the compiled metrics have yet to be built. `model.compile_metrics` will be empty until you train or evaluate the model.\n"
          ]
        },
        {
          "output_type": "stream",
          "name": "stdout",
          "text": [
            "Saving new best model with loss:  2.196474\n",
            "Epoch 36, Loss: 2.196474075317383, Accuracy: 39.24333190917969\n"
          ]
        },
        {
          "output_type": "stream",
          "name": "stderr",
          "text": [
            "WARNING:tensorflow:Compiled the loaded model, but the compiled metrics have yet to be built. `model.compile_metrics` will be empty until you train or evaluate the model.\n"
          ]
        },
        {
          "output_type": "stream",
          "name": "stdout",
          "text": [
            "Saving new best model with loss:  2.1712334\n",
            "Epoch 37, Loss: 2.1712334156036377, Accuracy: 39.27665710449219\n"
          ]
        },
        {
          "output_type": "stream",
          "name": "stderr",
          "text": [
            "WARNING:tensorflow:Compiled the loaded model, but the compiled metrics have yet to be built. `model.compile_metrics` will be empty until you train or evaluate the model.\n"
          ]
        },
        {
          "output_type": "stream",
          "name": "stdout",
          "text": [
            "Saving new best model with loss:  2.1564155\n",
            "Epoch 38, Loss: 2.1564154624938965, Accuracy: 39.560001373291016\n"
          ]
        },
        {
          "output_type": "stream",
          "name": "stderr",
          "text": [
            "WARNING:tensorflow:Compiled the loaded model, but the compiled metrics have yet to be built. `model.compile_metrics` will be empty until you train or evaluate the model.\n"
          ]
        },
        {
          "output_type": "stream",
          "name": "stdout",
          "text": [
            "Saving new best model with loss:  2.1488116\n",
            "Epoch 39, Loss: 2.1488115787506104, Accuracy: 39.979976654052734\n"
          ]
        },
        {
          "output_type": "stream",
          "name": "stderr",
          "text": [
            "WARNING:tensorflow:Compiled the loaded model, but the compiled metrics have yet to be built. `model.compile_metrics` will be empty until you train or evaluate the model.\n"
          ]
        },
        {
          "output_type": "stream",
          "name": "stdout",
          "text": [
            "Saving new best model with loss:  2.122444\n",
            "Epoch 40, Loss: 2.122443914413452, Accuracy: 40.62333679199219\n"
          ]
        },
        {
          "output_type": "stream",
          "name": "stderr",
          "text": [
            "WARNING:tensorflow:Compiled the loaded model, but the compiled metrics have yet to be built. `model.compile_metrics` will be empty until you train or evaluate the model.\n"
          ]
        },
        {
          "output_type": "stream",
          "name": "stdout",
          "text": [
            "Saving new best model with loss:  2.1020336\n",
            "Epoch 41, Loss: 2.1020336151123047, Accuracy: 41.10334777832031\n"
          ]
        },
        {
          "output_type": "stream",
          "name": "stderr",
          "text": [
            "WARNING:tensorflow:Compiled the loaded model, but the compiled metrics have yet to be built. `model.compile_metrics` will be empty until you train or evaluate the model.\n"
          ]
        },
        {
          "output_type": "stream",
          "name": "stdout",
          "text": [
            "Saving new best model with loss:  2.079427\n",
            "Epoch 42, Loss: 2.0794270038604736, Accuracy: 42.04999923706055\n"
          ]
        },
        {
          "output_type": "stream",
          "name": "stderr",
          "text": [
            "WARNING:tensorflow:Compiled the loaded model, but the compiled metrics have yet to be built. `model.compile_metrics` will be empty until you train or evaluate the model.\n"
          ]
        },
        {
          "output_type": "stream",
          "name": "stdout",
          "text": [
            "Saving new best model with loss:  2.0762622\n",
            "Epoch 43, Loss: 2.0762622356414795, Accuracy: 41.24665832519531\n",
            "Epoch 44, Loss: 2.0804572105407715, Accuracy: 41.40333938598633\n"
          ]
        },
        {
          "output_type": "stream",
          "name": "stderr",
          "text": [
            "WARNING:tensorflow:Compiled the loaded model, but the compiled metrics have yet to be built. `model.compile_metrics` will be empty until you train or evaluate the model.\n"
          ]
        },
        {
          "output_type": "stream",
          "name": "stdout",
          "text": [
            "Saving new best model with loss:  2.0693512\n",
            "Epoch 45, Loss: 2.0693511962890625, Accuracy: 41.45332336425781\n"
          ]
        },
        {
          "output_type": "stream",
          "name": "stderr",
          "text": [
            "WARNING:tensorflow:Compiled the loaded model, but the compiled metrics have yet to be built. `model.compile_metrics` will be empty until you train or evaluate the model.\n"
          ]
        },
        {
          "output_type": "stream",
          "name": "stdout",
          "text": [
            "Saving new best model with loss:  2.057028\n",
            "Epoch 46, Loss: 2.05702805519104, Accuracy: 42.003326416015625\n"
          ]
        },
        {
          "output_type": "stream",
          "name": "stderr",
          "text": [
            "WARNING:tensorflow:Compiled the loaded model, but the compiled metrics have yet to be built. `model.compile_metrics` will be empty until you train or evaluate the model.\n"
          ]
        },
        {
          "output_type": "stream",
          "name": "stdout",
          "text": [
            "Saving new best model with loss:  2.0332139\n",
            "Epoch 47, Loss: 2.0332138538360596, Accuracy: 42.366668701171875\n"
          ]
        },
        {
          "output_type": "stream",
          "name": "stderr",
          "text": [
            "WARNING:tensorflow:Compiled the loaded model, but the compiled metrics have yet to be built. `model.compile_metrics` will be empty until you train or evaluate the model.\n"
          ]
        },
        {
          "output_type": "stream",
          "name": "stdout",
          "text": [
            "Saving new best model with loss:  2.0143723\n",
            "Epoch 48, Loss: 2.0143723487854004, Accuracy: 43.13999557495117\n"
          ]
        },
        {
          "output_type": "stream",
          "name": "stderr",
          "text": [
            "WARNING:tensorflow:Compiled the loaded model, but the compiled metrics have yet to be built. `model.compile_metrics` will be empty until you train or evaluate the model.\n"
          ]
        },
        {
          "output_type": "stream",
          "name": "stdout",
          "text": [
            "Saving new best model with loss:  2.012673\n",
            "Epoch 49, Loss: 2.0126729011535645, Accuracy: 42.873329162597656\n"
          ]
        },
        {
          "output_type": "stream",
          "name": "stderr",
          "text": [
            "WARNING:tensorflow:Compiled the loaded model, but the compiled metrics have yet to be built. `model.compile_metrics` will be empty until you train or evaluate the model.\n"
          ]
        },
        {
          "output_type": "stream",
          "name": "stdout",
          "text": [
            "Saving new best model with loss:  2.0010314\n",
            "Epoch 50, Loss: 2.0010313987731934, Accuracy: 43.3166618347168\n"
          ]
        },
        {
          "output_type": "stream",
          "name": "stderr",
          "text": [
            "WARNING:tensorflow:Compiled the loaded model, but the compiled metrics have yet to be built. `model.compile_metrics` will be empty until you train or evaluate the model.\n"
          ]
        },
        {
          "output_type": "stream",
          "name": "stdout",
          "text": [
            "Saving new best model with loss:  1.9950612\n",
            "Epoch 51, Loss: 1.9950611591339111, Accuracy: 43.65998458862305\n"
          ]
        },
        {
          "output_type": "stream",
          "name": "stderr",
          "text": [
            "WARNING:tensorflow:Compiled the loaded model, but the compiled metrics have yet to be built. `model.compile_metrics` will be empty until you train or evaluate the model.\n"
          ]
        },
        {
          "output_type": "stream",
          "name": "stdout",
          "text": [
            "Saving new best model with loss:  1.9714293\n",
            "Epoch 52, Loss: 1.9714293479919434, Accuracy: 43.809993743896484\n",
            "Epoch 53, Loss: 1.9719291925430298, Accuracy: 43.713321685791016\n"
          ]
        },
        {
          "output_type": "stream",
          "name": "stderr",
          "text": [
            "WARNING:tensorflow:Compiled the loaded model, but the compiled metrics have yet to be built. `model.compile_metrics` will be empty until you train or evaluate the model.\n"
          ]
        },
        {
          "output_type": "stream",
          "name": "stdout",
          "text": [
            "Saving new best model with loss:  1.96668\n",
            "Epoch 54, Loss: 1.9666800498962402, Accuracy: 43.79664611816406\n"
          ]
        },
        {
          "output_type": "stream",
          "name": "stderr",
          "text": [
            "WARNING:tensorflow:Compiled the loaded model, but the compiled metrics have yet to be built. `model.compile_metrics` will be empty until you train or evaluate the model.\n"
          ]
        },
        {
          "output_type": "stream",
          "name": "stdout",
          "text": [
            "Saving new best model with loss:  1.945032\n",
            "Epoch 55, Loss: 1.945032000541687, Accuracy: 44.54332733154297\n"
          ]
        },
        {
          "output_type": "stream",
          "name": "stderr",
          "text": [
            "WARNING:tensorflow:Compiled the loaded model, but the compiled metrics have yet to be built. `model.compile_metrics` will be empty until you train or evaluate the model.\n"
          ]
        },
        {
          "output_type": "stream",
          "name": "stdout",
          "text": [
            "Saving new best model with loss:  1.925992\n",
            "Epoch 56, Loss: 1.9259920120239258, Accuracy: 44.32331466674805\n"
          ]
        },
        {
          "output_type": "stream",
          "name": "stderr",
          "text": [
            "WARNING:tensorflow:Compiled the loaded model, but the compiled metrics have yet to be built. `model.compile_metrics` will be empty until you train or evaluate the model.\n"
          ]
        },
        {
          "output_type": "stream",
          "name": "stdout",
          "text": [
            "Saving new best model with loss:  1.9184463\n",
            "Epoch 57, Loss: 1.9184463024139404, Accuracy: 44.916664123535156\n",
            "Epoch 58, Loss: 1.9200438261032104, Accuracy: 44.70332717895508\n"
          ]
        },
        {
          "output_type": "stream",
          "name": "stderr",
          "text": [
            "WARNING:tensorflow:Compiled the loaded model, but the compiled metrics have yet to be built. `model.compile_metrics` will be empty until you train or evaluate the model.\n"
          ]
        },
        {
          "output_type": "stream",
          "name": "stdout",
          "text": [
            "Saving new best model with loss:  1.8978341\n",
            "Epoch 59, Loss: 1.897834062576294, Accuracy: 45.269981384277344\n"
          ]
        },
        {
          "output_type": "stream",
          "name": "stderr",
          "text": [
            "WARNING:tensorflow:Compiled the loaded model, but the compiled metrics have yet to be built. `model.compile_metrics` will be empty until you train or evaluate the model.\n"
          ]
        },
        {
          "output_type": "stream",
          "name": "stdout",
          "text": [
            "Saving new best model with loss:  1.8944423\n",
            "Epoch 60, Loss: 1.8944423198699951, Accuracy: 45.833335876464844\n",
            "Epoch 61, Loss: 1.9036951065063477, Accuracy: 45.29998779296875\n"
          ]
        },
        {
          "output_type": "stream",
          "name": "stderr",
          "text": [
            "WARNING:tensorflow:Compiled the loaded model, but the compiled metrics have yet to be built. `model.compile_metrics` will be empty until you train or evaluate the model.\n"
          ]
        },
        {
          "output_type": "stream",
          "name": "stdout",
          "text": [
            "Saving new best model with loss:  1.8769587\n",
            "Epoch 62, Loss: 1.8769587278366089, Accuracy: 45.94999694824219\n",
            "Epoch 63, Loss: 1.8796474933624268, Accuracy: 45.84665298461914\n"
          ]
        },
        {
          "output_type": "stream",
          "name": "stderr",
          "text": [
            "WARNING:tensorflow:Compiled the loaded model, but the compiled metrics have yet to be built. `model.compile_metrics` will be empty until you train or evaluate the model.\n"
          ]
        },
        {
          "output_type": "stream",
          "name": "stdout",
          "text": [
            "Saving new best model with loss:  1.8722436\n",
            "Epoch 64, Loss: 1.8722436428070068, Accuracy: 45.91332244873047\n"
          ]
        },
        {
          "output_type": "stream",
          "name": "stderr",
          "text": [
            "WARNING:tensorflow:Compiled the loaded model, but the compiled metrics have yet to be built. `model.compile_metrics` will be empty until you train or evaluate the model.\n"
          ]
        },
        {
          "output_type": "stream",
          "name": "stdout",
          "text": [
            "Saving new best model with loss:  1.8467019\n",
            "Epoch 65, Loss: 1.8467018604278564, Accuracy: 46.486663818359375\n"
          ]
        },
        {
          "output_type": "stream",
          "name": "stderr",
          "text": [
            "WARNING:tensorflow:Compiled the loaded model, but the compiled metrics have yet to be built. `model.compile_metrics` will be empty until you train or evaluate the model.\n"
          ]
        },
        {
          "output_type": "stream",
          "name": "stdout",
          "text": [
            "Saving new best model with loss:  1.8461525\n",
            "Epoch 66, Loss: 1.8461525440216064, Accuracy: 46.61000442504883\n",
            "Epoch 67, Loss: 1.8501898050308228, Accuracy: 46.34999084472656\n"
          ]
        },
        {
          "output_type": "stream",
          "name": "stderr",
          "text": [
            "WARNING:tensorflow:Compiled the loaded model, but the compiled metrics have yet to be built. `model.compile_metrics` will be empty until you train or evaluate the model.\n"
          ]
        },
        {
          "output_type": "stream",
          "name": "stdout",
          "text": [
            "Saving new best model with loss:  1.8186069\n",
            "Epoch 68, Loss: 1.8186068534851074, Accuracy: 47.13667297363281\n",
            "Epoch 69, Loss: 1.8235968351364136, Accuracy: 46.91999435424805\n"
          ]
        },
        {
          "output_type": "stream",
          "name": "stderr",
          "text": [
            "WARNING:tensorflow:Compiled the loaded model, but the compiled metrics have yet to be built. `model.compile_metrics` will be empty until you train or evaluate the model.\n"
          ]
        },
        {
          "output_type": "stream",
          "name": "stdout",
          "text": [
            "Saving new best model with loss:  1.8001579\n",
            "Epoch 70, Loss: 1.800157904624939, Accuracy: 47.38665771484375\n",
            "Epoch 71, Loss: 1.8098222017288208, Accuracy: 47.45999526977539\n",
            "Epoch 72, Loss: 1.8064591884613037, Accuracy: 47.66999435424805\n"
          ]
        },
        {
          "output_type": "stream",
          "name": "stderr",
          "text": [
            "WARNING:tensorflow:Compiled the loaded model, but the compiled metrics have yet to be built. `model.compile_metrics` will be empty until you train or evaluate the model.\n"
          ]
        },
        {
          "output_type": "stream",
          "name": "stdout",
          "text": [
            "Saving new best model with loss:  1.7667192\n",
            "Epoch 73, Loss: 1.7667192220687866, Accuracy: 48.89665603637695\n"
          ]
        },
        {
          "output_type": "stream",
          "name": "stderr",
          "text": [
            "WARNING:tensorflow:Compiled the loaded model, but the compiled metrics have yet to be built. `model.compile_metrics` will be empty until you train or evaluate the model.\n"
          ]
        },
        {
          "output_type": "stream",
          "name": "stdout",
          "text": [
            "Saving new best model with loss:  1.7524529\n",
            "Epoch 74, Loss: 1.7524528503417969, Accuracy: 48.87665939331055\n",
            "Epoch 75, Loss: 1.7813401222229004, Accuracy: 48.513328552246094\n",
            "Epoch 76, Loss: 1.7757929563522339, Accuracy: 48.326663970947266\n"
          ]
        },
        {
          "output_type": "stream",
          "name": "stderr",
          "text": [
            "WARNING:tensorflow:Compiled the loaded model, but the compiled metrics have yet to be built. `model.compile_metrics` will be empty until you train or evaluate the model.\n"
          ]
        },
        {
          "output_type": "stream",
          "name": "stdout",
          "text": [
            "Saving new best model with loss:  1.7449789\n",
            "Epoch 77, Loss: 1.744978904724121, Accuracy: 48.90999984741211\n",
            "Epoch 78, Loss: 1.765051245689392, Accuracy: 48.333335876464844\n"
          ]
        },
        {
          "output_type": "stream",
          "name": "stderr",
          "text": [
            "WARNING:tensorflow:Compiled the loaded model, but the compiled metrics have yet to be built. `model.compile_metrics` will be empty until you train or evaluate the model.\n"
          ]
        },
        {
          "output_type": "stream",
          "name": "stdout",
          "text": [
            "Saving new best model with loss:  1.742854\n",
            "Epoch 79, Loss: 1.7428539991378784, Accuracy: 49.37999725341797\n"
          ]
        },
        {
          "output_type": "stream",
          "name": "stderr",
          "text": [
            "WARNING:tensorflow:Compiled the loaded model, but the compiled metrics have yet to be built. `model.compile_metrics` will be empty until you train or evaluate the model.\n"
          ]
        },
        {
          "output_type": "stream",
          "name": "stdout",
          "text": [
            "Saving new best model with loss:  1.7334564\n",
            "Epoch 80, Loss: 1.7334563732147217, Accuracy: 49.3800048828125\n"
          ]
        },
        {
          "output_type": "stream",
          "name": "stderr",
          "text": [
            "WARNING:tensorflow:Compiled the loaded model, but the compiled metrics have yet to be built. `model.compile_metrics` will be empty until you train or evaluate the model.\n"
          ]
        },
        {
          "output_type": "stream",
          "name": "stdout",
          "text": [
            "Saving new best model with loss:  1.7222356\n",
            "Epoch 81, Loss: 1.7222355604171753, Accuracy: 49.55331802368164\n"
          ]
        },
        {
          "output_type": "stream",
          "name": "stderr",
          "text": [
            "WARNING:tensorflow:Compiled the loaded model, but the compiled metrics have yet to be built. `model.compile_metrics` will be empty until you train or evaluate the model.\n"
          ]
        },
        {
          "output_type": "stream",
          "name": "stdout",
          "text": [
            "Saving new best model with loss:  1.7126579\n",
            "Epoch 82, Loss: 1.7126579284667969, Accuracy: 49.94334411621094\n"
          ]
        },
        {
          "output_type": "stream",
          "name": "stderr",
          "text": [
            "WARNING:tensorflow:Compiled the loaded model, but the compiled metrics have yet to be built. `model.compile_metrics` will be empty until you train or evaluate the model.\n"
          ]
        },
        {
          "output_type": "stream",
          "name": "stdout",
          "text": [
            "Saving new best model with loss:  1.7107458\n",
            "Epoch 83, Loss: 1.7107458114624023, Accuracy: 49.866661071777344\n"
          ]
        },
        {
          "output_type": "stream",
          "name": "stderr",
          "text": [
            "WARNING:tensorflow:Compiled the loaded model, but the compiled metrics have yet to be built. `model.compile_metrics` will be empty until you train or evaluate the model.\n"
          ]
        },
        {
          "output_type": "stream",
          "name": "stdout",
          "text": [
            "Saving new best model with loss:  1.6927451\n",
            "Epoch 84, Loss: 1.6927450895309448, Accuracy: 50.159996032714844\n"
          ]
        },
        {
          "output_type": "stream",
          "name": "stderr",
          "text": [
            "WARNING:tensorflow:Compiled the loaded model, but the compiled metrics have yet to be built. `model.compile_metrics` will be empty until you train or evaluate the model.\n"
          ]
        },
        {
          "output_type": "stream",
          "name": "stdout",
          "text": [
            "Saving new best model with loss:  1.6791022\n",
            "Epoch 85, Loss: 1.6791021823883057, Accuracy: 50.19333267211914\n"
          ]
        },
        {
          "output_type": "stream",
          "name": "stderr",
          "text": [
            "WARNING:tensorflow:Compiled the loaded model, but the compiled metrics have yet to be built. `model.compile_metrics` will be empty until you train or evaluate the model.\n"
          ]
        },
        {
          "output_type": "stream",
          "name": "stdout",
          "text": [
            "Saving new best model with loss:  1.6761204\n",
            "Epoch 86, Loss: 1.676120400428772, Accuracy: 50.85332489013672\n"
          ]
        },
        {
          "output_type": "stream",
          "name": "stderr",
          "text": [
            "WARNING:tensorflow:Compiled the loaded model, but the compiled metrics have yet to be built. `model.compile_metrics` will be empty until you train or evaluate the model.\n"
          ]
        },
        {
          "output_type": "stream",
          "name": "stdout",
          "text": [
            "Saving new best model with loss:  1.6517879\n",
            "Epoch 87, Loss: 1.6517878770828247, Accuracy: 50.913326263427734\n",
            "Epoch 88, Loss: 1.6600521802902222, Accuracy: 50.793331146240234\n",
            "Epoch 89, Loss: 1.6725294589996338, Accuracy: 50.676673889160156\n",
            "Epoch 90, Loss: 1.6565457582473755, Accuracy: 51.18000030517578\n"
          ]
        },
        {
          "output_type": "stream",
          "name": "stderr",
          "text": [
            "WARNING:tensorflow:Compiled the loaded model, but the compiled metrics have yet to be built. `model.compile_metrics` will be empty until you train or evaluate the model.\n"
          ]
        },
        {
          "output_type": "stream",
          "name": "stdout",
          "text": [
            "Saving new best model with loss:  1.648149\n",
            "Epoch 91, Loss: 1.648149013519287, Accuracy: 51.20332717895508\n"
          ]
        },
        {
          "output_type": "stream",
          "name": "stderr",
          "text": [
            "WARNING:tensorflow:Compiled the loaded model, but the compiled metrics have yet to be built. `model.compile_metrics` will be empty until you train or evaluate the model.\n"
          ]
        },
        {
          "output_type": "stream",
          "name": "stdout",
          "text": [
            "Saving new best model with loss:  1.6453726\n",
            "Epoch 92, Loss: 1.6453726291656494, Accuracy: 51.61000061035156\n"
          ]
        },
        {
          "output_type": "stream",
          "name": "stderr",
          "text": [
            "WARNING:tensorflow:Compiled the loaded model, but the compiled metrics have yet to be built. `model.compile_metrics` will be empty until you train or evaluate the model.\n"
          ]
        },
        {
          "output_type": "stream",
          "name": "stdout",
          "text": [
            "Saving new best model with loss:  1.6226218\n",
            "Epoch 93, Loss: 1.622621774673462, Accuracy: 51.74332809448242\n",
            "Epoch 94, Loss: 1.6425373554229736, Accuracy: 51.37666320800781\n",
            "Epoch 95, Loss: 1.6284679174423218, Accuracy: 52.02333450317383\n",
            "Epoch 96, Loss: 1.6279908418655396, Accuracy: 51.62999725341797\n"
          ]
        },
        {
          "output_type": "stream",
          "name": "stderr",
          "text": [
            "WARNING:tensorflow:Compiled the loaded model, but the compiled metrics have yet to be built. `model.compile_metrics` will be empty until you train or evaluate the model.\n"
          ]
        },
        {
          "output_type": "stream",
          "name": "stdout",
          "text": [
            "Saving new best model with loss:  1.6134579\n",
            "Epoch 97, Loss: 1.6134579181671143, Accuracy: 52.18332290649414\n"
          ]
        },
        {
          "output_type": "stream",
          "name": "stderr",
          "text": [
            "WARNING:tensorflow:Compiled the loaded model, but the compiled metrics have yet to be built. `model.compile_metrics` will be empty until you train or evaluate the model.\n"
          ]
        },
        {
          "output_type": "stream",
          "name": "stdout",
          "text": [
            "Saving new best model with loss:  1.6061981\n",
            "Epoch 98, Loss: 1.6061980724334717, Accuracy: 52.63665771484375\n"
          ]
        },
        {
          "output_type": "stream",
          "name": "stderr",
          "text": [
            "WARNING:tensorflow:Compiled the loaded model, but the compiled metrics have yet to be built. `model.compile_metrics` will be empty until you train or evaluate the model.\n"
          ]
        },
        {
          "output_type": "stream",
          "name": "stdout",
          "text": [
            "Saving new best model with loss:  1.5991238\n",
            "Epoch 99, Loss: 1.5991238355636597, Accuracy: 52.37333679199219\n"
          ]
        },
        {
          "output_type": "stream",
          "name": "stderr",
          "text": [
            "WARNING:tensorflow:Compiled the loaded model, but the compiled metrics have yet to be built. `model.compile_metrics` will be empty until you train or evaluate the model.\n"
          ]
        },
        {
          "output_type": "stream",
          "name": "stdout",
          "text": [
            "Saving new best model with loss:  1.57249\n",
            "Epoch 100, Loss: 1.5724899768829346, Accuracy: 53.123329162597656\n"
          ]
        }
      ]
    },
    {
      "cell_type": "code",
      "source": [
        "#number of classes\n",
        "num_way = train_num_ways[1] \n",
        "\n",
        "#number of examples per class for support set\n",
        "num_shot = num_shots[1]  \n",
        "\n",
        "#number of query points\n",
        "num_query = num_shots[1] \n",
        "\n",
        "train_loss = tf.metrics.Mean(name='train_loss')\n",
        "train_acc = tf.metrics.Mean(name='train_accuracy')\n",
        "support = np.zeros([num_way, num_shot, img_width, img_height, channels], dtype=np.float32)\n",
        "query = np.zeros([num_way, num_query, img_height, channels], dtype=np.float32)\n",
        "model = Prototypical(support, query, img_width, img_height, channels)\n",
        "optimizer = tf.keras.optimizers.Adam(learning_rate)\n",
        "\n",
        "num_epochs = 100\n",
        "num_episodes = 100\n",
        "save_path = \"./results/models/cifar100_train1.h5\"\n",
        "\n",
        "least_loss = {'least_loss': 100.00}\n",
        "\n",
        "@tf.function\n",
        "def loss(support, query):\n",
        "  loss, acc = model(support, query)\n",
        "  return loss, acc\n",
        "\n",
        "@tf.function\n",
        "def train_step(support, query):\n",
        "  with tf.GradientTape() as tape:\n",
        "    loss, acc = model(support, query)\n",
        "  gradients = tape.gradient(loss, model.trainable_variables)\n",
        "  optimizer.apply_gradients(\n",
        "        zip(gradients, model.trainable_variables))\n",
        "  train_loss(loss)\n",
        "  train_acc(acc)\n",
        "\n",
        "@tf.function\n",
        "def val_step(loss_func, support, query):\n",
        "  loss, acc = loss_func(support, query)\n",
        "  val_loss(loss)\n",
        "  val_acc(acc)\n",
        "\n",
        "val_losses = []\n",
        "\n",
        "for epoch in range(num_epochs):\n",
        "  train_loss.reset_states()\n",
        "  train_acc.reset_states()\n",
        "\n",
        "  for episode in range(num_episodes):\n",
        "    train_support, train_query = get_next_batch(train_images_split, train_labels_split, num_way, num_shot, num_query, num_classes)\n",
        "    train_step(train_support, train_query)\n",
        "\n",
        "  cur_loss = train_loss.result().numpy()\n",
        "  if cur_loss < least_loss['least_loss']:\n",
        "      print(\"Saving new best model with loss: \", cur_loss)\n",
        "      least_loss['least_loss'] = cur_loss\n",
        "      model.save(save_path)\n",
        "      \n",
        "  template = 'Epoch {}, Loss: {}, Accuracy: {}'\n",
        "  print(template.format(epoch + 1, train_loss.result(), train_acc.result() * 100))"
      ],
      "metadata": {
        "colab": {
          "base_uri": "https://localhost:8080/"
        },
        "id": "qUPsjcRcIkBR",
        "outputId": "fbdd86b6-5cfd-4df7-a7c0-7c0db4e30b9f"
      },
      "execution_count": null,
      "outputs": [
        {
          "output_type": "stream",
          "name": "stderr",
          "text": [
            "WARNING:tensorflow:Compiled the loaded model, but the compiled metrics have yet to be built. `model.compile_metrics` will be empty until you train or evaluate the model.\n"
          ]
        },
        {
          "output_type": "stream",
          "name": "stdout",
          "text": [
            "Saving new best model with loss:  3.360341\n",
            "Epoch 1, Loss: 3.3603410720825195, Accuracy: 8.866663932800293\n"
          ]
        },
        {
          "output_type": "stream",
          "name": "stderr",
          "text": [
            "WARNING:tensorflow:Compiled the loaded model, but the compiled metrics have yet to be built. `model.compile_metrics` will be empty until you train or evaluate the model.\n"
          ]
        },
        {
          "output_type": "stream",
          "name": "stdout",
          "text": [
            "Saving new best model with loss:  3.2602537\n",
            "Epoch 2, Loss: 3.260253667831421, Accuracy: 9.633329391479492\n"
          ]
        },
        {
          "output_type": "stream",
          "name": "stderr",
          "text": [
            "WARNING:tensorflow:Compiled the loaded model, but the compiled metrics have yet to be built. `model.compile_metrics` will be empty until you train or evaluate the model.\n"
          ]
        },
        {
          "output_type": "stream",
          "name": "stdout",
          "text": [
            "Saving new best model with loss:  3.22911\n",
            "Epoch 3, Loss: 3.2291100025177, Accuracy: 10.933334350585938\n",
            "Epoch 4, Loss: 3.2505218982696533, Accuracy: 9.699999809265137\n",
            "Epoch 5, Loss: 3.229515790939331, Accuracy: 9.733332633972168\n"
          ]
        },
        {
          "output_type": "stream",
          "name": "stderr",
          "text": [
            "WARNING:tensorflow:Compiled the loaded model, but the compiled metrics have yet to be built. `model.compile_metrics` will be empty until you train or evaluate the model.\n"
          ]
        },
        {
          "output_type": "stream",
          "name": "stdout",
          "text": [
            "Saving new best model with loss:  3.208231\n",
            "Epoch 6, Loss: 3.208230972290039, Accuracy: 10.933331489562988\n"
          ]
        },
        {
          "output_type": "stream",
          "name": "stderr",
          "text": [
            "WARNING:tensorflow:Compiled the loaded model, but the compiled metrics have yet to be built. `model.compile_metrics` will be empty until you train or evaluate the model.\n"
          ]
        },
        {
          "output_type": "stream",
          "name": "stdout",
          "text": [
            "Saving new best model with loss:  3.2025182\n",
            "Epoch 7, Loss: 3.2025182247161865, Accuracy: 12.433337211608887\n"
          ]
        },
        {
          "output_type": "stream",
          "name": "stderr",
          "text": [
            "WARNING:tensorflow:Compiled the loaded model, but the compiled metrics have yet to be built. `model.compile_metrics` will be empty until you train or evaluate the model.\n"
          ]
        },
        {
          "output_type": "stream",
          "name": "stdout",
          "text": [
            "Saving new best model with loss:  3.2010021\n",
            "Epoch 8, Loss: 3.2010021209716797, Accuracy: 12.133334159851074\n"
          ]
        },
        {
          "output_type": "stream",
          "name": "stderr",
          "text": [
            "WARNING:tensorflow:Compiled the loaded model, but the compiled metrics have yet to be built. `model.compile_metrics` will be empty until you train or evaluate the model.\n"
          ]
        },
        {
          "output_type": "stream",
          "name": "stdout",
          "text": [
            "Saving new best model with loss:  3.1957767\n",
            "Epoch 9, Loss: 3.1957767009735107, Accuracy: 11.866666793823242\n"
          ]
        },
        {
          "output_type": "stream",
          "name": "stderr",
          "text": [
            "WARNING:tensorflow:Compiled the loaded model, but the compiled metrics have yet to be built. `model.compile_metrics` will be empty until you train or evaluate the model.\n"
          ]
        },
        {
          "output_type": "stream",
          "name": "stdout",
          "text": [
            "Saving new best model with loss:  3.1916475\n",
            "Epoch 10, Loss: 3.191647529602051, Accuracy: 11.000000953674316\n"
          ]
        },
        {
          "output_type": "stream",
          "name": "stderr",
          "text": [
            "WARNING:tensorflow:Compiled the loaded model, but the compiled metrics have yet to be built. `model.compile_metrics` will be empty until you train or evaluate the model.\n"
          ]
        },
        {
          "output_type": "stream",
          "name": "stdout",
          "text": [
            "Saving new best model with loss:  3.1905127\n",
            "Epoch 11, Loss: 3.1905126571655273, Accuracy: 10.466663360595703\n"
          ]
        },
        {
          "output_type": "stream",
          "name": "stderr",
          "text": [
            "WARNING:tensorflow:Compiled the loaded model, but the compiled metrics have yet to be built. `model.compile_metrics` will be empty until you train or evaluate the model.\n"
          ]
        },
        {
          "output_type": "stream",
          "name": "stdout",
          "text": [
            "Saving new best model with loss:  3.1857007\n",
            "Epoch 12, Loss: 3.1857006549835205, Accuracy: 12.066667556762695\n"
          ]
        },
        {
          "output_type": "stream",
          "name": "stderr",
          "text": [
            "WARNING:tensorflow:Compiled the loaded model, but the compiled metrics have yet to be built. `model.compile_metrics` will be empty until you train or evaluate the model.\n"
          ]
        },
        {
          "output_type": "stream",
          "name": "stdout",
          "text": [
            "Saving new best model with loss:  3.1639342\n",
            "Epoch 13, Loss: 3.1639342308044434, Accuracy: 12.133333206176758\n"
          ]
        },
        {
          "output_type": "stream",
          "name": "stderr",
          "text": [
            "WARNING:tensorflow:Compiled the loaded model, but the compiled metrics have yet to be built. `model.compile_metrics` will be empty until you train or evaluate the model.\n"
          ]
        },
        {
          "output_type": "stream",
          "name": "stdout",
          "text": [
            "Saving new best model with loss:  3.1302574\n",
            "Epoch 14, Loss: 3.1302573680877686, Accuracy: 12.700003623962402\n"
          ]
        },
        {
          "output_type": "stream",
          "name": "stderr",
          "text": [
            "WARNING:tensorflow:Compiled the loaded model, but the compiled metrics have yet to be built. `model.compile_metrics` will be empty until you train or evaluate the model.\n"
          ]
        },
        {
          "output_type": "stream",
          "name": "stdout",
          "text": [
            "Saving new best model with loss:  3.1222274\n",
            "Epoch 15, Loss: 3.122227430343628, Accuracy: 12.733332633972168\n",
            "Epoch 16, Loss: 3.1435117721557617, Accuracy: 13.033334732055664\n"
          ]
        },
        {
          "output_type": "stream",
          "name": "stderr",
          "text": [
            "WARNING:tensorflow:Compiled the loaded model, but the compiled metrics have yet to be built. `model.compile_metrics` will be empty until you train or evaluate the model.\n"
          ]
        },
        {
          "output_type": "stream",
          "name": "stdout",
          "text": [
            "Saving new best model with loss:  3.1051214\n",
            "Epoch 17, Loss: 3.105121374130249, Accuracy: 13.433332443237305\n",
            "Epoch 18, Loss: 3.121293067932129, Accuracy: 12.800004005432129\n"
          ]
        },
        {
          "output_type": "stream",
          "name": "stderr",
          "text": [
            "WARNING:tensorflow:Compiled the loaded model, but the compiled metrics have yet to be built. `model.compile_metrics` will be empty until you train or evaluate the model.\n"
          ]
        },
        {
          "output_type": "stream",
          "name": "stdout",
          "text": [
            "Saving new best model with loss:  3.1034973\n",
            "Epoch 19, Loss: 3.103497266769409, Accuracy: 13.30000114440918\n"
          ]
        },
        {
          "output_type": "stream",
          "name": "stderr",
          "text": [
            "WARNING:tensorflow:Compiled the loaded model, but the compiled metrics have yet to be built. `model.compile_metrics` will be empty until you train or evaluate the model.\n"
          ]
        },
        {
          "output_type": "stream",
          "name": "stdout",
          "text": [
            "Saving new best model with loss:  3.0867422\n",
            "Epoch 20, Loss: 3.0867421627044678, Accuracy: 13.700000762939453\n"
          ]
        },
        {
          "output_type": "stream",
          "name": "stderr",
          "text": [
            "WARNING:tensorflow:Compiled the loaded model, but the compiled metrics have yet to be built. `model.compile_metrics` will be empty until you train or evaluate the model.\n"
          ]
        },
        {
          "output_type": "stream",
          "name": "stdout",
          "text": [
            "Saving new best model with loss:  3.0745401\n",
            "Epoch 21, Loss: 3.074540138244629, Accuracy: 13.40000057220459\n",
            "Epoch 22, Loss: 3.1020379066467285, Accuracy: 12.600003242492676\n"
          ]
        },
        {
          "output_type": "stream",
          "name": "stderr",
          "text": [
            "WARNING:tensorflow:Compiled the loaded model, but the compiled metrics have yet to be built. `model.compile_metrics` will be empty until you train or evaluate the model.\n"
          ]
        },
        {
          "output_type": "stream",
          "name": "stdout",
          "text": [
            "Saving new best model with loss:  3.0741913\n",
            "Epoch 23, Loss: 3.0741913318634033, Accuracy: 14.46666431427002\n"
          ]
        },
        {
          "output_type": "stream",
          "name": "stderr",
          "text": [
            "WARNING:tensorflow:Compiled the loaded model, but the compiled metrics have yet to be built. `model.compile_metrics` will be empty until you train or evaluate the model.\n"
          ]
        },
        {
          "output_type": "stream",
          "name": "stdout",
          "text": [
            "Saving new best model with loss:  3.0736299\n",
            "Epoch 24, Loss: 3.073629856109619, Accuracy: 14.766667366027832\n"
          ]
        },
        {
          "output_type": "stream",
          "name": "stderr",
          "text": [
            "WARNING:tensorflow:Compiled the loaded model, but the compiled metrics have yet to be built. `model.compile_metrics` will be empty until you train or evaluate the model.\n"
          ]
        },
        {
          "output_type": "stream",
          "name": "stdout",
          "text": [
            "Saving new best model with loss:  3.0355618\n",
            "Epoch 25, Loss: 3.0355618000030518, Accuracy: 15.13333797454834\n"
          ]
        },
        {
          "output_type": "stream",
          "name": "stderr",
          "text": [
            "WARNING:tensorflow:Compiled the loaded model, but the compiled metrics have yet to be built. `model.compile_metrics` will be empty until you train or evaluate the model.\n"
          ]
        },
        {
          "output_type": "stream",
          "name": "stdout",
          "text": [
            "Saving new best model with loss:  3.0294645\n",
            "Epoch 26, Loss: 3.0294644832611084, Accuracy: 14.933334350585938\n",
            "Epoch 27, Loss: 3.0417566299438477, Accuracy: 15.966669082641602\n",
            "Epoch 28, Loss: 3.034374713897705, Accuracy: 15.366668701171875\n",
            "Epoch 29, Loss: 3.0312435626983643, Accuracy: 14.966668128967285\n"
          ]
        },
        {
          "output_type": "stream",
          "name": "stderr",
          "text": [
            "WARNING:tensorflow:Compiled the loaded model, but the compiled metrics have yet to be built. `model.compile_metrics` will be empty until you train or evaluate the model.\n"
          ]
        },
        {
          "output_type": "stream",
          "name": "stdout",
          "text": [
            "Saving new best model with loss:  3.0211887\n",
            "Epoch 30, Loss: 3.021188735961914, Accuracy: 15.566671371459961\n"
          ]
        },
        {
          "output_type": "stream",
          "name": "stderr",
          "text": [
            "WARNING:tensorflow:Compiled the loaded model, but the compiled metrics have yet to be built. `model.compile_metrics` will be empty until you train or evaluate the model.\n"
          ]
        },
        {
          "output_type": "stream",
          "name": "stdout",
          "text": [
            "Saving new best model with loss:  2.9963663\n",
            "Epoch 31, Loss: 2.996366262435913, Accuracy: 15.33333683013916\n"
          ]
        },
        {
          "output_type": "stream",
          "name": "stderr",
          "text": [
            "WARNING:tensorflow:Compiled the loaded model, but the compiled metrics have yet to be built. `model.compile_metrics` will be empty until you train or evaluate the model.\n"
          ]
        },
        {
          "output_type": "stream",
          "name": "stdout",
          "text": [
            "Saving new best model with loss:  2.986289\n",
            "Epoch 32, Loss: 2.9862890243530273, Accuracy: 16.666669845581055\n"
          ]
        },
        {
          "output_type": "stream",
          "name": "stderr",
          "text": [
            "WARNING:tensorflow:Compiled the loaded model, but the compiled metrics have yet to be built. `model.compile_metrics` will be empty until you train or evaluate the model.\n"
          ]
        },
        {
          "output_type": "stream",
          "name": "stdout",
          "text": [
            "Saving new best model with loss:  2.9656787\n",
            "Epoch 33, Loss: 2.9656786918640137, Accuracy: 16.666667938232422\n",
            "Epoch 34, Loss: 2.986046075820923, Accuracy: 15.799999237060547\n",
            "Epoch 35, Loss: 2.9671154022216797, Accuracy: 16.333337783813477\n",
            "Epoch 36, Loss: 2.970407009124756, Accuracy: 15.89999771118164\n",
            "Epoch 37, Loss: 2.9715094566345215, Accuracy: 16.60000228881836\n",
            "Epoch 38, Loss: 2.978886365890503, Accuracy: 16.200002670288086\n"
          ]
        },
        {
          "output_type": "stream",
          "name": "stderr",
          "text": [
            "WARNING:tensorflow:Compiled the loaded model, but the compiled metrics have yet to be built. `model.compile_metrics` will be empty until you train or evaluate the model.\n"
          ]
        },
        {
          "output_type": "stream",
          "name": "stdout",
          "text": [
            "Saving new best model with loss:  2.9522088\n",
            "Epoch 39, Loss: 2.9522087574005127, Accuracy: 18.06667137145996\n"
          ]
        },
        {
          "output_type": "stream",
          "name": "stderr",
          "text": [
            "WARNING:tensorflow:Compiled the loaded model, but the compiled metrics have yet to be built. `model.compile_metrics` will be empty until you train or evaluate the model.\n"
          ]
        },
        {
          "output_type": "stream",
          "name": "stdout",
          "text": [
            "Saving new best model with loss:  2.948039\n",
            "Epoch 40, Loss: 2.9480390548706055, Accuracy: 17.899995803833008\n"
          ]
        },
        {
          "output_type": "stream",
          "name": "stderr",
          "text": [
            "WARNING:tensorflow:Compiled the loaded model, but the compiled metrics have yet to be built. `model.compile_metrics` will be empty until you train or evaluate the model.\n"
          ]
        },
        {
          "output_type": "stream",
          "name": "stdout",
          "text": [
            "Saving new best model with loss:  2.9201326\n",
            "Epoch 41, Loss: 2.920132637023926, Accuracy: 17.866666793823242\n",
            "Epoch 42, Loss: 2.9230923652648926, Accuracy: 18.0333309173584\n"
          ]
        },
        {
          "output_type": "stream",
          "name": "stderr",
          "text": [
            "WARNING:tensorflow:Compiled the loaded model, but the compiled metrics have yet to be built. `model.compile_metrics` will be empty until you train or evaluate the model.\n"
          ]
        },
        {
          "output_type": "stream",
          "name": "stdout",
          "text": [
            "Saving new best model with loss:  2.9005938\n",
            "Epoch 43, Loss: 2.9005937576293945, Accuracy: 17.466670989990234\n",
            "Epoch 44, Loss: 2.907745599746704, Accuracy: 17.60000228881836\n"
          ]
        },
        {
          "output_type": "stream",
          "name": "stderr",
          "text": [
            "WARNING:tensorflow:Compiled the loaded model, but the compiled metrics have yet to be built. `model.compile_metrics` will be empty until you train or evaluate the model.\n"
          ]
        },
        {
          "output_type": "stream",
          "name": "stdout",
          "text": [
            "Saving new best model with loss:  2.8988938\n",
            "Epoch 45, Loss: 2.8988938331604004, Accuracy: 17.566669464111328\n"
          ]
        },
        {
          "output_type": "stream",
          "name": "stderr",
          "text": [
            "WARNING:tensorflow:Compiled the loaded model, but the compiled metrics have yet to be built. `model.compile_metrics` will be empty until you train or evaluate the model.\n"
          ]
        },
        {
          "output_type": "stream",
          "name": "stdout",
          "text": [
            "Saving new best model with loss:  2.892326\n",
            "Epoch 46, Loss: 2.8923261165618896, Accuracy: 17.666669845581055\n",
            "Epoch 47, Loss: 2.904766798019409, Accuracy: 17.866668701171875\n"
          ]
        },
        {
          "output_type": "stream",
          "name": "stderr",
          "text": [
            "WARNING:tensorflow:Compiled the loaded model, but the compiled metrics have yet to be built. `model.compile_metrics` will be empty until you train or evaluate the model.\n"
          ]
        },
        {
          "output_type": "stream",
          "name": "stdout",
          "text": [
            "Saving new best model with loss:  2.8780465\n",
            "Epoch 48, Loss: 2.8780465126037598, Accuracy: 17.733333587646484\n"
          ]
        },
        {
          "output_type": "stream",
          "name": "stderr",
          "text": [
            "WARNING:tensorflow:Compiled the loaded model, but the compiled metrics have yet to be built. `model.compile_metrics` will be empty until you train or evaluate the model.\n"
          ]
        },
        {
          "output_type": "stream",
          "name": "stdout",
          "text": [
            "Saving new best model with loss:  2.8774652\n",
            "Epoch 49, Loss: 2.87746524810791, Accuracy: 17.9666690826416\n"
          ]
        },
        {
          "output_type": "stream",
          "name": "stderr",
          "text": [
            "WARNING:tensorflow:Compiled the loaded model, but the compiled metrics have yet to be built. `model.compile_metrics` will be empty until you train or evaluate the model.\n"
          ]
        },
        {
          "output_type": "stream",
          "name": "stdout",
          "text": [
            "Saving new best model with loss:  2.8745227\n",
            "Epoch 50, Loss: 2.8745226860046387, Accuracy: 18.866666793823242\n",
            "Epoch 51, Loss: 2.8793182373046875, Accuracy: 17.733333587646484\n",
            "Epoch 52, Loss: 2.874640703201294, Accuracy: 18.866668701171875\n"
          ]
        },
        {
          "output_type": "stream",
          "name": "stderr",
          "text": [
            "WARNING:tensorflow:Compiled the loaded model, but the compiled metrics have yet to be built. `model.compile_metrics` will be empty until you train or evaluate the model.\n"
          ]
        },
        {
          "output_type": "stream",
          "name": "stdout",
          "text": [
            "Saving new best model with loss:  2.8638673\n",
            "Epoch 53, Loss: 2.8638672828674316, Accuracy: 18.733335494995117\n"
          ]
        },
        {
          "output_type": "stream",
          "name": "stderr",
          "text": [
            "WARNING:tensorflow:Compiled the loaded model, but the compiled metrics have yet to be built. `model.compile_metrics` will be empty until you train or evaluate the model.\n"
          ]
        },
        {
          "output_type": "stream",
          "name": "stdout",
          "text": [
            "Saving new best model with loss:  2.8305776\n",
            "Epoch 54, Loss: 2.8305776119232178, Accuracy: 20.366668701171875\n",
            "Epoch 55, Loss: 2.8621652126312256, Accuracy: 18.533336639404297\n",
            "Epoch 56, Loss: 2.8418869972229004, Accuracy: 19.066665649414062\n"
          ]
        },
        {
          "output_type": "stream",
          "name": "stderr",
          "text": [
            "WARNING:tensorflow:Compiled the loaded model, but the compiled metrics have yet to be built. `model.compile_metrics` will be empty until you train or evaluate the model.\n"
          ]
        },
        {
          "output_type": "stream",
          "name": "stdout",
          "text": [
            "Saving new best model with loss:  2.8255115\n",
            "Epoch 57, Loss: 2.8255114555358887, Accuracy: 19.76667022705078\n"
          ]
        },
        {
          "output_type": "stream",
          "name": "stderr",
          "text": [
            "WARNING:tensorflow:Compiled the loaded model, but the compiled metrics have yet to be built. `model.compile_metrics` will be empty until you train or evaluate the model.\n"
          ]
        },
        {
          "output_type": "stream",
          "name": "stdout",
          "text": [
            "Saving new best model with loss:  2.8210256\n",
            "Epoch 58, Loss: 2.8210256099700928, Accuracy: 19.86667251586914\n",
            "Epoch 59, Loss: 2.844447135925293, Accuracy: 19.633331298828125\n"
          ]
        },
        {
          "output_type": "stream",
          "name": "stderr",
          "text": [
            "WARNING:tensorflow:Compiled the loaded model, but the compiled metrics have yet to be built. `model.compile_metrics` will be empty until you train or evaluate the model.\n"
          ]
        },
        {
          "output_type": "stream",
          "name": "stdout",
          "text": [
            "Saving new best model with loss:  2.8018625\n",
            "Epoch 60, Loss: 2.8018624782562256, Accuracy: 18.9666690826416\n",
            "Epoch 61, Loss: 2.825296640396118, Accuracy: 19.70000457763672\n",
            "Epoch 62, Loss: 2.8593389987945557, Accuracy: 17.866670608520508\n",
            "Epoch 63, Loss: 2.8117427825927734, Accuracy: 19.199996948242188\n",
            "Epoch 64, Loss: 2.827136278152466, Accuracy: 19.399999618530273\n"
          ]
        },
        {
          "output_type": "stream",
          "name": "stderr",
          "text": [
            "WARNING:tensorflow:Compiled the loaded model, but the compiled metrics have yet to be built. `model.compile_metrics` will be empty until you train or evaluate the model.\n"
          ]
        },
        {
          "output_type": "stream",
          "name": "stdout",
          "text": [
            "Saving new best model with loss:  2.8016105\n",
            "Epoch 65, Loss: 2.8016104698181152, Accuracy: 20.333337783813477\n",
            "Epoch 66, Loss: 2.8034024238586426, Accuracy: 20.833330154418945\n"
          ]
        },
        {
          "output_type": "stream",
          "name": "stderr",
          "text": [
            "WARNING:tensorflow:Compiled the loaded model, but the compiled metrics have yet to be built. `model.compile_metrics` will be empty until you train or evaluate the model.\n"
          ]
        },
        {
          "output_type": "stream",
          "name": "stdout",
          "text": [
            "Saving new best model with loss:  2.77598\n",
            "Epoch 67, Loss: 2.775979995727539, Accuracy: 21.73333168029785\n",
            "Epoch 68, Loss: 2.8121893405914307, Accuracy: 19.500001907348633\n"
          ]
        },
        {
          "output_type": "stream",
          "name": "stderr",
          "text": [
            "WARNING:tensorflow:Compiled the loaded model, but the compiled metrics have yet to be built. `model.compile_metrics` will be empty until you train or evaluate the model.\n"
          ]
        },
        {
          "output_type": "stream",
          "name": "stdout",
          "text": [
            "Saving new best model with loss:  2.759902\n",
            "Epoch 69, Loss: 2.759902000427246, Accuracy: 20.866670608520508\n",
            "Epoch 70, Loss: 2.7741353511810303, Accuracy: 19.899999618530273\n",
            "Epoch 71, Loss: 2.772251844406128, Accuracy: 20.10000228881836\n",
            "Epoch 72, Loss: 2.776573896408081, Accuracy: 20.90000343322754\n",
            "Epoch 73, Loss: 2.805856704711914, Accuracy: 19.80000114440918\n",
            "Epoch 74, Loss: 2.7601232528686523, Accuracy: 20.466670989990234\n"
          ]
        },
        {
          "output_type": "stream",
          "name": "stderr",
          "text": [
            "WARNING:tensorflow:Compiled the loaded model, but the compiled metrics have yet to be built. `model.compile_metrics` will be empty until you train or evaluate the model.\n"
          ]
        },
        {
          "output_type": "stream",
          "name": "stdout",
          "text": [
            "Saving new best model with loss:  2.7554572\n",
            "Epoch 75, Loss: 2.7554571628570557, Accuracy: 20.566665649414062\n",
            "Epoch 76, Loss: 2.7615702152252197, Accuracy: 20.533336639404297\n"
          ]
        },
        {
          "output_type": "stream",
          "name": "stderr",
          "text": [
            "WARNING:tensorflow:Compiled the loaded model, but the compiled metrics have yet to be built. `model.compile_metrics` will be empty until you train or evaluate the model.\n"
          ]
        },
        {
          "output_type": "stream",
          "name": "stdout",
          "text": [
            "Saving new best model with loss:  2.744783\n",
            "Epoch 77, Loss: 2.7447829246520996, Accuracy: 21.56667137145996\n"
          ]
        },
        {
          "output_type": "stream",
          "name": "stderr",
          "text": [
            "WARNING:tensorflow:Compiled the loaded model, but the compiled metrics have yet to be built. `model.compile_metrics` will be empty until you train or evaluate the model.\n"
          ]
        },
        {
          "output_type": "stream",
          "name": "stdout",
          "text": [
            "Saving new best model with loss:  2.7372167\n",
            "Epoch 78, Loss: 2.7372167110443115, Accuracy: 20.166667938232422\n",
            "Epoch 79, Loss: 2.761657476425171, Accuracy: 20.366668701171875\n"
          ]
        },
        {
          "output_type": "stream",
          "name": "stderr",
          "text": [
            "WARNING:tensorflow:Compiled the loaded model, but the compiled metrics have yet to be built. `model.compile_metrics` will be empty until you train or evaluate the model.\n"
          ]
        },
        {
          "output_type": "stream",
          "name": "stdout",
          "text": [
            "Saving new best model with loss:  2.72053\n",
            "Epoch 80, Loss: 2.7205300331115723, Accuracy: 21.90000343322754\n",
            "Epoch 81, Loss: 2.7557027339935303, Accuracy: 21.299999237060547\n",
            "Epoch 82, Loss: 2.7246265411376953, Accuracy: 21.499998092651367\n"
          ]
        },
        {
          "output_type": "stream",
          "name": "stderr",
          "text": [
            "WARNING:tensorflow:Compiled the loaded model, but the compiled metrics have yet to be built. `model.compile_metrics` will be empty until you train or evaluate the model.\n"
          ]
        },
        {
          "output_type": "stream",
          "name": "stdout",
          "text": [
            "Saving new best model with loss:  2.699811\n",
            "Epoch 83, Loss: 2.6998109817504883, Accuracy: 22.96666717529297\n",
            "Epoch 84, Loss: 2.706941604614258, Accuracy: 23.133337020874023\n",
            "Epoch 85, Loss: 2.7329189777374268, Accuracy: 21.233333587646484\n",
            "Epoch 86, Loss: 2.7057714462280273, Accuracy: 21.800004959106445\n"
          ]
        },
        {
          "output_type": "stream",
          "name": "stderr",
          "text": [
            "WARNING:tensorflow:Compiled the loaded model, but the compiled metrics have yet to be built. `model.compile_metrics` will be empty until you train or evaluate the model.\n"
          ]
        },
        {
          "output_type": "stream",
          "name": "stdout",
          "text": [
            "Saving new best model with loss:  2.6833203\n",
            "Epoch 87, Loss: 2.6833202838897705, Accuracy: 23.36666488647461\n",
            "Epoch 88, Loss: 2.707456350326538, Accuracy: 22.133333206176758\n"
          ]
        },
        {
          "output_type": "stream",
          "name": "stderr",
          "text": [
            "WARNING:tensorflow:Compiled the loaded model, but the compiled metrics have yet to be built. `model.compile_metrics` will be empty until you train or evaluate the model.\n"
          ]
        },
        {
          "output_type": "stream",
          "name": "stdout",
          "text": [
            "Saving new best model with loss:  2.6736166\n",
            "Epoch 89, Loss: 2.673616647720337, Accuracy: 22.666664123535156\n",
            "Epoch 90, Loss: 2.6832833290100098, Accuracy: 22.16666030883789\n",
            "Epoch 91, Loss: 2.7026658058166504, Accuracy: 21.333335876464844\n",
            "Epoch 92, Loss: 2.680424690246582, Accuracy: 22.833335876464844\n",
            "Epoch 93, Loss: 2.7286477088928223, Accuracy: 21.533334732055664\n"
          ]
        },
        {
          "output_type": "stream",
          "name": "stderr",
          "text": [
            "WARNING:tensorflow:Compiled the loaded model, but the compiled metrics have yet to be built. `model.compile_metrics` will be empty until you train or evaluate the model.\n"
          ]
        },
        {
          "output_type": "stream",
          "name": "stdout",
          "text": [
            "Saving new best model with loss:  2.672517\n",
            "Epoch 94, Loss: 2.6725170612335205, Accuracy: 23.066665649414062\n",
            "Epoch 95, Loss: 2.696244716644287, Accuracy: 23.166667938232422\n",
            "Epoch 96, Loss: 2.6973187923431396, Accuracy: 22.433338165283203\n"
          ]
        },
        {
          "output_type": "stream",
          "name": "stderr",
          "text": [
            "WARNING:tensorflow:Compiled the loaded model, but the compiled metrics have yet to be built. `model.compile_metrics` will be empty until you train or evaluate the model.\n"
          ]
        },
        {
          "output_type": "stream",
          "name": "stdout",
          "text": [
            "Saving new best model with loss:  2.6625485\n",
            "Epoch 97, Loss: 2.662548542022705, Accuracy: 22.73333168029785\n"
          ]
        },
        {
          "output_type": "stream",
          "name": "stderr",
          "text": [
            "WARNING:tensorflow:Compiled the loaded model, but the compiled metrics have yet to be built. `model.compile_metrics` will be empty until you train or evaluate the model.\n"
          ]
        },
        {
          "output_type": "stream",
          "name": "stdout",
          "text": [
            "Saving new best model with loss:  2.6154435\n",
            "Epoch 98, Loss: 2.615443468093872, Accuracy: 25.333332061767578\n",
            "Epoch 99, Loss: 2.640453577041626, Accuracy: 24.26666259765625\n",
            "Epoch 100, Loss: 2.6408393383026123, Accuracy: 24.366668701171875\n"
          ]
        }
      ]
    },
    {
      "cell_type": "code",
      "source": [
        "\n",
        "model_path = \"./results/models/cifar100_train0.h5\"\n",
        "model.load(model_path)\n",
        "print(\"Model loaded.\")\n",
        "\n",
        "#number of classes\n",
        "num_way = test_num_ways[0]\n",
        "\n",
        "#number of examples per class for support set\n",
        "num_shot = num_shots[0]  \n",
        "\n",
        "#number of query points\n",
        "num_query = num_shots[0] \n",
        "\n",
        "#number of examples\n",
        "num_examples = 100\n",
        "\n",
        "num_episodes = 1200\n",
        "\n",
        "support = np.zeros([num_way, num_shot, img_width, img_height, channels], dtype=np.float32)\n",
        "query = np.zeros([num_way, num_query, img_height, channels], dtype=np.float32)\n",
        "model = Prototypical(support, query, img_width, img_height, channels)\n",
        "\n",
        "# Metrics to gather\n",
        "test_loss = tf.metrics.Mean(name='test_loss')\n",
        "test_acc = tf.metrics.Mean(name='test_accuracy')\n",
        "\n",
        "def calc_loss(support, query):\n",
        "  loss, acc = model(support, query)\n",
        "  return loss, acc\n",
        "\n",
        "for i_episode in range(num_episodes):\n",
        "  test_support, test_query = get_next_batch(test_images, test_labels, num_way, num_shot, num_query, num_examples)\n",
        "  if (i_episode+1)%50 == 0: \n",
        "    print(\"Episode: \", i_episode + 1)\n",
        "  loss, acc = calc_loss(test_support, test_query)\n",
        "  test_loss(loss)\n",
        "  test_acc(acc)\n",
        "\n",
        "print(\"Loss: \", test_loss.result().numpy())\n",
        "print(\"Accuracy: \", test_acc.result().numpy() * 100)"
      ],
      "metadata": {
        "colab": {
          "base_uri": "https://localhost:8080/"
        },
        "id": "ybKMJtz-U-By",
        "outputId": "d4faf1d1-dbf2-4381-99b3-bfb460ae53a8"
      },
      "execution_count": null,
      "outputs": [
        {
          "output_type": "stream",
          "name": "stdout",
          "text": [
            "Model loaded.\n",
            "Episode:  50\n",
            "Episode:  100\n",
            "Episode:  150\n",
            "Episode:  200\n",
            "Episode:  250\n",
            "Episode:  300\n",
            "Episode:  350\n",
            "Episode:  400\n",
            "Episode:  450\n",
            "Episode:  500\n",
            "Episode:  550\n",
            "Episode:  600\n",
            "Episode:  650\n",
            "Episode:  700\n",
            "Episode:  750\n",
            "Episode:  800\n",
            "Episode:  850\n",
            "Episode:  900\n",
            "Episode:  950\n",
            "Episode:  1000\n",
            "Episode:  1050\n",
            "Episode:  1100\n",
            "Episode:  1150\n",
            "Episode:  1200\n",
            "Loss:  1.6093714\n",
            "Accuracy:  37.56996393203735\n"
          ]
        }
      ]
    },
    {
      "cell_type": "code",
      "source": [
        "model_path = \"./results/models/cifar100_train1.h5\"\n",
        "model.load(model_path)\n",
        "print(\"Model loaded.\")\n",
        "\n",
        "#number of classes\n",
        "num_way = test_num_ways[1]\n",
        "\n",
        "#number of examples per class for support set\n",
        "num_shot = num_shots[1]  \n",
        "\n",
        "#number of query points\n",
        "num_query = num_shots[1] \n",
        "\n",
        "#number of examples\n",
        "num_examples = 100\n",
        "\n",
        "num_episodes = 1200\n",
        "\n",
        "support = np.zeros([num_way, num_shot, img_width, img_height, channels], dtype=np.float32)\n",
        "query = np.zeros([num_way, num_query, img_height, channels], dtype=np.float32)\n",
        "model = Prototypical(support, query, img_width, img_height, channels)\n",
        "\n",
        "# Metrics to gather\n",
        "test_loss = tf.metrics.Mean(name='test_loss')\n",
        "test_acc = tf.metrics.Mean(name='test_accuracy')\n",
        "\n",
        "def calc_loss(support, query):\n",
        "  loss, acc = model(support, query)\n",
        "  return loss, acc\n",
        "\n",
        "for i_episode in range(num_episodes):\n",
        "  test_support, test_query = get_next_batch(test_images, test_labels, num_way, num_shot, num_query, num_examples)\n",
        "  if (i_episode+1)%50 == 0: \n",
        "    print(\"Episode: \", i_episode + 1)\n",
        "  loss, acc = calc_loss(test_support, test_query)\n",
        "  test_loss(loss)\n",
        "  test_acc(acc)\n",
        "\n",
        "print(\"Loss: \", test_loss.result().numpy())\n",
        "print(\"Accuracy: \", test_acc.result().numpy() * 100)"
      ],
      "metadata": {
        "colab": {
          "base_uri": "https://localhost:8080/"
        },
        "id": "33Vs5c7LkTRi",
        "outputId": "d2c971cc-df02-42a0-9503-468d39957d55"
      },
      "execution_count": null,
      "outputs": [
        {
          "output_type": "stream",
          "name": "stdout",
          "text": [
            "Model loaded.\n",
            "Episode:  50\n",
            "Episode:  100\n",
            "Episode:  150\n",
            "Episode:  200\n",
            "Episode:  250\n",
            "Episode:  300\n",
            "Episode:  350\n",
            "Episode:  400\n",
            "Episode:  450\n",
            "Episode:  500\n",
            "Episode:  550\n",
            "Episode:  600\n",
            "Episode:  650\n",
            "Episode:  700\n",
            "Episode:  750\n",
            "Episode:  800\n",
            "Episode:  850\n",
            "Episode:  900\n",
            "Episode:  950\n",
            "Episode:  1000\n",
            "Episode:  1050\n",
            "Episode:  1100\n",
            "Episode:  1150\n",
            "Episode:  1200\n",
            "Loss:  1.6093454\n",
            "Accuracy:  28.91666293144226\n"
          ]
        }
      ]
    },
    {
      "cell_type": "code",
      "source": [
        "#Now adding reptile to this\n",
        "meta_step_size = 0.25\n",
        "\n",
        "#number of classes\n",
        "num_way = train_num_ways[0] \n",
        "\n",
        "#number of examples per class for support set\n",
        "num_shot = num_shots[0]  \n",
        "\n",
        "#number of query points\n",
        "num_query = num_shots[0] \n",
        "\n",
        "#number of examples\n",
        "num_examples = 100\n",
        "\n",
        "eval_iters = 20\n",
        "eval_interval = 4\n",
        "least_loss = {'least_loss': 100.00}\n",
        "\n",
        "train_loss = tf.metrics.Mean(name='train_loss')\n",
        "val_loss = tf.metrics.Mean(name='val_loss')\n",
        "train_acc = tf.metrics.Mean(name='train_accuracy')\n",
        "val_acc = tf.metrics.Mean(name='val_accuracy')\n",
        "support = np.zeros([num_way, num_shot, img_width, img_height, channels], dtype=np.float32)\n",
        "query = np.zeros([num_way, num_query, img_height, channels], dtype=np.float32)\n",
        "model = Prototypical(support, query, img_width, img_height, channels)\n",
        "optimizer_adam = tf.keras.optimizers.Adam(0.001)\n",
        "optimizer_sgd = tf.keras.optimizers.SGD(0.001)\n",
        "\n",
        "num_epochs = 101\n",
        "num_episodes = 100\n",
        "save_path = \"./results/models/cifar100_train_reptile0.h5\"\n",
        "\n",
        "@tf.function\n",
        "def loss(support, query):\n",
        "  loss, acc = model(support, query)\n",
        "  return loss, acc\n",
        "\n",
        "@tf.function\n",
        "def train_step(support, query, optimizer):\n",
        "  with tf.GradientTape() as tape:\n",
        "    loss, acc = model(support, query)\n",
        "  gradients = tape.gradient(loss, model.trainable_variables)\n",
        "  optimizer.apply_gradients(\n",
        "        zip(gradients, model.trainable_variables))\n",
        "  \n",
        "  \n",
        "  train_loss(loss)\n",
        "  train_acc(acc)\n",
        "  \n",
        "\n",
        "@tf.function\n",
        "def val_step(support, query, optimizer):\n",
        "  with tf.GradientTape() as tape:\n",
        "    loss, acc = model(support, query)\n",
        "  gradients = tape.gradient(loss, model.trainable_variables)\n",
        "  optimizer.apply_gradients(\n",
        "        zip(gradients, model.trainable_variables))\n",
        "  \n",
        "  val_loss(loss)\n",
        "  val_acc(acc)\n",
        "\n",
        "\n",
        "least_loss = {'least_loss': 100.00}\n",
        "for epoch in range(num_epochs):\n",
        "  train_loss.reset_states()\n",
        "  val_loss.reset_states()\n",
        "  train_acc.reset_states()\n",
        "  val_acc.reset_states()\n",
        "\n",
        "  for episode in range(num_episodes):\n",
        "    frac_done = episode / num_episodes\n",
        "    cur_meta_step_size = (1 - frac_done) * meta_step_size\n",
        "    train_support, train_query = get_next_batch(train_images_split, train_labels_split, num_way, num_shot, num_query, num_classes)\n",
        "    model = Prototypical(train_support, train_query, img_width, img_height, channels)\n",
        "    model.call(train_support, train_query)\n",
        "    old_weights = model.get_weights()\n",
        "    train_step(train_support, train_query, optimizer_adam)\n",
        "    new_weights = model.get_weights()\n",
        "\n",
        "    for part_weight in range(len(new_weights)):\n",
        "        new_weights[part_weight] = old_weights[part_weight] + (\n",
        "            (new_weights[part_weight] - old_weights[part_weight]) * cur_meta_step_size\n",
        "        )\n",
        "\n",
        "    model.set_weights(new_weights)\n",
        "    if epoch % eval_interval == 0:\n",
        "      eval_support, eval_query = get_next_batch(val_images_split, val_labels_split, num_way, num_shot, num_query, num_classes)\n",
        "      old_vars = model.get_weights()\n",
        "      val_step(eval_support, eval_query, optimizer_sgd)\n",
        "      model.set_weights(old_vars)\n",
        "      \n",
        "  cur_loss = val_loss.result().numpy()\n",
        "\n",
        "  if (epoch % eval_interval == 0):\n",
        "    template = 'Epoch {}, Loss: {}, Accuracy: {}, ' \\\n",
        "                  'Val Loss: {}, Val Accuracy: {}'\n",
        "    print(template.format(epoch + 1, train_loss.result(), train_acc.result() * 100, val_loss.result(),\n",
        "                            val_acc.result() * 100))\n",
        "    if cur_loss < least_loss['least_loss']:\n",
        "      print(\"Saving new best model with loss: \", cur_loss)\n",
        "      least_loss['least_loss'] = cur_loss\n",
        "      model.save(save_path)\n",
        "\n",
        "  "
      ],
      "metadata": {
        "colab": {
          "base_uri": "https://localhost:8080/"
        },
        "outputId": "d3c4cfe3-835b-4c52-a793-02e2f95cfe3b",
        "id": "cxBEkIU4rKUU"
      },
      "execution_count": null,
      "outputs": [
        {
          "output_type": "stream",
          "name": "stderr",
          "text": [
            "WARNING:tensorflow:Compiled the loaded model, but the compiled metrics have yet to be built. `model.compile_metrics` will be empty until you train or evaluate the model.\n"
          ]
        },
        {
          "output_type": "stream",
          "name": "stdout",
          "text": [
            "Epoch 1, Loss: 3.8139002323150635, Accuracy: 8.213332176208496, Val Loss: 3.8042240142822266, Val Accuracy: 7.646665573120117\n",
            "Saving new best model with loss:  3.804224\n"
          ]
        },
        {
          "output_type": "stream",
          "name": "stderr",
          "text": [
            "WARNING:tensorflow:Compiled the loaded model, but the compiled metrics have yet to be built. `model.compile_metrics` will be empty until you train or evaluate the model.\n"
          ]
        },
        {
          "output_type": "stream",
          "name": "stdout",
          "text": [
            "Epoch 5, Loss: 3.2066490650177, Accuracy: 18.63666343688965, Val Loss: 3.249723196029663, Val Accuracy: 17.679994583129883\n",
            "Saving new best model with loss:  3.2497232\n"
          ]
        },
        {
          "output_type": "stream",
          "name": "stderr",
          "text": [
            "WARNING:tensorflow:Compiled the loaded model, but the compiled metrics have yet to be built. `model.compile_metrics` will be empty until you train or evaluate the model.\n"
          ]
        },
        {
          "output_type": "stream",
          "name": "stdout",
          "text": [
            "Epoch 9, Loss: 2.9764084815979004, Accuracy: 22.986665725708008, Val Loss: 3.0367178916931152, Val Accuracy: 22.279993057250977\n",
            "Saving new best model with loss:  3.036718\n"
          ]
        },
        {
          "output_type": "stream",
          "name": "stderr",
          "text": [
            "WARNING:tensorflow:Compiled the loaded model, but the compiled metrics have yet to be built. `model.compile_metrics` will be empty until you train or evaluate the model.\n"
          ]
        },
        {
          "output_type": "stream",
          "name": "stdout",
          "text": [
            "Epoch 13, Loss: 2.7954366207122803, Accuracy: 26.59667205810547, Val Loss: 2.8640787601470947, Val Accuracy: 25.35332679748535\n",
            "Saving new best model with loss:  2.8640788\n"
          ]
        },
        {
          "output_type": "stream",
          "name": "stderr",
          "text": [
            "WARNING:tensorflow:Compiled the loaded model, but the compiled metrics have yet to be built. `model.compile_metrics` will be empty until you train or evaluate the model.\n"
          ]
        },
        {
          "output_type": "stream",
          "name": "stdout",
          "text": [
            "Epoch 17, Loss: 2.6351146697998047, Accuracy: 29.666677474975586, Val Loss: 2.8355660438537598, Val Accuracy: 26.649995803833008\n",
            "Saving new best model with loss:  2.835566\n"
          ]
        },
        {
          "output_type": "stream",
          "name": "stderr",
          "text": [
            "WARNING:tensorflow:Compiled the loaded model, but the compiled metrics have yet to be built. `model.compile_metrics` will be empty until you train or evaluate the model.\n"
          ]
        },
        {
          "output_type": "stream",
          "name": "stdout",
          "text": [
            "Epoch 21, Loss: 2.5259249210357666, Accuracy: 32.27000427246094, Val Loss: 2.663479804992676, Val Accuracy: 29.980009078979492\n",
            "Saving new best model with loss:  2.6634798\n"
          ]
        },
        {
          "output_type": "stream",
          "name": "stderr",
          "text": [
            "WARNING:tensorflow:Compiled the loaded model, but the compiled metrics have yet to be built. `model.compile_metrics` will be empty until you train or evaluate the model.\n"
          ]
        },
        {
          "output_type": "stream",
          "name": "stdout",
          "text": [
            "Epoch 25, Loss: 2.4132466316223145, Accuracy: 33.93666458129883, Val Loss: 2.596775531768799, Val Accuracy: 31.016672134399414\n",
            "Saving new best model with loss:  2.5967755\n"
          ]
        },
        {
          "output_type": "stream",
          "name": "stderr",
          "text": [
            "WARNING:tensorflow:Compiled the loaded model, but the compiled metrics have yet to be built. `model.compile_metrics` will be empty until you train or evaluate the model.\n"
          ]
        },
        {
          "output_type": "stream",
          "name": "stdout",
          "text": [
            "Epoch 29, Loss: 2.317734956741333, Accuracy: 36.16667175292969, Val Loss: 2.503063440322876, Val Accuracy: 32.59333419799805\n",
            "Saving new best model with loss:  2.5030634\n"
          ]
        },
        {
          "output_type": "stream",
          "name": "stderr",
          "text": [
            "WARNING:tensorflow:Compiled the loaded model, but the compiled metrics have yet to be built. `model.compile_metrics` will be empty until you train or evaluate the model.\n"
          ]
        },
        {
          "output_type": "stream",
          "name": "stdout",
          "text": [
            "Epoch 33, Loss: 2.231812000274658, Accuracy: 37.976661682128906, Val Loss: 2.4499545097351074, Val Accuracy: 33.65666961669922\n",
            "Saving new best model with loss:  2.4499545\n",
            "Epoch 37, Loss: 2.1744823455810547, Accuracy: 39.503334045410156, Val Loss: 2.4550766944885254, Val Accuracy: 33.546669006347656\n"
          ]
        },
        {
          "output_type": "stream",
          "name": "stderr",
          "text": [
            "WARNING:tensorflow:Compiled the loaded model, but the compiled metrics have yet to be built. `model.compile_metrics` will be empty until you train or evaluate the model.\n"
          ]
        },
        {
          "output_type": "stream",
          "name": "stdout",
          "text": [
            "Epoch 41, Loss: 2.111607074737549, Accuracy: 40.666664123535156, Val Loss: 2.4245963096618652, Val Accuracy: 35.02666091918945\n",
            "Saving new best model with loss:  2.4245963\n"
          ]
        },
        {
          "output_type": "stream",
          "name": "stderr",
          "text": [
            "WARNING:tensorflow:Compiled the loaded model, but the compiled metrics have yet to be built. `model.compile_metrics` will be empty until you train or evaluate the model.\n"
          ]
        },
        {
          "output_type": "stream",
          "name": "stdout",
          "text": [
            "Epoch 45, Loss: 2.065999746322632, Accuracy: 41.67000198364258, Val Loss: 2.406125545501709, Val Accuracy: 35.15999984741211\n",
            "Saving new best model with loss:  2.4061255\n"
          ]
        },
        {
          "output_type": "stream",
          "name": "stderr",
          "text": [
            "WARNING:tensorflow:Compiled the loaded model, but the compiled metrics have yet to be built. `model.compile_metrics` will be empty until you train or evaluate the model.\n"
          ]
        },
        {
          "output_type": "stream",
          "name": "stdout",
          "text": [
            "Epoch 49, Loss: 1.9944041967391968, Accuracy: 43.13665771484375, Val Loss: 2.3601088523864746, Val Accuracy: 36.22333908081055\n",
            "Saving new best model with loss:  2.3601089\n",
            "Epoch 53, Loss: 1.972795844078064, Accuracy: 43.92000198364258, Val Loss: 2.374851703643799, Val Accuracy: 36.05000686645508\n"
          ]
        },
        {
          "output_type": "stream",
          "name": "stderr",
          "text": [
            "WARNING:tensorflow:Compiled the loaded model, but the compiled metrics have yet to be built. `model.compile_metrics` will be empty until you train or evaluate the model.\n"
          ]
        },
        {
          "output_type": "stream",
          "name": "stdout",
          "text": [
            "Epoch 57, Loss: 1.9378693103790283, Accuracy: 44.85332489013672, Val Loss: 2.3231451511383057, Val Accuracy: 36.78667068481445\n",
            "Saving new best model with loss:  2.3231452\n"
          ]
        },
        {
          "output_type": "stream",
          "name": "stderr",
          "text": [
            "WARNING:tensorflow:Compiled the loaded model, but the compiled metrics have yet to be built. `model.compile_metrics` will be empty until you train or evaluate the model.\n"
          ]
        },
        {
          "output_type": "stream",
          "name": "stdout",
          "text": [
            "Epoch 61, Loss: 1.8695893287658691, Accuracy: 45.92999267578125, Val Loss: 2.303842067718506, Val Accuracy: 37.083335876464844\n",
            "Saving new best model with loss:  2.303842\n"
          ]
        },
        {
          "output_type": "stream",
          "name": "stderr",
          "text": [
            "WARNING:tensorflow:Compiled the loaded model, but the compiled metrics have yet to be built. `model.compile_metrics` will be empty until you train or evaluate the model.\n"
          ]
        },
        {
          "output_type": "stream",
          "name": "stdout",
          "text": [
            "Epoch 65, Loss: 1.851346492767334, Accuracy: 46.33332061767578, Val Loss: 2.302985906600952, Val Accuracy: 37.486671447753906\n",
            "Saving new best model with loss:  2.302986\n",
            "Epoch 69, Loss: 1.7984830141067505, Accuracy: 47.53666687011719, Val Loss: 2.327793836593628, Val Accuracy: 36.966670989990234\n"
          ]
        },
        {
          "output_type": "stream",
          "name": "stderr",
          "text": [
            "WARNING:tensorflow:Compiled the loaded model, but the compiled metrics have yet to be built. `model.compile_metrics` will be empty until you train or evaluate the model.\n"
          ]
        },
        {
          "output_type": "stream",
          "name": "stdout",
          "text": [
            "Epoch 73, Loss: 1.7656787633895874, Accuracy: 48.62665939331055, Val Loss: 2.290269136428833, Val Accuracy: 37.62333679199219\n",
            "Saving new best model with loss:  2.2902691\n"
          ]
        },
        {
          "output_type": "stream",
          "name": "stderr",
          "text": [
            "WARNING:tensorflow:Compiled the loaded model, but the compiled metrics have yet to be built. `model.compile_metrics` will be empty until you train or evaluate the model.\n"
          ]
        },
        {
          "output_type": "stream",
          "name": "stdout",
          "text": [
            "Epoch 77, Loss: 1.7248508930206299, Accuracy: 49.61332702636719, Val Loss: 2.2655603885650635, Val Accuracy: 38.57999801635742\n",
            "Saving new best model with loss:  2.2655604\n",
            "Epoch 81, Loss: 1.705063819885254, Accuracy: 50.389991760253906, Val Loss: 2.311614513397217, Val Accuracy: 37.67667007446289\n",
            "Epoch 85, Loss: 1.6732426881790161, Accuracy: 50.80332946777344, Val Loss: 2.2769551277160645, Val Accuracy: 38.739994049072266\n",
            "Epoch 89, Loss: 1.6466972827911377, Accuracy: 51.726661682128906, Val Loss: 2.2992372512817383, Val Accuracy: 38.613338470458984\n",
            "Epoch 93, Loss: 1.610911250114441, Accuracy: 52.116661071777344, Val Loss: 2.3009026050567627, Val Accuracy: 38.716670989990234\n",
            "Epoch 97, Loss: 1.5878214836120605, Accuracy: 53.023338317871094, Val Loss: 2.286634683609009, Val Accuracy: 38.61000061035156\n",
            "Epoch 101, Loss: 1.575729250907898, Accuracy: 53.0433349609375, Val Loss: 2.288922071456909, Val Accuracy: 38.886661529541016\n"
          ]
        }
      ]
    },
    {
      "cell_type": "code",
      "source": [
        "#Now adding reptile to this\n",
        "meta_step_size = 0.25\n",
        "\n",
        "#number of classes\n",
        "num_way = train_num_ways[1] \n",
        "\n",
        "#number of examples per class for support set\n",
        "num_shot = num_shots[1]  \n",
        "\n",
        "#number of query points\n",
        "num_query = num_shots[1] \n",
        "\n",
        "#number of examples\n",
        "num_examples = 100\n",
        "\n",
        "eval_iters = 20\n",
        "eval_interval = 4\n",
        "least_loss = {'least_loss': 100.00}\n",
        "\n",
        "train_loss = tf.metrics.Mean(name='train_loss')\n",
        "val_loss = tf.metrics.Mean(name='val_loss')\n",
        "train_acc = tf.metrics.Mean(name='train_accuracy')\n",
        "val_acc = tf.metrics.Mean(name='val_accuracy')\n",
        "support = np.zeros([num_way, num_shot, img_width, img_height, channels], dtype=np.float32)\n",
        "query = np.zeros([num_way, num_query, img_height, channels], dtype=np.float32)\n",
        "model = Prototypical(support, query, img_width, img_height, channels)\n",
        "optimizer_adam = tf.keras.optimizers.Adam(0.001)\n",
        "optimizer_sgd = tf.keras.optimizers.SGD(0.001)\n",
        "\n",
        "num_epochs = 101\n",
        "num_episodes = 100\n",
        "save_path = \"./results/models/cifar100_train_reptile1.h5\"\n",
        "\n",
        "@tf.function\n",
        "def loss(support, query):\n",
        "  loss, acc = model(support, query)\n",
        "  return loss, acc\n",
        "\n",
        "@tf.function\n",
        "def train_step(support, query, optimizer):\n",
        "  with tf.GradientTape() as tape:\n",
        "    loss, acc = model(support, query)\n",
        "  gradients = tape.gradient(loss, model.trainable_variables)\n",
        "  optimizer.apply_gradients(\n",
        "        zip(gradients, model.trainable_variables))\n",
        "  \n",
        "  \n",
        "  train_loss(loss)\n",
        "  train_acc(acc)\n",
        "  \n",
        "\n",
        "@tf.function\n",
        "def val_step(support, query, optimizer):\n",
        "  with tf.GradientTape() as tape:\n",
        "    loss, acc = model(support, query)\n",
        "  gradients = tape.gradient(loss, model.trainable_variables)\n",
        "  optimizer.apply_gradients(\n",
        "        zip(gradients, model.trainable_variables))\n",
        "  \n",
        "  val_loss(loss)\n",
        "  val_acc(acc)\n",
        "\n",
        "\n",
        "least_loss = {'least_loss': 100.00}\n",
        "for epoch in range(num_epochs):\n",
        "  train_loss.reset_states()\n",
        "  val_loss.reset_states()\n",
        "  train_acc.reset_states()\n",
        "  val_acc.reset_states()\n",
        "\n",
        "  for episode in range(num_episodes):\n",
        "    frac_done = episode / num_episodes\n",
        "    cur_meta_step_size = (1 - frac_done) * meta_step_size\n",
        "    train_support, train_query = get_next_batch(train_images_split, train_labels_split, num_way, num_shot, num_query, num_classes)\n",
        "    model = Prototypical(train_support, train_query, img_width, img_height, channels)\n",
        "    model.call(train_support, train_query)\n",
        "    old_weights = model.get_weights()\n",
        "    train_step(train_support, train_query, optimizer_adam)\n",
        "    new_weights = model.get_weights()\n",
        "\n",
        "    for part_weight in range(len(new_weights)):\n",
        "        new_weights[part_weight] = old_weights[part_weight] + (\n",
        "            (new_weights[part_weight] - old_weights[part_weight]) * cur_meta_step_size\n",
        "        )\n",
        "\n",
        "    model.set_weights(new_weights)\n",
        "    if epoch % eval_interval == 0:\n",
        "      eval_support, eval_query = get_next_batch(val_images_split, val_labels_split, num_way, num_shot, num_query, num_classes)\n",
        "      old_vars = model.get_weights()\n",
        "      val_step(eval_support, eval_query, optimizer_sgd)\n",
        "      model.set_weights(old_vars)\n",
        "      \n",
        "  cur_loss = val_loss.result().numpy()\n",
        "\n",
        "  if (epoch % eval_interval == 0):\n",
        "    template = 'Epoch {}, Loss: {}, Accuracy: {}, ' \\\n",
        "                  'Val Loss: {}, Val Accuracy: {}'\n",
        "    print(template.format(epoch + 1, train_loss.result(), train_acc.result() * 100, val_loss.result(),\n",
        "                            val_acc.result() * 100))\n",
        "    if cur_loss < least_loss['least_loss']:\n",
        "      print(\"Saving new best model with loss: \", cur_loss)\n",
        "      least_loss['least_loss'] = cur_loss\n",
        "      model.save(save_path)\n"
      ],
      "metadata": {
        "colab": {
          "base_uri": "https://localhost:8080/"
        },
        "id": "oDZJF-lJoTo_",
        "outputId": "f79996c5-f20c-47b8-8cdb-56d7ef76b8e1"
      },
      "execution_count": null,
      "outputs": [
        {
          "output_type": "stream",
          "name": "stderr",
          "text": [
            "WARNING:tensorflow:Compiled the loaded model, but the compiled metrics have yet to be built. `model.compile_metrics` will be empty until you train or evaluate the model.\n"
          ]
        },
        {
          "output_type": "stream",
          "name": "stdout",
          "text": [
            "Epoch 1, Loss: 3.3450732231140137, Accuracy: 9.066662788391113, Val Loss: 3.3538637161254883, Val Accuracy: 7.866662979125977\n",
            "Saving new best model with loss:  3.3538637\n"
          ]
        },
        {
          "output_type": "stream",
          "name": "stderr",
          "text": [
            "WARNING:tensorflow:Compiled the loaded model, but the compiled metrics have yet to be built. `model.compile_metrics` will be empty until you train or evaluate the model.\n"
          ]
        },
        {
          "output_type": "stream",
          "name": "stdout",
          "text": [
            "Epoch 5, Loss: 3.214167594909668, Accuracy: 10.366663932800293, Val Loss: 3.263706922531128, Val Accuracy: 9.79999828338623\n",
            "Saving new best model with loss:  3.263707\n"
          ]
        },
        {
          "output_type": "stream",
          "name": "stderr",
          "text": [
            "WARNING:tensorflow:Compiled the loaded model, but the compiled metrics have yet to be built. `model.compile_metrics` will be empty until you train or evaluate the model.\n"
          ]
        },
        {
          "output_type": "stream",
          "name": "stdout",
          "text": [
            "Epoch 9, Loss: 3.165848731994629, Accuracy: 12.266667366027832, Val Loss: 3.177494525909424, Val Accuracy: 12.13333797454834\n",
            "Saving new best model with loss:  3.1774945\n",
            "Epoch 13, Loss: 3.1679904460906982, Accuracy: 12.300002098083496, Val Loss: 3.180849552154541, Val Accuracy: 11.466667175292969\n"
          ]
        },
        {
          "output_type": "stream",
          "name": "stderr",
          "text": [
            "WARNING:tensorflow:Compiled the loaded model, but the compiled metrics have yet to be built. `model.compile_metrics` will be empty until you train or evaluate the model.\n"
          ]
        },
        {
          "output_type": "stream",
          "name": "stdout",
          "text": [
            "Epoch 17, Loss: 3.103090524673462, Accuracy: 14.266666412353516, Val Loss: 3.106534004211426, Val Accuracy: 13.433335304260254\n",
            "Saving new best model with loss:  3.106534\n"
          ]
        },
        {
          "output_type": "stream",
          "name": "stderr",
          "text": [
            "WARNING:tensorflow:Compiled the loaded model, but the compiled metrics have yet to be built. `model.compile_metrics` will be empty until you train or evaluate the model.\n"
          ]
        },
        {
          "output_type": "stream",
          "name": "stdout",
          "text": [
            "Epoch 21, Loss: 3.064518928527832, Accuracy: 16.133333206176758, Val Loss: 3.090259313583374, Val Accuracy: 13.966669082641602\n",
            "Saving new best model with loss:  3.0902593\n"
          ]
        },
        {
          "output_type": "stream",
          "name": "stderr",
          "text": [
            "WARNING:tensorflow:Compiled the loaded model, but the compiled metrics have yet to be built. `model.compile_metrics` will be empty until you train or evaluate the model.\n"
          ]
        },
        {
          "output_type": "stream",
          "name": "stdout",
          "text": [
            "Epoch 25, Loss: 3.041449546813965, Accuracy: 14.900003433227539, Val Loss: 3.048287868499756, Val Accuracy: 13.933335304260254\n",
            "Saving new best model with loss:  3.0482879\n"
          ]
        },
        {
          "output_type": "stream",
          "name": "stderr",
          "text": [
            "WARNING:tensorflow:Compiled the loaded model, but the compiled metrics have yet to be built. `model.compile_metrics` will be empty until you train or evaluate the model.\n"
          ]
        },
        {
          "output_type": "stream",
          "name": "stdout",
          "text": [
            "Epoch 29, Loss: 3.006650447845459, Accuracy: 16.30000114440918, Val Loss: 3.0293455123901367, Val Accuracy: 15.066669464111328\n",
            "Saving new best model with loss:  3.0293455\n"
          ]
        },
        {
          "output_type": "stream",
          "name": "stderr",
          "text": [
            "WARNING:tensorflow:Compiled the loaded model, but the compiled metrics have yet to be built. `model.compile_metrics` will be empty until you train or evaluate the model.\n"
          ]
        },
        {
          "output_type": "stream",
          "name": "stdout",
          "text": [
            "Epoch 33, Loss: 2.9682540893554688, Accuracy: 15.433335304260254, Val Loss: 2.9779486656188965, Val Accuracy: 16.26666831970215\n",
            "Saving new best model with loss:  2.9779487\n"
          ]
        },
        {
          "output_type": "stream",
          "name": "stderr",
          "text": [
            "WARNING:tensorflow:Compiled the loaded model, but the compiled metrics have yet to be built. `model.compile_metrics` will be empty until you train or evaluate the model.\n"
          ]
        },
        {
          "output_type": "stream",
          "name": "stdout",
          "text": [
            "Epoch 37, Loss: 2.9332330226898193, Accuracy: 16.96666717529297, Val Loss: 2.9306249618530273, Val Accuracy: 16.73333740234375\n",
            "Saving new best model with loss:  2.930625\n"
          ]
        },
        {
          "output_type": "stream",
          "name": "stderr",
          "text": [
            "WARNING:tensorflow:Compiled the loaded model, but the compiled metrics have yet to be built. `model.compile_metrics` will be empty until you train or evaluate the model.\n"
          ]
        },
        {
          "output_type": "stream",
          "name": "stdout",
          "text": [
            "Epoch 41, Loss: 2.915342330932617, Accuracy: 18.03333282470703, Val Loss: 2.9041292667388916, Val Accuracy: 17.300003051757812\n",
            "Saving new best model with loss:  2.9041293\n",
            "Epoch 45, Loss: 2.8460686206817627, Accuracy: 19.5000057220459, Val Loss: 2.905850410461426, Val Accuracy: 18.0\n"
          ]
        },
        {
          "output_type": "stream",
          "name": "stderr",
          "text": [
            "WARNING:tensorflow:Compiled the loaded model, but the compiled metrics have yet to be built. `model.compile_metrics` will be empty until you train or evaluate the model.\n"
          ]
        },
        {
          "output_type": "stream",
          "name": "stdout",
          "text": [
            "Epoch 49, Loss: 2.8110408782958984, Accuracy: 20.366666793823242, Val Loss: 2.878054618835449, Val Accuracy: 18.833335876464844\n",
            "Saving new best model with loss:  2.8780546\n"
          ]
        },
        {
          "output_type": "stream",
          "name": "stderr",
          "text": [
            "WARNING:tensorflow:Compiled the loaded model, but the compiled metrics have yet to be built. `model.compile_metrics` will be empty until you train or evaluate the model.\n"
          ]
        },
        {
          "output_type": "stream",
          "name": "stdout",
          "text": [
            "Epoch 53, Loss: 2.839517593383789, Accuracy: 19.43333625793457, Val Loss: 2.866196393966675, Val Accuracy: 17.799997329711914\n",
            "Saving new best model with loss:  2.8661964\n"
          ]
        },
        {
          "output_type": "stream",
          "name": "stderr",
          "text": [
            "WARNING:tensorflow:Compiled the loaded model, but the compiled metrics have yet to be built. `model.compile_metrics` will be empty until you train or evaluate the model.\n"
          ]
        },
        {
          "output_type": "stream",
          "name": "stdout",
          "text": [
            "Epoch 57, Loss: 2.8059167861938477, Accuracy: 20.000003814697266, Val Loss: 2.8284389972686768, Val Accuracy: 18.766666412353516\n",
            "Saving new best model with loss:  2.828439\n"
          ]
        },
        {
          "output_type": "stream",
          "name": "stderr",
          "text": [
            "WARNING:tensorflow:Compiled the loaded model, but the compiled metrics have yet to be built. `model.compile_metrics` will be empty until you train or evaluate the model.\n"
          ]
        },
        {
          "output_type": "stream",
          "name": "stdout",
          "text": [
            "Epoch 61, Loss: 2.748898506164551, Accuracy: 21.333332061767578, Val Loss: 2.7912111282348633, Val Accuracy: 19.700000762939453\n",
            "Saving new best model with loss:  2.7912111\n",
            "Epoch 65, Loss: 2.7303667068481445, Accuracy: 22.700002670288086, Val Loss: 2.8104865550994873, Val Accuracy: 19.200002670288086\n"
          ]
        },
        {
          "output_type": "stream",
          "name": "stderr",
          "text": [
            "WARNING:tensorflow:Compiled the loaded model, but the compiled metrics have yet to be built. `model.compile_metrics` will be empty until you train or evaluate the model.\n"
          ]
        },
        {
          "output_type": "stream",
          "name": "stdout",
          "text": [
            "Epoch 69, Loss: 2.7024471759796143, Accuracy: 21.333341598510742, Val Loss: 2.7685651779174805, Val Accuracy: 20.533334732055664\n",
            "Saving new best model with loss:  2.7685652\n"
          ]
        },
        {
          "output_type": "stream",
          "name": "stderr",
          "text": [
            "WARNING:tensorflow:Compiled the loaded model, but the compiled metrics have yet to be built. `model.compile_metrics` will be empty until you train or evaluate the model.\n"
          ]
        },
        {
          "output_type": "stream",
          "name": "stdout",
          "text": [
            "Epoch 73, Loss: 2.7070741653442383, Accuracy: 21.300006866455078, Val Loss: 2.7497506141662598, Val Accuracy: 21.033340454101562\n",
            "Saving new best model with loss:  2.7497506\n",
            "Epoch 77, Loss: 2.6898560523986816, Accuracy: 22.200000762939453, Val Loss: 2.770256280899048, Val Accuracy: 20.30000114440918\n",
            "Epoch 81, Loss: 2.622943639755249, Accuracy: 23.866666793823242, Val Loss: 2.7677721977233887, Val Accuracy: 21.366668701171875\n"
          ]
        },
        {
          "output_type": "stream",
          "name": "stderr",
          "text": [
            "WARNING:tensorflow:Compiled the loaded model, but the compiled metrics have yet to be built. `model.compile_metrics` will be empty until you train or evaluate the model.\n"
          ]
        },
        {
          "output_type": "stream",
          "name": "stdout",
          "text": [
            "Epoch 85, Loss: 2.622835159301758, Accuracy: 24.333330154418945, Val Loss: 2.7161295413970947, Val Accuracy: 23.23333740234375\n",
            "Saving new best model with loss:  2.7161295\n"
          ]
        },
        {
          "output_type": "stream",
          "name": "stderr",
          "text": [
            "WARNING:tensorflow:Compiled the loaded model, but the compiled metrics have yet to be built. `model.compile_metrics` will be empty until you train or evaluate the model.\n"
          ]
        },
        {
          "output_type": "stream",
          "name": "stdout",
          "text": [
            "Epoch 89, Loss: 2.581019401550293, Accuracy: 25.500001907348633, Val Loss: 2.7143607139587402, Val Accuracy: 22.566667556762695\n",
            "Saving new best model with loss:  2.7143607\n"
          ]
        },
        {
          "output_type": "stream",
          "name": "stderr",
          "text": [
            "WARNING:tensorflow:Compiled the loaded model, but the compiled metrics have yet to be built. `model.compile_metrics` will be empty until you train or evaluate the model.\n"
          ]
        },
        {
          "output_type": "stream",
          "name": "stdout",
          "text": [
            "Epoch 93, Loss: 2.587777614593506, Accuracy: 24.533336639404297, Val Loss: 2.7056493759155273, Val Accuracy: 22.133333206176758\n",
            "Saving new best model with loss:  2.7056494\n"
          ]
        },
        {
          "output_type": "stream",
          "name": "stderr",
          "text": [
            "WARNING:tensorflow:Compiled the loaded model, but the compiled metrics have yet to be built. `model.compile_metrics` will be empty until you train or evaluate the model.\n"
          ]
        },
        {
          "output_type": "stream",
          "name": "stdout",
          "text": [
            "Epoch 97, Loss: 2.58103084564209, Accuracy: 25.033334732055664, Val Loss: 2.663133144378662, Val Accuracy: 23.5333309173584\n",
            "Saving new best model with loss:  2.6631331\n",
            "Epoch 101, Loss: 2.576362371444702, Accuracy: 25.633331298828125, Val Loss: 2.6663498878479004, Val Accuracy: 23.40000343322754\n"
          ]
        }
      ]
    },
    {
      "cell_type": "code",
      "source": [
        "model = Prototypical(support, query, img_width, img_height, channels)\n",
        "model_path = \"./results/models/cifar100_train_reptile0.h5\"\n",
        "model.load(model_path)\n",
        "print(\"Model loaded.\")\n",
        "\n",
        "#number of classes\n",
        "num_way = test_num_ways[0] \n",
        "\n",
        "#number of examples per class for support set\n",
        "num_shot = num_shots[0]  \n",
        "\n",
        "#number of query points\n",
        "num_query = num_shots[0] \n",
        "\n",
        "#number of examples\n",
        "num_examples = 100\n",
        "\n",
        "num_episodes = 1200\n",
        "\n",
        "# Metrics to gather\n",
        "test_loss = tf.metrics.Mean(name='test_loss')\n",
        "test_acc = tf.metrics.Mean(name='test_accuracy')\n",
        "\n",
        "def calc_loss(support, query):\n",
        "  loss, acc = model(support, query)\n",
        "  return loss, acc\n",
        "\n",
        "for i_episode in range(num_episodes):\n",
        "  test_support, test_query = get_next_batch(test_images, test_labels, num_way, num_shot, num_query, num_classes)\n",
        "  if (i_episode+1)%50 == 0: \n",
        "    print(\"Episode: \", i_episode + 1)\n",
        "  loss, acc = calc_loss(test_support, test_query)\n",
        "  test_loss(loss)\n",
        "  test_acc(acc)\n",
        "\n",
        "print(\"Loss: \", test_loss.result().numpy())\n",
        "print(\"Accuracy: \", test_acc.result().numpy() * 100)"
      ],
      "metadata": {
        "colab": {
          "base_uri": "https://localhost:8080/"
        },
        "id": "UY_lihJUzG38",
        "outputId": "f8d72fae-e6d7-416f-d3ad-e0a46f1c4350"
      },
      "execution_count": null,
      "outputs": [
        {
          "output_type": "stream",
          "name": "stdout",
          "text": [
            "Model loaded.\n",
            "Episode:  50\n",
            "Episode:  100\n",
            "Episode:  150\n",
            "Episode:  200\n",
            "Episode:  250\n",
            "Episode:  300\n",
            "Episode:  350\n",
            "Episode:  400\n",
            "Episode:  450\n",
            "Episode:  500\n",
            "Episode:  550\n",
            "Episode:  600\n",
            "Episode:  650\n",
            "Episode:  700\n",
            "Episode:  750\n",
            "Episode:  800\n",
            "Episode:  850\n",
            "Episode:  900\n",
            "Episode:  950\n",
            "Episode:  1000\n",
            "Episode:  1050\n",
            "Episode:  1100\n",
            "Episode:  1150\n",
            "Episode:  1200\n",
            "Loss:  1.6093715\n",
            "Accuracy:  38.33993375301361\n"
          ]
        }
      ]
    },
    {
      "cell_type": "code",
      "source": [
        "model = Prototypical(support, query, img_width, img_height, channels)\n",
        "model_path = \"./results/models/cifar100_train_reptile1.h5\"\n",
        "model.load(model_path)\n",
        "print(\"Model loaded.\")\n",
        "\n",
        "#number of classes\n",
        "num_way = test_num_ways[1] \n",
        "\n",
        "#number of examples per class for support set\n",
        "num_shot = num_shots[1]  \n",
        "\n",
        "#number of query points\n",
        "num_query = num_shots[1] \n",
        "\n",
        "#number of examples\n",
        "num_examples = 100\n",
        "\n",
        "num_episodes = 1200\n",
        "\n",
        "# Metrics to gather\n",
        "test_loss = tf.metrics.Mean(name='test_loss')\n",
        "test_acc = tf.metrics.Mean(name='test_accuracy')\n",
        "\n",
        "def calc_loss(support, query):\n",
        "  loss, acc = model(support, query)\n",
        "  return loss, acc\n",
        "\n",
        "for i_episode in range(num_episodes):\n",
        "  test_support, test_query = get_next_batch(test_images, test_labels, num_way, num_shot, num_query, num_classes)\n",
        "  if (i_episode+1)%50 == 0: \n",
        "    print(\"Episode: \", i_episode + 1)\n",
        "  loss, acc = calc_loss(test_support, test_query)\n",
        "  test_loss(loss)\n",
        "  test_acc(acc)\n",
        "\n",
        "print(\"Loss: \", test_loss.result().numpy())\n",
        "print(\"Accuracy: \", test_acc.result().numpy() * 100)"
      ],
      "metadata": {
        "colab": {
          "base_uri": "https://localhost:8080/"
        },
        "id": "3eeWK0EJ0CK_",
        "outputId": "59bc6d0a-17ad-4819-a613-48b33996e75e"
      },
      "execution_count": null,
      "outputs": [
        {
          "output_type": "stream",
          "name": "stdout",
          "text": [
            "Model loaded.\n",
            "Episode:  50\n",
            "Episode:  100\n",
            "Episode:  150\n",
            "Episode:  200\n",
            "Episode:  250\n",
            "Episode:  300\n",
            "Episode:  350\n",
            "Episode:  400\n",
            "Episode:  450\n",
            "Episode:  500\n",
            "Episode:  550\n",
            "Episode:  600\n",
            "Episode:  650\n",
            "Episode:  700\n",
            "Episode:  750\n",
            "Episode:  800\n",
            "Episode:  850\n",
            "Episode:  900\n",
            "Episode:  950\n",
            "Episode:  1000\n",
            "Episode:  1050\n",
            "Episode:  1100\n",
            "Episode:  1150\n",
            "Episode:  1200\n",
            "Loss:  1.6093526\n",
            "Accuracy:  29.933330416679382\n"
          ]
        }
      ]
    },
    {
      "cell_type": "code",
      "source": [
        "from numpy import argmax\n",
        "from tensorflow.keras.utils import to_categorical\n",
        "# one hot encode\n",
        "train_labels_encoded = to_categorical(train_labels_split)\n",
        "val_labels_encoded = to_categorical(val_labels_split)\n",
        "test_labels_encoded = to_categorical(test_labels)\n",
        "print(train_labels_encoded.shape)\n",
        "print(test_labels_encoded.shape)\n",
        "print(train_images_split.shape)\n",
        "print(val_images_split.shape)\n",
        "print(test_images.shape)"
      ],
      "metadata": {
        "colab": {
          "base_uri": "https://localhost:8080/"
        },
        "id": "41CiZVmWBnB8",
        "outputId": "d4aac9b0-b066-4094-e097-5ec4feec4619"
      },
      "execution_count": null,
      "outputs": [
        {
          "output_type": "stream",
          "name": "stdout",
          "text": [
            "(40000, 100)\n",
            "(10000, 100)\n",
            "(40000, 32, 32, 3)\n",
            "(10000, 32, 32, 3)\n",
            "(10000, 32, 32, 3)\n"
          ]
        }
      ]
    },
    {
      "cell_type": "code",
      "source": [
        "from tensorflow.keras import applications\n",
        "from tensorflow.keras.models import Sequential\n",
        "from tensorflow.keras.layers import Dropout, GlobalMaxPooling2D\n",
        "\n",
        "base_model = applications.resnet50.ResNet50(weights= None, include_top=False, input_shape= (img_width, img_height, channels))\n",
        "x = base_model.output\n",
        "x = GlobalMaxPooling2D()(x)\n",
        "x = Dropout(0.7)(x)\n",
        "predictions = Dense(100, activation= 'softmax')(x)\n",
        "model = Model(inputs = base_model.input, outputs = predictions)\n",
        "optimizer = tf.keras.optimizers.Adam(learning_rate)\n",
        "model.compile(optimizer= optimizer, loss='categorical_crossentropy', metrics=['accuracy'])\n",
        "model.fit(train_images_split, train_labels_encoded, epochs = 80, batch_size=64, validation_data=(val_images_split, val_labels_encoded))"
      ],
      "metadata": {
        "colab": {
          "base_uri": "https://localhost:8080/"
        },
        "id": "kkMkW5SWBn7v",
        "outputId": "7c37b13a-4057-4d0d-99fc-7f4ff993e925"
      },
      "execution_count": null,
      "outputs": [
        {
          "output_type": "stream",
          "name": "stdout",
          "text": [
            "Epoch 1/100\n",
            "625/625 [==============================] - 37s 49ms/step - loss: 5.6776 - accuracy: 0.0335 - val_loss: 28.8015 - val_accuracy: 0.0356\n",
            "Epoch 2/100\n",
            "625/625 [==============================] - 29s 47ms/step - loss: 5.4656 - accuracy: 0.0429 - val_loss: 4.2122 - val_accuracy: 0.0527\n",
            "Epoch 3/100\n",
            "625/625 [==============================] - 29s 46ms/step - loss: 5.3766 - accuracy: 0.0395 - val_loss: 32.6453 - val_accuracy: 0.0275\n",
            "Epoch 4/100\n",
            "625/625 [==============================] - 29s 46ms/step - loss: 5.0128 - accuracy: 0.0500 - val_loss: 4.1106 - val_accuracy: 0.0593\n",
            "Epoch 5/100\n",
            "625/625 [==============================] - 29s 46ms/step - loss: 4.8818 - accuracy: 0.0622 - val_loss: 4.2750 - val_accuracy: 0.0751\n",
            "Epoch 6/100\n",
            "625/625 [==============================] - 29s 47ms/step - loss: 4.8766 - accuracy: 0.0617 - val_loss: 686.0621 - val_accuracy: 0.0135\n",
            "Epoch 7/100\n",
            "625/625 [==============================] - 29s 46ms/step - loss: 4.6608 - accuracy: 0.0706 - val_loss: 8.4417 - val_accuracy: 0.0794\n",
            "Epoch 8/100\n",
            "625/625 [==============================] - 29s 46ms/step - loss: 4.5914 - accuracy: 0.0767 - val_loss: 4.0697 - val_accuracy: 0.0706\n",
            "Epoch 9/100\n",
            "625/625 [==============================] - 29s 46ms/step - loss: 4.5515 - accuracy: 0.0760 - val_loss: 4.8549 - val_accuracy: 0.0295\n",
            "Epoch 10/100\n",
            "625/625 [==============================] - 29s 46ms/step - loss: 4.5792 - accuracy: 0.0692 - val_loss: 4.3721 - val_accuracy: 0.0541\n",
            "Epoch 11/100\n",
            "625/625 [==============================] - 29s 47ms/step - loss: 4.5025 - accuracy: 0.0727 - val_loss: 348.0547 - val_accuracy: 0.0175\n",
            "Epoch 12/100\n",
            "625/625 [==============================] - 29s 46ms/step - loss: 4.2071 - accuracy: 0.0910 - val_loss: 6.6443 - val_accuracy: 0.0903\n",
            "Epoch 13/100\n",
            "625/625 [==============================] - 29s 47ms/step - loss: 4.1649 - accuracy: 0.1019 - val_loss: 5.7366 - val_accuracy: 0.1076\n",
            "Epoch 14/100\n",
            "625/625 [==============================] - 29s 46ms/step - loss: 4.1468 - accuracy: 0.0959 - val_loss: 7.9957 - val_accuracy: 0.1102\n",
            "Epoch 15/100\n",
            "625/625 [==============================] - 29s 46ms/step - loss: 3.9443 - accuracy: 0.1145 - val_loss: 6.1208 - val_accuracy: 0.0439\n",
            "Epoch 16/100\n",
            "625/625 [==============================] - 29s 46ms/step - loss: 3.8473 - accuracy: 0.1268 - val_loss: 4.0520 - val_accuracy: 0.1316\n",
            "Epoch 17/100\n",
            "625/625 [==============================] - 29s 46ms/step - loss: 3.8934 - accuracy: 0.1199 - val_loss: 3.8998 - val_accuracy: 0.1374\n",
            "Epoch 18/100\n",
            "625/625 [==============================] - 29s 47ms/step - loss: 3.6949 - accuracy: 0.1400 - val_loss: 4.8980 - val_accuracy: 0.1251\n",
            "Epoch 19/100\n",
            "625/625 [==============================] - 29s 46ms/step - loss: 3.6068 - accuracy: 0.1498 - val_loss: 5.4518 - val_accuracy: 0.0575\n",
            "Epoch 20/100\n",
            "625/625 [==============================] - 29s 46ms/step - loss: 3.5599 - accuracy: 0.1520 - val_loss: 5.4645 - val_accuracy: 0.1632\n",
            "Epoch 21/100\n",
            "625/625 [==============================] - 29s 46ms/step - loss: 3.5630 - accuracy: 0.1509 - val_loss: 3.8502 - val_accuracy: 0.1484\n",
            "Epoch 22/100\n",
            "625/625 [==============================] - 29s 47ms/step - loss: 3.9935 - accuracy: 0.0905 - val_loss: 4.7826 - val_accuracy: 0.0537\n",
            "Epoch 23/100\n",
            "625/625 [==============================] - 29s 47ms/step - loss: 3.8766 - accuracy: 0.1040 - val_loss: 4.2346 - val_accuracy: 0.1333\n",
            "Epoch 24/100\n",
            "625/625 [==============================] - 29s 47ms/step - loss: 3.6811 - accuracy: 0.1337 - val_loss: 3.8431 - val_accuracy: 0.1492\n",
            "Epoch 25/100\n",
            "625/625 [==============================] - 29s 46ms/step - loss: 3.5923 - accuracy: 0.1480 - val_loss: 22.4295 - val_accuracy: 0.0458\n",
            "Epoch 26/100\n",
            "625/625 [==============================] - 29s 46ms/step - loss: 3.5562 - accuracy: 0.1550 - val_loss: 3.6225 - val_accuracy: 0.1466\n",
            "Epoch 27/100\n",
            "625/625 [==============================] - 29s 46ms/step - loss: 3.6107 - accuracy: 0.1456 - val_loss: 4.1124 - val_accuracy: 0.1581\n",
            "Epoch 28/100\n",
            "625/625 [==============================] - 29s 46ms/step - loss: 3.5375 - accuracy: 0.1560 - val_loss: 4.5715 - val_accuracy: 0.0536\n",
            "Epoch 29/100\n",
            "625/625 [==============================] - 29s 47ms/step - loss: 3.5086 - accuracy: 0.1634 - val_loss: 4.9961 - val_accuracy: 0.0370\n",
            "Epoch 30/100\n",
            "625/625 [==============================] - 29s 46ms/step - loss: 3.4453 - accuracy: 0.1740 - val_loss: 3.8619 - val_accuracy: 0.1757\n",
            "Epoch 31/100\n",
            "625/625 [==============================] - 29s 46ms/step - loss: 3.3620 - accuracy: 0.1831 - val_loss: 3.9236 - val_accuracy: 0.1641\n",
            "Epoch 32/100\n",
            "625/625 [==============================] - 29s 47ms/step - loss: 3.2996 - accuracy: 0.1952 - val_loss: 4.0543 - val_accuracy: 0.2004\n",
            "Epoch 33/100\n",
            "625/625 [==============================] - 29s 47ms/step - loss: 3.6802 - accuracy: 0.1398 - val_loss: 5.2867 - val_accuracy: 0.0520\n",
            "Epoch 34/100\n",
            "625/625 [==============================] - 29s 47ms/step - loss: 3.7484 - accuracy: 0.1246 - val_loss: 3.8018 - val_accuracy: 0.1331\n",
            "Epoch 35/100\n",
            "625/625 [==============================] - 29s 46ms/step - loss: 3.4917 - accuracy: 0.1654 - val_loss: 3.5693 - val_accuracy: 0.1680\n",
            "Epoch 36/100\n",
            "625/625 [==============================] - 29s 47ms/step - loss: 3.4231 - accuracy: 0.1771 - val_loss: 3.6244 - val_accuracy: 0.1764\n",
            "Epoch 37/100\n",
            "625/625 [==============================] - 29s 47ms/step - loss: 3.3231 - accuracy: 0.1919 - val_loss: 3.5104 - val_accuracy: 0.1894\n",
            "Epoch 38/100\n",
            "625/625 [==============================] - 29s 46ms/step - loss: 3.2916 - accuracy: 0.1997 - val_loss: 3.3654 - val_accuracy: 0.2023\n",
            "Epoch 39/100\n",
            "625/625 [==============================] - 29s 46ms/step - loss: 3.2329 - accuracy: 0.2087 - val_loss: 3.6175 - val_accuracy: 0.1651\n",
            "Epoch 40/100\n",
            "625/625 [==============================] - 29s 47ms/step - loss: 3.1969 - accuracy: 0.2163 - val_loss: 4.0227 - val_accuracy: 0.2033\n",
            "Epoch 41/100\n",
            "625/625 [==============================] - 29s 47ms/step - loss: 3.1726 - accuracy: 0.2195 - val_loss: 3.6902 - val_accuracy: 0.1666\n",
            "Epoch 42/100\n",
            "625/625 [==============================] - 29s 46ms/step - loss: 3.2266 - accuracy: 0.2141 - val_loss: 3.3181 - val_accuracy: 0.2176\n",
            "Epoch 43/100\n",
            "625/625 [==============================] - 29s 46ms/step - loss: 3.1575 - accuracy: 0.2278 - val_loss: 3.5011 - val_accuracy: 0.2241\n",
            "Epoch 44/100\n",
            "625/625 [==============================] - 29s 47ms/step - loss: 3.1150 - accuracy: 0.2355 - val_loss: 4.3125 - val_accuracy: 0.2239\n",
            "Epoch 45/100\n",
            "625/625 [==============================] - 29s 47ms/step - loss: 3.0433 - accuracy: 0.2448 - val_loss: 3.9156 - val_accuracy: 0.2335\n",
            "Epoch 46/100\n",
            "625/625 [==============================] - 29s 46ms/step - loss: 3.0748 - accuracy: 0.2383 - val_loss: 7.2228 - val_accuracy: 0.2225\n",
            "Epoch 47/100\n",
            "625/625 [==============================] - 29s 47ms/step - loss: 3.0303 - accuracy: 0.2490 - val_loss: 3.7239 - val_accuracy: 0.1405\n",
            "Epoch 48/100\n",
            "625/625 [==============================] - 29s 47ms/step - loss: 3.0902 - accuracy: 0.2385 - val_loss: 5.2085 - val_accuracy: 0.2169\n",
            "Epoch 49/100\n",
            "625/625 [==============================] - 29s 46ms/step - loss: 3.0295 - accuracy: 0.2484 - val_loss: 6.3922 - val_accuracy: 0.2297\n",
            "Epoch 50/100\n",
            "625/625 [==============================] - 29s 46ms/step - loss: 2.9472 - accuracy: 0.2625 - val_loss: 6.2056 - val_accuracy: 0.2467\n",
            "Epoch 51/100\n",
            "625/625 [==============================] - 29s 47ms/step - loss: 2.8654 - accuracy: 0.2774 - val_loss: 6.3228 - val_accuracy: 0.2509\n",
            "Epoch 52/100\n",
            "625/625 [==============================] - 29s 47ms/step - loss: 2.8670 - accuracy: 0.2786 - val_loss: 9.1738 - val_accuracy: 0.1235\n",
            "Epoch 53/100\n",
            "625/625 [==============================] - 29s 46ms/step - loss: 2.9837 - accuracy: 0.2594 - val_loss: 5.8692 - val_accuracy: 0.2396\n",
            "Epoch 54/100\n",
            "625/625 [==============================] - 29s 46ms/step - loss: 2.8439 - accuracy: 0.2798 - val_loss: 4.3457 - val_accuracy: 0.2512\n",
            "Epoch 55/100\n",
            "625/625 [==============================] - 29s 47ms/step - loss: 2.7954 - accuracy: 0.2909 - val_loss: 9.0141 - val_accuracy: 0.2533\n",
            "Epoch 56/100\n",
            "625/625 [==============================] - 29s 47ms/step - loss: 2.8065 - accuracy: 0.2870 - val_loss: 6.8920 - val_accuracy: 0.2542\n",
            "Epoch 57/100\n",
            "625/625 [==============================] - 30s 47ms/step - loss: 2.7133 - accuracy: 0.3082 - val_loss: 11.5108 - val_accuracy: 0.2267\n",
            "Epoch 58/100\n",
            "625/625 [==============================] - 29s 47ms/step - loss: 2.6533 - accuracy: 0.3190 - val_loss: 15.5552 - val_accuracy: 0.2591\n",
            "Epoch 59/100\n",
            "625/625 [==============================] - 30s 48ms/step - loss: 2.6956 - accuracy: 0.3094 - val_loss: 11.0682 - val_accuracy: 0.2478\n",
            "Epoch 60/100\n",
            "625/625 [==============================] - 30s 48ms/step - loss: 2.6583 - accuracy: 0.3138 - val_loss: 22.9400 - val_accuracy: 0.2535\n",
            "Epoch 61/100\n",
            "625/625 [==============================] - 29s 47ms/step - loss: 2.5682 - accuracy: 0.3329 - val_loss: 39.1419 - val_accuracy: 0.2541\n",
            "Epoch 62/100\n",
            "625/625 [==============================] - 30s 47ms/step - loss: 2.5167 - accuracy: 0.3424 - val_loss: 18.4104 - val_accuracy: 0.2607\n",
            "Epoch 63/100\n",
            "625/625 [==============================] - 30s 47ms/step - loss: 2.4586 - accuracy: 0.3580 - val_loss: 31.0855 - val_accuracy: 0.2690\n",
            "Epoch 64/100\n",
            "625/625 [==============================] - 29s 47ms/step - loss: 2.6153 - accuracy: 0.3243 - val_loss: 20.5899 - val_accuracy: 0.2051\n",
            "Epoch 65/100\n",
            "625/625 [==============================] - 29s 47ms/step - loss: 2.4984 - accuracy: 0.3472 - val_loss: 120.2416 - val_accuracy: 0.2349\n",
            "Epoch 66/100\n",
            "625/625 [==============================] - 30s 47ms/step - loss: 2.4057 - accuracy: 0.3654 - val_loss: 23.0105 - val_accuracy: 0.2638\n",
            "Epoch 67/100\n",
            "625/625 [==============================] - 29s 47ms/step - loss: 2.3345 - accuracy: 0.3817 - val_loss: 28.8752 - val_accuracy: 0.2621\n",
            "Epoch 68/100\n",
            "625/625 [==============================] - 29s 47ms/step - loss: 2.3706 - accuracy: 0.3728 - val_loss: 31.8546 - val_accuracy: 0.2642\n",
            "Epoch 69/100\n",
            "625/625 [==============================] - 29s 47ms/step - loss: 2.2922 - accuracy: 0.3889 - val_loss: 18.1926 - val_accuracy: 0.2665\n",
            "Epoch 70/100\n",
            "625/625 [==============================] - 30s 47ms/step - loss: 2.2162 - accuracy: 0.4043 - val_loss: 58.1904 - val_accuracy: 0.2587\n",
            "Epoch 71/100\n",
            "625/625 [==============================] - 29s 47ms/step - loss: 2.1350 - accuracy: 0.4223 - val_loss: 23.4514 - val_accuracy: 0.2654\n",
            "Epoch 72/100\n",
            "625/625 [==============================] - 29s 47ms/step - loss: 2.1903 - accuracy: 0.4118 - val_loss: 5.8990 - val_accuracy: 0.2289\n",
            "Epoch 73/100\n",
            "625/625 [==============================] - 29s 47ms/step - loss: 2.2307 - accuracy: 0.4025 - val_loss: 6.8499 - val_accuracy: 0.2618\n",
            "Epoch 74/100\n",
            "625/625 [==============================] - 30s 47ms/step - loss: 2.0977 - accuracy: 0.4307 - val_loss: 8.7648 - val_accuracy: 0.2645\n",
            "Epoch 75/100\n",
            "625/625 [==============================] - 29s 47ms/step - loss: 2.0076 - accuracy: 0.4502 - val_loss: 15.4372 - val_accuracy: 0.2680\n",
            "Epoch 76/100\n",
            "625/625 [==============================] - 29s 47ms/step - loss: 1.9346 - accuracy: 0.4646 - val_loss: 17.9655 - val_accuracy: 0.2606\n",
            "Epoch 77/100\n",
            "625/625 [==============================] - 30s 47ms/step - loss: 1.8616 - accuracy: 0.4830 - val_loss: 20.0282 - val_accuracy: 0.2740\n",
            "Epoch 78/100\n",
            "625/625 [==============================] - 29s 47ms/step - loss: 2.1085 - accuracy: 0.4384 - val_loss: 9.9177 - val_accuracy: 0.2275\n",
            "Epoch 79/100\n",
            "625/625 [==============================] - 29s 47ms/step - loss: 2.5371 - accuracy: 0.3472 - val_loss: 12.2848 - val_accuracy: 0.2259\n",
            "Epoch 80/100\n",
            "625/625 [==============================] - 29s 47ms/step - loss: 2.4245 - accuracy: 0.3676 - val_loss: 10.2931 - val_accuracy: 0.2430\n",
            "Epoch 81/100\n",
            "625/625 [==============================] - 30s 47ms/step - loss: 2.2571 - accuracy: 0.3997 - val_loss: 10.7595 - val_accuracy: 0.2405\n",
            "Epoch 82/100\n",
            "625/625 [==============================] - 29s 47ms/step - loss: 2.1676 - accuracy: 0.4173 - val_loss: 4.2161 - val_accuracy: 0.2336\n",
            "Epoch 83/100\n",
            "625/625 [==============================] - 29s 47ms/step - loss: 2.1964 - accuracy: 0.4136 - val_loss: 13.1648 - val_accuracy: 0.2396\n",
            "Epoch 84/100\n",
            "625/625 [==============================] - 29s 47ms/step - loss: 2.0192 - accuracy: 0.4525 - val_loss: 22.7034 - val_accuracy: 0.2467\n",
            "Epoch 85/100\n",
            "625/625 [==============================] - 30s 47ms/step - loss: 2.0373 - accuracy: 0.4444 - val_loss: 6.1029 - val_accuracy: 0.2437\n",
            "Epoch 86/100\n",
            "625/625 [==============================] - 29s 47ms/step - loss: 1.9259 - accuracy: 0.4705 - val_loss: 9.8410 - val_accuracy: 0.2466\n",
            "Epoch 87/100\n",
            "625/625 [==============================] - 30s 47ms/step - loss: 1.8595 - accuracy: 0.4882 - val_loss: 11.5963 - val_accuracy: 0.2492\n",
            "Epoch 88/100\n",
            "625/625 [==============================] - 29s 47ms/step - loss: 1.8828 - accuracy: 0.4861 - val_loss: 53.7205 - val_accuracy: 0.1543\n",
            "Epoch 89/100\n",
            "625/625 [==============================] - 30s 47ms/step - loss: 1.8398 - accuracy: 0.4907 - val_loss: 6.8025 - val_accuracy: 0.2575\n",
            "Epoch 90/100\n",
            "625/625 [==============================] - 29s 47ms/step - loss: 1.6699 - accuracy: 0.5304 - val_loss: 9.1974 - val_accuracy: 0.2579\n",
            "Epoch 91/100\n",
            "625/625 [==============================] - 29s 47ms/step - loss: 1.7108 - accuracy: 0.5222 - val_loss: 84.6777 - val_accuracy: 0.2271\n",
            "Epoch 92/100\n",
            "625/625 [==============================] - 30s 47ms/step - loss: 1.6372 - accuracy: 0.5383 - val_loss: 12.4104 - val_accuracy: 0.2478\n",
            "Epoch 93/100\n",
            "625/625 [==============================] - 29s 47ms/step - loss: 1.5342 - accuracy: 0.5651 - val_loss: 10.3130 - val_accuracy: 0.2569\n",
            "Epoch 94/100\n",
            "625/625 [==============================] - 29s 47ms/step - loss: 1.5220 - accuracy: 0.5666 - val_loss: 20.2884 - val_accuracy: 0.2499\n",
            "Epoch 95/100\n",
            "625/625 [==============================] - 29s 47ms/step - loss: 1.7487 - accuracy: 0.5210 - val_loss: 126.2520 - val_accuracy: 0.2498\n",
            "Epoch 96/100\n",
            "625/625 [==============================] - 30s 47ms/step - loss: 1.4990 - accuracy: 0.5781 - val_loss: 69.7664 - val_accuracy: 0.2524\n",
            "Epoch 97/100\n",
            "625/625 [==============================] - 29s 47ms/step - loss: 1.3983 - accuracy: 0.6008 - val_loss: 60.8227 - val_accuracy: 0.2587\n",
            "Epoch 98/100\n",
            "625/625 [==============================] - 29s 47ms/step - loss: 1.3763 - accuracy: 0.6033 - val_loss: 53.1659 - val_accuracy: 0.2516\n",
            "Epoch 99/100\n",
            "625/625 [==============================] - 30s 47ms/step - loss: 1.3209 - accuracy: 0.6220 - val_loss: 60.9324 - val_accuracy: 0.2528\n",
            "Epoch 100/100\n",
            "625/625 [==============================] - 29s 47ms/step - loss: 1.2724 - accuracy: 0.6316 - val_loss: 57.1306 - val_accuracy: 0.2554\n"
          ]
        },
        {
          "output_type": "execute_result",
          "data": {
            "text/plain": [
              "<keras.callbacks.History at 0x7fbfe782f510>"
            ]
          },
          "metadata": {},
          "execution_count": 69
        }
      ]
    },
    {
      "cell_type": "code",
      "source": [
        "preds = model.evaluate(test_images, test_labels_encoded)\n",
        "print (\"Loss = \" + str(preds[0]))\n",
        "print (\"Test Accuracy = \" + str(preds[1]))"
      ],
      "metadata": {
        "colab": {
          "base_uri": "https://localhost:8080/"
        },
        "id": "lVP9e9YOBoVQ",
        "outputId": "53f4ac7e-da50-4378-8eb7-b1bf4c1de950"
      },
      "execution_count": null,
      "outputs": [
        {
          "output_type": "stream",
          "name": "stdout",
          "text": [
            "313/313 [==============================] - 5s 15ms/step - loss: 43.2228 - accuracy: 0.2587\n",
            "Loss = 43.22275161743164\n",
            "Test Accuracy = 0.25870001316070557\n"
          ]
        }
      ]
    },
    {
      "cell_type": "code",
      "source": [],
      "metadata": {
        "id": "gj24Z8DNBouh"
      },
      "execution_count": null,
      "outputs": []
    },
    {
      "cell_type": "code",
      "source": [],
      "metadata": {
        "id": "f4R_8juIBpI1"
      },
      "execution_count": null,
      "outputs": []
    }
  ]
}