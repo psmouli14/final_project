{
  "nbformat": 4,
  "nbformat_minor": 0,
  "metadata": {
    "colab": {
      "provenance": [],
      "collapsed_sections": [],
      "machine_shape": "hm",
      "authorship_tag": "ABX9TyNbM2izfuwV1XGEsOiCKT9Z",
      "include_colab_link": true
    },
    "kernelspec": {
      "name": "python3",
      "display_name": "Python 3"
    },
    "language_info": {
      "name": "python"
    },
    "gpuClass": "standard",
    "accelerator": "GPU"
  },
  "cells": [
    {
      "cell_type": "markdown",
      "metadata": {
        "id": "view-in-github",
        "colab_type": "text"
      },
      "source": [
        "<a href=\"https://colab.research.google.com/github/psmouli14/final_project/blob/main/Cifar_prototype_reptile.ipynb\" target=\"_parent\"><img src=\"https://colab.research.google.com/assets/colab-badge.svg\" alt=\"Open In Colab\"/></a>"
      ]
    },
    {
      "cell_type": "code",
      "execution_count": null,
      "metadata": {
        "id": "DOlu814zHVl8"
      },
      "outputs": [],
      "source": [
        "import os\n",
        "import glob\n",
        "from PIL import Image\n",
        "import pandas as pd\n",
        "import numpy as np\n",
        "import tensorflow as tf"
      ]
    },
    {
      "cell_type": "code",
      "source": [
        "from google.colab import files\n",
        "uploaded = files.upload()"
      ],
      "metadata": {
        "colab": {
          "resources": {
            "http://localhost:8080/nbextensions/google.colab/files.js": {
              "data": "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",
              "ok": true,
              "headers": [
                [
                  "content-type",
                  "application/javascript"
                ]
              ],
              "status": 200,
              "status_text": ""
            }
          },
          "base_uri": "https://localhost:8080/",
          "height": 74
        },
        "id": "lqjRUIPrI9dN",
        "outputId": "3bbd4bcb-c419-4a1b-c732-71cb2e6f27f8"
      },
      "execution_count": null,
      "outputs": [
        {
          "output_type": "display_data",
          "data": {
            "text/plain": [
              "<IPython.core.display.HTML object>"
            ],
            "text/html": [
              "\n",
              "     <input type=\"file\" id=\"files-87a1ab32-5f03-4db1-9038-9a4f525c1f4c\" name=\"files[]\" multiple disabled\n",
              "        style=\"border:none\" />\n",
              "     <output id=\"result-87a1ab32-5f03-4db1-9038-9a4f525c1f4c\">\n",
              "      Upload widget is only available when the cell has been executed in the\n",
              "      current browser session. Please rerun this cell to enable.\n",
              "      </output>\n",
              "      <script src=\"/nbextensions/google.colab/files.js\"></script> "
            ]
          },
          "metadata": {}
        },
        {
          "output_type": "stream",
          "name": "stdout",
          "text": [
            "Saving cifar-100-python.tar.gz to cifar-100-python.tar.gz\n"
          ]
        }
      ]
    },
    {
      "cell_type": "code",
      "source": [
        "!tar -zxvf cifar-100-python.tar.gz"
      ],
      "metadata": {
        "colab": {
          "base_uri": "https://localhost:8080/"
        },
        "id": "w5xXwzyFJAv8",
        "outputId": "2e1f8c44-e688-4a6c-c746-fc2414898c13"
      },
      "execution_count": null,
      "outputs": [
        {
          "output_type": "stream",
          "name": "stdout",
          "text": [
            "cifar-100-python/\n",
            "cifar-100-python/file.txt~\n",
            "cifar-100-python/train\n",
            "cifar-100-python/test\n",
            "cifar-100-python/meta\n"
          ]
        }
      ]
    },
    {
      "cell_type": "code",
      "source": [
        "def unpickle(file):\n",
        "    import pickle\n",
        "    with open(file, 'rb') as fo:\n",
        "        cifar_dict = pickle.load(fo, encoding='bytes')\n",
        "    return cifar_dict"
      ],
      "metadata": {
        "id": "JDFUbAHEZ-An"
      },
      "execution_count": null,
      "outputs": []
    },
    {
      "cell_type": "code",
      "source": [
        "meta = unpickle('cifar-100-python/meta')\n",
        "train = unpickle('cifar-100-python/train')\n",
        "test = unpickle('cifar-100-python/test')"
      ],
      "metadata": {
        "id": "5-Y9nNg_auc4"
      },
      "execution_count": null,
      "outputs": []
    },
    {
      "cell_type": "code",
      "source": [
        "meta_keys = list(meta.keys())\n",
        "meta_keys"
      ],
      "metadata": {
        "colab": {
          "base_uri": "https://localhost:8080/"
        },
        "id": "cz-Qix47bL0A",
        "outputId": "e2e96762-c877-4c39-a32f-6ca993da0fd5"
      },
      "execution_count": null,
      "outputs": [
        {
          "output_type": "execute_result",
          "data": {
            "text/plain": [
              "[b'fine_label_names', b'coarse_label_names']"
            ]
          },
          "metadata": {},
          "execution_count": 6
        }
      ]
    },
    {
      "cell_type": "code",
      "source": [
        "Classes = pd.DataFrame(meta[b'fine_label_names'],columns = ['Classes'])"
      ],
      "metadata": {
        "id": "tqkGn9fvbeoG"
      },
      "execution_count": null,
      "outputs": []
    },
    {
      "cell_type": "code",
      "source": [
        "len(Classes)"
      ],
      "metadata": {
        "colab": {
          "base_uri": "https://localhost:8080/"
        },
        "id": "Cdm6adGobhyu",
        "outputId": "daec1200-8d5b-4e1d-c65b-e7755145a840"
      },
      "execution_count": null,
      "outputs": [
        {
          "output_type": "execute_result",
          "data": {
            "text/plain": [
              "100"
            ]
          },
          "metadata": {},
          "execution_count": 8
        }
      ]
    },
    {
      "cell_type": "code",
      "source": [
        "Classes"
      ],
      "metadata": {
        "colab": {
          "base_uri": "https://localhost:8080/",
          "height": 424
        },
        "id": "4bhIEoridNWa",
        "outputId": "fa3c7c46-7d2a-437a-b81d-a539de0f2385"
      },
      "execution_count": null,
      "outputs": [
        {
          "output_type": "execute_result",
          "data": {
            "text/plain": [
              "             Classes\n",
              "0           b'apple'\n",
              "1   b'aquarium_fish'\n",
              "2            b'baby'\n",
              "3            b'bear'\n",
              "4          b'beaver'\n",
              "..               ...\n",
              "95          b'whale'\n",
              "96    b'willow_tree'\n",
              "97           b'wolf'\n",
              "98          b'woman'\n",
              "99           b'worm'\n",
              "\n",
              "[100 rows x 1 columns]"
            ],
            "text/html": [
              "\n",
              "  <div id=\"df-49376f13-4d2a-48b6-80e2-9c74dcf1b9b8\">\n",
              "    <div class=\"colab-df-container\">\n",
              "      <div>\n",
              "<style scoped>\n",
              "    .dataframe tbody tr th:only-of-type {\n",
              "        vertical-align: middle;\n",
              "    }\n",
              "\n",
              "    .dataframe tbody tr th {\n",
              "        vertical-align: top;\n",
              "    }\n",
              "\n",
              "    .dataframe thead th {\n",
              "        text-align: right;\n",
              "    }\n",
              "</style>\n",
              "<table border=\"1\" class=\"dataframe\">\n",
              "  <thead>\n",
              "    <tr style=\"text-align: right;\">\n",
              "      <th></th>\n",
              "      <th>Classes</th>\n",
              "    </tr>\n",
              "  </thead>\n",
              "  <tbody>\n",
              "    <tr>\n",
              "      <th>0</th>\n",
              "      <td>b'apple'</td>\n",
              "    </tr>\n",
              "    <tr>\n",
              "      <th>1</th>\n",
              "      <td>b'aquarium_fish'</td>\n",
              "    </tr>\n",
              "    <tr>\n",
              "      <th>2</th>\n",
              "      <td>b'baby'</td>\n",
              "    </tr>\n",
              "    <tr>\n",
              "      <th>3</th>\n",
              "      <td>b'bear'</td>\n",
              "    </tr>\n",
              "    <tr>\n",
              "      <th>4</th>\n",
              "      <td>b'beaver'</td>\n",
              "    </tr>\n",
              "    <tr>\n",
              "      <th>...</th>\n",
              "      <td>...</td>\n",
              "    </tr>\n",
              "    <tr>\n",
              "      <th>95</th>\n",
              "      <td>b'whale'</td>\n",
              "    </tr>\n",
              "    <tr>\n",
              "      <th>96</th>\n",
              "      <td>b'willow_tree'</td>\n",
              "    </tr>\n",
              "    <tr>\n",
              "      <th>97</th>\n",
              "      <td>b'wolf'</td>\n",
              "    </tr>\n",
              "    <tr>\n",
              "      <th>98</th>\n",
              "      <td>b'woman'</td>\n",
              "    </tr>\n",
              "    <tr>\n",
              "      <th>99</th>\n",
              "      <td>b'worm'</td>\n",
              "    </tr>\n",
              "  </tbody>\n",
              "</table>\n",
              "<p>100 rows × 1 columns</p>\n",
              "</div>\n",
              "      <button class=\"colab-df-convert\" onclick=\"convertToInteractive('df-49376f13-4d2a-48b6-80e2-9c74dcf1b9b8')\"\n",
              "              title=\"Convert this dataframe to an interactive table.\"\n",
              "              style=\"display:none;\">\n",
              "        \n",
              "  <svg xmlns=\"http://www.w3.org/2000/svg\" height=\"24px\"viewBox=\"0 0 24 24\"\n",
              "       width=\"24px\">\n",
              "    <path d=\"M0 0h24v24H0V0z\" fill=\"none\"/>\n",
              "    <path d=\"M18.56 5.44l.94 2.06.94-2.06 2.06-.94-2.06-.94-.94-2.06-.94 2.06-2.06.94zm-11 1L8.5 8.5l.94-2.06 2.06-.94-2.06-.94L8.5 2.5l-.94 2.06-2.06.94zm10 10l.94 2.06.94-2.06 2.06-.94-2.06-.94-.94-2.06-.94 2.06-2.06.94z\"/><path d=\"M17.41 7.96l-1.37-1.37c-.4-.4-.92-.59-1.43-.59-.52 0-1.04.2-1.43.59L10.3 9.45l-7.72 7.72c-.78.78-.78 2.05 0 2.83L4 21.41c.39.39.9.59 1.41.59.51 0 1.02-.2 1.41-.59l7.78-7.78 2.81-2.81c.8-.78.8-2.07 0-2.86zM5.41 20L4 18.59l7.72-7.72 1.47 1.35L5.41 20z\"/>\n",
              "  </svg>\n",
              "      </button>\n",
              "      \n",
              "  <style>\n",
              "    .colab-df-container {\n",
              "      display:flex;\n",
              "      flex-wrap:wrap;\n",
              "      gap: 12px;\n",
              "    }\n",
              "\n",
              "    .colab-df-convert {\n",
              "      background-color: #E8F0FE;\n",
              "      border: none;\n",
              "      border-radius: 50%;\n",
              "      cursor: pointer;\n",
              "      display: none;\n",
              "      fill: #1967D2;\n",
              "      height: 32px;\n",
              "      padding: 0 0 0 0;\n",
              "      width: 32px;\n",
              "    }\n",
              "\n",
              "    .colab-df-convert:hover {\n",
              "      background-color: #E2EBFA;\n",
              "      box-shadow: 0px 1px 2px rgba(60, 64, 67, 0.3), 0px 1px 3px 1px rgba(60, 64, 67, 0.15);\n",
              "      fill: #174EA6;\n",
              "    }\n",
              "\n",
              "    [theme=dark] .colab-df-convert {\n",
              "      background-color: #3B4455;\n",
              "      fill: #D2E3FC;\n",
              "    }\n",
              "\n",
              "    [theme=dark] .colab-df-convert:hover {\n",
              "      background-color: #434B5C;\n",
              "      box-shadow: 0px 1px 3px 1px rgba(0, 0, 0, 0.15);\n",
              "      filter: drop-shadow(0px 1px 2px rgba(0, 0, 0, 0.3));\n",
              "      fill: #FFFFFF;\n",
              "    }\n",
              "  </style>\n",
              "\n",
              "      <script>\n",
              "        const buttonEl =\n",
              "          document.querySelector('#df-49376f13-4d2a-48b6-80e2-9c74dcf1b9b8 button.colab-df-convert');\n",
              "        buttonEl.style.display =\n",
              "          google.colab.kernel.accessAllowed ? 'block' : 'none';\n",
              "\n",
              "        async function convertToInteractive(key) {\n",
              "          const element = document.querySelector('#df-49376f13-4d2a-48b6-80e2-9c74dcf1b9b8');\n",
              "          const dataTable =\n",
              "            await google.colab.kernel.invokeFunction('convertToInteractive',\n",
              "                                                     [key], {});\n",
              "          if (!dataTable) return;\n",
              "\n",
              "          const docLinkHtml = 'Like what you see? Visit the ' +\n",
              "            '<a target=\"_blank\" href=https://colab.research.google.com/notebooks/data_table.ipynb>data table notebook</a>'\n",
              "            + ' to learn more about interactive tables.';\n",
              "          element.innerHTML = '';\n",
              "          dataTable['output_type'] = 'display_data';\n",
              "          await google.colab.output.renderOutput(dataTable, element);\n",
              "          const docLink = document.createElement('div');\n",
              "          docLink.innerHTML = docLinkHtml;\n",
              "          element.appendChild(docLink);\n",
              "        }\n",
              "      </script>\n",
              "    </div>\n",
              "  </div>\n",
              "  "
            ]
          },
          "metadata": {},
          "execution_count": 9
        }
      ]
    },
    {
      "cell_type": "code",
      "source": [
        "training_keys = list(train.keys())\n",
        "training_keys"
      ],
      "metadata": {
        "colab": {
          "base_uri": "https://localhost:8080/"
        },
        "id": "jJv2yegldRZK",
        "outputId": "c45a314d-9c73-45fc-def9-6d7a8febd23f"
      },
      "execution_count": null,
      "outputs": [
        {
          "output_type": "execute_result",
          "data": {
            "text/plain": [
              "[b'filenames', b'batch_label', b'fine_labels', b'coarse_labels', b'data']"
            ]
          },
          "metadata": {},
          "execution_count": 10
        }
      ]
    },
    {
      "cell_type": "code",
      "source": [
        "test_keys = list(test.keys())\n",
        "test_keys"
      ],
      "metadata": {
        "colab": {
          "base_uri": "https://localhost:8080/"
        },
        "id": "0Unfmv4Udsqf",
        "outputId": "99bb2ce6-f0e7-4678-e8e3-a799e82c581f"
      },
      "execution_count": null,
      "outputs": [
        {
          "output_type": "execute_result",
          "data": {
            "text/plain": [
              "[b'filenames', b'batch_label', b'fine_labels', b'coarse_labels', b'data']"
            ]
          },
          "metadata": {},
          "execution_count": 11
        }
      ]
    },
    {
      "cell_type": "code",
      "source": [
        "train_images = train[b'data']\n",
        "test_images = test[b'data']\n",
        "train_images.shape\n"
      ],
      "metadata": {
        "colab": {
          "base_uri": "https://localhost:8080/"
        },
        "id": "Jqr9ImIJebNg",
        "outputId": "4113ed4a-7455-4364-963d-bdcbd0461d06"
      },
      "execution_count": null,
      "outputs": [
        {
          "output_type": "execute_result",
          "data": {
            "text/plain": [
              "(50000, 3072)"
            ]
          },
          "metadata": {},
          "execution_count": 12
        }
      ]
    },
    {
      "cell_type": "code",
      "source": [
        "test_images.shape"
      ],
      "metadata": {
        "colab": {
          "base_uri": "https://localhost:8080/"
        },
        "id": "rKpQCyfyfakr",
        "outputId": "d4832372-b473-47f6-b753-f23ca0ae6c04"
      },
      "execution_count": null,
      "outputs": [
        {
          "output_type": "execute_result",
          "data": {
            "text/plain": [
              "(10000, 3072)"
            ]
          },
          "metadata": {},
          "execution_count": 13
        }
      ]
    },
    {
      "cell_type": "code",
      "source": [
        "img_num = np.random.randint(0,1000)\n",
        "print(img_num)\n",
        "Classes.iloc[train[b'fine_labels'][0]]"
      ],
      "metadata": {
        "colab": {
          "base_uri": "https://localhost:8080/"
        },
        "id": "pfLZu6dlfj4a",
        "outputId": "e5b6d013-a291-4f39-8f8d-3716e6eed54b"
      },
      "execution_count": null,
      "outputs": [
        {
          "output_type": "stream",
          "name": "stdout",
          "text": [
            "927\n"
          ]
        },
        {
          "output_type": "execute_result",
          "data": {
            "text/plain": [
              "Classes    b'cattle'\n",
              "Name: 19, dtype: object"
            ]
          },
          "metadata": {},
          "execution_count": 14
        }
      ]
    },
    {
      "cell_type": "code",
      "source": [
        "import matplotlib.pyplot as plt\n",
        "%matplotlib inline\n",
        "train_images = train_images.reshape(50000, 3, 32, 32).transpose(0,2,3,1).astype(\"uint8\")\n",
        "train_images = tf.cast(train_images, tf.float32)\n",
        "train_images.shape\n",
        "train_images = train_images/255\n",
        "train_images[0]"
      ],
      "metadata": {
        "colab": {
          "base_uri": "https://localhost:8080/"
        },
        "id": "2rqJ-jGugc8H",
        "outputId": "21047f6e-ce4b-49b3-e449-40ed109c6d0a"
      },
      "execution_count": null,
      "outputs": [
        {
          "output_type": "execute_result",
          "data": {
            "text/plain": [
              "<tf.Tensor: shape=(32, 32, 3), dtype=float32, numpy=\n",
              "array([[[1.        , 1.        , 1.        ],\n",
              "        [1.        , 1.        , 1.        ],\n",
              "        [1.        , 1.        , 1.        ],\n",
              "        ...,\n",
              "        [0.7647059 , 0.8039216 , 0.75686276],\n",
              "        [0.83137256, 0.8784314 , 0.8       ],\n",
              "        [0.7137255 , 0.7607843 , 0.654902  ]],\n",
              "\n",
              "       [[1.        , 1.        , 1.        ],\n",
              "        [0.99607843, 0.99607843, 0.99607843],\n",
              "        [0.99607843, 0.99607843, 0.99607843],\n",
              "        ...,\n",
              "        [0.6666667 , 0.6901961 , 0.5882353 ],\n",
              "        [0.6313726 , 0.65882355, 0.50980395],\n",
              "        [0.57254905, 0.6039216 , 0.44313726]],\n",
              "\n",
              "       [[1.        , 1.        , 1.        ],\n",
              "        [0.99607843, 0.99607843, 0.99607843],\n",
              "        [1.        , 1.        , 1.        ],\n",
              "        ...,\n",
              "        [0.7411765 , 0.78039217, 0.6627451 ],\n",
              "        [0.6509804 , 0.69803923, 0.50980395],\n",
              "        [0.4745098 , 0.52156866, 0.34117648]],\n",
              "\n",
              "       ...,\n",
              "\n",
              "       [[0.5803922 , 0.7254902 , 0.30980393],\n",
              "        [0.5568628 , 0.7137255 , 0.22352941],\n",
              "        [0.54901963, 0.7019608 , 0.23529412],\n",
              "        ...,\n",
              "        [0.11764706, 0.06666667, 0.00392157],\n",
              "        [0.25490198, 0.24313726, 0.05882353],\n",
              "        [0.29803923, 0.3019608 , 0.07843138]],\n",
              "\n",
              "       [[0.47843137, 0.6156863 , 0.25882354],\n",
              "        [0.47058824, 0.60784316, 0.22745098],\n",
              "        [0.49411765, 0.627451  , 0.2784314 ],\n",
              "        ...,\n",
              "        [0.08627451, 0.0627451 , 0.01176471],\n",
              "        [0.38039216, 0.4392157 , 0.21960784],\n",
              "        [0.5529412 , 0.6313726 , 0.34117648]],\n",
              "\n",
              "       [[0.34117648, 0.47843137, 0.16078432],\n",
              "        [0.34509805, 0.47843137, 0.15294118],\n",
              "        [0.39607844, 0.5254902 , 0.21960784],\n",
              "        ...,\n",
              "        [0.13333334, 0.14117648, 0.03921569],\n",
              "        [0.4117647 , 0.52156866, 0.23137255],\n",
              "        [0.5411765 , 0.6784314 , 0.30980393]]], dtype=float32)>"
            ]
          },
          "metadata": {},
          "execution_count": 15
        }
      ]
    },
    {
      "cell_type": "code",
      "source": [
        "plt.figure(figsize=(6,3))\n",
        "plt.xticks([])\n",
        "plt.yticks([])\n",
        "plt.imshow(train_images[4])"
      ],
      "metadata": {
        "colab": {
          "base_uri": "https://localhost:8080/",
          "height": 215
        },
        "id": "E3Akskpphg0m",
        "outputId": "799aae8d-0894-4618-fdb1-353a5f0ef42e"
      },
      "execution_count": null,
      "outputs": [
        {
          "output_type": "execute_result",
          "data": {
            "text/plain": [
              "<matplotlib.image.AxesImage at 0x7f97df2e1b90>"
            ]
          },
          "metadata": {},
          "execution_count": 16
        },
        {
          "output_type": "display_data",
          "data": {
            "text/plain": [
              "<Figure size 432x216 with 1 Axes>"
            ],
            "image/png": "[encoded data removed]"
          },
          "metadata": {}
        }
      ]
    },
    {
      "cell_type": "code",
      "source": [
        "print(train[b'fine_labels'][49000])"
      ],
      "metadata": {
        "colab": {
          "base_uri": "https://localhost:8080/"
        },
        "id": "Ws3NFlCzhq2i",
        "outputId": "11be378c-ce7a-46a4-97c7-32d8cc263a79"
      },
      "execution_count": null,
      "outputs": [
        {
          "output_type": "stream",
          "name": "stdout",
          "text": [
            "4\n"
          ]
        }
      ]
    },
    {
      "cell_type": "code",
      "source": [
        "num_images_row = 3\n",
        "num_images_column = 5\n",
        "img_nums = np.random.randint(0,len(train_images),num_images_row*num_images_column)\n",
        "\n",
        "f, axarr = plt.subplots(num_images_row,num_images_column)\n",
        "\n",
        "for i in range(0,num_images_row):\n",
        "    for j in range(0,num_images_column):\n",
        "        axarr[i,j].imshow(train_images[img_nums[(i*num_images_column)+j]])\n",
        "        axarr[i,j].set_title(str(Classes.iloc[train[b'fine_labels'][img_nums[(i+1)*(j+1)-1]]]).split()[1])\n",
        "        axarr[i,j].axis('off')"
      ],
      "metadata": {
        "colab": {
          "base_uri": "https://localhost:8080/",
          "height": 258
        },
        "id": "prq9On_ZjeD8",
        "outputId": "b427198c-a76c-4677-c0d0-cd2db275be35"
      },
      "execution_count": null,
      "outputs": [
        {
          "output_type": "display_data",
          "data": {
            "text/plain": [
              "<Figure size 432x288 with 15 Axes>"
            ],
            "image/png": "[encoded data removed]"
          },
          "metadata": {
            "needs_background": "light"
          }
        }
      ]
    },
    {
      "cell_type": "code",
      "source": [
        "test_images = test_images.reshape(10000, 3, 32, 32).transpose(0,2,3,1).astype(\"uint8\")\n",
        "test_images = tf.cast(test_images, tf.float32)\n",
        "test_images.shape\n",
        "test_images = test_images/255\n",
        "test_images[0]"
      ],
      "metadata": {
        "colab": {
          "base_uri": "https://localhost:8080/"
        },
        "id": "_3HxwYtkddDt",
        "outputId": "9e77a3d0-e4a9-47fb-adef-a2978feeccf4"
      },
      "execution_count": null,
      "outputs": [
        {
          "output_type": "execute_result",
          "data": {
            "text/plain": [
              "<tf.Tensor: shape=(32, 32, 3), dtype=float32, numpy=\n",
              "array([[[0.78039217, 0.84313726, 0.9764706 ],\n",
              "        [0.76862746, 0.827451  , 0.95686275],\n",
              "        [0.7647059 , 0.8235294 , 0.9529412 ],\n",
              "        ...,\n",
              "        [0.84705883, 0.90588236, 0.98039216],\n",
              "        [0.8509804 , 0.90588236, 0.98039216],\n",
              "        [0.8784314 , 0.91764706, 0.9882353 ]],\n",
              "\n",
              "       [[0.77254903, 0.8235294 , 0.9372549 ],\n",
              "        [0.7647059 , 0.8156863 , 0.93333334],\n",
              "        [0.7647059 , 0.8235294 , 0.9411765 ],\n",
              "        ...,\n",
              "        [0.90588236, 0.9529412 , 0.98039216],\n",
              "        [0.9137255 , 0.9529412 , 0.98039216],\n",
              "        [0.94509804, 0.9607843 , 0.99215686]],\n",
              "\n",
              "       [[0.87058824, 0.8862745 , 0.9647059 ],\n",
              "        [0.8352941 , 0.8627451 , 0.9490196 ],\n",
              "        [0.81960785, 0.85882354, 0.9529412 ],\n",
              "        ...,\n",
              "        [0.9529412 , 0.98039216, 0.9843137 ],\n",
              "        [0.95686275, 0.9764706 , 0.9843137 ],\n",
              "        [0.98039216, 0.98039216, 0.99215686]],\n",
              "\n",
              "       ...,\n",
              "\n",
              "       [[0.28235295, 0.28627452, 0.3882353 ],\n",
              "        [0.2784314 , 0.2901961 , 0.4       ],\n",
              "        [0.2901961 , 0.30588236, 0.42352942],\n",
              "        ...,\n",
              "        [0.8627451 , 0.8156863 , 0.8509804 ],\n",
              "        [0.7176471 , 0.65882355, 0.70980394],\n",
              "        [0.60784316, 0.5529412 , 0.5882353 ]],\n",
              "\n",
              "       [[0.28235295, 0.29411766, 0.40784314],\n",
              "        [0.29803923, 0.31764707, 0.43529412],\n",
              "        [0.32941177, 0.34901962, 0.47843137],\n",
              "        ...,\n",
              "        [0.87058824, 0.83137256, 0.8627451 ],\n",
              "        [0.73333335, 0.68235296, 0.7529412 ],\n",
              "        [0.5686275 , 0.5176471 , 0.58431375]],\n",
              "\n",
              "       [[0.3137255 , 0.33333334, 0.4627451 ],\n",
              "        [0.32941177, 0.3529412 , 0.48235294],\n",
              "        [0.33333334, 0.36078432, 0.49803922],\n",
              "        ...,\n",
              "        [0.8509804 , 0.8117647 , 0.84313726],\n",
              "        [0.8117647 , 0.7607843 , 0.827451  ],\n",
              "        [0.6901961 , 0.6431373 , 0.7176471 ]]], dtype=float32)>"
            ]
          },
          "metadata": {},
          "execution_count": 19
        }
      ]
    },
    {
      "cell_type": "code",
      "source": [
        "# Now we build the labels and images as lists\n",
        "train_labels = train[b'fine_labels']\n",
        "test_labels = test[b'fine_labels']"
      ],
      "metadata": {
        "id": "4AJPyU-MtAlV"
      },
      "execution_count": null,
      "outputs": []
    },
    {
      "cell_type": "code",
      "source": [
        "test_labels[0:100]"
      ],
      "metadata": {
        "id": "ABcxR9zcDnKh"
      },
      "execution_count": null,
      "outputs": []
    },
    {
      "cell_type": "code",
      "source": [
        "len(train_labels), len(test_labels)"
      ],
      "metadata": {
        "colab": {
          "base_uri": "https://localhost:8080/"
        },
        "id": "4uM_FiFNjVqw",
        "outputId": "3297ce52-422b-4f8d-d458-d18c76cf823d"
      },
      "execution_count": null,
      "outputs": [
        {
          "output_type": "execute_result",
          "data": {
            "text/plain": [
              "(50000, 10000)"
            ]
          },
          "metadata": {},
          "execution_count": 21
        }
      ]
    },
    {
      "cell_type": "code",
      "source": [
        "num_ways = [5, 5, 12, 12, 15]\n",
        "num_shots = [5, 1, 5, 1, 3]\n",
        "learning_rate = 0.001\n",
        "img_width = 32\n",
        "img_height = 32\n",
        "channels = 3\n",
        "learning_rate = 0.001\n",
        "num_classes = 100"
      ],
      "metadata": {
        "id": "W4Ypmp1-jb6m"
      },
      "execution_count": null,
      "outputs": []
    },
    {
      "cell_type": "code",
      "source": [
        "print(test_images.shape)\n",
        "print(train_images.shape)\n",
        "print(train_labels[0:80])\n"
      ],
      "metadata": {
        "colab": {
          "base_uri": "https://localhost:8080/"
        },
        "id": "iQ_Io6mQ2N2i",
        "outputId": "2c39e7b3-8574-468b-8e54-40aa8d5e0142"
      },
      "execution_count": null,
      "outputs": [
        {
          "output_type": "stream",
          "name": "stdout",
          "text": [
            "(10000, 32, 32, 3)\n",
            "(50000, 32, 32, 3)\n",
            "[19, 29, 0, 11, 1, 86, 90, 28, 23, 31, 39, 96, 82, 17, 71, 39, 8, 97, 80, 71, 74, 59, 70, 87, 59, 84, 64, 52, 42, 64, 8, 17, 47, 65, 21, 22, 81, 11, 24, 84, 78, 45, 49, 97, 56, 76, 11, 90, 89, 78, 73, 14, 87, 9, 71, 6, 47, 20, 98, 47, 36, 55, 72, 43, 51, 35, 83, 33, 27, 53, 92, 50, 15, 89, 36, 18, 89, 46, 33, 42]\n"
          ]
        }
      ]
    },
    {
      "cell_type": "code",
      "source": [
        "#split train into train and val\n",
        "train_images_split = np.zeros([40000, img_width , img_height, channels], dtype=np.float32)\n",
        "val_images_split = np.zeros([10000, img_width , img_height, channels], dtype=np.float32)\n",
        "train_labels_split = np.zeros(40000)\n",
        "val_labels_split = np.zeros(10000)\n",
        "\n",
        "train_split = 400\n",
        "val_split = 100\n",
        "for class_ in range(len(Classes)):\n",
        "  train_start_index = class_ * 500\n",
        "  train_end_index = train_start_index + train_split\n",
        "  train_index = class_ * train_split\n",
        "  val_start_index = train_end_index\n",
        "  val_end_index = val_start_index + val_split\n",
        "  val_index = class_ * val_split\n",
        "\n",
        "  train_images_split[train_index : train_index + train_split] = train_images[train_start_index: train_end_index]\n",
        "  val_images_split[val_index : val_index + val_split] = train_images[val_start_index : val_end_index]\n",
        "\n",
        "\n",
        "  train_labels_split[train_index : train_index + train_split] = train_labels[train_start_index : train_end_index]\n",
        "  val_labels_split[val_index : val_index + val_split] = train_labels[val_start_index : val_end_index]\n"
      ],
      "metadata": {
        "id": "MGAzDc-p3DAZ"
      },
      "execution_count": null,
      "outputs": []
    },
    {
      "cell_type": "code",
      "source": [
        "plt.figure(figsize=(6,3))\n",
        "plt.xticks([])\n",
        "plt.yticks([])\n",
        "plt.imshow(train_images_split[34009])"
      ],
      "metadata": {
        "colab": {
          "base_uri": "https://localhost:8080/",
          "height": 215
        },
        "id": "MPwceME0_hJl",
        "outputId": "31409bbd-4247-4030-ea22-ee4a60b279f9"
      },
      "execution_count": null,
      "outputs": [
        {
          "output_type": "execute_result",
          "data": {
            "text/plain": [
              "<matplotlib.image.AxesImage at 0x7f9630ea4d10>"
            ]
          },
          "metadata": {},
          "execution_count": 59
        },
        {
          "output_type": "display_data",
          "data": {
            "text/plain": [
              "<Figure size 432x216 with 1 Axes>"
            ],
            "image/png": "[encoded data removed]"
          },
          "metadata": {}
        }
      ]
    },
    {
      "cell_type": "code",
      "source": [],
      "metadata": {
        "id": "sUee4Grv_hlL"
      },
      "execution_count": null,
      "outputs": []
    },
    {
      "cell_type": "code",
      "source": [],
      "metadata": {
        "id": "8zGKboK2_iAy"
      },
      "execution_count": null,
      "outputs": []
    },
    {
      "cell_type": "code",
      "source": [
        "def get_next_batch(dataset, labels, num_way, num_shot, num_query, no_of_classes):\n",
        "  episodic_classes = np.random.permutation(no_of_classes)[:num_way]\n",
        "  support = np.zeros([num_way, num_shot, img_width , img_height, channels], dtype=np.float32)\n",
        "  query = np.zeros([num_way, num_query, img_width , img_height, channels], dtype=np.float32)\n",
        "\n",
        "  for index, class_ in enumerate(episodic_classes):\n",
        "    indices = find_indices(labels, class_)\n",
        "    #check that the size is greater than num_shot + num_query\n",
        "    selected = np.random.permutation(indices)[:num_shot + num_query]\n",
        "    for support_index in range(num_shot):\n",
        "       support[index][support_index] = dataset[selected[support_index]] \n",
        "    for query_index in range(num_query):\n",
        "       query[index][query_index] = dataset[selected[num_shot + query_index]]  \n",
        "    \n",
        "  return support, query\n",
        "\n",
        "def find_indices(list_to_check, item_to_find):\n",
        "  indices = []\n",
        "  for idx, value in enumerate(list_to_check):\n",
        "    if value == item_to_find:\n",
        "      indices.append(idx)\n",
        "  return indices\n",
        "\n"
      ],
      "metadata": {
        "id": "t8iENgdpyI8r"
      },
      "execution_count": null,
      "outputs": []
    },
    {
      "cell_type": "code",
      "source": [
        "support, query = get_next_batch(val_images_split, val_labels_split, 20, 7, 3, 100)"
      ],
      "metadata": {
        "id": "aslgCiUk-stA"
      },
      "execution_count": null,
      "outputs": []
    },
    {
      "cell_type": "code",
      "source": [
        "support.shape"
      ],
      "metadata": {
        "colab": {
          "base_uri": "https://localhost:8080/"
        },
        "id": "wZCM-q4w_XNC",
        "outputId": "4c24a3b2-6f55-4fc3-b796-57283cad7d74"
      },
      "execution_count": null,
      "outputs": [
        {
          "output_type": "execute_result",
          "data": {
            "text/plain": [
              "(20, 7, 32, 32, 3)"
            ]
          },
          "metadata": {},
          "execution_count": 68
        }
      ]
    },
    {
      "cell_type": "code",
      "source": [
        "query.shape"
      ],
      "metadata": {
        "colab": {
          "base_uri": "https://localhost:8080/"
        },
        "id": "XdYHI3Je_asi",
        "outputId": "c7838970-cb91-481d-e488-416d2297d368"
      },
      "execution_count": null,
      "outputs": [
        {
          "output_type": "execute_result",
          "data": {
            "text/plain": [
              "(20, 3, 32, 32, 3)"
            ]
          },
          "metadata": {},
          "execution_count": 69
        }
      ]
    },
    {
      "cell_type": "code",
      "source": [
        "def show_image(dataset, index, image_number):\n",
        "  plt.figure(figsize=(2,3))\n",
        "  plt.xticks([])\n",
        "  plt.yticks([])\n",
        "  plt.imshow(dataset[index][image_number])\n"
      ],
      "metadata": {
        "id": "dsjaPAdV_eMB"
      },
      "execution_count": null,
      "outputs": []
    },
    {
      "cell_type": "code",
      "source": [
        "show_image(support, 4, 6)"
      ],
      "metadata": {
        "colab": {
          "base_uri": "https://localhost:8080/",
          "height": 146
        },
        "id": "3pP-fPoOHXrJ",
        "outputId": "d76df00a-bba4-44ea-8927-859e9179b9a7"
      },
      "execution_count": null,
      "outputs": [
        {
          "output_type": "display_data",
          "data": {
            "text/plain": [
              "<Figure size 144x216 with 1 Axes>"
            ],
            "image/png": "[encoded data removed]"
          },
          "metadata": {}
        }
      ]
    },
    {
      "cell_type": "code",
      "source": [
        "show_image(query, 4, 0)"
      ],
      "metadata": {
        "colab": {
          "base_uri": "https://localhost:8080/",
          "height": 146
        },
        "id": "Tf_USxDCl7Gv",
        "outputId": "8db35873-ffb8-4ebb-c162-25aff58c2d5d"
      },
      "execution_count": null,
      "outputs": [
        {
          "output_type": "display_data",
          "data": {
            "text/plain": [
              "<Figure size 144x216 with 1 Axes>"
            ],
            "image/png": "[encoded data removed]"
          },
          "metadata": {}
        }
      ]
    },
    {
      "cell_type": "code",
      "source": [
        "from tensorflow.keras.layers import Dense, Flatten, Conv2D\n",
        "from tensorflow.keras import Model"
      ],
      "metadata": {
        "id": "yQsRfRaEYaSh"
      },
      "execution_count": null,
      "outputs": []
    },
    {
      "cell_type": "code",
      "source": [
        "from tensorflow.keras.layers import Dense, Flatten, Conv2D, BatchNormalization, Dropout, GlobalMaxPooling2D\n",
        "from tensorflow.keras import Model\n",
        "\n",
        "class Prototypical(Model):\n",
        "    \"\"\"\n",
        "    Implemenation of Prototypical Network.\n",
        "    \"\"\"\n",
        "    def __init__(self, n_support, n_query, w, h, c):\n",
        "        \"\"\"\n",
        "        Args:\n",
        "            n_support (int): number of support examples.\n",
        "            n_query (int): number of query examples.\n",
        "            w (int): image width .\n",
        "            h (int): image height.\n",
        "            c (int): number of channels.\n",
        "        \"\"\"\n",
        "        super(Prototypical, self).__init__()\n",
        "        self.w, self.h, self.c = w, h, c\n",
        "\n",
        "        # Encoder as ResNet like CNN with 4 blocks\n",
        "        self.encoder = tf.keras.Sequential([\n",
        "            tf.keras.layers.Conv2D(filters=64, kernel_size=3, padding='same'),\n",
        "            tf.keras.layers.BatchNormalization(),\n",
        "            tf.keras.layers.ReLU(),\n",
        "            tf.keras.layers.MaxPool2D((2, 2)),\n",
        "\n",
        "            tf.keras.layers.Conv2D(filters=64, kernel_size=3, padding='same'),\n",
        "            tf.keras.layers.BatchNormalization(),\n",
        "            tf.keras.layers.ReLU(),\n",
        "            tf.keras.layers.MaxPool2D((2, 2)),\n",
        "\n",
        "            tf.keras.layers.Conv2D(filters=64, kernel_size=3, padding='same'),\n",
        "            tf.keras.layers.BatchNormalization(),\n",
        "            tf.keras.layers.ReLU(),\n",
        "            tf.keras.layers.MaxPool2D((2, 2)),\n",
        "\n",
        "            tf.keras.layers.Conv2D(filters=64, kernel_size=3, padding='same'),\n",
        "            tf.keras.layers.BatchNormalization(),\n",
        "            tf.keras.layers.ReLU(),\n",
        "            tf.keras.layers.MaxPool2D((2, 2)), Flatten()]\n",
        "        )\n",
        "\n",
        "    def call(self, support, query):\n",
        "        n_class = support.shape[0]\n",
        "        n_support = support.shape[1]\n",
        "        n_query = query.shape[1]\n",
        "        y = np.tile(np.arange(n_class)[:, np.newaxis], (1, n_query))\n",
        "        y_onehot = tf.cast(tf.one_hot(y, n_class), tf.float32)\n",
        "\n",
        "        # correct indices of support samples (just natural order)\n",
        "        target_inds = tf.reshape(tf.range(n_class), [n_class, 1])\n",
        "        target_inds = tf.tile(target_inds, [1, n_query])\n",
        "\n",
        "        # merge support and query to forward through encoder\n",
        "        cat = tf.concat([\n",
        "            tf.reshape(support, [n_class * n_support,\n",
        "                                 self.w, self.h, self.c]),\n",
        "            tf.reshape(query, [n_class * n_query,\n",
        "                               self.w, self.h, self.c])], axis=0)\n",
        "        z = self.encoder(cat)\n",
        "\n",
        "        # Divide embedding into support and query\n",
        "        z_prototypes = tf.reshape(z[:n_class * n_support],\n",
        "                                  [n_class, n_support, z.shape[-1]])\n",
        "        # Prototypes are means of n_support examples\n",
        "        z_prototypes = tf.math.reduce_mean(z_prototypes, axis=1)\n",
        "        z_query = z[n_class * n_support:]\n",
        "\n",
        "        # Calculate distances between query and prototypes\n",
        "        dists = euclidean_distance(z_query, z_prototypes)\n",
        "\n",
        "        # log softmax of calculated distances\n",
        "        log_p_y = tf.nn.log_softmax(-dists, axis=-1)\n",
        "        log_p_y = tf.reshape(log_p_y, [n_class, n_query, -1])\n",
        "        \n",
        "        loss = -tf.reduce_mean(tf.reshape(tf.reduce_sum(tf.multiply(y_onehot, log_p_y), axis=-1), [-1]))\n",
        "        eq = tf.cast(tf.equal(\n",
        "            tf.cast(tf.argmax(log_p_y, axis=-1), tf.int32), \n",
        "            tf.cast(y, tf.int32)), tf.float32)\n",
        "        acc = tf.reduce_mean(eq)\n",
        "        return loss, acc\n",
        "\n",
        "    def save(self, model_path):\n",
        "        \"\"\"\n",
        "        Save encoder to the file.\n",
        "\n",
        "        Args:\n",
        "            model_path (str): path to the .h5 file.\n",
        "\n",
        "        Returns: None\n",
        "\n",
        "        \"\"\"\n",
        "        self.encoder.save(model_path)\n",
        "\n",
        "    def load(self, model_path):\n",
        "        \"\"\"\n",
        "        Load encoder from the file.\n",
        "\n",
        "        Args:\n",
        "            model_path (str): path to the .h5 file.\n",
        "\n",
        "        Returns: None\n",
        "\n",
        "        \"\"\"\n",
        "        self.encoder(tf.zeros([1, self.w, self.h, self.c]))\n",
        "        self.encoder.load_weights(model_path)"
      ],
      "metadata": {
        "id": "RYIxk1m1HcYH"
      },
      "execution_count": null,
      "outputs": []
    },
    {
      "cell_type": "code",
      "source": [
        "def euclidean_distance(a, b):\n",
        "\n",
        "    N, D = tf.shape(a)[0], tf.shape(a)[1]\n",
        "    M = tf.shape(b)[0]\n",
        "    a = tf.tile(tf.expand_dims(a, axis=1), (1, M, 1))\n",
        "    b = tf.tile(tf.expand_dims(b, axis=0), (N, 1, 1))\n",
        "    return tf.reduce_mean(tf.square(a - b), axis=2)"
      ],
      "metadata": {
        "id": "9qLG5YjxYdH8"
      },
      "execution_count": null,
      "outputs": []
    },
    {
      "cell_type": "code",
      "source": [
        "#number of classes\n",
        "num_way = num_ways[0] \n",
        "\n",
        "#number of examples per class for support set\n",
        "num_shot = num_shots[0]  \n",
        "\n",
        "#number of query points\n",
        "num_query = num_shots[0] \n",
        "\n",
        "train_loss = tf.metrics.Mean(name='train_loss')\n",
        "train_acc = tf.metrics.Mean(name='train_accuracy')\n",
        "support = np.zeros([num_way, num_shot, img_width, img_height, channels], dtype=np.float32)\n",
        "query = np.zeros([num_way, num_query, img_height, channels], dtype=np.float32)\n",
        "model = Prototypical(support, query, img_width, img_height, channels)\n",
        "optimizer = tf.keras.optimizers.Adam(learning_rate)\n",
        "\n",
        "num_epochs = 80\n",
        "num_episodes = 100\n",
        "save_path = \"./results/models/cifar100_train0.h5\"\n",
        "\n",
        "least_loss = {'least_loss': 100.00}\n",
        "\n",
        "@tf.function\n",
        "def loss(support, query):\n",
        "  loss, acc = model(support, query)\n",
        "  return loss, acc\n",
        "\n",
        "@tf.function\n",
        "def train_step(support, query):\n",
        "  with tf.GradientTape() as tape:\n",
        "    loss, acc = model(support, query)\n",
        "  gradients = tape.gradient(loss, model.trainable_variables)\n",
        "  optimizer.apply_gradients(\n",
        "        zip(gradients, model.trainable_variables))\n",
        "  train_loss(loss)\n",
        "  train_acc(acc)\n",
        "\n",
        "@tf.function\n",
        "def val_step(loss_func, support, query):\n",
        "  loss, acc = loss_func(support, query)\n",
        "  val_loss(loss)\n",
        "  val_acc(acc)\n",
        "\n",
        "val_losses = []\n",
        "\n",
        "for epoch in range(num_epochs):\n",
        "  train_loss.reset_states()\n",
        "  train_acc.reset_states()\n",
        "\n",
        "  for episode in range(num_episodes):\n",
        "    train_support, train_query = get_next_batch(train_images_split, train_labels_split, num_way, num_shot, num_query, num_classes)\n",
        "    train_step(train_support, train_query)\n",
        "\n",
        "  cur_loss = train_loss.result().numpy()\n",
        "  if cur_loss < least_loss['least_loss']:\n",
        "      print(\"Saving new best model with loss: \", cur_loss)\n",
        "      least_loss['least_loss'] = cur_loss\n",
        "      model.save(save_path)\n",
        "      \n",
        "  template = 'Epoch {}, Loss: {}, Accuracy: {}'\n",
        "  print(template.format(epoch + 1, train_loss.result(), train_acc.result() * 100))"
      ],
      "metadata": {
        "colab": {
          "base_uri": "https://localhost:8080/"
        },
        "id": "Hm-NC26kYqEy",
        "outputId": "5887bdf3-ea15-41dc-ac52-a283d6474593"
      },
      "execution_count": null,
      "outputs": [
        {
          "output_type": "stream",
          "name": "stderr",
          "text": [
            "WARNING:tensorflow:Compiled the loaded model, but the compiled metrics have yet to be built. `model.compile_metrics` will be empty until you train or evaluate the model.\n"
          ]
        },
        {
          "output_type": "stream",
          "name": "stdout",
          "text": [
            "Saving new best model with loss:  1.5052305\n",
            "Epoch 1, Loss: 1.5052305459976196, Accuracy: 34.84000015258789\n"
          ]
        },
        {
          "output_type": "stream",
          "name": "stderr",
          "text": [
            "WARNING:tensorflow:Compiled the loaded model, but the compiled metrics have yet to be built. `model.compile_metrics` will be empty until you train or evaluate the model.\n"
          ]
        },
        {
          "output_type": "stream",
          "name": "stdout",
          "text": [
            "Saving new best model with loss:  1.3955259\n",
            "Epoch 2, Loss: 1.3955259323120117, Accuracy: 42.840003967285156\n"
          ]
        },
        {
          "output_type": "stream",
          "name": "stderr",
          "text": [
            "WARNING:tensorflow:Compiled the loaded model, but the compiled metrics have yet to be built. `model.compile_metrics` will be empty until you train or evaluate the model.\n"
          ]
        },
        {
          "output_type": "stream",
          "name": "stdout",
          "text": [
            "Saving new best model with loss:  1.394136\n",
            "Epoch 3, Loss: 1.3941359519958496, Accuracy: 41.8800048828125\n"
          ]
        },
        {
          "output_type": "stream",
          "name": "stderr",
          "text": [
            "WARNING:tensorflow:Compiled the loaded model, but the compiled metrics have yet to be built. `model.compile_metrics` will be empty until you train or evaluate the model.\n"
          ]
        },
        {
          "output_type": "stream",
          "name": "stdout",
          "text": [
            "Saving new best model with loss:  1.3573745\n",
            "Epoch 4, Loss: 1.3573745489120483, Accuracy: 42.79999542236328\n"
          ]
        },
        {
          "output_type": "stream",
          "name": "stderr",
          "text": [
            "WARNING:tensorflow:Compiled the loaded model, but the compiled metrics have yet to be built. `model.compile_metrics` will be empty until you train or evaluate the model.\n"
          ]
        },
        {
          "output_type": "stream",
          "name": "stdout",
          "text": [
            "Saving new best model with loss:  1.2768342\n",
            "Epoch 5, Loss: 1.27683424949646, Accuracy: 48.31999969482422\n",
            "Epoch 6, Loss: 1.314786672592163, Accuracy: 46.03999328613281\n",
            "Epoch 7, Loss: 1.3059087991714478, Accuracy: 44.20000076293945\n",
            "Epoch 8, Loss: 1.3146276473999023, Accuracy: 46.47998809814453\n",
            "Epoch 9, Loss: 1.2979590892791748, Accuracy: 47.559993743896484\n",
            "Epoch 10, Loss: 1.2897754907608032, Accuracy: 46.96000289916992\n"
          ]
        },
        {
          "output_type": "stream",
          "name": "stderr",
          "text": [
            "WARNING:tensorflow:Compiled the loaded model, but the compiled metrics have yet to be built. `model.compile_metrics` will be empty until you train or evaluate the model.\n"
          ]
        },
        {
          "output_type": "stream",
          "name": "stdout",
          "text": [
            "Saving new best model with loss:  1.266335\n",
            "Epoch 11, Loss: 1.2663350105285645, Accuracy: 47.52000045776367\n"
          ]
        },
        {
          "output_type": "stream",
          "name": "stderr",
          "text": [
            "WARNING:tensorflow:Compiled the loaded model, but the compiled metrics have yet to be built. `model.compile_metrics` will be empty until you train or evaluate the model.\n"
          ]
        },
        {
          "output_type": "stream",
          "name": "stdout",
          "text": [
            "Saving new best model with loss:  1.2424445\n",
            "Epoch 12, Loss: 1.2424445152282715, Accuracy: 49.559993743896484\n",
            "Epoch 13, Loss: 1.2579071521759033, Accuracy: 48.239994049072266\n"
          ]
        },
        {
          "output_type": "stream",
          "name": "stderr",
          "text": [
            "WARNING:tensorflow:Compiled the loaded model, but the compiled metrics have yet to be built. `model.compile_metrics` will be empty until you train or evaluate the model.\n"
          ]
        },
        {
          "output_type": "stream",
          "name": "stdout",
          "text": [
            "Saving new best model with loss:  1.2409533\n",
            "Epoch 14, Loss: 1.2409533262252808, Accuracy: 50.03999328613281\n"
          ]
        },
        {
          "output_type": "stream",
          "name": "stderr",
          "text": [
            "WARNING:tensorflow:Compiled the loaded model, but the compiled metrics have yet to be built. `model.compile_metrics` will be empty until you train or evaluate the model.\n"
          ]
        },
        {
          "output_type": "stream",
          "name": "stdout",
          "text": [
            "Saving new best model with loss:  1.2258552\n",
            "Epoch 15, Loss: 1.2258552312850952, Accuracy: 51.31999206542969\n"
          ]
        },
        {
          "output_type": "stream",
          "name": "stderr",
          "text": [
            "WARNING:tensorflow:Compiled the loaded model, but the compiled metrics have yet to be built. `model.compile_metrics` will be empty until you train or evaluate the model.\n"
          ]
        },
        {
          "output_type": "stream",
          "name": "stdout",
          "text": [
            "Saving new best model with loss:  1.2247068\n",
            "Epoch 16, Loss: 1.224706768989563, Accuracy: 49.6400032043457\n"
          ]
        },
        {
          "output_type": "stream",
          "name": "stderr",
          "text": [
            "WARNING:tensorflow:Compiled the loaded model, but the compiled metrics have yet to be built. `model.compile_metrics` will be empty until you train or evaluate the model.\n"
          ]
        },
        {
          "output_type": "stream",
          "name": "stdout",
          "text": [
            "Saving new best model with loss:  1.2159965\n",
            "Epoch 17, Loss: 1.215996503829956, Accuracy: 51.5200080871582\n"
          ]
        },
        {
          "output_type": "stream",
          "name": "stderr",
          "text": [
            "WARNING:tensorflow:Compiled the loaded model, but the compiled metrics have yet to be built. `model.compile_metrics` will be empty until you train or evaluate the model.\n"
          ]
        },
        {
          "output_type": "stream",
          "name": "stdout",
          "text": [
            "Saving new best model with loss:  1.1893783\n",
            "Epoch 18, Loss: 1.189378261566162, Accuracy: 50.87999725341797\n"
          ]
        },
        {
          "output_type": "stream",
          "name": "stderr",
          "text": [
            "WARNING:tensorflow:Compiled the loaded model, but the compiled metrics have yet to be built. `model.compile_metrics` will be empty until you train or evaluate the model.\n"
          ]
        },
        {
          "output_type": "stream",
          "name": "stdout",
          "text": [
            "Saving new best model with loss:  1.1824509\n",
            "Epoch 19, Loss: 1.1824508905410767, Accuracy: 52.079994201660156\n"
          ]
        },
        {
          "output_type": "stream",
          "name": "stderr",
          "text": [
            "WARNING:tensorflow:Compiled the loaded model, but the compiled metrics have yet to be built. `model.compile_metrics` will be empty until you train or evaluate the model.\n"
          ]
        },
        {
          "output_type": "stream",
          "name": "stdout",
          "text": [
            "Saving new best model with loss:  1.1592418\n",
            "Epoch 20, Loss: 1.159241795539856, Accuracy: 52.839996337890625\n",
            "Epoch 21, Loss: 1.1920502185821533, Accuracy: 52.279991149902344\n"
          ]
        },
        {
          "output_type": "stream",
          "name": "stderr",
          "text": [
            "WARNING:tensorflow:Compiled the loaded model, but the compiled metrics have yet to be built. `model.compile_metrics` will be empty until you train or evaluate the model.\n"
          ]
        },
        {
          "output_type": "stream",
          "name": "stdout",
          "text": [
            "Saving new best model with loss:  1.1579785\n",
            "Epoch 22, Loss: 1.1579785346984863, Accuracy: 53.64000701904297\n"
          ]
        },
        {
          "output_type": "stream",
          "name": "stderr",
          "text": [
            "WARNING:tensorflow:Compiled the loaded model, but the compiled metrics have yet to be built. `model.compile_metrics` will be empty until you train or evaluate the model.\n"
          ]
        },
        {
          "output_type": "stream",
          "name": "stdout",
          "text": [
            "Saving new best model with loss:  1.1411339\n",
            "Epoch 23, Loss: 1.1411339044570923, Accuracy: 54.95999526977539\n",
            "Epoch 24, Loss: 1.1445231437683105, Accuracy: 53.600013732910156\n",
            "Epoch 25, Loss: 1.142763614654541, Accuracy: 54.07999038696289\n"
          ]
        },
        {
          "output_type": "stream",
          "name": "stderr",
          "text": [
            "WARNING:tensorflow:Compiled the loaded model, but the compiled metrics have yet to be built. `model.compile_metrics` will be empty until you train or evaluate the model.\n"
          ]
        },
        {
          "output_type": "stream",
          "name": "stdout",
          "text": [
            "Saving new best model with loss:  1.1168045\n",
            "Epoch 26, Loss: 1.1168044805526733, Accuracy: 54.999996185302734\n",
            "Epoch 27, Loss: 1.1173460483551025, Accuracy: 55.76000213623047\n"
          ]
        },
        {
          "output_type": "stream",
          "name": "stderr",
          "text": [
            "WARNING:tensorflow:Compiled the loaded model, but the compiled metrics have yet to be built. `model.compile_metrics` will be empty until you train or evaluate the model.\n"
          ]
        },
        {
          "output_type": "stream",
          "name": "stdout",
          "text": [
            "Saving new best model with loss:  1.089373\n",
            "Epoch 28, Loss: 1.089372992515564, Accuracy: 56.35999298095703\n"
          ]
        },
        {
          "output_type": "stream",
          "name": "stderr",
          "text": [
            "WARNING:tensorflow:Compiled the loaded model, but the compiled metrics have yet to be built. `model.compile_metrics` will be empty until you train or evaluate the model.\n"
          ]
        },
        {
          "output_type": "stream",
          "name": "stdout",
          "text": [
            "Saving new best model with loss:  1.0577588\n",
            "Epoch 29, Loss: 1.0577588081359863, Accuracy: 58.07999801635742\n",
            "Epoch 30, Loss: 1.1090716123580933, Accuracy: 55.519996643066406\n",
            "Epoch 31, Loss: 1.0907038450241089, Accuracy: 56.480003356933594\n",
            "Epoch 32, Loss: 1.0982497930526733, Accuracy: 55.279998779296875\n"
          ]
        },
        {
          "output_type": "stream",
          "name": "stderr",
          "text": [
            "WARNING:tensorflow:Compiled the loaded model, but the compiled metrics have yet to be built. `model.compile_metrics` will be empty until you train or evaluate the model.\n"
          ]
        },
        {
          "output_type": "stream",
          "name": "stdout",
          "text": [
            "Saving new best model with loss:  1.0448037\n",
            "Epoch 33, Loss: 1.0448037385940552, Accuracy: 58.83998107910156\n",
            "Epoch 34, Loss: 1.0453364849090576, Accuracy: 58.959983825683594\n",
            "Epoch 35, Loss: 1.102166771888733, Accuracy: 56.279991149902344\n"
          ]
        },
        {
          "output_type": "stream",
          "name": "stderr",
          "text": [
            "WARNING:tensorflow:Compiled the loaded model, but the compiled metrics have yet to be built. `model.compile_metrics` will be empty until you train or evaluate the model.\n"
          ]
        },
        {
          "output_type": "stream",
          "name": "stdout",
          "text": [
            "Saving new best model with loss:  1.0349318\n",
            "Epoch 36, Loss: 1.0349317789077759, Accuracy: 58.39999771118164\n"
          ]
        },
        {
          "output_type": "stream",
          "name": "stderr",
          "text": [
            "WARNING:tensorflow:Compiled the loaded model, but the compiled metrics have yet to be built. `model.compile_metrics` will be empty until you train or evaluate the model.\n"
          ]
        },
        {
          "output_type": "stream",
          "name": "stdout",
          "text": [
            "Saving new best model with loss:  1.0295466\n",
            "Epoch 37, Loss: 1.0295466184616089, Accuracy: 59.8799934387207\n",
            "Epoch 38, Loss: 1.0394046306610107, Accuracy: 58.92000961303711\n",
            "Epoch 39, Loss: 1.0658780336380005, Accuracy: 57.91999053955078\n"
          ]
        },
        {
          "output_type": "stream",
          "name": "stderr",
          "text": [
            "WARNING:tensorflow:Compiled the loaded model, but the compiled metrics have yet to be built. `model.compile_metrics` will be empty until you train or evaluate the model.\n"
          ]
        },
        {
          "output_type": "stream",
          "name": "stdout",
          "text": [
            "Saving new best model with loss:  0.9877399\n",
            "Epoch 40, Loss: 0.9877399206161499, Accuracy: 61.8799934387207\n",
            "Epoch 41, Loss: 1.0097646713256836, Accuracy: 60.27999496459961\n",
            "Epoch 42, Loss: 1.0311439037322998, Accuracy: 59.279991149902344\n",
            "Epoch 43, Loss: 1.0076780319213867, Accuracy: 60.199989318847656\n",
            "Epoch 44, Loss: 1.038249135017395, Accuracy: 58.79999542236328\n",
            "Epoch 45, Loss: 1.0140252113342285, Accuracy: 58.6400032043457\n",
            "Epoch 46, Loss: 1.0062081813812256, Accuracy: 58.959991455078125\n"
          ]
        },
        {
          "output_type": "stream",
          "name": "stderr",
          "text": [
            "WARNING:tensorflow:Compiled the loaded model, but the compiled metrics have yet to be built. `model.compile_metrics` will be empty until you train or evaluate the model.\n"
          ]
        },
        {
          "output_type": "stream",
          "name": "stdout",
          "text": [
            "Saving new best model with loss:  0.98443687\n",
            "Epoch 47, Loss: 0.9844368696212769, Accuracy: 61.279998779296875\n",
            "Epoch 48, Loss: 0.9995341300964355, Accuracy: 61.39999771118164\n",
            "Epoch 49, Loss: 0.9897840619087219, Accuracy: 61.199974060058594\n"
          ]
        },
        {
          "output_type": "stream",
          "name": "stderr",
          "text": [
            "WARNING:tensorflow:Compiled the loaded model, but the compiled metrics have yet to be built. `model.compile_metrics` will be empty until you train or evaluate the model.\n"
          ]
        },
        {
          "output_type": "stream",
          "name": "stdout",
          "text": [
            "Saving new best model with loss:  0.9408342\n",
            "Epoch 50, Loss: 0.9408342242240906, Accuracy: 62.35999298095703\n",
            "Epoch 51, Loss: 0.9928869009017944, Accuracy: 60.320003509521484\n",
            "Epoch 52, Loss: 0.9828038215637207, Accuracy: 60.880001068115234\n",
            "Epoch 53, Loss: 0.9594311714172363, Accuracy: 62.239986419677734\n",
            "Epoch 54, Loss: 1.0027960538864136, Accuracy: 61.31998825073242\n",
            "Epoch 55, Loss: 0.9748764038085938, Accuracy: 61.07999801635742\n"
          ]
        },
        {
          "output_type": "stream",
          "name": "stderr",
          "text": [
            "WARNING:tensorflow:Compiled the loaded model, but the compiled metrics have yet to be built. `model.compile_metrics` will be empty until you train or evaluate the model.\n"
          ]
        },
        {
          "output_type": "stream",
          "name": "stdout",
          "text": [
            "Saving new best model with loss:  0.9111565\n",
            "Epoch 56, Loss: 0.9111564755439758, Accuracy: 64.75999450683594\n",
            "Epoch 57, Loss: 0.9796862006187439, Accuracy: 60.15999221801758\n",
            "Epoch 58, Loss: 0.995165228843689, Accuracy: 62.19999694824219\n",
            "Epoch 59, Loss: 0.9655120372772217, Accuracy: 62.079994201660156\n",
            "Epoch 60, Loss: 0.9336481690406799, Accuracy: 63.759986877441406\n",
            "Epoch 61, Loss: 0.9788229465484619, Accuracy: 60.67998504638672\n",
            "Epoch 62, Loss: 0.9745079278945923, Accuracy: 61.4000129699707\n"
          ]
        },
        {
          "output_type": "stream",
          "name": "stderr",
          "text": [
            "WARNING:tensorflow:Compiled the loaded model, but the compiled metrics have yet to be built. `model.compile_metrics` will be empty until you train or evaluate the model.\n"
          ]
        },
        {
          "output_type": "stream",
          "name": "stdout",
          "text": [
            "Saving new best model with loss:  0.9067726\n",
            "Epoch 63, Loss: 0.9067726135253906, Accuracy: 65.27998352050781\n",
            "Epoch 64, Loss: 0.9223865270614624, Accuracy: 64.87998962402344\n"
          ]
        },
        {
          "output_type": "stream",
          "name": "stderr",
          "text": [
            "WARNING:tensorflow:Compiled the loaded model, but the compiled metrics have yet to be built. `model.compile_metrics` will be empty until you train or evaluate the model.\n"
          ]
        },
        {
          "output_type": "stream",
          "name": "stdout",
          "text": [
            "Saving new best model with loss:  0.8575978\n",
            "Epoch 65, Loss: 0.857597827911377, Accuracy: 65.99999237060547\n",
            "Epoch 66, Loss: 0.8781688213348389, Accuracy: 66.3199691772461\n",
            "Epoch 67, Loss: 0.9036683440208435, Accuracy: 63.75998306274414\n",
            "Epoch 68, Loss: 0.8859969973564148, Accuracy: 64.55998992919922\n",
            "Epoch 69, Loss: 0.935774028301239, Accuracy: 64.19998931884766\n",
            "Epoch 70, Loss: 0.8784275054931641, Accuracy: 65.43999481201172\n",
            "Epoch 71, Loss: 0.9234076142311096, Accuracy: 64.23998260498047\n",
            "Epoch 72, Loss: 0.8852733373641968, Accuracy: 65.67999267578125\n",
            "Epoch 73, Loss: 0.8848928213119507, Accuracy: 64.60000610351562\n",
            "Epoch 74, Loss: 0.9274247884750366, Accuracy: 63.40000534057617\n",
            "Epoch 75, Loss: 0.8798515796661377, Accuracy: 65.239990234375\n",
            "Epoch 76, Loss: 0.9727371335029602, Accuracy: 60.95998764038086\n",
            "Epoch 77, Loss: 0.8859719038009644, Accuracy: 65.63998413085938\n",
            "Epoch 78, Loss: 0.8876873254776001, Accuracy: 65.15999603271484\n",
            "Epoch 79, Loss: 0.9411865472793579, Accuracy: 63.27998733520508\n",
            "Epoch 80, Loss: 0.8946027159690857, Accuracy: 65.15999603271484\n"
          ]
        }
      ]
    },
    {
      "cell_type": "code",
      "source": [
        "#number of classes\n",
        "num_way = num_ways[1] \n",
        "\n",
        "#number of examples per class for support set\n",
        "num_shot = num_shots[1]  \n",
        "\n",
        "#number of query points\n",
        "num_query = num_shots[1] \n",
        "\n",
        "train_loss = tf.metrics.Mean(name='train_loss')\n",
        "train_acc = tf.metrics.Mean(name='train_accuracy')\n",
        "support = np.zeros([num_way, num_shot, img_width, img_height, channels], dtype=np.float32)\n",
        "query = np.zeros([num_way, num_query, img_height, channels], dtype=np.float32)\n",
        "model = Prototypical(support, query, img_width, img_height, channels)\n",
        "optimizer = tf.keras.optimizers.Adam(learning_rate)\n",
        "\n",
        "num_epochs = 80\n",
        "num_episodes = 100\n",
        "save_path = \"./results/models/cifar100_train1.h5\"\n",
        "\n",
        "least_loss = {'least_loss': 100.00}\n",
        "\n",
        "@tf.function\n",
        "def loss(support, query):\n",
        "  loss, acc = model(support, query)\n",
        "  return loss, acc\n",
        "\n",
        "@tf.function\n",
        "def train_step(support, query):\n",
        "  with tf.GradientTape() as tape:\n",
        "    loss, acc = model(support, query)\n",
        "  gradients = tape.gradient(loss, model.trainable_variables)\n",
        "  optimizer.apply_gradients(\n",
        "        zip(gradients, model.trainable_variables))\n",
        "  train_loss(loss)\n",
        "  train_acc(acc)\n",
        "\n",
        "@tf.function\n",
        "def val_step(loss_func, support, query):\n",
        "  loss, acc = loss_func(support, query)\n",
        "  val_loss(loss)\n",
        "  val_acc(acc)\n",
        "\n",
        "val_losses = []\n",
        "\n",
        "for epoch in range(num_epochs):\n",
        "  train_loss.reset_states()\n",
        "  train_acc.reset_states()\n",
        "\n",
        "  for episode in range(num_episodes):\n",
        "    train_support, train_query = get_next_batch(train_images_split, train_labels_split, num_way, num_shot, num_query, num_classes)\n",
        "    train_step(train_support, train_query)\n",
        "\n",
        "  cur_loss = train_loss.result().numpy()\n",
        "  if cur_loss < least_loss['least_loss']:\n",
        "      print(\"Saving new best model with loss: \", cur_loss)\n",
        "      least_loss['least_loss'] = cur_loss\n",
        "      model.save(save_path)\n",
        "      \n",
        "  template = 'Epoch {}, Loss: {}, Accuracy: {}'\n",
        "  print(template.format(epoch + 1, train_loss.result(), train_acc.result() * 100))"
      ],
      "metadata": {
        "colab": {
          "base_uri": "https://localhost:8080/"
        },
        "id": "qUPsjcRcIkBR",
        "outputId": "ec854ec9-76eb-49c8-fe60-0cbc203fe6a5"
      },
      "execution_count": null,
      "outputs": [
        {
          "output_type": "stream",
          "name": "stderr",
          "text": [
            "WARNING:tensorflow:Compiled the loaded model, but the compiled metrics have yet to be built. `model.compile_metrics` will be empty until you train or evaluate the model.\n"
          ]
        },
        {
          "output_type": "stream",
          "name": "stdout",
          "text": [
            "Saving new best model with loss:  1.595721\n",
            "Epoch 1, Loss: 1.5957210063934326, Accuracy: 27.000001907348633\n"
          ]
        },
        {
          "output_type": "stream",
          "name": "stderr",
          "text": [
            "WARNING:tensorflow:Compiled the loaded model, but the compiled metrics have yet to be built. `model.compile_metrics` will be empty until you train or evaluate the model.\n"
          ]
        },
        {
          "output_type": "stream",
          "name": "stdout",
          "text": [
            "Saving new best model with loss:  1.5769322\n",
            "Epoch 2, Loss: 1.5769321918487549, Accuracy: 27.19999885559082\n",
            "Epoch 3, Loss: 1.5990190505981445, Accuracy: 28.600004196166992\n",
            "Epoch 4, Loss: 1.6003248691558838, Accuracy: 29.800010681152344\n",
            "Epoch 5, Loss: 1.5927501916885376, Accuracy: 26.800003051757812\n",
            "Epoch 6, Loss: 1.5994571447372437, Accuracy: 29.0000057220459\n",
            "Epoch 7, Loss: 1.6041210889816284, Accuracy: 32.20000457763672\n"
          ]
        },
        {
          "output_type": "stream",
          "name": "stderr",
          "text": [
            "WARNING:tensorflow:Compiled the loaded model, but the compiled metrics have yet to be built. `model.compile_metrics` will be empty until you train or evaluate the model.\n"
          ]
        },
        {
          "output_type": "stream",
          "name": "stdout",
          "text": [
            "Saving new best model with loss:  1.5693681\n",
            "Epoch 8, Loss: 1.5693681240081787, Accuracy: 30.40001106262207\n"
          ]
        },
        {
          "output_type": "stream",
          "name": "stderr",
          "text": [
            "WARNING:tensorflow:Compiled the loaded model, but the compiled metrics have yet to be built. `model.compile_metrics` will be empty until you train or evaluate the model.\n"
          ]
        },
        {
          "output_type": "stream",
          "name": "stdout",
          "text": [
            "Saving new best model with loss:  1.4952817\n",
            "Epoch 9, Loss: 1.49528169631958, Accuracy: 36.4000129699707\n",
            "Epoch 10, Loss: 1.5302760601043701, Accuracy: 35.20000457763672\n",
            "Epoch 11, Loss: 1.5164027214050293, Accuracy: 35.00000762939453\n",
            "Epoch 12, Loss: 1.5381664037704468, Accuracy: 33.80000305175781\n"
          ]
        },
        {
          "output_type": "stream",
          "name": "stderr",
          "text": [
            "WARNING:tensorflow:Compiled the loaded model, but the compiled metrics have yet to be built. `model.compile_metrics` will be empty until you train or evaluate the model.\n"
          ]
        },
        {
          "output_type": "stream",
          "name": "stdout",
          "text": [
            "Saving new best model with loss:  1.4947163\n",
            "Epoch 13, Loss: 1.4947162866592407, Accuracy: 37.600006103515625\n"
          ]
        },
        {
          "output_type": "stream",
          "name": "stderr",
          "text": [
            "WARNING:tensorflow:Compiled the loaded model, but the compiled metrics have yet to be built. `model.compile_metrics` will be empty until you train or evaluate the model.\n"
          ]
        },
        {
          "output_type": "stream",
          "name": "stdout",
          "text": [
            "Saving new best model with loss:  1.4929299\n",
            "Epoch 14, Loss: 1.4929299354553223, Accuracy: 36.600006103515625\n"
          ]
        },
        {
          "output_type": "stream",
          "name": "stderr",
          "text": [
            "WARNING:tensorflow:Compiled the loaded model, but the compiled metrics have yet to be built. `model.compile_metrics` will be empty until you train or evaluate the model.\n"
          ]
        },
        {
          "output_type": "stream",
          "name": "stdout",
          "text": [
            "Saving new best model with loss:  1.4891281\n",
            "Epoch 15, Loss: 1.4891281127929688, Accuracy: 35.000022888183594\n",
            "Epoch 16, Loss: 1.4977290630340576, Accuracy: 37.20001220703125\n",
            "Epoch 17, Loss: 1.5162839889526367, Accuracy: 35.20000457763672\n",
            "Epoch 18, Loss: 1.526535987854004, Accuracy: 35.40000915527344\n"
          ]
        },
        {
          "output_type": "stream",
          "name": "stderr",
          "text": [
            "WARNING:tensorflow:Compiled the loaded model, but the compiled metrics have yet to be built. `model.compile_metrics` will be empty until you train or evaluate the model.\n"
          ]
        },
        {
          "output_type": "stream",
          "name": "stdout",
          "text": [
            "Saving new best model with loss:  1.4851258\n",
            "Epoch 19, Loss: 1.4851257801055908, Accuracy: 34.200008392333984\n",
            "Epoch 20, Loss: 1.4907026290893555, Accuracy: 35.00000762939453\n"
          ]
        },
        {
          "output_type": "stream",
          "name": "stderr",
          "text": [
            "WARNING:tensorflow:Compiled the loaded model, but the compiled metrics have yet to be built. `model.compile_metrics` will be empty until you train or evaluate the model.\n"
          ]
        },
        {
          "output_type": "stream",
          "name": "stdout",
          "text": [
            "Saving new best model with loss:  1.4550185\n",
            "Epoch 21, Loss: 1.4550185203552246, Accuracy: 39.400020599365234\n",
            "Epoch 22, Loss: 1.4720983505249023, Accuracy: 33.0\n",
            "Epoch 23, Loss: 1.5343055725097656, Accuracy: 35.80001449584961\n",
            "Epoch 24, Loss: 1.465327501296997, Accuracy: 33.79999923706055\n",
            "Epoch 25, Loss: 1.5661680698394775, Accuracy: 32.0000114440918\n",
            "Epoch 26, Loss: 1.4777597188949585, Accuracy: 35.40001678466797\n",
            "Epoch 27, Loss: 1.5007731914520264, Accuracy: 34.599998474121094\n",
            "Epoch 28, Loss: 1.5332330465316772, Accuracy: 39.200008392333984\n",
            "Epoch 29, Loss: 1.5092689990997314, Accuracy: 34.0000114440918\n",
            "Epoch 30, Loss: 1.511588454246521, Accuracy: 33.80000686645508\n",
            "Epoch 31, Loss: 1.484217882156372, Accuracy: 36.600013732910156\n",
            "Epoch 32, Loss: 1.480523943901062, Accuracy: 36.60000228881836\n",
            "Epoch 33, Loss: 1.4814932346343994, Accuracy: 35.20001983642578\n",
            "Epoch 34, Loss: 1.4975019693374634, Accuracy: 32.40000915527344\n",
            "Epoch 35, Loss: 1.490583062171936, Accuracy: 39.40000915527344\n",
            "Epoch 36, Loss: 1.4775707721710205, Accuracy: 34.60000228881836\n",
            "Epoch 37, Loss: 1.4594361782073975, Accuracy: 38.80000686645508\n",
            "Epoch 38, Loss: 1.4603469371795654, Accuracy: 39.00000762939453\n",
            "Epoch 39, Loss: 1.5105032920837402, Accuracy: 35.00000762939453\n",
            "Epoch 40, Loss: 1.4977195262908936, Accuracy: 35.0\n",
            "Epoch 41, Loss: 1.4584648609161377, Accuracy: 36.20000076293945\n",
            "Epoch 42, Loss: 1.488478422164917, Accuracy: 34.0\n"
          ]
        },
        {
          "output_type": "stream",
          "name": "stderr",
          "text": [
            "WARNING:tensorflow:Compiled the loaded model, but the compiled metrics have yet to be built. `model.compile_metrics` will be empty until you train or evaluate the model.\n"
          ]
        },
        {
          "output_type": "stream",
          "name": "stdout",
          "text": [
            "Saving new best model with loss:  1.4448677\n",
            "Epoch 43, Loss: 1.444867730140686, Accuracy: 40.80000305175781\n",
            "Epoch 44, Loss: 1.4520374536514282, Accuracy: 39.59999465942383\n",
            "Epoch 45, Loss: 1.4564902782440186, Accuracy: 38.400020599365234\n",
            "Epoch 46, Loss: 1.4960294961929321, Accuracy: 34.80000305175781\n",
            "Epoch 47, Loss: 1.5311387777328491, Accuracy: 31.20000457763672\n",
            "Epoch 48, Loss: 1.463690161705017, Accuracy: 38.00000762939453\n",
            "Epoch 49, Loss: 1.4491921663284302, Accuracy: 39.0000114440918\n",
            "Epoch 50, Loss: 1.4891430139541626, Accuracy: 36.40000915527344\n",
            "Epoch 51, Loss: 1.4503655433654785, Accuracy: 39.80000686645508\n",
            "Epoch 52, Loss: 1.5156992673873901, Accuracy: 33.200008392333984\n",
            "Epoch 53, Loss: 1.4557647705078125, Accuracy: 41.00001525878906\n",
            "Epoch 54, Loss: 1.4488182067871094, Accuracy: 37.40000534057617\n"
          ]
        },
        {
          "output_type": "stream",
          "name": "stderr",
          "text": [
            "WARNING:tensorflow:Compiled the loaded model, but the compiled metrics have yet to be built. `model.compile_metrics` will be empty until you train or evaluate the model.\n"
          ]
        },
        {
          "output_type": "stream",
          "name": "stdout",
          "text": [
            "Saving new best model with loss:  1.4159316\n",
            "Epoch 55, Loss: 1.4159315824508667, Accuracy: 37.39999771118164\n",
            "Epoch 56, Loss: 1.4677070379257202, Accuracy: 40.4000129699707\n",
            "Epoch 57, Loss: 1.4706653356552124, Accuracy: 35.800010681152344\n",
            "Epoch 58, Loss: 1.4609489440917969, Accuracy: 34.599998474121094\n",
            "Epoch 59, Loss: 1.456941843032837, Accuracy: 39.80000686645508\n",
            "Epoch 60, Loss: 1.4746956825256348, Accuracy: 36.20000457763672\n",
            "Epoch 61, Loss: 1.4902136325836182, Accuracy: 38.20000457763672\n"
          ]
        },
        {
          "output_type": "stream",
          "name": "stderr",
          "text": [
            "WARNING:tensorflow:Compiled the loaded model, but the compiled metrics have yet to be built. `model.compile_metrics` will be empty until you train or evaluate the model.\n"
          ]
        },
        {
          "output_type": "stream",
          "name": "stdout",
          "text": [
            "Saving new best model with loss:  1.4070804\n",
            "Epoch 62, Loss: 1.4070804119110107, Accuracy: 39.40000534057617\n",
            "Epoch 63, Loss: 1.4260778427124023, Accuracy: 41.000003814697266\n",
            "Epoch 64, Loss: 1.41733717918396, Accuracy: 40.60000228881836\n",
            "Epoch 65, Loss: 1.4793087244033813, Accuracy: 37.799991607666016\n",
            "Epoch 66, Loss: 1.4503833055496216, Accuracy: 34.20000076293945\n",
            "Epoch 67, Loss: 1.4805876016616821, Accuracy: 37.000022888183594\n",
            "Epoch 68, Loss: 1.4213263988494873, Accuracy: 41.60000991821289\n",
            "Epoch 69, Loss: 1.4437429904937744, Accuracy: 36.60000228881836\n",
            "Epoch 70, Loss: 1.444382667541504, Accuracy: 36.999996185302734\n",
            "Epoch 71, Loss: 1.4295092821121216, Accuracy: 42.40000534057617\n"
          ]
        },
        {
          "output_type": "stream",
          "name": "stderr",
          "text": [
            "WARNING:tensorflow:Compiled the loaded model, but the compiled metrics have yet to be built. `model.compile_metrics` will be empty until you train or evaluate the model.\n"
          ]
        },
        {
          "output_type": "stream",
          "name": "stdout",
          "text": [
            "Saving new best model with loss:  1.3906794\n",
            "Epoch 72, Loss: 1.3906793594360352, Accuracy: 39.20000457763672\n"
          ]
        },
        {
          "output_type": "stream",
          "name": "stderr",
          "text": [
            "WARNING:tensorflow:Compiled the loaded model, but the compiled metrics have yet to be built. `model.compile_metrics` will be empty until you train or evaluate the model.\n"
          ]
        },
        {
          "output_type": "stream",
          "name": "stdout",
          "text": [
            "Saving new best model with loss:  1.3903532\n",
            "Epoch 73, Loss: 1.3903532028198242, Accuracy: 41.00001525878906\n",
            "Epoch 74, Loss: 1.4216203689575195, Accuracy: 39.0000114440918\n",
            "Epoch 75, Loss: 1.434577465057373, Accuracy: 38.60000228881836\n",
            "Epoch 76, Loss: 1.394311785697937, Accuracy: 41.40000915527344\n",
            "Epoch 77, Loss: 1.4387997388839722, Accuracy: 35.600013732910156\n",
            "Epoch 78, Loss: 1.4645094871520996, Accuracy: 40.40000534057617\n",
            "Epoch 79, Loss: 1.4030282497406006, Accuracy: 39.599998474121094\n",
            "Epoch 80, Loss: 1.4572361707687378, Accuracy: 41.20001220703125\n"
          ]
        }
      ]
    },
    {
      "cell_type": "code",
      "source": [
        "#number of classes\n",
        "num_way = num_ways[2] \n",
        "\n",
        "#number of examples per class for support set\n",
        "num_shot = num_shots[2]  \n",
        "\n",
        "#number of query points\n",
        "num_query = num_shots[2] \n",
        "\n",
        "train_loss = tf.metrics.Mean(name='train_loss')\n",
        "train_acc = tf.metrics.Mean(name='train_accuracy')\n",
        "support = np.zeros([num_way, num_shot, img_width, img_height, channels], dtype=np.float32)\n",
        "query = np.zeros([num_way, num_query, img_height, channels], dtype=np.float32)\n",
        "model = Prototypical(support, query, img_width, img_height, channels)\n",
        "optimizer = tf.keras.optimizers.Adam(learning_rate)\n",
        "\n",
        "num_epochs = 80\n",
        "num_episodes = 100\n",
        "save_path = \"./results/models/cifar100_train2.h5\"\n",
        "\n",
        "least_loss = {'least_loss': 100.00}\n",
        "\n",
        "@tf.function\n",
        "def loss(support, query):\n",
        "  loss, acc = model(support, query)\n",
        "  return loss, acc\n",
        "\n",
        "@tf.function\n",
        "def train_step(support, query):\n",
        "  with tf.GradientTape() as tape:\n",
        "    loss, acc = model(support, query)\n",
        "  gradients = tape.gradient(loss, model.trainable_variables)\n",
        "  optimizer.apply_gradients(\n",
        "        zip(gradients, model.trainable_variables))\n",
        "  train_loss(loss)\n",
        "  train_acc(acc)\n",
        "\n",
        "@tf.function\n",
        "def val_step(loss_func, support, query):\n",
        "  loss, acc = loss_func(support, query)\n",
        "  val_loss(loss)\n",
        "  val_acc(acc)\n",
        "\n",
        "val_losses = []\n",
        "\n",
        "for epoch in range(num_epochs):\n",
        "  train_loss.reset_states()\n",
        "  train_acc.reset_states()\n",
        "\n",
        "  for episode in range(num_episodes):\n",
        "    train_support, train_query = get_next_batch(train_images_split, train_labels_split, num_way, num_shot, num_query, num_classes)\n",
        "    train_step(train_support, train_query)\n",
        "\n",
        "  cur_loss = train_loss.result().numpy()\n",
        "  if cur_loss < least_loss['least_loss']:\n",
        "      print(\"Saving new best model with loss: \", cur_loss)\n",
        "      least_loss['least_loss'] = cur_loss\n",
        "      model.save(save_path)\n",
        "      \n",
        "  template = 'Epoch {}, Loss: {}, Accuracy: {}'\n",
        "  print(template.format(epoch + 1, train_loss.result(), train_acc.result() * 100))"
      ],
      "metadata": {
        "colab": {
          "base_uri": "https://localhost:8080/"
        },
        "id": "hBx2LroOIkax",
        "outputId": "4f7339eb-6055-4088-8038-b4c73ffeca73"
      },
      "execution_count": null,
      "outputs": [
        {
          "output_type": "stream",
          "name": "stderr",
          "text": [
            "WARNING:tensorflow:Compiled the loaded model, but the compiled metrics have yet to be built. `model.compile_metrics` will be empty until you train or evaluate the model.\n"
          ]
        },
        {
          "output_type": "stream",
          "name": "stdout",
          "text": [
            "Saving new best model with loss:  2.3275433\n",
            "Epoch 1, Loss: 2.327543258666992, Accuracy: 20.28333282470703\n"
          ]
        },
        {
          "output_type": "stream",
          "name": "stderr",
          "text": [
            "WARNING:tensorflow:Compiled the loaded model, but the compiled metrics have yet to be built. `model.compile_metrics` will be empty until you train or evaluate the model.\n"
          ]
        },
        {
          "output_type": "stream",
          "name": "stdout",
          "text": [
            "Saving new best model with loss:  2.1431842\n",
            "Epoch 2, Loss: 2.143184185028076, Accuracy: 26.26667022705078\n"
          ]
        },
        {
          "output_type": "stream",
          "name": "stderr",
          "text": [
            "WARNING:tensorflow:Compiled the loaded model, but the compiled metrics have yet to be built. `model.compile_metrics` will be empty until you train or evaluate the model.\n"
          ]
        },
        {
          "output_type": "stream",
          "name": "stdout",
          "text": [
            "Saving new best model with loss:  2.1192932\n",
            "Epoch 3, Loss: 2.119293212890625, Accuracy: 27.983335494995117\n"
          ]
        },
        {
          "output_type": "stream",
          "name": "stderr",
          "text": [
            "WARNING:tensorflow:Compiled the loaded model, but the compiled metrics have yet to be built. `model.compile_metrics` will be empty until you train or evaluate the model.\n"
          ]
        },
        {
          "output_type": "stream",
          "name": "stdout",
          "text": [
            "Saving new best model with loss:  2.0753913\n",
            "Epoch 4, Loss: 2.0753912925720215, Accuracy: 29.866668701171875\n"
          ]
        },
        {
          "output_type": "stream",
          "name": "stderr",
          "text": [
            "WARNING:tensorflow:Compiled the loaded model, but the compiled metrics have yet to be built. `model.compile_metrics` will be empty until you train or evaluate the model.\n"
          ]
        },
        {
          "output_type": "stream",
          "name": "stdout",
          "text": [
            "Saving new best model with loss:  2.033143\n",
            "Epoch 5, Loss: 2.0331430435180664, Accuracy: 31.283342361450195\n"
          ]
        },
        {
          "output_type": "stream",
          "name": "stderr",
          "text": [
            "WARNING:tensorflow:Compiled the loaded model, but the compiled metrics have yet to be built. `model.compile_metrics` will be empty until you train or evaluate the model.\n"
          ]
        },
        {
          "output_type": "stream",
          "name": "stdout",
          "text": [
            "Saving new best model with loss:  2.001071\n",
            "Epoch 6, Loss: 2.001070976257324, Accuracy: 33.01667404174805\n"
          ]
        },
        {
          "output_type": "stream",
          "name": "stderr",
          "text": [
            "WARNING:tensorflow:Compiled the loaded model, but the compiled metrics have yet to be built. `model.compile_metrics` will be empty until you train or evaluate the model.\n"
          ]
        },
        {
          "output_type": "stream",
          "name": "stdout",
          "text": [
            "Saving new best model with loss:  1.9607651\n",
            "Epoch 7, Loss: 1.9607651233673096, Accuracy: 32.95000457763672\n"
          ]
        },
        {
          "output_type": "stream",
          "name": "stderr",
          "text": [
            "WARNING:tensorflow:Compiled the loaded model, but the compiled metrics have yet to be built. `model.compile_metrics` will be empty until you train or evaluate the model.\n"
          ]
        },
        {
          "output_type": "stream",
          "name": "stdout",
          "text": [
            "Saving new best model with loss:  1.9470589\n",
            "Epoch 8, Loss: 1.947058916091919, Accuracy: 33.4666633605957\n"
          ]
        },
        {
          "output_type": "stream",
          "name": "stderr",
          "text": [
            "WARNING:tensorflow:Compiled the loaded model, but the compiled metrics have yet to be built. `model.compile_metrics` will be empty until you train or evaluate the model.\n"
          ]
        },
        {
          "output_type": "stream",
          "name": "stdout",
          "text": [
            "Saving new best model with loss:  1.8908515\n",
            "Epoch 9, Loss: 1.8908514976501465, Accuracy: 36.383323669433594\n",
            "Epoch 10, Loss: 1.9008052349090576, Accuracy: 36.51667785644531\n"
          ]
        },
        {
          "output_type": "stream",
          "name": "stderr",
          "text": [
            "WARNING:tensorflow:Compiled the loaded model, but the compiled metrics have yet to be built. `model.compile_metrics` will be empty until you train or evaluate the model.\n"
          ]
        },
        {
          "output_type": "stream",
          "name": "stdout",
          "text": [
            "Saving new best model with loss:  1.8421793\n",
            "Epoch 11, Loss: 1.842179298400879, Accuracy: 38.116676330566406\n",
            "Epoch 12, Loss: 1.848423957824707, Accuracy: 37.70000076293945\n",
            "Epoch 13, Loss: 1.8436639308929443, Accuracy: 38.53334045410156\n"
          ]
        },
        {
          "output_type": "stream",
          "name": "stderr",
          "text": [
            "WARNING:tensorflow:Compiled the loaded model, but the compiled metrics have yet to be built. `model.compile_metrics` will be empty until you train or evaluate the model.\n"
          ]
        },
        {
          "output_type": "stream",
          "name": "stdout",
          "text": [
            "Saving new best model with loss:  1.811475\n",
            "Epoch 14, Loss: 1.8114750385284424, Accuracy: 37.98333740234375\n"
          ]
        },
        {
          "output_type": "stream",
          "name": "stderr",
          "text": [
            "WARNING:tensorflow:Compiled the loaded model, but the compiled metrics have yet to be built. `model.compile_metrics` will be empty until you train or evaluate the model.\n"
          ]
        },
        {
          "output_type": "stream",
          "name": "stdout",
          "text": [
            "Saving new best model with loss:  1.7809515\n",
            "Epoch 15, Loss: 1.7809514999389648, Accuracy: 39.95000076293945\n"
          ]
        },
        {
          "output_type": "stream",
          "name": "stderr",
          "text": [
            "WARNING:tensorflow:Compiled the loaded model, but the compiled metrics have yet to be built. `model.compile_metrics` will be empty until you train or evaluate the model.\n"
          ]
        },
        {
          "output_type": "stream",
          "name": "stdout",
          "text": [
            "Saving new best model with loss:  1.7307086\n",
            "Epoch 16, Loss: 1.7307085990905762, Accuracy: 41.41667175292969\n",
            "Epoch 17, Loss: 1.7417216300964355, Accuracy: 41.650001525878906\n",
            "Epoch 18, Loss: 1.7309598922729492, Accuracy: 40.749996185302734\n"
          ]
        },
        {
          "output_type": "stream",
          "name": "stderr",
          "text": [
            "WARNING:tensorflow:Compiled the loaded model, but the compiled metrics have yet to be built. `model.compile_metrics` will be empty until you train or evaluate the model.\n"
          ]
        },
        {
          "output_type": "stream",
          "name": "stdout",
          "text": [
            "Saving new best model with loss:  1.7008914\n",
            "Epoch 19, Loss: 1.700891375541687, Accuracy: 44.24999237060547\n",
            "Epoch 20, Loss: 1.7123587131500244, Accuracy: 42.01665496826172\n"
          ]
        },
        {
          "output_type": "stream",
          "name": "stderr",
          "text": [
            "WARNING:tensorflow:Compiled the loaded model, but the compiled metrics have yet to be built. `model.compile_metrics` will be empty until you train or evaluate the model.\n"
          ]
        },
        {
          "output_type": "stream",
          "name": "stdout",
          "text": [
            "Saving new best model with loss:  1.6846884\n",
            "Epoch 21, Loss: 1.6846884489059448, Accuracy: 42.26667785644531\n"
          ]
        },
        {
          "output_type": "stream",
          "name": "stderr",
          "text": [
            "WARNING:tensorflow:Compiled the loaded model, but the compiled metrics have yet to be built. `model.compile_metrics` will be empty until you train or evaluate the model.\n"
          ]
        },
        {
          "output_type": "stream",
          "name": "stdout",
          "text": [
            "Saving new best model with loss:  1.6771235\n",
            "Epoch 22, Loss: 1.6771235466003418, Accuracy: 42.416664123535156\n"
          ]
        },
        {
          "output_type": "stream",
          "name": "stderr",
          "text": [
            "WARNING:tensorflow:Compiled the loaded model, but the compiled metrics have yet to be built. `model.compile_metrics` will be empty until you train or evaluate the model.\n"
          ]
        },
        {
          "output_type": "stream",
          "name": "stdout",
          "text": [
            "Saving new best model with loss:  1.6256356\n",
            "Epoch 23, Loss: 1.6256356239318848, Accuracy: 44.65000915527344\n",
            "Epoch 24, Loss: 1.648069143295288, Accuracy: 44.39999771118164\n",
            "Epoch 25, Loss: 1.636252760887146, Accuracy: 44.18333053588867\n"
          ]
        },
        {
          "output_type": "stream",
          "name": "stderr",
          "text": [
            "WARNING:tensorflow:Compiled the loaded model, but the compiled metrics have yet to be built. `model.compile_metrics` will be empty until you train or evaluate the model.\n"
          ]
        },
        {
          "output_type": "stream",
          "name": "stdout",
          "text": [
            "Saving new best model with loss:  1.5882578\n",
            "Epoch 26, Loss: 1.5882577896118164, Accuracy: 46.299991607666016\n",
            "Epoch 27, Loss: 1.6131724119186401, Accuracy: 46.06666564941406\n",
            "Epoch 28, Loss: 1.5988539457321167, Accuracy: 46.38332748413086\n"
          ]
        },
        {
          "output_type": "stream",
          "name": "stderr",
          "text": [
            "WARNING:tensorflow:Compiled the loaded model, but the compiled metrics have yet to be built. `model.compile_metrics` will be empty until you train or evaluate the model.\n"
          ]
        },
        {
          "output_type": "stream",
          "name": "stdout",
          "text": [
            "Saving new best model with loss:  1.541044\n",
            "Epoch 29, Loss: 1.541043996810913, Accuracy: 48.13332748413086\n",
            "Epoch 30, Loss: 1.5859096050262451, Accuracy: 47.416664123535156\n",
            "Epoch 31, Loss: 1.5465707778930664, Accuracy: 47.50000762939453\n"
          ]
        },
        {
          "output_type": "stream",
          "name": "stderr",
          "text": [
            "WARNING:tensorflow:Compiled the loaded model, but the compiled metrics have yet to be built. `model.compile_metrics` will be empty until you train or evaluate the model.\n"
          ]
        },
        {
          "output_type": "stream",
          "name": "stdout",
          "text": [
            "Saving new best model with loss:  1.529027\n",
            "Epoch 32, Loss: 1.529026985168457, Accuracy: 49.033348083496094\n"
          ]
        },
        {
          "output_type": "stream",
          "name": "stderr",
          "text": [
            "WARNING:tensorflow:Compiled the loaded model, but the compiled metrics have yet to be built. `model.compile_metrics` will be empty until you train or evaluate the model.\n"
          ]
        },
        {
          "output_type": "stream",
          "name": "stdout",
          "text": [
            "Saving new best model with loss:  1.4973849\n",
            "Epoch 33, Loss: 1.4973849058151245, Accuracy: 49.08332061767578\n"
          ]
        },
        {
          "output_type": "stream",
          "name": "stderr",
          "text": [
            "WARNING:tensorflow:Compiled the loaded model, but the compiled metrics have yet to be built. `model.compile_metrics` will be empty until you train or evaluate the model.\n"
          ]
        },
        {
          "output_type": "stream",
          "name": "stdout",
          "text": [
            "Saving new best model with loss:  1.4929948\n",
            "Epoch 34, Loss: 1.492994785308838, Accuracy: 49.833343505859375\n"
          ]
        },
        {
          "output_type": "stream",
          "name": "stderr",
          "text": [
            "WARNING:tensorflow:Compiled the loaded model, but the compiled metrics have yet to be built. `model.compile_metrics` will be empty until you train or evaluate the model.\n"
          ]
        },
        {
          "output_type": "stream",
          "name": "stdout",
          "text": [
            "Saving new best model with loss:  1.4898643\n",
            "Epoch 35, Loss: 1.4898643493652344, Accuracy: 49.01667785644531\n"
          ]
        },
        {
          "output_type": "stream",
          "name": "stderr",
          "text": [
            "WARNING:tensorflow:Compiled the loaded model, but the compiled metrics have yet to be built. `model.compile_metrics` will be empty until you train or evaluate the model.\n"
          ]
        },
        {
          "output_type": "stream",
          "name": "stdout",
          "text": [
            "Saving new best model with loss:  1.4821844\n",
            "Epoch 36, Loss: 1.4821844100952148, Accuracy: 49.83333206176758\n"
          ]
        },
        {
          "output_type": "stream",
          "name": "stderr",
          "text": [
            "WARNING:tensorflow:Compiled the loaded model, but the compiled metrics have yet to be built. `model.compile_metrics` will be empty until you train or evaluate the model.\n"
          ]
        },
        {
          "output_type": "stream",
          "name": "stdout",
          "text": [
            "Saving new best model with loss:  1.4631914\n",
            "Epoch 37, Loss: 1.4631913900375366, Accuracy: 50.549991607666016\n"
          ]
        },
        {
          "output_type": "stream",
          "name": "stderr",
          "text": [
            "WARNING:tensorflow:Compiled the loaded model, but the compiled metrics have yet to be built. `model.compile_metrics` will be empty until you train or evaluate the model.\n"
          ]
        },
        {
          "output_type": "stream",
          "name": "stdout",
          "text": [
            "Saving new best model with loss:  1.4443408\n",
            "Epoch 38, Loss: 1.4443408250808716, Accuracy: 51.26665115356445\n",
            "Epoch 39, Loss: 1.4578890800476074, Accuracy: 50.7499885559082\n"
          ]
        },
        {
          "output_type": "stream",
          "name": "stderr",
          "text": [
            "WARNING:tensorflow:Compiled the loaded model, but the compiled metrics have yet to be built. `model.compile_metrics` will be empty until you train or evaluate the model.\n"
          ]
        },
        {
          "output_type": "stream",
          "name": "stdout",
          "text": [
            "Saving new best model with loss:  1.4233501\n",
            "Epoch 40, Loss: 1.4233500957489014, Accuracy: 51.583335876464844\n",
            "Epoch 41, Loss: 1.433781385421753, Accuracy: 52.233333587646484\n"
          ]
        },
        {
          "output_type": "stream",
          "name": "stderr",
          "text": [
            "WARNING:tensorflow:Compiled the loaded model, but the compiled metrics have yet to be built. `model.compile_metrics` will be empty until you train or evaluate the model.\n"
          ]
        },
        {
          "output_type": "stream",
          "name": "stdout",
          "text": [
            "Saving new best model with loss:  1.392746\n",
            "Epoch 42, Loss: 1.3927459716796875, Accuracy: 52.73332595825195\n",
            "Epoch 43, Loss: 1.415235996246338, Accuracy: 52.033321380615234\n"
          ]
        },
        {
          "output_type": "stream",
          "name": "stderr",
          "text": [
            "WARNING:tensorflow:Compiled the loaded model, but the compiled metrics have yet to be built. `model.compile_metrics` will be empty until you train or evaluate the model.\n"
          ]
        },
        {
          "output_type": "stream",
          "name": "stdout",
          "text": [
            "Saving new best model with loss:  1.3245472\n",
            "Epoch 44, Loss: 1.3245471715927124, Accuracy: 55.650001525878906\n",
            "Epoch 45, Loss: 1.3626148700714111, Accuracy: 53.71666717529297\n",
            "Epoch 46, Loss: 1.3564398288726807, Accuracy: 54.433326721191406\n",
            "Epoch 47, Loss: 1.3679885864257812, Accuracy: 52.783321380615234\n",
            "Epoch 48, Loss: 1.3349298238754272, Accuracy: 54.883323669433594\n",
            "Epoch 49, Loss: 1.3931300640106201, Accuracy: 52.46666717529297\n",
            "Epoch 50, Loss: 1.3462896347045898, Accuracy: 54.48333740234375\n"
          ]
        },
        {
          "output_type": "stream",
          "name": "stderr",
          "text": [
            "WARNING:tensorflow:Compiled the loaded model, but the compiled metrics have yet to be built. `model.compile_metrics` will be empty until you train or evaluate the model.\n"
          ]
        },
        {
          "output_type": "stream",
          "name": "stdout",
          "text": [
            "Saving new best model with loss:  1.3140543\n",
            "Epoch 51, Loss: 1.314054250717163, Accuracy: 55.35000991821289\n",
            "Epoch 52, Loss: 1.3305091857910156, Accuracy: 54.09998321533203\n"
          ]
        },
        {
          "output_type": "stream",
          "name": "stderr",
          "text": [
            "WARNING:tensorflow:Compiled the loaded model, but the compiled metrics have yet to be built. `model.compile_metrics` will be empty until you train or evaluate the model.\n"
          ]
        },
        {
          "output_type": "stream",
          "name": "stdout",
          "text": [
            "Saving new best model with loss:  1.2903769\n",
            "Epoch 53, Loss: 1.290376901626587, Accuracy: 56.25000762939453\n"
          ]
        },
        {
          "output_type": "stream",
          "name": "stderr",
          "text": [
            "WARNING:tensorflow:Compiled the loaded model, but the compiled metrics have yet to be built. `model.compile_metrics` will be empty until you train or evaluate the model.\n"
          ]
        },
        {
          "output_type": "stream",
          "name": "stdout",
          "text": [
            "Saving new best model with loss:  1.2753395\n",
            "Epoch 54, Loss: 1.2753394842147827, Accuracy: 57.58332061767578\n",
            "Epoch 55, Loss: 1.2835135459899902, Accuracy: 55.766658782958984\n",
            "Epoch 56, Loss: 1.2809877395629883, Accuracy: 57.15000534057617\n"
          ]
        },
        {
          "output_type": "stream",
          "name": "stderr",
          "text": [
            "WARNING:tensorflow:Compiled the loaded model, but the compiled metrics have yet to be built. `model.compile_metrics` will be empty until you train or evaluate the model.\n"
          ]
        },
        {
          "output_type": "stream",
          "name": "stdout",
          "text": [
            "Saving new best model with loss:  1.256285\n",
            "Epoch 57, Loss: 1.2562849521636963, Accuracy: 56.9666633605957\n"
          ]
        },
        {
          "output_type": "stream",
          "name": "stderr",
          "text": [
            "WARNING:tensorflow:Compiled the loaded model, but the compiled metrics have yet to be built. `model.compile_metrics` will be empty until you train or evaluate the model.\n"
          ]
        },
        {
          "output_type": "stream",
          "name": "stdout",
          "text": [
            "Saving new best model with loss:  1.2492154\n",
            "Epoch 58, Loss: 1.2492153644561768, Accuracy: 57.16665267944336\n",
            "Epoch 59, Loss: 1.2999098300933838, Accuracy: 55.76665496826172\n",
            "Epoch 60, Loss: 1.2809548377990723, Accuracy: 56.55000305175781\n",
            "Epoch 61, Loss: 1.2570995092391968, Accuracy: 57.433326721191406\n"
          ]
        },
        {
          "output_type": "stream",
          "name": "stderr",
          "text": [
            "WARNING:tensorflow:Compiled the loaded model, but the compiled metrics have yet to be built. `model.compile_metrics` will be empty until you train or evaluate the model.\n"
          ]
        },
        {
          "output_type": "stream",
          "name": "stdout",
          "text": [
            "Saving new best model with loss:  1.2222351\n",
            "Epoch 62, Loss: 1.222235083580017, Accuracy: 58.54999923706055\n",
            "Epoch 63, Loss: 1.2236870527267456, Accuracy: 57.93332290649414\n",
            "Epoch 64, Loss: 1.224613904953003, Accuracy: 58.38334655761719\n"
          ]
        },
        {
          "output_type": "stream",
          "name": "stderr",
          "text": [
            "WARNING:tensorflow:Compiled the loaded model, but the compiled metrics have yet to be built. `model.compile_metrics` will be empty until you train or evaluate the model.\n"
          ]
        },
        {
          "output_type": "stream",
          "name": "stdout",
          "text": [
            "Saving new best model with loss:  1.1971627\n",
            "Epoch 65, Loss: 1.1971627473831177, Accuracy: 59.89997863769531\n",
            "Epoch 66, Loss: 1.2050468921661377, Accuracy: 58.56665802001953\n"
          ]
        },
        {
          "output_type": "stream",
          "name": "stderr",
          "text": [
            "WARNING:tensorflow:Compiled the loaded model, but the compiled metrics have yet to be built. `model.compile_metrics` will be empty until you train or evaluate the model.\n"
          ]
        },
        {
          "output_type": "stream",
          "name": "stdout",
          "text": [
            "Saving new best model with loss:  1.1627567\n",
            "Epoch 67, Loss: 1.1627566814422607, Accuracy: 60.199989318847656\n",
            "Epoch 68, Loss: 1.2173748016357422, Accuracy: 58.58333206176758\n",
            "Epoch 69, Loss: 1.1781797409057617, Accuracy: 59.34999084472656\n",
            "Epoch 70, Loss: 1.1982810497283936, Accuracy: 59.16667175292969\n",
            "Epoch 71, Loss: 1.1704710721969604, Accuracy: 60.79999923706055\n",
            "Epoch 72, Loss: 1.1904244422912598, Accuracy: 59.116661071777344\n"
          ]
        },
        {
          "output_type": "stream",
          "name": "stderr",
          "text": [
            "WARNING:tensorflow:Compiled the loaded model, but the compiled metrics have yet to be built. `model.compile_metrics` will be empty until you train or evaluate the model.\n"
          ]
        },
        {
          "output_type": "stream",
          "name": "stdout",
          "text": [
            "Saving new best model with loss:  1.1407379\n",
            "Epoch 73, Loss: 1.1407378911972046, Accuracy: 61.59999465942383\n",
            "Epoch 74, Loss: 1.162950873374939, Accuracy: 60.7166633605957\n",
            "Epoch 75, Loss: 1.1474392414093018, Accuracy: 60.21665954589844\n",
            "Epoch 76, Loss: 1.1495158672332764, Accuracy: 60.98333740234375\n"
          ]
        },
        {
          "output_type": "stream",
          "name": "stderr",
          "text": [
            "WARNING:tensorflow:Compiled the loaded model, but the compiled metrics have yet to be built. `model.compile_metrics` will be empty until you train or evaluate the model.\n"
          ]
        },
        {
          "output_type": "stream",
          "name": "stdout",
          "text": [
            "Saving new best model with loss:  1.1313422\n",
            "Epoch 77, Loss: 1.1313421726226807, Accuracy: 61.16666793823242\n"
          ]
        },
        {
          "output_type": "stream",
          "name": "stderr",
          "text": [
            "WARNING:tensorflow:Compiled the loaded model, but the compiled metrics have yet to be built. `model.compile_metrics` will be empty until you train or evaluate the model.\n"
          ]
        },
        {
          "output_type": "stream",
          "name": "stdout",
          "text": [
            "Saving new best model with loss:  1.10695\n",
            "Epoch 78, Loss: 1.106950044631958, Accuracy: 61.3166618347168\n",
            "Epoch 79, Loss: 1.1901514530181885, Accuracy: 59.83332824707031\n",
            "Epoch 80, Loss: 1.1249152421951294, Accuracy: 61.133331298828125\n"
          ]
        }
      ]
    },
    {
      "cell_type": "code",
      "source": [
        "#number of classes\n",
        "num_way = num_ways[3] \n",
        "\n",
        "#number of examples per class for support set\n",
        "num_shot = num_shots[3]  \n",
        "\n",
        "#number of query points\n",
        "num_query = num_shots[3] \n",
        "\n",
        "train_loss = tf.metrics.Mean(name='train_loss')\n",
        "train_acc = tf.metrics.Mean(name='train_accuracy')\n",
        "support = np.zeros([num_way, num_shot, img_width, img_height, channels], dtype=np.float32)\n",
        "query = np.zeros([num_way, num_query, img_height, channels], dtype=np.float32)\n",
        "model = Prototypical(support, query, img_width, img_height, channels)\n",
        "optimizer = tf.keras.optimizers.Adam(learning_rate)\n",
        "\n",
        "num_epochs = 80\n",
        "num_episodes = 100\n",
        "save_path = \"./results/models/cifar100_train3.h5\"\n",
        "\n",
        "least_loss = {'least_loss': 100.00}\n",
        "\n",
        "@tf.function\n",
        "def loss(support, query):\n",
        "  loss, acc = model(support, query)\n",
        "  return loss, acc\n",
        "\n",
        "@tf.function\n",
        "def train_step(support, query):\n",
        "  with tf.GradientTape() as tape:\n",
        "    loss, acc = model(support, query)\n",
        "  gradients = tape.gradient(loss, model.trainable_variables)\n",
        "  optimizer.apply_gradients(\n",
        "        zip(gradients, model.trainable_variables))\n",
        "  train_loss(loss)\n",
        "  train_acc(acc)\n",
        "\n",
        "@tf.function\n",
        "def val_step(loss_func, support, query):\n",
        "  loss, acc = loss_func(support, query)\n",
        "  val_loss(loss)\n",
        "  val_acc(acc)\n",
        "\n",
        "val_losses = []\n",
        "\n",
        "for epoch in range(num_epochs):\n",
        "  train_loss.reset_states()\n",
        "  train_acc.reset_states()\n",
        "\n",
        "  for episode in range(num_episodes):\n",
        "    train_support, train_query = get_next_batch(train_images_split, train_labels_split, num_way, num_shot, num_query, num_classes)\n",
        "    train_step(train_support, train_query)\n",
        "\n",
        "  cur_loss = train_loss.result().numpy()\n",
        "  if cur_loss < least_loss['least_loss']:\n",
        "      print(\"Saving new best model with loss: \", cur_loss)\n",
        "      least_loss['least_loss'] = cur_loss\n",
        "      model.save(save_path)\n",
        "      \n",
        "  template = 'Epoch {}, Loss: {}, Accuracy: {}'\n",
        "  print(template.format(epoch + 1, train_loss.result(), train_acc.result() * 100))"
      ],
      "metadata": {
        "colab": {
          "base_uri": "https://localhost:8080/"
        },
        "id": "5ncZmf1mIk8o",
        "outputId": "33d7916a-78ff-4519-8be7-f1ae10626b16"
      },
      "execution_count": null,
      "outputs": [
        {
          "output_type": "stream",
          "name": "stderr",
          "text": [
            "WARNING:tensorflow:Compiled the loaded model, but the compiled metrics have yet to be built. `model.compile_metrics` will be empty until you train or evaluate the model.\n"
          ]
        },
        {
          "output_type": "stream",
          "name": "stdout",
          "text": [
            "Saving new best model with loss:  2.4509325\n",
            "Epoch 1, Loss: 2.450932502746582, Accuracy: 14.750000953674316\n"
          ]
        },
        {
          "output_type": "stream",
          "name": "stderr",
          "text": [
            "WARNING:tensorflow:Compiled the loaded model, but the compiled metrics have yet to be built. `model.compile_metrics` will be empty until you train or evaluate the model.\n"
          ]
        },
        {
          "output_type": "stream",
          "name": "stdout",
          "text": [
            "Saving new best model with loss:  2.411155\n",
            "Epoch 2, Loss: 2.4111549854278564, Accuracy: 16.916671752929688\n"
          ]
        },
        {
          "output_type": "stream",
          "name": "stderr",
          "text": [
            "WARNING:tensorflow:Compiled the loaded model, but the compiled metrics have yet to be built. `model.compile_metrics` will be empty until you train or evaluate the model.\n"
          ]
        },
        {
          "output_type": "stream",
          "name": "stdout",
          "text": [
            "Saving new best model with loss:  2.3901927\n",
            "Epoch 3, Loss: 2.390192747116089, Accuracy: 19.583335876464844\n"
          ]
        },
        {
          "output_type": "stream",
          "name": "stderr",
          "text": [
            "WARNING:tensorflow:Compiled the loaded model, but the compiled metrics have yet to be built. `model.compile_metrics` will be empty until you train or evaluate the model.\n"
          ]
        },
        {
          "output_type": "stream",
          "name": "stdout",
          "text": [
            "Saving new best model with loss:  2.3854074\n",
            "Epoch 4, Loss: 2.3854074478149414, Accuracy: 18.500003814697266\n"
          ]
        },
        {
          "output_type": "stream",
          "name": "stderr",
          "text": [
            "WARNING:tensorflow:Compiled the loaded model, but the compiled metrics have yet to be built. `model.compile_metrics` will be empty until you train or evaluate the model.\n"
          ]
        },
        {
          "output_type": "stream",
          "name": "stdout",
          "text": [
            "Saving new best model with loss:  2.3617315\n",
            "Epoch 5, Loss: 2.36173152923584, Accuracy: 19.166671752929688\n",
            "Epoch 6, Loss: 2.3861589431762695, Accuracy: 17.333335876464844\n"
          ]
        },
        {
          "output_type": "stream",
          "name": "stderr",
          "text": [
            "WARNING:tensorflow:Compiled the loaded model, but the compiled metrics have yet to be built. `model.compile_metrics` will be empty until you train or evaluate the model.\n"
          ]
        },
        {
          "output_type": "stream",
          "name": "stdout",
          "text": [
            "Saving new best model with loss:  2.3415873\n",
            "Epoch 7, Loss: 2.3415873050689697, Accuracy: 19.583330154418945\n"
          ]
        },
        {
          "output_type": "stream",
          "name": "stderr",
          "text": [
            "WARNING:tensorflow:Compiled the loaded model, but the compiled metrics have yet to be built. `model.compile_metrics` will be empty until you train or evaluate the model.\n"
          ]
        },
        {
          "output_type": "stream",
          "name": "stdout",
          "text": [
            "Saving new best model with loss:  2.3305025\n",
            "Epoch 8, Loss: 2.330502510070801, Accuracy: 21.25\n",
            "Epoch 9, Loss: 2.349949836730957, Accuracy: 18.249998092651367\n",
            "Epoch 10, Loss: 2.3368723392486572, Accuracy: 21.08333396911621\n"
          ]
        },
        {
          "output_type": "stream",
          "name": "stderr",
          "text": [
            "WARNING:tensorflow:Compiled the loaded model, but the compiled metrics have yet to be built. `model.compile_metrics` will be empty until you train or evaluate the model.\n"
          ]
        },
        {
          "output_type": "stream",
          "name": "stdout",
          "text": [
            "Saving new best model with loss:  2.3241587\n",
            "Epoch 11, Loss: 2.3241586685180664, Accuracy: 18.916664123535156\n"
          ]
        },
        {
          "output_type": "stream",
          "name": "stderr",
          "text": [
            "WARNING:tensorflow:Compiled the loaded model, but the compiled metrics have yet to be built. `model.compile_metrics` will be empty until you train or evaluate the model.\n"
          ]
        },
        {
          "output_type": "stream",
          "name": "stdout",
          "text": [
            "Saving new best model with loss:  2.3025265\n",
            "Epoch 12, Loss: 2.3025264739990234, Accuracy: 20.583332061767578\n",
            "Epoch 13, Loss: 2.340853691101074, Accuracy: 20.166669845581055\n",
            "Epoch 14, Loss: 2.327367067337036, Accuracy: 19.91666603088379\n"
          ]
        },
        {
          "output_type": "stream",
          "name": "stderr",
          "text": [
            "WARNING:tensorflow:Compiled the loaded model, but the compiled metrics have yet to be built. `model.compile_metrics` will be empty until you train or evaluate the model.\n"
          ]
        },
        {
          "output_type": "stream",
          "name": "stdout",
          "text": [
            "Saving new best model with loss:  2.287444\n",
            "Epoch 15, Loss: 2.2874441146850586, Accuracy: 21.999998092651367\n",
            "Epoch 16, Loss: 2.3336915969848633, Accuracy: 20.41666030883789\n",
            "Epoch 17, Loss: 2.293626308441162, Accuracy: 20.66666603088379\n",
            "Epoch 18, Loss: 2.2956581115722656, Accuracy: 21.916667938232422\n",
            "Epoch 19, Loss: 2.2989513874053955, Accuracy: 20.083335876464844\n",
            "Epoch 20, Loss: 2.3401691913604736, Accuracy: 21.0\n",
            "Epoch 21, Loss: 2.2942092418670654, Accuracy: 21.250001907348633\n",
            "Epoch 22, Loss: 2.291184902191162, Accuracy: 21.749998092651367\n",
            "Epoch 23, Loss: 2.296682596206665, Accuracy: 23.33333396911621\n"
          ]
        },
        {
          "output_type": "stream",
          "name": "stderr",
          "text": [
            "WARNING:tensorflow:Compiled the loaded model, but the compiled metrics have yet to be built. `model.compile_metrics` will be empty until you train or evaluate the model.\n"
          ]
        },
        {
          "output_type": "stream",
          "name": "stdout",
          "text": [
            "Saving new best model with loss:  2.2862844\n",
            "Epoch 24, Loss: 2.2862844467163086, Accuracy: 20.333335876464844\n",
            "Epoch 25, Loss: 2.288450241088867, Accuracy: 21.66666603088379\n"
          ]
        },
        {
          "output_type": "stream",
          "name": "stderr",
          "text": [
            "WARNING:tensorflow:Compiled the loaded model, but the compiled metrics have yet to be built. `model.compile_metrics` will be empty until you train or evaluate the model.\n"
          ]
        },
        {
          "output_type": "stream",
          "name": "stdout",
          "text": [
            "Saving new best model with loss:  2.278029\n",
            "Epoch 26, Loss: 2.278028964996338, Accuracy: 21.249996185302734\n"
          ]
        },
        {
          "output_type": "stream",
          "name": "stderr",
          "text": [
            "WARNING:tensorflow:Compiled the loaded model, but the compiled metrics have yet to be built. `model.compile_metrics` will be empty until you train or evaluate the model.\n"
          ]
        },
        {
          "output_type": "stream",
          "name": "stdout",
          "text": [
            "Saving new best model with loss:  2.2745492\n",
            "Epoch 27, Loss: 2.2745492458343506, Accuracy: 21.000001907348633\n"
          ]
        },
        {
          "output_type": "stream",
          "name": "stderr",
          "text": [
            "WARNING:tensorflow:Compiled the loaded model, but the compiled metrics have yet to be built. `model.compile_metrics` will be empty until you train or evaluate the model.\n"
          ]
        },
        {
          "output_type": "stream",
          "name": "stdout",
          "text": [
            "Saving new best model with loss:  2.2617702\n",
            "Epoch 28, Loss: 2.261770248413086, Accuracy: 21.416662216186523\n"
          ]
        },
        {
          "output_type": "stream",
          "name": "stderr",
          "text": [
            "WARNING:tensorflow:Compiled the loaded model, but the compiled metrics have yet to be built. `model.compile_metrics` will be empty until you train or evaluate the model.\n"
          ]
        },
        {
          "output_type": "stream",
          "name": "stdout",
          "text": [
            "Saving new best model with loss:  2.2546942\n",
            "Epoch 29, Loss: 2.2546942234039307, Accuracy: 20.5\n",
            "Epoch 30, Loss: 2.2576546669006348, Accuracy: 22.583330154418945\n"
          ]
        },
        {
          "output_type": "stream",
          "name": "stderr",
          "text": [
            "WARNING:tensorflow:Compiled the loaded model, but the compiled metrics have yet to be built. `model.compile_metrics` will be empty until you train or evaluate the model.\n"
          ]
        },
        {
          "output_type": "stream",
          "name": "stdout",
          "text": [
            "Saving new best model with loss:  2.2258341\n",
            "Epoch 31, Loss: 2.2258341312408447, Accuracy: 25.500001907348633\n",
            "Epoch 32, Loss: 2.282952308654785, Accuracy: 22.7500057220459\n",
            "Epoch 33, Loss: 2.233959436416626, Accuracy: 23.25\n",
            "Epoch 34, Loss: 2.2964515686035156, Accuracy: 20.666669845581055\n",
            "Epoch 35, Loss: 2.2501845359802246, Accuracy: 21.499996185302734\n",
            "Epoch 36, Loss: 2.2396275997161865, Accuracy: 22.916667938232422\n",
            "Epoch 37, Loss: 2.2355844974517822, Accuracy: 23.583328247070312\n"
          ]
        },
        {
          "output_type": "stream",
          "name": "stderr",
          "text": [
            "WARNING:tensorflow:Compiled the loaded model, but the compiled metrics have yet to be built. `model.compile_metrics` will be empty until you train or evaluate the model.\n"
          ]
        },
        {
          "output_type": "stream",
          "name": "stdout",
          "text": [
            "Saving new best model with loss:  2.2042472\n",
            "Epoch 38, Loss: 2.204247236251831, Accuracy: 24.666664123535156\n",
            "Epoch 39, Loss: 2.256756544113159, Accuracy: 22.833330154418945\n",
            "Epoch 40, Loss: 2.2224690914154053, Accuracy: 23.0000057220459\n",
            "Epoch 41, Loss: 2.252443790435791, Accuracy: 25.0\n"
          ]
        },
        {
          "output_type": "stream",
          "name": "stderr",
          "text": [
            "WARNING:tensorflow:Compiled the loaded model, but the compiled metrics have yet to be built. `model.compile_metrics` will be empty until you train or evaluate the model.\n"
          ]
        },
        {
          "output_type": "stream",
          "name": "stdout",
          "text": [
            "Saving new best model with loss:  2.1854136\n",
            "Epoch 42, Loss: 2.1854135990142822, Accuracy: 24.416662216186523\n",
            "Epoch 43, Loss: 2.2037193775177, Accuracy: 25.33332633972168\n",
            "Epoch 44, Loss: 2.214845895767212, Accuracy: 22.916669845581055\n",
            "Epoch 45, Loss: 2.2276580333709717, Accuracy: 24.5\n",
            "Epoch 46, Loss: 2.2453343868255615, Accuracy: 22.000001907348633\n"
          ]
        },
        {
          "output_type": "stream",
          "name": "stderr",
          "text": [
            "WARNING:tensorflow:Compiled the loaded model, but the compiled metrics have yet to be built. `model.compile_metrics` will be empty until you train or evaluate the model.\n"
          ]
        },
        {
          "output_type": "stream",
          "name": "stdout",
          "text": [
            "Saving new best model with loss:  2.1799254\n",
            "Epoch 47, Loss: 2.1799254417419434, Accuracy: 26.16667366027832\n",
            "Epoch 48, Loss: 2.2004969120025635, Accuracy: 24.916669845581055\n",
            "Epoch 49, Loss: 2.2176787853240967, Accuracy: 23.083335876464844\n",
            "Epoch 50, Loss: 2.199286460876465, Accuracy: 24.75\n",
            "Epoch 51, Loss: 2.205580234527588, Accuracy: 24.833332061767578\n",
            "Epoch 52, Loss: 2.2045865058898926, Accuracy: 24.916664123535156\n",
            "Epoch 53, Loss: 2.2199811935424805, Accuracy: 23.833330154418945\n",
            "Epoch 54, Loss: 2.2150204181671143, Accuracy: 24.166671752929688\n",
            "Epoch 55, Loss: 2.1853880882263184, Accuracy: 25.583332061767578\n",
            "Epoch 56, Loss: 2.1838512420654297, Accuracy: 25.166664123535156\n",
            "Epoch 57, Loss: 2.1937084197998047, Accuracy: 25.2499942779541\n"
          ]
        },
        {
          "output_type": "stream",
          "name": "stderr",
          "text": [
            "WARNING:tensorflow:Compiled the loaded model, but the compiled metrics have yet to be built. `model.compile_metrics` will be empty until you train or evaluate the model.\n"
          ]
        },
        {
          "output_type": "stream",
          "name": "stdout",
          "text": [
            "Saving new best model with loss:  2.1278722\n",
            "Epoch 58, Loss: 2.1278722286224365, Accuracy: 27.749998092651367\n",
            "Epoch 59, Loss: 2.1958277225494385, Accuracy: 25.083335876464844\n",
            "Epoch 60, Loss: 2.1563687324523926, Accuracy: 26.666664123535156\n",
            "Epoch 61, Loss: 2.1734719276428223, Accuracy: 26.249998092651367\n",
            "Epoch 62, Loss: 2.148261308670044, Accuracy: 27.08333396911621\n"
          ]
        },
        {
          "output_type": "stream",
          "name": "stderr",
          "text": [
            "WARNING:tensorflow:Compiled the loaded model, but the compiled metrics have yet to be built. `model.compile_metrics` will be empty until you train or evaluate the model.\n"
          ]
        },
        {
          "output_type": "stream",
          "name": "stdout",
          "text": [
            "Saving new best model with loss:  2.108651\n",
            "Epoch 63, Loss: 2.1086509227752686, Accuracy: 27.916664123535156\n",
            "Epoch 64, Loss: 2.1301262378692627, Accuracy: 27.25\n",
            "Epoch 65, Loss: 2.1682653427124023, Accuracy: 25.666669845581055\n"
          ]
        },
        {
          "output_type": "stream",
          "name": "stderr",
          "text": [
            "WARNING:tensorflow:Compiled the loaded model, but the compiled metrics have yet to be built. `model.compile_metrics` will be empty until you train or evaluate the model.\n"
          ]
        },
        {
          "output_type": "stream",
          "name": "stdout",
          "text": [
            "Saving new best model with loss:  2.09354\n",
            "Epoch 66, Loss: 2.0935399532318115, Accuracy: 28.2500057220459\n",
            "Epoch 67, Loss: 2.1499626636505127, Accuracy: 26.333335876464844\n",
            "Epoch 68, Loss: 2.129037857055664, Accuracy: 26.9999942779541\n",
            "Epoch 69, Loss: 2.1536765098571777, Accuracy: 27.166667938232422\n",
            "Epoch 70, Loss: 2.1323492527008057, Accuracy: 27.666667938232422\n",
            "Epoch 71, Loss: 2.111085891723633, Accuracy: 28.2499942779541\n",
            "Epoch 72, Loss: 2.1089751720428467, Accuracy: 26.41667366027832\n",
            "Epoch 73, Loss: 2.124350070953369, Accuracy: 27.91666030883789\n"
          ]
        },
        {
          "output_type": "stream",
          "name": "stderr",
          "text": [
            "WARNING:tensorflow:Compiled the loaded model, but the compiled metrics have yet to be built. `model.compile_metrics` will be empty until you train or evaluate the model.\n"
          ]
        },
        {
          "output_type": "stream",
          "name": "stdout",
          "text": [
            "Saving new best model with loss:  2.0813034\n",
            "Epoch 74, Loss: 2.081303358078003, Accuracy: 29.749998092651367\n",
            "Epoch 75, Loss: 2.1110146045684814, Accuracy: 27.49999237060547\n",
            "Epoch 76, Loss: 2.111346483230591, Accuracy: 27.333337783813477\n",
            "Epoch 77, Loss: 2.1085426807403564, Accuracy: 26.0\n",
            "Epoch 78, Loss: 2.1494016647338867, Accuracy: 25.583332061767578\n"
          ]
        },
        {
          "output_type": "stream",
          "name": "stderr",
          "text": [
            "WARNING:tensorflow:Compiled the loaded model, but the compiled metrics have yet to be built. `model.compile_metrics` will be empty until you train or evaluate the model.\n"
          ]
        },
        {
          "output_type": "stream",
          "name": "stdout",
          "text": [
            "Saving new best model with loss:  2.0670443\n",
            "Epoch 79, Loss: 2.067044258117676, Accuracy: 29.500003814697266\n",
            "Epoch 80, Loss: 2.134032964706421, Accuracy: 26.083335876464844\n"
          ]
        }
      ]
    },
    {
      "cell_type": "code",
      "source": [
        "#number of classes\n",
        "num_way = num_ways[4] \n",
        "\n",
        "#number of examples per class for support set\n",
        "num_shot = num_shots[4]  \n",
        "\n",
        "#number of query points\n",
        "num_query = num_shots[4] \n",
        "\n",
        "train_loss = tf.metrics.Mean(name='train_loss')\n",
        "train_acc = tf.metrics.Mean(name='train_accuracy')\n",
        "support = np.zeros([num_way, num_shot, img_width, img_height, channels], dtype=np.float32)\n",
        "query = np.zeros([num_way, num_query, img_height, channels], dtype=np.float32)\n",
        "model = Prototypical(support, query, img_width, img_height, channels)\n",
        "optimizer = tf.keras.optimizers.Adam(learning_rate)\n",
        "\n",
        "num_epochs = 80\n",
        "num_episodes = 100\n",
        "save_path = \"./results/models/cifar100_train4.h5\"\n",
        "\n",
        "least_loss = {'least_loss': 100.00}\n",
        "\n",
        "@tf.function\n",
        "def loss(support, query):\n",
        "  loss, acc = model(support, query)\n",
        "  return loss, acc\n",
        "\n",
        "@tf.function\n",
        "def train_step(support, query):\n",
        "  with tf.GradientTape() as tape:\n",
        "    loss, acc = model(support, query)\n",
        "  gradients = tape.gradient(loss, model.trainable_variables)\n",
        "  optimizer.apply_gradients(\n",
        "        zip(gradients, model.trainable_variables))\n",
        "  train_loss(loss)\n",
        "  train_acc(acc)\n",
        "\n",
        "@tf.function\n",
        "def val_step(loss_func, support, query):\n",
        "  loss, acc = loss_func(support, query)\n",
        "  val_loss(loss)\n",
        "  val_acc(acc)\n",
        "\n",
        "val_losses = []\n",
        "\n",
        "for epoch in range(num_epochs):\n",
        "  train_loss.reset_states()\n",
        "  train_acc.reset_states()\n",
        "\n",
        "  for episode in range(num_episodes):\n",
        "    train_support, train_query = get_next_batch(train_images_split, train_labels_split, num_way, num_shot, num_query, num_classes)\n",
        "    train_step(train_support, train_query)\n",
        "\n",
        "  cur_loss = train_loss.result().numpy()\n",
        "  if cur_loss < least_loss['least_loss']:\n",
        "      print(\"Saving new best model with loss: \", cur_loss)\n",
        "      least_loss['least_loss'] = cur_loss\n",
        "      model.save(save_path)\n",
        "      \n",
        "  template = 'Epoch {}, Loss: {}, Accuracy: {}'\n",
        "  print(template.format(epoch + 1, train_loss.result(), train_acc.result() * 100))"
      ],
      "metadata": {
        "colab": {
          "base_uri": "https://localhost:8080/"
        },
        "id": "FILHOD6qIlXt",
        "outputId": "0621c8a2-463a-4f00-f95f-4f20260968fb"
      },
      "execution_count": null,
      "outputs": [
        {
          "output_type": "stream",
          "name": "stderr",
          "text": [
            "WARNING:tensorflow:Compiled the loaded model, but the compiled metrics have yet to be built. `model.compile_metrics` will be empty until you train or evaluate the model.\n"
          ]
        },
        {
          "output_type": "stream",
          "name": "stdout",
          "text": [
            "Saving new best model with loss:  2.5649302\n",
            "Epoch 1, Loss: 2.5649302005767822, Accuracy: 16.577781677246094\n"
          ]
        },
        {
          "output_type": "stream",
          "name": "stderr",
          "text": [
            "WARNING:tensorflow:Compiled the loaded model, but the compiled metrics have yet to be built. `model.compile_metrics` will be empty until you train or evaluate the model.\n"
          ]
        },
        {
          "output_type": "stream",
          "name": "stdout",
          "text": [
            "Saving new best model with loss:  2.4296157\n",
            "Epoch 2, Loss: 2.4296157360076904, Accuracy: 21.20000648498535\n"
          ]
        },
        {
          "output_type": "stream",
          "name": "stderr",
          "text": [
            "WARNING:tensorflow:Compiled the loaded model, but the compiled metrics have yet to be built. `model.compile_metrics` will be empty until you train or evaluate the model.\n"
          ]
        },
        {
          "output_type": "stream",
          "name": "stdout",
          "text": [
            "Saving new best model with loss:  2.390389\n",
            "Epoch 3, Loss: 2.3903889656066895, Accuracy: 22.68889617919922\n"
          ]
        },
        {
          "output_type": "stream",
          "name": "stderr",
          "text": [
            "WARNING:tensorflow:Compiled the loaded model, but the compiled metrics have yet to be built. `model.compile_metrics` will be empty until you train or evaluate the model.\n"
          ]
        },
        {
          "output_type": "stream",
          "name": "stdout",
          "text": [
            "Saving new best model with loss:  2.3635187\n",
            "Epoch 4, Loss: 2.363518714904785, Accuracy: 23.777774810791016\n",
            "Epoch 5, Loss: 2.393465518951416, Accuracy: 23.177776336669922\n"
          ]
        },
        {
          "output_type": "stream",
          "name": "stderr",
          "text": [
            "WARNING:tensorflow:Compiled the loaded model, but the compiled metrics have yet to be built. `model.compile_metrics` will be empty until you train or evaluate the model.\n"
          ]
        },
        {
          "output_type": "stream",
          "name": "stdout",
          "text": [
            "Saving new best model with loss:  2.3266325\n",
            "Epoch 6, Loss: 2.326632499694824, Accuracy: 25.26667022705078\n"
          ]
        },
        {
          "output_type": "stream",
          "name": "stderr",
          "text": [
            "WARNING:tensorflow:Compiled the loaded model, but the compiled metrics have yet to be built. `model.compile_metrics` will be empty until you train or evaluate the model.\n"
          ]
        },
        {
          "output_type": "stream",
          "name": "stdout",
          "text": [
            "Saving new best model with loss:  2.280284\n",
            "Epoch 7, Loss: 2.2802839279174805, Accuracy: 26.377769470214844\n"
          ]
        },
        {
          "output_type": "stream",
          "name": "stderr",
          "text": [
            "WARNING:tensorflow:Compiled the loaded model, but the compiled metrics have yet to be built. `model.compile_metrics` will be empty until you train or evaluate the model.\n"
          ]
        },
        {
          "output_type": "stream",
          "name": "stdout",
          "text": [
            "Saving new best model with loss:  2.2648048\n",
            "Epoch 8, Loss: 2.2648048400878906, Accuracy: 27.044445037841797\n"
          ]
        },
        {
          "output_type": "stream",
          "name": "stderr",
          "text": [
            "WARNING:tensorflow:Compiled the loaded model, but the compiled metrics have yet to be built. `model.compile_metrics` will be empty until you train or evaluate the model.\n"
          ]
        },
        {
          "output_type": "stream",
          "name": "stdout",
          "text": [
            "Saving new best model with loss:  2.2013056\n",
            "Epoch 9, Loss: 2.201305627822876, Accuracy: 29.22222900390625\n",
            "Epoch 10, Loss: 2.209775447845459, Accuracy: 28.822219848632812\n",
            "Epoch 11, Loss: 2.20151424407959, Accuracy: 29.75555992126465\n",
            "Epoch 12, Loss: 2.202169895172119, Accuracy: 28.777780532836914\n"
          ]
        },
        {
          "output_type": "stream",
          "name": "stderr",
          "text": [
            "WARNING:tensorflow:Compiled the loaded model, but the compiled metrics have yet to be built. `model.compile_metrics` will be empty until you train or evaluate the model.\n"
          ]
        },
        {
          "output_type": "stream",
          "name": "stdout",
          "text": [
            "Saving new best model with loss:  2.138403\n",
            "Epoch 13, Loss: 2.1384029388427734, Accuracy: 31.400009155273438\n"
          ]
        },
        {
          "output_type": "stream",
          "name": "stderr",
          "text": [
            "WARNING:tensorflow:Compiled the loaded model, but the compiled metrics have yet to be built. `model.compile_metrics` will be empty until you train or evaluate the model.\n"
          ]
        },
        {
          "output_type": "stream",
          "name": "stdout",
          "text": [
            "Saving new best model with loss:  2.1262515\n",
            "Epoch 14, Loss: 2.126251459121704, Accuracy: 30.488889694213867\n",
            "Epoch 15, Loss: 2.1431198120117188, Accuracy: 30.533340454101562\n"
          ]
        },
        {
          "output_type": "stream",
          "name": "stderr",
          "text": [
            "WARNING:tensorflow:Compiled the loaded model, but the compiled metrics have yet to be built. `model.compile_metrics` will be empty until you train or evaluate the model.\n"
          ]
        },
        {
          "output_type": "stream",
          "name": "stdout",
          "text": [
            "Saving new best model with loss:  2.1024601\n",
            "Epoch 16, Loss: 2.1024601459503174, Accuracy: 32.4888916015625\n"
          ]
        },
        {
          "output_type": "stream",
          "name": "stderr",
          "text": [
            "WARNING:tensorflow:Compiled the loaded model, but the compiled metrics have yet to be built. `model.compile_metrics` will be empty until you train or evaluate the model.\n"
          ]
        },
        {
          "output_type": "stream",
          "name": "stdout",
          "text": [
            "Saving new best model with loss:  2.0842466\n",
            "Epoch 17, Loss: 2.0842466354370117, Accuracy: 32.53333282470703\n",
            "Epoch 18, Loss: 2.095054864883423, Accuracy: 32.0666618347168\n"
          ]
        },
        {
          "output_type": "stream",
          "name": "stderr",
          "text": [
            "WARNING:tensorflow:Compiled the loaded model, but the compiled metrics have yet to be built. `model.compile_metrics` will be empty until you train or evaluate the model.\n"
          ]
        },
        {
          "output_type": "stream",
          "name": "stdout",
          "text": [
            "Saving new best model with loss:  2.0127866\n",
            "Epoch 19, Loss: 2.012786626815796, Accuracy: 35.555545806884766\n",
            "Epoch 20, Loss: 2.0623950958251953, Accuracy: 32.57777786254883\n",
            "Epoch 21, Loss: 2.059262752532959, Accuracy: 33.88889694213867\n",
            "Epoch 22, Loss: 2.071554660797119, Accuracy: 33.37777328491211\n",
            "Epoch 23, Loss: 2.022672414779663, Accuracy: 34.28889083862305\n",
            "Epoch 24, Loss: 2.0250096321105957, Accuracy: 34.44445037841797\n"
          ]
        },
        {
          "output_type": "stream",
          "name": "stderr",
          "text": [
            "WARNING:tensorflow:Compiled the loaded model, but the compiled metrics have yet to be built. `model.compile_metrics` will be empty until you train or evaluate the model.\n"
          ]
        },
        {
          "output_type": "stream",
          "name": "stdout",
          "text": [
            "Saving new best model with loss:  2.0127153\n",
            "Epoch 25, Loss: 2.0127153396606445, Accuracy: 34.28888702392578\n",
            "Epoch 26, Loss: 2.0448031425476074, Accuracy: 34.80000686645508\n"
          ]
        },
        {
          "output_type": "stream",
          "name": "stderr",
          "text": [
            "WARNING:tensorflow:Compiled the loaded model, but the compiled metrics have yet to be built. `model.compile_metrics` will be empty until you train or evaluate the model.\n"
          ]
        },
        {
          "output_type": "stream",
          "name": "stdout",
          "text": [
            "Saving new best model with loss:  1.977382\n",
            "Epoch 27, Loss: 1.977381944656372, Accuracy: 35.66666793823242\n",
            "Epoch 28, Loss: 1.9903243780136108, Accuracy: 35.68888854980469\n"
          ]
        },
        {
          "output_type": "stream",
          "name": "stderr",
          "text": [
            "WARNING:tensorflow:Compiled the loaded model, but the compiled metrics have yet to be built. `model.compile_metrics` will be empty until you train or evaluate the model.\n"
          ]
        },
        {
          "output_type": "stream",
          "name": "stdout",
          "text": [
            "Saving new best model with loss:  1.9426901\n",
            "Epoch 29, Loss: 1.942690134048462, Accuracy: 36.73333740234375\n"
          ]
        },
        {
          "output_type": "stream",
          "name": "stderr",
          "text": [
            "WARNING:tensorflow:Compiled the loaded model, but the compiled metrics have yet to be built. `model.compile_metrics` will be empty until you train or evaluate the model.\n"
          ]
        },
        {
          "output_type": "stream",
          "name": "stdout",
          "text": [
            "Saving new best model with loss:  1.933047\n",
            "Epoch 30, Loss: 1.9330470561981201, Accuracy: 36.64445114135742\n"
          ]
        },
        {
          "output_type": "stream",
          "name": "stderr",
          "text": [
            "WARNING:tensorflow:Compiled the loaded model, but the compiled metrics have yet to be built. `model.compile_metrics` will be empty until you train or evaluate the model.\n"
          ]
        },
        {
          "output_type": "stream",
          "name": "stdout",
          "text": [
            "Saving new best model with loss:  1.9031284\n",
            "Epoch 31, Loss: 1.9031283855438232, Accuracy: 37.222232818603516\n",
            "Epoch 32, Loss: 1.9180514812469482, Accuracy: 36.66666793823242\n",
            "Epoch 33, Loss: 1.9055677652359009, Accuracy: 37.911109924316406\n"
          ]
        },
        {
          "output_type": "stream",
          "name": "stderr",
          "text": [
            "WARNING:tensorflow:Compiled the loaded model, but the compiled metrics have yet to be built. `model.compile_metrics` will be empty until you train or evaluate the model.\n"
          ]
        },
        {
          "output_type": "stream",
          "name": "stdout",
          "text": [
            "Saving new best model with loss:  1.877812\n",
            "Epoch 34, Loss: 1.8778120279312134, Accuracy: 38.13332748413086\n"
          ]
        },
        {
          "output_type": "stream",
          "name": "stderr",
          "text": [
            "WARNING:tensorflow:Compiled the loaded model, but the compiled metrics have yet to be built. `model.compile_metrics` will be empty until you train or evaluate the model.\n"
          ]
        },
        {
          "output_type": "stream",
          "name": "stdout",
          "text": [
            "Saving new best model with loss:  1.847682\n",
            "Epoch 35, Loss: 1.847681999206543, Accuracy: 39.666664123535156\n",
            "Epoch 36, Loss: 1.8743590116500854, Accuracy: 39.0444450378418\n",
            "Epoch 37, Loss: 1.8668285608291626, Accuracy: 38.977783203125\n",
            "Epoch 38, Loss: 1.8578670024871826, Accuracy: 39.06667709350586\n",
            "Epoch 39, Loss: 1.863193154335022, Accuracy: 39.44443893432617\n"
          ]
        },
        {
          "output_type": "stream",
          "name": "stderr",
          "text": [
            "WARNING:tensorflow:Compiled the loaded model, but the compiled metrics have yet to be built. `model.compile_metrics` will be empty until you train or evaluate the model.\n"
          ]
        },
        {
          "output_type": "stream",
          "name": "stdout",
          "text": [
            "Saving new best model with loss:  1.8041633\n",
            "Epoch 40, Loss: 1.8041633367538452, Accuracy: 41.5333251953125\n",
            "Epoch 41, Loss: 1.860048532485962, Accuracy: 39.84444046020508\n",
            "Epoch 42, Loss: 1.8637930154800415, Accuracy: 39.5555534362793\n"
          ]
        },
        {
          "output_type": "stream",
          "name": "stderr",
          "text": [
            "WARNING:tensorflow:Compiled the loaded model, but the compiled metrics have yet to be built. `model.compile_metrics` will be empty until you train or evaluate the model.\n"
          ]
        },
        {
          "output_type": "stream",
          "name": "stdout",
          "text": [
            "Saving new best model with loss:  1.7805148\n",
            "Epoch 43, Loss: 1.7805148363113403, Accuracy: 40.9777717590332\n"
          ]
        },
        {
          "output_type": "stream",
          "name": "stderr",
          "text": [
            "WARNING:tensorflow:Compiled the loaded model, but the compiled metrics have yet to be built. `model.compile_metrics` will be empty until you train or evaluate the model.\n"
          ]
        },
        {
          "output_type": "stream",
          "name": "stdout",
          "text": [
            "Saving new best model with loss:  1.7581658\n",
            "Epoch 44, Loss: 1.7581658363342285, Accuracy: 41.977779388427734\n",
            "Epoch 45, Loss: 1.8020119667053223, Accuracy: 40.80000686645508\n"
          ]
        },
        {
          "output_type": "stream",
          "name": "stderr",
          "text": [
            "WARNING:tensorflow:Compiled the loaded model, but the compiled metrics have yet to be built. `model.compile_metrics` will be empty until you train or evaluate the model.\n"
          ]
        },
        {
          "output_type": "stream",
          "name": "stdout",
          "text": [
            "Saving new best model with loss:  1.7376807\n",
            "Epoch 46, Loss: 1.7376806735992432, Accuracy: 43.0222282409668\n"
          ]
        },
        {
          "output_type": "stream",
          "name": "stderr",
          "text": [
            "WARNING:tensorflow:Compiled the loaded model, but the compiled metrics have yet to be built. `model.compile_metrics` will be empty until you train or evaluate the model.\n"
          ]
        },
        {
          "output_type": "stream",
          "name": "stdout",
          "text": [
            "Saving new best model with loss:  1.7245277\n",
            "Epoch 47, Loss: 1.7245277166366577, Accuracy: 43.355560302734375\n",
            "Epoch 48, Loss: 1.772812008857727, Accuracy: 42.75555419921875\n",
            "Epoch 49, Loss: 1.7456059455871582, Accuracy: 43.20000076293945\n",
            "Epoch 50, Loss: 1.7391533851623535, Accuracy: 42.133331298828125\n"
          ]
        },
        {
          "output_type": "stream",
          "name": "stderr",
          "text": [
            "WARNING:tensorflow:Compiled the loaded model, but the compiled metrics have yet to be built. `model.compile_metrics` will be empty until you train or evaluate the model.\n"
          ]
        },
        {
          "output_type": "stream",
          "name": "stdout",
          "text": [
            "Saving new best model with loss:  1.7230301\n",
            "Epoch 51, Loss: 1.7230300903320312, Accuracy: 42.86666488647461\n"
          ]
        },
        {
          "output_type": "stream",
          "name": "stderr",
          "text": [
            "WARNING:tensorflow:Compiled the loaded model, but the compiled metrics have yet to be built. `model.compile_metrics` will be empty until you train or evaluate the model.\n"
          ]
        },
        {
          "output_type": "stream",
          "name": "stdout",
          "text": [
            "Saving new best model with loss:  1.7153434\n",
            "Epoch 52, Loss: 1.7153433561325073, Accuracy: 42.80000305175781\n"
          ]
        },
        {
          "output_type": "stream",
          "name": "stderr",
          "text": [
            "WARNING:tensorflow:Compiled the loaded model, but the compiled metrics have yet to be built. `model.compile_metrics` will be empty until you train or evaluate the model.\n"
          ]
        },
        {
          "output_type": "stream",
          "name": "stdout",
          "text": [
            "Saving new best model with loss:  1.6734953\n",
            "Epoch 53, Loss: 1.6734952926635742, Accuracy: 45.22221755981445\n",
            "Epoch 54, Loss: 1.677850604057312, Accuracy: 44.71110534667969\n"
          ]
        },
        {
          "output_type": "stream",
          "name": "stderr",
          "text": [
            "WARNING:tensorflow:Compiled the loaded model, but the compiled metrics have yet to be built. `model.compile_metrics` will be empty until you train or evaluate the model.\n"
          ]
        },
        {
          "output_type": "stream",
          "name": "stdout",
          "text": [
            "Saving new best model with loss:  1.6665508\n",
            "Epoch 55, Loss: 1.6665507555007935, Accuracy: 45.488887786865234\n"
          ]
        },
        {
          "output_type": "stream",
          "name": "stderr",
          "text": [
            "WARNING:tensorflow:Compiled the loaded model, but the compiled metrics have yet to be built. `model.compile_metrics` will be empty until you train or evaluate the model.\n"
          ]
        },
        {
          "output_type": "stream",
          "name": "stdout",
          "text": [
            "Saving new best model with loss:  1.6520174\n",
            "Epoch 56, Loss: 1.65201735496521, Accuracy: 45.422218322753906\n",
            "Epoch 57, Loss: 1.6634125709533691, Accuracy: 45.88889694213867\n"
          ]
        },
        {
          "output_type": "stream",
          "name": "stderr",
          "text": [
            "WARNING:tensorflow:Compiled the loaded model, but the compiled metrics have yet to be built. `model.compile_metrics` will be empty until you train or evaluate the model.\n"
          ]
        },
        {
          "output_type": "stream",
          "name": "stdout",
          "text": [
            "Saving new best model with loss:  1.6340219\n",
            "Epoch 58, Loss: 1.6340218782424927, Accuracy: 46.42222213745117\n",
            "Epoch 59, Loss: 1.6456103324890137, Accuracy: 45.22220993041992\n"
          ]
        },
        {
          "output_type": "stream",
          "name": "stderr",
          "text": [
            "WARNING:tensorflow:Compiled the loaded model, but the compiled metrics have yet to be built. `model.compile_metrics` will be empty until you train or evaluate the model.\n"
          ]
        },
        {
          "output_type": "stream",
          "name": "stdout",
          "text": [
            "Saving new best model with loss:  1.5903355\n",
            "Epoch 60, Loss: 1.590335488319397, Accuracy: 47.13332748413086\n",
            "Epoch 61, Loss: 1.6519973278045654, Accuracy: 45.33333206176758\n"
          ]
        },
        {
          "output_type": "stream",
          "name": "stderr",
          "text": [
            "WARNING:tensorflow:Compiled the loaded model, but the compiled metrics have yet to be built. `model.compile_metrics` will be empty until you train or evaluate the model.\n"
          ]
        },
        {
          "output_type": "stream",
          "name": "stdout",
          "text": [
            "Saving new best model with loss:  1.5853899\n",
            "Epoch 62, Loss: 1.5853898525238037, Accuracy: 47.5333366394043\n",
            "Epoch 63, Loss: 1.6542173624038696, Accuracy: 45.42222595214844\n",
            "Epoch 64, Loss: 1.587105393409729, Accuracy: 48.15554428100586\n",
            "Epoch 65, Loss: 1.6126742362976074, Accuracy: 46.888877868652344\n",
            "Epoch 66, Loss: 1.5937178134918213, Accuracy: 49.20000076293945\n",
            "Epoch 67, Loss: 1.610930323600769, Accuracy: 46.95555877685547\n",
            "Epoch 68, Loss: 1.6241600513458252, Accuracy: 45.62221145629883\n",
            "Epoch 69, Loss: 1.6067008972167969, Accuracy: 47.4666633605957\n"
          ]
        },
        {
          "output_type": "stream",
          "name": "stderr",
          "text": [
            "WARNING:tensorflow:Compiled the loaded model, but the compiled metrics have yet to be built. `model.compile_metrics` will be empty until you train or evaluate the model.\n"
          ]
        },
        {
          "output_type": "stream",
          "name": "stdout",
          "text": [
            "Saving new best model with loss:  1.5797328\n",
            "Epoch 70, Loss: 1.5797327756881714, Accuracy: 48.222225189208984\n"
          ]
        },
        {
          "output_type": "stream",
          "name": "stderr",
          "text": [
            "WARNING:tensorflow:Compiled the loaded model, but the compiled metrics have yet to be built. `model.compile_metrics` will be empty until you train or evaluate the model.\n"
          ]
        },
        {
          "output_type": "stream",
          "name": "stdout",
          "text": [
            "Saving new best model with loss:  1.5736977\n",
            "Epoch 71, Loss: 1.5736976861953735, Accuracy: 48.68889236450195\n"
          ]
        },
        {
          "output_type": "stream",
          "name": "stderr",
          "text": [
            "WARNING:tensorflow:Compiled the loaded model, but the compiled metrics have yet to be built. `model.compile_metrics` will be empty until you train or evaluate the model.\n"
          ]
        },
        {
          "output_type": "stream",
          "name": "stdout",
          "text": [
            "Saving new best model with loss:  1.5343277\n",
            "Epoch 72, Loss: 1.534327745437622, Accuracy: 49.022212982177734\n",
            "Epoch 73, Loss: 1.556307077407837, Accuracy: 48.155555725097656\n",
            "Epoch 74, Loss: 1.5380970239639282, Accuracy: 49.022220611572266\n"
          ]
        },
        {
          "output_type": "stream",
          "name": "stderr",
          "text": [
            "WARNING:tensorflow:Compiled the loaded model, but the compiled metrics have yet to be built. `model.compile_metrics` will be empty until you train or evaluate the model.\n"
          ]
        },
        {
          "output_type": "stream",
          "name": "stdout",
          "text": [
            "Saving new best model with loss:  1.5281775\n",
            "Epoch 75, Loss: 1.5281774997711182, Accuracy: 50.111122131347656\n"
          ]
        },
        {
          "output_type": "stream",
          "name": "stderr",
          "text": [
            "WARNING:tensorflow:Compiled the loaded model, but the compiled metrics have yet to be built. `model.compile_metrics` will be empty until you train or evaluate the model.\n"
          ]
        },
        {
          "output_type": "stream",
          "name": "stdout",
          "text": [
            "Saving new best model with loss:  1.5055666\n",
            "Epoch 76, Loss: 1.5055665969848633, Accuracy: 50.22221755981445\n",
            "Epoch 77, Loss: 1.5222718715667725, Accuracy: 49.511112213134766\n",
            "Epoch 78, Loss: 1.5265307426452637, Accuracy: 49.511112213134766\n",
            "Epoch 79, Loss: 1.5349647998809814, Accuracy: 49.44444274902344\n",
            "Epoch 80, Loss: 1.510098934173584, Accuracy: 49.33331298828125\n"
          ]
        }
      ]
    },
    {
      "cell_type": "code",
      "source": [
        "\n",
        "model_path = \"./results/models/cifar100_train0.h5\"\n",
        "model.load(model_path)\n",
        "print(\"Model loaded.\")\n",
        "\n",
        "#number of classes\n",
        "num_way = num_ways[0]\n",
        "\n",
        "#number of examples per class for support set\n",
        "num_shot = num_shots[0]  \n",
        "\n",
        "#number of query points\n",
        "num_query = num_shots[0] \n",
        "\n",
        "#number of examples\n",
        "num_examples = 100\n",
        "\n",
        "num_episodes = 1200\n",
        "\n",
        "support = np.zeros([num_way, num_shot, img_width, img_height, channels], dtype=np.float32)\n",
        "query = np.zeros([num_way, num_query, img_height, channels], dtype=np.float32)\n",
        "model = Prototypical(support, query, img_width, img_height, channels)\n",
        "\n",
        "# Metrics to gather\n",
        "test_loss = tf.metrics.Mean(name='test_loss')\n",
        "test_acc = tf.metrics.Mean(name='test_accuracy')\n",
        "\n",
        "def calc_loss(support, query):\n",
        "  loss, acc = model(support, query)\n",
        "  return loss, acc\n",
        "\n",
        "for i_episode in range(num_episodes):\n",
        "  test_support, test_query = get_next_batch(test_images, test_labels, num_way, num_shot, num_query, num_examples)\n",
        "  if (i_episode+1)%50 == 0: \n",
        "    print(\"Episode: \", i_episode + 1)\n",
        "  loss, acc = calc_loss(test_support, test_query)\n",
        "  test_loss(loss)\n",
        "  test_acc(acc)\n",
        "\n",
        "print(\"Loss: \", test_loss.result().numpy())\n",
        "print(\"Accuracy: \", test_acc.result().numpy() * 100)"
      ],
      "metadata": {
        "colab": {
          "base_uri": "https://localhost:8080/"
        },
        "id": "ybKMJtz-U-By",
        "outputId": "6de365e3-3ce8-4406-d496-f6531861e363"
      },
      "execution_count": null,
      "outputs": [
        {
          "output_type": "stream",
          "name": "stdout",
          "text": [
            "Model loaded.\n",
            "Episode:  50\n",
            "Episode:  100\n",
            "Episode:  150\n",
            "Episode:  200\n",
            "Episode:  250\n",
            "Episode:  300\n",
            "Episode:  350\n",
            "Episode:  400\n",
            "Episode:  450\n",
            "Episode:  500\n",
            "Episode:  550\n",
            "Episode:  600\n",
            "Episode:  650\n",
            "Episode:  700\n",
            "Episode:  750\n",
            "Episode:  800\n",
            "Episode:  850\n",
            "Episode:  900\n",
            "Episode:  950\n",
            "Episode:  1000\n",
            "Episode:  1050\n",
            "Episode:  1100\n",
            "Episode:  1150\n",
            "Episode:  1200\n",
            "Loss:  1.6093048\n",
            "Accuracy:  38.13329041004181\n"
          ]
        }
      ]
    },
    {
      "cell_type": "code",
      "source": [
        "model_path = \"./results/models/cifar100_train1.h5\"\n",
        "model.load(model_path)\n",
        "print(\"Model loaded.\")\n",
        "\n",
        "#number of classes\n",
        "num_way = num_ways[1]\n",
        "\n",
        "#number of examples per class for support set\n",
        "num_shot = num_shots[1]  \n",
        "\n",
        "#number of query points\n",
        "num_query = num_shots[1] \n",
        "\n",
        "#number of examples\n",
        "num_examples = 100\n",
        "\n",
        "num_episodes = 1200\n",
        "\n",
        "support = np.zeros([num_way, num_shot, img_width, img_height, channels], dtype=np.float32)\n",
        "query = np.zeros([num_way, num_query, img_height, channels], dtype=np.float32)\n",
        "model = Prototypical(support, query, img_width, img_height, channels)\n",
        "\n",
        "# Metrics to gather\n",
        "test_loss = tf.metrics.Mean(name='test_loss')\n",
        "test_acc = tf.metrics.Mean(name='test_accuracy')\n",
        "\n",
        "def calc_loss(support, query):\n",
        "  loss, acc = model(support, query)\n",
        "  return loss, acc\n",
        "\n",
        "for i_episode in range(num_episodes):\n",
        "  test_support, test_query = get_next_batch(test_images, test_labels, num_way, num_shot, num_query, num_examples)\n",
        "  if (i_episode+1)%50 == 0: \n",
        "    print(\"Episode: \", i_episode + 1)\n",
        "  loss, acc = calc_loss(test_support, test_query)\n",
        "  test_loss(loss)\n",
        "  test_acc(acc)\n",
        "\n",
        "print(\"Loss: \", test_loss.result().numpy())\n",
        "print(\"Accuracy: \", test_acc.result().numpy() * 100)"
      ],
      "metadata": {
        "colab": {
          "base_uri": "https://localhost:8080/"
        },
        "id": "33Vs5c7LkTRi",
        "outputId": "7d30166d-4bcd-481f-a4a6-ab0dfcd22504"
      },
      "execution_count": null,
      "outputs": [
        {
          "output_type": "stream",
          "name": "stdout",
          "text": [
            "Model loaded.\n",
            "Episode:  50\n",
            "Episode:  100\n",
            "Episode:  150\n",
            "Episode:  200\n",
            "Episode:  250\n",
            "Episode:  300\n",
            "Episode:  350\n",
            "Episode:  400\n",
            "Episode:  450\n",
            "Episode:  500\n",
            "Episode:  550\n",
            "Episode:  600\n",
            "Episode:  650\n",
            "Episode:  700\n",
            "Episode:  750\n",
            "Episode:  800\n",
            "Episode:  850\n",
            "Episode:  900\n",
            "Episode:  950\n",
            "Episode:  1000\n",
            "Episode:  1050\n",
            "Episode:  1100\n",
            "Episode:  1150\n",
            "Episode:  1200\n",
            "Loss:  1.6093578\n",
            "Accuracy:  29.583311080932617\n"
          ]
        }
      ]
    },
    {
      "cell_type": "code",
      "source": [
        "model_path = \"./results/models/cifar100_train2.h5\"\n",
        "model.load(model_path)\n",
        "print(\"Model loaded.\")\n",
        "\n",
        "#number of classes\n",
        "num_way = num_ways[2]\n",
        "\n",
        "#number of examples per class for support set\n",
        "num_shot = num_shots[2]  \n",
        "\n",
        "#number of query points\n",
        "num_query = num_shots[2] \n",
        "\n",
        "#number of examples\n",
        "num_examples = 100\n",
        "\n",
        "num_episodes = 1200\n",
        "\n",
        "support = np.zeros([num_way, num_shot, img_width, img_height, channels], dtype=np.float32)\n",
        "query = np.zeros([num_way, num_query, img_height, channels], dtype=np.float32)\n",
        "model = Prototypical(support, query, img_width, img_height, channels)\n",
        "\n",
        "# Metrics to gather\n",
        "test_loss = tf.metrics.Mean(name='test_loss')\n",
        "test_acc = tf.metrics.Mean(name='test_accuracy')\n",
        "\n",
        "def calc_loss(support, query):\n",
        "  loss, acc = model(support, query)\n",
        "  return loss, acc\n",
        "\n",
        "for i_episode in range(num_episodes):\n",
        "  test_support, test_query = get_next_batch(test_images, test_labels, num_way, num_shot, num_query, num_examples)\n",
        "  if (i_episode+1)%50 == 0: \n",
        "    print(\"Episode: \", i_episode + 1)\n",
        "  loss, acc = calc_loss(test_support, test_query)\n",
        "  test_loss(loss)\n",
        "  test_acc(acc)\n",
        "\n",
        "print(\"Loss: \", test_loss.result().numpy())\n",
        "print(\"Accuracy: \", test_acc.result().numpy() * 100)"
      ],
      "metadata": {
        "colab": {
          "base_uri": "https://localhost:8080/"
        },
        "id": "ksiuhTGzkTsF",
        "outputId": "966e016f-64b7-418c-a6a2-ddece076afd6"
      },
      "execution_count": null,
      "outputs": [
        {
          "output_type": "stream",
          "name": "stdout",
          "text": [
            "Model loaded.\n",
            "Episode:  50\n",
            "Episode:  100\n",
            "Episode:  150\n",
            "Episode:  200\n",
            "Episode:  250\n",
            "Episode:  300\n",
            "Episode:  350\n",
            "Episode:  400\n",
            "Episode:  450\n",
            "Episode:  500\n",
            "Episode:  550\n",
            "Episode:  600\n",
            "Episode:  650\n",
            "Episode:  700\n",
            "Episode:  750\n",
            "Episode:  800\n",
            "Episode:  850\n",
            "Episode:  900\n",
            "Episode:  950\n",
            "Episode:  1000\n",
            "Episode:  1050\n",
            "Episode:  1100\n",
            "Episode:  1150\n",
            "Episode:  1200\n",
            "Loss:  2.4848206\n",
            "Accuracy:  21.468055248260498\n"
          ]
        }
      ]
    },
    {
      "cell_type": "code",
      "source": [
        "model_path = \"./results/models/cifar100_train3.h5\"\n",
        "model.load(model_path)\n",
        "print(\"Model loaded.\")\n",
        "\n",
        "#number of classes\n",
        "num_way = num_ways[3]\n",
        "\n",
        "#number of examples per class for support set\n",
        "num_shot = num_shots[3]  \n",
        "\n",
        "#number of query points\n",
        "num_query = num_shots[3] \n",
        "\n",
        "#number of examples\n",
        "num_examples = 100\n",
        "\n",
        "num_episodes = 1200\n",
        "\n",
        "support = np.zeros([num_way, num_shot, img_width, img_height, channels], dtype=np.float32)\n",
        "query = np.zeros([num_way, num_query, img_height, channels], dtype=np.float32)\n",
        "model = Prototypical(support, query, img_width, img_height, channels)\n",
        "\n",
        "# Metrics to gather\n",
        "test_loss = tf.metrics.Mean(name='test_loss')\n",
        "test_acc = tf.metrics.Mean(name='test_accuracy')\n",
        "\n",
        "def calc_loss(support, query):\n",
        "  loss, acc = model(support, query)\n",
        "  return loss, acc\n",
        "\n",
        "for i_episode in range(num_episodes):\n",
        "  test_support, test_query = get_next_batch(test_images, test_labels, num_way, num_shot, num_query, num_examples)\n",
        "  if (i_episode+1)%50 == 0: \n",
        "    print(\"Episode: \", i_episode + 1)\n",
        "  loss, acc = calc_loss(test_support, test_query)\n",
        "  test_loss(loss)\n",
        "  test_acc(acc)\n",
        "\n",
        "print(\"Loss: \", test_loss.result().numpy())\n",
        "print(\"Accuracy: \", test_acc.result().numpy() * 100)"
      ],
      "metadata": {
        "colab": {
          "base_uri": "https://localhost:8080/"
        },
        "id": "Njde06MMkUFn",
        "outputId": "0bc08bc9-7350-41dd-e35b-0e12a12d1776"
      },
      "execution_count": null,
      "outputs": [
        {
          "output_type": "stream",
          "name": "stdout",
          "text": [
            "Model loaded.\n",
            "Episode:  50\n",
            "Episode:  100\n",
            "Episode:  150\n",
            "Episode:  200\n",
            "Episode:  250\n",
            "Episode:  300\n",
            "Episode:  350\n",
            "Episode:  400\n",
            "Episode:  450\n",
            "Episode:  500\n",
            "Episode:  550\n",
            "Episode:  600\n",
            "Episode:  650\n",
            "Episode:  700\n",
            "Episode:  750\n",
            "Episode:  800\n",
            "Episode:  850\n",
            "Episode:  900\n",
            "Episode:  950\n",
            "Episode:  1000\n",
            "Episode:  1050\n",
            "Episode:  1100\n",
            "Episode:  1150\n",
            "Episode:  1200\n",
            "Loss:  2.484678\n",
            "Accuracy:  15.27082771062851\n"
          ]
        }
      ]
    },
    {
      "cell_type": "code",
      "source": [
        "model_path = \"./results/models/cifar100_train4.h5\"\n",
        "model.load(model_path)\n",
        "print(\"Model loaded.\")\n",
        "\n",
        "#number of classes\n",
        "num_way = num_ways[4]\n",
        "\n",
        "#number of examples per class for support set\n",
        "num_shot = num_shots[4]  \n",
        "\n",
        "#number of query points\n",
        "num_query = num_shots[4] \n",
        "\n",
        "#number of examples\n",
        "num_examples = 100\n",
        "\n",
        "num_episodes = 1200\n",
        "\n",
        "support = np.zeros([num_way, num_shot, img_width, img_height, channels], dtype=np.float32)\n",
        "query = np.zeros([num_way, num_query, img_height, channels], dtype=np.float32)\n",
        "model = Prototypical(support, query, img_width, img_height, channels)\n",
        "\n",
        "# Metrics to gather\n",
        "test_loss = tf.metrics.Mean(name='test_loss')\n",
        "test_acc = tf.metrics.Mean(name='test_accuracy')\n",
        "\n",
        "def calc_loss(support, query):\n",
        "  loss, acc = model(support, query)\n",
        "  return loss, acc\n",
        "\n",
        "for i_episode in range(num_episodes):\n",
        "  test_support, test_query = get_next_batch(test_images, test_labels, num_way, num_shot, num_query, num_examples)\n",
        "  if (i_episode+1)%50 == 0: \n",
        "    print(\"Episode: \", i_episode + 1)\n",
        "  loss, acc = calc_loss(test_support, test_query)\n",
        "  test_loss(loss)\n",
        "  test_acc(acc)\n",
        "\n",
        "print(\"Loss: \", test_loss.result().numpy())\n",
        "print(\"Accuracy: \", test_acc.result().numpy() * 100)"
      ],
      "metadata": {
        "colab": {
          "base_uri": "https://localhost:8080/"
        },
        "id": "kteFHAnIkUfp",
        "outputId": "aab9f0b1-ddce-422c-9d96-b4cfc52a4b16"
      },
      "execution_count": null,
      "outputs": [
        {
          "output_type": "stream",
          "name": "stdout",
          "text": [
            "Model loaded.\n",
            "Episode:  50\n",
            "Episode:  100\n",
            "Episode:  150\n",
            "Episode:  200\n",
            "Episode:  250\n",
            "Episode:  300\n",
            "Episode:  350\n",
            "Episode:  400\n",
            "Episode:  450\n",
            "Episode:  500\n",
            "Episode:  550\n",
            "Episode:  600\n",
            "Episode:  650\n",
            "Episode:  700\n",
            "Episode:  750\n",
            "Episode:  800\n",
            "Episode:  850\n",
            "Episode:  900\n",
            "Episode:  950\n",
            "Episode:  1000\n",
            "Episode:  1050\n",
            "Episode:  1100\n",
            "Episode:  1150\n",
            "Episode:  1200\n",
            "Loss:  2.7080038\n",
            "Accuracy:  17.56850630044937\n"
          ]
        }
      ]
    },
    {
      "cell_type": "code",
      "source": [
        "#Now adding reptile to this\n",
        "meta_step_size = 0.25\n",
        "\n",
        "#number of classes\n",
        "num_way = num_ways[0] \n",
        "\n",
        "#number of examples per class for support set\n",
        "num_shot = num_shots[0]  \n",
        "\n",
        "#number of query points\n",
        "num_query = num_shots[0] \n",
        "\n",
        "#number of examples\n",
        "num_examples = 100\n",
        "\n",
        "eval_iters = 20\n",
        "eval_interval = 4\n",
        "least_loss = {'least_loss': 100.00}\n",
        "\n",
        "train_loss = tf.metrics.Mean(name='train_loss')\n",
        "val_loss = tf.metrics.Mean(name='val_loss')\n",
        "train_acc = tf.metrics.Mean(name='train_accuracy')\n",
        "val_acc = tf.metrics.Mean(name='val_accuracy')\n",
        "support = np.zeros([num_way, num_shot, img_width, img_height, channels], dtype=np.float32)\n",
        "query = np.zeros([num_way, num_query, img_height, channels], dtype=np.float32)\n",
        "model = Prototypical(support, query, img_width, img_height, channels)\n",
        "optimizer_adam = tf.keras.optimizers.Adam(0.001)\n",
        "optimizer_sgd = tf.keras.optimizers.SGD(0.001)\n",
        "\n",
        "num_epochs = 81\n",
        "num_episodes = 100\n",
        "save_path = \"./results/models/cifar100_train_reptile0.h5\"\n",
        "\n",
        "@tf.function\n",
        "def loss(support, query):\n",
        "  loss, acc = model(support, query)\n",
        "  return loss, acc\n",
        "\n",
        "@tf.function\n",
        "def train_step(support, query, optimizer):\n",
        "  with tf.GradientTape() as tape:\n",
        "    loss, acc = model(support, query)\n",
        "  gradients = tape.gradient(loss, model.trainable_variables)\n",
        "  optimizer.apply_gradients(\n",
        "        zip(gradients, model.trainable_variables))\n",
        "  \n",
        "  \n",
        "  train_loss(loss)\n",
        "  train_acc(acc)\n",
        "  \n",
        "\n",
        "@tf.function\n",
        "def val_step(support, query, optimizer):\n",
        "  with tf.GradientTape() as tape:\n",
        "    loss, acc = model(support, query)\n",
        "  gradients = tape.gradient(loss, model.trainable_variables)\n",
        "  optimizer.apply_gradients(\n",
        "        zip(gradients, model.trainable_variables))\n",
        "  \n",
        "  val_loss(loss)\n",
        "  val_acc(acc)\n",
        "\n",
        "\n",
        "least_loss = {'least_loss': 100.00}\n",
        "for epoch in range(num_epochs):\n",
        "  train_loss.reset_states()\n",
        "  val_loss.reset_states()\n",
        "  train_acc.reset_states()\n",
        "  val_acc.reset_states()\n",
        "\n",
        "  for episode in range(num_episodes):\n",
        "    frac_done = episode / num_episodes\n",
        "    cur_meta_step_size = (1 - frac_done) * meta_step_size\n",
        "    train_support, train_query = get_next_batch(train_images_split, train_labels_split, num_way, num_shot, num_query, num_classes)\n",
        "\n",
        "    #old_vars = model.get_weights()\n",
        "    train_step(train_support, train_query, optimizer_adam)\n",
        "    new_vars = model.get_weights()\n",
        "\n",
        "    if epoch % eval_interval == 0:\n",
        "      eval_support, eval_query = get_next_batch(val_images_split, val_labels_split, num_way, num_shot, num_query, num_classes)\n",
        "      old_vars = model.get_weights()\n",
        "      val_step(eval_support, eval_query, optimizer_sgd)\n",
        "      model.set_weights(old_vars)\n",
        "      \n",
        "  cur_loss = val_loss.result().numpy()\n",
        "\n",
        "  if (epoch % eval_interval == 0):\n",
        "    template = 'Epoch {}, Loss: {}, Accuracy: {}, ' \\\n",
        "                  'Val Loss: {}, Val Accuracy: {}'\n",
        "    print(template.format(epoch + 1, train_loss.result(), train_acc.result() * 100, val_loss.result(),\n",
        "                            val_acc.result() * 100))\n",
        "    if cur_loss < least_loss['least_loss']:\n",
        "      print(\"Saving new best model with loss: \", cur_loss)\n",
        "      least_loss['least_loss'] = cur_loss\n",
        "      model.save(save_path)\n",
        "\n",
        "  "
      ],
      "metadata": {
        "colab": {
          "base_uri": "https://localhost:8080/"
        },
        "outputId": "076346af-9108-4a22-82ca-de5a88b573e8",
        "id": "cxBEkIU4rKUU"
      },
      "execution_count": null,
      "outputs": [
        {
          "output_type": "stream",
          "name": "stderr",
          "text": [
            "WARNING:tensorflow:Compiled the loaded model, but the compiled metrics have yet to be built. `model.compile_metrics` will be empty until you train or evaluate the model.\n"
          ]
        },
        {
          "output_type": "stream",
          "name": "stdout",
          "text": [
            "Epoch 1, Loss: 1.5433584451675415, Accuracy: 32.56000518798828, Val Loss: 1.5206483602523804, Val Accuracy: 35.720001220703125\n",
            "Saving new best model with loss:  1.5206484\n"
          ]
        },
        {
          "output_type": "stream",
          "name": "stderr",
          "text": [
            "WARNING:tensorflow:Compiled the loaded model, but the compiled metrics have yet to be built. `model.compile_metrics` will be empty until you train or evaluate the model.\n"
          ]
        },
        {
          "output_type": "stream",
          "name": "stdout",
          "text": [
            "Epoch 5, Loss: 1.3201909065246582, Accuracy: 45.55999755859375, Val Loss: 1.3081568479537964, Val Accuracy: 46.40000534057617\n",
            "Saving new best model with loss:  1.3081568\n",
            "Epoch 9, Loss: 1.2758046388626099, Accuracy: 47.84000778198242, Val Loss: 1.3204554319381714, Val Accuracy: 46.00000762939453\n"
          ]
        },
        {
          "output_type": "stream",
          "name": "stderr",
          "text": [
            "WARNING:tensorflow:Compiled the loaded model, but the compiled metrics have yet to be built. `model.compile_metrics` will be empty until you train or evaluate the model.\n"
          ]
        },
        {
          "output_type": "stream",
          "name": "stdout",
          "text": [
            "Epoch 13, Loss: 1.2232595682144165, Accuracy: 50.07999038696289, Val Loss: 1.2604975700378418, Val Accuracy: 48.67999267578125\n",
            "Saving new best model with loss:  1.2604976\n"
          ]
        },
        {
          "output_type": "stream",
          "name": "stderr",
          "text": [
            "WARNING:tensorflow:Compiled the loaded model, but the compiled metrics have yet to be built. `model.compile_metrics` will be empty until you train or evaluate the model.\n"
          ]
        },
        {
          "output_type": "stream",
          "name": "stdout",
          "text": [
            "Epoch 17, Loss: 1.1992788314819336, Accuracy: 52.07999801635742, Val Loss: 1.2487550973892212, Val Accuracy: 51.08000183105469\n",
            "Saving new best model with loss:  1.2487551\n"
          ]
        },
        {
          "output_type": "stream",
          "name": "stderr",
          "text": [
            "WARNING:tensorflow:Compiled the loaded model, but the compiled metrics have yet to be built. `model.compile_metrics` will be empty until you train or evaluate the model.\n"
          ]
        },
        {
          "output_type": "stream",
          "name": "stdout",
          "text": [
            "Epoch 21, Loss: 1.1440080404281616, Accuracy: 53.559993743896484, Val Loss: 1.144745111465454, Val Accuracy: 52.68000793457031\n",
            "Saving new best model with loss:  1.1447451\n",
            "Epoch 25, Loss: 1.1266709566116333, Accuracy: 56.039981842041016, Val Loss: 1.1469424962997437, Val Accuracy: 54.15998077392578\n"
          ]
        },
        {
          "output_type": "stream",
          "name": "stderr",
          "text": [
            "WARNING:tensorflow:Compiled the loaded model, but the compiled metrics have yet to be built. `model.compile_metrics` will be empty until you train or evaluate the model.\n"
          ]
        },
        {
          "output_type": "stream",
          "name": "stdout",
          "text": [
            "Epoch 29, Loss: 1.1184780597686768, Accuracy: 55.95998001098633, Val Loss: 1.1120010614395142, Val Accuracy: 56.15998458862305\n",
            "Saving new best model with loss:  1.1120011\n",
            "Epoch 33, Loss: 1.1169366836547852, Accuracy: 55.119998931884766, Val Loss: 1.1307566165924072, Val Accuracy: 54.599998474121094\n"
          ]
        },
        {
          "output_type": "stream",
          "name": "stderr",
          "text": [
            "WARNING:tensorflow:Compiled the loaded model, but the compiled metrics have yet to be built. `model.compile_metrics` will be empty until you train or evaluate the model.\n"
          ]
        },
        {
          "output_type": "stream",
          "name": "stdout",
          "text": [
            "Epoch 37, Loss: 1.0412124395370483, Accuracy: 57.759986877441406, Val Loss: 1.0510624647140503, Val Accuracy: 58.19999694824219\n",
            "Saving new best model with loss:  1.0510625\n",
            "Epoch 41, Loss: 1.093928337097168, Accuracy: 55.040008544921875, Val Loss: 1.085333228111267, Val Accuracy: 57.08000564575195\n"
          ]
        },
        {
          "output_type": "stream",
          "name": "stderr",
          "text": [
            "WARNING:tensorflow:Compiled the loaded model, but the compiled metrics have yet to be built. `model.compile_metrics` will be empty until you train or evaluate the model.\n"
          ]
        },
        {
          "output_type": "stream",
          "name": "stdout",
          "text": [
            "Epoch 45, Loss: 1.024381160736084, Accuracy: 58.84000778198242, Val Loss: 1.018144965171814, Val Accuracy: 60.9999885559082\n",
            "Saving new best model with loss:  1.018145\n",
            "Epoch 49, Loss: 1.0376615524291992, Accuracy: 58.839988708496094, Val Loss: 1.0469155311584473, Val Accuracy: 58.96000289916992\n"
          ]
        },
        {
          "output_type": "stream",
          "name": "stderr",
          "text": [
            "WARNING:tensorflow:Compiled the loaded model, but the compiled metrics have yet to be built. `model.compile_metrics` will be empty until you train or evaluate the model.\n"
          ]
        },
        {
          "output_type": "stream",
          "name": "stdout",
          "text": [
            "Epoch 53, Loss: 0.9894683361053467, Accuracy: 62.19999313354492, Val Loss: 0.9984414577484131, Val Accuracy: 60.75999069213867\n",
            "Saving new best model with loss:  0.99844146\n"
          ]
        },
        {
          "output_type": "stream",
          "name": "stderr",
          "text": [
            "WARNING:tensorflow:Compiled the loaded model, but the compiled metrics have yet to be built. `model.compile_metrics` will be empty until you train or evaluate the model.\n"
          ]
        },
        {
          "output_type": "stream",
          "name": "stdout",
          "text": [
            "Epoch 57, Loss: 0.9772444367408752, Accuracy: 61.80000305175781, Val Loss: 0.9780755043029785, Val Accuracy: 61.879981994628906\n",
            "Saving new best model with loss:  0.9780755\n"
          ]
        },
        {
          "output_type": "stream",
          "name": "stderr",
          "text": [
            "WARNING:tensorflow:Compiled the loaded model, but the compiled metrics have yet to be built. `model.compile_metrics` will be empty until you train or evaluate the model.\n"
          ]
        },
        {
          "output_type": "stream",
          "name": "stdout",
          "text": [
            "Epoch 61, Loss: 0.9046863317489624, Accuracy: 64.91998291015625, Val Loss: 0.9550935626029968, Val Accuracy: 62.31998062133789\n",
            "Saving new best model with loss:  0.95509356\n",
            "Epoch 65, Loss: 0.9521123766899109, Accuracy: 63.15998840332031, Val Loss: 0.9890031218528748, Val Accuracy: 61.31999969482422\n"
          ]
        },
        {
          "output_type": "stream",
          "name": "stderr",
          "text": [
            "WARNING:tensorflow:Compiled the loaded model, but the compiled metrics have yet to be built. `model.compile_metrics` will be empty until you train or evaluate the model.\n"
          ]
        },
        {
          "output_type": "stream",
          "name": "stdout",
          "text": [
            "Epoch 69, Loss: 0.943413496017456, Accuracy: 63.2399787902832, Val Loss: 0.9332457780838013, Val Accuracy: 64.19998168945312\n",
            "Saving new best model with loss:  0.9332458\n",
            "Epoch 73, Loss: 0.8798330426216125, Accuracy: 64.79998779296875, Val Loss: 0.9624813199043274, Val Accuracy: 62.75999450683594\n",
            "Epoch 77, Loss: 0.9185657501220703, Accuracy: 64.47999572753906, Val Loss: 0.9412515759468079, Val Accuracy: 64.79998779296875\n"
          ]
        },
        {
          "output_type": "stream",
          "name": "stderr",
          "text": [
            "WARNING:tensorflow:Compiled the loaded model, but the compiled metrics have yet to be built. `model.compile_metrics` will be empty until you train or evaluate the model.\n"
          ]
        },
        {
          "output_type": "stream",
          "name": "stdout",
          "text": [
            "Epoch 81, Loss: 0.8472483158111572, Accuracy: 67.31998443603516, Val Loss: 0.8560788631439209, Val Accuracy: 66.07999420166016\n",
            "Saving new best model with loss:  0.85607886\n"
          ]
        }
      ]
    },
    {
      "cell_type": "code",
      "source": [
        "#Now adding reptile to this\n",
        "meta_step_size = 0.25\n",
        "\n",
        "#number of classes\n",
        "num_way = num_ways[1] \n",
        "\n",
        "#number of examples per class for support set\n",
        "num_shot = num_shots[1]  \n",
        "\n",
        "#number of query points\n",
        "num_query = num_shots[1] \n",
        "\n",
        "#number of examples\n",
        "num_examples = 100\n",
        "\n",
        "eval_iters = 20\n",
        "eval_interval = 4\n",
        "least_loss = {'least_loss': 100.00}\n",
        "\n",
        "train_loss = tf.metrics.Mean(name='train_loss')\n",
        "val_loss = tf.metrics.Mean(name='val_loss')\n",
        "train_acc = tf.metrics.Mean(name='train_accuracy')\n",
        "val_acc = tf.metrics.Mean(name='val_accuracy')\n",
        "support = np.zeros([num_way, num_shot, img_width, img_height, channels], dtype=np.float32)\n",
        "query = np.zeros([num_way, num_query, img_height, channels], dtype=np.float32)\n",
        "model = Prototypical(support, query, img_width, img_height, channels)\n",
        "optimizer_adam = tf.keras.optimizers.Adam(0.001)\n",
        "optimizer_sgd = tf.keras.optimizers.SGD(0.001)\n",
        "\n",
        "num_epochs = 81\n",
        "num_episodes = 100\n",
        "save_path = \"./results/models/cifar100_train_reptile1.h5\"\n",
        "\n",
        "@tf.function\n",
        "def loss(support, query):\n",
        "  loss, acc = model(support, query)\n",
        "  return loss, acc\n",
        "\n",
        "@tf.function\n",
        "def train_step(support, query, optimizer):\n",
        "  with tf.GradientTape() as tape:\n",
        "    loss, acc = model(support, query)\n",
        "  gradients = tape.gradient(loss, model.trainable_variables)\n",
        "  optimizer.apply_gradients(\n",
        "        zip(gradients, model.trainable_variables))\n",
        "  \n",
        "  \n",
        "  train_loss(loss)\n",
        "  train_acc(acc)\n",
        "  \n",
        "\n",
        "@tf.function\n",
        "def val_step(support, query, optimizer):\n",
        "  with tf.GradientTape() as tape:\n",
        "    loss, acc = model(support, query)\n",
        "  gradients = tape.gradient(loss, model.trainable_variables)\n",
        "  optimizer.apply_gradients(\n",
        "        zip(gradients, model.trainable_variables))\n",
        "  \n",
        "  val_loss(loss)\n",
        "  val_acc(acc)\n",
        "\n",
        "\n",
        "least_loss = {'least_loss': 100.00}\n",
        "for epoch in range(num_epochs):\n",
        "  train_loss.reset_states()\n",
        "  val_loss.reset_states()\n",
        "  train_acc.reset_states()\n",
        "  val_acc.reset_states()\n",
        "\n",
        "  for episode in range(num_episodes):\n",
        "    frac_done = episode / num_episodes\n",
        "    cur_meta_step_size = (1 - frac_done) * meta_step_size\n",
        "    train_support, train_query = get_next_batch(train_images_split, train_labels_split, num_way, num_shot, num_query, num_classes)\n",
        "\n",
        "    #old_vars = model.get_weights()\n",
        "    train_step(train_support, train_query, optimizer_adam)\n",
        "    new_vars = model.get_weights()\n",
        "\n",
        "    if epoch % eval_interval == 0:\n",
        "      eval_support, eval_query = get_next_batch(val_images_split, val_labels_split, num_way, num_shot, num_query, num_classes)\n",
        "      old_vars = model.get_weights()\n",
        "      val_step(eval_support, eval_query, optimizer_sgd)\n",
        "      model.set_weights(old_vars)\n",
        "      \n",
        "  cur_loss = val_loss.result().numpy()\n",
        "\n",
        "  if (epoch % eval_interval == 0):\n",
        "    template = 'Epoch {}, Loss: {}, Accuracy: {}, ' \\\n",
        "                  'Val Loss: {}, Val Accuracy: {}'\n",
        "    print(template.format(epoch + 1, train_loss.result(), train_acc.result() * 100, val_loss.result(),\n",
        "                            val_acc.result() * 100))\n",
        "    if cur_loss < least_loss['least_loss']:\n",
        "      print(\"Saving new best model with loss: \", cur_loss)\n",
        "      least_loss['least_loss'] = cur_loss\n",
        "      model.save(save_path)"
      ],
      "metadata": {
        "colab": {
          "base_uri": "https://localhost:8080/"
        },
        "id": "oDZJF-lJoTo_",
        "outputId": "478c7812-1288-4a56-996e-67f059aec570"
      },
      "execution_count": null,
      "outputs": [
        {
          "output_type": "stream",
          "name": "stderr",
          "text": [
            "WARNING:tensorflow:Compiled the loaded model, but the compiled metrics have yet to be built. `model.compile_metrics` will be empty until you train or evaluate the model.\n"
          ]
        },
        {
          "output_type": "stream",
          "name": "stdout",
          "text": [
            "Epoch 1, Loss: 1.597836971282959, Accuracy: 29.000001907348633, Val Loss: 1.6018983125686646, Val Accuracy: 26.00000762939453\n",
            "Saving new best model with loss:  1.6018983\n"
          ]
        },
        {
          "output_type": "stream",
          "name": "stderr",
          "text": [
            "WARNING:tensorflow:Compiled the loaded model, but the compiled metrics have yet to be built. `model.compile_metrics` will be empty until you train or evaluate the model.\n"
          ]
        },
        {
          "output_type": "stream",
          "name": "stdout",
          "text": [
            "Epoch 5, Loss: 1.547929048538208, Accuracy: 29.40001106262207, Val Loss: 1.575371503829956, Val Accuracy: 28.0000057220459\n",
            "Saving new best model with loss:  1.5753715\n"
          ]
        },
        {
          "output_type": "stream",
          "name": "stderr",
          "text": [
            "WARNING:tensorflow:Compiled the loaded model, but the compiled metrics have yet to be built. `model.compile_metrics` will be empty until you train or evaluate the model.\n"
          ]
        },
        {
          "output_type": "stream",
          "name": "stdout",
          "text": [
            "Epoch 9, Loss: 1.540434718132019, Accuracy: 34.400001525878906, Val Loss: 1.5384271144866943, Val Accuracy: 32.600006103515625\n",
            "Saving new best model with loss:  1.5384271\n",
            "Epoch 13, Loss: 1.5607911348342896, Accuracy: 32.600006103515625, Val Loss: 1.5501724481582642, Val Accuracy: 32.600006103515625\n",
            "Epoch 17, Loss: 1.5597425699234009, Accuracy: 28.400001525878906, Val Loss: 1.558258056640625, Val Accuracy: 31.20000648498535\n",
            "Epoch 21, Loss: 1.560999870300293, Accuracy: 33.20000457763672, Val Loss: 1.5489211082458496, Val Accuracy: 34.40000534057617\n",
            "Epoch 25, Loss: 1.533216953277588, Accuracy: 35.60000228881836, Val Loss: 1.5461331605911255, Val Accuracy: 31.40000343322754\n"
          ]
        },
        {
          "output_type": "stream",
          "name": "stderr",
          "text": [
            "WARNING:tensorflow:Compiled the loaded model, but the compiled metrics have yet to be built. `model.compile_metrics` will be empty until you train or evaluate the model.\n"
          ]
        },
        {
          "output_type": "stream",
          "name": "stdout",
          "text": [
            "Epoch 29, Loss: 1.507278323173523, Accuracy: 36.800018310546875, Val Loss: 1.51420259475708, Val Accuracy: 33.20000457763672\n",
            "Saving new best model with loss:  1.5142026\n",
            "Epoch 33, Loss: 1.572136402130127, Accuracy: 32.600006103515625, Val Loss: 1.5417996644973755, Val Accuracy: 32.600006103515625\n",
            "Epoch 37, Loss: 1.529047966003418, Accuracy: 32.800010681152344, Val Loss: 1.5239896774291992, Val Accuracy: 32.00000762939453\n"
          ]
        },
        {
          "output_type": "stream",
          "name": "stderr",
          "text": [
            "WARNING:tensorflow:Compiled the loaded model, but the compiled metrics have yet to be built. `model.compile_metrics` will be empty until you train or evaluate the model.\n"
          ]
        },
        {
          "output_type": "stream",
          "name": "stdout",
          "text": [
            "Epoch 41, Loss: 1.5112336874008179, Accuracy: 33.40000534057617, Val Loss: 1.4775474071502686, Val Accuracy: 36.400001525878906\n",
            "Saving new best model with loss:  1.4775474\n",
            "Epoch 45, Loss: 1.469346523284912, Accuracy: 36.60001754760742, Val Loss: 1.502609133720398, Val Accuracy: 35.40000534057617\n"
          ]
        },
        {
          "output_type": "stream",
          "name": "stderr",
          "text": [
            "WARNING:tensorflow:Compiled the loaded model, but the compiled metrics have yet to be built. `model.compile_metrics` will be empty until you train or evaluate the model.\n"
          ]
        },
        {
          "output_type": "stream",
          "name": "stdout",
          "text": [
            "Epoch 49, Loss: 1.5049705505371094, Accuracy: 35.80000686645508, Val Loss: 1.4672999382019043, Val Accuracy: 35.600006103515625\n",
            "Saving new best model with loss:  1.4672999\n",
            "Epoch 53, Loss: 1.5017943382263184, Accuracy: 34.000003814697266, Val Loss: 1.4925346374511719, Val Accuracy: 34.80000305175781\n",
            "Epoch 57, Loss: 1.4644851684570312, Accuracy: 35.60001754760742, Val Loss: 1.4919862747192383, Val Accuracy: 33.40000534057617\n"
          ]
        },
        {
          "output_type": "stream",
          "name": "stderr",
          "text": [
            "WARNING:tensorflow:Compiled the loaded model, but the compiled metrics have yet to be built. `model.compile_metrics` will be empty until you train or evaluate the model.\n"
          ]
        },
        {
          "output_type": "stream",
          "name": "stdout",
          "text": [
            "Epoch 61, Loss: 1.4949389696121216, Accuracy: 34.60000991821289, Val Loss: 1.4553024768829346, Val Accuracy: 38.800010681152344\n",
            "Saving new best model with loss:  1.4553025\n",
            "Epoch 65, Loss: 1.4724124670028687, Accuracy: 38.000003814697266, Val Loss: 1.4599359035491943, Val Accuracy: 35.40000534057617\n",
            "Epoch 69, Loss: 1.5008124113082886, Accuracy: 34.40000915527344, Val Loss: 1.460013747215271, Val Accuracy: 37.4000244140625\n",
            "Epoch 73, Loss: 1.386599063873291, Accuracy: 39.0000114440918, Val Loss: 1.5094131231307983, Val Accuracy: 34.60001754760742\n",
            "Epoch 77, Loss: 1.4187318086624146, Accuracy: 39.59999465942383, Val Loss: 1.4770638942718506, Val Accuracy: 37.4000129699707\n",
            "Epoch 81, Loss: 1.4138176441192627, Accuracy: 39.20001220703125, Val Loss: 1.4571404457092285, Val Accuracy: 37.40000534057617\n"
          ]
        }
      ]
    },
    {
      "cell_type": "code",
      "source": [
        "#Now adding reptile to this\n",
        "meta_step_size = 0.25\n",
        "\n",
        "#number of classes\n",
        "num_way = num_ways[2] \n",
        "\n",
        "#number of examples per class for support set\n",
        "num_shot = num_shots[2]  \n",
        "\n",
        "#number of query points\n",
        "num_query = num_shots[2] \n",
        "\n",
        "#number of examples\n",
        "num_examples = 100\n",
        "\n",
        "eval_iters = 20\n",
        "eval_interval = 4\n",
        "least_loss = {'least_loss': 100.00}\n",
        "\n",
        "train_loss = tf.metrics.Mean(name='train_loss')\n",
        "val_loss = tf.metrics.Mean(name='val_loss')\n",
        "train_acc = tf.metrics.Mean(name='train_accuracy')\n",
        "val_acc = tf.metrics.Mean(name='val_accuracy')\n",
        "support = np.zeros([num_way, num_shot, img_width, img_height, channels], dtype=np.float32)\n",
        "query = np.zeros([num_way, num_query, img_height, channels], dtype=np.float32)\n",
        "model = Prototypical(support, query, img_width, img_height, channels)\n",
        "optimizer_adam = tf.keras.optimizers.Adam(0.001)\n",
        "optimizer_sgd = tf.keras.optimizers.SGD(0.001)\n",
        "\n",
        "num_epochs = 81\n",
        "num_episodes = 100\n",
        "save_path = \"./results/models/cifar100_train_reptile2.h5\"\n",
        "\n",
        "@tf.function\n",
        "def loss(support, query):\n",
        "  loss, acc = model(support, query)\n",
        "  return loss, acc\n",
        "\n",
        "@tf.function\n",
        "def train_step(support, query, optimizer):\n",
        "  with tf.GradientTape() as tape:\n",
        "    loss, acc = model(support, query)\n",
        "  gradients = tape.gradient(loss, model.trainable_variables)\n",
        "  optimizer.apply_gradients(\n",
        "        zip(gradients, model.trainable_variables))\n",
        "  \n",
        "  \n",
        "  train_loss(loss)\n",
        "  train_acc(acc)\n",
        "  \n",
        "\n",
        "@tf.function\n",
        "def val_step(support, query, optimizer):\n",
        "  with tf.GradientTape() as tape:\n",
        "    loss, acc = model(support, query)\n",
        "  gradients = tape.gradient(loss, model.trainable_variables)\n",
        "  optimizer.apply_gradients(\n",
        "        zip(gradients, model.trainable_variables))\n",
        "  \n",
        "  val_loss(loss)\n",
        "  val_acc(acc)\n",
        "\n",
        "\n",
        "least_loss = {'least_loss': 100.00}\n",
        "for epoch in range(num_epochs):\n",
        "  train_loss.reset_states()\n",
        "  val_loss.reset_states()\n",
        "  train_acc.reset_states()\n",
        "  val_acc.reset_states()\n",
        "\n",
        "  for episode in range(num_episodes):\n",
        "    frac_done = episode / num_episodes\n",
        "    cur_meta_step_size = (1 - frac_done) * meta_step_size\n",
        "    train_support, train_query = get_next_batch(train_images_split, train_labels_split, num_way, num_shot, num_query, num_classes)\n",
        "\n",
        "    #old_vars = model.get_weights()\n",
        "    train_step(train_support, train_query, optimizer_adam)\n",
        "    new_vars = model.get_weights()\n",
        "\n",
        "    if epoch % eval_interval == 0:\n",
        "      eval_support, eval_query = get_next_batch(val_images_split, val_labels_split, num_way, num_shot, num_query, num_classes)\n",
        "      old_vars = model.get_weights()\n",
        "      val_step(eval_support, eval_query, optimizer_sgd)\n",
        "      model.set_weights(old_vars)\n",
        "      \n",
        "  cur_loss = val_loss.result().numpy()\n",
        "\n",
        "  if (epoch % eval_interval == 0):\n",
        "    template = 'Epoch {}, Loss: {}, Accuracy: {}, ' \\\n",
        "                  'Val Loss: {}, Val Accuracy: {}'\n",
        "    print(template.format(epoch + 1, train_loss.result(), train_acc.result() * 100, val_loss.result(),\n",
        "                            val_acc.result() * 100))\n",
        "    if cur_loss < least_loss['least_loss']:\n",
        "      print(\"Saving new best model with loss: \", cur_loss)\n",
        "      least_loss['least_loss'] = cur_loss\n",
        "      model.save(save_path)"
      ],
      "metadata": {
        "colab": {
          "base_uri": "https://localhost:8080/"
        },
        "id": "jcq3hGMqoUDC",
        "outputId": "aeca131e-65f3-4167-f123-09b0344ecfe4"
      },
      "execution_count": null,
      "outputs": [
        {
          "output_type": "stream",
          "name": "stderr",
          "text": [
            "WARNING:tensorflow:Compiled the loaded model, but the compiled metrics have yet to be built. `model.compile_metrics` will be empty until you train or evaluate the model.\n"
          ]
        },
        {
          "output_type": "stream",
          "name": "stdout",
          "text": [
            "Epoch 1, Loss: 2.3354873657226562, Accuracy: 20.549999237060547, Val Loss: 2.3432178497314453, Val Accuracy: 19.666667938232422\n",
            "Saving new best model with loss:  2.3432178\n"
          ]
        },
        {
          "output_type": "stream",
          "name": "stderr",
          "text": [
            "WARNING:tensorflow:Compiled the loaded model, but the compiled metrics have yet to be built. `model.compile_metrics` will be empty until you train or evaluate the model.\n"
          ]
        },
        {
          "output_type": "stream",
          "name": "stdout",
          "text": [
            "Epoch 5, Loss: 2.0346360206604004, Accuracy: 30.466663360595703, Val Loss: 2.0368528366088867, Val Accuracy: 30.933332443237305\n",
            "Saving new best model with loss:  2.0368528\n"
          ]
        },
        {
          "output_type": "stream",
          "name": "stderr",
          "text": [
            "WARNING:tensorflow:Compiled the loaded model, but the compiled metrics have yet to be built. `model.compile_metrics` will be empty until you train or evaluate the model.\n"
          ]
        },
        {
          "output_type": "stream",
          "name": "stdout",
          "text": [
            "Epoch 9, Loss: 1.8866047859191895, Accuracy: 36.216670989990234, Val Loss: 1.8884124755859375, Val Accuracy: 36.41666793823242\n",
            "Saving new best model with loss:  1.8884125\n"
          ]
        },
        {
          "output_type": "stream",
          "name": "stderr",
          "text": [
            "WARNING:tensorflow:Compiled the loaded model, but the compiled metrics have yet to be built. `model.compile_metrics` will be empty until you train or evaluate the model.\n"
          ]
        },
        {
          "output_type": "stream",
          "name": "stdout",
          "text": [
            "Epoch 13, Loss: 1.7777365446090698, Accuracy: 39.533329010009766, Val Loss: 1.818455696105957, Val Accuracy: 38.31666946411133\n",
            "Saving new best model with loss:  1.8184557\n"
          ]
        },
        {
          "output_type": "stream",
          "name": "stderr",
          "text": [
            "WARNING:tensorflow:Compiled the loaded model, but the compiled metrics have yet to be built. `model.compile_metrics` will be empty until you train or evaluate the model.\n"
          ]
        },
        {
          "output_type": "stream",
          "name": "stdout",
          "text": [
            "Epoch 17, Loss: 1.7421032190322876, Accuracy: 40.633338928222656, Val Loss: 1.7690287828445435, Val Accuracy: 40.41667556762695\n",
            "Saving new best model with loss:  1.7690288\n"
          ]
        },
        {
          "output_type": "stream",
          "name": "stderr",
          "text": [
            "WARNING:tensorflow:Compiled the loaded model, but the compiled metrics have yet to be built. `model.compile_metrics` will be empty until you train or evaluate the model.\n"
          ]
        },
        {
          "output_type": "stream",
          "name": "stdout",
          "text": [
            "Epoch 21, Loss: 1.6258697509765625, Accuracy: 45.38332748413086, Val Loss: 1.6580207347869873, Val Accuracy: 44.016666412353516\n",
            "Saving new best model with loss:  1.6580207\n"
          ]
        },
        {
          "output_type": "stream",
          "name": "stderr",
          "text": [
            "WARNING:tensorflow:Compiled the loaded model, but the compiled metrics have yet to be built. `model.compile_metrics` will be empty until you train or evaluate the model.\n"
          ]
        },
        {
          "output_type": "stream",
          "name": "stdout",
          "text": [
            "Epoch 25, Loss: 1.5921070575714111, Accuracy: 45.733333587646484, Val Loss: 1.6293753385543823, Val Accuracy: 44.833343505859375\n",
            "Saving new best model with loss:  1.6293753\n"
          ]
        },
        {
          "output_type": "stream",
          "name": "stderr",
          "text": [
            "WARNING:tensorflow:Compiled the loaded model, but the compiled metrics have yet to be built. `model.compile_metrics` will be empty until you train or evaluate the model.\n"
          ]
        },
        {
          "output_type": "stream",
          "name": "stdout",
          "text": [
            "Epoch 29, Loss: 1.521822452545166, Accuracy: 48.28333282470703, Val Loss: 1.5651851892471313, Val Accuracy: 48.05000686645508\n",
            "Saving new best model with loss:  1.5651852\n"
          ]
        },
        {
          "output_type": "stream",
          "name": "stderr",
          "text": [
            "WARNING:tensorflow:Compiled the loaded model, but the compiled metrics have yet to be built. `model.compile_metrics` will be empty until you train or evaluate the model.\n"
          ]
        },
        {
          "output_type": "stream",
          "name": "stdout",
          "text": [
            "Epoch 33, Loss: 1.464598536491394, Accuracy: 50.06666946411133, Val Loss: 1.5333501100540161, Val Accuracy: 48.83333206176758\n",
            "Saving new best model with loss:  1.5333501\n"
          ]
        },
        {
          "output_type": "stream",
          "name": "stderr",
          "text": [
            "WARNING:tensorflow:Compiled the loaded model, but the compiled metrics have yet to be built. `model.compile_metrics` will be empty until you train or evaluate the model.\n"
          ]
        },
        {
          "output_type": "stream",
          "name": "stdout",
          "text": [
            "Epoch 37, Loss: 1.4215563535690308, Accuracy: 52.0, Val Loss: 1.468642234802246, Val Accuracy: 51.08333969116211\n",
            "Saving new best model with loss:  1.4686422\n"
          ]
        },
        {
          "output_type": "stream",
          "name": "stderr",
          "text": [
            "WARNING:tensorflow:Compiled the loaded model, but the compiled metrics have yet to be built. `model.compile_metrics` will be empty until you train or evaluate the model.\n"
          ]
        },
        {
          "output_type": "stream",
          "name": "stdout",
          "text": [
            "Epoch 41, Loss: 1.3955926895141602, Accuracy: 52.78334045410156, Val Loss: 1.4470950365066528, Val Accuracy: 51.26666259765625\n",
            "Saving new best model with loss:  1.447095\n",
            "Epoch 45, Loss: 1.348520040512085, Accuracy: 54.94999694824219, Val Loss: 1.4583005905151367, Val Accuracy: 51.366661071777344\n"
          ]
        },
        {
          "output_type": "stream",
          "name": "stderr",
          "text": [
            "WARNING:tensorflow:Compiled the loaded model, but the compiled metrics have yet to be built. `model.compile_metrics` will be empty until you train or evaluate the model.\n"
          ]
        },
        {
          "output_type": "stream",
          "name": "stdout",
          "text": [
            "Epoch 49, Loss: 1.3416111469268799, Accuracy: 55.14999008178711, Val Loss: 1.4132983684539795, Val Accuracy: 52.2166748046875\n",
            "Saving new best model with loss:  1.4132984\n"
          ]
        },
        {
          "output_type": "stream",
          "name": "stderr",
          "text": [
            "WARNING:tensorflow:Compiled the loaded model, but the compiled metrics have yet to be built. `model.compile_metrics` will be empty until you train or evaluate the model.\n"
          ]
        },
        {
          "output_type": "stream",
          "name": "stdout",
          "text": [
            "Epoch 53, Loss: 1.2929370403289795, Accuracy: 56.3166618347168, Val Loss: 1.3559490442276, Val Accuracy: 54.64999008178711\n",
            "Saving new best model with loss:  1.355949\n",
            "Epoch 57, Loss: 1.2587907314300537, Accuracy: 57.033329010009766, Val Loss: 1.369181513786316, Val Accuracy: 53.98332977294922\n"
          ]
        },
        {
          "output_type": "stream",
          "name": "stderr",
          "text": [
            "WARNING:tensorflow:Compiled the loaded model, but the compiled metrics have yet to be built. `model.compile_metrics` will be empty until you train or evaluate the model.\n"
          ]
        },
        {
          "output_type": "stream",
          "name": "stdout",
          "text": [
            "Epoch 61, Loss: 1.2545474767684937, Accuracy: 57.23332595825195, Val Loss: 1.3417164087295532, Val Accuracy: 54.59999465942383\n",
            "Saving new best model with loss:  1.3417164\n"
          ]
        },
        {
          "output_type": "stream",
          "name": "stderr",
          "text": [
            "WARNING:tensorflow:Compiled the loaded model, but the compiled metrics have yet to be built. `model.compile_metrics` will be empty until you train or evaluate the model.\n"
          ]
        },
        {
          "output_type": "stream",
          "name": "stdout",
          "text": [
            "Epoch 65, Loss: 1.211897611618042, Accuracy: 58.60000991821289, Val Loss: 1.3230950832366943, Val Accuracy: 55.933319091796875\n",
            "Saving new best model with loss:  1.3230951\n"
          ]
        },
        {
          "output_type": "stream",
          "name": "stderr",
          "text": [
            "WARNING:tensorflow:Compiled the loaded model, but the compiled metrics have yet to be built. `model.compile_metrics` will be empty until you train or evaluate the model.\n"
          ]
        },
        {
          "output_type": "stream",
          "name": "stdout",
          "text": [
            "Epoch 69, Loss: 1.1684311628341675, Accuracy: 60.866676330566406, Val Loss: 1.316392421722412, Val Accuracy: 55.79999542236328\n",
            "Saving new best model with loss:  1.3163924\n"
          ]
        },
        {
          "output_type": "stream",
          "name": "stderr",
          "text": [
            "WARNING:tensorflow:Compiled the loaded model, but the compiled metrics have yet to be built. `model.compile_metrics` will be empty until you train or evaluate the model.\n"
          ]
        },
        {
          "output_type": "stream",
          "name": "stdout",
          "text": [
            "Epoch 73, Loss: 1.2343181371688843, Accuracy: 57.91666030883789, Val Loss: 1.2794976234436035, Val Accuracy: 56.516658782958984\n",
            "Saving new best model with loss:  1.2794976\n"
          ]
        },
        {
          "output_type": "stream",
          "name": "stderr",
          "text": [
            "WARNING:tensorflow:Compiled the loaded model, but the compiled metrics have yet to be built. `model.compile_metrics` will be empty until you train or evaluate the model.\n"
          ]
        },
        {
          "output_type": "stream",
          "name": "stdout",
          "text": [
            "Epoch 77, Loss: 1.160779356956482, Accuracy: 60.66667938232422, Val Loss: 1.2425724267959595, Val Accuracy: 57.683326721191406\n",
            "Saving new best model with loss:  1.2425724\n",
            "Epoch 81, Loss: 1.1521745920181274, Accuracy: 60.06666564941406, Val Loss: 1.2716704607009888, Val Accuracy: 56.74999237060547\n"
          ]
        }
      ]
    },
    {
      "cell_type": "code",
      "source": [
        "#Now adding reptile to this\n",
        "meta_step_size = 0.25\n",
        "\n",
        "#number of classes\n",
        "num_way = num_ways[3] \n",
        "\n",
        "#number of examples per class for support set\n",
        "num_shot = num_shots[3]  \n",
        "\n",
        "#number of query points\n",
        "num_query = num_shots[3] \n",
        "\n",
        "#number of examples\n",
        "num_examples = 100\n",
        "\n",
        "eval_iters = 20\n",
        "eval_interval = 4\n",
        "least_loss = {'least_loss': 100.00}\n",
        "\n",
        "train_loss = tf.metrics.Mean(name='train_loss')\n",
        "val_loss = tf.metrics.Mean(name='val_loss')\n",
        "train_acc = tf.metrics.Mean(name='train_accuracy')\n",
        "val_acc = tf.metrics.Mean(name='val_accuracy')\n",
        "support = np.zeros([num_way, num_shot, img_width, img_height, channels], dtype=np.float32)\n",
        "query = np.zeros([num_way, num_query, img_height, channels], dtype=np.float32)\n",
        "model = Prototypical(support, query, img_width, img_height, channels)\n",
        "optimizer_adam = tf.keras.optimizers.Adam(0.001)\n",
        "optimizer_sgd = tf.keras.optimizers.SGD(0.001)\n",
        "\n",
        "num_epochs = 81\n",
        "num_episodes = 100\n",
        "save_path = \"./results/models/cifar100_train_reptile3.h5\"\n",
        "\n",
        "@tf.function\n",
        "def loss(support, query):\n",
        "  loss, acc = model(support, query)\n",
        "  return loss, acc\n",
        "\n",
        "@tf.function\n",
        "def train_step(support, query, optimizer):\n",
        "  with tf.GradientTape() as tape:\n",
        "    loss, acc = model(support, query)\n",
        "  gradients = tape.gradient(loss, model.trainable_variables)\n",
        "  optimizer.apply_gradients(\n",
        "        zip(gradients, model.trainable_variables))\n",
        "  \n",
        "  \n",
        "  train_loss(loss)\n",
        "  train_acc(acc)\n",
        "  \n",
        "\n",
        "@tf.function\n",
        "def val_step(support, query, optimizer):\n",
        "  with tf.GradientTape() as tape:\n",
        "    loss, acc = model(support, query)\n",
        "  gradients = tape.gradient(loss, model.trainable_variables)\n",
        "  optimizer.apply_gradients(\n",
        "        zip(gradients, model.trainable_variables))\n",
        "  \n",
        "  val_loss(loss)\n",
        "  val_acc(acc)\n",
        "\n",
        "\n",
        "least_loss = {'least_loss': 100.00}\n",
        "for epoch in range(num_epochs):\n",
        "  train_loss.reset_states()\n",
        "  val_loss.reset_states()\n",
        "  train_acc.reset_states()\n",
        "  val_acc.reset_states()\n",
        "\n",
        "  for episode in range(num_episodes):\n",
        "    frac_done = episode / num_episodes\n",
        "    cur_meta_step_size = (1 - frac_done) * meta_step_size\n",
        "    train_support, train_query = get_next_batch(train_images_split, train_labels_split, num_way, num_shot, num_query, num_classes)\n",
        "\n",
        "    #old_vars = model.get_weights()\n",
        "    train_step(train_support, train_query, optimizer_adam)\n",
        "    new_vars = model.get_weights()\n",
        "\n",
        "    if epoch % eval_interval == 0:\n",
        "      eval_support, eval_query = get_next_batch(val_images_split, val_labels_split, num_way, num_shot, num_query, num_classes)\n",
        "      old_vars = model.get_weights()\n",
        "      val_step(eval_support, eval_query, optimizer_sgd)\n",
        "      model.set_weights(old_vars)\n",
        "      \n",
        "  cur_loss = val_loss.result().numpy()\n",
        "\n",
        "  if (epoch % eval_interval == 0):\n",
        "    template = 'Epoch {}, Loss: {}, Accuracy: {}, ' \\\n",
        "                  'Val Loss: {}, Val Accuracy: {}'\n",
        "    print(template.format(epoch + 1, train_loss.result(), train_acc.result() * 100, val_loss.result(),\n",
        "                            val_acc.result() * 100))\n",
        "    if cur_loss < least_loss['least_loss']:\n",
        "      print(\"Saving new best model with loss: \", cur_loss)\n",
        "      least_loss['least_loss'] = cur_loss\n",
        "      model.save(save_path)"
      ],
      "metadata": {
        "colab": {
          "base_uri": "https://localhost:8080/"
        },
        "id": "RI_uYQx6oUeI",
        "outputId": "d8b9f567-c646-4282-e3c5-2dd86c823ab6"
      },
      "execution_count": null,
      "outputs": [
        {
          "output_type": "stream",
          "name": "stderr",
          "text": [
            "WARNING:tensorflow:Compiled the loaded model, but the compiled metrics have yet to be built. `model.compile_metrics` will be empty until you train or evaluate the model.\n"
          ]
        },
        {
          "output_type": "stream",
          "name": "stdout",
          "text": [
            "Epoch 1, Loss: 2.460676670074463, Accuracy: 13.833330154418945, Val Loss: 2.4781618118286133, Val Accuracy: 13.49999713897705\n",
            "Saving new best model with loss:  2.4781618\n"
          ]
        },
        {
          "output_type": "stream",
          "name": "stderr",
          "text": [
            "WARNING:tensorflow:Compiled the loaded model, but the compiled metrics have yet to be built. `model.compile_metrics` will be empty until you train or evaluate the model.\n"
          ]
        },
        {
          "output_type": "stream",
          "name": "stdout",
          "text": [
            "Epoch 5, Loss: 2.404021739959717, Accuracy: 15.666664123535156, Val Loss: 2.412818670272827, Val Accuracy: 16.33333396911621\n",
            "Saving new best model with loss:  2.4128187\n"
          ]
        },
        {
          "output_type": "stream",
          "name": "stderr",
          "text": [
            "WARNING:tensorflow:Compiled the loaded model, but the compiled metrics have yet to be built. `model.compile_metrics` will be empty until you train or evaluate the model.\n"
          ]
        },
        {
          "output_type": "stream",
          "name": "stdout",
          "text": [
            "Epoch 9, Loss: 2.383885383605957, Accuracy: 17.250001907348633, Val Loss: 2.3786051273345947, Val Accuracy: 17.666667938232422\n",
            "Saving new best model with loss:  2.3786051\n"
          ]
        },
        {
          "output_type": "stream",
          "name": "stderr",
          "text": [
            "WARNING:tensorflow:Compiled the loaded model, but the compiled metrics have yet to be built. `model.compile_metrics` will be empty until you train or evaluate the model.\n"
          ]
        },
        {
          "output_type": "stream",
          "name": "stdout",
          "text": [
            "Epoch 13, Loss: 2.376727819442749, Accuracy: 18.66666603088379, Val Loss: 2.352206230163574, Val Accuracy: 17.833330154418945\n",
            "Saving new best model with loss:  2.3522062\n"
          ]
        },
        {
          "output_type": "stream",
          "name": "stderr",
          "text": [
            "WARNING:tensorflow:Compiled the loaded model, but the compiled metrics have yet to be built. `model.compile_metrics` will be empty until you train or evaluate the model.\n"
          ]
        },
        {
          "output_type": "stream",
          "name": "stdout",
          "text": [
            "Epoch 17, Loss: 2.3392174243927, Accuracy: 19.499998092651367, Val Loss: 2.348931312561035, Val Accuracy: 20.500003814697266\n",
            "Saving new best model with loss:  2.3489313\n",
            "Epoch 21, Loss: 2.324099540710449, Accuracy: 19.583330154418945, Val Loss: 2.3640477657318115, Val Accuracy: 19.16666603088379\n"
          ]
        },
        {
          "output_type": "stream",
          "name": "stderr",
          "text": [
            "WARNING:tensorflow:Compiled the loaded model, but the compiled metrics have yet to be built. `model.compile_metrics` will be empty until you train or evaluate the model.\n"
          ]
        },
        {
          "output_type": "stream",
          "name": "stdout",
          "text": [
            "Epoch 25, Loss: 2.324505090713501, Accuracy: 23.166667938232422, Val Loss: 2.32157826423645, Val Accuracy: 19.16666030883789\n",
            "Saving new best model with loss:  2.3215783\n"
          ]
        },
        {
          "output_type": "stream",
          "name": "stderr",
          "text": [
            "WARNING:tensorflow:Compiled the loaded model, but the compiled metrics have yet to be built. `model.compile_metrics` will be empty until you train or evaluate the model.\n"
          ]
        },
        {
          "output_type": "stream",
          "name": "stdout",
          "text": [
            "Epoch 29, Loss: 2.306225061416626, Accuracy: 19.0, Val Loss: 2.3039116859436035, Val Accuracy: 19.2499942779541\n",
            "Saving new best model with loss:  2.3039117\n",
            "Epoch 33, Loss: 2.277003526687622, Accuracy: 23.41666603088379, Val Loss: 2.3311893939971924, Val Accuracy: 21.666669845581055\n",
            "Epoch 37, Loss: 2.2814817428588867, Accuracy: 19.916667938232422, Val Loss: 2.310293197631836, Val Accuracy: 21.916662216186523\n"
          ]
        },
        {
          "output_type": "stream",
          "name": "stderr",
          "text": [
            "WARNING:tensorflow:Compiled the loaded model, but the compiled metrics have yet to be built. `model.compile_metrics` will be empty until you train or evaluate the model.\n"
          ]
        },
        {
          "output_type": "stream",
          "name": "stdout",
          "text": [
            "Epoch 41, Loss: 2.262216329574585, Accuracy: 21.916667938232422, Val Loss: 2.2786056995391846, Val Accuracy: 22.08333396911621\n",
            "Saving new best model with loss:  2.2786057\n"
          ]
        },
        {
          "output_type": "stream",
          "name": "stderr",
          "text": [
            "WARNING:tensorflow:Compiled the loaded model, but the compiled metrics have yet to be built. `model.compile_metrics` will be empty until you train or evaluate the model.\n"
          ]
        },
        {
          "output_type": "stream",
          "name": "stdout",
          "text": [
            "Epoch 45, Loss: 2.282059669494629, Accuracy: 21.83333969116211, Val Loss: 2.2627387046813965, Val Accuracy: 21.833332061767578\n",
            "Saving new best model with loss:  2.2627387\n"
          ]
        },
        {
          "output_type": "stream",
          "name": "stderr",
          "text": [
            "WARNING:tensorflow:Compiled the loaded model, but the compiled metrics have yet to be built. `model.compile_metrics` will be empty until you train or evaluate the model.\n"
          ]
        },
        {
          "output_type": "stream",
          "name": "stdout",
          "text": [
            "Epoch 49, Loss: 2.2251365184783936, Accuracy: 23.9999942779541, Val Loss: 2.250342607498169, Val Accuracy: 24.5000057220459\n",
            "Saving new best model with loss:  2.2503426\n",
            "Epoch 53, Loss: 2.2282187938690186, Accuracy: 25.33332633972168, Val Loss: 2.280318260192871, Val Accuracy: 22.5\n",
            "Epoch 57, Loss: 2.2247939109802246, Accuracy: 24.000003814697266, Val Loss: 2.2737817764282227, Val Accuracy: 22.333335876464844\n"
          ]
        },
        {
          "output_type": "stream",
          "name": "stderr",
          "text": [
            "WARNING:tensorflow:Compiled the loaded model, but the compiled metrics have yet to be built. `model.compile_metrics` will be empty until you train or evaluate the model.\n"
          ]
        },
        {
          "output_type": "stream",
          "name": "stdout",
          "text": [
            "Epoch 61, Loss: 2.2363502979278564, Accuracy: 21.75, Val Loss: 2.241187334060669, Val Accuracy: 24.249998092651367\n",
            "Saving new best model with loss:  2.2411873\n"
          ]
        },
        {
          "output_type": "stream",
          "name": "stderr",
          "text": [
            "WARNING:tensorflow:Compiled the loaded model, but the compiled metrics have yet to be built. `model.compile_metrics` will be empty until you train or evaluate the model.\n"
          ]
        },
        {
          "output_type": "stream",
          "name": "stdout",
          "text": [
            "Epoch 65, Loss: 2.2454936504364014, Accuracy: 23.41666603088379, Val Loss: 2.231201410293579, Val Accuracy: 22.166671752929688\n",
            "Saving new best model with loss:  2.2312014\n",
            "Epoch 69, Loss: 2.2375917434692383, Accuracy: 21.916671752929688, Val Loss: 2.2389016151428223, Val Accuracy: 23.499998092651367\n"
          ]
        },
        {
          "output_type": "stream",
          "name": "stderr",
          "text": [
            "WARNING:tensorflow:Compiled the loaded model, but the compiled metrics have yet to be built. `model.compile_metrics` will be empty until you train or evaluate the model.\n"
          ]
        },
        {
          "output_type": "stream",
          "name": "stdout",
          "text": [
            "Epoch 73, Loss: 2.1569912433624268, Accuracy: 25.666669845581055, Val Loss: 2.1696548461914062, Val Accuracy: 24.2499942779541\n",
            "Saving new best model with loss:  2.1696548\n",
            "Epoch 77, Loss: 2.175145149230957, Accuracy: 24.499996185302734, Val Loss: 2.1848549842834473, Val Accuracy: 25.916667938232422\n",
            "Epoch 81, Loss: 2.1985764503479004, Accuracy: 24.333335876464844, Val Loss: 2.2032010555267334, Val Accuracy: 25.7500057220459\n"
          ]
        }
      ]
    },
    {
      "cell_type": "code",
      "source": [
        "#Now adding reptile to this\n",
        "meta_step_size = 0.25\n",
        "\n",
        "#number of classes\n",
        "num_way = num_ways[4] \n",
        "\n",
        "#number of examples per class for support set\n",
        "num_shot = num_shots[4]  \n",
        "\n",
        "#number of query points\n",
        "num_query = num_shots[4] \n",
        "\n",
        "#number of examples\n",
        "num_examples = 100\n",
        "\n",
        "eval_iters = 20\n",
        "eval_interval = 4\n",
        "least_loss = {'least_loss': 100.00}\n",
        "\n",
        "train_loss = tf.metrics.Mean(name='train_loss')\n",
        "val_loss = tf.metrics.Mean(name='val_loss')\n",
        "train_acc = tf.metrics.Mean(name='train_accuracy')\n",
        "val_acc = tf.metrics.Mean(name='val_accuracy')\n",
        "support = np.zeros([num_way, num_shot, img_width, img_height, channels], dtype=np.float32)\n",
        "query = np.zeros([num_way, num_query, img_height, channels], dtype=np.float32)\n",
        "model = Prototypical(support, query, img_width, img_height, channels)\n",
        "optimizer_adam = tf.keras.optimizers.Adam(0.001)\n",
        "optimizer_sgd = tf.keras.optimizers.SGD(0.001)\n",
        "\n",
        "num_epochs = 81\n",
        "num_episodes = 100\n",
        "save_path = \"./results/models/cifar100_train_reptile4.h5\"\n",
        "\n",
        "@tf.function\n",
        "def loss(support, query):\n",
        "  loss, acc = model(support, query)\n",
        "  return loss, acc\n",
        "\n",
        "@tf.function\n",
        "def train_step(support, query, optimizer):\n",
        "  with tf.GradientTape() as tape:\n",
        "    loss, acc = model(support, query)\n",
        "  gradients = tape.gradient(loss, model.trainable_variables)\n",
        "  optimizer.apply_gradients(\n",
        "        zip(gradients, model.trainable_variables))\n",
        "  \n",
        "  \n",
        "  train_loss(loss)\n",
        "  train_acc(acc)\n",
        "  \n",
        "\n",
        "@tf.function\n",
        "def val_step(support, query, optimizer):\n",
        "  with tf.GradientTape() as tape:\n",
        "    loss, acc = model(support, query)\n",
        "  gradients = tape.gradient(loss, model.trainable_variables)\n",
        "  optimizer.apply_gradients(\n",
        "        zip(gradients, model.trainable_variables))\n",
        "  \n",
        "  val_loss(loss)\n",
        "  val_acc(acc)\n",
        "\n",
        "\n",
        "least_loss = {'least_loss': 100.00}\n",
        "for epoch in range(num_epochs):\n",
        "  train_loss.reset_states()\n",
        "  val_loss.reset_states()\n",
        "  train_acc.reset_states()\n",
        "  val_acc.reset_states()\n",
        "\n",
        "  for episode in range(num_episodes):\n",
        "    frac_done = episode / num_episodes\n",
        "    cur_meta_step_size = (1 - frac_done) * meta_step_size\n",
        "    train_support, train_query = get_next_batch(train_images_split, train_labels_split, num_way, num_shot, num_query, num_classes)\n",
        "\n",
        "    #old_vars = model.get_weights()\n",
        "    train_step(train_support, train_query, optimizer_adam)\n",
        "    new_vars = model.get_weights()\n",
        "\n",
        "    if epoch % eval_interval == 0:\n",
        "      eval_support, eval_query = get_next_batch(val_images_split, val_labels_split, num_way, num_shot, num_query, num_classes)\n",
        "      old_vars = model.get_weights()\n",
        "      val_step(eval_support, eval_query, optimizer_sgd)\n",
        "      model.set_weights(old_vars)\n",
        "      \n",
        "  cur_loss = val_loss.result().numpy()\n",
        "\n",
        "  if (epoch % eval_interval == 0):\n",
        "    template = 'Epoch {}, Loss: {}, Accuracy: {}, ' \\\n",
        "                  'Val Loss: {}, Val Accuracy: {}'\n",
        "    print(template.format(epoch + 1, train_loss.result(), train_acc.result() * 100, val_loss.result(),\n",
        "                            val_acc.result() * 100))\n",
        "    if cur_loss < least_loss['least_loss']:\n",
        "      print(\"Saving new best model with loss: \", cur_loss)\n",
        "      least_loss['least_loss'] = cur_loss\n",
        "      model.save(save_path)"
      ],
      "metadata": {
        "id": "wNWZObG6oU3Y",
        "colab": {
          "base_uri": "https://localhost:8080/"
        },
        "outputId": "8ff6ff3c-6da1-4e17-cc19-dabf2d6a172d"
      },
      "execution_count": null,
      "outputs": [
        {
          "output_type": "stream",
          "name": "stderr",
          "text": [
            "WARNING:tensorflow:Compiled the loaded model, but the compiled metrics have yet to be built. `model.compile_metrics` will be empty until you train or evaluate the model.\n"
          ]
        },
        {
          "output_type": "stream",
          "name": "stdout",
          "text": [
            "Epoch 1, Loss: 2.5680954456329346, Accuracy: 17.022228240966797, Val Loss: 2.5857977867126465, Val Accuracy: 16.84444808959961\n",
            "Saving new best model with loss:  2.5857978\n"
          ]
        },
        {
          "output_type": "stream",
          "name": "stderr",
          "text": [
            "WARNING:tensorflow:Compiled the loaded model, but the compiled metrics have yet to be built. `model.compile_metrics` will be empty until you train or evaluate the model.\n"
          ]
        },
        {
          "output_type": "stream",
          "name": "stdout",
          "text": [
            "Epoch 5, Loss: 2.325491428375244, Accuracy: 24.466672897338867, Val Loss: 2.336915969848633, Val Accuracy: 24.755556106567383\n",
            "Saving new best model with loss:  2.336916\n"
          ]
        },
        {
          "output_type": "stream",
          "name": "stderr",
          "text": [
            "WARNING:tensorflow:Compiled the loaded model, but the compiled metrics have yet to be built. `model.compile_metrics` will be empty until you train or evaluate the model.\n"
          ]
        },
        {
          "output_type": "stream",
          "name": "stdout",
          "text": [
            "Epoch 9, Loss: 2.240936040878296, Accuracy: 28.111112594604492, Val Loss: 2.239849328994751, Val Accuracy: 28.799999237060547\n",
            "Saving new best model with loss:  2.2398493\n"
          ]
        },
        {
          "output_type": "stream",
          "name": "stderr",
          "text": [
            "WARNING:tensorflow:Compiled the loaded model, but the compiled metrics have yet to be built. `model.compile_metrics` will be empty until you train or evaluate the model.\n"
          ]
        },
        {
          "output_type": "stream",
          "name": "stdout",
          "text": [
            "Epoch 13, Loss: 2.1643009185791016, Accuracy: 29.733341217041016, Val Loss: 2.1660730838775635, Val Accuracy: 30.51111602783203\n",
            "Saving new best model with loss:  2.166073\n"
          ]
        },
        {
          "output_type": "stream",
          "name": "stderr",
          "text": [
            "WARNING:tensorflow:Compiled the loaded model, but the compiled metrics have yet to be built. `model.compile_metrics` will be empty until you train or evaluate the model.\n"
          ]
        },
        {
          "output_type": "stream",
          "name": "stdout",
          "text": [
            "Epoch 17, Loss: 2.08400297164917, Accuracy: 33.4666748046875, Val Loss: 2.1193535327911377, Val Accuracy: 32.5555534362793\n",
            "Saving new best model with loss:  2.1193535\n"
          ]
        },
        {
          "output_type": "stream",
          "name": "stderr",
          "text": [
            "WARNING:tensorflow:Compiled the loaded model, but the compiled metrics have yet to be built. `model.compile_metrics` will be empty until you train or evaluate the model.\n"
          ]
        },
        {
          "output_type": "stream",
          "name": "stdout",
          "text": [
            "Epoch 21, Loss: 2.0232362747192383, Accuracy: 33.62222671508789, Val Loss: 2.0444142818450928, Val Accuracy: 33.55555725097656\n",
            "Saving new best model with loss:  2.0444143\n"
          ]
        },
        {
          "output_type": "stream",
          "name": "stderr",
          "text": [
            "WARNING:tensorflow:Compiled the loaded model, but the compiled metrics have yet to be built. `model.compile_metrics` will be empty until you train or evaluate the model.\n"
          ]
        },
        {
          "output_type": "stream",
          "name": "stdout",
          "text": [
            "Epoch 25, Loss: 2.026611566543579, Accuracy: 34.4444465637207, Val Loss: 2.030432939529419, Val Accuracy: 34.91111755371094\n",
            "Saving new best model with loss:  2.030433\n"
          ]
        },
        {
          "output_type": "stream",
          "name": "stderr",
          "text": [
            "WARNING:tensorflow:Compiled the loaded model, but the compiled metrics have yet to be built. `model.compile_metrics` will be empty until you train or evaluate the model.\n"
          ]
        },
        {
          "output_type": "stream",
          "name": "stdout",
          "text": [
            "Epoch 29, Loss: 1.942915678024292, Accuracy: 37.622222900390625, Val Loss: 1.9778382778167725, Val Accuracy: 35.97779083251953\n",
            "Saving new best model with loss:  1.9778383\n"
          ]
        },
        {
          "output_type": "stream",
          "name": "stderr",
          "text": [
            "WARNING:tensorflow:Compiled the loaded model, but the compiled metrics have yet to be built. `model.compile_metrics` will be empty until you train or evaluate the model.\n"
          ]
        },
        {
          "output_type": "stream",
          "name": "stdout",
          "text": [
            "Epoch 33, Loss: 1.9447444677352905, Accuracy: 35.888885498046875, Val Loss: 1.9291071891784668, Val Accuracy: 37.55555725097656\n",
            "Saving new best model with loss:  1.9291072\n"
          ]
        },
        {
          "output_type": "stream",
          "name": "stderr",
          "text": [
            "WARNING:tensorflow:Compiled the loaded model, but the compiled metrics have yet to be built. `model.compile_metrics` will be empty until you train or evaluate the model.\n"
          ]
        },
        {
          "output_type": "stream",
          "name": "stdout",
          "text": [
            "Epoch 37, Loss: 1.8498916625976562, Accuracy: 39.622215270996094, Val Loss: 1.8572746515274048, Val Accuracy: 40.40000534057617\n",
            "Saving new best model with loss:  1.8572747\n"
          ]
        },
        {
          "output_type": "stream",
          "name": "stderr",
          "text": [
            "WARNING:tensorflow:Compiled the loaded model, but the compiled metrics have yet to be built. `model.compile_metrics` will be empty until you train or evaluate the model.\n"
          ]
        },
        {
          "output_type": "stream",
          "name": "stdout",
          "text": [
            "Epoch 41, Loss: 1.7733105421066284, Accuracy: 41.9333381652832, Val Loss: 1.8560855388641357, Val Accuracy: 38.95555877685547\n",
            "Saving new best model with loss:  1.8560855\n",
            "Epoch 45, Loss: 1.8028355836868286, Accuracy: 41.5111198425293, Val Loss: 1.8632228374481201, Val Accuracy: 38.866661071777344\n"
          ]
        },
        {
          "output_type": "stream",
          "name": "stderr",
          "text": [
            "WARNING:tensorflow:Compiled the loaded model, but the compiled metrics have yet to be built. `model.compile_metrics` will be empty until you train or evaluate the model.\n"
          ]
        },
        {
          "output_type": "stream",
          "name": "stdout",
          "text": [
            "Epoch 49, Loss: 1.712241768836975, Accuracy: 43.844444274902344, Val Loss: 1.7862985134124756, Val Accuracy: 41.155555725097656\n",
            "Saving new best model with loss:  1.7862985\n",
            "Epoch 53, Loss: 1.7529501914978027, Accuracy: 42.95556640625, Val Loss: 1.79262375831604, Val Accuracy: 41.155555725097656\n"
          ]
        },
        {
          "output_type": "stream",
          "name": "stderr",
          "text": [
            "WARNING:tensorflow:Compiled the loaded model, but the compiled metrics have yet to be built. `model.compile_metrics` will be empty until you train or evaluate the model.\n"
          ]
        },
        {
          "output_type": "stream",
          "name": "stdout",
          "text": [
            "Epoch 57, Loss: 1.695859670639038, Accuracy: 43.53333282470703, Val Loss: 1.7622816562652588, Val Accuracy: 42.688880920410156\n",
            "Saving new best model with loss:  1.7622817\n"
          ]
        },
        {
          "output_type": "stream",
          "name": "stderr",
          "text": [
            "WARNING:tensorflow:Compiled the loaded model, but the compiled metrics have yet to be built. `model.compile_metrics` will be empty until you train or evaluate the model.\n"
          ]
        },
        {
          "output_type": "stream",
          "name": "stdout",
          "text": [
            "Epoch 61, Loss: 1.629813551902771, Accuracy: 46.31111145019531, Val Loss: 1.7614996433258057, Val Accuracy: 42.977787017822266\n",
            "Saving new best model with loss:  1.7614996\n"
          ]
        },
        {
          "output_type": "stream",
          "name": "stderr",
          "text": [
            "WARNING:tensorflow:Compiled the loaded model, but the compiled metrics have yet to be built. `model.compile_metrics` will be empty until you train or evaluate the model.\n"
          ]
        },
        {
          "output_type": "stream",
          "name": "stdout",
          "text": [
            "Epoch 65, Loss: 1.6537312269210815, Accuracy: 46.022216796875, Val Loss: 1.6741211414337158, Val Accuracy: 44.77779769897461\n",
            "Saving new best model with loss:  1.6741211\n",
            "Epoch 69, Loss: 1.6146162748336792, Accuracy: 46.35554504394531, Val Loss: 1.6883573532104492, Val Accuracy: 45.11110305786133\n"
          ]
        },
        {
          "output_type": "stream",
          "name": "stderr",
          "text": [
            "WARNING:tensorflow:Compiled the loaded model, but the compiled metrics have yet to be built. `model.compile_metrics` will be empty until you train or evaluate the model.\n"
          ]
        },
        {
          "output_type": "stream",
          "name": "stdout",
          "text": [
            "Epoch 73, Loss: 1.593308448791504, Accuracy: 46.91111373901367, Val Loss: 1.672124981880188, Val Accuracy: 46.0\n",
            "Saving new best model with loss:  1.672125\n"
          ]
        },
        {
          "output_type": "stream",
          "name": "stderr",
          "text": [
            "WARNING:tensorflow:Compiled the loaded model, but the compiled metrics have yet to be built. `model.compile_metrics` will be empty until you train or evaluate the model.\n"
          ]
        },
        {
          "output_type": "stream",
          "name": "stdout",
          "text": [
            "Epoch 77, Loss: 1.5475283861160278, Accuracy: 48.84445571899414, Val Loss: 1.6290769577026367, Val Accuracy: 47.044429779052734\n",
            "Saving new best model with loss:  1.629077\n",
            "Epoch 81, Loss: 1.5208739042282104, Accuracy: 49.40000534057617, Val Loss: 1.6429485082626343, Val Accuracy: 46.24443435668945\n"
          ]
        }
      ]
    },
    {
      "cell_type": "code",
      "source": [
        "model = Prototypical(support, query, img_width, img_height, channels)\n",
        "model_path = \"./results/models/cifar100_train_reptile0.h5\"\n",
        "model.load(model_path)\n",
        "print(\"Model loaded.\")\n",
        "\n",
        "#number of classes\n",
        "num_way = num_ways[0] \n",
        "\n",
        "#number of examples per class for support set\n",
        "num_shot = num_shots[0]  \n",
        "\n",
        "#number of query points\n",
        "num_query = num_shots[0] \n",
        "\n",
        "#number of examples\n",
        "num_examples = 100\n",
        "\n",
        "num_episodes = 1200\n",
        "\n",
        "# Metrics to gather\n",
        "test_loss = tf.metrics.Mean(name='test_loss')\n",
        "test_acc = tf.metrics.Mean(name='test_accuracy')\n",
        "\n",
        "def calc_loss(support, query):\n",
        "  loss, acc = model(support, query)\n",
        "  return loss, acc\n",
        "\n",
        "for i_episode in range(num_episodes):\n",
        "  test_support, test_query = get_next_batch(test_images, test_labels, num_way, num_shot, num_query, num_classes)\n",
        "  if (i_episode+1)%50 == 0: \n",
        "    print(\"Episode: \", i_episode + 1)\n",
        "  loss, acc = calc_loss(test_support, test_query)\n",
        "  test_loss(loss)\n",
        "  test_acc(acc)\n",
        "\n",
        "print(\"Loss: \", test_loss.result().numpy())\n",
        "print(\"Accuracy: \", test_acc.result().numpy() * 100)"
      ],
      "metadata": {
        "colab": {
          "base_uri": "https://localhost:8080/"
        },
        "id": "UY_lihJUzG38",
        "outputId": "24cef9e0-d259-4fb2-fb00-881dd8d24668"
      },
      "execution_count": null,
      "outputs": [
        {
          "output_type": "stream",
          "name": "stdout",
          "text": [
            "Model loaded.\n",
            "Episode:  50\n",
            "Episode:  100\n",
            "Episode:  150\n",
            "Episode:  200\n",
            "Episode:  250\n",
            "Episode:  300\n",
            "Episode:  350\n",
            "Episode:  400\n",
            "Episode:  450\n",
            "Episode:  500\n",
            "Episode:  550\n",
            "Episode:  600\n",
            "Episode:  650\n",
            "Episode:  700\n",
            "Episode:  750\n",
            "Episode:  800\n",
            "Episode:  850\n",
            "Episode:  900\n",
            "Episode:  950\n",
            "Episode:  1000\n",
            "Episode:  1050\n",
            "Episode:  1100\n",
            "Episode:  1150\n",
            "Episode:  1200\n",
            "Loss:  0.89493084\n",
            "Accuracy:  64.86325860023499\n"
          ]
        }
      ]
    },
    {
      "cell_type": "code",
      "source": [
        "model = Prototypical(support, query, img_width, img_height, channels)\n",
        "model_path = \"./results/models/cifar100_train_reptile1.h5\"\n",
        "model.load(model_path)\n",
        "print(\"Model loaded.\")\n",
        "\n",
        "#number of classes\n",
        "num_way = num_ways[1] \n",
        "\n",
        "#number of examples per class for support set\n",
        "num_shot = num_shots[1]  \n",
        "\n",
        "#number of query points\n",
        "num_query = num_shots[1] \n",
        "\n",
        "#number of examples\n",
        "num_examples = 100\n",
        "\n",
        "num_episodes = 1200\n",
        "\n",
        "# Metrics to gather\n",
        "test_loss = tf.metrics.Mean(name='test_loss')\n",
        "test_acc = tf.metrics.Mean(name='test_accuracy')\n",
        "\n",
        "def calc_loss(support, query):\n",
        "  loss, acc = model(support, query)\n",
        "  return loss, acc\n",
        "\n",
        "for i_episode in range(num_episodes):\n",
        "  test_support, test_query = get_next_batch(test_images, test_labels, num_way, num_shot, num_query, num_classes)\n",
        "  if (i_episode+1)%50 == 0: \n",
        "    print(\"Episode: \", i_episode + 1)\n",
        "  loss, acc = calc_loss(test_support, test_query)\n",
        "  test_loss(loss)\n",
        "  test_acc(acc)\n",
        "\n",
        "print(\"Loss: \", test_loss.result().numpy())\n",
        "print(\"Accuracy: \", test_acc.result().numpy() * 100)"
      ],
      "metadata": {
        "colab": {
          "base_uri": "https://localhost:8080/"
        },
        "id": "3eeWK0EJ0CK_",
        "outputId": "2710445f-8396-4bc2-b4d3-fa9de2705123"
      },
      "execution_count": null,
      "outputs": [
        {
          "output_type": "stream",
          "name": "stdout",
          "text": [
            "Model loaded.\n",
            "Episode:  50\n",
            "Episode:  100\n",
            "Episode:  150\n",
            "Episode:  200\n",
            "Episode:  250\n",
            "Episode:  300\n",
            "Episode:  350\n",
            "Episode:  400\n",
            "Episode:  450\n",
            "Episode:  500\n",
            "Episode:  550\n",
            "Episode:  600\n",
            "Episode:  650\n",
            "Episode:  700\n",
            "Episode:  750\n",
            "Episode:  800\n",
            "Episode:  850\n",
            "Episode:  900\n",
            "Episode:  950\n",
            "Episode:  1000\n",
            "Episode:  1050\n",
            "Episode:  1100\n",
            "Episode:  1150\n",
            "Episode:  1200\n",
            "Loss:  1.4690089\n",
            "Accuracy:  37.08335757255554\n"
          ]
        }
      ]
    },
    {
      "cell_type": "code",
      "source": [
        "model = Prototypical(support, query, img_width, img_height, channels)\n",
        "model_path = \"./results/models/cifar100_train_reptile2.h5\"\n",
        "model.load(model_path)\n",
        "print(\"Model loaded.\")\n",
        "\n",
        "#number of classes\n",
        "num_way = num_ways[2] \n",
        "\n",
        "#number of examples per class for support set\n",
        "num_shot = num_shots[2]  \n",
        "\n",
        "#number of query points\n",
        "num_query = num_shots[2] \n",
        "\n",
        "#number of examples\n",
        "num_examples = 100\n",
        "\n",
        "num_episodes = 1200\n",
        "\n",
        "# Metrics to gather\n",
        "test_loss = tf.metrics.Mean(name='test_loss')\n",
        "test_acc = tf.metrics.Mean(name='test_accuracy')\n",
        "\n",
        "def calc_loss(support, query):\n",
        "  loss, acc = model(support, query)\n",
        "  return loss, acc\n",
        "\n",
        "for i_episode in range(num_episodes):\n",
        "  test_support, test_query = get_next_batch(test_images, test_labels, num_way, num_shot, num_query, num_classes)\n",
        "  if (i_episode+1)%50 == 0: \n",
        "    print(\"Episode: \", i_episode + 1)\n",
        "  loss, acc = calc_loss(test_support, test_query)\n",
        "  test_loss(loss)\n",
        "  test_acc(acc)\n",
        "\n",
        "print(\"Loss: \", test_loss.result().numpy())\n",
        "print(\"Accuracy: \", test_acc.result().numpy() * 100)"
      ],
      "metadata": {
        "colab": {
          "base_uri": "https://localhost:8080/"
        },
        "id": "ieGD779P0Csj",
        "outputId": "f80f5ae4-96f0-4319-bfeb-725228b356f3"
      },
      "execution_count": null,
      "outputs": [
        {
          "output_type": "stream",
          "name": "stdout",
          "text": [
            "Model loaded.\n",
            "Episode:  50\n",
            "Episode:  100\n",
            "Episode:  150\n",
            "Episode:  200\n",
            "Episode:  250\n",
            "Episode:  300\n",
            "Episode:  350\n",
            "Episode:  400\n",
            "Episode:  450\n",
            "Episode:  500\n",
            "Episode:  550\n",
            "Episode:  600\n",
            "Episode:  650\n",
            "Episode:  700\n",
            "Episode:  750\n",
            "Episode:  800\n",
            "Episode:  850\n",
            "Episode:  900\n",
            "Episode:  950\n",
            "Episode:  1000\n",
            "Episode:  1050\n",
            "Episode:  1100\n",
            "Episode:  1150\n",
            "Episode:  1200\n",
            "Loss:  1.2596072\n",
            "Accuracy:  58.013808727264404\n"
          ]
        }
      ]
    },
    {
      "cell_type": "code",
      "source": [
        "model = Prototypical(support, query, img_width, img_height, channels)\n",
        "model_path = \"./results/models/cifar100_train_reptile3.h5\"\n",
        "model.load(model_path)\n",
        "print(\"Model loaded.\")\n",
        "\n",
        "#number of classes\n",
        "num_way = num_ways[3] \n",
        "\n",
        "#number of examples per class for support set\n",
        "num_shot = num_shots[3]  \n",
        "\n",
        "#number of query points\n",
        "num_query = num_shots[3] \n",
        "\n",
        "#number of examples\n",
        "num_examples = 100\n",
        "\n",
        "num_episodes = 1200\n",
        "\n",
        "# Metrics to gather\n",
        "test_loss = tf.metrics.Mean(name='test_loss')\n",
        "test_acc = tf.metrics.Mean(name='test_accuracy')\n",
        "\n",
        "def calc_loss(support, query):\n",
        "  loss, acc = model(support, query)\n",
        "  return loss, acc\n",
        "\n",
        "for i_episode in range(num_episodes):\n",
        "  test_support, test_query = get_next_batch(test_images, test_labels, num_way, num_shot, num_query, num_classes)\n",
        "  if (i_episode+1)%50 == 0: \n",
        "    print(\"Episode: \", i_episode + 1)\n",
        "  loss, acc = calc_loss(test_support, test_query)\n",
        "  test_loss(loss)\n",
        "  test_acc(acc)\n",
        "\n",
        "print(\"Loss: \", test_loss.result().numpy())\n",
        "print(\"Accuracy: \", test_acc.result().numpy() * 100)"
      ],
      "metadata": {
        "colab": {
          "base_uri": "https://localhost:8080/"
        },
        "id": "Bii5CZ1Q0DH5",
        "outputId": "9640fef7-1aae-470f-fb30-957d5a1fdf08"
      },
      "execution_count": null,
      "outputs": [
        {
          "output_type": "stream",
          "name": "stdout",
          "text": [
            "Model loaded.\n",
            "Episode:  50\n",
            "Episode:  100\n",
            "Episode:  150\n",
            "Episode:  200\n",
            "Episode:  250\n",
            "Episode:  300\n",
            "Episode:  350\n",
            "Episode:  400\n",
            "Episode:  450\n",
            "Episode:  500\n",
            "Episode:  550\n",
            "Episode:  600\n",
            "Episode:  650\n",
            "Episode:  700\n",
            "Episode:  750\n",
            "Episode:  800\n",
            "Episode:  850\n",
            "Episode:  900\n",
            "Episode:  950\n",
            "Episode:  1000\n",
            "Episode:  1050\n",
            "Episode:  1100\n",
            "Episode:  1150\n",
            "Episode:  1200\n",
            "Loss:  2.199096\n",
            "Accuracy:  24.833327531814575\n"
          ]
        }
      ]
    },
    {
      "cell_type": "code",
      "source": [
        "model = Prototypical(support, query, img_width, img_height, channels)\n",
        "model_path = \"./results/models/cifar100_train_reptile4.h5\"\n",
        "model.load(model_path)\n",
        "print(\"Model loaded.\")\n",
        "\n",
        "#number of classes\n",
        "num_way = num_ways[4] \n",
        "\n",
        "#number of examples per class for support set\n",
        "num_shot = num_shots[4]  \n",
        "\n",
        "#number of query points\n",
        "num_query = num_shots[4] \n",
        "\n",
        "#number of examples\n",
        "num_examples = 100\n",
        "\n",
        "num_episodes = 1200\n",
        "\n",
        "# Metrics to gather\n",
        "test_loss = tf.metrics.Mean(name='test_loss')\n",
        "test_acc = tf.metrics.Mean(name='test_accuracy')\n",
        "\n",
        "def calc_loss(support, query):\n",
        "  loss, acc = model(support, query)\n",
        "  return loss, acc\n",
        "\n",
        "for i_episode in range(num_episodes):\n",
        "  test_support, test_query = get_next_batch(test_images, test_labels, num_way, num_shot, num_query, num_classes)\n",
        "  if (i_episode+1)%50 == 0: \n",
        "    print(\"Episode: \", i_episode + 1)\n",
        "  loss, acc = calc_loss(test_support, test_query)\n",
        "  test_loss(loss)\n",
        "  test_acc(acc)\n",
        "\n",
        "print(\"Loss: \", test_loss.result().numpy())\n",
        "print(\"Accuracy: \", test_acc.result().numpy() * 100)"
      ],
      "metadata": {
        "colab": {
          "base_uri": "https://localhost:8080/"
        },
        "id": "KHnBxSNP0DiN",
        "outputId": "fe99a23b-95e7-439f-a57d-2cafe93a4f15"
      },
      "execution_count": null,
      "outputs": [
        {
          "output_type": "stream",
          "name": "stdout",
          "text": [
            "Model loaded.\n",
            "Episode:  50\n",
            "Episode:  100\n",
            "Episode:  150\n",
            "Episode:  200\n",
            "Episode:  250\n",
            "Episode:  300\n",
            "Episode:  350\n",
            "Episode:  400\n",
            "Episode:  450\n",
            "Episode:  500\n",
            "Episode:  550\n",
            "Episode:  600\n",
            "Episode:  650\n",
            "Episode:  700\n",
            "Episode:  750\n",
            "Episode:  800\n",
            "Episode:  850\n",
            "Episode:  900\n",
            "Episode:  950\n",
            "Episode:  1000\n",
            "Episode:  1050\n",
            "Episode:  1100\n",
            "Episode:  1150\n",
            "Episode:  1200\n",
            "Loss:  1.6446304\n",
            "Accuracy:  46.23337686061859\n"
          ]
        }
      ]
    },
    {
      "cell_type": "code",
      "source": [
        "from numpy import argmax\n",
        "from tensorflow.keras.utils import to_categorical\n",
        "# one hot encode\n",
        "train_labels_encoded = to_categorical(train_labels_split)\n",
        "val_labels_encoded = to_categorical(val_labels_split)\n",
        "test_labels_encoded = to_categorical(test_labels)\n",
        "print(train_labels_encoded.shape)\n",
        "print(test_labels_encoded.shape)\n",
        "print(train_images_split.shape)\n",
        "print(val_images_split.shape)\n",
        "print(test_images.shape)"
      ],
      "metadata": {
        "colab": {
          "base_uri": "https://localhost:8080/"
        },
        "id": "41CiZVmWBnB8",
        "outputId": "626d63f7-92a9-4260-e9b3-dfa463073d87"
      },
      "execution_count": null,
      "outputs": [
        {
          "output_type": "stream",
          "name": "stdout",
          "text": [
            "(40000, 100)\n",
            "(10000, 100)\n",
            "(40000, 32, 32, 3)\n",
            "(10000, 32, 32, 3)\n",
            "(10000, 32, 32, 3)\n"
          ]
        }
      ]
    },
    {
      "cell_type": "code",
      "source": [
        "from tensorflow.keras import applications\n",
        "from tensorflow.keras.models import Sequential\n",
        "from tensorflow.keras.layers import Dropout, GlobalMaxPooling2D\n",
        "\n",
        "base_model = applications.resnet50.ResNet50(weights= None, include_top=False, input_shape= (img_width, img_height, channels))\n",
        "x = base_model.output\n",
        "x = GlobalMaxPooling2D()(x)\n",
        "x = Dropout(0.7)(x)\n",
        "predictions = Dense(100, activation= 'softmax')(x)\n",
        "model = Model(inputs = base_model.input, outputs = predictions)\n",
        "optimizer = tf.keras.optimizers.Adam(learning_rate)\n",
        "model.compile(optimizer= optimizer, loss='categorical_crossentropy', metrics=['accuracy'])\n",
        "model.fit(train_images_split, train_labels_encoded, epochs = 100, batch_size=64, validation_data=(val_images_split, val_labels_encoded))"
      ],
      "metadata": {
        "colab": {
          "base_uri": "https://localhost:8080/"
        },
        "id": "kkMkW5SWBn7v",
        "outputId": "f9219365-e4c5-49f4-f5cd-97782c7d2677"
      },
      "execution_count": null,
      "outputs": [
        {
          "output_type": "stream",
          "name": "stdout",
          "text": [
            "Epoch 1/100\n",
            "625/625 [==============================] - 34s 46ms/step - loss: 5.5989 - accuracy: 0.0374 - val_loss: 8.0317 - val_accuracy: 0.0510\n",
            "Epoch 2/100\n",
            "625/625 [==============================] - 28s 44ms/step - loss: 5.2334 - accuracy: 0.0604 - val_loss: 38.5813 - val_accuracy: 0.0157\n",
            "Epoch 3/100\n",
            "625/625 [==============================] - 28s 44ms/step - loss: 5.0983 - accuracy: 0.0644 - val_loss: 20.2115 - val_accuracy: 0.0551\n",
            "Epoch 4/100\n",
            "625/625 [==============================] - 28s 44ms/step - loss: 5.1138 - accuracy: 0.0564 - val_loss: 4.9704 - val_accuracy: 0.0293\n",
            "Epoch 5/100\n",
            "625/625 [==============================] - 28s 44ms/step - loss: 5.0475 - accuracy: 0.0504 - val_loss: 6.0496 - val_accuracy: 0.0183\n",
            "Epoch 6/100\n",
            "625/625 [==============================] - 28s 44ms/step - loss: 4.8328 - accuracy: 0.0578 - val_loss: 4.1172 - val_accuracy: 0.0650\n",
            "Epoch 7/100\n",
            "625/625 [==============================] - 28s 44ms/step - loss: 4.6537 - accuracy: 0.0701 - val_loss: 32.6771 - val_accuracy: 0.0253\n",
            "Epoch 8/100\n",
            "625/625 [==============================] - 28s 45ms/step - loss: 4.6424 - accuracy: 0.0756 - val_loss: 4.4417 - val_accuracy: 0.0818\n",
            "Epoch 9/100\n",
            "625/625 [==============================] - 28s 44ms/step - loss: 4.5216 - accuracy: 0.0826 - val_loss: 64.1025 - val_accuracy: 0.0242\n",
            "Epoch 10/100\n",
            "625/625 [==============================] - 28s 44ms/step - loss: 4.6222 - accuracy: 0.0660 - val_loss: 5.7732 - val_accuracy: 0.0634\n",
            "Epoch 11/100\n",
            "625/625 [==============================] - 28s 44ms/step - loss: 4.3792 - accuracy: 0.0803 - val_loss: 3.9574 - val_accuracy: 0.0868\n",
            "Epoch 12/100\n",
            "625/625 [==============================] - 28s 44ms/step - loss: 4.3972 - accuracy: 0.0812 - val_loss: 23.1432 - val_accuracy: 0.0585\n",
            "Epoch 13/100\n",
            "625/625 [==============================] - 28s 44ms/step - loss: 4.2644 - accuracy: 0.0940 - val_loss: 4.3256 - val_accuracy: 0.0465\n",
            "Epoch 14/100\n",
            "625/625 [==============================] - 28s 44ms/step - loss: 4.0744 - accuracy: 0.1095 - val_loss: 3.7590 - val_accuracy: 0.1173\n",
            "Epoch 15/100\n",
            "625/625 [==============================] - 28s 44ms/step - loss: 4.0860 - accuracy: 0.1098 - val_loss: 3.9039 - val_accuracy: 0.0967\n",
            "Epoch 16/100\n",
            "625/625 [==============================] - 28s 44ms/step - loss: 4.1755 - accuracy: 0.0899 - val_loss: 36.6842 - val_accuracy: 0.0498\n",
            "Epoch 17/100\n",
            "625/625 [==============================] - 28s 44ms/step - loss: 3.9341 - accuracy: 0.1089 - val_loss: 4.6422 - val_accuracy: 0.1280\n",
            "Epoch 18/100\n",
            "625/625 [==============================] - 28s 44ms/step - loss: 3.9880 - accuracy: 0.1006 - val_loss: 8.0731 - val_accuracy: 0.0825\n",
            "Epoch 19/100\n",
            "625/625 [==============================] - 28s 44ms/step - loss: 3.8691 - accuracy: 0.1146 - val_loss: 3.6895 - val_accuracy: 0.1238\n",
            "Epoch 20/100\n",
            "625/625 [==============================] - 28s 44ms/step - loss: 3.7202 - accuracy: 0.1277 - val_loss: 3.8057 - val_accuracy: 0.1293\n",
            "Epoch 21/100\n",
            "625/625 [==============================] - 28s 44ms/step - loss: 3.6206 - accuracy: 0.1399 - val_loss: 3.5247 - val_accuracy: 0.1568\n",
            "Epoch 22/100\n",
            "625/625 [==============================] - 28s 44ms/step - loss: 3.5614 - accuracy: 0.1471 - val_loss: 3.6770 - val_accuracy: 0.1355\n",
            "Epoch 23/100\n",
            "625/625 [==============================] - 28s 44ms/step - loss: 3.4927 - accuracy: 0.1598 - val_loss: 3.5540 - val_accuracy: 0.1653\n",
            "Epoch 24/100\n",
            "625/625 [==============================] - 28s 44ms/step - loss: 3.4338 - accuracy: 0.1711 - val_loss: 3.4381 - val_accuracy: 0.1743\n",
            "Epoch 25/100\n",
            "625/625 [==============================] - 28s 44ms/step - loss: 3.3984 - accuracy: 0.1773 - val_loss: 3.4785 - val_accuracy: 0.1774\n",
            "Epoch 26/100\n",
            "625/625 [==============================] - 28s 44ms/step - loss: 3.3615 - accuracy: 0.1875 - val_loss: 3.4721 - val_accuracy: 0.1842\n",
            "Epoch 27/100\n",
            "625/625 [==============================] - 28s 44ms/step - loss: 3.3720 - accuracy: 0.1842 - val_loss: 5.0711 - val_accuracy: 0.1620\n",
            "Epoch 28/100\n",
            "625/625 [==============================] - 28s 44ms/step - loss: 3.3778 - accuracy: 0.1859 - val_loss: 22.0937 - val_accuracy: 0.0396\n",
            "Epoch 29/100\n",
            "625/625 [==============================] - 28s 44ms/step - loss: 3.3673 - accuracy: 0.1851 - val_loss: 3.3543 - val_accuracy: 0.2056\n",
            "Epoch 30/100\n",
            "625/625 [==============================] - 28s 44ms/step - loss: 3.2540 - accuracy: 0.2058 - val_loss: 3.3611 - val_accuracy: 0.2139\n",
            "Epoch 31/100\n",
            "625/625 [==============================] - 28s 44ms/step - loss: 3.1919 - accuracy: 0.2158 - val_loss: 3.8445 - val_accuracy: 0.2262\n",
            "Epoch 32/100\n",
            "625/625 [==============================] - 28s 44ms/step - loss: 3.3235 - accuracy: 0.1949 - val_loss: 21.0298 - val_accuracy: 0.1575\n",
            "Epoch 33/100\n",
            "625/625 [==============================] - 28s 44ms/step - loss: 3.7618 - accuracy: 0.1287 - val_loss: 5.6628 - val_accuracy: 0.1131\n",
            "Epoch 34/100\n",
            "625/625 [==============================] - 28s 44ms/step - loss: 3.4450 - accuracy: 0.1722 - val_loss: 3.5092 - val_accuracy: 0.1858\n",
            "Epoch 35/100\n",
            "625/625 [==============================] - 28s 44ms/step - loss: 3.3598 - accuracy: 0.1870 - val_loss: 3.4758 - val_accuracy: 0.1994\n",
            "Epoch 36/100\n",
            "625/625 [==============================] - 28s 44ms/step - loss: 3.3097 - accuracy: 0.1974 - val_loss: 13.2711 - val_accuracy: 0.0435\n",
            "Epoch 37/100\n",
            "625/625 [==============================] - 28s 44ms/step - loss: 3.2977 - accuracy: 0.1981 - val_loss: 13.4814 - val_accuracy: 0.1008\n",
            "Epoch 38/100\n",
            "625/625 [==============================] - 28s 44ms/step - loss: 3.2456 - accuracy: 0.2043 - val_loss: 3.7993 - val_accuracy: 0.1808\n",
            "Epoch 39/100\n",
            "625/625 [==============================] - 28s 44ms/step - loss: 3.2250 - accuracy: 0.2073 - val_loss: 3.4899 - val_accuracy: 0.2023\n",
            "Epoch 40/100\n",
            "625/625 [==============================] - 28s 44ms/step - loss: 3.2204 - accuracy: 0.2139 - val_loss: 3.5524 - val_accuracy: 0.2115\n",
            "Epoch 41/100\n",
            "625/625 [==============================] - 28s 44ms/step - loss: 3.5762 - accuracy: 0.1581 - val_loss: 3.9884 - val_accuracy: 0.1186\n",
            "Epoch 42/100\n",
            "625/625 [==============================] - 28s 44ms/step - loss: 3.5607 - accuracy: 0.1504 - val_loss: 4.1746 - val_accuracy: 0.1782\n",
            "Epoch 43/100\n",
            "625/625 [==============================] - 28s 44ms/step - loss: 3.5680 - accuracy: 0.1520 - val_loss: 4.3665 - val_accuracy: 0.0928\n",
            "Epoch 44/100\n",
            "625/625 [==============================] - 28s 44ms/step - loss: 3.7545 - accuracy: 0.1255 - val_loss: 4.6519 - val_accuracy: 0.0761\n",
            "Epoch 45/100\n",
            "625/625 [==============================] - 28s 44ms/step - loss: 3.7006 - accuracy: 0.1313 - val_loss: 3.7255 - val_accuracy: 0.1355\n",
            "Epoch 46/100\n",
            "625/625 [==============================] - 28s 44ms/step - loss: 3.8856 - accuracy: 0.1041 - val_loss: 3.8393 - val_accuracy: 0.1211\n",
            "Epoch 47/100\n",
            "625/625 [==============================] - 28s 44ms/step - loss: 3.6545 - accuracy: 0.1388 - val_loss: 3.5997 - val_accuracy: 0.1482\n",
            "Epoch 48/100\n",
            "625/625 [==============================] - 28s 44ms/step - loss: 3.6345 - accuracy: 0.1412 - val_loss: 4.4640 - val_accuracy: 0.1301\n",
            "Epoch 49/100\n",
            "625/625 [==============================] - 28s 44ms/step - loss: 3.5859 - accuracy: 0.1503 - val_loss: 4.5081 - val_accuracy: 0.1502\n",
            "Epoch 50/100\n",
            "625/625 [==============================] - 28s 44ms/step - loss: 3.4911 - accuracy: 0.1643 - val_loss: 4.2286 - val_accuracy: 0.1717\n",
            "Epoch 51/100\n",
            "625/625 [==============================] - 28s 44ms/step - loss: 3.3964 - accuracy: 0.1807 - val_loss: 3.7521 - val_accuracy: 0.1800\n",
            "Epoch 52/100\n",
            "625/625 [==============================] - 28s 44ms/step - loss: 3.4781 - accuracy: 0.1701 - val_loss: 4.1525 - val_accuracy: 0.1140\n",
            "Epoch 53/100\n",
            "625/625 [==============================] - 28s 44ms/step - loss: 3.4396 - accuracy: 0.1750 - val_loss: 3.4591 - val_accuracy: 0.1875\n",
            "Epoch 54/100\n",
            "625/625 [==============================] - 28s 44ms/step - loss: 3.3821 - accuracy: 0.1841 - val_loss: 3.6830 - val_accuracy: 0.1579\n",
            "Epoch 55/100\n",
            "625/625 [==============================] - 28s 44ms/step - loss: 3.4032 - accuracy: 0.1791 - val_loss: 3.8297 - val_accuracy: 0.1724\n",
            "Epoch 56/100\n",
            "625/625 [==============================] - 28s 44ms/step - loss: 3.3232 - accuracy: 0.1928 - val_loss: 4.7585 - val_accuracy: 0.2001\n",
            "Epoch 57/100\n",
            "625/625 [==============================] - 28s 44ms/step - loss: 3.2381 - accuracy: 0.2081 - val_loss: 4.1095 - val_accuracy: 0.2081\n",
            "Epoch 58/100\n",
            "625/625 [==============================] - 28s 44ms/step - loss: 3.1757 - accuracy: 0.2201 - val_loss: 4.1177 - val_accuracy: 0.2185\n",
            "Epoch 59/100\n",
            "625/625 [==============================] - 28s 44ms/step - loss: 3.1816 - accuracy: 0.2183 - val_loss: 3.8640 - val_accuracy: 0.1814\n",
            "Epoch 60/100\n",
            "625/625 [==============================] - 28s 44ms/step - loss: 3.2183 - accuracy: 0.2158 - val_loss: 10.6580 - val_accuracy: 0.1157\n",
            "Epoch 61/100\n",
            "625/625 [==============================] - 28s 44ms/step - loss: 3.1213 - accuracy: 0.2286 - val_loss: 3.5188 - val_accuracy: 0.2222\n",
            "Epoch 62/100\n",
            "625/625 [==============================] - 28s 44ms/step - loss: 3.3044 - accuracy: 0.2014 - val_loss: 3.6990 - val_accuracy: 0.1325\n",
            "Epoch 63/100\n",
            "625/625 [==============================] - 28s 44ms/step - loss: 3.3589 - accuracy: 0.1885 - val_loss: 3.7577 - val_accuracy: 0.1984\n",
            "Epoch 64/100\n",
            "625/625 [==============================] - 28s 44ms/step - loss: 3.3012 - accuracy: 0.2000 - val_loss: 3.5684 - val_accuracy: 0.1956\n",
            "Epoch 65/100\n",
            "625/625 [==============================] - 28s 44ms/step - loss: 3.2124 - accuracy: 0.2121 - val_loss: 3.4620 - val_accuracy: 0.2151\n",
            "Epoch 66/100\n",
            "625/625 [==============================] - 28s 44ms/step - loss: 3.2507 - accuracy: 0.2088 - val_loss: 3.3790 - val_accuracy: 0.1948\n",
            "Epoch 67/100\n",
            "625/625 [==============================] - 28s 44ms/step - loss: 3.2370 - accuracy: 0.2080 - val_loss: 3.4313 - val_accuracy: 0.2075\n",
            "Epoch 68/100\n",
            "625/625 [==============================] - 28s 44ms/step - loss: 3.1173 - accuracy: 0.2301 - val_loss: 4.0530 - val_accuracy: 0.2198\n",
            "Epoch 69/100\n",
            "625/625 [==============================] - 28s 44ms/step - loss: 3.0593 - accuracy: 0.2402 - val_loss: 3.3704 - val_accuracy: 0.2051\n",
            "Epoch 70/100\n",
            "625/625 [==============================] - 28s 44ms/step - loss: 3.1991 - accuracy: 0.2191 - val_loss: 5.8204 - val_accuracy: 0.1633\n",
            "Epoch 71/100\n",
            "625/625 [==============================] - 28s 44ms/step - loss: 3.2778 - accuracy: 0.2080 - val_loss: 3.3884 - val_accuracy: 0.2002\n",
            "Epoch 72/100\n",
            "625/625 [==============================] - 28s 44ms/step - loss: 3.1496 - accuracy: 0.2225 - val_loss: 3.4753 - val_accuracy: 0.1882\n",
            "Epoch 73/100\n",
            "625/625 [==============================] - 28s 44ms/step - loss: 3.1231 - accuracy: 0.2293 - val_loss: 4.2095 - val_accuracy: 0.2106\n",
            "Epoch 74/100\n",
            "625/625 [==============================] - 28s 44ms/step - loss: 3.1716 - accuracy: 0.2204 - val_loss: 3.9284 - val_accuracy: 0.1008\n",
            "Epoch 75/100\n",
            "625/625 [==============================] - 28s 45ms/step - loss: 3.3919 - accuracy: 0.1798 - val_loss: 3.3936 - val_accuracy: 0.1970\n",
            "Epoch 76/100\n",
            "625/625 [==============================] - 28s 44ms/step - loss: 3.1578 - accuracy: 0.2241 - val_loss: 3.5071 - val_accuracy: 0.2145\n",
            "Epoch 77/100\n",
            "625/625 [==============================] - 28s 44ms/step - loss: 3.0590 - accuracy: 0.2385 - val_loss: 6.7571 - val_accuracy: 0.1902\n",
            "Epoch 78/100\n",
            "625/625 [==============================] - 28s 45ms/step - loss: 3.0750 - accuracy: 0.2394 - val_loss: 3.6410 - val_accuracy: 0.2219\n",
            "Epoch 79/100\n",
            "625/625 [==============================] - 28s 44ms/step - loss: 2.9750 - accuracy: 0.2595 - val_loss: 3.2393 - val_accuracy: 0.2197\n",
            "Epoch 80/100\n",
            "625/625 [==============================] - 28s 44ms/step - loss: 2.9428 - accuracy: 0.2621 - val_loss: 3.9661 - val_accuracy: 0.2235\n",
            "Epoch 81/100\n",
            "625/625 [==============================] - 28s 44ms/step - loss: 2.9715 - accuracy: 0.2555 - val_loss: 4.0734 - val_accuracy: 0.1763\n",
            "Epoch 82/100\n",
            "625/625 [==============================] - 28s 44ms/step - loss: 3.0679 - accuracy: 0.2386 - val_loss: 3.7253 - val_accuracy: 0.2170\n",
            "Epoch 83/100\n",
            "625/625 [==============================] - 28s 44ms/step - loss: 2.9114 - accuracy: 0.2673 - val_loss: 3.6710 - val_accuracy: 0.2325\n",
            "Epoch 84/100\n",
            "625/625 [==============================] - 28s 44ms/step - loss: 2.9127 - accuracy: 0.2688 - val_loss: 3.6634 - val_accuracy: 0.2331\n",
            "Epoch 85/100\n",
            "625/625 [==============================] - 28s 44ms/step - loss: 2.8440 - accuracy: 0.2788 - val_loss: 5.1483 - val_accuracy: 0.2281\n",
            "Epoch 86/100\n",
            "625/625 [==============================] - 28s 44ms/step - loss: 2.7954 - accuracy: 0.2882 - val_loss: 170.5193 - val_accuracy: 0.1097\n",
            "Epoch 87/100\n",
            "625/625 [==============================] - 28s 44ms/step - loss: 2.8348 - accuracy: 0.2806 - val_loss: 3.3841 - val_accuracy: 0.2259\n",
            "Epoch 88/100\n",
            "625/625 [==============================] - 28s 44ms/step - loss: 2.7498 - accuracy: 0.2991 - val_loss: 3.2642 - val_accuracy: 0.2392\n",
            "Epoch 89/100\n",
            "625/625 [==============================] - 28s 44ms/step - loss: 2.7093 - accuracy: 0.3067 - val_loss: 3.4676 - val_accuracy: 0.2314\n",
            "Epoch 90/100\n",
            "625/625 [==============================] - 28s 45ms/step - loss: 2.7356 - accuracy: 0.3000 - val_loss: 3.2394 - val_accuracy: 0.2312\n",
            "Epoch 91/100\n",
            "625/625 [==============================] - 28s 45ms/step - loss: 2.6565 - accuracy: 0.3163 - val_loss: 3.4097 - val_accuracy: 0.2404\n",
            "Epoch 92/100\n",
            "625/625 [==============================] - 28s 45ms/step - loss: 2.5608 - accuracy: 0.3326 - val_loss: 3.2440 - val_accuracy: 0.2481\n",
            "Epoch 93/100\n",
            "625/625 [==============================] - 28s 44ms/step - loss: 2.4984 - accuracy: 0.3431 - val_loss: 3.6160 - val_accuracy: 0.2481\n",
            "Epoch 94/100\n",
            "625/625 [==============================] - 28s 45ms/step - loss: 2.7294 - accuracy: 0.3079 - val_loss: 3.5917 - val_accuracy: 0.2221\n",
            "Epoch 95/100\n",
            "625/625 [==============================] - 28s 45ms/step - loss: 2.6221 - accuracy: 0.3194 - val_loss: 3.8417 - val_accuracy: 0.2379\n",
            "Epoch 96/100\n",
            "625/625 [==============================] - 28s 45ms/step - loss: 2.4649 - accuracy: 0.3532 - val_loss: 6.8606 - val_accuracy: 0.2226\n",
            "Epoch 97/100\n",
            "625/625 [==============================] - 28s 45ms/step - loss: 2.4108 - accuracy: 0.3609 - val_loss: 3.3754 - val_accuracy: 0.2339\n",
            "Epoch 98/100\n",
            "625/625 [==============================] - 28s 45ms/step - loss: 2.6912 - accuracy: 0.3105 - val_loss: 3.5234 - val_accuracy: 0.2385\n",
            "Epoch 99/100\n",
            "625/625 [==============================] - 28s 45ms/step - loss: 2.4873 - accuracy: 0.3480 - val_loss: 3.8755 - val_accuracy: 0.2450\n",
            "Epoch 100/100\n",
            "625/625 [==============================] - 28s 45ms/step - loss: 2.4282 - accuracy: 0.3623 - val_loss: 3.4903 - val_accuracy: 0.2454\n"
          ]
        },
        {
          "output_type": "execute_result",
          "data": {
            "text/plain": [
              "<keras.callbacks.History at 0x7f95bcdeafd0>"
            ]
          },
          "metadata": {},
          "execution_count": 106
        }
      ]
    },
    {
      "cell_type": "code",
      "source": [
        "preds = model.evaluate(test_images, test_labels_encoded)\n",
        "print (\"Loss = \" + str(preds[0]))\n",
        "print (\"Test Accuracy = \" + str(preds[1]))"
      ],
      "metadata": {
        "colab": {
          "base_uri": "https://localhost:8080/"
        },
        "id": "lVP9e9YOBoVQ",
        "outputId": "242b9032-574d-4c15-e237-ea5e4c023533"
      },
      "execution_count": null,
      "outputs": [
        {
          "output_type": "stream",
          "name": "stdout",
          "text": [
            "313/313 [==============================] - 4s 13ms/step - loss: 3.4738 - accuracy: 0.2518\n",
            "Loss = 3.4738352298736572\n",
            "Test Accuracy = 0.251800000667572\n"
          ]
        }
      ]
    },
    {
      "cell_type": "code",
      "source": [],
      "metadata": {
        "id": "gj24Z8DNBouh"
      },
      "execution_count": null,
      "outputs": []
    },
    {
      "cell_type": "code",
      "source": [],
      "metadata": {
        "id": "f4R_8juIBpI1"
      },
      "execution_count": null,
      "outputs": []
    }
  ]
}