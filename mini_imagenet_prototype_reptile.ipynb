{
  "cells": [
    {
      "cell_type": "markdown",
      "metadata": {
        "id": "view-in-github",
        "colab_type": "text"
      },
      "source": [
        "<a href=\"https://colab.research.google.com/github/psmouli14/final_project/blob/main/mini_imagenet_prototype_reptile.ipynb\" target=\"_parent\"><img src=\"https://colab.research.google.com/assets/colab-badge.svg\" alt=\"Open In Colab\"/></a>"
      ]
    },
    {
      "cell_type": "code",
      "execution_count": null,
      "metadata": {
        "id": "DOlu814zHVl8"
      },
      "outputs": [],
      "source": [
        "import os\n",
        "import glob\n",
        "from PIL import Image\n",
        "import pandas as pd\n",
        "import numpy as np\n",
        "import tensorflow as tf"
      ]
    },
    {
      "cell_type": "code",
      "execution_count": null,
      "metadata": {
        "colab": {
          "base_uri": "https://localhost:8080/",
          "height": 74,
          "resources": {
            "http://localhost:8080/nbextensions/google.colab/files.js": {
              "data": "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",
              "headers": [
                [
                  "content-type",
                  "application/javascript"
                ]
              ],
              "ok": true,
              "status": 200,
              "status_text": ""
            }
          }
        },
        "id": "lqjRUIPrI9dN",
        "outputId": "8a26cd23-f4b3-4ba2-dad7-f17d146ec7c2"
      },
      "outputs": [
        {
          "output_type": "display_data",
          "data": {
            "text/plain": [
              "<IPython.core.display.HTML object>"
            ],
            "text/html": [
              "\n",
              "     <input type=\"file\" id=\"files-29480ae7-0b75-45ed-8657-456eb9ddece6\" name=\"files[]\" multiple disabled\n",
              "        style=\"border:none\" />\n",
              "     <output id=\"result-29480ae7-0b75-45ed-8657-456eb9ddece6\">\n",
              "      Upload widget is only available when the cell has been executed in the\n",
              "      current browser session. Please rerun this cell to enable.\n",
              "      </output>\n",
              "      <script src=\"/nbextensions/google.colab/files.js\"></script> "
            ]
          },
          "metadata": {}
        },
        {
          "output_type": "stream",
          "name": "stdout",
          "text": [
            "Saving mini-imagenet.tar.gz to mini-imagenet.tar.gz\n"
          ]
        }
      ],
      "source": [
        "from google.colab import files\n",
        "uploaded = files.upload()"
      ]
    },
    {
      "cell_type": "code",
      "execution_count": null,
      "metadata": {
        "colab": {
          "base_uri": "https://localhost:8080/"
        },
        "id": "w5xXwzyFJAv8",
        "outputId": "96fb6ddd-35c2-40aa-a15b-87d63bef519b"
      },
      "outputs": [
        {
          "output_type": "stream",
          "name": "stdout",
          "text": [
            "mini-imagenet-cache-train.pkl\n",
            "mini-imagenet-cache-val.pkl\n",
            "mini-imagenet-cache-test.pkl\n"
          ]
        }
      ],
      "source": [
        "!tar -zxvf mini-imagenet.tar.gz"
      ]
    },
    {
      "cell_type": "code",
      "execution_count": null,
      "metadata": {
        "id": "JDFUbAHEZ-An"
      },
      "outputs": [],
      "source": [
        "def unpickle(file):\n",
        "    import pickle\n",
        "    with open(file, 'rb') as fo:\n",
        "        cifar_dict = pickle.load(fo, encoding='bytes')\n",
        "    return cifar_dict"
      ]
    },
    {
      "cell_type": "code",
      "execution_count": null,
      "metadata": {
        "id": "5-Y9nNg_auc4"
      },
      "outputs": [],
      "source": [
        "train = unpickle('mini-imagenet-cache-train.pkl')\n",
        "val = unpickle('mini-imagenet-cache-val.pkl')\n",
        "test = unpickle('mini-imagenet-cache-test.pkl')"
      ]
    },
    {
      "cell_type": "code",
      "execution_count": null,
      "metadata": {
        "colab": {
          "base_uri": "https://localhost:8080/"
        },
        "id": "cz-Qix47bL0A",
        "outputId": "0bdc1093-ba82-46f0-af02-4034791851c2"
      },
      "outputs": [
        {
          "output_type": "execute_result",
          "data": {
            "text/plain": [
              "['image_data', 'class_dict']"
            ]
          },
          "metadata": {},
          "execution_count": 93
        }
      ],
      "source": [
        "val_keys = list(val.keys())\n",
        "val_keys"
      ]
    },
    {
      "cell_type": "code",
      "execution_count": null,
      "metadata": {
        "colab": {
          "base_uri": "https://localhost:8080/"
        },
        "id": "jJv2yegldRZK",
        "outputId": "e04a12aa-d419-44c6-a36d-7c9c340f1e85"
      },
      "outputs": [
        {
          "output_type": "execute_result",
          "data": {
            "text/plain": [
              "['image_data', 'class_dict']"
            ]
          },
          "metadata": {},
          "execution_count": 94
        }
      ],
      "source": [
        "training_keys = list(train.keys())\n",
        "training_keys"
      ]
    },
    {
      "cell_type": "code",
      "execution_count": null,
      "metadata": {
        "colab": {
          "base_uri": "https://localhost:8080/"
        },
        "id": "0Unfmv4Udsqf",
        "outputId": "d59b4aec-3131-42cb-b4da-53227e8d264a"
      },
      "outputs": [
        {
          "output_type": "execute_result",
          "data": {
            "text/plain": [
              "['image_data', 'class_dict']"
            ]
          },
          "metadata": {},
          "execution_count": 95
        }
      ],
      "source": [
        "test_keys = list(test.keys())\n",
        "test_keys"
      ]
    },
    {
      "cell_type": "code",
      "execution_count": null,
      "metadata": {
        "colab": {
          "base_uri": "https://localhost:8080/"
        },
        "id": "Jqr9ImIJebNg",
        "outputId": "8d15d99c-8990-4f25-8084-9f333c4a3b22"
      },
      "outputs": [
        {
          "output_type": "stream",
          "name": "stdout",
          "text": [
            "(38400, 84, 84, 3)\n",
            "(9600, 84, 84, 3)\n",
            "(12000, 84, 84, 3)\n",
            "<class 'dict'>\n",
            "dict_keys(['n01532829', 'n01558993', 'n01704323', 'n01749939', 'n01770081', 'n01843383', 'n01910747', 'n02074367', 'n02089867', 'n02091831', 'n02101006', 'n02105505', 'n02108089', 'n02108551', 'n02108915', 'n02111277', 'n02113712', 'n02120079', 'n02165456', 'n02457408', 'n02606052', 'n02687172', 'n02747177', 'n02795169', 'n02823428', 'n02966193', 'n03017168', 'n03047690', 'n03062245', 'n03207743', 'n03220513', 'n03337140', 'n03347037', 'n03400231', 'n03476684', 'n03527444', 'n03676483', 'n03838899', 'n03854065', 'n03888605', 'n03908618', 'n03924679', 'n03998194', 'n04067472', 'n04243546', 'n04251144', 'n04258138', 'n04275548', 'n04296562', 'n04389033', 'n04435653', 'n04443257', 'n04509417', 'n04515003', 'n04596742', 'n04604644', 'n04612504', 'n06794110', 'n07584110', 'n07697537', 'n07747607', 'n09246464', 'n13054560', 'n13133613'])\n",
            "dict_keys(['n01855672', 'n02091244', 'n02114548', 'n02138441', 'n02174001', 'n02950826', 'n02971356', 'n02981792', 'n03075370', 'n03417042', 'n03535780', 'n03584254', 'n03770439', 'n03773504', 'n03980874', 'n09256479'])\n",
            "dict_keys(['n01930112', 'n01981276', 'n02099601', 'n02110063', 'n02110341', 'n02116738', 'n02129165', 'n02219486', 'n02443484', 'n02871525', 'n03127925', 'n03146219', 'n03272010', 'n03544143', 'n03775546', 'n04146614', 'n04149813', 'n04418357', 'n04522168', 'n07613480'])\n",
            "64\n",
            "16\n",
            "20\n"
          ]
        }
      ],
      "source": [
        "train_images = train['image_data']\n",
        "train_labels = train['class_dict']\n",
        "test_images = test['image_data']\n",
        "test_labels = test['class_dict']\n",
        "val_images = val['image_data']\n",
        "val_labels = val['class_dict']\n",
        "print(train_images.shape)\n",
        "print(val_images.shape)\n",
        "print(test_images.shape)\n",
        "print(type(train_labels))\n",
        "print(train_labels.keys())\n",
        "print(val_labels.keys())\n",
        "print(test_labels.keys())\n",
        "\n",
        "train_classes = len(train_labels.keys())\n",
        "val_classes = len(val_labels.keys())\n",
        "test_classes = len(test_labels.keys())\n",
        "print(train_classes)\n",
        "print(val_classes)\n",
        "print(test_classes)\n"
      ]
    },
    {
      "cell_type": "code",
      "source": [
        "train_images.dtype"
      ],
      "metadata": {
        "colab": {
          "base_uri": "https://localhost:8080/"
        },
        "id": "v01I3F5-zj16",
        "outputId": "ae1f7e9e-96c7-41d7-d0fc-a961e970c511"
      },
      "execution_count": null,
      "outputs": [
        {
          "output_type": "execute_result",
          "data": {
            "text/plain": [
              "dtype('uint8')"
            ]
          },
          "metadata": {},
          "execution_count": 97
        }
      ]
    },
    {
      "cell_type": "code",
      "source": [
        "train_images[0]"
      ],
      "metadata": {
        "colab": {
          "base_uri": "https://localhost:8080/"
        },
        "id": "tTK4XFD73vdg",
        "outputId": "7e226ec7-3531-4aa4-8d73-efb9708acd4e"
      },
      "execution_count": null,
      "outputs": [
        {
          "output_type": "execute_result",
          "data": {
            "text/plain": [
              "array([[[ 93, 146, 198],\n",
              "        [ 93, 146, 198],\n",
              "        [ 92, 145, 197],\n",
              "        ...,\n",
              "        [ 94, 146, 196],\n",
              "        [ 94, 146, 196],\n",
              "        [ 94, 145, 198]],\n",
              "\n",
              "       [[ 93, 146, 196],\n",
              "        [ 94, 147, 197],\n",
              "        [ 93, 146, 196],\n",
              "        ...,\n",
              "        [ 96, 148, 198],\n",
              "        [ 94, 146, 196],\n",
              "        [ 97, 148, 201]],\n",
              "\n",
              "       [[ 93, 147, 194],\n",
              "        [ 91, 145, 192],\n",
              "        [ 93, 147, 194],\n",
              "        ...,\n",
              "        [ 94, 146, 196],\n",
              "        [ 94, 146, 196],\n",
              "        [ 94, 148, 200]],\n",
              "\n",
              "       ...,\n",
              "\n",
              "       [[ 30,  26,  39],\n",
              "        [123, 166, 202],\n",
              "        [105, 153, 200],\n",
              "        ...,\n",
              "        [100, 150, 199],\n",
              "        [100, 150, 199],\n",
              "        [102, 152, 201]],\n",
              "\n",
              "       [[ 26,  49,  54],\n",
              "        [102, 166, 228],\n",
              "        [106, 153, 204],\n",
              "        ...,\n",
              "        [100, 150, 199],\n",
              "        [102, 152, 201],\n",
              "        [ 96, 146, 195]],\n",
              "\n",
              "       [[125, 168, 203],\n",
              "        [101, 154, 204],\n",
              "        [ 98, 152, 202],\n",
              "        ...,\n",
              "        [100, 150, 202],\n",
              "        [101, 151, 202],\n",
              "        [102, 152, 201]]], dtype=uint8)"
            ]
          },
          "metadata": {},
          "execution_count": 98
        }
      ]
    },
    {
      "cell_type": "code",
      "source": [
        "train_images = tf.cast(train_images, tf.float32)\n",
        "train_images.shape\n",
        "train_images[0]"
      ],
      "metadata": {
        "colab": {
          "base_uri": "https://localhost:8080/"
        },
        "id": "3xk8sAtz6V22",
        "outputId": "fe4d37bf-6f6c-4a18-c6a8-ec2580ace27f"
      },
      "execution_count": null,
      "outputs": [
        {
          "output_type": "execute_result",
          "data": {
            "text/plain": [
              "<tf.Tensor: shape=(84, 84, 3), dtype=float32, numpy=\n",
              "array([[[ 93., 146., 198.],\n",
              "        [ 93., 146., 198.],\n",
              "        [ 92., 145., 197.],\n",
              "        ...,\n",
              "        [ 94., 146., 196.],\n",
              "        [ 94., 146., 196.],\n",
              "        [ 94., 145., 198.]],\n",
              "\n",
              "       [[ 93., 146., 196.],\n",
              "        [ 94., 147., 197.],\n",
              "        [ 93., 146., 196.],\n",
              "        ...,\n",
              "        [ 96., 148., 198.],\n",
              "        [ 94., 146., 196.],\n",
              "        [ 97., 148., 201.]],\n",
              "\n",
              "       [[ 93., 147., 194.],\n",
              "        [ 91., 145., 192.],\n",
              "        [ 93., 147., 194.],\n",
              "        ...,\n",
              "        [ 94., 146., 196.],\n",
              "        [ 94., 146., 196.],\n",
              "        [ 94., 148., 200.]],\n",
              "\n",
              "       ...,\n",
              "\n",
              "       [[ 30.,  26.,  39.],\n",
              "        [123., 166., 202.],\n",
              "        [105., 153., 200.],\n",
              "        ...,\n",
              "        [100., 150., 199.],\n",
              "        [100., 150., 199.],\n",
              "        [102., 152., 201.]],\n",
              "\n",
              "       [[ 26.,  49.,  54.],\n",
              "        [102., 166., 228.],\n",
              "        [106., 153., 204.],\n",
              "        ...,\n",
              "        [100., 150., 199.],\n",
              "        [102., 152., 201.],\n",
              "        [ 96., 146., 195.]],\n",
              "\n",
              "       [[125., 168., 203.],\n",
              "        [101., 154., 204.],\n",
              "        [ 98., 152., 202.],\n",
              "        ...,\n",
              "        [100., 150., 202.],\n",
              "        [101., 151., 202.],\n",
              "        [102., 152., 201.]]], dtype=float32)>"
            ]
          },
          "metadata": {},
          "execution_count": 106
        }
      ]
    },
    {
      "cell_type": "code",
      "source": [
        "test_images = tf.cast(test_images, tf.float32)\n",
        "test_images.shape\n",
        "test_images = test_images/255\n",
        "test_images[0]"
      ],
      "metadata": {
        "colab": {
          "base_uri": "https://localhost:8080/"
        },
        "id": "vPwAFNFF7y84",
        "outputId": "bc5ad8b6-313b-4799-8095-1ef4f673fcb3"
      },
      "execution_count": null,
      "outputs": [
        {
          "output_type": "execute_result",
          "data": {
            "text/plain": [
              "<tf.Tensor: shape=(84, 84, 3), dtype=float32, numpy=\n",
              "array([[[0.78431374, 0.9490196 , 0.9411765 ],\n",
              "        [0.8       , 0.92156863, 0.9764706 ],\n",
              "        [0.7921569 , 0.92156863, 0.98039216],\n",
              "        ...,\n",
              "        [0.8235294 , 0.87058824, 0.93333334],\n",
              "        [0.80784315, 0.85882354, 0.9098039 ],\n",
              "        [0.85490197, 0.8980392 , 0.92941177]],\n",
              "\n",
              "       [[0.5411765 , 0.78431374, 0.90588236],\n",
              "        [0.57254905, 0.78431374, 0.972549  ],\n",
              "        [0.5176471 , 0.75686276, 0.9490196 ],\n",
              "        ...,\n",
              "        [0.72156864, 0.8666667 , 0.96862745],\n",
              "        [0.7294118 , 0.87058824, 0.95686275],\n",
              "        [0.7647059 , 0.90588236, 0.98039216]],\n",
              "\n",
              "       [[0.45490196, 0.68235296, 0.8509804 ],\n",
              "        [0.5176471 , 0.7294118 , 0.972549  ],\n",
              "        [0.5058824 , 0.7607843 , 0.9882353 ],\n",
              "        ...,\n",
              "        [0.6862745 , 0.8117647 , 0.96862745],\n",
              "        [0.6784314 , 0.8117647 , 0.9607843 ],\n",
              "        [0.69803923, 0.83137256, 0.972549  ]],\n",
              "\n",
              "       ...,\n",
              "\n",
              "       [[0.91764706, 0.99607843, 0.99215686],\n",
              "        [0.9137255 , 1.        , 0.99215686],\n",
              "        [0.8980392 , 1.        , 0.9882353 ],\n",
              "        ...,\n",
              "        [0.6156863 , 0.74509805, 0.99215686],\n",
              "        [0.5921569 , 0.73333335, 0.9764706 ],\n",
              "        [0.58431375, 0.73333335, 0.9764706 ]],\n",
              "\n",
              "       [[0.91764706, 0.99607843, 0.99215686],\n",
              "        [0.9137255 , 1.        , 0.99215686],\n",
              "        [0.8980392 , 1.        , 0.9882353 ],\n",
              "        ...,\n",
              "        [0.6117647 , 0.74509805, 0.99215686],\n",
              "        [0.58431375, 0.7254902 , 0.972549  ],\n",
              "        [0.57254905, 0.7294118 , 0.96862745]],\n",
              "\n",
              "       [[0.9019608 , 0.9882353 , 0.98039216],\n",
              "        [0.8666667 , 0.99607843, 0.98039216],\n",
              "        [0.8666667 , 0.99607843, 0.9843137 ],\n",
              "        ...,\n",
              "        [0.26666668, 0.33333334, 0.45490196],\n",
              "        [0.23529412, 0.3019608 , 0.42745098],\n",
              "        [0.22352941, 0.28235295, 0.40784314]]], dtype=float32)>"
            ]
          },
          "metadata": {},
          "execution_count": 100
        }
      ]
    },
    {
      "cell_type": "code",
      "source": [
        "val_images = tf.cast(val_images, tf.float32)\n",
        "val_images = val_images/255\n",
        "val_images[0]"
      ],
      "metadata": {
        "colab": {
          "base_uri": "https://localhost:8080/"
        },
        "id": "SXsIRKJg7zXs",
        "outputId": "87edb21c-5a2e-47d0-fd5d-65295bf6ffb5"
      },
      "execution_count": null,
      "outputs": [
        {
          "output_type": "execute_result",
          "data": {
            "text/plain": [
              "<tf.Tensor: shape=(84, 84, 3), dtype=float32, numpy=\n",
              "array([[[0.8745098 , 0.8       , 0.78431374],\n",
              "        [0.85882354, 0.78431374, 0.76862746],\n",
              "        [0.8509804 , 0.7764706 , 0.7607843 ],\n",
              "        ...,\n",
              "        [0.8392157 , 0.7607843 , 0.76862746],\n",
              "        [0.84313726, 0.7607843 , 0.78039217],\n",
              "        [0.8392157 , 0.7529412 , 0.7764706 ]],\n",
              "\n",
              "       [[0.8980392 , 0.8352941 , 0.8392157 ],\n",
              "        [0.8745098 , 0.80784315, 0.8117647 ],\n",
              "        [0.87058824, 0.80784315, 0.8117647 ],\n",
              "        ...,\n",
              "        [0.83137256, 0.75686276, 0.77254903],\n",
              "        [0.81960785, 0.74509805, 0.76862746],\n",
              "        [0.8352941 , 0.7529412 , 0.7647059 ]],\n",
              "\n",
              "       [[0.8509804 , 0.7764706 , 0.78431374],\n",
              "        [0.85882354, 0.78431374, 0.7921569 ],\n",
              "        [0.9098039 , 0.8352941 , 0.84313726],\n",
              "        ...,\n",
              "        [0.8392157 , 0.7764706 , 0.7921569 ],\n",
              "        [0.8352941 , 0.76862746, 0.7921569 ],\n",
              "        [0.8235294 , 0.7764706 , 0.7882353 ]],\n",
              "\n",
              "       ...,\n",
              "\n",
              "       [[0.78039217, 0.7294118 , 0.79607844],\n",
              "        [0.81960785, 0.77254903, 0.827451  ],\n",
              "        [0.827451  , 0.77254903, 0.85882354],\n",
              "        ...,\n",
              "        [0.6862745 , 0.69411767, 0.76862746],\n",
              "        [0.6627451 , 0.63529414, 0.7058824 ],\n",
              "        [0.7254902 , 0.68235296, 0.76862746]],\n",
              "\n",
              "       [[0.76862746, 0.69411767, 0.7254902 ],\n",
              "        [0.76862746, 0.70980394, 0.7254902 ],\n",
              "        [0.80784315, 0.7529412 , 0.78039217],\n",
              "        ...,\n",
              "        [0.6627451 , 0.64705884, 0.73333335],\n",
              "        [0.5137255 , 0.4862745 , 0.57254905],\n",
              "        [0.56078434, 0.5137255 , 0.6117647 ]],\n",
              "\n",
              "       [[0.7921569 , 0.7137255 , 0.75686276],\n",
              "        [0.8117647 , 0.74509805, 0.77254903],\n",
              "        [0.79607844, 0.74509805, 0.7882353 ],\n",
              "        ...,\n",
              "        [0.5529412 , 0.54509807, 0.627451  ],\n",
              "        [0.6313726 , 0.62352943, 0.7058824 ],\n",
              "        [0.68235296, 0.68235296, 0.7607843 ]]], dtype=float32)>"
            ]
          },
          "metadata": {},
          "execution_count": 101
        }
      ]
    },
    {
      "cell_type": "code",
      "source": [
        "import matplotlib.pyplot as plt\n",
        "%matplotlib inline\n",
        "\n",
        "plt.figure(figsize=(6,3))\n",
        "plt.xticks([])\n",
        "plt.yticks([])\n",
        "plt.imshow(test_images[3030])\n"
      ],
      "metadata": {
        "colab": {
          "base_uri": "https://localhost:8080/",
          "height": 215
        },
        "id": "KJTBuZMH6gnO",
        "outputId": "08618b53-945a-474a-afd4-bc2cb63ffcfd"
      },
      "execution_count": null,
      "outputs": [
        {
          "output_type": "execute_result",
          "data": {
            "text/plain": [
              "<matplotlib.image.AxesImage at 0x7f70c20477d0>"
            ]
          },
          "metadata": {},
          "execution_count": 102
        },
        {
          "output_type": "display_data",
          "data": {
            "text/plain": [
              "<Figure size 432x216 with 1 Axes>"
            ],
            "image/png": "[encoded data removed]"
          },
          "metadata": {}
        }
      ]
    },
    {
      "cell_type": "code",
      "execution_count": null,
      "metadata": {
        "colab": {
          "base_uri": "https://localhost:8080/"
        },
        "id": "rKpQCyfyfakr",
        "outputId": "10f5f22e-ef6b-4ce8-b76c-fb390e299e58"
      },
      "outputs": [
        {
          "output_type": "stream",
          "name": "stdout",
          "text": [
            "{'n01930112': [0, 1, 2, 3, 4, 5, 6, 7, 8, 9, 10, 11, 12, 13, 14, 15, 16, 17, 18, 19, 20, 21, 22, 23, 24, 25, 26, 27, 28, 29, 30, 31, 32, 33, 34, 35, 36, 37, 38, 39, 40, 41, 42, 43, 44, 45, 46, 47, 48, 49, 50, 51, 52, 53, 54, 55, 56, 57, 58, 59, 60, 61, 62, 63, 64, 65, 66, 67, 68, 69, 70, 71, 72, 73, 74, 75, 76, 77, 78, 79, 80, 81, 82, 83, 84, 85, 86, 87, 88, 89, 90, 91, 92, 93, 94, 95, 96, 97, 98, 99, 100, 101, 102, 103, 104, 105, 106, 107, 108, 109, 110, 111, 112, 113, 114, 115, 116, 117, 118, 119, 120, 121, 122, 123, 124, 125, 126, 127, 128, 129, 130, 131, 132, 133, 134, 135, 136, 137, 138, 139, 140, 141, 142, 143, 144, 145, 146, 147, 148, 149, 150, 151, 152, 153, 154, 155, 156, 157, 158, 159, 160, 161, 162, 163, 164, 165, 166, 167, 168, 169, 170, 171, 172, 173, 174, 175, 176, 177, 178, 179, 180, 181, 182, 183, 184, 185, 186, 187, 188, 189, 190, 191, 192, 193, 194, 195, 196, 197, 198, 199, 200, 201, 202, 203, 204, 205, 206, 207, 208, 209, 210, 211, 212, 213, 214, 215, 216, 217, 218, 219, 220, 221, 222, 223, 224, 225, 226, 227, 228, 229, 230, 231, 232, 233, 234, 235, 236, 237, 238, 239, 240, 241, 242, 243, 244, 245, 246, 247, 248, 249, 250, 251, 252, 253, 254, 255, 256, 257, 258, 259, 260, 261, 262, 263, 264, 265, 266, 267, 268, 269, 270, 271, 272, 273, 274, 275, 276, 277, 278, 279, 280, 281, 282, 283, 284, 285, 286, 287, 288, 289, 290, 291, 292, 293, 294, 295, 296, 297, 298, 299, 300, 301, 302, 303, 304, 305, 306, 307, 308, 309, 310, 311, 312, 313, 314, 315, 316, 317, 318, 319, 320, 321, 322, 323, 324, 325, 326, 327, 328, 329, 330, 331, 332, 333, 334, 335, 336, 337, 338, 339, 340, 341, 342, 343, 344, 345, 346, 347, 348, 349, 350, 351, 352, 353, 354, 355, 356, 357, 358, 359, 360, 361, 362, 363, 364, 365, 366, 367, 368, 369, 370, 371, 372, 373, 374, 375, 376, 377, 378, 379, 380, 381, 382, 383, 384, 385, 386, 387, 388, 389, 390, 391, 392, 393, 394, 395, 396, 397, 398, 399, 400, 401, 402, 403, 404, 405, 406, 407, 408, 409, 410, 411, 412, 413, 414, 415, 416, 417, 418, 419, 420, 421, 422, 423, 424, 425, 426, 427, 428, 429, 430, 431, 432, 433, 434, 435, 436, 437, 438, 439, 440, 441, 442, 443, 444, 445, 446, 447, 448, 449, 450, 451, 452, 453, 454, 455, 456, 457, 458, 459, 460, 461, 462, 463, 464, 465, 466, 467, 468, 469, 470, 471, 472, 473, 474, 475, 476, 477, 478, 479, 480, 481, 482, 483, 484, 485, 486, 487, 488, 489, 490, 491, 492, 493, 494, 495, 496, 497, 498, 499, 500, 501, 502, 503, 504, 505, 506, 507, 508, 509, 510, 511, 512, 513, 514, 515, 516, 517, 518, 519, 520, 521, 522, 523, 524, 525, 526, 527, 528, 529, 530, 531, 532, 533, 534, 535, 536, 537, 538, 539, 540, 541, 542, 543, 544, 545, 546, 547, 548, 549, 550, 551, 552, 553, 554, 555, 556, 557, 558, 559, 560, 561, 562, 563, 564, 565, 566, 567, 568, 569, 570, 571, 572, 573, 574, 575, 576, 577, 578, 579, 580, 581, 582, 583, 584, 585, 586, 587, 588, 589, 590, 591, 592, 593, 594, 595, 596, 597, 598, 599], 'n01981276': [600, 601, 602, 603, 604, 605, 606, 607, 608, 609, 610, 611, 612, 613, 614, 615, 616, 617, 618, 619, 620, 621, 622, 623, 624, 625, 626, 627, 628, 629, 630, 631, 632, 633, 634, 635, 636, 637, 638, 639, 640, 641, 642, 643, 644, 645, 646, 647, 648, 649, 650, 651, 652, 653, 654, 655, 656, 657, 658, 659, 660, 661, 662, 663, 664, 665, 666, 667, 668, 669, 670, 671, 672, 673, 674, 675, 676, 677, 678, 679, 680, 681, 682, 683, 684, 685, 686, 687, 688, 689, 690, 691, 692, 693, 694, 695, 696, 697, 698, 699, 700, 701, 702, 703, 704, 705, 706, 707, 708, 709, 710, 711, 712, 713, 714, 715, 716, 717, 718, 719, 720, 721, 722, 723, 724, 725, 726, 727, 728, 729, 730, 731, 732, 733, 734, 735, 736, 737, 738, 739, 740, 741, 742, 743, 744, 745, 746, 747, 748, 749, 750, 751, 752, 753, 754, 755, 756, 757, 758, 759, 760, 761, 762, 763, 764, 765, 766, 767, 768, 769, 770, 771, 772, 773, 774, 775, 776, 777, 778, 779, 780, 781, 782, 783, 784, 785, 786, 787, 788, 789, 790, 791, 792, 793, 794, 795, 796, 797, 798, 799, 800, 801, 802, 803, 804, 805, 806, 807, 808, 809, 810, 811, 812, 813, 814, 815, 816, 817, 818, 819, 820, 821, 822, 823, 824, 825, 826, 827, 828, 829, 830, 831, 832, 833, 834, 835, 836, 837, 838, 839, 840, 841, 842, 843, 844, 845, 846, 847, 848, 849, 850, 851, 852, 853, 854, 855, 856, 857, 858, 859, 860, 861, 862, 863, 864, 865, 866, 867, 868, 869, 870, 871, 872, 873, 874, 875, 876, 877, 878, 879, 880, 881, 882, 883, 884, 885, 886, 887, 888, 889, 890, 891, 892, 893, 894, 895, 896, 897, 898, 899, 900, 901, 902, 903, 904, 905, 906, 907, 908, 909, 910, 911, 912, 913, 914, 915, 916, 917, 918, 919, 920, 921, 922, 923, 924, 925, 926, 927, 928, 929, 930, 931, 932, 933, 934, 935, 936, 937, 938, 939, 940, 941, 942, 943, 944, 945, 946, 947, 948, 949, 950, 951, 952, 953, 954, 955, 956, 957, 958, 959, 960, 961, 962, 963, 964, 965, 966, 967, 968, 969, 970, 971, 972, 973, 974, 975, 976, 977, 978, 979, 980, 981, 982, 983, 984, 985, 986, 987, 988, 989, 990, 991, 992, 993, 994, 995, 996, 997, 998, 999, 1000, 1001, 1002, 1003, 1004, 1005, 1006, 1007, 1008, 1009, 1010, 1011, 1012, 1013, 1014, 1015, 1016, 1017, 1018, 1019, 1020, 1021, 1022, 1023, 1024, 1025, 1026, 1027, 1028, 1029, 1030, 1031, 1032, 1033, 1034, 1035, 1036, 1037, 1038, 1039, 1040, 1041, 1042, 1043, 1044, 1045, 1046, 1047, 1048, 1049, 1050, 1051, 1052, 1053, 1054, 1055, 1056, 1057, 1058, 1059, 1060, 1061, 1062, 1063, 1064, 1065, 1066, 1067, 1068, 1069, 1070, 1071, 1072, 1073, 1074, 1075, 1076, 1077, 1078, 1079, 1080, 1081, 1082, 1083, 1084, 1085, 1086, 1087, 1088, 1089, 1090, 1091, 1092, 1093, 1094, 1095, 1096, 1097, 1098, 1099, 1100, 1101, 1102, 1103, 1104, 1105, 1106, 1107, 1108, 1109, 1110, 1111, 1112, 1113, 1114, 1115, 1116, 1117, 1118, 1119, 1120, 1121, 1122, 1123, 1124, 1125, 1126, 1127, 1128, 1129, 1130, 1131, 1132, 1133, 1134, 1135, 1136, 1137, 1138, 1139, 1140, 1141, 1142, 1143, 1144, 1145, 1146, 1147, 1148, 1149, 1150, 1151, 1152, 1153, 1154, 1155, 1156, 1157, 1158, 1159, 1160, 1161, 1162, 1163, 1164, 1165, 1166, 1167, 1168, 1169, 1170, 1171, 1172, 1173, 1174, 1175, 1176, 1177, 1178, 1179, 1180, 1181, 1182, 1183, 1184, 1185, 1186, 1187, 1188, 1189, 1190, 1191, 1192, 1193, 1194, 1195, 1196, 1197, 1198, 1199], 'n02099601': [1200, 1201, 1202, 1203, 1204, 1205, 1206, 1207, 1208, 1209, 1210, 1211, 1212, 1213, 1214, 1215, 1216, 1217, 1218, 1219, 1220, 1221, 1222, 1223, 1224, 1225, 1226, 1227, 1228, 1229, 1230, 1231, 1232, 1233, 1234, 1235, 1236, 1237, 1238, 1239, 1240, 1241, 1242, 1243, 1244, 1245, 1246, 1247, 1248, 1249, 1250, 1251, 1252, 1253, 1254, 1255, 1256, 1257, 1258, 1259, 1260, 1261, 1262, 1263, 1264, 1265, 1266, 1267, 1268, 1269, 1270, 1271, 1272, 1273, 1274, 1275, 1276, 1277, 1278, 1279, 1280, 1281, 1282, 1283, 1284, 1285, 1286, 1287, 1288, 1289, 1290, 1291, 1292, 1293, 1294, 1295, 1296, 1297, 1298, 1299, 1300, 1301, 1302, 1303, 1304, 1305, 1306, 1307, 1308, 1309, 1310, 1311, 1312, 1313, 1314, 1315, 1316, 1317, 1318, 1319, 1320, 1321, 1322, 1323, 1324, 1325, 1326, 1327, 1328, 1329, 1330, 1331, 1332, 1333, 1334, 1335, 1336, 1337, 1338, 1339, 1340, 1341, 1342, 1343, 1344, 1345, 1346, 1347, 1348, 1349, 1350, 1351, 1352, 1353, 1354, 1355, 1356, 1357, 1358, 1359, 1360, 1361, 1362, 1363, 1364, 1365, 1366, 1367, 1368, 1369, 1370, 1371, 1372, 1373, 1374, 1375, 1376, 1377, 1378, 1379, 1380, 1381, 1382, 1383, 1384, 1385, 1386, 1387, 1388, 1389, 1390, 1391, 1392, 1393, 1394, 1395, 1396, 1397, 1398, 1399, 1400, 1401, 1402, 1403, 1404, 1405, 1406, 1407, 1408, 1409, 1410, 1411, 1412, 1413, 1414, 1415, 1416, 1417, 1418, 1419, 1420, 1421, 1422, 1423, 1424, 1425, 1426, 1427, 1428, 1429, 1430, 1431, 1432, 1433, 1434, 1435, 1436, 1437, 1438, 1439, 1440, 1441, 1442, 1443, 1444, 1445, 1446, 1447, 1448, 1449, 1450, 1451, 1452, 1453, 1454, 1455, 1456, 1457, 1458, 1459, 1460, 1461, 1462, 1463, 1464, 1465, 1466, 1467, 1468, 1469, 1470, 1471, 1472, 1473, 1474, 1475, 1476, 1477, 1478, 1479, 1480, 1481, 1482, 1483, 1484, 1485, 1486, 1487, 1488, 1489, 1490, 1491, 1492, 1493, 1494, 1495, 1496, 1497, 1498, 1499, 1500, 1501, 1502, 1503, 1504, 1505, 1506, 1507, 1508, 1509, 1510, 1511, 1512, 1513, 1514, 1515, 1516, 1517, 1518, 1519, 1520, 1521, 1522, 1523, 1524, 1525, 1526, 1527, 1528, 1529, 1530, 1531, 1532, 1533, 1534, 1535, 1536, 1537, 1538, 1539, 1540, 1541, 1542, 1543, 1544, 1545, 1546, 1547, 1548, 1549, 1550, 1551, 1552, 1553, 1554, 1555, 1556, 1557, 1558, 1559, 1560, 1561, 1562, 1563, 1564, 1565, 1566, 1567, 1568, 1569, 1570, 1571, 1572, 1573, 1574, 1575, 1576, 1577, 1578, 1579, 1580, 1581, 1582, 1583, 1584, 1585, 1586, 1587, 1588, 1589, 1590, 1591, 1592, 1593, 1594, 1595, 1596, 1597, 1598, 1599, 1600, 1601, 1602, 1603, 1604, 1605, 1606, 1607, 1608, 1609, 1610, 1611, 1612, 1613, 1614, 1615, 1616, 1617, 1618, 1619, 1620, 1621, 1622, 1623, 1624, 1625, 1626, 1627, 1628, 1629, 1630, 1631, 1632, 1633, 1634, 1635, 1636, 1637, 1638, 1639, 1640, 1641, 1642, 1643, 1644, 1645, 1646, 1647, 1648, 1649, 1650, 1651, 1652, 1653, 1654, 1655, 1656, 1657, 1658, 1659, 1660, 1661, 1662, 1663, 1664, 1665, 1666, 1667, 1668, 1669, 1670, 1671, 1672, 1673, 1674, 1675, 1676, 1677, 1678, 1679, 1680, 1681, 1682, 1683, 1684, 1685, 1686, 1687, 1688, 1689, 1690, 1691, 1692, 1693, 1694, 1695, 1696, 1697, 1698, 1699, 1700, 1701, 1702, 1703, 1704, 1705, 1706, 1707, 1708, 1709, 1710, 1711, 1712, 1713, 1714, 1715, 1716, 1717, 1718, 1719, 1720, 1721, 1722, 1723, 1724, 1725, 1726, 1727, 1728, 1729, 1730, 1731, 1732, 1733, 1734, 1735, 1736, 1737, 1738, 1739, 1740, 1741, 1742, 1743, 1744, 1745, 1746, 1747, 1748, 1749, 1750, 1751, 1752, 1753, 1754, 1755, 1756, 1757, 1758, 1759, 1760, 1761, 1762, 1763, 1764, 1765, 1766, 1767, 1768, 1769, 1770, 1771, 1772, 1773, 1774, 1775, 1776, 1777, 1778, 1779, 1780, 1781, 1782, 1783, 1784, 1785, 1786, 1787, 1788, 1789, 1790, 1791, 1792, 1793, 1794, 1795, 1796, 1797, 1798, 1799], 'n02110063': [1800, 1801, 1802, 1803, 1804, 1805, 1806, 1807, 1808, 1809, 1810, 1811, 1812, 1813, 1814, 1815, 1816, 1817, 1818, 1819, 1820, 1821, 1822, 1823, 1824, 1825, 1826, 1827, 1828, 1829, 1830, 1831, 1832, 1833, 1834, 1835, 1836, 1837, 1838, 1839, 1840, 1841, 1842, 1843, 1844, 1845, 1846, 1847, 1848, 1849, 1850, 1851, 1852, 1853, 1854, 1855, 1856, 1857, 1858, 1859, 1860, 1861, 1862, 1863, 1864, 1865, 1866, 1867, 1868, 1869, 1870, 1871, 1872, 1873, 1874, 1875, 1876, 1877, 1878, 1879, 1880, 1881, 1882, 1883, 1884, 1885, 1886, 1887, 1888, 1889, 1890, 1891, 1892, 1893, 1894, 1895, 1896, 1897, 1898, 1899, 1900, 1901, 1902, 1903, 1904, 1905, 1906, 1907, 1908, 1909, 1910, 1911, 1912, 1913, 1914, 1915, 1916, 1917, 1918, 1919, 1920, 1921, 1922, 1923, 1924, 1925, 1926, 1927, 1928, 1929, 1930, 1931, 1932, 1933, 1934, 1935, 1936, 1937, 1938, 1939, 1940, 1941, 1942, 1943, 1944, 1945, 1946, 1947, 1948, 1949, 1950, 1951, 1952, 1953, 1954, 1955, 1956, 1957, 1958, 1959, 1960, 1961, 1962, 1963, 1964, 1965, 1966, 1967, 1968, 1969, 1970, 1971, 1972, 1973, 1974, 1975, 1976, 1977, 1978, 1979, 1980, 1981, 1982, 1983, 1984, 1985, 1986, 1987, 1988, 1989, 1990, 1991, 1992, 1993, 1994, 1995, 1996, 1997, 1998, 1999, 2000, 2001, 2002, 2003, 2004, 2005, 2006, 2007, 2008, 2009, 2010, 2011, 2012, 2013, 2014, 2015, 2016, 2017, 2018, 2019, 2020, 2021, 2022, 2023, 2024, 2025, 2026, 2027, 2028, 2029, 2030, 2031, 2032, 2033, 2034, 2035, 2036, 2037, 2038, 2039, 2040, 2041, 2042, 2043, 2044, 2045, 2046, 2047, 2048, 2049, 2050, 2051, 2052, 2053, 2054, 2055, 2056, 2057, 2058, 2059, 2060, 2061, 2062, 2063, 2064, 2065, 2066, 2067, 2068, 2069, 2070, 2071, 2072, 2073, 2074, 2075, 2076, 2077, 2078, 2079, 2080, 2081, 2082, 2083, 2084, 2085, 2086, 2087, 2088, 2089, 2090, 2091, 2092, 2093, 2094, 2095, 2096, 2097, 2098, 2099, 2100, 2101, 2102, 2103, 2104, 2105, 2106, 2107, 2108, 2109, 2110, 2111, 2112, 2113, 2114, 2115, 2116, 2117, 2118, 2119, 2120, 2121, 2122, 2123, 2124, 2125, 2126, 2127, 2128, 2129, 2130, 2131, 2132, 2133, 2134, 2135, 2136, 2137, 2138, 2139, 2140, 2141, 2142, 2143, 2144, 2145, 2146, 2147, 2148, 2149, 2150, 2151, 2152, 2153, 2154, 2155, 2156, 2157, 2158, 2159, 2160, 2161, 2162, 2163, 2164, 2165, 2166, 2167, 2168, 2169, 2170, 2171, 2172, 2173, 2174, 2175, 2176, 2177, 2178, 2179, 2180, 2181, 2182, 2183, 2184, 2185, 2186, 2187, 2188, 2189, 2190, 2191, 2192, 2193, 2194, 2195, 2196, 2197, 2198, 2199, 2200, 2201, 2202, 2203, 2204, 2205, 2206, 2207, 2208, 2209, 2210, 2211, 2212, 2213, 2214, 2215, 2216, 2217, 2218, 2219, 2220, 2221, 2222, 2223, 2224, 2225, 2226, 2227, 2228, 2229, 2230, 2231, 2232, 2233, 2234, 2235, 2236, 2237, 2238, 2239, 2240, 2241, 2242, 2243, 2244, 2245, 2246, 2247, 2248, 2249, 2250, 2251, 2252, 2253, 2254, 2255, 2256, 2257, 2258, 2259, 2260, 2261, 2262, 2263, 2264, 2265, 2266, 2267, 2268, 2269, 2270, 2271, 2272, 2273, 2274, 2275, 2276, 2277, 2278, 2279, 2280, 2281, 2282, 2283, 2284, 2285, 2286, 2287, 2288, 2289, 2290, 2291, 2292, 2293, 2294, 2295, 2296, 2297, 2298, 2299, 2300, 2301, 2302, 2303, 2304, 2305, 2306, 2307, 2308, 2309, 2310, 2311, 2312, 2313, 2314, 2315, 2316, 2317, 2318, 2319, 2320, 2321, 2322, 2323, 2324, 2325, 2326, 2327, 2328, 2329, 2330, 2331, 2332, 2333, 2334, 2335, 2336, 2337, 2338, 2339, 2340, 2341, 2342, 2343, 2344, 2345, 2346, 2347, 2348, 2349, 2350, 2351, 2352, 2353, 2354, 2355, 2356, 2357, 2358, 2359, 2360, 2361, 2362, 2363, 2364, 2365, 2366, 2367, 2368, 2369, 2370, 2371, 2372, 2373, 2374, 2375, 2376, 2377, 2378, 2379, 2380, 2381, 2382, 2383, 2384, 2385, 2386, 2387, 2388, 2389, 2390, 2391, 2392, 2393, 2394, 2395, 2396, 2397, 2398, 2399], 'n02110341': [2400, 2401, 2402, 2403, 2404, 2405, 2406, 2407, 2408, 2409, 2410, 2411, 2412, 2413, 2414, 2415, 2416, 2417, 2418, 2419, 2420, 2421, 2422, 2423, 2424, 2425, 2426, 2427, 2428, 2429, 2430, 2431, 2432, 2433, 2434, 2435, 2436, 2437, 2438, 2439, 2440, 2441, 2442, 2443, 2444, 2445, 2446, 2447, 2448, 2449, 2450, 2451, 2452, 2453, 2454, 2455, 2456, 2457, 2458, 2459, 2460, 2461, 2462, 2463, 2464, 2465, 2466, 2467, 2468, 2469, 2470, 2471, 2472, 2473, 2474, 2475, 2476, 2477, 2478, 2479, 2480, 2481, 2482, 2483, 2484, 2485, 2486, 2487, 2488, 2489, 2490, 2491, 2492, 2493, 2494, 2495, 2496, 2497, 2498, 2499, 2500, 2501, 2502, 2503, 2504, 2505, 2506, 2507, 2508, 2509, 2510, 2511, 2512, 2513, 2514, 2515, 2516, 2517, 2518, 2519, 2520, 2521, 2522, 2523, 2524, 2525, 2526, 2527, 2528, 2529, 2530, 2531, 2532, 2533, 2534, 2535, 2536, 2537, 2538, 2539, 2540, 2541, 2542, 2543, 2544, 2545, 2546, 2547, 2548, 2549, 2550, 2551, 2552, 2553, 2554, 2555, 2556, 2557, 2558, 2559, 2560, 2561, 2562, 2563, 2564, 2565, 2566, 2567, 2568, 2569, 2570, 2571, 2572, 2573, 2574, 2575, 2576, 2577, 2578, 2579, 2580, 2581, 2582, 2583, 2584, 2585, 2586, 2587, 2588, 2589, 2590, 2591, 2592, 2593, 2594, 2595, 2596, 2597, 2598, 2599, 2600, 2601, 2602, 2603, 2604, 2605, 2606, 2607, 2608, 2609, 2610, 2611, 2612, 2613, 2614, 2615, 2616, 2617, 2618, 2619, 2620, 2621, 2622, 2623, 2624, 2625, 2626, 2627, 2628, 2629, 2630, 2631, 2632, 2633, 2634, 2635, 2636, 2637, 2638, 2639, 2640, 2641, 2642, 2643, 2644, 2645, 2646, 2647, 2648, 2649, 2650, 2651, 2652, 2653, 2654, 2655, 2656, 2657, 2658, 2659, 2660, 2661, 2662, 2663, 2664, 2665, 2666, 2667, 2668, 2669, 2670, 2671, 2672, 2673, 2674, 2675, 2676, 2677, 2678, 2679, 2680, 2681, 2682, 2683, 2684, 2685, 2686, 2687, 2688, 2689, 2690, 2691, 2692, 2693, 2694, 2695, 2696, 2697, 2698, 2699, 2700, 2701, 2702, 2703, 2704, 2705, 2706, 2707, 2708, 2709, 2710, 2711, 2712, 2713, 2714, 2715, 2716, 2717, 2718, 2719, 2720, 2721, 2722, 2723, 2724, 2725, 2726, 2727, 2728, 2729, 2730, 2731, 2732, 2733, 2734, 2735, 2736, 2737, 2738, 2739, 2740, 2741, 2742, 2743, 2744, 2745, 2746, 2747, 2748, 2749, 2750, 2751, 2752, 2753, 2754, 2755, 2756, 2757, 2758, 2759, 2760, 2761, 2762, 2763, 2764, 2765, 2766, 2767, 2768, 2769, 2770, 2771, 2772, 2773, 2774, 2775, 2776, 2777, 2778, 2779, 2780, 2781, 2782, 2783, 2784, 2785, 2786, 2787, 2788, 2789, 2790, 2791, 2792, 2793, 2794, 2795, 2796, 2797, 2798, 2799, 2800, 2801, 2802, 2803, 2804, 2805, 2806, 2807, 2808, 2809, 2810, 2811, 2812, 2813, 2814, 2815, 2816, 2817, 2818, 2819, 2820, 2821, 2822, 2823, 2824, 2825, 2826, 2827, 2828, 2829, 2830, 2831, 2832, 2833, 2834, 2835, 2836, 2837, 2838, 2839, 2840, 2841, 2842, 2843, 2844, 2845, 2846, 2847, 2848, 2849, 2850, 2851, 2852, 2853, 2854, 2855, 2856, 2857, 2858, 2859, 2860, 2861, 2862, 2863, 2864, 2865, 2866, 2867, 2868, 2869, 2870, 2871, 2872, 2873, 2874, 2875, 2876, 2877, 2878, 2879, 2880, 2881, 2882, 2883, 2884, 2885, 2886, 2887, 2888, 2889, 2890, 2891, 2892, 2893, 2894, 2895, 2896, 2897, 2898, 2899, 2900, 2901, 2902, 2903, 2904, 2905, 2906, 2907, 2908, 2909, 2910, 2911, 2912, 2913, 2914, 2915, 2916, 2917, 2918, 2919, 2920, 2921, 2922, 2923, 2924, 2925, 2926, 2927, 2928, 2929, 2930, 2931, 2932, 2933, 2934, 2935, 2936, 2937, 2938, 2939, 2940, 2941, 2942, 2943, 2944, 2945, 2946, 2947, 2948, 2949, 2950, 2951, 2952, 2953, 2954, 2955, 2956, 2957, 2958, 2959, 2960, 2961, 2962, 2963, 2964, 2965, 2966, 2967, 2968, 2969, 2970, 2971, 2972, 2973, 2974, 2975, 2976, 2977, 2978, 2979, 2980, 2981, 2982, 2983, 2984, 2985, 2986, 2987, 2988, 2989, 2990, 2991, 2992, 2993, 2994, 2995, 2996, 2997, 2998, 2999], 'n02116738': [3000, 3001, 3002, 3003, 3004, 3005, 3006, 3007, 3008, 3009, 3010, 3011, 3012, 3013, 3014, 3015, 3016, 3017, 3018, 3019, 3020, 3021, 3022, 3023, 3024, 3025, 3026, 3027, 3028, 3029, 3030, 3031, 3032, 3033, 3034, 3035, 3036, 3037, 3038, 3039, 3040, 3041, 3042, 3043, 3044, 3045, 3046, 3047, 3048, 3049, 3050, 3051, 3052, 3053, 3054, 3055, 3056, 3057, 3058, 3059, 3060, 3061, 3062, 3063, 3064, 3065, 3066, 3067, 3068, 3069, 3070, 3071, 3072, 3073, 3074, 3075, 3076, 3077, 3078, 3079, 3080, 3081, 3082, 3083, 3084, 3085, 3086, 3087, 3088, 3089, 3090, 3091, 3092, 3093, 3094, 3095, 3096, 3097, 3098, 3099, 3100, 3101, 3102, 3103, 3104, 3105, 3106, 3107, 3108, 3109, 3110, 3111, 3112, 3113, 3114, 3115, 3116, 3117, 3118, 3119, 3120, 3121, 3122, 3123, 3124, 3125, 3126, 3127, 3128, 3129, 3130, 3131, 3132, 3133, 3134, 3135, 3136, 3137, 3138, 3139, 3140, 3141, 3142, 3143, 3144, 3145, 3146, 3147, 3148, 3149, 3150, 3151, 3152, 3153, 3154, 3155, 3156, 3157, 3158, 3159, 3160, 3161, 3162, 3163, 3164, 3165, 3166, 3167, 3168, 3169, 3170, 3171, 3172, 3173, 3174, 3175, 3176, 3177, 3178, 3179, 3180, 3181, 3182, 3183, 3184, 3185, 3186, 3187, 3188, 3189, 3190, 3191, 3192, 3193, 3194, 3195, 3196, 3197, 3198, 3199, 3200, 3201, 3202, 3203, 3204, 3205, 3206, 3207, 3208, 3209, 3210, 3211, 3212, 3213, 3214, 3215, 3216, 3217, 3218, 3219, 3220, 3221, 3222, 3223, 3224, 3225, 3226, 3227, 3228, 3229, 3230, 3231, 3232, 3233, 3234, 3235, 3236, 3237, 3238, 3239, 3240, 3241, 3242, 3243, 3244, 3245, 3246, 3247, 3248, 3249, 3250, 3251, 3252, 3253, 3254, 3255, 3256, 3257, 3258, 3259, 3260, 3261, 3262, 3263, 3264, 3265, 3266, 3267, 3268, 3269, 3270, 3271, 3272, 3273, 3274, 3275, 3276, 3277, 3278, 3279, 3280, 3281, 3282, 3283, 3284, 3285, 3286, 3287, 3288, 3289, 3290, 3291, 3292, 3293, 3294, 3295, 3296, 3297, 3298, 3299, 3300, 3301, 3302, 3303, 3304, 3305, 3306, 3307, 3308, 3309, 3310, 3311, 3312, 3313, 3314, 3315, 3316, 3317, 3318, 3319, 3320, 3321, 3322, 3323, 3324, 3325, 3326, 3327, 3328, 3329, 3330, 3331, 3332, 3333, 3334, 3335, 3336, 3337, 3338, 3339, 3340, 3341, 3342, 3343, 3344, 3345, 3346, 3347, 3348, 3349, 3350, 3351, 3352, 3353, 3354, 3355, 3356, 3357, 3358, 3359, 3360, 3361, 3362, 3363, 3364, 3365, 3366, 3367, 3368, 3369, 3370, 3371, 3372, 3373, 3374, 3375, 3376, 3377, 3378, 3379, 3380, 3381, 3382, 3383, 3384, 3385, 3386, 3387, 3388, 3389, 3390, 3391, 3392, 3393, 3394, 3395, 3396, 3397, 3398, 3399, 3400, 3401, 3402, 3403, 3404, 3405, 3406, 3407, 3408, 3409, 3410, 3411, 3412, 3413, 3414, 3415, 3416, 3417, 3418, 3419, 3420, 3421, 3422, 3423, 3424, 3425, 3426, 3427, 3428, 3429, 3430, 3431, 3432, 3433, 3434, 3435, 3436, 3437, 3438, 3439, 3440, 3441, 3442, 3443, 3444, 3445, 3446, 3447, 3448, 3449, 3450, 3451, 3452, 3453, 3454, 3455, 3456, 3457, 3458, 3459, 3460, 3461, 3462, 3463, 3464, 3465, 3466, 3467, 3468, 3469, 3470, 3471, 3472, 3473, 3474, 3475, 3476, 3477, 3478, 3479, 3480, 3481, 3482, 3483, 3484, 3485, 3486, 3487, 3488, 3489, 3490, 3491, 3492, 3493, 3494, 3495, 3496, 3497, 3498, 3499, 3500, 3501, 3502, 3503, 3504, 3505, 3506, 3507, 3508, 3509, 3510, 3511, 3512, 3513, 3514, 3515, 3516, 3517, 3518, 3519, 3520, 3521, 3522, 3523, 3524, 3525, 3526, 3527, 3528, 3529, 3530, 3531, 3532, 3533, 3534, 3535, 3536, 3537, 3538, 3539, 3540, 3541, 3542, 3543, 3544, 3545, 3546, 3547, 3548, 3549, 3550, 3551, 3552, 3553, 3554, 3555, 3556, 3557, 3558, 3559, 3560, 3561, 3562, 3563, 3564, 3565, 3566, 3567, 3568, 3569, 3570, 3571, 3572, 3573, 3574, 3575, 3576, 3577, 3578, 3579, 3580, 3581, 3582, 3583, 3584, 3585, 3586, 3587, 3588, 3589, 3590, 3591, 3592, 3593, 3594, 3595, 3596, 3597, 3598, 3599], 'n02129165': [3600, 3601, 3602, 3603, 3604, 3605, 3606, 3607, 3608, 3609, 3610, 3611, 3612, 3613, 3614, 3615, 3616, 3617, 3618, 3619, 3620, 3621, 3622, 3623, 3624, 3625, 3626, 3627, 3628, 3629, 3630, 3631, 3632, 3633, 3634, 3635, 3636, 3637, 3638, 3639, 3640, 3641, 3642, 3643, 3644, 3645, 3646, 3647, 3648, 3649, 3650, 3651, 3652, 3653, 3654, 3655, 3656, 3657, 3658, 3659, 3660, 3661, 3662, 3663, 3664, 3665, 3666, 3667, 3668, 3669, 3670, 3671, 3672, 3673, 3674, 3675, 3676, 3677, 3678, 3679, 3680, 3681, 3682, 3683, 3684, 3685, 3686, 3687, 3688, 3689, 3690, 3691, 3692, 3693, 3694, 3695, 3696, 3697, 3698, 3699, 3700, 3701, 3702, 3703, 3704, 3705, 3706, 3707, 3708, 3709, 3710, 3711, 3712, 3713, 3714, 3715, 3716, 3717, 3718, 3719, 3720, 3721, 3722, 3723, 3724, 3725, 3726, 3727, 3728, 3729, 3730, 3731, 3732, 3733, 3734, 3735, 3736, 3737, 3738, 3739, 3740, 3741, 3742, 3743, 3744, 3745, 3746, 3747, 3748, 3749, 3750, 3751, 3752, 3753, 3754, 3755, 3756, 3757, 3758, 3759, 3760, 3761, 3762, 3763, 3764, 3765, 3766, 3767, 3768, 3769, 3770, 3771, 3772, 3773, 3774, 3775, 3776, 3777, 3778, 3779, 3780, 3781, 3782, 3783, 3784, 3785, 3786, 3787, 3788, 3789, 3790, 3791, 3792, 3793, 3794, 3795, 3796, 3797, 3798, 3799, 3800, 3801, 3802, 3803, 3804, 3805, 3806, 3807, 3808, 3809, 3810, 3811, 3812, 3813, 3814, 3815, 3816, 3817, 3818, 3819, 3820, 3821, 3822, 3823, 3824, 3825, 3826, 3827, 3828, 3829, 3830, 3831, 3832, 3833, 3834, 3835, 3836, 3837, 3838, 3839, 3840, 3841, 3842, 3843, 3844, 3845, 3846, 3847, 3848, 3849, 3850, 3851, 3852, 3853, 3854, 3855, 3856, 3857, 3858, 3859, 3860, 3861, 3862, 3863, 3864, 3865, 3866, 3867, 3868, 3869, 3870, 3871, 3872, 3873, 3874, 3875, 3876, 3877, 3878, 3879, 3880, 3881, 3882, 3883, 3884, 3885, 3886, 3887, 3888, 3889, 3890, 3891, 3892, 3893, 3894, 3895, 3896, 3897, 3898, 3899, 3900, 3901, 3902, 3903, 3904, 3905, 3906, 3907, 3908, 3909, 3910, 3911, 3912, 3913, 3914, 3915, 3916, 3917, 3918, 3919, 3920, 3921, 3922, 3923, 3924, 3925, 3926, 3927, 3928, 3929, 3930, 3931, 3932, 3933, 3934, 3935, 3936, 3937, 3938, 3939, 3940, 3941, 3942, 3943, 3944, 3945, 3946, 3947, 3948, 3949, 3950, 3951, 3952, 3953, 3954, 3955, 3956, 3957, 3958, 3959, 3960, 3961, 3962, 3963, 3964, 3965, 3966, 3967, 3968, 3969, 3970, 3971, 3972, 3973, 3974, 3975, 3976, 3977, 3978, 3979, 3980, 3981, 3982, 3983, 3984, 3985, 3986, 3987, 3988, 3989, 3990, 3991, 3992, 3993, 3994, 3995, 3996, 3997, 3998, 3999, 4000, 4001, 4002, 4003, 4004, 4005, 4006, 4007, 4008, 4009, 4010, 4011, 4012, 4013, 4014, 4015, 4016, 4017, 4018, 4019, 4020, 4021, 4022, 4023, 4024, 4025, 4026, 4027, 4028, 4029, 4030, 4031, 4032, 4033, 4034, 4035, 4036, 4037, 4038, 4039, 4040, 4041, 4042, 4043, 4044, 4045, 4046, 4047, 4048, 4049, 4050, 4051, 4052, 4053, 4054, 4055, 4056, 4057, 4058, 4059, 4060, 4061, 4062, 4063, 4064, 4065, 4066, 4067, 4068, 4069, 4070, 4071, 4072, 4073, 4074, 4075, 4076, 4077, 4078, 4079, 4080, 4081, 4082, 4083, 4084, 4085, 4086, 4087, 4088, 4089, 4090, 4091, 4092, 4093, 4094, 4095, 4096, 4097, 4098, 4099, 4100, 4101, 4102, 4103, 4104, 4105, 4106, 4107, 4108, 4109, 4110, 4111, 4112, 4113, 4114, 4115, 4116, 4117, 4118, 4119, 4120, 4121, 4122, 4123, 4124, 4125, 4126, 4127, 4128, 4129, 4130, 4131, 4132, 4133, 4134, 4135, 4136, 4137, 4138, 4139, 4140, 4141, 4142, 4143, 4144, 4145, 4146, 4147, 4148, 4149, 4150, 4151, 4152, 4153, 4154, 4155, 4156, 4157, 4158, 4159, 4160, 4161, 4162, 4163, 4164, 4165, 4166, 4167, 4168, 4169, 4170, 4171, 4172, 4173, 4174, 4175, 4176, 4177, 4178, 4179, 4180, 4181, 4182, 4183, 4184, 4185, 4186, 4187, 4188, 4189, 4190, 4191, 4192, 4193, 4194, 4195, 4196, 4197, 4198, 4199], 'n02219486': [4200, 4201, 4202, 4203, 4204, 4205, 4206, 4207, 4208, 4209, 4210, 4211, 4212, 4213, 4214, 4215, 4216, 4217, 4218, 4219, 4220, 4221, 4222, 4223, 4224, 4225, 4226, 4227, 4228, 4229, 4230, 4231, 4232, 4233, 4234, 4235, 4236, 4237, 4238, 4239, 4240, 4241, 4242, 4243, 4244, 4245, 4246, 4247, 4248, 4249, 4250, 4251, 4252, 4253, 4254, 4255, 4256, 4257, 4258, 4259, 4260, 4261, 4262, 4263, 4264, 4265, 4266, 4267, 4268, 4269, 4270, 4271, 4272, 4273, 4274, 4275, 4276, 4277, 4278, 4279, 4280, 4281, 4282, 4283, 4284, 4285, 4286, 4287, 4288, 4289, 4290, 4291, 4292, 4293, 4294, 4295, 4296, 4297, 4298, 4299, 4300, 4301, 4302, 4303, 4304, 4305, 4306, 4307, 4308, 4309, 4310, 4311, 4312, 4313, 4314, 4315, 4316, 4317, 4318, 4319, 4320, 4321, 4322, 4323, 4324, 4325, 4326, 4327, 4328, 4329, 4330, 4331, 4332, 4333, 4334, 4335, 4336, 4337, 4338, 4339, 4340, 4341, 4342, 4343, 4344, 4345, 4346, 4347, 4348, 4349, 4350, 4351, 4352, 4353, 4354, 4355, 4356, 4357, 4358, 4359, 4360, 4361, 4362, 4363, 4364, 4365, 4366, 4367, 4368, 4369, 4370, 4371, 4372, 4373, 4374, 4375, 4376, 4377, 4378, 4379, 4380, 4381, 4382, 4383, 4384, 4385, 4386, 4387, 4388, 4389, 4390, 4391, 4392, 4393, 4394, 4395, 4396, 4397, 4398, 4399, 4400, 4401, 4402, 4403, 4404, 4405, 4406, 4407, 4408, 4409, 4410, 4411, 4412, 4413, 4414, 4415, 4416, 4417, 4418, 4419, 4420, 4421, 4422, 4423, 4424, 4425, 4426, 4427, 4428, 4429, 4430, 4431, 4432, 4433, 4434, 4435, 4436, 4437, 4438, 4439, 4440, 4441, 4442, 4443, 4444, 4445, 4446, 4447, 4448, 4449, 4450, 4451, 4452, 4453, 4454, 4455, 4456, 4457, 4458, 4459, 4460, 4461, 4462, 4463, 4464, 4465, 4466, 4467, 4468, 4469, 4470, 4471, 4472, 4473, 4474, 4475, 4476, 4477, 4478, 4479, 4480, 4481, 4482, 4483, 4484, 4485, 4486, 4487, 4488, 4489, 4490, 4491, 4492, 4493, 4494, 4495, 4496, 4497, 4498, 4499, 4500, 4501, 4502, 4503, 4504, 4505, 4506, 4507, 4508, 4509, 4510, 4511, 4512, 4513, 4514, 4515, 4516, 4517, 4518, 4519, 4520, 4521, 4522, 4523, 4524, 4525, 4526, 4527, 4528, 4529, 4530, 4531, 4532, 4533, 4534, 4535, 4536, 4537, 4538, 4539, 4540, 4541, 4542, 4543, 4544, 4545, 4546, 4547, 4548, 4549, 4550, 4551, 4552, 4553, 4554, 4555, 4556, 4557, 4558, 4559, 4560, 4561, 4562, 4563, 4564, 4565, 4566, 4567, 4568, 4569, 4570, 4571, 4572, 4573, 4574, 4575, 4576, 4577, 4578, 4579, 4580, 4581, 4582, 4583, 4584, 4585, 4586, 4587, 4588, 4589, 4590, 4591, 4592, 4593, 4594, 4595, 4596, 4597, 4598, 4599, 4600, 4601, 4602, 4603, 4604, 4605, 4606, 4607, 4608, 4609, 4610, 4611, 4612, 4613, 4614, 4615, 4616, 4617, 4618, 4619, 4620, 4621, 4622, 4623, 4624, 4625, 4626, 4627, 4628, 4629, 4630, 4631, 4632, 4633, 4634, 4635, 4636, 4637, 4638, 4639, 4640, 4641, 4642, 4643, 4644, 4645, 4646, 4647, 4648, 4649, 4650, 4651, 4652, 4653, 4654, 4655, 4656, 4657, 4658, 4659, 4660, 4661, 4662, 4663, 4664, 4665, 4666, 4667, 4668, 4669, 4670, 4671, 4672, 4673, 4674, 4675, 4676, 4677, 4678, 4679, 4680, 4681, 4682, 4683, 4684, 4685, 4686, 4687, 4688, 4689, 4690, 4691, 4692, 4693, 4694, 4695, 4696, 4697, 4698, 4699, 4700, 4701, 4702, 4703, 4704, 4705, 4706, 4707, 4708, 4709, 4710, 4711, 4712, 4713, 4714, 4715, 4716, 4717, 4718, 4719, 4720, 4721, 4722, 4723, 4724, 4725, 4726, 4727, 4728, 4729, 4730, 4731, 4732, 4733, 4734, 4735, 4736, 4737, 4738, 4739, 4740, 4741, 4742, 4743, 4744, 4745, 4746, 4747, 4748, 4749, 4750, 4751, 4752, 4753, 4754, 4755, 4756, 4757, 4758, 4759, 4760, 4761, 4762, 4763, 4764, 4765, 4766, 4767, 4768, 4769, 4770, 4771, 4772, 4773, 4774, 4775, 4776, 4777, 4778, 4779, 4780, 4781, 4782, 4783, 4784, 4785, 4786, 4787, 4788, 4789, 4790, 4791, 4792, 4793, 4794, 4795, 4796, 4797, 4798, 4799], 'n02443484': [4800, 4801, 4802, 4803, 4804, 4805, 4806, 4807, 4808, 4809, 4810, 4811, 4812, 4813, 4814, 4815, 4816, 4817, 4818, 4819, 4820, 4821, 4822, 4823, 4824, 4825, 4826, 4827, 4828, 4829, 4830, 4831, 4832, 4833, 4834, 4835, 4836, 4837, 4838, 4839, 4840, 4841, 4842, 4843, 4844, 4845, 4846, 4847, 4848, 4849, 4850, 4851, 4852, 4853, 4854, 4855, 4856, 4857, 4858, 4859, 4860, 4861, 4862, 4863, 4864, 4865, 4866, 4867, 4868, 4869, 4870, 4871, 4872, 4873, 4874, 4875, 4876, 4877, 4878, 4879, 4880, 4881, 4882, 4883, 4884, 4885, 4886, 4887, 4888, 4889, 4890, 4891, 4892, 4893, 4894, 4895, 4896, 4897, 4898, 4899, 4900, 4901, 4902, 4903, 4904, 4905, 4906, 4907, 4908, 4909, 4910, 4911, 4912, 4913, 4914, 4915, 4916, 4917, 4918, 4919, 4920, 4921, 4922, 4923, 4924, 4925, 4926, 4927, 4928, 4929, 4930, 4931, 4932, 4933, 4934, 4935, 4936, 4937, 4938, 4939, 4940, 4941, 4942, 4943, 4944, 4945, 4946, 4947, 4948, 4949, 4950, 4951, 4952, 4953, 4954, 4955, 4956, 4957, 4958, 4959, 4960, 4961, 4962, 4963, 4964, 4965, 4966, 4967, 4968, 4969, 4970, 4971, 4972, 4973, 4974, 4975, 4976, 4977, 4978, 4979, 4980, 4981, 4982, 4983, 4984, 4985, 4986, 4987, 4988, 4989, 4990, 4991, 4992, 4993, 4994, 4995, 4996, 4997, 4998, 4999, 5000, 5001, 5002, 5003, 5004, 5005, 5006, 5007, 5008, 5009, 5010, 5011, 5012, 5013, 5014, 5015, 5016, 5017, 5018, 5019, 5020, 5021, 5022, 5023, 5024, 5025, 5026, 5027, 5028, 5029, 5030, 5031, 5032, 5033, 5034, 5035, 5036, 5037, 5038, 5039, 5040, 5041, 5042, 5043, 5044, 5045, 5046, 5047, 5048, 5049, 5050, 5051, 5052, 5053, 5054, 5055, 5056, 5057, 5058, 5059, 5060, 5061, 5062, 5063, 5064, 5065, 5066, 5067, 5068, 5069, 5070, 5071, 5072, 5073, 5074, 5075, 5076, 5077, 5078, 5079, 5080, 5081, 5082, 5083, 5084, 5085, 5086, 5087, 5088, 5089, 5090, 5091, 5092, 5093, 5094, 5095, 5096, 5097, 5098, 5099, 5100, 5101, 5102, 5103, 5104, 5105, 5106, 5107, 5108, 5109, 5110, 5111, 5112, 5113, 5114, 5115, 5116, 5117, 5118, 5119, 5120, 5121, 5122, 5123, 5124, 5125, 5126, 5127, 5128, 5129, 5130, 5131, 5132, 5133, 5134, 5135, 5136, 5137, 5138, 5139, 5140, 5141, 5142, 5143, 5144, 5145, 5146, 5147, 5148, 5149, 5150, 5151, 5152, 5153, 5154, 5155, 5156, 5157, 5158, 5159, 5160, 5161, 5162, 5163, 5164, 5165, 5166, 5167, 5168, 5169, 5170, 5171, 5172, 5173, 5174, 5175, 5176, 5177, 5178, 5179, 5180, 5181, 5182, 5183, 5184, 5185, 5186, 5187, 5188, 5189, 5190, 5191, 5192, 5193, 5194, 5195, 5196, 5197, 5198, 5199, 5200, 5201, 5202, 5203, 5204, 5205, 5206, 5207, 5208, 5209, 5210, 5211, 5212, 5213, 5214, 5215, 5216, 5217, 5218, 5219, 5220, 5221, 5222, 5223, 5224, 5225, 5226, 5227, 5228, 5229, 5230, 5231, 5232, 5233, 5234, 5235, 5236, 5237, 5238, 5239, 5240, 5241, 5242, 5243, 5244, 5245, 5246, 5247, 5248, 5249, 5250, 5251, 5252, 5253, 5254, 5255, 5256, 5257, 5258, 5259, 5260, 5261, 5262, 5263, 5264, 5265, 5266, 5267, 5268, 5269, 5270, 5271, 5272, 5273, 5274, 5275, 5276, 5277, 5278, 5279, 5280, 5281, 5282, 5283, 5284, 5285, 5286, 5287, 5288, 5289, 5290, 5291, 5292, 5293, 5294, 5295, 5296, 5297, 5298, 5299, 5300, 5301, 5302, 5303, 5304, 5305, 5306, 5307, 5308, 5309, 5310, 5311, 5312, 5313, 5314, 5315, 5316, 5317, 5318, 5319, 5320, 5321, 5322, 5323, 5324, 5325, 5326, 5327, 5328, 5329, 5330, 5331, 5332, 5333, 5334, 5335, 5336, 5337, 5338, 5339, 5340, 5341, 5342, 5343, 5344, 5345, 5346, 5347, 5348, 5349, 5350, 5351, 5352, 5353, 5354, 5355, 5356, 5357, 5358, 5359, 5360, 5361, 5362, 5363, 5364, 5365, 5366, 5367, 5368, 5369, 5370, 5371, 5372, 5373, 5374, 5375, 5376, 5377, 5378, 5379, 5380, 5381, 5382, 5383, 5384, 5385, 5386, 5387, 5388, 5389, 5390, 5391, 5392, 5393, 5394, 5395, 5396, 5397, 5398, 5399], 'n02871525': [5400, 5401, 5402, 5403, 5404, 5405, 5406, 5407, 5408, 5409, 5410, 5411, 5412, 5413, 5414, 5415, 5416, 5417, 5418, 5419, 5420, 5421, 5422, 5423, 5424, 5425, 5426, 5427, 5428, 5429, 5430, 5431, 5432, 5433, 5434, 5435, 5436, 5437, 5438, 5439, 5440, 5441, 5442, 5443, 5444, 5445, 5446, 5447, 5448, 5449, 5450, 5451, 5452, 5453, 5454, 5455, 5456, 5457, 5458, 5459, 5460, 5461, 5462, 5463, 5464, 5465, 5466, 5467, 5468, 5469, 5470, 5471, 5472, 5473, 5474, 5475, 5476, 5477, 5478, 5479, 5480, 5481, 5482, 5483, 5484, 5485, 5486, 5487, 5488, 5489, 5490, 5491, 5492, 5493, 5494, 5495, 5496, 5497, 5498, 5499, 5500, 5501, 5502, 5503, 5504, 5505, 5506, 5507, 5508, 5509, 5510, 5511, 5512, 5513, 5514, 5515, 5516, 5517, 5518, 5519, 5520, 5521, 5522, 5523, 5524, 5525, 5526, 5527, 5528, 5529, 5530, 5531, 5532, 5533, 5534, 5535, 5536, 5537, 5538, 5539, 5540, 5541, 5542, 5543, 5544, 5545, 5546, 5547, 5548, 5549, 5550, 5551, 5552, 5553, 5554, 5555, 5556, 5557, 5558, 5559, 5560, 5561, 5562, 5563, 5564, 5565, 5566, 5567, 5568, 5569, 5570, 5571, 5572, 5573, 5574, 5575, 5576, 5577, 5578, 5579, 5580, 5581, 5582, 5583, 5584, 5585, 5586, 5587, 5588, 5589, 5590, 5591, 5592, 5593, 5594, 5595, 5596, 5597, 5598, 5599, 5600, 5601, 5602, 5603, 5604, 5605, 5606, 5607, 5608, 5609, 5610, 5611, 5612, 5613, 5614, 5615, 5616, 5617, 5618, 5619, 5620, 5621, 5622, 5623, 5624, 5625, 5626, 5627, 5628, 5629, 5630, 5631, 5632, 5633, 5634, 5635, 5636, 5637, 5638, 5639, 5640, 5641, 5642, 5643, 5644, 5645, 5646, 5647, 5648, 5649, 5650, 5651, 5652, 5653, 5654, 5655, 5656, 5657, 5658, 5659, 5660, 5661, 5662, 5663, 5664, 5665, 5666, 5667, 5668, 5669, 5670, 5671, 5672, 5673, 5674, 5675, 5676, 5677, 5678, 5679, 5680, 5681, 5682, 5683, 5684, 5685, 5686, 5687, 5688, 5689, 5690, 5691, 5692, 5693, 5694, 5695, 5696, 5697, 5698, 5699, 5700, 5701, 5702, 5703, 5704, 5705, 5706, 5707, 5708, 5709, 5710, 5711, 5712, 5713, 5714, 5715, 5716, 5717, 5718, 5719, 5720, 5721, 5722, 5723, 5724, 5725, 5726, 5727, 5728, 5729, 5730, 5731, 5732, 5733, 5734, 5735, 5736, 5737, 5738, 5739, 5740, 5741, 5742, 5743, 5744, 5745, 5746, 5747, 5748, 5749, 5750, 5751, 5752, 5753, 5754, 5755, 5756, 5757, 5758, 5759, 5760, 5761, 5762, 5763, 5764, 5765, 5766, 5767, 5768, 5769, 5770, 5771, 5772, 5773, 5774, 5775, 5776, 5777, 5778, 5779, 5780, 5781, 5782, 5783, 5784, 5785, 5786, 5787, 5788, 5789, 5790, 5791, 5792, 5793, 5794, 5795, 5796, 5797, 5798, 5799, 5800, 5801, 5802, 5803, 5804, 5805, 5806, 5807, 5808, 5809, 5810, 5811, 5812, 5813, 5814, 5815, 5816, 5817, 5818, 5819, 5820, 5821, 5822, 5823, 5824, 5825, 5826, 5827, 5828, 5829, 5830, 5831, 5832, 5833, 5834, 5835, 5836, 5837, 5838, 5839, 5840, 5841, 5842, 5843, 5844, 5845, 5846, 5847, 5848, 5849, 5850, 5851, 5852, 5853, 5854, 5855, 5856, 5857, 5858, 5859, 5860, 5861, 5862, 5863, 5864, 5865, 5866, 5867, 5868, 5869, 5870, 5871, 5872, 5873, 5874, 5875, 5876, 5877, 5878, 5879, 5880, 5881, 5882, 5883, 5884, 5885, 5886, 5887, 5888, 5889, 5890, 5891, 5892, 5893, 5894, 5895, 5896, 5897, 5898, 5899, 5900, 5901, 5902, 5903, 5904, 5905, 5906, 5907, 5908, 5909, 5910, 5911, 5912, 5913, 5914, 5915, 5916, 5917, 5918, 5919, 5920, 5921, 5922, 5923, 5924, 5925, 5926, 5927, 5928, 5929, 5930, 5931, 5932, 5933, 5934, 5935, 5936, 5937, 5938, 5939, 5940, 5941, 5942, 5943, 5944, 5945, 5946, 5947, 5948, 5949, 5950, 5951, 5952, 5953, 5954, 5955, 5956, 5957, 5958, 5959, 5960, 5961, 5962, 5963, 5964, 5965, 5966, 5967, 5968, 5969, 5970, 5971, 5972, 5973, 5974, 5975, 5976, 5977, 5978, 5979, 5980, 5981, 5982, 5983, 5984, 5985, 5986, 5987, 5988, 5989, 5990, 5991, 5992, 5993, 5994, 5995, 5996, 5997, 5998, 5999], 'n03127925': [6000, 6001, 6002, 6003, 6004, 6005, 6006, 6007, 6008, 6009, 6010, 6011, 6012, 6013, 6014, 6015, 6016, 6017, 6018, 6019, 6020, 6021, 6022, 6023, 6024, 6025, 6026, 6027, 6028, 6029, 6030, 6031, 6032, 6033, 6034, 6035, 6036, 6037, 6038, 6039, 6040, 6041, 6042, 6043, 6044, 6045, 6046, 6047, 6048, 6049, 6050, 6051, 6052, 6053, 6054, 6055, 6056, 6057, 6058, 6059, 6060, 6061, 6062, 6063, 6064, 6065, 6066, 6067, 6068, 6069, 6070, 6071, 6072, 6073, 6074, 6075, 6076, 6077, 6078, 6079, 6080, 6081, 6082, 6083, 6084, 6085, 6086, 6087, 6088, 6089, 6090, 6091, 6092, 6093, 6094, 6095, 6096, 6097, 6098, 6099, 6100, 6101, 6102, 6103, 6104, 6105, 6106, 6107, 6108, 6109, 6110, 6111, 6112, 6113, 6114, 6115, 6116, 6117, 6118, 6119, 6120, 6121, 6122, 6123, 6124, 6125, 6126, 6127, 6128, 6129, 6130, 6131, 6132, 6133, 6134, 6135, 6136, 6137, 6138, 6139, 6140, 6141, 6142, 6143, 6144, 6145, 6146, 6147, 6148, 6149, 6150, 6151, 6152, 6153, 6154, 6155, 6156, 6157, 6158, 6159, 6160, 6161, 6162, 6163, 6164, 6165, 6166, 6167, 6168, 6169, 6170, 6171, 6172, 6173, 6174, 6175, 6176, 6177, 6178, 6179, 6180, 6181, 6182, 6183, 6184, 6185, 6186, 6187, 6188, 6189, 6190, 6191, 6192, 6193, 6194, 6195, 6196, 6197, 6198, 6199, 6200, 6201, 6202, 6203, 6204, 6205, 6206, 6207, 6208, 6209, 6210, 6211, 6212, 6213, 6214, 6215, 6216, 6217, 6218, 6219, 6220, 6221, 6222, 6223, 6224, 6225, 6226, 6227, 6228, 6229, 6230, 6231, 6232, 6233, 6234, 6235, 6236, 6237, 6238, 6239, 6240, 6241, 6242, 6243, 6244, 6245, 6246, 6247, 6248, 6249, 6250, 6251, 6252, 6253, 6254, 6255, 6256, 6257, 6258, 6259, 6260, 6261, 6262, 6263, 6264, 6265, 6266, 6267, 6268, 6269, 6270, 6271, 6272, 6273, 6274, 6275, 6276, 6277, 6278, 6279, 6280, 6281, 6282, 6283, 6284, 6285, 6286, 6287, 6288, 6289, 6290, 6291, 6292, 6293, 6294, 6295, 6296, 6297, 6298, 6299, 6300, 6301, 6302, 6303, 6304, 6305, 6306, 6307, 6308, 6309, 6310, 6311, 6312, 6313, 6314, 6315, 6316, 6317, 6318, 6319, 6320, 6321, 6322, 6323, 6324, 6325, 6326, 6327, 6328, 6329, 6330, 6331, 6332, 6333, 6334, 6335, 6336, 6337, 6338, 6339, 6340, 6341, 6342, 6343, 6344, 6345, 6346, 6347, 6348, 6349, 6350, 6351, 6352, 6353, 6354, 6355, 6356, 6357, 6358, 6359, 6360, 6361, 6362, 6363, 6364, 6365, 6366, 6367, 6368, 6369, 6370, 6371, 6372, 6373, 6374, 6375, 6376, 6377, 6378, 6379, 6380, 6381, 6382, 6383, 6384, 6385, 6386, 6387, 6388, 6389, 6390, 6391, 6392, 6393, 6394, 6395, 6396, 6397, 6398, 6399, 6400, 6401, 6402, 6403, 6404, 6405, 6406, 6407, 6408, 6409, 6410, 6411, 6412, 6413, 6414, 6415, 6416, 6417, 6418, 6419, 6420, 6421, 6422, 6423, 6424, 6425, 6426, 6427, 6428, 6429, 6430, 6431, 6432, 6433, 6434, 6435, 6436, 6437, 6438, 6439, 6440, 6441, 6442, 6443, 6444, 6445, 6446, 6447, 6448, 6449, 6450, 6451, 6452, 6453, 6454, 6455, 6456, 6457, 6458, 6459, 6460, 6461, 6462, 6463, 6464, 6465, 6466, 6467, 6468, 6469, 6470, 6471, 6472, 6473, 6474, 6475, 6476, 6477, 6478, 6479, 6480, 6481, 6482, 6483, 6484, 6485, 6486, 6487, 6488, 6489, 6490, 6491, 6492, 6493, 6494, 6495, 6496, 6497, 6498, 6499, 6500, 6501, 6502, 6503, 6504, 6505, 6506, 6507, 6508, 6509, 6510, 6511, 6512, 6513, 6514, 6515, 6516, 6517, 6518, 6519, 6520, 6521, 6522, 6523, 6524, 6525, 6526, 6527, 6528, 6529, 6530, 6531, 6532, 6533, 6534, 6535, 6536, 6537, 6538, 6539, 6540, 6541, 6542, 6543, 6544, 6545, 6546, 6547, 6548, 6549, 6550, 6551, 6552, 6553, 6554, 6555, 6556, 6557, 6558, 6559, 6560, 6561, 6562, 6563, 6564, 6565, 6566, 6567, 6568, 6569, 6570, 6571, 6572, 6573, 6574, 6575, 6576, 6577, 6578, 6579, 6580, 6581, 6582, 6583, 6584, 6585, 6586, 6587, 6588, 6589, 6590, 6591, 6592, 6593, 6594, 6595, 6596, 6597, 6598, 6599], 'n03146219': [6600, 6601, 6602, 6603, 6604, 6605, 6606, 6607, 6608, 6609, 6610, 6611, 6612, 6613, 6614, 6615, 6616, 6617, 6618, 6619, 6620, 6621, 6622, 6623, 6624, 6625, 6626, 6627, 6628, 6629, 6630, 6631, 6632, 6633, 6634, 6635, 6636, 6637, 6638, 6639, 6640, 6641, 6642, 6643, 6644, 6645, 6646, 6647, 6648, 6649, 6650, 6651, 6652, 6653, 6654, 6655, 6656, 6657, 6658, 6659, 6660, 6661, 6662, 6663, 6664, 6665, 6666, 6667, 6668, 6669, 6670, 6671, 6672, 6673, 6674, 6675, 6676, 6677, 6678, 6679, 6680, 6681, 6682, 6683, 6684, 6685, 6686, 6687, 6688, 6689, 6690, 6691, 6692, 6693, 6694, 6695, 6696, 6697, 6698, 6699, 6700, 6701, 6702, 6703, 6704, 6705, 6706, 6707, 6708, 6709, 6710, 6711, 6712, 6713, 6714, 6715, 6716, 6717, 6718, 6719, 6720, 6721, 6722, 6723, 6724, 6725, 6726, 6727, 6728, 6729, 6730, 6731, 6732, 6733, 6734, 6735, 6736, 6737, 6738, 6739, 6740, 6741, 6742, 6743, 6744, 6745, 6746, 6747, 6748, 6749, 6750, 6751, 6752, 6753, 6754, 6755, 6756, 6757, 6758, 6759, 6760, 6761, 6762, 6763, 6764, 6765, 6766, 6767, 6768, 6769, 6770, 6771, 6772, 6773, 6774, 6775, 6776, 6777, 6778, 6779, 6780, 6781, 6782, 6783, 6784, 6785, 6786, 6787, 6788, 6789, 6790, 6791, 6792, 6793, 6794, 6795, 6796, 6797, 6798, 6799, 6800, 6801, 6802, 6803, 6804, 6805, 6806, 6807, 6808, 6809, 6810, 6811, 6812, 6813, 6814, 6815, 6816, 6817, 6818, 6819, 6820, 6821, 6822, 6823, 6824, 6825, 6826, 6827, 6828, 6829, 6830, 6831, 6832, 6833, 6834, 6835, 6836, 6837, 6838, 6839, 6840, 6841, 6842, 6843, 6844, 6845, 6846, 6847, 6848, 6849, 6850, 6851, 6852, 6853, 6854, 6855, 6856, 6857, 6858, 6859, 6860, 6861, 6862, 6863, 6864, 6865, 6866, 6867, 6868, 6869, 6870, 6871, 6872, 6873, 6874, 6875, 6876, 6877, 6878, 6879, 6880, 6881, 6882, 6883, 6884, 6885, 6886, 6887, 6888, 6889, 6890, 6891, 6892, 6893, 6894, 6895, 6896, 6897, 6898, 6899, 6900, 6901, 6902, 6903, 6904, 6905, 6906, 6907, 6908, 6909, 6910, 6911, 6912, 6913, 6914, 6915, 6916, 6917, 6918, 6919, 6920, 6921, 6922, 6923, 6924, 6925, 6926, 6927, 6928, 6929, 6930, 6931, 6932, 6933, 6934, 6935, 6936, 6937, 6938, 6939, 6940, 6941, 6942, 6943, 6944, 6945, 6946, 6947, 6948, 6949, 6950, 6951, 6952, 6953, 6954, 6955, 6956, 6957, 6958, 6959, 6960, 6961, 6962, 6963, 6964, 6965, 6966, 6967, 6968, 6969, 6970, 6971, 6972, 6973, 6974, 6975, 6976, 6977, 6978, 6979, 6980, 6981, 6982, 6983, 6984, 6985, 6986, 6987, 6988, 6989, 6990, 6991, 6992, 6993, 6994, 6995, 6996, 6997, 6998, 6999, 7000, 7001, 7002, 7003, 7004, 7005, 7006, 7007, 7008, 7009, 7010, 7011, 7012, 7013, 7014, 7015, 7016, 7017, 7018, 7019, 7020, 7021, 7022, 7023, 7024, 7025, 7026, 7027, 7028, 7029, 7030, 7031, 7032, 7033, 7034, 7035, 7036, 7037, 7038, 7039, 7040, 7041, 7042, 7043, 7044, 7045, 7046, 7047, 7048, 7049, 7050, 7051, 7052, 7053, 7054, 7055, 7056, 7057, 7058, 7059, 7060, 7061, 7062, 7063, 7064, 7065, 7066, 7067, 7068, 7069, 7070, 7071, 7072, 7073, 7074, 7075, 7076, 7077, 7078, 7079, 7080, 7081, 7082, 7083, 7084, 7085, 7086, 7087, 7088, 7089, 7090, 7091, 7092, 7093, 7094, 7095, 7096, 7097, 7098, 7099, 7100, 7101, 7102, 7103, 7104, 7105, 7106, 7107, 7108, 7109, 7110, 7111, 7112, 7113, 7114, 7115, 7116, 7117, 7118, 7119, 7120, 7121, 7122, 7123, 7124, 7125, 7126, 7127, 7128, 7129, 7130, 7131, 7132, 7133, 7134, 7135, 7136, 7137, 7138, 7139, 7140, 7141, 7142, 7143, 7144, 7145, 7146, 7147, 7148, 7149, 7150, 7151, 7152, 7153, 7154, 7155, 7156, 7157, 7158, 7159, 7160, 7161, 7162, 7163, 7164, 7165, 7166, 7167, 7168, 7169, 7170, 7171, 7172, 7173, 7174, 7175, 7176, 7177, 7178, 7179, 7180, 7181, 7182, 7183, 7184, 7185, 7186, 7187, 7188, 7189, 7190, 7191, 7192, 7193, 7194, 7195, 7196, 7197, 7198, 7199], 'n03272010': [7200, 7201, 7202, 7203, 7204, 7205, 7206, 7207, 7208, 7209, 7210, 7211, 7212, 7213, 7214, 7215, 7216, 7217, 7218, 7219, 7220, 7221, 7222, 7223, 7224, 7225, 7226, 7227, 7228, 7229, 7230, 7231, 7232, 7233, 7234, 7235, 7236, 7237, 7238, 7239, 7240, 7241, 7242, 7243, 7244, 7245, 7246, 7247, 7248, 7249, 7250, 7251, 7252, 7253, 7254, 7255, 7256, 7257, 7258, 7259, 7260, 7261, 7262, 7263, 7264, 7265, 7266, 7267, 7268, 7269, 7270, 7271, 7272, 7273, 7274, 7275, 7276, 7277, 7278, 7279, 7280, 7281, 7282, 7283, 7284, 7285, 7286, 7287, 7288, 7289, 7290, 7291, 7292, 7293, 7294, 7295, 7296, 7297, 7298, 7299, 7300, 7301, 7302, 7303, 7304, 7305, 7306, 7307, 7308, 7309, 7310, 7311, 7312, 7313, 7314, 7315, 7316, 7317, 7318, 7319, 7320, 7321, 7322, 7323, 7324, 7325, 7326, 7327, 7328, 7329, 7330, 7331, 7332, 7333, 7334, 7335, 7336, 7337, 7338, 7339, 7340, 7341, 7342, 7343, 7344, 7345, 7346, 7347, 7348, 7349, 7350, 7351, 7352, 7353, 7354, 7355, 7356, 7357, 7358, 7359, 7360, 7361, 7362, 7363, 7364, 7365, 7366, 7367, 7368, 7369, 7370, 7371, 7372, 7373, 7374, 7375, 7376, 7377, 7378, 7379, 7380, 7381, 7382, 7383, 7384, 7385, 7386, 7387, 7388, 7389, 7390, 7391, 7392, 7393, 7394, 7395, 7396, 7397, 7398, 7399, 7400, 7401, 7402, 7403, 7404, 7405, 7406, 7407, 7408, 7409, 7410, 7411, 7412, 7413, 7414, 7415, 7416, 7417, 7418, 7419, 7420, 7421, 7422, 7423, 7424, 7425, 7426, 7427, 7428, 7429, 7430, 7431, 7432, 7433, 7434, 7435, 7436, 7437, 7438, 7439, 7440, 7441, 7442, 7443, 7444, 7445, 7446, 7447, 7448, 7449, 7450, 7451, 7452, 7453, 7454, 7455, 7456, 7457, 7458, 7459, 7460, 7461, 7462, 7463, 7464, 7465, 7466, 7467, 7468, 7469, 7470, 7471, 7472, 7473, 7474, 7475, 7476, 7477, 7478, 7479, 7480, 7481, 7482, 7483, 7484, 7485, 7486, 7487, 7488, 7489, 7490, 7491, 7492, 7493, 7494, 7495, 7496, 7497, 7498, 7499, 7500, 7501, 7502, 7503, 7504, 7505, 7506, 7507, 7508, 7509, 7510, 7511, 7512, 7513, 7514, 7515, 7516, 7517, 7518, 7519, 7520, 7521, 7522, 7523, 7524, 7525, 7526, 7527, 7528, 7529, 7530, 7531, 7532, 7533, 7534, 7535, 7536, 7537, 7538, 7539, 7540, 7541, 7542, 7543, 7544, 7545, 7546, 7547, 7548, 7549, 7550, 7551, 7552, 7553, 7554, 7555, 7556, 7557, 7558, 7559, 7560, 7561, 7562, 7563, 7564, 7565, 7566, 7567, 7568, 7569, 7570, 7571, 7572, 7573, 7574, 7575, 7576, 7577, 7578, 7579, 7580, 7581, 7582, 7583, 7584, 7585, 7586, 7587, 7588, 7589, 7590, 7591, 7592, 7593, 7594, 7595, 7596, 7597, 7598, 7599, 7600, 7601, 7602, 7603, 7604, 7605, 7606, 7607, 7608, 7609, 7610, 7611, 7612, 7613, 7614, 7615, 7616, 7617, 7618, 7619, 7620, 7621, 7622, 7623, 7624, 7625, 7626, 7627, 7628, 7629, 7630, 7631, 7632, 7633, 7634, 7635, 7636, 7637, 7638, 7639, 7640, 7641, 7642, 7643, 7644, 7645, 7646, 7647, 7648, 7649, 7650, 7651, 7652, 7653, 7654, 7655, 7656, 7657, 7658, 7659, 7660, 7661, 7662, 7663, 7664, 7665, 7666, 7667, 7668, 7669, 7670, 7671, 7672, 7673, 7674, 7675, 7676, 7677, 7678, 7679, 7680, 7681, 7682, 7683, 7684, 7685, 7686, 7687, 7688, 7689, 7690, 7691, 7692, 7693, 7694, 7695, 7696, 7697, 7698, 7699, 7700, 7701, 7702, 7703, 7704, 7705, 7706, 7707, 7708, 7709, 7710, 7711, 7712, 7713, 7714, 7715, 7716, 7717, 7718, 7719, 7720, 7721, 7722, 7723, 7724, 7725, 7726, 7727, 7728, 7729, 7730, 7731, 7732, 7733, 7734, 7735, 7736, 7737, 7738, 7739, 7740, 7741, 7742, 7743, 7744, 7745, 7746, 7747, 7748, 7749, 7750, 7751, 7752, 7753, 7754, 7755, 7756, 7757, 7758, 7759, 7760, 7761, 7762, 7763, 7764, 7765, 7766, 7767, 7768, 7769, 7770, 7771, 7772, 7773, 7774, 7775, 7776, 7777, 7778, 7779, 7780, 7781, 7782, 7783, 7784, 7785, 7786, 7787, 7788, 7789, 7790, 7791, 7792, 7793, 7794, 7795, 7796, 7797, 7798, 7799], 'n03544143': [7800, 7801, 7802, 7803, 7804, 7805, 7806, 7807, 7808, 7809, 7810, 7811, 7812, 7813, 7814, 7815, 7816, 7817, 7818, 7819, 7820, 7821, 7822, 7823, 7824, 7825, 7826, 7827, 7828, 7829, 7830, 7831, 7832, 7833, 7834, 7835, 7836, 7837, 7838, 7839, 7840, 7841, 7842, 7843, 7844, 7845, 7846, 7847, 7848, 7849, 7850, 7851, 7852, 7853, 7854, 7855, 7856, 7857, 7858, 7859, 7860, 7861, 7862, 7863, 7864, 7865, 7866, 7867, 7868, 7869, 7870, 7871, 7872, 7873, 7874, 7875, 7876, 7877, 7878, 7879, 7880, 7881, 7882, 7883, 7884, 7885, 7886, 7887, 7888, 7889, 7890, 7891, 7892, 7893, 7894, 7895, 7896, 7897, 7898, 7899, 7900, 7901, 7902, 7903, 7904, 7905, 7906, 7907, 7908, 7909, 7910, 7911, 7912, 7913, 7914, 7915, 7916, 7917, 7918, 7919, 7920, 7921, 7922, 7923, 7924, 7925, 7926, 7927, 7928, 7929, 7930, 7931, 7932, 7933, 7934, 7935, 7936, 7937, 7938, 7939, 7940, 7941, 7942, 7943, 7944, 7945, 7946, 7947, 7948, 7949, 7950, 7951, 7952, 7953, 7954, 7955, 7956, 7957, 7958, 7959, 7960, 7961, 7962, 7963, 7964, 7965, 7966, 7967, 7968, 7969, 7970, 7971, 7972, 7973, 7974, 7975, 7976, 7977, 7978, 7979, 7980, 7981, 7982, 7983, 7984, 7985, 7986, 7987, 7988, 7989, 7990, 7991, 7992, 7993, 7994, 7995, 7996, 7997, 7998, 7999, 8000, 8001, 8002, 8003, 8004, 8005, 8006, 8007, 8008, 8009, 8010, 8011, 8012, 8013, 8014, 8015, 8016, 8017, 8018, 8019, 8020, 8021, 8022, 8023, 8024, 8025, 8026, 8027, 8028, 8029, 8030, 8031, 8032, 8033, 8034, 8035, 8036, 8037, 8038, 8039, 8040, 8041, 8042, 8043, 8044, 8045, 8046, 8047, 8048, 8049, 8050, 8051, 8052, 8053, 8054, 8055, 8056, 8057, 8058, 8059, 8060, 8061, 8062, 8063, 8064, 8065, 8066, 8067, 8068, 8069, 8070, 8071, 8072, 8073, 8074, 8075, 8076, 8077, 8078, 8079, 8080, 8081, 8082, 8083, 8084, 8085, 8086, 8087, 8088, 8089, 8090, 8091, 8092, 8093, 8094, 8095, 8096, 8097, 8098, 8099, 8100, 8101, 8102, 8103, 8104, 8105, 8106, 8107, 8108, 8109, 8110, 8111, 8112, 8113, 8114, 8115, 8116, 8117, 8118, 8119, 8120, 8121, 8122, 8123, 8124, 8125, 8126, 8127, 8128, 8129, 8130, 8131, 8132, 8133, 8134, 8135, 8136, 8137, 8138, 8139, 8140, 8141, 8142, 8143, 8144, 8145, 8146, 8147, 8148, 8149, 8150, 8151, 8152, 8153, 8154, 8155, 8156, 8157, 8158, 8159, 8160, 8161, 8162, 8163, 8164, 8165, 8166, 8167, 8168, 8169, 8170, 8171, 8172, 8173, 8174, 8175, 8176, 8177, 8178, 8179, 8180, 8181, 8182, 8183, 8184, 8185, 8186, 8187, 8188, 8189, 8190, 8191, 8192, 8193, 8194, 8195, 8196, 8197, 8198, 8199, 8200, 8201, 8202, 8203, 8204, 8205, 8206, 8207, 8208, 8209, 8210, 8211, 8212, 8213, 8214, 8215, 8216, 8217, 8218, 8219, 8220, 8221, 8222, 8223, 8224, 8225, 8226, 8227, 8228, 8229, 8230, 8231, 8232, 8233, 8234, 8235, 8236, 8237, 8238, 8239, 8240, 8241, 8242, 8243, 8244, 8245, 8246, 8247, 8248, 8249, 8250, 8251, 8252, 8253, 8254, 8255, 8256, 8257, 8258, 8259, 8260, 8261, 8262, 8263, 8264, 8265, 8266, 8267, 8268, 8269, 8270, 8271, 8272, 8273, 8274, 8275, 8276, 8277, 8278, 8279, 8280, 8281, 8282, 8283, 8284, 8285, 8286, 8287, 8288, 8289, 8290, 8291, 8292, 8293, 8294, 8295, 8296, 8297, 8298, 8299, 8300, 8301, 8302, 8303, 8304, 8305, 8306, 8307, 8308, 8309, 8310, 8311, 8312, 8313, 8314, 8315, 8316, 8317, 8318, 8319, 8320, 8321, 8322, 8323, 8324, 8325, 8326, 8327, 8328, 8329, 8330, 8331, 8332, 8333, 8334, 8335, 8336, 8337, 8338, 8339, 8340, 8341, 8342, 8343, 8344, 8345, 8346, 8347, 8348, 8349, 8350, 8351, 8352, 8353, 8354, 8355, 8356, 8357, 8358, 8359, 8360, 8361, 8362, 8363, 8364, 8365, 8366, 8367, 8368, 8369, 8370, 8371, 8372, 8373, 8374, 8375, 8376, 8377, 8378, 8379, 8380, 8381, 8382, 8383, 8384, 8385, 8386, 8387, 8388, 8389, 8390, 8391, 8392, 8393, 8394, 8395, 8396, 8397, 8398, 8399], 'n03775546': [8400, 8401, 8402, 8403, 8404, 8405, 8406, 8407, 8408, 8409, 8410, 8411, 8412, 8413, 8414, 8415, 8416, 8417, 8418, 8419, 8420, 8421, 8422, 8423, 8424, 8425, 8426, 8427, 8428, 8429, 8430, 8431, 8432, 8433, 8434, 8435, 8436, 8437, 8438, 8439, 8440, 8441, 8442, 8443, 8444, 8445, 8446, 8447, 8448, 8449, 8450, 8451, 8452, 8453, 8454, 8455, 8456, 8457, 8458, 8459, 8460, 8461, 8462, 8463, 8464, 8465, 8466, 8467, 8468, 8469, 8470, 8471, 8472, 8473, 8474, 8475, 8476, 8477, 8478, 8479, 8480, 8481, 8482, 8483, 8484, 8485, 8486, 8487, 8488, 8489, 8490, 8491, 8492, 8493, 8494, 8495, 8496, 8497, 8498, 8499, 8500, 8501, 8502, 8503, 8504, 8505, 8506, 8507, 8508, 8509, 8510, 8511, 8512, 8513, 8514, 8515, 8516, 8517, 8518, 8519, 8520, 8521, 8522, 8523, 8524, 8525, 8526, 8527, 8528, 8529, 8530, 8531, 8532, 8533, 8534, 8535, 8536, 8537, 8538, 8539, 8540, 8541, 8542, 8543, 8544, 8545, 8546, 8547, 8548, 8549, 8550, 8551, 8552, 8553, 8554, 8555, 8556, 8557, 8558, 8559, 8560, 8561, 8562, 8563, 8564, 8565, 8566, 8567, 8568, 8569, 8570, 8571, 8572, 8573, 8574, 8575, 8576, 8577, 8578, 8579, 8580, 8581, 8582, 8583, 8584, 8585, 8586, 8587, 8588, 8589, 8590, 8591, 8592, 8593, 8594, 8595, 8596, 8597, 8598, 8599, 8600, 8601, 8602, 8603, 8604, 8605, 8606, 8607, 8608, 8609, 8610, 8611, 8612, 8613, 8614, 8615, 8616, 8617, 8618, 8619, 8620, 8621, 8622, 8623, 8624, 8625, 8626, 8627, 8628, 8629, 8630, 8631, 8632, 8633, 8634, 8635, 8636, 8637, 8638, 8639, 8640, 8641, 8642, 8643, 8644, 8645, 8646, 8647, 8648, 8649, 8650, 8651, 8652, 8653, 8654, 8655, 8656, 8657, 8658, 8659, 8660, 8661, 8662, 8663, 8664, 8665, 8666, 8667, 8668, 8669, 8670, 8671, 8672, 8673, 8674, 8675, 8676, 8677, 8678, 8679, 8680, 8681, 8682, 8683, 8684, 8685, 8686, 8687, 8688, 8689, 8690, 8691, 8692, 8693, 8694, 8695, 8696, 8697, 8698, 8699, 8700, 8701, 8702, 8703, 8704, 8705, 8706, 8707, 8708, 8709, 8710, 8711, 8712, 8713, 8714, 8715, 8716, 8717, 8718, 8719, 8720, 8721, 8722, 8723, 8724, 8725, 8726, 8727, 8728, 8729, 8730, 8731, 8732, 8733, 8734, 8735, 8736, 8737, 8738, 8739, 8740, 8741, 8742, 8743, 8744, 8745, 8746, 8747, 8748, 8749, 8750, 8751, 8752, 8753, 8754, 8755, 8756, 8757, 8758, 8759, 8760, 8761, 8762, 8763, 8764, 8765, 8766, 8767, 8768, 8769, 8770, 8771, 8772, 8773, 8774, 8775, 8776, 8777, 8778, 8779, 8780, 8781, 8782, 8783, 8784, 8785, 8786, 8787, 8788, 8789, 8790, 8791, 8792, 8793, 8794, 8795, 8796, 8797, 8798, 8799, 8800, 8801, 8802, 8803, 8804, 8805, 8806, 8807, 8808, 8809, 8810, 8811, 8812, 8813, 8814, 8815, 8816, 8817, 8818, 8819, 8820, 8821, 8822, 8823, 8824, 8825, 8826, 8827, 8828, 8829, 8830, 8831, 8832, 8833, 8834, 8835, 8836, 8837, 8838, 8839, 8840, 8841, 8842, 8843, 8844, 8845, 8846, 8847, 8848, 8849, 8850, 8851, 8852, 8853, 8854, 8855, 8856, 8857, 8858, 8859, 8860, 8861, 8862, 8863, 8864, 8865, 8866, 8867, 8868, 8869, 8870, 8871, 8872, 8873, 8874, 8875, 8876, 8877, 8878, 8879, 8880, 8881, 8882, 8883, 8884, 8885, 8886, 8887, 8888, 8889, 8890, 8891, 8892, 8893, 8894, 8895, 8896, 8897, 8898, 8899, 8900, 8901, 8902, 8903, 8904, 8905, 8906, 8907, 8908, 8909, 8910, 8911, 8912, 8913, 8914, 8915, 8916, 8917, 8918, 8919, 8920, 8921, 8922, 8923, 8924, 8925, 8926, 8927, 8928, 8929, 8930, 8931, 8932, 8933, 8934, 8935, 8936, 8937, 8938, 8939, 8940, 8941, 8942, 8943, 8944, 8945, 8946, 8947, 8948, 8949, 8950, 8951, 8952, 8953, 8954, 8955, 8956, 8957, 8958, 8959, 8960, 8961, 8962, 8963, 8964, 8965, 8966, 8967, 8968, 8969, 8970, 8971, 8972, 8973, 8974, 8975, 8976, 8977, 8978, 8979, 8980, 8981, 8982, 8983, 8984, 8985, 8986, 8987, 8988, 8989, 8990, 8991, 8992, 8993, 8994, 8995, 8996, 8997, 8998, 8999], 'n04146614': [9000, 9001, 9002, 9003, 9004, 9005, 9006, 9007, 9008, 9009, 9010, 9011, 9012, 9013, 9014, 9015, 9016, 9017, 9018, 9019, 9020, 9021, 9022, 9023, 9024, 9025, 9026, 9027, 9028, 9029, 9030, 9031, 9032, 9033, 9034, 9035, 9036, 9037, 9038, 9039, 9040, 9041, 9042, 9043, 9044, 9045, 9046, 9047, 9048, 9049, 9050, 9051, 9052, 9053, 9054, 9055, 9056, 9057, 9058, 9059, 9060, 9061, 9062, 9063, 9064, 9065, 9066, 9067, 9068, 9069, 9070, 9071, 9072, 9073, 9074, 9075, 9076, 9077, 9078, 9079, 9080, 9081, 9082, 9083, 9084, 9085, 9086, 9087, 9088, 9089, 9090, 9091, 9092, 9093, 9094, 9095, 9096, 9097, 9098, 9099, 9100, 9101, 9102, 9103, 9104, 9105, 9106, 9107, 9108, 9109, 9110, 9111, 9112, 9113, 9114, 9115, 9116, 9117, 9118, 9119, 9120, 9121, 9122, 9123, 9124, 9125, 9126, 9127, 9128, 9129, 9130, 9131, 9132, 9133, 9134, 9135, 9136, 9137, 9138, 9139, 9140, 9141, 9142, 9143, 9144, 9145, 9146, 9147, 9148, 9149, 9150, 9151, 9152, 9153, 9154, 9155, 9156, 9157, 9158, 9159, 9160, 9161, 9162, 9163, 9164, 9165, 9166, 9167, 9168, 9169, 9170, 9171, 9172, 9173, 9174, 9175, 9176, 9177, 9178, 9179, 9180, 9181, 9182, 9183, 9184, 9185, 9186, 9187, 9188, 9189, 9190, 9191, 9192, 9193, 9194, 9195, 9196, 9197, 9198, 9199, 9200, 9201, 9202, 9203, 9204, 9205, 9206, 9207, 9208, 9209, 9210, 9211, 9212, 9213, 9214, 9215, 9216, 9217, 9218, 9219, 9220, 9221, 9222, 9223, 9224, 9225, 9226, 9227, 9228, 9229, 9230, 9231, 9232, 9233, 9234, 9235, 9236, 9237, 9238, 9239, 9240, 9241, 9242, 9243, 9244, 9245, 9246, 9247, 9248, 9249, 9250, 9251, 9252, 9253, 9254, 9255, 9256, 9257, 9258, 9259, 9260, 9261, 9262, 9263, 9264, 9265, 9266, 9267, 9268, 9269, 9270, 9271, 9272, 9273, 9274, 9275, 9276, 9277, 9278, 9279, 9280, 9281, 9282, 9283, 9284, 9285, 9286, 9287, 9288, 9289, 9290, 9291, 9292, 9293, 9294, 9295, 9296, 9297, 9298, 9299, 9300, 9301, 9302, 9303, 9304, 9305, 9306, 9307, 9308, 9309, 9310, 9311, 9312, 9313, 9314, 9315, 9316, 9317, 9318, 9319, 9320, 9321, 9322, 9323, 9324, 9325, 9326, 9327, 9328, 9329, 9330, 9331, 9332, 9333, 9334, 9335, 9336, 9337, 9338, 9339, 9340, 9341, 9342, 9343, 9344, 9345, 9346, 9347, 9348, 9349, 9350, 9351, 9352, 9353, 9354, 9355, 9356, 9357, 9358, 9359, 9360, 9361, 9362, 9363, 9364, 9365, 9366, 9367, 9368, 9369, 9370, 9371, 9372, 9373, 9374, 9375, 9376, 9377, 9378, 9379, 9380, 9381, 9382, 9383, 9384, 9385, 9386, 9387, 9388, 9389, 9390, 9391, 9392, 9393, 9394, 9395, 9396, 9397, 9398, 9399, 9400, 9401, 9402, 9403, 9404, 9405, 9406, 9407, 9408, 9409, 9410, 9411, 9412, 9413, 9414, 9415, 9416, 9417, 9418, 9419, 9420, 9421, 9422, 9423, 9424, 9425, 9426, 9427, 9428, 9429, 9430, 9431, 9432, 9433, 9434, 9435, 9436, 9437, 9438, 9439, 9440, 9441, 9442, 9443, 9444, 9445, 9446, 9447, 9448, 9449, 9450, 9451, 9452, 9453, 9454, 9455, 9456, 9457, 9458, 9459, 9460, 9461, 9462, 9463, 9464, 9465, 9466, 9467, 9468, 9469, 9470, 9471, 9472, 9473, 9474, 9475, 9476, 9477, 9478, 9479, 9480, 9481, 9482, 9483, 9484, 9485, 9486, 9487, 9488, 9489, 9490, 9491, 9492, 9493, 9494, 9495, 9496, 9497, 9498, 9499, 9500, 9501, 9502, 9503, 9504, 9505, 9506, 9507, 9508, 9509, 9510, 9511, 9512, 9513, 9514, 9515, 9516, 9517, 9518, 9519, 9520, 9521, 9522, 9523, 9524, 9525, 9526, 9527, 9528, 9529, 9530, 9531, 9532, 9533, 9534, 9535, 9536, 9537, 9538, 9539, 9540, 9541, 9542, 9543, 9544, 9545, 9546, 9547, 9548, 9549, 9550, 9551, 9552, 9553, 9554, 9555, 9556, 9557, 9558, 9559, 9560, 9561, 9562, 9563, 9564, 9565, 9566, 9567, 9568, 9569, 9570, 9571, 9572, 9573, 9574, 9575, 9576, 9577, 9578, 9579, 9580, 9581, 9582, 9583, 9584, 9585, 9586, 9587, 9588, 9589, 9590, 9591, 9592, 9593, 9594, 9595, 9596, 9597, 9598, 9599], 'n04149813': [9600, 9601, 9602, 9603, 9604, 9605, 9606, 9607, 9608, 9609, 9610, 9611, 9612, 9613, 9614, 9615, 9616, 9617, 9618, 9619, 9620, 9621, 9622, 9623, 9624, 9625, 9626, 9627, 9628, 9629, 9630, 9631, 9632, 9633, 9634, 9635, 9636, 9637, 9638, 9639, 9640, 9641, 9642, 9643, 9644, 9645, 9646, 9647, 9648, 9649, 9650, 9651, 9652, 9653, 9654, 9655, 9656, 9657, 9658, 9659, 9660, 9661, 9662, 9663, 9664, 9665, 9666, 9667, 9668, 9669, 9670, 9671, 9672, 9673, 9674, 9675, 9676, 9677, 9678, 9679, 9680, 9681, 9682, 9683, 9684, 9685, 9686, 9687, 9688, 9689, 9690, 9691, 9692, 9693, 9694, 9695, 9696, 9697, 9698, 9699, 9700, 9701, 9702, 9703, 9704, 9705, 9706, 9707, 9708, 9709, 9710, 9711, 9712, 9713, 9714, 9715, 9716, 9717, 9718, 9719, 9720, 9721, 9722, 9723, 9724, 9725, 9726, 9727, 9728, 9729, 9730, 9731, 9732, 9733, 9734, 9735, 9736, 9737, 9738, 9739, 9740, 9741, 9742, 9743, 9744, 9745, 9746, 9747, 9748, 9749, 9750, 9751, 9752, 9753, 9754, 9755, 9756, 9757, 9758, 9759, 9760, 9761, 9762, 9763, 9764, 9765, 9766, 9767, 9768, 9769, 9770, 9771, 9772, 9773, 9774, 9775, 9776, 9777, 9778, 9779, 9780, 9781, 9782, 9783, 9784, 9785, 9786, 9787, 9788, 9789, 9790, 9791, 9792, 9793, 9794, 9795, 9796, 9797, 9798, 9799, 9800, 9801, 9802, 9803, 9804, 9805, 9806, 9807, 9808, 9809, 9810, 9811, 9812, 9813, 9814, 9815, 9816, 9817, 9818, 9819, 9820, 9821, 9822, 9823, 9824, 9825, 9826, 9827, 9828, 9829, 9830, 9831, 9832, 9833, 9834, 9835, 9836, 9837, 9838, 9839, 9840, 9841, 9842, 9843, 9844, 9845, 9846, 9847, 9848, 9849, 9850, 9851, 9852, 9853, 9854, 9855, 9856, 9857, 9858, 9859, 9860, 9861, 9862, 9863, 9864, 9865, 9866, 9867, 9868, 9869, 9870, 9871, 9872, 9873, 9874, 9875, 9876, 9877, 9878, 9879, 9880, 9881, 9882, 9883, 9884, 9885, 9886, 9887, 9888, 9889, 9890, 9891, 9892, 9893, 9894, 9895, 9896, 9897, 9898, 9899, 9900, 9901, 9902, 9903, 9904, 9905, 9906, 9907, 9908, 9909, 9910, 9911, 9912, 9913, 9914, 9915, 9916, 9917, 9918, 9919, 9920, 9921, 9922, 9923, 9924, 9925, 9926, 9927, 9928, 9929, 9930, 9931, 9932, 9933, 9934, 9935, 9936, 9937, 9938, 9939, 9940, 9941, 9942, 9943, 9944, 9945, 9946, 9947, 9948, 9949, 9950, 9951, 9952, 9953, 9954, 9955, 9956, 9957, 9958, 9959, 9960, 9961, 9962, 9963, 9964, 9965, 9966, 9967, 9968, 9969, 9970, 9971, 9972, 9973, 9974, 9975, 9976, 9977, 9978, 9979, 9980, 9981, 9982, 9983, 9984, 9985, 9986, 9987, 9988, 9989, 9990, 9991, 9992, 9993, 9994, 9995, 9996, 9997, 9998, 9999, 10000, 10001, 10002, 10003, 10004, 10005, 10006, 10007, 10008, 10009, 10010, 10011, 10012, 10013, 10014, 10015, 10016, 10017, 10018, 10019, 10020, 10021, 10022, 10023, 10024, 10025, 10026, 10027, 10028, 10029, 10030, 10031, 10032, 10033, 10034, 10035, 10036, 10037, 10038, 10039, 10040, 10041, 10042, 10043, 10044, 10045, 10046, 10047, 10048, 10049, 10050, 10051, 10052, 10053, 10054, 10055, 10056, 10057, 10058, 10059, 10060, 10061, 10062, 10063, 10064, 10065, 10066, 10067, 10068, 10069, 10070, 10071, 10072, 10073, 10074, 10075, 10076, 10077, 10078, 10079, 10080, 10081, 10082, 10083, 10084, 10085, 10086, 10087, 10088, 10089, 10090, 10091, 10092, 10093, 10094, 10095, 10096, 10097, 10098, 10099, 10100, 10101, 10102, 10103, 10104, 10105, 10106, 10107, 10108, 10109, 10110, 10111, 10112, 10113, 10114, 10115, 10116, 10117, 10118, 10119, 10120, 10121, 10122, 10123, 10124, 10125, 10126, 10127, 10128, 10129, 10130, 10131, 10132, 10133, 10134, 10135, 10136, 10137, 10138, 10139, 10140, 10141, 10142, 10143, 10144, 10145, 10146, 10147, 10148, 10149, 10150, 10151, 10152, 10153, 10154, 10155, 10156, 10157, 10158, 10159, 10160, 10161, 10162, 10163, 10164, 10165, 10166, 10167, 10168, 10169, 10170, 10171, 10172, 10173, 10174, 10175, 10176, 10177, 10178, 10179, 10180, 10181, 10182, 10183, 10184, 10185, 10186, 10187, 10188, 10189, 10190, 10191, 10192, 10193, 10194, 10195, 10196, 10197, 10198, 10199], 'n04418357': [10200, 10201, 10202, 10203, 10204, 10205, 10206, 10207, 10208, 10209, 10210, 10211, 10212, 10213, 10214, 10215, 10216, 10217, 10218, 10219, 10220, 10221, 10222, 10223, 10224, 10225, 10226, 10227, 10228, 10229, 10230, 10231, 10232, 10233, 10234, 10235, 10236, 10237, 10238, 10239, 10240, 10241, 10242, 10243, 10244, 10245, 10246, 10247, 10248, 10249, 10250, 10251, 10252, 10253, 10254, 10255, 10256, 10257, 10258, 10259, 10260, 10261, 10262, 10263, 10264, 10265, 10266, 10267, 10268, 10269, 10270, 10271, 10272, 10273, 10274, 10275, 10276, 10277, 10278, 10279, 10280, 10281, 10282, 10283, 10284, 10285, 10286, 10287, 10288, 10289, 10290, 10291, 10292, 10293, 10294, 10295, 10296, 10297, 10298, 10299, 10300, 10301, 10302, 10303, 10304, 10305, 10306, 10307, 10308, 10309, 10310, 10311, 10312, 10313, 10314, 10315, 10316, 10317, 10318, 10319, 10320, 10321, 10322, 10323, 10324, 10325, 10326, 10327, 10328, 10329, 10330, 10331, 10332, 10333, 10334, 10335, 10336, 10337, 10338, 10339, 10340, 10341, 10342, 10343, 10344, 10345, 10346, 10347, 10348, 10349, 10350, 10351, 10352, 10353, 10354, 10355, 10356, 10357, 10358, 10359, 10360, 10361, 10362, 10363, 10364, 10365, 10366, 10367, 10368, 10369, 10370, 10371, 10372, 10373, 10374, 10375, 10376, 10377, 10378, 10379, 10380, 10381, 10382, 10383, 10384, 10385, 10386, 10387, 10388, 10389, 10390, 10391, 10392, 10393, 10394, 10395, 10396, 10397, 10398, 10399, 10400, 10401, 10402, 10403, 10404, 10405, 10406, 10407, 10408, 10409, 10410, 10411, 10412, 10413, 10414, 10415, 10416, 10417, 10418, 10419, 10420, 10421, 10422, 10423, 10424, 10425, 10426, 10427, 10428, 10429, 10430, 10431, 10432, 10433, 10434, 10435, 10436, 10437, 10438, 10439, 10440, 10441, 10442, 10443, 10444, 10445, 10446, 10447, 10448, 10449, 10450, 10451, 10452, 10453, 10454, 10455, 10456, 10457, 10458, 10459, 10460, 10461, 10462, 10463, 10464, 10465, 10466, 10467, 10468, 10469, 10470, 10471, 10472, 10473, 10474, 10475, 10476, 10477, 10478, 10479, 10480, 10481, 10482, 10483, 10484, 10485, 10486, 10487, 10488, 10489, 10490, 10491, 10492, 10493, 10494, 10495, 10496, 10497, 10498, 10499, 10500, 10501, 10502, 10503, 10504, 10505, 10506, 10507, 10508, 10509, 10510, 10511, 10512, 10513, 10514, 10515, 10516, 10517, 10518, 10519, 10520, 10521, 10522, 10523, 10524, 10525, 10526, 10527, 10528, 10529, 10530, 10531, 10532, 10533, 10534, 10535, 10536, 10537, 10538, 10539, 10540, 10541, 10542, 10543, 10544, 10545, 10546, 10547, 10548, 10549, 10550, 10551, 10552, 10553, 10554, 10555, 10556, 10557, 10558, 10559, 10560, 10561, 10562, 10563, 10564, 10565, 10566, 10567, 10568, 10569, 10570, 10571, 10572, 10573, 10574, 10575, 10576, 10577, 10578, 10579, 10580, 10581, 10582, 10583, 10584, 10585, 10586, 10587, 10588, 10589, 10590, 10591, 10592, 10593, 10594, 10595, 10596, 10597, 10598, 10599, 10600, 10601, 10602, 10603, 10604, 10605, 10606, 10607, 10608, 10609, 10610, 10611, 10612, 10613, 10614, 10615, 10616, 10617, 10618, 10619, 10620, 10621, 10622, 10623, 10624, 10625, 10626, 10627, 10628, 10629, 10630, 10631, 10632, 10633, 10634, 10635, 10636, 10637, 10638, 10639, 10640, 10641, 10642, 10643, 10644, 10645, 10646, 10647, 10648, 10649, 10650, 10651, 10652, 10653, 10654, 10655, 10656, 10657, 10658, 10659, 10660, 10661, 10662, 10663, 10664, 10665, 10666, 10667, 10668, 10669, 10670, 10671, 10672, 10673, 10674, 10675, 10676, 10677, 10678, 10679, 10680, 10681, 10682, 10683, 10684, 10685, 10686, 10687, 10688, 10689, 10690, 10691, 10692, 10693, 10694, 10695, 10696, 10697, 10698, 10699, 10700, 10701, 10702, 10703, 10704, 10705, 10706, 10707, 10708, 10709, 10710, 10711, 10712, 10713, 10714, 10715, 10716, 10717, 10718, 10719, 10720, 10721, 10722, 10723, 10724, 10725, 10726, 10727, 10728, 10729, 10730, 10731, 10732, 10733, 10734, 10735, 10736, 10737, 10738, 10739, 10740, 10741, 10742, 10743, 10744, 10745, 10746, 10747, 10748, 10749, 10750, 10751, 10752, 10753, 10754, 10755, 10756, 10757, 10758, 10759, 10760, 10761, 10762, 10763, 10764, 10765, 10766, 10767, 10768, 10769, 10770, 10771, 10772, 10773, 10774, 10775, 10776, 10777, 10778, 10779, 10780, 10781, 10782, 10783, 10784, 10785, 10786, 10787, 10788, 10789, 10790, 10791, 10792, 10793, 10794, 10795, 10796, 10797, 10798, 10799], 'n04522168': [10800, 10801, 10802, 10803, 10804, 10805, 10806, 10807, 10808, 10809, 10810, 10811, 10812, 10813, 10814, 10815, 10816, 10817, 10818, 10819, 10820, 10821, 10822, 10823, 10824, 10825, 10826, 10827, 10828, 10829, 10830, 10831, 10832, 10833, 10834, 10835, 10836, 10837, 10838, 10839, 10840, 10841, 10842, 10843, 10844, 10845, 10846, 10847, 10848, 10849, 10850, 10851, 10852, 10853, 10854, 10855, 10856, 10857, 10858, 10859, 10860, 10861, 10862, 10863, 10864, 10865, 10866, 10867, 10868, 10869, 10870, 10871, 10872, 10873, 10874, 10875, 10876, 10877, 10878, 10879, 10880, 10881, 10882, 10883, 10884, 10885, 10886, 10887, 10888, 10889, 10890, 10891, 10892, 10893, 10894, 10895, 10896, 10897, 10898, 10899, 10900, 10901, 10902, 10903, 10904, 10905, 10906, 10907, 10908, 10909, 10910, 10911, 10912, 10913, 10914, 10915, 10916, 10917, 10918, 10919, 10920, 10921, 10922, 10923, 10924, 10925, 10926, 10927, 10928, 10929, 10930, 10931, 10932, 10933, 10934, 10935, 10936, 10937, 10938, 10939, 10940, 10941, 10942, 10943, 10944, 10945, 10946, 10947, 10948, 10949, 10950, 10951, 10952, 10953, 10954, 10955, 10956, 10957, 10958, 10959, 10960, 10961, 10962, 10963, 10964, 10965, 10966, 10967, 10968, 10969, 10970, 10971, 10972, 10973, 10974, 10975, 10976, 10977, 10978, 10979, 10980, 10981, 10982, 10983, 10984, 10985, 10986, 10987, 10988, 10989, 10990, 10991, 10992, 10993, 10994, 10995, 10996, 10997, 10998, 10999, 11000, 11001, 11002, 11003, 11004, 11005, 11006, 11007, 11008, 11009, 11010, 11011, 11012, 11013, 11014, 11015, 11016, 11017, 11018, 11019, 11020, 11021, 11022, 11023, 11024, 11025, 11026, 11027, 11028, 11029, 11030, 11031, 11032, 11033, 11034, 11035, 11036, 11037, 11038, 11039, 11040, 11041, 11042, 11043, 11044, 11045, 11046, 11047, 11048, 11049, 11050, 11051, 11052, 11053, 11054, 11055, 11056, 11057, 11058, 11059, 11060, 11061, 11062, 11063, 11064, 11065, 11066, 11067, 11068, 11069, 11070, 11071, 11072, 11073, 11074, 11075, 11076, 11077, 11078, 11079, 11080, 11081, 11082, 11083, 11084, 11085, 11086, 11087, 11088, 11089, 11090, 11091, 11092, 11093, 11094, 11095, 11096, 11097, 11098, 11099, 11100, 11101, 11102, 11103, 11104, 11105, 11106, 11107, 11108, 11109, 11110, 11111, 11112, 11113, 11114, 11115, 11116, 11117, 11118, 11119, 11120, 11121, 11122, 11123, 11124, 11125, 11126, 11127, 11128, 11129, 11130, 11131, 11132, 11133, 11134, 11135, 11136, 11137, 11138, 11139, 11140, 11141, 11142, 11143, 11144, 11145, 11146, 11147, 11148, 11149, 11150, 11151, 11152, 11153, 11154, 11155, 11156, 11157, 11158, 11159, 11160, 11161, 11162, 11163, 11164, 11165, 11166, 11167, 11168, 11169, 11170, 11171, 11172, 11173, 11174, 11175, 11176, 11177, 11178, 11179, 11180, 11181, 11182, 11183, 11184, 11185, 11186, 11187, 11188, 11189, 11190, 11191, 11192, 11193, 11194, 11195, 11196, 11197, 11198, 11199, 11200, 11201, 11202, 11203, 11204, 11205, 11206, 11207, 11208, 11209, 11210, 11211, 11212, 11213, 11214, 11215, 11216, 11217, 11218, 11219, 11220, 11221, 11222, 11223, 11224, 11225, 11226, 11227, 11228, 11229, 11230, 11231, 11232, 11233, 11234, 11235, 11236, 11237, 11238, 11239, 11240, 11241, 11242, 11243, 11244, 11245, 11246, 11247, 11248, 11249, 11250, 11251, 11252, 11253, 11254, 11255, 11256, 11257, 11258, 11259, 11260, 11261, 11262, 11263, 11264, 11265, 11266, 11267, 11268, 11269, 11270, 11271, 11272, 11273, 11274, 11275, 11276, 11277, 11278, 11279, 11280, 11281, 11282, 11283, 11284, 11285, 11286, 11287, 11288, 11289, 11290, 11291, 11292, 11293, 11294, 11295, 11296, 11297, 11298, 11299, 11300, 11301, 11302, 11303, 11304, 11305, 11306, 11307, 11308, 11309, 11310, 11311, 11312, 11313, 11314, 11315, 11316, 11317, 11318, 11319, 11320, 11321, 11322, 11323, 11324, 11325, 11326, 11327, 11328, 11329, 11330, 11331, 11332, 11333, 11334, 11335, 11336, 11337, 11338, 11339, 11340, 11341, 11342, 11343, 11344, 11345, 11346, 11347, 11348, 11349, 11350, 11351, 11352, 11353, 11354, 11355, 11356, 11357, 11358, 11359, 11360, 11361, 11362, 11363, 11364, 11365, 11366, 11367, 11368, 11369, 11370, 11371, 11372, 11373, 11374, 11375, 11376, 11377, 11378, 11379, 11380, 11381, 11382, 11383, 11384, 11385, 11386, 11387, 11388, 11389, 11390, 11391, 11392, 11393, 11394, 11395, 11396, 11397, 11398, 11399], 'n07613480': [11400, 11401, 11402, 11403, 11404, 11405, 11406, 11407, 11408, 11409, 11410, 11411, 11412, 11413, 11414, 11415, 11416, 11417, 11418, 11419, 11420, 11421, 11422, 11423, 11424, 11425, 11426, 11427, 11428, 11429, 11430, 11431, 11432, 11433, 11434, 11435, 11436, 11437, 11438, 11439, 11440, 11441, 11442, 11443, 11444, 11445, 11446, 11447, 11448, 11449, 11450, 11451, 11452, 11453, 11454, 11455, 11456, 11457, 11458, 11459, 11460, 11461, 11462, 11463, 11464, 11465, 11466, 11467, 11468, 11469, 11470, 11471, 11472, 11473, 11474, 11475, 11476, 11477, 11478, 11479, 11480, 11481, 11482, 11483, 11484, 11485, 11486, 11487, 11488, 11489, 11490, 11491, 11492, 11493, 11494, 11495, 11496, 11497, 11498, 11499, 11500, 11501, 11502, 11503, 11504, 11505, 11506, 11507, 11508, 11509, 11510, 11511, 11512, 11513, 11514, 11515, 11516, 11517, 11518, 11519, 11520, 11521, 11522, 11523, 11524, 11525, 11526, 11527, 11528, 11529, 11530, 11531, 11532, 11533, 11534, 11535, 11536, 11537, 11538, 11539, 11540, 11541, 11542, 11543, 11544, 11545, 11546, 11547, 11548, 11549, 11550, 11551, 11552, 11553, 11554, 11555, 11556, 11557, 11558, 11559, 11560, 11561, 11562, 11563, 11564, 11565, 11566, 11567, 11568, 11569, 11570, 11571, 11572, 11573, 11574, 11575, 11576, 11577, 11578, 11579, 11580, 11581, 11582, 11583, 11584, 11585, 11586, 11587, 11588, 11589, 11590, 11591, 11592, 11593, 11594, 11595, 11596, 11597, 11598, 11599, 11600, 11601, 11602, 11603, 11604, 11605, 11606, 11607, 11608, 11609, 11610, 11611, 11612, 11613, 11614, 11615, 11616, 11617, 11618, 11619, 11620, 11621, 11622, 11623, 11624, 11625, 11626, 11627, 11628, 11629, 11630, 11631, 11632, 11633, 11634, 11635, 11636, 11637, 11638, 11639, 11640, 11641, 11642, 11643, 11644, 11645, 11646, 11647, 11648, 11649, 11650, 11651, 11652, 11653, 11654, 11655, 11656, 11657, 11658, 11659, 11660, 11661, 11662, 11663, 11664, 11665, 11666, 11667, 11668, 11669, 11670, 11671, 11672, 11673, 11674, 11675, 11676, 11677, 11678, 11679, 11680, 11681, 11682, 11683, 11684, 11685, 11686, 11687, 11688, 11689, 11690, 11691, 11692, 11693, 11694, 11695, 11696, 11697, 11698, 11699, 11700, 11701, 11702, 11703, 11704, 11705, 11706, 11707, 11708, 11709, 11710, 11711, 11712, 11713, 11714, 11715, 11716, 11717, 11718, 11719, 11720, 11721, 11722, 11723, 11724, 11725, 11726, 11727, 11728, 11729, 11730, 11731, 11732, 11733, 11734, 11735, 11736, 11737, 11738, 11739, 11740, 11741, 11742, 11743, 11744, 11745, 11746, 11747, 11748, 11749, 11750, 11751, 11752, 11753, 11754, 11755, 11756, 11757, 11758, 11759, 11760, 11761, 11762, 11763, 11764, 11765, 11766, 11767, 11768, 11769, 11770, 11771, 11772, 11773, 11774, 11775, 11776, 11777, 11778, 11779, 11780, 11781, 11782, 11783, 11784, 11785, 11786, 11787, 11788, 11789, 11790, 11791, 11792, 11793, 11794, 11795, 11796, 11797, 11798, 11799, 11800, 11801, 11802, 11803, 11804, 11805, 11806, 11807, 11808, 11809, 11810, 11811, 11812, 11813, 11814, 11815, 11816, 11817, 11818, 11819, 11820, 11821, 11822, 11823, 11824, 11825, 11826, 11827, 11828, 11829, 11830, 11831, 11832, 11833, 11834, 11835, 11836, 11837, 11838, 11839, 11840, 11841, 11842, 11843, 11844, 11845, 11846, 11847, 11848, 11849, 11850, 11851, 11852, 11853, 11854, 11855, 11856, 11857, 11858, 11859, 11860, 11861, 11862, 11863, 11864, 11865, 11866, 11867, 11868, 11869, 11870, 11871, 11872, 11873, 11874, 11875, 11876, 11877, 11878, 11879, 11880, 11881, 11882, 11883, 11884, 11885, 11886, 11887, 11888, 11889, 11890, 11891, 11892, 11893, 11894, 11895, 11896, 11897, 11898, 11899, 11900, 11901, 11902, 11903, 11904, 11905, 11906, 11907, 11908, 11909, 11910, 11911, 11912, 11913, 11914, 11915, 11916, 11917, 11918, 11919, 11920, 11921, 11922, 11923, 11924, 11925, 11926, 11927, 11928, 11929, 11930, 11931, 11932, 11933, 11934, 11935, 11936, 11937, 11938, 11939, 11940, 11941, 11942, 11943, 11944, 11945, 11946, 11947, 11948, 11949, 11950, 11951, 11952, 11953, 11954, 11955, 11956, 11957, 11958, 11959, 11960, 11961, 11962, 11963, 11964, 11965, 11966, 11967, 11968, 11969, 11970, 11971, 11972, 11973, 11974, 11975, 11976, 11977, 11978, 11979, 11980, 11981, 11982, 11983, 11984, 11985, 11986, 11987, 11988, 11989, 11990, 11991, 11992, 11993, 11994, 11995, 11996, 11997, 11998, 11999]}\n"
          ]
        }
      ],
      "source": [
        "test_images.shape\n",
        "print(test_labels)"
      ]
    },
    {
      "cell_type": "code",
      "execution_count": null,
      "metadata": {
        "id": "W4Ypmp1-jb6m"
      },
      "outputs": [],
      "source": [
        "num_class = 100\n",
        "images_per_class = 600\n"
      ]
    },
    {
      "cell_type": "code",
      "execution_count": null,
      "metadata": {
        "id": "t8iENgdpyI8r"
      },
      "outputs": [],
      "source": [
        "\n",
        "def get_next_batch(dataset, no_of_classes, num_way, num_shot, num_query):\n",
        "  episodic_classes = np.random.permutation(no_of_classes)[:num_way]\n",
        "  support = np.zeros([num_way, num_shot, 84, 84, 3], dtype=np.float32)\n",
        "  query = np.zeros([num_way, num_query, 84, 84, 3], dtype=np.float32)\n",
        "\n",
        "  for index, class_ in enumerate(episodic_classes):\n",
        "    start_index = find_start_index(class_)\n",
        "    #check that the size is greater than num_shot + num_query\n",
        "    indices = np.arange(start_index, start_index + images_per_class)\n",
        "    selected = np.random.permutation(indices)[:num_shot + num_query]\n",
        "    for support_index in range(num_shot):\n",
        "       support[index][support_index] = dataset[selected[support_index]] \n",
        "    for query_index in range(num_query):\n",
        "       query[index][query_index] = dataset[selected[num_shot + query_index]]  \n",
        "    #support[index] = dataset[int(selected[:num_shot])]\n",
        "    #query[index] = dataset[int(selected[num_shot:])]\n",
        "    \n",
        "  return support, query\n",
        "\n",
        "def find_start_index(class_):\n",
        "  return 600 * class_\n",
        "\n"
      ]
    },
    {
      "cell_type": "code",
      "execution_count": null,
      "metadata": {
        "id": "aslgCiUk-stA"
      },
      "outputs": [],
      "source": [
        "support, query = get_next_batch(test_images, test_classes, 20, 7, 3)"
      ]
    },
    {
      "cell_type": "code",
      "execution_count": null,
      "metadata": {
        "colab": {
          "base_uri": "https://localhost:8080/"
        },
        "id": "wZCM-q4w_XNC",
        "outputId": "0610664f-a18b-4674-966e-6a21b99a5d01"
      },
      "outputs": [
        {
          "output_type": "execute_result",
          "data": {
            "text/plain": [
              "(20, 7, 84, 84, 3)"
            ]
          },
          "metadata": {},
          "execution_count": 31
        }
      ],
      "source": [
        "support.shape"
      ]
    },
    {
      "cell_type": "code",
      "execution_count": null,
      "metadata": {
        "colab": {
          "base_uri": "https://localhost:8080/"
        },
        "id": "XdYHI3Je_asi",
        "outputId": "25c416c6-66b6-410c-9de8-efcecba4c750"
      },
      "outputs": [
        {
          "output_type": "execute_result",
          "data": {
            "text/plain": [
              "(20, 3, 84, 84, 3)"
            ]
          },
          "metadata": {},
          "execution_count": 32
        }
      ],
      "source": [
        "query.shape"
      ]
    },
    {
      "cell_type": "code",
      "execution_count": null,
      "metadata": {
        "id": "dsjaPAdV_eMB"
      },
      "outputs": [],
      "source": [
        "def show_image(dataset, index, image_number):\n",
        "  plt.figure(figsize=(2,3))\n",
        "  plt.xticks([])\n",
        "  plt.yticks([])\n",
        "  plt.imshow(dataset[index][image_number])\n"
      ]
    },
    {
      "cell_type": "code",
      "source": [
        "support[6]"
      ],
      "metadata": {
        "colab": {
          "base_uri": "https://localhost:8080/"
        },
        "id": "cUb6pX6zatfR",
        "outputId": "717d2ad7-b9a8-4b35-c8ce-d5b88b4f5b3b"
      },
      "execution_count": null,
      "outputs": [
        {
          "output_type": "execute_result",
          "data": {
            "text/plain": [
              "array([[[[0.00392157, 0.00392157, 0.00392157],\n",
              "         [0.00392157, 0.00392157, 0.00392157],\n",
              "         [0.00392157, 0.00392157, 0.00392157],\n",
              "         ...,\n",
              "         [0.00392157, 0.00392157, 0.00392157],\n",
              "         [0.00784314, 0.00784314, 0.00784314],\n",
              "         [0.00784314, 0.00784314, 0.00784314]],\n",
              "\n",
              "        [[0.        , 0.        , 0.        ],\n",
              "         [0.        , 0.        , 0.        ],\n",
              "         [0.        , 0.        , 0.        ],\n",
              "         ...,\n",
              "         [0.        , 0.        , 0.        ],\n",
              "         [0.        , 0.        , 0.        ],\n",
              "         [0.        , 0.        , 0.        ]],\n",
              "\n",
              "        [[0.00392157, 0.00392157, 0.00392157],\n",
              "         [0.00392157, 0.00392157, 0.00392157],\n",
              "         [0.00392157, 0.00392157, 0.00392157],\n",
              "         ...,\n",
              "         [0.00392157, 0.00392157, 0.00392157],\n",
              "         [0.00392157, 0.00392157, 0.00392157],\n",
              "         [0.00392157, 0.00392157, 0.00392157]],\n",
              "\n",
              "        ...,\n",
              "\n",
              "        [[0.79607844, 0.74509805, 0.70980394],\n",
              "         [0.85490197, 0.7882353 , 0.73333335],\n",
              "         [0.8392157 , 0.75686276, 0.6862745 ],\n",
              "         ...,\n",
              "         [0.7019608 , 0.6117647 , 0.47843137],\n",
              "         [0.7019608 , 0.60784316, 0.4862745 ],\n",
              "         [0.9490196 , 0.87058824, 0.7411765 ]],\n",
              "\n",
              "        [[0.7921569 , 0.74509805, 0.69803923],\n",
              "         [0.827451  , 0.77254903, 0.72156864],\n",
              "         [0.83137256, 0.76862746, 0.70980394],\n",
              "         ...,\n",
              "         [0.75686276, 0.6784314 , 0.56078434],\n",
              "         [0.95686275, 0.8901961 , 0.78039217],\n",
              "         [0.9882353 , 0.92156863, 0.8117647 ]],\n",
              "\n",
              "        [[0.7607843 , 0.7176471 , 0.6666667 ],\n",
              "         [0.8       , 0.74509805, 0.69803923],\n",
              "         [0.8156863 , 0.7529412 , 0.7019608 ],\n",
              "         ...,\n",
              "         [0.9882353 , 0.9098039 , 0.80784315],\n",
              "         [0.9647059 , 0.8980392 , 0.79607844],\n",
              "         [0.98039216, 0.9137255 , 0.8117647 ]]],\n",
              "\n",
              "\n",
              "       [[[0.40392157, 0.3254902 , 0.08235294],\n",
              "         [0.39607844, 0.32156864, 0.07843138],\n",
              "         [0.44313726, 0.30588236, 0.03529412],\n",
              "         ...,\n",
              "         [0.03137255, 0.00784314, 0.00392157],\n",
              "         [0.06666667, 0.08627451, 0.04313726],\n",
              "         [0.07058824, 0.03921569, 0.04705882]],\n",
              "\n",
              "        [[0.38431373, 0.34117648, 0.09411765],\n",
              "         [0.40392157, 0.3372549 , 0.09019608],\n",
              "         [0.12941177, 0.12156863, 0.01568628],\n",
              "         ...,\n",
              "         [0.08235294, 0.07843138, 0.05882353],\n",
              "         [0.07058824, 0.08235294, 0.05098039],\n",
              "         [0.4509804 , 0.41568628, 0.23921569]],\n",
              "\n",
              "        [[0.41960785, 0.33333334, 0.10980392],\n",
              "         [0.40784314, 0.34117648, 0.09803922],\n",
              "         [0.07450981, 0.08235294, 0.        ],\n",
              "         ...,\n",
              "         [0.03921569, 0.04705882, 0.01960784],\n",
              "         [0.07058824, 0.07450981, 0.05490196],\n",
              "         [0.60784316, 0.6       , 0.38039216]],\n",
              "\n",
              "        ...,\n",
              "\n",
              "        [[0.84313726, 0.80784315, 0.5764706 ],\n",
              "         [0.84313726, 0.8039216 , 0.5921569 ],\n",
              "         [0.84313726, 0.80784315, 0.63529414],\n",
              "         ...,\n",
              "         [0.39215687, 0.3372549 , 0.22352941],\n",
              "         [0.37254903, 0.33333334, 0.20784314],\n",
              "         [0.3764706 , 0.33333334, 0.21960784]],\n",
              "\n",
              "        [[0.8392157 , 0.7921569 , 0.61960787],\n",
              "         [0.84705883, 0.8       , 0.6       ],\n",
              "         [0.85490197, 0.81960785, 0.58431375],\n",
              "         ...,\n",
              "         [0.38431373, 0.32941177, 0.21568628],\n",
              "         [0.36862746, 0.3254902 , 0.20784314],\n",
              "         [0.36078432, 0.3372549 , 0.22352941]],\n",
              "\n",
              "        [[0.8235294 , 0.7764706 , 0.57254905],\n",
              "         [0.8352941 , 0.7921569 , 0.6039216 ],\n",
              "         [0.8352941 , 0.7882353 , 0.5882353 ],\n",
              "         ...,\n",
              "         [0.31764707, 0.2627451 , 0.14117648],\n",
              "         [0.37254903, 0.32941177, 0.20784314],\n",
              "         [0.37254903, 0.3254902 , 0.20784314]]],\n",
              "\n",
              "\n",
              "       [[[0.92156863, 0.9411765 , 0.9490196 ],\n",
              "         [0.93333334, 0.9490196 , 0.9607843 ],\n",
              "         [0.93333334, 0.9490196 , 0.9607843 ],\n",
              "         ...,\n",
              "         [0.59607846, 0.6039216 , 0.6       ],\n",
              "         [0.63529414, 0.6509804 , 0.654902  ],\n",
              "         [0.68235296, 0.7019608 , 0.7176471 ]],\n",
              "\n",
              "        [[0.9372549 , 0.95686275, 0.96862745],\n",
              "         [0.92941177, 0.94509804, 0.95686275],\n",
              "         [0.93333334, 0.9490196 , 0.9607843 ],\n",
              "         ...,\n",
              "         [0.6156863 , 0.61960787, 0.62352943],\n",
              "         [0.63529414, 0.6509804 , 0.65882355],\n",
              "         [0.7176471 , 0.7411765 , 0.75686276]],\n",
              "\n",
              "        [[0.9019608 , 0.9137255 , 0.9254902 ],\n",
              "         [0.9254902 , 0.9411765 , 0.9529412 ],\n",
              "         [0.91764706, 0.93333334, 0.94509804],\n",
              "         ...,\n",
              "         [0.6745098 , 0.6784314 , 0.6862745 ],\n",
              "         [0.64705884, 0.6627451 , 0.67058825],\n",
              "         [0.7294118 , 0.7607843 , 0.77254903]],\n",
              "\n",
              "        ...,\n",
              "\n",
              "        [[0.5882353 , 0.46666667, 0.23529412],\n",
              "         [0.59607846, 0.4627451 , 0.23529412],\n",
              "         [0.6       , 0.4627451 , 0.23529412],\n",
              "         ...,\n",
              "         [0.61960787, 0.5019608 , 0.28235295],\n",
              "         [0.60784316, 0.49019608, 0.27450982],\n",
              "         [0.5647059 , 0.46666667, 0.24313726]],\n",
              "\n",
              "        [[0.5764706 , 0.45490196, 0.22745098],\n",
              "         [0.58431375, 0.45882353, 0.23529412],\n",
              "         [0.6       , 0.4745098 , 0.2509804 ],\n",
              "         ...,\n",
              "         [0.62352943, 0.5058824 , 0.2901961 ],\n",
              "         [0.61960787, 0.49803922, 0.28627452],\n",
              "         [0.58431375, 0.46666667, 0.2509804 ]],\n",
              "\n",
              "        [[0.5686275 , 0.4509804 , 0.21568628],\n",
              "         [0.5686275 , 0.44705883, 0.22352941],\n",
              "         [0.60784316, 0.4862745 , 0.2627451 ],\n",
              "         ...,\n",
              "         [0.6117647 , 0.49411765, 0.28235295],\n",
              "         [0.6       , 0.48235294, 0.27058825],\n",
              "         [0.58431375, 0.4745098 , 0.2901961 ]]],\n",
              "\n",
              "\n",
              "       ...,\n",
              "\n",
              "\n",
              "       [[[0.05098039, 0.00784314, 0.01568628],\n",
              "         [0.00392157, 0.        , 0.        ],\n",
              "         [0.        , 0.00392157, 0.        ],\n",
              "         ...,\n",
              "         [0.        , 0.00392157, 0.        ],\n",
              "         [0.00392157, 0.00392157, 0.00392157],\n",
              "         [0.00784314, 0.        , 0.00392157]],\n",
              "\n",
              "        [[0.01568628, 0.        , 0.        ],\n",
              "         [0.00392157, 0.00392157, 0.00392157],\n",
              "         [0.00392157, 0.00392157, 0.00392157],\n",
              "         ...,\n",
              "         [0.01960784, 0.        , 0.        ],\n",
              "         [0.02745098, 0.00784314, 0.        ],\n",
              "         [0.02745098, 0.00784314, 0.        ]],\n",
              "\n",
              "        [[0.        , 0.00392157, 0.        ],\n",
              "         [0.        , 0.        , 0.        ],\n",
              "         [0.00392157, 0.00392157, 0.00392157],\n",
              "         ...,\n",
              "         [0.07058824, 0.02745098, 0.01568628],\n",
              "         [0.07058824, 0.03137255, 0.01960784],\n",
              "         [0.06666667, 0.03529412, 0.01960784]],\n",
              "\n",
              "        ...,\n",
              "\n",
              "        [[0.        , 0.        , 0.        ],\n",
              "         [0.        , 0.        , 0.        ],\n",
              "         [0.        , 0.        , 0.        ],\n",
              "         ...,\n",
              "         [0.10980392, 0.05882353, 0.02352941],\n",
              "         [0.09803922, 0.04705882, 0.01176471],\n",
              "         [0.09803922, 0.04705882, 0.01176471]],\n",
              "\n",
              "        [[0.00392157, 0.00392157, 0.00392157],\n",
              "         [0.00392157, 0.00392157, 0.00392157],\n",
              "         [0.        , 0.        , 0.        ],\n",
              "         ...,\n",
              "         [0.07843138, 0.03921569, 0.00392157],\n",
              "         [0.08235294, 0.04313726, 0.00392157],\n",
              "         [0.07450981, 0.03529412, 0.        ]],\n",
              "\n",
              "        [[0.        , 0.00392157, 0.        ],\n",
              "         [0.        , 0.        , 0.        ],\n",
              "         [0.        , 0.        , 0.        ],\n",
              "         ...,\n",
              "         [0.07843138, 0.03921569, 0.00784314],\n",
              "         [0.07450981, 0.03529412, 0.00784314],\n",
              "         [0.03529412, 0.01568628, 0.        ]]],\n",
              "\n",
              "\n",
              "       [[[0.27058825, 0.12941177, 0.1254902 ],\n",
              "         [0.26666668, 0.14117648, 0.11764706],\n",
              "         [0.3647059 , 0.30588236, 0.5254902 ],\n",
              "         ...,\n",
              "         [0.14901961, 0.09411765, 0.01960784],\n",
              "         [0.46666667, 0.40784314, 0.65882355],\n",
              "         [0.49411765, 0.49803922, 0.7411765 ]],\n",
              "\n",
              "        [[0.27058825, 0.12941177, 0.1254902 ],\n",
              "         [0.27058825, 0.14117648, 0.11764706],\n",
              "         [0.3647059 , 0.3019608 , 0.52156866],\n",
              "         ...,\n",
              "         [0.15686275, 0.10588235, 0.04705882],\n",
              "         [0.49411765, 0.4392157 , 0.7019608 ],\n",
              "         [0.49019608, 0.49411765, 0.7372549 ]],\n",
              "\n",
              "        [[0.27450982, 0.12941177, 0.12156863],\n",
              "         [0.27058825, 0.13333334, 0.10588235],\n",
              "         [0.36078432, 0.29803923, 0.50980395],\n",
              "         ...,\n",
              "         [0.14117648, 0.09019608, 0.06666667],\n",
              "         [0.5058824 , 0.45490196, 0.7372549 ],\n",
              "         [0.48235294, 0.49019608, 0.73333335]],\n",
              "\n",
              "        ...,\n",
              "\n",
              "        [[0.5568628 , 0.53333336, 0.78431374],\n",
              "         [0.5568628 , 0.53333336, 0.78431374],\n",
              "         [0.56078434, 0.5372549 , 0.7882353 ],\n",
              "         ...,\n",
              "         [0.28627452, 0.2509804 , 0.3882353 ],\n",
              "         [0.29803923, 0.25882354, 0.4       ],\n",
              "         [0.2901961 , 0.25490198, 0.40392157]],\n",
              "\n",
              "        [[0.54901963, 0.5254902 , 0.76862746],\n",
              "         [0.5568628 , 0.53333336, 0.78039217],\n",
              "         [0.56078434, 0.5372549 , 0.7882353 ],\n",
              "         ...,\n",
              "         [0.29411766, 0.27450982, 0.43529412],\n",
              "         [0.3019608 , 0.28235295, 0.44313726],\n",
              "         [0.30588236, 0.28627452, 0.44705883]],\n",
              "\n",
              "        [[0.5529412 , 0.5294118 , 0.77254903],\n",
              "         [0.56078434, 0.53333336, 0.78431374],\n",
              "         [0.56078434, 0.5372549 , 0.7882353 ],\n",
              "         ...,\n",
              "         [0.3137255 , 0.29411766, 0.45490196],\n",
              "         [0.32156864, 0.3019608 , 0.4627451 ],\n",
              "         [0.31764707, 0.29803923, 0.45882353]]],\n",
              "\n",
              "\n",
              "       [[[0.5176471 , 0.4509804 , 0.49803922],\n",
              "         [0.47058824, 0.47843137, 0.45882353],\n",
              "         [0.43137255, 0.3137255 , 0.28235295],\n",
              "         ...,\n",
              "         [0.09803922, 0.09411765, 0.11764706],\n",
              "         [0.00392157, 0.        , 0.01960784],\n",
              "         [0.00784314, 0.00784314, 0.00784314]],\n",
              "\n",
              "        [[0.39607844, 0.3137255 , 0.3529412 ],\n",
              "         [0.49019608, 0.46666667, 0.45882353],\n",
              "         [0.36862746, 0.26666668, 0.21568628],\n",
              "         ...,\n",
              "         [0.04313726, 0.03921569, 0.0627451 ],\n",
              "         [0.00392157, 0.00392157, 0.01176471],\n",
              "         [0.00784314, 0.00784314, 0.00784314]],\n",
              "\n",
              "        [[0.22745098, 0.13725491, 0.17254902],\n",
              "         [0.53333336, 0.47843137, 0.48235294],\n",
              "         [0.43137255, 0.34117648, 0.28627452],\n",
              "         ...,\n",
              "         [0.00392157, 0.        , 0.02745098],\n",
              "         [0.00392157, 0.00392157, 0.00392157],\n",
              "         [0.00392157, 0.00392157, 0.01176471]],\n",
              "\n",
              "        ...,\n",
              "\n",
              "        [[0.01176471, 0.01176471, 0.01176471],\n",
              "         [0.01176471, 0.01176471, 0.01176471],\n",
              "         [0.00392157, 0.00392157, 0.00392157],\n",
              "         ...,\n",
              "         [0.42352942, 0.37254903, 0.34901962],\n",
              "         [0.41960785, 0.36862746, 0.34509805],\n",
              "         [0.4509804 , 0.4       , 0.3764706 ]],\n",
              "\n",
              "        [[0.01176471, 0.01176471, 0.01176471],\n",
              "         [0.01176471, 0.01176471, 0.01176471],\n",
              "         [0.00784314, 0.00784314, 0.00784314],\n",
              "         ...,\n",
              "         [0.45490196, 0.40392157, 0.38039216],\n",
              "         [0.4509804 , 0.4       , 0.3764706 ],\n",
              "         [0.44705883, 0.39607844, 0.37254903]],\n",
              "\n",
              "        [[0.01176471, 0.01176471, 0.01176471],\n",
              "         [0.01176471, 0.01176471, 0.01176471],\n",
              "         [0.01176471, 0.01176471, 0.01176471],\n",
              "         ...,\n",
              "         [0.48235294, 0.4392157 , 0.41568628],\n",
              "         [0.46666667, 0.42352942, 0.4       ],\n",
              "         [0.45882353, 0.41568628, 0.39215687]]]], dtype=float32)"
            ]
          },
          "metadata": {},
          "execution_count": 34
        }
      ]
    },
    {
      "cell_type": "code",
      "execution_count": null,
      "metadata": {
        "colab": {
          "base_uri": "https://localhost:8080/",
          "height": 146
        },
        "id": "3pP-fPoOHXrJ",
        "outputId": "d6fc12e7-f5fa-4a24-bef1-7567322953d5"
      },
      "outputs": [
        {
          "output_type": "display_data",
          "data": {
            "text/plain": [
              "<Figure size 144x216 with 1 Axes>"
            ],
            "image/png": "[encoded data removed]"
          },
          "metadata": {}
        }
      ],
      "source": [
        "show_image(support, 2, 5)"
      ]
    },
    {
      "cell_type": "code",
      "execution_count": null,
      "metadata": {
        "colab": {
          "base_uri": "https://localhost:8080/",
          "height": 146
        },
        "id": "Tf_USxDCl7Gv",
        "outputId": "c0858041-8e97-4bd0-9721-e05632e7e2c5"
      },
      "outputs": [
        {
          "output_type": "display_data",
          "data": {
            "text/plain": [
              "<Figure size 144x216 with 1 Axes>"
            ],
            "image/png": "[encoded data removed]"
          },
          "metadata": {}
        }
      ],
      "source": [
        "show_image(query, 2, 2)"
      ]
    },
    {
      "cell_type": "code",
      "execution_count": null,
      "metadata": {
        "id": "yQsRfRaEYaSh"
      },
      "outputs": [],
      "source": [
        "from tensorflow.keras.layers import Dense, Flatten, Conv2D\n",
        "from tensorflow.keras import Model"
      ]
    },
    {
      "cell_type": "code",
      "execution_count": null,
      "metadata": {
        "id": "RYIxk1m1HcYH"
      },
      "outputs": [],
      "source": [
        "class Prototypical(Model):\n",
        "    \"\"\"\n",
        "    Implemenation of Prototypical Network.\n",
        "    \"\"\"\n",
        "    def __init__(self, n_support, n_query, w, h, c):\n",
        "        \"\"\"\n",
        "        Args:\n",
        "            n_support (int): number of support examples.\n",
        "            n_query (int): number of query examples.\n",
        "            w (int): image width .\n",
        "            h (int): image height.\n",
        "            c (int): number of channels.\n",
        "        \"\"\"\n",
        "        super(Prototypical, self).__init__()\n",
        "        self.w, self.h, self.c = w, h, c\n",
        "\n",
        "        # Encoder as ResNet like CNN with 4 blocks\n",
        "        self.encoder = tf.keras.Sequential([\n",
        "            tf.keras.layers.Conv2D(filters=64, kernel_size=3, padding='same'),\n",
        "            tf.keras.layers.BatchNormalization(),\n",
        "            tf.keras.layers.ReLU(),\n",
        "            tf.keras.layers.MaxPool2D((2, 2)),\n",
        "\n",
        "            tf.keras.layers.Conv2D(filters=64, kernel_size=3, padding='same'),\n",
        "            tf.keras.layers.BatchNormalization(),\n",
        "            tf.keras.layers.ReLU(),\n",
        "            tf.keras.layers.MaxPool2D((2, 2)),\n",
        "\n",
        "            tf.keras.layers.Conv2D(filters=64, kernel_size=3, padding='same'),\n",
        "            tf.keras.layers.BatchNormalization(),\n",
        "            tf.keras.layers.ReLU(),\n",
        "            tf.keras.layers.MaxPool2D((2, 2)),\n",
        "\n",
        "            tf.keras.layers.Conv2D(filters=64, kernel_size=3, padding='same'),\n",
        "            tf.keras.layers.BatchNormalization(),\n",
        "            tf.keras.layers.ReLU(),\n",
        "            tf.keras.layers.MaxPool2D((2, 2)), Flatten()]\n",
        "        )\n",
        "\n",
        "    def call(self, support, query):\n",
        "        n_class = support.shape[0]\n",
        "        n_support = support.shape[1]\n",
        "        n_query = query.shape[1]\n",
        "        y = np.tile(np.arange(n_class)[:, np.newaxis], (1, n_query))\n",
        "        y_onehot = tf.cast(tf.one_hot(y, n_class), tf.float32)\n",
        "\n",
        "        # correct indices of support samples (just natural order)\n",
        "        target_inds = tf.reshape(tf.range(n_class), [n_class, 1])\n",
        "        target_inds = tf.tile(target_inds, [1, n_query])\n",
        "\n",
        "        # merge support and query to forward through encoder\n",
        "        cat = tf.concat([\n",
        "            tf.reshape(support, [n_class * n_support,\n",
        "                                 self.w, self.h, self.c]),\n",
        "            tf.reshape(query, [n_class * n_query,\n",
        "                               self.w, self.h, self.c])], axis=0)\n",
        "        z = self.encoder(cat)\n",
        "\n",
        "        # Divide embedding into support and query\n",
        "        z_prototypes = tf.reshape(z[:n_class * n_support],\n",
        "                                  [n_class, n_support, z.shape[-1]])\n",
        "        # Prototypes are means of n_support examples\n",
        "        z_prototypes = tf.math.reduce_mean(z_prototypes, axis=1)\n",
        "        z_query = z[n_class * n_support:]\n",
        "\n",
        "        # Calculate distances between query and prototypes\n",
        "        dists = euclidean_distance(z_query, z_prototypes)\n",
        "\n",
        "        # log softmax of calculated distances\n",
        "        log_p_y = tf.nn.log_softmax(-dists, axis=-1)\n",
        "        log_p_y = tf.reshape(log_p_y, [n_class, n_query, -1])\n",
        "        \n",
        "        loss = -tf.reduce_mean(tf.reshape(tf.reduce_sum(tf.multiply(y_onehot, log_p_y), axis=-1), [-1]))\n",
        "        eq = tf.cast(tf.equal(\n",
        "            tf.cast(tf.argmax(log_p_y, axis=-1), tf.int32), \n",
        "            tf.cast(y, tf.int32)), tf.float32)\n",
        "        acc = tf.reduce_mean(eq)\n",
        "        return loss, acc\n",
        "\n",
        "    def save(self, model_path):\n",
        "        \"\"\"\n",
        "        Save encoder to the file.\n",
        "\n",
        "        Args:\n",
        "            model_path (str): path to the .h5 file.\n",
        "\n",
        "        Returns: None\n",
        "\n",
        "        \"\"\"\n",
        "        self.encoder.save(model_path)\n",
        "\n",
        "    def load(self, model_path):\n",
        "        \"\"\"\n",
        "        Load encoder from the file.\n",
        "\n",
        "        Args:\n",
        "            model_path (str): path to the .h5 file.\n",
        "\n",
        "        Returns: None\n",
        "\n",
        "        \"\"\"\n",
        "        self.encoder(tf.zeros([1, self.w, self.h, self.c]))\n",
        "        self.encoder.load_weights(model_path)"
      ]
    },
    {
      "cell_type": "code",
      "execution_count": null,
      "metadata": {
        "id": "9qLG5YjxYdH8"
      },
      "outputs": [],
      "source": [
        "def euclidean_distance(a, b):\n",
        "\n",
        "    N, D = tf.shape(a)[0], tf.shape(a)[1]\n",
        "    M = tf.shape(b)[0]\n",
        "    a = tf.tile(tf.expand_dims(a, axis=1), (1, M, 1))\n",
        "    b = tf.tile(tf.expand_dims(b, axis=0), (N, 1, 1))\n",
        "    return tf.reduce_mean(tf.square(a - b), axis=2)"
      ]
    },
    {
      "cell_type": "code",
      "source": [
        "num_ways = [5, 5, 12, 12, 15]\n",
        "num_shots = [5, 1, 5, 1, 3]\n",
        "learning_rate = 0.001"
      ],
      "metadata": {
        "id": "3LF92B2Qf-2C"
      },
      "execution_count": null,
      "outputs": []
    },
    {
      "cell_type": "code",
      "execution_count": null,
      "metadata": {
        "colab": {
          "base_uri": "https://localhost:8080/"
        },
        "id": "Hm-NC26kYqEy",
        "outputId": "2060bf4d-5a77-4cd1-baeb-975ca291c913"
      },
      "outputs": [
        {
          "output_type": "stream",
          "name": "stderr",
          "text": [
            "WARNING:tensorflow:Compiled the loaded model, but the compiled metrics have yet to be built. `model.compile_metrics` will be empty until you train or evaluate the model.\n"
          ]
        },
        {
          "output_type": "stream",
          "name": "stdout",
          "text": [
            "Saving new best model with loss:  1.5771708\n",
            "Epoch 1, Loss: 1.5771708488464355, Accuracy: 28.799999237060547\n"
          ]
        },
        {
          "output_type": "stream",
          "name": "stderr",
          "text": [
            "WARNING:tensorflow:Compiled the loaded model, but the compiled metrics have yet to be built. `model.compile_metrics` will be empty until you train or evaluate the model.\n"
          ]
        },
        {
          "output_type": "stream",
          "name": "stdout",
          "text": [
            "Saving new best model with loss:  1.5636749\n",
            "Epoch 2, Loss: 1.5636749267578125, Accuracy: 31.199996948242188\n"
          ]
        },
        {
          "output_type": "stream",
          "name": "stderr",
          "text": [
            "WARNING:tensorflow:Compiled the loaded model, but the compiled metrics have yet to be built. `model.compile_metrics` will be empty until you train or evaluate the model.\n"
          ]
        },
        {
          "output_type": "stream",
          "name": "stdout",
          "text": [
            "Saving new best model with loss:  1.4854975\n",
            "Epoch 3, Loss: 1.4854974746704102, Accuracy: 36.83999252319336\n",
            "Epoch 4, Loss: 1.5001885890960693, Accuracy: 36.15999984741211\n"
          ]
        },
        {
          "output_type": "stream",
          "name": "stderr",
          "text": [
            "WARNING:tensorflow:Compiled the loaded model, but the compiled metrics have yet to be built. `model.compile_metrics` will be empty until you train or evaluate the model.\n"
          ]
        },
        {
          "output_type": "stream",
          "name": "stdout",
          "text": [
            "Saving new best model with loss:  1.4659817\n",
            "Epoch 5, Loss: 1.4659817218780518, Accuracy: 37.60000228881836\n"
          ]
        },
        {
          "output_type": "stream",
          "name": "stderr",
          "text": [
            "WARNING:tensorflow:Compiled the loaded model, but the compiled metrics have yet to be built. `model.compile_metrics` will be empty until you train or evaluate the model.\n"
          ]
        },
        {
          "output_type": "stream",
          "name": "stdout",
          "text": [
            "Saving new best model with loss:  1.4381263\n",
            "Epoch 6, Loss: 1.4381263256072998, Accuracy: 40.07999801635742\n",
            "Epoch 7, Loss: 1.4490398168563843, Accuracy: 38.91999816894531\n"
          ]
        },
        {
          "output_type": "stream",
          "name": "stderr",
          "text": [
            "WARNING:tensorflow:Compiled the loaded model, but the compiled metrics have yet to be built. `model.compile_metrics` will be empty until you train or evaluate the model.\n"
          ]
        },
        {
          "output_type": "stream",
          "name": "stdout",
          "text": [
            "Saving new best model with loss:  1.4235585\n",
            "Epoch 8, Loss: 1.4235584735870361, Accuracy: 40.44000244140625\n"
          ]
        },
        {
          "output_type": "stream",
          "name": "stderr",
          "text": [
            "WARNING:tensorflow:Compiled the loaded model, but the compiled metrics have yet to be built. `model.compile_metrics` will be empty until you train or evaluate the model.\n"
          ]
        },
        {
          "output_type": "stream",
          "name": "stdout",
          "text": [
            "Saving new best model with loss:  1.4004158\n",
            "Epoch 9, Loss: 1.4004157781600952, Accuracy: 41.79999542236328\n"
          ]
        },
        {
          "output_type": "stream",
          "name": "stderr",
          "text": [
            "WARNING:tensorflow:Compiled the loaded model, but the compiled metrics have yet to be built. `model.compile_metrics` will be empty until you train or evaluate the model.\n"
          ]
        },
        {
          "output_type": "stream",
          "name": "stdout",
          "text": [
            "Saving new best model with loss:  1.3871949\n",
            "Epoch 10, Loss: 1.3871948719024658, Accuracy: 42.91999816894531\n"
          ]
        },
        {
          "output_type": "stream",
          "name": "stderr",
          "text": [
            "WARNING:tensorflow:Compiled the loaded model, but the compiled metrics have yet to be built. `model.compile_metrics` will be empty until you train or evaluate the model.\n"
          ]
        },
        {
          "output_type": "stream",
          "name": "stdout",
          "text": [
            "Saving new best model with loss:  1.3576088\n",
            "Epoch 11, Loss: 1.3576087951660156, Accuracy: 45.36000061035156\n"
          ]
        },
        {
          "output_type": "stream",
          "name": "stderr",
          "text": [
            "WARNING:tensorflow:Compiled the loaded model, but the compiled metrics have yet to be built. `model.compile_metrics` will be empty until you train or evaluate the model.\n"
          ]
        },
        {
          "output_type": "stream",
          "name": "stdout",
          "text": [
            "Saving new best model with loss:  1.3452249\n",
            "Epoch 12, Loss: 1.3452248573303223, Accuracy: 45.7599983215332\n"
          ]
        },
        {
          "output_type": "stream",
          "name": "stderr",
          "text": [
            "WARNING:tensorflow:Compiled the loaded model, but the compiled metrics have yet to be built. `model.compile_metrics` will be empty until you train or evaluate the model.\n"
          ]
        },
        {
          "output_type": "stream",
          "name": "stdout",
          "text": [
            "Saving new best model with loss:  1.3250024\n",
            "Epoch 13, Loss: 1.3250024318695068, Accuracy: 46.639991760253906\n"
          ]
        },
        {
          "output_type": "stream",
          "name": "stderr",
          "text": [
            "WARNING:tensorflow:Compiled the loaded model, but the compiled metrics have yet to be built. `model.compile_metrics` will be empty until you train or evaluate the model.\n"
          ]
        },
        {
          "output_type": "stream",
          "name": "stdout",
          "text": [
            "Saving new best model with loss:  1.2981066\n",
            "Epoch 14, Loss: 1.2981065511703491, Accuracy: 48.79998016357422\n",
            "Epoch 15, Loss: 1.3200979232788086, Accuracy: 46.6400032043457\n",
            "Epoch 16, Loss: 1.3237720727920532, Accuracy: 46.999996185302734\n"
          ]
        },
        {
          "output_type": "stream",
          "name": "stderr",
          "text": [
            "WARNING:tensorflow:Compiled the loaded model, but the compiled metrics have yet to be built. `model.compile_metrics` will be empty until you train or evaluate the model.\n"
          ]
        },
        {
          "output_type": "stream",
          "name": "stdout",
          "text": [
            "Saving new best model with loss:  1.2646383\n",
            "Epoch 17, Loss: 1.2646383047103882, Accuracy: 48.76000213623047\n"
          ]
        },
        {
          "output_type": "stream",
          "name": "stderr",
          "text": [
            "WARNING:tensorflow:Compiled the loaded model, but the compiled metrics have yet to be built. `model.compile_metrics` will be empty until you train or evaluate the model.\n"
          ]
        },
        {
          "output_type": "stream",
          "name": "stdout",
          "text": [
            "Saving new best model with loss:  1.2595892\n",
            "Epoch 18, Loss: 1.2595891952514648, Accuracy: 50.12000274658203\n",
            "Epoch 19, Loss: 1.319313645362854, Accuracy: 45.95999526977539\n"
          ]
        },
        {
          "output_type": "stream",
          "name": "stderr",
          "text": [
            "WARNING:tensorflow:Compiled the loaded model, but the compiled metrics have yet to be built. `model.compile_metrics` will be empty until you train or evaluate the model.\n"
          ]
        },
        {
          "output_type": "stream",
          "name": "stdout",
          "text": [
            "Saving new best model with loss:  1.2411634\n",
            "Epoch 20, Loss: 1.2411633729934692, Accuracy: 50.19999313354492\n",
            "Epoch 21, Loss: 1.2952040433883667, Accuracy: 48.03998947143555\n"
          ]
        },
        {
          "output_type": "stream",
          "name": "stderr",
          "text": [
            "WARNING:tensorflow:Compiled the loaded model, but the compiled metrics have yet to be built. `model.compile_metrics` will be empty until you train or evaluate the model.\n"
          ]
        },
        {
          "output_type": "stream",
          "name": "stdout",
          "text": [
            "Saving new best model with loss:  1.2379062\n",
            "Epoch 22, Loss: 1.2379062175750732, Accuracy: 49.56000900268555\n"
          ]
        },
        {
          "output_type": "stream",
          "name": "stderr",
          "text": [
            "WARNING:tensorflow:Compiled the loaded model, but the compiled metrics have yet to be built. `model.compile_metrics` will be empty until you train or evaluate the model.\n"
          ]
        },
        {
          "output_type": "stream",
          "name": "stdout",
          "text": [
            "Saving new best model with loss:  1.2082813\n",
            "Epoch 23, Loss: 1.2082812786102295, Accuracy: 51.12000274658203\n",
            "Epoch 24, Loss: 1.2138543128967285, Accuracy: 51.160003662109375\n",
            "Epoch 25, Loss: 1.2356982231140137, Accuracy: 51.1199951171875\n"
          ]
        },
        {
          "output_type": "stream",
          "name": "stderr",
          "text": [
            "WARNING:tensorflow:Compiled the loaded model, but the compiled metrics have yet to be built. `model.compile_metrics` will be empty until you train or evaluate the model.\n"
          ]
        },
        {
          "output_type": "stream",
          "name": "stdout",
          "text": [
            "Saving new best model with loss:  1.1956093\n",
            "Epoch 26, Loss: 1.1956093311309814, Accuracy: 52.03999710083008\n"
          ]
        },
        {
          "output_type": "stream",
          "name": "stderr",
          "text": [
            "WARNING:tensorflow:Compiled the loaded model, but the compiled metrics have yet to be built. `model.compile_metrics` will be empty until you train or evaluate the model.\n"
          ]
        },
        {
          "output_type": "stream",
          "name": "stdout",
          "text": [
            "Saving new best model with loss:  1.1538676\n",
            "Epoch 27, Loss: 1.1538676023483276, Accuracy: 53.320003509521484\n",
            "Epoch 28, Loss: 1.2641675472259521, Accuracy: 49.99999237060547\n",
            "Epoch 29, Loss: 1.2285981178283691, Accuracy: 49.400001525878906\n",
            "Epoch 30, Loss: 1.2135998010635376, Accuracy: 52.55999755859375\n",
            "Epoch 31, Loss: 1.1720815896987915, Accuracy: 54.80000305175781\n"
          ]
        },
        {
          "output_type": "stream",
          "name": "stderr",
          "text": [
            "WARNING:tensorflow:Compiled the loaded model, but the compiled metrics have yet to be built. `model.compile_metrics` will be empty until you train or evaluate the model.\n"
          ]
        },
        {
          "output_type": "stream",
          "name": "stdout",
          "text": [
            "Saving new best model with loss:  1.1485614\n",
            "Epoch 32, Loss: 1.1485613584518433, Accuracy: 54.52000427246094\n",
            "Epoch 33, Loss: 1.1722967624664307, Accuracy: 52.72000503540039\n",
            "Epoch 34, Loss: 1.173271894454956, Accuracy: 53.52000427246094\n"
          ]
        },
        {
          "output_type": "stream",
          "name": "stderr",
          "text": [
            "WARNING:tensorflow:Compiled the loaded model, but the compiled metrics have yet to be built. `model.compile_metrics` will be empty until you train or evaluate the model.\n"
          ]
        },
        {
          "output_type": "stream",
          "name": "stdout",
          "text": [
            "Saving new best model with loss:  1.1379848\n",
            "Epoch 35, Loss: 1.1379847526550293, Accuracy: 55.239986419677734\n"
          ]
        },
        {
          "output_type": "stream",
          "name": "stderr",
          "text": [
            "WARNING:tensorflow:Compiled the loaded model, but the compiled metrics have yet to be built. `model.compile_metrics` will be empty until you train or evaluate the model.\n"
          ]
        },
        {
          "output_type": "stream",
          "name": "stdout",
          "text": [
            "Saving new best model with loss:  1.1329862\n",
            "Epoch 36, Loss: 1.1329861879348755, Accuracy: 54.28000259399414\n",
            "Epoch 37, Loss: 1.1690731048583984, Accuracy: 54.07999801635742\n",
            "Epoch 38, Loss: 1.1368672847747803, Accuracy: 54.8799934387207\n"
          ]
        },
        {
          "output_type": "stream",
          "name": "stderr",
          "text": [
            "WARNING:tensorflow:Compiled the loaded model, but the compiled metrics have yet to be built. `model.compile_metrics` will be empty until you train or evaluate the model.\n"
          ]
        },
        {
          "output_type": "stream",
          "name": "stdout",
          "text": [
            "Saving new best model with loss:  1.1312058\n",
            "Epoch 39, Loss: 1.1312057971954346, Accuracy: 55.19999313354492\n",
            "Epoch 40, Loss: 1.1373900175094604, Accuracy: 55.31999588012695\n"
          ]
        },
        {
          "output_type": "stream",
          "name": "stderr",
          "text": [
            "WARNING:tensorflow:Compiled the loaded model, but the compiled metrics have yet to be built. `model.compile_metrics` will be empty until you train or evaluate the model.\n"
          ]
        },
        {
          "output_type": "stream",
          "name": "stdout",
          "text": [
            "Saving new best model with loss:  1.1046267\n",
            "Epoch 41, Loss: 1.1046266555786133, Accuracy: 56.56000518798828\n",
            "Epoch 42, Loss: 1.1577792167663574, Accuracy: 54.400001525878906\n"
          ]
        },
        {
          "output_type": "stream",
          "name": "stderr",
          "text": [
            "WARNING:tensorflow:Compiled the loaded model, but the compiled metrics have yet to be built. `model.compile_metrics` will be empty until you train or evaluate the model.\n"
          ]
        },
        {
          "output_type": "stream",
          "name": "stdout",
          "text": [
            "Saving new best model with loss:  1.0791082\n",
            "Epoch 43, Loss: 1.0791082382202148, Accuracy: 59.40000534057617\n"
          ]
        },
        {
          "output_type": "stream",
          "name": "stderr",
          "text": [
            "WARNING:tensorflow:Compiled the loaded model, but the compiled metrics have yet to be built. `model.compile_metrics` will be empty until you train or evaluate the model.\n"
          ]
        },
        {
          "output_type": "stream",
          "name": "stdout",
          "text": [
            "Saving new best model with loss:  1.076345\n",
            "Epoch 44, Loss: 1.0763449668884277, Accuracy: 58.320003509521484\n"
          ]
        },
        {
          "output_type": "stream",
          "name": "stderr",
          "text": [
            "WARNING:tensorflow:Compiled the loaded model, but the compiled metrics have yet to be built. `model.compile_metrics` will be empty until you train or evaluate the model.\n"
          ]
        },
        {
          "output_type": "stream",
          "name": "stdout",
          "text": [
            "Saving new best model with loss:  1.0754584\n",
            "Epoch 45, Loss: 1.0754584074020386, Accuracy: 57.159976959228516\n",
            "Epoch 46, Loss: 1.0986441373825073, Accuracy: 56.51999282836914\n"
          ]
        },
        {
          "output_type": "stream",
          "name": "stderr",
          "text": [
            "WARNING:tensorflow:Compiled the loaded model, but the compiled metrics have yet to be built. `model.compile_metrics` will be empty until you train or evaluate the model.\n"
          ]
        },
        {
          "output_type": "stream",
          "name": "stdout",
          "text": [
            "Saving new best model with loss:  1.0666945\n",
            "Epoch 47, Loss: 1.0666944980621338, Accuracy: 58.47999954223633\n",
            "Epoch 48, Loss: 1.1268045902252197, Accuracy: 55.44000244140625\n",
            "Epoch 49, Loss: 1.1122058629989624, Accuracy: 55.51999282836914\n",
            "Epoch 50, Loss: 1.0717281103134155, Accuracy: 58.28000259399414\n",
            "Epoch 51, Loss: 1.070327877998352, Accuracy: 58.43999481201172\n"
          ]
        },
        {
          "output_type": "stream",
          "name": "stderr",
          "text": [
            "WARNING:tensorflow:Compiled the loaded model, but the compiled metrics have yet to be built. `model.compile_metrics` will be empty until you train or evaluate the model.\n"
          ]
        },
        {
          "output_type": "stream",
          "name": "stdout",
          "text": [
            "Saving new best model with loss:  1.052591\n",
            "Epoch 52, Loss: 1.0525909662246704, Accuracy: 59.559993743896484\n"
          ]
        },
        {
          "output_type": "stream",
          "name": "stderr",
          "text": [
            "WARNING:tensorflow:Compiled the loaded model, but the compiled metrics have yet to be built. `model.compile_metrics` will be empty until you train or evaluate the model.\n"
          ]
        },
        {
          "output_type": "stream",
          "name": "stdout",
          "text": [
            "Saving new best model with loss:  1.0412321\n",
            "Epoch 53, Loss: 1.0412321090698242, Accuracy: 60.03998947143555\n",
            "Epoch 54, Loss: 1.0517725944519043, Accuracy: 59.35999298095703\n",
            "Epoch 55, Loss: 1.0847290754318237, Accuracy: 57.23999786376953\n",
            "Epoch 56, Loss: 1.0630625486373901, Accuracy: 58.11998748779297\n",
            "Epoch 57, Loss: 1.0675091743469238, Accuracy: 58.03999328613281\n"
          ]
        },
        {
          "output_type": "stream",
          "name": "stderr",
          "text": [
            "WARNING:tensorflow:Compiled the loaded model, but the compiled metrics have yet to be built. `model.compile_metrics` will be empty until you train or evaluate the model.\n"
          ]
        },
        {
          "output_type": "stream",
          "name": "stdout",
          "text": [
            "Saving new best model with loss:  1.0406578\n",
            "Epoch 58, Loss: 1.0406577587127686, Accuracy: 59.75999069213867\n"
          ]
        },
        {
          "output_type": "stream",
          "name": "stderr",
          "text": [
            "WARNING:tensorflow:Compiled the loaded model, but the compiled metrics have yet to be built. `model.compile_metrics` will be empty until you train or evaluate the model.\n"
          ]
        },
        {
          "output_type": "stream",
          "name": "stdout",
          "text": [
            "Saving new best model with loss:  1.0377814\n",
            "Epoch 59, Loss: 1.0377813577651978, Accuracy: 59.399993896484375\n"
          ]
        },
        {
          "output_type": "stream",
          "name": "stderr",
          "text": [
            "WARNING:tensorflow:Compiled the loaded model, but the compiled metrics have yet to be built. `model.compile_metrics` will be empty until you train or evaluate the model.\n"
          ]
        },
        {
          "output_type": "stream",
          "name": "stdout",
          "text": [
            "Saving new best model with loss:  0.9899038\n",
            "Epoch 60, Loss: 0.9899038076400757, Accuracy: 62.480003356933594\n",
            "Epoch 61, Loss: 0.9996141791343689, Accuracy: 61.03998947143555\n",
            "Epoch 62, Loss: 1.0112392902374268, Accuracy: 60.560001373291016\n",
            "Epoch 63, Loss: 1.0320103168487549, Accuracy: 58.399986267089844\n"
          ]
        },
        {
          "output_type": "stream",
          "name": "stderr",
          "text": [
            "WARNING:tensorflow:Compiled the loaded model, but the compiled metrics have yet to be built. `model.compile_metrics` will be empty until you train or evaluate the model.\n"
          ]
        },
        {
          "output_type": "stream",
          "name": "stdout",
          "text": [
            "Saving new best model with loss:  0.9742333\n",
            "Epoch 64, Loss: 0.9742333292961121, Accuracy: 63.63999938964844\n",
            "Epoch 65, Loss: 0.9921983480453491, Accuracy: 61.08000183105469\n",
            "Epoch 66, Loss: 0.9894623756408691, Accuracy: 60.879974365234375\n",
            "Epoch 67, Loss: 1.016129493713379, Accuracy: 60.759986877441406\n",
            "Epoch 68, Loss: 0.9750820398330688, Accuracy: 63.040000915527344\n",
            "Epoch 69, Loss: 1.001162052154541, Accuracy: 62.59999084472656\n",
            "Epoch 70, Loss: 0.982649028301239, Accuracy: 62.03999328613281\n",
            "Epoch 71, Loss: 1.0062810182571411, Accuracy: 61.19999694824219\n"
          ]
        },
        {
          "output_type": "stream",
          "name": "stderr",
          "text": [
            "WARNING:tensorflow:Compiled the loaded model, but the compiled metrics have yet to be built. `model.compile_metrics` will be empty until you train or evaluate the model.\n"
          ]
        },
        {
          "output_type": "stream",
          "name": "stdout",
          "text": [
            "Saving new best model with loss:  0.9603002\n",
            "Epoch 72, Loss: 0.9603002071380615, Accuracy: 63.959991455078125\n",
            "Epoch 73, Loss: 0.980573296546936, Accuracy: 62.63998794555664\n",
            "Epoch 74, Loss: 0.9694926738739014, Accuracy: 61.95998764038086\n",
            "Epoch 75, Loss: 0.9975970387458801, Accuracy: 61.63999557495117\n",
            "Epoch 76, Loss: 0.9788296222686768, Accuracy: 61.56000518798828\n"
          ]
        },
        {
          "output_type": "stream",
          "name": "stderr",
          "text": [
            "WARNING:tensorflow:Compiled the loaded model, but the compiled metrics have yet to be built. `model.compile_metrics` will be empty until you train or evaluate the model.\n"
          ]
        },
        {
          "output_type": "stream",
          "name": "stdout",
          "text": [
            "Saving new best model with loss:  0.93897897\n",
            "Epoch 77, Loss: 0.9389789700508118, Accuracy: 64.75999450683594\n",
            "Epoch 78, Loss: 0.9867912530899048, Accuracy: 61.599998474121094\n",
            "Epoch 79, Loss: 0.9933105707168579, Accuracy: 61.36000061035156\n",
            "Epoch 80, Loss: 0.9600851535797119, Accuracy: 62.44000244140625\n"
          ]
        }
      ],
      "source": [
        "#number of classes\n",
        "num_way = num_ways[0] \n",
        "\n",
        "#number of examples per class for support set\n",
        "num_shot = num_shots[0]  \n",
        "\n",
        "#number of query points\n",
        "num_query = num_shots[0] \n",
        "\n",
        "train_loss = tf.metrics.Mean(name='train_loss')\n",
        "train_acc = tf.metrics.Mean(name='train_accuracy')\n",
        "#support = np.zeros([num_way, num_shot, img_height, img_width, 1], dtype=np.float32)\n",
        "#query = np.zeros([num_way, num_query, img_height, img_width, 1], dtype=np.float32)\n",
        "model = Prototypical(support, query, 84, 84, 3)\n",
        "optimizer = tf.keras.optimizers.Adam(0.001)\n",
        "\n",
        "num_epochs = 80\n",
        "num_episodes = 100\n",
        "save_path = \"./results/models/mini_train0.h5\"\n",
        "\n",
        "@tf.function\n",
        "def loss(support, query):\n",
        "  loss, acc = model(support, query)\n",
        "  return loss, acc\n",
        "\n",
        "@tf.function\n",
        "def train_step(support, query):\n",
        "  with tf.GradientTape() as tape:\n",
        "    loss, acc = model(support, query)\n",
        "  gradients = tape.gradient(loss, model.trainable_variables)\n",
        "  optimizer.apply_gradients(\n",
        "        zip(gradients, model.trainable_variables))\n",
        "  train_loss(loss)\n",
        "  train_acc(acc)\n",
        "\n",
        "@tf.function\n",
        "def val_step(loss_func, support, query):\n",
        "  loss, acc = loss_func(support, query)\n",
        "  val_loss(loss)\n",
        "  val_acc(acc)\n",
        "\n",
        "least_loss = {'least_loss': 100.00}\n",
        "\n",
        "for epoch in range(num_epochs):\n",
        "  train_loss.reset_states()\n",
        "  train_acc.reset_states()\n",
        "\n",
        "  for episode in range(num_episodes):\n",
        "    train_support, train_query = get_next_batch(train_images, train_classes, num_way, num_shot, num_query)\n",
        "    train_step(train_support, train_query)\n",
        "\n",
        "  cur_loss = train_loss.result().numpy()\n",
        "  if cur_loss < least_loss['least_loss']:\n",
        "      print(\"Saving new best model with loss: \", cur_loss)\n",
        "      least_loss['least_loss'] = cur_loss\n",
        "      model.save(save_path)\n",
        "  template = 'Epoch {}, Loss: {}, Accuracy: {}'\n",
        "  print(template.format(epoch + 1, train_loss.result(), train_acc.result() * 100))"
      ]
    },
    {
      "cell_type": "code",
      "source": [
        "#number of classes\n",
        "num_way = num_ways[1] \n",
        "\n",
        "#number of examples per class for support set\n",
        "num_shot = num_shots[1]  \n",
        "\n",
        "#number of query points\n",
        "num_query = num_shots[1] \n",
        "\n",
        "train_loss = tf.metrics.Mean(name='train_loss')\n",
        "train_acc = tf.metrics.Mean(name='train_accuracy')\n",
        "#support = np.zeros([num_way, num_shot, img_height, img_width, 1], dtype=np.float32)\n",
        "#query = np.zeros([num_way, num_query, img_height, img_width, 1], dtype=np.float32)\n",
        "model = Prototypical(support, query, 84, 84, 3)\n",
        "optimizer = tf.keras.optimizers.Adam(0.001)\n",
        "\n",
        "num_epochs = 80\n",
        "num_episodes = 100\n",
        "save_path = \"./results/models/mini_train1.h5\"\n",
        "\n",
        "@tf.function\n",
        "def loss(support, query):\n",
        "  loss, acc = model(support, query)\n",
        "  return loss, acc\n",
        "\n",
        "@tf.function\n",
        "def train_step(support, query):\n",
        "  with tf.GradientTape() as tape:\n",
        "    loss, acc = model(support, query)\n",
        "  gradients = tape.gradient(loss, model.trainable_variables)\n",
        "  optimizer.apply_gradients(\n",
        "        zip(gradients, model.trainable_variables))\n",
        "  train_loss(loss)\n",
        "  train_acc(acc)\n",
        "\n",
        "@tf.function\n",
        "def val_step(loss_func, support, query):\n",
        "  loss, acc = loss_func(support, query)\n",
        "  val_loss(loss)\n",
        "  val_acc(acc)\n",
        "\n",
        "least_loss = {'least_loss': 100.00}\n",
        "\n",
        "for epoch in range(num_epochs):\n",
        "  train_loss.reset_states()\n",
        "  train_acc.reset_states()\n",
        "\n",
        "  for episode in range(num_episodes):\n",
        "    train_support, train_query = get_next_batch(train_images, train_classes, num_way, num_shot, num_query)\n",
        "    train_step(train_support, train_query)\n",
        "\n",
        "  cur_loss = train_loss.result().numpy()\n",
        "  if cur_loss < least_loss['least_loss']:\n",
        "      print(\"Saving new best model with loss: \", cur_loss)\n",
        "      least_loss['least_loss'] = cur_loss\n",
        "      model.save(save_path)\n",
        "  template = 'Epoch {}, Loss: {}, Accuracy: {}'\n",
        "  print(template.format(epoch + 1, train_loss.result(), train_acc.result() * 100))"
      ],
      "metadata": {
        "colab": {
          "base_uri": "https://localhost:8080/"
        },
        "id": "WRfjsbCEj1KY",
        "outputId": "350fe399-d903-4a98-f2cb-49b0f3173e95"
      },
      "execution_count": null,
      "outputs": [
        {
          "output_type": "stream",
          "name": "stderr",
          "text": [
            "WARNING:tensorflow:Compiled the loaded model, but the compiled metrics have yet to be built. `model.compile_metrics` will be empty until you train or evaluate the model.\n"
          ]
        },
        {
          "output_type": "stream",
          "name": "stdout",
          "text": [
            "Saving new best model with loss:  1.6099565\n",
            "Epoch 1, Loss: 1.6099565029144287, Accuracy: 23.40000343322754\n"
          ]
        },
        {
          "output_type": "stream",
          "name": "stderr",
          "text": [
            "WARNING:tensorflow:Compiled the loaded model, but the compiled metrics have yet to be built. `model.compile_metrics` will be empty until you train or evaluate the model.\n"
          ]
        },
        {
          "output_type": "stream",
          "name": "stdout",
          "text": [
            "Saving new best model with loss:  1.5884094\n",
            "Epoch 2, Loss: 1.588409423828125, Accuracy: 28.0\n",
            "Epoch 3, Loss: 1.5884819030761719, Accuracy: 30.400007247924805\n",
            "Epoch 4, Loss: 1.6068271398544312, Accuracy: 28.40000343322754\n",
            "Epoch 5, Loss: 1.6003265380859375, Accuracy: 26.20000457763672\n"
          ]
        },
        {
          "output_type": "stream",
          "name": "stderr",
          "text": [
            "WARNING:tensorflow:Compiled the loaded model, but the compiled metrics have yet to be built. `model.compile_metrics` will be empty until you train or evaluate the model.\n"
          ]
        },
        {
          "output_type": "stream",
          "name": "stdout",
          "text": [
            "Saving new best model with loss:  1.5852878\n",
            "Epoch 6, Loss: 1.5852878093719482, Accuracy: 31.000003814697266\n",
            "Epoch 7, Loss: 1.5877221822738647, Accuracy: 25.199996948242188\n"
          ]
        },
        {
          "output_type": "stream",
          "name": "stderr",
          "text": [
            "WARNING:tensorflow:Compiled the loaded model, but the compiled metrics have yet to be built. `model.compile_metrics` will be empty until you train or evaluate the model.\n"
          ]
        },
        {
          "output_type": "stream",
          "name": "stdout",
          "text": [
            "Saving new best model with loss:  1.5786854\n",
            "Epoch 8, Loss: 1.5786854028701782, Accuracy: 26.600000381469727\n"
          ]
        },
        {
          "output_type": "stream",
          "name": "stderr",
          "text": [
            "WARNING:tensorflow:Compiled the loaded model, but the compiled metrics have yet to be built. `model.compile_metrics` will be empty until you train or evaluate the model.\n"
          ]
        },
        {
          "output_type": "stream",
          "name": "stdout",
          "text": [
            "Saving new best model with loss:  1.561621\n",
            "Epoch 9, Loss: 1.5616209506988525, Accuracy: 28.800006866455078\n",
            "Epoch 10, Loss: 1.5841656923294067, Accuracy: 23.399999618530273\n",
            "Epoch 11, Loss: 1.57252836227417, Accuracy: 26.20000457763672\n",
            "Epoch 12, Loss: 1.5900224447250366, Accuracy: 25.199996948242188\n",
            "Epoch 13, Loss: 1.580019474029541, Accuracy: 28.400009155273438\n",
            "Epoch 14, Loss: 1.578354835510254, Accuracy: 27.799999237060547\n",
            "Epoch 15, Loss: 1.5850651264190674, Accuracy: 27.600006103515625\n",
            "Epoch 16, Loss: 1.598517656326294, Accuracy: 26.20000457763672\n",
            "Epoch 17, Loss: 1.5856521129608154, Accuracy: 26.40001106262207\n",
            "Epoch 18, Loss: 1.5853463411331177, Accuracy: 27.800010681152344\n",
            "Epoch 19, Loss: 1.5725406408309937, Accuracy: 28.800010681152344\n",
            "Epoch 20, Loss: 1.572293996810913, Accuracy: 26.199996948242188\n",
            "Epoch 21, Loss: 1.5837242603302002, Accuracy: 28.200010299682617\n",
            "Epoch 22, Loss: 1.5830588340759277, Accuracy: 25.40000343322754\n",
            "Epoch 23, Loss: 1.5708657503128052, Accuracy: 27.800003051757812\n",
            "Epoch 24, Loss: 1.570054531097412, Accuracy: 31.600013732910156\n",
            "Epoch 25, Loss: 1.5716805458068848, Accuracy: 27.60000228881836\n"
          ]
        },
        {
          "output_type": "stream",
          "name": "stderr",
          "text": [
            "WARNING:tensorflow:Compiled the loaded model, but the compiled metrics have yet to be built. `model.compile_metrics` will be empty until you train or evaluate the model.\n"
          ]
        },
        {
          "output_type": "stream",
          "name": "stdout",
          "text": [
            "Saving new best model with loss:  1.5413572\n",
            "Epoch 26, Loss: 1.541357159614563, Accuracy: 30.400012969970703\n",
            "Epoch 27, Loss: 1.5715500116348267, Accuracy: 29.600006103515625\n",
            "Epoch 28, Loss: 1.5847645998001099, Accuracy: 29.800003051757812\n",
            "Epoch 29, Loss: 1.5608972311019897, Accuracy: 28.40000343322754\n",
            "Epoch 30, Loss: 1.5638450384140015, Accuracy: 28.60000228881836\n",
            "Epoch 31, Loss: 1.5655815601348877, Accuracy: 30.19999885559082\n",
            "Epoch 32, Loss: 1.5759505033493042, Accuracy: 28.000009536743164\n",
            "Epoch 33, Loss: 1.5447250604629517, Accuracy: 29.0000057220459\n",
            "Epoch 34, Loss: 1.5692585706710815, Accuracy: 28.80000114440918\n",
            "Epoch 35, Loss: 1.5772758722305298, Accuracy: 30.600006103515625\n",
            "Epoch 36, Loss: 1.5737237930297852, Accuracy: 29.0\n",
            "Epoch 37, Loss: 1.5733580589294434, Accuracy: 28.20000648498535\n",
            "Epoch 38, Loss: 1.570916771888733, Accuracy: 25.600008010864258\n",
            "Epoch 39, Loss: 1.569237470626831, Accuracy: 29.600004196166992\n",
            "Epoch 40, Loss: 1.5595173835754395, Accuracy: 28.800004959106445\n",
            "Epoch 41, Loss: 1.5752230882644653, Accuracy: 31.0\n",
            "Epoch 42, Loss: 1.564651608467102, Accuracy: 29.40000343322754\n",
            "Epoch 43, Loss: 1.5550848245620728, Accuracy: 29.00000762939453\n",
            "Epoch 44, Loss: 1.554309368133545, Accuracy: 29.40000343322754\n",
            "Epoch 45, Loss: 1.5529507398605347, Accuracy: 29.40000343322754\n",
            "Epoch 46, Loss: 1.5582726001739502, Accuracy: 33.800010681152344\n"
          ]
        },
        {
          "output_type": "stream",
          "name": "stderr",
          "text": [
            "WARNING:tensorflow:Compiled the loaded model, but the compiled metrics have yet to be built. `model.compile_metrics` will be empty until you train or evaluate the model.\n"
          ]
        },
        {
          "output_type": "stream",
          "name": "stdout",
          "text": [
            "Saving new best model with loss:  1.5372739\n",
            "Epoch 47, Loss: 1.53727388381958, Accuracy: 28.800006866455078\n",
            "Epoch 48, Loss: 1.5611217021942139, Accuracy: 29.800010681152344\n",
            "Epoch 49, Loss: 1.5398160219192505, Accuracy: 31.800006866455078\n",
            "Epoch 50, Loss: 1.5633262395858765, Accuracy: 28.600008010864258\n",
            "Epoch 51, Loss: 1.5669976472854614, Accuracy: 29.000001907348633\n",
            "Epoch 52, Loss: 1.545276165008545, Accuracy: 29.0000057220459\n",
            "Epoch 53, Loss: 1.603706955909729, Accuracy: 25.599994659423828\n",
            "Epoch 54, Loss: 1.5763063430786133, Accuracy: 28.800004959106445\n",
            "Epoch 55, Loss: 1.5726959705352783, Accuracy: 27.9999942779541\n",
            "Epoch 56, Loss: 1.5499544143676758, Accuracy: 30.000001907348633\n",
            "Epoch 57, Loss: 1.5659979581832886, Accuracy: 30.800003051757812\n",
            "Epoch 58, Loss: 1.557924747467041, Accuracy: 31.0000057220459\n",
            "Epoch 59, Loss: 1.5626367330551147, Accuracy: 28.800006866455078\n",
            "Epoch 60, Loss: 1.5686346292495728, Accuracy: 26.600006103515625\n",
            "Epoch 61, Loss: 1.5784516334533691, Accuracy: 28.200010299682617\n",
            "Epoch 62, Loss: 1.5874238014221191, Accuracy: 29.600006103515625\n",
            "Epoch 63, Loss: 1.5759292840957642, Accuracy: 27.600008010864258\n",
            "Epoch 64, Loss: 1.5589343309402466, Accuracy: 30.600006103515625\n",
            "Epoch 65, Loss: 1.567170262336731, Accuracy: 29.800003051757812\n",
            "Epoch 66, Loss: 1.5664143562316895, Accuracy: 27.799999237060547\n",
            "Epoch 67, Loss: 1.5466476678848267, Accuracy: 33.599998474121094\n",
            "Epoch 68, Loss: 1.564277172088623, Accuracy: 29.200002670288086\n",
            "Epoch 69, Loss: 1.5547120571136475, Accuracy: 30.00000762939453\n",
            "Epoch 70, Loss: 1.5460565090179443, Accuracy: 31.000003814697266\n"
          ]
        },
        {
          "output_type": "stream",
          "name": "stderr",
          "text": [
            "WARNING:tensorflow:Compiled the loaded model, but the compiled metrics have yet to be built. `model.compile_metrics` will be empty until you train or evaluate the model.\n"
          ]
        },
        {
          "output_type": "stream",
          "name": "stdout",
          "text": [
            "Saving new best model with loss:  1.5264273\n",
            "Epoch 71, Loss: 1.5264272689819336, Accuracy: 32.800010681152344\n",
            "Epoch 72, Loss: 1.5631486177444458, Accuracy: 27.000009536743164\n",
            "Epoch 73, Loss: 1.5475810766220093, Accuracy: 30.20000457763672\n",
            "Epoch 74, Loss: 1.5613690614700317, Accuracy: 28.599994659423828\n",
            "Epoch 75, Loss: 1.5507497787475586, Accuracy: 31.799999237060547\n",
            "Epoch 76, Loss: 1.5647201538085938, Accuracy: 23.400001525878906\n",
            "Epoch 77, Loss: 1.5469223260879517, Accuracy: 29.0000057220459\n",
            "Epoch 78, Loss: 1.535292625427246, Accuracy: 33.600006103515625\n",
            "Epoch 79, Loss: 1.5534740686416626, Accuracy: 31.400009155273438\n",
            "Epoch 80, Loss: 1.538681983947754, Accuracy: 29.600004196166992\n"
          ]
        }
      ]
    },
    {
      "cell_type": "code",
      "source": [
        "#number of classes\n",
        "num_way = num_ways[2] \n",
        "\n",
        "#number of examples per class for support set\n",
        "num_shot = num_shots[2]  \n",
        "\n",
        "#number of query points\n",
        "num_query = num_shots[2] \n",
        "\n",
        "train_loss = tf.metrics.Mean(name='train_loss')\n",
        "train_acc = tf.metrics.Mean(name='train_accuracy')\n",
        "#support = np.zeros([num_way, num_shot, img_height, img_width, 1], dtype=np.float32)\n",
        "#query = np.zeros([num_way, num_query, img_height, img_width, 1], dtype=np.float32)\n",
        "model = Prototypical(support, query, 84, 84, 3)\n",
        "optimizer = tf.keras.optimizers.Adam(0.001)\n",
        "\n",
        "num_epochs = 80\n",
        "num_episodes = 100\n",
        "save_path = \"./results/models/mini_train2.h5\"\n",
        "\n",
        "@tf.function\n",
        "def loss(support, query):\n",
        "  loss, acc = model(support, query)\n",
        "  return loss, acc\n",
        "\n",
        "@tf.function\n",
        "def train_step(support, query):\n",
        "  with tf.GradientTape() as tape:\n",
        "    loss, acc = model(support, query)\n",
        "  gradients = tape.gradient(loss, model.trainable_variables)\n",
        "  optimizer.apply_gradients(\n",
        "        zip(gradients, model.trainable_variables))\n",
        "  train_loss(loss)\n",
        "  train_acc(acc)\n",
        "\n",
        "@tf.function\n",
        "def val_step(loss_func, support, query):\n",
        "  loss, acc = loss_func(support, query)\n",
        "  val_loss(loss)\n",
        "  val_acc(acc)\n",
        "\n",
        "least_loss = {'least_loss': 100.00}\n",
        "\n",
        "for epoch in range(num_epochs):\n",
        "  train_loss.reset_states()\n",
        "  train_acc.reset_states()\n",
        "\n",
        "  for episode in range(num_episodes):\n",
        "    train_support, train_query = get_next_batch(train_images, train_classes, num_way, num_shot, num_query)\n",
        "    train_step(train_support, train_query)\n",
        "\n",
        "  cur_loss = train_loss.result().numpy()\n",
        "  if cur_loss < least_loss['least_loss']:\n",
        "      print(\"Saving new best model with loss: \", cur_loss)\n",
        "      least_loss['least_loss'] = cur_loss\n",
        "      model.save(save_path)\n",
        "  template = 'Epoch {}, Loss: {}, Accuracy: {}'\n",
        "  print(template.format(epoch + 1, train_loss.result(), train_acc.result() * 100))"
      ],
      "metadata": {
        "colab": {
          "base_uri": "https://localhost:8080/"
        },
        "id": "FzDd3CZrj1pn",
        "outputId": "13161cc7-99b0-4a75-f668-682bd5fc32bd"
      },
      "execution_count": null,
      "outputs": [
        {
          "output_type": "stream",
          "name": "stderr",
          "text": [
            "WARNING:tensorflow:Compiled the loaded model, but the compiled metrics have yet to be built. `model.compile_metrics` will be empty until you train or evaluate the model.\n"
          ]
        },
        {
          "output_type": "stream",
          "name": "stdout",
          "text": [
            "Saving new best model with loss:  2.3519633\n",
            "Epoch 1, Loss: 2.3519632816314697, Accuracy: 19.449995040893555\n"
          ]
        },
        {
          "output_type": "stream",
          "name": "stderr",
          "text": [
            "WARNING:tensorflow:Compiled the loaded model, but the compiled metrics have yet to be built. `model.compile_metrics` will be empty until you train or evaluate the model.\n"
          ]
        },
        {
          "output_type": "stream",
          "name": "stdout",
          "text": [
            "Saving new best model with loss:  2.2870207\n",
            "Epoch 2, Loss: 2.287020683288574, Accuracy: 22.69999885559082\n"
          ]
        },
        {
          "output_type": "stream",
          "name": "stderr",
          "text": [
            "WARNING:tensorflow:Compiled the loaded model, but the compiled metrics have yet to be built. `model.compile_metrics` will be empty until you train or evaluate the model.\n"
          ]
        },
        {
          "output_type": "stream",
          "name": "stdout",
          "text": [
            "Saving new best model with loss:  2.2113802\n",
            "Epoch 3, Loss: 2.2113802433013916, Accuracy: 25.73333740234375\n"
          ]
        },
        {
          "output_type": "stream",
          "name": "stderr",
          "text": [
            "WARNING:tensorflow:Compiled the loaded model, but the compiled metrics have yet to be built. `model.compile_metrics` will be empty until you train or evaluate the model.\n"
          ]
        },
        {
          "output_type": "stream",
          "name": "stdout",
          "text": [
            "Saving new best model with loss:  2.164315\n",
            "Epoch 4, Loss: 2.1643149852752686, Accuracy: 26.116666793823242\n"
          ]
        },
        {
          "output_type": "stream",
          "name": "stderr",
          "text": [
            "WARNING:tensorflow:Compiled the loaded model, but the compiled metrics have yet to be built. `model.compile_metrics` will be empty until you train or evaluate the model.\n"
          ]
        },
        {
          "output_type": "stream",
          "name": "stdout",
          "text": [
            "Saving new best model with loss:  2.1611738\n",
            "Epoch 5, Loss: 2.1611738204956055, Accuracy: 28.083335876464844\n"
          ]
        },
        {
          "output_type": "stream",
          "name": "stderr",
          "text": [
            "WARNING:tensorflow:Compiled the loaded model, but the compiled metrics have yet to be built. `model.compile_metrics` will be empty until you train or evaluate the model.\n"
          ]
        },
        {
          "output_type": "stream",
          "name": "stdout",
          "text": [
            "Saving new best model with loss:  2.1429703\n",
            "Epoch 6, Loss: 2.142970323562622, Accuracy: 28.4666690826416\n"
          ]
        },
        {
          "output_type": "stream",
          "name": "stderr",
          "text": [
            "WARNING:tensorflow:Compiled the loaded model, but the compiled metrics have yet to be built. `model.compile_metrics` will be empty until you train or evaluate the model.\n"
          ]
        },
        {
          "output_type": "stream",
          "name": "stdout",
          "text": [
            "Saving new best model with loss:  2.1133432\n",
            "Epoch 7, Loss: 2.1133432388305664, Accuracy: 29.86667251586914\n"
          ]
        },
        {
          "output_type": "stream",
          "name": "stderr",
          "text": [
            "WARNING:tensorflow:Compiled the loaded model, but the compiled metrics have yet to be built. `model.compile_metrics` will be empty until you train or evaluate the model.\n"
          ]
        },
        {
          "output_type": "stream",
          "name": "stdout",
          "text": [
            "Saving new best model with loss:  2.0458179\n",
            "Epoch 8, Loss: 2.0458178520202637, Accuracy: 31.55000877380371\n",
            "Epoch 9, Loss: 2.058263063430786, Accuracy: 31.13333511352539\n"
          ]
        },
        {
          "output_type": "stream",
          "name": "stderr",
          "text": [
            "WARNING:tensorflow:Compiled the loaded model, but the compiled metrics have yet to be built. `model.compile_metrics` will be empty until you train or evaluate the model.\n"
          ]
        },
        {
          "output_type": "stream",
          "name": "stdout",
          "text": [
            "Saving new best model with loss:  2.0051713\n",
            "Epoch 10, Loss: 2.005171298980713, Accuracy: 33.05000686645508\n"
          ]
        },
        {
          "output_type": "stream",
          "name": "stderr",
          "text": [
            "WARNING:tensorflow:Compiled the loaded model, but the compiled metrics have yet to be built. `model.compile_metrics` will be empty until you train or evaluate the model.\n"
          ]
        },
        {
          "output_type": "stream",
          "name": "stdout",
          "text": [
            "Saving new best model with loss:  1.9619235\n",
            "Epoch 11, Loss: 1.9619234800338745, Accuracy: 35.38332748413086\n",
            "Epoch 12, Loss: 1.998097538948059, Accuracy: 33.40000534057617\n"
          ]
        },
        {
          "output_type": "stream",
          "name": "stderr",
          "text": [
            "WARNING:tensorflow:Compiled the loaded model, but the compiled metrics have yet to be built. `model.compile_metrics` will be empty until you train or evaluate the model.\n"
          ]
        },
        {
          "output_type": "stream",
          "name": "stdout",
          "text": [
            "Saving new best model with loss:  1.919438\n",
            "Epoch 13, Loss: 1.9194380044937134, Accuracy: 36.31666564941406\n",
            "Epoch 14, Loss: 1.9378869533538818, Accuracy: 35.31666564941406\n"
          ]
        },
        {
          "output_type": "stream",
          "name": "stderr",
          "text": [
            "WARNING:tensorflow:Compiled the loaded model, but the compiled metrics have yet to be built. `model.compile_metrics` will be empty until you train or evaluate the model.\n"
          ]
        },
        {
          "output_type": "stream",
          "name": "stdout",
          "text": [
            "Saving new best model with loss:  1.8961043\n",
            "Epoch 15, Loss: 1.896104335784912, Accuracy: 36.39999771118164\n"
          ]
        },
        {
          "output_type": "stream",
          "name": "stderr",
          "text": [
            "WARNING:tensorflow:Compiled the loaded model, but the compiled metrics have yet to be built. `model.compile_metrics` will be empty until you train or evaluate the model.\n"
          ]
        },
        {
          "output_type": "stream",
          "name": "stdout",
          "text": [
            "Saving new best model with loss:  1.8758448\n",
            "Epoch 16, Loss: 1.8758448362350464, Accuracy: 38.09999084472656\n"
          ]
        },
        {
          "output_type": "stream",
          "name": "stderr",
          "text": [
            "WARNING:tensorflow:Compiled the loaded model, but the compiled metrics have yet to be built. `model.compile_metrics` will be empty until you train or evaluate the model.\n"
          ]
        },
        {
          "output_type": "stream",
          "name": "stdout",
          "text": [
            "Saving new best model with loss:  1.8714359\n",
            "Epoch 17, Loss: 1.8714358806610107, Accuracy: 37.93333053588867\n"
          ]
        },
        {
          "output_type": "stream",
          "name": "stderr",
          "text": [
            "WARNING:tensorflow:Compiled the loaded model, but the compiled metrics have yet to be built. `model.compile_metrics` will be empty until you train or evaluate the model.\n"
          ]
        },
        {
          "output_type": "stream",
          "name": "stdout",
          "text": [
            "Saving new best model with loss:  1.8337843\n",
            "Epoch 18, Loss: 1.8337843418121338, Accuracy: 39.383331298828125\n"
          ]
        },
        {
          "output_type": "stream",
          "name": "stderr",
          "text": [
            "WARNING:tensorflow:Compiled the loaded model, but the compiled metrics have yet to be built. `model.compile_metrics` will be empty until you train or evaluate the model.\n"
          ]
        },
        {
          "output_type": "stream",
          "name": "stdout",
          "text": [
            "Saving new best model with loss:  1.8106047\n",
            "Epoch 19, Loss: 1.8106046915054321, Accuracy: 40.13333511352539\n",
            "Epoch 20, Loss: 1.846575140953064, Accuracy: 37.78333282470703\n"
          ]
        },
        {
          "output_type": "stream",
          "name": "stderr",
          "text": [
            "WARNING:tensorflow:Compiled the loaded model, but the compiled metrics have yet to be built. `model.compile_metrics` will be empty until you train or evaluate the model.\n"
          ]
        },
        {
          "output_type": "stream",
          "name": "stdout",
          "text": [
            "Saving new best model with loss:  1.7761438\n",
            "Epoch 21, Loss: 1.7761437892913818, Accuracy: 41.249996185302734\n",
            "Epoch 22, Loss: 1.7828123569488525, Accuracy: 40.7833366394043\n"
          ]
        },
        {
          "output_type": "stream",
          "name": "stderr",
          "text": [
            "WARNING:tensorflow:Compiled the loaded model, but the compiled metrics have yet to be built. `model.compile_metrics` will be empty until you train or evaluate the model.\n"
          ]
        },
        {
          "output_type": "stream",
          "name": "stdout",
          "text": [
            "Saving new best model with loss:  1.7539194\n",
            "Epoch 23, Loss: 1.7539193630218506, Accuracy: 41.7166633605957\n"
          ]
        },
        {
          "output_type": "stream",
          "name": "stderr",
          "text": [
            "WARNING:tensorflow:Compiled the loaded model, but the compiled metrics have yet to be built. `model.compile_metrics` will be empty until you train or evaluate the model.\n"
          ]
        },
        {
          "output_type": "stream",
          "name": "stdout",
          "text": [
            "Saving new best model with loss:  1.723501\n",
            "Epoch 24, Loss: 1.7235009670257568, Accuracy: 42.91667938232422\n",
            "Epoch 25, Loss: 1.7463494539260864, Accuracy: 42.150001525878906\n",
            "Epoch 26, Loss: 1.763850450515747, Accuracy: 41.266666412353516\n"
          ]
        },
        {
          "output_type": "stream",
          "name": "stderr",
          "text": [
            "WARNING:tensorflow:Compiled the loaded model, but the compiled metrics have yet to be built. `model.compile_metrics` will be empty until you train or evaluate the model.\n"
          ]
        },
        {
          "output_type": "stream",
          "name": "stdout",
          "text": [
            "Saving new best model with loss:  1.7093161\n",
            "Epoch 27, Loss: 1.7093161344528198, Accuracy: 43.200008392333984\n",
            "Epoch 28, Loss: 1.7262781858444214, Accuracy: 42.849998474121094\n"
          ]
        },
        {
          "output_type": "stream",
          "name": "stderr",
          "text": [
            "WARNING:tensorflow:Compiled the loaded model, but the compiled metrics have yet to be built. `model.compile_metrics` will be empty until you train or evaluate the model.\n"
          ]
        },
        {
          "output_type": "stream",
          "name": "stdout",
          "text": [
            "Saving new best model with loss:  1.6953669\n",
            "Epoch 29, Loss: 1.6953668594360352, Accuracy: 43.750003814697266\n"
          ]
        },
        {
          "output_type": "stream",
          "name": "stderr",
          "text": [
            "WARNING:tensorflow:Compiled the loaded model, but the compiled metrics have yet to be built. `model.compile_metrics` will be empty until you train or evaluate the model.\n"
          ]
        },
        {
          "output_type": "stream",
          "name": "stdout",
          "text": [
            "Saving new best model with loss:  1.6898004\n",
            "Epoch 30, Loss: 1.6898003816604614, Accuracy: 42.650001525878906\n"
          ]
        },
        {
          "output_type": "stream",
          "name": "stderr",
          "text": [
            "WARNING:tensorflow:Compiled the loaded model, but the compiled metrics have yet to be built. `model.compile_metrics` will be empty until you train or evaluate the model.\n"
          ]
        },
        {
          "output_type": "stream",
          "name": "stdout",
          "text": [
            "Saving new best model with loss:  1.6327777\n",
            "Epoch 31, Loss: 1.6327776908874512, Accuracy: 45.50001525878906\n",
            "Epoch 32, Loss: 1.653596043586731, Accuracy: 44.9000129699707\n",
            "Epoch 33, Loss: 1.6584365367889404, Accuracy: 44.76667785644531\n",
            "Epoch 34, Loss: 1.6433181762695312, Accuracy: 45.54999923706055\n"
          ]
        },
        {
          "output_type": "stream",
          "name": "stderr",
          "text": [
            "WARNING:tensorflow:Compiled the loaded model, but the compiled metrics have yet to be built. `model.compile_metrics` will be empty until you train or evaluate the model.\n"
          ]
        },
        {
          "output_type": "stream",
          "name": "stdout",
          "text": [
            "Saving new best model with loss:  1.6030083\n",
            "Epoch 35, Loss: 1.6030082702636719, Accuracy: 46.499996185302734\n",
            "Epoch 36, Loss: 1.6235772371292114, Accuracy: 46.4666748046875\n"
          ]
        },
        {
          "output_type": "stream",
          "name": "stderr",
          "text": [
            "WARNING:tensorflow:Compiled the loaded model, but the compiled metrics have yet to be built. `model.compile_metrics` will be empty until you train or evaluate the model.\n"
          ]
        },
        {
          "output_type": "stream",
          "name": "stdout",
          "text": [
            "Saving new best model with loss:  1.5976502\n",
            "Epoch 37, Loss: 1.597650170326233, Accuracy: 47.31666564941406\n"
          ]
        },
        {
          "output_type": "stream",
          "name": "stderr",
          "text": [
            "WARNING:tensorflow:Compiled the loaded model, but the compiled metrics have yet to be built. `model.compile_metrics` will be empty until you train or evaluate the model.\n"
          ]
        },
        {
          "output_type": "stream",
          "name": "stdout",
          "text": [
            "Saving new best model with loss:  1.5901524\n",
            "Epoch 38, Loss: 1.590152382850647, Accuracy: 47.94999694824219\n",
            "Epoch 39, Loss: 1.6003036499023438, Accuracy: 46.64999771118164\n"
          ]
        },
        {
          "output_type": "stream",
          "name": "stderr",
          "text": [
            "WARNING:tensorflow:Compiled the loaded model, but the compiled metrics have yet to be built. `model.compile_metrics` will be empty until you train or evaluate the model.\n"
          ]
        },
        {
          "output_type": "stream",
          "name": "stdout",
          "text": [
            "Saving new best model with loss:  1.5835496\n",
            "Epoch 40, Loss: 1.5835496187210083, Accuracy: 47.4666633605957\n"
          ]
        },
        {
          "output_type": "stream",
          "name": "stderr",
          "text": [
            "WARNING:tensorflow:Compiled the loaded model, but the compiled metrics have yet to be built. `model.compile_metrics` will be empty until you train or evaluate the model.\n"
          ]
        },
        {
          "output_type": "stream",
          "name": "stdout",
          "text": [
            "Saving new best model with loss:  1.5544522\n",
            "Epoch 41, Loss: 1.5544521808624268, Accuracy: 48.16666793823242\n",
            "Epoch 42, Loss: 1.573898196220398, Accuracy: 48.15000534057617\n",
            "Epoch 43, Loss: 1.5565528869628906, Accuracy: 47.98332977294922\n"
          ]
        },
        {
          "output_type": "stream",
          "name": "stderr",
          "text": [
            "WARNING:tensorflow:Compiled the loaded model, but the compiled metrics have yet to be built. `model.compile_metrics` will be empty until you train or evaluate the model.\n"
          ]
        },
        {
          "output_type": "stream",
          "name": "stdout",
          "text": [
            "Saving new best model with loss:  1.5339721\n",
            "Epoch 44, Loss: 1.533972144126892, Accuracy: 47.91667175292969\n"
          ]
        },
        {
          "output_type": "stream",
          "name": "stderr",
          "text": [
            "WARNING:tensorflow:Compiled the loaded model, but the compiled metrics have yet to be built. `model.compile_metrics` will be empty until you train or evaluate the model.\n"
          ]
        },
        {
          "output_type": "stream",
          "name": "stdout",
          "text": [
            "Saving new best model with loss:  1.5275041\n",
            "Epoch 45, Loss: 1.5275040864944458, Accuracy: 49.166683197021484\n",
            "Epoch 46, Loss: 1.5706121921539307, Accuracy: 47.666664123535156\n"
          ]
        },
        {
          "output_type": "stream",
          "name": "stderr",
          "text": [
            "WARNING:tensorflow:Compiled the loaded model, but the compiled metrics have yet to be built. `model.compile_metrics` will be empty until you train or evaluate the model.\n"
          ]
        },
        {
          "output_type": "stream",
          "name": "stdout",
          "text": [
            "Saving new best model with loss:  1.5264215\n",
            "Epoch 47, Loss: 1.5264215469360352, Accuracy: 49.14999771118164\n"
          ]
        },
        {
          "output_type": "stream",
          "name": "stderr",
          "text": [
            "WARNING:tensorflow:Compiled the loaded model, but the compiled metrics have yet to be built. `model.compile_metrics` will be empty until you train or evaluate the model.\n"
          ]
        },
        {
          "output_type": "stream",
          "name": "stdout",
          "text": [
            "Saving new best model with loss:  1.5019587\n",
            "Epoch 48, Loss: 1.5019587278366089, Accuracy: 49.649993896484375\n",
            "Epoch 49, Loss: 1.5297214984893799, Accuracy: 49.116668701171875\n",
            "Epoch 50, Loss: 1.5034725666046143, Accuracy: 49.31665802001953\n"
          ]
        },
        {
          "output_type": "stream",
          "name": "stderr",
          "text": [
            "WARNING:tensorflow:Compiled the loaded model, but the compiled metrics have yet to be built. `model.compile_metrics` will be empty until you train or evaluate the model.\n"
          ]
        },
        {
          "output_type": "stream",
          "name": "stdout",
          "text": [
            "Saving new best model with loss:  1.4851924\n",
            "Epoch 51, Loss: 1.4851924180984497, Accuracy: 50.23332214355469\n"
          ]
        },
        {
          "output_type": "stream",
          "name": "stderr",
          "text": [
            "WARNING:tensorflow:Compiled the loaded model, but the compiled metrics have yet to be built. `model.compile_metrics` will be empty until you train or evaluate the model.\n"
          ]
        },
        {
          "output_type": "stream",
          "name": "stdout",
          "text": [
            "Saving new best model with loss:  1.475645\n",
            "Epoch 52, Loss: 1.4756449460983276, Accuracy: 50.549991607666016\n",
            "Epoch 53, Loss: 1.5357162952423096, Accuracy: 48.58333206176758\n",
            "Epoch 54, Loss: 1.4888436794281006, Accuracy: 50.63332748413086\n"
          ]
        },
        {
          "output_type": "stream",
          "name": "stderr",
          "text": [
            "WARNING:tensorflow:Compiled the loaded model, but the compiled metrics have yet to be built. `model.compile_metrics` will be empty until you train or evaluate the model.\n"
          ]
        },
        {
          "output_type": "stream",
          "name": "stdout",
          "text": [
            "Saving new best model with loss:  1.4476384\n",
            "Epoch 55, Loss: 1.4476383924484253, Accuracy: 51.28334045410156\n",
            "Epoch 56, Loss: 1.5119552612304688, Accuracy: 50.04999542236328\n",
            "Epoch 57, Loss: 1.482384443283081, Accuracy: 49.91666793823242\n",
            "Epoch 58, Loss: 1.4540109634399414, Accuracy: 50.69999694824219\n",
            "Epoch 59, Loss: 1.4559848308563232, Accuracy: 51.1500129699707\n",
            "Epoch 60, Loss: 1.4697444438934326, Accuracy: 50.91667938232422\n",
            "Epoch 61, Loss: 1.4725983142852783, Accuracy: 50.16666793823242\n",
            "Epoch 62, Loss: 1.4587863683700562, Accuracy: 50.98332214355469\n"
          ]
        },
        {
          "output_type": "stream",
          "name": "stderr",
          "text": [
            "WARNING:tensorflow:Compiled the loaded model, but the compiled metrics have yet to be built. `model.compile_metrics` will be empty until you train or evaluate the model.\n"
          ]
        },
        {
          "output_type": "stream",
          "name": "stdout",
          "text": [
            "Saving new best model with loss:  1.3973722\n",
            "Epoch 63, Loss: 1.3973722457885742, Accuracy: 53.38331604003906\n",
            "Epoch 64, Loss: 1.410165548324585, Accuracy: 52.76667022705078\n",
            "Epoch 65, Loss: 1.4480682611465454, Accuracy: 51.09999084472656\n",
            "Epoch 66, Loss: 1.4547641277313232, Accuracy: 51.616668701171875\n",
            "Epoch 67, Loss: 1.408117651939392, Accuracy: 52.44999694824219\n",
            "Epoch 68, Loss: 1.4310756921768188, Accuracy: 51.4666633605957\n",
            "Epoch 69, Loss: 1.4211785793304443, Accuracy: 52.749996185302734\n",
            "Epoch 70, Loss: 1.442029595375061, Accuracy: 51.7833251953125\n"
          ]
        },
        {
          "output_type": "stream",
          "name": "stderr",
          "text": [
            "WARNING:tensorflow:Compiled the loaded model, but the compiled metrics have yet to be built. `model.compile_metrics` will be empty until you train or evaluate the model.\n"
          ]
        },
        {
          "output_type": "stream",
          "name": "stdout",
          "text": [
            "Saving new best model with loss:  1.3578782\n",
            "Epoch 71, Loss: 1.3578782081604004, Accuracy: 54.633323669433594\n",
            "Epoch 72, Loss: 1.3842166662216187, Accuracy: 53.76665115356445\n",
            "Epoch 73, Loss: 1.3952505588531494, Accuracy: 53.93331527709961\n",
            "Epoch 74, Loss: 1.3829712867736816, Accuracy: 53.51665496826172\n",
            "Epoch 75, Loss: 1.3837406635284424, Accuracy: 53.04999542236328\n",
            "Epoch 76, Loss: 1.3589454889297485, Accuracy: 54.05000305175781\n"
          ]
        },
        {
          "output_type": "stream",
          "name": "stderr",
          "text": [
            "WARNING:tensorflow:Compiled the loaded model, but the compiled metrics have yet to be built. `model.compile_metrics` will be empty until you train or evaluate the model.\n"
          ]
        },
        {
          "output_type": "stream",
          "name": "stdout",
          "text": [
            "Saving new best model with loss:  1.332703\n",
            "Epoch 77, Loss: 1.3327029943466187, Accuracy: 55.166648864746094\n",
            "Epoch 78, Loss: 1.3552377223968506, Accuracy: 54.91666793823242\n",
            "Epoch 79, Loss: 1.3884484767913818, Accuracy: 52.89999771118164\n"
          ]
        },
        {
          "output_type": "stream",
          "name": "stderr",
          "text": [
            "WARNING:tensorflow:Compiled the loaded model, but the compiled metrics have yet to be built. `model.compile_metrics` will be empty until you train or evaluate the model.\n"
          ]
        },
        {
          "output_type": "stream",
          "name": "stdout",
          "text": [
            "Saving new best model with loss:  1.33254\n",
            "Epoch 80, Loss: 1.3325400352478027, Accuracy: 54.96665954589844\n"
          ]
        }
      ]
    },
    {
      "cell_type": "code",
      "source": [
        "#number of classes\n",
        "num_way = num_ways[3] \n",
        "\n",
        "#number of examples per class for support set\n",
        "num_shot = num_shots[3]  \n",
        "\n",
        "#number of query points\n",
        "num_query = num_shots[3] \n",
        "\n",
        "train_loss = tf.metrics.Mean(name='train_loss')\n",
        "train_acc = tf.metrics.Mean(name='train_accuracy')\n",
        "#support = np.zeros([num_way, num_shot, img_height, img_width, 1], dtype=np.float32)\n",
        "#query = np.zeros([num_way, num_query, img_height, img_width, 1], dtype=np.float32)\n",
        "model = Prototypical(support, query, 84, 84, 3)\n",
        "optimizer = tf.keras.optimizers.Adam(0.001)\n",
        "\n",
        "num_epochs = 80\n",
        "num_episodes = 100\n",
        "save_path = \"./results/models/mini_train3.h5\"\n",
        "\n",
        "@tf.function\n",
        "def loss(support, query):\n",
        "  loss, acc = model(support, query)\n",
        "  return loss, acc\n",
        "\n",
        "@tf.function\n",
        "def train_step(support, query):\n",
        "  with tf.GradientTape() as tape:\n",
        "    loss, acc = model(support, query)\n",
        "  gradients = tape.gradient(loss, model.trainable_variables)\n",
        "  optimizer.apply_gradients(\n",
        "        zip(gradients, model.trainable_variables))\n",
        "  train_loss(loss)\n",
        "  train_acc(acc)\n",
        "\n",
        "@tf.function\n",
        "def val_step(loss_func, support, query):\n",
        "  loss, acc = loss_func(support, query)\n",
        "  val_loss(loss)\n",
        "  val_acc(acc)\n",
        "\n",
        "least_loss = {'least_loss': 100.00}\n",
        "\n",
        "for epoch in range(num_epochs):\n",
        "  train_loss.reset_states()\n",
        "  train_acc.reset_states()\n",
        "\n",
        "  for episode in range(num_episodes):\n",
        "    train_support, train_query = get_next_batch(train_images, train_classes, num_way, num_shot, num_query)\n",
        "    train_step(train_support, train_query)\n",
        "\n",
        "  cur_loss = train_loss.result().numpy()\n",
        "  if cur_loss < least_loss['least_loss']:\n",
        "      print(\"Saving new best model with loss: \", cur_loss)\n",
        "      least_loss['least_loss'] = cur_loss\n",
        "      model.save(save_path)\n",
        "  template = 'Epoch {}, Loss: {}, Accuracy: {}'\n",
        "  print(template.format(epoch + 1, train_loss.result(), train_acc.result() * 100))"
      ],
      "metadata": {
        "colab": {
          "base_uri": "https://localhost:8080/"
        },
        "id": "azvB4WcGj2Et",
        "outputId": "8b541081-d745-4349-98a2-38a3e8583d26"
      },
      "execution_count": null,
      "outputs": [
        {
          "output_type": "stream",
          "name": "stderr",
          "text": [
            "WARNING:tensorflow:Compiled the loaded model, but the compiled metrics have yet to be built. `model.compile_metrics` will be empty until you train or evaluate the model.\n"
          ]
        },
        {
          "output_type": "stream",
          "name": "stdout",
          "text": [
            "Saving new best model with loss:  2.471017\n",
            "Epoch 1, Loss: 2.4710168838500977, Accuracy: 13.833333969116211\n"
          ]
        },
        {
          "output_type": "stream",
          "name": "stderr",
          "text": [
            "WARNING:tensorflow:Compiled the loaded model, but the compiled metrics have yet to be built. `model.compile_metrics` will be empty until you train or evaluate the model.\n"
          ]
        },
        {
          "output_type": "stream",
          "name": "stdout",
          "text": [
            "Saving new best model with loss:  2.4640794\n",
            "Epoch 2, Loss: 2.4640793800354004, Accuracy: 13.74999713897705\n"
          ]
        },
        {
          "output_type": "stream",
          "name": "stderr",
          "text": [
            "WARNING:tensorflow:Compiled the loaded model, but the compiled metrics have yet to be built. `model.compile_metrics` will be empty until you train or evaluate the model.\n"
          ]
        },
        {
          "output_type": "stream",
          "name": "stdout",
          "text": [
            "Saving new best model with loss:  2.4434083\n",
            "Epoch 3, Loss: 2.443408250808716, Accuracy: 12.583334922790527\n",
            "Epoch 4, Loss: 2.4504921436309814, Accuracy: 13.500000953674316\n",
            "Epoch 5, Loss: 2.462778091430664, Accuracy: 13.74999713897705\n"
          ]
        },
        {
          "output_type": "stream",
          "name": "stderr",
          "text": [
            "WARNING:tensorflow:Compiled the loaded model, but the compiled metrics have yet to be built. `model.compile_metrics` will be empty until you train or evaluate the model.\n"
          ]
        },
        {
          "output_type": "stream",
          "name": "stdout",
          "text": [
            "Saving new best model with loss:  2.4411314\n",
            "Epoch 6, Loss: 2.441131353378296, Accuracy: 11.666666030883789\n"
          ]
        },
        {
          "output_type": "stream",
          "name": "stderr",
          "text": [
            "WARNING:tensorflow:Compiled the loaded model, but the compiled metrics have yet to be built. `model.compile_metrics` will be empty until you train or evaluate the model.\n"
          ]
        },
        {
          "output_type": "stream",
          "name": "stdout",
          "text": [
            "Saving new best model with loss:  2.4348617\n",
            "Epoch 7, Loss: 2.434861660003662, Accuracy: 15.666666984558105\n",
            "Epoch 8, Loss: 2.4453585147857666, Accuracy: 14.5\n",
            "Epoch 9, Loss: 2.4472272396087646, Accuracy: 13.249998092651367\n",
            "Epoch 10, Loss: 2.4497244358062744, Accuracy: 12.416664123535156\n",
            "Epoch 11, Loss: 2.439532995223999, Accuracy: 13.416664123535156\n",
            "Epoch 12, Loss: 2.4548158645629883, Accuracy: 12.833331108093262\n"
          ]
        },
        {
          "output_type": "stream",
          "name": "stderr",
          "text": [
            "WARNING:tensorflow:Compiled the loaded model, but the compiled metrics have yet to be built. `model.compile_metrics` will be empty until you train or evaluate the model.\n"
          ]
        },
        {
          "output_type": "stream",
          "name": "stdout",
          "text": [
            "Saving new best model with loss:  2.4306877\n",
            "Epoch 13, Loss: 2.430687665939331, Accuracy: 14.083333015441895\n"
          ]
        },
        {
          "output_type": "stream",
          "name": "stderr",
          "text": [
            "WARNING:tensorflow:Compiled the loaded model, but the compiled metrics have yet to be built. `model.compile_metrics` will be empty until you train or evaluate the model.\n"
          ]
        },
        {
          "output_type": "stream",
          "name": "stdout",
          "text": [
            "Saving new best model with loss:  2.4275587\n",
            "Epoch 14, Loss: 2.427558660507202, Accuracy: 14.0\n"
          ]
        },
        {
          "output_type": "stream",
          "name": "stderr",
          "text": [
            "WARNING:tensorflow:Compiled the loaded model, but the compiled metrics have yet to be built. `model.compile_metrics` will be empty until you train or evaluate the model.\n"
          ]
        },
        {
          "output_type": "stream",
          "name": "stdout",
          "text": [
            "Saving new best model with loss:  2.4253385\n",
            "Epoch 15, Loss: 2.4253385066986084, Accuracy: 14.833333969116211\n"
          ]
        },
        {
          "output_type": "stream",
          "name": "stderr",
          "text": [
            "WARNING:tensorflow:Compiled the loaded model, but the compiled metrics have yet to be built. `model.compile_metrics` will be empty until you train or evaluate the model.\n"
          ]
        },
        {
          "output_type": "stream",
          "name": "stdout",
          "text": [
            "Saving new best model with loss:  2.412698\n",
            "Epoch 16, Loss: 2.4126980304718018, Accuracy: 15.833334922790527\n",
            "Epoch 17, Loss: 2.4360811710357666, Accuracy: 14.25\n",
            "Epoch 18, Loss: 2.4199411869049072, Accuracy: 13.166664123535156\n"
          ]
        },
        {
          "output_type": "stream",
          "name": "stderr",
          "text": [
            "WARNING:tensorflow:Compiled the loaded model, but the compiled metrics have yet to be built. `model.compile_metrics` will be empty until you train or evaluate the model.\n"
          ]
        },
        {
          "output_type": "stream",
          "name": "stdout",
          "text": [
            "Saving new best model with loss:  2.403077\n",
            "Epoch 19, Loss: 2.4030768871307373, Accuracy: 15.666665077209473\n",
            "Epoch 20, Loss: 2.4242403507232666, Accuracy: 15.166664123535156\n",
            "Epoch 21, Loss: 2.4177253246307373, Accuracy: 15.583333015441895\n"
          ]
        },
        {
          "output_type": "stream",
          "name": "stderr",
          "text": [
            "WARNING:tensorflow:Compiled the loaded model, but the compiled metrics have yet to be built. `model.compile_metrics` will be empty until you train or evaluate the model.\n"
          ]
        },
        {
          "output_type": "stream",
          "name": "stdout",
          "text": [
            "Saving new best model with loss:  2.397952\n",
            "Epoch 22, Loss: 2.397952079772949, Accuracy: 16.999998092651367\n",
            "Epoch 23, Loss: 2.4132065773010254, Accuracy: 16.58333396911621\n"
          ]
        },
        {
          "output_type": "stream",
          "name": "stderr",
          "text": [
            "WARNING:tensorflow:Compiled the loaded model, but the compiled metrics have yet to be built. `model.compile_metrics` will be empty until you train or evaluate the model.\n"
          ]
        },
        {
          "output_type": "stream",
          "name": "stdout",
          "text": [
            "Saving new best model with loss:  2.38766\n",
            "Epoch 24, Loss: 2.387660026550293, Accuracy: 16.249998092651367\n",
            "Epoch 25, Loss: 2.3933603763580322, Accuracy: 16.25\n",
            "Epoch 26, Loss: 2.3999342918395996, Accuracy: 17.083332061767578\n",
            "Epoch 27, Loss: 2.417248249053955, Accuracy: 16.08333396911621\n"
          ]
        },
        {
          "output_type": "stream",
          "name": "stderr",
          "text": [
            "WARNING:tensorflow:Compiled the loaded model, but the compiled metrics have yet to be built. `model.compile_metrics` will be empty until you train or evaluate the model.\n"
          ]
        },
        {
          "output_type": "stream",
          "name": "stdout",
          "text": [
            "Saving new best model with loss:  2.3873158\n",
            "Epoch 28, Loss: 2.3873157501220703, Accuracy: 17.583330154418945\n",
            "Epoch 29, Loss: 2.3901636600494385, Accuracy: 18.16666603088379\n",
            "Epoch 30, Loss: 2.417372941970825, Accuracy: 15.833332061767578\n"
          ]
        },
        {
          "output_type": "stream",
          "name": "stderr",
          "text": [
            "WARNING:tensorflow:Compiled the loaded model, but the compiled metrics have yet to be built. `model.compile_metrics` will be empty until you train or evaluate the model.\n"
          ]
        },
        {
          "output_type": "stream",
          "name": "stdout",
          "text": [
            "Saving new best model with loss:  2.3812525\n",
            "Epoch 31, Loss: 2.3812525272369385, Accuracy: 16.5\n",
            "Epoch 32, Loss: 2.3878607749938965, Accuracy: 17.0\n",
            "Epoch 33, Loss: 2.4023852348327637, Accuracy: 16.0\n"
          ]
        },
        {
          "output_type": "stream",
          "name": "stderr",
          "text": [
            "WARNING:tensorflow:Compiled the loaded model, but the compiled metrics have yet to be built. `model.compile_metrics` will be empty until you train or evaluate the model.\n"
          ]
        },
        {
          "output_type": "stream",
          "name": "stdout",
          "text": [
            "Saving new best model with loss:  2.3752015\n",
            "Epoch 34, Loss: 2.375201463699341, Accuracy: 18.166669845581055\n",
            "Epoch 35, Loss: 2.3815648555755615, Accuracy: 18.750001907348633\n",
            "Epoch 36, Loss: 2.3953745365142822, Accuracy: 16.08333396911621\n"
          ]
        },
        {
          "output_type": "stream",
          "name": "stderr",
          "text": [
            "WARNING:tensorflow:Compiled the loaded model, but the compiled metrics have yet to be built. `model.compile_metrics` will be empty until you train or evaluate the model.\n"
          ]
        },
        {
          "output_type": "stream",
          "name": "stdout",
          "text": [
            "Saving new best model with loss:  2.3664787\n",
            "Epoch 37, Loss: 2.366478681564331, Accuracy: 17.000003814697266\n",
            "Epoch 38, Loss: 2.393270969390869, Accuracy: 16.416667938232422\n"
          ]
        },
        {
          "output_type": "stream",
          "name": "stderr",
          "text": [
            "WARNING:tensorflow:Compiled the loaded model, but the compiled metrics have yet to be built. `model.compile_metrics` will be empty until you train or evaluate the model.\n"
          ]
        },
        {
          "output_type": "stream",
          "name": "stdout",
          "text": [
            "Saving new best model with loss:  2.3538218\n",
            "Epoch 39, Loss: 2.3538217544555664, Accuracy: 19.083332061767578\n",
            "Epoch 40, Loss: 2.3650693893432617, Accuracy: 17.5\n",
            "Epoch 41, Loss: 2.3554885387420654, Accuracy: 18.916667938232422\n",
            "Epoch 42, Loss: 2.3777859210968018, Accuracy: 16.916667938232422\n",
            "Epoch 43, Loss: 2.3933558464050293, Accuracy: 17.083335876464844\n",
            "Epoch 44, Loss: 2.3846006393432617, Accuracy: 18.166667938232422\n",
            "Epoch 45, Loss: 2.3774220943450928, Accuracy: 18.5\n",
            "Epoch 46, Loss: 2.373037338256836, Accuracy: 19.833335876464844\n",
            "Epoch 47, Loss: 2.3678691387176514, Accuracy: 19.333332061767578\n",
            "Epoch 48, Loss: 2.355508327484131, Accuracy: 18.83333396911621\n"
          ]
        },
        {
          "output_type": "stream",
          "name": "stderr",
          "text": [
            "WARNING:tensorflow:Compiled the loaded model, but the compiled metrics have yet to be built. `model.compile_metrics` will be empty until you train or evaluate the model.\n"
          ]
        },
        {
          "output_type": "stream",
          "name": "stdout",
          "text": [
            "Saving new best model with loss:  2.3465858\n",
            "Epoch 49, Loss: 2.346585750579834, Accuracy: 18.333337783813477\n",
            "Epoch 50, Loss: 2.3555610179901123, Accuracy: 19.249998092651367\n",
            "Epoch 51, Loss: 2.371835470199585, Accuracy: 20.166669845581055\n"
          ]
        },
        {
          "output_type": "stream",
          "name": "stderr",
          "text": [
            "WARNING:tensorflow:Compiled the loaded model, but the compiled metrics have yet to be built. `model.compile_metrics` will be empty until you train or evaluate the model.\n"
          ]
        },
        {
          "output_type": "stream",
          "name": "stdout",
          "text": [
            "Saving new best model with loss:  2.3425338\n",
            "Epoch 52, Loss: 2.342533826828003, Accuracy: 20.166664123535156\n"
          ]
        },
        {
          "output_type": "stream",
          "name": "stderr",
          "text": [
            "WARNING:tensorflow:Compiled the loaded model, but the compiled metrics have yet to be built. `model.compile_metrics` will be empty until you train or evaluate the model.\n"
          ]
        },
        {
          "output_type": "stream",
          "name": "stdout",
          "text": [
            "Saving new best model with loss:  2.2981353\n",
            "Epoch 53, Loss: 2.298135280609131, Accuracy: 23.333332061767578\n",
            "Epoch 54, Loss: 2.315148115158081, Accuracy: 19.916667938232422\n",
            "Epoch 55, Loss: 2.329416275024414, Accuracy: 22.166667938232422\n",
            "Epoch 56, Loss: 2.3502390384674072, Accuracy: 20.083332061767578\n",
            "Epoch 57, Loss: 2.3183212280273438, Accuracy: 21.499998092651367\n",
            "Epoch 58, Loss: 2.3304030895233154, Accuracy: 20.833337783813477\n"
          ]
        },
        {
          "output_type": "stream",
          "name": "stderr",
          "text": [
            "WARNING:tensorflow:Compiled the loaded model, but the compiled metrics have yet to be built. `model.compile_metrics` will be empty until you train or evaluate the model.\n"
          ]
        },
        {
          "output_type": "stream",
          "name": "stdout",
          "text": [
            "Saving new best model with loss:  2.297727\n",
            "Epoch 59, Loss: 2.297727108001709, Accuracy: 21.66666603088379\n",
            "Epoch 60, Loss: 2.344648599624634, Accuracy: 21.249998092651367\n",
            "Epoch 61, Loss: 2.329925537109375, Accuracy: 20.083330154418945\n",
            "Epoch 62, Loss: 2.3112387657165527, Accuracy: 19.500001907348633\n",
            "Epoch 63, Loss: 2.3056039810180664, Accuracy: 20.83333396911621\n",
            "Epoch 64, Loss: 2.3023033142089844, Accuracy: 21.58333396911621\n",
            "Epoch 65, Loss: 2.2996692657470703, Accuracy: 20.83333396911621\n",
            "Epoch 66, Loss: 2.304903268814087, Accuracy: 20.583335876464844\n",
            "Epoch 67, Loss: 2.3168184757232666, Accuracy: 22.166671752929688\n"
          ]
        },
        {
          "output_type": "stream",
          "name": "stderr",
          "text": [
            "WARNING:tensorflow:Compiled the loaded model, but the compiled metrics have yet to be built. `model.compile_metrics` will be empty until you train or evaluate the model.\n"
          ]
        },
        {
          "output_type": "stream",
          "name": "stdout",
          "text": [
            "Saving new best model with loss:  2.2679396\n",
            "Epoch 68, Loss: 2.267939567565918, Accuracy: 22.333328247070312\n",
            "Epoch 69, Loss: 2.2950730323791504, Accuracy: 20.750001907348633\n",
            "Epoch 70, Loss: 2.2719876766204834, Accuracy: 23.333332061767578\n",
            "Epoch 71, Loss: 2.29125714302063, Accuracy: 21.416667938232422\n",
            "Epoch 72, Loss: 2.285156488418579, Accuracy: 20.66666030883789\n"
          ]
        },
        {
          "output_type": "stream",
          "name": "stderr",
          "text": [
            "WARNING:tensorflow:Compiled the loaded model, but the compiled metrics have yet to be built. `model.compile_metrics` will be empty until you train or evaluate the model.\n"
          ]
        },
        {
          "output_type": "stream",
          "name": "stdout",
          "text": [
            "Saving new best model with loss:  2.2557573\n",
            "Epoch 73, Loss: 2.2557573318481445, Accuracy: 23.749998092651367\n",
            "Epoch 74, Loss: 2.2865548133850098, Accuracy: 23.333332061767578\n",
            "Epoch 75, Loss: 2.2802486419677734, Accuracy: 22.833335876464844\n",
            "Epoch 76, Loss: 2.2750444412231445, Accuracy: 21.749998092651367\n",
            "Epoch 77, Loss: 2.2968451976776123, Accuracy: 22.083330154418945\n",
            "Epoch 78, Loss: 2.289155960083008, Accuracy: 21.916669845581055\n",
            "Epoch 79, Loss: 2.285613775253296, Accuracy: 22.66666603088379\n",
            "Epoch 80, Loss: 2.2758073806762695, Accuracy: 22.333335876464844\n"
          ]
        }
      ]
    },
    {
      "cell_type": "code",
      "source": [
        "#number of classes\n",
        "num_way = num_ways[4] \n",
        "\n",
        "#number of examples per class for support set\n",
        "num_shot = num_shots[4]  \n",
        "\n",
        "#number of query points\n",
        "num_query = num_shots[4] \n",
        "\n",
        "train_loss = tf.metrics.Mean(name='train_loss')\n",
        "train_acc = tf.metrics.Mean(name='train_accuracy')\n",
        "#support = np.zeros([num_way, num_shot, img_height, img_width, 1], dtype=np.float32)\n",
        "#query = np.zeros([num_way, num_query, img_height, img_width, 1], dtype=np.float32)\n",
        "model = Prototypical(support, query, 84, 84, 3)\n",
        "optimizer = tf.keras.optimizers.Adam(0.001)\n",
        "\n",
        "num_epochs = 80\n",
        "num_episodes = 100\n",
        "save_path = \"./results/models/mini_train4.h5\"\n",
        "\n",
        "@tf.function\n",
        "def loss(support, query):\n",
        "  loss, acc = model(support, query)\n",
        "  return loss, acc\n",
        "\n",
        "@tf.function\n",
        "def train_step(support, query):\n",
        "  with tf.GradientTape() as tape:\n",
        "    loss, acc = model(support, query)\n",
        "  gradients = tape.gradient(loss, model.trainable_variables)\n",
        "  optimizer.apply_gradients(\n",
        "        zip(gradients, model.trainable_variables))\n",
        "  train_loss(loss)\n",
        "  train_acc(acc)\n",
        "\n",
        "@tf.function\n",
        "def val_step(loss_func, support, query):\n",
        "  loss, acc = loss_func(support, query)\n",
        "  val_loss(loss)\n",
        "  val_acc(acc)\n",
        "\n",
        "least_loss = {'least_loss': 100.00}\n",
        "\n",
        "for epoch in range(num_epochs):\n",
        "  train_loss.reset_states()\n",
        "  train_acc.reset_states()\n",
        "\n",
        "  for episode in range(num_episodes):\n",
        "    train_support, train_query = get_next_batch(train_images, train_classes, num_way, num_shot, num_query)\n",
        "    train_step(train_support, train_query)\n",
        "\n",
        "  cur_loss = train_loss.result().numpy()\n",
        "  if cur_loss < least_loss['least_loss']:\n",
        "      print(\"Saving new best model with loss: \", cur_loss)\n",
        "      least_loss['least_loss'] = cur_loss\n",
        "      model.save(save_path)\n",
        "  template = 'Epoch {}, Loss: {}, Accuracy: {}'\n",
        "  print(template.format(epoch + 1, train_loss.result(), train_acc.result() * 100))"
      ],
      "metadata": {
        "colab": {
          "base_uri": "https://localhost:8080/"
        },
        "id": "cLUZrRJYj2gU",
        "outputId": "a4dcb7bb-7564-45ea-8bc0-287b6d4a2a7b"
      },
      "execution_count": null,
      "outputs": [
        {
          "output_type": "stream",
          "name": "stderr",
          "text": [
            "WARNING:tensorflow:Compiled the loaded model, but the compiled metrics have yet to be built. `model.compile_metrics` will be empty until you train or evaluate the model.\n"
          ]
        },
        {
          "output_type": "stream",
          "name": "stdout",
          "text": [
            "Saving new best model with loss:  2.6307993\n",
            "Epoch 1, Loss: 2.6307992935180664, Accuracy: 13.755558013916016\n"
          ]
        },
        {
          "output_type": "stream",
          "name": "stderr",
          "text": [
            "WARNING:tensorflow:Compiled the loaded model, but the compiled metrics have yet to be built. `model.compile_metrics` will be empty until you train or evaluate the model.\n"
          ]
        },
        {
          "output_type": "stream",
          "name": "stdout",
          "text": [
            "Saving new best model with loss:  2.5893285\n",
            "Epoch 2, Loss: 2.5893285274505615, Accuracy: 15.644449234008789\n",
            "Epoch 3, Loss: 2.5931921005249023, Accuracy: 16.31111717224121\n"
          ]
        },
        {
          "output_type": "stream",
          "name": "stderr",
          "text": [
            "WARNING:tensorflow:Compiled the loaded model, but the compiled metrics have yet to be built. `model.compile_metrics` will be empty until you train or evaluate the model.\n"
          ]
        },
        {
          "output_type": "stream",
          "name": "stdout",
          "text": [
            "Saving new best model with loss:  2.5476272\n",
            "Epoch 4, Loss: 2.5476272106170654, Accuracy: 17.177780151367188\n"
          ]
        },
        {
          "output_type": "stream",
          "name": "stderr",
          "text": [
            "WARNING:tensorflow:Compiled the loaded model, but the compiled metrics have yet to be built. `model.compile_metrics` will be empty until you train or evaluate the model.\n"
          ]
        },
        {
          "output_type": "stream",
          "name": "stdout",
          "text": [
            "Saving new best model with loss:  2.5400724\n",
            "Epoch 5, Loss: 2.540072441101074, Accuracy: 18.33333396911621\n"
          ]
        },
        {
          "output_type": "stream",
          "name": "stderr",
          "text": [
            "WARNING:tensorflow:Compiled the loaded model, but the compiled metrics have yet to be built. `model.compile_metrics` will be empty until you train or evaluate the model.\n"
          ]
        },
        {
          "output_type": "stream",
          "name": "stdout",
          "text": [
            "Saving new best model with loss:  2.5288942\n",
            "Epoch 6, Loss: 2.5288941860198975, Accuracy: 18.666671752929688\n"
          ]
        },
        {
          "output_type": "stream",
          "name": "stderr",
          "text": [
            "WARNING:tensorflow:Compiled the loaded model, but the compiled metrics have yet to be built. `model.compile_metrics` will be empty until you train or evaluate the model.\n"
          ]
        },
        {
          "output_type": "stream",
          "name": "stdout",
          "text": [
            "Saving new best model with loss:  2.5227675\n",
            "Epoch 7, Loss: 2.5227675437927246, Accuracy: 18.53333854675293\n"
          ]
        },
        {
          "output_type": "stream",
          "name": "stderr",
          "text": [
            "WARNING:tensorflow:Compiled the loaded model, but the compiled metrics have yet to be built. `model.compile_metrics` will be empty until you train or evaluate the model.\n"
          ]
        },
        {
          "output_type": "stream",
          "name": "stdout",
          "text": [
            "Saving new best model with loss:  2.4983377\n",
            "Epoch 8, Loss: 2.498337745666504, Accuracy: 21.066673278808594\n"
          ]
        },
        {
          "output_type": "stream",
          "name": "stderr",
          "text": [
            "WARNING:tensorflow:Compiled the loaded model, but the compiled metrics have yet to be built. `model.compile_metrics` will be empty until you train or evaluate the model.\n"
          ]
        },
        {
          "output_type": "stream",
          "name": "stdout",
          "text": [
            "Saving new best model with loss:  2.480074\n",
            "Epoch 9, Loss: 2.480073928833008, Accuracy: 20.0000057220459\n"
          ]
        },
        {
          "output_type": "stream",
          "name": "stderr",
          "text": [
            "WARNING:tensorflow:Compiled the loaded model, but the compiled metrics have yet to be built. `model.compile_metrics` will be empty until you train or evaluate the model.\n"
          ]
        },
        {
          "output_type": "stream",
          "name": "stdout",
          "text": [
            "Saving new best model with loss:  2.4523156\n",
            "Epoch 10, Loss: 2.45231556892395, Accuracy: 21.488889694213867\n"
          ]
        },
        {
          "output_type": "stream",
          "name": "stderr",
          "text": [
            "WARNING:tensorflow:Compiled the loaded model, but the compiled metrics have yet to be built. `model.compile_metrics` will be empty until you train or evaluate the model.\n"
          ]
        },
        {
          "output_type": "stream",
          "name": "stdout",
          "text": [
            "Saving new best model with loss:  2.4042716\n",
            "Epoch 11, Loss: 2.4042716026306152, Accuracy: 23.4666690826416\n",
            "Epoch 12, Loss: 2.4138550758361816, Accuracy: 23.4666690826416\n"
          ]
        },
        {
          "output_type": "stream",
          "name": "stderr",
          "text": [
            "WARNING:tensorflow:Compiled the loaded model, but the compiled metrics have yet to be built. `model.compile_metrics` will be empty until you train or evaluate the model.\n"
          ]
        },
        {
          "output_type": "stream",
          "name": "stdout",
          "text": [
            "Saving new best model with loss:  2.3835938\n",
            "Epoch 13, Loss: 2.383593797683716, Accuracy: 23.888891220092773\n"
          ]
        },
        {
          "output_type": "stream",
          "name": "stderr",
          "text": [
            "WARNING:tensorflow:Compiled the loaded model, but the compiled metrics have yet to be built. `model.compile_metrics` will be empty until you train or evaluate the model.\n"
          ]
        },
        {
          "output_type": "stream",
          "name": "stdout",
          "text": [
            "Saving new best model with loss:  2.335295\n",
            "Epoch 14, Loss: 2.3352949619293213, Accuracy: 25.199996948242188\n",
            "Epoch 15, Loss: 2.3464300632476807, Accuracy: 25.53333282470703\n"
          ]
        },
        {
          "output_type": "stream",
          "name": "stderr",
          "text": [
            "WARNING:tensorflow:Compiled the loaded model, but the compiled metrics have yet to be built. `model.compile_metrics` will be empty until you train or evaluate the model.\n"
          ]
        },
        {
          "output_type": "stream",
          "name": "stdout",
          "text": [
            "Saving new best model with loss:  2.3182404\n",
            "Epoch 16, Loss: 2.3182404041290283, Accuracy: 26.199996948242188\n",
            "Epoch 17, Loss: 2.322251081466675, Accuracy: 25.666669845581055\n"
          ]
        },
        {
          "output_type": "stream",
          "name": "stderr",
          "text": [
            "WARNING:tensorflow:Compiled the loaded model, but the compiled metrics have yet to be built. `model.compile_metrics` will be empty until you train or evaluate the model.\n"
          ]
        },
        {
          "output_type": "stream",
          "name": "stdout",
          "text": [
            "Saving new best model with loss:  2.3026485\n",
            "Epoch 18, Loss: 2.3026485443115234, Accuracy: 26.266664505004883\n"
          ]
        },
        {
          "output_type": "stream",
          "name": "stderr",
          "text": [
            "WARNING:tensorflow:Compiled the loaded model, but the compiled metrics have yet to be built. `model.compile_metrics` will be empty until you train or evaluate the model.\n"
          ]
        },
        {
          "output_type": "stream",
          "name": "stdout",
          "text": [
            "Saving new best model with loss:  2.2998612\n",
            "Epoch 19, Loss: 2.299861192703247, Accuracy: 26.444446563720703\n"
          ]
        },
        {
          "output_type": "stream",
          "name": "stderr",
          "text": [
            "WARNING:tensorflow:Compiled the loaded model, but the compiled metrics have yet to be built. `model.compile_metrics` will be empty until you train or evaluate the model.\n"
          ]
        },
        {
          "output_type": "stream",
          "name": "stdout",
          "text": [
            "Saving new best model with loss:  2.2629838\n",
            "Epoch 20, Loss: 2.262983798980713, Accuracy: 27.444446563720703\n",
            "Epoch 21, Loss: 2.278665065765381, Accuracy: 27.288896560668945\n"
          ]
        },
        {
          "output_type": "stream",
          "name": "stderr",
          "text": [
            "WARNING:tensorflow:Compiled the loaded model, but the compiled metrics have yet to be built. `model.compile_metrics` will be empty until you train or evaluate the model.\n"
          ]
        },
        {
          "output_type": "stream",
          "name": "stdout",
          "text": [
            "Saving new best model with loss:  2.2547455\n",
            "Epoch 22, Loss: 2.2547454833984375, Accuracy: 27.866666793823242\n"
          ]
        },
        {
          "output_type": "stream",
          "name": "stderr",
          "text": [
            "WARNING:tensorflow:Compiled the loaded model, but the compiled metrics have yet to be built. `model.compile_metrics` will be empty until you train or evaluate the model.\n"
          ]
        },
        {
          "output_type": "stream",
          "name": "stdout",
          "text": [
            "Saving new best model with loss:  2.2107275\n",
            "Epoch 23, Loss: 2.2107274532318115, Accuracy: 29.66666603088379\n",
            "Epoch 24, Loss: 2.2521681785583496, Accuracy: 28.42222785949707\n"
          ]
        },
        {
          "output_type": "stream",
          "name": "stderr",
          "text": [
            "WARNING:tensorflow:Compiled the loaded model, but the compiled metrics have yet to be built. `model.compile_metrics` will be empty until you train or evaluate the model.\n"
          ]
        },
        {
          "output_type": "stream",
          "name": "stdout",
          "text": [
            "Saving new best model with loss:  2.186602\n",
            "Epoch 25, Loss: 2.1866021156311035, Accuracy: 29.933334350585938\n",
            "Epoch 26, Loss: 2.208343505859375, Accuracy: 29.355562210083008\n"
          ]
        },
        {
          "output_type": "stream",
          "name": "stderr",
          "text": [
            "WARNING:tensorflow:Compiled the loaded model, but the compiled metrics have yet to be built. `model.compile_metrics` will be empty until you train or evaluate the model.\n"
          ]
        },
        {
          "output_type": "stream",
          "name": "stdout",
          "text": [
            "Saving new best model with loss:  2.164723\n",
            "Epoch 27, Loss: 2.1647229194641113, Accuracy: 31.044450759887695\n",
            "Epoch 28, Loss: 2.1712875366210938, Accuracy: 32.35555648803711\n"
          ]
        },
        {
          "output_type": "stream",
          "name": "stderr",
          "text": [
            "WARNING:tensorflow:Compiled the loaded model, but the compiled metrics have yet to be built. `model.compile_metrics` will be empty until you train or evaluate the model.\n"
          ]
        },
        {
          "output_type": "stream",
          "name": "stdout",
          "text": [
            "Saving new best model with loss:  2.135374\n",
            "Epoch 29, Loss: 2.135374069213867, Accuracy: 32.24444580078125\n"
          ]
        },
        {
          "output_type": "stream",
          "name": "stderr",
          "text": [
            "WARNING:tensorflow:Compiled the loaded model, but the compiled metrics have yet to be built. `model.compile_metrics` will be empty until you train or evaluate the model.\n"
          ]
        },
        {
          "output_type": "stream",
          "name": "stdout",
          "text": [
            "Saving new best model with loss:  2.1323426\n",
            "Epoch 30, Loss: 2.132342576980591, Accuracy: 32.200008392333984\n"
          ]
        },
        {
          "output_type": "stream",
          "name": "stderr",
          "text": [
            "WARNING:tensorflow:Compiled the loaded model, but the compiled metrics have yet to be built. `model.compile_metrics` will be empty until you train or evaluate the model.\n"
          ]
        },
        {
          "output_type": "stream",
          "name": "stdout",
          "text": [
            "Saving new best model with loss:  2.101084\n",
            "Epoch 31, Loss: 2.101083993911743, Accuracy: 33.0000114440918\n"
          ]
        },
        {
          "output_type": "stream",
          "name": "stderr",
          "text": [
            "WARNING:tensorflow:Compiled the loaded model, but the compiled metrics have yet to be built. `model.compile_metrics` will be empty until you train or evaluate the model.\n"
          ]
        },
        {
          "output_type": "stream",
          "name": "stdout",
          "text": [
            "Saving new best model with loss:  2.0914695\n",
            "Epoch 32, Loss: 2.0914695262908936, Accuracy: 33.22222137451172\n",
            "Epoch 33, Loss: 2.123298406600952, Accuracy: 32.91110610961914\n"
          ]
        },
        {
          "output_type": "stream",
          "name": "stderr",
          "text": [
            "WARNING:tensorflow:Compiled the loaded model, but the compiled metrics have yet to be built. `model.compile_metrics` will be empty until you train or evaluate the model.\n"
          ]
        },
        {
          "output_type": "stream",
          "name": "stdout",
          "text": [
            "Saving new best model with loss:  2.0858593\n",
            "Epoch 34, Loss: 2.0858592987060547, Accuracy: 33.08888626098633\n"
          ]
        },
        {
          "output_type": "stream",
          "name": "stderr",
          "text": [
            "WARNING:tensorflow:Compiled the loaded model, but the compiled metrics have yet to be built. `model.compile_metrics` will be empty until you train or evaluate the model.\n"
          ]
        },
        {
          "output_type": "stream",
          "name": "stdout",
          "text": [
            "Saving new best model with loss:  2.043455\n",
            "Epoch 35, Loss: 2.043454885482788, Accuracy: 34.75556564331055\n",
            "Epoch 36, Loss: 2.045781373977661, Accuracy: 34.9333381652832\n"
          ]
        },
        {
          "output_type": "stream",
          "name": "stderr",
          "text": [
            "WARNING:tensorflow:Compiled the loaded model, but the compiled metrics have yet to be built. `model.compile_metrics` will be empty until you train or evaluate the model.\n"
          ]
        },
        {
          "output_type": "stream",
          "name": "stdout",
          "text": [
            "Saving new best model with loss:  2.032943\n",
            "Epoch 37, Loss: 2.0329430103302, Accuracy: 35.244449615478516\n",
            "Epoch 38, Loss: 2.064685821533203, Accuracy: 34.9333381652832\n",
            "Epoch 39, Loss: 2.038729429244995, Accuracy: 34.73333740234375\n"
          ]
        },
        {
          "output_type": "stream",
          "name": "stderr",
          "text": [
            "WARNING:tensorflow:Compiled the loaded model, but the compiled metrics have yet to be built. `model.compile_metrics` will be empty until you train or evaluate the model.\n"
          ]
        },
        {
          "output_type": "stream",
          "name": "stdout",
          "text": [
            "Saving new best model with loss:  1.9748731\n",
            "Epoch 40, Loss: 1.9748730659484863, Accuracy: 35.4888916015625\n",
            "Epoch 41, Loss: 1.99737548828125, Accuracy: 35.844444274902344\n",
            "Epoch 42, Loss: 2.011411428451538, Accuracy: 36.28889846801758\n",
            "Epoch 43, Loss: 2.010490655899048, Accuracy: 35.64444351196289\n",
            "Epoch 44, Loss: 1.9874399900436401, Accuracy: 36.444454193115234\n"
          ]
        },
        {
          "output_type": "stream",
          "name": "stderr",
          "text": [
            "WARNING:tensorflow:Compiled the loaded model, but the compiled metrics have yet to be built. `model.compile_metrics` will be empty until you train or evaluate the model.\n"
          ]
        },
        {
          "output_type": "stream",
          "name": "stdout",
          "text": [
            "Saving new best model with loss:  1.9298705\n",
            "Epoch 45, Loss: 1.9298704862594604, Accuracy: 37.866668701171875\n"
          ]
        },
        {
          "output_type": "stream",
          "name": "stderr",
          "text": [
            "WARNING:tensorflow:Compiled the loaded model, but the compiled metrics have yet to be built. `model.compile_metrics` will be empty until you train or evaluate the model.\n"
          ]
        },
        {
          "output_type": "stream",
          "name": "stdout",
          "text": [
            "Saving new best model with loss:  1.9078768\n",
            "Epoch 46, Loss: 1.9078768491744995, Accuracy: 37.4888916015625\n",
            "Epoch 47, Loss: 1.9556875228881836, Accuracy: 36.24444580078125\n",
            "Epoch 48, Loss: 1.9446699619293213, Accuracy: 37.5111198425293\n",
            "Epoch 49, Loss: 1.9267990589141846, Accuracy: 38.13333511352539\n",
            "Epoch 50, Loss: 1.961898684501648, Accuracy: 37.04445266723633\n",
            "Epoch 51, Loss: 1.909875750541687, Accuracy: 37.91111373901367\n",
            "Epoch 52, Loss: 1.9197882413864136, Accuracy: 38.08888626098633\n"
          ]
        },
        {
          "output_type": "stream",
          "name": "stderr",
          "text": [
            "WARNING:tensorflow:Compiled the loaded model, but the compiled metrics have yet to be built. `model.compile_metrics` will be empty until you train or evaluate the model.\n"
          ]
        },
        {
          "output_type": "stream",
          "name": "stdout",
          "text": [
            "Saving new best model with loss:  1.8836315\n",
            "Epoch 53, Loss: 1.8836314678192139, Accuracy: 39.155555725097656\n",
            "Epoch 54, Loss: 1.9076714515686035, Accuracy: 38.5555534362793\n",
            "Epoch 55, Loss: 1.8908662796020508, Accuracy: 39.80000305175781\n",
            "Epoch 56, Loss: 1.889554500579834, Accuracy: 39.000003814697266\n",
            "Epoch 57, Loss: 1.920656681060791, Accuracy: 37.533329010009766\n"
          ]
        },
        {
          "output_type": "stream",
          "name": "stderr",
          "text": [
            "WARNING:tensorflow:Compiled the loaded model, but the compiled metrics have yet to be built. `model.compile_metrics` will be empty until you train or evaluate the model.\n"
          ]
        },
        {
          "output_type": "stream",
          "name": "stdout",
          "text": [
            "Saving new best model with loss:  1.8582275\n",
            "Epoch 58, Loss: 1.8582274913787842, Accuracy: 39.06667709350586\n",
            "Epoch 59, Loss: 1.8640040159225464, Accuracy: 40.844451904296875\n",
            "Epoch 60, Loss: 1.8911280632019043, Accuracy: 39.22222900390625\n",
            "Epoch 61, Loss: 1.8931374549865723, Accuracy: 39.26666259765625\n"
          ]
        },
        {
          "output_type": "stream",
          "name": "stderr",
          "text": [
            "WARNING:tensorflow:Compiled the loaded model, but the compiled metrics have yet to be built. `model.compile_metrics` will be empty until you train or evaluate the model.\n"
          ]
        },
        {
          "output_type": "stream",
          "name": "stdout",
          "text": [
            "Saving new best model with loss:  1.8331219\n",
            "Epoch 62, Loss: 1.8331218957901, Accuracy: 40.66666793823242\n",
            "Epoch 63, Loss: 1.8345187902450562, Accuracy: 40.977779388427734\n",
            "Epoch 64, Loss: 1.8658214807510376, Accuracy: 39.48888397216797\n",
            "Epoch 65, Loss: 1.8392934799194336, Accuracy: 41.577781677246094\n",
            "Epoch 66, Loss: 1.8459337949752808, Accuracy: 39.79999923706055\n",
            "Epoch 67, Loss: 1.853827714920044, Accuracy: 39.86665725708008\n"
          ]
        },
        {
          "output_type": "stream",
          "name": "stderr",
          "text": [
            "WARNING:tensorflow:Compiled the loaded model, but the compiled metrics have yet to be built. `model.compile_metrics` will be empty until you train or evaluate the model.\n"
          ]
        },
        {
          "output_type": "stream",
          "name": "stdout",
          "text": [
            "Saving new best model with loss:  1.8262767\n",
            "Epoch 68, Loss: 1.8262766599655151, Accuracy: 40.93333053588867\n",
            "Epoch 69, Loss: 1.837807297706604, Accuracy: 40.13334274291992\n"
          ]
        },
        {
          "output_type": "stream",
          "name": "stderr",
          "text": [
            "WARNING:tensorflow:Compiled the loaded model, but the compiled metrics have yet to be built. `model.compile_metrics` will be empty until you train or evaluate the model.\n"
          ]
        },
        {
          "output_type": "stream",
          "name": "stdout",
          "text": [
            "Saving new best model with loss:  1.7867923\n",
            "Epoch 70, Loss: 1.786792278289795, Accuracy: 42.888885498046875\n",
            "Epoch 71, Loss: 1.8348671197891235, Accuracy: 40.31110763549805\n",
            "Epoch 72, Loss: 1.821824312210083, Accuracy: 40.91111373901367\n",
            "Epoch 73, Loss: 1.825128197669983, Accuracy: 40.95555114746094\n",
            "Epoch 74, Loss: 1.804314374923706, Accuracy: 40.95555114746094\n",
            "Epoch 75, Loss: 1.8030198812484741, Accuracy: 41.44444274902344\n"
          ]
        },
        {
          "output_type": "stream",
          "name": "stderr",
          "text": [
            "WARNING:tensorflow:Compiled the loaded model, but the compiled metrics have yet to be built. `model.compile_metrics` will be empty until you train or evaluate the model.\n"
          ]
        },
        {
          "output_type": "stream",
          "name": "stdout",
          "text": [
            "Saving new best model with loss:  1.7624115\n",
            "Epoch 76, Loss: 1.7624114751815796, Accuracy: 43.28888702392578\n",
            "Epoch 77, Loss: 1.7940025329589844, Accuracy: 41.711116790771484\n",
            "Epoch 78, Loss: 1.780055284500122, Accuracy: 42.4666748046875\n",
            "Epoch 79, Loss: 1.8270732164382935, Accuracy: 40.88888931274414\n",
            "Epoch 80, Loss: 1.7743109464645386, Accuracy: 41.33332824707031\n"
          ]
        }
      ]
    },
    {
      "cell_type": "code",
      "execution_count": null,
      "metadata": {
        "colab": {
          "base_uri": "https://localhost:8080/"
        },
        "id": "_TG0KXWv-cNK",
        "outputId": "735506d6-7ac9-46a6-a482-05f615d8e5e1"
      },
      "outputs": [
        {
          "output_type": "stream",
          "name": "stdout",
          "text": [
            "Model loaded.\n",
            "Episode:  50\n",
            "Episode:  100\n",
            "Episode:  150\n",
            "Episode:  200\n",
            "Episode:  250\n",
            "Episode:  300\n",
            "Episode:  350\n",
            "Episode:  400\n",
            "Episode:  450\n",
            "Episode:  500\n",
            "Episode:  550\n",
            "Episode:  600\n",
            "Episode:  650\n",
            "Episode:  700\n",
            "Episode:  750\n",
            "Episode:  800\n",
            "Episode:  850\n",
            "Episode:  900\n",
            "Episode:  950\n",
            "Episode:  1000\n",
            "Episode:  1050\n",
            "Episode:  1100\n",
            "Episode:  1150\n",
            "Episode:  1200\n",
            "Loss:  1.0625949\n",
            "Accuracy:  57.43662714958191\n"
          ]
        }
      ],
      "source": [
        "model = Prototypical(support, query, 84, 84, 3)\n",
        "model_path = \"./results/models/mini_train0.h5\"\n",
        "model.load(model_path)\n",
        "print(\"Model loaded.\")\n",
        "\n",
        "#number of classes\n",
        "num_way = num_ways[0] \n",
        "\n",
        "#number of examples per class for support set\n",
        "num_shot = num_shots[0]  \n",
        "\n",
        "#number of query points\n",
        "num_query = num_shots[0] \n",
        "\n",
        "num_episodes = 1200\n",
        "\n",
        "# Metrics to gather\n",
        "test_loss = tf.metrics.Mean(name='test_loss')\n",
        "test_acc = tf.metrics.Mean(name='test_accuracy')\n",
        "\n",
        "def calc_loss(support, query):\n",
        "  loss, acc = model(support, query)\n",
        "  return loss, acc\n",
        "\n",
        "for i_episode in range(num_episodes):\n",
        "  test_support, test_query = get_next_batch(test_images, test_classes, num_way, num_shot, num_query)\n",
        "  if (i_episode+1)%50 == 0: \n",
        "    print(\"Episode: \", i_episode + 1)\n",
        "  loss, acc = calc_loss(test_support, test_query)\n",
        "  test_loss(loss)\n",
        "  test_acc(acc)\n",
        "\n",
        "print(\"Loss: \", test_loss.result().numpy())\n",
        "print(\"Accuracy: \", test_acc.result().numpy() * 100)"
      ]
    },
    {
      "cell_type": "code",
      "source": [
        "model = Prototypical(support, query, 84, 84, 3)\n",
        "model_path = \"./results/models/mini_train1.h5\"\n",
        "model.load(model_path)\n",
        "print(\"Model loaded.\")\n",
        "\n",
        "#number of classes\n",
        "num_way = num_ways[1] \n",
        "\n",
        "#number of examples per class for support set\n",
        "num_shot = num_shots[1]  \n",
        "\n",
        "#number of query points\n",
        "num_query = num_shots[1] \n",
        "\n",
        "num_episodes = 1200\n",
        "\n",
        "# Metrics to gather\n",
        "test_loss = tf.metrics.Mean(name='test_loss')\n",
        "test_acc = tf.metrics.Mean(name='test_accuracy')\n",
        "\n",
        "def calc_loss(support, query):\n",
        "  loss, acc = model(support, query)\n",
        "  return loss, acc\n",
        "\n",
        "for i_episode in range(num_episodes):\n",
        "  test_support, test_query = get_next_batch(test_images, test_classes, num_way, num_shot, num_query)\n",
        "  if (i_episode+1)%50 == 0: \n",
        "    print(\"Episode: \", i_episode + 1)\n",
        "  loss, acc = calc_loss(test_support, test_query)\n",
        "  test_loss(loss)\n",
        "  test_acc(acc)\n",
        "\n",
        "print(\"Loss: \", test_loss.result().numpy())\n",
        "print(\"Accuracy: \", test_acc.result().numpy() * 100)"
      ],
      "metadata": {
        "colab": {
          "base_uri": "https://localhost:8080/"
        },
        "id": "FAp3BXMUm5FG",
        "outputId": "f9c2c0de-2caf-4ca0-9c90-a45b871ad130"
      },
      "execution_count": null,
      "outputs": [
        {
          "output_type": "stream",
          "name": "stdout",
          "text": [
            "Model loaded.\n",
            "Episode:  50\n",
            "Episode:  100\n",
            "Episode:  150\n",
            "Episode:  200\n",
            "Episode:  250\n",
            "Episode:  300\n",
            "Episode:  350\n",
            "Episode:  400\n",
            "Episode:  450\n",
            "Episode:  500\n",
            "Episode:  550\n",
            "Episode:  600\n",
            "Episode:  650\n",
            "Episode:  700\n",
            "Episode:  750\n",
            "Episode:  800\n",
            "Episode:  850\n",
            "Episode:  900\n",
            "Episode:  950\n",
            "Episode:  1000\n",
            "Episode:  1050\n",
            "Episode:  1100\n",
            "Episode:  1150\n",
            "Episode:  1200\n",
            "Loss:  1.627417\n",
            "Accuracy:  25.216609239578247\n"
          ]
        }
      ]
    },
    {
      "cell_type": "code",
      "source": [
        "model = Prototypical(support, query, 84, 84, 3)\n",
        "model_path = \"./results/models/mini_train2.h5\"\n",
        "model.load(model_path)\n",
        "print(\"Model loaded.\")\n",
        "\n",
        "#number of classes\n",
        "num_way = num_ways[2] \n",
        "\n",
        "#number of examples per class for support set\n",
        "num_shot = num_shots[2]  \n",
        "\n",
        "#number of query points\n",
        "num_query = num_shots[2] \n",
        "\n",
        "num_episodes = 1200\n",
        "\n",
        "# Metrics to gather\n",
        "test_loss = tf.metrics.Mean(name='test_loss')\n",
        "test_acc = tf.metrics.Mean(name='test_accuracy')\n",
        "\n",
        "def calc_loss(support, query):\n",
        "  loss, acc = model(support, query)\n",
        "  return loss, acc\n",
        "\n",
        "for i_episode in range(num_episodes):\n",
        "  test_support, test_query = get_next_batch(test_images, test_classes, num_way, num_shot, num_query)\n",
        "  if (i_episode+1)%50 == 0: \n",
        "    print(\"Episode: \", i_episode + 1)\n",
        "  loss, acc = calc_loss(test_support, test_query)\n",
        "  test_loss(loss)\n",
        "  test_acc(acc)\n",
        "\n",
        "print(\"Loss: \", test_loss.result().numpy())\n",
        "print(\"Accuracy: \", test_acc.result().numpy() * 100)"
      ],
      "metadata": {
        "colab": {
          "base_uri": "https://localhost:8080/"
        },
        "id": "oiemiAQQm5mr",
        "outputId": "3fccd3ed-c251-48ab-d512-b9fdbfdc9265"
      },
      "execution_count": null,
      "outputs": [
        {
          "output_type": "stream",
          "name": "stdout",
          "text": [
            "Model loaded.\n",
            "Episode:  50\n",
            "Episode:  100\n",
            "Episode:  150\n",
            "Episode:  200\n",
            "Episode:  250\n",
            "Episode:  300\n",
            "Episode:  350\n",
            "Episode:  400\n",
            "Episode:  450\n",
            "Episode:  500\n",
            "Episode:  550\n",
            "Episode:  600\n",
            "Episode:  650\n",
            "Episode:  700\n",
            "Episode:  750\n",
            "Episode:  800\n",
            "Episode:  850\n",
            "Episode:  900\n",
            "Episode:  950\n",
            "Episode:  1000\n",
            "Episode:  1050\n",
            "Episode:  1100\n",
            "Episode:  1150\n",
            "Episode:  1200\n",
            "Loss:  1.6330303\n",
            "Accuracy:  43.66108179092407\n"
          ]
        }
      ]
    },
    {
      "cell_type": "code",
      "source": [
        "model = Prototypical(support, query, 84, 84, 3)\n",
        "model_path = \"./results/models/mini_train3.h5\"\n",
        "model.load(model_path)\n",
        "print(\"Model loaded.\")\n",
        "\n",
        "#number of classes\n",
        "num_way = num_ways[3] \n",
        "\n",
        "#number of examples per class for support set\n",
        "num_shot = num_shots[3]  \n",
        "\n",
        "#number of query points\n",
        "num_query = num_shots[3] \n",
        "\n",
        "num_episodes = 1200\n",
        "\n",
        "# Metrics to gather\n",
        "test_loss = tf.metrics.Mean(name='test_loss')\n",
        "test_acc = tf.metrics.Mean(name='test_accuracy')\n",
        "\n",
        "def calc_loss(support, query):\n",
        "  loss, acc = model(support, query)\n",
        "  return loss, acc\n",
        "\n",
        "for i_episode in range(num_episodes):\n",
        "  test_support, test_query = get_next_batch(test_images, test_classes, num_way, num_shot, num_query)\n",
        "  if (i_episode+1)%50 == 0: \n",
        "    print(\"Episode: \", i_episode + 1)\n",
        "  loss, acc = calc_loss(test_support, test_query)\n",
        "  test_loss(loss)\n",
        "  test_acc(acc)\n",
        "\n",
        "print(\"Loss: \", test_loss.result().numpy())\n",
        "print(\"Accuracy: \", test_acc.result().numpy() * 100)"
      ],
      "metadata": {
        "colab": {
          "base_uri": "https://localhost:8080/"
        },
        "id": "UE9i20ncm6CC",
        "outputId": "df0beeec-5bb4-4b51-fe28-688f757fbbb6"
      },
      "execution_count": null,
      "outputs": [
        {
          "output_type": "stream",
          "name": "stdout",
          "text": [
            "Model loaded.\n",
            "Episode:  50\n",
            "Episode:  100\n",
            "Episode:  150\n",
            "Episode:  200\n",
            "Episode:  250\n",
            "Episode:  300\n",
            "Episode:  350\n",
            "Episode:  400\n",
            "Episode:  450\n",
            "Episode:  500\n",
            "Episode:  550\n",
            "Episode:  600\n",
            "Episode:  650\n",
            "Episode:  700\n",
            "Episode:  750\n",
            "Episode:  800\n",
            "Episode:  850\n",
            "Episode:  900\n",
            "Episode:  950\n",
            "Episode:  1000\n",
            "Episode:  1050\n",
            "Episode:  1100\n",
            "Episode:  1150\n",
            "Episode:  1200\n",
            "Loss:  2.4515626\n",
            "Accuracy:  18.506938219070435\n"
          ]
        }
      ]
    },
    {
      "cell_type": "code",
      "source": [
        "model = Prototypical(support, query, 84, 84, 3)\n",
        "model_path = \"./results/models/mini_train4.h5\"\n",
        "model.load(model_path)\n",
        "print(\"Model loaded.\")\n",
        "\n",
        "#number of classes\n",
        "num_way = num_ways[4] \n",
        "\n",
        "#number of examples per class for support set\n",
        "num_shot = num_shots[4]  \n",
        "\n",
        "#number of query points\n",
        "num_query = num_shots[4] \n",
        "\n",
        "num_episodes = 1200\n",
        "\n",
        "# Metrics to gather\n",
        "test_loss = tf.metrics.Mean(name='test_loss')\n",
        "test_acc = tf.metrics.Mean(name='test_accuracy')\n",
        "\n",
        "def calc_loss(support, query):\n",
        "  loss, acc = model(support, query)\n",
        "  return loss, acc\n",
        "\n",
        "for i_episode in range(num_episodes):\n",
        "  test_support, test_query = get_next_batch(test_images, test_classes, num_way, num_shot, num_query)\n",
        "  if (i_episode+1)%50 == 0: \n",
        "    print(\"Episode: \", i_episode + 1)\n",
        "  loss, acc = calc_loss(test_support, test_query)\n",
        "  test_loss(loss)\n",
        "  test_acc(acc)\n",
        "\n",
        "print(\"Loss: \", test_loss.result().numpy())\n",
        "print(\"Accuracy: \", test_acc.result().numpy() * 100)"
      ],
      "metadata": {
        "colab": {
          "base_uri": "https://localhost:8080/"
        },
        "id": "_4EMascRm6bj",
        "outputId": "641bd6e6-1b92-4945-e5d8-b6775a5d58a7"
      },
      "execution_count": null,
      "outputs": [
        {
          "output_type": "stream",
          "name": "stdout",
          "text": [
            "Model loaded.\n",
            "Episode:  50\n",
            "Episode:  100\n",
            "Episode:  150\n",
            "Episode:  200\n",
            "Episode:  250\n",
            "Episode:  300\n",
            "Episode:  350\n",
            "Episode:  400\n",
            "Episode:  450\n",
            "Episode:  500\n",
            "Episode:  550\n",
            "Episode:  600\n",
            "Episode:  650\n",
            "Episode:  700\n",
            "Episode:  750\n",
            "Episode:  800\n",
            "Episode:  850\n",
            "Episode:  900\n",
            "Episode:  950\n",
            "Episode:  1000\n",
            "Episode:  1050\n",
            "Episode:  1100\n",
            "Episode:  1150\n",
            "Episode:  1200\n",
            "Loss:  2.077422\n",
            "Accuracy:  31.677737832069397\n"
          ]
        }
      ]
    },
    {
      "cell_type": "code",
      "source": [
        "#Now adding reptile to this\n",
        "meta_step_size = 0.25\n",
        "\n",
        "#number of classes\n",
        "num_way = num_ways[0] \n",
        "\n",
        "#number of examples per class for support set\n",
        "num_shot = num_shots[0]  \n",
        "\n",
        "#number of query points\n",
        "num_query = num_shots[0]\n",
        "\n",
        "eval_interval = 4\n",
        "\n",
        "train_loss = tf.metrics.Mean(name='train_loss')\n",
        "val_loss = tf.metrics.Mean(name='val_loss')\n",
        "train_acc = tf.metrics.Mean(name='train_accuracy')\n",
        "val_acc = tf.metrics.Mean(name='val_accuracy')\n",
        "\n",
        "model = Prototypical(support, query, 84, 84, 3)\n",
        "optimizer_adam = tf.keras.optimizers.Adam(0.001)\n",
        "optimizer_sgd = tf.keras.optimizers.SGD(0.001)\n",
        "\n",
        "num_epochs = 241\n",
        "num_episodes = 80\n",
        "save_path = \"./results/models/mini_train_reptile0.h5\"\n",
        "\n",
        "@tf.function\n",
        "def loss(support, query):\n",
        "  loss, acc = model(support, query)\n",
        "  return loss, acc\n",
        "\n",
        "@tf.function\n",
        "def train_step(support, query, optimizer):\n",
        "  with tf.GradientTape() as tape:\n",
        "    loss, acc = model(support, query)\n",
        "  gradients = tape.gradient(loss, model.trainable_variables)\n",
        "  optimizer.apply_gradients(\n",
        "        zip(gradients, model.trainable_variables))\n",
        "  \n",
        "  \n",
        "  train_loss(loss)\n",
        "  train_acc(acc)\n",
        "  \n",
        "\n",
        "@tf.function\n",
        "def val_step(support, query, optimizer):\n",
        "  with tf.GradientTape() as tape:\n",
        "    loss, acc = model(support, query)\n",
        "  gradients = tape.gradient(loss, model.trainable_variables)\n",
        "  optimizer.apply_gradients(\n",
        "        zip(gradients, model.trainable_variables))\n",
        "  \n",
        "  val_loss(loss)\n",
        "  val_acc(acc)\n",
        "\n",
        "\n",
        "least_loss = {'least_loss': 100.00}\n",
        "for epoch in range(num_epochs):\n",
        "  train_loss.reset_states()\n",
        "  val_loss.reset_states()\n",
        "  train_acc.reset_states()\n",
        "  val_acc.reset_states()\n",
        "\n",
        "  for episode in range(num_episodes):\n",
        "    frac_done = episode / num_episodes\n",
        "    cur_meta_step_size = (1 - frac_done) * meta_step_size\n",
        "    train_support, train_query = get_next_batch(train_images, train_classes, num_way, num_shot, num_query)\n",
        "\n",
        "    #old_vars = model.get_weights()\n",
        "    train_step(train_support, train_query, optimizer_adam)\n",
        "    new_vars = model.get_weights()\n",
        "\n",
        "    if epoch % eval_interval == 0:\n",
        "      eval_support, eval_query = get_next_batch(val_images, val_classes, num_way, num_shot, num_query)\n",
        "      old_vars = model.get_weights()\n",
        "      val_step(eval_support, eval_query, optimizer_sgd)\n",
        "      model.set_weights(old_vars)\n",
        "      \n",
        "  cur_loss = val_loss.result().numpy()\n",
        "\n",
        "  if (epoch % eval_interval == 0):\n",
        "    template = 'Epoch {}, Loss: {}, Accuracy: {}, ' \\\n",
        "                  'Val Loss: {}, Val Accuracy: {}'\n",
        "    print(template.format(epoch + 1, train_loss.result(), train_acc.result() * 100, val_loss.result(),\n",
        "                            val_acc.result() * 100))\n",
        "    if cur_loss < least_loss['least_loss']:\n",
        "      print(\"Saving new best model with loss: \", cur_loss)\n",
        "      least_loss['least_loss'] = cur_loss\n",
        "      model.save(save_path)"
      ],
      "metadata": {
        "colab": {
          "base_uri": "https://localhost:8080/"
        },
        "id": "ePEbckbkzu0Z",
        "outputId": "554a4d6e-6af2-4483-eff1-94ae10da6b5f"
      },
      "execution_count": null,
      "outputs": [
        {
          "output_type": "stream",
          "name": "stderr",
          "text": [
            "WARNING:tensorflow:Compiled the loaded model, but the compiled metrics have yet to be built. `model.compile_metrics` will be empty until you train or evaluate the model.\n"
          ]
        },
        {
          "output_type": "stream",
          "name": "stdout",
          "text": [
            "Epoch 1, Loss: 1.5687639713287354, Accuracy: 32.900001525878906, Val Loss: 1.5685588121414185, Val Accuracy: 29.69999885559082\n",
            "Saving new best model with loss:  1.5685588\n"
          ]
        },
        {
          "output_type": "stream",
          "name": "stderr",
          "text": [
            "WARNING:tensorflow:Compiled the loaded model, but the compiled metrics have yet to be built. `model.compile_metrics` will be empty until you train or evaluate the model.\n"
          ]
        },
        {
          "output_type": "stream",
          "name": "stdout",
          "text": [
            "Epoch 5, Loss: 1.410036325454712, Accuracy: 41.14999771118164, Val Loss: 1.5111862421035767, Val Accuracy: 35.30000305175781\n",
            "Saving new best model with loss:  1.5111862\n"
          ]
        },
        {
          "output_type": "stream",
          "name": "stderr",
          "text": [
            "WARNING:tensorflow:Compiled the loaded model, but the compiled metrics have yet to be built. `model.compile_metrics` will be empty until you train or evaluate the model.\n"
          ]
        },
        {
          "output_type": "stream",
          "name": "stdout",
          "text": [
            "Epoch 9, Loss: 1.374268651008606, Accuracy: 43.15000534057617, Val Loss: 1.510215163230896, Val Accuracy: 34.85000228881836\n",
            "Saving new best model with loss:  1.5102152\n"
          ]
        },
        {
          "output_type": "stream",
          "name": "stderr",
          "text": [
            "WARNING:tensorflow:Compiled the loaded model, but the compiled metrics have yet to be built. `model.compile_metrics` will be empty until you train or evaluate the model.\n"
          ]
        },
        {
          "output_type": "stream",
          "name": "stdout",
          "text": [
            "Epoch 13, Loss: 1.3341553211212158, Accuracy: 44.89999771118164, Val Loss: 1.431147813796997, Val Accuracy: 39.44999694824219\n",
            "Saving new best model with loss:  1.4311478\n",
            "Epoch 17, Loss: 1.3370475769042969, Accuracy: 46.60000228881836, Val Loss: 1.4636285305023193, Val Accuracy: 39.89999771118164\n",
            "Epoch 21, Loss: 1.3117353916168213, Accuracy: 46.199981689453125, Val Loss: 1.4324085712432861, Val Accuracy: 40.99999237060547\n"
          ]
        },
        {
          "output_type": "stream",
          "name": "stderr",
          "text": [
            "WARNING:tensorflow:Compiled the loaded model, but the compiled metrics have yet to be built. `model.compile_metrics` will be empty until you train or evaluate the model.\n"
          ]
        },
        {
          "output_type": "stream",
          "name": "stdout",
          "text": [
            "Epoch 25, Loss: 1.2912191152572632, Accuracy: 48.80000686645508, Val Loss: 1.4046661853790283, Val Accuracy: 42.849998474121094\n",
            "Saving new best model with loss:  1.4046662\n"
          ]
        },
        {
          "output_type": "stream",
          "name": "stderr",
          "text": [
            "WARNING:tensorflow:Compiled the loaded model, but the compiled metrics have yet to be built. `model.compile_metrics` will be empty until you train or evaluate the model.\n"
          ]
        },
        {
          "output_type": "stream",
          "name": "stdout",
          "text": [
            "Epoch 29, Loss: 1.1994282007217407, Accuracy: 52.250003814697266, Val Loss: 1.3838824033737183, Val Accuracy: 43.29999923706055\n",
            "Saving new best model with loss:  1.3838824\n",
            "Epoch 33, Loss: 1.2852752208709717, Accuracy: 49.79999542236328, Val Loss: 1.4045792818069458, Val Accuracy: 41.20000076293945\n"
          ]
        },
        {
          "output_type": "stream",
          "name": "stderr",
          "text": [
            "WARNING:tensorflow:Compiled the loaded model, but the compiled metrics have yet to be built. `model.compile_metrics` will be empty until you train or evaluate the model.\n"
          ]
        },
        {
          "output_type": "stream",
          "name": "stdout",
          "text": [
            "Epoch 37, Loss: 1.170770287513733, Accuracy: 53.45000076293945, Val Loss: 1.3505057096481323, Val Accuracy: 44.249996185302734\n",
            "Saving new best model with loss:  1.3505057\n"
          ]
        },
        {
          "output_type": "stream",
          "name": "stderr",
          "text": [
            "WARNING:tensorflow:Compiled the loaded model, but the compiled metrics have yet to be built. `model.compile_metrics` will be empty until you train or evaluate the model.\n"
          ]
        },
        {
          "output_type": "stream",
          "name": "stdout",
          "text": [
            "Epoch 41, Loss: 1.184809684753418, Accuracy: 53.25001525878906, Val Loss: 1.2962782382965088, Val Accuracy: 48.750003814697266\n",
            "Saving new best model with loss:  1.2962782\n",
            "Epoch 45, Loss: 1.1773916482925415, Accuracy: 54.10000228881836, Val Loss: 1.316175937652588, Val Accuracy: 46.34999465942383\n",
            "Epoch 49, Loss: 1.1020292043685913, Accuracy: 55.89999008178711, Val Loss: 1.3271831274032593, Val Accuracy: 46.649993896484375\n"
          ]
        },
        {
          "output_type": "stream",
          "name": "stderr",
          "text": [
            "WARNING:tensorflow:Compiled the loaded model, but the compiled metrics have yet to be built. `model.compile_metrics` will be empty until you train or evaluate the model.\n"
          ]
        },
        {
          "output_type": "stream",
          "name": "stdout",
          "text": [
            "Epoch 53, Loss: 1.124037742614746, Accuracy: 55.75, Val Loss: 1.2686288356781006, Val Accuracy: 48.19999313354492\n",
            "Saving new best model with loss:  1.2686288\n"
          ]
        },
        {
          "output_type": "stream",
          "name": "stderr",
          "text": [
            "WARNING:tensorflow:Compiled the loaded model, but the compiled metrics have yet to be built. `model.compile_metrics` will be empty until you train or evaluate the model.\n"
          ]
        },
        {
          "output_type": "stream",
          "name": "stdout",
          "text": [
            "Epoch 57, Loss: 1.100923776626587, Accuracy: 55.44999313354492, Val Loss: 1.2508625984191895, Val Accuracy: 49.54999542236328\n",
            "Saving new best model with loss:  1.2508626\n"
          ]
        },
        {
          "output_type": "stream",
          "name": "stderr",
          "text": [
            "WARNING:tensorflow:Compiled the loaded model, but the compiled metrics have yet to be built. `model.compile_metrics` will be empty until you train or evaluate the model.\n"
          ]
        },
        {
          "output_type": "stream",
          "name": "stdout",
          "text": [
            "Epoch 61, Loss: 1.1075623035430908, Accuracy: 56.99999237060547, Val Loss: 1.2438013553619385, Val Accuracy: 50.99999237060547\n",
            "Saving new best model with loss:  1.2438014\n"
          ]
        },
        {
          "output_type": "stream",
          "name": "stderr",
          "text": [
            "WARNING:tensorflow:Compiled the loaded model, but the compiled metrics have yet to be built. `model.compile_metrics` will be empty until you train or evaluate the model.\n"
          ]
        },
        {
          "output_type": "stream",
          "name": "stdout",
          "text": [
            "Epoch 65, Loss: 1.0883362293243408, Accuracy: 56.04999542236328, Val Loss: 1.1948282718658447, Val Accuracy: 51.849998474121094\n",
            "Saving new best model with loss:  1.1948283\n",
            "Epoch 69, Loss: 1.0805079936981201, Accuracy: 57.44999694824219, Val Loss: 1.2123806476593018, Val Accuracy: 50.05000305175781\n"
          ]
        },
        {
          "output_type": "stream",
          "name": "stderr",
          "text": [
            "WARNING:tensorflow:Compiled the loaded model, but the compiled metrics have yet to be built. `model.compile_metrics` will be empty until you train or evaluate the model.\n"
          ]
        },
        {
          "output_type": "stream",
          "name": "stdout",
          "text": [
            "Epoch 73, Loss: 1.0490753650665283, Accuracy: 58.399993896484375, Val Loss: 1.172498345375061, Val Accuracy: 53.14999771118164\n",
            "Saving new best model with loss:  1.1724983\n"
          ]
        },
        {
          "output_type": "stream",
          "name": "stderr",
          "text": [
            "WARNING:tensorflow:Compiled the loaded model, but the compiled metrics have yet to be built. `model.compile_metrics` will be empty until you train or evaluate the model.\n"
          ]
        },
        {
          "output_type": "stream",
          "name": "stdout",
          "text": [
            "Epoch 77, Loss: 1.0213329792022705, Accuracy: 60.699989318847656, Val Loss: 1.1624553203582764, Val Accuracy: 52.999996185302734\n",
            "Saving new best model with loss:  1.1624553\n",
            "Epoch 81, Loss: 1.0117766857147217, Accuracy: 60.299991607666016, Val Loss: 1.1897605657577515, Val Accuracy: 52.75001525878906\n",
            "Epoch 85, Loss: 1.014984369277954, Accuracy: 60.800010681152344, Val Loss: 1.1647636890411377, Val Accuracy: 53.45000076293945\n"
          ]
        },
        {
          "output_type": "stream",
          "name": "stderr",
          "text": [
            "WARNING:tensorflow:Compiled the loaded model, but the compiled metrics have yet to be built. `model.compile_metrics` will be empty until you train or evaluate the model.\n"
          ]
        },
        {
          "output_type": "stream",
          "name": "stdout",
          "text": [
            "Epoch 89, Loss: 1.0324428081512451, Accuracy: 60.050010681152344, Val Loss: 1.152129888534546, Val Accuracy: 54.549991607666016\n",
            "Saving new best model with loss:  1.1521299\n"
          ]
        },
        {
          "output_type": "stream",
          "name": "stderr",
          "text": [
            "WARNING:tensorflow:Compiled the loaded model, but the compiled metrics have yet to be built. `model.compile_metrics` will be empty until you train or evaluate the model.\n"
          ]
        },
        {
          "output_type": "stream",
          "name": "stdout",
          "text": [
            "Epoch 93, Loss: 1.0136797428131104, Accuracy: 60.39997863769531, Val Loss: 1.1458489894866943, Val Accuracy: 54.35000228881836\n",
            "Saving new best model with loss:  1.145849\n"
          ]
        },
        {
          "output_type": "stream",
          "name": "stderr",
          "text": [
            "WARNING:tensorflow:Compiled the loaded model, but the compiled metrics have yet to be built. `model.compile_metrics` will be empty until you train or evaluate the model.\n"
          ]
        },
        {
          "output_type": "stream",
          "name": "stdout",
          "text": [
            "Epoch 97, Loss: 0.972561240196228, Accuracy: 60.44999313354492, Val Loss: 1.1243996620178223, Val Accuracy: 55.70000457763672\n",
            "Saving new best model with loss:  1.1243997\n",
            "Epoch 101, Loss: 0.967613697052002, Accuracy: 61.8499870300293, Val Loss: 1.1694211959838867, Val Accuracy: 52.35000991821289\n",
            "Epoch 105, Loss: 0.9728027582168579, Accuracy: 62.149993896484375, Val Loss: 1.1571587324142456, Val Accuracy: 54.34999465942383\n"
          ]
        },
        {
          "output_type": "stream",
          "name": "stderr",
          "text": [
            "WARNING:tensorflow:Compiled the loaded model, but the compiled metrics have yet to be built. `model.compile_metrics` will be empty until you train or evaluate the model.\n"
          ]
        },
        {
          "output_type": "stream",
          "name": "stdout",
          "text": [
            "Epoch 109, Loss: 0.9523628950119019, Accuracy: 63.14999008178711, Val Loss: 1.1014606952667236, Val Accuracy: 55.09999465942383\n",
            "Saving new best model with loss:  1.1014607\n",
            "Epoch 113, Loss: 0.9632042646408081, Accuracy: 63.100006103515625, Val Loss: 1.1432597637176514, Val Accuracy: 55.0\n",
            "Epoch 117, Loss: 0.890265941619873, Accuracy: 65.94998931884766, Val Loss: 1.1766247749328613, Val Accuracy: 54.80000305175781\n",
            "Epoch 121, Loss: 0.9409799575805664, Accuracy: 63.19999694824219, Val Loss: 1.1101077795028687, Val Accuracy: 56.100006103515625\n",
            "Epoch 125, Loss: 0.9629724621772766, Accuracy: 62.69998550415039, Val Loss: 1.136988878250122, Val Accuracy: 55.20001220703125\n",
            "Epoch 129, Loss: 0.8705919981002808, Accuracy: 66.04999542236328, Val Loss: 1.1188257932662964, Val Accuracy: 55.89999008178711\n",
            "Epoch 133, Loss: 0.9055390357971191, Accuracy: 65.49998474121094, Val Loss: 1.126697063446045, Val Accuracy: 56.19999313354492\n",
            "Epoch 137, Loss: 0.884649395942688, Accuracy: 65.64997863769531, Val Loss: 1.1190046072006226, Val Accuracy: 56.40000534057617\n",
            "Epoch 141, Loss: 0.903900146484375, Accuracy: 64.6500015258789, Val Loss: 1.1045467853546143, Val Accuracy: 55.79999542236328\n",
            "Epoch 145, Loss: 0.8972043991088867, Accuracy: 66.14998626708984, Val Loss: 1.1476428508758545, Val Accuracy: 53.74999237060547\n"
          ]
        },
        {
          "output_type": "stream",
          "name": "stderr",
          "text": [
            "WARNING:tensorflow:Compiled the loaded model, but the compiled metrics have yet to be built. `model.compile_metrics` will be empty until you train or evaluate the model.\n"
          ]
        },
        {
          "output_type": "stream",
          "name": "stdout",
          "text": [
            "Epoch 149, Loss: 0.8788949847221375, Accuracy: 66.9000015258789, Val Loss: 1.0681712627410889, Val Accuracy: 58.10000228881836\n",
            "Saving new best model with loss:  1.0681713\n"
          ]
        },
        {
          "output_type": "stream",
          "name": "stderr",
          "text": [
            "WARNING:tensorflow:Compiled the loaded model, but the compiled metrics have yet to be built. `model.compile_metrics` will be empty until you train or evaluate the model.\n"
          ]
        },
        {
          "output_type": "stream",
          "name": "stdout",
          "text": [
            "Epoch 153, Loss: 0.8872278332710266, Accuracy: 66.94998168945312, Val Loss: 1.0670924186706543, Val Accuracy: 57.950008392333984\n",
            "Saving new best model with loss:  1.0670924\n"
          ]
        },
        {
          "output_type": "stream",
          "name": "stderr",
          "text": [
            "WARNING:tensorflow:Compiled the loaded model, but the compiled metrics have yet to be built. `model.compile_metrics` will be empty until you train or evaluate the model.\n"
          ]
        },
        {
          "output_type": "stream",
          "name": "stdout",
          "text": [
            "Epoch 157, Loss: 0.8548440933227539, Accuracy: 67.79998779296875, Val Loss: 1.0553786754608154, Val Accuracy: 58.84999084472656\n",
            "Saving new best model with loss:  1.0553787\n",
            "Epoch 161, Loss: 0.8527372479438782, Accuracy: 67.19999694824219, Val Loss: 1.0781899690628052, Val Accuracy: 57.399993896484375\n",
            "Epoch 165, Loss: 0.8379896879196167, Accuracy: 67.94998931884766, Val Loss: 1.080566167831421, Val Accuracy: 58.149993896484375\n",
            "Epoch 169, Loss: 0.8397260904312134, Accuracy: 68.0, Val Loss: 1.0621590614318848, Val Accuracy: 57.0000114440918\n",
            "Epoch 173, Loss: 0.8423612713813782, Accuracy: 67.44998931884766, Val Loss: 1.097273588180542, Val Accuracy: 56.79999542236328\n"
          ]
        },
        {
          "output_type": "stream",
          "name": "stderr",
          "text": [
            "WARNING:tensorflow:Compiled the loaded model, but the compiled metrics have yet to be built. `model.compile_metrics` will be empty until you train or evaluate the model.\n"
          ]
        },
        {
          "output_type": "stream",
          "name": "stdout",
          "text": [
            "Epoch 177, Loss: 0.8411871790885925, Accuracy: 67.29999542236328, Val Loss: 1.0272552967071533, Val Accuracy: 59.39999771118164\n",
            "Saving new best model with loss:  1.0272553\n",
            "Epoch 181, Loss: 0.7673887014389038, Accuracy: 70.79998016357422, Val Loss: 1.0511319637298584, Val Accuracy: 59.59999465942383\n"
          ]
        },
        {
          "output_type": "stream",
          "name": "stderr",
          "text": [
            "WARNING:tensorflow:Compiled the loaded model, but the compiled metrics have yet to be built. `model.compile_metrics` will be empty until you train or evaluate the model.\n"
          ]
        },
        {
          "output_type": "stream",
          "name": "stdout",
          "text": [
            "Epoch 185, Loss: 0.8314348459243774, Accuracy: 68.20000457763672, Val Loss: 1.002378225326538, Val Accuracy: 61.299983978271484\n",
            "Saving new best model with loss:  1.0023782\n",
            "Epoch 189, Loss: 0.8384829759597778, Accuracy: 67.54998016357422, Val Loss: 1.0177638530731201, Val Accuracy: 59.79998779296875\n",
            "Epoch 193, Loss: 0.8177103996276855, Accuracy: 68.80000305175781, Val Loss: 1.0771907567977905, Val Accuracy: 57.5\n",
            "Epoch 197, Loss: 0.7554016709327698, Accuracy: 71.8499755859375, Val Loss: 1.0432859659194946, Val Accuracy: 58.74998474121094\n",
            "Epoch 201, Loss: 0.7889447808265686, Accuracy: 69.99999237060547, Val Loss: 1.0385082960128784, Val Accuracy: 58.749996185302734\n",
            "Epoch 205, Loss: 0.7809329032897949, Accuracy: 70.34999084472656, Val Loss: 1.0121757984161377, Val Accuracy: 61.19999313354492\n",
            "Epoch 209, Loss: 0.8142234683036804, Accuracy: 69.24998474121094, Val Loss: 1.0393803119659424, Val Accuracy: 58.54999923706055\n",
            "Epoch 213, Loss: 0.8237964510917664, Accuracy: 68.64998626708984, Val Loss: 1.026256799697876, Val Accuracy: 58.34999084472656\n"
          ]
        },
        {
          "output_type": "stream",
          "name": "stderr",
          "text": [
            "WARNING:tensorflow:Compiled the loaded model, but the compiled metrics have yet to be built. `model.compile_metrics` will be empty until you train or evaluate the model.\n"
          ]
        },
        {
          "output_type": "stream",
          "name": "stdout",
          "text": [
            "Epoch 217, Loss: 0.7585744261741638, Accuracy: 71.69998931884766, Val Loss: 0.9907397031784058, Val Accuracy: 59.90000915527344\n",
            "Saving new best model with loss:  0.9907397\n",
            "Epoch 221, Loss: 0.8040325045585632, Accuracy: 69.29997253417969, Val Loss: 1.025676965713501, Val Accuracy: 59.79998779296875\n",
            "Epoch 225, Loss: 0.8126486539840698, Accuracy: 69.19998931884766, Val Loss: 1.0069036483764648, Val Accuracy: 59.54998779296875\n",
            "Epoch 229, Loss: 0.7417768836021423, Accuracy: 72.54999542236328, Val Loss: 1.0102782249450684, Val Accuracy: 60.44999313354492\n"
          ]
        },
        {
          "output_type": "stream",
          "name": "stderr",
          "text": [
            "WARNING:tensorflow:Compiled the loaded model, but the compiled metrics have yet to be built. `model.compile_metrics` will be empty until you train or evaluate the model.\n"
          ]
        },
        {
          "output_type": "stream",
          "name": "stdout",
          "text": [
            "Epoch 233, Loss: 0.7657796144485474, Accuracy: 70.39998626708984, Val Loss: 0.9757859110832214, Val Accuracy: 63.049991607666016\n",
            "Saving new best model with loss:  0.9757859\n",
            "Epoch 237, Loss: 0.7894130945205688, Accuracy: 69.99998474121094, Val Loss: 1.0738450288772583, Val Accuracy: 56.85000991821289\n",
            "Epoch 241, Loss: 0.8044556379318237, Accuracy: 69.80001068115234, Val Loss: 0.9870232343673706, Val Accuracy: 63.049991607666016\n"
          ]
        }
      ]
    },
    {
      "cell_type": "code",
      "source": [
        "#Now adding reptile to this\n",
        "meta_step_size = 0.25\n",
        "\n",
        "#number of classes\n",
        "num_way = num_ways[1] \n",
        "\n",
        "#number of examples per class for support set\n",
        "num_shot = num_shots[1]  \n",
        "\n",
        "#number of query points\n",
        "num_query = num_shots[1]\n",
        "\n",
        "#eval_iters = 20\n",
        "eval_interval = 4\n",
        "\n",
        "train_loss = tf.metrics.Mean(name='train_loss')\n",
        "val_loss = tf.metrics.Mean(name='val_loss')\n",
        "train_acc = tf.metrics.Mean(name='train_accuracy')\n",
        "val_acc = tf.metrics.Mean(name='val_accuracy')\n",
        "\n",
        "model = Prototypical(support, query, 84, 84, 3)\n",
        "optimizer_adam = tf.keras.optimizers.Adam(0.001)\n",
        "optimizer_sgd = tf.keras.optimizers.SGD(0.001)\n",
        "\n",
        "num_epochs = 241\n",
        "num_episodes = 80\n",
        "save_path = \"./results/models/mini_train_reptile1.h5\"\n",
        "\n",
        "@tf.function\n",
        "def loss(support, query):\n",
        "  loss, acc = model(support, query)\n",
        "  return loss, acc\n",
        "\n",
        "@tf.function\n",
        "def train_step(support, query, optimizer):\n",
        "  with tf.GradientTape() as tape:\n",
        "    loss, acc = model(support, query)\n",
        "  gradients = tape.gradient(loss, model.trainable_variables)\n",
        "  optimizer.apply_gradients(\n",
        "        zip(gradients, model.trainable_variables))\n",
        "  \n",
        "  \n",
        "  train_loss(loss)\n",
        "  train_acc(acc)\n",
        "  \n",
        "\n",
        "@tf.function\n",
        "def val_step(support, query, optimizer):\n",
        "  with tf.GradientTape() as tape:\n",
        "    loss, acc = model(support, query)\n",
        "  gradients = tape.gradient(loss, model.trainable_variables)\n",
        "  optimizer.apply_gradients(\n",
        "        zip(gradients, model.trainable_variables))\n",
        "  \n",
        "  val_loss(loss)\n",
        "  val_acc(acc)\n",
        "\n",
        "\n",
        "least_loss = {'least_loss': 100.00}\n",
        "for epoch in range(num_epochs):\n",
        "  train_loss.reset_states()\n",
        "  val_loss.reset_states()\n",
        "  train_acc.reset_states()\n",
        "  val_acc.reset_states()\n",
        "\n",
        "  for episode in range(num_episodes):\n",
        "    frac_done = episode / num_episodes\n",
        "    cur_meta_step_size = (1 - frac_done) * meta_step_size\n",
        "    train_support, train_query = get_next_batch(train_images, train_classes, num_way, num_shot, num_query)\n",
        "\n",
        "    #old_vars = model.get_weights()\n",
        "    train_step(train_support, train_query, optimizer_adam)\n",
        "    new_vars = model.get_weights()\n",
        "\n",
        "    if epoch % eval_interval == 0:\n",
        "      eval_support, eval_query = get_next_batch(val_images, val_classes, num_way, num_shot, num_query)\n",
        "      old_vars = model.get_weights()\n",
        "      val_step(eval_support, eval_query, optimizer_sgd)\n",
        "      model.set_weights(old_vars)\n",
        "      \n",
        "  cur_loss = val_loss.result().numpy()\n",
        "\n",
        "  if (epoch % eval_interval == 0):\n",
        "    template = 'Epoch {}, Loss: {}, Accuracy: {}, ' \\\n",
        "                  'Val Loss: {}, Val Accuracy: {}'\n",
        "    print(template.format(epoch + 1, train_loss.result(), train_acc.result() * 100, val_loss.result(),\n",
        "                            val_acc.result() * 100))\n",
        "    if cur_loss < least_loss['least_loss']:\n",
        "      print(\"Saving new best model with loss: \", cur_loss)\n",
        "      least_loss['least_loss'] = cur_loss\n",
        "      model.save(save_path)"
      ],
      "metadata": {
        "colab": {
          "base_uri": "https://localhost:8080/"
        },
        "id": "hl-umB597iOi",
        "outputId": "97e3006a-03a1-42a8-9e6f-0359ee2787a6"
      },
      "execution_count": null,
      "outputs": [
        {
          "output_type": "stream",
          "name": "stderr",
          "text": [
            "WARNING:tensorflow:Compiled the loaded model, but the compiled metrics have yet to be built. `model.compile_metrics` will be empty until you train or evaluate the model.\n"
          ]
        },
        {
          "output_type": "stream",
          "name": "stdout",
          "text": [
            "Epoch 1, Loss: 1.6130361557006836, Accuracy: 28.5000057220459, Val Loss: 1.644091010093689, Val Accuracy: 20.49999237060547\n",
            "Saving new best model with loss:  1.644091\n"
          ]
        },
        {
          "output_type": "stream",
          "name": "stderr",
          "text": [
            "WARNING:tensorflow:Compiled the loaded model, but the compiled metrics have yet to be built. `model.compile_metrics` will be empty until you train or evaluate the model.\n"
          ]
        },
        {
          "output_type": "stream",
          "name": "stdout",
          "text": [
            "Epoch 5, Loss: 1.5820791721343994, Accuracy: 26.249998092651367, Val Loss: 1.6073154211044312, Val Accuracy: 24.999996185302734\n",
            "Saving new best model with loss:  1.6073154\n"
          ]
        },
        {
          "output_type": "stream",
          "name": "stderr",
          "text": [
            "WARNING:tensorflow:Compiled the loaded model, but the compiled metrics have yet to be built. `model.compile_metrics` will be empty until you train or evaluate the model.\n"
          ]
        },
        {
          "output_type": "stream",
          "name": "stdout",
          "text": [
            "Epoch 9, Loss: 1.5813143253326416, Accuracy: 27.749998092651367, Val Loss: 1.5864636898040771, Val Accuracy: 29.249998092651367\n",
            "Saving new best model with loss:  1.5864637\n",
            "Epoch 13, Loss: 1.5897787809371948, Accuracy: 29.749998092651367, Val Loss: 1.6065107583999634, Val Accuracy: 26.499998092651367\n",
            "Epoch 17, Loss: 1.5519328117370605, Accuracy: 30.7500057220459, Val Loss: 1.6113303899765015, Val Accuracy: 25.25\n",
            "Epoch 21, Loss: 1.585637092590332, Accuracy: 28.0, Val Loss: 1.599092960357666, Val Accuracy: 26.750001907348633\n"
          ]
        },
        {
          "output_type": "stream",
          "name": "stderr",
          "text": [
            "WARNING:tensorflow:Compiled the loaded model, but the compiled metrics have yet to be built. `model.compile_metrics` will be empty until you train or evaluate the model.\n"
          ]
        },
        {
          "output_type": "stream",
          "name": "stdout",
          "text": [
            "Epoch 25, Loss: 1.5822454690933228, Accuracy: 29.249998092651367, Val Loss: 1.577925443649292, Val Accuracy: 30.499998092651367\n",
            "Saving new best model with loss:  1.5779254\n",
            "Epoch 29, Loss: 1.5759179592132568, Accuracy: 28.75, Val Loss: 1.6050889492034912, Val Accuracy: 20.49999237060547\n",
            "Epoch 33, Loss: 1.593985676765442, Accuracy: 28.250003814697266, Val Loss: 1.5973998308181763, Val Accuracy: 25.5\n",
            "Epoch 37, Loss: 1.5484685897827148, Accuracy: 29.500003814697266, Val Loss: 1.5922281742095947, Val Accuracy: 27.5\n",
            "Epoch 41, Loss: 1.5738558769226074, Accuracy: 30.75, Val Loss: 1.601827621459961, Val Accuracy: 26.9999942779541\n"
          ]
        },
        {
          "output_type": "stream",
          "name": "stderr",
          "text": [
            "WARNING:tensorflow:Compiled the loaded model, but the compiled metrics have yet to be built. `model.compile_metrics` will be empty until you train or evaluate the model.\n"
          ]
        },
        {
          "output_type": "stream",
          "name": "stdout",
          "text": [
            "Epoch 45, Loss: 1.5323460102081299, Accuracy: 32.250003814697266, Val Loss: 1.5577117204666138, Val Accuracy: 29.749996185302734\n",
            "Saving new best model with loss:  1.5577117\n"
          ]
        },
        {
          "output_type": "stream",
          "name": "stderr",
          "text": [
            "WARNING:tensorflow:Compiled the loaded model, but the compiled metrics have yet to be built. `model.compile_metrics` will be empty until you train or evaluate the model.\n"
          ]
        },
        {
          "output_type": "stream",
          "name": "stdout",
          "text": [
            "Epoch 49, Loss: 1.548316478729248, Accuracy: 33.250003814697266, Val Loss: 1.5470187664031982, Val Accuracy: 33.250003814697266\n",
            "Saving new best model with loss:  1.5470188\n",
            "Epoch 53, Loss: 1.5512734651565552, Accuracy: 29.749998092651367, Val Loss: 1.5844011306762695, Val Accuracy: 32.00000762939453\n",
            "Epoch 57, Loss: 1.5574556589126587, Accuracy: 29.750001907348633, Val Loss: 1.5891705751419067, Val Accuracy: 28.750001907348633\n",
            "Epoch 61, Loss: 1.509741187095642, Accuracy: 30.25000762939453, Val Loss: 1.6154817342758179, Val Accuracy: 27.000003814697266\n"
          ]
        },
        {
          "output_type": "stream",
          "name": "stderr",
          "text": [
            "WARNING:tensorflow:Compiled the loaded model, but the compiled metrics have yet to be built. `model.compile_metrics` will be empty until you train or evaluate the model.\n"
          ]
        },
        {
          "output_type": "stream",
          "name": "stdout",
          "text": [
            "Epoch 65, Loss: 1.5409810543060303, Accuracy: 29.500001907348633, Val Loss: 1.5338513851165771, Val Accuracy: 31.2500057220459\n",
            "Saving new best model with loss:  1.5338514\n",
            "Epoch 69, Loss: 1.5442607402801514, Accuracy: 29.250001907348633, Val Loss: 1.5634335279464722, Val Accuracy: 28.000003814697266\n",
            "Epoch 73, Loss: 1.517086386680603, Accuracy: 36.25, Val Loss: 1.5578986406326294, Val Accuracy: 29.249998092651367\n",
            "Epoch 77, Loss: 1.5654913187026978, Accuracy: 31.000003814697266, Val Loss: 1.5595148801803589, Val Accuracy: 31.0\n",
            "Epoch 81, Loss: 1.5794031620025635, Accuracy: 30.25000762939453, Val Loss: 1.5628633499145508, Val Accuracy: 29.00000762939453\n",
            "Epoch 85, Loss: 1.5463165044784546, Accuracy: 30.500009536743164, Val Loss: 1.5594274997711182, Val Accuracy: 32.250003814697266\n",
            "Epoch 89, Loss: 1.5354677438735962, Accuracy: 30.5, Val Loss: 1.5753402709960938, Val Accuracy: 27.75\n",
            "Epoch 93, Loss: 1.5598747730255127, Accuracy: 30.50000762939453, Val Loss: 1.5855567455291748, Val Accuracy: 27.749998092651367\n",
            "Epoch 97, Loss: 1.5387134552001953, Accuracy: 32.25, Val Loss: 1.5832561254501343, Val Accuracy: 30.7500057220459\n",
            "Epoch 101, Loss: 1.4894556999206543, Accuracy: 34.25, Val Loss: 1.6117112636566162, Val Accuracy: 31.750001907348633\n",
            "Epoch 105, Loss: 1.5041484832763672, Accuracy: 34.500003814697266, Val Loss: 1.597285270690918, Val Accuracy: 31.5\n",
            "Epoch 109, Loss: 1.449883222579956, Accuracy: 39.00000762939453, Val Loss: 1.5785738229751587, Val Accuracy: 29.500001907348633\n",
            "Epoch 113, Loss: 1.542140245437622, Accuracy: 31.5, Val Loss: 1.5987383127212524, Val Accuracy: 24.499996185302734\n",
            "Epoch 117, Loss: 1.5357649326324463, Accuracy: 33.50000762939453, Val Loss: 1.5712954998016357, Val Accuracy: 28.500001907348633\n",
            "Epoch 121, Loss: 1.525404691696167, Accuracy: 32.249996185302734, Val Loss: 1.5461790561676025, Val Accuracy: 32.5\n"
          ]
        },
        {
          "output_type": "stream",
          "name": "stderr",
          "text": [
            "WARNING:tensorflow:Compiled the loaded model, but the compiled metrics have yet to be built. `model.compile_metrics` will be empty until you train or evaluate the model.\n"
          ]
        },
        {
          "output_type": "stream",
          "name": "stdout",
          "text": [
            "Epoch 125, Loss: 1.5277248620986938, Accuracy: 35.00000762939453, Val Loss: 1.5217727422714233, Val Accuracy: 31.5\n",
            "Saving new best model with loss:  1.5217727\n",
            "Epoch 129, Loss: 1.503201961517334, Accuracy: 30.749998092651367, Val Loss: 1.5886571407318115, Val Accuracy: 27.249998092651367\n",
            "Epoch 133, Loss: 1.5454986095428467, Accuracy: 32.750003814697266, Val Loss: 1.5645116567611694, Val Accuracy: 28.249996185302734\n",
            "Epoch 137, Loss: 1.525734543800354, Accuracy: 34.00000762939453, Val Loss: 1.5416162014007568, Val Accuracy: 30.749998092651367\n",
            "Epoch 141, Loss: 1.4761741161346436, Accuracy: 37.250003814697266, Val Loss: 1.569703459739685, Val Accuracy: 30.500003814697266\n",
            "Epoch 145, Loss: 1.5428062677383423, Accuracy: 32.250003814697266, Val Loss: 1.57491135597229, Val Accuracy: 27.5\n",
            "Epoch 149, Loss: 1.4751659631729126, Accuracy: 35.00000762939453, Val Loss: 1.573196530342102, Val Accuracy: 30.000001907348633\n",
            "Epoch 153, Loss: 1.4609681367874146, Accuracy: 34.750003814697266, Val Loss: 1.5673631429672241, Val Accuracy: 28.5000057220459\n",
            "Epoch 157, Loss: 1.483062982559204, Accuracy: 31.5000057220459, Val Loss: 1.600832223892212, Val Accuracy: 25.75\n",
            "Epoch 161, Loss: 1.4555413722991943, Accuracy: 36.25, Val Loss: 1.5436029434204102, Val Accuracy: 32.249996185302734\n",
            "Epoch 165, Loss: 1.4759563207626343, Accuracy: 35.0, Val Loss: 1.5318641662597656, Val Accuracy: 31.000003814697266\n",
            "Epoch 169, Loss: 1.4915955066680908, Accuracy: 37.00000762939453, Val Loss: 1.5345830917358398, Val Accuracy: 32.75\n",
            "Epoch 173, Loss: 1.439029335975647, Accuracy: 38.249996185302734, Val Loss: 1.5697414875030518, Val Accuracy: 28.75\n",
            "Epoch 177, Loss: 1.4930157661437988, Accuracy: 34.00000762939453, Val Loss: 1.5359066724777222, Val Accuracy: 34.5\n",
            "Epoch 181, Loss: 1.4528520107269287, Accuracy: 39.5, Val Loss: 1.5497524738311768, Val Accuracy: 32.5\n"
          ]
        },
        {
          "output_type": "stream",
          "name": "stderr",
          "text": [
            "WARNING:tensorflow:Compiled the loaded model, but the compiled metrics have yet to be built. `model.compile_metrics` will be empty until you train or evaluate the model.\n"
          ]
        },
        {
          "output_type": "stream",
          "name": "stdout",
          "text": [
            "Epoch 185, Loss: 1.4846477508544922, Accuracy: 36.50000762939453, Val Loss: 1.5068364143371582, Val Accuracy: 34.250003814697266\n",
            "Saving new best model with loss:  1.5068364\n",
            "Epoch 189, Loss: 1.4675195217132568, Accuracy: 38.499996185302734, Val Loss: 1.565819501876831, Val Accuracy: 29.999996185302734\n",
            "Epoch 193, Loss: 1.4655476808547974, Accuracy: 34.500003814697266, Val Loss: 1.5359752178192139, Val Accuracy: 33.50000762939453\n",
            "Epoch 197, Loss: 1.4006098508834839, Accuracy: 40.75000762939453, Val Loss: 1.551054835319519, Val Accuracy: 33.750003814697266\n",
            "Epoch 201, Loss: 1.4497344493865967, Accuracy: 35.50000762939453, Val Loss: 1.5697112083435059, Val Accuracy: 34.25000762939453\n",
            "Epoch 205, Loss: 1.4708585739135742, Accuracy: 34.750003814697266, Val Loss: 1.537890076637268, Val Accuracy: 31.500001907348633\n",
            "Epoch 209, Loss: 1.4427387714385986, Accuracy: 36.250003814697266, Val Loss: 1.5509346723556519, Val Accuracy: 30.000001907348633\n",
            "Epoch 213, Loss: 1.457456111907959, Accuracy: 35.250003814697266, Val Loss: 1.5382784605026245, Val Accuracy: 29.249996185302734\n"
          ]
        },
        {
          "output_type": "stream",
          "name": "stderr",
          "text": [
            "WARNING:tensorflow:Compiled the loaded model, but the compiled metrics have yet to be built. `model.compile_metrics` will be empty until you train or evaluate the model.\n"
          ]
        },
        {
          "output_type": "stream",
          "name": "stdout",
          "text": [
            "Epoch 217, Loss: 1.4825212955474854, Accuracy: 34.249996185302734, Val Loss: 1.5051000118255615, Val Accuracy: 32.75000762939453\n",
            "Saving new best model with loss:  1.5051\n",
            "Epoch 221, Loss: 1.4528440237045288, Accuracy: 38.500003814697266, Val Loss: 1.5778149366378784, Val Accuracy: 29.249998092651367\n",
            "Epoch 225, Loss: 1.4329982995986938, Accuracy: 40.24999237060547, Val Loss: 1.5709507465362549, Val Accuracy: 31.000011444091797\n",
            "Epoch 229, Loss: 1.4290306568145752, Accuracy: 39.000003814697266, Val Loss: 1.6004383563995361, Val Accuracy: 32.5\n",
            "Epoch 233, Loss: 1.4489679336547852, Accuracy: 35.00000762939453, Val Loss: 1.5207191705703735, Val Accuracy: 35.250003814697266\n"
          ]
        },
        {
          "output_type": "stream",
          "name": "stderr",
          "text": [
            "WARNING:tensorflow:Compiled the loaded model, but the compiled metrics have yet to be built. `model.compile_metrics` will be empty until you train or evaluate the model.\n"
          ]
        },
        {
          "output_type": "stream",
          "name": "stdout",
          "text": [
            "Epoch 237, Loss: 1.3820923566818237, Accuracy: 40.500003814697266, Val Loss: 1.442484974861145, Val Accuracy: 36.50000762939453\n",
            "Saving new best model with loss:  1.442485\n",
            "Epoch 241, Loss: 1.468909502029419, Accuracy: 38.000003814697266, Val Loss: 1.4860527515411377, Val Accuracy: 35.000003814697266\n"
          ]
        }
      ]
    },
    {
      "cell_type": "code",
      "source": [
        "#Now adding reptile to this\n",
        "meta_step_size = 0.25\n",
        "\n",
        "#number of classes\n",
        "num_way = num_ways[2] \n",
        "\n",
        "#number of examples per class for support set\n",
        "num_shot = num_shots[2]  \n",
        "\n",
        "#number of query points\n",
        "num_query = num_shots[2]\n",
        "\n",
        "#eval_iters = 20\n",
        "eval_interval = 4\n",
        "\n",
        "train_loss = tf.metrics.Mean(name='train_loss')\n",
        "val_loss = tf.metrics.Mean(name='val_loss')\n",
        "train_acc = tf.metrics.Mean(name='train_accuracy')\n",
        "val_acc = tf.metrics.Mean(name='val_accuracy')\n",
        "\n",
        "model = Prototypical(support, query, 84, 84, 3)\n",
        "optimizer_adam = tf.keras.optimizers.Adam(0.001)\n",
        "optimizer_sgd = tf.keras.optimizers.SGD(0.001)\n",
        "\n",
        "num_epochs = 241\n",
        "num_episodes = 80\n",
        "save_path = \"./results/models/mini_train_reptile2.h5\"\n",
        "\n",
        "@tf.function\n",
        "def loss(support, query):\n",
        "  loss, acc = model(support, query)\n",
        "  return loss, acc\n",
        "\n",
        "@tf.function\n",
        "def train_step(support, query, optimizer):\n",
        "  with tf.GradientTape() as tape:\n",
        "    loss, acc = model(support, query)\n",
        "  gradients = tape.gradient(loss, model.trainable_variables)\n",
        "  optimizer.apply_gradients(\n",
        "        zip(gradients, model.trainable_variables))\n",
        "  \n",
        "  \n",
        "  train_loss(loss)\n",
        "  train_acc(acc)\n",
        "  \n",
        "\n",
        "@tf.function\n",
        "def val_step(support, query, optimizer):\n",
        "  with tf.GradientTape() as tape:\n",
        "    loss, acc = model(support, query)\n",
        "  gradients = tape.gradient(loss, model.trainable_variables)\n",
        "  optimizer.apply_gradients(\n",
        "        zip(gradients, model.trainable_variables))\n",
        "  \n",
        "  val_loss(loss)\n",
        "  val_acc(acc)\n",
        "\n",
        "\n",
        "least_loss = {'least_loss': 100.00}\n",
        "for epoch in range(num_epochs):\n",
        "  train_loss.reset_states()\n",
        "  val_loss.reset_states()\n",
        "  train_acc.reset_states()\n",
        "  val_acc.reset_states()\n",
        "\n",
        "  for episode in range(num_episodes):\n",
        "    frac_done = episode / num_episodes\n",
        "    cur_meta_step_size = (1 - frac_done) * meta_step_size\n",
        "    train_support, train_query = get_next_batch(train_images, train_classes, num_way, num_shot, num_query)\n",
        "\n",
        "    #old_vars = model.get_weights()\n",
        "    train_step(train_support, train_query, optimizer_adam)\n",
        "    new_vars = model.get_weights()\n",
        "\n",
        "    if epoch % eval_interval == 0:\n",
        "      eval_support, eval_query = get_next_batch(val_images, val_classes, num_way, num_shot, num_query)\n",
        "      old_vars = model.get_weights()\n",
        "      val_step(eval_support, eval_query, optimizer_sgd)\n",
        "      model.set_weights(old_vars)\n",
        "      \n",
        "  cur_loss = val_loss.result().numpy()\n",
        "\n",
        "  if (epoch % eval_interval == 0):\n",
        "    template = 'Epoch {}, Loss: {}, Accuracy: {}, ' \\\n",
        "                  'Val Loss: {}, Val Accuracy: {}'\n",
        "    print(template.format(epoch + 1, train_loss.result(), train_acc.result() * 100, val_loss.result(),\n",
        "                            val_acc.result() * 100))\n",
        "    if cur_loss < least_loss['least_loss']:\n",
        "      print(\"Saving new best model with loss: \", cur_loss)\n",
        "      least_loss['least_loss'] = cur_loss\n",
        "      model.save(save_path)"
      ],
      "metadata": {
        "colab": {
          "base_uri": "https://localhost:8080/"
        },
        "id": "udbxwpmv7ipm",
        "outputId": "138e8b43-adac-45d7-f7f7-4433cb763763"
      },
      "execution_count": null,
      "outputs": [
        {
          "output_type": "stream",
          "name": "stderr",
          "text": [
            "WARNING:tensorflow:Compiled the loaded model, but the compiled metrics have yet to be built. `model.compile_metrics` will be empty until you train or evaluate the model.\n"
          ]
        },
        {
          "output_type": "stream",
          "name": "stdout",
          "text": [
            "Epoch 1, Loss: 2.408997058868408, Accuracy: 17.729164123535156, Val Loss: 2.4316182136535645, Val Accuracy: 16.5625\n",
            "Saving new best model with loss:  2.4316182\n"
          ]
        },
        {
          "output_type": "stream",
          "name": "stderr",
          "text": [
            "WARNING:tensorflow:Compiled the loaded model, but the compiled metrics have yet to be built. `model.compile_metrics` will be empty until you train or evaluate the model.\n"
          ]
        },
        {
          "output_type": "stream",
          "name": "stdout",
          "text": [
            "Epoch 5, Loss: 2.2176103591918945, Accuracy: 25.5625, Val Loss: 2.327726364135742, Val Accuracy: 20.1875\n",
            "Saving new best model with loss:  2.3277264\n"
          ]
        },
        {
          "output_type": "stream",
          "name": "stderr",
          "text": [
            "WARNING:tensorflow:Compiled the loaded model, but the compiled metrics have yet to be built. `model.compile_metrics` will be empty until you train or evaluate the model.\n"
          ]
        },
        {
          "output_type": "stream",
          "name": "stdout",
          "text": [
            "Epoch 9, Loss: 2.0840868949890137, Accuracy: 29.666667938232422, Val Loss: 2.1876163482666016, Val Accuracy: 26.604169845581055\n",
            "Saving new best model with loss:  2.1876163\n"
          ]
        },
        {
          "output_type": "stream",
          "name": "stderr",
          "text": [
            "WARNING:tensorflow:Compiled the loaded model, but the compiled metrics have yet to be built. `model.compile_metrics` will be empty until you train or evaluate the model.\n"
          ]
        },
        {
          "output_type": "stream",
          "name": "stdout",
          "text": [
            "Epoch 13, Loss: 2.005608320236206, Accuracy: 33.04167556762695, Val Loss: 2.163437604904175, Val Accuracy: 26.47916603088379\n",
            "Saving new best model with loss:  2.1634376\n"
          ]
        },
        {
          "output_type": "stream",
          "name": "stderr",
          "text": [
            "WARNING:tensorflow:Compiled the loaded model, but the compiled metrics have yet to be built. `model.compile_metrics` will be empty until you train or evaluate the model.\n"
          ]
        },
        {
          "output_type": "stream",
          "name": "stdout",
          "text": [
            "Epoch 17, Loss: 1.9067245721817017, Accuracy: 36.312503814697266, Val Loss: 2.1146352291107178, Val Accuracy: 28.125003814697266\n",
            "Saving new best model with loss:  2.1146352\n"
          ]
        },
        {
          "output_type": "stream",
          "name": "stderr",
          "text": [
            "WARNING:tensorflow:Compiled the loaded model, but the compiled metrics have yet to be built. `model.compile_metrics` will be empty until you train or evaluate the model.\n"
          ]
        },
        {
          "output_type": "stream",
          "name": "stdout",
          "text": [
            "Epoch 21, Loss: 1.9231927394866943, Accuracy: 36.70832824707031, Val Loss: 2.0890212059020996, Val Accuracy: 30.083332061767578\n",
            "Saving new best model with loss:  2.0890212\n"
          ]
        },
        {
          "output_type": "stream",
          "name": "stderr",
          "text": [
            "WARNING:tensorflow:Compiled the loaded model, but the compiled metrics have yet to be built. `model.compile_metrics` will be empty until you train or evaluate the model.\n"
          ]
        },
        {
          "output_type": "stream",
          "name": "stdout",
          "text": [
            "Epoch 25, Loss: 1.8011224269866943, Accuracy: 39.72917175292969, Val Loss: 2.0151572227478027, Val Accuracy: 32.58333206176758\n",
            "Saving new best model with loss:  2.0151572\n"
          ]
        },
        {
          "output_type": "stream",
          "name": "stderr",
          "text": [
            "WARNING:tensorflow:Compiled the loaded model, but the compiled metrics have yet to be built. `model.compile_metrics` will be empty until you train or evaluate the model.\n"
          ]
        },
        {
          "output_type": "stream",
          "name": "stdout",
          "text": [
            "Epoch 29, Loss: 1.7490625381469727, Accuracy: 42.16667175292969, Val Loss: 1.9545249938964844, Val Accuracy: 35.77083969116211\n",
            "Saving new best model with loss:  1.954525\n",
            "Epoch 33, Loss: 1.7289870977401733, Accuracy: 42.687496185302734, Val Loss: 1.9685089588165283, Val Accuracy: 33.50000762939453\n"
          ]
        },
        {
          "output_type": "stream",
          "name": "stderr",
          "text": [
            "WARNING:tensorflow:Compiled the loaded model, but the compiled metrics have yet to be built. `model.compile_metrics` will be empty until you train or evaluate the model.\n"
          ]
        },
        {
          "output_type": "stream",
          "name": "stdout",
          "text": [
            "Epoch 37, Loss: 1.7354011535644531, Accuracy: 41.33332443237305, Val Loss: 1.916465163230896, Val Accuracy: 35.68750762939453\n",
            "Saving new best model with loss:  1.9164652\n"
          ]
        },
        {
          "output_type": "stream",
          "name": "stderr",
          "text": [
            "WARNING:tensorflow:Compiled the loaded model, but the compiled metrics have yet to be built. `model.compile_metrics` will be empty until you train or evaluate the model.\n"
          ]
        },
        {
          "output_type": "stream",
          "name": "stdout",
          "text": [
            "Epoch 41, Loss: 1.6916558742523193, Accuracy: 42.89583206176758, Val Loss: 1.8896223306655884, Val Accuracy: 35.749996185302734\n",
            "Saving new best model with loss:  1.8896223\n"
          ]
        },
        {
          "output_type": "stream",
          "name": "stderr",
          "text": [
            "WARNING:tensorflow:Compiled the loaded model, but the compiled metrics have yet to be built. `model.compile_metrics` will be empty until you train or evaluate the model.\n"
          ]
        },
        {
          "output_type": "stream",
          "name": "stdout",
          "text": [
            "Epoch 45, Loss: 1.6114002466201782, Accuracy: 46.58332824707031, Val Loss: 1.838401198387146, Val Accuracy: 37.70833206176758\n",
            "Saving new best model with loss:  1.8384012\n",
            "Epoch 49, Loss: 1.6545498371124268, Accuracy: 44.625003814697266, Val Loss: 1.8730733394622803, Val Accuracy: 36.85416793823242\n"
          ]
        },
        {
          "output_type": "stream",
          "name": "stderr",
          "text": [
            "WARNING:tensorflow:Compiled the loaded model, but the compiled metrics have yet to be built. `model.compile_metrics` will be empty until you train or evaluate the model.\n"
          ]
        },
        {
          "output_type": "stream",
          "name": "stdout",
          "text": [
            "Epoch 53, Loss: 1.5670280456542969, Accuracy: 47.41667175292969, Val Loss: 1.8354570865631104, Val Accuracy: 38.708335876464844\n",
            "Saving new best model with loss:  1.8354571\n"
          ]
        },
        {
          "output_type": "stream",
          "name": "stderr",
          "text": [
            "WARNING:tensorflow:Compiled the loaded model, but the compiled metrics have yet to be built. `model.compile_metrics` will be empty until you train or evaluate the model.\n"
          ]
        },
        {
          "output_type": "stream",
          "name": "stdout",
          "text": [
            "Epoch 57, Loss: 1.556731939315796, Accuracy: 47.937496185302734, Val Loss: 1.8282569646835327, Val Accuracy: 38.66666793823242\n",
            "Saving new best model with loss:  1.828257\n"
          ]
        },
        {
          "output_type": "stream",
          "name": "stderr",
          "text": [
            "WARNING:tensorflow:Compiled the loaded model, but the compiled metrics have yet to be built. `model.compile_metrics` will be empty until you train or evaluate the model.\n"
          ]
        },
        {
          "output_type": "stream",
          "name": "stdout",
          "text": [
            "Epoch 61, Loss: 1.465940237045288, Accuracy: 51.000003814697266, Val Loss: 1.8213859796524048, Val Accuracy: 37.666664123535156\n",
            "Saving new best model with loss:  1.821386\n"
          ]
        },
        {
          "output_type": "stream",
          "name": "stderr",
          "text": [
            "WARNING:tensorflow:Compiled the loaded model, but the compiled metrics have yet to be built. `model.compile_metrics` will be empty until you train or evaluate the model.\n"
          ]
        },
        {
          "output_type": "stream",
          "name": "stdout",
          "text": [
            "Epoch 65, Loss: 1.462490439414978, Accuracy: 50.72916793823242, Val Loss: 1.7796084880828857, Val Accuracy: 39.583335876464844\n",
            "Saving new best model with loss:  1.7796085\n"
          ]
        },
        {
          "output_type": "stream",
          "name": "stderr",
          "text": [
            "WARNING:tensorflow:Compiled the loaded model, but the compiled metrics have yet to be built. `model.compile_metrics` will be empty until you train or evaluate the model.\n"
          ]
        },
        {
          "output_type": "stream",
          "name": "stdout",
          "text": [
            "Epoch 69, Loss: 1.5069524049758911, Accuracy: 49.645835876464844, Val Loss: 1.7532033920288086, Val Accuracy: 39.979164123535156\n",
            "Saving new best model with loss:  1.7532034\n",
            "Epoch 73, Loss: 1.4454455375671387, Accuracy: 51.604164123535156, Val Loss: 1.7597558498382568, Val Accuracy: 40.70833206176758\n"
          ]
        },
        {
          "output_type": "stream",
          "name": "stderr",
          "text": [
            "WARNING:tensorflow:Compiled the loaded model, but the compiled metrics have yet to be built. `model.compile_metrics` will be empty until you train or evaluate the model.\n"
          ]
        },
        {
          "output_type": "stream",
          "name": "stdout",
          "text": [
            "Epoch 77, Loss: 1.4879488945007324, Accuracy: 50.937496185302734, Val Loss: 1.7424396276474, Val Accuracy: 39.958335876464844\n",
            "Saving new best model with loss:  1.7424396\n",
            "Epoch 81, Loss: 1.4250130653381348, Accuracy: 52.29166793823242, Val Loss: 1.7630552053451538, Val Accuracy: 40.02082443237305\n"
          ]
        },
        {
          "output_type": "stream",
          "name": "stderr",
          "text": [
            "WARNING:tensorflow:Compiled the loaded model, but the compiled metrics have yet to be built. `model.compile_metrics` will be empty until you train or evaluate the model.\n"
          ]
        },
        {
          "output_type": "stream",
          "name": "stdout",
          "text": [
            "Epoch 85, Loss: 1.4358080625534058, Accuracy: 52.187496185302734, Val Loss: 1.713531732559204, Val Accuracy: 42.833335876464844\n",
            "Saving new best model with loss:  1.7135317\n",
            "Epoch 89, Loss: 1.3806565999984741, Accuracy: 53.39583206176758, Val Loss: 1.714514136314392, Val Accuracy: 42.14583969116211\n"
          ]
        },
        {
          "output_type": "stream",
          "name": "stderr",
          "text": [
            "WARNING:tensorflow:Compiled the loaded model, but the compiled metrics have yet to be built. `model.compile_metrics` will be empty until you train or evaluate the model.\n"
          ]
        },
        {
          "output_type": "stream",
          "name": "stdout",
          "text": [
            "Epoch 93, Loss: 1.399348258972168, Accuracy: 52.89582061767578, Val Loss: 1.67544686794281, Val Accuracy: 43.625003814697266\n",
            "Saving new best model with loss:  1.6754469\n",
            "Epoch 97, Loss: 1.364397406578064, Accuracy: 53.770835876464844, Val Loss: 1.696973443031311, Val Accuracy: 42.97916793823242\n"
          ]
        },
        {
          "output_type": "stream",
          "name": "stderr",
          "text": [
            "WARNING:tensorflow:Compiled the loaded model, but the compiled metrics have yet to be built. `model.compile_metrics` will be empty until you train or evaluate the model.\n"
          ]
        },
        {
          "output_type": "stream",
          "name": "stdout",
          "text": [
            "Epoch 101, Loss: 1.3339627981185913, Accuracy: 54.916656494140625, Val Loss: 1.617333173751831, Val Accuracy: 44.500003814697266\n",
            "Saving new best model with loss:  1.6173332\n",
            "Epoch 105, Loss: 1.3486286401748657, Accuracy: 54.729164123535156, Val Loss: 1.6945174932479858, Val Accuracy: 42.60416793823242\n",
            "Epoch 109, Loss: 1.3519631624221802, Accuracy: 54.27082061767578, Val Loss: 1.679200530052185, Val Accuracy: 42.66666793823242\n",
            "Epoch 113, Loss: 1.3196393251419067, Accuracy: 55.6875, Val Loss: 1.673028588294983, Val Accuracy: 43.18749237060547\n",
            "Epoch 117, Loss: 1.2845520973205566, Accuracy: 56.20832443237305, Val Loss: 1.6874282360076904, Val Accuracy: 42.62500762939453\n",
            "Epoch 121, Loss: 1.276066541671753, Accuracy: 57.39582061767578, Val Loss: 1.6337220668792725, Val Accuracy: 44.854164123535156\n",
            "Epoch 125, Loss: 1.2907177209854126, Accuracy: 56.41666030883789, Val Loss: 1.6503398418426514, Val Accuracy: 44.35416793823242\n",
            "Epoch 129, Loss: 1.2628750801086426, Accuracy: 57.333343505859375, Val Loss: 1.6420186758041382, Val Accuracy: 44.41667938232422\n"
          ]
        },
        {
          "output_type": "stream",
          "name": "stderr",
          "text": [
            "WARNING:tensorflow:Compiled the loaded model, but the compiled metrics have yet to be built. `model.compile_metrics` will be empty until you train or evaluate the model.\n"
          ]
        },
        {
          "output_type": "stream",
          "name": "stdout",
          "text": [
            "Epoch 133, Loss: 1.217768907546997, Accuracy: 58.937496185302734, Val Loss: 1.6098079681396484, Val Accuracy: 45.583335876464844\n",
            "Saving new best model with loss:  1.609808\n",
            "Epoch 137, Loss: 1.1961679458618164, Accuracy: 59.91665267944336, Val Loss: 1.6208547353744507, Val Accuracy: 45.187503814697266\n",
            "Epoch 141, Loss: 1.2130794525146484, Accuracy: 59.79167938232422, Val Loss: 1.6576534509658813, Val Accuracy: 44.35417175292969\n",
            "Epoch 145, Loss: 1.2391334772109985, Accuracy: 58.3749885559082, Val Loss: 1.62215256690979, Val Accuracy: 45.291656494140625\n"
          ]
        },
        {
          "output_type": "stream",
          "name": "stderr",
          "text": [
            "WARNING:tensorflow:Compiled the loaded model, but the compiled metrics have yet to be built. `model.compile_metrics` will be empty until you train or evaluate the model.\n"
          ]
        },
        {
          "output_type": "stream",
          "name": "stdout",
          "text": [
            "Epoch 149, Loss: 1.1873772144317627, Accuracy: 60.02083969116211, Val Loss: 1.603777527809143, Val Accuracy: 45.22916793823242\n",
            "Saving new best model with loss:  1.6037775\n",
            "Epoch 153, Loss: 1.2160475254058838, Accuracy: 58.68751525878906, Val Loss: 1.6644532680511475, Val Accuracy: 43.41667556762695\n",
            "Epoch 157, Loss: 1.1662896871566772, Accuracy: 60.562496185302734, Val Loss: 1.6328108310699463, Val Accuracy: 45.54166793823242\n",
            "Epoch 161, Loss: 1.2006651163101196, Accuracy: 59.85416030883789, Val Loss: 1.6398894786834717, Val Accuracy: 44.291664123535156\n",
            "Epoch 165, Loss: 1.1954680681228638, Accuracy: 60.229164123535156, Val Loss: 1.632220983505249, Val Accuracy: 44.87500762939453\n",
            "Epoch 169, Loss: 1.155280590057373, Accuracy: 61.6874885559082, Val Loss: 1.6160087585449219, Val Accuracy: 45.437503814697266\n",
            "Epoch 173, Loss: 1.176018238067627, Accuracy: 60.54167938232422, Val Loss: 1.6415704488754272, Val Accuracy: 43.812503814697266\n"
          ]
        },
        {
          "output_type": "stream",
          "name": "stderr",
          "text": [
            "WARNING:tensorflow:Compiled the loaded model, but the compiled metrics have yet to be built. `model.compile_metrics` will be empty until you train or evaluate the model.\n"
          ]
        },
        {
          "output_type": "stream",
          "name": "stdout",
          "text": [
            "Epoch 177, Loss: 1.1451159715652466, Accuracy: 61.47916793823242, Val Loss: 1.5657281875610352, Val Accuracy: 47.37499237060547\n",
            "Saving new best model with loss:  1.5657282\n",
            "Epoch 181, Loss: 1.1713392734527588, Accuracy: 60.166664123535156, Val Loss: 1.6053447723388672, Val Accuracy: 46.645816802978516\n",
            "Epoch 185, Loss: 1.0853520631790161, Accuracy: 63.68748474121094, Val Loss: 1.5694173574447632, Val Accuracy: 47.29166793823242\n",
            "Epoch 189, Loss: 1.154046654701233, Accuracy: 62.43749237060547, Val Loss: 1.6377032995224, Val Accuracy: 45.25\n",
            "Epoch 193, Loss: 1.1355736255645752, Accuracy: 61.479164123535156, Val Loss: 1.626957893371582, Val Accuracy: 45.16666030883789\n"
          ]
        },
        {
          "output_type": "stream",
          "name": "stderr",
          "text": [
            "WARNING:tensorflow:Compiled the loaded model, but the compiled metrics have yet to be built. `model.compile_metrics` will be empty until you train or evaluate the model.\n"
          ]
        },
        {
          "output_type": "stream",
          "name": "stdout",
          "text": [
            "Epoch 197, Loss: 1.1232454776763916, Accuracy: 63.229148864746094, Val Loss: 1.553405523300171, Val Accuracy: 47.125\n",
            "Saving new best model with loss:  1.5534055\n",
            "Epoch 201, Loss: 1.0970113277435303, Accuracy: 62.91666030883789, Val Loss: 1.578630805015564, Val Accuracy: 45.72916793823242\n",
            "Epoch 205, Loss: 1.1724427938461304, Accuracy: 60.250003814697266, Val Loss: 1.5975439548492432, Val Accuracy: 45.31249237060547\n",
            "Epoch 209, Loss: 1.1291720867156982, Accuracy: 61.56249237060547, Val Loss: 1.5919733047485352, Val Accuracy: 45.85417938232422\n",
            "Epoch 213, Loss: 1.1311566829681396, Accuracy: 61.29166030883789, Val Loss: 1.5950579643249512, Val Accuracy: 45.166664123535156\n",
            "Epoch 217, Loss: 1.0918277502059937, Accuracy: 64.14582824707031, Val Loss: 1.5883138179779053, Val Accuracy: 46.229164123535156\n",
            "Epoch 221, Loss: 1.1264379024505615, Accuracy: 61.18750762939453, Val Loss: 1.6056315898895264, Val Accuracy: 45.229164123535156\n",
            "Epoch 225, Loss: 1.1153550148010254, Accuracy: 62.60417556762695, Val Loss: 1.5645945072174072, Val Accuracy: 47.145835876464844\n",
            "Epoch 229, Loss: 1.0746679306030273, Accuracy: 63.72916793823242, Val Loss: 1.5655361413955688, Val Accuracy: 47.29166793823242\n",
            "Epoch 233, Loss: 1.046447515487671, Accuracy: 64.75, Val Loss: 1.5616666078567505, Val Accuracy: 46.937496185302734\n",
            "Epoch 237, Loss: 1.1250911951065063, Accuracy: 61.85415267944336, Val Loss: 1.6214910745620728, Val Accuracy: 44.02082443237305\n",
            "Epoch 241, Loss: 1.0695271492004395, Accuracy: 63.70832443237305, Val Loss: 1.6044658422470093, Val Accuracy: 46.312503814697266\n"
          ]
        }
      ]
    },
    {
      "cell_type": "code",
      "source": [
        "#Now adding reptile to this\n",
        "meta_step_size = 0.25\n",
        "\n",
        "#number of classes\n",
        "num_way = num_ways[3] \n",
        "\n",
        "#number of examples per class for support set\n",
        "num_shot = num_shots[3]  \n",
        "\n",
        "#number of query points\n",
        "num_query = num_shots[3]\n",
        "\n",
        "#eval_iters = 20\n",
        "eval_interval = 4\n",
        "\n",
        "train_loss = tf.metrics.Mean(name='train_loss')\n",
        "val_loss = tf.metrics.Mean(name='val_loss')\n",
        "train_acc = tf.metrics.Mean(name='train_accuracy')\n",
        "val_acc = tf.metrics.Mean(name='val_accuracy')\n",
        "\n",
        "model = Prototypical(support, query, 84, 84, 3)\n",
        "optimizer_adam = tf.keras.optimizers.Adam(0.001)\n",
        "optimizer_sgd = tf.keras.optimizers.SGD(0.001)\n",
        "\n",
        "num_epochs = 241\n",
        "num_episodes = 80\n",
        "save_path = \"./results/models/mini_train_reptile3.h5\"\n",
        "\n",
        "@tf.function\n",
        "def loss(support, query):\n",
        "  loss, acc = model(support, query)\n",
        "  return loss, acc\n",
        "\n",
        "@tf.function\n",
        "def train_step(support, query, optimizer):\n",
        "  with tf.GradientTape() as tape:\n",
        "    loss, acc = model(support, query)\n",
        "  gradients = tape.gradient(loss, model.trainable_variables)\n",
        "  optimizer.apply_gradients(\n",
        "        zip(gradients, model.trainable_variables))\n",
        "  \n",
        "  \n",
        "  train_loss(loss)\n",
        "  train_acc(acc)\n",
        "  \n",
        "\n",
        "@tf.function\n",
        "def val_step(support, query, optimizer):\n",
        "  with tf.GradientTape() as tape:\n",
        "    loss, acc = model(support, query)\n",
        "  gradients = tape.gradient(loss, model.trainable_variables)\n",
        "  optimizer.apply_gradients(\n",
        "        zip(gradients, model.trainable_variables))\n",
        "  \n",
        "  val_loss(loss)\n",
        "  val_acc(acc)\n",
        "\n",
        "\n",
        "least_loss = {'least_loss': 100.00}\n",
        "for epoch in range(num_epochs):\n",
        "  train_loss.reset_states()\n",
        "  val_loss.reset_states()\n",
        "  train_acc.reset_states()\n",
        "  val_acc.reset_states()\n",
        "\n",
        "  for episode in range(num_episodes):\n",
        "    frac_done = episode / num_episodes\n",
        "    cur_meta_step_size = (1 - frac_done) * meta_step_size\n",
        "    train_support, train_query = get_next_batch(train_images, train_classes, num_way, num_shot, num_query)\n",
        "\n",
        "    #old_vars = model.get_weights()\n",
        "    train_step(train_support, train_query, optimizer_adam)\n",
        "    new_vars = model.get_weights()\n",
        "\n",
        "    if epoch % eval_interval == 0:\n",
        "      eval_support, eval_query = get_next_batch(val_images, val_classes, num_way, num_shot, num_query)\n",
        "      old_vars = model.get_weights()\n",
        "      val_step(eval_support, eval_query, optimizer_sgd)\n",
        "      model.set_weights(old_vars)\n",
        "      \n",
        "  cur_loss = val_loss.result().numpy()\n",
        "\n",
        "  if (epoch % eval_interval == 0):\n",
        "    template = 'Epoch {}, Loss: {}, Accuracy: {}, ' \\\n",
        "                  'Val Loss: {}, Val Accuracy: {}'\n",
        "    print(template.format(epoch + 1, train_loss.result(), train_acc.result() * 100, val_loss.result(),\n",
        "                            val_acc.result() * 100))\n",
        "    if cur_loss < least_loss['least_loss']:\n",
        "      print(\"Saving new best model with loss: \", cur_loss)\n",
        "      least_loss['least_loss'] = cur_loss\n",
        "      model.save(save_path)"
      ],
      "metadata": {
        "colab": {
          "base_uri": "https://localhost:8080/"
        },
        "id": "zMPa6KNN7jGg",
        "outputId": "9ff3c22d-6b93-4a84-a274-5868b8d33873"
      },
      "execution_count": null,
      "outputs": [
        {
          "output_type": "stream",
          "name": "stderr",
          "text": [
            "WARNING:tensorflow:Compiled the loaded model, but the compiled metrics have yet to be built. `model.compile_metrics` will be empty until you train or evaluate the model.\n"
          ]
        },
        {
          "output_type": "stream",
          "name": "stdout",
          "text": [
            "Epoch 1, Loss: 2.4768738746643066, Accuracy: 12.083334922790527, Val Loss: 2.486088275909424, Val Accuracy: 9.479168891906738\n",
            "Saving new best model with loss:  2.4860883\n"
          ]
        },
        {
          "output_type": "stream",
          "name": "stderr",
          "text": [
            "WARNING:tensorflow:Compiled the loaded model, but the compiled metrics have yet to be built. `model.compile_metrics` will be empty until you train or evaluate the model.\n"
          ]
        },
        {
          "output_type": "stream",
          "name": "stdout",
          "text": [
            "Epoch 5, Loss: 2.449537754058838, Accuracy: 14.062501907348633, Val Loss: 2.4839258193969727, Val Accuracy: 10.937498092651367\n",
            "Saving new best model with loss:  2.4839258\n",
            "Epoch 9, Loss: 2.429752826690674, Accuracy: 14.270835876464844, Val Loss: 2.5019659996032715, Val Accuracy: 11.5625\n"
          ]
        },
        {
          "output_type": "stream",
          "name": "stderr",
          "text": [
            "WARNING:tensorflow:Compiled the loaded model, but the compiled metrics have yet to be built. `model.compile_metrics` will be empty until you train or evaluate the model.\n"
          ]
        },
        {
          "output_type": "stream",
          "name": "stdout",
          "text": [
            "Epoch 13, Loss: 2.445693016052246, Accuracy: 14.687499046325684, Val Loss: 2.4607484340667725, Val Accuracy: 13.437501907348633\n",
            "Saving new best model with loss:  2.4607484\n",
            "Epoch 17, Loss: 2.4365601539611816, Accuracy: 13.437500953674316, Val Loss: 2.472201347351074, Val Accuracy: 10.937501907348633\n",
            "Epoch 21, Loss: 2.4429824352264404, Accuracy: 12.916665077209473, Val Loss: 2.463881015777588, Val Accuracy: 12.083332061767578\n",
            "Epoch 25, Loss: 2.4339327812194824, Accuracy: 14.583333969116211, Val Loss: 2.4670939445495605, Val Accuracy: 11.666666030883789\n",
            "Epoch 29, Loss: 2.445739984512329, Accuracy: 15.625, Val Loss: 2.4734902381896973, Val Accuracy: 11.770835876464844\n"
          ]
        },
        {
          "output_type": "stream",
          "name": "stderr",
          "text": [
            "WARNING:tensorflow:Compiled the loaded model, but the compiled metrics have yet to be built. `model.compile_metrics` will be empty until you train or evaluate the model.\n"
          ]
        },
        {
          "output_type": "stream",
          "name": "stdout",
          "text": [
            "Epoch 33, Loss: 2.4149303436279297, Accuracy: 16.666664123535156, Val Loss: 2.460642099380493, Val Accuracy: 14.791664123535156\n",
            "Saving new best model with loss:  2.460642\n",
            "Epoch 37, Loss: 2.4217615127563477, Accuracy: 14.16666316986084, Val Loss: 2.474428653717041, Val Accuracy: 11.979169845581055\n"
          ]
        },
        {
          "output_type": "stream",
          "name": "stderr",
          "text": [
            "WARNING:tensorflow:Compiled the loaded model, but the compiled metrics have yet to be built. `model.compile_metrics` will be empty until you train or evaluate the model.\n"
          ]
        },
        {
          "output_type": "stream",
          "name": "stdout",
          "text": [
            "Epoch 41, Loss: 2.422921895980835, Accuracy: 13.854166984558105, Val Loss: 2.4603190422058105, Val Accuracy: 12.083333969116211\n",
            "Saving new best model with loss:  2.460319\n"
          ]
        },
        {
          "output_type": "stream",
          "name": "stderr",
          "text": [
            "WARNING:tensorflow:Compiled the loaded model, but the compiled metrics have yet to be built. `model.compile_metrics` will be empty until you train or evaluate the model.\n"
          ]
        },
        {
          "output_type": "stream",
          "name": "stdout",
          "text": [
            "Epoch 45, Loss: 2.405031442642212, Accuracy: 14.999998092651367, Val Loss: 2.4602837562561035, Val Accuracy: 11.875001907348633\n",
            "Saving new best model with loss:  2.4602838\n",
            "Epoch 49, Loss: 2.4167463779449463, Accuracy: 16.25, Val Loss: 2.4604287147521973, Val Accuracy: 13.541666030883789\n"
          ]
        },
        {
          "output_type": "stream",
          "name": "stderr",
          "text": [
            "WARNING:tensorflow:Compiled the loaded model, but the compiled metrics have yet to be built. `model.compile_metrics` will be empty until you train or evaluate the model.\n"
          ]
        },
        {
          "output_type": "stream",
          "name": "stdout",
          "text": [
            "Epoch 53, Loss: 2.430494785308838, Accuracy: 13.854167938232422, Val Loss: 2.459083080291748, Val Accuracy: 13.229167938232422\n",
            "Saving new best model with loss:  2.459083\n"
          ]
        },
        {
          "output_type": "stream",
          "name": "stderr",
          "text": [
            "WARNING:tensorflow:Compiled the loaded model, but the compiled metrics have yet to be built. `model.compile_metrics` will be empty until you train or evaluate the model.\n"
          ]
        },
        {
          "output_type": "stream",
          "name": "stdout",
          "text": [
            "Epoch 57, Loss: 2.43782639503479, Accuracy: 13.74999713897705, Val Loss: 2.4470133781433105, Val Accuracy: 13.645832061767578\n",
            "Saving new best model with loss:  2.4470134\n"
          ]
        },
        {
          "output_type": "stream",
          "name": "stderr",
          "text": [
            "WARNING:tensorflow:Compiled the loaded model, but the compiled metrics have yet to be built. `model.compile_metrics` will be empty until you train or evaluate the model.\n"
          ]
        },
        {
          "output_type": "stream",
          "name": "stdout",
          "text": [
            "Epoch 61, Loss: 2.410646915435791, Accuracy: 14.895831108093262, Val Loss: 2.4414429664611816, Val Accuracy: 13.020833969116211\n",
            "Saving new best model with loss:  2.441443\n",
            "Epoch 65, Loss: 2.413384199142456, Accuracy: 16.041667938232422, Val Loss: 2.460994243621826, Val Accuracy: 13.958333015441895\n",
            "Epoch 69, Loss: 2.4081528186798096, Accuracy: 15.729166984558105, Val Loss: 2.44675350189209, Val Accuracy: 14.062501907348633\n"
          ]
        },
        {
          "output_type": "stream",
          "name": "stderr",
          "text": [
            "WARNING:tensorflow:Compiled the loaded model, but the compiled metrics have yet to be built. `model.compile_metrics` will be empty until you train or evaluate the model.\n"
          ]
        },
        {
          "output_type": "stream",
          "name": "stdout",
          "text": [
            "Epoch 73, Loss: 2.4015953540802, Accuracy: 17.39583396911621, Val Loss: 2.4173731803894043, Val Accuracy: 16.979164123535156\n",
            "Saving new best model with loss:  2.4173732\n",
            "Epoch 77, Loss: 2.379298210144043, Accuracy: 19.166669845581055, Val Loss: 2.4344732761383057, Val Accuracy: 16.145828247070312\n",
            "Epoch 81, Loss: 2.3480045795440674, Accuracy: 18.54166603088379, Val Loss: 2.4233994483947754, Val Accuracy: 16.041664123535156\n",
            "Epoch 85, Loss: 2.352355718612671, Accuracy: 18.125, Val Loss: 2.4522881507873535, Val Accuracy: 14.270828247070312\n"
          ]
        },
        {
          "output_type": "stream",
          "name": "stderr",
          "text": [
            "WARNING:tensorflow:Compiled the loaded model, but the compiled metrics have yet to be built. `model.compile_metrics` will be empty until you train or evaluate the model.\n"
          ]
        },
        {
          "output_type": "stream",
          "name": "stdout",
          "text": [
            "Epoch 89, Loss: 2.3395884037017822, Accuracy: 19.062496185302734, Val Loss: 2.393341541290283, Val Accuracy: 19.16666603088379\n",
            "Saving new best model with loss:  2.3933415\n",
            "Epoch 93, Loss: 2.338919162750244, Accuracy: 21.041669845581055, Val Loss: 2.399963855743408, Val Accuracy: 15.31249713897705\n",
            "Epoch 97, Loss: 2.336202383041382, Accuracy: 18.229169845581055, Val Loss: 2.4042935371398926, Val Accuracy: 16.874998092651367\n",
            "Epoch 101, Loss: 2.335864782333374, Accuracy: 19.062498092651367, Val Loss: 2.420363664627075, Val Accuracy: 16.97916603088379\n",
            "Epoch 105, Loss: 2.3230392932891846, Accuracy: 19.791667938232422, Val Loss: 2.4040915966033936, Val Accuracy: 18.125\n",
            "Epoch 109, Loss: 2.2953479290008545, Accuracy: 21.5625, Val Loss: 2.3993589878082275, Val Accuracy: 18.645832061767578\n"
          ]
        },
        {
          "output_type": "stream",
          "name": "stderr",
          "text": [
            "WARNING:tensorflow:Compiled the loaded model, but the compiled metrics have yet to be built. `model.compile_metrics` will be empty until you train or evaluate the model.\n"
          ]
        },
        {
          "output_type": "stream",
          "name": "stdout",
          "text": [
            "Epoch 113, Loss: 2.323890209197998, Accuracy: 18.75, Val Loss: 2.347452163696289, Val Accuracy: 19.687501907348633\n",
            "Saving new best model with loss:  2.3474522\n",
            "Epoch 117, Loss: 2.268049478530884, Accuracy: 23.64583396911621, Val Loss: 2.3498446941375732, Val Accuracy: 20.416669845581055\n",
            "Epoch 121, Loss: 2.238135814666748, Accuracy: 24.270830154418945, Val Loss: 2.350045680999756, Val Accuracy: 20.0\n",
            "Epoch 125, Loss: 2.246316909790039, Accuracy: 22.708332061767578, Val Loss: 2.357794761657715, Val Accuracy: 19.79166603088379\n"
          ]
        },
        {
          "output_type": "stream",
          "name": "stderr",
          "text": [
            "WARNING:tensorflow:Compiled the loaded model, but the compiled metrics have yet to be built. `model.compile_metrics` will be empty until you train or evaluate the model.\n"
          ]
        },
        {
          "output_type": "stream",
          "name": "stdout",
          "text": [
            "Epoch 129, Loss: 2.225121021270752, Accuracy: 22.083330154418945, Val Loss: 2.3160462379455566, Val Accuracy: 20.729167938232422\n",
            "Saving new best model with loss:  2.3160462\n",
            "Epoch 133, Loss: 2.2122645378112793, Accuracy: 24.062501907348633, Val Loss: 2.361746311187744, Val Accuracy: 19.270832061767578\n",
            "Epoch 137, Loss: 2.22745943069458, Accuracy: 24.166669845581055, Val Loss: 2.325395107269287, Val Accuracy: 20.9375\n",
            "Epoch 141, Loss: 2.2558164596557617, Accuracy: 21.666669845581055, Val Loss: 2.3265109062194824, Val Accuracy: 21.770832061767578\n"
          ]
        },
        {
          "output_type": "stream",
          "name": "stderr",
          "text": [
            "WARNING:tensorflow:Compiled the loaded model, but the compiled metrics have yet to be built. `model.compile_metrics` will be empty until you train or evaluate the model.\n"
          ]
        },
        {
          "output_type": "stream",
          "name": "stdout",
          "text": [
            "Epoch 145, Loss: 2.1936259269714355, Accuracy: 25.729162216186523, Val Loss: 2.3020005226135254, Val Accuracy: 20.520830154418945\n",
            "Saving new best model with loss:  2.3020005\n",
            "Epoch 149, Loss: 2.200681209564209, Accuracy: 24.270835876464844, Val Loss: 2.3302500247955322, Val Accuracy: 21.562498092651367\n"
          ]
        },
        {
          "output_type": "stream",
          "name": "stderr",
          "text": [
            "WARNING:tensorflow:Compiled the loaded model, but the compiled metrics have yet to be built. `model.compile_metrics` will be empty until you train or evaluate the model.\n"
          ]
        },
        {
          "output_type": "stream",
          "name": "stdout",
          "text": [
            "Epoch 153, Loss: 2.1553728580474854, Accuracy: 27.812498092651367, Val Loss: 2.2650868892669678, Val Accuracy: 22.39583396911621\n",
            "Saving new best model with loss:  2.265087\n",
            "Epoch 157, Loss: 2.2172646522521973, Accuracy: 24.0625, Val Loss: 2.3506016731262207, Val Accuracy: 20.208335876464844\n"
          ]
        },
        {
          "output_type": "stream",
          "name": "stderr",
          "text": [
            "WARNING:tensorflow:Compiled the loaded model, but the compiled metrics have yet to be built. `model.compile_metrics` will be empty until you train or evaluate the model.\n"
          ]
        },
        {
          "output_type": "stream",
          "name": "stdout",
          "text": [
            "Epoch 161, Loss: 2.2373921871185303, Accuracy: 23.541667938232422, Val Loss: 2.2549586296081543, Val Accuracy: 24.375\n",
            "Saving new best model with loss:  2.2549586\n",
            "Epoch 165, Loss: 2.1727633476257324, Accuracy: 27.5, Val Loss: 2.3164680004119873, Val Accuracy: 20.3125\n",
            "Epoch 169, Loss: 2.1586058139801025, Accuracy: 27.083332061767578, Val Loss: 2.295407295227051, Val Accuracy: 21.45833969116211\n",
            "Epoch 173, Loss: 2.1754984855651855, Accuracy: 26.041671752929688, Val Loss: 2.3246910572052, Val Accuracy: 19.479164123535156\n",
            "Epoch 177, Loss: 2.1734211444854736, Accuracy: 28.958335876464844, Val Loss: 2.2833635807037354, Val Accuracy: 22.916667938232422\n",
            "Epoch 181, Loss: 2.1847829818725586, Accuracy: 28.645843505859375, Val Loss: 2.299238920211792, Val Accuracy: 21.041664123535156\n",
            "Epoch 185, Loss: 2.137951374053955, Accuracy: 27.395832061767578, Val Loss: 2.2818126678466797, Val Accuracy: 21.354167938232422\n",
            "Epoch 189, Loss: 2.128340244293213, Accuracy: 26.458332061767578, Val Loss: 2.3471789360046387, Val Accuracy: 21.145835876464844\n",
            "Epoch 193, Loss: 2.163316249847412, Accuracy: 28.1249942779541, Val Loss: 2.3104357719421387, Val Accuracy: 20.10416603088379\n",
            "Epoch 197, Loss: 2.0954887866973877, Accuracy: 27.812503814697266, Val Loss: 2.272808074951172, Val Accuracy: 21.66666603088379\n",
            "Epoch 201, Loss: 2.131530523300171, Accuracy: 27.187496185302734, Val Loss: 2.262608766555786, Val Accuracy: 22.08333396911621\n",
            "Epoch 205, Loss: 2.1542744636535645, Accuracy: 27.083324432373047, Val Loss: 2.266767978668213, Val Accuracy: 20.520830154418945\n"
          ]
        },
        {
          "output_type": "stream",
          "name": "stderr",
          "text": [
            "WARNING:tensorflow:Compiled the loaded model, but the compiled metrics have yet to be built. `model.compile_metrics` will be empty until you train or evaluate the model.\n"
          ]
        },
        {
          "output_type": "stream",
          "name": "stdout",
          "text": [
            "Epoch 209, Loss: 2.1494927406311035, Accuracy: 26.458328247070312, Val Loss: 2.241741180419922, Val Accuracy: 22.91666603088379\n",
            "Saving new best model with loss:  2.2417412\n",
            "Epoch 213, Loss: 2.1571969985961914, Accuracy: 26.458328247070312, Val Loss: 2.2978618144989014, Val Accuracy: 20.625001907348633\n",
            "Epoch 217, Loss: 2.066251754760742, Accuracy: 29.687503814697266, Val Loss: 2.289970874786377, Val Accuracy: 20.729164123535156\n",
            "Epoch 221, Loss: 2.110600471496582, Accuracy: 28.333330154418945, Val Loss: 2.2515981197357178, Val Accuracy: 22.916667938232422\n"
          ]
        },
        {
          "output_type": "stream",
          "name": "stderr",
          "text": [
            "WARNING:tensorflow:Compiled the loaded model, but the compiled metrics have yet to be built. `model.compile_metrics` will be empty until you train or evaluate the model.\n"
          ]
        },
        {
          "output_type": "stream",
          "name": "stdout",
          "text": [
            "Epoch 225, Loss: 2.080911874771118, Accuracy: 30.31250762939453, Val Loss: 2.222285747528076, Val Accuracy: 24.583335876464844\n",
            "Saving new best model with loss:  2.2222857\n",
            "Epoch 229, Loss: 2.0512337684631348, Accuracy: 28.229164123535156, Val Loss: 2.2909719944000244, Val Accuracy: 20.52083396911621\n",
            "Epoch 233, Loss: 2.0504841804504395, Accuracy: 29.687496185302734, Val Loss: 2.2781105041503906, Val Accuracy: 21.66666603088379\n",
            "Epoch 237, Loss: 2.107717990875244, Accuracy: 28.645837783813477, Val Loss: 2.225985050201416, Val Accuracy: 22.916667938232422\n",
            "Epoch 241, Loss: 2.114238739013672, Accuracy: 28.333335876464844, Val Loss: 2.270632743835449, Val Accuracy: 22.1875\n"
          ]
        }
      ]
    },
    {
      "cell_type": "code",
      "source": [
        "#Now adding reptile to this\n",
        "meta_step_size = 0.25\n",
        "\n",
        "#number of classes\n",
        "num_way = num_ways[4] \n",
        "\n",
        "#number of examples per class for support set\n",
        "num_shot = num_shots[4]  \n",
        "\n",
        "#number of query points\n",
        "num_query = num_shots[4]\n",
        "\n",
        "#eval_iters = 20\n",
        "eval_interval = 4\n",
        "\n",
        "train_loss = tf.metrics.Mean(name='train_loss')\n",
        "val_loss = tf.metrics.Mean(name='val_loss')\n",
        "train_acc = tf.metrics.Mean(name='train_accuracy')\n",
        "val_acc = tf.metrics.Mean(name='val_accuracy')\n",
        "\n",
        "model = Prototypical(support, query, 84, 84, 3)\n",
        "optimizer_adam = tf.keras.optimizers.Adam(0.001)\n",
        "optimizer_sgd = tf.keras.optimizers.SGD(0.001)\n",
        "\n",
        "num_epochs = 241\n",
        "num_episodes = 80\n",
        "save_path = \"./results/models/mini_train_reptile4.h5\"\n",
        "\n",
        "@tf.function\n",
        "def loss(support, query):\n",
        "  loss, acc = model(support, query)\n",
        "  return loss, acc\n",
        "\n",
        "@tf.function\n",
        "def train_step(support, query, optimizer):\n",
        "  with tf.GradientTape() as tape:\n",
        "    loss, acc = model(support, query)\n",
        "  gradients = tape.gradient(loss, model.trainable_variables)\n",
        "  optimizer.apply_gradients(\n",
        "        zip(gradients, model.trainable_variables))\n",
        "  \n",
        "  \n",
        "  train_loss(loss)\n",
        "  train_acc(acc)\n",
        "  \n",
        "\n",
        "@tf.function\n",
        "def val_step(support, query, optimizer):\n",
        "  with tf.GradientTape() as tape:\n",
        "    loss, acc = model(support, query)\n",
        "  gradients = tape.gradient(loss, model.trainable_variables)\n",
        "  optimizer.apply_gradients(\n",
        "        zip(gradients, model.trainable_variables))\n",
        "  \n",
        "  val_loss(loss)\n",
        "  val_acc(acc)\n",
        "\n",
        "\n",
        "least_loss = {'least_loss': 100.00}\n",
        "for epoch in range(num_epochs):\n",
        "  train_loss.reset_states()\n",
        "  val_loss.reset_states()\n",
        "  train_acc.reset_states()\n",
        "  val_acc.reset_states()\n",
        "\n",
        "  for episode in range(num_episodes):\n",
        "    frac_done = episode / num_episodes\n",
        "    cur_meta_step_size = (1 - frac_done) * meta_step_size\n",
        "    train_support, train_query = get_next_batch(train_images, train_classes, num_way, num_shot, num_query)\n",
        "\n",
        "    #old_vars = model.get_weights()\n",
        "    train_step(train_support, train_query, optimizer_adam)\n",
        "    new_vars = model.get_weights()\n",
        "\n",
        "    if epoch % eval_interval == 0:\n",
        "      eval_support, eval_query = get_next_batch(val_images, val_classes, num_way, num_shot, num_query)\n",
        "      old_vars = model.get_weights()\n",
        "      val_step(eval_support, eval_query, optimizer_sgd)\n",
        "      model.set_weights(old_vars)\n",
        "      \n",
        "  cur_loss = val_loss.result().numpy()\n",
        "\n",
        "  if (epoch % eval_interval == 0):\n",
        "    template = 'Epoch {}, Loss: {}, Accuracy: {}, ' \\\n",
        "                  'Val Loss: {}, Val Accuracy: {}'\n",
        "    print(template.format(epoch + 1, train_loss.result(), train_acc.result() * 100, val_loss.result(),\n",
        "                            val_acc.result() * 100))\n",
        "    if cur_loss < least_loss['least_loss']:\n",
        "      print(\"Saving new best model with loss: \", cur_loss)\n",
        "      least_loss['least_loss'] = cur_loss\n",
        "      model.save(save_path)"
      ],
      "metadata": {
        "colab": {
          "base_uri": "https://localhost:8080/"
        },
        "id": "pZdrSt4x7jlx",
        "outputId": "762581d0-9bcb-496f-f3e0-fbda9b1485dc"
      },
      "execution_count": null,
      "outputs": [
        {
          "output_type": "stream",
          "name": "stderr",
          "text": [
            "WARNING:tensorflow:Compiled the loaded model, but the compiled metrics have yet to be built. `model.compile_metrics` will be empty until you train or evaluate the model.\n"
          ]
        },
        {
          "output_type": "stream",
          "name": "stdout",
          "text": [
            "Epoch 1, Loss: 2.6335256099700928, Accuracy: 14.555557250976562, Val Loss: 2.667503833770752, Val Accuracy: 11.777780532836914\n",
            "Saving new best model with loss:  2.6675038\n"
          ]
        },
        {
          "output_type": "stream",
          "name": "stderr",
          "text": [
            "WARNING:tensorflow:Compiled the loaded model, but the compiled metrics have yet to be built. `model.compile_metrics` will be empty until you train or evaluate the model.\n"
          ]
        },
        {
          "output_type": "stream",
          "name": "stdout",
          "text": [
            "Epoch 5, Loss: 2.517280101776123, Accuracy: 17.41666603088379, Val Loss: 2.6282153129577637, Val Accuracy: 14.833333969116211\n",
            "Saving new best model with loss:  2.6282153\n"
          ]
        },
        {
          "output_type": "stream",
          "name": "stderr",
          "text": [
            "WARNING:tensorflow:Compiled the loaded model, but the compiled metrics have yet to be built. `model.compile_metrics` will be empty until you train or evaluate the model.\n"
          ]
        },
        {
          "output_type": "stream",
          "name": "stdout",
          "text": [
            "Epoch 9, Loss: 2.4644017219543457, Accuracy: 21.02778434753418, Val Loss: 2.5758352279663086, Val Accuracy: 17.138893127441406\n",
            "Saving new best model with loss:  2.5758352\n"
          ]
        },
        {
          "output_type": "stream",
          "name": "stderr",
          "text": [
            "WARNING:tensorflow:Compiled the loaded model, but the compiled metrics have yet to be built. `model.compile_metrics` will be empty until you train or evaluate the model.\n"
          ]
        },
        {
          "output_type": "stream",
          "name": "stdout",
          "text": [
            "Epoch 13, Loss: 2.370864152908325, Accuracy: 24.361112594604492, Val Loss: 2.5072367191314697, Val Accuracy: 19.277782440185547\n",
            "Saving new best model with loss:  2.5072367\n"
          ]
        },
        {
          "output_type": "stream",
          "name": "stderr",
          "text": [
            "WARNING:tensorflow:Compiled the loaded model, but the compiled metrics have yet to be built. `model.compile_metrics` will be empty until you train or evaluate the model.\n"
          ]
        },
        {
          "output_type": "stream",
          "name": "stdout",
          "text": [
            "Epoch 17, Loss: 2.3097352981567383, Accuracy: 26.19445037841797, Val Loss: 2.4941554069519043, Val Accuracy: 17.666669845581055\n",
            "Saving new best model with loss:  2.4941554\n"
          ]
        },
        {
          "output_type": "stream",
          "name": "stderr",
          "text": [
            "WARNING:tensorflow:Compiled the loaded model, but the compiled metrics have yet to be built. `model.compile_metrics` will be empty until you train or evaluate the model.\n"
          ]
        },
        {
          "output_type": "stream",
          "name": "stdout",
          "text": [
            "Epoch 21, Loss: 2.2926154136657715, Accuracy: 26.777774810791016, Val Loss: 2.4126529693603516, Val Accuracy: 22.66667366027832\n",
            "Saving new best model with loss:  2.412653\n"
          ]
        },
        {
          "output_type": "stream",
          "name": "stderr",
          "text": [
            "WARNING:tensorflow:Compiled the loaded model, but the compiled metrics have yet to be built. `model.compile_metrics` will be empty until you train or evaluate the model.\n"
          ]
        },
        {
          "output_type": "stream",
          "name": "stdout",
          "text": [
            "Epoch 25, Loss: 2.232123374938965, Accuracy: 27.83333396911621, Val Loss: 2.379953145980835, Val Accuracy: 23.277782440185547\n",
            "Saving new best model with loss:  2.3799531\n"
          ]
        },
        {
          "output_type": "stream",
          "name": "stderr",
          "text": [
            "WARNING:tensorflow:Compiled the loaded model, but the compiled metrics have yet to be built. `model.compile_metrics` will be empty until you train or evaluate the model.\n"
          ]
        },
        {
          "output_type": "stream",
          "name": "stdout",
          "text": [
            "Epoch 29, Loss: 2.118455410003662, Accuracy: 32.555564880371094, Val Loss: 2.3340260982513428, Val Accuracy: 23.888891220092773\n",
            "Saving new best model with loss:  2.334026\n"
          ]
        },
        {
          "output_type": "stream",
          "name": "stderr",
          "text": [
            "WARNING:tensorflow:Compiled the loaded model, but the compiled metrics have yet to be built. `model.compile_metrics` will be empty until you train or evaluate the model.\n"
          ]
        },
        {
          "output_type": "stream",
          "name": "stdout",
          "text": [
            "Epoch 33, Loss: 2.1249890327453613, Accuracy: 31.861108779907227, Val Loss: 2.3238375186920166, Val Accuracy: 25.444442749023438\n",
            "Saving new best model with loss:  2.3238375\n"
          ]
        },
        {
          "output_type": "stream",
          "name": "stderr",
          "text": [
            "WARNING:tensorflow:Compiled the loaded model, but the compiled metrics have yet to be built. `model.compile_metrics` will be empty until you train or evaluate the model.\n"
          ]
        },
        {
          "output_type": "stream",
          "name": "stdout",
          "text": [
            "Epoch 37, Loss: 2.0166704654693604, Accuracy: 34.66667938232422, Val Loss: 2.2814078330993652, Val Accuracy: 25.250001907348633\n",
            "Saving new best model with loss:  2.2814078\n"
          ]
        },
        {
          "output_type": "stream",
          "name": "stderr",
          "text": [
            "WARNING:tensorflow:Compiled the loaded model, but the compiled metrics have yet to be built. `model.compile_metrics` will be empty until you train or evaluate the model.\n"
          ]
        },
        {
          "output_type": "stream",
          "name": "stdout",
          "text": [
            "Epoch 41, Loss: 2.015984296798706, Accuracy: 36.52777862548828, Val Loss: 2.249161720275879, Val Accuracy: 26.86111068725586\n",
            "Saving new best model with loss:  2.2491617\n",
            "Epoch 45, Loss: 2.0082759857177734, Accuracy: 35.91667175292969, Val Loss: 2.2535605430603027, Val Accuracy: 26.944446563720703\n"
          ]
        },
        {
          "output_type": "stream",
          "name": "stderr",
          "text": [
            "WARNING:tensorflow:Compiled the loaded model, but the compiled metrics have yet to be built. `model.compile_metrics` will be empty until you train or evaluate the model.\n"
          ]
        },
        {
          "output_type": "stream",
          "name": "stdout",
          "text": [
            "Epoch 49, Loss: 1.9674373865127563, Accuracy: 37.72221755981445, Val Loss: 2.2190358638763428, Val Accuracy: 28.499996185302734\n",
            "Saving new best model with loss:  2.2190359\n"
          ]
        },
        {
          "output_type": "stream",
          "name": "stderr",
          "text": [
            "WARNING:tensorflow:Compiled the loaded model, but the compiled metrics have yet to be built. `model.compile_metrics` will be empty until you train or evaluate the model.\n"
          ]
        },
        {
          "output_type": "stream",
          "name": "stdout",
          "text": [
            "Epoch 53, Loss: 1.9773786067962646, Accuracy: 37.08333206176758, Val Loss: 2.1486034393310547, Val Accuracy: 30.11111068725586\n",
            "Saving new best model with loss:  2.1486034\n",
            "Epoch 57, Loss: 1.9004886150360107, Accuracy: 38.861114501953125, Val Loss: 2.195699691772461, Val Accuracy: 28.69445037841797\n",
            "Epoch 61, Loss: 1.9176756143569946, Accuracy: 38.6944580078125, Val Loss: 2.162118434906006, Val Accuracy: 30.52777862548828\n"
          ]
        },
        {
          "output_type": "stream",
          "name": "stderr",
          "text": [
            "WARNING:tensorflow:Compiled the loaded model, but the compiled metrics have yet to be built. `model.compile_metrics` will be empty until you train or evaluate the model.\n"
          ]
        },
        {
          "output_type": "stream",
          "name": "stdout",
          "text": [
            "Epoch 65, Loss: 1.8811897039413452, Accuracy: 39.72222900390625, Val Loss: 2.1255786418914795, Val Accuracy: 30.36111068725586\n",
            "Saving new best model with loss:  2.1255786\n"
          ]
        },
        {
          "output_type": "stream",
          "name": "stderr",
          "text": [
            "WARNING:tensorflow:Compiled the loaded model, but the compiled metrics have yet to be built. `model.compile_metrics` will be empty until you train or evaluate the model.\n"
          ]
        },
        {
          "output_type": "stream",
          "name": "stdout",
          "text": [
            "Epoch 69, Loss: 1.8276653289794922, Accuracy: 41.388893127441406, Val Loss: 2.103428602218628, Val Accuracy: 31.52777862548828\n",
            "Saving new best model with loss:  2.1034286\n",
            "Epoch 73, Loss: 1.8310693502426147, Accuracy: 42.00001525878906, Val Loss: 2.1181063652038574, Val Accuracy: 30.666675567626953\n"
          ]
        },
        {
          "output_type": "stream",
          "name": "stderr",
          "text": [
            "WARNING:tensorflow:Compiled the loaded model, but the compiled metrics have yet to be built. `model.compile_metrics` will be empty until you train or evaluate the model.\n"
          ]
        },
        {
          "output_type": "stream",
          "name": "stdout",
          "text": [
            "Epoch 77, Loss: 1.8067092895507812, Accuracy: 41.861114501953125, Val Loss: 2.0928893089294434, Val Accuracy: 32.86111831665039\n",
            "Saving new best model with loss:  2.0928893\n"
          ]
        },
        {
          "output_type": "stream",
          "name": "stderr",
          "text": [
            "WARNING:tensorflow:Compiled the loaded model, but the compiled metrics have yet to be built. `model.compile_metrics` will be empty until you train or evaluate the model.\n"
          ]
        },
        {
          "output_type": "stream",
          "name": "stdout",
          "text": [
            "Epoch 81, Loss: 1.7607519626617432, Accuracy: 43.666656494140625, Val Loss: 2.0855519771575928, Val Accuracy: 33.0000114440918\n",
            "Saving new best model with loss:  2.085552\n"
          ]
        },
        {
          "output_type": "stream",
          "name": "stderr",
          "text": [
            "WARNING:tensorflow:Compiled the loaded model, but the compiled metrics have yet to be built. `model.compile_metrics` will be empty until you train or evaluate the model.\n"
          ]
        },
        {
          "output_type": "stream",
          "name": "stdout",
          "text": [
            "Epoch 85, Loss: 1.767377257347107, Accuracy: 43.277774810791016, Val Loss: 2.0708866119384766, Val Accuracy: 32.77778244018555\n",
            "Saving new best model with loss:  2.0708866\n"
          ]
        },
        {
          "output_type": "stream",
          "name": "stderr",
          "text": [
            "WARNING:tensorflow:Compiled the loaded model, but the compiled metrics have yet to be built. `model.compile_metrics` will be empty until you train or evaluate the model.\n"
          ]
        },
        {
          "output_type": "stream",
          "name": "stdout",
          "text": [
            "Epoch 89, Loss: 1.7870680093765259, Accuracy: 43.11111068725586, Val Loss: 2.0645089149475098, Val Accuracy: 33.41667175292969\n",
            "Saving new best model with loss:  2.064509\n",
            "Epoch 93, Loss: 1.711093544960022, Accuracy: 43.80554962158203, Val Loss: 2.070955753326416, Val Accuracy: 33.111122131347656\n",
            "Epoch 97, Loss: 1.7360236644744873, Accuracy: 44.861106872558594, Val Loss: 2.0736756324768066, Val Accuracy: 33.055564880371094\n"
          ]
        },
        {
          "output_type": "stream",
          "name": "stderr",
          "text": [
            "WARNING:tensorflow:Compiled the loaded model, but the compiled metrics have yet to be built. `model.compile_metrics` will be empty until you train or evaluate the model.\n"
          ]
        },
        {
          "output_type": "stream",
          "name": "stdout",
          "text": [
            "Epoch 101, Loss: 1.7057451009750366, Accuracy: 45.2500114440918, Val Loss: 2.0490171909332275, Val Accuracy: 33.611114501953125\n",
            "Saving new best model with loss:  2.0490172\n"
          ]
        },
        {
          "output_type": "stream",
          "name": "stderr",
          "text": [
            "WARNING:tensorflow:Compiled the loaded model, but the compiled metrics have yet to be built. `model.compile_metrics` will be empty until you train or evaluate the model.\n"
          ]
        },
        {
          "output_type": "stream",
          "name": "stdout",
          "text": [
            "Epoch 105, Loss: 1.7155736684799194, Accuracy: 44.805545806884766, Val Loss: 2.0422744750976562, Val Accuracy: 33.638885498046875\n",
            "Saving new best model with loss:  2.0422745\n",
            "Epoch 109, Loss: 1.6691272258758545, Accuracy: 46.16666793823242, Val Loss: 2.054781436920166, Val Accuracy: 33.583335876464844\n"
          ]
        },
        {
          "output_type": "stream",
          "name": "stderr",
          "text": [
            "WARNING:tensorflow:Compiled the loaded model, but the compiled metrics have yet to be built. `model.compile_metrics` will be empty until you train or evaluate the model.\n"
          ]
        },
        {
          "output_type": "stream",
          "name": "stdout",
          "text": [
            "Epoch 113, Loss: 1.6620432138442993, Accuracy: 44.83333206176758, Val Loss: 2.0193703174591064, Val Accuracy: 33.861114501953125\n",
            "Saving new best model with loss:  2.0193703\n",
            "Epoch 117, Loss: 1.6534675359725952, Accuracy: 47.16666793823242, Val Loss: 2.0753142833709717, Val Accuracy: 33.25\n"
          ]
        },
        {
          "output_type": "stream",
          "name": "stderr",
          "text": [
            "WARNING:tensorflow:Compiled the loaded model, but the compiled metrics have yet to be built. `model.compile_metrics` will be empty until you train or evaluate the model.\n"
          ]
        },
        {
          "output_type": "stream",
          "name": "stdout",
          "text": [
            "Epoch 121, Loss: 1.6288044452667236, Accuracy: 47.083335876464844, Val Loss: 2.002121925354004, Val Accuracy: 35.6944580078125\n",
            "Saving new best model with loss:  2.002122\n",
            "Epoch 125, Loss: 1.6466741561889648, Accuracy: 45.5, Val Loss: 2.0059866905212402, Val Accuracy: 34.41666793823242\n",
            "Epoch 129, Loss: 1.6231839656829834, Accuracy: 45.97221755981445, Val Loss: 2.0357115268707275, Val Accuracy: 33.916664123535156\n",
            "Epoch 133, Loss: 1.62665593624115, Accuracy: 46.80555725097656, Val Loss: 2.0126383304595947, Val Accuracy: 34.22223663330078\n",
            "Epoch 137, Loss: 1.595815896987915, Accuracy: 48.58334732055664, Val Loss: 2.031571626663208, Val Accuracy: 34.77777862548828\n"
          ]
        },
        {
          "output_type": "stream",
          "name": "stderr",
          "text": [
            "WARNING:tensorflow:Compiled the loaded model, but the compiled metrics have yet to be built. `model.compile_metrics` will be empty until you train or evaluate the model.\n"
          ]
        },
        {
          "output_type": "stream",
          "name": "stdout",
          "text": [
            "Epoch 141, Loss: 1.5999462604522705, Accuracy: 48.527774810791016, Val Loss: 1.9934908151626587, Val Accuracy: 36.27778625488281\n",
            "Saving new best model with loss:  1.9934908\n",
            "Epoch 145, Loss: 1.613626480102539, Accuracy: 48.083343505859375, Val Loss: 2.025958776473999, Val Accuracy: 34.555564880371094\n"
          ]
        },
        {
          "output_type": "stream",
          "name": "stderr",
          "text": [
            "WARNING:tensorflow:Compiled the loaded model, but the compiled metrics have yet to be built. `model.compile_metrics` will be empty until you train or evaluate the model.\n"
          ]
        },
        {
          "output_type": "stream",
          "name": "stdout",
          "text": [
            "Epoch 149, Loss: 1.542699933052063, Accuracy: 50.361106872558594, Val Loss: 1.9930951595306396, Val Accuracy: 35.833335876464844\n",
            "Saving new best model with loss:  1.9930952\n"
          ]
        },
        {
          "output_type": "stream",
          "name": "stderr",
          "text": [
            "WARNING:tensorflow:Compiled the loaded model, but the compiled metrics have yet to be built. `model.compile_metrics` will be empty until you train or evaluate the model.\n"
          ]
        },
        {
          "output_type": "stream",
          "name": "stdout",
          "text": [
            "Epoch 153, Loss: 1.5657782554626465, Accuracy: 48.8055534362793, Val Loss: 1.9805673360824585, Val Accuracy: 34.388893127441406\n",
            "Saving new best model with loss:  1.9805673\n",
            "Epoch 157, Loss: 1.5377979278564453, Accuracy: 48.97221755981445, Val Loss: 2.00515079498291, Val Accuracy: 35.52778625488281\n"
          ]
        },
        {
          "output_type": "stream",
          "name": "stderr",
          "text": [
            "WARNING:tensorflow:Compiled the loaded model, but the compiled metrics have yet to be built. `model.compile_metrics` will be empty until you train or evaluate the model.\n"
          ]
        },
        {
          "output_type": "stream",
          "name": "stdout",
          "text": [
            "Epoch 161, Loss: 1.5941927433013916, Accuracy: 48.750003814697266, Val Loss: 1.9624850749969482, Val Accuracy: 35.472232818603516\n",
            "Saving new best model with loss:  1.9624851\n",
            "Epoch 165, Loss: 1.525211215019226, Accuracy: 50.55555725097656, Val Loss: 1.9973952770233154, Val Accuracy: 35.30556106567383\n",
            "Epoch 169, Loss: 1.5490758419036865, Accuracy: 49.77777862548828, Val Loss: 1.9752779006958008, Val Accuracy: 35.80555725097656\n"
          ]
        },
        {
          "output_type": "stream",
          "name": "stderr",
          "text": [
            "WARNING:tensorflow:Compiled the loaded model, but the compiled metrics have yet to be built. `model.compile_metrics` will be empty until you train or evaluate the model.\n"
          ]
        },
        {
          "output_type": "stream",
          "name": "stdout",
          "text": [
            "Epoch 173, Loss: 1.5378426313400269, Accuracy: 49.02778244018555, Val Loss: 1.9532970190048218, Val Accuracy: 36.444454193115234\n",
            "Saving new best model with loss:  1.953297\n"
          ]
        },
        {
          "output_type": "stream",
          "name": "stderr",
          "text": [
            "WARNING:tensorflow:Compiled the loaded model, but the compiled metrics have yet to be built. `model.compile_metrics` will be empty until you train or evaluate the model.\n"
          ]
        },
        {
          "output_type": "stream",
          "name": "stdout",
          "text": [
            "Epoch 177, Loss: 1.5010789632797241, Accuracy: 51.02778625488281, Val Loss: 1.9201358556747437, Val Accuracy: 36.833335876464844\n",
            "Saving new best model with loss:  1.9201359\n",
            "Epoch 181, Loss: 1.518729567527771, Accuracy: 49.02778244018555, Val Loss: 2.014065980911255, Val Accuracy: 34.16667556762695\n",
            "Epoch 185, Loss: 1.4569392204284668, Accuracy: 52.13888931274414, Val Loss: 1.9275175333023071, Val Accuracy: 36.722225189208984\n",
            "Epoch 189, Loss: 1.5006684064865112, Accuracy: 51.2500114440918, Val Loss: 1.960504174232483, Val Accuracy: 36.22222137451172\n",
            "Epoch 193, Loss: 1.4871678352355957, Accuracy: 51.55554962158203, Val Loss: 1.9598464965820312, Val Accuracy: 35.47223663330078\n",
            "Epoch 197, Loss: 1.4401371479034424, Accuracy: 53.138893127441406, Val Loss: 1.9672753810882568, Val Accuracy: 35.19445037841797\n",
            "Epoch 201, Loss: 1.4217389822006226, Accuracy: 52.86111831665039, Val Loss: 1.95758855342865, Val Accuracy: 35.33333969116211\n",
            "Epoch 205, Loss: 1.4791617393493652, Accuracy: 52.166664123535156, Val Loss: 1.9397186040878296, Val Accuracy: 36.30555725097656\n",
            "Epoch 209, Loss: 1.459391713142395, Accuracy: 53.27777099609375, Val Loss: 1.9745237827301025, Val Accuracy: 36.58333206176758\n"
          ]
        },
        {
          "output_type": "stream",
          "name": "stderr",
          "text": [
            "WARNING:tensorflow:Compiled the loaded model, but the compiled metrics have yet to be built. `model.compile_metrics` will be empty until you train or evaluate the model.\n"
          ]
        },
        {
          "output_type": "stream",
          "name": "stdout",
          "text": [
            "Epoch 213, Loss: 1.3945139646530151, Accuracy: 54.08332824707031, Val Loss: 1.9145351648330688, Val Accuracy: 36.63889694213867\n",
            "Saving new best model with loss:  1.9145352\n",
            "Epoch 217, Loss: 1.4540371894836426, Accuracy: 52.333335876464844, Val Loss: 2.008286952972412, Val Accuracy: 35.63888931274414\n",
            "Epoch 221, Loss: 1.4286513328552246, Accuracy: 53.22221374511719, Val Loss: 1.9538730382919312, Val Accuracy: 37.0555534362793\n",
            "Epoch 225, Loss: 1.386191725730896, Accuracy: 54.11111831665039, Val Loss: 1.9673839807510376, Val Accuracy: 35.9444465637207\n",
            "Epoch 229, Loss: 1.4546494483947754, Accuracy: 52.66667556762695, Val Loss: 1.9312725067138672, Val Accuracy: 37.66666793823242\n",
            "Epoch 233, Loss: 1.4477262496948242, Accuracy: 52.388893127441406, Val Loss: 1.9789607524871826, Val Accuracy: 35.30555725097656\n",
            "Epoch 237, Loss: 1.4153639078140259, Accuracy: 52.888893127441406, Val Loss: 1.947127103805542, Val Accuracy: 37.58333206176758\n",
            "Epoch 241, Loss: 1.4163470268249512, Accuracy: 52.41667175292969, Val Loss: 1.9185158014297485, Val Accuracy: 37.13888931274414\n"
          ]
        }
      ]
    },
    {
      "cell_type": "code",
      "source": [
        "model = Prototypical(support, query, 84, 84, 3)\n",
        "model_path = \"./results/models/mini_train_reptile0.h5\"\n",
        "model.load(model_path)\n",
        "print(\"Model loaded.\")\n",
        "\n",
        "#number of classes\n",
        "num_way = num_ways[0] \n",
        "\n",
        "#number of examples per class for support set\n",
        "num_shot = num_shots[0]  \n",
        "\n",
        "#number of query points\n",
        "num_query = num_shots[0] \n",
        "\n",
        "#number of examples\n",
        "num_examples = 100\n",
        "\n",
        "num_episodes = 1200\n",
        "\n",
        "# Metrics to gather\n",
        "test_loss = tf.metrics.Mean(name='test_loss')\n",
        "test_acc = tf.metrics.Mean(name='test_accuracy')\n",
        "\n",
        "def calc_loss(support, query):\n",
        "  loss, acc = model(support, query)\n",
        "  return loss, acc\n",
        "\n",
        "for i_episode in range(num_episodes):\n",
        "  test_support, test_query = get_next_batch(test_images, test_classes, num_way, num_shot, num_query)\n",
        "  if (i_episode+1)%50 == 0: \n",
        "    print(\"Episode: \", i_episode + 1)\n",
        "  loss, acc = calc_loss(test_support, test_query)\n",
        "  test_loss(loss)\n",
        "  test_acc(acc)\n",
        "\n",
        "print(\"Loss: \", test_loss.result().numpy())\n",
        "print(\"Accuracy: \", test_acc.result().numpy() * 100)"
      ],
      "metadata": {
        "colab": {
          "base_uri": "https://localhost:8080/"
        },
        "id": "3NxJS7ie0m19",
        "outputId": "7eabb4ed-3c1a-4af3-e921-79d364a0c43d"
      },
      "execution_count": null,
      "outputs": [
        {
          "output_type": "stream",
          "name": "stdout",
          "text": [
            "Model loaded.\n",
            "Episode:  50\n",
            "Episode:  100\n",
            "Episode:  150\n",
            "Episode:  200\n",
            "Episode:  250\n",
            "Episode:  300\n",
            "Episode:  350\n",
            "Episode:  400\n",
            "Episode:  450\n",
            "Episode:  500\n",
            "Episode:  550\n",
            "Episode:  600\n",
            "Episode:  650\n",
            "Episode:  700\n",
            "Episode:  750\n",
            "Episode:  800\n",
            "Episode:  850\n",
            "Episode:  900\n",
            "Episode:  950\n",
            "Episode:  1000\n",
            "Episode:  1050\n",
            "Episode:  1100\n",
            "Episode:  1150\n",
            "Episode:  1200\n",
            "Loss:  0.944289\n",
            "Accuracy:  62.69655227661133\n"
          ]
        }
      ]
    },
    {
      "cell_type": "code",
      "source": [
        "model = Prototypical(support, query, 84, 84, 3)\n",
        "model_path = \"./results/models/mini_train_reptile1.h5\"\n",
        "model.load(model_path)\n",
        "print(\"Model loaded.\")\n",
        "\n",
        "#number of classes\n",
        "num_way = num_ways[1] \n",
        "\n",
        "#number of examples per class for support set\n",
        "num_shot = num_shots[1]  \n",
        "\n",
        "#number of query points\n",
        "num_query = num_shots[1] \n",
        "\n",
        "#number of examples\n",
        "num_examples = 100\n",
        "\n",
        "num_episodes = 1200\n",
        "\n",
        "# Metrics to gather\n",
        "test_loss = tf.metrics.Mean(name='test_loss')\n",
        "test_acc = tf.metrics.Mean(name='test_accuracy')\n",
        "\n",
        "def calc_loss(support, query):\n",
        "  loss, acc = model(support, query)\n",
        "  return loss, acc\n",
        "\n",
        "for i_episode in range(num_episodes):\n",
        "  test_support, test_query = get_next_batch(test_images, test_classes, num_way, num_shot, num_query)\n",
        "  if (i_episode+1)%50 == 0: \n",
        "    print(\"Episode: \", i_episode + 1)\n",
        "  loss, acc = calc_loss(test_support, test_query)\n",
        "  test_loss(loss)\n",
        "  test_acc(acc)\n",
        "\n",
        "print(\"Loss: \", test_loss.result().numpy())\n",
        "print(\"Accuracy: \", test_acc.result().numpy() * 100)"
      ],
      "metadata": {
        "colab": {
          "base_uri": "https://localhost:8080/"
        },
        "id": "Bh3iGRdyBRHN",
        "outputId": "19ba3cb4-ef3d-479f-f490-142ee8494936"
      },
      "execution_count": null,
      "outputs": [
        {
          "output_type": "stream",
          "name": "stdout",
          "text": [
            "Model loaded.\n",
            "Episode:  50\n",
            "Episode:  100\n",
            "Episode:  150\n",
            "Episode:  200\n",
            "Episode:  250\n",
            "Episode:  300\n",
            "Episode:  350\n",
            "Episode:  400\n",
            "Episode:  450\n",
            "Episode:  500\n",
            "Episode:  550\n",
            "Episode:  600\n",
            "Episode:  650\n",
            "Episode:  700\n",
            "Episode:  750\n",
            "Episode:  800\n",
            "Episode:  850\n",
            "Episode:  900\n",
            "Episode:  950\n",
            "Episode:  1000\n",
            "Episode:  1050\n",
            "Episode:  1100\n",
            "Episode:  1150\n",
            "Episode:  1200\n",
            "Loss:  1.4857697\n",
            "Accuracy:  35.45006513595581\n"
          ]
        }
      ]
    },
    {
      "cell_type": "code",
      "source": [
        "model = Prototypical(support, query, 84, 84, 3)\n",
        "model_path = \"./results/models/mini_train_reptile2.h5\"\n",
        "model.load(model_path)\n",
        "print(\"Model loaded.\")\n",
        "\n",
        "#number of classes\n",
        "num_way = num_ways[2] \n",
        "\n",
        "#number of examples per class for support set\n",
        "num_shot = num_shots[2]  \n",
        "\n",
        "#number of query points\n",
        "num_query = num_shots[2] \n",
        "\n",
        "#number of examples\n",
        "num_examples = 100\n",
        "\n",
        "num_episodes = 1200\n",
        "\n",
        "# Metrics to gather\n",
        "test_loss = tf.metrics.Mean(name='test_loss')\n",
        "test_acc = tf.metrics.Mean(name='test_accuracy')\n",
        "\n",
        "def calc_loss(support, query):\n",
        "  loss, acc = model(support, query)\n",
        "  return loss, acc\n",
        "\n",
        "for i_episode in range(num_episodes):\n",
        "  test_support, test_query = get_next_batch(test_images, test_classes, num_way, num_shot, num_query)\n",
        "  if (i_episode+1)%50 == 0: \n",
        "    print(\"Episode: \", i_episode + 1)\n",
        "  loss, acc = calc_loss(test_support, test_query)\n",
        "  test_loss(loss)\n",
        "  test_acc(acc)\n",
        "\n",
        "print(\"Loss: \", test_loss.result().numpy())\n",
        "print(\"Accuracy: \", test_acc.result().numpy() * 100)"
      ],
      "metadata": {
        "colab": {
          "base_uri": "https://localhost:8080/"
        },
        "id": "hq1uFDaqBRnv",
        "outputId": "129c7268-e360-4763-feb3-4a251107d830"
      },
      "execution_count": null,
      "outputs": [
        {
          "output_type": "stream",
          "name": "stdout",
          "text": [
            "Model loaded.\n",
            "Episode:  50\n",
            "Episode:  100\n",
            "Episode:  150\n",
            "Episode:  200\n",
            "Episode:  250\n",
            "Episode:  300\n",
            "Episode:  350\n",
            "Episode:  400\n",
            "Episode:  450\n",
            "Episode:  500\n",
            "Episode:  550\n",
            "Episode:  600\n",
            "Episode:  650\n",
            "Episode:  700\n",
            "Episode:  750\n",
            "Episode:  800\n",
            "Episode:  850\n",
            "Episode:  900\n",
            "Episode:  950\n",
            "Episode:  1000\n",
            "Episode:  1050\n",
            "Episode:  1100\n",
            "Episode:  1150\n",
            "Episode:  1200\n",
            "Loss:  1.585086\n",
            "Accuracy:  44.89305019378662\n"
          ]
        }
      ]
    },
    {
      "cell_type": "code",
      "source": [
        "model = Prototypical(support, query, 84, 84, 3)\n",
        "model_path = \"./results/models/mini_train_reptile3.h5\"\n",
        "model.load(model_path)\n",
        "print(\"Model loaded.\")\n",
        "\n",
        "#number of classes\n",
        "num_way = num_ways[3] \n",
        "\n",
        "#number of examples per class for support set\n",
        "num_shot = num_shots[3]  \n",
        "\n",
        "#number of query points\n",
        "num_query = num_shots[3] \n",
        "\n",
        "#number of examples\n",
        "num_examples = 100\n",
        "\n",
        "num_episodes = 1200\n",
        "\n",
        "# Metrics to gather\n",
        "test_loss = tf.metrics.Mean(name='test_loss')\n",
        "test_acc = tf.metrics.Mean(name='test_accuracy')\n",
        "\n",
        "def calc_loss(support, query):\n",
        "  loss, acc = model(support, query)\n",
        "  return loss, acc\n",
        "\n",
        "for i_episode in range(num_episodes):\n",
        "  test_support, test_query = get_next_batch(test_images, test_classes, num_way, num_shot, num_query)\n",
        "  if (i_episode+1)%50 == 0: \n",
        "    print(\"Episode: \", i_episode + 1)\n",
        "  loss, acc = calc_loss(test_support, test_query)\n",
        "  test_loss(loss)\n",
        "  test_acc(acc)\n",
        "\n",
        "print(\"Loss: \", test_loss.result().numpy())\n",
        "print(\"Accuracy: \", test_acc.result().numpy() * 100)"
      ],
      "metadata": {
        "colab": {
          "base_uri": "https://localhost:8080/"
        },
        "id": "s4e8vojnBSC1",
        "outputId": "979bf88f-f140-406c-b743-1099e0fd47b1"
      },
      "execution_count": null,
      "outputs": [
        {
          "output_type": "stream",
          "name": "stdout",
          "text": [
            "Model loaded.\n",
            "Episode:  50\n",
            "Episode:  100\n",
            "Episode:  150\n",
            "Episode:  200\n",
            "Episode:  250\n",
            "Episode:  300\n",
            "Episode:  350\n",
            "Episode:  400\n",
            "Episode:  450\n",
            "Episode:  500\n",
            "Episode:  550\n",
            "Episode:  600\n",
            "Episode:  650\n",
            "Episode:  700\n",
            "Episode:  750\n",
            "Episode:  800\n",
            "Episode:  850\n",
            "Episode:  900\n",
            "Episode:  950\n",
            "Episode:  1000\n",
            "Episode:  1050\n",
            "Episode:  1100\n",
            "Episode:  1150\n",
            "Episode:  1200\n",
            "Loss:  2.2121863\n",
            "Accuracy:  24.243055284023285\n"
          ]
        }
      ]
    },
    {
      "cell_type": "code",
      "source": [
        "model = Prototypical(support, query, 84, 84, 3)\n",
        "model_path = \"./results/models/mini_train_reptile4.h5\"\n",
        "model.load(model_path)\n",
        "print(\"Model loaded.\")\n",
        "\n",
        "#number of classes\n",
        "num_way = num_ways[4] \n",
        "\n",
        "#number of examples per class for support set\n",
        "num_shot = num_shots[4]  \n",
        "\n",
        "#number of query points\n",
        "num_query = num_shots[4] \n",
        "\n",
        "#number of examples\n",
        "num_examples = 100\n",
        "\n",
        "num_episodes = 1200\n",
        "\n",
        "# Metrics to gather\n",
        "test_loss = tf.metrics.Mean(name='test_loss')\n",
        "test_acc = tf.metrics.Mean(name='test_accuracy')\n",
        "\n",
        "def calc_loss(support, query):\n",
        "  loss, acc = model(support, query)\n",
        "  return loss, acc\n",
        "\n",
        "for i_episode in range(num_episodes):\n",
        "  test_support, test_query = get_next_batch(test_images, test_classes, num_way, num_shot, num_query)\n",
        "  if (i_episode+1)%50 == 0: \n",
        "    print(\"Episode: \", i_episode + 1)\n",
        "  loss, acc = calc_loss(test_support, test_query)\n",
        "  test_loss(loss)\n",
        "  test_acc(acc)\n",
        "\n",
        "print(\"Loss: \", test_loss.result().numpy())\n",
        "print(\"Accuracy: \", test_acc.result().numpy() * 100)"
      ],
      "metadata": {
        "colab": {
          "base_uri": "https://localhost:8080/"
        },
        "id": "3kJxEsTYBSdp",
        "outputId": "9d2ec8b3-5b5c-407d-ac67-ff140be4eb9c"
      },
      "execution_count": null,
      "outputs": [
        {
          "output_type": "stream",
          "name": "stdout",
          "text": [
            "Model loaded.\n",
            "Episode:  50\n",
            "Episode:  100\n",
            "Episode:  150\n",
            "Episode:  200\n",
            "Episode:  250\n",
            "Episode:  300\n",
            "Episode:  350\n",
            "Episode:  400\n",
            "Episode:  450\n",
            "Episode:  500\n",
            "Episode:  550\n",
            "Episode:  600\n",
            "Episode:  650\n",
            "Episode:  700\n",
            "Episode:  750\n",
            "Episode:  800\n",
            "Episode:  850\n",
            "Episode:  900\n",
            "Episode:  950\n",
            "Episode:  1000\n",
            "Episode:  1050\n",
            "Episode:  1100\n",
            "Episode:  1150\n",
            "Episode:  1200\n",
            "Loss:  1.9332316\n",
            "Accuracy:  35.70736050605774\n"
          ]
        }
      ]
    },
    {
      "cell_type": "code",
      "source": [
        "print(train_images.shape)\n",
        "print(val_images.shape)\n",
        "print(test_images.shape)"
      ],
      "metadata": {
        "colab": {
          "base_uri": "https://localhost:8080/"
        },
        "id": "PnCDN6Bdg_v_",
        "outputId": "b6394d0e-81e7-470a-c9de-ccb7a6fd1c1d"
      },
      "execution_count": null,
      "outputs": [
        {
          "output_type": "stream",
          "name": "stdout",
          "text": [
            "(38400, 84, 84, 3)\n",
            "(9600, 84, 84, 3)\n",
            "(12000, 84, 84, 3)\n"
          ]
        }
      ]
    },
    {
      "cell_type": "code",
      "source": [
        "total_rows = train_images.shape[0] + val_images.shape[0] + test_images.shape[0]"
      ],
      "metadata": {
        "id": "FeevtwLHhAOL"
      },
      "execution_count": null,
      "outputs": []
    },
    {
      "cell_type": "code",
      "source": [
        "combined_train_images_rows = (int)(total_rows *4/6)\n",
        "combined_val_images_rows = (int)(total_rows *1/6)\n",
        "combined_test_images_rows = (int)(total_rows *1/6)\n",
        "print(combined_train_images_rows)\n",
        "print(combined_val_images_rows)\n",
        "print(combined_test_images_rows)"
      ],
      "metadata": {
        "colab": {
          "base_uri": "https://localhost:8080/"
        },
        "id": "OfZ8HR9KhApR",
        "outputId": "c88a7f2b-255a-441f-c7bc-db8a9e018a2c"
      },
      "execution_count": null,
      "outputs": [
        {
          "output_type": "stream",
          "name": "stdout",
          "text": [
            "40000\n",
            "10000\n",
            "10000\n"
          ]
        }
      ]
    },
    {
      "cell_type": "code",
      "source": [
        "combined_train_images = np.zeros([combined_train_images_rows, 84, 84, 3], dtype=np.float32)\n",
        "combined_val_images = np.zeros([combined_val_images_rows, 84, 84, 3], dtype=np.float32)\n",
        "combined_test_images = np.zeros([combined_test_images_rows, 84, 84, 3], dtype=np.float32)\n"
      ],
      "metadata": {
        "id": "cvwE2ckQlH7_"
      },
      "execution_count": null,
      "outputs": []
    },
    {
      "cell_type": "code",
      "source": [
        "train_index = 0\n",
        "val_index = 0\n",
        "test_index = 0\n",
        "train_slice = 400\n",
        "val_slice = 100\n",
        "test_slice = 100\n",
        "num_examples = 600\n",
        "for i in range(int(train_images.shape[0]/600)):\n",
        "  train_start_index = i * 600\n",
        "  train_end_index = train_start_index + train_slice\n",
        "  val_start_index = train_end_index\n",
        "  val_end_index = val_start_index + val_slice\n",
        "  test_start_index = val_end_index\n",
        "  test_end_index = test_start_index + test_slice\n",
        "  combined_train_images[i * train_slice: i * train_slice + train_slice] = train_images[train_start_index : train_end_index]/255\n",
        "  combined_val_images[i * val_slice: i * val_slice + val_slice] = train_images[val_start_index : val_end_index]/255\n",
        "  combined_test_images[i * test_slice : i * test_slice + test_slice] = train_images[test_start_index : test_end_index]/255\n",
        "\n",
        "train_index = train_index + int(train_images.shape[0]* 4/6)\n",
        "val_index = val_index + int(train_images.shape[0]* 1/6)\n",
        "test_index = test_index + int(train_images.shape[0]* 1/6)\n",
        "print(train_index)\n",
        "print(val_index)\n",
        "print(test_index)\n",
        "for i in range(int(val_images.shape[0]/600)):\n",
        "  train_start_index = i * 600 \n",
        "  train_end_index = train_start_index + train_slice\n",
        "  val_start_index = train_end_index\n",
        "  val_end_index = val_start_index + val_slice\n",
        "  test_start_index = val_end_index\n",
        "  test_end_index = test_start_index + test_slice\n",
        "  combined_train_images[i * train_slice + train_index : i * train_slice + train_slice + train_index] = val_images[train_start_index : train_end_index]\n",
        "  combined_val_images[i * val_slice + val_index : i * val_slice + val_slice + val_index] = val_images[val_start_index : val_end_index]\n",
        "  combined_test_images[i * test_slice + test_index : i * test_slice + test_slice + test_index] = val_images[test_start_index : test_end_index]\n",
        "\n",
        "\n",
        "train_index = train_index + int(val_images.shape[0]* 4/6)\n",
        "val_index = val_index + int(val_images.shape[0]* 1/6)\n",
        "test_index = test_index + int(val_images.shape[0]* 1/6)\n",
        "print(train_index)\n",
        "print(val_index)\n",
        "print(test_index)\n",
        "for i in range(int(test_images.shape[0]/600)):\n",
        "  train_start_index = i * 600\n",
        "  train_end_index = train_start_index + train_slice\n",
        "  val_start_index = train_end_index\n",
        "  val_end_index = val_start_index + val_slice\n",
        "  test_start_index = val_end_index\n",
        "  test_end_index = test_start_index + test_slice\n",
        "  combined_train_images[i * train_slice + train_index : i * train_slice + train_slice + train_index] = test_images[train_start_index : train_end_index]\n",
        "  combined_val_images[i * val_slice + val_index : i * val_slice + val_slice + val_index] = test_images[val_start_index : val_end_index]\n",
        "  combined_test_images[i * test_slice + test_index : i * test_slice + test_slice + test_index] = test_images[test_start_index : test_end_index]\n",
        "\n"
      ],
      "metadata": {
        "colab": {
          "base_uri": "https://localhost:8080/"
        },
        "id": "kFeYWeNOlIWz",
        "outputId": "0231c178-61b0-4e06-b19a-b1d22351ac7c"
      },
      "execution_count": null,
      "outputs": [
        {
          "output_type": "stream",
          "name": "stdout",
          "text": [
            "25600\n",
            "6400\n",
            "6400\n",
            "32000\n",
            "8000\n",
            "8000\n"
          ]
        }
      ]
    },
    {
      "cell_type": "code",
      "source": [
        "plt.figure(figsize=(6,3))\n",
        "plt.xticks([])\n",
        "plt.yticks([])\n",
        "plt.imshow(combined_val_images[9999])"
      ],
      "metadata": {
        "colab": {
          "base_uri": "https://localhost:8080/",
          "height": 215
        },
        "id": "1LMw4KdKlIxn",
        "outputId": "5f5ea60e-1ad2-4d2b-81b5-92a6552c987b"
      },
      "execution_count": null,
      "outputs": [
        {
          "output_type": "execute_result",
          "data": {
            "text/plain": [
              "<matplotlib.image.AxesImage at 0x7f69f96723d0>"
            ]
          },
          "metadata": {},
          "execution_count": 140
        },
        {
          "output_type": "display_data",
          "data": {
            "text/plain": [
              "<Figure size 432x216 with 1 Axes>"
            ],
            "image/png": "[encoded data removed]"
          },
          "metadata": {}
        }
      ]
    },
    {
      "cell_type": "code",
      "source": [
        "train_labels = np.zeros(combined_train_images.shape[0])\n",
        "val_labels = np.zeros(combined_val_images.shape[0])\n",
        "test_labels = np.zeros(combined_test_images.shape[0])\n",
        "val = 0\n",
        "for i in range(int(combined_train_images.shape[0]/400)):\n",
        "  train_labels[(i * train_slice) : (i * train_slice) + train_slice] = val\n",
        "  val = val + 1\n",
        "\n",
        "val = 0\n",
        "for i in range(int(combined_train_images.shape[0]/400)):\n",
        "  val_labels[(i * val_slice) : (i * val_slice) + val_slice] = val\n",
        "  test_labels[(i * test_slice) : (i * test_slice) + test_slice] = val\n",
        "  val = val + 1\n",
        "\n",
        "test_labels[9000:10000]"
      ],
      "metadata": {
        "id": "b3QjddCc-Ovz"
      },
      "execution_count": null,
      "outputs": []
    },
    {
      "cell_type": "code",
      "source": [
        "from numpy import argmax\n",
        "from tensorflow.keras.utils import to_categorical\n",
        "# one hot encode\n",
        "train_labels_encoded = to_categorical(train_labels)\n",
        "val_labels_encoded = to_categorical(val_labels)\n",
        "test_labels_encoded = to_categorical(test_labels)\n",
        "print(train_labels_encoded.shape)\n",
        "print(val_labels_encoded.shape)\n",
        "print(test_labels_encoded.shape)"
      ],
      "metadata": {
        "colab": {
          "base_uri": "https://localhost:8080/"
        },
        "id": "IfKwMN2W-PKH",
        "outputId": "af0cdbf1-296f-4816-d104-f56df1af2995"
      },
      "execution_count": null,
      "outputs": [
        {
          "output_type": "stream",
          "name": "stdout",
          "text": [
            "(40000, 100)\n",
            "(10000, 100)\n",
            "(10000, 100)\n"
          ]
        }
      ]
    },
    {
      "cell_type": "code",
      "source": [
        "from tensorflow.keras import applications\n",
        "from tensorflow.keras.models import Sequential\n",
        "from tensorflow.keras.layers import Dropout, GlobalMaxPooling2D\n",
        "\n",
        "base_model = applications.resnet50.ResNet50(weights= None, include_top=False, input_shape= (84,84,3))\n",
        "x = base_model.output\n",
        "x = GlobalMaxPooling2D()(x)\n",
        "x = Dropout(0.7)(x)\n",
        "predictions = Dense(100, activation= 'softmax')(x)\n",
        "model = Model(inputs = base_model.input, outputs = predictions)\n",
        "optimizer = tf.keras.optimizers.Adam(learning_rate)\n",
        "model.compile(optimizer= optimizer, loss='categorical_crossentropy', metrics=['accuracy'])\n",
        "model.fit(combined_val_images, val_labels_encoded, epochs = 100)\n"
      ],
      "metadata": {
        "colab": {
          "base_uri": "https://localhost:8080/"
        },
        "id": "JQq4r9XU-PkJ",
        "outputId": "59358f46-d3f8-4578-8aca-73381204af72"
      },
      "execution_count": null,
      "outputs": [
        {
          "output_type": "stream",
          "name": "stdout",
          "text": [
            "Epoch 1/100\n",
            "313/313 [==============================] - 23s 56ms/step - loss: 8.7343 - accuracy: 0.0107\n",
            "Epoch 2/100\n",
            "313/313 [==============================] - 17s 55ms/step - loss: 7.4603 - accuracy: 0.0120\n",
            "Epoch 3/100\n",
            "313/313 [==============================] - 17s 55ms/step - loss: 7.1911 - accuracy: 0.0111\n",
            "Epoch 4/100\n",
            "313/313 [==============================] - 17s 55ms/step - loss: 6.6225 - accuracy: 0.0132\n",
            "Epoch 5/100\n",
            "313/313 [==============================] - 17s 55ms/step - loss: 6.3055 - accuracy: 0.0145\n",
            "Epoch 6/100\n",
            "313/313 [==============================] - 17s 55ms/step - loss: 6.3199 - accuracy: 0.0130\n",
            "Epoch 7/100\n",
            "313/313 [==============================] - 17s 55ms/step - loss: 6.0657 - accuracy: 0.0174\n",
            "Epoch 8/100\n",
            "313/313 [==============================] - 17s 55ms/step - loss: 5.9919 - accuracy: 0.0249\n",
            "Epoch 9/100\n",
            "313/313 [==============================] - 17s 55ms/step - loss: 5.9232 - accuracy: 0.0285\n",
            "Epoch 10/100\n",
            "313/313 [==============================] - 17s 55ms/step - loss: 5.8042 - accuracy: 0.0339\n",
            "Epoch 11/100\n",
            "313/313 [==============================] - 17s 55ms/step - loss: 5.7530 - accuracy: 0.0378\n",
            "Epoch 12/100\n",
            "313/313 [==============================] - 17s 55ms/step - loss: 5.8098 - accuracy: 0.0440\n",
            "Epoch 13/100\n",
            "313/313 [==============================] - 17s 55ms/step - loss: 5.9423 - accuracy: 0.0412\n",
            "Epoch 14/100\n",
            "313/313 [==============================] - 17s 55ms/step - loss: 5.6901 - accuracy: 0.0463\n",
            "Epoch 15/100\n",
            "313/313 [==============================] - 17s 55ms/step - loss: 5.6912 - accuracy: 0.0519\n",
            "Epoch 16/100\n",
            "313/313 [==============================] - 17s 55ms/step - loss: 5.6830 - accuracy: 0.0572\n",
            "Epoch 17/100\n",
            "313/313 [==============================] - 17s 55ms/step - loss: 5.4826 - accuracy: 0.0593\n",
            "Epoch 18/100\n",
            "313/313 [==============================] - 17s 55ms/step - loss: 5.3417 - accuracy: 0.0684\n",
            "Epoch 19/100\n",
            "313/313 [==============================] - 17s 55ms/step - loss: 5.2730 - accuracy: 0.0736\n",
            "Epoch 20/100\n",
            "313/313 [==============================] - 17s 55ms/step - loss: 5.2437 - accuracy: 0.0791\n",
            "Epoch 21/100\n",
            "313/313 [==============================] - 17s 55ms/step - loss: 5.1414 - accuracy: 0.0872\n",
            "Epoch 22/100\n",
            "313/313 [==============================] - 17s 55ms/step - loss: 5.2422 - accuracy: 0.0872\n",
            "Epoch 23/100\n",
            "313/313 [==============================] - 17s 55ms/step - loss: 5.2822 - accuracy: 0.0850\n",
            "Epoch 24/100\n",
            "313/313 [==============================] - 17s 55ms/step - loss: 4.9835 - accuracy: 0.1031\n",
            "Epoch 25/100\n",
            "313/313 [==============================] - 17s 56ms/step - loss: 4.9057 - accuracy: 0.1131\n",
            "Epoch 26/100\n",
            "313/313 [==============================] - 17s 55ms/step - loss: 4.7604 - accuracy: 0.1206\n",
            "Epoch 27/100\n",
            "313/313 [==============================] - 17s 55ms/step - loss: 4.6954 - accuracy: 0.1257\n",
            "Epoch 28/100\n",
            "313/313 [==============================] - 17s 55ms/step - loss: 4.6399 - accuracy: 0.1229\n",
            "Epoch 29/100\n",
            "313/313 [==============================] - 17s 55ms/step - loss: 4.6444 - accuracy: 0.1181\n",
            "Epoch 30/100\n",
            "313/313 [==============================] - 17s 55ms/step - loss: 4.5050 - accuracy: 0.1364\n",
            "Epoch 31/100\n",
            "313/313 [==============================] - 17s 55ms/step - loss: 4.4150 - accuracy: 0.1395\n",
            "Epoch 32/100\n",
            "313/313 [==============================] - 17s 55ms/step - loss: 4.3355 - accuracy: 0.1445\n",
            "Epoch 33/100\n",
            "313/313 [==============================] - 17s 55ms/step - loss: 4.5260 - accuracy: 0.1168\n",
            "Epoch 34/100\n",
            "313/313 [==============================] - 17s 55ms/step - loss: 4.2355 - accuracy: 0.1437\n",
            "Epoch 35/100\n",
            "313/313 [==============================] - 17s 55ms/step - loss: 4.1347 - accuracy: 0.1478\n",
            "Epoch 36/100\n",
            "313/313 [==============================] - 17s 55ms/step - loss: 3.9114 - accuracy: 0.1668\n",
            "Epoch 37/100\n",
            "313/313 [==============================] - 17s 55ms/step - loss: 3.7491 - accuracy: 0.1878\n",
            "Epoch 38/100\n",
            "313/313 [==============================] - 17s 55ms/step - loss: 3.6125 - accuracy: 0.2081\n",
            "Epoch 39/100\n",
            "313/313 [==============================] - 17s 55ms/step - loss: 3.4895 - accuracy: 0.2229\n",
            "Epoch 40/100\n",
            "313/313 [==============================] - 17s 55ms/step - loss: 3.3609 - accuracy: 0.2468\n",
            "Epoch 41/100\n",
            "313/313 [==============================] - 17s 55ms/step - loss: 3.2339 - accuracy: 0.2686\n",
            "Epoch 42/100\n",
            "313/313 [==============================] - 17s 55ms/step - loss: 3.0687 - accuracy: 0.2848\n",
            "Epoch 43/100\n",
            "313/313 [==============================] - 17s 55ms/step - loss: 3.1696 - accuracy: 0.2864\n",
            "Epoch 44/100\n",
            "313/313 [==============================] - 17s 55ms/step - loss: 2.8700 - accuracy: 0.3358\n",
            "Epoch 45/100\n",
            "313/313 [==============================] - 17s 55ms/step - loss: 2.8406 - accuracy: 0.3365\n",
            "Epoch 46/100\n",
            "313/313 [==============================] - 17s 55ms/step - loss: 3.0067 - accuracy: 0.2966\n",
            "Epoch 47/100\n",
            "313/313 [==============================] - 17s 55ms/step - loss: 2.5063 - accuracy: 0.3817\n",
            "Epoch 48/100\n",
            "313/313 [==============================] - 17s 55ms/step - loss: 2.3051 - accuracy: 0.4242\n",
            "Epoch 49/100\n",
            "313/313 [==============================] - 17s 55ms/step - loss: 2.0917 - accuracy: 0.4703\n",
            "Epoch 50/100\n",
            "313/313 [==============================] - 17s 55ms/step - loss: 1.8342 - accuracy: 0.5185\n",
            "Epoch 51/100\n",
            "313/313 [==============================] - 17s 55ms/step - loss: 1.7021 - accuracy: 0.5509\n",
            "Epoch 52/100\n",
            "313/313 [==============================] - 17s 55ms/step - loss: 1.6861 - accuracy: 0.5507\n",
            "Epoch 53/100\n",
            "313/313 [==============================] - 17s 55ms/step - loss: 1.5128 - accuracy: 0.5869\n",
            "Epoch 54/100\n",
            "313/313 [==============================] - 17s 55ms/step - loss: 1.5192 - accuracy: 0.5873\n",
            "Epoch 55/100\n",
            "313/313 [==============================] - 17s 55ms/step - loss: 1.2898 - accuracy: 0.6453\n",
            "Epoch 56/100\n",
            "313/313 [==============================] - 17s 55ms/step - loss: 1.2447 - accuracy: 0.6568\n",
            "Epoch 57/100\n",
            "313/313 [==============================] - 17s 55ms/step - loss: 1.0722 - accuracy: 0.6979\n",
            "Epoch 58/100\n",
            "313/313 [==============================] - 17s 55ms/step - loss: 1.0103 - accuracy: 0.7145\n",
            "Epoch 59/100\n",
            "313/313 [==============================] - 17s 55ms/step - loss: 0.8246 - accuracy: 0.7674\n",
            "Epoch 60/100\n",
            "313/313 [==============================] - 17s 55ms/step - loss: 0.7446 - accuracy: 0.7846\n",
            "Epoch 61/100\n",
            "313/313 [==============================] - 17s 55ms/step - loss: 0.6852 - accuracy: 0.8001\n",
            "Epoch 62/100\n",
            "313/313 [==============================] - 17s 55ms/step - loss: 0.6240 - accuracy: 0.8218\n",
            "Epoch 63/100\n",
            "313/313 [==============================] - 17s 55ms/step - loss: 0.6019 - accuracy: 0.8286\n",
            "Epoch 64/100\n",
            "313/313 [==============================] - 17s 55ms/step - loss: 0.5454 - accuracy: 0.8406\n",
            "Epoch 65/100\n",
            "313/313 [==============================] - 17s 55ms/step - loss: 0.5481 - accuracy: 0.8441\n",
            "Epoch 66/100\n",
            "313/313 [==============================] - 17s 55ms/step - loss: 0.5013 - accuracy: 0.8533\n",
            "Epoch 67/100\n",
            "313/313 [==============================] - 17s 55ms/step - loss: 0.4672 - accuracy: 0.8660\n",
            "Epoch 68/100\n",
            "313/313 [==============================] - 17s 55ms/step - loss: 0.4995 - accuracy: 0.8572\n",
            "Epoch 69/100\n",
            "313/313 [==============================] - 17s 55ms/step - loss: 0.4462 - accuracy: 0.8686\n",
            "Epoch 70/100\n",
            "313/313 [==============================] - 17s 55ms/step - loss: 0.4397 - accuracy: 0.8775\n",
            "Epoch 71/100\n",
            "313/313 [==============================] - 17s 55ms/step - loss: 0.4097 - accuracy: 0.8784\n",
            "Epoch 72/100\n",
            "313/313 [==============================] - 17s 55ms/step - loss: 0.3931 - accuracy: 0.8860\n",
            "Epoch 73/100\n",
            "313/313 [==============================] - 17s 55ms/step - loss: 0.3832 - accuracy: 0.8922\n",
            "Epoch 74/100\n",
            "313/313 [==============================] - 17s 55ms/step - loss: 0.3808 - accuracy: 0.8928\n",
            "Epoch 75/100\n",
            "313/313 [==============================] - 17s 55ms/step - loss: 0.3885 - accuracy: 0.8870\n",
            "Epoch 76/100\n",
            "313/313 [==============================] - 17s 55ms/step - loss: 0.4380 - accuracy: 0.8727\n",
            "Epoch 77/100\n",
            "313/313 [==============================] - 17s 55ms/step - loss: 0.5241 - accuracy: 0.8553\n",
            "Epoch 78/100\n",
            "313/313 [==============================] - 17s 55ms/step - loss: 0.4612 - accuracy: 0.8735\n",
            "Epoch 79/100\n",
            "313/313 [==============================] - 17s 55ms/step - loss: 0.3897 - accuracy: 0.8928\n",
            "Epoch 80/100\n",
            "313/313 [==============================] - 17s 55ms/step - loss: 0.4073 - accuracy: 0.8879\n",
            "Epoch 81/100\n",
            "313/313 [==============================] - 17s 55ms/step - loss: 0.3404 - accuracy: 0.9082\n",
            "Epoch 82/100\n",
            "313/313 [==============================] - 17s 55ms/step - loss: 0.3399 - accuracy: 0.9083\n",
            "Epoch 83/100\n",
            "313/313 [==============================] - 17s 55ms/step - loss: 0.4483 - accuracy: 0.8772\n",
            "Epoch 84/100\n",
            "313/313 [==============================] - 17s 55ms/step - loss: 0.3717 - accuracy: 0.8983\n",
            "Epoch 85/100\n",
            "313/313 [==============================] - 17s 55ms/step - loss: 0.3389 - accuracy: 0.9078\n",
            "Epoch 86/100\n",
            "313/313 [==============================] - 17s 55ms/step - loss: 0.3073 - accuracy: 0.9167\n",
            "Epoch 87/100\n",
            "313/313 [==============================] - 17s 55ms/step - loss: 0.4239 - accuracy: 0.8835\n",
            "Epoch 88/100\n",
            "313/313 [==============================] - 17s 55ms/step - loss: 0.3865 - accuracy: 0.8960\n",
            "Epoch 89/100\n",
            "313/313 [==============================] - 17s 55ms/step - loss: 0.4992 - accuracy: 0.8668\n",
            "Epoch 90/100\n",
            "313/313 [==============================] - 17s 55ms/step - loss: 0.5684 - accuracy: 0.8478\n",
            "Epoch 91/100\n",
            "313/313 [==============================] - 17s 55ms/step - loss: 0.3891 - accuracy: 0.8928\n",
            "Epoch 92/100\n",
            "313/313 [==============================] - 17s 55ms/step - loss: 0.3198 - accuracy: 0.9124\n",
            "Epoch 93/100\n",
            "313/313 [==============================] - 17s 55ms/step - loss: 0.3405 - accuracy: 0.9088\n",
            "Epoch 94/100\n",
            "313/313 [==============================] - 17s 55ms/step - loss: 0.3196 - accuracy: 0.9156\n",
            "Epoch 95/100\n",
            "313/313 [==============================] - 17s 55ms/step - loss: 0.3056 - accuracy: 0.9192\n",
            "Epoch 96/100\n",
            "313/313 [==============================] - 17s 55ms/step - loss: 0.2809 - accuracy: 0.9261\n",
            "Epoch 97/100\n",
            "313/313 [==============================] - 17s 55ms/step - loss: 0.2786 - accuracy: 0.9281\n",
            "Epoch 98/100\n",
            "313/313 [==============================] - 17s 55ms/step - loss: 0.3710 - accuracy: 0.9008\n",
            "Epoch 99/100\n",
            "313/313 [==============================] - 17s 55ms/step - loss: 0.2933 - accuracy: 0.9218\n",
            "Epoch 100/100\n",
            "313/313 [==============================] - 17s 55ms/step - loss: 0.2688 - accuracy: 0.9281\n"
          ]
        },
        {
          "output_type": "execute_result",
          "data": {
            "text/plain": [
              "<keras.callbacks.History at 0x7f70c20cafd0>"
            ]
          },
          "metadata": {},
          "execution_count": 151
        }
      ]
    },
    {
      "cell_type": "code",
      "source": [
        "preds = model.evaluate(combined_test_images, test_labels_encoded)\n",
        "print (\"Loss = \" + str(preds[0]))\n",
        "print (\"Test Accuracy = \" + str(preds[1]))"
      ],
      "metadata": {
        "colab": {
          "base_uri": "https://localhost:8080/",
          "height": 371
        },
        "id": "90y5ga5tLJ--",
        "outputId": "1b5c2ef3-bb01-46a6-c9d4-c3798c14f775"
      },
      "execution_count": null,
      "outputs": [
        {
          "output_type": "error",
          "ename": "InternalError",
          "evalue": "ignored",
          "traceback": [
            "\u001b[0;31m---------------------------------------------------------------------------\u001b[0m",
            "\u001b[0;31mInternalError\u001b[0m                             Traceback (most recent call last)",
            "\u001b[0;32m<ipython-input-155-7a9711326ae0>\u001b[0m in \u001b[0;36m<module>\u001b[0;34m\u001b[0m\n\u001b[0;32m----> 1\u001b[0;31m \u001b[0mpreds\u001b[0m \u001b[0;34m=\u001b[0m \u001b[0mmodel\u001b[0m\u001b[0;34m.\u001b[0m\u001b[0mevaluate\u001b[0m\u001b[0;34m(\u001b[0m\u001b[0mcombined_test_images\u001b[0m\u001b[0;34m,\u001b[0m \u001b[0mtest_labels_encoded\u001b[0m\u001b[0;34m)\u001b[0m\u001b[0;34m\u001b[0m\u001b[0;34m\u001b[0m\u001b[0m\n\u001b[0m\u001b[1;32m      2\u001b[0m \u001b[0mprint\u001b[0m \u001b[0;34m(\u001b[0m\u001b[0;34m\"Loss = \"\u001b[0m \u001b[0;34m+\u001b[0m \u001b[0mstr\u001b[0m\u001b[0;34m(\u001b[0m\u001b[0mpreds\u001b[0m\u001b[0;34m[\u001b[0m\u001b[0;36m0\u001b[0m\u001b[0;34m]\u001b[0m\u001b[0;34m)\u001b[0m\u001b[0;34m)\u001b[0m\u001b[0;34m\u001b[0m\u001b[0;34m\u001b[0m\u001b[0m\n\u001b[1;32m      3\u001b[0m \u001b[0mprint\u001b[0m \u001b[0;34m(\u001b[0m\u001b[0;34m\"Test Accuracy = \"\u001b[0m \u001b[0;34m+\u001b[0m \u001b[0mstr\u001b[0m\u001b[0;34m(\u001b[0m\u001b[0mpreds\u001b[0m\u001b[0;34m[\u001b[0m\u001b[0;36m1\u001b[0m\u001b[0;34m]\u001b[0m\u001b[0;34m)\u001b[0m\u001b[0;34m)\u001b[0m\u001b[0;34m\u001b[0m\u001b[0;34m\u001b[0m\u001b[0m\n",
            "\u001b[0;32m/usr/local/lib/python3.7/dist-packages/keras/utils/traceback_utils.py\u001b[0m in \u001b[0;36merror_handler\u001b[0;34m(*args, **kwargs)\u001b[0m\n\u001b[1;32m     65\u001b[0m     \u001b[0;32mexcept\u001b[0m \u001b[0mException\u001b[0m \u001b[0;32mas\u001b[0m \u001b[0me\u001b[0m\u001b[0;34m:\u001b[0m  \u001b[0;31m# pylint: disable=broad-except\u001b[0m\u001b[0;34m\u001b[0m\u001b[0;34m\u001b[0m\u001b[0m\n\u001b[1;32m     66\u001b[0m       \u001b[0mfiltered_tb\u001b[0m \u001b[0;34m=\u001b[0m \u001b[0m_process_traceback_frames\u001b[0m\u001b[0;34m(\u001b[0m\u001b[0me\u001b[0m\u001b[0;34m.\u001b[0m\u001b[0m__traceback__\u001b[0m\u001b[0;34m)\u001b[0m\u001b[0;34m\u001b[0m\u001b[0;34m\u001b[0m\u001b[0m\n\u001b[0;32m---> 67\u001b[0;31m       \u001b[0;32mraise\u001b[0m \u001b[0me\u001b[0m\u001b[0;34m.\u001b[0m\u001b[0mwith_traceback\u001b[0m\u001b[0;34m(\u001b[0m\u001b[0mfiltered_tb\u001b[0m\u001b[0;34m)\u001b[0m \u001b[0;32mfrom\u001b[0m \u001b[0;32mNone\u001b[0m\u001b[0;34m\u001b[0m\u001b[0;34m\u001b[0m\u001b[0m\n\u001b[0m\u001b[1;32m     68\u001b[0m     \u001b[0;32mfinally\u001b[0m\u001b[0;34m:\u001b[0m\u001b[0;34m\u001b[0m\u001b[0;34m\u001b[0m\u001b[0m\n\u001b[1;32m     69\u001b[0m       \u001b[0;32mdel\u001b[0m \u001b[0mfiltered_tb\u001b[0m\u001b[0;34m\u001b[0m\u001b[0;34m\u001b[0m\u001b[0m\n",
            "\u001b[0;32m/usr/local/lib/python3.7/dist-packages/tensorflow/python/framework/constant_op.py\u001b[0m in \u001b[0;36mconvert_to_eager_tensor\u001b[0;34m(value, ctx, dtype)\u001b[0m\n\u001b[1;32m    100\u001b[0m       \u001b[0mdtype\u001b[0m \u001b[0;34m=\u001b[0m \u001b[0mdtypes\u001b[0m\u001b[0;34m.\u001b[0m\u001b[0mas_dtype\u001b[0m\u001b[0;34m(\u001b[0m\u001b[0mdtype\u001b[0m\u001b[0;34m)\u001b[0m\u001b[0;34m.\u001b[0m\u001b[0mas_datatype_enum\u001b[0m\u001b[0;34m\u001b[0m\u001b[0;34m\u001b[0m\u001b[0m\n\u001b[1;32m    101\u001b[0m   \u001b[0mctx\u001b[0m\u001b[0;34m.\u001b[0m\u001b[0mensure_initialized\u001b[0m\u001b[0;34m(\u001b[0m\u001b[0;34m)\u001b[0m\u001b[0;34m\u001b[0m\u001b[0;34m\u001b[0m\u001b[0m\n\u001b[0;32m--> 102\u001b[0;31m   \u001b[0;32mreturn\u001b[0m \u001b[0mops\u001b[0m\u001b[0;34m.\u001b[0m\u001b[0mEagerTensor\u001b[0m\u001b[0;34m(\u001b[0m\u001b[0mvalue\u001b[0m\u001b[0;34m,\u001b[0m \u001b[0mctx\u001b[0m\u001b[0;34m.\u001b[0m\u001b[0mdevice_name\u001b[0m\u001b[0;34m,\u001b[0m \u001b[0mdtype\u001b[0m\u001b[0;34m)\u001b[0m\u001b[0;34m\u001b[0m\u001b[0;34m\u001b[0m\u001b[0m\n\u001b[0m\u001b[1;32m    103\u001b[0m \u001b[0;34m\u001b[0m\u001b[0m\n\u001b[1;32m    104\u001b[0m \u001b[0;34m\u001b[0m\u001b[0m\n",
            "\u001b[0;31mInternalError\u001b[0m: Failed copying input tensor from /job:localhost/replica:0/task:0/device:CPU:0 to /job:localhost/replica:0/task:0/device:GPU:0 in order to run _EagerConst: Dst tensor is not initialized."
          ]
        }
      ]
    },
    {
      "cell_type": "code",
      "source": [],
      "metadata": {
        "id": "sx1He2LJ-P9r"
      },
      "execution_count": null,
      "outputs": []
    }
  ],
  "metadata": {
    "accelerator": "GPU",
    "colab": {
      "collapsed_sections": [],
      "machine_shape": "hm",
      "provenance": [],
      "authorship_tag": "ABX9TyNKKvGFy5MO0abVPQWMjelC",
      "include_colab_link": true
    },
    "gpuClass": "standard",
    "kernelspec": {
      "display_name": "Python 3",
      "name": "python3"
    },
    "language_info": {
      "name": "python"
    }
  },
  "nbformat": 4,
  "nbformat_minor": 0
}