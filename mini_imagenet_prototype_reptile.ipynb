{
  "cells": [
    {
      "cell_type": "markdown",
      "metadata": {
        "id": "view-in-github",
        "colab_type": "text"
      },
      "source": [
        "<a href=\"https://colab.research.google.com/github/psmouli14/final_project/blob/main/mini_imagenet_prototype_reptile.ipynb\" target=\"_parent\"><img src=\"https://colab.research.google.com/assets/colab-badge.svg\" alt=\"Open In Colab\"/></a>"
      ]
    },
    {
      "cell_type": "code",
      "execution_count": 4,
      "metadata": {
        "id": "DOlu814zHVl8"
      },
      "outputs": [],
      "source": [
        "import os\n",
        "import glob\n",
        "from PIL import Image\n",
        "import pandas as pd\n",
        "import numpy as np\n",
        "import tensorflow as tf"
      ]
    },
    {
      "cell_type": "code",
      "execution_count": null,
      "metadata": {
        "colab": {
          "base_uri": "https://localhost:8080/",
          "height": 74,
          "resources": {
            "http://localhost:8080/nbextensions/google.colab/files.js": {
              "data": "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",
              "headers": [
                [
                  "content-type",
                  "application/javascript"
                ]
              ],
              "ok": true,
              "status": 200,
              "status_text": ""
            }
          }
        },
        "id": "lqjRUIPrI9dN",
        "outputId": "6a82b544-5bf0-4532-9500-c32fbbe831c5"
      },
      "outputs": [
        {
          "output_type": "display_data",
          "data": {
            "text/plain": [
              "<IPython.core.display.HTML object>"
            ],
            "text/html": [
              "\n",
              "     <input type=\"file\" id=\"files-de4a949f-152c-4c32-94bc-f945a7e9e7d8\" name=\"files[]\" multiple disabled\n",
              "        style=\"border:none\" />\n",
              "     <output id=\"result-de4a949f-152c-4c32-94bc-f945a7e9e7d8\">\n",
              "      Upload widget is only available when the cell has been executed in the\n",
              "      current browser session. Please rerun this cell to enable.\n",
              "      </output>\n",
              "      <script src=\"/nbextensions/google.colab/files.js\"></script> "
            ]
          },
          "metadata": {}
        },
        {
          "output_type": "stream",
          "name": "stdout",
          "text": [
            "Saving mini-imagenet.tar.gz to mini-imagenet.tar.gz\n"
          ]
        }
      ],
      "source": [
        "from google.colab import files\n",
        "uploaded = files.upload()"
      ]
    },
    {
      "cell_type": "code",
      "execution_count": 3,
      "metadata": {
        "colab": {
          "base_uri": "https://localhost:8080/"
        },
        "id": "w5xXwzyFJAv8",
        "outputId": "b29720cd-fea0-4102-c146-3772cf11f685"
      },
      "outputs": [
        {
          "output_type": "stream",
          "name": "stdout",
          "text": [
            "mini-imagenet-cache-train.pkl\n",
            "mini-imagenet-cache-val.pkl\n",
            "mini-imagenet-cache-test.pkl\n"
          ]
        }
      ],
      "source": [
        "!tar -zxvf mini-imagenet.tar.gz"
      ]
    },
    {
      "cell_type": "code",
      "execution_count": 5,
      "metadata": {
        "id": "JDFUbAHEZ-An"
      },
      "outputs": [],
      "source": [
        "def unpickle(file):\n",
        "    import pickle\n",
        "    with open(file, 'rb') as fo:\n",
        "        cifar_dict = pickle.load(fo, encoding='bytes')\n",
        "    return cifar_dict"
      ]
    },
    {
      "cell_type": "code",
      "execution_count": 6,
      "metadata": {
        "id": "5-Y9nNg_auc4"
      },
      "outputs": [],
      "source": [
        "train = unpickle('mini-imagenet-cache-train.pkl')\n",
        "val = unpickle('mini-imagenet-cache-val.pkl')\n",
        "test = unpickle('mini-imagenet-cache-test.pkl')"
      ]
    },
    {
      "cell_type": "code",
      "execution_count": 7,
      "metadata": {
        "colab": {
          "base_uri": "https://localhost:8080/"
        },
        "id": "cz-Qix47bL0A",
        "outputId": "1bc88803-a1dd-49a6-d852-27da5a9d9646"
      },
      "outputs": [
        {
          "output_type": "execute_result",
          "data": {
            "text/plain": [
              "['image_data', 'class_dict']"
            ]
          },
          "metadata": {},
          "execution_count": 7
        }
      ],
      "source": [
        "val_keys = list(val.keys())\n",
        "val_keys"
      ]
    },
    {
      "cell_type": "code",
      "execution_count": 8,
      "metadata": {
        "colab": {
          "base_uri": "https://localhost:8080/"
        },
        "id": "jJv2yegldRZK",
        "outputId": "b632e24e-0591-4863-8606-e31b4b7904f2"
      },
      "outputs": [
        {
          "output_type": "execute_result",
          "data": {
            "text/plain": [
              "['image_data', 'class_dict']"
            ]
          },
          "metadata": {},
          "execution_count": 8
        }
      ],
      "source": [
        "training_keys = list(train.keys())\n",
        "training_keys"
      ]
    },
    {
      "cell_type": "code",
      "execution_count": 9,
      "metadata": {
        "colab": {
          "base_uri": "https://localhost:8080/"
        },
        "id": "0Unfmv4Udsqf",
        "outputId": "adc14726-ca84-4f4e-96d5-d44c073b7515"
      },
      "outputs": [
        {
          "output_type": "execute_result",
          "data": {
            "text/plain": [
              "['image_data', 'class_dict']"
            ]
          },
          "metadata": {},
          "execution_count": 9
        }
      ],
      "source": [
        "test_keys = list(test.keys())\n",
        "test_keys"
      ]
    },
    {
      "cell_type": "code",
      "execution_count": 10,
      "metadata": {
        "colab": {
          "base_uri": "https://localhost:8080/"
        },
        "id": "Jqr9ImIJebNg",
        "outputId": "b18e639f-1559-4a2d-8e66-630414570a66"
      },
      "outputs": [
        {
          "output_type": "stream",
          "name": "stdout",
          "text": [
            "(38400, 84, 84, 3)\n",
            "(9600, 84, 84, 3)\n",
            "(12000, 84, 84, 3)\n",
            "<class 'dict'>\n",
            "dict_keys(['n01532829', 'n01558993', 'n01704323', 'n01749939', 'n01770081', 'n01843383', 'n01910747', 'n02074367', 'n02089867', 'n02091831', 'n02101006', 'n02105505', 'n02108089', 'n02108551', 'n02108915', 'n02111277', 'n02113712', 'n02120079', 'n02165456', 'n02457408', 'n02606052', 'n02687172', 'n02747177', 'n02795169', 'n02823428', 'n02966193', 'n03017168', 'n03047690', 'n03062245', 'n03207743', 'n03220513', 'n03337140', 'n03347037', 'n03400231', 'n03476684', 'n03527444', 'n03676483', 'n03838899', 'n03854065', 'n03888605', 'n03908618', 'n03924679', 'n03998194', 'n04067472', 'n04243546', 'n04251144', 'n04258138', 'n04275548', 'n04296562', 'n04389033', 'n04435653', 'n04443257', 'n04509417', 'n04515003', 'n04596742', 'n04604644', 'n04612504', 'n06794110', 'n07584110', 'n07697537', 'n07747607', 'n09246464', 'n13054560', 'n13133613'])\n",
            "dict_keys(['n01855672', 'n02091244', 'n02114548', 'n02138441', 'n02174001', 'n02950826', 'n02971356', 'n02981792', 'n03075370', 'n03417042', 'n03535780', 'n03584254', 'n03770439', 'n03773504', 'n03980874', 'n09256479'])\n",
            "dict_keys(['n01930112', 'n01981276', 'n02099601', 'n02110063', 'n02110341', 'n02116738', 'n02129165', 'n02219486', 'n02443484', 'n02871525', 'n03127925', 'n03146219', 'n03272010', 'n03544143', 'n03775546', 'n04146614', 'n04149813', 'n04418357', 'n04522168', 'n07613480'])\n",
            "64\n",
            "16\n",
            "20\n"
          ]
        }
      ],
      "source": [
        "train_images = train['image_data']\n",
        "train_labels = train['class_dict']\n",
        "test_images = test['image_data']\n",
        "test_labels = test['class_dict']\n",
        "val_images = val['image_data']\n",
        "val_labels = val['class_dict']\n",
        "print(train_images.shape)\n",
        "print(val_images.shape)\n",
        "print(test_images.shape)\n",
        "print(type(train_labels))\n",
        "print(train_labels.keys())\n",
        "print(val_labels.keys())\n",
        "print(test_labels.keys())\n",
        "\n",
        "train_classes = len(train_labels.keys())\n",
        "val_classes = len(val_labels.keys())\n",
        "test_classes = len(test_labels.keys())\n",
        "print(train_classes)\n",
        "print(val_classes)\n",
        "print(test_classes)\n"
      ]
    },
    {
      "cell_type": "code",
      "source": [
        "train_images.dtype"
      ],
      "metadata": {
        "colab": {
          "base_uri": "https://localhost:8080/"
        },
        "id": "v01I3F5-zj16",
        "outputId": "8439c05b-de6c-41b1-e04c-0226f5436f5d"
      },
      "execution_count": 11,
      "outputs": [
        {
          "output_type": "execute_result",
          "data": {
            "text/plain": [
              "dtype('uint8')"
            ]
          },
          "metadata": {},
          "execution_count": 11
        }
      ]
    },
    {
      "cell_type": "code",
      "source": [
        "train_images[0]"
      ],
      "metadata": {
        "colab": {
          "base_uri": "https://localhost:8080/"
        },
        "id": "tTK4XFD73vdg",
        "outputId": "94b236df-132b-46df-fa83-a2a89ff6926a"
      },
      "execution_count": 12,
      "outputs": [
        {
          "output_type": "execute_result",
          "data": {
            "text/plain": [
              "array([[[ 93, 146, 198],\n",
              "        [ 93, 146, 198],\n",
              "        [ 92, 145, 197],\n",
              "        ...,\n",
              "        [ 94, 146, 196],\n",
              "        [ 94, 146, 196],\n",
              "        [ 94, 145, 198]],\n",
              "\n",
              "       [[ 93, 146, 196],\n",
              "        [ 94, 147, 197],\n",
              "        [ 93, 146, 196],\n",
              "        ...,\n",
              "        [ 96, 148, 198],\n",
              "        [ 94, 146, 196],\n",
              "        [ 97, 148, 201]],\n",
              "\n",
              "       [[ 93, 147, 194],\n",
              "        [ 91, 145, 192],\n",
              "        [ 93, 147, 194],\n",
              "        ...,\n",
              "        [ 94, 146, 196],\n",
              "        [ 94, 146, 196],\n",
              "        [ 94, 148, 200]],\n",
              "\n",
              "       ...,\n",
              "\n",
              "       [[ 30,  26,  39],\n",
              "        [123, 166, 202],\n",
              "        [105, 153, 200],\n",
              "        ...,\n",
              "        [100, 150, 199],\n",
              "        [100, 150, 199],\n",
              "        [102, 152, 201]],\n",
              "\n",
              "       [[ 26,  49,  54],\n",
              "        [102, 166, 228],\n",
              "        [106, 153, 204],\n",
              "        ...,\n",
              "        [100, 150, 199],\n",
              "        [102, 152, 201],\n",
              "        [ 96, 146, 195]],\n",
              "\n",
              "       [[125, 168, 203],\n",
              "        [101, 154, 204],\n",
              "        [ 98, 152, 202],\n",
              "        ...,\n",
              "        [100, 150, 202],\n",
              "        [101, 151, 202],\n",
              "        [102, 152, 201]]], dtype=uint8)"
            ]
          },
          "metadata": {},
          "execution_count": 12
        }
      ]
    },
    {
      "cell_type": "code",
      "source": [
        "train_images = tf.cast(train_images, tf.float32)\n",
        "train_images.shape\n",
        "train_images = train_images/255\n",
        "train_images[0]"
      ],
      "metadata": {
        "colab": {
          "base_uri": "https://localhost:8080/"
        },
        "id": "3xk8sAtz6V22",
        "outputId": "c74e1624-2811-40a4-b191-22c89f1a51f7"
      },
      "execution_count": null,
      "outputs": [
        {
          "output_type": "execute_result",
          "data": {
            "text/plain": [
              "<tf.Tensor: shape=(84, 84, 3), dtype=float32, numpy=\n",
              "array([[[0.3647059 , 0.57254905, 0.7764706 ],\n",
              "        [0.3647059 , 0.57254905, 0.7764706 ],\n",
              "        [0.36078432, 0.5686275 , 0.77254903],\n",
              "        ...,\n",
              "        [0.36862746, 0.57254905, 0.76862746],\n",
              "        [0.36862746, 0.57254905, 0.76862746],\n",
              "        [0.36862746, 0.5686275 , 0.7764706 ]],\n",
              "\n",
              "       [[0.3647059 , 0.57254905, 0.76862746],\n",
              "        [0.36862746, 0.5764706 , 0.77254903],\n",
              "        [0.3647059 , 0.57254905, 0.76862746],\n",
              "        ...,\n",
              "        [0.3764706 , 0.5803922 , 0.7764706 ],\n",
              "        [0.36862746, 0.57254905, 0.76862746],\n",
              "        [0.38039216, 0.5803922 , 0.7882353 ]],\n",
              "\n",
              "       [[0.3647059 , 0.5764706 , 0.7607843 ],\n",
              "        [0.35686275, 0.5686275 , 0.7529412 ],\n",
              "        [0.3647059 , 0.5764706 , 0.7607843 ],\n",
              "        ...,\n",
              "        [0.36862746, 0.57254905, 0.76862746],\n",
              "        [0.36862746, 0.57254905, 0.76862746],\n",
              "        [0.36862746, 0.5803922 , 0.78431374]],\n",
              "\n",
              "       ...,\n",
              "\n",
              "       [[0.11764706, 0.10196079, 0.15294118],\n",
              "        [0.48235294, 0.6509804 , 0.7921569 ],\n",
              "        [0.4117647 , 0.6       , 0.78431374],\n",
              "        ...,\n",
              "        [0.39215687, 0.5882353 , 0.78039217],\n",
              "        [0.39215687, 0.5882353 , 0.78039217],\n",
              "        [0.4       , 0.59607846, 0.7882353 ]],\n",
              "\n",
              "       [[0.10196079, 0.19215687, 0.21176471],\n",
              "        [0.4       , 0.6509804 , 0.89411765],\n",
              "        [0.41568628, 0.6       , 0.8       ],\n",
              "        ...,\n",
              "        [0.39215687, 0.5882353 , 0.78039217],\n",
              "        [0.4       , 0.59607846, 0.7882353 ],\n",
              "        [0.3764706 , 0.57254905, 0.7647059 ]],\n",
              "\n",
              "       [[0.49019608, 0.65882355, 0.79607844],\n",
              "        [0.39607844, 0.6039216 , 0.8       ],\n",
              "        [0.38431373, 0.59607846, 0.7921569 ],\n",
              "        ...,\n",
              "        [0.39215687, 0.5882353 , 0.7921569 ],\n",
              "        [0.39607844, 0.5921569 , 0.7921569 ],\n",
              "        [0.4       , 0.59607846, 0.7882353 ]]], dtype=float32)>"
            ]
          },
          "metadata": {},
          "execution_count": 13
        }
      ]
    },
    {
      "cell_type": "code",
      "source": [
        "test_images = tf.cast(test_images, tf.float32)\n",
        "test_images.shape\n",
        "test_images = test_images/255\n",
        "test_images[0]"
      ],
      "metadata": {
        "colab": {
          "base_uri": "https://localhost:8080/"
        },
        "id": "vPwAFNFF7y84",
        "outputId": "4c4778a7-14bf-40bb-a57c-c8854c59bc32"
      },
      "execution_count": 13,
      "outputs": [
        {
          "output_type": "execute_result",
          "data": {
            "text/plain": [
              "<tf.Tensor: shape=(84, 84, 3), dtype=float32, numpy=\n",
              "array([[[0.78431374, 0.9490196 , 0.9411765 ],\n",
              "        [0.8       , 0.92156863, 0.9764706 ],\n",
              "        [0.7921569 , 0.92156863, 0.98039216],\n",
              "        ...,\n",
              "        [0.8235294 , 0.87058824, 0.93333334],\n",
              "        [0.80784315, 0.85882354, 0.9098039 ],\n",
              "        [0.85490197, 0.8980392 , 0.92941177]],\n",
              "\n",
              "       [[0.5411765 , 0.78431374, 0.90588236],\n",
              "        [0.57254905, 0.78431374, 0.972549  ],\n",
              "        [0.5176471 , 0.75686276, 0.9490196 ],\n",
              "        ...,\n",
              "        [0.72156864, 0.8666667 , 0.96862745],\n",
              "        [0.7294118 , 0.87058824, 0.95686275],\n",
              "        [0.7647059 , 0.90588236, 0.98039216]],\n",
              "\n",
              "       [[0.45490196, 0.68235296, 0.8509804 ],\n",
              "        [0.5176471 , 0.7294118 , 0.972549  ],\n",
              "        [0.5058824 , 0.7607843 , 0.9882353 ],\n",
              "        ...,\n",
              "        [0.6862745 , 0.8117647 , 0.96862745],\n",
              "        [0.6784314 , 0.8117647 , 0.9607843 ],\n",
              "        [0.69803923, 0.83137256, 0.972549  ]],\n",
              "\n",
              "       ...,\n",
              "\n",
              "       [[0.91764706, 0.99607843, 0.99215686],\n",
              "        [0.9137255 , 1.        , 0.99215686],\n",
              "        [0.8980392 , 1.        , 0.9882353 ],\n",
              "        ...,\n",
              "        [0.6156863 , 0.74509805, 0.99215686],\n",
              "        [0.5921569 , 0.73333335, 0.9764706 ],\n",
              "        [0.58431375, 0.73333335, 0.9764706 ]],\n",
              "\n",
              "       [[0.91764706, 0.99607843, 0.99215686],\n",
              "        [0.9137255 , 1.        , 0.99215686],\n",
              "        [0.8980392 , 1.        , 0.9882353 ],\n",
              "        ...,\n",
              "        [0.6117647 , 0.74509805, 0.99215686],\n",
              "        [0.58431375, 0.7254902 , 0.972549  ],\n",
              "        [0.57254905, 0.7294118 , 0.96862745]],\n",
              "\n",
              "       [[0.9019608 , 0.9882353 , 0.98039216],\n",
              "        [0.8666667 , 0.99607843, 0.98039216],\n",
              "        [0.8666667 , 0.99607843, 0.9843137 ],\n",
              "        ...,\n",
              "        [0.26666668, 0.33333334, 0.45490196],\n",
              "        [0.23529412, 0.3019608 , 0.42745098],\n",
              "        [0.22352941, 0.28235295, 0.40784314]]], dtype=float32)>"
            ]
          },
          "metadata": {},
          "execution_count": 13
        }
      ]
    },
    {
      "cell_type": "code",
      "source": [
        "val_images = tf.cast(val_images, tf.float32)\n",
        "val_images = val_images/255\n",
        "val_images[0]"
      ],
      "metadata": {
        "colab": {
          "base_uri": "https://localhost:8080/"
        },
        "id": "SXsIRKJg7zXs",
        "outputId": "df4e679b-2b41-4cb8-e5ea-672b4fe28bc6"
      },
      "execution_count": 14,
      "outputs": [
        {
          "output_type": "execute_result",
          "data": {
            "text/plain": [
              "<tf.Tensor: shape=(84, 84, 3), dtype=float32, numpy=\n",
              "array([[[0.8745098 , 0.8       , 0.78431374],\n",
              "        [0.85882354, 0.78431374, 0.76862746],\n",
              "        [0.8509804 , 0.7764706 , 0.7607843 ],\n",
              "        ...,\n",
              "        [0.8392157 , 0.7607843 , 0.76862746],\n",
              "        [0.84313726, 0.7607843 , 0.78039217],\n",
              "        [0.8392157 , 0.7529412 , 0.7764706 ]],\n",
              "\n",
              "       [[0.8980392 , 0.8352941 , 0.8392157 ],\n",
              "        [0.8745098 , 0.80784315, 0.8117647 ],\n",
              "        [0.87058824, 0.80784315, 0.8117647 ],\n",
              "        ...,\n",
              "        [0.83137256, 0.75686276, 0.77254903],\n",
              "        [0.81960785, 0.74509805, 0.76862746],\n",
              "        [0.8352941 , 0.7529412 , 0.7647059 ]],\n",
              "\n",
              "       [[0.8509804 , 0.7764706 , 0.78431374],\n",
              "        [0.85882354, 0.78431374, 0.7921569 ],\n",
              "        [0.9098039 , 0.8352941 , 0.84313726],\n",
              "        ...,\n",
              "        [0.8392157 , 0.7764706 , 0.7921569 ],\n",
              "        [0.8352941 , 0.76862746, 0.7921569 ],\n",
              "        [0.8235294 , 0.7764706 , 0.7882353 ]],\n",
              "\n",
              "       ...,\n",
              "\n",
              "       [[0.78039217, 0.7294118 , 0.79607844],\n",
              "        [0.81960785, 0.77254903, 0.827451  ],\n",
              "        [0.827451  , 0.77254903, 0.85882354],\n",
              "        ...,\n",
              "        [0.6862745 , 0.69411767, 0.76862746],\n",
              "        [0.6627451 , 0.63529414, 0.7058824 ],\n",
              "        [0.7254902 , 0.68235296, 0.76862746]],\n",
              "\n",
              "       [[0.76862746, 0.69411767, 0.7254902 ],\n",
              "        [0.76862746, 0.70980394, 0.7254902 ],\n",
              "        [0.80784315, 0.7529412 , 0.78039217],\n",
              "        ...,\n",
              "        [0.6627451 , 0.64705884, 0.73333335],\n",
              "        [0.5137255 , 0.4862745 , 0.57254905],\n",
              "        [0.56078434, 0.5137255 , 0.6117647 ]],\n",
              "\n",
              "       [[0.7921569 , 0.7137255 , 0.75686276],\n",
              "        [0.8117647 , 0.74509805, 0.77254903],\n",
              "        [0.79607844, 0.74509805, 0.7882353 ],\n",
              "        ...,\n",
              "        [0.5529412 , 0.54509807, 0.627451  ],\n",
              "        [0.6313726 , 0.62352943, 0.7058824 ],\n",
              "        [0.68235296, 0.68235296, 0.7607843 ]]], dtype=float32)>"
            ]
          },
          "metadata": {},
          "execution_count": 14
        }
      ]
    },
    {
      "cell_type": "code",
      "source": [
        "import matplotlib.pyplot as plt\n",
        "%matplotlib inline\n",
        "\n",
        "plt.figure(figsize=(6,3))\n",
        "plt.xticks([])\n",
        "plt.yticks([])\n",
        "plt.imshow(test_images[3030])\n"
      ],
      "metadata": {
        "colab": {
          "base_uri": "https://localhost:8080/",
          "height": 215
        },
        "id": "KJTBuZMH6gnO",
        "outputId": "5148937b-ba0e-4924-e8c4-9a57c4507af0"
      },
      "execution_count": 15,
      "outputs": [
        {
          "output_type": "execute_result",
          "data": {
            "text/plain": [
              "<matplotlib.image.AxesImage at 0x7ff00b1a1d90>"
            ]
          },
          "metadata": {},
          "execution_count": 15
        },
        {
          "output_type": "display_data",
          "data": {
            "text/plain": [
              "<Figure size 432x216 with 1 Axes>"
            ],
            "image/png": "[encoded data removed]"
          },
          "metadata": {}
        }
      ]
    },
    {
      "cell_type": "code",
      "execution_count": 16,
      "metadata": {
        "colab": {
          "base_uri": "https://localhost:8080/"
        },
        "id": "rKpQCyfyfakr",
        "outputId": "b9fef354-6b87-460e-fdc4-9ba9a5b75237"
      },
      "outputs": [
        {
          "output_type": "stream",
          "name": "stdout",
          "text": [
            "{'n01930112': [0, 1, 2, 3, 4, 5, 6, 7, 8, 9, 10, 11, 12, 13, 14, 15, 16, 17, 18, 19, 20, 21, 22, 23, 24, 25, 26, 27, 28, 29, 30, 31, 32, 33, 34, 35, 36, 37, 38, 39, 40, 41, 42, 43, 44, 45, 46, 47, 48, 49, 50, 51, 52, 53, 54, 55, 56, 57, 58, 59, 60, 61, 62, 63, 64, 65, 66, 67, 68, 69, 70, 71, 72, 73, 74, 75, 76, 77, 78, 79, 80, 81, 82, 83, 84, 85, 86, 87, 88, 89, 90, 91, 92, 93, 94, 95, 96, 97, 98, 99, 100, 101, 102, 103, 104, 105, 106, 107, 108, 109, 110, 111, 112, 113, 114, 115, 116, 117, 118, 119, 120, 121, 122, 123, 124, 125, 126, 127, 128, 129, 130, 131, 132, 133, 134, 135, 136, 137, 138, 139, 140, 141, 142, 143, 144, 145, 146, 147, 148, 149, 150, 151, 152, 153, 154, 155, 156, 157, 158, 159, 160, 161, 162, 163, 164, 165, 166, 167, 168, 169, 170, 171, 172, 173, 174, 175, 176, 177, 178, 179, 180, 181, 182, 183, 184, 185, 186, 187, 188, 189, 190, 191, 192, 193, 194, 195, 196, 197, 198, 199, 200, 201, 202, 203, 204, 205, 206, 207, 208, 209, 210, 211, 212, 213, 214, 215, 216, 217, 218, 219, 220, 221, 222, 223, 224, 225, 226, 227, 228, 229, 230, 231, 232, 233, 234, 235, 236, 237, 238, 239, 240, 241, 242, 243, 244, 245, 246, 247, 248, 249, 250, 251, 252, 253, 254, 255, 256, 257, 258, 259, 260, 261, 262, 263, 264, 265, 266, 267, 268, 269, 270, 271, 272, 273, 274, 275, 276, 277, 278, 279, 280, 281, 282, 283, 284, 285, 286, 287, 288, 289, 290, 291, 292, 293, 294, 295, 296, 297, 298, 299, 300, 301, 302, 303, 304, 305, 306, 307, 308, 309, 310, 311, 312, 313, 314, 315, 316, 317, 318, 319, 320, 321, 322, 323, 324, 325, 326, 327, 328, 329, 330, 331, 332, 333, 334, 335, 336, 337, 338, 339, 340, 341, 342, 343, 344, 345, 346, 347, 348, 349, 350, 351, 352, 353, 354, 355, 356, 357, 358, 359, 360, 361, 362, 363, 364, 365, 366, 367, 368, 369, 370, 371, 372, 373, 374, 375, 376, 377, 378, 379, 380, 381, 382, 383, 384, 385, 386, 387, 388, 389, 390, 391, 392, 393, 394, 395, 396, 397, 398, 399, 400, 401, 402, 403, 404, 405, 406, 407, 408, 409, 410, 411, 412, 413, 414, 415, 416, 417, 418, 419, 420, 421, 422, 423, 424, 425, 426, 427, 428, 429, 430, 431, 432, 433, 434, 435, 436, 437, 438, 439, 440, 441, 442, 443, 444, 445, 446, 447, 448, 449, 450, 451, 452, 453, 454, 455, 456, 457, 458, 459, 460, 461, 462, 463, 464, 465, 466, 467, 468, 469, 470, 471, 472, 473, 474, 475, 476, 477, 478, 479, 480, 481, 482, 483, 484, 485, 486, 487, 488, 489, 490, 491, 492, 493, 494, 495, 496, 497, 498, 499, 500, 501, 502, 503, 504, 505, 506, 507, 508, 509, 510, 511, 512, 513, 514, 515, 516, 517, 518, 519, 520, 521, 522, 523, 524, 525, 526, 527, 528, 529, 530, 531, 532, 533, 534, 535, 536, 537, 538, 539, 540, 541, 542, 543, 544, 545, 546, 547, 548, 549, 550, 551, 552, 553, 554, 555, 556, 557, 558, 559, 560, 561, 562, 563, 564, 565, 566, 567, 568, 569, 570, 571, 572, 573, 574, 575, 576, 577, 578, 579, 580, 581, 582, 583, 584, 585, 586, 587, 588, 589, 590, 591, 592, 593, 594, 595, 596, 597, 598, 599], 'n01981276': [600, 601, 602, 603, 604, 605, 606, 607, 608, 609, 610, 611, 612, 613, 614, 615, 616, 617, 618, 619, 620, 621, 622, 623, 624, 625, 626, 627, 628, 629, 630, 631, 632, 633, 634, 635, 636, 637, 638, 639, 640, 641, 642, 643, 644, 645, 646, 647, 648, 649, 650, 651, 652, 653, 654, 655, 656, 657, 658, 659, 660, 661, 662, 663, 664, 665, 666, 667, 668, 669, 670, 671, 672, 673, 674, 675, 676, 677, 678, 679, 680, 681, 682, 683, 684, 685, 686, 687, 688, 689, 690, 691, 692, 693, 694, 695, 696, 697, 698, 699, 700, 701, 702, 703, 704, 705, 706, 707, 708, 709, 710, 711, 712, 713, 714, 715, 716, 717, 718, 719, 720, 721, 722, 723, 724, 725, 726, 727, 728, 729, 730, 731, 732, 733, 734, 735, 736, 737, 738, 739, 740, 741, 742, 743, 744, 745, 746, 747, 748, 749, 750, 751, 752, 753, 754, 755, 756, 757, 758, 759, 760, 761, 762, 763, 764, 765, 766, 767, 768, 769, 770, 771, 772, 773, 774, 775, 776, 777, 778, 779, 780, 781, 782, 783, 784, 785, 786, 787, 788, 789, 790, 791, 792, 793, 794, 795, 796, 797, 798, 799, 800, 801, 802, 803, 804, 805, 806, 807, 808, 809, 810, 811, 812, 813, 814, 815, 816, 817, 818, 819, 820, 821, 822, 823, 824, 825, 826, 827, 828, 829, 830, 831, 832, 833, 834, 835, 836, 837, 838, 839, 840, 841, 842, 843, 844, 845, 846, 847, 848, 849, 850, 851, 852, 853, 854, 855, 856, 857, 858, 859, 860, 861, 862, 863, 864, 865, 866, 867, 868, 869, 870, 871, 872, 873, 874, 875, 876, 877, 878, 879, 880, 881, 882, 883, 884, 885, 886, 887, 888, 889, 890, 891, 892, 893, 894, 895, 896, 897, 898, 899, 900, 901, 902, 903, 904, 905, 906, 907, 908, 909, 910, 911, 912, 913, 914, 915, 916, 917, 918, 919, 920, 921, 922, 923, 924, 925, 926, 927, 928, 929, 930, 931, 932, 933, 934, 935, 936, 937, 938, 939, 940, 941, 942, 943, 944, 945, 946, 947, 948, 949, 950, 951, 952, 953, 954, 955, 956, 957, 958, 959, 960, 961, 962, 963, 964, 965, 966, 967, 968, 969, 970, 971, 972, 973, 974, 975, 976, 977, 978, 979, 980, 981, 982, 983, 984, 985, 986, 987, 988, 989, 990, 991, 992, 993, 994, 995, 996, 997, 998, 999, 1000, 1001, 1002, 1003, 1004, 1005, 1006, 1007, 1008, 1009, 1010, 1011, 1012, 1013, 1014, 1015, 1016, 1017, 1018, 1019, 1020, 1021, 1022, 1023, 1024, 1025, 1026, 1027, 1028, 1029, 1030, 1031, 1032, 1033, 1034, 1035, 1036, 1037, 1038, 1039, 1040, 1041, 1042, 1043, 1044, 1045, 1046, 1047, 1048, 1049, 1050, 1051, 1052, 1053, 1054, 1055, 1056, 1057, 1058, 1059, 1060, 1061, 1062, 1063, 1064, 1065, 1066, 1067, 1068, 1069, 1070, 1071, 1072, 1073, 1074, 1075, 1076, 1077, 1078, 1079, 1080, 1081, 1082, 1083, 1084, 1085, 1086, 1087, 1088, 1089, 1090, 1091, 1092, 1093, 1094, 1095, 1096, 1097, 1098, 1099, 1100, 1101, 1102, 1103, 1104, 1105, 1106, 1107, 1108, 1109, 1110, 1111, 1112, 1113, 1114, 1115, 1116, 1117, 1118, 1119, 1120, 1121, 1122, 1123, 1124, 1125, 1126, 1127, 1128, 1129, 1130, 1131, 1132, 1133, 1134, 1135, 1136, 1137, 1138, 1139, 1140, 1141, 1142, 1143, 1144, 1145, 1146, 1147, 1148, 1149, 1150, 1151, 1152, 1153, 1154, 1155, 1156, 1157, 1158, 1159, 1160, 1161, 1162, 1163, 1164, 1165, 1166, 1167, 1168, 1169, 1170, 1171, 1172, 1173, 1174, 1175, 1176, 1177, 1178, 1179, 1180, 1181, 1182, 1183, 1184, 1185, 1186, 1187, 1188, 1189, 1190, 1191, 1192, 1193, 1194, 1195, 1196, 1197, 1198, 1199], 'n02099601': [1200, 1201, 1202, 1203, 1204, 1205, 1206, 1207, 1208, 1209, 1210, 1211, 1212, 1213, 1214, 1215, 1216, 1217, 1218, 1219, 1220, 1221, 1222, 1223, 1224, 1225, 1226, 1227, 1228, 1229, 1230, 1231, 1232, 1233, 1234, 1235, 1236, 1237, 1238, 1239, 1240, 1241, 1242, 1243, 1244, 1245, 1246, 1247, 1248, 1249, 1250, 1251, 1252, 1253, 1254, 1255, 1256, 1257, 1258, 1259, 1260, 1261, 1262, 1263, 1264, 1265, 1266, 1267, 1268, 1269, 1270, 1271, 1272, 1273, 1274, 1275, 1276, 1277, 1278, 1279, 1280, 1281, 1282, 1283, 1284, 1285, 1286, 1287, 1288, 1289, 1290, 1291, 1292, 1293, 1294, 1295, 1296, 1297, 1298, 1299, 1300, 1301, 1302, 1303, 1304, 1305, 1306, 1307, 1308, 1309, 1310, 1311, 1312, 1313, 1314, 1315, 1316, 1317, 1318, 1319, 1320, 1321, 1322, 1323, 1324, 1325, 1326, 1327, 1328, 1329, 1330, 1331, 1332, 1333, 1334, 1335, 1336, 1337, 1338, 1339, 1340, 1341, 1342, 1343, 1344, 1345, 1346, 1347, 1348, 1349, 1350, 1351, 1352, 1353, 1354, 1355, 1356, 1357, 1358, 1359, 1360, 1361, 1362, 1363, 1364, 1365, 1366, 1367, 1368, 1369, 1370, 1371, 1372, 1373, 1374, 1375, 1376, 1377, 1378, 1379, 1380, 1381, 1382, 1383, 1384, 1385, 1386, 1387, 1388, 1389, 1390, 1391, 1392, 1393, 1394, 1395, 1396, 1397, 1398, 1399, 1400, 1401, 1402, 1403, 1404, 1405, 1406, 1407, 1408, 1409, 1410, 1411, 1412, 1413, 1414, 1415, 1416, 1417, 1418, 1419, 1420, 1421, 1422, 1423, 1424, 1425, 1426, 1427, 1428, 1429, 1430, 1431, 1432, 1433, 1434, 1435, 1436, 1437, 1438, 1439, 1440, 1441, 1442, 1443, 1444, 1445, 1446, 1447, 1448, 1449, 1450, 1451, 1452, 1453, 1454, 1455, 1456, 1457, 1458, 1459, 1460, 1461, 1462, 1463, 1464, 1465, 1466, 1467, 1468, 1469, 1470, 1471, 1472, 1473, 1474, 1475, 1476, 1477, 1478, 1479, 1480, 1481, 1482, 1483, 1484, 1485, 1486, 1487, 1488, 1489, 1490, 1491, 1492, 1493, 1494, 1495, 1496, 1497, 1498, 1499, 1500, 1501, 1502, 1503, 1504, 1505, 1506, 1507, 1508, 1509, 1510, 1511, 1512, 1513, 1514, 1515, 1516, 1517, 1518, 1519, 1520, 1521, 1522, 1523, 1524, 1525, 1526, 1527, 1528, 1529, 1530, 1531, 1532, 1533, 1534, 1535, 1536, 1537, 1538, 1539, 1540, 1541, 1542, 1543, 1544, 1545, 1546, 1547, 1548, 1549, 1550, 1551, 1552, 1553, 1554, 1555, 1556, 1557, 1558, 1559, 1560, 1561, 1562, 1563, 1564, 1565, 1566, 1567, 1568, 1569, 1570, 1571, 1572, 1573, 1574, 1575, 1576, 1577, 1578, 1579, 1580, 1581, 1582, 1583, 1584, 1585, 1586, 1587, 1588, 1589, 1590, 1591, 1592, 1593, 1594, 1595, 1596, 1597, 1598, 1599, 1600, 1601, 1602, 1603, 1604, 1605, 1606, 1607, 1608, 1609, 1610, 1611, 1612, 1613, 1614, 1615, 1616, 1617, 1618, 1619, 1620, 1621, 1622, 1623, 1624, 1625, 1626, 1627, 1628, 1629, 1630, 1631, 1632, 1633, 1634, 1635, 1636, 1637, 1638, 1639, 1640, 1641, 1642, 1643, 1644, 1645, 1646, 1647, 1648, 1649, 1650, 1651, 1652, 1653, 1654, 1655, 1656, 1657, 1658, 1659, 1660, 1661, 1662, 1663, 1664, 1665, 1666, 1667, 1668, 1669, 1670, 1671, 1672, 1673, 1674, 1675, 1676, 1677, 1678, 1679, 1680, 1681, 1682, 1683, 1684, 1685, 1686, 1687, 1688, 1689, 1690, 1691, 1692, 1693, 1694, 1695, 1696, 1697, 1698, 1699, 1700, 1701, 1702, 1703, 1704, 1705, 1706, 1707, 1708, 1709, 1710, 1711, 1712, 1713, 1714, 1715, 1716, 1717, 1718, 1719, 1720, 1721, 1722, 1723, 1724, 1725, 1726, 1727, 1728, 1729, 1730, 1731, 1732, 1733, 1734, 1735, 1736, 1737, 1738, 1739, 1740, 1741, 1742, 1743, 1744, 1745, 1746, 1747, 1748, 1749, 1750, 1751, 1752, 1753, 1754, 1755, 1756, 1757, 1758, 1759, 1760, 1761, 1762, 1763, 1764, 1765, 1766, 1767, 1768, 1769, 1770, 1771, 1772, 1773, 1774, 1775, 1776, 1777, 1778, 1779, 1780, 1781, 1782, 1783, 1784, 1785, 1786, 1787, 1788, 1789, 1790, 1791, 1792, 1793, 1794, 1795, 1796, 1797, 1798, 1799], 'n02110063': [1800, 1801, 1802, 1803, 1804, 1805, 1806, 1807, 1808, 1809, 1810, 1811, 1812, 1813, 1814, 1815, 1816, 1817, 1818, 1819, 1820, 1821, 1822, 1823, 1824, 1825, 1826, 1827, 1828, 1829, 1830, 1831, 1832, 1833, 1834, 1835, 1836, 1837, 1838, 1839, 1840, 1841, 1842, 1843, 1844, 1845, 1846, 1847, 1848, 1849, 1850, 1851, 1852, 1853, 1854, 1855, 1856, 1857, 1858, 1859, 1860, 1861, 1862, 1863, 1864, 1865, 1866, 1867, 1868, 1869, 1870, 1871, 1872, 1873, 1874, 1875, 1876, 1877, 1878, 1879, 1880, 1881, 1882, 1883, 1884, 1885, 1886, 1887, 1888, 1889, 1890, 1891, 1892, 1893, 1894, 1895, 1896, 1897, 1898, 1899, 1900, 1901, 1902, 1903, 1904, 1905, 1906, 1907, 1908, 1909, 1910, 1911, 1912, 1913, 1914, 1915, 1916, 1917, 1918, 1919, 1920, 1921, 1922, 1923, 1924, 1925, 1926, 1927, 1928, 1929, 1930, 1931, 1932, 1933, 1934, 1935, 1936, 1937, 1938, 1939, 1940, 1941, 1942, 1943, 1944, 1945, 1946, 1947, 1948, 1949, 1950, 1951, 1952, 1953, 1954, 1955, 1956, 1957, 1958, 1959, 1960, 1961, 1962, 1963, 1964, 1965, 1966, 1967, 1968, 1969, 1970, 1971, 1972, 1973, 1974, 1975, 1976, 1977, 1978, 1979, 1980, 1981, 1982, 1983, 1984, 1985, 1986, 1987, 1988, 1989, 1990, 1991, 1992, 1993, 1994, 1995, 1996, 1997, 1998, 1999, 2000, 2001, 2002, 2003, 2004, 2005, 2006, 2007, 2008, 2009, 2010, 2011, 2012, 2013, 2014, 2015, 2016, 2017, 2018, 2019, 2020, 2021, 2022, 2023, 2024, 2025, 2026, 2027, 2028, 2029, 2030, 2031, 2032, 2033, 2034, 2035, 2036, 2037, 2038, 2039, 2040, 2041, 2042, 2043, 2044, 2045, 2046, 2047, 2048, 2049, 2050, 2051, 2052, 2053, 2054, 2055, 2056, 2057, 2058, 2059, 2060, 2061, 2062, 2063, 2064, 2065, 2066, 2067, 2068, 2069, 2070, 2071, 2072, 2073, 2074, 2075, 2076, 2077, 2078, 2079, 2080, 2081, 2082, 2083, 2084, 2085, 2086, 2087, 2088, 2089, 2090, 2091, 2092, 2093, 2094, 2095, 2096, 2097, 2098, 2099, 2100, 2101, 2102, 2103, 2104, 2105, 2106, 2107, 2108, 2109, 2110, 2111, 2112, 2113, 2114, 2115, 2116, 2117, 2118, 2119, 2120, 2121, 2122, 2123, 2124, 2125, 2126, 2127, 2128, 2129, 2130, 2131, 2132, 2133, 2134, 2135, 2136, 2137, 2138, 2139, 2140, 2141, 2142, 2143, 2144, 2145, 2146, 2147, 2148, 2149, 2150, 2151, 2152, 2153, 2154, 2155, 2156, 2157, 2158, 2159, 2160, 2161, 2162, 2163, 2164, 2165, 2166, 2167, 2168, 2169, 2170, 2171, 2172, 2173, 2174, 2175, 2176, 2177, 2178, 2179, 2180, 2181, 2182, 2183, 2184, 2185, 2186, 2187, 2188, 2189, 2190, 2191, 2192, 2193, 2194, 2195, 2196, 2197, 2198, 2199, 2200, 2201, 2202, 2203, 2204, 2205, 2206, 2207, 2208, 2209, 2210, 2211, 2212, 2213, 2214, 2215, 2216, 2217, 2218, 2219, 2220, 2221, 2222, 2223, 2224, 2225, 2226, 2227, 2228, 2229, 2230, 2231, 2232, 2233, 2234, 2235, 2236, 2237, 2238, 2239, 2240, 2241, 2242, 2243, 2244, 2245, 2246, 2247, 2248, 2249, 2250, 2251, 2252, 2253, 2254, 2255, 2256, 2257, 2258, 2259, 2260, 2261, 2262, 2263, 2264, 2265, 2266, 2267, 2268, 2269, 2270, 2271, 2272, 2273, 2274, 2275, 2276, 2277, 2278, 2279, 2280, 2281, 2282, 2283, 2284, 2285, 2286, 2287, 2288, 2289, 2290, 2291, 2292, 2293, 2294, 2295, 2296, 2297, 2298, 2299, 2300, 2301, 2302, 2303, 2304, 2305, 2306, 2307, 2308, 2309, 2310, 2311, 2312, 2313, 2314, 2315, 2316, 2317, 2318, 2319, 2320, 2321, 2322, 2323, 2324, 2325, 2326, 2327, 2328, 2329, 2330, 2331, 2332, 2333, 2334, 2335, 2336, 2337, 2338, 2339, 2340, 2341, 2342, 2343, 2344, 2345, 2346, 2347, 2348, 2349, 2350, 2351, 2352, 2353, 2354, 2355, 2356, 2357, 2358, 2359, 2360, 2361, 2362, 2363, 2364, 2365, 2366, 2367, 2368, 2369, 2370, 2371, 2372, 2373, 2374, 2375, 2376, 2377, 2378, 2379, 2380, 2381, 2382, 2383, 2384, 2385, 2386, 2387, 2388, 2389, 2390, 2391, 2392, 2393, 2394, 2395, 2396, 2397, 2398, 2399], 'n02110341': [2400, 2401, 2402, 2403, 2404, 2405, 2406, 2407, 2408, 2409, 2410, 2411, 2412, 2413, 2414, 2415, 2416, 2417, 2418, 2419, 2420, 2421, 2422, 2423, 2424, 2425, 2426, 2427, 2428, 2429, 2430, 2431, 2432, 2433, 2434, 2435, 2436, 2437, 2438, 2439, 2440, 2441, 2442, 2443, 2444, 2445, 2446, 2447, 2448, 2449, 2450, 2451, 2452, 2453, 2454, 2455, 2456, 2457, 2458, 2459, 2460, 2461, 2462, 2463, 2464, 2465, 2466, 2467, 2468, 2469, 2470, 2471, 2472, 2473, 2474, 2475, 2476, 2477, 2478, 2479, 2480, 2481, 2482, 2483, 2484, 2485, 2486, 2487, 2488, 2489, 2490, 2491, 2492, 2493, 2494, 2495, 2496, 2497, 2498, 2499, 2500, 2501, 2502, 2503, 2504, 2505, 2506, 2507, 2508, 2509, 2510, 2511, 2512, 2513, 2514, 2515, 2516, 2517, 2518, 2519, 2520, 2521, 2522, 2523, 2524, 2525, 2526, 2527, 2528, 2529, 2530, 2531, 2532, 2533, 2534, 2535, 2536, 2537, 2538, 2539, 2540, 2541, 2542, 2543, 2544, 2545, 2546, 2547, 2548, 2549, 2550, 2551, 2552, 2553, 2554, 2555, 2556, 2557, 2558, 2559, 2560, 2561, 2562, 2563, 2564, 2565, 2566, 2567, 2568, 2569, 2570, 2571, 2572, 2573, 2574, 2575, 2576, 2577, 2578, 2579, 2580, 2581, 2582, 2583, 2584, 2585, 2586, 2587, 2588, 2589, 2590, 2591, 2592, 2593, 2594, 2595, 2596, 2597, 2598, 2599, 2600, 2601, 2602, 2603, 2604, 2605, 2606, 2607, 2608, 2609, 2610, 2611, 2612, 2613, 2614, 2615, 2616, 2617, 2618, 2619, 2620, 2621, 2622, 2623, 2624, 2625, 2626, 2627, 2628, 2629, 2630, 2631, 2632, 2633, 2634, 2635, 2636, 2637, 2638, 2639, 2640, 2641, 2642, 2643, 2644, 2645, 2646, 2647, 2648, 2649, 2650, 2651, 2652, 2653, 2654, 2655, 2656, 2657, 2658, 2659, 2660, 2661, 2662, 2663, 2664, 2665, 2666, 2667, 2668, 2669, 2670, 2671, 2672, 2673, 2674, 2675, 2676, 2677, 2678, 2679, 2680, 2681, 2682, 2683, 2684, 2685, 2686, 2687, 2688, 2689, 2690, 2691, 2692, 2693, 2694, 2695, 2696, 2697, 2698, 2699, 2700, 2701, 2702, 2703, 2704, 2705, 2706, 2707, 2708, 2709, 2710, 2711, 2712, 2713, 2714, 2715, 2716, 2717, 2718, 2719, 2720, 2721, 2722, 2723, 2724, 2725, 2726, 2727, 2728, 2729, 2730, 2731, 2732, 2733, 2734, 2735, 2736, 2737, 2738, 2739, 2740, 2741, 2742, 2743, 2744, 2745, 2746, 2747, 2748, 2749, 2750, 2751, 2752, 2753, 2754, 2755, 2756, 2757, 2758, 2759, 2760, 2761, 2762, 2763, 2764, 2765, 2766, 2767, 2768, 2769, 2770, 2771, 2772, 2773, 2774, 2775, 2776, 2777, 2778, 2779, 2780, 2781, 2782, 2783, 2784, 2785, 2786, 2787, 2788, 2789, 2790, 2791, 2792, 2793, 2794, 2795, 2796, 2797, 2798, 2799, 2800, 2801, 2802, 2803, 2804, 2805, 2806, 2807, 2808, 2809, 2810, 2811, 2812, 2813, 2814, 2815, 2816, 2817, 2818, 2819, 2820, 2821, 2822, 2823, 2824, 2825, 2826, 2827, 2828, 2829, 2830, 2831, 2832, 2833, 2834, 2835, 2836, 2837, 2838, 2839, 2840, 2841, 2842, 2843, 2844, 2845, 2846, 2847, 2848, 2849, 2850, 2851, 2852, 2853, 2854, 2855, 2856, 2857, 2858, 2859, 2860, 2861, 2862, 2863, 2864, 2865, 2866, 2867, 2868, 2869, 2870, 2871, 2872, 2873, 2874, 2875, 2876, 2877, 2878, 2879, 2880, 2881, 2882, 2883, 2884, 2885, 2886, 2887, 2888, 2889, 2890, 2891, 2892, 2893, 2894, 2895, 2896, 2897, 2898, 2899, 2900, 2901, 2902, 2903, 2904, 2905, 2906, 2907, 2908, 2909, 2910, 2911, 2912, 2913, 2914, 2915, 2916, 2917, 2918, 2919, 2920, 2921, 2922, 2923, 2924, 2925, 2926, 2927, 2928, 2929, 2930, 2931, 2932, 2933, 2934, 2935, 2936, 2937, 2938, 2939, 2940, 2941, 2942, 2943, 2944, 2945, 2946, 2947, 2948, 2949, 2950, 2951, 2952, 2953, 2954, 2955, 2956, 2957, 2958, 2959, 2960, 2961, 2962, 2963, 2964, 2965, 2966, 2967, 2968, 2969, 2970, 2971, 2972, 2973, 2974, 2975, 2976, 2977, 2978, 2979, 2980, 2981, 2982, 2983, 2984, 2985, 2986, 2987, 2988, 2989, 2990, 2991, 2992, 2993, 2994, 2995, 2996, 2997, 2998, 2999], 'n02116738': [3000, 3001, 3002, 3003, 3004, 3005, 3006, 3007, 3008, 3009, 3010, 3011, 3012, 3013, 3014, 3015, 3016, 3017, 3018, 3019, 3020, 3021, 3022, 3023, 3024, 3025, 3026, 3027, 3028, 3029, 3030, 3031, 3032, 3033, 3034, 3035, 3036, 3037, 3038, 3039, 3040, 3041, 3042, 3043, 3044, 3045, 3046, 3047, 3048, 3049, 3050, 3051, 3052, 3053, 3054, 3055, 3056, 3057, 3058, 3059, 3060, 3061, 3062, 3063, 3064, 3065, 3066, 3067, 3068, 3069, 3070, 3071, 3072, 3073, 3074, 3075, 3076, 3077, 3078, 3079, 3080, 3081, 3082, 3083, 3084, 3085, 3086, 3087, 3088, 3089, 3090, 3091, 3092, 3093, 3094, 3095, 3096, 3097, 3098, 3099, 3100, 3101, 3102, 3103, 3104, 3105, 3106, 3107, 3108, 3109, 3110, 3111, 3112, 3113, 3114, 3115, 3116, 3117, 3118, 3119, 3120, 3121, 3122, 3123, 3124, 3125, 3126, 3127, 3128, 3129, 3130, 3131, 3132, 3133, 3134, 3135, 3136, 3137, 3138, 3139, 3140, 3141, 3142, 3143, 3144, 3145, 3146, 3147, 3148, 3149, 3150, 3151, 3152, 3153, 3154, 3155, 3156, 3157, 3158, 3159, 3160, 3161, 3162, 3163, 3164, 3165, 3166, 3167, 3168, 3169, 3170, 3171, 3172, 3173, 3174, 3175, 3176, 3177, 3178, 3179, 3180, 3181, 3182, 3183, 3184, 3185, 3186, 3187, 3188, 3189, 3190, 3191, 3192, 3193, 3194, 3195, 3196, 3197, 3198, 3199, 3200, 3201, 3202, 3203, 3204, 3205, 3206, 3207, 3208, 3209, 3210, 3211, 3212, 3213, 3214, 3215, 3216, 3217, 3218, 3219, 3220, 3221, 3222, 3223, 3224, 3225, 3226, 3227, 3228, 3229, 3230, 3231, 3232, 3233, 3234, 3235, 3236, 3237, 3238, 3239, 3240, 3241, 3242, 3243, 3244, 3245, 3246, 3247, 3248, 3249, 3250, 3251, 3252, 3253, 3254, 3255, 3256, 3257, 3258, 3259, 3260, 3261, 3262, 3263, 3264, 3265, 3266, 3267, 3268, 3269, 3270, 3271, 3272, 3273, 3274, 3275, 3276, 3277, 3278, 3279, 3280, 3281, 3282, 3283, 3284, 3285, 3286, 3287, 3288, 3289, 3290, 3291, 3292, 3293, 3294, 3295, 3296, 3297, 3298, 3299, 3300, 3301, 3302, 3303, 3304, 3305, 3306, 3307, 3308, 3309, 3310, 3311, 3312, 3313, 3314, 3315, 3316, 3317, 3318, 3319, 3320, 3321, 3322, 3323, 3324, 3325, 3326, 3327, 3328, 3329, 3330, 3331, 3332, 3333, 3334, 3335, 3336, 3337, 3338, 3339, 3340, 3341, 3342, 3343, 3344, 3345, 3346, 3347, 3348, 3349, 3350, 3351, 3352, 3353, 3354, 3355, 3356, 3357, 3358, 3359, 3360, 3361, 3362, 3363, 3364, 3365, 3366, 3367, 3368, 3369, 3370, 3371, 3372, 3373, 3374, 3375, 3376, 3377, 3378, 3379, 3380, 3381, 3382, 3383, 3384, 3385, 3386, 3387, 3388, 3389, 3390, 3391, 3392, 3393, 3394, 3395, 3396, 3397, 3398, 3399, 3400, 3401, 3402, 3403, 3404, 3405, 3406, 3407, 3408, 3409, 3410, 3411, 3412, 3413, 3414, 3415, 3416, 3417, 3418, 3419, 3420, 3421, 3422, 3423, 3424, 3425, 3426, 3427, 3428, 3429, 3430, 3431, 3432, 3433, 3434, 3435, 3436, 3437, 3438, 3439, 3440, 3441, 3442, 3443, 3444, 3445, 3446, 3447, 3448, 3449, 3450, 3451, 3452, 3453, 3454, 3455, 3456, 3457, 3458, 3459, 3460, 3461, 3462, 3463, 3464, 3465, 3466, 3467, 3468, 3469, 3470, 3471, 3472, 3473, 3474, 3475, 3476, 3477, 3478, 3479, 3480, 3481, 3482, 3483, 3484, 3485, 3486, 3487, 3488, 3489, 3490, 3491, 3492, 3493, 3494, 3495, 3496, 3497, 3498, 3499, 3500, 3501, 3502, 3503, 3504, 3505, 3506, 3507, 3508, 3509, 3510, 3511, 3512, 3513, 3514, 3515, 3516, 3517, 3518, 3519, 3520, 3521, 3522, 3523, 3524, 3525, 3526, 3527, 3528, 3529, 3530, 3531, 3532, 3533, 3534, 3535, 3536, 3537, 3538, 3539, 3540, 3541, 3542, 3543, 3544, 3545, 3546, 3547, 3548, 3549, 3550, 3551, 3552, 3553, 3554, 3555, 3556, 3557, 3558, 3559, 3560, 3561, 3562, 3563, 3564, 3565, 3566, 3567, 3568, 3569, 3570, 3571, 3572, 3573, 3574, 3575, 3576, 3577, 3578, 3579, 3580, 3581, 3582, 3583, 3584, 3585, 3586, 3587, 3588, 3589, 3590, 3591, 3592, 3593, 3594, 3595, 3596, 3597, 3598, 3599], 'n02129165': [3600, 3601, 3602, 3603, 3604, 3605, 3606, 3607, 3608, 3609, 3610, 3611, 3612, 3613, 3614, 3615, 3616, 3617, 3618, 3619, 3620, 3621, 3622, 3623, 3624, 3625, 3626, 3627, 3628, 3629, 3630, 3631, 3632, 3633, 3634, 3635, 3636, 3637, 3638, 3639, 3640, 3641, 3642, 3643, 3644, 3645, 3646, 3647, 3648, 3649, 3650, 3651, 3652, 3653, 3654, 3655, 3656, 3657, 3658, 3659, 3660, 3661, 3662, 3663, 3664, 3665, 3666, 3667, 3668, 3669, 3670, 3671, 3672, 3673, 3674, 3675, 3676, 3677, 3678, 3679, 3680, 3681, 3682, 3683, 3684, 3685, 3686, 3687, 3688, 3689, 3690, 3691, 3692, 3693, 3694, 3695, 3696, 3697, 3698, 3699, 3700, 3701, 3702, 3703, 3704, 3705, 3706, 3707, 3708, 3709, 3710, 3711, 3712, 3713, 3714, 3715, 3716, 3717, 3718, 3719, 3720, 3721, 3722, 3723, 3724, 3725, 3726, 3727, 3728, 3729, 3730, 3731, 3732, 3733, 3734, 3735, 3736, 3737, 3738, 3739, 3740, 3741, 3742, 3743, 3744, 3745, 3746, 3747, 3748, 3749, 3750, 3751, 3752, 3753, 3754, 3755, 3756, 3757, 3758, 3759, 3760, 3761, 3762, 3763, 3764, 3765, 3766, 3767, 3768, 3769, 3770, 3771, 3772, 3773, 3774, 3775, 3776, 3777, 3778, 3779, 3780, 3781, 3782, 3783, 3784, 3785, 3786, 3787, 3788, 3789, 3790, 3791, 3792, 3793, 3794, 3795, 3796, 3797, 3798, 3799, 3800, 3801, 3802, 3803, 3804, 3805, 3806, 3807, 3808, 3809, 3810, 3811, 3812, 3813, 3814, 3815, 3816, 3817, 3818, 3819, 3820, 3821, 3822, 3823, 3824, 3825, 3826, 3827, 3828, 3829, 3830, 3831, 3832, 3833, 3834, 3835, 3836, 3837, 3838, 3839, 3840, 3841, 3842, 3843, 3844, 3845, 3846, 3847, 3848, 3849, 3850, 3851, 3852, 3853, 3854, 3855, 3856, 3857, 3858, 3859, 3860, 3861, 3862, 3863, 3864, 3865, 3866, 3867, 3868, 3869, 3870, 3871, 3872, 3873, 3874, 3875, 3876, 3877, 3878, 3879, 3880, 3881, 3882, 3883, 3884, 3885, 3886, 3887, 3888, 3889, 3890, 3891, 3892, 3893, 3894, 3895, 3896, 3897, 3898, 3899, 3900, 3901, 3902, 3903, 3904, 3905, 3906, 3907, 3908, 3909, 3910, 3911, 3912, 3913, 3914, 3915, 3916, 3917, 3918, 3919, 3920, 3921, 3922, 3923, 3924, 3925, 3926, 3927, 3928, 3929, 3930, 3931, 3932, 3933, 3934, 3935, 3936, 3937, 3938, 3939, 3940, 3941, 3942, 3943, 3944, 3945, 3946, 3947, 3948, 3949, 3950, 3951, 3952, 3953, 3954, 3955, 3956, 3957, 3958, 3959, 3960, 3961, 3962, 3963, 3964, 3965, 3966, 3967, 3968, 3969, 3970, 3971, 3972, 3973, 3974, 3975, 3976, 3977, 3978, 3979, 3980, 3981, 3982, 3983, 3984, 3985, 3986, 3987, 3988, 3989, 3990, 3991, 3992, 3993, 3994, 3995, 3996, 3997, 3998, 3999, 4000, 4001, 4002, 4003, 4004, 4005, 4006, 4007, 4008, 4009, 4010, 4011, 4012, 4013, 4014, 4015, 4016, 4017, 4018, 4019, 4020, 4021, 4022, 4023, 4024, 4025, 4026, 4027, 4028, 4029, 4030, 4031, 4032, 4033, 4034, 4035, 4036, 4037, 4038, 4039, 4040, 4041, 4042, 4043, 4044, 4045, 4046, 4047, 4048, 4049, 4050, 4051, 4052, 4053, 4054, 4055, 4056, 4057, 4058, 4059, 4060, 4061, 4062, 4063, 4064, 4065, 4066, 4067, 4068, 4069, 4070, 4071, 4072, 4073, 4074, 4075, 4076, 4077, 4078, 4079, 4080, 4081, 4082, 4083, 4084, 4085, 4086, 4087, 4088, 4089, 4090, 4091, 4092, 4093, 4094, 4095, 4096, 4097, 4098, 4099, 4100, 4101, 4102, 4103, 4104, 4105, 4106, 4107, 4108, 4109, 4110, 4111, 4112, 4113, 4114, 4115, 4116, 4117, 4118, 4119, 4120, 4121, 4122, 4123, 4124, 4125, 4126, 4127, 4128, 4129, 4130, 4131, 4132, 4133, 4134, 4135, 4136, 4137, 4138, 4139, 4140, 4141, 4142, 4143, 4144, 4145, 4146, 4147, 4148, 4149, 4150, 4151, 4152, 4153, 4154, 4155, 4156, 4157, 4158, 4159, 4160, 4161, 4162, 4163, 4164, 4165, 4166, 4167, 4168, 4169, 4170, 4171, 4172, 4173, 4174, 4175, 4176, 4177, 4178, 4179, 4180, 4181, 4182, 4183, 4184, 4185, 4186, 4187, 4188, 4189, 4190, 4191, 4192, 4193, 4194, 4195, 4196, 4197, 4198, 4199], 'n02219486': [4200, 4201, 4202, 4203, 4204, 4205, 4206, 4207, 4208, 4209, 4210, 4211, 4212, 4213, 4214, 4215, 4216, 4217, 4218, 4219, 4220, 4221, 4222, 4223, 4224, 4225, 4226, 4227, 4228, 4229, 4230, 4231, 4232, 4233, 4234, 4235, 4236, 4237, 4238, 4239, 4240, 4241, 4242, 4243, 4244, 4245, 4246, 4247, 4248, 4249, 4250, 4251, 4252, 4253, 4254, 4255, 4256, 4257, 4258, 4259, 4260, 4261, 4262, 4263, 4264, 4265, 4266, 4267, 4268, 4269, 4270, 4271, 4272, 4273, 4274, 4275, 4276, 4277, 4278, 4279, 4280, 4281, 4282, 4283, 4284, 4285, 4286, 4287, 4288, 4289, 4290, 4291, 4292, 4293, 4294, 4295, 4296, 4297, 4298, 4299, 4300, 4301, 4302, 4303, 4304, 4305, 4306, 4307, 4308, 4309, 4310, 4311, 4312, 4313, 4314, 4315, 4316, 4317, 4318, 4319, 4320, 4321, 4322, 4323, 4324, 4325, 4326, 4327, 4328, 4329, 4330, 4331, 4332, 4333, 4334, 4335, 4336, 4337, 4338, 4339, 4340, 4341, 4342, 4343, 4344, 4345, 4346, 4347, 4348, 4349, 4350, 4351, 4352, 4353, 4354, 4355, 4356, 4357, 4358, 4359, 4360, 4361, 4362, 4363, 4364, 4365, 4366, 4367, 4368, 4369, 4370, 4371, 4372, 4373, 4374, 4375, 4376, 4377, 4378, 4379, 4380, 4381, 4382, 4383, 4384, 4385, 4386, 4387, 4388, 4389, 4390, 4391, 4392, 4393, 4394, 4395, 4396, 4397, 4398, 4399, 4400, 4401, 4402, 4403, 4404, 4405, 4406, 4407, 4408, 4409, 4410, 4411, 4412, 4413, 4414, 4415, 4416, 4417, 4418, 4419, 4420, 4421, 4422, 4423, 4424, 4425, 4426, 4427, 4428, 4429, 4430, 4431, 4432, 4433, 4434, 4435, 4436, 4437, 4438, 4439, 4440, 4441, 4442, 4443, 4444, 4445, 4446, 4447, 4448, 4449, 4450, 4451, 4452, 4453, 4454, 4455, 4456, 4457, 4458, 4459, 4460, 4461, 4462, 4463, 4464, 4465, 4466, 4467, 4468, 4469, 4470, 4471, 4472, 4473, 4474, 4475, 4476, 4477, 4478, 4479, 4480, 4481, 4482, 4483, 4484, 4485, 4486, 4487, 4488, 4489, 4490, 4491, 4492, 4493, 4494, 4495, 4496, 4497, 4498, 4499, 4500, 4501, 4502, 4503, 4504, 4505, 4506, 4507, 4508, 4509, 4510, 4511, 4512, 4513, 4514, 4515, 4516, 4517, 4518, 4519, 4520, 4521, 4522, 4523, 4524, 4525, 4526, 4527, 4528, 4529, 4530, 4531, 4532, 4533, 4534, 4535, 4536, 4537, 4538, 4539, 4540, 4541, 4542, 4543, 4544, 4545, 4546, 4547, 4548, 4549, 4550, 4551, 4552, 4553, 4554, 4555, 4556, 4557, 4558, 4559, 4560, 4561, 4562, 4563, 4564, 4565, 4566, 4567, 4568, 4569, 4570, 4571, 4572, 4573, 4574, 4575, 4576, 4577, 4578, 4579, 4580, 4581, 4582, 4583, 4584, 4585, 4586, 4587, 4588, 4589, 4590, 4591, 4592, 4593, 4594, 4595, 4596, 4597, 4598, 4599, 4600, 4601, 4602, 4603, 4604, 4605, 4606, 4607, 4608, 4609, 4610, 4611, 4612, 4613, 4614, 4615, 4616, 4617, 4618, 4619, 4620, 4621, 4622, 4623, 4624, 4625, 4626, 4627, 4628, 4629, 4630, 4631, 4632, 4633, 4634, 4635, 4636, 4637, 4638, 4639, 4640, 4641, 4642, 4643, 4644, 4645, 4646, 4647, 4648, 4649, 4650, 4651, 4652, 4653, 4654, 4655, 4656, 4657, 4658, 4659, 4660, 4661, 4662, 4663, 4664, 4665, 4666, 4667, 4668, 4669, 4670, 4671, 4672, 4673, 4674, 4675, 4676, 4677, 4678, 4679, 4680, 4681, 4682, 4683, 4684, 4685, 4686, 4687, 4688, 4689, 4690, 4691, 4692, 4693, 4694, 4695, 4696, 4697, 4698, 4699, 4700, 4701, 4702, 4703, 4704, 4705, 4706, 4707, 4708, 4709, 4710, 4711, 4712, 4713, 4714, 4715, 4716, 4717, 4718, 4719, 4720, 4721, 4722, 4723, 4724, 4725, 4726, 4727, 4728, 4729, 4730, 4731, 4732, 4733, 4734, 4735, 4736, 4737, 4738, 4739, 4740, 4741, 4742, 4743, 4744, 4745, 4746, 4747, 4748, 4749, 4750, 4751, 4752, 4753, 4754, 4755, 4756, 4757, 4758, 4759, 4760, 4761, 4762, 4763, 4764, 4765, 4766, 4767, 4768, 4769, 4770, 4771, 4772, 4773, 4774, 4775, 4776, 4777, 4778, 4779, 4780, 4781, 4782, 4783, 4784, 4785, 4786, 4787, 4788, 4789, 4790, 4791, 4792, 4793, 4794, 4795, 4796, 4797, 4798, 4799], 'n02443484': [4800, 4801, 4802, 4803, 4804, 4805, 4806, 4807, 4808, 4809, 4810, 4811, 4812, 4813, 4814, 4815, 4816, 4817, 4818, 4819, 4820, 4821, 4822, 4823, 4824, 4825, 4826, 4827, 4828, 4829, 4830, 4831, 4832, 4833, 4834, 4835, 4836, 4837, 4838, 4839, 4840, 4841, 4842, 4843, 4844, 4845, 4846, 4847, 4848, 4849, 4850, 4851, 4852, 4853, 4854, 4855, 4856, 4857, 4858, 4859, 4860, 4861, 4862, 4863, 4864, 4865, 4866, 4867, 4868, 4869, 4870, 4871, 4872, 4873, 4874, 4875, 4876, 4877, 4878, 4879, 4880, 4881, 4882, 4883, 4884, 4885, 4886, 4887, 4888, 4889, 4890, 4891, 4892, 4893, 4894, 4895, 4896, 4897, 4898, 4899, 4900, 4901, 4902, 4903, 4904, 4905, 4906, 4907, 4908, 4909, 4910, 4911, 4912, 4913, 4914, 4915, 4916, 4917, 4918, 4919, 4920, 4921, 4922, 4923, 4924, 4925, 4926, 4927, 4928, 4929, 4930, 4931, 4932, 4933, 4934, 4935, 4936, 4937, 4938, 4939, 4940, 4941, 4942, 4943, 4944, 4945, 4946, 4947, 4948, 4949, 4950, 4951, 4952, 4953, 4954, 4955, 4956, 4957, 4958, 4959, 4960, 4961, 4962, 4963, 4964, 4965, 4966, 4967, 4968, 4969, 4970, 4971, 4972, 4973, 4974, 4975, 4976, 4977, 4978, 4979, 4980, 4981, 4982, 4983, 4984, 4985, 4986, 4987, 4988, 4989, 4990, 4991, 4992, 4993, 4994, 4995, 4996, 4997, 4998, 4999, 5000, 5001, 5002, 5003, 5004, 5005, 5006, 5007, 5008, 5009, 5010, 5011, 5012, 5013, 5014, 5015, 5016, 5017, 5018, 5019, 5020, 5021, 5022, 5023, 5024, 5025, 5026, 5027, 5028, 5029, 5030, 5031, 5032, 5033, 5034, 5035, 5036, 5037, 5038, 5039, 5040, 5041, 5042, 5043, 5044, 5045, 5046, 5047, 5048, 5049, 5050, 5051, 5052, 5053, 5054, 5055, 5056, 5057, 5058, 5059, 5060, 5061, 5062, 5063, 5064, 5065, 5066, 5067, 5068, 5069, 5070, 5071, 5072, 5073, 5074, 5075, 5076, 5077, 5078, 5079, 5080, 5081, 5082, 5083, 5084, 5085, 5086, 5087, 5088, 5089, 5090, 5091, 5092, 5093, 5094, 5095, 5096, 5097, 5098, 5099, 5100, 5101, 5102, 5103, 5104, 5105, 5106, 5107, 5108, 5109, 5110, 5111, 5112, 5113, 5114, 5115, 5116, 5117, 5118, 5119, 5120, 5121, 5122, 5123, 5124, 5125, 5126, 5127, 5128, 5129, 5130, 5131, 5132, 5133, 5134, 5135, 5136, 5137, 5138, 5139, 5140, 5141, 5142, 5143, 5144, 5145, 5146, 5147, 5148, 5149, 5150, 5151, 5152, 5153, 5154, 5155, 5156, 5157, 5158, 5159, 5160, 5161, 5162, 5163, 5164, 5165, 5166, 5167, 5168, 5169, 5170, 5171, 5172, 5173, 5174, 5175, 5176, 5177, 5178, 5179, 5180, 5181, 5182, 5183, 5184, 5185, 5186, 5187, 5188, 5189, 5190, 5191, 5192, 5193, 5194, 5195, 5196, 5197, 5198, 5199, 5200, 5201, 5202, 5203, 5204, 5205, 5206, 5207, 5208, 5209, 5210, 5211, 5212, 5213, 5214, 5215, 5216, 5217, 5218, 5219, 5220, 5221, 5222, 5223, 5224, 5225, 5226, 5227, 5228, 5229, 5230, 5231, 5232, 5233, 5234, 5235, 5236, 5237, 5238, 5239, 5240, 5241, 5242, 5243, 5244, 5245, 5246, 5247, 5248, 5249, 5250, 5251, 5252, 5253, 5254, 5255, 5256, 5257, 5258, 5259, 5260, 5261, 5262, 5263, 5264, 5265, 5266, 5267, 5268, 5269, 5270, 5271, 5272, 5273, 5274, 5275, 5276, 5277, 5278, 5279, 5280, 5281, 5282, 5283, 5284, 5285, 5286, 5287, 5288, 5289, 5290, 5291, 5292, 5293, 5294, 5295, 5296, 5297, 5298, 5299, 5300, 5301, 5302, 5303, 5304, 5305, 5306, 5307, 5308, 5309, 5310, 5311, 5312, 5313, 5314, 5315, 5316, 5317, 5318, 5319, 5320, 5321, 5322, 5323, 5324, 5325, 5326, 5327, 5328, 5329, 5330, 5331, 5332, 5333, 5334, 5335, 5336, 5337, 5338, 5339, 5340, 5341, 5342, 5343, 5344, 5345, 5346, 5347, 5348, 5349, 5350, 5351, 5352, 5353, 5354, 5355, 5356, 5357, 5358, 5359, 5360, 5361, 5362, 5363, 5364, 5365, 5366, 5367, 5368, 5369, 5370, 5371, 5372, 5373, 5374, 5375, 5376, 5377, 5378, 5379, 5380, 5381, 5382, 5383, 5384, 5385, 5386, 5387, 5388, 5389, 5390, 5391, 5392, 5393, 5394, 5395, 5396, 5397, 5398, 5399], 'n02871525': [5400, 5401, 5402, 5403, 5404, 5405, 5406, 5407, 5408, 5409, 5410, 5411, 5412, 5413, 5414, 5415, 5416, 5417, 5418, 5419, 5420, 5421, 5422, 5423, 5424, 5425, 5426, 5427, 5428, 5429, 5430, 5431, 5432, 5433, 5434, 5435, 5436, 5437, 5438, 5439, 5440, 5441, 5442, 5443, 5444, 5445, 5446, 5447, 5448, 5449, 5450, 5451, 5452, 5453, 5454, 5455, 5456, 5457, 5458, 5459, 5460, 5461, 5462, 5463, 5464, 5465, 5466, 5467, 5468, 5469, 5470, 5471, 5472, 5473, 5474, 5475, 5476, 5477, 5478, 5479, 5480, 5481, 5482, 5483, 5484, 5485, 5486, 5487, 5488, 5489, 5490, 5491, 5492, 5493, 5494, 5495, 5496, 5497, 5498, 5499, 5500, 5501, 5502, 5503, 5504, 5505, 5506, 5507, 5508, 5509, 5510, 5511, 5512, 5513, 5514, 5515, 5516, 5517, 5518, 5519, 5520, 5521, 5522, 5523, 5524, 5525, 5526, 5527, 5528, 5529, 5530, 5531, 5532, 5533, 5534, 5535, 5536, 5537, 5538, 5539, 5540, 5541, 5542, 5543, 5544, 5545, 5546, 5547, 5548, 5549, 5550, 5551, 5552, 5553, 5554, 5555, 5556, 5557, 5558, 5559, 5560, 5561, 5562, 5563, 5564, 5565, 5566, 5567, 5568, 5569, 5570, 5571, 5572, 5573, 5574, 5575, 5576, 5577, 5578, 5579, 5580, 5581, 5582, 5583, 5584, 5585, 5586, 5587, 5588, 5589, 5590, 5591, 5592, 5593, 5594, 5595, 5596, 5597, 5598, 5599, 5600, 5601, 5602, 5603, 5604, 5605, 5606, 5607, 5608, 5609, 5610, 5611, 5612, 5613, 5614, 5615, 5616, 5617, 5618, 5619, 5620, 5621, 5622, 5623, 5624, 5625, 5626, 5627, 5628, 5629, 5630, 5631, 5632, 5633, 5634, 5635, 5636, 5637, 5638, 5639, 5640, 5641, 5642, 5643, 5644, 5645, 5646, 5647, 5648, 5649, 5650, 5651, 5652, 5653, 5654, 5655, 5656, 5657, 5658, 5659, 5660, 5661, 5662, 5663, 5664, 5665, 5666, 5667, 5668, 5669, 5670, 5671, 5672, 5673, 5674, 5675, 5676, 5677, 5678, 5679, 5680, 5681, 5682, 5683, 5684, 5685, 5686, 5687, 5688, 5689, 5690, 5691, 5692, 5693, 5694, 5695, 5696, 5697, 5698, 5699, 5700, 5701, 5702, 5703, 5704, 5705, 5706, 5707, 5708, 5709, 5710, 5711, 5712, 5713, 5714, 5715, 5716, 5717, 5718, 5719, 5720, 5721, 5722, 5723, 5724, 5725, 5726, 5727, 5728, 5729, 5730, 5731, 5732, 5733, 5734, 5735, 5736, 5737, 5738, 5739, 5740, 5741, 5742, 5743, 5744, 5745, 5746, 5747, 5748, 5749, 5750, 5751, 5752, 5753, 5754, 5755, 5756, 5757, 5758, 5759, 5760, 5761, 5762, 5763, 5764, 5765, 5766, 5767, 5768, 5769, 5770, 5771, 5772, 5773, 5774, 5775, 5776, 5777, 5778, 5779, 5780, 5781, 5782, 5783, 5784, 5785, 5786, 5787, 5788, 5789, 5790, 5791, 5792, 5793, 5794, 5795, 5796, 5797, 5798, 5799, 5800, 5801, 5802, 5803, 5804, 5805, 5806, 5807, 5808, 5809, 5810, 5811, 5812, 5813, 5814, 5815, 5816, 5817, 5818, 5819, 5820, 5821, 5822, 5823, 5824, 5825, 5826, 5827, 5828, 5829, 5830, 5831, 5832, 5833, 5834, 5835, 5836, 5837, 5838, 5839, 5840, 5841, 5842, 5843, 5844, 5845, 5846, 5847, 5848, 5849, 5850, 5851, 5852, 5853, 5854, 5855, 5856, 5857, 5858, 5859, 5860, 5861, 5862, 5863, 5864, 5865, 5866, 5867, 5868, 5869, 5870, 5871, 5872, 5873, 5874, 5875, 5876, 5877, 5878, 5879, 5880, 5881, 5882, 5883, 5884, 5885, 5886, 5887, 5888, 5889, 5890, 5891, 5892, 5893, 5894, 5895, 5896, 5897, 5898, 5899, 5900, 5901, 5902, 5903, 5904, 5905, 5906, 5907, 5908, 5909, 5910, 5911, 5912, 5913, 5914, 5915, 5916, 5917, 5918, 5919, 5920, 5921, 5922, 5923, 5924, 5925, 5926, 5927, 5928, 5929, 5930, 5931, 5932, 5933, 5934, 5935, 5936, 5937, 5938, 5939, 5940, 5941, 5942, 5943, 5944, 5945, 5946, 5947, 5948, 5949, 5950, 5951, 5952, 5953, 5954, 5955, 5956, 5957, 5958, 5959, 5960, 5961, 5962, 5963, 5964, 5965, 5966, 5967, 5968, 5969, 5970, 5971, 5972, 5973, 5974, 5975, 5976, 5977, 5978, 5979, 5980, 5981, 5982, 5983, 5984, 5985, 5986, 5987, 5988, 5989, 5990, 5991, 5992, 5993, 5994, 5995, 5996, 5997, 5998, 5999], 'n03127925': [6000, 6001, 6002, 6003, 6004, 6005, 6006, 6007, 6008, 6009, 6010, 6011, 6012, 6013, 6014, 6015, 6016, 6017, 6018, 6019, 6020, 6021, 6022, 6023, 6024, 6025, 6026, 6027, 6028, 6029, 6030, 6031, 6032, 6033, 6034, 6035, 6036, 6037, 6038, 6039, 6040, 6041, 6042, 6043, 6044, 6045, 6046, 6047, 6048, 6049, 6050, 6051, 6052, 6053, 6054, 6055, 6056, 6057, 6058, 6059, 6060, 6061, 6062, 6063, 6064, 6065, 6066, 6067, 6068, 6069, 6070, 6071, 6072, 6073, 6074, 6075, 6076, 6077, 6078, 6079, 6080, 6081, 6082, 6083, 6084, 6085, 6086, 6087, 6088, 6089, 6090, 6091, 6092, 6093, 6094, 6095, 6096, 6097, 6098, 6099, 6100, 6101, 6102, 6103, 6104, 6105, 6106, 6107, 6108, 6109, 6110, 6111, 6112, 6113, 6114, 6115, 6116, 6117, 6118, 6119, 6120, 6121, 6122, 6123, 6124, 6125, 6126, 6127, 6128, 6129, 6130, 6131, 6132, 6133, 6134, 6135, 6136, 6137, 6138, 6139, 6140, 6141, 6142, 6143, 6144, 6145, 6146, 6147, 6148, 6149, 6150, 6151, 6152, 6153, 6154, 6155, 6156, 6157, 6158, 6159, 6160, 6161, 6162, 6163, 6164, 6165, 6166, 6167, 6168, 6169, 6170, 6171, 6172, 6173, 6174, 6175, 6176, 6177, 6178, 6179, 6180, 6181, 6182, 6183, 6184, 6185, 6186, 6187, 6188, 6189, 6190, 6191, 6192, 6193, 6194, 6195, 6196, 6197, 6198, 6199, 6200, 6201, 6202, 6203, 6204, 6205, 6206, 6207, 6208, 6209, 6210, 6211, 6212, 6213, 6214, 6215, 6216, 6217, 6218, 6219, 6220, 6221, 6222, 6223, 6224, 6225, 6226, 6227, 6228, 6229, 6230, 6231, 6232, 6233, 6234, 6235, 6236, 6237, 6238, 6239, 6240, 6241, 6242, 6243, 6244, 6245, 6246, 6247, 6248, 6249, 6250, 6251, 6252, 6253, 6254, 6255, 6256, 6257, 6258, 6259, 6260, 6261, 6262, 6263, 6264, 6265, 6266, 6267, 6268, 6269, 6270, 6271, 6272, 6273, 6274, 6275, 6276, 6277, 6278, 6279, 6280, 6281, 6282, 6283, 6284, 6285, 6286, 6287, 6288, 6289, 6290, 6291, 6292, 6293, 6294, 6295, 6296, 6297, 6298, 6299, 6300, 6301, 6302, 6303, 6304, 6305, 6306, 6307, 6308, 6309, 6310, 6311, 6312, 6313, 6314, 6315, 6316, 6317, 6318, 6319, 6320, 6321, 6322, 6323, 6324, 6325, 6326, 6327, 6328, 6329, 6330, 6331, 6332, 6333, 6334, 6335, 6336, 6337, 6338, 6339, 6340, 6341, 6342, 6343, 6344, 6345, 6346, 6347, 6348, 6349, 6350, 6351, 6352, 6353, 6354, 6355, 6356, 6357, 6358, 6359, 6360, 6361, 6362, 6363, 6364, 6365, 6366, 6367, 6368, 6369, 6370, 6371, 6372, 6373, 6374, 6375, 6376, 6377, 6378, 6379, 6380, 6381, 6382, 6383, 6384, 6385, 6386, 6387, 6388, 6389, 6390, 6391, 6392, 6393, 6394, 6395, 6396, 6397, 6398, 6399, 6400, 6401, 6402, 6403, 6404, 6405, 6406, 6407, 6408, 6409, 6410, 6411, 6412, 6413, 6414, 6415, 6416, 6417, 6418, 6419, 6420, 6421, 6422, 6423, 6424, 6425, 6426, 6427, 6428, 6429, 6430, 6431, 6432, 6433, 6434, 6435, 6436, 6437, 6438, 6439, 6440, 6441, 6442, 6443, 6444, 6445, 6446, 6447, 6448, 6449, 6450, 6451, 6452, 6453, 6454, 6455, 6456, 6457, 6458, 6459, 6460, 6461, 6462, 6463, 6464, 6465, 6466, 6467, 6468, 6469, 6470, 6471, 6472, 6473, 6474, 6475, 6476, 6477, 6478, 6479, 6480, 6481, 6482, 6483, 6484, 6485, 6486, 6487, 6488, 6489, 6490, 6491, 6492, 6493, 6494, 6495, 6496, 6497, 6498, 6499, 6500, 6501, 6502, 6503, 6504, 6505, 6506, 6507, 6508, 6509, 6510, 6511, 6512, 6513, 6514, 6515, 6516, 6517, 6518, 6519, 6520, 6521, 6522, 6523, 6524, 6525, 6526, 6527, 6528, 6529, 6530, 6531, 6532, 6533, 6534, 6535, 6536, 6537, 6538, 6539, 6540, 6541, 6542, 6543, 6544, 6545, 6546, 6547, 6548, 6549, 6550, 6551, 6552, 6553, 6554, 6555, 6556, 6557, 6558, 6559, 6560, 6561, 6562, 6563, 6564, 6565, 6566, 6567, 6568, 6569, 6570, 6571, 6572, 6573, 6574, 6575, 6576, 6577, 6578, 6579, 6580, 6581, 6582, 6583, 6584, 6585, 6586, 6587, 6588, 6589, 6590, 6591, 6592, 6593, 6594, 6595, 6596, 6597, 6598, 6599], 'n03146219': [6600, 6601, 6602, 6603, 6604, 6605, 6606, 6607, 6608, 6609, 6610, 6611, 6612, 6613, 6614, 6615, 6616, 6617, 6618, 6619, 6620, 6621, 6622, 6623, 6624, 6625, 6626, 6627, 6628, 6629, 6630, 6631, 6632, 6633, 6634, 6635, 6636, 6637, 6638, 6639, 6640, 6641, 6642, 6643, 6644, 6645, 6646, 6647, 6648, 6649, 6650, 6651, 6652, 6653, 6654, 6655, 6656, 6657, 6658, 6659, 6660, 6661, 6662, 6663, 6664, 6665, 6666, 6667, 6668, 6669, 6670, 6671, 6672, 6673, 6674, 6675, 6676, 6677, 6678, 6679, 6680, 6681, 6682, 6683, 6684, 6685, 6686, 6687, 6688, 6689, 6690, 6691, 6692, 6693, 6694, 6695, 6696, 6697, 6698, 6699, 6700, 6701, 6702, 6703, 6704, 6705, 6706, 6707, 6708, 6709, 6710, 6711, 6712, 6713, 6714, 6715, 6716, 6717, 6718, 6719, 6720, 6721, 6722, 6723, 6724, 6725, 6726, 6727, 6728, 6729, 6730, 6731, 6732, 6733, 6734, 6735, 6736, 6737, 6738, 6739, 6740, 6741, 6742, 6743, 6744, 6745, 6746, 6747, 6748, 6749, 6750, 6751, 6752, 6753, 6754, 6755, 6756, 6757, 6758, 6759, 6760, 6761, 6762, 6763, 6764, 6765, 6766, 6767, 6768, 6769, 6770, 6771, 6772, 6773, 6774, 6775, 6776, 6777, 6778, 6779, 6780, 6781, 6782, 6783, 6784, 6785, 6786, 6787, 6788, 6789, 6790, 6791, 6792, 6793, 6794, 6795, 6796, 6797, 6798, 6799, 6800, 6801, 6802, 6803, 6804, 6805, 6806, 6807, 6808, 6809, 6810, 6811, 6812, 6813, 6814, 6815, 6816, 6817, 6818, 6819, 6820, 6821, 6822, 6823, 6824, 6825, 6826, 6827, 6828, 6829, 6830, 6831, 6832, 6833, 6834, 6835, 6836, 6837, 6838, 6839, 6840, 6841, 6842, 6843, 6844, 6845, 6846, 6847, 6848, 6849, 6850, 6851, 6852, 6853, 6854, 6855, 6856, 6857, 6858, 6859, 6860, 6861, 6862, 6863, 6864, 6865, 6866, 6867, 6868, 6869, 6870, 6871, 6872, 6873, 6874, 6875, 6876, 6877, 6878, 6879, 6880, 6881, 6882, 6883, 6884, 6885, 6886, 6887, 6888, 6889, 6890, 6891, 6892, 6893, 6894, 6895, 6896, 6897, 6898, 6899, 6900, 6901, 6902, 6903, 6904, 6905, 6906, 6907, 6908, 6909, 6910, 6911, 6912, 6913, 6914, 6915, 6916, 6917, 6918, 6919, 6920, 6921, 6922, 6923, 6924, 6925, 6926, 6927, 6928, 6929, 6930, 6931, 6932, 6933, 6934, 6935, 6936, 6937, 6938, 6939, 6940, 6941, 6942, 6943, 6944, 6945, 6946, 6947, 6948, 6949, 6950, 6951, 6952, 6953, 6954, 6955, 6956, 6957, 6958, 6959, 6960, 6961, 6962, 6963, 6964, 6965, 6966, 6967, 6968, 6969, 6970, 6971, 6972, 6973, 6974, 6975, 6976, 6977, 6978, 6979, 6980, 6981, 6982, 6983, 6984, 6985, 6986, 6987, 6988, 6989, 6990, 6991, 6992, 6993, 6994, 6995, 6996, 6997, 6998, 6999, 7000, 7001, 7002, 7003, 7004, 7005, 7006, 7007, 7008, 7009, 7010, 7011, 7012, 7013, 7014, 7015, 7016, 7017, 7018, 7019, 7020, 7021, 7022, 7023, 7024, 7025, 7026, 7027, 7028, 7029, 7030, 7031, 7032, 7033, 7034, 7035, 7036, 7037, 7038, 7039, 7040, 7041, 7042, 7043, 7044, 7045, 7046, 7047, 7048, 7049, 7050, 7051, 7052, 7053, 7054, 7055, 7056, 7057, 7058, 7059, 7060, 7061, 7062, 7063, 7064, 7065, 7066, 7067, 7068, 7069, 7070, 7071, 7072, 7073, 7074, 7075, 7076, 7077, 7078, 7079, 7080, 7081, 7082, 7083, 7084, 7085, 7086, 7087, 7088, 7089, 7090, 7091, 7092, 7093, 7094, 7095, 7096, 7097, 7098, 7099, 7100, 7101, 7102, 7103, 7104, 7105, 7106, 7107, 7108, 7109, 7110, 7111, 7112, 7113, 7114, 7115, 7116, 7117, 7118, 7119, 7120, 7121, 7122, 7123, 7124, 7125, 7126, 7127, 7128, 7129, 7130, 7131, 7132, 7133, 7134, 7135, 7136, 7137, 7138, 7139, 7140, 7141, 7142, 7143, 7144, 7145, 7146, 7147, 7148, 7149, 7150, 7151, 7152, 7153, 7154, 7155, 7156, 7157, 7158, 7159, 7160, 7161, 7162, 7163, 7164, 7165, 7166, 7167, 7168, 7169, 7170, 7171, 7172, 7173, 7174, 7175, 7176, 7177, 7178, 7179, 7180, 7181, 7182, 7183, 7184, 7185, 7186, 7187, 7188, 7189, 7190, 7191, 7192, 7193, 7194, 7195, 7196, 7197, 7198, 7199], 'n03272010': [7200, 7201, 7202, 7203, 7204, 7205, 7206, 7207, 7208, 7209, 7210, 7211, 7212, 7213, 7214, 7215, 7216, 7217, 7218, 7219, 7220, 7221, 7222, 7223, 7224, 7225, 7226, 7227, 7228, 7229, 7230, 7231, 7232, 7233, 7234, 7235, 7236, 7237, 7238, 7239, 7240, 7241, 7242, 7243, 7244, 7245, 7246, 7247, 7248, 7249, 7250, 7251, 7252, 7253, 7254, 7255, 7256, 7257, 7258, 7259, 7260, 7261, 7262, 7263, 7264, 7265, 7266, 7267, 7268, 7269, 7270, 7271, 7272, 7273, 7274, 7275, 7276, 7277, 7278, 7279, 7280, 7281, 7282, 7283, 7284, 7285, 7286, 7287, 7288, 7289, 7290, 7291, 7292, 7293, 7294, 7295, 7296, 7297, 7298, 7299, 7300, 7301, 7302, 7303, 7304, 7305, 7306, 7307, 7308, 7309, 7310, 7311, 7312, 7313, 7314, 7315, 7316, 7317, 7318, 7319, 7320, 7321, 7322, 7323, 7324, 7325, 7326, 7327, 7328, 7329, 7330, 7331, 7332, 7333, 7334, 7335, 7336, 7337, 7338, 7339, 7340, 7341, 7342, 7343, 7344, 7345, 7346, 7347, 7348, 7349, 7350, 7351, 7352, 7353, 7354, 7355, 7356, 7357, 7358, 7359, 7360, 7361, 7362, 7363, 7364, 7365, 7366, 7367, 7368, 7369, 7370, 7371, 7372, 7373, 7374, 7375, 7376, 7377, 7378, 7379, 7380, 7381, 7382, 7383, 7384, 7385, 7386, 7387, 7388, 7389, 7390, 7391, 7392, 7393, 7394, 7395, 7396, 7397, 7398, 7399, 7400, 7401, 7402, 7403, 7404, 7405, 7406, 7407, 7408, 7409, 7410, 7411, 7412, 7413, 7414, 7415, 7416, 7417, 7418, 7419, 7420, 7421, 7422, 7423, 7424, 7425, 7426, 7427, 7428, 7429, 7430, 7431, 7432, 7433, 7434, 7435, 7436, 7437, 7438, 7439, 7440, 7441, 7442, 7443, 7444, 7445, 7446, 7447, 7448, 7449, 7450, 7451, 7452, 7453, 7454, 7455, 7456, 7457, 7458, 7459, 7460, 7461, 7462, 7463, 7464, 7465, 7466, 7467, 7468, 7469, 7470, 7471, 7472, 7473, 7474, 7475, 7476, 7477, 7478, 7479, 7480, 7481, 7482, 7483, 7484, 7485, 7486, 7487, 7488, 7489, 7490, 7491, 7492, 7493, 7494, 7495, 7496, 7497, 7498, 7499, 7500, 7501, 7502, 7503, 7504, 7505, 7506, 7507, 7508, 7509, 7510, 7511, 7512, 7513, 7514, 7515, 7516, 7517, 7518, 7519, 7520, 7521, 7522, 7523, 7524, 7525, 7526, 7527, 7528, 7529, 7530, 7531, 7532, 7533, 7534, 7535, 7536, 7537, 7538, 7539, 7540, 7541, 7542, 7543, 7544, 7545, 7546, 7547, 7548, 7549, 7550, 7551, 7552, 7553, 7554, 7555, 7556, 7557, 7558, 7559, 7560, 7561, 7562, 7563, 7564, 7565, 7566, 7567, 7568, 7569, 7570, 7571, 7572, 7573, 7574, 7575, 7576, 7577, 7578, 7579, 7580, 7581, 7582, 7583, 7584, 7585, 7586, 7587, 7588, 7589, 7590, 7591, 7592, 7593, 7594, 7595, 7596, 7597, 7598, 7599, 7600, 7601, 7602, 7603, 7604, 7605, 7606, 7607, 7608, 7609, 7610, 7611, 7612, 7613, 7614, 7615, 7616, 7617, 7618, 7619, 7620, 7621, 7622, 7623, 7624, 7625, 7626, 7627, 7628, 7629, 7630, 7631, 7632, 7633, 7634, 7635, 7636, 7637, 7638, 7639, 7640, 7641, 7642, 7643, 7644, 7645, 7646, 7647, 7648, 7649, 7650, 7651, 7652, 7653, 7654, 7655, 7656, 7657, 7658, 7659, 7660, 7661, 7662, 7663, 7664, 7665, 7666, 7667, 7668, 7669, 7670, 7671, 7672, 7673, 7674, 7675, 7676, 7677, 7678, 7679, 7680, 7681, 7682, 7683, 7684, 7685, 7686, 7687, 7688, 7689, 7690, 7691, 7692, 7693, 7694, 7695, 7696, 7697, 7698, 7699, 7700, 7701, 7702, 7703, 7704, 7705, 7706, 7707, 7708, 7709, 7710, 7711, 7712, 7713, 7714, 7715, 7716, 7717, 7718, 7719, 7720, 7721, 7722, 7723, 7724, 7725, 7726, 7727, 7728, 7729, 7730, 7731, 7732, 7733, 7734, 7735, 7736, 7737, 7738, 7739, 7740, 7741, 7742, 7743, 7744, 7745, 7746, 7747, 7748, 7749, 7750, 7751, 7752, 7753, 7754, 7755, 7756, 7757, 7758, 7759, 7760, 7761, 7762, 7763, 7764, 7765, 7766, 7767, 7768, 7769, 7770, 7771, 7772, 7773, 7774, 7775, 7776, 7777, 7778, 7779, 7780, 7781, 7782, 7783, 7784, 7785, 7786, 7787, 7788, 7789, 7790, 7791, 7792, 7793, 7794, 7795, 7796, 7797, 7798, 7799], 'n03544143': [7800, 7801, 7802, 7803, 7804, 7805, 7806, 7807, 7808, 7809, 7810, 7811, 7812, 7813, 7814, 7815, 7816, 7817, 7818, 7819, 7820, 7821, 7822, 7823, 7824, 7825, 7826, 7827, 7828, 7829, 7830, 7831, 7832, 7833, 7834, 7835, 7836, 7837, 7838, 7839, 7840, 7841, 7842, 7843, 7844, 7845, 7846, 7847, 7848, 7849, 7850, 7851, 7852, 7853, 7854, 7855, 7856, 7857, 7858, 7859, 7860, 7861, 7862, 7863, 7864, 7865, 7866, 7867, 7868, 7869, 7870, 7871, 7872, 7873, 7874, 7875, 7876, 7877, 7878, 7879, 7880, 7881, 7882, 7883, 7884, 7885, 7886, 7887, 7888, 7889, 7890, 7891, 7892, 7893, 7894, 7895, 7896, 7897, 7898, 7899, 7900, 7901, 7902, 7903, 7904, 7905, 7906, 7907, 7908, 7909, 7910, 7911, 7912, 7913, 7914, 7915, 7916, 7917, 7918, 7919, 7920, 7921, 7922, 7923, 7924, 7925, 7926, 7927, 7928, 7929, 7930, 7931, 7932, 7933, 7934, 7935, 7936, 7937, 7938, 7939, 7940, 7941, 7942, 7943, 7944, 7945, 7946, 7947, 7948, 7949, 7950, 7951, 7952, 7953, 7954, 7955, 7956, 7957, 7958, 7959, 7960, 7961, 7962, 7963, 7964, 7965, 7966, 7967, 7968, 7969, 7970, 7971, 7972, 7973, 7974, 7975, 7976, 7977, 7978, 7979, 7980, 7981, 7982, 7983, 7984, 7985, 7986, 7987, 7988, 7989, 7990, 7991, 7992, 7993, 7994, 7995, 7996, 7997, 7998, 7999, 8000, 8001, 8002, 8003, 8004, 8005, 8006, 8007, 8008, 8009, 8010, 8011, 8012, 8013, 8014, 8015, 8016, 8017, 8018, 8019, 8020, 8021, 8022, 8023, 8024, 8025, 8026, 8027, 8028, 8029, 8030, 8031, 8032, 8033, 8034, 8035, 8036, 8037, 8038, 8039, 8040, 8041, 8042, 8043, 8044, 8045, 8046, 8047, 8048, 8049, 8050, 8051, 8052, 8053, 8054, 8055, 8056, 8057, 8058, 8059, 8060, 8061, 8062, 8063, 8064, 8065, 8066, 8067, 8068, 8069, 8070, 8071, 8072, 8073, 8074, 8075, 8076, 8077, 8078, 8079, 8080, 8081, 8082, 8083, 8084, 8085, 8086, 8087, 8088, 8089, 8090, 8091, 8092, 8093, 8094, 8095, 8096, 8097, 8098, 8099, 8100, 8101, 8102, 8103, 8104, 8105, 8106, 8107, 8108, 8109, 8110, 8111, 8112, 8113, 8114, 8115, 8116, 8117, 8118, 8119, 8120, 8121, 8122, 8123, 8124, 8125, 8126, 8127, 8128, 8129, 8130, 8131, 8132, 8133, 8134, 8135, 8136, 8137, 8138, 8139, 8140, 8141, 8142, 8143, 8144, 8145, 8146, 8147, 8148, 8149, 8150, 8151, 8152, 8153, 8154, 8155, 8156, 8157, 8158, 8159, 8160, 8161, 8162, 8163, 8164, 8165, 8166, 8167, 8168, 8169, 8170, 8171, 8172, 8173, 8174, 8175, 8176, 8177, 8178, 8179, 8180, 8181, 8182, 8183, 8184, 8185, 8186, 8187, 8188, 8189, 8190, 8191, 8192, 8193, 8194, 8195, 8196, 8197, 8198, 8199, 8200, 8201, 8202, 8203, 8204, 8205, 8206, 8207, 8208, 8209, 8210, 8211, 8212, 8213, 8214, 8215, 8216, 8217, 8218, 8219, 8220, 8221, 8222, 8223, 8224, 8225, 8226, 8227, 8228, 8229, 8230, 8231, 8232, 8233, 8234, 8235, 8236, 8237, 8238, 8239, 8240, 8241, 8242, 8243, 8244, 8245, 8246, 8247, 8248, 8249, 8250, 8251, 8252, 8253, 8254, 8255, 8256, 8257, 8258, 8259, 8260, 8261, 8262, 8263, 8264, 8265, 8266, 8267, 8268, 8269, 8270, 8271, 8272, 8273, 8274, 8275, 8276, 8277, 8278, 8279, 8280, 8281, 8282, 8283, 8284, 8285, 8286, 8287, 8288, 8289, 8290, 8291, 8292, 8293, 8294, 8295, 8296, 8297, 8298, 8299, 8300, 8301, 8302, 8303, 8304, 8305, 8306, 8307, 8308, 8309, 8310, 8311, 8312, 8313, 8314, 8315, 8316, 8317, 8318, 8319, 8320, 8321, 8322, 8323, 8324, 8325, 8326, 8327, 8328, 8329, 8330, 8331, 8332, 8333, 8334, 8335, 8336, 8337, 8338, 8339, 8340, 8341, 8342, 8343, 8344, 8345, 8346, 8347, 8348, 8349, 8350, 8351, 8352, 8353, 8354, 8355, 8356, 8357, 8358, 8359, 8360, 8361, 8362, 8363, 8364, 8365, 8366, 8367, 8368, 8369, 8370, 8371, 8372, 8373, 8374, 8375, 8376, 8377, 8378, 8379, 8380, 8381, 8382, 8383, 8384, 8385, 8386, 8387, 8388, 8389, 8390, 8391, 8392, 8393, 8394, 8395, 8396, 8397, 8398, 8399], 'n03775546': [8400, 8401, 8402, 8403, 8404, 8405, 8406, 8407, 8408, 8409, 8410, 8411, 8412, 8413, 8414, 8415, 8416, 8417, 8418, 8419, 8420, 8421, 8422, 8423, 8424, 8425, 8426, 8427, 8428, 8429, 8430, 8431, 8432, 8433, 8434, 8435, 8436, 8437, 8438, 8439, 8440, 8441, 8442, 8443, 8444, 8445, 8446, 8447, 8448, 8449, 8450, 8451, 8452, 8453, 8454, 8455, 8456, 8457, 8458, 8459, 8460, 8461, 8462, 8463, 8464, 8465, 8466, 8467, 8468, 8469, 8470, 8471, 8472, 8473, 8474, 8475, 8476, 8477, 8478, 8479, 8480, 8481, 8482, 8483, 8484, 8485, 8486, 8487, 8488, 8489, 8490, 8491, 8492, 8493, 8494, 8495, 8496, 8497, 8498, 8499, 8500, 8501, 8502, 8503, 8504, 8505, 8506, 8507, 8508, 8509, 8510, 8511, 8512, 8513, 8514, 8515, 8516, 8517, 8518, 8519, 8520, 8521, 8522, 8523, 8524, 8525, 8526, 8527, 8528, 8529, 8530, 8531, 8532, 8533, 8534, 8535, 8536, 8537, 8538, 8539, 8540, 8541, 8542, 8543, 8544, 8545, 8546, 8547, 8548, 8549, 8550, 8551, 8552, 8553, 8554, 8555, 8556, 8557, 8558, 8559, 8560, 8561, 8562, 8563, 8564, 8565, 8566, 8567, 8568, 8569, 8570, 8571, 8572, 8573, 8574, 8575, 8576, 8577, 8578, 8579, 8580, 8581, 8582, 8583, 8584, 8585, 8586, 8587, 8588, 8589, 8590, 8591, 8592, 8593, 8594, 8595, 8596, 8597, 8598, 8599, 8600, 8601, 8602, 8603, 8604, 8605, 8606, 8607, 8608, 8609, 8610, 8611, 8612, 8613, 8614, 8615, 8616, 8617, 8618, 8619, 8620, 8621, 8622, 8623, 8624, 8625, 8626, 8627, 8628, 8629, 8630, 8631, 8632, 8633, 8634, 8635, 8636, 8637, 8638, 8639, 8640, 8641, 8642, 8643, 8644, 8645, 8646, 8647, 8648, 8649, 8650, 8651, 8652, 8653, 8654, 8655, 8656, 8657, 8658, 8659, 8660, 8661, 8662, 8663, 8664, 8665, 8666, 8667, 8668, 8669, 8670, 8671, 8672, 8673, 8674, 8675, 8676, 8677, 8678, 8679, 8680, 8681, 8682, 8683, 8684, 8685, 8686, 8687, 8688, 8689, 8690, 8691, 8692, 8693, 8694, 8695, 8696, 8697, 8698, 8699, 8700, 8701, 8702, 8703, 8704, 8705, 8706, 8707, 8708, 8709, 8710, 8711, 8712, 8713, 8714, 8715, 8716, 8717, 8718, 8719, 8720, 8721, 8722, 8723, 8724, 8725, 8726, 8727, 8728, 8729, 8730, 8731, 8732, 8733, 8734, 8735, 8736, 8737, 8738, 8739, 8740, 8741, 8742, 8743, 8744, 8745, 8746, 8747, 8748, 8749, 8750, 8751, 8752, 8753, 8754, 8755, 8756, 8757, 8758, 8759, 8760, 8761, 8762, 8763, 8764, 8765, 8766, 8767, 8768, 8769, 8770, 8771, 8772, 8773, 8774, 8775, 8776, 8777, 8778, 8779, 8780, 8781, 8782, 8783, 8784, 8785, 8786, 8787, 8788, 8789, 8790, 8791, 8792, 8793, 8794, 8795, 8796, 8797, 8798, 8799, 8800, 8801, 8802, 8803, 8804, 8805, 8806, 8807, 8808, 8809, 8810, 8811, 8812, 8813, 8814, 8815, 8816, 8817, 8818, 8819, 8820, 8821, 8822, 8823, 8824, 8825, 8826, 8827, 8828, 8829, 8830, 8831, 8832, 8833, 8834, 8835, 8836, 8837, 8838, 8839, 8840, 8841, 8842, 8843, 8844, 8845, 8846, 8847, 8848, 8849, 8850, 8851, 8852, 8853, 8854, 8855, 8856, 8857, 8858, 8859, 8860, 8861, 8862, 8863, 8864, 8865, 8866, 8867, 8868, 8869, 8870, 8871, 8872, 8873, 8874, 8875, 8876, 8877, 8878, 8879, 8880, 8881, 8882, 8883, 8884, 8885, 8886, 8887, 8888, 8889, 8890, 8891, 8892, 8893, 8894, 8895, 8896, 8897, 8898, 8899, 8900, 8901, 8902, 8903, 8904, 8905, 8906, 8907, 8908, 8909, 8910, 8911, 8912, 8913, 8914, 8915, 8916, 8917, 8918, 8919, 8920, 8921, 8922, 8923, 8924, 8925, 8926, 8927, 8928, 8929, 8930, 8931, 8932, 8933, 8934, 8935, 8936, 8937, 8938, 8939, 8940, 8941, 8942, 8943, 8944, 8945, 8946, 8947, 8948, 8949, 8950, 8951, 8952, 8953, 8954, 8955, 8956, 8957, 8958, 8959, 8960, 8961, 8962, 8963, 8964, 8965, 8966, 8967, 8968, 8969, 8970, 8971, 8972, 8973, 8974, 8975, 8976, 8977, 8978, 8979, 8980, 8981, 8982, 8983, 8984, 8985, 8986, 8987, 8988, 8989, 8990, 8991, 8992, 8993, 8994, 8995, 8996, 8997, 8998, 8999], 'n04146614': [9000, 9001, 9002, 9003, 9004, 9005, 9006, 9007, 9008, 9009, 9010, 9011, 9012, 9013, 9014, 9015, 9016, 9017, 9018, 9019, 9020, 9021, 9022, 9023, 9024, 9025, 9026, 9027, 9028, 9029, 9030, 9031, 9032, 9033, 9034, 9035, 9036, 9037, 9038, 9039, 9040, 9041, 9042, 9043, 9044, 9045, 9046, 9047, 9048, 9049, 9050, 9051, 9052, 9053, 9054, 9055, 9056, 9057, 9058, 9059, 9060, 9061, 9062, 9063, 9064, 9065, 9066, 9067, 9068, 9069, 9070, 9071, 9072, 9073, 9074, 9075, 9076, 9077, 9078, 9079, 9080, 9081, 9082, 9083, 9084, 9085, 9086, 9087, 9088, 9089, 9090, 9091, 9092, 9093, 9094, 9095, 9096, 9097, 9098, 9099, 9100, 9101, 9102, 9103, 9104, 9105, 9106, 9107, 9108, 9109, 9110, 9111, 9112, 9113, 9114, 9115, 9116, 9117, 9118, 9119, 9120, 9121, 9122, 9123, 9124, 9125, 9126, 9127, 9128, 9129, 9130, 9131, 9132, 9133, 9134, 9135, 9136, 9137, 9138, 9139, 9140, 9141, 9142, 9143, 9144, 9145, 9146, 9147, 9148, 9149, 9150, 9151, 9152, 9153, 9154, 9155, 9156, 9157, 9158, 9159, 9160, 9161, 9162, 9163, 9164, 9165, 9166, 9167, 9168, 9169, 9170, 9171, 9172, 9173, 9174, 9175, 9176, 9177, 9178, 9179, 9180, 9181, 9182, 9183, 9184, 9185, 9186, 9187, 9188, 9189, 9190, 9191, 9192, 9193, 9194, 9195, 9196, 9197, 9198, 9199, 9200, 9201, 9202, 9203, 9204, 9205, 9206, 9207, 9208, 9209, 9210, 9211, 9212, 9213, 9214, 9215, 9216, 9217, 9218, 9219, 9220, 9221, 9222, 9223, 9224, 9225, 9226, 9227, 9228, 9229, 9230, 9231, 9232, 9233, 9234, 9235, 9236, 9237, 9238, 9239, 9240, 9241, 9242, 9243, 9244, 9245, 9246, 9247, 9248, 9249, 9250, 9251, 9252, 9253, 9254, 9255, 9256, 9257, 9258, 9259, 9260, 9261, 9262, 9263, 9264, 9265, 9266, 9267, 9268, 9269, 9270, 9271, 9272, 9273, 9274, 9275, 9276, 9277, 9278, 9279, 9280, 9281, 9282, 9283, 9284, 9285, 9286, 9287, 9288, 9289, 9290, 9291, 9292, 9293, 9294, 9295, 9296, 9297, 9298, 9299, 9300, 9301, 9302, 9303, 9304, 9305, 9306, 9307, 9308, 9309, 9310, 9311, 9312, 9313, 9314, 9315, 9316, 9317, 9318, 9319, 9320, 9321, 9322, 9323, 9324, 9325, 9326, 9327, 9328, 9329, 9330, 9331, 9332, 9333, 9334, 9335, 9336, 9337, 9338, 9339, 9340, 9341, 9342, 9343, 9344, 9345, 9346, 9347, 9348, 9349, 9350, 9351, 9352, 9353, 9354, 9355, 9356, 9357, 9358, 9359, 9360, 9361, 9362, 9363, 9364, 9365, 9366, 9367, 9368, 9369, 9370, 9371, 9372, 9373, 9374, 9375, 9376, 9377, 9378, 9379, 9380, 9381, 9382, 9383, 9384, 9385, 9386, 9387, 9388, 9389, 9390, 9391, 9392, 9393, 9394, 9395, 9396, 9397, 9398, 9399, 9400, 9401, 9402, 9403, 9404, 9405, 9406, 9407, 9408, 9409, 9410, 9411, 9412, 9413, 9414, 9415, 9416, 9417, 9418, 9419, 9420, 9421, 9422, 9423, 9424, 9425, 9426, 9427, 9428, 9429, 9430, 9431, 9432, 9433, 9434, 9435, 9436, 9437, 9438, 9439, 9440, 9441, 9442, 9443, 9444, 9445, 9446, 9447, 9448, 9449, 9450, 9451, 9452, 9453, 9454, 9455, 9456, 9457, 9458, 9459, 9460, 9461, 9462, 9463, 9464, 9465, 9466, 9467, 9468, 9469, 9470, 9471, 9472, 9473, 9474, 9475, 9476, 9477, 9478, 9479, 9480, 9481, 9482, 9483, 9484, 9485, 9486, 9487, 9488, 9489, 9490, 9491, 9492, 9493, 9494, 9495, 9496, 9497, 9498, 9499, 9500, 9501, 9502, 9503, 9504, 9505, 9506, 9507, 9508, 9509, 9510, 9511, 9512, 9513, 9514, 9515, 9516, 9517, 9518, 9519, 9520, 9521, 9522, 9523, 9524, 9525, 9526, 9527, 9528, 9529, 9530, 9531, 9532, 9533, 9534, 9535, 9536, 9537, 9538, 9539, 9540, 9541, 9542, 9543, 9544, 9545, 9546, 9547, 9548, 9549, 9550, 9551, 9552, 9553, 9554, 9555, 9556, 9557, 9558, 9559, 9560, 9561, 9562, 9563, 9564, 9565, 9566, 9567, 9568, 9569, 9570, 9571, 9572, 9573, 9574, 9575, 9576, 9577, 9578, 9579, 9580, 9581, 9582, 9583, 9584, 9585, 9586, 9587, 9588, 9589, 9590, 9591, 9592, 9593, 9594, 9595, 9596, 9597, 9598, 9599], 'n04149813': [9600, 9601, 9602, 9603, 9604, 9605, 9606, 9607, 9608, 9609, 9610, 9611, 9612, 9613, 9614, 9615, 9616, 9617, 9618, 9619, 9620, 9621, 9622, 9623, 9624, 9625, 9626, 9627, 9628, 9629, 9630, 9631, 9632, 9633, 9634, 9635, 9636, 9637, 9638, 9639, 9640, 9641, 9642, 9643, 9644, 9645, 9646, 9647, 9648, 9649, 9650, 9651, 9652, 9653, 9654, 9655, 9656, 9657, 9658, 9659, 9660, 9661, 9662, 9663, 9664, 9665, 9666, 9667, 9668, 9669, 9670, 9671, 9672, 9673, 9674, 9675, 9676, 9677, 9678, 9679, 9680, 9681, 9682, 9683, 9684, 9685, 9686, 9687, 9688, 9689, 9690, 9691, 9692, 9693, 9694, 9695, 9696, 9697, 9698, 9699, 9700, 9701, 9702, 9703, 9704, 9705, 9706, 9707, 9708, 9709, 9710, 9711, 9712, 9713, 9714, 9715, 9716, 9717, 9718, 9719, 9720, 9721, 9722, 9723, 9724, 9725, 9726, 9727, 9728, 9729, 9730, 9731, 9732, 9733, 9734, 9735, 9736, 9737, 9738, 9739, 9740, 9741, 9742, 9743, 9744, 9745, 9746, 9747, 9748, 9749, 9750, 9751, 9752, 9753, 9754, 9755, 9756, 9757, 9758, 9759, 9760, 9761, 9762, 9763, 9764, 9765, 9766, 9767, 9768, 9769, 9770, 9771, 9772, 9773, 9774, 9775, 9776, 9777, 9778, 9779, 9780, 9781, 9782, 9783, 9784, 9785, 9786, 9787, 9788, 9789, 9790, 9791, 9792, 9793, 9794, 9795, 9796, 9797, 9798, 9799, 9800, 9801, 9802, 9803, 9804, 9805, 9806, 9807, 9808, 9809, 9810, 9811, 9812, 9813, 9814, 9815, 9816, 9817, 9818, 9819, 9820, 9821, 9822, 9823, 9824, 9825, 9826, 9827, 9828, 9829, 9830, 9831, 9832, 9833, 9834, 9835, 9836, 9837, 9838, 9839, 9840, 9841, 9842, 9843, 9844, 9845, 9846, 9847, 9848, 9849, 9850, 9851, 9852, 9853, 9854, 9855, 9856, 9857, 9858, 9859, 9860, 9861, 9862, 9863, 9864, 9865, 9866, 9867, 9868, 9869, 9870, 9871, 9872, 9873, 9874, 9875, 9876, 9877, 9878, 9879, 9880, 9881, 9882, 9883, 9884, 9885, 9886, 9887, 9888, 9889, 9890, 9891, 9892, 9893, 9894, 9895, 9896, 9897, 9898, 9899, 9900, 9901, 9902, 9903, 9904, 9905, 9906, 9907, 9908, 9909, 9910, 9911, 9912, 9913, 9914, 9915, 9916, 9917, 9918, 9919, 9920, 9921, 9922, 9923, 9924, 9925, 9926, 9927, 9928, 9929, 9930, 9931, 9932, 9933, 9934, 9935, 9936, 9937, 9938, 9939, 9940, 9941, 9942, 9943, 9944, 9945, 9946, 9947, 9948, 9949, 9950, 9951, 9952, 9953, 9954, 9955, 9956, 9957, 9958, 9959, 9960, 9961, 9962, 9963, 9964, 9965, 9966, 9967, 9968, 9969, 9970, 9971, 9972, 9973, 9974, 9975, 9976, 9977, 9978, 9979, 9980, 9981, 9982, 9983, 9984, 9985, 9986, 9987, 9988, 9989, 9990, 9991, 9992, 9993, 9994, 9995, 9996, 9997, 9998, 9999, 10000, 10001, 10002, 10003, 10004, 10005, 10006, 10007, 10008, 10009, 10010, 10011, 10012, 10013, 10014, 10015, 10016, 10017, 10018, 10019, 10020, 10021, 10022, 10023, 10024, 10025, 10026, 10027, 10028, 10029, 10030, 10031, 10032, 10033, 10034, 10035, 10036, 10037, 10038, 10039, 10040, 10041, 10042, 10043, 10044, 10045, 10046, 10047, 10048, 10049, 10050, 10051, 10052, 10053, 10054, 10055, 10056, 10057, 10058, 10059, 10060, 10061, 10062, 10063, 10064, 10065, 10066, 10067, 10068, 10069, 10070, 10071, 10072, 10073, 10074, 10075, 10076, 10077, 10078, 10079, 10080, 10081, 10082, 10083, 10084, 10085, 10086, 10087, 10088, 10089, 10090, 10091, 10092, 10093, 10094, 10095, 10096, 10097, 10098, 10099, 10100, 10101, 10102, 10103, 10104, 10105, 10106, 10107, 10108, 10109, 10110, 10111, 10112, 10113, 10114, 10115, 10116, 10117, 10118, 10119, 10120, 10121, 10122, 10123, 10124, 10125, 10126, 10127, 10128, 10129, 10130, 10131, 10132, 10133, 10134, 10135, 10136, 10137, 10138, 10139, 10140, 10141, 10142, 10143, 10144, 10145, 10146, 10147, 10148, 10149, 10150, 10151, 10152, 10153, 10154, 10155, 10156, 10157, 10158, 10159, 10160, 10161, 10162, 10163, 10164, 10165, 10166, 10167, 10168, 10169, 10170, 10171, 10172, 10173, 10174, 10175, 10176, 10177, 10178, 10179, 10180, 10181, 10182, 10183, 10184, 10185, 10186, 10187, 10188, 10189, 10190, 10191, 10192, 10193, 10194, 10195, 10196, 10197, 10198, 10199], 'n04418357': [10200, 10201, 10202, 10203, 10204, 10205, 10206, 10207, 10208, 10209, 10210, 10211, 10212, 10213, 10214, 10215, 10216, 10217, 10218, 10219, 10220, 10221, 10222, 10223, 10224, 10225, 10226, 10227, 10228, 10229, 10230, 10231, 10232, 10233, 10234, 10235, 10236, 10237, 10238, 10239, 10240, 10241, 10242, 10243, 10244, 10245, 10246, 10247, 10248, 10249, 10250, 10251, 10252, 10253, 10254, 10255, 10256, 10257, 10258, 10259, 10260, 10261, 10262, 10263, 10264, 10265, 10266, 10267, 10268, 10269, 10270, 10271, 10272, 10273, 10274, 10275, 10276, 10277, 10278, 10279, 10280, 10281, 10282, 10283, 10284, 10285, 10286, 10287, 10288, 10289, 10290, 10291, 10292, 10293, 10294, 10295, 10296, 10297, 10298, 10299, 10300, 10301, 10302, 10303, 10304, 10305, 10306, 10307, 10308, 10309, 10310, 10311, 10312, 10313, 10314, 10315, 10316, 10317, 10318, 10319, 10320, 10321, 10322, 10323, 10324, 10325, 10326, 10327, 10328, 10329, 10330, 10331, 10332, 10333, 10334, 10335, 10336, 10337, 10338, 10339, 10340, 10341, 10342, 10343, 10344, 10345, 10346, 10347, 10348, 10349, 10350, 10351, 10352, 10353, 10354, 10355, 10356, 10357, 10358, 10359, 10360, 10361, 10362, 10363, 10364, 10365, 10366, 10367, 10368, 10369, 10370, 10371, 10372, 10373, 10374, 10375, 10376, 10377, 10378, 10379, 10380, 10381, 10382, 10383, 10384, 10385, 10386, 10387, 10388, 10389, 10390, 10391, 10392, 10393, 10394, 10395, 10396, 10397, 10398, 10399, 10400, 10401, 10402, 10403, 10404, 10405, 10406, 10407, 10408, 10409, 10410, 10411, 10412, 10413, 10414, 10415, 10416, 10417, 10418, 10419, 10420, 10421, 10422, 10423, 10424, 10425, 10426, 10427, 10428, 10429, 10430, 10431, 10432, 10433, 10434, 10435, 10436, 10437, 10438, 10439, 10440, 10441, 10442, 10443, 10444, 10445, 10446, 10447, 10448, 10449, 10450, 10451, 10452, 10453, 10454, 10455, 10456, 10457, 10458, 10459, 10460, 10461, 10462, 10463, 10464, 10465, 10466, 10467, 10468, 10469, 10470, 10471, 10472, 10473, 10474, 10475, 10476, 10477, 10478, 10479, 10480, 10481, 10482, 10483, 10484, 10485, 10486, 10487, 10488, 10489, 10490, 10491, 10492, 10493, 10494, 10495, 10496, 10497, 10498, 10499, 10500, 10501, 10502, 10503, 10504, 10505, 10506, 10507, 10508, 10509, 10510, 10511, 10512, 10513, 10514, 10515, 10516, 10517, 10518, 10519, 10520, 10521, 10522, 10523, 10524, 10525, 10526, 10527, 10528, 10529, 10530, 10531, 10532, 10533, 10534, 10535, 10536, 10537, 10538, 10539, 10540, 10541, 10542, 10543, 10544, 10545, 10546, 10547, 10548, 10549, 10550, 10551, 10552, 10553, 10554, 10555, 10556, 10557, 10558, 10559, 10560, 10561, 10562, 10563, 10564, 10565, 10566, 10567, 10568, 10569, 10570, 10571, 10572, 10573, 10574, 10575, 10576, 10577, 10578, 10579, 10580, 10581, 10582, 10583, 10584, 10585, 10586, 10587, 10588, 10589, 10590, 10591, 10592, 10593, 10594, 10595, 10596, 10597, 10598, 10599, 10600, 10601, 10602, 10603, 10604, 10605, 10606, 10607, 10608, 10609, 10610, 10611, 10612, 10613, 10614, 10615, 10616, 10617, 10618, 10619, 10620, 10621, 10622, 10623, 10624, 10625, 10626, 10627, 10628, 10629, 10630, 10631, 10632, 10633, 10634, 10635, 10636, 10637, 10638, 10639, 10640, 10641, 10642, 10643, 10644, 10645, 10646, 10647, 10648, 10649, 10650, 10651, 10652, 10653, 10654, 10655, 10656, 10657, 10658, 10659, 10660, 10661, 10662, 10663, 10664, 10665, 10666, 10667, 10668, 10669, 10670, 10671, 10672, 10673, 10674, 10675, 10676, 10677, 10678, 10679, 10680, 10681, 10682, 10683, 10684, 10685, 10686, 10687, 10688, 10689, 10690, 10691, 10692, 10693, 10694, 10695, 10696, 10697, 10698, 10699, 10700, 10701, 10702, 10703, 10704, 10705, 10706, 10707, 10708, 10709, 10710, 10711, 10712, 10713, 10714, 10715, 10716, 10717, 10718, 10719, 10720, 10721, 10722, 10723, 10724, 10725, 10726, 10727, 10728, 10729, 10730, 10731, 10732, 10733, 10734, 10735, 10736, 10737, 10738, 10739, 10740, 10741, 10742, 10743, 10744, 10745, 10746, 10747, 10748, 10749, 10750, 10751, 10752, 10753, 10754, 10755, 10756, 10757, 10758, 10759, 10760, 10761, 10762, 10763, 10764, 10765, 10766, 10767, 10768, 10769, 10770, 10771, 10772, 10773, 10774, 10775, 10776, 10777, 10778, 10779, 10780, 10781, 10782, 10783, 10784, 10785, 10786, 10787, 10788, 10789, 10790, 10791, 10792, 10793, 10794, 10795, 10796, 10797, 10798, 10799], 'n04522168': [10800, 10801, 10802, 10803, 10804, 10805, 10806, 10807, 10808, 10809, 10810, 10811, 10812, 10813, 10814, 10815, 10816, 10817, 10818, 10819, 10820, 10821, 10822, 10823, 10824, 10825, 10826, 10827, 10828, 10829, 10830, 10831, 10832, 10833, 10834, 10835, 10836, 10837, 10838, 10839, 10840, 10841, 10842, 10843, 10844, 10845, 10846, 10847, 10848, 10849, 10850, 10851, 10852, 10853, 10854, 10855, 10856, 10857, 10858, 10859, 10860, 10861, 10862, 10863, 10864, 10865, 10866, 10867, 10868, 10869, 10870, 10871, 10872, 10873, 10874, 10875, 10876, 10877, 10878, 10879, 10880, 10881, 10882, 10883, 10884, 10885, 10886, 10887, 10888, 10889, 10890, 10891, 10892, 10893, 10894, 10895, 10896, 10897, 10898, 10899, 10900, 10901, 10902, 10903, 10904, 10905, 10906, 10907, 10908, 10909, 10910, 10911, 10912, 10913, 10914, 10915, 10916, 10917, 10918, 10919, 10920, 10921, 10922, 10923, 10924, 10925, 10926, 10927, 10928, 10929, 10930, 10931, 10932, 10933, 10934, 10935, 10936, 10937, 10938, 10939, 10940, 10941, 10942, 10943, 10944, 10945, 10946, 10947, 10948, 10949, 10950, 10951, 10952, 10953, 10954, 10955, 10956, 10957, 10958, 10959, 10960, 10961, 10962, 10963, 10964, 10965, 10966, 10967, 10968, 10969, 10970, 10971, 10972, 10973, 10974, 10975, 10976, 10977, 10978, 10979, 10980, 10981, 10982, 10983, 10984, 10985, 10986, 10987, 10988, 10989, 10990, 10991, 10992, 10993, 10994, 10995, 10996, 10997, 10998, 10999, 11000, 11001, 11002, 11003, 11004, 11005, 11006, 11007, 11008, 11009, 11010, 11011, 11012, 11013, 11014, 11015, 11016, 11017, 11018, 11019, 11020, 11021, 11022, 11023, 11024, 11025, 11026, 11027, 11028, 11029, 11030, 11031, 11032, 11033, 11034, 11035, 11036, 11037, 11038, 11039, 11040, 11041, 11042, 11043, 11044, 11045, 11046, 11047, 11048, 11049, 11050, 11051, 11052, 11053, 11054, 11055, 11056, 11057, 11058, 11059, 11060, 11061, 11062, 11063, 11064, 11065, 11066, 11067, 11068, 11069, 11070, 11071, 11072, 11073, 11074, 11075, 11076, 11077, 11078, 11079, 11080, 11081, 11082, 11083, 11084, 11085, 11086, 11087, 11088, 11089, 11090, 11091, 11092, 11093, 11094, 11095, 11096, 11097, 11098, 11099, 11100, 11101, 11102, 11103, 11104, 11105, 11106, 11107, 11108, 11109, 11110, 11111, 11112, 11113, 11114, 11115, 11116, 11117, 11118, 11119, 11120, 11121, 11122, 11123, 11124, 11125, 11126, 11127, 11128, 11129, 11130, 11131, 11132, 11133, 11134, 11135, 11136, 11137, 11138, 11139, 11140, 11141, 11142, 11143, 11144, 11145, 11146, 11147, 11148, 11149, 11150, 11151, 11152, 11153, 11154, 11155, 11156, 11157, 11158, 11159, 11160, 11161, 11162, 11163, 11164, 11165, 11166, 11167, 11168, 11169, 11170, 11171, 11172, 11173, 11174, 11175, 11176, 11177, 11178, 11179, 11180, 11181, 11182, 11183, 11184, 11185, 11186, 11187, 11188, 11189, 11190, 11191, 11192, 11193, 11194, 11195, 11196, 11197, 11198, 11199, 11200, 11201, 11202, 11203, 11204, 11205, 11206, 11207, 11208, 11209, 11210, 11211, 11212, 11213, 11214, 11215, 11216, 11217, 11218, 11219, 11220, 11221, 11222, 11223, 11224, 11225, 11226, 11227, 11228, 11229, 11230, 11231, 11232, 11233, 11234, 11235, 11236, 11237, 11238, 11239, 11240, 11241, 11242, 11243, 11244, 11245, 11246, 11247, 11248, 11249, 11250, 11251, 11252, 11253, 11254, 11255, 11256, 11257, 11258, 11259, 11260, 11261, 11262, 11263, 11264, 11265, 11266, 11267, 11268, 11269, 11270, 11271, 11272, 11273, 11274, 11275, 11276, 11277, 11278, 11279, 11280, 11281, 11282, 11283, 11284, 11285, 11286, 11287, 11288, 11289, 11290, 11291, 11292, 11293, 11294, 11295, 11296, 11297, 11298, 11299, 11300, 11301, 11302, 11303, 11304, 11305, 11306, 11307, 11308, 11309, 11310, 11311, 11312, 11313, 11314, 11315, 11316, 11317, 11318, 11319, 11320, 11321, 11322, 11323, 11324, 11325, 11326, 11327, 11328, 11329, 11330, 11331, 11332, 11333, 11334, 11335, 11336, 11337, 11338, 11339, 11340, 11341, 11342, 11343, 11344, 11345, 11346, 11347, 11348, 11349, 11350, 11351, 11352, 11353, 11354, 11355, 11356, 11357, 11358, 11359, 11360, 11361, 11362, 11363, 11364, 11365, 11366, 11367, 11368, 11369, 11370, 11371, 11372, 11373, 11374, 11375, 11376, 11377, 11378, 11379, 11380, 11381, 11382, 11383, 11384, 11385, 11386, 11387, 11388, 11389, 11390, 11391, 11392, 11393, 11394, 11395, 11396, 11397, 11398, 11399], 'n07613480': [11400, 11401, 11402, 11403, 11404, 11405, 11406, 11407, 11408, 11409, 11410, 11411, 11412, 11413, 11414, 11415, 11416, 11417, 11418, 11419, 11420, 11421, 11422, 11423, 11424, 11425, 11426, 11427, 11428, 11429, 11430, 11431, 11432, 11433, 11434, 11435, 11436, 11437, 11438, 11439, 11440, 11441, 11442, 11443, 11444, 11445, 11446, 11447, 11448, 11449, 11450, 11451, 11452, 11453, 11454, 11455, 11456, 11457, 11458, 11459, 11460, 11461, 11462, 11463, 11464, 11465, 11466, 11467, 11468, 11469, 11470, 11471, 11472, 11473, 11474, 11475, 11476, 11477, 11478, 11479, 11480, 11481, 11482, 11483, 11484, 11485, 11486, 11487, 11488, 11489, 11490, 11491, 11492, 11493, 11494, 11495, 11496, 11497, 11498, 11499, 11500, 11501, 11502, 11503, 11504, 11505, 11506, 11507, 11508, 11509, 11510, 11511, 11512, 11513, 11514, 11515, 11516, 11517, 11518, 11519, 11520, 11521, 11522, 11523, 11524, 11525, 11526, 11527, 11528, 11529, 11530, 11531, 11532, 11533, 11534, 11535, 11536, 11537, 11538, 11539, 11540, 11541, 11542, 11543, 11544, 11545, 11546, 11547, 11548, 11549, 11550, 11551, 11552, 11553, 11554, 11555, 11556, 11557, 11558, 11559, 11560, 11561, 11562, 11563, 11564, 11565, 11566, 11567, 11568, 11569, 11570, 11571, 11572, 11573, 11574, 11575, 11576, 11577, 11578, 11579, 11580, 11581, 11582, 11583, 11584, 11585, 11586, 11587, 11588, 11589, 11590, 11591, 11592, 11593, 11594, 11595, 11596, 11597, 11598, 11599, 11600, 11601, 11602, 11603, 11604, 11605, 11606, 11607, 11608, 11609, 11610, 11611, 11612, 11613, 11614, 11615, 11616, 11617, 11618, 11619, 11620, 11621, 11622, 11623, 11624, 11625, 11626, 11627, 11628, 11629, 11630, 11631, 11632, 11633, 11634, 11635, 11636, 11637, 11638, 11639, 11640, 11641, 11642, 11643, 11644, 11645, 11646, 11647, 11648, 11649, 11650, 11651, 11652, 11653, 11654, 11655, 11656, 11657, 11658, 11659, 11660, 11661, 11662, 11663, 11664, 11665, 11666, 11667, 11668, 11669, 11670, 11671, 11672, 11673, 11674, 11675, 11676, 11677, 11678, 11679, 11680, 11681, 11682, 11683, 11684, 11685, 11686, 11687, 11688, 11689, 11690, 11691, 11692, 11693, 11694, 11695, 11696, 11697, 11698, 11699, 11700, 11701, 11702, 11703, 11704, 11705, 11706, 11707, 11708, 11709, 11710, 11711, 11712, 11713, 11714, 11715, 11716, 11717, 11718, 11719, 11720, 11721, 11722, 11723, 11724, 11725, 11726, 11727, 11728, 11729, 11730, 11731, 11732, 11733, 11734, 11735, 11736, 11737, 11738, 11739, 11740, 11741, 11742, 11743, 11744, 11745, 11746, 11747, 11748, 11749, 11750, 11751, 11752, 11753, 11754, 11755, 11756, 11757, 11758, 11759, 11760, 11761, 11762, 11763, 11764, 11765, 11766, 11767, 11768, 11769, 11770, 11771, 11772, 11773, 11774, 11775, 11776, 11777, 11778, 11779, 11780, 11781, 11782, 11783, 11784, 11785, 11786, 11787, 11788, 11789, 11790, 11791, 11792, 11793, 11794, 11795, 11796, 11797, 11798, 11799, 11800, 11801, 11802, 11803, 11804, 11805, 11806, 11807, 11808, 11809, 11810, 11811, 11812, 11813, 11814, 11815, 11816, 11817, 11818, 11819, 11820, 11821, 11822, 11823, 11824, 11825, 11826, 11827, 11828, 11829, 11830, 11831, 11832, 11833, 11834, 11835, 11836, 11837, 11838, 11839, 11840, 11841, 11842, 11843, 11844, 11845, 11846, 11847, 11848, 11849, 11850, 11851, 11852, 11853, 11854, 11855, 11856, 11857, 11858, 11859, 11860, 11861, 11862, 11863, 11864, 11865, 11866, 11867, 11868, 11869, 11870, 11871, 11872, 11873, 11874, 11875, 11876, 11877, 11878, 11879, 11880, 11881, 11882, 11883, 11884, 11885, 11886, 11887, 11888, 11889, 11890, 11891, 11892, 11893, 11894, 11895, 11896, 11897, 11898, 11899, 11900, 11901, 11902, 11903, 11904, 11905, 11906, 11907, 11908, 11909, 11910, 11911, 11912, 11913, 11914, 11915, 11916, 11917, 11918, 11919, 11920, 11921, 11922, 11923, 11924, 11925, 11926, 11927, 11928, 11929, 11930, 11931, 11932, 11933, 11934, 11935, 11936, 11937, 11938, 11939, 11940, 11941, 11942, 11943, 11944, 11945, 11946, 11947, 11948, 11949, 11950, 11951, 11952, 11953, 11954, 11955, 11956, 11957, 11958, 11959, 11960, 11961, 11962, 11963, 11964, 11965, 11966, 11967, 11968, 11969, 11970, 11971, 11972, 11973, 11974, 11975, 11976, 11977, 11978, 11979, 11980, 11981, 11982, 11983, 11984, 11985, 11986, 11987, 11988, 11989, 11990, 11991, 11992, 11993, 11994, 11995, 11996, 11997, 11998, 11999]}\n"
          ]
        }
      ],
      "source": [
        "test_images.shape\n",
        "print(test_labels)"
      ]
    },
    {
      "cell_type": "code",
      "execution_count": 17,
      "metadata": {
        "id": "W4Ypmp1-jb6m"
      },
      "outputs": [],
      "source": [
        "num_class = 100\n",
        "images_per_class = 600\n"
      ]
    },
    {
      "cell_type": "code",
      "execution_count": 18,
      "metadata": {
        "id": "t8iENgdpyI8r"
      },
      "outputs": [],
      "source": [
        "\n",
        "def get_next_batch(dataset, no_of_classes, num_way, num_shot, num_query):\n",
        "  episodic_classes = np.random.permutation(no_of_classes)[:num_way]\n",
        "  support = np.zeros([num_way, num_shot, 84, 84, 3], dtype=np.float32)\n",
        "  query = np.zeros([num_way, num_query, 84, 84, 3], dtype=np.float32)\n",
        "\n",
        "  for index, class_ in enumerate(episodic_classes):\n",
        "    start_index = find_start_index(class_)\n",
        "    #check that the size is greater than num_shot + num_query\n",
        "    indices = np.arange(start_index, start_index + images_per_class)\n",
        "    selected = np.random.permutation(indices)[:num_shot + num_query]\n",
        "    for support_index in range(num_shot):\n",
        "       support[index][support_index] = dataset[selected[support_index]] \n",
        "    for query_index in range(num_query):\n",
        "       query[index][query_index] = dataset[selected[num_shot + query_index]]  \n",
        "    #support[index] = dataset[int(selected[:num_shot])]\n",
        "    #query[index] = dataset[int(selected[num_shot:])]\n",
        "    \n",
        "  return support, query\n",
        "\n",
        "def find_start_index(class_):\n",
        "  return 600 * class_\n",
        "\n"
      ]
    },
    {
      "cell_type": "code",
      "execution_count": 19,
      "metadata": {
        "id": "aslgCiUk-stA"
      },
      "outputs": [],
      "source": [
        "support, query = get_next_batch(test_images, test_classes, 20, 7, 3)"
      ]
    },
    {
      "cell_type": "code",
      "execution_count": 20,
      "metadata": {
        "colab": {
          "base_uri": "https://localhost:8080/"
        },
        "id": "wZCM-q4w_XNC",
        "outputId": "db6f7960-21fd-4335-9017-72bd12a6f06a"
      },
      "outputs": [
        {
          "output_type": "execute_result",
          "data": {
            "text/plain": [
              "(20, 7, 84, 84, 3)"
            ]
          },
          "metadata": {},
          "execution_count": 20
        }
      ],
      "source": [
        "support.shape"
      ]
    },
    {
      "cell_type": "code",
      "execution_count": 21,
      "metadata": {
        "colab": {
          "base_uri": "https://localhost:8080/"
        },
        "id": "XdYHI3Je_asi",
        "outputId": "ff358b69-ee80-4e2c-e508-681dedddf065"
      },
      "outputs": [
        {
          "output_type": "execute_result",
          "data": {
            "text/plain": [
              "(20, 3, 84, 84, 3)"
            ]
          },
          "metadata": {},
          "execution_count": 21
        }
      ],
      "source": [
        "query.shape"
      ]
    },
    {
      "cell_type": "code",
      "execution_count": 22,
      "metadata": {
        "id": "dsjaPAdV_eMB"
      },
      "outputs": [],
      "source": [
        "def show_image(dataset, index, image_number):\n",
        "  plt.figure(figsize=(2,3))\n",
        "  plt.xticks([])\n",
        "  plt.yticks([])\n",
        "  plt.imshow(dataset[index][image_number])\n"
      ]
    },
    {
      "cell_type": "code",
      "execution_count": 23,
      "metadata": {
        "colab": {
          "base_uri": "https://localhost:8080/",
          "height": 146
        },
        "id": "3pP-fPoOHXrJ",
        "outputId": "02ff2b62-1dfe-4305-c1b9-5342bc06283a"
      },
      "outputs": [
        {
          "output_type": "display_data",
          "data": {
            "text/plain": [
              "<Figure size 144x216 with 1 Axes>"
            ],
            "image/png": "[encoded data removed]"
          },
          "metadata": {}
        }
      ],
      "source": [
        "show_image(support, 2, 5)"
      ]
    },
    {
      "cell_type": "code",
      "execution_count": 24,
      "metadata": {
        "colab": {
          "base_uri": "https://localhost:8080/",
          "height": 146
        },
        "id": "Tf_USxDCl7Gv",
        "outputId": "e5d271f5-afb6-49ca-84c4-b06efada88d5"
      },
      "outputs": [
        {
          "output_type": "display_data",
          "data": {
            "text/plain": [
              "<Figure size 144x216 with 1 Axes>"
            ],
            "image/png": "[encoded data removed]"
          },
          "metadata": {}
        }
      ],
      "source": [
        "show_image(query, 2, 2)"
      ]
    },
    {
      "cell_type": "code",
      "execution_count": 25,
      "metadata": {
        "id": "yQsRfRaEYaSh"
      },
      "outputs": [],
      "source": [
        "from tensorflow.keras.layers import Dense, Flatten, Conv2D\n",
        "from tensorflow.keras import Model"
      ]
    },
    {
      "cell_type": "code",
      "execution_count": 26,
      "metadata": {
        "id": "RYIxk1m1HcYH"
      },
      "outputs": [],
      "source": [
        "class Prototypical(Model):\n",
        "    \"\"\"\n",
        "    Implemenation of Prototypical Network.\n",
        "    \"\"\"\n",
        "    def __init__(self, n_support, n_query, w, h, c):\n",
        "        \"\"\"\n",
        "        Args:\n",
        "            n_support (int): number of support examples.\n",
        "            n_query (int): number of query examples.\n",
        "            w (int): image width .\n",
        "            h (int): image height.\n",
        "            c (int): number of channels.\n",
        "        \"\"\"\n",
        "        super(Prototypical, self).__init__()\n",
        "        self.w, self.h, self.c = w, h, c\n",
        "\n",
        "        # Encoder as ResNet like CNN with 4 blocks\n",
        "        self.encoder = tf.keras.Sequential([\n",
        "            tf.keras.layers.Conv2D(filters=64, kernel_size=3, padding='same'),\n",
        "            tf.keras.layers.BatchNormalization(),\n",
        "            tf.keras.layers.ReLU(),\n",
        "            tf.keras.layers.MaxPool2D((2, 2)),\n",
        "\n",
        "            tf.keras.layers.Conv2D(filters=64, kernel_size=3, padding='same'),\n",
        "            tf.keras.layers.BatchNormalization(),\n",
        "            tf.keras.layers.ReLU(),\n",
        "            tf.keras.layers.MaxPool2D((2, 2)),\n",
        "\n",
        "            tf.keras.layers.Conv2D(filters=64, kernel_size=3, padding='same'),\n",
        "            tf.keras.layers.BatchNormalization(),\n",
        "            tf.keras.layers.ReLU(),\n",
        "            tf.keras.layers.MaxPool2D((2, 2)),\n",
        "\n",
        "            tf.keras.layers.Conv2D(filters=64, kernel_size=3, padding='same'),\n",
        "            tf.keras.layers.BatchNormalization(),\n",
        "            tf.keras.layers.ReLU(),\n",
        "            tf.keras.layers.MaxPool2D((2, 2)), Flatten()]\n",
        "        )\n",
        "\n",
        "    def call(self, support, query):\n",
        "        n_class = support.shape[0]\n",
        "        n_support = support.shape[1]\n",
        "        n_query = query.shape[1]\n",
        "        y = np.tile(np.arange(n_class)[:, np.newaxis], (1, n_query))\n",
        "        y_onehot = tf.cast(tf.one_hot(y, n_class), tf.float32)\n",
        "\n",
        "        # correct indices of support samples (just natural order)\n",
        "        target_inds = tf.reshape(tf.range(n_class), [n_class, 1])\n",
        "        target_inds = tf.tile(target_inds, [1, n_query])\n",
        "\n",
        "        # merge support and query to forward through encoder\n",
        "        cat = tf.concat([\n",
        "            tf.reshape(support, [n_class * n_support,\n",
        "                                 self.w, self.h, self.c]),\n",
        "            tf.reshape(query, [n_class * n_query,\n",
        "                               self.w, self.h, self.c])], axis=0)\n",
        "        z = self.encoder(cat)\n",
        "\n",
        "        # Divide embedding into support and query\n",
        "        z_prototypes = tf.reshape(z[:n_class * n_support],\n",
        "                                  [n_class, n_support, z.shape[-1]])\n",
        "        # Prototypes are means of n_support examples\n",
        "        z_prototypes = tf.math.reduce_mean(z_prototypes, axis=1)\n",
        "        z_query = z[n_class * n_support:]\n",
        "\n",
        "        # Calculate distances between query and prototypes\n",
        "        dists = euclidean_distance(z_query, z_prototypes)\n",
        "\n",
        "        # log softmax of calculated distances\n",
        "        log_p_y = tf.nn.log_softmax(-dists, axis=-1)\n",
        "        log_p_y = tf.reshape(log_p_y, [n_class, n_query, -1])\n",
        "        \n",
        "        loss = -tf.reduce_mean(tf.reshape(tf.reduce_sum(tf.multiply(y_onehot, log_p_y), axis=-1), [-1]))\n",
        "        eq = tf.cast(tf.equal(\n",
        "            tf.cast(tf.argmax(log_p_y, axis=-1), tf.int32), \n",
        "            tf.cast(y, tf.int32)), tf.float32)\n",
        "        acc = tf.reduce_mean(eq)\n",
        "        return loss, acc\n",
        "\n",
        "    def save(self, model_path):\n",
        "        \"\"\"\n",
        "        Save encoder to the file.\n",
        "\n",
        "        Args:\n",
        "            model_path (str): path to the .h5 file.\n",
        "\n",
        "        Returns: None\n",
        "\n",
        "        \"\"\"\n",
        "        self.encoder.save(model_path)\n",
        "\n",
        "    def load(self, model_path):\n",
        "        \"\"\"\n",
        "        Load encoder from the file.\n",
        "\n",
        "        Args:\n",
        "            model_path (str): path to the .h5 file.\n",
        "\n",
        "        Returns: None\n",
        "\n",
        "        \"\"\"\n",
        "        self.encoder(tf.zeros([1, self.w, self.h, self.c]))\n",
        "        self.encoder.load_weights(model_path)"
      ]
    },
    {
      "cell_type": "code",
      "execution_count": 27,
      "metadata": {
        "id": "9qLG5YjxYdH8"
      },
      "outputs": [],
      "source": [
        "def euclidean_distance(a, b):\n",
        "\n",
        "    N, D = tf.shape(a)[0], tf.shape(a)[1]\n",
        "    M = tf.shape(b)[0]\n",
        "    a = tf.tile(tf.expand_dims(a, axis=1), (1, M, 1))\n",
        "    b = tf.tile(tf.expand_dims(b, axis=0), (N, 1, 1))\n",
        "    return tf.reduce_mean(tf.square(a - b), axis=2)"
      ]
    },
    {
      "cell_type": "code",
      "source": [
        "num_ways = [5, 5]\n",
        "num_shots = [5, 1]\n",
        "learning_rate = 0.001\n",
        "img_width = 84\n",
        "img_height = 84\n",
        "channels = 3\n",
        "num_classes = 100"
      ],
      "metadata": {
        "id": "3LF92B2Qf-2C"
      },
      "execution_count": 39,
      "outputs": []
    },
    {
      "cell_type": "code",
      "execution_count": 38,
      "metadata": {
        "colab": {
          "base_uri": "https://localhost:8080/"
        },
        "id": "Hm-NC26kYqEy",
        "outputId": "10024524-8eab-4cc3-ff65-6c2fc42b49e7"
      },
      "outputs": [
        {
          "output_type": "stream",
          "name": "stderr",
          "text": [
            "WARNING:tensorflow:Compiled the loaded model, but the compiled metrics have yet to be built. `model.compile_metrics` will be empty until you train or evaluate the model.\n"
          ]
        },
        {
          "output_type": "stream",
          "name": "stdout",
          "text": [
            "Saving new best model with loss:  1.5305619\n",
            "Epoch 1, Loss: 1.530561923980713, Accuracy: 37.920005798339844\n"
          ]
        },
        {
          "output_type": "stream",
          "name": "stderr",
          "text": [
            "WARNING:tensorflow:Compiled the loaded model, but the compiled metrics have yet to be built. `model.compile_metrics` will be empty until you train or evaluate the model.\n"
          ]
        },
        {
          "output_type": "stream",
          "name": "stdout",
          "text": [
            "Saving new best model with loss:  1.4820148\n",
            "Epoch 2, Loss: 1.482014775276184, Accuracy: 38.03999328613281\n"
          ]
        },
        {
          "output_type": "stream",
          "name": "stderr",
          "text": [
            "WARNING:tensorflow:Compiled the loaded model, but the compiled metrics have yet to be built. `model.compile_metrics` will be empty until you train or evaluate the model.\n"
          ]
        },
        {
          "output_type": "stream",
          "name": "stdout",
          "text": [
            "Saving new best model with loss:  1.4393642\n",
            "Epoch 3, Loss: 1.4393641948699951, Accuracy: 42.3599967956543\n"
          ]
        },
        {
          "output_type": "stream",
          "name": "stderr",
          "text": [
            "WARNING:tensorflow:Compiled the loaded model, but the compiled metrics have yet to be built. `model.compile_metrics` will be empty until you train or evaluate the model.\n"
          ]
        },
        {
          "output_type": "stream",
          "name": "stdout",
          "text": [
            "Saving new best model with loss:  1.4200293\n",
            "Epoch 4, Loss: 1.4200292825698853, Accuracy: 42.3599967956543\n",
            "Epoch 5, Loss: 1.446049451828003, Accuracy: 41.000003814697266\n"
          ]
        },
        {
          "output_type": "stream",
          "name": "stderr",
          "text": [
            "WARNING:tensorflow:Compiled the loaded model, but the compiled metrics have yet to be built. `model.compile_metrics` will be empty until you train or evaluate the model.\n"
          ]
        },
        {
          "output_type": "stream",
          "name": "stdout",
          "text": [
            "Saving new best model with loss:  1.3940169\n",
            "Epoch 6, Loss: 1.3940168619155884, Accuracy: 43.480003356933594\n"
          ]
        },
        {
          "output_type": "stream",
          "name": "stderr",
          "text": [
            "WARNING:tensorflow:Compiled the loaded model, but the compiled metrics have yet to be built. `model.compile_metrics` will be empty until you train or evaluate the model.\n"
          ]
        },
        {
          "output_type": "stream",
          "name": "stdout",
          "text": [
            "Saving new best model with loss:  1.3340921\n",
            "Epoch 7, Loss: 1.334092140197754, Accuracy: 44.56001281738281\n",
            "Epoch 8, Loss: 1.378828525543213, Accuracy: 44.40000915527344\n"
          ]
        },
        {
          "output_type": "stream",
          "name": "stderr",
          "text": [
            "WARNING:tensorflow:Compiled the loaded model, but the compiled metrics have yet to be built. `model.compile_metrics` will be empty until you train or evaluate the model.\n"
          ]
        },
        {
          "output_type": "stream",
          "name": "stdout",
          "text": [
            "Saving new best model with loss:  1.3269789\n",
            "Epoch 9, Loss: 1.3269789218902588, Accuracy: 46.60000228881836\n"
          ]
        },
        {
          "output_type": "stream",
          "name": "stderr",
          "text": [
            "WARNING:tensorflow:Compiled the loaded model, but the compiled metrics have yet to be built. `model.compile_metrics` will be empty until you train or evaluate the model.\n"
          ]
        },
        {
          "output_type": "stream",
          "name": "stdout",
          "text": [
            "Saving new best model with loss:  1.3206508\n",
            "Epoch 10, Loss: 1.3206508159637451, Accuracy: 46.31998825073242\n",
            "Epoch 11, Loss: 1.3208084106445312, Accuracy: 45.8799934387207\n"
          ]
        },
        {
          "output_type": "stream",
          "name": "stderr",
          "text": [
            "WARNING:tensorflow:Compiled the loaded model, but the compiled metrics have yet to be built. `model.compile_metrics` will be empty until you train or evaluate the model.\n"
          ]
        },
        {
          "output_type": "stream",
          "name": "stdout",
          "text": [
            "Saving new best model with loss:  1.3036561\n",
            "Epoch 12, Loss: 1.3036561012268066, Accuracy: 48.07999801635742\n",
            "Epoch 13, Loss: 1.333315372467041, Accuracy: 46.079994201660156\n"
          ]
        },
        {
          "output_type": "stream",
          "name": "stderr",
          "text": [
            "WARNING:tensorflow:Compiled the loaded model, but the compiled metrics have yet to be built. `model.compile_metrics` will be empty until you train or evaluate the model.\n"
          ]
        },
        {
          "output_type": "stream",
          "name": "stdout",
          "text": [
            "Saving new best model with loss:  1.2907758\n",
            "Epoch 14, Loss: 1.2907757759094238, Accuracy: 48.679996490478516\n"
          ]
        },
        {
          "output_type": "stream",
          "name": "stderr",
          "text": [
            "WARNING:tensorflow:Compiled the loaded model, but the compiled metrics have yet to be built. `model.compile_metrics` will be empty until you train or evaluate the model.\n"
          ]
        },
        {
          "output_type": "stream",
          "name": "stdout",
          "text": [
            "Saving new best model with loss:  1.245876\n",
            "Epoch 15, Loss: 1.2458759546279907, Accuracy: 50.76000213623047\n",
            "Epoch 16, Loss: 1.298902153968811, Accuracy: 47.68000030517578\n"
          ]
        },
        {
          "output_type": "stream",
          "name": "stderr",
          "text": [
            "WARNING:tensorflow:Compiled the loaded model, but the compiled metrics have yet to be built. `model.compile_metrics` will be empty until you train or evaluate the model.\n"
          ]
        },
        {
          "output_type": "stream",
          "name": "stdout",
          "text": [
            "Saving new best model with loss:  1.2400059\n",
            "Epoch 17, Loss: 1.2400058507919312, Accuracy: 49.76000213623047\n"
          ]
        },
        {
          "output_type": "stream",
          "name": "stderr",
          "text": [
            "WARNING:tensorflow:Compiled the loaded model, but the compiled metrics have yet to be built. `model.compile_metrics` will be empty until you train or evaluate the model.\n"
          ]
        },
        {
          "output_type": "stream",
          "name": "stdout",
          "text": [
            "Saving new best model with loss:  1.2269326\n",
            "Epoch 18, Loss: 1.2269326448440552, Accuracy: 52.07999801635742\n",
            "Epoch 19, Loss: 1.2366052865982056, Accuracy: 52.19999694824219\n"
          ]
        },
        {
          "output_type": "stream",
          "name": "stderr",
          "text": [
            "WARNING:tensorflow:Compiled the loaded model, but the compiled metrics have yet to be built. `model.compile_metrics` will be empty until you train or evaluate the model.\n"
          ]
        },
        {
          "output_type": "stream",
          "name": "stdout",
          "text": [
            "Saving new best model with loss:  1.2159494\n",
            "Epoch 20, Loss: 1.2159494161605835, Accuracy: 51.72000503540039\n"
          ]
        },
        {
          "output_type": "stream",
          "name": "stderr",
          "text": [
            "WARNING:tensorflow:Compiled the loaded model, but the compiled metrics have yet to be built. `model.compile_metrics` will be empty until you train or evaluate the model.\n"
          ]
        },
        {
          "output_type": "stream",
          "name": "stdout",
          "text": [
            "Saving new best model with loss:  1.1716748\n",
            "Epoch 21, Loss: 1.1716748476028442, Accuracy: 54.359989166259766\n",
            "Epoch 22, Loss: 1.1872432231903076, Accuracy: 51.720001220703125\n",
            "Epoch 23, Loss: 1.1733155250549316, Accuracy: 54.7599983215332\n",
            "Epoch 24, Loss: 1.1849559545516968, Accuracy: 53.799991607666016\n",
            "Epoch 25, Loss: 1.2030812501907349, Accuracy: 53.36000442504883\n"
          ]
        },
        {
          "output_type": "stream",
          "name": "stderr",
          "text": [
            "WARNING:tensorflow:Compiled the loaded model, but the compiled metrics have yet to be built. `model.compile_metrics` will be empty until you train or evaluate the model.\n"
          ]
        },
        {
          "output_type": "stream",
          "name": "stdout",
          "text": [
            "Saving new best model with loss:  1.1420131\n",
            "Epoch 26, Loss: 1.1420130729675293, Accuracy: 54.359989166259766\n",
            "Epoch 27, Loss: 1.2249324321746826, Accuracy: 52.519996643066406\n",
            "Epoch 28, Loss: 1.2042375802993774, Accuracy: 53.43999099731445\n",
            "Epoch 29, Loss: 1.14662504196167, Accuracy: 54.920013427734375\n"
          ]
        },
        {
          "output_type": "stream",
          "name": "stderr",
          "text": [
            "WARNING:tensorflow:Compiled the loaded model, but the compiled metrics have yet to be built. `model.compile_metrics` will be empty until you train or evaluate the model.\n"
          ]
        },
        {
          "output_type": "stream",
          "name": "stdout",
          "text": [
            "Saving new best model with loss:  1.1015044\n",
            "Epoch 30, Loss: 1.1015044450759888, Accuracy: 56.919986724853516\n",
            "Epoch 31, Loss: 1.140224814414978, Accuracy: 56.040000915527344\n",
            "Epoch 32, Loss: 1.1461797952651978, Accuracy: 55.23998260498047\n",
            "Epoch 33, Loss: 1.106689214706421, Accuracy: 56.159996032714844\n",
            "Epoch 34, Loss: 1.1277782917022705, Accuracy: 55.71998977661133\n",
            "Epoch 35, Loss: 1.1430480480194092, Accuracy: 55.159996032714844\n",
            "Epoch 36, Loss: 1.121433138847351, Accuracy: 57.48000717163086\n",
            "Epoch 37, Loss: 1.1253750324249268, Accuracy: 57.31999969482422\n"
          ]
        },
        {
          "output_type": "stream",
          "name": "stderr",
          "text": [
            "WARNING:tensorflow:Compiled the loaded model, but the compiled metrics have yet to be built. `model.compile_metrics` will be empty until you train or evaluate the model.\n"
          ]
        },
        {
          "output_type": "stream",
          "name": "stdout",
          "text": [
            "Saving new best model with loss:  1.1008414\n",
            "Epoch 38, Loss: 1.1008414030075073, Accuracy: 57.479976654052734\n",
            "Epoch 39, Loss: 1.106328010559082, Accuracy: 57.31999969482422\n"
          ]
        },
        {
          "output_type": "stream",
          "name": "stderr",
          "text": [
            "WARNING:tensorflow:Compiled the loaded model, but the compiled metrics have yet to be built. `model.compile_metrics` will be empty until you train or evaluate the model.\n"
          ]
        },
        {
          "output_type": "stream",
          "name": "stdout",
          "text": [
            "Saving new best model with loss:  1.098973\n",
            "Epoch 40, Loss: 1.098973035812378, Accuracy: 57.160003662109375\n"
          ]
        },
        {
          "output_type": "stream",
          "name": "stderr",
          "text": [
            "WARNING:tensorflow:Compiled the loaded model, but the compiled metrics have yet to be built. `model.compile_metrics` will be empty until you train or evaluate the model.\n"
          ]
        },
        {
          "output_type": "stream",
          "name": "stdout",
          "text": [
            "Saving new best model with loss:  1.0584834\n",
            "Epoch 41, Loss: 1.058483362197876, Accuracy: 59.280006408691406\n",
            "Epoch 42, Loss: 1.0876073837280273, Accuracy: 57.31998825073242\n",
            "Epoch 43, Loss: 1.1214237213134766, Accuracy: 58.03999328613281\n",
            "Epoch 44, Loss: 1.077282190322876, Accuracy: 57.399993896484375\n",
            "Epoch 45, Loss: 1.0718131065368652, Accuracy: 59.079986572265625\n"
          ]
        },
        {
          "output_type": "stream",
          "name": "stderr",
          "text": [
            "WARNING:tensorflow:Compiled the loaded model, but the compiled metrics have yet to be built. `model.compile_metrics` will be empty until you train or evaluate the model.\n"
          ]
        },
        {
          "output_type": "stream",
          "name": "stdout",
          "text": [
            "Saving new best model with loss:  1.0491661\n",
            "Epoch 46, Loss: 1.0491660833358765, Accuracy: 58.84000015258789\n",
            "Epoch 47, Loss: 1.0565074682235718, Accuracy: 58.880001068115234\n"
          ]
        },
        {
          "output_type": "stream",
          "name": "stderr",
          "text": [
            "WARNING:tensorflow:Compiled the loaded model, but the compiled metrics have yet to be built. `model.compile_metrics` will be empty until you train or evaluate the model.\n"
          ]
        },
        {
          "output_type": "stream",
          "name": "stdout",
          "text": [
            "Saving new best model with loss:  1.0221887\n",
            "Epoch 48, Loss: 1.022188663482666, Accuracy: 60.8800048828125\n",
            "Epoch 49, Loss: 1.0551353693008423, Accuracy: 60.15999221801758\n",
            "Epoch 50, Loss: 1.0387816429138184, Accuracy: 59.91999053955078\n",
            "Epoch 51, Loss: 1.060611605644226, Accuracy: 59.639991760253906\n"
          ]
        },
        {
          "output_type": "stream",
          "name": "stderr",
          "text": [
            "WARNING:tensorflow:Compiled the loaded model, but the compiled metrics have yet to be built. `model.compile_metrics` will be empty until you train or evaluate the model.\n"
          ]
        },
        {
          "output_type": "stream",
          "name": "stdout",
          "text": [
            "Saving new best model with loss:  1.0117058\n",
            "Epoch 52, Loss: 1.011705756187439, Accuracy: 59.839988708496094\n",
            "Epoch 53, Loss: 1.0135674476623535, Accuracy: 60.399986267089844\n",
            "Epoch 54, Loss: 1.0793167352676392, Accuracy: 58.159996032714844\n",
            "Epoch 55, Loss: 1.0449432134628296, Accuracy: 58.79998779296875\n",
            "Epoch 56, Loss: 1.0128666162490845, Accuracy: 61.79998016357422\n",
            "Epoch 57, Loss: 1.0382580757141113, Accuracy: 60.52000427246094\n"
          ]
        },
        {
          "output_type": "stream",
          "name": "stderr",
          "text": [
            "WARNING:tensorflow:Compiled the loaded model, but the compiled metrics have yet to be built. `model.compile_metrics` will be empty until you train or evaluate the model.\n"
          ]
        },
        {
          "output_type": "stream",
          "name": "stdout",
          "text": [
            "Saving new best model with loss:  0.96325713\n",
            "Epoch 58, Loss: 0.9632571339607239, Accuracy: 62.799991607666016\n",
            "Epoch 59, Loss: 0.984373152256012, Accuracy: 63.03998947143555\n",
            "Epoch 60, Loss: 1.0334504842758179, Accuracy: 59.87998962402344\n",
            "Epoch 61, Loss: 0.9895164370536804, Accuracy: 60.999996185302734\n",
            "Epoch 62, Loss: 1.010145902633667, Accuracy: 60.91999816894531\n",
            "Epoch 63, Loss: 0.9919019341468811, Accuracy: 61.55999755859375\n",
            "Epoch 64, Loss: 1.0211230516433716, Accuracy: 61.87999725341797\n",
            "Epoch 65, Loss: 1.0152535438537598, Accuracy: 60.64000701904297\n",
            "Epoch 66, Loss: 0.9733750224113464, Accuracy: 61.9999885559082\n",
            "Epoch 67, Loss: 0.9932266473770142, Accuracy: 61.75999450683594\n",
            "Epoch 68, Loss: 0.9913807511329651, Accuracy: 61.439998626708984\n",
            "Epoch 69, Loss: 0.9810168743133545, Accuracy: 61.679996490478516\n"
          ]
        },
        {
          "output_type": "stream",
          "name": "stderr",
          "text": [
            "WARNING:tensorflow:Compiled the loaded model, but the compiled metrics have yet to be built. `model.compile_metrics` will be empty until you train or evaluate the model.\n"
          ]
        },
        {
          "output_type": "stream",
          "name": "stdout",
          "text": [
            "Saving new best model with loss:  0.96042246\n",
            "Epoch 70, Loss: 0.9604224562644958, Accuracy: 63.43999481201172\n"
          ]
        },
        {
          "output_type": "stream",
          "name": "stderr",
          "text": [
            "WARNING:tensorflow:Compiled the loaded model, but the compiled metrics have yet to be built. `model.compile_metrics` will be empty until you train or evaluate the model.\n"
          ]
        },
        {
          "output_type": "stream",
          "name": "stdout",
          "text": [
            "Saving new best model with loss:  0.959791\n",
            "Epoch 71, Loss: 0.9597910046577454, Accuracy: 62.83998489379883\n",
            "Epoch 72, Loss: 0.9642911553382874, Accuracy: 62.68000793457031\n"
          ]
        },
        {
          "output_type": "stream",
          "name": "stderr",
          "text": [
            "WARNING:tensorflow:Compiled the loaded model, but the compiled metrics have yet to be built. `model.compile_metrics` will be empty until you train or evaluate the model.\n"
          ]
        },
        {
          "output_type": "stream",
          "name": "stdout",
          "text": [
            "Saving new best model with loss:  0.95129484\n",
            "Epoch 73, Loss: 0.9512948393821716, Accuracy: 62.87998580932617\n",
            "Epoch 74, Loss: 0.9888708591461182, Accuracy: 62.039981842041016\n"
          ]
        },
        {
          "output_type": "stream",
          "name": "stderr",
          "text": [
            "WARNING:tensorflow:Compiled the loaded model, but the compiled metrics have yet to be built. `model.compile_metrics` will be empty until you train or evaluate the model.\n"
          ]
        },
        {
          "output_type": "stream",
          "name": "stdout",
          "text": [
            "Saving new best model with loss:  0.9435231\n",
            "Epoch 75, Loss: 0.943523108959198, Accuracy: 64.15998840332031\n",
            "Epoch 76, Loss: 0.9575576186180115, Accuracy: 63.279998779296875\n"
          ]
        },
        {
          "output_type": "stream",
          "name": "stderr",
          "text": [
            "WARNING:tensorflow:Compiled the loaded model, but the compiled metrics have yet to be built. `model.compile_metrics` will be empty until you train or evaluate the model.\n"
          ]
        },
        {
          "output_type": "stream",
          "name": "stdout",
          "text": [
            "Saving new best model with loss:  0.9274065\n",
            "Epoch 77, Loss: 0.9274064898490906, Accuracy: 64.75997161865234\n",
            "Epoch 78, Loss: 0.9465910196304321, Accuracy: 64.27999877929688\n",
            "Epoch 79, Loss: 0.9342019557952881, Accuracy: 63.48000717163086\n"
          ]
        },
        {
          "output_type": "stream",
          "name": "stderr",
          "text": [
            "WARNING:tensorflow:Compiled the loaded model, but the compiled metrics have yet to be built. `model.compile_metrics` will be empty until you train or evaluate the model.\n"
          ]
        },
        {
          "output_type": "stream",
          "name": "stdout",
          "text": [
            "Saving new best model with loss:  0.92629206\n",
            "Epoch 80, Loss: 0.9262920618057251, Accuracy: 65.31999206542969\n",
            "Epoch 81, Loss: 0.9386953115463257, Accuracy: 63.92000198364258\n"
          ]
        },
        {
          "output_type": "stream",
          "name": "stderr",
          "text": [
            "WARNING:tensorflow:Compiled the loaded model, but the compiled metrics have yet to be built. `model.compile_metrics` will be empty until you train or evaluate the model.\n"
          ]
        },
        {
          "output_type": "stream",
          "name": "stdout",
          "text": [
            "Saving new best model with loss:  0.91935354\n",
            "Epoch 82, Loss: 0.9193535447120667, Accuracy: 64.11997985839844\n"
          ]
        },
        {
          "output_type": "stream",
          "name": "stderr",
          "text": [
            "WARNING:tensorflow:Compiled the loaded model, but the compiled metrics have yet to be built. `model.compile_metrics` will be empty until you train or evaluate the model.\n"
          ]
        },
        {
          "output_type": "stream",
          "name": "stdout",
          "text": [
            "Saving new best model with loss:  0.8954686\n",
            "Epoch 83, Loss: 0.8954685926437378, Accuracy: 65.79999542236328\n",
            "Epoch 84, Loss: 0.929049015045166, Accuracy: 64.68000030517578\n",
            "Epoch 85, Loss: 0.948883593082428, Accuracy: 62.840003967285156\n",
            "Epoch 86, Loss: 0.8964085578918457, Accuracy: 65.63997650146484\n"
          ]
        },
        {
          "output_type": "stream",
          "name": "stderr",
          "text": [
            "WARNING:tensorflow:Compiled the loaded model, but the compiled metrics have yet to be built. `model.compile_metrics` will be empty until you train or evaluate the model.\n"
          ]
        },
        {
          "output_type": "stream",
          "name": "stdout",
          "text": [
            "Saving new best model with loss:  0.88714117\n",
            "Epoch 87, Loss: 0.8871411681175232, Accuracy: 65.7599868774414\n",
            "Epoch 88, Loss: 0.9396629333496094, Accuracy: 64.239990234375\n",
            "Epoch 89, Loss: 0.9404492974281311, Accuracy: 62.919979095458984\n",
            "Epoch 90, Loss: 0.8961225748062134, Accuracy: 65.44000244140625\n",
            "Epoch 91, Loss: 0.8987892866134644, Accuracy: 64.55999755859375\n",
            "Epoch 92, Loss: 0.960243284702301, Accuracy: 63.320003509521484\n"
          ]
        },
        {
          "output_type": "stream",
          "name": "stderr",
          "text": [
            "WARNING:tensorflow:Compiled the loaded model, but the compiled metrics have yet to be built. `model.compile_metrics` will be empty until you train or evaluate the model.\n"
          ]
        },
        {
          "output_type": "stream",
          "name": "stdout",
          "text": [
            "Saving new best model with loss:  0.87532717\n",
            "Epoch 93, Loss: 0.8753271698951721, Accuracy: 66.03998565673828\n",
            "Epoch 94, Loss: 0.9471069574356079, Accuracy: 62.639991760253906\n",
            "Epoch 95, Loss: 0.9336718916893005, Accuracy: 63.76000213623047\n",
            "Epoch 96, Loss: 0.9294288158416748, Accuracy: 63.160003662109375\n",
            "Epoch 97, Loss: 0.8776699900627136, Accuracy: 67.16000366210938\n",
            "Epoch 98, Loss: 0.9124196767807007, Accuracy: 64.84000396728516\n",
            "Epoch 99, Loss: 0.8959925174713135, Accuracy: 64.9599838256836\n",
            "Epoch 100, Loss: 0.8993958234786987, Accuracy: 65.3599853515625\n",
            "Epoch 101, Loss: 0.8894211649894714, Accuracy: 64.6399917602539\n",
            "Epoch 102, Loss: 0.913473904132843, Accuracy: 65.1199951171875\n",
            "Epoch 103, Loss: 0.8961263298988342, Accuracy: 64.68000030517578\n",
            "Epoch 104, Loss: 0.9219444394111633, Accuracy: 64.95999908447266\n",
            "Epoch 105, Loss: 0.8813198208808899, Accuracy: 65.9599838256836\n",
            "Epoch 106, Loss: 0.9140312075614929, Accuracy: 66.91999053955078\n",
            "Epoch 107, Loss: 0.8882526159286499, Accuracy: 66.39999389648438\n"
          ]
        },
        {
          "output_type": "stream",
          "name": "stderr",
          "text": [
            "WARNING:tensorflow:Compiled the loaded model, but the compiled metrics have yet to be built. `model.compile_metrics` will be empty until you train or evaluate the model.\n"
          ]
        },
        {
          "output_type": "stream",
          "name": "stdout",
          "text": [
            "Saving new best model with loss:  0.86192703\n",
            "Epoch 108, Loss: 0.8619270324707031, Accuracy: 66.55998992919922\n",
            "Epoch 109, Loss: 0.8762730360031128, Accuracy: 67.1199951171875\n",
            "Epoch 110, Loss: 0.8898504376411438, Accuracy: 65.07998657226562\n"
          ]
        },
        {
          "output_type": "stream",
          "name": "stderr",
          "text": [
            "WARNING:tensorflow:Compiled the loaded model, but the compiled metrics have yet to be built. `model.compile_metrics` will be empty until you train or evaluate the model.\n"
          ]
        },
        {
          "output_type": "stream",
          "name": "stdout",
          "text": [
            "Saving new best model with loss:  0.8479434\n",
            "Epoch 111, Loss: 0.8479434251785278, Accuracy: 67.91996765136719\n",
            "Epoch 112, Loss: 0.8842530846595764, Accuracy: 66.11997985839844\n",
            "Epoch 113, Loss: 0.9273214936256409, Accuracy: 63.52000427246094\n",
            "Epoch 114, Loss: 0.8639755249023438, Accuracy: 66.99999237060547\n",
            "Epoch 115, Loss: 0.8791171312332153, Accuracy: 66.67998504638672\n",
            "Epoch 116, Loss: 0.885659396648407, Accuracy: 66.08000183105469\n",
            "Epoch 117, Loss: 0.8920104503631592, Accuracy: 65.91999816894531\n",
            "Epoch 118, Loss: 0.8581153750419617, Accuracy: 67.5999984741211\n"
          ]
        },
        {
          "output_type": "stream",
          "name": "stderr",
          "text": [
            "WARNING:tensorflow:Compiled the loaded model, but the compiled metrics have yet to be built. `model.compile_metrics` will be empty until you train or evaluate the model.\n"
          ]
        },
        {
          "output_type": "stream",
          "name": "stdout",
          "text": [
            "Saving new best model with loss:  0.8410078\n",
            "Epoch 119, Loss: 0.8410078287124634, Accuracy: 68.3599853515625\n"
          ]
        },
        {
          "output_type": "stream",
          "name": "stderr",
          "text": [
            "WARNING:tensorflow:Compiled the loaded model, but the compiled metrics have yet to be built. `model.compile_metrics` will be empty until you train or evaluate the model.\n"
          ]
        },
        {
          "output_type": "stream",
          "name": "stdout",
          "text": [
            "Saving new best model with loss:  0.8325086\n",
            "Epoch 120, Loss: 0.8325086236000061, Accuracy: 68.15998840332031\n",
            "Epoch 121, Loss: 0.8754919171333313, Accuracy: 67.51998138427734\n",
            "Epoch 122, Loss: 0.8384657502174377, Accuracy: 68.39999389648438\n",
            "Epoch 123, Loss: 0.8481701016426086, Accuracy: 66.87999725341797\n",
            "Epoch 124, Loss: 0.8742234706878662, Accuracy: 66.91996765136719\n",
            "Epoch 125, Loss: 0.8685891032218933, Accuracy: 67.08000946044922\n"
          ]
        },
        {
          "output_type": "stream",
          "name": "stderr",
          "text": [
            "WARNING:tensorflow:Compiled the loaded model, but the compiled metrics have yet to be built. `model.compile_metrics` will be empty until you train or evaluate the model.\n"
          ]
        },
        {
          "output_type": "stream",
          "name": "stdout",
          "text": [
            "Saving new best model with loss:  0.8188819\n",
            "Epoch 126, Loss: 0.8188819289207458, Accuracy: 67.31999206542969\n",
            "Epoch 127, Loss: 0.8730093240737915, Accuracy: 66.43999481201172\n",
            "Epoch 128, Loss: 0.8399476408958435, Accuracy: 67.84000396728516\n"
          ]
        },
        {
          "output_type": "stream",
          "name": "stderr",
          "text": [
            "WARNING:tensorflow:Compiled the loaded model, but the compiled metrics have yet to be built. `model.compile_metrics` will be empty until you train or evaluate the model.\n"
          ]
        },
        {
          "output_type": "stream",
          "name": "stdout",
          "text": [
            "Saving new best model with loss:  0.7981235\n",
            "Epoch 129, Loss: 0.7981234788894653, Accuracy: 70.03999328613281\n",
            "Epoch 130, Loss: 0.8820643424987793, Accuracy: 64.63999938964844\n",
            "Epoch 131, Loss: 0.8587011694908142, Accuracy: 66.7599868774414\n",
            "Epoch 132, Loss: 0.8109087944030762, Accuracy: 68.3600082397461\n",
            "Epoch 133, Loss: 0.8217609524726868, Accuracy: 68.43997955322266\n",
            "Epoch 134, Loss: 0.8465888500213623, Accuracy: 67.43998718261719\n",
            "Epoch 135, Loss: 0.8298349976539612, Accuracy: 68.71998596191406\n",
            "Epoch 136, Loss: 0.8088252544403076, Accuracy: 70.07999420166016\n",
            "Epoch 137, Loss: 0.8498288989067078, Accuracy: 67.03999328613281\n",
            "Epoch 138, Loss: 0.8827031850814819, Accuracy: 65.51998138427734\n",
            "Epoch 139, Loss: 0.8128926753997803, Accuracy: 69.52000427246094\n",
            "Epoch 140, Loss: 0.8034887909889221, Accuracy: 70.04000091552734\n",
            "Epoch 141, Loss: 0.8324653506278992, Accuracy: 68.83998107910156\n",
            "Epoch 142, Loss: 0.8574880361557007, Accuracy: 67.04000091552734\n",
            "Epoch 143, Loss: 0.8462876677513123, Accuracy: 67.9999771118164\n",
            "Epoch 144, Loss: 0.8227593898773193, Accuracy: 68.03998565673828\n"
          ]
        },
        {
          "output_type": "stream",
          "name": "stderr",
          "text": [
            "WARNING:tensorflow:Compiled the loaded model, but the compiled metrics have yet to be built. `model.compile_metrics` will be empty until you train or evaluate the model.\n"
          ]
        },
        {
          "output_type": "stream",
          "name": "stdout",
          "text": [
            "Saving new best model with loss:  0.7901205\n",
            "Epoch 145, Loss: 0.7901204824447632, Accuracy: 69.63998413085938\n",
            "Epoch 146, Loss: 0.8269263505935669, Accuracy: 68.8799819946289\n",
            "Epoch 147, Loss: 0.8105245232582092, Accuracy: 69.36000061035156\n",
            "Epoch 148, Loss: 0.811196506023407, Accuracy: 68.43999481201172\n",
            "Epoch 149, Loss: 0.8203170299530029, Accuracy: 68.51998138427734\n",
            "Epoch 150, Loss: 0.792130708694458, Accuracy: 69.03998565673828\n",
            "Epoch 151, Loss: 0.8811108469963074, Accuracy: 66.92000579833984\n",
            "Epoch 152, Loss: 0.8269075155258179, Accuracy: 68.55998229980469\n"
          ]
        },
        {
          "output_type": "stream",
          "name": "stderr",
          "text": [
            "WARNING:tensorflow:Compiled the loaded model, but the compiled metrics have yet to be built. `model.compile_metrics` will be empty until you train or evaluate the model.\n"
          ]
        },
        {
          "output_type": "stream",
          "name": "stdout",
          "text": [
            "Saving new best model with loss:  0.766513\n",
            "Epoch 153, Loss: 0.7665129899978638, Accuracy: 70.6399917602539\n",
            "Epoch 154, Loss: 0.7804913520812988, Accuracy: 70.31999206542969\n",
            "Epoch 155, Loss: 0.8358137607574463, Accuracy: 68.31999969482422\n",
            "Epoch 156, Loss: 0.8078551292419434, Accuracy: 69.3599853515625\n",
            "Epoch 157, Loss: 0.8413019776344299, Accuracy: 67.59998321533203\n",
            "Epoch 158, Loss: 0.7883303165435791, Accuracy: 70.15998077392578\n",
            "Epoch 159, Loss: 0.7726236581802368, Accuracy: 71.15998077392578\n",
            "Epoch 160, Loss: 0.8160523176193237, Accuracy: 68.239990234375\n",
            "Epoch 161, Loss: 0.8039999604225159, Accuracy: 69.84000396728516\n",
            "Epoch 162, Loss: 0.7996039390563965, Accuracy: 69.8399887084961\n",
            "Epoch 163, Loss: 0.788573145866394, Accuracy: 69.31999969482422\n",
            "Epoch 164, Loss: 0.8108156323432922, Accuracy: 68.43999481201172\n",
            "Epoch 165, Loss: 0.8154539465904236, Accuracy: 68.6399917602539\n",
            "Epoch 166, Loss: 0.8155277967453003, Accuracy: 69.11997985839844\n",
            "Epoch 167, Loss: 0.8261238932609558, Accuracy: 67.0\n",
            "Epoch 168, Loss: 0.7984545826911926, Accuracy: 69.51998138427734\n",
            "Epoch 169, Loss: 0.8272770643234253, Accuracy: 68.84000396728516\n",
            "Epoch 170, Loss: 0.8249189257621765, Accuracy: 68.55998229980469\n",
            "Epoch 171, Loss: 0.8279907703399658, Accuracy: 68.07997131347656\n",
            "Epoch 172, Loss: 0.7851654887199402, Accuracy: 69.31999206542969\n",
            "Epoch 173, Loss: 0.7828847765922546, Accuracy: 69.83997344970703\n",
            "Epoch 174, Loss: 0.779022753238678, Accuracy: 69.67999267578125\n",
            "Epoch 175, Loss: 0.7870202660560608, Accuracy: 70.15998840332031\n",
            "Epoch 176, Loss: 0.7993836402893066, Accuracy: 69.43997955322266\n",
            "Epoch 177, Loss: 0.8119856119155884, Accuracy: 69.27998352050781\n",
            "Epoch 178, Loss: 0.7710593938827515, Accuracy: 69.68000030517578\n"
          ]
        },
        {
          "output_type": "stream",
          "name": "stderr",
          "text": [
            "WARNING:tensorflow:Compiled the loaded model, but the compiled metrics have yet to be built. `model.compile_metrics` will be empty until you train or evaluate the model.\n"
          ]
        },
        {
          "output_type": "stream",
          "name": "stdout",
          "text": [
            "Saving new best model with loss:  0.7624125\n",
            "Epoch 179, Loss: 0.7624124884605408, Accuracy: 70.9999771118164\n"
          ]
        },
        {
          "output_type": "stream",
          "name": "stderr",
          "text": [
            "WARNING:tensorflow:Compiled the loaded model, but the compiled metrics have yet to be built. `model.compile_metrics` will be empty until you train or evaluate the model.\n"
          ]
        },
        {
          "output_type": "stream",
          "name": "stdout",
          "text": [
            "Saving new best model with loss:  0.7541441\n",
            "Epoch 180, Loss: 0.7541440725326538, Accuracy: 71.27997589111328\n",
            "Epoch 181, Loss: 0.8065811395645142, Accuracy: 68.7599868774414\n",
            "Epoch 182, Loss: 0.7945600152015686, Accuracy: 70.51997375488281\n",
            "Epoch 183, Loss: 0.7905794382095337, Accuracy: 68.91999053955078\n",
            "Epoch 184, Loss: 0.7560329437255859, Accuracy: 71.03997802734375\n",
            "Epoch 185, Loss: 0.798464834690094, Accuracy: 69.07998657226562\n"
          ]
        },
        {
          "output_type": "stream",
          "name": "stderr",
          "text": [
            "WARNING:tensorflow:Compiled the loaded model, but the compiled metrics have yet to be built. `model.compile_metrics` will be empty until you train or evaluate the model.\n"
          ]
        },
        {
          "output_type": "stream",
          "name": "stdout",
          "text": [
            "Saving new best model with loss:  0.74843764\n",
            "Epoch 186, Loss: 0.7484376430511475, Accuracy: 71.43998718261719\n",
            "Epoch 187, Loss: 0.8273447155952454, Accuracy: 68.15998077392578\n",
            "Epoch 188, Loss: 0.8296321034431458, Accuracy: 68.68000030517578\n"
          ]
        },
        {
          "output_type": "stream",
          "name": "stderr",
          "text": [
            "WARNING:tensorflow:Compiled the loaded model, but the compiled metrics have yet to be built. `model.compile_metrics` will be empty until you train or evaluate the model.\n"
          ]
        },
        {
          "output_type": "stream",
          "name": "stdout",
          "text": [
            "Saving new best model with loss:  0.74755967\n",
            "Epoch 189, Loss: 0.747559666633606, Accuracy: 70.63997650146484\n",
            "Epoch 190, Loss: 0.7610453963279724, Accuracy: 69.91999053955078\n",
            "Epoch 191, Loss: 0.8013960123062134, Accuracy: 68.5199966430664\n",
            "Epoch 192, Loss: 0.7607400417327881, Accuracy: 72.3199691772461\n",
            "Epoch 193, Loss: 0.7884640693664551, Accuracy: 69.83999633789062\n",
            "Epoch 194, Loss: 0.8093758225440979, Accuracy: 69.91999816894531\n",
            "Epoch 195, Loss: 0.7879109382629395, Accuracy: 70.63996887207031\n"
          ]
        },
        {
          "output_type": "stream",
          "name": "stderr",
          "text": [
            "WARNING:tensorflow:Compiled the loaded model, but the compiled metrics have yet to be built. `model.compile_metrics` will be empty until you train or evaluate the model.\n"
          ]
        },
        {
          "output_type": "stream",
          "name": "stdout",
          "text": [
            "Saving new best model with loss:  0.7351173\n",
            "Epoch 196, Loss: 0.7351173162460327, Accuracy: 71.63999938964844\n",
            "Epoch 197, Loss: 0.7445141673088074, Accuracy: 71.91998291015625\n",
            "Epoch 198, Loss: 0.7796890139579773, Accuracy: 70.03998565673828\n",
            "Epoch 199, Loss: 0.7771710753440857, Accuracy: 70.15999603271484\n",
            "Epoch 200, Loss: 0.7685898542404175, Accuracy: 70.239990234375\n"
          ]
        },
        {
          "output_type": "stream",
          "name": "stderr",
          "text": [
            "WARNING:tensorflow:Compiled the loaded model, but the compiled metrics have yet to be built. `model.compile_metrics` will be empty until you train or evaluate the model.\n"
          ]
        },
        {
          "output_type": "stream",
          "name": "stdout",
          "text": [
            "Saving new best model with loss:  0.69223845\n",
            "Epoch 201, Loss: 0.692238450050354, Accuracy: 73.6399917602539\n",
            "Epoch 202, Loss: 0.7121429443359375, Accuracy: 72.63997650146484\n",
            "Epoch 203, Loss: 0.7783993482589722, Accuracy: 69.67997741699219\n",
            "Epoch 204, Loss: 0.7713505625724792, Accuracy: 70.7199935913086\n",
            "Epoch 205, Loss: 0.7620686888694763, Accuracy: 70.60000610351562\n",
            "Epoch 206, Loss: 0.7503758072853088, Accuracy: 70.59998321533203\n",
            "Epoch 207, Loss: 0.7468492984771729, Accuracy: 72.51998901367188\n",
            "Epoch 208, Loss: 0.7718235850334167, Accuracy: 71.12000274658203\n",
            "Epoch 209, Loss: 0.7446662187576294, Accuracy: 71.7199935913086\n",
            "Epoch 210, Loss: 0.750429093837738, Accuracy: 71.19999694824219\n",
            "Epoch 211, Loss: 0.750103235244751, Accuracy: 70.39998626708984\n",
            "Epoch 212, Loss: 0.7697178721427917, Accuracy: 69.55999755859375\n",
            "Epoch 213, Loss: 0.7799618244171143, Accuracy: 70.31999206542969\n",
            "Epoch 214, Loss: 0.6980953216552734, Accuracy: 73.67999267578125\n",
            "Epoch 215, Loss: 0.8079786896705627, Accuracy: 68.5999984741211\n",
            "Epoch 216, Loss: 0.7579023241996765, Accuracy: 71.43997192382812\n",
            "Epoch 217, Loss: 0.753777265548706, Accuracy: 70.6399917602539\n",
            "Epoch 218, Loss: 0.7910580635070801, Accuracy: 69.1200180053711\n",
            "Epoch 219, Loss: 0.759739100933075, Accuracy: 70.23999786376953\n",
            "Epoch 220, Loss: 0.7067168951034546, Accuracy: 72.59998321533203\n",
            "Epoch 221, Loss: 0.7392178177833557, Accuracy: 72.15996551513672\n",
            "Epoch 222, Loss: 0.7154788970947266, Accuracy: 72.51998138427734\n",
            "Epoch 223, Loss: 0.7373290061950684, Accuracy: 71.95999145507812\n",
            "Epoch 224, Loss: 0.7373703718185425, Accuracy: 71.91998291015625\n",
            "Epoch 225, Loss: 0.7357982397079468, Accuracy: 71.8399887084961\n",
            "Epoch 226, Loss: 0.7588276863098145, Accuracy: 70.56000518798828\n",
            "Epoch 227, Loss: 0.7369740009307861, Accuracy: 72.7599868774414\n",
            "Epoch 228, Loss: 0.7707582712173462, Accuracy: 70.15998077392578\n",
            "Epoch 229, Loss: 0.7119183540344238, Accuracy: 71.55998992919922\n",
            "Epoch 230, Loss: 0.7541811466217041, Accuracy: 71.47999572753906\n",
            "Epoch 231, Loss: 0.7420259118080139, Accuracy: 71.03997039794922\n",
            "Epoch 232, Loss: 0.7086340188980103, Accuracy: 72.39995574951172\n",
            "Epoch 233, Loss: 0.7274274230003357, Accuracy: 72.71997833251953\n",
            "Epoch 234, Loss: 0.7469558119773865, Accuracy: 71.03997802734375\n",
            "Epoch 235, Loss: 0.7808984518051147, Accuracy: 70.68000793457031\n",
            "Epoch 236, Loss: 0.7027021050453186, Accuracy: 72.1600112915039\n",
            "Epoch 237, Loss: 0.7567732334136963, Accuracy: 70.1199951171875\n",
            "Epoch 238, Loss: 0.7881225347518921, Accuracy: 69.99999237060547\n",
            "Epoch 239, Loss: 0.7153429388999939, Accuracy: 73.08000183105469\n",
            "Epoch 240, Loss: 0.715308427810669, Accuracy: 73.47998809814453\n",
            "Epoch 241, Loss: 0.7455329895019531, Accuracy: 71.15998840332031\n",
            "Epoch 242, Loss: 0.7621492147445679, Accuracy: 70.83998107910156\n",
            "Epoch 243, Loss: 0.7171099185943604, Accuracy: 72.79999542236328\n",
            "Epoch 244, Loss: 0.7231290936470032, Accuracy: 72.71997833251953\n",
            "Epoch 245, Loss: 0.7488913536071777, Accuracy: 70.68000030517578\n",
            "Epoch 246, Loss: 0.7607208490371704, Accuracy: 70.39999389648438\n",
            "Epoch 247, Loss: 0.711361825466156, Accuracy: 72.11998748779297\n",
            "Epoch 248, Loss: 0.7134783267974854, Accuracy: 73.15999603271484\n",
            "Epoch 249, Loss: 0.7097615003585815, Accuracy: 72.8399887084961\n",
            "Epoch 250, Loss: 0.6942051649093628, Accuracy: 74.03999328613281\n",
            "Epoch 251, Loss: 0.7305718064308167, Accuracy: 71.39999389648438\n",
            "Epoch 252, Loss: 0.7025441527366638, Accuracy: 71.91999816894531\n",
            "Epoch 253, Loss: 0.7182130217552185, Accuracy: 72.239990234375\n",
            "Epoch 254, Loss: 0.7549939155578613, Accuracy: 71.19998168945312\n",
            "Epoch 255, Loss: 0.7438567876815796, Accuracy: 71.59999084472656\n",
            "Epoch 256, Loss: 0.6926626563072205, Accuracy: 73.43999481201172\n",
            "Epoch 257, Loss: 0.7375451922416687, Accuracy: 72.1199951171875\n",
            "Epoch 258, Loss: 0.7152516841888428, Accuracy: 72.15999603271484\n",
            "Epoch 259, Loss: 0.7254382371902466, Accuracy: 73.27999877929688\n",
            "Epoch 260, Loss: 0.7147230505943298, Accuracy: 72.95999908447266\n",
            "Epoch 261, Loss: 0.7103366851806641, Accuracy: 72.71997833251953\n"
          ]
        },
        {
          "output_type": "stream",
          "name": "stderr",
          "text": [
            "WARNING:tensorflow:Compiled the loaded model, but the compiled metrics have yet to be built. `model.compile_metrics` will be empty until you train or evaluate the model.\n"
          ]
        },
        {
          "output_type": "stream",
          "name": "stdout",
          "text": [
            "Saving new best model with loss:  0.6655491\n",
            "Epoch 262, Loss: 0.665549099445343, Accuracy: 75.63998413085938\n",
            "Epoch 263, Loss: 0.6727954149246216, Accuracy: 74.47998809814453\n",
            "Epoch 264, Loss: 0.7363635897636414, Accuracy: 71.19998168945312\n",
            "Epoch 265, Loss: 0.6917685866355896, Accuracy: 74.47998046875\n",
            "Epoch 266, Loss: 0.7386115789413452, Accuracy: 71.80000305175781\n",
            "Epoch 267, Loss: 0.7506627440452576, Accuracy: 70.59998321533203\n"
          ]
        },
        {
          "output_type": "stream",
          "name": "stderr",
          "text": [
            "WARNING:tensorflow:Compiled the loaded model, but the compiled metrics have yet to be built. `model.compile_metrics` will be empty until you train or evaluate the model.\n"
          ]
        },
        {
          "output_type": "stream",
          "name": "stdout",
          "text": [
            "Saving new best model with loss:  0.6220625\n",
            "Epoch 268, Loss: 0.6220625042915344, Accuracy: 76.47998809814453\n",
            "Epoch 269, Loss: 0.6661522388458252, Accuracy: 74.43998718261719\n",
            "Epoch 270, Loss: 0.7014400362968445, Accuracy: 73.19999694824219\n",
            "Epoch 271, Loss: 0.7115061283111572, Accuracy: 73.47996520996094\n",
            "Epoch 272, Loss: 0.7060481905937195, Accuracy: 73.5999984741211\n",
            "Epoch 273, Loss: 0.6803774833679199, Accuracy: 73.71998596191406\n",
            "Epoch 274, Loss: 0.7021225690841675, Accuracy: 72.95999145507812\n",
            "Epoch 275, Loss: 0.6827738285064697, Accuracy: 73.91999053955078\n",
            "Epoch 276, Loss: 0.692238450050354, Accuracy: 73.91997528076172\n",
            "Epoch 277, Loss: 0.6872799396514893, Accuracy: 73.79998016357422\n",
            "Epoch 278, Loss: 0.6710087656974792, Accuracy: 73.9999771118164\n",
            "Epoch 279, Loss: 0.7339423894882202, Accuracy: 72.56000518798828\n",
            "Epoch 280, Loss: 0.6858137249946594, Accuracy: 74.27999114990234\n",
            "Epoch 281, Loss: 0.7103102803230286, Accuracy: 73.87997436523438\n",
            "Epoch 282, Loss: 0.6523162126541138, Accuracy: 75.23998260498047\n",
            "Epoch 283, Loss: 0.7263993620872498, Accuracy: 73.47998809814453\n",
            "Epoch 284, Loss: 0.6940403580665588, Accuracy: 73.35999298095703\n",
            "Epoch 285, Loss: 0.6456265449523926, Accuracy: 75.47997283935547\n",
            "Epoch 286, Loss: 0.7303633093833923, Accuracy: 71.59998321533203\n",
            "Epoch 287, Loss: 0.6515987515449524, Accuracy: 75.91998291015625\n",
            "Epoch 288, Loss: 0.7342050671577454, Accuracy: 72.27999877929688\n",
            "Epoch 289, Loss: 0.6662666201591492, Accuracy: 75.3600082397461\n",
            "Epoch 290, Loss: 0.6579194664955139, Accuracy: 74.67997741699219\n",
            "Epoch 291, Loss: 0.7082937359809875, Accuracy: 72.87997436523438\n",
            "Epoch 292, Loss: 0.6860315799713135, Accuracy: 73.55998992919922\n",
            "Epoch 293, Loss: 0.7243279218673706, Accuracy: 72.15999603271484\n",
            "Epoch 294, Loss: 0.684756875038147, Accuracy: 73.4000015258789\n",
            "Epoch 295, Loss: 0.655485212802887, Accuracy: 75.11998748779297\n",
            "Epoch 296, Loss: 0.7143575549125671, Accuracy: 72.63998413085938\n",
            "Epoch 297, Loss: 0.6687434315681458, Accuracy: 74.07998657226562\n",
            "Epoch 298, Loss: 0.680538535118103, Accuracy: 74.83998107910156\n",
            "Epoch 299, Loss: 0.6903474926948547, Accuracy: 73.91997528076172\n",
            "Epoch 300, Loss: 0.6448225975036621, Accuracy: 75.6799545288086\n"
          ]
        }
      ],
      "source": [
        "#number of classes\n",
        "num_way = num_ways[0] \n",
        "\n",
        "#number of examples per class for support set\n",
        "num_shot = num_shots[0]  \n",
        "\n",
        "#number of query points\n",
        "num_query = num_shots[0] \n",
        "\n",
        "train_loss = tf.metrics.Mean(name='train_loss')\n",
        "train_acc = tf.metrics.Mean(name='train_accuracy')\n",
        "support = np.zeros([num_way, num_shot, img_height, img_width, 1], dtype=np.float32)\n",
        "query = np.zeros([num_way, num_query, img_height, img_width, 1], dtype=np.float32)\n",
        "model = Prototypical(support, query, 84, 84, 3)\n",
        "optimizer = tf.keras.optimizers.Adam(0.001)\n",
        "\n",
        "num_epochs = 300\n",
        "num_episodes = 100\n",
        "save_path = \"./results/models/mini_train0.h5\"\n",
        "\n",
        "@tf.function\n",
        "def loss(support, query):\n",
        "  loss, acc = model(support, query)\n",
        "  return loss, acc\n",
        "\n",
        "@tf.function\n",
        "def train_step(support, query):\n",
        "  with tf.GradientTape() as tape:\n",
        "    loss, acc = model(support, query)\n",
        "  gradients = tape.gradient(loss, model.trainable_variables)\n",
        "  optimizer.apply_gradients(\n",
        "        zip(gradients, model.trainable_variables))\n",
        "  train_loss(loss)\n",
        "  train_acc(acc)\n",
        "\n",
        "@tf.function\n",
        "def val_step(loss_func, support, query):\n",
        "  loss, acc = loss_func(support, query)\n",
        "  val_loss(loss)\n",
        "  val_acc(acc)\n",
        "\n",
        "least_loss = {'least_loss': 100.00}\n",
        "\n",
        "for epoch in range(num_epochs):\n",
        "  train_loss.reset_states()\n",
        "  train_acc.reset_states()\n",
        "\n",
        "  for episode in range(num_episodes):\n",
        "    train_support, train_query = get_next_batch(train_images, train_classes, num_way, num_shot, num_query)\n",
        "    train_step(train_support, train_query)\n",
        "\n",
        "  cur_loss = train_loss.result().numpy()\n",
        "  if cur_loss < least_loss['least_loss']:\n",
        "      print(\"Saving new best model with loss: \", cur_loss)\n",
        "      least_loss['least_loss'] = cur_loss\n",
        "      model.save(save_path)\n",
        "  template = 'Epoch {}, Loss: {}, Accuracy: {}'\n",
        "  print(template.format(epoch + 1, train_loss.result(), train_acc.result() * 100))"
      ]
    },
    {
      "cell_type": "code",
      "source": [
        "#number of classes\n",
        "num_way = num_ways[1] \n",
        "\n",
        "#number of examples per class for support set\n",
        "num_shot = num_shots[1]  \n",
        "\n",
        "#number of query points\n",
        "num_query = num_shots[1] \n",
        "\n",
        "train_loss = tf.metrics.Mean(name='train_loss')\n",
        "train_acc = tf.metrics.Mean(name='train_accuracy')\n",
        "support = np.zeros([num_way, num_shot, img_height, img_width, 1], dtype=np.float32)\n",
        "query = np.zeros([num_way, num_query, img_height, img_width, 1], dtype=np.float32)\n",
        "model = Prototypical(support, query, 84, 84, 3)\n",
        "optimizer = tf.keras.optimizers.Adam(0.001)\n",
        "\n",
        "num_epochs = 300\n",
        "num_episodes = 100\n",
        "save_path = \"./results/models/mini_train1.h5\"\n",
        "\n",
        "@tf.function\n",
        "def loss(support, query):\n",
        "  loss, acc = model(support, query)\n",
        "  return loss, acc\n",
        "\n",
        "@tf.function\n",
        "def train_step(support, query):\n",
        "  with tf.GradientTape() as tape:\n",
        "    loss, acc = model(support, query)\n",
        "  gradients = tape.gradient(loss, model.trainable_variables)\n",
        "  optimizer.apply_gradients(\n",
        "        zip(gradients, model.trainable_variables))\n",
        "  train_loss(loss)\n",
        "  train_acc(acc)\n",
        "\n",
        "@tf.function\n",
        "def val_step(loss_func, support, query):\n",
        "  loss, acc = loss_func(support, query)\n",
        "  val_loss(loss)\n",
        "  val_acc(acc)\n",
        "\n",
        "least_loss = {'least_loss': 100.00}\n",
        "\n",
        "for epoch in range(num_epochs):\n",
        "  train_loss.reset_states()\n",
        "  train_acc.reset_states()\n",
        "\n",
        "  for episode in range(num_episodes):\n",
        "    train_support, train_query = get_next_batch(train_images, train_classes, num_way, num_shot, num_query)\n",
        "    train_step(train_support, train_query)\n",
        "\n",
        "  cur_loss = train_loss.result().numpy()\n",
        "  if cur_loss < least_loss['least_loss']:\n",
        "      print(\"Saving new best model with loss: \", cur_loss)\n",
        "      least_loss['least_loss'] = cur_loss\n",
        "      model.save(save_path)\n",
        "  template = 'Epoch {}, Loss: {}, Accuracy: {}'\n",
        "  print(template.format(epoch + 1, train_loss.result(), train_acc.result() * 100))"
      ],
      "metadata": {
        "colab": {
          "base_uri": "https://localhost:8080/"
        },
        "id": "WRfjsbCEj1KY",
        "outputId": "8442b384-0097-4282-9e43-e045193dd6ad"
      },
      "execution_count": 40,
      "outputs": [
        {
          "output_type": "stream",
          "name": "stderr",
          "text": [
            "WARNING:tensorflow:Compiled the loaded model, but the compiled metrics have yet to be built. `model.compile_metrics` will be empty until you train or evaluate the model.\n"
          ]
        },
        {
          "output_type": "stream",
          "name": "stdout",
          "text": [
            "Saving new best model with loss:  1.8170062\n",
            "Epoch 1, Loss: 1.817006230354309, Accuracy: 29.59999656677246\n"
          ]
        },
        {
          "output_type": "stream",
          "name": "stderr",
          "text": [
            "WARNING:tensorflow:Compiled the loaded model, but the compiled metrics have yet to be built. `model.compile_metrics` will be empty until you train or evaluate the model.\n"
          ]
        },
        {
          "output_type": "stream",
          "name": "stdout",
          "text": [
            "Saving new best model with loss:  1.5980679\n",
            "Epoch 2, Loss: 1.5980678796768188, Accuracy: 27.000001907348633\n"
          ]
        },
        {
          "output_type": "stream",
          "name": "stderr",
          "text": [
            "WARNING:tensorflow:Compiled the loaded model, but the compiled metrics have yet to be built. `model.compile_metrics` will be empty until you train or evaluate the model.\n"
          ]
        },
        {
          "output_type": "stream",
          "name": "stdout",
          "text": [
            "Saving new best model with loss:  1.5783811\n",
            "Epoch 3, Loss: 1.578381061553955, Accuracy: 29.800016403198242\n"
          ]
        },
        {
          "output_type": "stream",
          "name": "stderr",
          "text": [
            "WARNING:tensorflow:Compiled the loaded model, but the compiled metrics have yet to be built. `model.compile_metrics` will be empty until you train or evaluate the model.\n"
          ]
        },
        {
          "output_type": "stream",
          "name": "stdout",
          "text": [
            "Saving new best model with loss:  1.5738657\n",
            "Epoch 4, Loss: 1.5738656520843506, Accuracy: 31.200010299682617\n",
            "Epoch 5, Loss: 1.5962512493133545, Accuracy: 26.000001907348633\n",
            "Epoch 6, Loss: 1.5899502038955688, Accuracy: 26.399999618530273\n",
            "Epoch 7, Loss: 1.5776376724243164, Accuracy: 33.00000762939453\n",
            "Epoch 8, Loss: 1.5874055624008179, Accuracy: 27.799999237060547\n",
            "Epoch 9, Loss: 1.592678189277649, Accuracy: 28.60000991821289\n",
            "Epoch 10, Loss: 1.5960270166397095, Accuracy: 30.200008392333984\n",
            "Epoch 11, Loss: 1.591036319732666, Accuracy: 28.800006866455078\n",
            "Epoch 12, Loss: 1.6099395751953125, Accuracy: 23.400005340576172\n",
            "Epoch 13, Loss: 1.5990464687347412, Accuracy: 27.00000762939453\n",
            "Epoch 14, Loss: 1.605156660079956, Accuracy: 25.60000991821289\n",
            "Epoch 15, Loss: 1.6224685907363892, Accuracy: 26.200014114379883\n",
            "Epoch 16, Loss: 1.6118780374526978, Accuracy: 30.400001525878906\n",
            "Epoch 17, Loss: 1.5985352993011475, Accuracy: 27.800010681152344\n",
            "Epoch 18, Loss: 1.615676999092102, Accuracy: 28.79999542236328\n",
            "Epoch 19, Loss: 1.6072626113891602, Accuracy: 29.0\n",
            "Epoch 20, Loss: 1.601110577583313, Accuracy: 29.20001220703125\n",
            "Epoch 21, Loss: 1.6085762977600098, Accuracy: 24.399999618530273\n",
            "Epoch 22, Loss: 1.6056628227233887, Accuracy: 28.000003814697266\n",
            "Epoch 23, Loss: 1.5997951030731201, Accuracy: 29.40000343322754\n",
            "Epoch 24, Loss: 1.6170512437820435, Accuracy: 30.600011825561523\n",
            "Epoch 25, Loss: 1.6260762214660645, Accuracy: 27.800004959106445\n",
            "Epoch 26, Loss: 1.6043118238449097, Accuracy: 28.400001525878906\n",
            "Epoch 27, Loss: 1.5961103439331055, Accuracy: 26.800003051757812\n",
            "Epoch 28, Loss: 1.5898274183273315, Accuracy: 29.800003051757812\n",
            "Epoch 29, Loss: 1.5938501358032227, Accuracy: 28.0\n",
            "Epoch 30, Loss: 1.5964299440383911, Accuracy: 26.00000762939453\n",
            "Epoch 31, Loss: 1.587985873222351, Accuracy: 27.200000762939453\n",
            "Epoch 32, Loss: 1.5920994281768799, Accuracy: 28.599998474121094\n",
            "Epoch 33, Loss: 1.6007447242736816, Accuracy: 27.400005340576172\n",
            "Epoch 34, Loss: 1.5967999696731567, Accuracy: 28.000003814697266\n",
            "Epoch 35, Loss: 1.5901559591293335, Accuracy: 25.199996948242188\n",
            "Epoch 36, Loss: 1.595436453819275, Accuracy: 26.200002670288086\n",
            "Epoch 37, Loss: 1.5889707803726196, Accuracy: 30.600006103515625\n",
            "Epoch 38, Loss: 1.5750622749328613, Accuracy: 28.800006866455078\n",
            "Epoch 39, Loss: 1.6177911758422852, Accuracy: 25.200002670288086\n",
            "Epoch 40, Loss: 1.6052603721618652, Accuracy: 25.400001525878906\n",
            "Epoch 41, Loss: 1.5837773084640503, Accuracy: 26.799991607666016\n",
            "Epoch 42, Loss: 1.5966585874557495, Accuracy: 26.80000114440918\n",
            "Epoch 43, Loss: 1.5939728021621704, Accuracy: 26.20000457763672\n",
            "Epoch 44, Loss: 1.595481514930725, Accuracy: 25.0000057220459\n",
            "Epoch 45, Loss: 1.589565396308899, Accuracy: 27.599998474121094\n",
            "Epoch 46, Loss: 1.5971211194992065, Accuracy: 27.400007247924805\n",
            "Epoch 47, Loss: 1.5913472175598145, Accuracy: 30.400001525878906\n",
            "Epoch 48, Loss: 1.6040149927139282, Accuracy: 23.20000457763672\n",
            "Epoch 49, Loss: 1.590211033821106, Accuracy: 30.400001525878906\n",
            "Epoch 50, Loss: 1.588634967803955, Accuracy: 28.40000343322754\n",
            "Epoch 51, Loss: 1.599310040473938, Accuracy: 25.600008010864258\n",
            "Epoch 52, Loss: 1.574802279472351, Accuracy: 31.200016021728516\n",
            "Epoch 53, Loss: 1.590187668800354, Accuracy: 27.600008010864258\n"
          ]
        },
        {
          "output_type": "stream",
          "name": "stderr",
          "text": [
            "WARNING:tensorflow:Compiled the loaded model, but the compiled metrics have yet to be built. `model.compile_metrics` will be empty until you train or evaluate the model.\n"
          ]
        },
        {
          "output_type": "stream",
          "name": "stdout",
          "text": [
            "Saving new best model with loss:  1.5713428\n",
            "Epoch 54, Loss: 1.5713428258895874, Accuracy: 29.199993133544922\n",
            "Epoch 55, Loss: 1.5884591341018677, Accuracy: 28.199996948242188\n"
          ]
        },
        {
          "output_type": "stream",
          "name": "stderr",
          "text": [
            "WARNING:tensorflow:Compiled the loaded model, but the compiled metrics have yet to be built. `model.compile_metrics` will be empty until you train or evaluate the model.\n"
          ]
        },
        {
          "output_type": "stream",
          "name": "stdout",
          "text": [
            "Saving new best model with loss:  1.5657837\n",
            "Epoch 56, Loss: 1.5657837390899658, Accuracy: 29.60000991821289\n",
            "Epoch 57, Loss: 1.5766587257385254, Accuracy: 29.19999885559082\n"
          ]
        },
        {
          "output_type": "stream",
          "name": "stderr",
          "text": [
            "WARNING:tensorflow:Compiled the loaded model, but the compiled metrics have yet to be built. `model.compile_metrics` will be empty until you train or evaluate the model.\n"
          ]
        },
        {
          "output_type": "stream",
          "name": "stdout",
          "text": [
            "Saving new best model with loss:  1.5637089\n",
            "Epoch 58, Loss: 1.5637089014053345, Accuracy: 30.200016021728516\n",
            "Epoch 59, Loss: 1.5717309713363647, Accuracy: 29.200008392333984\n",
            "Epoch 60, Loss: 1.5704656839370728, Accuracy: 32.20001220703125\n",
            "Epoch 61, Loss: 1.581113338470459, Accuracy: 27.200000762939453\n",
            "Epoch 62, Loss: 1.5793975591659546, Accuracy: 28.40000343322754\n",
            "Epoch 63, Loss: 1.5943591594696045, Accuracy: 26.600000381469727\n",
            "Epoch 64, Loss: 1.5907173156738281, Accuracy: 30.200008392333984\n",
            "Epoch 65, Loss: 1.5901985168457031, Accuracy: 25.600008010864258\n",
            "Epoch 66, Loss: 1.586402416229248, Accuracy: 30.20000457763672\n",
            "Epoch 67, Loss: 1.5717462301254272, Accuracy: 30.00000762939453\n",
            "Epoch 68, Loss: 1.6154898405075073, Accuracy: 25.800020217895508\n",
            "Epoch 69, Loss: 1.6088734865188599, Accuracy: 25.80000114440918\n",
            "Epoch 70, Loss: 1.6021003723144531, Accuracy: 27.200000762939453\n"
          ]
        },
        {
          "output_type": "stream",
          "name": "stderr",
          "text": [
            "WARNING:tensorflow:Compiled the loaded model, but the compiled metrics have yet to be built. `model.compile_metrics` will be empty until you train or evaluate the model.\n"
          ]
        },
        {
          "output_type": "stream",
          "name": "stdout",
          "text": [
            "Saving new best model with loss:  1.5566028\n",
            "Epoch 71, Loss: 1.5566028356552124, Accuracy: 29.600006103515625\n",
            "Epoch 72, Loss: 1.6061034202575684, Accuracy: 25.000009536743164\n",
            "Epoch 73, Loss: 1.6088465452194214, Accuracy: 25.200000762939453\n",
            "Epoch 74, Loss: 1.5975040197372437, Accuracy: 24.600000381469727\n",
            "Epoch 75, Loss: 1.5826796293258667, Accuracy: 25.799999237060547\n",
            "Epoch 76, Loss: 1.5786575078964233, Accuracy: 27.80000877380371\n",
            "Epoch 77, Loss: 1.5772209167480469, Accuracy: 29.0000057220459\n",
            "Epoch 78, Loss: 1.582288384437561, Accuracy: 28.400009155273438\n",
            "Epoch 79, Loss: 1.5632297992706299, Accuracy: 30.20000457763672\n",
            "Epoch 80, Loss: 1.5806463956832886, Accuracy: 28.000003814697266\n",
            "Epoch 81, Loss: 1.5856215953826904, Accuracy: 30.000003814697266\n"
          ]
        },
        {
          "output_type": "stream",
          "name": "stderr",
          "text": [
            "WARNING:tensorflow:Compiled the loaded model, but the compiled metrics have yet to be built. `model.compile_metrics` will be empty until you train or evaluate the model.\n"
          ]
        },
        {
          "output_type": "stream",
          "name": "stdout",
          "text": [
            "Saving new best model with loss:  1.5494128\n",
            "Epoch 82, Loss: 1.5494128465652466, Accuracy: 30.200000762939453\n",
            "Epoch 83, Loss: 1.5583034753799438, Accuracy: 27.600006103515625\n"
          ]
        },
        {
          "output_type": "stream",
          "name": "stderr",
          "text": [
            "WARNING:tensorflow:Compiled the loaded model, but the compiled metrics have yet to be built. `model.compile_metrics` will be empty until you train or evaluate the model.\n"
          ]
        },
        {
          "output_type": "stream",
          "name": "stdout",
          "text": [
            "Saving new best model with loss:  1.5444728\n",
            "Epoch 84, Loss: 1.5444728136062622, Accuracy: 30.400007247924805\n",
            "Epoch 85, Loss: 1.5765330791473389, Accuracy: 31.400009155273438\n",
            "Epoch 86, Loss: 1.558260202407837, Accuracy: 35.599998474121094\n",
            "Epoch 87, Loss: 1.5560507774353027, Accuracy: 28.60000991821289\n",
            "Epoch 88, Loss: 1.546186923980713, Accuracy: 31.000003814697266\n",
            "Epoch 89, Loss: 1.5686509609222412, Accuracy: 30.20000457763672\n"
          ]
        },
        {
          "output_type": "stream",
          "name": "stderr",
          "text": [
            "WARNING:tensorflow:Compiled the loaded model, but the compiled metrics have yet to be built. `model.compile_metrics` will be empty until you train or evaluate the model.\n"
          ]
        },
        {
          "output_type": "stream",
          "name": "stdout",
          "text": [
            "Saving new best model with loss:  1.5357001\n",
            "Epoch 90, Loss: 1.5357000827789307, Accuracy: 29.800003051757812\n",
            "Epoch 91, Loss: 1.569483995437622, Accuracy: 31.40000343322754\n",
            "Epoch 92, Loss: 1.5507889986038208, Accuracy: 29.59999656677246\n",
            "Epoch 93, Loss: 1.54433274269104, Accuracy: 31.600004196166992\n"
          ]
        },
        {
          "output_type": "stream",
          "name": "stderr",
          "text": [
            "WARNING:tensorflow:Compiled the loaded model, but the compiled metrics have yet to be built. `model.compile_metrics` will be empty until you train or evaluate the model.\n"
          ]
        },
        {
          "output_type": "stream",
          "name": "stdout",
          "text": [
            "Saving new best model with loss:  1.5291535\n",
            "Epoch 94, Loss: 1.5291534662246704, Accuracy: 33.40000915527344\n",
            "Epoch 95, Loss: 1.5742738246917725, Accuracy: 30.199995040893555\n",
            "Epoch 96, Loss: 1.5600714683532715, Accuracy: 29.800006866455078\n",
            "Epoch 97, Loss: 1.555006980895996, Accuracy: 32.60000991821289\n",
            "Epoch 98, Loss: 1.5343806743621826, Accuracy: 32.400001525878906\n"
          ]
        },
        {
          "output_type": "stream",
          "name": "stderr",
          "text": [
            "WARNING:tensorflow:Compiled the loaded model, but the compiled metrics have yet to be built. `model.compile_metrics` will be empty until you train or evaluate the model.\n"
          ]
        },
        {
          "output_type": "stream",
          "name": "stdout",
          "text": [
            "Saving new best model with loss:  1.5180907\n",
            "Epoch 99, Loss: 1.5180907249450684, Accuracy: 31.80000114440918\n"
          ]
        },
        {
          "output_type": "stream",
          "name": "stderr",
          "text": [
            "WARNING:tensorflow:Compiled the loaded model, but the compiled metrics have yet to be built. `model.compile_metrics` will be empty until you train or evaluate the model.\n"
          ]
        },
        {
          "output_type": "stream",
          "name": "stdout",
          "text": [
            "Saving new best model with loss:  1.5176773\n",
            "Epoch 100, Loss: 1.5176773071289062, Accuracy: 34.60000991821289\n",
            "Epoch 101, Loss: 1.5804411172866821, Accuracy: 27.60000228881836\n",
            "Epoch 102, Loss: 1.5395206212997437, Accuracy: 33.40000534057617\n",
            "Epoch 103, Loss: 1.5511298179626465, Accuracy: 29.600000381469727\n"
          ]
        },
        {
          "output_type": "stream",
          "name": "stderr",
          "text": [
            "WARNING:tensorflow:Compiled the loaded model, but the compiled metrics have yet to be built. `model.compile_metrics` will be empty until you train or evaluate the model.\n"
          ]
        },
        {
          "output_type": "stream",
          "name": "stdout",
          "text": [
            "Saving new best model with loss:  1.5129333\n",
            "Epoch 104, Loss: 1.5129332542419434, Accuracy: 32.79999923706055\n",
            "Epoch 105, Loss: 1.5201624631881714, Accuracy: 32.40000915527344\n",
            "Epoch 106, Loss: 1.5263992547988892, Accuracy: 34.4000129699707\n"
          ]
        },
        {
          "output_type": "stream",
          "name": "stderr",
          "text": [
            "WARNING:tensorflow:Compiled the loaded model, but the compiled metrics have yet to be built. `model.compile_metrics` will be empty until you train or evaluate the model.\n"
          ]
        },
        {
          "output_type": "stream",
          "name": "stdout",
          "text": [
            "Saving new best model with loss:  1.5011843\n",
            "Epoch 107, Loss: 1.501184344291687, Accuracy: 33.40000915527344\n",
            "Epoch 108, Loss: 1.5235011577606201, Accuracy: 32.800010681152344\n",
            "Epoch 109, Loss: 1.5458661317825317, Accuracy: 31.60000228881836\n",
            "Epoch 110, Loss: 1.5066375732421875, Accuracy: 32.800010681152344\n"
          ]
        },
        {
          "output_type": "stream",
          "name": "stderr",
          "text": [
            "WARNING:tensorflow:Compiled the loaded model, but the compiled metrics have yet to be built. `model.compile_metrics` will be empty until you train or evaluate the model.\n"
          ]
        },
        {
          "output_type": "stream",
          "name": "stdout",
          "text": [
            "Saving new best model with loss:  1.4968817\n",
            "Epoch 111, Loss: 1.4968817234039307, Accuracy: 36.40000534057617\n"
          ]
        },
        {
          "output_type": "stream",
          "name": "stderr",
          "text": [
            "WARNING:tensorflow:Compiled the loaded model, but the compiled metrics have yet to be built. `model.compile_metrics` will be empty until you train or evaluate the model.\n"
          ]
        },
        {
          "output_type": "stream",
          "name": "stdout",
          "text": [
            "Saving new best model with loss:  1.491975\n",
            "Epoch 112, Loss: 1.491974949836731, Accuracy: 35.40000915527344\n",
            "Epoch 113, Loss: 1.5800172090530396, Accuracy: 27.400007247924805\n",
            "Epoch 114, Loss: 1.5241214036941528, Accuracy: 33.20000457763672\n",
            "Epoch 115, Loss: 1.5058581829071045, Accuracy: 32.80000686645508\n",
            "Epoch 116, Loss: 1.4926759004592896, Accuracy: 34.800010681152344\n"
          ]
        },
        {
          "output_type": "stream",
          "name": "stderr",
          "text": [
            "WARNING:tensorflow:Compiled the loaded model, but the compiled metrics have yet to be built. `model.compile_metrics` will be empty until you train or evaluate the model.\n"
          ]
        },
        {
          "output_type": "stream",
          "name": "stdout",
          "text": [
            "Saving new best model with loss:  1.4851592\n",
            "Epoch 117, Loss: 1.485159158706665, Accuracy: 34.400001525878906\n",
            "Epoch 118, Loss: 1.506093144416809, Accuracy: 35.0000114440918\n",
            "Epoch 119, Loss: 1.5014859437942505, Accuracy: 34.0000114440918\n",
            "Epoch 120, Loss: 1.4867182970046997, Accuracy: 36.600006103515625\n",
            "Epoch 121, Loss: 1.558376431465149, Accuracy: 28.20000648498535\n",
            "Epoch 122, Loss: 1.5183771848678589, Accuracy: 34.0\n",
            "Epoch 123, Loss: 1.486169695854187, Accuracy: 35.600006103515625\n",
            "Epoch 124, Loss: 1.517836093902588, Accuracy: 33.4000129699707\n",
            "Epoch 125, Loss: 1.5185844898223877, Accuracy: 32.4000129699707\n",
            "Epoch 126, Loss: 1.6109732389450073, Accuracy: 22.400005340576172\n",
            "Epoch 127, Loss: 1.6082847118377686, Accuracy: 23.800004959106445\n",
            "Epoch 128, Loss: 1.6089470386505127, Accuracy: 26.200008392333984\n",
            "Epoch 129, Loss: 1.5816850662231445, Accuracy: 25.200002670288086\n",
            "Epoch 130, Loss: 1.4899252653121948, Accuracy: 35.20000457763672\n",
            "Epoch 131, Loss: 1.5300071239471436, Accuracy: 30.800004959106445\n",
            "Epoch 132, Loss: 1.49737548828125, Accuracy: 33.800010681152344\n",
            "Epoch 133, Loss: 1.5055938959121704, Accuracy: 36.200008392333984\n"
          ]
        },
        {
          "output_type": "stream",
          "name": "stderr",
          "text": [
            "WARNING:tensorflow:Compiled the loaded model, but the compiled metrics have yet to be built. `model.compile_metrics` will be empty until you train or evaluate the model.\n"
          ]
        },
        {
          "output_type": "stream",
          "name": "stdout",
          "text": [
            "Saving new best model with loss:  1.4553257\n",
            "Epoch 134, Loss: 1.455325722694397, Accuracy: 37.400001525878906\n",
            "Epoch 135, Loss: 1.4608250856399536, Accuracy: 39.0000114440918\n",
            "Epoch 136, Loss: 1.4972991943359375, Accuracy: 32.80000686645508\n",
            "Epoch 137, Loss: 1.470079779624939, Accuracy: 39.20000457763672\n",
            "Epoch 138, Loss: 1.4920802116394043, Accuracy: 36.800018310546875\n",
            "Epoch 139, Loss: 1.487553596496582, Accuracy: 34.20002365112305\n",
            "Epoch 140, Loss: 1.4742950201034546, Accuracy: 34.20000076293945\n"
          ]
        },
        {
          "output_type": "stream",
          "name": "stderr",
          "text": [
            "WARNING:tensorflow:Compiled the loaded model, but the compiled metrics have yet to be built. `model.compile_metrics` will be empty until you train or evaluate the model.\n"
          ]
        },
        {
          "output_type": "stream",
          "name": "stdout",
          "text": [
            "Saving new best model with loss:  1.4277016\n",
            "Epoch 141, Loss: 1.4277015924453735, Accuracy: 38.00000762939453\n",
            "Epoch 142, Loss: 1.504123568534851, Accuracy: 35.40000534057617\n",
            "Epoch 143, Loss: 1.4833451509475708, Accuracy: 31.39999771118164\n",
            "Epoch 144, Loss: 1.5036369562149048, Accuracy: 35.00001525878906\n",
            "Epoch 145, Loss: 1.537134051322937, Accuracy: 32.40000915527344\n",
            "Epoch 146, Loss: 1.4638296365737915, Accuracy: 38.60000228881836\n"
          ]
        },
        {
          "output_type": "stream",
          "name": "stderr",
          "text": [
            "WARNING:tensorflow:Compiled the loaded model, but the compiled metrics have yet to be built. `model.compile_metrics` will be empty until you train or evaluate the model.\n"
          ]
        },
        {
          "output_type": "stream",
          "name": "stdout",
          "text": [
            "Saving new best model with loss:  1.4057684\n",
            "Epoch 147, Loss: 1.4057683944702148, Accuracy: 40.60000991821289\n",
            "Epoch 148, Loss: 1.4599841833114624, Accuracy: 37.80001449584961\n",
            "Epoch 149, Loss: 1.4728188514709473, Accuracy: 36.20000076293945\n",
            "Epoch 150, Loss: 1.4711740016937256, Accuracy: 37.00001907348633\n",
            "Epoch 151, Loss: 1.4516698122024536, Accuracy: 33.00000762939453\n"
          ]
        },
        {
          "output_type": "stream",
          "name": "stderr",
          "text": [
            "WARNING:tensorflow:Compiled the loaded model, but the compiled metrics have yet to be built. `model.compile_metrics` will be empty until you train or evaluate the model.\n"
          ]
        },
        {
          "output_type": "stream",
          "name": "stdout",
          "text": [
            "Saving new best model with loss:  1.3762789\n",
            "Epoch 152, Loss: 1.3762788772583008, Accuracy: 41.40001678466797\n",
            "Epoch 153, Loss: 1.4752475023269653, Accuracy: 37.80002212524414\n",
            "Epoch 154, Loss: 1.4914356470108032, Accuracy: 36.400001525878906\n",
            "Epoch 155, Loss: 1.445203423500061, Accuracy: 37.80000686645508\n",
            "Epoch 156, Loss: 1.459334373474121, Accuracy: 35.80000305175781\n",
            "Epoch 157, Loss: 1.4892969131469727, Accuracy: 36.600013732910156\n",
            "Epoch 158, Loss: 1.4654866456985474, Accuracy: 40.20000076293945\n",
            "Epoch 159, Loss: 1.4413331747055054, Accuracy: 39.4000129699707\n",
            "Epoch 160, Loss: 1.440226435661316, Accuracy: 39.40000915527344\n",
            "Epoch 161, Loss: 1.4463189840316772, Accuracy: 39.80000686645508\n",
            "Epoch 162, Loss: 1.4760432243347168, Accuracy: 37.60000991821289\n",
            "Epoch 163, Loss: 1.4434226751327515, Accuracy: 37.80001449584961\n",
            "Epoch 164, Loss: 1.4587632417678833, Accuracy: 36.19999694824219\n",
            "Epoch 165, Loss: 1.4412177801132202, Accuracy: 36.800010681152344\n",
            "Epoch 166, Loss: 1.454077959060669, Accuracy: 37.20000457763672\n",
            "Epoch 167, Loss: 1.43009614944458, Accuracy: 39.00000762939453\n",
            "Epoch 168, Loss: 1.445526123046875, Accuracy: 36.200008392333984\n",
            "Epoch 169, Loss: 1.4151476621627808, Accuracy: 36.79999923706055\n",
            "Epoch 170, Loss: 1.4547450542449951, Accuracy: 36.40000534057617\n",
            "Epoch 171, Loss: 1.4237746000289917, Accuracy: 41.40000534057617\n",
            "Epoch 172, Loss: 1.4935358762741089, Accuracy: 35.00001525878906\n",
            "Epoch 173, Loss: 1.4407271146774292, Accuracy: 38.20001220703125\n",
            "Epoch 174, Loss: 1.4390145540237427, Accuracy: 39.200008392333984\n",
            "Epoch 175, Loss: 1.4106712341308594, Accuracy: 39.600013732910156\n",
            "Epoch 176, Loss: 1.4513016939163208, Accuracy: 37.600006103515625\n",
            "Epoch 177, Loss: 1.4231895208358765, Accuracy: 38.40000534057617\n",
            "Epoch 178, Loss: 1.463273048400879, Accuracy: 38.80001449584961\n",
            "Epoch 179, Loss: 1.4829591512680054, Accuracy: 35.20001220703125\n",
            "Epoch 180, Loss: 1.3908202648162842, Accuracy: 42.600006103515625\n",
            "Epoch 181, Loss: 1.4316306114196777, Accuracy: 40.00000762939453\n",
            "Epoch 182, Loss: 1.4770327806472778, Accuracy: 35.200016021728516\n",
            "Epoch 183, Loss: 1.4391844272613525, Accuracy: 36.80000305175781\n",
            "Epoch 184, Loss: 1.4106754064559937, Accuracy: 40.40000915527344\n",
            "Epoch 185, Loss: 1.490004062652588, Accuracy: 34.00001525878906\n",
            "Epoch 186, Loss: 1.4697482585906982, Accuracy: 36.00000762939453\n",
            "Epoch 187, Loss: 1.4261380434036255, Accuracy: 40.4000129699707\n",
            "Epoch 188, Loss: 1.435316801071167, Accuracy: 37.60000991821289\n",
            "Epoch 189, Loss: 1.4857743978500366, Accuracy: 35.20001983642578\n",
            "Epoch 190, Loss: 1.4366320371627808, Accuracy: 41.20001220703125\n",
            "Epoch 191, Loss: 1.4276483058929443, Accuracy: 39.200016021728516\n",
            "Epoch 192, Loss: 1.4147453308105469, Accuracy: 41.80000305175781\n",
            "Epoch 193, Loss: 1.4342399835586548, Accuracy: 37.400020599365234\n",
            "Epoch 194, Loss: 1.4371227025985718, Accuracy: 38.80002212524414\n",
            "Epoch 195, Loss: 1.4120842218399048, Accuracy: 41.39999771118164\n",
            "Epoch 196, Loss: 1.4688925743103027, Accuracy: 36.60000991821289\n",
            "Epoch 197, Loss: 1.432030439376831, Accuracy: 38.60000991821289\n",
            "Epoch 198, Loss: 1.4260444641113281, Accuracy: 38.80000686645508\n",
            "Epoch 199, Loss: 1.4339317083358765, Accuracy: 36.39999771118164\n",
            "Epoch 200, Loss: 1.4249906539916992, Accuracy: 38.80000686645508\n",
            "Epoch 201, Loss: 1.4402058124542236, Accuracy: 38.000003814697266\n",
            "Epoch 202, Loss: 1.4548211097717285, Accuracy: 38.600013732910156\n",
            "Epoch 203, Loss: 1.4325425624847412, Accuracy: 39.40000534057617\n",
            "Epoch 204, Loss: 1.4434973001480103, Accuracy: 38.600013732910156\n",
            "Epoch 205, Loss: 1.4067280292510986, Accuracy: 41.400020599365234\n",
            "Epoch 206, Loss: 1.3828867673873901, Accuracy: 40.40000915527344\n",
            "Epoch 207, Loss: 1.4580180644989014, Accuracy: 38.999996185302734\n",
            "Epoch 208, Loss: 1.4041942358016968, Accuracy: 42.600013732910156\n",
            "Epoch 209, Loss: 1.4443750381469727, Accuracy: 39.60001754760742\n",
            "Epoch 210, Loss: 1.4153296947479248, Accuracy: 39.00000762939453\n",
            "Epoch 211, Loss: 1.39711594581604, Accuracy: 40.80001449584961\n",
            "Epoch 212, Loss: 1.3863730430603027, Accuracy: 43.20001983642578\n",
            "Epoch 213, Loss: 1.3938075304031372, Accuracy: 41.20001220703125\n",
            "Epoch 214, Loss: 1.440606713294983, Accuracy: 38.20000457763672\n"
          ]
        },
        {
          "output_type": "stream",
          "name": "stderr",
          "text": [
            "WARNING:tensorflow:Compiled the loaded model, but the compiled metrics have yet to be built. `model.compile_metrics` will be empty until you train or evaluate the model.\n"
          ]
        },
        {
          "output_type": "stream",
          "name": "stdout",
          "text": [
            "Saving new best model with loss:  1.3701181\n",
            "Epoch 215, Loss: 1.3701181411743164, Accuracy: 42.39999771118164\n",
            "Epoch 216, Loss: 1.4251720905303955, Accuracy: 37.40000534057617\n",
            "Epoch 217, Loss: 1.4279922246932983, Accuracy: 41.20000457763672\n",
            "Epoch 218, Loss: 1.4362514019012451, Accuracy: 35.4000129699707\n",
            "Epoch 219, Loss: 1.4113045930862427, Accuracy: 39.0000114440918\n",
            "Epoch 220, Loss: 1.4285786151885986, Accuracy: 37.00001525878906\n",
            "Epoch 221, Loss: 1.386811375617981, Accuracy: 39.600006103515625\n",
            "Epoch 222, Loss: 1.4368916749954224, Accuracy: 37.800010681152344\n",
            "Epoch 223, Loss: 1.391342282295227, Accuracy: 41.4000129699707\n",
            "Epoch 224, Loss: 1.4130915403366089, Accuracy: 41.0000114440918\n",
            "Epoch 225, Loss: 1.4177261590957642, Accuracy: 37.00001907348633\n",
            "Epoch 226, Loss: 1.468084692955017, Accuracy: 33.40000915527344\n",
            "Epoch 227, Loss: 1.4590815305709839, Accuracy: 36.80000686645508\n",
            "Epoch 228, Loss: 1.4627364873886108, Accuracy: 39.20000457763672\n",
            "Epoch 229, Loss: 1.430832862854004, Accuracy: 34.00001525878906\n",
            "Epoch 230, Loss: 1.401880145072937, Accuracy: 41.600013732910156\n",
            "Epoch 231, Loss: 1.4225877523422241, Accuracy: 38.20002365112305\n",
            "Epoch 232, Loss: 1.4213489294052124, Accuracy: 39.40000915527344\n",
            "Epoch 233, Loss: 1.3850250244140625, Accuracy: 42.39999771118164\n",
            "Epoch 234, Loss: 1.3936480283737183, Accuracy: 39.4000244140625\n",
            "Epoch 235, Loss: 1.433892846107483, Accuracy: 39.60000991821289\n",
            "Epoch 236, Loss: 1.3964486122131348, Accuracy: 39.80001449584961\n",
            "Epoch 237, Loss: 1.392561435699463, Accuracy: 38.40000915527344\n",
            "Epoch 238, Loss: 1.433549165725708, Accuracy: 41.000003814697266\n",
            "Epoch 239, Loss: 1.4082777500152588, Accuracy: 43.00000762939453\n",
            "Epoch 240, Loss: 1.4251513481140137, Accuracy: 38.0000114440918\n",
            "Epoch 241, Loss: 1.4335219860076904, Accuracy: 38.20001220703125\n",
            "Epoch 242, Loss: 1.4470608234405518, Accuracy: 40.600013732910156\n",
            "Epoch 243, Loss: 1.412744164466858, Accuracy: 41.19999694824219\n",
            "Epoch 244, Loss: 1.4141862392425537, Accuracy: 42.799991607666016\n",
            "Epoch 245, Loss: 1.40421724319458, Accuracy: 42.40000915527344\n",
            "Epoch 246, Loss: 1.3779476881027222, Accuracy: 43.20001220703125\n",
            "Epoch 247, Loss: 1.432070255279541, Accuracy: 39.60000228881836\n",
            "Epoch 248, Loss: 1.3760508298873901, Accuracy: 41.20001220703125\n",
            "Epoch 249, Loss: 1.4389007091522217, Accuracy: 38.60000991821289\n",
            "Epoch 250, Loss: 1.37860107421875, Accuracy: 39.599998474121094\n",
            "Epoch 251, Loss: 1.3803104162216187, Accuracy: 46.60000991821289\n",
            "Epoch 252, Loss: 1.389083743095398, Accuracy: 39.0\n",
            "Epoch 253, Loss: 1.4934622049331665, Accuracy: 35.20001220703125\n",
            "Epoch 254, Loss: 1.4890904426574707, Accuracy: 35.79999542236328\n",
            "Epoch 255, Loss: 1.4107937812805176, Accuracy: 41.00001525878906\n",
            "Epoch 256, Loss: 1.4129692316055298, Accuracy: 40.199989318847656\n",
            "Epoch 257, Loss: 1.397059440612793, Accuracy: 41.600013732910156\n",
            "Epoch 258, Loss: 1.4336766004562378, Accuracy: 39.400001525878906\n",
            "Epoch 259, Loss: 1.4411817789077759, Accuracy: 35.80000686645508\n",
            "Epoch 260, Loss: 1.4256277084350586, Accuracy: 39.00000762939453\n"
          ]
        },
        {
          "output_type": "stream",
          "name": "stderr",
          "text": [
            "WARNING:tensorflow:Compiled the loaded model, but the compiled metrics have yet to be built. `model.compile_metrics` will be empty until you train or evaluate the model.\n"
          ]
        },
        {
          "output_type": "stream",
          "name": "stdout",
          "text": [
            "Saving new best model with loss:  1.3532095\n",
            "Epoch 261, Loss: 1.3532094955444336, Accuracy: 46.40000915527344\n",
            "Epoch 262, Loss: 1.4321873188018799, Accuracy: 39.400001525878906\n",
            "Epoch 263, Loss: 1.4016871452331543, Accuracy: 42.200016021728516\n",
            "Epoch 264, Loss: 1.4112563133239746, Accuracy: 39.600013732910156\n",
            "Epoch 265, Loss: 1.4232919216156006, Accuracy: 39.20000076293945\n",
            "Epoch 266, Loss: 1.4339066743850708, Accuracy: 38.00001525878906\n",
            "Epoch 267, Loss: 1.3723608255386353, Accuracy: 42.999996185302734\n",
            "Epoch 268, Loss: 1.3980565071105957, Accuracy: 43.60000228881836\n",
            "Epoch 269, Loss: 1.394945502281189, Accuracy: 39.40000915527344\n",
            "Epoch 270, Loss: 1.3995126485824585, Accuracy: 42.800010681152344\n",
            "Epoch 271, Loss: 1.390956163406372, Accuracy: 42.80001449584961\n",
            "Epoch 272, Loss: 1.3727874755859375, Accuracy: 42.200008392333984\n",
            "Epoch 273, Loss: 1.3927197456359863, Accuracy: 38.200008392333984\n",
            "Epoch 274, Loss: 1.401944637298584, Accuracy: 39.60000991821289\n",
            "Epoch 275, Loss: 1.371337890625, Accuracy: 40.20001220703125\n",
            "Epoch 276, Loss: 1.4245572090148926, Accuracy: 38.40001678466797\n",
            "Epoch 277, Loss: 1.3798434734344482, Accuracy: 39.800018310546875\n",
            "Epoch 278, Loss: 1.4155372381210327, Accuracy: 39.0\n",
            "Epoch 279, Loss: 1.3797144889831543, Accuracy: 41.800018310546875\n",
            "Epoch 280, Loss: 1.4214550256729126, Accuracy: 37.400001525878906\n",
            "Epoch 281, Loss: 1.4570937156677246, Accuracy: 36.40000915527344\n",
            "Epoch 282, Loss: 1.4158318042755127, Accuracy: 41.00000762939453\n",
            "Epoch 283, Loss: 1.3547439575195312, Accuracy: 43.4000129699707\n",
            "Epoch 284, Loss: 1.3854478597640991, Accuracy: 40.40000915527344\n",
            "Epoch 285, Loss: 1.3803646564483643, Accuracy: 40.800010681152344\n",
            "Epoch 286, Loss: 1.3724066019058228, Accuracy: 41.600006103515625\n",
            "Epoch 287, Loss: 1.3977986574172974, Accuracy: 38.00000762939453\n",
            "Epoch 288, Loss: 1.3892624378204346, Accuracy: 41.399993896484375\n",
            "Epoch 289, Loss: 1.3709847927093506, Accuracy: 43.0000114440918\n",
            "Epoch 290, Loss: 1.4258818626403809, Accuracy: 37.79999923706055\n",
            "Epoch 291, Loss: 1.4208563566207886, Accuracy: 38.20001220703125\n",
            "Epoch 292, Loss: 1.4049313068389893, Accuracy: 39.20001220703125\n",
            "Epoch 293, Loss: 1.3666577339172363, Accuracy: 40.00001525878906\n",
            "Epoch 294, Loss: 1.3975286483764648, Accuracy: 40.60000991821289\n",
            "Epoch 295, Loss: 1.354116678237915, Accuracy: 43.20000457763672\n",
            "Epoch 296, Loss: 1.4056389331817627, Accuracy: 39.600013732910156\n",
            "Epoch 297, Loss: 1.3755276203155518, Accuracy: 41.80000686645508\n",
            "Epoch 298, Loss: 1.4018816947937012, Accuracy: 40.40001678466797\n",
            "Epoch 299, Loss: 1.3975263833999634, Accuracy: 43.00001907348633\n",
            "Epoch 300, Loss: 1.3696722984313965, Accuracy: 41.4000129699707\n"
          ]
        }
      ]
    },
    {
      "cell_type": "code",
      "execution_count": 44,
      "metadata": {
        "colab": {
          "base_uri": "https://localhost:8080/"
        },
        "id": "_TG0KXWv-cNK",
        "outputId": "572d4ed7-5321-42ce-f6dc-64fab033d3d0"
      },
      "outputs": [
        {
          "output_type": "stream",
          "name": "stdout",
          "text": [
            "Model loaded.\n",
            "Episode:  50\n",
            "Episode:  100\n",
            "Episode:  150\n",
            "Episode:  200\n",
            "Episode:  250\n",
            "Episode:  300\n",
            "Episode:  350\n",
            "Episode:  400\n",
            "Episode:  450\n",
            "Episode:  500\n",
            "Episode:  550\n",
            "Episode:  600\n",
            "Episode:  650\n",
            "Episode:  700\n",
            "Episode:  750\n",
            "Episode:  800\n",
            "Episode:  850\n",
            "Episode:  900\n",
            "Episode:  950\n",
            "Episode:  1000\n",
            "Episode:  1050\n",
            "Episode:  1100\n",
            "Episode:  1150\n",
            "Episode:  1200\n",
            "Loss:  1.5679471\n",
            "Accuracy:  29.473331570625305\n"
          ]
        }
      ],
      "source": [
        "model = Prototypical(support, query, 84, 84, 3)\n",
        "model_path = \"./results/models/mini_train0.h5\"\n",
        "model.load(model_path)\n",
        "print(\"Model loaded.\")\n",
        "\n",
        "#number of classes\n",
        "num_way = num_ways[0] \n",
        "\n",
        "#number of examples per class for support set\n",
        "num_shot = num_shots[0]  \n",
        "\n",
        "#number of query points\n",
        "num_query = num_shots[0] \n",
        "\n",
        "num_episodes = 1200\n",
        "\n",
        "# Metrics to gather\n",
        "test_loss = tf.metrics.Mean(name='test_loss')\n",
        "test_acc = tf.metrics.Mean(name='test_accuracy')\n",
        "\n",
        "def calc_loss(support, query):\n",
        "  loss, acc = model(support, query)\n",
        "  return loss, acc\n",
        "\n",
        "for episode in range(num_episodes):\n",
        "  test_support, test_query = get_next_batch(test_images, test_classes, num_way, num_shot, num_query)\n",
        "  if (episode+1)%50 == 0: \n",
        "    print(\"Episode: \", episode + 1)\n",
        "  loss, acc = calc_loss(test_support, test_query)\n",
        "  test_loss(loss)\n",
        "  test_acc(acc)\n",
        "\n",
        "print(\"Loss: \", test_loss.result().numpy())\n",
        "print(\"Accuracy: \", test_acc.result().numpy() * 100)"
      ]
    },
    {
      "cell_type": "code",
      "source": [
        "model = Prototypical(support, query, 84, 84, 3)\n",
        "model_path = \"./results/models/mini_train1.h5\"\n",
        "model.load(model_path)\n",
        "print(\"Model loaded.\")\n",
        "\n",
        "#number of classes\n",
        "num_way = num_ways[1] \n",
        "\n",
        "#number of examples per class for support set\n",
        "num_shot = num_shots[1]  \n",
        "\n",
        "#number of query points\n",
        "num_query = num_shots[1] \n",
        "\n",
        "num_episodes = 1200\n",
        "\n",
        "# Metrics to gather\n",
        "test_loss = tf.metrics.Mean(name='test_loss')\n",
        "test_acc = tf.metrics.Mean(name='test_accuracy')\n",
        "\n",
        "def calc_loss(support, query):\n",
        "  loss, acc = model(support, query)\n",
        "  return loss, acc\n",
        "\n",
        "for i_episode in range(num_episodes):\n",
        "  test_support, test_query = get_next_batch(test_images, test_classes, num_way, num_shot, num_query)\n",
        "  if (i_episode+1)%50 == 0: \n",
        "    print(\"Episode: \", i_episode + 1)\n",
        "  loss, acc = calc_loss(test_support, test_query)\n",
        "  test_loss(loss)\n",
        "  test_acc(acc)\n",
        "\n",
        "print(\"Loss: \", test_loss.result().numpy())\n",
        "print(\"Accuracy: \", test_acc.result().numpy() * 100)"
      ],
      "metadata": {
        "colab": {
          "base_uri": "https://localhost:8080/"
        },
        "id": "FAp3BXMUm5FG",
        "outputId": "2f447507-d8cf-406d-aed9-93d32fdd8a6a"
      },
      "execution_count": 42,
      "outputs": [
        {
          "output_type": "stream",
          "name": "stdout",
          "text": [
            "Model loaded.\n",
            "Episode:  50\n",
            "Episode:  100\n",
            "Episode:  150\n",
            "Episode:  200\n",
            "Episode:  250\n",
            "Episode:  300\n",
            "Episode:  350\n",
            "Episode:  400\n",
            "Episode:  450\n",
            "Episode:  500\n",
            "Episode:  550\n",
            "Episode:  600\n",
            "Episode:  650\n",
            "Episode:  700\n",
            "Episode:  750\n",
            "Episode:  800\n",
            "Episode:  850\n",
            "Episode:  900\n",
            "Episode:  950\n",
            "Episode:  1000\n",
            "Episode:  1050\n",
            "Episode:  1100\n",
            "Episode:  1150\n",
            "Episode:  1200\n",
            "Loss:  1.6089436\n",
            "Accuracy:  23.933249711990356\n"
          ]
        }
      ]
    },
    {
      "cell_type": "code",
      "source": [
        "#Now adding reptile to this\n",
        "meta_step_size = 0.25\n",
        "\n",
        "#number of classes\n",
        "num_way = num_ways[0] \n",
        "\n",
        "#number of examples per class for support set\n",
        "num_shot = num_shots[0]  \n",
        "\n",
        "#number of query points\n",
        "num_query = num_shots[0]\n",
        "\n",
        "eval_interval = 5\n",
        "\n",
        "train_loss = tf.metrics.Mean(name='train_loss')\n",
        "val_loss = tf.metrics.Mean(name='val_loss')\n",
        "train_acc = tf.metrics.Mean(name='train_accuracy')\n",
        "val_acc = tf.metrics.Mean(name='val_accuracy')\n",
        "\n",
        "model = Prototypical(support, query, 84, 84, 3)\n",
        "optimizer_adam = tf.keras.optimizers.Adam(0.001)\n",
        "optimizer_sgd = tf.keras.optimizers.SGD(0.001)\n",
        "\n",
        "num_epochs = 300\n",
        "num_episodes = 100\n",
        "save_path = \"./results/models/mini_train_reptile0.h5\"\n",
        "\n",
        "@tf.function\n",
        "def loss(support, query):\n",
        "  loss, acc = model(support, query)\n",
        "  return loss, acc\n",
        "\n",
        "@tf.function\n",
        "def train_step(support, query, optimizer):\n",
        "  with tf.GradientTape() as tape:\n",
        "    loss, acc = model(support, query)\n",
        "  gradients = tape.gradient(loss, model.trainable_variables)\n",
        "  optimizer.apply_gradients(\n",
        "        zip(gradients, model.trainable_variables))\n",
        "  \n",
        "  \n",
        "  train_loss(loss)\n",
        "  train_acc(acc)\n",
        "  \n",
        "\n",
        "@tf.function\n",
        "def val_step(support, query, optimizer):\n",
        "  with tf.GradientTape() as tape:\n",
        "    loss, acc = model(support, query)\n",
        "  gradients = tape.gradient(loss, model.trainable_variables)\n",
        "  optimizer.apply_gradients(\n",
        "        zip(gradients, model.trainable_variables))\n",
        "  \n",
        "  val_loss(loss)\n",
        "  val_acc(acc)\n",
        "\n",
        "\n",
        "least_loss = {'least_loss': 100.00}\n",
        "for epoch in range(num_epochs):\n",
        "  train_loss.reset_states()\n",
        "  val_loss.reset_states()\n",
        "  train_acc.reset_states()\n",
        "  val_acc.reset_states()\n",
        "\n",
        "  for episode in range(num_episodes):\n",
        "    frac_done = episode / num_episodes\n",
        "    cur_meta_step_size = (1 - frac_done) * meta_step_size\n",
        "    train_support, train_query = get_next_batch(train_images, train_classes, num_way, num_shot, num_query)\n",
        "\n",
        "    model = Prototypical(train_support, train_query, img_width, img_height, channels)\n",
        "    model.call(train_support, train_query)\n",
        "    old_weights = model.get_weights()\n",
        "    train_step(train_support, train_query, optimizer_adam)\n",
        "    new_weights = model.get_weights()\n",
        "\n",
        "    for part_weight in range(len(new_weights)):\n",
        "        new_weights[part_weight] = old_weights[part_weight] + (\n",
        "            (new_weights[part_weight] - old_weights[part_weight]) * cur_meta_step_size\n",
        "        )\n",
        "\n",
        "    model.set_weights(new_weights)\n",
        "    if epoch % eval_interval == 0:\n",
        "      eval_support, eval_query = get_next_batch(val_images, val_classes, num_way, num_shot, num_query)\n",
        "      old_vars = model.get_weights()\n",
        "      val_step(eval_support, eval_query, optimizer_sgd)\n",
        "      model.set_weights(old_vars)\n",
        "      \n",
        "  cur_loss = val_loss.result().numpy()\n",
        "\n",
        "  if (epoch % eval_interval == 0):\n",
        "    template = 'Epoch {}, Loss: {}, Accuracy: {}, ' \\\n",
        "                  'Val Loss: {}, Val Accuracy: {}'\n",
        "    print(template.format(epoch + 1, train_loss.result(), train_acc.result() * 100, val_loss.result(),\n",
        "                            val_acc.result() * 100))\n",
        "    if cur_loss < least_loss['least_loss']:\n",
        "      print(\"Saving new best model with loss: \", cur_loss)\n",
        "      least_loss['least_loss'] = cur_loss\n",
        "      model.save(save_path)"
      ],
      "metadata": {
        "colab": {
          "base_uri": "https://localhost:8080/"
        },
        "id": "ePEbckbkzu0Z",
        "outputId": "22b8537c-4c2b-4a32-9395-911cd34f2f06"
      },
      "execution_count": 45,
      "outputs": [
        {
          "output_type": "stream",
          "name": "stderr",
          "text": [
            "WARNING:tensorflow:Compiled the loaded model, but the compiled metrics have yet to be built. `model.compile_metrics` will be empty until you train or evaluate the model.\n"
          ]
        },
        {
          "output_type": "stream",
          "name": "stdout",
          "text": [
            "Epoch 1, Loss: 1.6265270709991455, Accuracy: 40.31999206542969, Val Loss: 1.6094300746917725, Val Accuracy: 37.3599967956543\n",
            "Saving new best model with loss:  1.6094301\n"
          ]
        },
        {
          "output_type": "stream",
          "name": "stderr",
          "text": [
            "WARNING:tensorflow:Compiled the loaded model, but the compiled metrics have yet to be built. `model.compile_metrics` will be empty until you train or evaluate the model.\n"
          ]
        },
        {
          "output_type": "stream",
          "name": "stdout",
          "text": [
            "Epoch 6, Loss: 1.3586595058441162, Accuracy: 45.52001190185547, Val Loss: 1.6094070672988892, Val Accuracy: 40.079986572265625\n",
            "Saving new best model with loss:  1.6094071\n"
          ]
        },
        {
          "output_type": "stream",
          "name": "stderr",
          "text": [
            "WARNING:tensorflow:Compiled the loaded model, but the compiled metrics have yet to be built. `model.compile_metrics` will be empty until you train or evaluate the model.\n"
          ]
        },
        {
          "output_type": "stream",
          "name": "stdout",
          "text": [
            "Epoch 11, Loss: 1.307712197303772, Accuracy: 47.31999206542969, Val Loss: 1.6093449592590332, Val Accuracy: 39.3599967956543\n",
            "Saving new best model with loss:  1.609345\n"
          ]
        },
        {
          "output_type": "stream",
          "name": "stderr",
          "text": [
            "WARNING:tensorflow:Compiled the loaded model, but the compiled metrics have yet to be built. `model.compile_metrics` will be empty until you train or evaluate the model.\n"
          ]
        },
        {
          "output_type": "stream",
          "name": "stdout",
          "text": [
            "Epoch 16, Loss: 1.2749464511871338, Accuracy: 49.27999496459961, Val Loss: 1.6092491149902344, Val Accuracy: 41.280006408691406\n",
            "Saving new best model with loss:  1.6092491\n"
          ]
        },
        {
          "output_type": "stream",
          "name": "stderr",
          "text": [
            "WARNING:tensorflow:Compiled the loaded model, but the compiled metrics have yet to be built. `model.compile_metrics` will be empty until you train or evaluate the model.\n"
          ]
        },
        {
          "output_type": "stream",
          "name": "stdout",
          "text": [
            "Epoch 21, Loss: 1.1999633312225342, Accuracy: 52.55999755859375, Val Loss: 1.6091951131820679, Val Accuracy: 37.839996337890625\n",
            "Saving new best model with loss:  1.6091951\n"
          ]
        },
        {
          "output_type": "stream",
          "name": "stderr",
          "text": [
            "WARNING:tensorflow:Compiled the loaded model, but the compiled metrics have yet to be built. `model.compile_metrics` will be empty until you train or evaluate the model.\n"
          ]
        },
        {
          "output_type": "stream",
          "name": "stdout",
          "text": [
            "Epoch 26, Loss: 1.1710960865020752, Accuracy: 54.56000518798828, Val Loss: 1.6090002059936523, Val Accuracy: 38.15998840332031\n",
            "Saving new best model with loss:  1.6090002\n"
          ]
        },
        {
          "output_type": "stream",
          "name": "stderr",
          "text": [
            "WARNING:tensorflow:Compiled the loaded model, but the compiled metrics have yet to be built. `model.compile_metrics` will be empty until you train or evaluate the model.\n"
          ]
        },
        {
          "output_type": "stream",
          "name": "stdout",
          "text": [
            "Epoch 31, Loss: 1.1470516920089722, Accuracy: 54.2400016784668, Val Loss: 1.6089811325073242, Val Accuracy: 33.799991607666016\n",
            "Saving new best model with loss:  1.6089811\n"
          ]
        },
        {
          "output_type": "stream",
          "name": "stderr",
          "text": [
            "WARNING:tensorflow:Compiled the loaded model, but the compiled metrics have yet to be built. `model.compile_metrics` will be empty until you train or evaluate the model.\n"
          ]
        },
        {
          "output_type": "stream",
          "name": "stdout",
          "text": [
            "Epoch 36, Loss: 1.1434926986694336, Accuracy: 54.31999969482422, Val Loss: 1.6083918809890747, Val Accuracy: 35.03999710083008\n",
            "Saving new best model with loss:  1.6083919\n"
          ]
        },
        {
          "output_type": "stream",
          "name": "stderr",
          "text": [
            "WARNING:tensorflow:Compiled the loaded model, but the compiled metrics have yet to be built. `model.compile_metrics` will be empty until you train or evaluate the model.\n"
          ]
        },
        {
          "output_type": "stream",
          "name": "stdout",
          "text": [
            "Epoch 41, Loss: 1.1186851263046265, Accuracy: 55.08000183105469, Val Loss: 1.6081892251968384, Val Accuracy: 33.92000198364258\n",
            "Saving new best model with loss:  1.6081892\n"
          ]
        },
        {
          "output_type": "stream",
          "name": "stderr",
          "text": [
            "WARNING:tensorflow:Compiled the loaded model, but the compiled metrics have yet to be built. `model.compile_metrics` will be empty until you train or evaluate the model.\n"
          ]
        },
        {
          "output_type": "stream",
          "name": "stdout",
          "text": [
            "Epoch 46, Loss: 1.0343207120895386, Accuracy: 59.99999237060547, Val Loss: 1.6079483032226562, Val Accuracy: 31.880001068115234\n",
            "Saving new best model with loss:  1.6079483\n"
          ]
        },
        {
          "output_type": "stream",
          "name": "stderr",
          "text": [
            "WARNING:tensorflow:Compiled the loaded model, but the compiled metrics have yet to be built. `model.compile_metrics` will be empty until you train or evaluate the model.\n"
          ]
        },
        {
          "output_type": "stream",
          "name": "stdout",
          "text": [
            "Epoch 51, Loss: 1.0335005521774292, Accuracy: 61.439998626708984, Val Loss: 1.6075254678726196, Val Accuracy: 33.32000732421875\n",
            "Saving new best model with loss:  1.6075255\n"
          ]
        },
        {
          "output_type": "stream",
          "name": "stderr",
          "text": [
            "WARNING:tensorflow:Compiled the loaded model, but the compiled metrics have yet to be built. `model.compile_metrics` will be empty until you train or evaluate the model.\n"
          ]
        },
        {
          "output_type": "stream",
          "name": "stdout",
          "text": [
            "Epoch 56, Loss: 0.961256742477417, Accuracy: 62.68000793457031, Val Loss: 1.6072494983673096, Val Accuracy: 33.079994201660156\n",
            "Saving new best model with loss:  1.6072495\n"
          ]
        },
        {
          "output_type": "stream",
          "name": "stderr",
          "text": [
            "WARNING:tensorflow:Compiled the loaded model, but the compiled metrics have yet to be built. `model.compile_metrics` will be empty until you train or evaluate the model.\n"
          ]
        },
        {
          "output_type": "stream",
          "name": "stdout",
          "text": [
            "Epoch 61, Loss: 0.9436630010604858, Accuracy: 63.160003662109375, Val Loss: 1.6060010194778442, Val Accuracy: 32.52000427246094\n",
            "Saving new best model with loss:  1.606001\n"
          ]
        },
        {
          "output_type": "stream",
          "name": "stderr",
          "text": [
            "WARNING:tensorflow:Compiled the loaded model, but the compiled metrics have yet to be built. `model.compile_metrics` will be empty until you train or evaluate the model.\n"
          ]
        },
        {
          "output_type": "stream",
          "name": "stdout",
          "text": [
            "Epoch 66, Loss: 0.9994025230407715, Accuracy: 61.19999694824219, Val Loss: 1.6039543151855469, Val Accuracy: 31.20000457763672\n",
            "Saving new best model with loss:  1.6039543\n"
          ]
        },
        {
          "output_type": "stream",
          "name": "stderr",
          "text": [
            "WARNING:tensorflow:Compiled the loaded model, but the compiled metrics have yet to be built. `model.compile_metrics` will be empty until you train or evaluate the model.\n"
          ]
        },
        {
          "output_type": "stream",
          "name": "stdout",
          "text": [
            "Epoch 71, Loss: 0.9192932844161987, Accuracy: 64.0, Val Loss: 1.6011664867401123, Val Accuracy: 31.44000244140625\n",
            "Saving new best model with loss:  1.6011665\n"
          ]
        },
        {
          "output_type": "stream",
          "name": "stderr",
          "text": [
            "WARNING:tensorflow:Compiled the loaded model, but the compiled metrics have yet to be built. `model.compile_metrics` will be empty until you train or evaluate the model.\n"
          ]
        },
        {
          "output_type": "stream",
          "name": "stdout",
          "text": [
            "Epoch 76, Loss: 0.9045975208282471, Accuracy: 65.1999740600586, Val Loss: 1.5998239517211914, Val Accuracy: 30.599992752075195\n",
            "Saving new best model with loss:  1.599824\n"
          ]
        },
        {
          "output_type": "stream",
          "name": "stderr",
          "text": [
            "WARNING:tensorflow:Compiled the loaded model, but the compiled metrics have yet to be built. `model.compile_metrics` will be empty until you train or evaluate the model.\n"
          ]
        },
        {
          "output_type": "stream",
          "name": "stdout",
          "text": [
            "Epoch 81, Loss: 0.9543349742889404, Accuracy: 64.4800033569336, Val Loss: 1.597009301185608, Val Accuracy: 29.920001983642578\n",
            "Saving new best model with loss:  1.5970093\n"
          ]
        },
        {
          "output_type": "stream",
          "name": "stderr",
          "text": [
            "WARNING:tensorflow:Compiled the loaded model, but the compiled metrics have yet to be built. `model.compile_metrics` will be empty until you train or evaluate the model.\n"
          ]
        },
        {
          "output_type": "stream",
          "name": "stdout",
          "text": [
            "Epoch 86, Loss: 0.9228349328041077, Accuracy: 64.31999206542969, Val Loss: 1.5922741889953613, Val Accuracy: 30.719999313354492\n",
            "Saving new best model with loss:  1.5922742\n"
          ]
        },
        {
          "output_type": "stream",
          "name": "stderr",
          "text": [
            "WARNING:tensorflow:Compiled the loaded model, but the compiled metrics have yet to be built. `model.compile_metrics` will be empty until you train or evaluate the model.\n"
          ]
        },
        {
          "output_type": "stream",
          "name": "stdout",
          "text": [
            "Epoch 91, Loss: 0.8830838203430176, Accuracy: 64.83998107910156, Val Loss: 1.5798834562301636, Val Accuracy: 30.67999839782715\n",
            "Saving new best model with loss:  1.5798835\n"
          ]
        },
        {
          "output_type": "stream",
          "name": "stderr",
          "text": [
            "WARNING:tensorflow:Compiled the loaded model, but the compiled metrics have yet to be built. `model.compile_metrics` will be empty until you train or evaluate the model.\n"
          ]
        },
        {
          "output_type": "stream",
          "name": "stdout",
          "text": [
            "Epoch 96, Loss: 0.9085966348648071, Accuracy: 66.6399917602539, Val Loss: 1.5631076097488403, Val Accuracy: 31.720001220703125\n",
            "Saving new best model with loss:  1.5631076\n",
            "Epoch 101, Loss: 0.8647322058677673, Accuracy: 66.79999542236328, Val Loss: 1.5650842189788818, Val Accuracy: 29.880002975463867\n",
            "Epoch 106, Loss: 0.8468458652496338, Accuracy: 67.36000061035156, Val Loss: 1.5685794353485107, Val Accuracy: 30.67999839782715\n",
            "Epoch 111, Loss: 0.8912314772605896, Accuracy: 66.31999206542969, Val Loss: 1.5647132396697998, Val Accuracy: 31.79999542236328\n",
            "Epoch 116, Loss: 0.8516545295715332, Accuracy: 66.87999725341797, Val Loss: 1.5655649900436401, Val Accuracy: 29.920005798339844\n",
            "Epoch 121, Loss: 0.860369861125946, Accuracy: 67.47999572753906, Val Loss: 1.5685909986495972, Val Accuracy: 31.599994659423828\n",
            "Epoch 126, Loss: 0.8116495609283447, Accuracy: 68.6399917602539, Val Loss: 1.571677565574646, Val Accuracy: 31.28000259399414\n",
            "Epoch 131, Loss: 0.8219048976898193, Accuracy: 68.8399887084961, Val Loss: 1.5694241523742676, Val Accuracy: 31.119998931884766\n",
            "Epoch 136, Loss: 0.7895281314849854, Accuracy: 70.35997772216797, Val Loss: 1.5642144680023193, Val Accuracy: 30.239999771118164\n",
            "Epoch 141, Loss: 0.8321841955184937, Accuracy: 68.87997436523438, Val Loss: 1.5659842491149902, Val Accuracy: 31.20000457763672\n",
            "Epoch 146, Loss: 0.8229477405548096, Accuracy: 68.4000015258789, Val Loss: 1.5685652494430542, Val Accuracy: 32.32000732421875\n"
          ]
        },
        {
          "output_type": "stream",
          "name": "stderr",
          "text": [
            "WARNING:tensorflow:Compiled the loaded model, but the compiled metrics have yet to be built. `model.compile_metrics` will be empty until you train or evaluate the model.\n"
          ]
        },
        {
          "output_type": "stream",
          "name": "stdout",
          "text": [
            "Epoch 151, Loss: 0.7865785956382751, Accuracy: 68.71998596191406, Val Loss: 1.5592973232269287, Val Accuracy: 32.08000183105469\n",
            "Saving new best model with loss:  1.5592973\n",
            "Epoch 156, Loss: 0.7645601034164429, Accuracy: 71.36000061035156, Val Loss: 1.5600993633270264, Val Accuracy: 32.720008850097656\n",
            "Epoch 161, Loss: 0.7957257628440857, Accuracy: 69.43999481201172, Val Loss: 1.5662147998809814, Val Accuracy: 30.880001068115234\n",
            "Epoch 166, Loss: 0.7814529538154602, Accuracy: 70.03998565673828, Val Loss: 1.5604244470596313, Val Accuracy: 31.360002517700195\n",
            "Epoch 171, Loss: 0.7738415598869324, Accuracy: 70.19999694824219, Val Loss: 1.5718342065811157, Val Accuracy: 31.28000259399414\n"
          ]
        },
        {
          "output_type": "stream",
          "name": "stderr",
          "text": [
            "WARNING:tensorflow:Compiled the loaded model, but the compiled metrics have yet to be built. `model.compile_metrics` will be empty until you train or evaluate the model.\n"
          ]
        },
        {
          "output_type": "stream",
          "name": "stdout",
          "text": [
            "Epoch 176, Loss: 0.7587634325027466, Accuracy: 70.95997619628906, Val Loss: 1.5550328493118286, Val Accuracy: 31.480003356933594\n",
            "Saving new best model with loss:  1.5550328\n",
            "Epoch 181, Loss: 0.7247241735458374, Accuracy: 71.39999389648438, Val Loss: 1.5687379837036133, Val Accuracy: 31.439998626708984\n",
            "Epoch 186, Loss: 0.8091811537742615, Accuracy: 69.23997497558594, Val Loss: 1.5770565271377563, Val Accuracy: 29.280004501342773\n",
            "Epoch 191, Loss: 0.7271143198013306, Accuracy: 73.47999572753906, Val Loss: 1.5649925470352173, Val Accuracy: 31.12000274658203\n",
            "Epoch 196, Loss: 0.747058093547821, Accuracy: 71.12000274658203, Val Loss: 1.5567439794540405, Val Accuracy: 29.40000343322754\n",
            "Epoch 201, Loss: 0.7732367515563965, Accuracy: 70.51998901367188, Val Loss: 1.5816161632537842, Val Accuracy: 32.400001525878906\n",
            "Epoch 206, Loss: 0.7721979022026062, Accuracy: 70.91999053955078, Val Loss: 1.5893522500991821, Val Accuracy: 30.19999885559082\n",
            "Epoch 211, Loss: 0.7340796589851379, Accuracy: 72.1999740600586, Val Loss: 1.570754051208496, Val Accuracy: 30.440006256103516\n"
          ]
        },
        {
          "output_type": "stream",
          "name": "stderr",
          "text": [
            "WARNING:tensorflow:Compiled the loaded model, but the compiled metrics have yet to be built. `model.compile_metrics` will be empty until you train or evaluate the model.\n"
          ]
        },
        {
          "output_type": "stream",
          "name": "stdout",
          "text": [
            "Epoch 216, Loss: 0.7908780574798584, Accuracy: 70.239990234375, Val Loss: 1.551332712173462, Val Accuracy: 32.36000442504883\n",
            "Saving new best model with loss:  1.5513327\n",
            "Epoch 221, Loss: 0.7278870344161987, Accuracy: 72.67999267578125, Val Loss: 1.5754523277282715, Val Accuracy: 31.799999237060547\n",
            "Epoch 226, Loss: 0.7240785956382751, Accuracy: 73.36000061035156, Val Loss: 1.580764889717102, Val Accuracy: 31.000003814697266\n",
            "Epoch 231, Loss: 0.7151835560798645, Accuracy: 72.39997863769531, Val Loss: 1.5611180067062378, Val Accuracy: 31.44000244140625\n",
            "Epoch 236, Loss: 0.727722704410553, Accuracy: 73.03998565673828, Val Loss: 1.5644428730010986, Val Accuracy: 30.479997634887695\n",
            "Epoch 241, Loss: 0.6726570725440979, Accuracy: 73.79998779296875, Val Loss: 1.5697870254516602, Val Accuracy: 29.96000099182129\n",
            "Epoch 246, Loss: 0.7143946290016174, Accuracy: 72.91999053955078, Val Loss: 1.556252121925354, Val Accuracy: 30.8800048828125\n",
            "Epoch 251, Loss: 0.7136865854263306, Accuracy: 72.1199951171875, Val Loss: 1.5532336235046387, Val Accuracy: 32.320003509521484\n",
            "Epoch 256, Loss: 0.7087261080741882, Accuracy: 73.23998260498047, Val Loss: 1.5552382469177246, Val Accuracy: 32.80000686645508\n",
            "Epoch 261, Loss: 0.6618914604187012, Accuracy: 74.6399917602539, Val Loss: 1.5752694606781006, Val Accuracy: 32.40000534057617\n",
            "Epoch 266, Loss: 0.7067258358001709, Accuracy: 73.59999084472656, Val Loss: 1.573346734046936, Val Accuracy: 31.56000328063965\n",
            "Epoch 271, Loss: 0.6335983872413635, Accuracy: 75.44001007080078, Val Loss: 1.5627537965774536, Val Accuracy: 31.240001678466797\n",
            "Epoch 276, Loss: 0.7059295773506165, Accuracy: 72.91998291015625, Val Loss: 1.5574984550476074, Val Accuracy: 31.240009307861328\n"
          ]
        },
        {
          "output_type": "stream",
          "name": "stderr",
          "text": [
            "WARNING:tensorflow:Compiled the loaded model, but the compiled metrics have yet to be built. `model.compile_metrics` will be empty until you train or evaluate the model.\n"
          ]
        },
        {
          "output_type": "stream",
          "name": "stdout",
          "text": [
            "Epoch 281, Loss: 0.7234472632408142, Accuracy: 72.8399887084961, Val Loss: 1.546167254447937, Val Accuracy: 33.12000274658203\n",
            "Saving new best model with loss:  1.5461673\n",
            "Epoch 286, Loss: 0.6664373278617859, Accuracy: 75.07998657226562, Val Loss: 1.5503865480422974, Val Accuracy: 30.479999542236328\n",
            "Epoch 291, Loss: 0.683444082736969, Accuracy: 74.71996307373047, Val Loss: 1.5553488731384277, Val Accuracy: 30.8800048828125\n",
            "Epoch 296, Loss: 0.6655645966529846, Accuracy: 75.83999633789062, Val Loss: 1.5571576356887817, Val Accuracy: 31.880001068115234\n"
          ]
        }
      ]
    },
    {
      "cell_type": "code",
      "source": [
        "#Now adding reptile to this\n",
        "meta_step_size = 0.25\n",
        "\n",
        "#number of classes\n",
        "num_way = num_ways[1] \n",
        "\n",
        "#number of examples per class for support set\n",
        "num_shot = num_shots[1]  \n",
        "\n",
        "#number of query points\n",
        "num_query = num_shots[1]\n",
        "\n",
        "eval_interval = 5\n",
        "\n",
        "train_loss = tf.metrics.Mean(name='train_loss')\n",
        "val_loss = tf.metrics.Mean(name='val_loss')\n",
        "train_acc = tf.metrics.Mean(name='train_accuracy')\n",
        "val_acc = tf.metrics.Mean(name='val_accuracy')\n",
        "\n",
        "model = Prototypical(support, query, 84, 84, 3)\n",
        "optimizer_adam = tf.keras.optimizers.Adam(0.001)\n",
        "optimizer_sgd = tf.keras.optimizers.SGD(0.001)\n",
        "\n",
        "num_epochs = 300\n",
        "num_episodes = 100\n",
        "save_path = \"./results/models/mini_train_reptile1.h5\"\n",
        "\n",
        "@tf.function\n",
        "def loss(support, query):\n",
        "  loss, acc = model(support, query)\n",
        "  return loss, acc\n",
        "\n",
        "@tf.function\n",
        "def train_step(support, query, optimizer):\n",
        "  with tf.GradientTape() as tape:\n",
        "    loss, acc = model(support, query)\n",
        "  gradients = tape.gradient(loss, model.trainable_variables)\n",
        "  optimizer.apply_gradients(\n",
        "        zip(gradients, model.trainable_variables))\n",
        "  \n",
        "  \n",
        "  train_loss(loss)\n",
        "  train_acc(acc)\n",
        "  \n",
        "\n",
        "@tf.function\n",
        "def val_step(support, query, optimizer):\n",
        "  with tf.GradientTape() as tape:\n",
        "    loss, acc = model(support, query)\n",
        "  gradients = tape.gradient(loss, model.trainable_variables)\n",
        "  optimizer.apply_gradients(\n",
        "        zip(gradients, model.trainable_variables))\n",
        "  \n",
        "  val_loss(loss)\n",
        "  val_acc(acc)\n",
        "\n",
        "\n",
        "least_loss = {'least_loss': 100.00}\n",
        "for epoch in range(num_epochs):\n",
        "  train_loss.reset_states()\n",
        "  val_loss.reset_states()\n",
        "  train_acc.reset_states()\n",
        "  val_acc.reset_states()\n",
        "\n",
        "  for episode in range(num_episodes):\n",
        "    frac_done = episode / num_episodes\n",
        "    cur_meta_step_size = (1 - frac_done) * meta_step_size\n",
        "    train_support, train_query = get_next_batch(train_images, train_classes, num_way, num_shot, num_query)\n",
        "\n",
        "\n",
        "    model = Prototypical(train_support, train_query, img_width, img_height, channels)\n",
        "    model.call(train_support, train_query)\n",
        "    old_weights = model.get_weights()\n",
        "    train_step(train_support, train_query, optimizer_adam)\n",
        "    new_weights = model.get_weights()\n",
        "\n",
        "    for part_weight in range(len(new_weights)):\n",
        "        new_weights[part_weight] = old_weights[part_weight] + (\n",
        "            (new_weights[part_weight] - old_weights[part_weight]) * cur_meta_step_size\n",
        "        )\n",
        "\n",
        "    model.set_weights(new_weights)\n",
        "    if epoch % eval_interval == 0:\n",
        "      eval_support, eval_query = get_next_batch(val_images, val_classes, num_way, num_shot, num_query)\n",
        "      old_vars = model.get_weights()\n",
        "      val_step(eval_support, eval_query, optimizer_sgd)\n",
        "      model.set_weights(old_vars)\n",
        "      \n",
        "  cur_loss = val_loss.result().numpy()\n",
        "\n",
        "  if (epoch % eval_interval == 0):\n",
        "    template = 'Epoch {}, Loss: {}, Accuracy: {}, ' \\\n",
        "                  'Val Loss: {}, Val Accuracy: {}'\n",
        "    print(template.format(epoch + 1, train_loss.result(), train_acc.result() * 100, val_loss.result(),\n",
        "                            val_acc.result() * 100))\n",
        "    if cur_loss < least_loss['least_loss']:\n",
        "      print(\"Saving new best model with loss: \", cur_loss)\n",
        "      least_loss['least_loss'] = cur_loss\n",
        "      model.save(save_path)"
      ],
      "metadata": {
        "colab": {
          "base_uri": "https://localhost:8080/"
        },
        "id": "hl-umB597iOi",
        "outputId": "ee91efd5-4d1c-4021-f601-33aa89e89bee"
      },
      "execution_count": 47,
      "outputs": [
        {
          "output_type": "stream",
          "name": "stderr",
          "text": [
            "WARNING:tensorflow:Compiled the loaded model, but the compiled metrics have yet to be built. `model.compile_metrics` will be empty until you train or evaluate the model.\n"
          ]
        },
        {
          "output_type": "stream",
          "name": "stdout",
          "text": [
            "Epoch 1, Loss: 2.125253677368164, Accuracy: 30.000003814697266, Val Loss: 1.6094354391098022, Val Accuracy: 26.20000457763672\n",
            "Saving new best model with loss:  1.6094354\n"
          ]
        },
        {
          "output_type": "stream",
          "name": "stderr",
          "text": [
            "WARNING:tensorflow:Compiled the loaded model, but the compiled metrics have yet to be built. `model.compile_metrics` will be empty until you train or evaluate the model.\n"
          ]
        },
        {
          "output_type": "stream",
          "name": "stdout",
          "text": [
            "Epoch 6, Loss: 1.5788215398788452, Accuracy: 29.800006866455078, Val Loss: 1.6094348430633545, Val Accuracy: 27.00000762939453\n",
            "Saving new best model with loss:  1.6094348\n"
          ]
        },
        {
          "output_type": "stream",
          "name": "stderr",
          "text": [
            "WARNING:tensorflow:Compiled the loaded model, but the compiled metrics have yet to be built. `model.compile_metrics` will be empty until you train or evaluate the model.\n"
          ]
        },
        {
          "output_type": "stream",
          "name": "stdout",
          "text": [
            "Epoch 11, Loss: 1.6064144372940063, Accuracy: 26.400005340576172, Val Loss: 1.609433889389038, Val Accuracy: 23.80000114440918\n",
            "Saving new best model with loss:  1.6094339\n"
          ]
        },
        {
          "output_type": "stream",
          "name": "stderr",
          "text": [
            "WARNING:tensorflow:Compiled the loaded model, but the compiled metrics have yet to be built. `model.compile_metrics` will be empty until you train or evaluate the model.\n"
          ]
        },
        {
          "output_type": "stream",
          "name": "stdout",
          "text": [
            "Epoch 16, Loss: 1.608269214630127, Accuracy: 28.000003814697266, Val Loss: 1.6094310283660889, Val Accuracy: 29.0\n",
            "Saving new best model with loss:  1.609431\n",
            "Epoch 21, Loss: 1.5974171161651611, Accuracy: 27.999996185302734, Val Loss: 1.6094348430633545, Val Accuracy: 26.400005340576172\n"
          ]
        },
        {
          "output_type": "stream",
          "name": "stderr",
          "text": [
            "WARNING:tensorflow:Compiled the loaded model, but the compiled metrics have yet to be built. `model.compile_metrics` will be empty until you train or evaluate the model.\n"
          ]
        },
        {
          "output_type": "stream",
          "name": "stdout",
          "text": [
            "Epoch 26, Loss: 1.6127831935882568, Accuracy: 27.600006103515625, Val Loss: 1.6094276905059814, Val Accuracy: 26.59999656677246\n",
            "Saving new best model with loss:  1.6094277\n"
          ]
        },
        {
          "output_type": "stream",
          "name": "stderr",
          "text": [
            "WARNING:tensorflow:Compiled the loaded model, but the compiled metrics have yet to be built. `model.compile_metrics` will be empty until you train or evaluate the model.\n"
          ]
        },
        {
          "output_type": "stream",
          "name": "stdout",
          "text": [
            "Epoch 31, Loss: 1.599462628364563, Accuracy: 28.600004196166992, Val Loss: 1.6094269752502441, Val Accuracy: 28.200002670288086\n",
            "Saving new best model with loss:  1.609427\n",
            "Epoch 36, Loss: 1.594711422920227, Accuracy: 23.60000228881836, Val Loss: 1.6094363927841187, Val Accuracy: 25.800006866455078\n",
            "Epoch 41, Loss: 1.601170301437378, Accuracy: 27.000001907348633, Val Loss: 1.6094321012496948, Val Accuracy: 27.200000762939453\n"
          ]
        },
        {
          "output_type": "stream",
          "name": "stderr",
          "text": [
            "WARNING:tensorflow:Compiled the loaded model, but the compiled metrics have yet to be built. `model.compile_metrics` will be empty until you train or evaluate the model.\n"
          ]
        },
        {
          "output_type": "stream",
          "name": "stdout",
          "text": [
            "Epoch 46, Loss: 1.606907606124878, Accuracy: 21.400005340576172, Val Loss: 1.6076046228408813, Val Accuracy: 26.800003051757812\n",
            "Saving new best model with loss:  1.6076046\n",
            "Epoch 51, Loss: 1.609382152557373, Accuracy: 20.20000457763672, Val Loss: 1.6087021827697754, Val Accuracy: 23.999998092651367\n",
            "Epoch 56, Loss: 1.6094369888305664, Accuracy: 20.000003814697266, Val Loss: 1.6079916954040527, Val Accuracy: 24.000001907348633\n",
            "Epoch 61, Loss: 1.6094369888305664, Accuracy: 20.000003814697266, Val Loss: 1.6086485385894775, Val Accuracy: 23.80000114440918\n",
            "Epoch 66, Loss: 1.6094372272491455, Accuracy: 20.000003814697266, Val Loss: 1.6077231168746948, Val Accuracy: 20.60000228881836\n",
            "Epoch 71, Loss: 1.6094365119934082, Accuracy: 20.000003814697266, Val Loss: 1.6079514026641846, Val Accuracy: 24.200008392333984\n",
            "Epoch 76, Loss: 1.6094375848770142, Accuracy: 20.000003814697266, Val Loss: 1.6079182624816895, Val Accuracy: 26.20001220703125\n",
            "Epoch 81, Loss: 1.6094365119934082, Accuracy: 20.000003814697266, Val Loss: 1.6083488464355469, Val Accuracy: 25.80000114440918\n",
            "Epoch 86, Loss: 1.6094365119934082, Accuracy: 20.000003814697266, Val Loss: 1.6088271141052246, Val Accuracy: 26.0000057220459\n",
            "Epoch 91, Loss: 1.6094365119934082, Accuracy: 20.000003814697266, Val Loss: 1.6088296175003052, Val Accuracy: 24.799997329711914\n",
            "Epoch 96, Loss: 1.6094374656677246, Accuracy: 20.000003814697266, Val Loss: 1.6090930700302124, Val Accuracy: 22.200000762939453\n",
            "Epoch 101, Loss: 1.6094392538070679, Accuracy: 20.20000457763672, Val Loss: 1.6086560487747192, Val Accuracy: 25.200002670288086\n",
            "Epoch 106, Loss: 1.6094365119934082, Accuracy: 20.000003814697266, Val Loss: 1.6088857650756836, Val Accuracy: 24.99999237060547\n",
            "Epoch 111, Loss: 1.6094365119934082, Accuracy: 20.000003814697266, Val Loss: 1.6089853048324585, Val Accuracy: 22.80000114440918\n",
            "Epoch 116, Loss: 1.6094365119934082, Accuracy: 20.000003814697266, Val Loss: 1.6088029146194458, Val Accuracy: 23.399999618530273\n",
            "Epoch 121, Loss: 1.6094365119934082, Accuracy: 20.000003814697266, Val Loss: 1.6090792417526245, Val Accuracy: 21.599998474121094\n",
            "Epoch 126, Loss: 1.6094366312026978, Accuracy: 20.000003814697266, Val Loss: 1.608809471130371, Val Accuracy: 21.999998092651367\n",
            "Epoch 131, Loss: 1.6094366312026978, Accuracy: 20.000003814697266, Val Loss: 1.6085515022277832, Val Accuracy: 24.0\n",
            "Epoch 136, Loss: 1.6094365119934082, Accuracy: 20.000003814697266, Val Loss: 1.6086710691452026, Val Accuracy: 26.200002670288086\n",
            "Epoch 141, Loss: 1.6094366312026978, Accuracy: 20.000003814697266, Val Loss: 1.6090681552886963, Val Accuracy: 18.59999656677246\n",
            "Epoch 146, Loss: 1.6094365119934082, Accuracy: 20.000003814697266, Val Loss: 1.608992099761963, Val Accuracy: 26.0\n",
            "Epoch 151, Loss: 1.6094365119934082, Accuracy: 20.000003814697266, Val Loss: 1.6089869737625122, Val Accuracy: 23.600004196166992\n",
            "Epoch 156, Loss: 1.6094372272491455, Accuracy: 20.000003814697266, Val Loss: 1.609039306640625, Val Accuracy: 24.40000343322754\n",
            "Epoch 161, Loss: 1.6094365119934082, Accuracy: 20.000003814697266, Val Loss: 1.6091408729553223, Val Accuracy: 23.400005340576172\n",
            "Epoch 166, Loss: 1.6094365119934082, Accuracy: 20.000003814697266, Val Loss: 1.6089552640914917, Val Accuracy: 27.599998474121094\n",
            "Epoch 171, Loss: 1.6094369888305664, Accuracy: 20.000003814697266, Val Loss: 1.6090381145477295, Val Accuracy: 22.200000762939453\n",
            "Epoch 176, Loss: 1.6094365119934082, Accuracy: 20.000003814697266, Val Loss: 1.609421968460083, Val Accuracy: 27.200008392333984\n",
            "Epoch 181, Loss: 1.6094365119934082, Accuracy: 20.000003814697266, Val Loss: 1.609424114227295, Val Accuracy: 25.400001525878906\n",
            "Epoch 186, Loss: 1.6094365119934082, Accuracy: 20.000003814697266, Val Loss: 1.6094322204589844, Val Accuracy: 22.59999656677246\n",
            "Epoch 191, Loss: 1.6094365119934082, Accuracy: 20.000003814697266, Val Loss: 1.60942804813385, Val Accuracy: 21.400001525878906\n",
            "Epoch 196, Loss: 1.6094365119934082, Accuracy: 20.000003814697266, Val Loss: 1.6094367504119873, Val Accuracy: 22.80000114440918\n",
            "Epoch 201, Loss: 1.6094365119934082, Accuracy: 20.000003814697266, Val Loss: 1.6094367504119873, Val Accuracy: 20.999998092651367\n",
            "Epoch 206, Loss: 1.6094365119934082, Accuracy: 20.000003814697266, Val Loss: 1.6094367504119873, Val Accuracy: 19.399999618530273\n",
            "Epoch 211, Loss: 1.6094365119934082, Accuracy: 20.000003814697266, Val Loss: 1.6094367504119873, Val Accuracy: 22.000003814697266\n",
            "Epoch 216, Loss: 1.6094365119934082, Accuracy: 20.000003814697266, Val Loss: 1.6094367504119873, Val Accuracy: 22.400005340576172\n",
            "Epoch 221, Loss: 1.6094365119934082, Accuracy: 20.000003814697266, Val Loss: 1.6094366312026978, Val Accuracy: 21.400001525878906\n",
            "Epoch 226, Loss: 1.6094365119934082, Accuracy: 20.000003814697266, Val Loss: 1.6094366312026978, Val Accuracy: 20.399995803833008\n",
            "Epoch 231, Loss: 1.6094365119934082, Accuracy: 20.000003814697266, Val Loss: 1.6094366312026978, Val Accuracy: 21.599998474121094\n",
            "Epoch 236, Loss: 1.6094365119934082, Accuracy: 20.000003814697266, Val Loss: 1.6094369888305664, Val Accuracy: 22.0\n",
            "Epoch 241, Loss: 1.6094365119934082, Accuracy: 20.000003814697266, Val Loss: 1.6094367504119873, Val Accuracy: 22.800003051757812\n",
            "Epoch 246, Loss: 1.6094365119934082, Accuracy: 20.000003814697266, Val Loss: 1.6094369888305664, Val Accuracy: 22.600000381469727\n",
            "Epoch 251, Loss: 1.6094365119934082, Accuracy: 20.000003814697266, Val Loss: 1.6094369888305664, Val Accuracy: 19.599998474121094\n",
            "Epoch 256, Loss: 1.6094365119934082, Accuracy: 20.000003814697266, Val Loss: 1.6094366312026978, Val Accuracy: 22.40000343322754\n",
            "Epoch 261, Loss: 1.6094365119934082, Accuracy: 20.000003814697266, Val Loss: 1.6094367504119873, Val Accuracy: 21.399995803833008\n",
            "Epoch 266, Loss: 1.6094365119934082, Accuracy: 20.000003814697266, Val Loss: 1.6094366312026978, Val Accuracy: 24.600004196166992\n",
            "Epoch 271, Loss: 1.6094365119934082, Accuracy: 20.000003814697266, Val Loss: 1.6094367504119873, Val Accuracy: 20.0\n",
            "Epoch 276, Loss: 1.6094365119934082, Accuracy: 20.000003814697266, Val Loss: 1.6094367504119873, Val Accuracy: 21.600000381469727\n",
            "Epoch 281, Loss: 1.6094365119934082, Accuracy: 20.000003814697266, Val Loss: 1.6094366312026978, Val Accuracy: 24.200002670288086\n",
            "Epoch 286, Loss: 1.6094365119934082, Accuracy: 20.000003814697266, Val Loss: 1.6094367504119873, Val Accuracy: 23.800010681152344\n",
            "Epoch 291, Loss: 1.6094365119934082, Accuracy: 20.000003814697266, Val Loss: 1.6094366312026978, Val Accuracy: 23.600006103515625\n",
            "Epoch 296, Loss: 1.6094365119934082, Accuracy: 20.000003814697266, Val Loss: 1.6094367504119873, Val Accuracy: 22.999996185302734\n"
          ]
        }
      ]
    },
    {
      "cell_type": "code",
      "source": [
        "model = Prototypical(support, query, 84, 84, 3)\n",
        "model_path = \"./results/models/mini_train_reptile0.h5\"\n",
        "model.load(model_path)\n",
        "print(\"Model loaded.\")\n",
        "\n",
        "#number of classes\n",
        "num_way = num_ways[0] \n",
        "\n",
        "#number of examples per class for support set\n",
        "num_shot = num_shots[0]  \n",
        "\n",
        "#number of query points\n",
        "num_query = num_shots[0] \n",
        "\n",
        "#number of examples\n",
        "num_examples = 100\n",
        "\n",
        "num_episodes = 1200\n",
        "\n",
        "# Metrics to gather\n",
        "test_loss = tf.metrics.Mean(name='test_loss')\n",
        "test_acc = tf.metrics.Mean(name='test_accuracy')\n",
        "\n",
        "def calc_loss(support, query):\n",
        "  loss, acc = model(support, query)\n",
        "  return loss, acc\n",
        "\n",
        "for i_episode in range(num_episodes):\n",
        "  test_support, test_query = get_next_batch(test_images, test_classes, num_way, num_shot, num_query)\n",
        "  if (i_episode+1)%50 == 0: \n",
        "    print(\"Episode: \", i_episode + 1)\n",
        "  loss, acc = calc_loss(test_support, test_query)\n",
        "  test_loss(loss)\n",
        "  test_acc(acc)\n",
        "\n",
        "print(\"Loss: \", test_loss.result().numpy())\n",
        "print(\"Accuracy: \", test_acc.result().numpy() * 100)"
      ],
      "metadata": {
        "colab": {
          "base_uri": "https://localhost:8080/"
        },
        "id": "3NxJS7ie0m19",
        "outputId": "db196a6a-6584-4c09-9a29-65925b20fe72"
      },
      "execution_count": 46,
      "outputs": [
        {
          "output_type": "stream",
          "name": "stdout",
          "text": [
            "Model loaded.\n",
            "Episode:  50\n",
            "Episode:  100\n",
            "Episode:  150\n",
            "Episode:  200\n",
            "Episode:  250\n",
            "Episode:  300\n",
            "Episode:  350\n",
            "Episode:  400\n",
            "Episode:  450\n",
            "Episode:  500\n",
            "Episode:  550\n",
            "Episode:  600\n",
            "Episode:  650\n",
            "Episode:  700\n",
            "Episode:  750\n",
            "Episode:  800\n",
            "Episode:  850\n",
            "Episode:  900\n",
            "Episode:  950\n",
            "Episode:  1000\n",
            "Episode:  1050\n",
            "Episode:  1100\n",
            "Episode:  1150\n",
            "Episode:  1200\n",
            "Loss:  1.609356\n",
            "Accuracy:  33.92662703990936\n"
          ]
        }
      ]
    },
    {
      "cell_type": "code",
      "source": [
        "model = Prototypical(support, query, 84, 84, 3)\n",
        "model_path = \"./results/models/mini_train_reptile1.h5\"\n",
        "model.load(model_path)\n",
        "print(\"Model loaded.\")\n",
        "\n",
        "#number of classes\n",
        "num_way = num_ways[1] \n",
        "\n",
        "#number of examples per class for support set\n",
        "num_shot = num_shots[1]  \n",
        "\n",
        "#number of query points\n",
        "num_query = num_shots[1] \n",
        "\n",
        "#number of examples\n",
        "num_examples = 100\n",
        "\n",
        "num_episodes = 1200\n",
        "\n",
        "# Metrics to gather\n",
        "test_loss = tf.metrics.Mean(name='test_loss')\n",
        "test_acc = tf.metrics.Mean(name='test_accuracy')\n",
        "\n",
        "def calc_loss(support, query):\n",
        "  loss, acc = model(support, query)\n",
        "  return loss, acc\n",
        "\n",
        "for i_episode in range(num_episodes):\n",
        "  test_support, test_query = get_next_batch(test_images, test_classes, num_way, num_shot, num_query)\n",
        "  if (i_episode+1)%50 == 0: \n",
        "    print(\"Episode: \", i_episode + 1)\n",
        "  loss, acc = calc_loss(test_support, test_query)\n",
        "  test_loss(loss)\n",
        "  test_acc(acc)\n",
        "\n",
        "print(\"Loss: \", test_loss.result().numpy())\n",
        "print(\"Accuracy: \", test_acc.result().numpy() * 100)"
      ],
      "metadata": {
        "colab": {
          "base_uri": "https://localhost:8080/"
        },
        "id": "Bh3iGRdyBRHN",
        "outputId": "20d2ff8b-b0d2-4a48-f9d9-96e8bf75d270"
      },
      "execution_count": 48,
      "outputs": [
        {
          "output_type": "stream",
          "name": "stdout",
          "text": [
            "Model loaded.\n",
            "Episode:  50\n",
            "Episode:  100\n",
            "Episode:  150\n",
            "Episode:  200\n",
            "Episode:  250\n",
            "Episode:  300\n",
            "Episode:  350\n",
            "Episode:  400\n",
            "Episode:  450\n",
            "Episode:  500\n",
            "Episode:  550\n",
            "Episode:  600\n",
            "Episode:  650\n",
            "Episode:  700\n",
            "Episode:  750\n",
            "Episode:  800\n",
            "Episode:  850\n",
            "Episode:  900\n",
            "Episode:  950\n",
            "Episode:  1000\n",
            "Episode:  1050\n",
            "Episode:  1100\n",
            "Episode:  1150\n",
            "Episode:  1200\n",
            "Loss:  1.6094103\n",
            "Accuracy:  26.533278822898865\n"
          ]
        }
      ]
    },
    {
      "cell_type": "code",
      "source": [
        "print(train_images.shape)\n",
        "print(val_images.shape)\n",
        "print(test_images.shape)"
      ],
      "metadata": {
        "colab": {
          "base_uri": "https://localhost:8080/"
        },
        "id": "PnCDN6Bdg_v_",
        "outputId": "85c10eea-7817-44b6-8b7f-cf5713b4d976"
      },
      "execution_count": 49,
      "outputs": [
        {
          "output_type": "stream",
          "name": "stdout",
          "text": [
            "(38400, 84, 84, 3)\n",
            "(9600, 84, 84, 3)\n",
            "(12000, 84, 84, 3)\n"
          ]
        }
      ]
    },
    {
      "cell_type": "code",
      "source": [
        "total_rows = train_images.shape[0] + val_images.shape[0] + test_images.shape[0]"
      ],
      "metadata": {
        "id": "FeevtwLHhAOL"
      },
      "execution_count": 50,
      "outputs": []
    },
    {
      "cell_type": "code",
      "source": [
        "combined_train_images_rows = (int)(total_rows *4/6)\n",
        "combined_val_images_rows = (int)(total_rows *1/6)\n",
        "combined_test_images_rows = (int)(total_rows *1/6)\n",
        "print(combined_train_images_rows)\n",
        "print(combined_val_images_rows)\n",
        "print(combined_test_images_rows)"
      ],
      "metadata": {
        "colab": {
          "base_uri": "https://localhost:8080/"
        },
        "id": "OfZ8HR9KhApR",
        "outputId": "5280823a-ec85-4170-d8e8-c02e91fdc350"
      },
      "execution_count": 51,
      "outputs": [
        {
          "output_type": "stream",
          "name": "stdout",
          "text": [
            "40000\n",
            "10000\n",
            "10000\n"
          ]
        }
      ]
    },
    {
      "cell_type": "code",
      "source": [
        "combined_train_images = np.zeros([combined_train_images_rows, img_width, img_height, channels], dtype=np.float32)\n",
        "combined_val_images = np.zeros([combined_val_images_rows, img_width, img_height, channels], dtype=np.float32)\n",
        "combined_test_images = np.zeros([combined_test_images_rows, img_width, img_height, channels], dtype=np.float32)\n"
      ],
      "metadata": {
        "id": "cvwE2ckQlH7_"
      },
      "execution_count": 52,
      "outputs": []
    },
    {
      "cell_type": "code",
      "source": [
        "train_index = 0\n",
        "val_index = 0\n",
        "test_index = 0\n",
        "train_slice = 400\n",
        "val_slice = 100\n",
        "test_slice = 100\n",
        "num_examples = 600\n",
        "for i in range(int(train_images.shape[0]/600)):\n",
        "  train_start_index = i * 600\n",
        "  train_end_index = train_start_index + train_slice\n",
        "  val_start_index = train_end_index\n",
        "  val_end_index = val_start_index + val_slice\n",
        "  test_start_index = val_end_index\n",
        "  test_end_index = test_start_index + test_slice\n",
        "  combined_train_images[i * train_slice: i * train_slice + train_slice] = train_images[train_start_index : train_end_index]/255\n",
        "  combined_val_images[i * val_slice: i * val_slice + val_slice] = train_images[val_start_index : val_end_index]/255\n",
        "  combined_test_images[i * test_slice : i * test_slice + test_slice] = train_images[test_start_index : test_end_index]/255\n",
        "\n",
        "train_index = train_index + int(train_images.shape[0]* 4/6)\n",
        "val_index = val_index + int(train_images.shape[0]* 1/6)\n",
        "test_index = test_index + int(train_images.shape[0]* 1/6)\n",
        "print(train_index)\n",
        "print(val_index)\n",
        "print(test_index)\n",
        "for i in range(int(val_images.shape[0]/600)):\n",
        "  train_start_index = i * 600 \n",
        "  train_end_index = train_start_index + train_slice\n",
        "  val_start_index = train_end_index\n",
        "  val_end_index = val_start_index + val_slice\n",
        "  test_start_index = val_end_index\n",
        "  test_end_index = test_start_index + test_slice\n",
        "  combined_train_images[i * train_slice + train_index : i * train_slice + train_slice + train_index] = val_images[train_start_index : train_end_index]\n",
        "  combined_val_images[i * val_slice + val_index : i * val_slice + val_slice + val_index] = val_images[val_start_index : val_end_index]\n",
        "  combined_test_images[i * test_slice + test_index : i * test_slice + test_slice + test_index] = val_images[test_start_index : test_end_index]\n",
        "\n",
        "\n",
        "train_index = train_index + int(val_images.shape[0]* 4/6)\n",
        "val_index = val_index + int(val_images.shape[0]* 1/6)\n",
        "test_index = test_index + int(val_images.shape[0]* 1/6)\n",
        "print(train_index)\n",
        "print(val_index)\n",
        "print(test_index)\n",
        "for i in range(int(test_images.shape[0]/600)):\n",
        "  train_start_index = i * 600\n",
        "  train_end_index = train_start_index + train_slice\n",
        "  val_start_index = train_end_index\n",
        "  val_end_index = val_start_index + val_slice\n",
        "  test_start_index = val_end_index\n",
        "  test_end_index = test_start_index + test_slice\n",
        "  combined_train_images[i * train_slice + train_index : i * train_slice + train_slice + train_index] = test_images[train_start_index : train_end_index]\n",
        "  combined_val_images[i * val_slice + val_index : i * val_slice + val_slice + val_index] = test_images[val_start_index : val_end_index]\n",
        "  combined_test_images[i * test_slice + test_index : i * test_slice + test_slice + test_index] = test_images[test_start_index : test_end_index]\n",
        "\n"
      ],
      "metadata": {
        "colab": {
          "base_uri": "https://localhost:8080/"
        },
        "id": "kFeYWeNOlIWz",
        "outputId": "890f3c74-7396-4a65-f015-d2360fe838d2"
      },
      "execution_count": 53,
      "outputs": [
        {
          "output_type": "stream",
          "name": "stdout",
          "text": [
            "25600\n",
            "6400\n",
            "6400\n",
            "32000\n",
            "8000\n",
            "8000\n"
          ]
        }
      ]
    },
    {
      "cell_type": "code",
      "source": [
        "plt.figure(figsize=(6,3))\n",
        "plt.xticks([])\n",
        "plt.yticks([])\n",
        "plt.imshow(combined_val_images[9999])"
      ],
      "metadata": {
        "colab": {
          "base_uri": "https://localhost:8080/",
          "height": 215
        },
        "id": "1LMw4KdKlIxn",
        "outputId": "ca2031d2-7c42-44e1-c7ab-191fca01df9a"
      },
      "execution_count": 54,
      "outputs": [
        {
          "output_type": "execute_result",
          "data": {
            "text/plain": [
              "<matplotlib.image.AxesImage at 0x7feddf8117d0>"
            ]
          },
          "metadata": {},
          "execution_count": 54
        },
        {
          "output_type": "display_data",
          "data": {
            "text/plain": [
              "<Figure size 432x216 with 1 Axes>"
            ],
            "image/png": "[encoded data removed]"
          },
          "metadata": {}
        }
      ]
    },
    {
      "cell_type": "code",
      "source": [
        "train_labels = np.zeros(combined_train_images.shape[0])\n",
        "val_labels = np.zeros(combined_val_images.shape[0])\n",
        "test_labels = np.zeros(combined_test_images.shape[0])\n",
        "val = 0\n",
        "for i in range(int(combined_train_images.shape[0]/400)):\n",
        "  train_labels[(i * train_slice) : (i * train_slice) + train_slice] = val\n",
        "  val = val + 1\n",
        "\n",
        "val = 0\n",
        "for i in range(int(combined_train_images.shape[0]/400)):\n",
        "  val_labels[(i * val_slice) : (i * val_slice) + val_slice] = val\n",
        "  test_labels[(i * test_slice) : (i * test_slice) + test_slice] = val\n",
        "  val = val + 1\n",
        "\n",
        "test_labels[9000:10000]"
      ],
      "metadata": {
        "id": "b3QjddCc-Ovz",
        "colab": {
          "base_uri": "https://localhost:8080/"
        },
        "outputId": "e834f305-e0c6-4590-f7c6-0c8cc877e9e3"
      },
      "execution_count": 55,
      "outputs": [
        {
          "output_type": "execute_result",
          "data": {
            "text/plain": [
              "array([90., 90., 90., 90., 90., 90., 90., 90., 90., 90., 90., 90., 90.,\n",
              "       90., 90., 90., 90., 90., 90., 90., 90., 90., 90., 90., 90., 90.,\n",
              "       90., 90., 90., 90., 90., 90., 90., 90., 90., 90., 90., 90., 90.,\n",
              "       90., 90., 90., 90., 90., 90., 90., 90., 90., 90., 90., 90., 90.,\n",
              "       90., 90., 90., 90., 90., 90., 90., 90., 90., 90., 90., 90., 90.,\n",
              "       90., 90., 90., 90., 90., 90., 90., 90., 90., 90., 90., 90., 90.,\n",
              "       90., 90., 90., 90., 90., 90., 90., 90., 90., 90., 90., 90., 90.,\n",
              "       90., 90., 90., 90., 90., 90., 90., 90., 90., 91., 91., 91., 91.,\n",
              "       91., 91., 91., 91., 91., 91., 91., 91., 91., 91., 91., 91., 91.,\n",
              "       91., 91., 91., 91., 91., 91., 91., 91., 91., 91., 91., 91., 91.,\n",
              "       91., 91., 91., 91., 91., 91., 91., 91., 91., 91., 91., 91., 91.,\n",
              "       91., 91., 91., 91., 91., 91., 91., 91., 91., 91., 91., 91., 91.,\n",
              "       91., 91., 91., 91., 91., 91., 91., 91., 91., 91., 91., 91., 91.,\n",
              "       91., 91., 91., 91., 91., 91., 91., 91., 91., 91., 91., 91., 91.,\n",
              "       91., 91., 91., 91., 91., 91., 91., 91., 91., 91., 91., 91., 91.,\n",
              "       91., 91., 91., 91., 91., 92., 92., 92., 92., 92., 92., 92., 92.,\n",
              "       92., 92., 92., 92., 92., 92., 92., 92., 92., 92., 92., 92., 92.,\n",
              "       92., 92., 92., 92., 92., 92., 92., 92., 92., 92., 92., 92., 92.,\n",
              "       92., 92., 92., 92., 92., 92., 92., 92., 92., 92., 92., 92., 92.,\n",
              "       92., 92., 92., 92., 92., 92., 92., 92., 92., 92., 92., 92., 92.,\n",
              "       92., 92., 92., 92., 92., 92., 92., 92., 92., 92., 92., 92., 92.,\n",
              "       92., 92., 92., 92., 92., 92., 92., 92., 92., 92., 92., 92., 92.,\n",
              "       92., 92., 92., 92., 92., 92., 92., 92., 92., 92., 92., 92., 92.,\n",
              "       92., 93., 93., 93., 93., 93., 93., 93., 93., 93., 93., 93., 93.,\n",
              "       93., 93., 93., 93., 93., 93., 93., 93., 93., 93., 93., 93., 93.,\n",
              "       93., 93., 93., 93., 93., 93., 93., 93., 93., 93., 93., 93., 93.,\n",
              "       93., 93., 93., 93., 93., 93., 93., 93., 93., 93., 93., 93., 93.,\n",
              "       93., 93., 93., 93., 93., 93., 93., 93., 93., 93., 93., 93., 93.,\n",
              "       93., 93., 93., 93., 93., 93., 93., 93., 93., 93., 93., 93., 93.,\n",
              "       93., 93., 93., 93., 93., 93., 93., 93., 93., 93., 93., 93., 93.,\n",
              "       93., 93., 93., 93., 93., 93., 93., 93., 93., 93., 94., 94., 94.,\n",
              "       94., 94., 94., 94., 94., 94., 94., 94., 94., 94., 94., 94., 94.,\n",
              "       94., 94., 94., 94., 94., 94., 94., 94., 94., 94., 94., 94., 94.,\n",
              "       94., 94., 94., 94., 94., 94., 94., 94., 94., 94., 94., 94., 94.,\n",
              "       94., 94., 94., 94., 94., 94., 94., 94., 94., 94., 94., 94., 94.,\n",
              "       94., 94., 94., 94., 94., 94., 94., 94., 94., 94., 94., 94., 94.,\n",
              "       94., 94., 94., 94., 94., 94., 94., 94., 94., 94., 94., 94., 94.,\n",
              "       94., 94., 94., 94., 94., 94., 94., 94., 94., 94., 94., 94., 94.,\n",
              "       94., 94., 94., 94., 94., 94., 95., 95., 95., 95., 95., 95., 95.,\n",
              "       95., 95., 95., 95., 95., 95., 95., 95., 95., 95., 95., 95., 95.,\n",
              "       95., 95., 95., 95., 95., 95., 95., 95., 95., 95., 95., 95., 95.,\n",
              "       95., 95., 95., 95., 95., 95., 95., 95., 95., 95., 95., 95., 95.,\n",
              "       95., 95., 95., 95., 95., 95., 95., 95., 95., 95., 95., 95., 95.,\n",
              "       95., 95., 95., 95., 95., 95., 95., 95., 95., 95., 95., 95., 95.,\n",
              "       95., 95., 95., 95., 95., 95., 95., 95., 95., 95., 95., 95., 95.,\n",
              "       95., 95., 95., 95., 95., 95., 95., 95., 95., 95., 95., 95., 95.,\n",
              "       95., 95., 96., 96., 96., 96., 96., 96., 96., 96., 96., 96., 96.,\n",
              "       96., 96., 96., 96., 96., 96., 96., 96., 96., 96., 96., 96., 96.,\n",
              "       96., 96., 96., 96., 96., 96., 96., 96., 96., 96., 96., 96., 96.,\n",
              "       96., 96., 96., 96., 96., 96., 96., 96., 96., 96., 96., 96., 96.,\n",
              "       96., 96., 96., 96., 96., 96., 96., 96., 96., 96., 96., 96., 96.,\n",
              "       96., 96., 96., 96., 96., 96., 96., 96., 96., 96., 96., 96., 96.,\n",
              "       96., 96., 96., 96., 96., 96., 96., 96., 96., 96., 96., 96., 96.,\n",
              "       96., 96., 96., 96., 96., 96., 96., 96., 96., 96., 96., 97., 97.,\n",
              "       97., 97., 97., 97., 97., 97., 97., 97., 97., 97., 97., 97., 97.,\n",
              "       97., 97., 97., 97., 97., 97., 97., 97., 97., 97., 97., 97., 97.,\n",
              "       97., 97., 97., 97., 97., 97., 97., 97., 97., 97., 97., 97., 97.,\n",
              "       97., 97., 97., 97., 97., 97., 97., 97., 97., 97., 97., 97., 97.,\n",
              "       97., 97., 97., 97., 97., 97., 97., 97., 97., 97., 97., 97., 97.,\n",
              "       97., 97., 97., 97., 97., 97., 97., 97., 97., 97., 97., 97., 97.,\n",
              "       97., 97., 97., 97., 97., 97., 97., 97., 97., 97., 97., 97., 97.,\n",
              "       97., 97., 97., 97., 97., 97., 97., 98., 98., 98., 98., 98., 98.,\n",
              "       98., 98., 98., 98., 98., 98., 98., 98., 98., 98., 98., 98., 98.,\n",
              "       98., 98., 98., 98., 98., 98., 98., 98., 98., 98., 98., 98., 98.,\n",
              "       98., 98., 98., 98., 98., 98., 98., 98., 98., 98., 98., 98., 98.,\n",
              "       98., 98., 98., 98., 98., 98., 98., 98., 98., 98., 98., 98., 98.,\n",
              "       98., 98., 98., 98., 98., 98., 98., 98., 98., 98., 98., 98., 98.,\n",
              "       98., 98., 98., 98., 98., 98., 98., 98., 98., 98., 98., 98., 98.,\n",
              "       98., 98., 98., 98., 98., 98., 98., 98., 98., 98., 98., 98., 98.,\n",
              "       98., 98., 98., 99., 99., 99., 99., 99., 99., 99., 99., 99., 99.,\n",
              "       99., 99., 99., 99., 99., 99., 99., 99., 99., 99., 99., 99., 99.,\n",
              "       99., 99., 99., 99., 99., 99., 99., 99., 99., 99., 99., 99., 99.,\n",
              "       99., 99., 99., 99., 99., 99., 99., 99., 99., 99., 99., 99., 99.,\n",
              "       99., 99., 99., 99., 99., 99., 99., 99., 99., 99., 99., 99., 99.,\n",
              "       99., 99., 99., 99., 99., 99., 99., 99., 99., 99., 99., 99., 99.,\n",
              "       99., 99., 99., 99., 99., 99., 99., 99., 99., 99., 99., 99., 99.,\n",
              "       99., 99., 99., 99., 99., 99., 99., 99., 99., 99., 99., 99.])"
            ]
          },
          "metadata": {},
          "execution_count": 55
        }
      ]
    },
    {
      "cell_type": "code",
      "source": [
        "from numpy import argmax\n",
        "from tensorflow.keras.utils import to_categorical\n",
        "# one hot encode\n",
        "train_labels_encoded = to_categorical(train_labels)\n",
        "val_labels_encoded = to_categorical(val_labels)\n",
        "test_labels_encoded = to_categorical(test_labels)\n",
        "print(train_labels_encoded.shape)\n",
        "print(val_labels_encoded.shape)\n",
        "print(test_labels_encoded.shape)"
      ],
      "metadata": {
        "colab": {
          "base_uri": "https://localhost:8080/"
        },
        "id": "IfKwMN2W-PKH",
        "outputId": "897ec5e5-7ece-44c1-90ae-7352fc40c4e7"
      },
      "execution_count": 56,
      "outputs": [
        {
          "output_type": "stream",
          "name": "stdout",
          "text": [
            "(40000, 100)\n",
            "(10000, 100)\n",
            "(10000, 100)\n"
          ]
        }
      ]
    },
    {
      "cell_type": "code",
      "source": [
        "from tensorflow.keras import applications\n",
        "from tensorflow.keras.models import Sequential\n",
        "from tensorflow.keras.layers import Dropout, GlobalMaxPooling2D\n",
        "\n",
        "base_model = applications.resnet50.ResNet50(weights= None, include_top=False, input_shape= (84,84,3))\n",
        "x = base_model.output\n",
        "x = GlobalMaxPooling2D()(x)\n",
        "x = Dropout(0.7)(x)\n",
        "predictions = Dense(100, activation= 'softmax')(x)\n",
        "model = Model(inputs = base_model.input, outputs = predictions)\n",
        "optimizer = tf.keras.optimizers.Adam(learning_rate)\n",
        "model.compile(optimizer= optimizer, loss='categorical_crossentropy', metrics=['accuracy'])\n",
        "model.fit(combined_train_images, train_labels_encoded, epochs = 80, validation_data=(combined_val_images, val_labels_encoded))\n"
      ],
      "metadata": {
        "colab": {
          "base_uri": "https://localhost:8080/"
        },
        "id": "JQq4r9XU-PkJ",
        "outputId": "28e0f3ec-a549-4869-dee2-12694c82b901"
      },
      "execution_count": 57,
      "outputs": [
        {
          "output_type": "stream",
          "name": "stdout",
          "text": [
            "Epoch 1/80\n",
            "1250/1250 [==============================] - 84s 62ms/step - loss: 7.5952 - accuracy: 0.0151 - val_loss: 5.7875 - val_accuracy: 0.0189\n",
            "Epoch 2/80\n",
            "1250/1250 [==============================] - 76s 61ms/step - loss: 6.3188 - accuracy: 0.0211 - val_loss: 39.6360 - val_accuracy: 0.0384\n",
            "Epoch 3/80\n",
            "1250/1250 [==============================] - 76s 60ms/step - loss: 5.7457 - accuracy: 0.0432 - val_loss: 4.3919 - val_accuracy: 0.0671\n",
            "Epoch 4/80\n",
            "1250/1250 [==============================] - 76s 61ms/step - loss: 5.3966 - accuracy: 0.0651 - val_loss: 4.8963 - val_accuracy: 0.0908\n",
            "Epoch 5/80\n",
            "1250/1250 [==============================] - 76s 60ms/step - loss: 5.1671 - accuracy: 0.0824 - val_loss: 19.3511 - val_accuracy: 0.0878\n",
            "Epoch 6/80\n",
            "1250/1250 [==============================] - 76s 60ms/step - loss: 5.1572 - accuracy: 0.0970 - val_loss: 3.8139 - val_accuracy: 0.1238\n",
            "Epoch 7/80\n",
            "1250/1250 [==============================] - 76s 61ms/step - loss: 4.9145 - accuracy: 0.1218 - val_loss: 13.5499 - val_accuracy: 0.1487\n",
            "Epoch 8/80\n",
            "1250/1250 [==============================] - 76s 60ms/step - loss: 4.6352 - accuracy: 0.1426 - val_loss: 4.0638 - val_accuracy: 0.0919\n",
            "Epoch 9/80\n",
            "1250/1250 [==============================] - 76s 61ms/step - loss: 4.3549 - accuracy: 0.1553 - val_loss: 3.6399 - val_accuracy: 0.1866\n",
            "Epoch 10/80\n",
            "1250/1250 [==============================] - 76s 60ms/step - loss: 4.0605 - accuracy: 0.1841 - val_loss: 3.4378 - val_accuracy: 0.1999\n",
            "Epoch 11/80\n",
            "1250/1250 [==============================] - 76s 60ms/step - loss: 3.8907 - accuracy: 0.1906 - val_loss: 5.9394 - val_accuracy: 0.1767\n",
            "Epoch 12/80\n",
            "1250/1250 [==============================] - 76s 61ms/step - loss: 3.5992 - accuracy: 0.2090 - val_loss: 9.0124 - val_accuracy: 0.1178\n",
            "Epoch 13/80\n",
            "1250/1250 [==============================] - 76s 60ms/step - loss: 3.4067 - accuracy: 0.2217 - val_loss: 22.8342 - val_accuracy: 0.1258\n",
            "Epoch 14/80\n",
            "1250/1250 [==============================] - 76s 60ms/step - loss: 3.2828 - accuracy: 0.2257 - val_loss: 3.4165 - val_accuracy: 0.2627\n",
            "Epoch 15/80\n",
            "1250/1250 [==============================] - 76s 61ms/step - loss: 3.0258 - accuracy: 0.2656 - val_loss: 21.5640 - val_accuracy: 0.2561\n",
            "Epoch 16/80\n",
            "1250/1250 [==============================] - 76s 60ms/step - loss: 2.9233 - accuracy: 0.2812 - val_loss: 9.0461 - val_accuracy: 0.2696\n",
            "Epoch 17/80\n",
            "1250/1250 [==============================] - 76s 61ms/step - loss: 2.8420 - accuracy: 0.2971 - val_loss: 110.0409 - val_accuracy: 0.2517\n",
            "Epoch 18/80\n",
            "1250/1250 [==============================] - 76s 61ms/step - loss: 2.7656 - accuracy: 0.3078 - val_loss: 208.9681 - val_accuracy: 0.2259\n",
            "Epoch 19/80\n",
            "1250/1250 [==============================] - 76s 61ms/step - loss: 2.6288 - accuracy: 0.3356 - val_loss: 132.5056 - val_accuracy: 0.2968\n",
            "Epoch 20/80\n",
            "1250/1250 [==============================] - 76s 61ms/step - loss: 2.4996 - accuracy: 0.3602 - val_loss: 108.2601 - val_accuracy: 0.2918\n",
            "Epoch 21/80\n",
            "1250/1250 [==============================] - 76s 61ms/step - loss: 2.3663 - accuracy: 0.3842 - val_loss: 267.4037 - val_accuracy: 0.3038\n",
            "Epoch 22/80\n",
            "1250/1250 [==============================] - 76s 61ms/step - loss: 2.2714 - accuracy: 0.4073 - val_loss: 108.0716 - val_accuracy: 0.2733\n",
            "Epoch 23/80\n",
            "1250/1250 [==============================] - 76s 61ms/step - loss: 2.1584 - accuracy: 0.4304 - val_loss: 60.8665 - val_accuracy: 0.2879\n",
            "Epoch 24/80\n",
            "1250/1250 [==============================] - 76s 61ms/step - loss: 1.9895 - accuracy: 0.4626 - val_loss: 33.5638 - val_accuracy: 0.3041\n",
            "Epoch 25/80\n",
            "1250/1250 [==============================] - 76s 61ms/step - loss: 1.8271 - accuracy: 0.4983 - val_loss: 13.8193 - val_accuracy: 0.2448\n",
            "Epoch 26/80\n",
            "1250/1250 [==============================] - 76s 60ms/step - loss: 1.6871 - accuracy: 0.5270 - val_loss: 6.0811 - val_accuracy: 0.2803\n",
            "Epoch 27/80\n",
            "1250/1250 [==============================] - 76s 61ms/step - loss: 1.5172 - accuracy: 0.5689 - val_loss: 278.6616 - val_accuracy: 0.2860\n",
            "Epoch 28/80\n",
            "1250/1250 [==============================] - 76s 61ms/step - loss: 1.3628 - accuracy: 0.6065 - val_loss: 128.3123 - val_accuracy: 0.2972\n",
            "Epoch 29/80\n",
            "1250/1250 [==============================] - 76s 61ms/step - loss: 1.3383 - accuracy: 0.6168 - val_loss: 470.2527 - val_accuracy: 0.1753\n",
            "Epoch 30/80\n",
            "1250/1250 [==============================] - 76s 61ms/step - loss: 1.4917 - accuracy: 0.5805 - val_loss: 164.4125 - val_accuracy: 0.2851\n",
            "Epoch 31/80\n",
            "1250/1250 [==============================] - 76s 61ms/step - loss: 1.1267 - accuracy: 0.6689 - val_loss: 402.1055 - val_accuracy: 0.2832\n",
            "Epoch 32/80\n",
            "1250/1250 [==============================] - 76s 61ms/step - loss: 0.9435 - accuracy: 0.7203 - val_loss: 349.2204 - val_accuracy: 0.2769\n",
            "Epoch 33/80\n",
            "1250/1250 [==============================] - 76s 61ms/step - loss: 0.8268 - accuracy: 0.7527 - val_loss: 771.0355 - val_accuracy: 0.2543\n",
            "Epoch 34/80\n",
            "1250/1250 [==============================] - 76s 61ms/step - loss: 0.7867 - accuracy: 0.7634 - val_loss: 887.0318 - val_accuracy: 0.2736\n",
            "Epoch 35/80\n",
            "1250/1250 [==============================] - 76s 61ms/step - loss: 0.7964 - accuracy: 0.7642 - val_loss: 87.7167 - val_accuracy: 0.2642\n",
            "Epoch 36/80\n",
            "1250/1250 [==============================] - 76s 61ms/step - loss: 0.6921 - accuracy: 0.7948 - val_loss: 76.0213 - val_accuracy: 0.2695\n",
            "Epoch 37/80\n",
            "1250/1250 [==============================] - 76s 61ms/step - loss: 0.6389 - accuracy: 0.8116 - val_loss: 205.7139 - val_accuracy: 0.2608\n",
            "Epoch 38/80\n",
            "1250/1250 [==============================] - 76s 61ms/step - loss: 0.5978 - accuracy: 0.8230 - val_loss: 167.8264 - val_accuracy: 0.2718\n",
            "Epoch 39/80\n",
            "1250/1250 [==============================] - 76s 61ms/step - loss: 0.5451 - accuracy: 0.8373 - val_loss: 197.1399 - val_accuracy: 0.2700\n",
            "Epoch 40/80\n",
            "1250/1250 [==============================] - 76s 61ms/step - loss: 0.5424 - accuracy: 0.8388 - val_loss: 582.5672 - val_accuracy: 0.2656\n",
            "Epoch 41/80\n",
            "1250/1250 [==============================] - 76s 61ms/step - loss: 0.4932 - accuracy: 0.8563 - val_loss: 296.7671 - val_accuracy: 0.2693\n",
            "Epoch 42/80\n",
            "1250/1250 [==============================] - 77s 61ms/step - loss: 0.4839 - accuracy: 0.8572 - val_loss: 291.9067 - val_accuracy: 0.2733\n",
            "Epoch 43/80\n",
            "1250/1250 [==============================] - 76s 61ms/step - loss: 0.4371 - accuracy: 0.8711 - val_loss: 584.0313 - val_accuracy: 0.2701\n",
            "Epoch 44/80\n",
            "1250/1250 [==============================] - 77s 61ms/step - loss: 0.4600 - accuracy: 0.8654 - val_loss: 306.7944 - val_accuracy: 0.2742\n",
            "Epoch 45/80\n",
            "1250/1250 [==============================] - 76s 61ms/step - loss: 0.4425 - accuracy: 0.8719 - val_loss: 529.4260 - val_accuracy: 0.2762\n",
            "Epoch 46/80\n",
            "1250/1250 [==============================] - 77s 61ms/step - loss: 0.4023 - accuracy: 0.8811 - val_loss: 663.7842 - val_accuracy: 0.2727\n",
            "Epoch 47/80\n",
            "1250/1250 [==============================] - 76s 61ms/step - loss: 0.4140 - accuracy: 0.8798 - val_loss: 557.7441 - val_accuracy: 0.2580\n",
            "Epoch 48/80\n",
            "1250/1250 [==============================] - 76s 61ms/step - loss: 0.3899 - accuracy: 0.8873 - val_loss: 255.0375 - val_accuracy: 0.2676\n",
            "Epoch 49/80\n",
            "1250/1250 [==============================] - 76s 61ms/step - loss: 0.3613 - accuracy: 0.8943 - val_loss: 262.8405 - val_accuracy: 0.2759\n",
            "Epoch 50/80\n",
            "1250/1250 [==============================] - 76s 61ms/step - loss: 0.3564 - accuracy: 0.8956 - val_loss: 632.2609 - val_accuracy: 0.2704\n",
            "Epoch 51/80\n",
            "1250/1250 [==============================] - 77s 62ms/step - loss: 0.3396 - accuracy: 0.9007 - val_loss: 326.3815 - val_accuracy: 0.2720\n",
            "Epoch 52/80\n",
            "1250/1250 [==============================] - 77s 62ms/step - loss: 0.3376 - accuracy: 0.9009 - val_loss: 491.4796 - val_accuracy: 0.2693\n",
            "Epoch 53/80\n",
            "1250/1250 [==============================] - 77s 62ms/step - loss: 0.3512 - accuracy: 0.8989 - val_loss: 3060.1672 - val_accuracy: 0.2668\n",
            "Epoch 54/80\n",
            "1250/1250 [==============================] - 77s 62ms/step - loss: 0.3134 - accuracy: 0.9085 - val_loss: 3610.7495 - val_accuracy: 0.2608\n",
            "Epoch 55/80\n",
            "1250/1250 [==============================] - 76s 61ms/step - loss: 0.3029 - accuracy: 0.9135 - val_loss: 5902.0098 - val_accuracy: 0.2360\n",
            "Epoch 56/80\n",
            "1250/1250 [==============================] - 77s 62ms/step - loss: 0.2865 - accuracy: 0.9170 - val_loss: 911.8598 - val_accuracy: 0.2718\n",
            "Epoch 57/80\n",
            "1250/1250 [==============================] - 76s 61ms/step - loss: 0.3066 - accuracy: 0.9110 - val_loss: 661.1489 - val_accuracy: 0.2716\n",
            "Epoch 58/80\n",
            "1250/1250 [==============================] - 77s 61ms/step - loss: 0.2734 - accuracy: 0.9200 - val_loss: 601.2492 - val_accuracy: 0.2710\n",
            "Epoch 59/80\n",
            "1250/1250 [==============================] - 76s 61ms/step - loss: 0.2848 - accuracy: 0.9183 - val_loss: 1281.7133 - val_accuracy: 0.2697\n",
            "Epoch 60/80\n",
            "1250/1250 [==============================] - 76s 61ms/step - loss: 0.2615 - accuracy: 0.9246 - val_loss: 665.0162 - val_accuracy: 0.2687\n",
            "Epoch 61/80\n",
            "1250/1250 [==============================] - 76s 61ms/step - loss: 0.2566 - accuracy: 0.9245 - val_loss: 522.9267 - val_accuracy: 0.2722\n",
            "Epoch 62/80\n",
            "1250/1250 [==============================] - 76s 61ms/step - loss: 0.2477 - accuracy: 0.9281 - val_loss: 742.2975 - val_accuracy: 0.2721\n",
            "Epoch 63/80\n",
            "1250/1250 [==============================] - 76s 61ms/step - loss: 0.2422 - accuracy: 0.9281 - val_loss: 2830.2324 - val_accuracy: 0.2479\n",
            "Epoch 64/80\n",
            "1250/1250 [==============================] - 76s 61ms/step - loss: 0.2780 - accuracy: 0.9205 - val_loss: 2021.9132 - val_accuracy: 0.2770\n",
            "Epoch 65/80\n",
            "1250/1250 [==============================] - 76s 61ms/step - loss: 0.2292 - accuracy: 0.9346 - val_loss: 1656.7753 - val_accuracy: 0.2781\n",
            "Epoch 66/80\n",
            "1250/1250 [==============================] - 76s 61ms/step - loss: 0.2464 - accuracy: 0.9309 - val_loss: 2325.3335 - val_accuracy: 0.2755\n",
            "Epoch 67/80\n",
            "1250/1250 [==============================] - 76s 61ms/step - loss: 0.2410 - accuracy: 0.9318 - val_loss: 3959.4167 - val_accuracy: 0.2258\n",
            "Epoch 68/80\n",
            "1250/1250 [==============================] - 76s 61ms/step - loss: 0.2219 - accuracy: 0.9373 - val_loss: 1133.6045 - val_accuracy: 0.2730\n",
            "Epoch 69/80\n",
            "1250/1250 [==============================] - 76s 61ms/step - loss: 0.2055 - accuracy: 0.9399 - val_loss: 979.7439 - val_accuracy: 0.2650\n",
            "Epoch 70/80\n",
            "1250/1250 [==============================] - 76s 61ms/step - loss: 0.2248 - accuracy: 0.9358 - val_loss: 282.1559 - val_accuracy: 0.2813\n",
            "Epoch 71/80\n",
            "1250/1250 [==============================] - 76s 61ms/step - loss: 0.2108 - accuracy: 0.9392 - val_loss: 603.0772 - val_accuracy: 0.2798\n",
            "Epoch 72/80\n",
            "1250/1250 [==============================] - 76s 61ms/step - loss: 0.2050 - accuracy: 0.9412 - val_loss: 1105.3881 - val_accuracy: 0.2647\n",
            "Epoch 73/80\n",
            "1250/1250 [==============================] - 76s 61ms/step - loss: 0.1986 - accuracy: 0.9437 - val_loss: 1036.6545 - val_accuracy: 0.2735\n",
            "Epoch 74/80\n",
            "1250/1250 [==============================] - 76s 61ms/step - loss: 0.2050 - accuracy: 0.9399 - val_loss: 1622.3138 - val_accuracy: 0.2658\n",
            "Epoch 75/80\n",
            "1250/1250 [==============================] - 76s 61ms/step - loss: 0.1951 - accuracy: 0.9428 - val_loss: 737.8378 - val_accuracy: 0.2727\n",
            "Epoch 76/80\n",
            "1250/1250 [==============================] - 76s 61ms/step - loss: 0.2151 - accuracy: 0.9390 - val_loss: 232.1310 - val_accuracy: 0.2740\n",
            "Epoch 77/80\n",
            "1250/1250 [==============================] - 76s 61ms/step - loss: 0.1844 - accuracy: 0.9474 - val_loss: 264.9908 - val_accuracy: 0.2725\n",
            "Epoch 78/80\n",
            "1250/1250 [==============================] - 76s 61ms/step - loss: 0.1861 - accuracy: 0.9463 - val_loss: 180.6022 - val_accuracy: 0.2754\n",
            "Epoch 79/80\n",
            "1250/1250 [==============================] - 76s 61ms/step - loss: 0.1903 - accuracy: 0.9454 - val_loss: 242.2306 - val_accuracy: 0.2658\n",
            "Epoch 80/80\n",
            "1250/1250 [==============================] - 76s 61ms/step - loss: 0.2092 - accuracy: 0.9413 - val_loss: 788.4655 - val_accuracy: 0.2732\n"
          ]
        },
        {
          "output_type": "execute_result",
          "data": {
            "text/plain": [
              "<keras.callbacks.History at 0x7feddf350a50>"
            ]
          },
          "metadata": {},
          "execution_count": 57
        }
      ]
    },
    {
      "cell_type": "code",
      "source": [
        "preds = model.evaluate(combined_test_images, test_labels_encoded)\n",
        "print (\"Loss = \" + str(preds[0]))\n",
        "print (\"Test Accuracy = \" + str(preds[1]))"
      ],
      "metadata": {
        "colab": {
          "base_uri": "https://localhost:8080/"
        },
        "id": "90y5ga5tLJ--",
        "outputId": "44847894-7522-45ae-fac5-35ea45ec3b6d"
      },
      "execution_count": 58,
      "outputs": [
        {
          "output_type": "stream",
          "name": "stdout",
          "text": [
            "313/313 [==============================] - 6s 21ms/step - loss: 967.6267 - accuracy: 0.2805\n",
            "Loss = 967.626708984375\n",
            "Test Accuracy = 0.28049999475479126\n"
          ]
        }
      ]
    },
    {
      "cell_type": "code",
      "source": [],
      "metadata": {
        "id": "sx1He2LJ-P9r"
      },
      "execution_count": null,
      "outputs": []
    }
  ],
  "metadata": {
    "accelerator": "GPU",
    "colab": {
      "collapsed_sections": [],
      "machine_shape": "hm",
      "provenance": [],
      "authorship_tag": "ABX9TyMZkIlxF2FOBoRfpkkzkKit",
      "include_colab_link": true
    },
    "gpuClass": "standard",
    "kernelspec": {
      "display_name": "Python 3",
      "name": "python3"
    },
    "language_info": {
      "name": "python"
    }
  },
  "nbformat": 4,
  "nbformat_minor": 0
}