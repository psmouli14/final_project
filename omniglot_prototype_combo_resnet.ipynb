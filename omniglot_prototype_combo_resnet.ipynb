{
  "cells": [
    {
      "cell_type": "markdown",
      "metadata": {
        "id": "view-in-github",
        "colab_type": "text"
      },
      "source": [
        "<a href=\"https://colab.research.google.com/github/psmouli14/final_project/blob/main/omniglot_prototype_combo_resnet.ipynb\" target=\"_parent\"><img src=\"https://colab.research.google.com/assets/colab-badge.svg\" alt=\"Open In Colab\"/></a>"
      ]
    },
    {
      "cell_type": "code",
      "execution_count": 1,
      "metadata": {
        "id": "mWFcinHi9CA3"
      },
      "outputs": [],
      "source": [
        "import os\n",
        "import glob\n",
        "from PIL import Image\n",
        "\n",
        "import numpy as np\n",
        "import tensorflow as tf"
      ]
    },
    {
      "cell_type": "code",
      "execution_count": 2,
      "metadata": {
        "colab": {
          "base_uri": "https://localhost:8080/",
          "height": 74,
          "resources": {
            "http://localhost:8080/nbextensions/google.colab/files.js": {
              "data": "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",
              "headers": [
                [
                  "content-type",
                  "application/javascript"
                ]
              ],
              "ok": true,
              "status": 200,
              "status_text": ""
            }
          }
        },
        "id": "CqZVER3f9ayX",
        "outputId": "f05a2dbe-1062-4e31-83dc-4c9e1135ff3a"
      },
      "outputs": [
        {
          "output_type": "display_data",
          "data": {
            "text/plain": [
              "<IPython.core.display.HTML object>"
            ],
            "text/html": [
              "\n",
              "     <input type=\"file\" id=\"files-1ba0251d-6284-411a-9a05-1614ead22ee5\" name=\"files[]\" multiple disabled\n",
              "        style=\"border:none\" />\n",
              "     <output id=\"result-1ba0251d-6284-411a-9a05-1614ead22ee5\">\n",
              "      Upload widget is only available when the cell has been executed in the\n",
              "      current browser session. Please rerun this cell to enable.\n",
              "      </output>\n",
              "      <script src=\"/nbextensions/google.colab/files.js\"></script> "
            ]
          },
          "metadata": {}
        },
        {
          "output_type": "stream",
          "name": "stdout",
          "text": [
            "Saving omniglot.zip to omniglot.zip\n"
          ]
        }
      ],
      "source": [
        "from google.colab import files\n",
        "uploaded = files.upload()"
      ]
    },
    {
      "cell_type": "code",
      "execution_count": 3,
      "metadata": {
        "colab": {
          "base_uri": "https://localhost:8080/"
        },
        "id": "jIaDTuCIxQi_",
        "outputId": "ce5c43f2-c28d-4aa7-cc0e-7f3479e2fd9b"
      },
      "outputs": [
        {
          "output_type": "stream",
          "name": "stdout",
          "text": [
            "\u001b[1;30;43mStreaming output truncated to the last 5000 lines.\u001b[0m\n",
            "  inflating: omniglot/data/Syriac_(Estrangelo)/character05/0277_05.png  \n",
            "  inflating: omniglot/data/Syriac_(Estrangelo)/character05/0277_11.png  \n",
            "  inflating: omniglot/data/Syriac_(Estrangelo)/character05/0277_10.png  \n",
            "  inflating: omniglot/data/Syriac_(Estrangelo)/character05/0277_04.png  \n",
            "  inflating: omniglot/data/Syriac_(Estrangelo)/character05/0277_12.png  \n",
            "  inflating: omniglot/data/Syriac_(Estrangelo)/character05/0277_06.png  \n",
            "  inflating: omniglot/data/Syriac_(Estrangelo)/character05/0277_07.png  \n",
            "  inflating: omniglot/data/Syriac_(Estrangelo)/character05/0277_13.png  \n",
            "  inflating: omniglot/data/Syriac_(Estrangelo)/character05/0277_17.png  \n",
            "  inflating: omniglot/data/Syriac_(Estrangelo)/character05/0277_03.png  \n",
            "  inflating: omniglot/data/Syriac_(Estrangelo)/character05/0277_02.png  \n",
            "  inflating: omniglot/data/Syriac_(Estrangelo)/character05/0277_16.png  \n",
            "  inflating: omniglot/data/Syriac_(Estrangelo)/character05/0277_14.png  \n",
            "  inflating: omniglot/data/Syriac_(Estrangelo)/character05/0277_15.png  \n",
            "  inflating: omniglot/data/Syriac_(Estrangelo)/character05/0277_01.png  \n",
            "  inflating: omniglot/data/Syriac_(Estrangelo)/character05/0277_18.png  \n",
            "  inflating: omniglot/data/Syriac_(Estrangelo)/character05/0277_19.png  \n",
            "  inflating: omniglot/data/Syriac_(Estrangelo)/character05/0277_09.png  \n",
            "  inflating: omniglot/data/Syriac_(Estrangelo)/character05/0277_08.png  \n",
            "  inflating: omniglot/data/Syriac_(Estrangelo)/character05/0277_20.png  \n",
            "  inflating: omniglot/data/Syriac_(Estrangelo)/character02/0274_20.png  \n",
            "  inflating: omniglot/data/Syriac_(Estrangelo)/character02/0274_08.png  \n",
            "  inflating: omniglot/data/Syriac_(Estrangelo)/character02/0274_09.png  \n",
            "  inflating: omniglot/data/Syriac_(Estrangelo)/character02/0274_19.png  \n",
            "  inflating: omniglot/data/Syriac_(Estrangelo)/character02/0274_18.png  \n",
            "  inflating: omniglot/data/Syriac_(Estrangelo)/character02/0274_16.png  \n",
            "  inflating: omniglot/data/Syriac_(Estrangelo)/character02/0274_02.png  \n",
            "  inflating: omniglot/data/Syriac_(Estrangelo)/character02/0274_03.png  \n",
            "  inflating: omniglot/data/Syriac_(Estrangelo)/character02/0274_17.png  \n",
            "  inflating: omniglot/data/Syriac_(Estrangelo)/character02/0274_01.png  \n",
            "  inflating: omniglot/data/Syriac_(Estrangelo)/character02/0274_15.png  \n",
            "  inflating: omniglot/data/Syriac_(Estrangelo)/character02/0274_14.png  \n",
            "  inflating: omniglot/data/Syriac_(Estrangelo)/character02/0274_04.png  \n",
            "  inflating: omniglot/data/Syriac_(Estrangelo)/character02/0274_10.png  \n",
            "  inflating: omniglot/data/Syriac_(Estrangelo)/character02/0274_11.png  \n",
            "  inflating: omniglot/data/Syriac_(Estrangelo)/character02/0274_05.png  \n",
            "  inflating: omniglot/data/Syriac_(Estrangelo)/character02/0274_13.png  \n",
            "  inflating: omniglot/data/Syriac_(Estrangelo)/character02/0274_07.png  \n",
            "  inflating: omniglot/data/Syriac_(Estrangelo)/character02/0274_06.png  \n",
            "  inflating: omniglot/data/Syriac_(Estrangelo)/character02/0274_12.png  \n",
            "  inflating: omniglot/data/Syriac_(Estrangelo)/character15/0287_08.png  \n",
            "  inflating: omniglot/data/Syriac_(Estrangelo)/character15/0287_20.png  \n",
            "  inflating: omniglot/data/Syriac_(Estrangelo)/character15/0287_09.png  \n",
            "  inflating: omniglot/data/Syriac_(Estrangelo)/character15/0287_19.png  \n",
            "  inflating: omniglot/data/Syriac_(Estrangelo)/character15/0287_18.png  \n",
            "  inflating: omniglot/data/Syriac_(Estrangelo)/character15/0287_15.png  \n",
            "  inflating: omniglot/data/Syriac_(Estrangelo)/character15/0287_01.png  \n",
            "  inflating: omniglot/data/Syriac_(Estrangelo)/character15/0287_14.png  \n",
            "  inflating: omniglot/data/Syriac_(Estrangelo)/character15/0287_02.png  \n",
            "  inflating: omniglot/data/Syriac_(Estrangelo)/character15/0287_16.png  \n",
            "  inflating: omniglot/data/Syriac_(Estrangelo)/character15/0287_17.png  \n",
            "  inflating: omniglot/data/Syriac_(Estrangelo)/character15/0287_03.png  \n",
            "  inflating: omniglot/data/Syriac_(Estrangelo)/character15/0287_07.png  \n",
            "  inflating: omniglot/data/Syriac_(Estrangelo)/character15/0287_13.png  \n",
            "  inflating: omniglot/data/Syriac_(Estrangelo)/character15/0287_12.png  \n",
            "  inflating: omniglot/data/Syriac_(Estrangelo)/character15/0287_06.png  \n",
            "  inflating: omniglot/data/Syriac_(Estrangelo)/character15/0287_10.png  \n",
            "  inflating: omniglot/data/Syriac_(Estrangelo)/character15/0287_04.png  \n",
            "  inflating: omniglot/data/Syriac_(Estrangelo)/character15/0287_05.png  \n",
            "  inflating: omniglot/data/Syriac_(Estrangelo)/character15/0287_11.png  \n",
            "  inflating: omniglot/data/Syriac_(Estrangelo)/character12/0284_06.png  \n",
            "  inflating: omniglot/data/Syriac_(Estrangelo)/character12/0284_12.png  \n",
            "  inflating: omniglot/data/Syriac_(Estrangelo)/character12/0284_13.png  \n",
            "  inflating: omniglot/data/Syriac_(Estrangelo)/character12/0284_07.png  \n",
            "  inflating: omniglot/data/Syriac_(Estrangelo)/character12/0284_11.png  \n",
            "  inflating: omniglot/data/Syriac_(Estrangelo)/character12/0284_05.png  \n",
            "  inflating: omniglot/data/Syriac_(Estrangelo)/character12/0284_04.png  \n",
            "  inflating: omniglot/data/Syriac_(Estrangelo)/character12/0284_10.png  \n",
            "  inflating: omniglot/data/Syriac_(Estrangelo)/character12/0284_14.png  \n",
            "  inflating: omniglot/data/Syriac_(Estrangelo)/character12/0284_01.png  \n",
            "  inflating: omniglot/data/Syriac_(Estrangelo)/character12/0284_15.png  \n",
            "  inflating: omniglot/data/Syriac_(Estrangelo)/character12/0284_03.png  \n",
            "  inflating: omniglot/data/Syriac_(Estrangelo)/character12/0284_17.png  \n",
            "  inflating: omniglot/data/Syriac_(Estrangelo)/character12/0284_16.png  \n",
            "  inflating: omniglot/data/Syriac_(Estrangelo)/character12/0284_02.png  \n",
            "  inflating: omniglot/data/Syriac_(Estrangelo)/character12/0284_18.png  \n",
            "  inflating: omniglot/data/Syriac_(Estrangelo)/character12/0284_19.png  \n",
            "  inflating: omniglot/data/Syriac_(Estrangelo)/character12/0284_09.png  \n",
            "  inflating: omniglot/data/Syriac_(Estrangelo)/character12/0284_20.png  \n",
            "  inflating: omniglot/data/Syriac_(Estrangelo)/character12/0284_08.png  \n",
            "  inflating: omniglot/data/Syriac_(Estrangelo)/character23/0295_08.png  \n",
            "  inflating: omniglot/data/Syriac_(Estrangelo)/character23/0295_20.png  \n",
            "  inflating: omniglot/data/Syriac_(Estrangelo)/character23/0295_09.png  \n",
            "  inflating: omniglot/data/Syriac_(Estrangelo)/character23/0295_19.png  \n",
            "  inflating: omniglot/data/Syriac_(Estrangelo)/character23/0295_18.png  \n",
            "  inflating: omniglot/data/Syriac_(Estrangelo)/character23/0295_01.png  \n",
            "  inflating: omniglot/data/Syriac_(Estrangelo)/character23/0295_15.png  \n",
            "  inflating: omniglot/data/Syriac_(Estrangelo)/character23/0295_14.png  \n",
            "  inflating: omniglot/data/Syriac_(Estrangelo)/character23/0295_16.png  \n",
            "  inflating: omniglot/data/Syriac_(Estrangelo)/character23/0295_02.png  \n",
            "  inflating: omniglot/data/Syriac_(Estrangelo)/character23/0295_03.png  \n",
            "  inflating: omniglot/data/Syriac_(Estrangelo)/character23/0295_17.png  \n",
            "  inflating: omniglot/data/Syriac_(Estrangelo)/character23/0295_13.png  \n",
            "  inflating: omniglot/data/Syriac_(Estrangelo)/character23/0295_07.png  \n",
            "  inflating: omniglot/data/Syriac_(Estrangelo)/character23/0295_06.png  \n",
            "  inflating: omniglot/data/Syriac_(Estrangelo)/character23/0295_12.png  \n",
            "  inflating: omniglot/data/Syriac_(Estrangelo)/character23/0295_04.png  \n",
            "  inflating: omniglot/data/Syriac_(Estrangelo)/character23/0295_10.png  \n",
            "  inflating: omniglot/data/Syriac_(Estrangelo)/character23/0295_11.png  \n",
            "  inflating: omniglot/data/Syriac_(Estrangelo)/character23/0295_05.png  \n",
            "  inflating: omniglot/data/Syriac_(Estrangelo)/character22/0294_17.png  \n",
            "  inflating: omniglot/data/Syriac_(Estrangelo)/character22/0294_03.png  \n",
            "  inflating: omniglot/data/Syriac_(Estrangelo)/character22/0294_02.png  \n",
            "  inflating: omniglot/data/Syriac_(Estrangelo)/character22/0294_16.png  \n",
            "  inflating: omniglot/data/Syriac_(Estrangelo)/character22/0294_14.png  \n",
            "  inflating: omniglot/data/Syriac_(Estrangelo)/character22/0294_15.png  \n",
            "  inflating: omniglot/data/Syriac_(Estrangelo)/character22/0294_01.png  \n",
            "  inflating: omniglot/data/Syriac_(Estrangelo)/character22/0294_05.png  \n",
            "  inflating: omniglot/data/Syriac_(Estrangelo)/character22/0294_11.png  \n",
            "  inflating: omniglot/data/Syriac_(Estrangelo)/character22/0294_10.png  \n",
            "  inflating: omniglot/data/Syriac_(Estrangelo)/character22/0294_04.png  \n",
            "  inflating: omniglot/data/Syriac_(Estrangelo)/character22/0294_12.png  \n",
            "  inflating: omniglot/data/Syriac_(Estrangelo)/character22/0294_06.png  \n",
            "  inflating: omniglot/data/Syriac_(Estrangelo)/character22/0294_07.png  \n",
            "  inflating: omniglot/data/Syriac_(Estrangelo)/character22/0294_13.png  \n",
            "  inflating: omniglot/data/Syriac_(Estrangelo)/character22/0294_09.png  \n",
            "  inflating: omniglot/data/Syriac_(Estrangelo)/character22/0294_08.png  \n",
            "  inflating: omniglot/data/Syriac_(Estrangelo)/character22/0294_20.png  \n",
            "  inflating: omniglot/data/Syriac_(Estrangelo)/character22/0294_18.png  \n",
            "  inflating: omniglot/data/Syriac_(Estrangelo)/character22/0294_19.png  \n",
            "  inflating: omniglot/data/Syriac_(Estrangelo)/character13/0285_19.png  \n",
            "  inflating: omniglot/data/Syriac_(Estrangelo)/character13/0285_18.png  \n",
            "  inflating: omniglot/data/Syriac_(Estrangelo)/character13/0285_20.png  \n",
            "  inflating: omniglot/data/Syriac_(Estrangelo)/character13/0285_08.png  \n",
            "  inflating: omniglot/data/Syriac_(Estrangelo)/character13/0285_09.png  \n",
            "  inflating: omniglot/data/Syriac_(Estrangelo)/character13/0285_10.png  \n",
            "  inflating: omniglot/data/Syriac_(Estrangelo)/character13/0285_04.png  \n",
            "  inflating: omniglot/data/Syriac_(Estrangelo)/character13/0285_05.png  \n",
            "  inflating: omniglot/data/Syriac_(Estrangelo)/character13/0285_11.png  \n",
            "  inflating: omniglot/data/Syriac_(Estrangelo)/character13/0285_07.png  \n",
            "  inflating: omniglot/data/Syriac_(Estrangelo)/character13/0285_13.png  \n",
            "  inflating: omniglot/data/Syriac_(Estrangelo)/character13/0285_12.png  \n",
            "  inflating: omniglot/data/Syriac_(Estrangelo)/character13/0285_06.png  \n",
            "  inflating: omniglot/data/Syriac_(Estrangelo)/character13/0285_02.png  \n",
            "  inflating: omniglot/data/Syriac_(Estrangelo)/character13/0285_16.png  \n",
            "  inflating: omniglot/data/Syriac_(Estrangelo)/character13/0285_17.png  \n",
            "  inflating: omniglot/data/Syriac_(Estrangelo)/character13/0285_03.png  \n",
            "  inflating: omniglot/data/Syriac_(Estrangelo)/character13/0285_15.png  \n",
            "  inflating: omniglot/data/Syriac_(Estrangelo)/character13/0285_01.png  \n",
            "  inflating: omniglot/data/Syriac_(Estrangelo)/character13/0285_14.png  \n",
            "  inflating: omniglot/data/Syriac_(Estrangelo)/character14/0286_03.png  \n",
            "  inflating: omniglot/data/Syriac_(Estrangelo)/character14/0286_17.png  \n",
            "  inflating: omniglot/data/Syriac_(Estrangelo)/character14/0286_16.png  \n",
            "  inflating: omniglot/data/Syriac_(Estrangelo)/character14/0286_02.png  \n",
            "  inflating: omniglot/data/Syriac_(Estrangelo)/character14/0286_14.png  \n",
            "  inflating: omniglot/data/Syriac_(Estrangelo)/character14/0286_01.png  \n",
            "  inflating: omniglot/data/Syriac_(Estrangelo)/character14/0286_15.png  \n",
            "  inflating: omniglot/data/Syriac_(Estrangelo)/character14/0286_11.png  \n",
            "  inflating: omniglot/data/Syriac_(Estrangelo)/character14/0286_05.png  \n",
            "  inflating: omniglot/data/Syriac_(Estrangelo)/character14/0286_04.png  \n",
            "  inflating: omniglot/data/Syriac_(Estrangelo)/character14/0286_10.png  \n",
            "  inflating: omniglot/data/Syriac_(Estrangelo)/character14/0286_06.png  \n",
            "  inflating: omniglot/data/Syriac_(Estrangelo)/character14/0286_12.png  \n",
            "  inflating: omniglot/data/Syriac_(Estrangelo)/character14/0286_13.png  \n",
            "  inflating: omniglot/data/Syriac_(Estrangelo)/character14/0286_07.png  \n",
            "  inflating: omniglot/data/Syriac_(Estrangelo)/character14/0286_09.png  \n",
            "  inflating: omniglot/data/Syriac_(Estrangelo)/character14/0286_08.png  \n",
            "  inflating: omniglot/data/Syriac_(Estrangelo)/character14/0286_20.png  \n",
            "  inflating: omniglot/data/Syriac_(Estrangelo)/character14/0286_18.png  \n",
            "  inflating: omniglot/data/Syriac_(Estrangelo)/character14/0286_19.png  \n",
            "  inflating: omniglot/data/Syriac_(Estrangelo)/character09/0281_09.png  \n",
            "  inflating: omniglot/data/Syriac_(Estrangelo)/character09/0281_20.png  \n",
            "  inflating: omniglot/data/Syriac_(Estrangelo)/character09/0281_08.png  \n",
            "  inflating: omniglot/data/Syriac_(Estrangelo)/character09/0281_18.png  \n",
            "  inflating: omniglot/data/Syriac_(Estrangelo)/character09/0281_19.png  \n",
            "  inflating: omniglot/data/Syriac_(Estrangelo)/character09/0281_17.png  \n",
            "  inflating: omniglot/data/Syriac_(Estrangelo)/character09/0281_03.png  \n",
            "  inflating: omniglot/data/Syriac_(Estrangelo)/character09/0281_02.png  \n",
            "  inflating: omniglot/data/Syriac_(Estrangelo)/character09/0281_16.png  \n",
            "  inflating: omniglot/data/Syriac_(Estrangelo)/character09/0281_14.png  \n",
            "  inflating: omniglot/data/Syriac_(Estrangelo)/character09/0281_15.png  \n",
            "  inflating: omniglot/data/Syriac_(Estrangelo)/character09/0281_01.png  \n",
            "  inflating: omniglot/data/Syriac_(Estrangelo)/character09/0281_05.png  \n",
            "  inflating: omniglot/data/Syriac_(Estrangelo)/character09/0281_11.png  \n",
            "  inflating: omniglot/data/Syriac_(Estrangelo)/character09/0281_10.png  \n",
            "  inflating: omniglot/data/Syriac_(Estrangelo)/character09/0281_04.png  \n",
            "  inflating: omniglot/data/Syriac_(Estrangelo)/character09/0281_12.png  \n",
            "  inflating: omniglot/data/Syriac_(Estrangelo)/character09/0281_06.png  \n",
            "  inflating: omniglot/data/Syriac_(Estrangelo)/character09/0281_07.png  \n",
            "  inflating: omniglot/data/Syriac_(Estrangelo)/character09/0281_13.png  \n",
            "  inflating: omniglot/data/Syriac_(Estrangelo)/character07/0279_14.png  \n",
            "  inflating: omniglot/data/Syriac_(Estrangelo)/character07/0279_01.png  \n",
            "  inflating: omniglot/data/Syriac_(Estrangelo)/character07/0279_15.png  \n",
            "  inflating: omniglot/data/Syriac_(Estrangelo)/character07/0279_03.png  \n",
            "  inflating: omniglot/data/Syriac_(Estrangelo)/character07/0279_17.png  \n",
            "  inflating: omniglot/data/Syriac_(Estrangelo)/character07/0279_16.png  \n",
            "  inflating: omniglot/data/Syriac_(Estrangelo)/character07/0279_02.png  \n",
            "  inflating: omniglot/data/Syriac_(Estrangelo)/character07/0279_06.png  \n",
            "  inflating: omniglot/data/Syriac_(Estrangelo)/character07/0279_12.png  \n",
            "  inflating: omniglot/data/Syriac_(Estrangelo)/character07/0279_13.png  \n",
            "  inflating: omniglot/data/Syriac_(Estrangelo)/character07/0279_07.png  \n",
            "  inflating: omniglot/data/Syriac_(Estrangelo)/character07/0279_11.png  \n",
            "  inflating: omniglot/data/Syriac_(Estrangelo)/character07/0279_05.png  \n",
            "  inflating: omniglot/data/Syriac_(Estrangelo)/character07/0279_04.png  \n",
            "  inflating: omniglot/data/Syriac_(Estrangelo)/character07/0279_10.png  \n",
            "  inflating: omniglot/data/Syriac_(Estrangelo)/character07/0279_09.png  \n",
            "  inflating: omniglot/data/Syriac_(Estrangelo)/character07/0279_08.png  \n",
            "  inflating: omniglot/data/Syriac_(Estrangelo)/character07/0279_20.png  \n",
            "  inflating: omniglot/data/Syriac_(Estrangelo)/character07/0279_18.png  \n",
            "  inflating: omniglot/data/Syriac_(Estrangelo)/character07/0279_19.png  \n",
            "  inflating: omniglot/data/Syriac_(Estrangelo)/character01/0273_02.png  \n",
            "  inflating: omniglot/data/Syriac_(Estrangelo)/character01/0273_16.png  \n",
            "  inflating: omniglot/data/Syriac_(Estrangelo)/character01/0273_17.png  \n",
            "  inflating: omniglot/data/Syriac_(Estrangelo)/character01/0273_03.png  \n",
            "  inflating: omniglot/data/Syriac_(Estrangelo)/character01/0273_15.png  \n",
            "  inflating: omniglot/data/Syriac_(Estrangelo)/character01/0273_01.png  \n",
            "  inflating: omniglot/data/Syriac_(Estrangelo)/character01/0273_14.png  \n",
            "  inflating: omniglot/data/Syriac_(Estrangelo)/character01/0273_10.png  \n",
            "  inflating: omniglot/data/Syriac_(Estrangelo)/character01/0273_04.png  \n",
            "  inflating: omniglot/data/Syriac_(Estrangelo)/character01/0273_05.png  \n",
            "  inflating: omniglot/data/Syriac_(Estrangelo)/character01/0273_11.png  \n",
            "  inflating: omniglot/data/Syriac_(Estrangelo)/character01/0273_07.png  \n",
            "  inflating: omniglot/data/Syriac_(Estrangelo)/character01/0273_13.png  \n",
            "  inflating: omniglot/data/Syriac_(Estrangelo)/character01/0273_12.png  \n",
            "  inflating: omniglot/data/Syriac_(Estrangelo)/character01/0273_06.png  \n",
            "  inflating: omniglot/data/Syriac_(Estrangelo)/character01/0273_08.png  \n",
            "  inflating: omniglot/data/Syriac_(Estrangelo)/character01/0273_20.png  \n",
            "  inflating: omniglot/data/Syriac_(Estrangelo)/character01/0273_09.png  \n",
            "  inflating: omniglot/data/Syriac_(Estrangelo)/character01/0273_19.png  \n",
            "  inflating: omniglot/data/Syriac_(Estrangelo)/character01/0273_18.png  \n",
            "  inflating: omniglot/data/Syriac_(Estrangelo)/character06/0278_08.png  \n",
            "  inflating: omniglot/data/Syriac_(Estrangelo)/character06/0278_20.png  \n",
            "  inflating: omniglot/data/Syriac_(Estrangelo)/character06/0278_09.png  \n",
            "  inflating: omniglot/data/Syriac_(Estrangelo)/character06/0278_19.png  \n",
            "  inflating: omniglot/data/Syriac_(Estrangelo)/character06/0278_18.png  \n",
            "  inflating: omniglot/data/Syriac_(Estrangelo)/character06/0278_02.png  \n",
            "  inflating: omniglot/data/Syriac_(Estrangelo)/character06/0278_16.png  \n",
            "  inflating: omniglot/data/Syriac_(Estrangelo)/character06/0278_17.png  \n",
            "  inflating: omniglot/data/Syriac_(Estrangelo)/character06/0278_03.png  \n",
            "  inflating: omniglot/data/Syriac_(Estrangelo)/character06/0278_15.png  \n",
            "  inflating: omniglot/data/Syriac_(Estrangelo)/character06/0278_01.png  \n",
            "  inflating: omniglot/data/Syriac_(Estrangelo)/character06/0278_14.png  \n",
            "  inflating: omniglot/data/Syriac_(Estrangelo)/character06/0278_10.png  \n",
            "  inflating: omniglot/data/Syriac_(Estrangelo)/character06/0278_04.png  \n",
            "  inflating: omniglot/data/Syriac_(Estrangelo)/character06/0278_05.png  \n",
            "  inflating: omniglot/data/Syriac_(Estrangelo)/character06/0278_11.png  \n",
            "  inflating: omniglot/data/Syriac_(Estrangelo)/character06/0278_07.png  \n",
            "  inflating: omniglot/data/Syriac_(Estrangelo)/character06/0278_13.png  \n",
            "  inflating: omniglot/data/Syriac_(Estrangelo)/character06/0278_12.png  \n",
            "  inflating: omniglot/data/Syriac_(Estrangelo)/character06/0278_06.png  \n",
            "  inflating: omniglot/data/Syriac_(Estrangelo)/character08/0280_01.png  \n",
            "  inflating: omniglot/data/Syriac_(Estrangelo)/character08/0280_15.png  \n",
            "  inflating: omniglot/data/Syriac_(Estrangelo)/character08/0280_14.png  \n",
            "  inflating: omniglot/data/Syriac_(Estrangelo)/character08/0280_16.png  \n",
            "  inflating: omniglot/data/Syriac_(Estrangelo)/character08/0280_02.png  \n",
            "  inflating: omniglot/data/Syriac_(Estrangelo)/character08/0280_03.png  \n",
            "  inflating: omniglot/data/Syriac_(Estrangelo)/character08/0280_17.png  \n",
            "  inflating: omniglot/data/Syriac_(Estrangelo)/character08/0280_13.png  \n",
            "  inflating: omniglot/data/Syriac_(Estrangelo)/character08/0280_07.png  \n",
            "  inflating: omniglot/data/Syriac_(Estrangelo)/character08/0280_06.png  \n",
            "  inflating: omniglot/data/Syriac_(Estrangelo)/character08/0280_12.png  \n",
            "  inflating: omniglot/data/Syriac_(Estrangelo)/character08/0280_04.png  \n",
            "  inflating: omniglot/data/Syriac_(Estrangelo)/character08/0280_10.png  \n",
            "  inflating: omniglot/data/Syriac_(Estrangelo)/character08/0280_11.png  \n",
            "  inflating: omniglot/data/Syriac_(Estrangelo)/character08/0280_05.png  \n",
            "  inflating: omniglot/data/Syriac_(Estrangelo)/character08/0280_20.png  \n",
            "  inflating: omniglot/data/Syriac_(Estrangelo)/character08/0280_08.png  \n",
            "  inflating: omniglot/data/Syriac_(Estrangelo)/character08/0280_09.png  \n",
            "  inflating: omniglot/data/Syriac_(Estrangelo)/character08/0280_19.png  \n",
            "  inflating: omniglot/data/Syriac_(Estrangelo)/character08/0280_18.png  \n",
            "  inflating: omniglot/data/Alphabet_of_the_Magi/character11/0719_04.png  \n",
            "  inflating: omniglot/data/Alphabet_of_the_Magi/character11/0719_10.png  \n",
            "  inflating: omniglot/data/Alphabet_of_the_Magi/character11/0719_11.png  \n",
            "  inflating: omniglot/data/Alphabet_of_the_Magi/character11/0719_05.png  \n",
            "  inflating: omniglot/data/Alphabet_of_the_Magi/character11/0719_13.png  \n",
            "  inflating: omniglot/data/Alphabet_of_the_Magi/character11/0719_07.png  \n",
            "  inflating: omniglot/data/Alphabet_of_the_Magi/character11/0719_06.png  \n",
            "  inflating: omniglot/data/Alphabet_of_the_Magi/character11/0719_12.png  \n",
            "  inflating: omniglot/data/Alphabet_of_the_Magi/character11/0719_16.png  \n",
            "  inflating: omniglot/data/Alphabet_of_the_Magi/character11/0719_02.png  \n",
            "  inflating: omniglot/data/Alphabet_of_the_Magi/character11/0719_03.png  \n",
            "  inflating: omniglot/data/Alphabet_of_the_Magi/character11/0719_17.png  \n",
            "  inflating: omniglot/data/Alphabet_of_the_Magi/character11/0719_01.png  \n",
            "  inflating: omniglot/data/Alphabet_of_the_Magi/character11/0719_15.png  \n",
            "  inflating: omniglot/data/Alphabet_of_the_Magi/character11/0719_14.png  \n",
            "  inflating: omniglot/data/Alphabet_of_the_Magi/character11/0719_19.png  \n",
            "  inflating: omniglot/data/Alphabet_of_the_Magi/character11/0719_18.png  \n",
            "  inflating: omniglot/data/Alphabet_of_the_Magi/character11/0719_08.png  \n",
            "  inflating: omniglot/data/Alphabet_of_the_Magi/character11/0719_20.png  \n",
            "  inflating: omniglot/data/Alphabet_of_the_Magi/character11/0719_09.png  \n",
            "  inflating: omniglot/data/Alphabet_of_the_Magi/character16/0724_18.png  \n",
            "  inflating: omniglot/data/Alphabet_of_the_Magi/character16/0724_19.png  \n",
            "  inflating: omniglot/data/Alphabet_of_the_Magi/character16/0724_09.png  \n",
            "  inflating: omniglot/data/Alphabet_of_the_Magi/character16/0724_20.png  \n",
            "  inflating: omniglot/data/Alphabet_of_the_Magi/character16/0724_08.png  \n",
            "  inflating: omniglot/data/Alphabet_of_the_Magi/character16/0724_11.png  \n",
            "  inflating: omniglot/data/Alphabet_of_the_Magi/character16/0724_05.png  \n",
            "  inflating: omniglot/data/Alphabet_of_the_Magi/character16/0724_04.png  \n",
            "  inflating: omniglot/data/Alphabet_of_the_Magi/character16/0724_10.png  \n",
            "  inflating: omniglot/data/Alphabet_of_the_Magi/character16/0724_06.png  \n",
            "  inflating: omniglot/data/Alphabet_of_the_Magi/character16/0724_12.png  \n",
            "  inflating: omniglot/data/Alphabet_of_the_Magi/character16/0724_13.png  \n",
            "  inflating: omniglot/data/Alphabet_of_the_Magi/character16/0724_07.png  \n",
            "  inflating: omniglot/data/Alphabet_of_the_Magi/character16/0724_03.png  \n",
            "  inflating: omniglot/data/Alphabet_of_the_Magi/character16/0724_17.png  \n",
            "  inflating: omniglot/data/Alphabet_of_the_Magi/character16/0724_16.png  \n",
            "  inflating: omniglot/data/Alphabet_of_the_Magi/character16/0724_02.png  \n",
            "  inflating: omniglot/data/Alphabet_of_the_Magi/character16/0724_14.png  \n",
            "  inflating: omniglot/data/Alphabet_of_the_Magi/character16/0724_01.png  \n",
            "  inflating: omniglot/data/Alphabet_of_the_Magi/character16/0724_15.png  \n",
            "  inflating: omniglot/data/Alphabet_of_the_Magi/character20/0728_18.png  \n",
            "  inflating: omniglot/data/Alphabet_of_the_Magi/character20/0728_19.png  \n",
            "  inflating: omniglot/data/Alphabet_of_the_Magi/character20/0728_09.png  \n",
            "  inflating: omniglot/data/Alphabet_of_the_Magi/character20/0728_08.png  \n",
            "  inflating: omniglot/data/Alphabet_of_the_Magi/character20/0728_20.png  \n",
            "  inflating: omniglot/data/Alphabet_of_the_Magi/character20/0728_05.png  \n",
            "  inflating: omniglot/data/Alphabet_of_the_Magi/character20/0728_11.png  \n",
            "  inflating: omniglot/data/Alphabet_of_the_Magi/character20/0728_10.png  \n",
            "  inflating: omniglot/data/Alphabet_of_the_Magi/character20/0728_04.png  \n",
            "  inflating: omniglot/data/Alphabet_of_the_Magi/character20/0728_12.png  \n",
            "  inflating: omniglot/data/Alphabet_of_the_Magi/character20/0728_06.png  \n",
            "  inflating: omniglot/data/Alphabet_of_the_Magi/character20/0728_07.png  \n",
            "  inflating: omniglot/data/Alphabet_of_the_Magi/character20/0728_13.png  \n",
            "  inflating: omniglot/data/Alphabet_of_the_Magi/character20/0728_17.png  \n",
            "  inflating: omniglot/data/Alphabet_of_the_Magi/character20/0728_03.png  \n",
            "  inflating: omniglot/data/Alphabet_of_the_Magi/character20/0728_02.png  \n",
            "  inflating: omniglot/data/Alphabet_of_the_Magi/character20/0728_16.png  \n",
            "  inflating: omniglot/data/Alphabet_of_the_Magi/character20/0728_14.png  \n",
            "  inflating: omniglot/data/Alphabet_of_the_Magi/character20/0728_15.png  \n",
            "  inflating: omniglot/data/Alphabet_of_the_Magi/character20/0728_01.png  \n",
            "  inflating: omniglot/data/Alphabet_of_the_Magi/character18/0726_09.png  \n",
            "  inflating: omniglot/data/Alphabet_of_the_Magi/character18/0726_08.png  \n",
            "  inflating: omniglot/data/Alphabet_of_the_Magi/character18/0726_20.png  \n",
            "  inflating: omniglot/data/Alphabet_of_the_Magi/character18/0726_18.png  \n",
            "  inflating: omniglot/data/Alphabet_of_the_Magi/character18/0726_19.png  \n",
            "  inflating: omniglot/data/Alphabet_of_the_Magi/character18/0726_14.png  \n",
            "  inflating: omniglot/data/Alphabet_of_the_Magi/character18/0726_01.png  \n",
            "  inflating: omniglot/data/Alphabet_of_the_Magi/character18/0726_15.png  \n",
            "  inflating: omniglot/data/Alphabet_of_the_Magi/character18/0726_03.png  \n",
            "  inflating: omniglot/data/Alphabet_of_the_Magi/character18/0726_17.png  \n",
            "  inflating: omniglot/data/Alphabet_of_the_Magi/character18/0726_16.png  \n",
            "  inflating: omniglot/data/Alphabet_of_the_Magi/character18/0726_02.png  \n",
            "  inflating: omniglot/data/Alphabet_of_the_Magi/character18/0726_06.png  \n",
            "  inflating: omniglot/data/Alphabet_of_the_Magi/character18/0726_12.png  \n",
            "  inflating: omniglot/data/Alphabet_of_the_Magi/character18/0726_13.png  \n",
            "  inflating: omniglot/data/Alphabet_of_the_Magi/character18/0726_07.png  \n",
            "  inflating: omniglot/data/Alphabet_of_the_Magi/character18/0726_11.png  \n",
            "  inflating: omniglot/data/Alphabet_of_the_Magi/character18/0726_05.png  \n",
            "  inflating: omniglot/data/Alphabet_of_the_Magi/character18/0726_04.png  \n",
            "  inflating: omniglot/data/Alphabet_of_the_Magi/character18/0726_10.png  \n",
            "  inflating: omniglot/data/Alphabet_of_the_Magi/character19/0727_02.png  \n",
            "  inflating: omniglot/data/Alphabet_of_the_Magi/character19/0727_16.png  \n",
            "  inflating: omniglot/data/Alphabet_of_the_Magi/character19/0727_17.png  \n",
            "  inflating: omniglot/data/Alphabet_of_the_Magi/character19/0727_03.png  \n",
            "  inflating: omniglot/data/Alphabet_of_the_Magi/character19/0727_15.png  \n",
            "  inflating: omniglot/data/Alphabet_of_the_Magi/character19/0727_01.png  \n",
            "  inflating: omniglot/data/Alphabet_of_the_Magi/character19/0727_14.png  \n",
            "  inflating: omniglot/data/Alphabet_of_the_Magi/character19/0727_10.png  \n",
            "  inflating: omniglot/data/Alphabet_of_the_Magi/character19/0727_04.png  \n",
            "  inflating: omniglot/data/Alphabet_of_the_Magi/character19/0727_05.png  \n",
            "  inflating: omniglot/data/Alphabet_of_the_Magi/character19/0727_11.png  \n",
            "  inflating: omniglot/data/Alphabet_of_the_Magi/character19/0727_07.png  \n",
            "  inflating: omniglot/data/Alphabet_of_the_Magi/character19/0727_13.png  \n",
            "  inflating: omniglot/data/Alphabet_of_the_Magi/character19/0727_12.png  \n",
            "  inflating: omniglot/data/Alphabet_of_the_Magi/character19/0727_06.png  \n",
            "  inflating: omniglot/data/Alphabet_of_the_Magi/character19/0727_08.png  \n",
            "  inflating: omniglot/data/Alphabet_of_the_Magi/character19/0727_20.png  \n",
            "  inflating: omniglot/data/Alphabet_of_the_Magi/character19/0727_09.png  \n",
            "  inflating: omniglot/data/Alphabet_of_the_Magi/character19/0727_19.png  \n",
            "  inflating: omniglot/data/Alphabet_of_the_Magi/character19/0727_18.png  \n",
            "  inflating: omniglot/data/Alphabet_of_the_Magi/character17/0725_07.png  \n",
            "  inflating: omniglot/data/Alphabet_of_the_Magi/character17/0725_13.png  \n",
            "  inflating: omniglot/data/Alphabet_of_the_Magi/character17/0725_12.png  \n",
            "  inflating: omniglot/data/Alphabet_of_the_Magi/character17/0725_06.png  \n",
            "  inflating: omniglot/data/Alphabet_of_the_Magi/character17/0725_10.png  \n",
            "  inflating: omniglot/data/Alphabet_of_the_Magi/character17/0725_04.png  \n",
            "  inflating: omniglot/data/Alphabet_of_the_Magi/character17/0725_05.png  \n",
            "  inflating: omniglot/data/Alphabet_of_the_Magi/character17/0725_11.png  \n",
            "  inflating: omniglot/data/Alphabet_of_the_Magi/character17/0725_15.png  \n",
            "  inflating: omniglot/data/Alphabet_of_the_Magi/character17/0725_01.png  \n",
            "  inflating: omniglot/data/Alphabet_of_the_Magi/character17/0725_14.png  \n",
            "  inflating: omniglot/data/Alphabet_of_the_Magi/character17/0725_02.png  \n",
            "  inflating: omniglot/data/Alphabet_of_the_Magi/character17/0725_16.png  \n",
            "  inflating: omniglot/data/Alphabet_of_the_Magi/character17/0725_17.png  \n",
            "  inflating: omniglot/data/Alphabet_of_the_Magi/character17/0725_03.png  \n",
            "  inflating: omniglot/data/Alphabet_of_the_Magi/character17/0725_19.png  \n",
            "  inflating: omniglot/data/Alphabet_of_the_Magi/character17/0725_18.png  \n",
            "  inflating: omniglot/data/Alphabet_of_the_Magi/character17/0725_20.png  \n",
            "  inflating: omniglot/data/Alphabet_of_the_Magi/character17/0725_08.png  \n",
            "  inflating: omniglot/data/Alphabet_of_the_Magi/character17/0725_09.png  \n",
            "  inflating: omniglot/data/Alphabet_of_the_Magi/character10/0718_18.png  \n",
            "  inflating: omniglot/data/Alphabet_of_the_Magi/character10/0718_19.png  \n",
            "  inflating: omniglot/data/Alphabet_of_the_Magi/character10/0718_09.png  \n",
            "  inflating: omniglot/data/Alphabet_of_the_Magi/character10/0718_08.png  \n",
            "  inflating: omniglot/data/Alphabet_of_the_Magi/character10/0718_20.png  \n",
            "  inflating: omniglot/data/Alphabet_of_the_Magi/character10/0718_12.png  \n",
            "  inflating: omniglot/data/Alphabet_of_the_Magi/character10/0718_06.png  \n",
            "  inflating: omniglot/data/Alphabet_of_the_Magi/character10/0718_07.png  \n",
            "  inflating: omniglot/data/Alphabet_of_the_Magi/character10/0718_13.png  \n",
            "  inflating: omniglot/data/Alphabet_of_the_Magi/character10/0718_05.png  \n",
            "  inflating: omniglot/data/Alphabet_of_the_Magi/character10/0718_11.png  \n",
            "  inflating: omniglot/data/Alphabet_of_the_Magi/character10/0718_10.png  \n",
            "  inflating: omniglot/data/Alphabet_of_the_Magi/character10/0718_04.png  \n",
            "  inflating: omniglot/data/Alphabet_of_the_Magi/character10/0718_14.png  \n",
            "  inflating: omniglot/data/Alphabet_of_the_Magi/character10/0718_15.png  \n",
            "  inflating: omniglot/data/Alphabet_of_the_Magi/character10/0718_01.png  \n",
            "  inflating: omniglot/data/Alphabet_of_the_Magi/character10/0718_17.png  \n",
            "  inflating: omniglot/data/Alphabet_of_the_Magi/character10/0718_03.png  \n",
            "  inflating: omniglot/data/Alphabet_of_the_Magi/character10/0718_02.png  \n",
            "  inflating: omniglot/data/Alphabet_of_the_Magi/character10/0718_16.png  \n",
            "  inflating: omniglot/data/Alphabet_of_the_Magi/character03/0711_17.png  \n",
            "  inflating: omniglot/data/Alphabet_of_the_Magi/character03/0711_03.png  \n",
            "  inflating: omniglot/data/Alphabet_of_the_Magi/character03/0711_02.png  \n",
            "  inflating: omniglot/data/Alphabet_of_the_Magi/character03/0711_16.png  \n",
            "  inflating: omniglot/data/Alphabet_of_the_Magi/character03/0711_14.png  \n",
            "  inflating: omniglot/data/Alphabet_of_the_Magi/character03/0711_15.png  \n",
            "  inflating: omniglot/data/Alphabet_of_the_Magi/character03/0711_01.png  \n",
            "  inflating: omniglot/data/Alphabet_of_the_Magi/character03/0711_05.png  \n",
            "  inflating: omniglot/data/Alphabet_of_the_Magi/character03/0711_11.png  \n",
            "  inflating: omniglot/data/Alphabet_of_the_Magi/character03/0711_10.png  \n",
            "  inflating: omniglot/data/Alphabet_of_the_Magi/character03/0711_04.png  \n",
            "  inflating: omniglot/data/Alphabet_of_the_Magi/character03/0711_12.png  \n",
            "  inflating: omniglot/data/Alphabet_of_the_Magi/character03/0711_06.png  \n",
            "  inflating: omniglot/data/Alphabet_of_the_Magi/character03/0711_07.png  \n",
            "  inflating: omniglot/data/Alphabet_of_the_Magi/character03/0711_13.png  \n",
            "  inflating: omniglot/data/Alphabet_of_the_Magi/character03/0711_09.png  \n",
            "  inflating: omniglot/data/Alphabet_of_the_Magi/character03/0711_20.png  \n",
            "  inflating: omniglot/data/Alphabet_of_the_Magi/character03/0711_08.png  \n",
            "  inflating: omniglot/data/Alphabet_of_the_Magi/character03/0711_18.png  \n",
            "  inflating: omniglot/data/Alphabet_of_the_Magi/character03/0711_19.png  \n",
            "  inflating: omniglot/data/Alphabet_of_the_Magi/character04/0712_19.png  \n",
            "  inflating: omniglot/data/Alphabet_of_the_Magi/character04/0712_18.png  \n",
            "  inflating: omniglot/data/Alphabet_of_the_Magi/character04/0712_08.png  \n",
            "  inflating: omniglot/data/Alphabet_of_the_Magi/character04/0712_20.png  \n",
            "  inflating: omniglot/data/Alphabet_of_the_Magi/character04/0712_09.png  \n",
            "  inflating: omniglot/data/Alphabet_of_the_Magi/character04/0712_04.png  \n",
            "  inflating: omniglot/data/Alphabet_of_the_Magi/character04/0712_10.png  \n",
            "  inflating: omniglot/data/Alphabet_of_the_Magi/character04/0712_11.png  \n",
            "  inflating: omniglot/data/Alphabet_of_the_Magi/character04/0712_05.png  \n",
            "  inflating: omniglot/data/Alphabet_of_the_Magi/character04/0712_13.png  \n",
            "  inflating: omniglot/data/Alphabet_of_the_Magi/character04/0712_07.png  \n",
            "  inflating: omniglot/data/Alphabet_of_the_Magi/character04/0712_06.png  \n",
            "  inflating: omniglot/data/Alphabet_of_the_Magi/character04/0712_12.png  \n",
            "  inflating: omniglot/data/Alphabet_of_the_Magi/character04/0712_16.png  \n",
            "  inflating: omniglot/data/Alphabet_of_the_Magi/character04/0712_02.png  \n",
            "  inflating: omniglot/data/Alphabet_of_the_Magi/character04/0712_03.png  \n",
            "  inflating: omniglot/data/Alphabet_of_the_Magi/character04/0712_17.png  \n",
            "  inflating: omniglot/data/Alphabet_of_the_Magi/character04/0712_01.png  \n",
            "  inflating: omniglot/data/Alphabet_of_the_Magi/character04/0712_15.png  \n",
            "  inflating: omniglot/data/Alphabet_of_the_Magi/character04/0712_14.png  \n",
            "  inflating: omniglot/data/Alphabet_of_the_Magi/character05/0713_12.png  \n",
            "  inflating: omniglot/data/Alphabet_of_the_Magi/character05/0713_06.png  \n",
            "  inflating: omniglot/data/Alphabet_of_the_Magi/character05/0713_07.png  \n",
            "  inflating: omniglot/data/Alphabet_of_the_Magi/character05/0713_13.png  \n",
            "  inflating: omniglot/data/Alphabet_of_the_Magi/character05/0713_05.png  \n",
            "  inflating: omniglot/data/Alphabet_of_the_Magi/character05/0713_11.png  \n",
            "  inflating: omniglot/data/Alphabet_of_the_Magi/character05/0713_10.png  \n",
            "  inflating: omniglot/data/Alphabet_of_the_Magi/character05/0713_04.png  \n",
            "  inflating: omniglot/data/Alphabet_of_the_Magi/character05/0713_14.png  \n",
            "  inflating: omniglot/data/Alphabet_of_the_Magi/character05/0713_15.png  \n",
            "  inflating: omniglot/data/Alphabet_of_the_Magi/character05/0713_01.png  \n",
            "  inflating: omniglot/data/Alphabet_of_the_Magi/character05/0713_17.png  \n",
            "  inflating: omniglot/data/Alphabet_of_the_Magi/character05/0713_03.png  \n",
            "  inflating: omniglot/data/Alphabet_of_the_Magi/character05/0713_02.png  \n",
            "  inflating: omniglot/data/Alphabet_of_the_Magi/character05/0713_16.png  \n",
            "  inflating: omniglot/data/Alphabet_of_the_Magi/character05/0713_18.png  \n",
            "  inflating: omniglot/data/Alphabet_of_the_Magi/character05/0713_19.png  \n",
            "  inflating: omniglot/data/Alphabet_of_the_Magi/character05/0713_09.png  \n",
            "  inflating: omniglot/data/Alphabet_of_the_Magi/character05/0713_08.png  \n",
            "  inflating: omniglot/data/Alphabet_of_the_Magi/character05/0713_20.png  \n",
            "  inflating: omniglot/data/Alphabet_of_the_Magi/character02/0710_20.png  \n",
            "  inflating: omniglot/data/Alphabet_of_the_Magi/character02/0710_08.png  \n",
            "  inflating: omniglot/data/Alphabet_of_the_Magi/character02/0710_09.png  \n",
            "  inflating: omniglot/data/Alphabet_of_the_Magi/character02/0710_19.png  \n",
            "  inflating: omniglot/data/Alphabet_of_the_Magi/character02/0710_18.png  \n",
            "  inflating: omniglot/data/Alphabet_of_the_Magi/character02/0710_01.png  \n",
            "  inflating: omniglot/data/Alphabet_of_the_Magi/character02/0710_15.png  \n",
            "  inflating: omniglot/data/Alphabet_of_the_Magi/character02/0710_14.png  \n",
            "  inflating: omniglot/data/Alphabet_of_the_Magi/character02/0710_16.png  \n",
            "  inflating: omniglot/data/Alphabet_of_the_Magi/character02/0710_02.png  \n",
            "  inflating: omniglot/data/Alphabet_of_the_Magi/character02/0710_03.png  \n",
            "  inflating: omniglot/data/Alphabet_of_the_Magi/character02/0710_17.png  \n",
            "  inflating: omniglot/data/Alphabet_of_the_Magi/character02/0710_13.png  \n",
            "  inflating: omniglot/data/Alphabet_of_the_Magi/character02/0710_07.png  \n",
            "  inflating: omniglot/data/Alphabet_of_the_Magi/character02/0710_06.png  \n",
            "  inflating: omniglot/data/Alphabet_of_the_Magi/character02/0710_12.png  \n",
            "  inflating: omniglot/data/Alphabet_of_the_Magi/character02/0710_04.png  \n",
            "  inflating: omniglot/data/Alphabet_of_the_Magi/character02/0710_10.png  \n",
            "  inflating: omniglot/data/Alphabet_of_the_Magi/character02/0710_11.png  \n",
            "  inflating: omniglot/data/Alphabet_of_the_Magi/character02/0710_05.png  \n",
            "  inflating: omniglot/data/Alphabet_of_the_Magi/character15/0723_05.png  \n",
            "  inflating: omniglot/data/Alphabet_of_the_Magi/character15/0723_11.png  \n",
            "  inflating: omniglot/data/Alphabet_of_the_Magi/character15/0723_10.png  \n",
            "  inflating: omniglot/data/Alphabet_of_the_Magi/character15/0723_04.png  \n",
            "  inflating: omniglot/data/Alphabet_of_the_Magi/character15/0723_12.png  \n",
            "  inflating: omniglot/data/Alphabet_of_the_Magi/character15/0723_06.png  \n",
            "  inflating: omniglot/data/Alphabet_of_the_Magi/character15/0723_07.png  \n",
            "  inflating: omniglot/data/Alphabet_of_the_Magi/character15/0723_13.png  \n",
            "  inflating: omniglot/data/Alphabet_of_the_Magi/character15/0723_17.png  \n",
            "  inflating: omniglot/data/Alphabet_of_the_Magi/character15/0723_03.png  \n",
            "  inflating: omniglot/data/Alphabet_of_the_Magi/character15/0723_02.png  \n",
            "  inflating: omniglot/data/Alphabet_of_the_Magi/character15/0723_16.png  \n",
            "  inflating: omniglot/data/Alphabet_of_the_Magi/character15/0723_14.png  \n",
            "  inflating: omniglot/data/Alphabet_of_the_Magi/character15/0723_15.png  \n",
            "  inflating: omniglot/data/Alphabet_of_the_Magi/character15/0723_01.png  \n",
            "  inflating: omniglot/data/Alphabet_of_the_Magi/character15/0723_18.png  \n",
            "  inflating: omniglot/data/Alphabet_of_the_Magi/character15/0723_19.png  \n",
            "  inflating: omniglot/data/Alphabet_of_the_Magi/character15/0723_09.png  \n",
            "  inflating: omniglot/data/Alphabet_of_the_Magi/character15/0723_08.png  \n",
            "  inflating: omniglot/data/Alphabet_of_the_Magi/character15/0723_20.png  \n",
            "  inflating: omniglot/data/Alphabet_of_the_Magi/character12/0720_20.png  \n",
            "  inflating: omniglot/data/Alphabet_of_the_Magi/character12/0720_08.png  \n",
            "  inflating: omniglot/data/Alphabet_of_the_Magi/character12/0720_09.png  \n",
            "  inflating: omniglot/data/Alphabet_of_the_Magi/character12/0720_19.png  \n",
            "  inflating: omniglot/data/Alphabet_of_the_Magi/character12/0720_18.png  \n",
            "  inflating: omniglot/data/Alphabet_of_the_Magi/character12/0720_16.png  \n",
            "  inflating: omniglot/data/Alphabet_of_the_Magi/character12/0720_02.png  \n",
            "  inflating: omniglot/data/Alphabet_of_the_Magi/character12/0720_03.png  \n",
            "  inflating: omniglot/data/Alphabet_of_the_Magi/character12/0720_17.png  \n",
            "  inflating: omniglot/data/Alphabet_of_the_Magi/character12/0720_01.png  \n",
            "  inflating: omniglot/data/Alphabet_of_the_Magi/character12/0720_15.png  \n",
            "  inflating: omniglot/data/Alphabet_of_the_Magi/character12/0720_14.png  \n",
            "  inflating: omniglot/data/Alphabet_of_the_Magi/character12/0720_04.png  \n",
            "  inflating: omniglot/data/Alphabet_of_the_Magi/character12/0720_10.png  \n",
            "  inflating: omniglot/data/Alphabet_of_the_Magi/character12/0720_11.png  \n",
            "  inflating: omniglot/data/Alphabet_of_the_Magi/character12/0720_05.png  \n",
            "  inflating: omniglot/data/Alphabet_of_the_Magi/character12/0720_13.png  \n",
            "  inflating: omniglot/data/Alphabet_of_the_Magi/character12/0720_07.png  \n",
            "  inflating: omniglot/data/Alphabet_of_the_Magi/character12/0720_06.png  \n",
            "  inflating: omniglot/data/Alphabet_of_the_Magi/character12/0720_12.png  \n",
            "  inflating: omniglot/data/Alphabet_of_the_Magi/character13/0721_14.png  \n",
            "  inflating: omniglot/data/Alphabet_of_the_Magi/character13/0721_15.png  \n",
            "  inflating: omniglot/data/Alphabet_of_the_Magi/character13/0721_01.png  \n",
            "  inflating: omniglot/data/Alphabet_of_the_Magi/character13/0721_17.png  \n",
            "  inflating: omniglot/data/Alphabet_of_the_Magi/character13/0721_03.png  \n",
            "  inflating: omniglot/data/Alphabet_of_the_Magi/character13/0721_02.png  \n",
            "  inflating: omniglot/data/Alphabet_of_the_Magi/character13/0721_16.png  \n",
            "  inflating: omniglot/data/Alphabet_of_the_Magi/character13/0721_12.png  \n",
            "  inflating: omniglot/data/Alphabet_of_the_Magi/character13/0721_06.png  \n",
            "  inflating: omniglot/data/Alphabet_of_the_Magi/character13/0721_07.png  \n",
            "  inflating: omniglot/data/Alphabet_of_the_Magi/character13/0721_13.png  \n",
            "  inflating: omniglot/data/Alphabet_of_the_Magi/character13/0721_05.png  \n",
            "  inflating: omniglot/data/Alphabet_of_the_Magi/character13/0721_11.png  \n",
            "  inflating: omniglot/data/Alphabet_of_the_Magi/character13/0721_10.png  \n",
            "  inflating: omniglot/data/Alphabet_of_the_Magi/character13/0721_04.png  \n",
            "  inflating: omniglot/data/Alphabet_of_the_Magi/character13/0721_09.png  \n",
            "  inflating: omniglot/data/Alphabet_of_the_Magi/character13/0721_20.png  \n",
            "  inflating: omniglot/data/Alphabet_of_the_Magi/character13/0721_08.png  \n",
            "  inflating: omniglot/data/Alphabet_of_the_Magi/character13/0721_18.png  \n",
            "  inflating: omniglot/data/Alphabet_of_the_Magi/character13/0721_19.png  \n",
            "  inflating: omniglot/data/Alphabet_of_the_Magi/character14/0722_19.png  \n",
            "  inflating: omniglot/data/Alphabet_of_the_Magi/character14/0722_18.png  \n",
            "  inflating: omniglot/data/Alphabet_of_the_Magi/character14/0722_08.png  \n",
            "  inflating: omniglot/data/Alphabet_of_the_Magi/character14/0722_20.png  \n",
            "  inflating: omniglot/data/Alphabet_of_the_Magi/character14/0722_09.png  \n",
            "  inflating: omniglot/data/Alphabet_of_the_Magi/character14/0722_13.png  \n",
            "  inflating: omniglot/data/Alphabet_of_the_Magi/character14/0722_07.png  \n",
            "  inflating: omniglot/data/Alphabet_of_the_Magi/character14/0722_06.png  \n",
            "  inflating: omniglot/data/Alphabet_of_the_Magi/character14/0722_12.png  \n",
            "  inflating: omniglot/data/Alphabet_of_the_Magi/character14/0722_04.png  \n",
            "  inflating: omniglot/data/Alphabet_of_the_Magi/character14/0722_10.png  \n",
            "  inflating: omniglot/data/Alphabet_of_the_Magi/character14/0722_11.png  \n",
            "  inflating: omniglot/data/Alphabet_of_the_Magi/character14/0722_05.png  \n",
            "  inflating: omniglot/data/Alphabet_of_the_Magi/character14/0722_01.png  \n",
            "  inflating: omniglot/data/Alphabet_of_the_Magi/character14/0722_15.png  \n",
            "  inflating: omniglot/data/Alphabet_of_the_Magi/character14/0722_14.png  \n",
            "  inflating: omniglot/data/Alphabet_of_the_Magi/character14/0722_16.png  \n",
            "  inflating: omniglot/data/Alphabet_of_the_Magi/character14/0722_02.png  \n",
            "  inflating: omniglot/data/Alphabet_of_the_Magi/character14/0722_03.png  \n",
            "  inflating: omniglot/data/Alphabet_of_the_Magi/character14/0722_17.png  \n",
            "  inflating: omniglot/data/Alphabet_of_the_Magi/character09/0717_15.png  \n",
            "  inflating: omniglot/data/Alphabet_of_the_Magi/character09/0717_01.png  \n",
            "  inflating: omniglot/data/Alphabet_of_the_Magi/character09/0717_14.png  \n",
            "  inflating: omniglot/data/Alphabet_of_the_Magi/character09/0717_02.png  \n",
            "  inflating: omniglot/data/Alphabet_of_the_Magi/character09/0717_16.png  \n",
            "  inflating: omniglot/data/Alphabet_of_the_Magi/character09/0717_17.png  \n",
            "  inflating: omniglot/data/Alphabet_of_the_Magi/character09/0717_03.png  \n",
            "  inflating: omniglot/data/Alphabet_of_the_Magi/character09/0717_07.png  \n",
            "  inflating: omniglot/data/Alphabet_of_the_Magi/character09/0717_13.png  \n",
            "  inflating: omniglot/data/Alphabet_of_the_Magi/character09/0717_12.png  \n",
            "  inflating: omniglot/data/Alphabet_of_the_Magi/character09/0717_06.png  \n",
            "  inflating: omniglot/data/Alphabet_of_the_Magi/character09/0717_10.png  \n",
            "  inflating: omniglot/data/Alphabet_of_the_Magi/character09/0717_04.png  \n",
            "  inflating: omniglot/data/Alphabet_of_the_Magi/character09/0717_05.png  \n",
            "  inflating: omniglot/data/Alphabet_of_the_Magi/character09/0717_11.png  \n",
            "  inflating: omniglot/data/Alphabet_of_the_Magi/character09/0717_08.png  \n",
            "  inflating: omniglot/data/Alphabet_of_the_Magi/character09/0717_20.png  \n",
            "  inflating: omniglot/data/Alphabet_of_the_Magi/character09/0717_09.png  \n",
            "  inflating: omniglot/data/Alphabet_of_the_Magi/character09/0717_19.png  \n",
            "  inflating: omniglot/data/Alphabet_of_the_Magi/character09/0717_18.png  \n",
            "  inflating: omniglot/data/Alphabet_of_the_Magi/character07/0715_10.png  \n",
            "  inflating: omniglot/data/Alphabet_of_the_Magi/character07/0715_04.png  \n",
            "  inflating: omniglot/data/Alphabet_of_the_Magi/character07/0715_05.png  \n",
            "  inflating: omniglot/data/Alphabet_of_the_Magi/character07/0715_11.png  \n",
            "  inflating: omniglot/data/Alphabet_of_the_Magi/character07/0715_07.png  \n",
            "  inflating: omniglot/data/Alphabet_of_the_Magi/character07/0715_13.png  \n",
            "  inflating: omniglot/data/Alphabet_of_the_Magi/character07/0715_12.png  \n",
            "  inflating: omniglot/data/Alphabet_of_the_Magi/character07/0715_06.png  \n",
            "  inflating: omniglot/data/Alphabet_of_the_Magi/character07/0715_02.png  \n",
            "  inflating: omniglot/data/Alphabet_of_the_Magi/character07/0715_16.png  \n",
            "  inflating: omniglot/data/Alphabet_of_the_Magi/character07/0715_17.png  \n",
            "  inflating: omniglot/data/Alphabet_of_the_Magi/character07/0715_03.png  \n",
            "  inflating: omniglot/data/Alphabet_of_the_Magi/character07/0715_15.png  \n",
            "  inflating: omniglot/data/Alphabet_of_the_Magi/character07/0715_01.png  \n",
            "  inflating: omniglot/data/Alphabet_of_the_Magi/character07/0715_14.png  \n",
            "  inflating: omniglot/data/Alphabet_of_the_Magi/character07/0715_19.png  \n",
            "  inflating: omniglot/data/Alphabet_of_the_Magi/character07/0715_18.png  \n",
            "  inflating: omniglot/data/Alphabet_of_the_Magi/character07/0715_20.png  \n",
            "  inflating: omniglot/data/Alphabet_of_the_Magi/character07/0715_08.png  \n",
            "  inflating: omniglot/data/Alphabet_of_the_Magi/character07/0715_09.png  \n",
            "  inflating: omniglot/data/Alphabet_of_the_Magi/character01/0709_15.png  \n",
            "  inflating: omniglot/data/Alphabet_of_the_Magi/character01/0709_01.png  \n",
            "  inflating: omniglot/data/Alphabet_of_the_Magi/character01/0709_14.png  \n",
            "  inflating: omniglot/data/Alphabet_of_the_Magi/character01/0709_02.png  \n",
            "  inflating: omniglot/data/Alphabet_of_the_Magi/character01/0709_16.png  \n",
            "  inflating: omniglot/data/Alphabet_of_the_Magi/character01/0709_17.png  \n",
            "  inflating: omniglot/data/Alphabet_of_the_Magi/character01/0709_03.png  \n",
            "  inflating: omniglot/data/Alphabet_of_the_Magi/character01/0709_07.png  \n",
            "  inflating: omniglot/data/Alphabet_of_the_Magi/character01/0709_13.png  \n",
            "  inflating: omniglot/data/Alphabet_of_the_Magi/character01/0709_12.png  \n",
            "  inflating: omniglot/data/Alphabet_of_the_Magi/character01/0709_06.png  \n",
            "  inflating: omniglot/data/Alphabet_of_the_Magi/character01/0709_10.png  \n",
            "  inflating: omniglot/data/Alphabet_of_the_Magi/character01/0709_04.png  \n",
            "  inflating: omniglot/data/Alphabet_of_the_Magi/character01/0709_05.png  \n",
            "  inflating: omniglot/data/Alphabet_of_the_Magi/character01/0709_11.png  \n",
            "  inflating: omniglot/data/Alphabet_of_the_Magi/character01/0709_20.png  \n",
            "  inflating: omniglot/data/Alphabet_of_the_Magi/character01/0709_08.png  \n",
            "  inflating: omniglot/data/Alphabet_of_the_Magi/character01/0709_09.png  \n",
            "  inflating: omniglot/data/Alphabet_of_the_Magi/character01/0709_19.png  \n",
            "  inflating: omniglot/data/Alphabet_of_the_Magi/character01/0709_18.png  \n",
            "  inflating: omniglot/data/Alphabet_of_the_Magi/character06/0714_18.png  \n",
            "  inflating: omniglot/data/Alphabet_of_the_Magi/character06/0714_19.png  \n",
            "  inflating: omniglot/data/Alphabet_of_the_Magi/character06/0714_09.png  \n",
            "  inflating: omniglot/data/Alphabet_of_the_Magi/character06/0714_20.png  \n",
            "  inflating: omniglot/data/Alphabet_of_the_Magi/character06/0714_08.png  \n",
            "  inflating: omniglot/data/Alphabet_of_the_Magi/character06/0714_06.png  \n",
            "  inflating: omniglot/data/Alphabet_of_the_Magi/character06/0714_12.png  \n",
            "  inflating: omniglot/data/Alphabet_of_the_Magi/character06/0714_13.png  \n",
            "  inflating: omniglot/data/Alphabet_of_the_Magi/character06/0714_07.png  \n",
            "  inflating: omniglot/data/Alphabet_of_the_Magi/character06/0714_11.png  \n",
            "  inflating: omniglot/data/Alphabet_of_the_Magi/character06/0714_05.png  \n",
            "  inflating: omniglot/data/Alphabet_of_the_Magi/character06/0714_04.png  \n",
            "  inflating: omniglot/data/Alphabet_of_the_Magi/character06/0714_10.png  \n",
            "  inflating: omniglot/data/Alphabet_of_the_Magi/character06/0714_14.png  \n",
            "  inflating: omniglot/data/Alphabet_of_the_Magi/character06/0714_01.png  \n",
            "  inflating: omniglot/data/Alphabet_of_the_Magi/character06/0714_15.png  \n",
            "  inflating: omniglot/data/Alphabet_of_the_Magi/character06/0714_03.png  \n",
            "  inflating: omniglot/data/Alphabet_of_the_Magi/character06/0714_17.png  \n",
            "  inflating: omniglot/data/Alphabet_of_the_Magi/character06/0714_16.png  \n",
            "  inflating: omniglot/data/Alphabet_of_the_Magi/character06/0714_02.png  \n",
            "  inflating: omniglot/data/Alphabet_of_the_Magi/character08/0716_09.png  \n",
            "  inflating: omniglot/data/Alphabet_of_the_Magi/character08/0716_08.png  \n",
            "  inflating: omniglot/data/Alphabet_of_the_Magi/character08/0716_20.png  \n",
            "  inflating: omniglot/data/Alphabet_of_the_Magi/character08/0716_18.png  \n",
            "  inflating: omniglot/data/Alphabet_of_the_Magi/character08/0716_19.png  \n",
            "  inflating: omniglot/data/Alphabet_of_the_Magi/character08/0716_03.png  \n",
            "  inflating: omniglot/data/Alphabet_of_the_Magi/character08/0716_17.png  \n",
            "  inflating: omniglot/data/Alphabet_of_the_Magi/character08/0716_16.png  \n",
            "  inflating: omniglot/data/Alphabet_of_the_Magi/character08/0716_02.png  \n",
            "  inflating: omniglot/data/Alphabet_of_the_Magi/character08/0716_14.png  \n",
            "  inflating: omniglot/data/Alphabet_of_the_Magi/character08/0716_01.png  \n",
            "  inflating: omniglot/data/Alphabet_of_the_Magi/character08/0716_15.png  \n",
            "  inflating: omniglot/data/Alphabet_of_the_Magi/character08/0716_11.png  \n",
            "  inflating: omniglot/data/Alphabet_of_the_Magi/character08/0716_05.png  \n",
            "  inflating: omniglot/data/Alphabet_of_the_Magi/character08/0716_04.png  \n",
            "  inflating: omniglot/data/Alphabet_of_the_Magi/character08/0716_10.png  \n",
            "  inflating: omniglot/data/Alphabet_of_the_Magi/character08/0716_06.png  \n",
            "  inflating: omniglot/data/Alphabet_of_the_Magi/character08/0716_12.png  \n",
            "  inflating: omniglot/data/Alphabet_of_the_Magi/character08/0716_13.png  \n",
            "  inflating: omniglot/data/Alphabet_of_the_Magi/character08/0716_07.png  \n",
            "  inflating: omniglot/data/Syriac_(Serto)/character11/1490_16.png  \n",
            "  inflating: omniglot/data/Syriac_(Serto)/character11/1490_02.png  \n",
            "  inflating: omniglot/data/Syriac_(Serto)/character11/1490_03.png  \n",
            "  inflating: omniglot/data/Syriac_(Serto)/character11/1490_17.png  \n",
            "  inflating: omniglot/data/Syriac_(Serto)/character11/1490_01.png  \n",
            "  inflating: omniglot/data/Syriac_(Serto)/character11/1490_15.png  \n",
            "  inflating: omniglot/data/Syriac_(Serto)/character11/1490_14.png  \n",
            "  inflating: omniglot/data/Syriac_(Serto)/character11/1490_04.png  \n",
            "  inflating: omniglot/data/Syriac_(Serto)/character11/1490_10.png  \n",
            "  inflating: omniglot/data/Syriac_(Serto)/character11/1490_11.png  \n",
            "  inflating: omniglot/data/Syriac_(Serto)/character11/1490_05.png  \n",
            "  inflating: omniglot/data/Syriac_(Serto)/character11/1490_13.png  \n",
            "  inflating: omniglot/data/Syriac_(Serto)/character11/1490_07.png  \n",
            "  inflating: omniglot/data/Syriac_(Serto)/character11/1490_06.png  \n",
            "  inflating: omniglot/data/Syriac_(Serto)/character11/1490_12.png  \n",
            "  inflating: omniglot/data/Syriac_(Serto)/character11/1490_20.png  \n",
            "  inflating: omniglot/data/Syriac_(Serto)/character11/1490_08.png  \n",
            "  inflating: omniglot/data/Syriac_(Serto)/character11/1490_09.png  \n",
            "  inflating: omniglot/data/Syriac_(Serto)/character11/1490_19.png  \n",
            "  inflating: omniglot/data/Syriac_(Serto)/character11/1490_18.png  \n",
            "  inflating: omniglot/data/Syriac_(Serto)/character16/1495_19.png  \n",
            "  inflating: omniglot/data/Syriac_(Serto)/character16/1495_18.png  \n",
            "  inflating: omniglot/data/Syriac_(Serto)/character16/1495_20.png  \n",
            "  inflating: omniglot/data/Syriac_(Serto)/character16/1495_08.png  \n",
            "  inflating: omniglot/data/Syriac_(Serto)/character16/1495_09.png  \n",
            "  inflating: omniglot/data/Syriac_(Serto)/character16/1495_07.png  \n",
            "  inflating: omniglot/data/Syriac_(Serto)/character16/1495_13.png  \n",
            "  inflating: omniglot/data/Syriac_(Serto)/character16/1495_12.png  \n",
            "  inflating: omniglot/data/Syriac_(Serto)/character16/1495_06.png  \n",
            "  inflating: omniglot/data/Syriac_(Serto)/character16/1495_10.png  \n",
            "  inflating: omniglot/data/Syriac_(Serto)/character16/1495_04.png  \n",
            "  inflating: omniglot/data/Syriac_(Serto)/character16/1495_05.png  \n",
            "  inflating: omniglot/data/Syriac_(Serto)/character16/1495_11.png  \n",
            "  inflating: omniglot/data/Syriac_(Serto)/character16/1495_15.png  \n",
            "  inflating: omniglot/data/Syriac_(Serto)/character16/1495_01.png  \n",
            "  inflating: omniglot/data/Syriac_(Serto)/character16/1495_14.png  \n",
            "  inflating: omniglot/data/Syriac_(Serto)/character16/1495_02.png  \n",
            "  inflating: omniglot/data/Syriac_(Serto)/character16/1495_16.png  \n",
            "  inflating: omniglot/data/Syriac_(Serto)/character16/1495_17.png  \n",
            "  inflating: omniglot/data/Syriac_(Serto)/character16/1495_03.png  \n",
            "  inflating: omniglot/data/Syriac_(Serto)/character20/1499_19.png  \n",
            "  inflating: omniglot/data/Syriac_(Serto)/character20/1499_18.png  \n",
            "  inflating: omniglot/data/Syriac_(Serto)/character20/1499_08.png  \n",
            "  inflating: omniglot/data/Syriac_(Serto)/character20/1499_20.png  \n",
            "  inflating: omniglot/data/Syriac_(Serto)/character20/1499_09.png  \n",
            "  inflating: omniglot/data/Syriac_(Serto)/character20/1499_13.png  \n",
            "  inflating: omniglot/data/Syriac_(Serto)/character20/1499_07.png  \n",
            "  inflating: omniglot/data/Syriac_(Serto)/character20/1499_06.png  \n",
            "  inflating: omniglot/data/Syriac_(Serto)/character20/1499_12.png  \n",
            "  inflating: omniglot/data/Syriac_(Serto)/character20/1499_04.png  \n",
            "  inflating: omniglot/data/Syriac_(Serto)/character20/1499_10.png  \n",
            "  inflating: omniglot/data/Syriac_(Serto)/character20/1499_11.png  \n",
            "  inflating: omniglot/data/Syriac_(Serto)/character20/1499_05.png  \n",
            "  inflating: omniglot/data/Syriac_(Serto)/character20/1499_01.png  \n",
            "  inflating: omniglot/data/Syriac_(Serto)/character20/1499_15.png  \n",
            "  inflating: omniglot/data/Syriac_(Serto)/character20/1499_14.png  \n",
            "  inflating: omniglot/data/Syriac_(Serto)/character20/1499_16.png  \n",
            "  inflating: omniglot/data/Syriac_(Serto)/character20/1499_02.png  \n",
            "  inflating: omniglot/data/Syriac_(Serto)/character20/1499_03.png  \n",
            "  inflating: omniglot/data/Syriac_(Serto)/character20/1499_17.png  \n",
            "  inflating: omniglot/data/Syriac_(Serto)/character18/1497_08.png  \n",
            "  inflating: omniglot/data/Syriac_(Serto)/character18/1497_20.png  \n",
            "  inflating: omniglot/data/Syriac_(Serto)/character18/1497_09.png  \n",
            "  inflating: omniglot/data/Syriac_(Serto)/character18/1497_19.png  \n",
            "  inflating: omniglot/data/Syriac_(Serto)/character18/1497_18.png  \n",
            "  inflating: omniglot/data/Syriac_(Serto)/character18/1497_02.png  \n",
            "  inflating: omniglot/data/Syriac_(Serto)/character18/1497_16.png  \n",
            "  inflating: omniglot/data/Syriac_(Serto)/character18/1497_17.png  \n",
            "  inflating: omniglot/data/Syriac_(Serto)/character18/1497_03.png  \n",
            "  inflating: omniglot/data/Syriac_(Serto)/character18/1497_15.png  \n",
            "  inflating: omniglot/data/Syriac_(Serto)/character18/1497_01.png  \n",
            "  inflating: omniglot/data/Syriac_(Serto)/character18/1497_14.png  \n",
            "  inflating: omniglot/data/Syriac_(Serto)/character18/1497_10.png  \n",
            "  inflating: omniglot/data/Syriac_(Serto)/character18/1497_04.png  \n",
            "  inflating: omniglot/data/Syriac_(Serto)/character18/1497_05.png  \n",
            "  inflating: omniglot/data/Syriac_(Serto)/character18/1497_11.png  \n",
            "  inflating: omniglot/data/Syriac_(Serto)/character18/1497_07.png  \n",
            "  inflating: omniglot/data/Syriac_(Serto)/character18/1497_13.png  \n",
            "  inflating: omniglot/data/Syriac_(Serto)/character18/1497_12.png  \n",
            "  inflating: omniglot/data/Syriac_(Serto)/character18/1497_06.png  \n",
            "  inflating: omniglot/data/Syriac_(Serto)/character19/1498_05.png  \n",
            "  inflating: omniglot/data/Syriac_(Serto)/character19/1498_11.png  \n",
            "  inflating: omniglot/data/Syriac_(Serto)/character19/1498_10.png  \n",
            "  inflating: omniglot/data/Syriac_(Serto)/character19/1498_04.png  \n",
            "  inflating: omniglot/data/Syriac_(Serto)/character19/1498_12.png  \n",
            "  inflating: omniglot/data/Syriac_(Serto)/character19/1498_06.png  \n",
            "  inflating: omniglot/data/Syriac_(Serto)/character19/1498_07.png  \n",
            "  inflating: omniglot/data/Syriac_(Serto)/character19/1498_13.png  \n",
            "  inflating: omniglot/data/Syriac_(Serto)/character19/1498_17.png  \n",
            "  inflating: omniglot/data/Syriac_(Serto)/character19/1498_03.png  \n",
            "  inflating: omniglot/data/Syriac_(Serto)/character19/1498_02.png  \n",
            "  inflating: omniglot/data/Syriac_(Serto)/character19/1498_16.png  \n",
            "  inflating: omniglot/data/Syriac_(Serto)/character19/1498_14.png  \n",
            "  inflating: omniglot/data/Syriac_(Serto)/character19/1498_15.png  \n",
            "  inflating: omniglot/data/Syriac_(Serto)/character19/1498_01.png  \n",
            "  inflating: omniglot/data/Syriac_(Serto)/character19/1498_18.png  \n",
            "  inflating: omniglot/data/Syriac_(Serto)/character19/1498_19.png  \n",
            "  inflating: omniglot/data/Syriac_(Serto)/character19/1498_09.png  \n",
            "  inflating: omniglot/data/Syriac_(Serto)/character19/1498_08.png  \n",
            "  inflating: omniglot/data/Syriac_(Serto)/character19/1498_20.png  \n",
            "  inflating: omniglot/data/Syriac_(Serto)/character21/1500_01.png  \n",
            "  inflating: omniglot/data/Syriac_(Serto)/character21/1500_15.png  \n",
            "  inflating: omniglot/data/Syriac_(Serto)/character21/1500_14.png  \n",
            "  inflating: omniglot/data/Syriac_(Serto)/character21/1500_16.png  \n",
            "  inflating: omniglot/data/Syriac_(Serto)/character21/1500_02.png  \n",
            "  inflating: omniglot/data/Syriac_(Serto)/character21/1500_03.png  \n",
            "  inflating: omniglot/data/Syriac_(Serto)/character21/1500_17.png  \n",
            "  inflating: omniglot/data/Syriac_(Serto)/character21/1500_13.png  \n",
            "  inflating: omniglot/data/Syriac_(Serto)/character21/1500_07.png  \n",
            "  inflating: omniglot/data/Syriac_(Serto)/character21/1500_06.png  \n",
            "  inflating: omniglot/data/Syriac_(Serto)/character21/1500_12.png  \n",
            "  inflating: omniglot/data/Syriac_(Serto)/character21/1500_04.png  \n",
            "  inflating: omniglot/data/Syriac_(Serto)/character21/1500_10.png  \n",
            "  inflating: omniglot/data/Syriac_(Serto)/character21/1500_11.png  \n",
            "  inflating: omniglot/data/Syriac_(Serto)/character21/1500_05.png  \n",
            "  inflating: omniglot/data/Syriac_(Serto)/character21/1500_20.png  \n",
            "  inflating: omniglot/data/Syriac_(Serto)/character21/1500_08.png  \n",
            "  inflating: omniglot/data/Syriac_(Serto)/character21/1500_09.png  \n",
            "  inflating: omniglot/data/Syriac_(Serto)/character21/1500_19.png  \n",
            "  inflating: omniglot/data/Syriac_(Serto)/character21/1500_18.png  \n",
            "  inflating: omniglot/data/Syriac_(Serto)/character17/1496_14.png  \n",
            "  inflating: omniglot/data/Syriac_(Serto)/character17/1496_01.png  \n",
            "  inflating: omniglot/data/Syriac_(Serto)/character17/1496_15.png  \n",
            "  inflating: omniglot/data/Syriac_(Serto)/character17/1496_03.png  \n",
            "  inflating: omniglot/data/Syriac_(Serto)/character17/1496_17.png  \n",
            "  inflating: omniglot/data/Syriac_(Serto)/character17/1496_16.png  \n",
            "  inflating: omniglot/data/Syriac_(Serto)/character17/1496_02.png  \n",
            "  inflating: omniglot/data/Syriac_(Serto)/character17/1496_06.png  \n",
            "  inflating: omniglot/data/Syriac_(Serto)/character17/1496_12.png  \n",
            "  inflating: omniglot/data/Syriac_(Serto)/character17/1496_13.png  \n",
            "  inflating: omniglot/data/Syriac_(Serto)/character17/1496_07.png  \n",
            "  inflating: omniglot/data/Syriac_(Serto)/character17/1496_11.png  \n",
            "  inflating: omniglot/data/Syriac_(Serto)/character17/1496_05.png  \n",
            "  inflating: omniglot/data/Syriac_(Serto)/character17/1496_04.png  \n",
            "  inflating: omniglot/data/Syriac_(Serto)/character17/1496_10.png  \n",
            "  inflating: omniglot/data/Syriac_(Serto)/character17/1496_09.png  \n",
            "  inflating: omniglot/data/Syriac_(Serto)/character17/1496_08.png  \n",
            "  inflating: omniglot/data/Syriac_(Serto)/character17/1496_20.png  \n",
            "  inflating: omniglot/data/Syriac_(Serto)/character17/1496_18.png  \n",
            "  inflating: omniglot/data/Syriac_(Serto)/character17/1496_19.png  \n",
            "  inflating: omniglot/data/Syriac_(Serto)/character10/1489_20.png  \n",
            "  inflating: omniglot/data/Syriac_(Serto)/character10/1489_08.png  \n",
            "  inflating: omniglot/data/Syriac_(Serto)/character10/1489_09.png  \n",
            "  inflating: omniglot/data/Syriac_(Serto)/character10/1489_19.png  \n",
            "  inflating: omniglot/data/Syriac_(Serto)/character10/1489_18.png  \n",
            "  inflating: omniglot/data/Syriac_(Serto)/character10/1489_02.png  \n",
            "  inflating: omniglot/data/Syriac_(Serto)/character10/1489_16.png  \n",
            "  inflating: omniglot/data/Syriac_(Serto)/character10/1489_17.png  \n",
            "  inflating: omniglot/data/Syriac_(Serto)/character10/1489_03.png  \n",
            "  inflating: omniglot/data/Syriac_(Serto)/character10/1489_15.png  \n",
            "  inflating: omniglot/data/Syriac_(Serto)/character10/1489_01.png  \n",
            "  inflating: omniglot/data/Syriac_(Serto)/character10/1489_14.png  \n",
            "  inflating: omniglot/data/Syriac_(Serto)/character10/1489_10.png  \n",
            "  inflating: omniglot/data/Syriac_(Serto)/character10/1489_04.png  \n",
            "  inflating: omniglot/data/Syriac_(Serto)/character10/1489_05.png  \n",
            "  inflating: omniglot/data/Syriac_(Serto)/character10/1489_11.png  \n",
            "  inflating: omniglot/data/Syriac_(Serto)/character10/1489_07.png  \n",
            "  inflating: omniglot/data/Syriac_(Serto)/character10/1489_13.png  \n",
            "  inflating: omniglot/data/Syriac_(Serto)/character10/1489_12.png  \n",
            "  inflating: omniglot/data/Syriac_(Serto)/character10/1489_06.png  \n",
            "  inflating: omniglot/data/Syriac_(Serto)/character03/1482_02.png  \n",
            "  inflating: omniglot/data/Syriac_(Serto)/character03/1482_16.png  \n",
            "  inflating: omniglot/data/Syriac_(Serto)/character03/1482_17.png  \n",
            "  inflating: omniglot/data/Syriac_(Serto)/character03/1482_03.png  \n",
            "  inflating: omniglot/data/Syriac_(Serto)/character03/1482_15.png  \n",
            "  inflating: omniglot/data/Syriac_(Serto)/character03/1482_01.png  \n",
            "  inflating: omniglot/data/Syriac_(Serto)/character03/1482_14.png  \n",
            "  inflating: omniglot/data/Syriac_(Serto)/character03/1482_10.png  \n",
            "  inflating: omniglot/data/Syriac_(Serto)/character03/1482_04.png  \n",
            "  inflating: omniglot/data/Syriac_(Serto)/character03/1482_05.png  \n",
            "  inflating: omniglot/data/Syriac_(Serto)/character03/1482_11.png  \n",
            "  inflating: omniglot/data/Syriac_(Serto)/character03/1482_07.png  \n",
            "  inflating: omniglot/data/Syriac_(Serto)/character03/1482_13.png  \n",
            "  inflating: omniglot/data/Syriac_(Serto)/character03/1482_12.png  \n",
            "  inflating: omniglot/data/Syriac_(Serto)/character03/1482_06.png  \n",
            "  inflating: omniglot/data/Syriac_(Serto)/character03/1482_20.png  \n",
            "  inflating: omniglot/data/Syriac_(Serto)/character03/1482_08.png  \n",
            "  inflating: omniglot/data/Syriac_(Serto)/character03/1482_09.png  \n",
            "  inflating: omniglot/data/Syriac_(Serto)/character03/1482_19.png  \n",
            "  inflating: omniglot/data/Syriac_(Serto)/character03/1482_18.png  \n",
            "  inflating: omniglot/data/Syriac_(Serto)/character04/1483_09.png  \n",
            "  inflating: omniglot/data/Syriac_(Serto)/character04/1483_20.png  \n",
            "  inflating: omniglot/data/Syriac_(Serto)/character04/1483_08.png  \n",
            "  inflating: omniglot/data/Syriac_(Serto)/character04/1483_18.png  \n",
            "  inflating: omniglot/data/Syriac_(Serto)/character04/1483_19.png  \n",
            "  inflating: omniglot/data/Syriac_(Serto)/character04/1483_14.png  \n",
            "  inflating: omniglot/data/Syriac_(Serto)/character04/1483_01.png  \n",
            "  inflating: omniglot/data/Syriac_(Serto)/character04/1483_15.png  \n",
            "  inflating: omniglot/data/Syriac_(Serto)/character04/1483_03.png  \n",
            "  inflating: omniglot/data/Syriac_(Serto)/character04/1483_17.png  \n",
            "  inflating: omniglot/data/Syriac_(Serto)/character04/1483_16.png  \n",
            "  inflating: omniglot/data/Syriac_(Serto)/character04/1483_02.png  \n",
            "  inflating: omniglot/data/Syriac_(Serto)/character04/1483_06.png  \n",
            "  inflating: omniglot/data/Syriac_(Serto)/character04/1483_12.png  \n",
            "  inflating: omniglot/data/Syriac_(Serto)/character04/1483_13.png  \n",
            "  inflating: omniglot/data/Syriac_(Serto)/character04/1483_07.png  \n",
            "  inflating: omniglot/data/Syriac_(Serto)/character04/1483_11.png  \n",
            "  inflating: omniglot/data/Syriac_(Serto)/character04/1483_05.png  \n",
            "  inflating: omniglot/data/Syriac_(Serto)/character04/1483_04.png  \n",
            "  inflating: omniglot/data/Syriac_(Serto)/character04/1483_10.png  \n",
            "  inflating: omniglot/data/Syriac_(Serto)/character05/1484_14.png  \n",
            "  inflating: omniglot/data/Syriac_(Serto)/character05/1484_15.png  \n",
            "  inflating: omniglot/data/Syriac_(Serto)/character05/1484_01.png  \n",
            "  inflating: omniglot/data/Syriac_(Serto)/character05/1484_17.png  \n",
            "  inflating: omniglot/data/Syriac_(Serto)/character05/1484_03.png  \n",
            "  inflating: omniglot/data/Syriac_(Serto)/character05/1484_02.png  \n",
            "  inflating: omniglot/data/Syriac_(Serto)/character05/1484_16.png  \n",
            "  inflating: omniglot/data/Syriac_(Serto)/character05/1484_12.png  \n",
            "  inflating: omniglot/data/Syriac_(Serto)/character05/1484_06.png  \n",
            "  inflating: omniglot/data/Syriac_(Serto)/character05/1484_07.png  \n",
            "  inflating: omniglot/data/Syriac_(Serto)/character05/1484_13.png  \n",
            "  inflating: omniglot/data/Syriac_(Serto)/character05/1484_05.png  \n",
            "  inflating: omniglot/data/Syriac_(Serto)/character05/1484_11.png  \n",
            "  inflating: omniglot/data/Syriac_(Serto)/character05/1484_10.png  \n",
            "  inflating: omniglot/data/Syriac_(Serto)/character05/1484_04.png  \n",
            "  inflating: omniglot/data/Syriac_(Serto)/character05/1484_09.png  \n",
            "  inflating: omniglot/data/Syriac_(Serto)/character05/1484_08.png  \n",
            "  inflating: omniglot/data/Syriac_(Serto)/character05/1484_20.png  \n",
            "  inflating: omniglot/data/Syriac_(Serto)/character05/1484_18.png  \n",
            "  inflating: omniglot/data/Syriac_(Serto)/character05/1484_19.png  \n",
            "  inflating: omniglot/data/Syriac_(Serto)/character02/1481_18.png  \n",
            "  inflating: omniglot/data/Syriac_(Serto)/character02/1481_19.png  \n",
            "  inflating: omniglot/data/Syriac_(Serto)/character02/1481_09.png  \n",
            "  inflating: omniglot/data/Syriac_(Serto)/character02/1481_08.png  \n",
            "  inflating: omniglot/data/Syriac_(Serto)/character02/1481_20.png  \n",
            "  inflating: omniglot/data/Syriac_(Serto)/character02/1481_11.png  \n",
            "  inflating: omniglot/data/Syriac_(Serto)/character02/1481_05.png  \n",
            "  inflating: omniglot/data/Syriac_(Serto)/character02/1481_04.png  \n",
            "  inflating: omniglot/data/Syriac_(Serto)/character02/1481_10.png  \n",
            "  inflating: omniglot/data/Syriac_(Serto)/character02/1481_06.png  \n",
            "  inflating: omniglot/data/Syriac_(Serto)/character02/1481_12.png  \n",
            "  inflating: omniglot/data/Syriac_(Serto)/character02/1481_13.png  \n",
            "  inflating: omniglot/data/Syriac_(Serto)/character02/1481_07.png  \n",
            "  inflating: omniglot/data/Syriac_(Serto)/character02/1481_03.png  \n",
            "  inflating: omniglot/data/Syriac_(Serto)/character02/1481_17.png  \n",
            "  inflating: omniglot/data/Syriac_(Serto)/character02/1481_16.png  \n",
            "  inflating: omniglot/data/Syriac_(Serto)/character02/1481_02.png  \n",
            "  inflating: omniglot/data/Syriac_(Serto)/character02/1481_14.png  \n",
            "  inflating: omniglot/data/Syriac_(Serto)/character02/1481_01.png  \n",
            "  inflating: omniglot/data/Syriac_(Serto)/character02/1481_15.png  \n",
            "  inflating: omniglot/data/Syriac_(Serto)/character15/1494_11.png  \n",
            "  inflating: omniglot/data/Syriac_(Serto)/character15/1494_05.png  \n",
            "  inflating: omniglot/data/Syriac_(Serto)/character15/1494_04.png  \n",
            "  inflating: omniglot/data/Syriac_(Serto)/character15/1494_10.png  \n",
            "  inflating: omniglot/data/Syriac_(Serto)/character15/1494_06.png  \n",
            "  inflating: omniglot/data/Syriac_(Serto)/character15/1494_12.png  \n",
            "  inflating: omniglot/data/Syriac_(Serto)/character15/1494_13.png  \n",
            "  inflating: omniglot/data/Syriac_(Serto)/character15/1494_07.png  \n",
            "  inflating: omniglot/data/Syriac_(Serto)/character15/1494_03.png  \n",
            "  inflating: omniglot/data/Syriac_(Serto)/character15/1494_17.png  \n",
            "  inflating: omniglot/data/Syriac_(Serto)/character15/1494_16.png  \n",
            "  inflating: omniglot/data/Syriac_(Serto)/character15/1494_02.png  \n",
            "  inflating: omniglot/data/Syriac_(Serto)/character15/1494_14.png  \n",
            "  inflating: omniglot/data/Syriac_(Serto)/character15/1494_01.png  \n",
            "  inflating: omniglot/data/Syriac_(Serto)/character15/1494_15.png  \n",
            "  inflating: omniglot/data/Syriac_(Serto)/character15/1494_18.png  \n",
            "  inflating: omniglot/data/Syriac_(Serto)/character15/1494_19.png  \n",
            "  inflating: omniglot/data/Syriac_(Serto)/character15/1494_09.png  \n",
            "  inflating: omniglot/data/Syriac_(Serto)/character15/1494_20.png  \n",
            "  inflating: omniglot/data/Syriac_(Serto)/character15/1494_08.png  \n",
            "  inflating: omniglot/data/Syriac_(Serto)/character12/1491_09.png  \n",
            "  inflating: omniglot/data/Syriac_(Serto)/character12/1491_20.png  \n",
            "  inflating: omniglot/data/Syriac_(Serto)/character12/1491_08.png  \n",
            "  inflating: omniglot/data/Syriac_(Serto)/character12/1491_18.png  \n",
            "  inflating: omniglot/data/Syriac_(Serto)/character12/1491_19.png  \n",
            "  inflating: omniglot/data/Syriac_(Serto)/character12/1491_14.png  \n",
            "  inflating: omniglot/data/Syriac_(Serto)/character12/1491_15.png  \n",
            "  inflating: omniglot/data/Syriac_(Serto)/character12/1491_01.png  \n",
            "  inflating: omniglot/data/Syriac_(Serto)/character12/1491_17.png  \n",
            "  inflating: omniglot/data/Syriac_(Serto)/character12/1491_03.png  \n",
            "  inflating: omniglot/data/Syriac_(Serto)/character12/1491_02.png  \n",
            "  inflating: omniglot/data/Syriac_(Serto)/character12/1491_16.png  \n",
            "  inflating: omniglot/data/Syriac_(Serto)/character12/1491_12.png  \n",
            "  inflating: omniglot/data/Syriac_(Serto)/character12/1491_06.png  \n",
            "  inflating: omniglot/data/Syriac_(Serto)/character12/1491_07.png  \n",
            "  inflating: omniglot/data/Syriac_(Serto)/character12/1491_13.png  \n",
            "  inflating: omniglot/data/Syriac_(Serto)/character12/1491_05.png  \n",
            "  inflating: omniglot/data/Syriac_(Serto)/character12/1491_11.png  \n",
            "  inflating: omniglot/data/Syriac_(Serto)/character12/1491_10.png  \n",
            "  inflating: omniglot/data/Syriac_(Serto)/character12/1491_04.png  \n",
            "  inflating: omniglot/data/Syriac_(Serto)/character23/1502_04.png  \n",
            "  inflating: omniglot/data/Syriac_(Serto)/character23/1502_10.png  \n",
            "  inflating: omniglot/data/Syriac_(Serto)/character23/1502_11.png  \n",
            "  inflating: omniglot/data/Syriac_(Serto)/character23/1502_05.png  \n",
            "  inflating: omniglot/data/Syriac_(Serto)/character23/1502_13.png  \n",
            "  inflating: omniglot/data/Syriac_(Serto)/character23/1502_07.png  \n",
            "  inflating: omniglot/data/Syriac_(Serto)/character23/1502_06.png  \n",
            "  inflating: omniglot/data/Syriac_(Serto)/character23/1502_12.png  \n",
            "  inflating: omniglot/data/Syriac_(Serto)/character23/1502_16.png  \n",
            "  inflating: omniglot/data/Syriac_(Serto)/character23/1502_02.png  \n",
            "  inflating: omniglot/data/Syriac_(Serto)/character23/1502_03.png  \n",
            "  inflating: omniglot/data/Syriac_(Serto)/character23/1502_17.png  \n",
            "  inflating: omniglot/data/Syriac_(Serto)/character23/1502_01.png  \n",
            "  inflating: omniglot/data/Syriac_(Serto)/character23/1502_15.png  \n",
            "  inflating: omniglot/data/Syriac_(Serto)/character23/1502_14.png  \n",
            "  inflating: omniglot/data/Syriac_(Serto)/character23/1502_19.png  \n",
            "  inflating: omniglot/data/Syriac_(Serto)/character23/1502_18.png  \n",
            "  inflating: omniglot/data/Syriac_(Serto)/character23/1502_08.png  \n",
            "  inflating: omniglot/data/Syriac_(Serto)/character23/1502_20.png  \n",
            "  inflating: omniglot/data/Syriac_(Serto)/character23/1502_09.png  \n",
            "  inflating: omniglot/data/Syriac_(Serto)/character22/1501_09.png  \n",
            "  inflating: omniglot/data/Syriac_(Serto)/character22/1501_20.png  \n",
            "  inflating: omniglot/data/Syriac_(Serto)/character22/1501_08.png  \n",
            "  inflating: omniglot/data/Syriac_(Serto)/character22/1501_18.png  \n",
            "  inflating: omniglot/data/Syriac_(Serto)/character22/1501_19.png  \n",
            "  inflating: omniglot/data/Syriac_(Serto)/character22/1501_17.png  \n",
            "  inflating: omniglot/data/Syriac_(Serto)/character22/1501_03.png  \n",
            "  inflating: omniglot/data/Syriac_(Serto)/character22/1501_02.png  \n",
            "  inflating: omniglot/data/Syriac_(Serto)/character22/1501_16.png  \n",
            "  inflating: omniglot/data/Syriac_(Serto)/character22/1501_14.png  \n",
            "  inflating: omniglot/data/Syriac_(Serto)/character22/1501_15.png  \n",
            "  inflating: omniglot/data/Syriac_(Serto)/character22/1501_01.png  \n",
            "  inflating: omniglot/data/Syriac_(Serto)/character22/1501_05.png  \n",
            "  inflating: omniglot/data/Syriac_(Serto)/character22/1501_11.png  \n",
            "  inflating: omniglot/data/Syriac_(Serto)/character22/1501_10.png  \n",
            "  inflating: omniglot/data/Syriac_(Serto)/character22/1501_04.png  \n",
            "  inflating: omniglot/data/Syriac_(Serto)/character22/1501_12.png  \n",
            "  inflating: omniglot/data/Syriac_(Serto)/character22/1501_06.png  \n",
            "  inflating: omniglot/data/Syriac_(Serto)/character22/1501_07.png  \n",
            "  inflating: omniglot/data/Syriac_(Serto)/character22/1501_13.png  \n",
            "  inflating: omniglot/data/Syriac_(Serto)/character13/1492_13.png  \n",
            "  inflating: omniglot/data/Syriac_(Serto)/character13/1492_07.png  \n",
            "  inflating: omniglot/data/Syriac_(Serto)/character13/1492_06.png  \n",
            "  inflating: omniglot/data/Syriac_(Serto)/character13/1492_12.png  \n",
            "  inflating: omniglot/data/Syriac_(Serto)/character13/1492_04.png  \n",
            "  inflating: omniglot/data/Syriac_(Serto)/character13/1492_10.png  \n",
            "  inflating: omniglot/data/Syriac_(Serto)/character13/1492_11.png  \n",
            "  inflating: omniglot/data/Syriac_(Serto)/character13/1492_05.png  \n",
            "  inflating: omniglot/data/Syriac_(Serto)/character13/1492_01.png  \n",
            "  inflating: omniglot/data/Syriac_(Serto)/character13/1492_15.png  \n",
            "  inflating: omniglot/data/Syriac_(Serto)/character13/1492_14.png  \n",
            "  inflating: omniglot/data/Syriac_(Serto)/character13/1492_16.png  \n",
            "  inflating: omniglot/data/Syriac_(Serto)/character13/1492_02.png  \n",
            "  inflating: omniglot/data/Syriac_(Serto)/character13/1492_03.png  \n",
            "  inflating: omniglot/data/Syriac_(Serto)/character13/1492_17.png  \n",
            "  inflating: omniglot/data/Syriac_(Serto)/character13/1492_19.png  \n",
            "  inflating: omniglot/data/Syriac_(Serto)/character13/1492_18.png  \n",
            "  inflating: omniglot/data/Syriac_(Serto)/character13/1492_08.png  \n",
            "  inflating: omniglot/data/Syriac_(Serto)/character13/1492_20.png  \n",
            "  inflating: omniglot/data/Syriac_(Serto)/character13/1492_09.png  \n",
            "  inflating: omniglot/data/Syriac_(Serto)/character14/1493_18.png  \n",
            "  inflating: omniglot/data/Syriac_(Serto)/character14/1493_19.png  \n",
            "  inflating: omniglot/data/Syriac_(Serto)/character14/1493_09.png  \n",
            "  inflating: omniglot/data/Syriac_(Serto)/character14/1493_08.png  \n",
            "  inflating: omniglot/data/Syriac_(Serto)/character14/1493_20.png  \n",
            "  inflating: omniglot/data/Syriac_(Serto)/character14/1493_05.png  \n",
            "  inflating: omniglot/data/Syriac_(Serto)/character14/1493_11.png  \n",
            "  inflating: omniglot/data/Syriac_(Serto)/character14/1493_10.png  \n",
            "  inflating: omniglot/data/Syriac_(Serto)/character14/1493_04.png  \n",
            "  inflating: omniglot/data/Syriac_(Serto)/character14/1493_12.png  \n",
            "  inflating: omniglot/data/Syriac_(Serto)/character14/1493_06.png  \n",
            "  inflating: omniglot/data/Syriac_(Serto)/character14/1493_07.png  \n",
            "  inflating: omniglot/data/Syriac_(Serto)/character14/1493_13.png  \n",
            "  inflating: omniglot/data/Syriac_(Serto)/character14/1493_17.png  \n",
            "  inflating: omniglot/data/Syriac_(Serto)/character14/1493_03.png  \n",
            "  inflating: omniglot/data/Syriac_(Serto)/character14/1493_02.png  \n",
            "  inflating: omniglot/data/Syriac_(Serto)/character14/1493_16.png  \n",
            "  inflating: omniglot/data/Syriac_(Serto)/character14/1493_14.png  \n",
            "  inflating: omniglot/data/Syriac_(Serto)/character14/1493_15.png  \n",
            "  inflating: omniglot/data/Syriac_(Serto)/character14/1493_01.png  \n",
            "  inflating: omniglot/data/Syriac_(Serto)/character09/1488_14.png  \n",
            "  inflating: omniglot/data/Syriac_(Serto)/character09/1488_01.png  \n",
            "  inflating: omniglot/data/Syriac_(Serto)/character09/1488_15.png  \n",
            "  inflating: omniglot/data/Syriac_(Serto)/character09/1488_03.png  \n",
            "  inflating: omniglot/data/Syriac_(Serto)/character09/1488_17.png  \n",
            "  inflating: omniglot/data/Syriac_(Serto)/character09/1488_16.png  \n",
            "  inflating: omniglot/data/Syriac_(Serto)/character09/1488_02.png  \n",
            "  inflating: omniglot/data/Syriac_(Serto)/character09/1488_06.png  \n",
            "  inflating: omniglot/data/Syriac_(Serto)/character09/1488_12.png  \n",
            "  inflating: omniglot/data/Syriac_(Serto)/character09/1488_13.png  \n",
            "  inflating: omniglot/data/Syriac_(Serto)/character09/1488_07.png  \n",
            "  inflating: omniglot/data/Syriac_(Serto)/character09/1488_11.png  \n",
            "  inflating: omniglot/data/Syriac_(Serto)/character09/1488_05.png  \n",
            "  inflating: omniglot/data/Syriac_(Serto)/character09/1488_04.png  \n",
            "  inflating: omniglot/data/Syriac_(Serto)/character09/1488_10.png  \n",
            "  inflating: omniglot/data/Syriac_(Serto)/character09/1488_09.png  \n",
            "  inflating: omniglot/data/Syriac_(Serto)/character09/1488_20.png  \n",
            "  inflating: omniglot/data/Syriac_(Serto)/character09/1488_08.png  \n",
            "  inflating: omniglot/data/Syriac_(Serto)/character09/1488_18.png  \n",
            "  inflating: omniglot/data/Syriac_(Serto)/character09/1488_19.png  \n",
            "  inflating: omniglot/data/Syriac_(Serto)/character07/1486_05.png  \n",
            "  inflating: omniglot/data/Syriac_(Serto)/character07/1486_11.png  \n",
            "  inflating: omniglot/data/Syriac_(Serto)/character07/1486_10.png  \n",
            "  inflating: omniglot/data/Syriac_(Serto)/character07/1486_04.png  \n",
            "  inflating: omniglot/data/Syriac_(Serto)/character07/1486_12.png  \n",
            "  inflating: omniglot/data/Syriac_(Serto)/character07/1486_06.png  \n",
            "  inflating: omniglot/data/Syriac_(Serto)/character07/1486_07.png  \n",
            "  inflating: omniglot/data/Syriac_(Serto)/character07/1486_13.png  \n",
            "  inflating: omniglot/data/Syriac_(Serto)/character07/1486_17.png  \n",
            "  inflating: omniglot/data/Syriac_(Serto)/character07/1486_03.png  \n",
            "  inflating: omniglot/data/Syriac_(Serto)/character07/1486_02.png  \n",
            "  inflating: omniglot/data/Syriac_(Serto)/character07/1486_16.png  \n",
            "  inflating: omniglot/data/Syriac_(Serto)/character07/1486_14.png  \n",
            "  inflating: omniglot/data/Syriac_(Serto)/character07/1486_15.png  \n",
            "  inflating: omniglot/data/Syriac_(Serto)/character07/1486_01.png  \n",
            "  inflating: omniglot/data/Syriac_(Serto)/character07/1486_18.png  \n",
            "  inflating: omniglot/data/Syriac_(Serto)/character07/1486_19.png  \n",
            "  inflating: omniglot/data/Syriac_(Serto)/character07/1486_09.png  \n",
            "  inflating: omniglot/data/Syriac_(Serto)/character07/1486_20.png  \n",
            "  inflating: omniglot/data/Syriac_(Serto)/character07/1486_08.png  \n",
            "  inflating: omniglot/data/Syriac_(Serto)/character01/1480_07.png  \n",
            "  inflating: omniglot/data/Syriac_(Serto)/character01/1480_13.png  \n",
            "  inflating: omniglot/data/Syriac_(Serto)/character01/1480_12.png  \n",
            "  inflating: omniglot/data/Syriac_(Serto)/character01/1480_06.png  \n",
            "  inflating: omniglot/data/Syriac_(Serto)/character01/1480_10.png  \n",
            "  inflating: omniglot/data/Syriac_(Serto)/character01/1480_04.png  \n",
            "  inflating: omniglot/data/Syriac_(Serto)/character01/1480_05.png  \n",
            "  inflating: omniglot/data/Syriac_(Serto)/character01/1480_11.png  \n",
            "  inflating: omniglot/data/Syriac_(Serto)/character01/1480_15.png  \n",
            "  inflating: omniglot/data/Syriac_(Serto)/character01/1480_01.png  \n",
            "  inflating: omniglot/data/Syriac_(Serto)/character01/1480_14.png  \n",
            "  inflating: omniglot/data/Syriac_(Serto)/character01/1480_02.png  \n",
            "  inflating: omniglot/data/Syriac_(Serto)/character01/1480_16.png  \n",
            "  inflating: omniglot/data/Syriac_(Serto)/character01/1480_17.png  \n",
            "  inflating: omniglot/data/Syriac_(Serto)/character01/1480_03.png  \n",
            "  inflating: omniglot/data/Syriac_(Serto)/character01/1480_19.png  \n",
            "  inflating: omniglot/data/Syriac_(Serto)/character01/1480_18.png  \n",
            "  inflating: omniglot/data/Syriac_(Serto)/character01/1480_08.png  \n",
            "  inflating: omniglot/data/Syriac_(Serto)/character01/1480_20.png  \n",
            "  inflating: omniglot/data/Syriac_(Serto)/character01/1480_09.png  \n",
            "  inflating: omniglot/data/Syriac_(Serto)/character06/1485_08.png  \n",
            "  inflating: omniglot/data/Syriac_(Serto)/character06/1485_20.png  \n",
            "  inflating: omniglot/data/Syriac_(Serto)/character06/1485_09.png  \n",
            "  inflating: omniglot/data/Syriac_(Serto)/character06/1485_19.png  \n",
            "  inflating: omniglot/data/Syriac_(Serto)/character06/1485_18.png  \n",
            "  inflating: omniglot/data/Syriac_(Serto)/character06/1485_16.png  \n",
            "  inflating: omniglot/data/Syriac_(Serto)/character06/1485_02.png  \n",
            "  inflating: omniglot/data/Syriac_(Serto)/character06/1485_03.png  \n",
            "  inflating: omniglot/data/Syriac_(Serto)/character06/1485_17.png  \n",
            "  inflating: omniglot/data/Syriac_(Serto)/character06/1485_01.png  \n",
            "  inflating: omniglot/data/Syriac_(Serto)/character06/1485_15.png  \n",
            "  inflating: omniglot/data/Syriac_(Serto)/character06/1485_14.png  \n",
            "  inflating: omniglot/data/Syriac_(Serto)/character06/1485_04.png  \n",
            "  inflating: omniglot/data/Syriac_(Serto)/character06/1485_10.png  \n",
            "  inflating: omniglot/data/Syriac_(Serto)/character06/1485_11.png  \n",
            "  inflating: omniglot/data/Syriac_(Serto)/character06/1485_05.png  \n",
            "  inflating: omniglot/data/Syriac_(Serto)/character06/1485_13.png  \n",
            "  inflating: omniglot/data/Syriac_(Serto)/character06/1485_07.png  \n",
            "  inflating: omniglot/data/Syriac_(Serto)/character06/1485_06.png  \n",
            "  inflating: omniglot/data/Syriac_(Serto)/character06/1485_12.png  \n",
            "  inflating: omniglot/data/Syriac_(Serto)/character08/1487_19.png  \n",
            "  inflating: omniglot/data/Syriac_(Serto)/character08/1487_18.png  \n",
            "  inflating: omniglot/data/Syriac_(Serto)/character08/1487_20.png  \n",
            "  inflating: omniglot/data/Syriac_(Serto)/character08/1487_08.png  \n",
            "  inflating: omniglot/data/Syriac_(Serto)/character08/1487_09.png  \n",
            "  inflating: omniglot/data/Syriac_(Serto)/character08/1487_13.png  \n",
            "  inflating: omniglot/data/Syriac_(Serto)/character08/1487_07.png  \n",
            "  inflating: omniglot/data/Syriac_(Serto)/character08/1487_06.png  \n",
            "  inflating: omniglot/data/Syriac_(Serto)/character08/1487_12.png  \n",
            "  inflating: omniglot/data/Syriac_(Serto)/character08/1487_04.png  \n",
            "  inflating: omniglot/data/Syriac_(Serto)/character08/1487_10.png  \n",
            "  inflating: omniglot/data/Syriac_(Serto)/character08/1487_11.png  \n",
            "  inflating: omniglot/data/Syriac_(Serto)/character08/1487_05.png  \n",
            "  inflating: omniglot/data/Syriac_(Serto)/character08/1487_01.png  \n",
            "  inflating: omniglot/data/Syriac_(Serto)/character08/1487_15.png  \n",
            "  inflating: omniglot/data/Syriac_(Serto)/character08/1487_14.png  \n",
            "  inflating: omniglot/data/Syriac_(Serto)/character08/1487_16.png  \n",
            "  inflating: omniglot/data/Syriac_(Serto)/character08/1487_02.png  \n",
            "  inflating: omniglot/data/Syriac_(Serto)/character08/1487_03.png  \n",
            "  inflating: omniglot/data/Syriac_(Serto)/character08/1487_17.png  \n",
            "  inflating: omniglot/data/Atemayar_Qelisayer/character11/0995_08.png  \n",
            "  inflating: omniglot/data/Atemayar_Qelisayer/character11/0995_20.png  \n",
            "  inflating: omniglot/data/Atemayar_Qelisayer/character11/0995_09.png  \n",
            "  inflating: omniglot/data/Atemayar_Qelisayer/character11/0995_19.png  \n",
            "  inflating: omniglot/data/Atemayar_Qelisayer/character11/0995_18.png  \n",
            "  inflating: omniglot/data/Atemayar_Qelisayer/character11/0995_02.png  \n",
            "  inflating: omniglot/data/Atemayar_Qelisayer/character11/0995_16.png  \n",
            "  inflating: omniglot/data/Atemayar_Qelisayer/character11/0995_17.png  \n",
            "  inflating: omniglot/data/Atemayar_Qelisayer/character11/0995_03.png  \n",
            "  inflating: omniglot/data/Atemayar_Qelisayer/character11/0995_15.png  \n",
            "  inflating: omniglot/data/Atemayar_Qelisayer/character11/0995_01.png  \n",
            "  inflating: omniglot/data/Atemayar_Qelisayer/character11/0995_14.png  \n",
            "  inflating: omniglot/data/Atemayar_Qelisayer/character11/0995_10.png  \n",
            "  inflating: omniglot/data/Atemayar_Qelisayer/character11/0995_04.png  \n",
            "  inflating: omniglot/data/Atemayar_Qelisayer/character11/0995_05.png  \n",
            "  inflating: omniglot/data/Atemayar_Qelisayer/character11/0995_11.png  \n",
            "  inflating: omniglot/data/Atemayar_Qelisayer/character11/0995_07.png  \n",
            "  inflating: omniglot/data/Atemayar_Qelisayer/character11/0995_13.png  \n",
            "  inflating: omniglot/data/Atemayar_Qelisayer/character11/0995_12.png  \n",
            "  inflating: omniglot/data/Atemayar_Qelisayer/character11/0995_06.png  \n",
            "  inflating: omniglot/data/Atemayar_Qelisayer/character16/1000_20.png  \n",
            "  inflating: omniglot/data/Atemayar_Qelisayer/character16/1000_08.png  \n",
            "  inflating: omniglot/data/Atemayar_Qelisayer/character16/1000_09.png  \n",
            "  inflating: omniglot/data/Atemayar_Qelisayer/character16/1000_19.png  \n",
            "  inflating: omniglot/data/Atemayar_Qelisayer/character16/1000_18.png  \n",
            "  inflating: omniglot/data/Atemayar_Qelisayer/character16/1000_02.png  \n",
            "  inflating: omniglot/data/Atemayar_Qelisayer/character16/1000_16.png  \n",
            "  inflating: omniglot/data/Atemayar_Qelisayer/character16/1000_17.png  \n",
            "  inflating: omniglot/data/Atemayar_Qelisayer/character16/1000_03.png  \n",
            "  inflating: omniglot/data/Atemayar_Qelisayer/character16/1000_15.png  \n",
            "  inflating: omniglot/data/Atemayar_Qelisayer/character16/1000_01.png  \n",
            "  inflating: omniglot/data/Atemayar_Qelisayer/character16/1000_14.png  \n",
            "  inflating: omniglot/data/Atemayar_Qelisayer/character16/1000_10.png  \n",
            "  inflating: omniglot/data/Atemayar_Qelisayer/character16/1000_04.png  \n",
            "  inflating: omniglot/data/Atemayar_Qelisayer/character16/1000_05.png  \n",
            "  inflating: omniglot/data/Atemayar_Qelisayer/character16/1000_11.png  \n",
            "  inflating: omniglot/data/Atemayar_Qelisayer/character16/1000_07.png  \n",
            "  inflating: omniglot/data/Atemayar_Qelisayer/character16/1000_13.png  \n",
            "  inflating: omniglot/data/Atemayar_Qelisayer/character16/1000_12.png  \n",
            "  inflating: omniglot/data/Atemayar_Qelisayer/character16/1000_06.png  \n",
            "  inflating: omniglot/data/Atemayar_Qelisayer/character20/1004_18.png  \n",
            "  inflating: omniglot/data/Atemayar_Qelisayer/character20/1004_19.png  \n",
            "  inflating: omniglot/data/Atemayar_Qelisayer/character20/1004_09.png  \n",
            "  inflating: omniglot/data/Atemayar_Qelisayer/character20/1004_20.png  \n",
            "  inflating: omniglot/data/Atemayar_Qelisayer/character20/1004_08.png  \n",
            "  inflating: omniglot/data/Atemayar_Qelisayer/character20/1004_05.png  \n",
            "  inflating: omniglot/data/Atemayar_Qelisayer/character20/1004_11.png  \n",
            "  inflating: omniglot/data/Atemayar_Qelisayer/character20/1004_10.png  \n",
            "  inflating: omniglot/data/Atemayar_Qelisayer/character20/1004_04.png  \n",
            "  inflating: omniglot/data/Atemayar_Qelisayer/character20/1004_12.png  \n",
            "  inflating: omniglot/data/Atemayar_Qelisayer/character20/1004_06.png  \n",
            "  inflating: omniglot/data/Atemayar_Qelisayer/character20/1004_07.png  \n",
            "  inflating: omniglot/data/Atemayar_Qelisayer/character20/1004_13.png  \n",
            "  inflating: omniglot/data/Atemayar_Qelisayer/character20/1004_17.png  \n",
            "  inflating: omniglot/data/Atemayar_Qelisayer/character20/1004_03.png  \n",
            "  inflating: omniglot/data/Atemayar_Qelisayer/character20/1004_02.png  \n",
            "  inflating: omniglot/data/Atemayar_Qelisayer/character20/1004_16.png  \n",
            "  inflating: omniglot/data/Atemayar_Qelisayer/character20/1004_14.png  \n",
            "  inflating: omniglot/data/Atemayar_Qelisayer/character20/1004_15.png  \n",
            "  inflating: omniglot/data/Atemayar_Qelisayer/character20/1004_01.png  \n",
            "  inflating: omniglot/data/Atemayar_Qelisayer/character18/1002_19.png  \n",
            "  inflating: omniglot/data/Atemayar_Qelisayer/character18/1002_18.png  \n",
            "  inflating: omniglot/data/Atemayar_Qelisayer/character18/1002_08.png  \n",
            "  inflating: omniglot/data/Atemayar_Qelisayer/character18/1002_20.png  \n",
            "  inflating: omniglot/data/Atemayar_Qelisayer/character18/1002_09.png  \n",
            "  inflating: omniglot/data/Atemayar_Qelisayer/character18/1002_07.png  \n",
            "  inflating: omniglot/data/Atemayar_Qelisayer/character18/1002_13.png  \n",
            "  inflating: omniglot/data/Atemayar_Qelisayer/character18/1002_12.png  \n",
            "  inflating: omniglot/data/Atemayar_Qelisayer/character18/1002_06.png  \n",
            "  inflating: omniglot/data/Atemayar_Qelisayer/character18/1002_10.png  \n",
            "  inflating: omniglot/data/Atemayar_Qelisayer/character18/1002_04.png  \n",
            "  inflating: omniglot/data/Atemayar_Qelisayer/character18/1002_05.png  \n",
            "  inflating: omniglot/data/Atemayar_Qelisayer/character18/1002_11.png  \n",
            "  inflating: omniglot/data/Atemayar_Qelisayer/character18/1002_15.png  \n",
            "  inflating: omniglot/data/Atemayar_Qelisayer/character18/1002_01.png  \n",
            "  inflating: omniglot/data/Atemayar_Qelisayer/character18/1002_14.png  \n",
            "  inflating: omniglot/data/Atemayar_Qelisayer/character18/1002_02.png  \n",
            "  inflating: omniglot/data/Atemayar_Qelisayer/character18/1002_16.png  \n",
            "  inflating: omniglot/data/Atemayar_Qelisayer/character18/1002_17.png  \n",
            "  inflating: omniglot/data/Atemayar_Qelisayer/character18/1002_03.png  \n",
            "  inflating: omniglot/data/Atemayar_Qelisayer/character26/1010_19.png  \n",
            "  inflating: omniglot/data/Atemayar_Qelisayer/character26/1010_18.png  \n",
            "  inflating: omniglot/data/Atemayar_Qelisayer/character26/1010_08.png  \n",
            "  inflating: omniglot/data/Atemayar_Qelisayer/character26/1010_20.png  \n",
            "  inflating: omniglot/data/Atemayar_Qelisayer/character26/1010_09.png  \n",
            "  inflating: omniglot/data/Atemayar_Qelisayer/character26/1010_13.png  \n",
            "  inflating: omniglot/data/Atemayar_Qelisayer/character26/1010_07.png  \n",
            "  inflating: omniglot/data/Atemayar_Qelisayer/character26/1010_06.png  \n",
            "  inflating: omniglot/data/Atemayar_Qelisayer/character26/1010_12.png  \n",
            "  inflating: omniglot/data/Atemayar_Qelisayer/character26/1010_04.png  \n",
            "  inflating: omniglot/data/Atemayar_Qelisayer/character26/1010_10.png  \n",
            "  inflating: omniglot/data/Atemayar_Qelisayer/character26/1010_11.png  \n",
            "  inflating: omniglot/data/Atemayar_Qelisayer/character26/1010_05.png  \n",
            "  inflating: omniglot/data/Atemayar_Qelisayer/character26/1010_01.png  \n",
            "  inflating: omniglot/data/Atemayar_Qelisayer/character26/1010_15.png  \n",
            "  inflating: omniglot/data/Atemayar_Qelisayer/character26/1010_14.png  \n",
            "  inflating: omniglot/data/Atemayar_Qelisayer/character26/1010_16.png  \n",
            "  inflating: omniglot/data/Atemayar_Qelisayer/character26/1010_02.png  \n",
            "  inflating: omniglot/data/Atemayar_Qelisayer/character26/1010_03.png  \n",
            "  inflating: omniglot/data/Atemayar_Qelisayer/character26/1010_17.png  \n",
            "  inflating: omniglot/data/Atemayar_Qelisayer/character19/1003_11.png  \n",
            "  inflating: omniglot/data/Atemayar_Qelisayer/character19/1003_05.png  \n",
            "  inflating: omniglot/data/Atemayar_Qelisayer/character19/1003_04.png  \n",
            "  inflating: omniglot/data/Atemayar_Qelisayer/character19/1003_10.png  \n",
            "  inflating: omniglot/data/Atemayar_Qelisayer/character19/1003_06.png  \n",
            "  inflating: omniglot/data/Atemayar_Qelisayer/character19/1003_12.png  \n",
            "  inflating: omniglot/data/Atemayar_Qelisayer/character19/1003_13.png  \n",
            "  inflating: omniglot/data/Atemayar_Qelisayer/character19/1003_07.png  \n",
            "  inflating: omniglot/data/Atemayar_Qelisayer/character19/1003_03.png  \n",
            "  inflating: omniglot/data/Atemayar_Qelisayer/character19/1003_17.png  \n",
            "  inflating: omniglot/data/Atemayar_Qelisayer/character19/1003_16.png  \n",
            "  inflating: omniglot/data/Atemayar_Qelisayer/character19/1003_02.png  \n",
            "  inflating: omniglot/data/Atemayar_Qelisayer/character19/1003_14.png  \n",
            "  inflating: omniglot/data/Atemayar_Qelisayer/character19/1003_01.png  \n",
            "  inflating: omniglot/data/Atemayar_Qelisayer/character19/1003_15.png  \n",
            "  inflating: omniglot/data/Atemayar_Qelisayer/character19/1003_18.png  \n",
            "  inflating: omniglot/data/Atemayar_Qelisayer/character19/1003_19.png  \n",
            "  inflating: omniglot/data/Atemayar_Qelisayer/character19/1003_09.png  \n",
            "  inflating: omniglot/data/Atemayar_Qelisayer/character19/1003_08.png  \n",
            "  inflating: omniglot/data/Atemayar_Qelisayer/character19/1003_20.png  \n",
            "  inflating: omniglot/data/Atemayar_Qelisayer/character21/1005_13.png  \n",
            "  inflating: omniglot/data/Atemayar_Qelisayer/character21/1005_07.png  \n",
            "  inflating: omniglot/data/Atemayar_Qelisayer/character21/1005_06.png  \n",
            "  inflating: omniglot/data/Atemayar_Qelisayer/character21/1005_12.png  \n",
            "  inflating: omniglot/data/Atemayar_Qelisayer/character21/1005_04.png  \n",
            "  inflating: omniglot/data/Atemayar_Qelisayer/character21/1005_10.png  \n",
            "  inflating: omniglot/data/Atemayar_Qelisayer/character21/1005_11.png  \n",
            "  inflating: omniglot/data/Atemayar_Qelisayer/character21/1005_05.png  \n",
            "  inflating: omniglot/data/Atemayar_Qelisayer/character21/1005_01.png  \n",
            "  inflating: omniglot/data/Atemayar_Qelisayer/character21/1005_15.png  \n",
            "  inflating: omniglot/data/Atemayar_Qelisayer/character21/1005_14.png  \n",
            "  inflating: omniglot/data/Atemayar_Qelisayer/character21/1005_16.png  \n",
            "  inflating: omniglot/data/Atemayar_Qelisayer/character21/1005_02.png  \n",
            "  inflating: omniglot/data/Atemayar_Qelisayer/character21/1005_03.png  \n",
            "  inflating: omniglot/data/Atemayar_Qelisayer/character21/1005_17.png  \n",
            "  inflating: omniglot/data/Atemayar_Qelisayer/character21/1005_19.png  \n",
            "  inflating: omniglot/data/Atemayar_Qelisayer/character21/1005_18.png  \n",
            "  inflating: omniglot/data/Atemayar_Qelisayer/character21/1005_20.png  \n",
            "  inflating: omniglot/data/Atemayar_Qelisayer/character21/1005_08.png  \n",
            "  inflating: omniglot/data/Atemayar_Qelisayer/character21/1005_09.png  \n",
            "  inflating: omniglot/data/Atemayar_Qelisayer/character17/1001_14.png  \n",
            "  inflating: omniglot/data/Atemayar_Qelisayer/character17/1001_01.png  \n",
            "  inflating: omniglot/data/Atemayar_Qelisayer/character17/1001_15.png  \n",
            "  inflating: omniglot/data/Atemayar_Qelisayer/character17/1001_03.png  \n",
            "  inflating: omniglot/data/Atemayar_Qelisayer/character17/1001_17.png  \n",
            "  inflating: omniglot/data/Atemayar_Qelisayer/character17/1001_16.png  \n",
            "  inflating: omniglot/data/Atemayar_Qelisayer/character17/1001_02.png  \n",
            "  inflating: omniglot/data/Atemayar_Qelisayer/character17/1001_06.png  \n",
            "  inflating: omniglot/data/Atemayar_Qelisayer/character17/1001_12.png  \n",
            "  inflating: omniglot/data/Atemayar_Qelisayer/character17/1001_13.png  \n",
            "  inflating: omniglot/data/Atemayar_Qelisayer/character17/1001_07.png  \n",
            "  inflating: omniglot/data/Atemayar_Qelisayer/character17/1001_11.png  \n",
            "  inflating: omniglot/data/Atemayar_Qelisayer/character17/1001_05.png  \n",
            "  inflating: omniglot/data/Atemayar_Qelisayer/character17/1001_04.png  \n",
            "  inflating: omniglot/data/Atemayar_Qelisayer/character17/1001_10.png  \n",
            "  inflating: omniglot/data/Atemayar_Qelisayer/character17/1001_09.png  \n",
            "  inflating: omniglot/data/Atemayar_Qelisayer/character17/1001_20.png  \n",
            "  inflating: omniglot/data/Atemayar_Qelisayer/character17/1001_08.png  \n",
            "  inflating: omniglot/data/Atemayar_Qelisayer/character17/1001_18.png  \n",
            "  inflating: omniglot/data/Atemayar_Qelisayer/character17/1001_19.png  \n",
            "  inflating: omniglot/data/Atemayar_Qelisayer/character10/0994_14.png  \n",
            "  inflating: omniglot/data/Atemayar_Qelisayer/character10/0994_01.png  \n",
            "  inflating: omniglot/data/Atemayar_Qelisayer/character10/0994_15.png  \n",
            "  inflating: omniglot/data/Atemayar_Qelisayer/character10/0994_03.png  \n",
            "  inflating: omniglot/data/Atemayar_Qelisayer/character10/0994_17.png  \n",
            "  inflating: omniglot/data/Atemayar_Qelisayer/character10/0994_16.png  \n",
            "  inflating: omniglot/data/Atemayar_Qelisayer/character10/0994_02.png  \n",
            "  inflating: omniglot/data/Atemayar_Qelisayer/character10/0994_06.png  \n",
            "  inflating: omniglot/data/Atemayar_Qelisayer/character10/0994_12.png  \n",
            "  inflating: omniglot/data/Atemayar_Qelisayer/character10/0994_13.png  \n",
            "  inflating: omniglot/data/Atemayar_Qelisayer/character10/0994_07.png  \n",
            "  inflating: omniglot/data/Atemayar_Qelisayer/character10/0994_11.png  \n",
            "  inflating: omniglot/data/Atemayar_Qelisayer/character10/0994_05.png  \n",
            "  inflating: omniglot/data/Atemayar_Qelisayer/character10/0994_04.png  \n",
            "  inflating: omniglot/data/Atemayar_Qelisayer/character10/0994_10.png  \n",
            "  inflating: omniglot/data/Atemayar_Qelisayer/character10/0994_09.png  \n",
            "  inflating: omniglot/data/Atemayar_Qelisayer/character10/0994_08.png  \n",
            "  inflating: omniglot/data/Atemayar_Qelisayer/character10/0994_20.png  \n",
            "  inflating: omniglot/data/Atemayar_Qelisayer/character10/0994_18.png  \n",
            "  inflating: omniglot/data/Atemayar_Qelisayer/character10/0994_19.png  \n",
            "  inflating: omniglot/data/Atemayar_Qelisayer/character03/0987_08.png  \n",
            "  inflating: omniglot/data/Atemayar_Qelisayer/character03/0987_20.png  \n",
            "  inflating: omniglot/data/Atemayar_Qelisayer/character03/0987_09.png  \n",
            "  inflating: omniglot/data/Atemayar_Qelisayer/character03/0987_19.png  \n",
            "  inflating: omniglot/data/Atemayar_Qelisayer/character03/0987_18.png  \n",
            "  inflating: omniglot/data/Atemayar_Qelisayer/character03/0987_16.png  \n",
            "  inflating: omniglot/data/Atemayar_Qelisayer/character03/0987_02.png  \n",
            "  inflating: omniglot/data/Atemayar_Qelisayer/character03/0987_03.png  \n",
            "  inflating: omniglot/data/Atemayar_Qelisayer/character03/0987_17.png  \n",
            "  inflating: omniglot/data/Atemayar_Qelisayer/character03/0987_01.png  \n",
            "  inflating: omniglot/data/Atemayar_Qelisayer/character03/0987_15.png  \n",
            "  inflating: omniglot/data/Atemayar_Qelisayer/character03/0987_14.png  \n",
            "  inflating: omniglot/data/Atemayar_Qelisayer/character03/0987_04.png  \n",
            "  inflating: omniglot/data/Atemayar_Qelisayer/character03/0987_10.png  \n",
            "  inflating: omniglot/data/Atemayar_Qelisayer/character03/0987_11.png  \n",
            "  inflating: omniglot/data/Atemayar_Qelisayer/character03/0987_05.png  \n",
            "  inflating: omniglot/data/Atemayar_Qelisayer/character03/0987_13.png  \n",
            "  inflating: omniglot/data/Atemayar_Qelisayer/character03/0987_07.png  \n",
            "  inflating: omniglot/data/Atemayar_Qelisayer/character03/0987_06.png  \n",
            "  inflating: omniglot/data/Atemayar_Qelisayer/character03/0987_12.png  \n",
            "  inflating: omniglot/data/Atemayar_Qelisayer/character04/0988_11.png  \n",
            "  inflating: omniglot/data/Atemayar_Qelisayer/character04/0988_05.png  \n",
            "  inflating: omniglot/data/Atemayar_Qelisayer/character04/0988_04.png  \n",
            "  inflating: omniglot/data/Atemayar_Qelisayer/character04/0988_10.png  \n",
            "  inflating: omniglot/data/Atemayar_Qelisayer/character04/0988_06.png  \n",
            "  inflating: omniglot/data/Atemayar_Qelisayer/character04/0988_12.png  \n",
            "  inflating: omniglot/data/Atemayar_Qelisayer/character04/0988_13.png  \n",
            "  inflating: omniglot/data/Atemayar_Qelisayer/character04/0988_07.png  \n",
            "  inflating: omniglot/data/Atemayar_Qelisayer/character04/0988_03.png  \n",
            "  inflating: omniglot/data/Atemayar_Qelisayer/character04/0988_17.png  \n",
            "  inflating: omniglot/data/Atemayar_Qelisayer/character04/0988_16.png  \n",
            "  inflating: omniglot/data/Atemayar_Qelisayer/character04/0988_02.png  \n",
            "  inflating: omniglot/data/Atemayar_Qelisayer/character04/0988_14.png  \n",
            "  inflating: omniglot/data/Atemayar_Qelisayer/character04/0988_01.png  \n",
            "  inflating: omniglot/data/Atemayar_Qelisayer/character04/0988_15.png  \n",
            "  inflating: omniglot/data/Atemayar_Qelisayer/character04/0988_18.png  \n",
            "  inflating: omniglot/data/Atemayar_Qelisayer/character04/0988_19.png  \n",
            "  inflating: omniglot/data/Atemayar_Qelisayer/character04/0988_09.png  \n",
            "  inflating: omniglot/data/Atemayar_Qelisayer/character04/0988_08.png  \n",
            "  inflating: omniglot/data/Atemayar_Qelisayer/character04/0988_20.png  \n",
            "  inflating: omniglot/data/Atemayar_Qelisayer/character05/0989_19.png  \n",
            "  inflating: omniglot/data/Atemayar_Qelisayer/character05/0989_18.png  \n",
            "  inflating: omniglot/data/Atemayar_Qelisayer/character05/0989_08.png  \n",
            "  inflating: omniglot/data/Atemayar_Qelisayer/character05/0989_20.png  \n",
            "  inflating: omniglot/data/Atemayar_Qelisayer/character05/0989_09.png  \n",
            "  inflating: omniglot/data/Atemayar_Qelisayer/character05/0989_07.png  \n",
            "  inflating: omniglot/data/Atemayar_Qelisayer/character05/0989_13.png  \n",
            "  inflating: omniglot/data/Atemayar_Qelisayer/character05/0989_12.png  \n",
            "  inflating: omniglot/data/Atemayar_Qelisayer/character05/0989_06.png  \n",
            "  inflating: omniglot/data/Atemayar_Qelisayer/character05/0989_10.png  \n",
            "  inflating: omniglot/data/Atemayar_Qelisayer/character05/0989_04.png  \n",
            "  inflating: omniglot/data/Atemayar_Qelisayer/character05/0989_05.png  \n",
            "  inflating: omniglot/data/Atemayar_Qelisayer/character05/0989_11.png  \n",
            "  inflating: omniglot/data/Atemayar_Qelisayer/character05/0989_15.png  \n",
            "  inflating: omniglot/data/Atemayar_Qelisayer/character05/0989_01.png  \n",
            "  inflating: omniglot/data/Atemayar_Qelisayer/character05/0989_14.png  \n",
            "  inflating: omniglot/data/Atemayar_Qelisayer/character05/0989_02.png  \n",
            "  inflating: omniglot/data/Atemayar_Qelisayer/character05/0989_16.png  \n",
            "  inflating: omniglot/data/Atemayar_Qelisayer/character05/0989_17.png  \n",
            "  inflating: omniglot/data/Atemayar_Qelisayer/character05/0989_03.png  \n",
            "  inflating: omniglot/data/Atemayar_Qelisayer/character02/0986_14.png  \n",
            "  inflating: omniglot/data/Atemayar_Qelisayer/character02/0986_15.png  \n",
            "  inflating: omniglot/data/Atemayar_Qelisayer/character02/0986_01.png  \n",
            "  inflating: omniglot/data/Atemayar_Qelisayer/character02/0986_17.png  \n",
            "  inflating: omniglot/data/Atemayar_Qelisayer/character02/0986_03.png  \n",
            "  inflating: omniglot/data/Atemayar_Qelisayer/character02/0986_02.png  \n",
            "  inflating: omniglot/data/Atemayar_Qelisayer/character02/0986_16.png  \n",
            "  inflating: omniglot/data/Atemayar_Qelisayer/character02/0986_12.png  \n",
            "  inflating: omniglot/data/Atemayar_Qelisayer/character02/0986_06.png  \n",
            "  inflating: omniglot/data/Atemayar_Qelisayer/character02/0986_07.png  \n",
            "  inflating: omniglot/data/Atemayar_Qelisayer/character02/0986_13.png  \n",
            "  inflating: omniglot/data/Atemayar_Qelisayer/character02/0986_05.png  \n",
            "  inflating: omniglot/data/Atemayar_Qelisayer/character02/0986_11.png  \n",
            "  inflating: omniglot/data/Atemayar_Qelisayer/character02/0986_10.png  \n",
            "  inflating: omniglot/data/Atemayar_Qelisayer/character02/0986_04.png  \n",
            "  inflating: omniglot/data/Atemayar_Qelisayer/character02/0986_09.png  \n",
            "  inflating: omniglot/data/Atemayar_Qelisayer/character02/0986_08.png  \n",
            "  inflating: omniglot/data/Atemayar_Qelisayer/character02/0986_20.png  \n",
            "  inflating: omniglot/data/Atemayar_Qelisayer/character02/0986_18.png  \n",
            "  inflating: omniglot/data/Atemayar_Qelisayer/character02/0986_19.png  \n",
            "  inflating: omniglot/data/Atemayar_Qelisayer/character15/0999_20.png  \n",
            "  inflating: omniglot/data/Atemayar_Qelisayer/character15/0999_08.png  \n",
            "  inflating: omniglot/data/Atemayar_Qelisayer/character15/0999_09.png  \n",
            "  inflating: omniglot/data/Atemayar_Qelisayer/character15/0999_19.png  \n",
            "  inflating: omniglot/data/Atemayar_Qelisayer/character15/0999_18.png  \n",
            "  inflating: omniglot/data/Atemayar_Qelisayer/character15/0999_16.png  \n",
            "  inflating: omniglot/data/Atemayar_Qelisayer/character15/0999_02.png  \n",
            "  inflating: omniglot/data/Atemayar_Qelisayer/character15/0999_03.png  \n",
            "  inflating: omniglot/data/Atemayar_Qelisayer/character15/0999_17.png  \n",
            "  inflating: omniglot/data/Atemayar_Qelisayer/character15/0999_01.png  \n",
            "  inflating: omniglot/data/Atemayar_Qelisayer/character15/0999_15.png  \n",
            "  inflating: omniglot/data/Atemayar_Qelisayer/character15/0999_14.png  \n",
            "  inflating: omniglot/data/Atemayar_Qelisayer/character15/0999_04.png  \n",
            "  inflating: omniglot/data/Atemayar_Qelisayer/character15/0999_10.png  \n",
            "  inflating: omniglot/data/Atemayar_Qelisayer/character15/0999_11.png  \n",
            "  inflating: omniglot/data/Atemayar_Qelisayer/character15/0999_05.png  \n",
            "  inflating: omniglot/data/Atemayar_Qelisayer/character15/0999_13.png  \n",
            "  inflating: omniglot/data/Atemayar_Qelisayer/character15/0999_07.png  \n",
            "  inflating: omniglot/data/Atemayar_Qelisayer/character15/0999_06.png  \n",
            "  inflating: omniglot/data/Atemayar_Qelisayer/character15/0999_12.png  \n",
            "  inflating: omniglot/data/Atemayar_Qelisayer/character12/0996_11.png  \n",
            "  inflating: omniglot/data/Atemayar_Qelisayer/character12/0996_05.png  \n",
            "  inflating: omniglot/data/Atemayar_Qelisayer/character12/0996_04.png  \n",
            "  inflating: omniglot/data/Atemayar_Qelisayer/character12/0996_10.png  \n",
            "  inflating: omniglot/data/Atemayar_Qelisayer/character12/0996_06.png  \n",
            "  inflating: omniglot/data/Atemayar_Qelisayer/character12/0996_12.png  \n",
            "  inflating: omniglot/data/Atemayar_Qelisayer/character12/0996_13.png  \n",
            "  inflating: omniglot/data/Atemayar_Qelisayer/character12/0996_07.png  \n",
            "  inflating: omniglot/data/Atemayar_Qelisayer/character12/0996_03.png  \n",
            "  inflating: omniglot/data/Atemayar_Qelisayer/character12/0996_17.png  \n",
            "  inflating: omniglot/data/Atemayar_Qelisayer/character12/0996_16.png  \n",
            "  inflating: omniglot/data/Atemayar_Qelisayer/character12/0996_02.png  \n",
            "  inflating: omniglot/data/Atemayar_Qelisayer/character12/0996_14.png  \n",
            "  inflating: omniglot/data/Atemayar_Qelisayer/character12/0996_01.png  \n",
            "  inflating: omniglot/data/Atemayar_Qelisayer/character12/0996_15.png  \n",
            "  inflating: omniglot/data/Atemayar_Qelisayer/character12/0996_18.png  \n",
            "  inflating: omniglot/data/Atemayar_Qelisayer/character12/0996_19.png  \n",
            "  inflating: omniglot/data/Atemayar_Qelisayer/character12/0996_09.png  \n",
            "  inflating: omniglot/data/Atemayar_Qelisayer/character12/0996_20.png  \n",
            "  inflating: omniglot/data/Atemayar_Qelisayer/character12/0996_08.png  \n",
            "  inflating: omniglot/data/Atemayar_Qelisayer/character24/1008_18.png  \n",
            "  inflating: omniglot/data/Atemayar_Qelisayer/character24/1008_19.png  \n",
            "  inflating: omniglot/data/Atemayar_Qelisayer/character24/1008_09.png  \n",
            "  inflating: omniglot/data/Atemayar_Qelisayer/character24/1008_08.png  \n",
            "  inflating: omniglot/data/Atemayar_Qelisayer/character24/1008_20.png  \n",
            "  inflating: omniglot/data/Atemayar_Qelisayer/character24/1008_11.png  \n",
            "  inflating: omniglot/data/Atemayar_Qelisayer/character24/1008_05.png  \n",
            "  inflating: omniglot/data/Atemayar_Qelisayer/character24/1008_04.png  \n",
            "  inflating: omniglot/data/Atemayar_Qelisayer/character24/1008_10.png  \n",
            "  inflating: omniglot/data/Atemayar_Qelisayer/character24/1008_06.png  \n",
            "  inflating: omniglot/data/Atemayar_Qelisayer/character24/1008_12.png  \n",
            "  inflating: omniglot/data/Atemayar_Qelisayer/character24/1008_13.png  \n",
            "  inflating: omniglot/data/Atemayar_Qelisayer/character24/1008_07.png  \n",
            "  inflating: omniglot/data/Atemayar_Qelisayer/character24/1008_03.png  \n",
            "  inflating: omniglot/data/Atemayar_Qelisayer/character24/1008_17.png  \n",
            "  inflating: omniglot/data/Atemayar_Qelisayer/character24/1008_16.png  \n",
            "  inflating: omniglot/data/Atemayar_Qelisayer/character24/1008_02.png  \n",
            "  inflating: omniglot/data/Atemayar_Qelisayer/character24/1008_14.png  \n",
            "  inflating: omniglot/data/Atemayar_Qelisayer/character24/1008_01.png  \n",
            "  inflating: omniglot/data/Atemayar_Qelisayer/character24/1008_15.png  \n",
            "  inflating: omniglot/data/Atemayar_Qelisayer/character23/1007_16.png  \n",
            "  inflating: omniglot/data/Atemayar_Qelisayer/character23/1007_02.png  \n",
            "  inflating: omniglot/data/Atemayar_Qelisayer/character23/1007_03.png  \n",
            "  inflating: omniglot/data/Atemayar_Qelisayer/character23/1007_17.png  \n",
            "  inflating: omniglot/data/Atemayar_Qelisayer/character23/1007_01.png  \n",
            "  inflating: omniglot/data/Atemayar_Qelisayer/character23/1007_15.png  \n",
            "  inflating: omniglot/data/Atemayar_Qelisayer/character23/1007_14.png  \n",
            "  inflating: omniglot/data/Atemayar_Qelisayer/character23/1007_04.png  \n",
            "  inflating: omniglot/data/Atemayar_Qelisayer/character23/1007_10.png  \n",
            "  inflating: omniglot/data/Atemayar_Qelisayer/character23/1007_11.png  \n",
            "  inflating: omniglot/data/Atemayar_Qelisayer/character23/1007_05.png  \n",
            "  inflating: omniglot/data/Atemayar_Qelisayer/character23/1007_13.png  \n",
            "  inflating: omniglot/data/Atemayar_Qelisayer/character23/1007_07.png  \n",
            "  inflating: omniglot/data/Atemayar_Qelisayer/character23/1007_06.png  \n",
            "  inflating: omniglot/data/Atemayar_Qelisayer/character23/1007_12.png  \n",
            "  inflating: omniglot/data/Atemayar_Qelisayer/character23/1007_08.png  \n",
            "  inflating: omniglot/data/Atemayar_Qelisayer/character23/1007_20.png  \n",
            "  inflating: omniglot/data/Atemayar_Qelisayer/character23/1007_09.png  \n",
            "  inflating: omniglot/data/Atemayar_Qelisayer/character23/1007_19.png  \n",
            "  inflating: omniglot/data/Atemayar_Qelisayer/character23/1007_18.png  \n",
            "  inflating: omniglot/data/Atemayar_Qelisayer/character22/1006_09.png  \n",
            "  inflating: omniglot/data/Atemayar_Qelisayer/character22/1006_08.png  \n",
            "  inflating: omniglot/data/Atemayar_Qelisayer/character22/1006_20.png  \n",
            "  inflating: omniglot/data/Atemayar_Qelisayer/character22/1006_18.png  \n",
            "  inflating: omniglot/data/Atemayar_Qelisayer/character22/1006_19.png  \n",
            "  inflating: omniglot/data/Atemayar_Qelisayer/character22/1006_14.png  \n",
            "  inflating: omniglot/data/Atemayar_Qelisayer/character22/1006_15.png  \n",
            "  inflating: omniglot/data/Atemayar_Qelisayer/character22/1006_01.png  \n",
            "  inflating: omniglot/data/Atemayar_Qelisayer/character22/1006_17.png  \n",
            "  inflating: omniglot/data/Atemayar_Qelisayer/character22/1006_03.png  \n",
            "  inflating: omniglot/data/Atemayar_Qelisayer/character22/1006_02.png  \n",
            "  inflating: omniglot/data/Atemayar_Qelisayer/character22/1006_16.png  \n",
            "  inflating: omniglot/data/Atemayar_Qelisayer/character22/1006_12.png  \n",
            "  inflating: omniglot/data/Atemayar_Qelisayer/character22/1006_06.png  \n",
            "  inflating: omniglot/data/Atemayar_Qelisayer/character22/1006_07.png  \n",
            "  inflating: omniglot/data/Atemayar_Qelisayer/character22/1006_13.png  \n",
            "  inflating: omniglot/data/Atemayar_Qelisayer/character22/1006_05.png  \n",
            "  inflating: omniglot/data/Atemayar_Qelisayer/character22/1006_11.png  \n",
            "  inflating: omniglot/data/Atemayar_Qelisayer/character22/1006_10.png  \n",
            "  inflating: omniglot/data/Atemayar_Qelisayer/character22/1006_04.png  \n",
            "  inflating: omniglot/data/Atemayar_Qelisayer/character25/1009_07.png  \n",
            "  inflating: omniglot/data/Atemayar_Qelisayer/character25/1009_13.png  \n",
            "  inflating: omniglot/data/Atemayar_Qelisayer/character25/1009_12.png  \n",
            "  inflating: omniglot/data/Atemayar_Qelisayer/character25/1009_06.png  \n",
            "  inflating: omniglot/data/Atemayar_Qelisayer/character25/1009_10.png  \n",
            "  inflating: omniglot/data/Atemayar_Qelisayer/character25/1009_04.png  \n",
            "  inflating: omniglot/data/Atemayar_Qelisayer/character25/1009_05.png  \n",
            "  inflating: omniglot/data/Atemayar_Qelisayer/character25/1009_11.png  \n",
            "  inflating: omniglot/data/Atemayar_Qelisayer/character25/1009_15.png  \n",
            "  inflating: omniglot/data/Atemayar_Qelisayer/character25/1009_01.png  \n",
            "  inflating: omniglot/data/Atemayar_Qelisayer/character25/1009_14.png  \n",
            "  inflating: omniglot/data/Atemayar_Qelisayer/character25/1009_02.png  \n",
            "  inflating: omniglot/data/Atemayar_Qelisayer/character25/1009_16.png  \n",
            "  inflating: omniglot/data/Atemayar_Qelisayer/character25/1009_17.png  \n",
            "  inflating: omniglot/data/Atemayar_Qelisayer/character25/1009_03.png  \n",
            "  inflating: omniglot/data/Atemayar_Qelisayer/character25/1009_19.png  \n",
            "  inflating: omniglot/data/Atemayar_Qelisayer/character25/1009_18.png  \n",
            "  inflating: omniglot/data/Atemayar_Qelisayer/character25/1009_08.png  \n",
            "  inflating: omniglot/data/Atemayar_Qelisayer/character25/1009_20.png  \n",
            "  inflating: omniglot/data/Atemayar_Qelisayer/character25/1009_09.png  \n",
            "  inflating: omniglot/data/Atemayar_Qelisayer/character13/0997_19.png  \n",
            "  inflating: omniglot/data/Atemayar_Qelisayer/character13/0997_18.png  \n",
            "  inflating: omniglot/data/Atemayar_Qelisayer/character13/0997_20.png  \n",
            "  inflating: omniglot/data/Atemayar_Qelisayer/character13/0997_08.png  \n",
            "  inflating: omniglot/data/Atemayar_Qelisayer/character13/0997_09.png  \n",
            "  inflating: omniglot/data/Atemayar_Qelisayer/character13/0997_07.png  \n",
            "  inflating: omniglot/data/Atemayar_Qelisayer/character13/0997_13.png  \n",
            "  inflating: omniglot/data/Atemayar_Qelisayer/character13/0997_12.png  \n",
            "  inflating: omniglot/data/Atemayar_Qelisayer/character13/0997_06.png  \n",
            "  inflating: omniglot/data/Atemayar_Qelisayer/character13/0997_10.png  \n",
            "  inflating: omniglot/data/Atemayar_Qelisayer/character13/0997_04.png  \n",
            "  inflating: omniglot/data/Atemayar_Qelisayer/character13/0997_05.png  \n",
            "  inflating: omniglot/data/Atemayar_Qelisayer/character13/0997_11.png  \n",
            "  inflating: omniglot/data/Atemayar_Qelisayer/character13/0997_15.png  \n",
            "  inflating: omniglot/data/Atemayar_Qelisayer/character13/0997_01.png  \n",
            "  inflating: omniglot/data/Atemayar_Qelisayer/character13/0997_14.png  \n",
            "  inflating: omniglot/data/Atemayar_Qelisayer/character13/0997_02.png  \n",
            "  inflating: omniglot/data/Atemayar_Qelisayer/character13/0997_16.png  \n",
            "  inflating: omniglot/data/Atemayar_Qelisayer/character13/0997_17.png  \n",
            "  inflating: omniglot/data/Atemayar_Qelisayer/character13/0997_03.png  \n",
            "  inflating: omniglot/data/Atemayar_Qelisayer/character14/0998_14.png  \n",
            "  inflating: omniglot/data/Atemayar_Qelisayer/character14/0998_15.png  \n",
            "  inflating: omniglot/data/Atemayar_Qelisayer/character14/0998_01.png  \n",
            "  inflating: omniglot/data/Atemayar_Qelisayer/character14/0998_17.png  \n",
            "  inflating: omniglot/data/Atemayar_Qelisayer/character14/0998_03.png  \n",
            "  inflating: omniglot/data/Atemayar_Qelisayer/character14/0998_02.png  \n",
            "  inflating: omniglot/data/Atemayar_Qelisayer/character14/0998_16.png  \n",
            "  inflating: omniglot/data/Atemayar_Qelisayer/character14/0998_12.png  \n",
            "  inflating: omniglot/data/Atemayar_Qelisayer/character14/0998_06.png  \n",
            "  inflating: omniglot/data/Atemayar_Qelisayer/character14/0998_07.png  \n",
            "  inflating: omniglot/data/Atemayar_Qelisayer/character14/0998_13.png  \n",
            "  inflating: omniglot/data/Atemayar_Qelisayer/character14/0998_05.png  \n",
            "  inflating: omniglot/data/Atemayar_Qelisayer/character14/0998_11.png  \n",
            "  inflating: omniglot/data/Atemayar_Qelisayer/character14/0998_10.png  \n",
            "  inflating: omniglot/data/Atemayar_Qelisayer/character14/0998_04.png  \n",
            "  inflating: omniglot/data/Atemayar_Qelisayer/character14/0998_09.png  \n",
            "  inflating: omniglot/data/Atemayar_Qelisayer/character14/0998_20.png  \n",
            "  inflating: omniglot/data/Atemayar_Qelisayer/character14/0998_08.png  \n",
            "  inflating: omniglot/data/Atemayar_Qelisayer/character14/0998_18.png  \n",
            "  inflating: omniglot/data/Atemayar_Qelisayer/character14/0998_19.png  \n",
            "  inflating: omniglot/data/Atemayar_Qelisayer/character09/0993_09.png  \n",
            "  inflating: omniglot/data/Atemayar_Qelisayer/character09/0993_20.png  \n",
            "  inflating: omniglot/data/Atemayar_Qelisayer/character09/0993_08.png  \n",
            "  inflating: omniglot/data/Atemayar_Qelisayer/character09/0993_18.png  \n",
            "  inflating: omniglot/data/Atemayar_Qelisayer/character09/0993_19.png  \n",
            "  inflating: omniglot/data/Atemayar_Qelisayer/character09/0993_14.png  \n",
            "  inflating: omniglot/data/Atemayar_Qelisayer/character09/0993_15.png  \n",
            "  inflating: omniglot/data/Atemayar_Qelisayer/character09/0993_01.png  \n",
            "  inflating: omniglot/data/Atemayar_Qelisayer/character09/0993_17.png  \n",
            "  inflating: omniglot/data/Atemayar_Qelisayer/character09/0993_03.png  \n",
            "  inflating: omniglot/data/Atemayar_Qelisayer/character09/0993_02.png  \n",
            "  inflating: omniglot/data/Atemayar_Qelisayer/character09/0993_16.png  \n",
            "  inflating: omniglot/data/Atemayar_Qelisayer/character09/0993_12.png  \n",
            "  inflating: omniglot/data/Atemayar_Qelisayer/character09/0993_06.png  \n",
            "  inflating: omniglot/data/Atemayar_Qelisayer/character09/0993_07.png  \n",
            "  inflating: omniglot/data/Atemayar_Qelisayer/character09/0993_13.png  \n",
            "  inflating: omniglot/data/Atemayar_Qelisayer/character09/0993_05.png  \n",
            "  inflating: omniglot/data/Atemayar_Qelisayer/character09/0993_11.png  \n",
            "  inflating: omniglot/data/Atemayar_Qelisayer/character09/0993_10.png  \n",
            "  inflating: omniglot/data/Atemayar_Qelisayer/character09/0993_04.png  \n",
            "  inflating: omniglot/data/Atemayar_Qelisayer/character07/0991_18.png  \n",
            "  inflating: omniglot/data/Atemayar_Qelisayer/character07/0991_19.png  \n",
            "  inflating: omniglot/data/Atemayar_Qelisayer/character07/0991_09.png  \n",
            "  inflating: omniglot/data/Atemayar_Qelisayer/character07/0991_08.png  \n",
            "  inflating: omniglot/data/Atemayar_Qelisayer/character07/0991_20.png  \n",
            "  inflating: omniglot/data/Atemayar_Qelisayer/character07/0991_05.png  \n",
            "  inflating: omniglot/data/Atemayar_Qelisayer/character07/0991_11.png  \n",
            "  inflating: omniglot/data/Atemayar_Qelisayer/character07/0991_10.png  \n",
            "  inflating: omniglot/data/Atemayar_Qelisayer/character07/0991_04.png  \n",
            "  inflating: omniglot/data/Atemayar_Qelisayer/character07/0991_12.png  \n",
            "  inflating: omniglot/data/Atemayar_Qelisayer/character07/0991_06.png  \n",
            "  inflating: omniglot/data/Atemayar_Qelisayer/character07/0991_07.png  \n",
            "  inflating: omniglot/data/Atemayar_Qelisayer/character07/0991_13.png  \n",
            "  inflating: omniglot/data/Atemayar_Qelisayer/character07/0991_17.png  \n",
            "  inflating: omniglot/data/Atemayar_Qelisayer/character07/0991_03.png  \n",
            "  inflating: omniglot/data/Atemayar_Qelisayer/character07/0991_02.png  \n",
            "  inflating: omniglot/data/Atemayar_Qelisayer/character07/0991_16.png  \n",
            "  inflating: omniglot/data/Atemayar_Qelisayer/character07/0991_14.png  \n",
            "  inflating: omniglot/data/Atemayar_Qelisayer/character07/0991_15.png  \n",
            "  inflating: omniglot/data/Atemayar_Qelisayer/character07/0991_01.png  \n",
            "  inflating: omniglot/data/Atemayar_Qelisayer/character01/0985_19.png  \n",
            "  inflating: omniglot/data/Atemayar_Qelisayer/character01/0985_18.png  \n",
            "  inflating: omniglot/data/Atemayar_Qelisayer/character01/0985_20.png  \n",
            "  inflating: omniglot/data/Atemayar_Qelisayer/character01/0985_08.png  \n",
            "  inflating: omniglot/data/Atemayar_Qelisayer/character01/0985_09.png  \n",
            "  inflating: omniglot/data/Atemayar_Qelisayer/character01/0985_13.png  \n",
            "  inflating: omniglot/data/Atemayar_Qelisayer/character01/0985_07.png  \n",
            "  inflating: omniglot/data/Atemayar_Qelisayer/character01/0985_06.png  \n",
            "  inflating: omniglot/data/Atemayar_Qelisayer/character01/0985_12.png  \n",
            "  inflating: omniglot/data/Atemayar_Qelisayer/character01/0985_04.png  \n",
            "  inflating: omniglot/data/Atemayar_Qelisayer/character01/0985_10.png  \n",
            "  inflating: omniglot/data/Atemayar_Qelisayer/character01/0985_11.png  \n",
            "  inflating: omniglot/data/Atemayar_Qelisayer/character01/0985_05.png  \n",
            "  inflating: omniglot/data/Atemayar_Qelisayer/character01/0985_01.png  \n",
            "  inflating: omniglot/data/Atemayar_Qelisayer/character01/0985_15.png  \n",
            "  inflating: omniglot/data/Atemayar_Qelisayer/character01/0985_14.png  \n",
            "  inflating: omniglot/data/Atemayar_Qelisayer/character01/0985_16.png  \n",
            "  inflating: omniglot/data/Atemayar_Qelisayer/character01/0985_02.png  \n",
            "  inflating: omniglot/data/Atemayar_Qelisayer/character01/0985_03.png  \n",
            "  inflating: omniglot/data/Atemayar_Qelisayer/character01/0985_17.png  \n",
            "  inflating: omniglot/data/Atemayar_Qelisayer/character06/0990_13.png  \n",
            "  inflating: omniglot/data/Atemayar_Qelisayer/character06/0990_07.png  \n",
            "  inflating: omniglot/data/Atemayar_Qelisayer/character06/0990_06.png  \n",
            "  inflating: omniglot/data/Atemayar_Qelisayer/character06/0990_12.png  \n",
            "  inflating: omniglot/data/Atemayar_Qelisayer/character06/0990_04.png  \n",
            "  inflating: omniglot/data/Atemayar_Qelisayer/character06/0990_10.png  \n",
            "  inflating: omniglot/data/Atemayar_Qelisayer/character06/0990_11.png  \n",
            "  inflating: omniglot/data/Atemayar_Qelisayer/character06/0990_05.png  \n",
            "  inflating: omniglot/data/Atemayar_Qelisayer/character06/0990_01.png  \n",
            "  inflating: omniglot/data/Atemayar_Qelisayer/character06/0990_15.png  \n",
            "  inflating: omniglot/data/Atemayar_Qelisayer/character06/0990_14.png  \n",
            "  inflating: omniglot/data/Atemayar_Qelisayer/character06/0990_16.png  \n",
            "  inflating: omniglot/data/Atemayar_Qelisayer/character06/0990_02.png  \n",
            "  inflating: omniglot/data/Atemayar_Qelisayer/character06/0990_03.png  \n",
            "  inflating: omniglot/data/Atemayar_Qelisayer/character06/0990_17.png  \n",
            "  inflating: omniglot/data/Atemayar_Qelisayer/character06/0990_19.png  \n",
            "  inflating: omniglot/data/Atemayar_Qelisayer/character06/0990_18.png  \n",
            "  inflating: omniglot/data/Atemayar_Qelisayer/character06/0990_08.png  \n",
            "  inflating: omniglot/data/Atemayar_Qelisayer/character06/0990_20.png  \n",
            "  inflating: omniglot/data/Atemayar_Qelisayer/character06/0990_09.png  \n",
            "  inflating: omniglot/data/Atemayar_Qelisayer/character08/0992_16.png  \n",
            "  inflating: omniglot/data/Atemayar_Qelisayer/character08/0992_02.png  \n",
            "  inflating: omniglot/data/Atemayar_Qelisayer/character08/0992_03.png  \n",
            "  inflating: omniglot/data/Atemayar_Qelisayer/character08/0992_17.png  \n",
            "  inflating: omniglot/data/Atemayar_Qelisayer/character08/0992_01.png  \n",
            "  inflating: omniglot/data/Atemayar_Qelisayer/character08/0992_15.png  \n",
            "  inflating: omniglot/data/Atemayar_Qelisayer/character08/0992_14.png  \n",
            "  inflating: omniglot/data/Atemayar_Qelisayer/character08/0992_04.png  \n",
            "  inflating: omniglot/data/Atemayar_Qelisayer/character08/0992_10.png  \n",
            "  inflating: omniglot/data/Atemayar_Qelisayer/character08/0992_11.png  \n",
            "  inflating: omniglot/data/Atemayar_Qelisayer/character08/0992_05.png  \n",
            "  inflating: omniglot/data/Atemayar_Qelisayer/character08/0992_13.png  \n",
            "  inflating: omniglot/data/Atemayar_Qelisayer/character08/0992_07.png  \n",
            "  inflating: omniglot/data/Atemayar_Qelisayer/character08/0992_06.png  \n",
            "  inflating: omniglot/data/Atemayar_Qelisayer/character08/0992_12.png  \n",
            "  inflating: omniglot/data/Atemayar_Qelisayer/character08/0992_20.png  \n",
            "  inflating: omniglot/data/Atemayar_Qelisayer/character08/0992_08.png  \n",
            "  inflating: omniglot/data/Atemayar_Qelisayer/character08/0992_09.png  \n",
            "  inflating: omniglot/data/Atemayar_Qelisayer/character08/0992_19.png  \n",
            "  inflating: omniglot/data/Atemayar_Qelisayer/character08/0992_18.png  \n",
            "  inflating: omniglot/data/Sylheti/character11/1513_09.png  \n",
            "  inflating: omniglot/data/Sylheti/character11/1513_20.png  \n",
            "  inflating: omniglot/data/Sylheti/character11/1513_08.png  \n",
            "  inflating: omniglot/data/Sylheti/character11/1513_18.png  \n",
            "  inflating: omniglot/data/Sylheti/character11/1513_19.png  \n",
            "  inflating: omniglot/data/Sylheti/character11/1513_03.png  \n",
            "  inflating: omniglot/data/Sylheti/character11/1513_17.png  \n",
            "  inflating: omniglot/data/Sylheti/character11/1513_16.png  \n",
            "  inflating: omniglot/data/Sylheti/character11/1513_02.png  \n",
            "  inflating: omniglot/data/Sylheti/character11/1513_14.png  \n",
            "  inflating: omniglot/data/Sylheti/character11/1513_01.png  \n",
            "  inflating: omniglot/data/Sylheti/character11/1513_15.png  \n",
            "  inflating: omniglot/data/Sylheti/character11/1513_11.png  \n",
            "  inflating: omniglot/data/Sylheti/character11/1513_05.png  \n",
            "  inflating: omniglot/data/Sylheti/character11/1513_04.png  \n",
            "  inflating: omniglot/data/Sylheti/character11/1513_10.png  \n",
            "  inflating: omniglot/data/Sylheti/character11/1513_06.png  \n",
            "  inflating: omniglot/data/Sylheti/character11/1513_12.png  \n",
            "  inflating: omniglot/data/Sylheti/character11/1513_13.png  \n",
            "  inflating: omniglot/data/Sylheti/character11/1513_07.png  \n",
            "  inflating: omniglot/data/Sylheti/character16/1518_03.png  \n",
            "  inflating: omniglot/data/Sylheti/character16/1518_17.png  \n",
            "  inflating: omniglot/data/Sylheti/character16/1518_16.png  \n",
            "  inflating: omniglot/data/Sylheti/character16/1518_02.png  \n",
            "  inflating: omniglot/data/Sylheti/character16/1518_14.png  \n",
            "  inflating: omniglot/data/Sylheti/character16/1518_01.png  \n",
            "  inflating: omniglot/data/Sylheti/character16/1518_15.png  \n",
            "  inflating: omniglot/data/Sylheti/character16/1518_11.png  \n",
            "  inflating: omniglot/data/Sylheti/character16/1518_05.png  \n",
            "  inflating: omniglot/data/Sylheti/character16/1518_04.png  \n",
            "  inflating: omniglot/data/Sylheti/character16/1518_10.png  \n",
            "  inflating: omniglot/data/Sylheti/character16/1518_06.png  \n",
            "  inflating: omniglot/data/Sylheti/character16/1518_12.png  \n",
            "  inflating: omniglot/data/Sylheti/character16/1518_13.png  \n",
            "  inflating: omniglot/data/Sylheti/character16/1518_07.png  \n",
            "  inflating: omniglot/data/Sylheti/character16/1518_09.png  \n",
            "  inflating: omniglot/data/Sylheti/character16/1518_20.png  \n",
            "  inflating: omniglot/data/Sylheti/character16/1518_08.png  \n",
            "  inflating: omniglot/data/Sylheti/character16/1518_18.png  \n",
            "  inflating: omniglot/data/Sylheti/character16/1518_19.png  \n",
            "  inflating: omniglot/data/Sylheti/character20/1522_02.png  \n",
            "  inflating: omniglot/data/Sylheti/character20/1522_16.png  \n",
            "  inflating: omniglot/data/Sylheti/character20/1522_17.png  \n",
            "  inflating: omniglot/data/Sylheti/character20/1522_03.png  \n",
            "  inflating: omniglot/data/Sylheti/character20/1522_15.png  \n",
            "  inflating: omniglot/data/Sylheti/character20/1522_01.png  \n",
            "  inflating: omniglot/data/Sylheti/character20/1522_14.png  \n",
            "  inflating: omniglot/data/Sylheti/character20/1522_10.png  \n",
            "  inflating: omniglot/data/Sylheti/character20/1522_04.png  \n",
            "  inflating: omniglot/data/Sylheti/character20/1522_05.png  \n",
            "  inflating: omniglot/data/Sylheti/character20/1522_11.png  \n",
            "  inflating: omniglot/data/Sylheti/character20/1522_07.png  \n",
            "  inflating: omniglot/data/Sylheti/character20/1522_13.png  \n",
            "  inflating: omniglot/data/Sylheti/character20/1522_12.png  \n",
            "  inflating: omniglot/data/Sylheti/character20/1522_06.png  \n",
            "  inflating: omniglot/data/Sylheti/character20/1522_20.png  \n",
            "  inflating: omniglot/data/Sylheti/character20/1522_08.png  \n",
            "  inflating: omniglot/data/Sylheti/character20/1522_09.png  \n",
            "  inflating: omniglot/data/Sylheti/character20/1522_19.png  \n",
            "  inflating: omniglot/data/Sylheti/character20/1522_18.png  \n",
            "  inflating: omniglot/data/Sylheti/character27/1529_20.png  \n",
            "  inflating: omniglot/data/Sylheti/character27/1529_08.png  \n",
            "  inflating: omniglot/data/Sylheti/character27/1529_09.png  \n",
            "  inflating: omniglot/data/Sylheti/character27/1529_19.png  \n",
            "  inflating: omniglot/data/Sylheti/character27/1529_18.png  \n",
            "  inflating: omniglot/data/Sylheti/character27/1529_02.png  \n",
            "  inflating: omniglot/data/Sylheti/character27/1529_16.png  \n",
            "  inflating: omniglot/data/Sylheti/character27/1529_17.png  \n",
            "  inflating: omniglot/data/Sylheti/character27/1529_03.png  \n",
            "  inflating: omniglot/data/Sylheti/character27/1529_15.png  \n",
            "  inflating: omniglot/data/Sylheti/character27/1529_01.png  \n",
            "  inflating: omniglot/data/Sylheti/character27/1529_14.png  \n",
            "  inflating: omniglot/data/Sylheti/character27/1529_10.png  \n",
            "  inflating: omniglot/data/Sylheti/character27/1529_04.png  \n",
            "  inflating: omniglot/data/Sylheti/character27/1529_05.png  \n",
            "  inflating: omniglot/data/Sylheti/character27/1529_11.png  \n",
            "  inflating: omniglot/data/Sylheti/character27/1529_07.png  \n",
            "  inflating: omniglot/data/Sylheti/character27/1529_13.png  \n",
            "  inflating: omniglot/data/Sylheti/character27/1529_12.png  \n",
            "  inflating: omniglot/data/Sylheti/character27/1529_06.png  \n",
            "  inflating: omniglot/data/Sylheti/character18/1520_07.png  \n",
            "  inflating: omniglot/data/Sylheti/character18/1520_13.png  \n",
            "  inflating: omniglot/data/Sylheti/character18/1520_12.png  \n",
            "  inflating: omniglot/data/Sylheti/character18/1520_06.png  \n",
            "  inflating: omniglot/data/Sylheti/character18/1520_10.png  \n",
            "  inflating: omniglot/data/Sylheti/character18/1520_04.png  \n",
            "  inflating: omniglot/data/Sylheti/character18/1520_05.png  \n",
            "  inflating: omniglot/data/Sylheti/character18/1520_11.png  \n",
            "  inflating: omniglot/data/Sylheti/character18/1520_15.png  \n",
            "  inflating: omniglot/data/Sylheti/character18/1520_01.png  \n",
            "  inflating: omniglot/data/Sylheti/character18/1520_14.png  \n",
            "  inflating: omniglot/data/Sylheti/character18/1520_02.png  \n",
            "  inflating: omniglot/data/Sylheti/character18/1520_16.png  \n",
            "  inflating: omniglot/data/Sylheti/character18/1520_17.png  \n",
            "  inflating: omniglot/data/Sylheti/character18/1520_03.png  \n",
            "  inflating: omniglot/data/Sylheti/character18/1520_19.png  \n",
            "  inflating: omniglot/data/Sylheti/character18/1520_18.png  \n",
            "  inflating: omniglot/data/Sylheti/character18/1520_08.png  \n",
            "  inflating: omniglot/data/Sylheti/character18/1520_20.png  \n",
            "  inflating: omniglot/data/Sylheti/character18/1520_09.png  \n",
            "  inflating: omniglot/data/Sylheti/character26/1528_14.png  \n",
            "  inflating: omniglot/data/Sylheti/character26/1528_01.png  \n",
            "  inflating: omniglot/data/Sylheti/character26/1528_15.png  \n",
            "  inflating: omniglot/data/Sylheti/character26/1528_03.png  \n",
            "  inflating: omniglot/data/Sylheti/character26/1528_17.png  \n",
            "  inflating: omniglot/data/Sylheti/character26/1528_16.png  \n",
            "  inflating: omniglot/data/Sylheti/character26/1528_02.png  \n",
            "  inflating: omniglot/data/Sylheti/character26/1528_06.png  \n",
            "  inflating: omniglot/data/Sylheti/character26/1528_12.png  \n",
            "  inflating: omniglot/data/Sylheti/character26/1528_13.png  \n",
            "  inflating: omniglot/data/Sylheti/character26/1528_07.png  \n",
            "  inflating: omniglot/data/Sylheti/character26/1528_11.png  \n",
            "  inflating: omniglot/data/Sylheti/character26/1528_05.png  \n",
            "  inflating: omniglot/data/Sylheti/character26/1528_04.png  \n",
            "  inflating: omniglot/data/Sylheti/character26/1528_10.png  \n",
            "  inflating: omniglot/data/Sylheti/character26/1528_09.png  \n",
            "  inflating: omniglot/data/Sylheti/character26/1528_20.png  \n",
            "  inflating: omniglot/data/Sylheti/character26/1528_08.png  \n",
            "  inflating: omniglot/data/Sylheti/character26/1528_18.png  \n",
            "  inflating: omniglot/data/Sylheti/character26/1528_19.png  \n",
            "  inflating: omniglot/data/Sylheti/character19/1521_18.png  \n",
            "  inflating: omniglot/data/Sylheti/character19/1521_19.png  \n",
            "  inflating: omniglot/data/Sylheti/character19/1521_09.png  \n",
            "  inflating: omniglot/data/Sylheti/character19/1521_08.png  \n",
            "  inflating: omniglot/data/Sylheti/character19/1521_20.png  \n",
            "  inflating: omniglot/data/Sylheti/character19/1521_11.png  \n",
            "  inflating: omniglot/data/Sylheti/character19/1521_05.png  \n",
            "  inflating: omniglot/data/Sylheti/character19/1521_04.png  \n",
            "  inflating: omniglot/data/Sylheti/character19/1521_10.png  \n",
            "  inflating: omniglot/data/Sylheti/character19/1521_06.png  \n",
            "  inflating: omniglot/data/Sylheti/character19/1521_12.png  \n",
            "  inflating: omniglot/data/Sylheti/character19/1521_13.png  \n",
            "  inflating: omniglot/data/Sylheti/character19/1521_07.png  \n",
            "  inflating: omniglot/data/Sylheti/character19/1521_03.png  \n",
            "  inflating: omniglot/data/Sylheti/character19/1521_17.png  \n",
            "  inflating: omniglot/data/Sylheti/character19/1521_16.png  \n",
            "  inflating: omniglot/data/Sylheti/character19/1521_02.png  \n",
            "  inflating: omniglot/data/Sylheti/character19/1521_14.png  \n",
            "  inflating: omniglot/data/Sylheti/character19/1521_01.png  \n",
            "  inflating: omniglot/data/Sylheti/character19/1521_15.png  \n",
            "  inflating: omniglot/data/Sylheti/character21/1523_09.png  \n",
            "  inflating: omniglot/data/Sylheti/character21/1523_20.png  \n",
            "  inflating: omniglot/data/Sylheti/character21/1523_08.png  \n",
            "  inflating: omniglot/data/Sylheti/character21/1523_18.png  \n",
            "  inflating: omniglot/data/Sylheti/character21/1523_19.png  \n",
            "  inflating: omniglot/data/Sylheti/character21/1523_14.png  \n",
            "  inflating: omniglot/data/Sylheti/character21/1523_01.png  \n",
            "  inflating: omniglot/data/Sylheti/character21/1523_15.png  \n",
            "  inflating: omniglot/data/Sylheti/character21/1523_03.png  \n",
            "  inflating: omniglot/data/Sylheti/character21/1523_17.png  \n",
            "  inflating: omniglot/data/Sylheti/character21/1523_16.png  \n",
            "  inflating: omniglot/data/Sylheti/character21/1523_02.png  \n",
            "  inflating: omniglot/data/Sylheti/character21/1523_06.png  \n",
            "  inflating: omniglot/data/Sylheti/character21/1523_12.png  \n",
            "  inflating: omniglot/data/Sylheti/character21/1523_13.png  \n",
            "  inflating: omniglot/data/Sylheti/character21/1523_07.png  \n",
            "  inflating: omniglot/data/Sylheti/character21/1523_11.png  \n",
            "  inflating: omniglot/data/Sylheti/character21/1523_05.png  \n",
            "  inflating: omniglot/data/Sylheti/character21/1523_04.png  \n",
            "  inflating: omniglot/data/Sylheti/character21/1523_10.png  \n",
            "  inflating: omniglot/data/Sylheti/character17/1519_20.png  \n",
            "  inflating: omniglot/data/Sylheti/character17/1519_08.png  \n",
            "  inflating: omniglot/data/Sylheti/character17/1519_09.png  \n",
            "  inflating: omniglot/data/Sylheti/character17/1519_19.png  \n",
            "  inflating: omniglot/data/Sylheti/character17/1519_18.png  \n",
            "  inflating: omniglot/data/Sylheti/character17/1519_15.png  \n",
            "  inflating: omniglot/data/Sylheti/character17/1519_01.png  \n",
            "  inflating: omniglot/data/Sylheti/character17/1519_14.png  \n",
            "  inflating: omniglot/data/Sylheti/character17/1519_02.png  \n",
            "  inflating: omniglot/data/Sylheti/character17/1519_16.png  \n",
            "  inflating: omniglot/data/Sylheti/character17/1519_17.png  \n",
            "  inflating: omniglot/data/Sylheti/character17/1519_03.png  \n",
            "  inflating: omniglot/data/Sylheti/character17/1519_07.png  \n",
            "  inflating: omniglot/data/Sylheti/character17/1519_13.png  \n",
            "  inflating: omniglot/data/Sylheti/character17/1519_12.png  \n",
            "  inflating: omniglot/data/Sylheti/character17/1519_06.png  \n",
            "  inflating: omniglot/data/Sylheti/character17/1519_10.png  \n",
            "  inflating: omniglot/data/Sylheti/character17/1519_04.png  \n",
            "  inflating: omniglot/data/Sylheti/character17/1519_05.png  \n",
            "  inflating: omniglot/data/Sylheti/character17/1519_11.png  \n",
            "  inflating: omniglot/data/Sylheti/character28/1530_16.png  \n",
            "  inflating: omniglot/data/Sylheti/character28/1530_02.png  \n",
            "  inflating: omniglot/data/Sylheti/character28/1530_03.png  \n",
            "  inflating: omniglot/data/Sylheti/character28/1530_17.png  \n",
            "  inflating: omniglot/data/Sylheti/character28/1530_01.png  \n",
            "  inflating: omniglot/data/Sylheti/character28/1530_15.png  \n",
            "  inflating: omniglot/data/Sylheti/character28/1530_14.png  \n",
            "  inflating: omniglot/data/Sylheti/character28/1530_04.png  \n",
            "  inflating: omniglot/data/Sylheti/character28/1530_10.png  \n",
            "  inflating: omniglot/data/Sylheti/character28/1530_11.png  \n",
            "  inflating: omniglot/data/Sylheti/character28/1530_05.png  \n",
            "  inflating: omniglot/data/Sylheti/character28/1530_13.png  \n",
            "  inflating: omniglot/data/Sylheti/character28/1530_07.png  \n",
            "  inflating: omniglot/data/Sylheti/character28/1530_06.png  \n",
            "  inflating: omniglot/data/Sylheti/character28/1530_12.png  \n",
            "  inflating: omniglot/data/Sylheti/character28/1530_20.png  \n",
            "  inflating: omniglot/data/Sylheti/character28/1530_08.png  \n",
            "  inflating: omniglot/data/Sylheti/character28/1530_09.png  \n",
            "  inflating: omniglot/data/Sylheti/character28/1530_19.png  \n",
            "  inflating: omniglot/data/Sylheti/character28/1530_18.png  \n",
            "  inflating: omniglot/data/Sylheti/character10/1512_15.png  \n",
            "  inflating: omniglot/data/Sylheti/character10/1512_01.png  \n",
            "  inflating: omniglot/data/Sylheti/character10/1512_14.png  \n",
            "  inflating: omniglot/data/Sylheti/character10/1512_02.png  \n",
            "  inflating: omniglot/data/Sylheti/character10/1512_16.png  \n",
            "  inflating: omniglot/data/Sylheti/character10/1512_17.png  \n",
            "  inflating: omniglot/data/Sylheti/character10/1512_03.png  \n",
            "  inflating: omniglot/data/Sylheti/character10/1512_07.png  \n",
            "  inflating: omniglot/data/Sylheti/character10/1512_13.png  \n",
            "  inflating: omniglot/data/Sylheti/character10/1512_12.png  \n",
            "  inflating: omniglot/data/Sylheti/character10/1512_06.png  \n",
            "  inflating: omniglot/data/Sylheti/character10/1512_10.png  \n",
            "  inflating: omniglot/data/Sylheti/character10/1512_04.png  \n",
            "  inflating: omniglot/data/Sylheti/character10/1512_05.png  \n",
            "  inflating: omniglot/data/Sylheti/character10/1512_11.png  \n",
            "  inflating: omniglot/data/Sylheti/character10/1512_20.png  \n",
            "  inflating: omniglot/data/Sylheti/character10/1512_08.png  \n",
            "  inflating: omniglot/data/Sylheti/character10/1512_09.png  \n",
            "  inflating: omniglot/data/Sylheti/character10/1512_19.png  \n",
            "  inflating: omniglot/data/Sylheti/character10/1512_18.png  \n",
            "  inflating: omniglot/data/Sylheti/character03/1505_19.png  \n",
            "  inflating: omniglot/data/Sylheti/character03/1505_18.png  \n",
            "  inflating: omniglot/data/Sylheti/character03/1505_20.png  \n",
            "  inflating: omniglot/data/Sylheti/character03/1505_08.png  \n",
            "  inflating: omniglot/data/Sylheti/character03/1505_09.png  \n",
            "  inflating: omniglot/data/Sylheti/character03/1505_10.png  \n",
            "  inflating: omniglot/data/Sylheti/character03/1505_04.png  \n",
            "  inflating: omniglot/data/Sylheti/character03/1505_05.png  \n",
            "  inflating: omniglot/data/Sylheti/character03/1505_11.png  \n",
            "  inflating: omniglot/data/Sylheti/character03/1505_07.png  \n",
            "  inflating: omniglot/data/Sylheti/character03/1505_13.png  \n",
            "  inflating: omniglot/data/Sylheti/character03/1505_12.png  \n",
            "  inflating: omniglot/data/Sylheti/character03/1505_06.png  \n",
            "  inflating: omniglot/data/Sylheti/character03/1505_02.png  \n",
            "  inflating: omniglot/data/Sylheti/character03/1505_16.png  \n",
            "  inflating: omniglot/data/Sylheti/character03/1505_17.png  \n",
            "  inflating: omniglot/data/Sylheti/character03/1505_03.png  \n",
            "  inflating: omniglot/data/Sylheti/character03/1505_15.png  \n",
            "  inflating: omniglot/data/Sylheti/character03/1505_01.png  \n",
            "  inflating: omniglot/data/Sylheti/character03/1505_14.png  \n",
            "  inflating: omniglot/data/Sylheti/character04/1506_03.png  \n",
            "  inflating: omniglot/data/Sylheti/character04/1506_17.png  \n",
            "  inflating: omniglot/data/Sylheti/character04/1506_16.png  \n",
            "  inflating: omniglot/data/Sylheti/character04/1506_02.png  \n",
            "  inflating: omniglot/data/Sylheti/character04/1506_14.png  \n",
            "  inflating: omniglot/data/Sylheti/character04/1506_01.png  \n",
            "  inflating: omniglot/data/Sylheti/character04/1506_15.png  \n",
            "  inflating: omniglot/data/Sylheti/character04/1506_11.png  \n",
            "  inflating: omniglot/data/Sylheti/character04/1506_05.png  \n",
            "  inflating: omniglot/data/Sylheti/character04/1506_04.png  \n",
            "  inflating: omniglot/data/Sylheti/character04/1506_10.png  \n",
            "  inflating: omniglot/data/Sylheti/character04/1506_06.png  \n",
            "  inflating: omniglot/data/Sylheti/character04/1506_12.png  \n",
            "  inflating: omniglot/data/Sylheti/character04/1506_13.png  \n",
            "  inflating: omniglot/data/Sylheti/character04/1506_07.png  \n",
            "  inflating: omniglot/data/Sylheti/character04/1506_09.png  \n",
            "  inflating: omniglot/data/Sylheti/character04/1506_08.png  \n",
            "  inflating: omniglot/data/Sylheti/character04/1506_20.png  \n",
            "  inflating: omniglot/data/Sylheti/character04/1506_18.png  \n",
            "  inflating: omniglot/data/Sylheti/character04/1506_19.png  \n",
            "  inflating: omniglot/data/Sylheti/character05/1507_08.png  \n",
            "  inflating: omniglot/data/Sylheti/character05/1507_20.png  \n",
            "  inflating: omniglot/data/Sylheti/character05/1507_09.png  \n",
            "  inflating: omniglot/data/Sylheti/character05/1507_19.png  \n",
            "  inflating: omniglot/data/Sylheti/character05/1507_18.png  \n",
            "  inflating: omniglot/data/Sylheti/character05/1507_15.png  \n",
            "  inflating: omniglot/data/Sylheti/character05/1507_01.png  \n",
            "  inflating: omniglot/data/Sylheti/character05/1507_14.png  \n",
            "  inflating: omniglot/data/Sylheti/character05/1507_02.png  \n",
            "  inflating: omniglot/data/Sylheti/character05/1507_16.png  \n",
            "  inflating: omniglot/data/Sylheti/character05/1507_17.png  \n",
            "  inflating: omniglot/data/Sylheti/character05/1507_03.png  \n",
            "  inflating: omniglot/data/Sylheti/character05/1507_07.png  \n",
            "  inflating: omniglot/data/Sylheti/character05/1507_13.png  \n",
            "  inflating: omniglot/data/Sylheti/character05/1507_12.png  \n",
            "  inflating: omniglot/data/Sylheti/character05/1507_06.png  \n",
            "  inflating: omniglot/data/Sylheti/character05/1507_10.png  \n",
            "  inflating: omniglot/data/Sylheti/character05/1507_04.png  \n",
            "  inflating: omniglot/data/Sylheti/character05/1507_05.png  \n",
            "  inflating: omniglot/data/Sylheti/character05/1507_11.png  \n",
            "  inflating: omniglot/data/Sylheti/character02/1504_06.png  \n",
            "  inflating: omniglot/data/Sylheti/character02/1504_12.png  \n",
            "  inflating: omniglot/data/Sylheti/character02/1504_13.png  \n",
            "  inflating: omniglot/data/Sylheti/character02/1504_07.png  \n",
            "  inflating: omniglot/data/Sylheti/character02/1504_11.png  \n",
            "  inflating: omniglot/data/Sylheti/character02/1504_05.png  \n",
            "  inflating: omniglot/data/Sylheti/character02/1504_04.png  \n",
            "  inflating: omniglot/data/Sylheti/character02/1504_10.png  \n",
            "  inflating: omniglot/data/Sylheti/character02/1504_14.png  \n",
            "  inflating: omniglot/data/Sylheti/character02/1504_01.png  \n",
            "  inflating: omniglot/data/Sylheti/character02/1504_15.png  \n",
            "  inflating: omniglot/data/Sylheti/character02/1504_03.png  \n",
            "  inflating: omniglot/data/Sylheti/character02/1504_17.png  \n",
            "  inflating: omniglot/data/Sylheti/character02/1504_16.png  \n",
            "  inflating: omniglot/data/Sylheti/character02/1504_02.png  \n",
            "  inflating: omniglot/data/Sylheti/character02/1504_18.png  \n",
            "  inflating: omniglot/data/Sylheti/character02/1504_19.png  \n",
            "  inflating: omniglot/data/Sylheti/character02/1504_09.png  \n",
            "  inflating: omniglot/data/Sylheti/character02/1504_20.png  \n",
            "  inflating: omniglot/data/Sylheti/character02/1504_08.png  \n",
            "  inflating: omniglot/data/Sylheti/character15/1517_19.png  \n",
            "  inflating: omniglot/data/Sylheti/character15/1517_18.png  \n",
            "  inflating: omniglot/data/Sylheti/character15/1517_20.png  \n",
            "  inflating: omniglot/data/Sylheti/character15/1517_08.png  \n",
            "  inflating: omniglot/data/Sylheti/character15/1517_09.png  \n",
            "  inflating: omniglot/data/Sylheti/character15/1517_04.png  \n",
            "  inflating: omniglot/data/Sylheti/character15/1517_10.png  \n",
            "  inflating: omniglot/data/Sylheti/character15/1517_11.png  \n",
            "  inflating: omniglot/data/Sylheti/character15/1517_05.png  \n",
            "  inflating: omniglot/data/Sylheti/character15/1517_13.png  \n",
            "  inflating: omniglot/data/Sylheti/character15/1517_07.png  \n",
            "  inflating: omniglot/data/Sylheti/character15/1517_06.png  \n",
            "  inflating: omniglot/data/Sylheti/character15/1517_12.png  \n",
            "  inflating: omniglot/data/Sylheti/character15/1517_16.png  \n",
            "  inflating: omniglot/data/Sylheti/character15/1517_02.png  \n",
            "  inflating: omniglot/data/Sylheti/character15/1517_03.png  \n",
            "  inflating: omniglot/data/Sylheti/character15/1517_17.png  \n",
            "  inflating: omniglot/data/Sylheti/character15/1517_01.png  \n",
            "  inflating: omniglot/data/Sylheti/character15/1517_15.png  \n",
            "  inflating: omniglot/data/Sylheti/character15/1517_14.png  \n",
            "  inflating: omniglot/data/Sylheti/character12/1514_17.png  \n",
            "  inflating: omniglot/data/Sylheti/character12/1514_03.png  \n",
            "  inflating: omniglot/data/Sylheti/character12/1514_02.png  \n",
            "  inflating: omniglot/data/Sylheti/character12/1514_16.png  \n",
            "  inflating: omniglot/data/Sylheti/character12/1514_14.png  \n",
            "  inflating: omniglot/data/Sylheti/character12/1514_15.png  \n",
            "  inflating: omniglot/data/Sylheti/character12/1514_01.png  \n",
            "  inflating: omniglot/data/Sylheti/character12/1514_05.png  \n",
            "  inflating: omniglot/data/Sylheti/character12/1514_11.png  \n",
            "  inflating: omniglot/data/Sylheti/character12/1514_10.png  \n",
            "  inflating: omniglot/data/Sylheti/character12/1514_04.png  \n",
            "  inflating: omniglot/data/Sylheti/character12/1514_12.png  \n",
            "  inflating: omniglot/data/Sylheti/character12/1514_06.png  \n",
            "  inflating: omniglot/data/Sylheti/character12/1514_07.png  \n",
            "  inflating: omniglot/data/Sylheti/character12/1514_13.png  \n",
            "  inflating: omniglot/data/Sylheti/character12/1514_09.png  \n",
            "  inflating: omniglot/data/Sylheti/character12/1514_08.png  \n",
            "  inflating: omniglot/data/Sylheti/character12/1514_20.png  \n",
            "  inflating: omniglot/data/Sylheti/character12/1514_18.png  \n",
            "  inflating: omniglot/data/Sylheti/character12/1514_19.png  \n",
            "  inflating: omniglot/data/Sylheti/character24/1526_05.png  \n",
            "  inflating: omniglot/data/Sylheti/character24/1526_11.png  \n",
            "  inflating: omniglot/data/Sylheti/character24/1526_10.png  \n",
            "  inflating: omniglot/data/Sylheti/character24/1526_04.png  \n",
            "  inflating: omniglot/data/Sylheti/character24/1526_12.png  \n",
            "  inflating: omniglot/data/Sylheti/character24/1526_06.png  \n",
            "  inflating: omniglot/data/Sylheti/character24/1526_07.png  \n",
            "  inflating: omniglot/data/Sylheti/character24/1526_13.png  \n",
            "  inflating: omniglot/data/Sylheti/character24/1526_17.png  \n",
            "  inflating: omniglot/data/Sylheti/character24/1526_03.png  \n",
            "  inflating: omniglot/data/Sylheti/character24/1526_02.png  \n",
            "  inflating: omniglot/data/Sylheti/character24/1526_16.png  \n",
            "  inflating: omniglot/data/Sylheti/character24/1526_14.png  \n",
            "  inflating: omniglot/data/Sylheti/character24/1526_15.png  \n",
            "  inflating: omniglot/data/Sylheti/character24/1526_01.png  \n",
            "  inflating: omniglot/data/Sylheti/character24/1526_18.png  \n",
            "  inflating: omniglot/data/Sylheti/character24/1526_19.png  \n",
            "  inflating: omniglot/data/Sylheti/character24/1526_09.png  \n",
            "  inflating: omniglot/data/Sylheti/character24/1526_20.png  \n",
            "  inflating: omniglot/data/Sylheti/character24/1526_08.png  \n",
            "  inflating: omniglot/data/Sylheti/character23/1525_08.png  \n",
            "  inflating: omniglot/data/Sylheti/character23/1525_20.png  \n",
            "  inflating: omniglot/data/Sylheti/character23/1525_09.png  \n",
            "  inflating: omniglot/data/Sylheti/character23/1525_19.png  \n",
            "  inflating: omniglot/data/Sylheti/character23/1525_18.png  \n",
            "  inflating: omniglot/data/Sylheti/character23/1525_16.png  \n",
            "  inflating: omniglot/data/Sylheti/character23/1525_02.png  \n",
            "  inflating: omniglot/data/Sylheti/character23/1525_03.png  \n",
            "  inflating: omniglot/data/Sylheti/character23/1525_17.png  \n",
            "  inflating: omniglot/data/Sylheti/character23/1525_01.png  \n",
            "  inflating: omniglot/data/Sylheti/character23/1525_15.png  \n",
            "  inflating: omniglot/data/Sylheti/character23/1525_14.png  \n",
            "  inflating: omniglot/data/Sylheti/character23/1525_04.png  \n",
            "  inflating: omniglot/data/Sylheti/character23/1525_10.png  \n",
            "  inflating: omniglot/data/Sylheti/character23/1525_11.png  \n",
            "  inflating: omniglot/data/Sylheti/character23/1525_05.png  \n",
            "  inflating: omniglot/data/Sylheti/character23/1525_13.png  \n",
            "  inflating: omniglot/data/Sylheti/character23/1525_07.png  \n",
            "  inflating: omniglot/data/Sylheti/character23/1525_06.png  \n",
            "  inflating: omniglot/data/Sylheti/character23/1525_12.png  \n",
            "  inflating: omniglot/data/Sylheti/character22/1524_14.png  \n",
            "  inflating: omniglot/data/Sylheti/character22/1524_15.png  \n",
            "  inflating: omniglot/data/Sylheti/character22/1524_01.png  \n",
            "  inflating: omniglot/data/Sylheti/character22/1524_17.png  \n",
            "  inflating: omniglot/data/Sylheti/character22/1524_03.png  \n",
            "  inflating: omniglot/data/Sylheti/character22/1524_02.png  \n",
            "  inflating: omniglot/data/Sylheti/character22/1524_16.png  \n",
            "  inflating: omniglot/data/Sylheti/character22/1524_12.png  \n",
            "  inflating: omniglot/data/Sylheti/character22/1524_06.png  \n",
            "  inflating: omniglot/data/Sylheti/character22/1524_07.png  \n",
            "  inflating: omniglot/data/Sylheti/character22/1524_13.png  \n",
            "  inflating: omniglot/data/Sylheti/character22/1524_05.png  \n",
            "  inflating: omniglot/data/Sylheti/character22/1524_11.png  \n",
            "  inflating: omniglot/data/Sylheti/character22/1524_10.png  \n",
            "  inflating: omniglot/data/Sylheti/character22/1524_04.png  \n",
            "  inflating: omniglot/data/Sylheti/character22/1524_09.png  \n",
            "  inflating: omniglot/data/Sylheti/character22/1524_08.png  \n",
            "  inflating: omniglot/data/Sylheti/character22/1524_20.png  \n",
            "  inflating: omniglot/data/Sylheti/character22/1524_18.png  \n",
            "  inflating: omniglot/data/Sylheti/character22/1524_19.png  \n",
            "  inflating: omniglot/data/Sylheti/character25/1527_19.png  \n",
            "  inflating: omniglot/data/Sylheti/character25/1527_18.png  \n",
            "  inflating: omniglot/data/Sylheti/character25/1527_20.png  \n",
            "  inflating: omniglot/data/Sylheti/character25/1527_08.png  \n",
            "  inflating: omniglot/data/Sylheti/character25/1527_09.png  \n",
            "  inflating: omniglot/data/Sylheti/character25/1527_13.png  \n",
            "  inflating: omniglot/data/Sylheti/character25/1527_07.png  \n",
            "  inflating: omniglot/data/Sylheti/character25/1527_06.png  \n",
            "  inflating: omniglot/data/Sylheti/character25/1527_12.png  \n",
            "  inflating: omniglot/data/Sylheti/character25/1527_04.png  \n",
            "  inflating: omniglot/data/Sylheti/character25/1527_10.png  \n",
            "  inflating: omniglot/data/Sylheti/character25/1527_11.png  \n",
            "  inflating: omniglot/data/Sylheti/character25/1527_05.png  \n",
            "  inflating: omniglot/data/Sylheti/character25/1527_01.png  \n",
            "  inflating: omniglot/data/Sylheti/character25/1527_15.png  \n",
            "  inflating: omniglot/data/Sylheti/character25/1527_14.png  \n",
            "  inflating: omniglot/data/Sylheti/character25/1527_16.png  \n",
            "  inflating: omniglot/data/Sylheti/character25/1527_02.png  \n",
            "  inflating: omniglot/data/Sylheti/character25/1527_03.png  \n",
            "  inflating: omniglot/data/Sylheti/character25/1527_17.png  \n",
            "  inflating: omniglot/data/Sylheti/character13/1515_08.png  \n",
            "  inflating: omniglot/data/Sylheti/character13/1515_20.png  \n",
            "  inflating: omniglot/data/Sylheti/character13/1515_09.png  \n",
            "  inflating: omniglot/data/Sylheti/character13/1515_19.png  \n",
            "  inflating: omniglot/data/Sylheti/character13/1515_18.png  \n",
            "  inflating: omniglot/data/Sylheti/character13/1515_01.png  \n",
            "  inflating: omniglot/data/Sylheti/character13/1515_15.png  \n",
            "  inflating: omniglot/data/Sylheti/character13/1515_14.png  \n",
            "  inflating: omniglot/data/Sylheti/character13/1515_16.png  \n",
            "  inflating: omniglot/data/Sylheti/character13/1515_02.png  \n",
            "  inflating: omniglot/data/Sylheti/character13/1515_03.png  \n",
            "  inflating: omniglot/data/Sylheti/character13/1515_17.png  \n",
            "  inflating: omniglot/data/Sylheti/character13/1515_13.png  \n",
            "  inflating: omniglot/data/Sylheti/character13/1515_07.png  \n",
            "  inflating: omniglot/data/Sylheti/character13/1515_06.png  \n",
            "  inflating: omniglot/data/Sylheti/character13/1515_12.png  \n",
            "  inflating: omniglot/data/Sylheti/character13/1515_04.png  \n",
            "  inflating: omniglot/data/Sylheti/character13/1515_10.png  \n",
            "  inflating: omniglot/data/Sylheti/character13/1515_11.png  \n",
            "  inflating: omniglot/data/Sylheti/character13/1515_05.png  \n",
            "  inflating: omniglot/data/Sylheti/character14/1516_12.png  \n",
            "  inflating: omniglot/data/Sylheti/character14/1516_06.png  \n",
            "  inflating: omniglot/data/Sylheti/character14/1516_07.png  \n",
            "  inflating: omniglot/data/Sylheti/character14/1516_13.png  \n",
            "  inflating: omniglot/data/Sylheti/character14/1516_05.png  \n",
            "  inflating: omniglot/data/Sylheti/character14/1516_11.png  \n",
            "  inflating: omniglot/data/Sylheti/character14/1516_10.png  \n",
            "  inflating: omniglot/data/Sylheti/character14/1516_04.png  \n",
            "  inflating: omniglot/data/Sylheti/character14/1516_14.png  \n",
            "  inflating: omniglot/data/Sylheti/character14/1516_15.png  \n",
            "  inflating: omniglot/data/Sylheti/character14/1516_01.png  \n",
            "  inflating: omniglot/data/Sylheti/character14/1516_17.png  \n",
            "  inflating: omniglot/data/Sylheti/character14/1516_03.png  \n",
            "  inflating: omniglot/data/Sylheti/character14/1516_02.png  \n",
            "  inflating: omniglot/data/Sylheti/character14/1516_16.png  \n",
            "  inflating: omniglot/data/Sylheti/character14/1516_18.png  \n",
            "  inflating: omniglot/data/Sylheti/character14/1516_19.png  \n",
            "  inflating: omniglot/data/Sylheti/character14/1516_09.png  \n",
            "  inflating: omniglot/data/Sylheti/character14/1516_20.png  \n",
            "  inflating: omniglot/data/Sylheti/character14/1516_08.png  \n",
            "  inflating: omniglot/data/Sylheti/character09/1511_18.png  \n",
            "  inflating: omniglot/data/Sylheti/character09/1511_19.png  \n",
            "  inflating: omniglot/data/Sylheti/character09/1511_09.png  \n",
            "  inflating: omniglot/data/Sylheti/character09/1511_08.png  \n",
            "  inflating: omniglot/data/Sylheti/character09/1511_20.png  \n",
            "  inflating: omniglot/data/Sylheti/character09/1511_06.png  \n",
            "  inflating: omniglot/data/Sylheti/character09/1511_12.png  \n",
            "  inflating: omniglot/data/Sylheti/character09/1511_13.png  \n",
            "  inflating: omniglot/data/Sylheti/character09/1511_07.png  \n",
            "  inflating: omniglot/data/Sylheti/character09/1511_11.png  \n",
            "  inflating: omniglot/data/Sylheti/character09/1511_05.png  \n",
            "  inflating: omniglot/data/Sylheti/character09/1511_04.png  \n",
            "  inflating: omniglot/data/Sylheti/character09/1511_10.png  \n",
            "  inflating: omniglot/data/Sylheti/character09/1511_14.png  \n",
            "  inflating: omniglot/data/Sylheti/character09/1511_01.png  \n",
            "  inflating: omniglot/data/Sylheti/character09/1511_15.png  \n",
            "  inflating: omniglot/data/Sylheti/character09/1511_03.png  \n",
            "  inflating: omniglot/data/Sylheti/character09/1511_17.png  \n",
            "  inflating: omniglot/data/Sylheti/character09/1511_16.png  \n",
            "  inflating: omniglot/data/Sylheti/character09/1511_02.png  \n",
            "  inflating: omniglot/data/Sylheti/character07/1509_19.png  \n",
            "  inflating: omniglot/data/Sylheti/character07/1509_18.png  \n",
            "  inflating: omniglot/data/Sylheti/character07/1509_08.png  \n",
            "  inflating: omniglot/data/Sylheti/character07/1509_20.png  \n",
            "  inflating: omniglot/data/Sylheti/character07/1509_09.png  \n",
            "  inflating: omniglot/data/Sylheti/character07/1509_04.png  \n",
            "  inflating: omniglot/data/Sylheti/character07/1509_10.png  \n",
            "  inflating: omniglot/data/Sylheti/character07/1509_11.png  \n",
            "  inflating: omniglot/data/Sylheti/character07/1509_05.png  \n",
            "  inflating: omniglot/data/Sylheti/character07/1509_13.png  \n",
            "  inflating: omniglot/data/Sylheti/character07/1509_07.png  \n",
            "  inflating: omniglot/data/Sylheti/character07/1509_06.png  \n",
            "  inflating: omniglot/data/Sylheti/character07/1509_12.png  \n",
            "  inflating: omniglot/data/Sylheti/character07/1509_16.png  \n",
            "  inflating: omniglot/data/Sylheti/character07/1509_02.png  \n",
            "  inflating: omniglot/data/Sylheti/character07/1509_03.png  \n",
            "  inflating: omniglot/data/Sylheti/character07/1509_17.png  \n",
            "  inflating: omniglot/data/Sylheti/character07/1509_01.png  \n",
            "  inflating: omniglot/data/Sylheti/character07/1509_15.png  \n",
            "  inflating: omniglot/data/Sylheti/character07/1509_14.png  \n",
            "  inflating: omniglot/data/Sylheti/character01/1503_18.png  \n",
            "  inflating: omniglot/data/Sylheti/character01/1503_19.png  \n",
            "  inflating: omniglot/data/Sylheti/character01/1503_09.png  \n",
            "  inflating: omniglot/data/Sylheti/character01/1503_08.png  \n",
            "  inflating: omniglot/data/Sylheti/character01/1503_20.png  \n",
            "  inflating: omniglot/data/Sylheti/character01/1503_12.png  \n",
            "  inflating: omniglot/data/Sylheti/character01/1503_06.png  \n",
            "  inflating: omniglot/data/Sylheti/character01/1503_07.png  \n",
            "  inflating: omniglot/data/Sylheti/character01/1503_13.png  \n",
            "  inflating: omniglot/data/Sylheti/character01/1503_05.png  \n",
            "  inflating: omniglot/data/Sylheti/character01/1503_11.png  \n",
            "  inflating: omniglot/data/Sylheti/character01/1503_10.png  \n",
            "  inflating: omniglot/data/Sylheti/character01/1503_04.png  \n",
            "  inflating: omniglot/data/Sylheti/character01/1503_14.png  \n",
            "  inflating: omniglot/data/Sylheti/character01/1503_15.png  \n",
            "  inflating: omniglot/data/Sylheti/character01/1503_01.png  \n",
            "  inflating: omniglot/data/Sylheti/character01/1503_17.png  \n",
            "  inflating: omniglot/data/Sylheti/character01/1503_03.png  \n",
            "  inflating: omniglot/data/Sylheti/character01/1503_02.png  \n",
            "  inflating: omniglot/data/Sylheti/character01/1503_16.png  \n",
            "  inflating: omniglot/data/Sylheti/character06/1508_12.png  \n",
            "  inflating: omniglot/data/Sylheti/character06/1508_06.png  \n",
            "  inflating: omniglot/data/Sylheti/character06/1508_07.png  \n",
            "  inflating: omniglot/data/Sylheti/character06/1508_13.png  \n",
            "  inflating: omniglot/data/Sylheti/character06/1508_05.png  \n",
            "  inflating: omniglot/data/Sylheti/character06/1508_11.png  \n",
            "  inflating: omniglot/data/Sylheti/character06/1508_10.png  \n",
            "  inflating: omniglot/data/Sylheti/character06/1508_04.png  \n",
            "  inflating: omniglot/data/Sylheti/character06/1508_14.png  \n",
            "  inflating: omniglot/data/Sylheti/character06/1508_15.png  \n",
            "  inflating: omniglot/data/Sylheti/character06/1508_01.png  \n",
            "  inflating: omniglot/data/Sylheti/character06/1508_17.png  \n",
            "  inflating: omniglot/data/Sylheti/character06/1508_03.png  \n",
            "  inflating: omniglot/data/Sylheti/character06/1508_02.png  \n",
            "  inflating: omniglot/data/Sylheti/character06/1508_16.png  \n",
            "  inflating: omniglot/data/Sylheti/character06/1508_18.png  \n",
            "  inflating: omniglot/data/Sylheti/character06/1508_19.png  \n",
            "  inflating: omniglot/data/Sylheti/character06/1508_09.png  \n",
            "  inflating: omniglot/data/Sylheti/character06/1508_08.png  \n",
            "  inflating: omniglot/data/Sylheti/character06/1508_20.png  \n",
            "  inflating: omniglot/data/Sylheti/character08/1510_10.png  \n",
            "  inflating: omniglot/data/Sylheti/character08/1510_04.png  \n",
            "  inflating: omniglot/data/Sylheti/character08/1510_05.png  \n",
            "  inflating: omniglot/data/Sylheti/character08/1510_11.png  \n",
            "  inflating: omniglot/data/Sylheti/character08/1510_07.png  \n",
            "  inflating: omniglot/data/Sylheti/character08/1510_13.png  \n",
            "  inflating: omniglot/data/Sylheti/character08/1510_12.png  \n",
            "  inflating: omniglot/data/Sylheti/character08/1510_06.png  \n",
            "  inflating: omniglot/data/Sylheti/character08/1510_02.png  \n",
            "  inflating: omniglot/data/Sylheti/character08/1510_16.png  \n",
            "  inflating: omniglot/data/Sylheti/character08/1510_17.png  \n",
            "  inflating: omniglot/data/Sylheti/character08/1510_03.png  \n",
            "  inflating: omniglot/data/Sylheti/character08/1510_15.png  \n",
            "  inflating: omniglot/data/Sylheti/character08/1510_01.png  \n",
            "  inflating: omniglot/data/Sylheti/character08/1510_14.png  \n",
            "  inflating: omniglot/data/Sylheti/character08/1510_19.png  \n",
            "  inflating: omniglot/data/Sylheti/character08/1510_18.png  \n",
            "  inflating: omniglot/data/Sylheti/character08/1510_08.png  \n",
            "  inflating: omniglot/data/Sylheti/character08/1510_20.png  \n",
            "  inflating: omniglot/data/Sylheti/character08/1510_09.png  \n",
            "  inflating: omniglot/data/Cyrillic/character11/0228_06.png  \n",
            "  inflating: omniglot/data/Cyrillic/character11/0228_12.png  \n",
            "  inflating: omniglot/data/Cyrillic/character11/0228_13.png  \n",
            "  inflating: omniglot/data/Cyrillic/character11/0228_07.png  \n",
            "  inflating: omniglot/data/Cyrillic/character11/0228_11.png  \n",
            "  inflating: omniglot/data/Cyrillic/character11/0228_05.png  \n",
            "  inflating: omniglot/data/Cyrillic/character11/0228_04.png  \n",
            "  inflating: omniglot/data/Cyrillic/character11/0228_10.png  \n",
            "  inflating: omniglot/data/Cyrillic/character11/0228_14.png  \n",
            "  inflating: omniglot/data/Cyrillic/character11/0228_01.png  \n",
            "  inflating: omniglot/data/Cyrillic/character11/0228_15.png  \n",
            "  inflating: omniglot/data/Cyrillic/character11/0228_03.png  \n",
            "  inflating: omniglot/data/Cyrillic/character11/0228_17.png  \n",
            "  inflating: omniglot/data/Cyrillic/character11/0228_16.png  \n",
            "  inflating: omniglot/data/Cyrillic/character11/0228_02.png  \n",
            "  inflating: omniglot/data/Cyrillic/character11/0228_18.png  \n",
            "  inflating: omniglot/data/Cyrillic/character11/0228_19.png  \n",
            "  inflating: omniglot/data/Cyrillic/character11/0228_09.png  \n",
            "  inflating: omniglot/data/Cyrillic/character11/0228_08.png  \n",
            "  inflating: omniglot/data/Cyrillic/character11/0228_20.png  \n",
            "  inflating: omniglot/data/Cyrillic/character16/0233_09.png  \n",
            "  inflating: omniglot/data/Cyrillic/character16/0233_20.png  \n",
            "  inflating: omniglot/data/Cyrillic/character16/0233_08.png  \n",
            "  inflating: omniglot/data/Cyrillic/character16/0233_18.png  \n",
            "  inflating: omniglot/data/Cyrillic/character16/0233_19.png  \n",
            "  inflating: omniglot/data/Cyrillic/character16/0233_17.png  \n",
            "  inflating: omniglot/data/Cyrillic/character16/0233_03.png  \n",
            "  inflating: omniglot/data/Cyrillic/character16/0233_02.png  \n",
            "  inflating: omniglot/data/Cyrillic/character16/0233_16.png  \n",
            "  inflating: omniglot/data/Cyrillic/character16/0233_14.png  \n",
            "  inflating: omniglot/data/Cyrillic/character16/0233_15.png  \n",
            "  inflating: omniglot/data/Cyrillic/character16/0233_01.png  \n",
            "  inflating: omniglot/data/Cyrillic/character16/0233_05.png  \n",
            "  inflating: omniglot/data/Cyrillic/character16/0233_11.png  \n",
            "  inflating: omniglot/data/Cyrillic/character16/0233_10.png  \n",
            "  inflating: omniglot/data/Cyrillic/character16/0233_04.png  \n",
            "  inflating: omniglot/data/Cyrillic/character16/0233_12.png  \n",
            "  inflating: omniglot/data/Cyrillic/character16/0233_06.png  \n",
            "  inflating: omniglot/data/Cyrillic/character16/0233_07.png  \n",
            "  inflating: omniglot/data/Cyrillic/character16/0233_13.png  \n",
            "  inflating: omniglot/data/Cyrillic/character29/0246_19.png  \n",
            "  inflating: omniglot/data/Cyrillic/character29/0246_18.png  \n",
            "  inflating: omniglot/data/Cyrillic/character29/0246_08.png  \n",
            "  inflating: omniglot/data/Cyrillic/character29/0246_20.png  \n",
            "  inflating: omniglot/data/Cyrillic/character29/0246_09.png  \n",
            "  inflating: omniglot/data/Cyrillic/character29/0246_04.png  \n",
            "  inflating: omniglot/data/Cyrillic/character29/0246_10.png  \n",
            "  inflating: omniglot/data/Cyrillic/character29/0246_11.png  \n",
            "  inflating: omniglot/data/Cyrillic/character29/0246_05.png  \n",
            "  inflating: omniglot/data/Cyrillic/character29/0246_13.png  \n",
            "  inflating: omniglot/data/Cyrillic/character29/0246_07.png  \n",
            "  inflating: omniglot/data/Cyrillic/character29/0246_06.png  \n",
            "  inflating: omniglot/data/Cyrillic/character29/0246_12.png  \n",
            "  inflating: omniglot/data/Cyrillic/character29/0246_16.png  \n",
            "  inflating: omniglot/data/Cyrillic/character29/0246_02.png  \n",
            "  inflating: omniglot/data/Cyrillic/character29/0246_03.png  \n",
            "  inflating: omniglot/data/Cyrillic/character29/0246_17.png  \n",
            "  inflating: omniglot/data/Cyrillic/character29/0246_01.png  \n",
            "  inflating: omniglot/data/Cyrillic/character29/0246_15.png  \n",
            "  inflating: omniglot/data/Cyrillic/character29/0246_14.png  \n",
            "  inflating: omniglot/data/Cyrillic/character20/0237_19.png  \n",
            "  inflating: omniglot/data/Cyrillic/character20/0237_18.png  \n",
            "  inflating: omniglot/data/Cyrillic/character20/0237_20.png  \n",
            "  inflating: omniglot/data/Cyrillic/character20/0237_08.png  \n",
            "  inflating: omniglot/data/Cyrillic/character20/0237_09.png  \n",
            "  inflating: omniglot/data/Cyrillic/character20/0237_10.png  \n",
            "  inflating: omniglot/data/Cyrillic/character20/0237_04.png  \n",
            "  inflating: omniglot/data/Cyrillic/character20/0237_05.png  \n",
            "  inflating: omniglot/data/Cyrillic/character20/0237_11.png  \n",
            "  inflating: omniglot/data/Cyrillic/character20/0237_07.png  \n",
            "  inflating: omniglot/data/Cyrillic/character20/0237_13.png  \n",
            "  inflating: omniglot/data/Cyrillic/character20/0237_12.png  \n",
            "  inflating: omniglot/data/Cyrillic/character20/0237_06.png  \n",
            "  inflating: omniglot/data/Cyrillic/character20/0237_02.png  \n",
            "  inflating: omniglot/data/Cyrillic/character20/0237_16.png  \n",
            "  inflating: omniglot/data/Cyrillic/character20/0237_17.png  \n",
            "  inflating: omniglot/data/Cyrillic/character20/0237_03.png  \n",
            "  inflating: omniglot/data/Cyrillic/character20/0237_15.png  \n",
            "  inflating: omniglot/data/Cyrillic/character20/0237_01.png  \n",
            "  inflating: omniglot/data/Cyrillic/character20/0237_14.png  \n",
            "  inflating: omniglot/data/Cyrillic/character27/0244_20.png  \n",
            "  inflating: omniglot/data/Cyrillic/character27/0244_08.png  \n",
            "  inflating: omniglot/data/Cyrillic/character27/0244_09.png  \n",
            "  inflating: omniglot/data/Cyrillic/character27/0244_19.png  \n",
            "  inflating: omniglot/data/Cyrillic/character27/0244_18.png  \n",
            "  inflating: omniglot/data/Cyrillic/character27/0244_01.png  \n",
            "  inflating: omniglot/data/Cyrillic/character27/0244_15.png  \n",
            "  inflating: omniglot/data/Cyrillic/character27/0244_14.png  \n",
            "  inflating: omniglot/data/Cyrillic/character27/0244_16.png  \n",
            "  inflating: omniglot/data/Cyrillic/character27/0244_02.png  \n",
            "  inflating: omniglot/data/Cyrillic/character27/0244_03.png  \n",
            "  inflating: omniglot/data/Cyrillic/character27/0244_17.png  \n",
            "  inflating: omniglot/data/Cyrillic/character27/0244_13.png  \n",
            "  inflating: omniglot/data/Cyrillic/character27/0244_07.png  \n",
            "  inflating: omniglot/data/Cyrillic/character27/0244_06.png  \n",
            "  inflating: omniglot/data/Cyrillic/character27/0244_12.png  \n",
            "  inflating: omniglot/data/Cyrillic/character27/0244_04.png  \n",
            "  inflating: omniglot/data/Cyrillic/character27/0244_10.png  \n",
            "  inflating: omniglot/data/Cyrillic/character27/0244_11.png  \n",
            "  inflating: omniglot/data/Cyrillic/character27/0244_05.png  \n",
            "  inflating: omniglot/data/Cyrillic/character18/0235_08.png  \n",
            "  inflating: omniglot/data/Cyrillic/character18/0235_20.png  \n",
            "  inflating: omniglot/data/Cyrillic/character18/0235_09.png  \n",
            "  inflating: omniglot/data/Cyrillic/character18/0235_19.png  \n",
            "  inflating: omniglot/data/Cyrillic/character18/0235_18.png  \n",
            "  inflating: omniglot/data/Cyrillic/character18/0235_15.png  \n",
            "  inflating: omniglot/data/Cyrillic/character18/0235_01.png  \n",
            "  inflating: omniglot/data/Cyrillic/character18/0235_14.png  \n",
            "  inflating: omniglot/data/Cyrillic/character18/0235_02.png  \n",
            "  inflating: omniglot/data/Cyrillic/character18/0235_16.png  \n",
            "  inflating: omniglot/data/Cyrillic/character18/0235_17.png  \n",
            "  inflating: omniglot/data/Cyrillic/character18/0235_03.png  \n",
            "  inflating: omniglot/data/Cyrillic/character18/0235_07.png  \n",
            "  inflating: omniglot/data/Cyrillic/character18/0235_13.png  \n",
            "  inflating: omniglot/data/Cyrillic/character18/0235_12.png  \n",
            "  inflating: omniglot/data/Cyrillic/character18/0235_06.png  \n",
            "  inflating: omniglot/data/Cyrillic/character18/0235_10.png  \n",
            "  inflating: omniglot/data/Cyrillic/character18/0235_04.png  \n",
            "  inflating: omniglot/data/Cyrillic/character18/0235_05.png  \n",
            "  inflating: omniglot/data/Cyrillic/character18/0235_11.png  \n",
            "  inflating: omniglot/data/Cyrillic/character26/0243_15.png  \n",
            "  inflating: omniglot/data/Cyrillic/character26/0243_01.png  \n",
            "  inflating: omniglot/data/Cyrillic/character26/0243_14.png  \n",
            "  inflating: omniglot/data/Cyrillic/character26/0243_02.png  \n",
            "  inflating: omniglot/data/Cyrillic/character26/0243_16.png  \n",
            "  inflating: omniglot/data/Cyrillic/character26/0243_17.png  \n",
            "  inflating: omniglot/data/Cyrillic/character26/0243_03.png  \n",
            "  inflating: omniglot/data/Cyrillic/character26/0243_07.png  \n",
            "  inflating: omniglot/data/Cyrillic/character26/0243_13.png  \n",
            "  inflating: omniglot/data/Cyrillic/character26/0243_12.png  \n",
            "  inflating: omniglot/data/Cyrillic/character26/0243_06.png  \n",
            "  inflating: omniglot/data/Cyrillic/character26/0243_10.png  \n",
            "  inflating: omniglot/data/Cyrillic/character26/0243_04.png  \n",
            "  inflating: omniglot/data/Cyrillic/character26/0243_05.png  \n",
            "  inflating: omniglot/data/Cyrillic/character26/0243_11.png  \n",
            "  inflating: omniglot/data/Cyrillic/character26/0243_08.png  \n",
            "  inflating: omniglot/data/Cyrillic/character26/0243_20.png  \n",
            "  inflating: omniglot/data/Cyrillic/character26/0243_09.png  \n",
            "  inflating: omniglot/data/Cyrillic/character26/0243_19.png  \n",
            "  inflating: omniglot/data/Cyrillic/character26/0243_18.png  \n",
            "  inflating: omniglot/data/Cyrillic/character19/0236_06.png  \n",
            "  inflating: omniglot/data/Cyrillic/character19/0236_12.png  \n",
            "  inflating: omniglot/data/Cyrillic/character19/0236_13.png  \n",
            "  inflating: omniglot/data/Cyrillic/character19/0236_07.png  \n",
            "  inflating: omniglot/data/Cyrillic/character19/0236_11.png  \n",
            "  inflating: omniglot/data/Cyrillic/character19/0236_05.png  \n",
            "  inflating: omniglot/data/Cyrillic/character19/0236_04.png  \n",
            "  inflating: omniglot/data/Cyrillic/character19/0236_10.png  \n",
            "  inflating: omniglot/data/Cyrillic/character19/0236_14.png  \n",
            "  inflating: omniglot/data/Cyrillic/character19/0236_01.png  \n",
            "  inflating: omniglot/data/Cyrillic/character19/0236_15.png  \n",
            "  inflating: omniglot/data/Cyrillic/character19/0236_03.png  \n",
            "  inflating: omniglot/data/Cyrillic/character19/0236_17.png  \n",
            "  inflating: omniglot/data/Cyrillic/character19/0236_16.png  \n",
            "  inflating: omniglot/data/Cyrillic/character19/0236_02.png  \n",
            "  inflating: omniglot/data/Cyrillic/character19/0236_18.png  \n",
            "  inflating: omniglot/data/Cyrillic/character19/0236_19.png  \n",
            "  inflating: omniglot/data/Cyrillic/character19/0236_09.png  \n",
            "  inflating: omniglot/data/Cyrillic/character19/0236_20.png  \n",
            "  inflating: omniglot/data/Cyrillic/character19/0236_08.png  \n",
            "  inflating: omniglot/data/Cyrillic/character21/0238_17.png  \n",
            "  inflating: omniglot/data/Cyrillic/character21/0238_03.png  \n",
            "  inflating: omniglot/data/Cyrillic/character21/0238_02.png  \n",
            "  inflating: omniglot/data/Cyrillic/character21/0238_16.png  \n",
            "  inflating: omniglot/data/Cyrillic/character21/0238_14.png  \n",
            "  inflating: omniglot/data/Cyrillic/character21/0238_15.png  \n",
            "  inflating: omniglot/data/Cyrillic/character21/0238_01.png  \n",
            "  inflating: omniglot/data/Cyrillic/character21/0238_05.png  \n",
            "  inflating: omniglot/data/Cyrillic/character21/0238_11.png  \n",
            "  inflating: omniglot/data/Cyrillic/character21/0238_10.png  \n",
            "  inflating: omniglot/data/Cyrillic/character21/0238_04.png  \n",
            "  inflating: omniglot/data/Cyrillic/character21/0238_12.png  \n",
            "  inflating: omniglot/data/Cyrillic/character21/0238_06.png  \n",
            "  inflating: omniglot/data/Cyrillic/character21/0238_07.png  \n",
            "  inflating: omniglot/data/Cyrillic/character21/0238_13.png  \n",
            "  inflating: omniglot/data/Cyrillic/character21/0238_09.png  \n",
            "  inflating: omniglot/data/Cyrillic/character21/0238_20.png  \n",
            "  inflating: omniglot/data/Cyrillic/character21/0238_08.png  \n",
            "  inflating: omniglot/data/Cyrillic/character21/0238_18.png  \n",
            "  inflating: omniglot/data/Cyrillic/character21/0238_19.png  \n",
            "  inflating: omniglot/data/Cyrillic/character17/0234_03.png  \n",
            "  inflating: omniglot/data/Cyrillic/character17/0234_17.png  \n",
            "  inflating: omniglot/data/Cyrillic/character17/0234_16.png  \n",
            "  inflating: omniglot/data/Cyrillic/character17/0234_02.png  \n",
            "  inflating: omniglot/data/Cyrillic/character17/0234_14.png  \n",
            "  inflating: omniglot/data/Cyrillic/character17/0234_01.png  \n",
            "  inflating: omniglot/data/Cyrillic/character17/0234_15.png  \n",
            "  inflating: omniglot/data/Cyrillic/character17/0234_11.png  \n",
            "  inflating: omniglot/data/Cyrillic/character17/0234_05.png  \n",
            "  inflating: omniglot/data/Cyrillic/character17/0234_04.png  \n",
            "  inflating: omniglot/data/Cyrillic/character17/0234_10.png  \n",
            "  inflating: omniglot/data/Cyrillic/character17/0234_06.png  \n",
            "  inflating: omniglot/data/Cyrillic/character17/0234_12.png  \n",
            "  inflating: omniglot/data/Cyrillic/character17/0234_13.png  \n",
            "  inflating: omniglot/data/Cyrillic/character17/0234_07.png  \n",
            "  inflating: omniglot/data/Cyrillic/character17/0234_09.png  \n",
            "  inflating: omniglot/data/Cyrillic/character17/0234_08.png  \n",
            "  inflating: omniglot/data/Cyrillic/character17/0234_20.png  \n",
            "  inflating: omniglot/data/Cyrillic/character17/0234_18.png  \n",
            "  inflating: omniglot/data/Cyrillic/character17/0234_19.png  \n",
            "  inflating: omniglot/data/Cyrillic/character28/0245_17.png  \n",
            "  inflating: omniglot/data/Cyrillic/character28/0245_03.png  \n",
            "  inflating: omniglot/data/Cyrillic/character28/0245_02.png  \n",
            "  inflating: omniglot/data/Cyrillic/character28/0245_16.png  \n",
            "  inflating: omniglot/data/Cyrillic/character28/0245_14.png  \n",
            "  inflating: omniglot/data/Cyrillic/character28/0245_15.png  \n",
            "  inflating: omniglot/data/Cyrillic/character28/0245_01.png  \n",
            "  inflating: omniglot/data/Cyrillic/character28/0245_05.png  \n",
            "  inflating: omniglot/data/Cyrillic/character28/0245_11.png  \n",
            "  inflating: omniglot/data/Cyrillic/character28/0245_10.png  \n",
            "  inflating: omniglot/data/Cyrillic/character28/0245_04.png  \n",
            "  inflating: omniglot/data/Cyrillic/character28/0245_12.png  \n",
            "  inflating: omniglot/data/Cyrillic/character28/0245_06.png  \n",
            "  inflating: omniglot/data/Cyrillic/character28/0245_07.png  \n",
            "  inflating: omniglot/data/Cyrillic/character28/0245_13.png  \n",
            "  inflating: omniglot/data/Cyrillic/character28/0245_09.png  \n",
            "  inflating: omniglot/data/Cyrillic/character28/0245_20.png  \n",
            "  inflating: omniglot/data/Cyrillic/character28/0245_08.png  \n",
            "  inflating: omniglot/data/Cyrillic/character28/0245_18.png  \n",
            "  inflating: omniglot/data/Cyrillic/character28/0245_19.png  \n",
            "  inflating: omniglot/data/Cyrillic/character10/0227_08.png  \n",
            "  inflating: omniglot/data/Cyrillic/character10/0227_20.png  \n",
            "  inflating: omniglot/data/Cyrillic/character10/0227_09.png  \n",
            "  inflating: omniglot/data/Cyrillic/character10/0227_19.png  \n",
            "  inflating: omniglot/data/Cyrillic/character10/0227_18.png  \n",
            "  inflating: omniglot/data/Cyrillic/character10/0227_01.png  \n",
            "  inflating: omniglot/data/Cyrillic/character10/0227_15.png  \n",
            "  inflating: omniglot/data/Cyrillic/character10/0227_14.png  \n",
            "  inflating: omniglot/data/Cyrillic/character10/0227_16.png  \n",
            "  inflating: omniglot/data/Cyrillic/character10/0227_02.png  \n",
            "  inflating: omniglot/data/Cyrillic/character10/0227_03.png  \n",
            "  inflating: omniglot/data/Cyrillic/character10/0227_17.png  \n",
            "  inflating: omniglot/data/Cyrillic/character10/0227_13.png  \n",
            "  inflating: omniglot/data/Cyrillic/character10/0227_07.png  \n",
            "  inflating: omniglot/data/Cyrillic/character10/0227_06.png  \n",
            "  inflating: omniglot/data/Cyrillic/character10/0227_12.png  \n",
            "  inflating: omniglot/data/Cyrillic/character10/0227_04.png  \n",
            "  inflating: omniglot/data/Cyrillic/character10/0227_10.png  \n",
            "  inflating: omniglot/data/Cyrillic/character10/0227_11.png  \n",
            "  inflating: omniglot/data/Cyrillic/character10/0227_05.png  \n",
            "  inflating: omniglot/data/Cyrillic/character32/0249_03.png  \n",
            "  inflating: omniglot/data/Cyrillic/character32/0249_17.png  \n",
            "  inflating: omniglot/data/Cyrillic/character32/0249_16.png  \n",
            "  inflating: omniglot/data/Cyrillic/character32/0249_02.png  \n",
            "  inflating: omniglot/data/Cyrillic/character32/0249_14.png  \n",
            "  inflating: omniglot/data/Cyrillic/character32/0249_01.png  \n",
            "  inflating: omniglot/data/Cyrillic/character32/0249_15.png  \n",
            "  inflating: omniglot/data/Cyrillic/character32/0249_11.png  \n",
            "  inflating: omniglot/data/Cyrillic/character32/0249_05.png  \n",
            "  inflating: omniglot/data/Cyrillic/character32/0249_04.png  \n",
            "  inflating: omniglot/data/Cyrillic/character32/0249_10.png  \n",
            "  inflating: omniglot/data/Cyrillic/character32/0249_06.png  \n",
            "  inflating: omniglot/data/Cyrillic/character32/0249_12.png  \n",
            "  inflating: omniglot/data/Cyrillic/character32/0249_13.png  \n",
            "  inflating: omniglot/data/Cyrillic/character32/0249_07.png  \n",
            "  inflating: omniglot/data/Cyrillic/character32/0249_09.png  \n",
            "  inflating: omniglot/data/Cyrillic/character32/0249_08.png  \n",
            "  inflating: omniglot/data/Cyrillic/character32/0249_20.png  \n",
            "  inflating: omniglot/data/Cyrillic/character32/0249_18.png  \n",
            "  inflating: omniglot/data/Cyrillic/character32/0249_19.png  \n",
            "  inflating: omniglot/data/Cyrillic/character03/0220_15.png  \n",
            "  inflating: omniglot/data/Cyrillic/character03/0220_01.png  \n",
            "  inflating: omniglot/data/Cyrillic/character03/0220_14.png  \n",
            "  inflating: omniglot/data/Cyrillic/character03/0220_02.png  \n",
            "  inflating: omniglot/data/Cyrillic/character03/0220_16.png  \n",
            "  inflating: omniglot/data/Cyrillic/character03/0220_17.png  \n",
            "  inflating: omniglot/data/Cyrillic/character03/0220_03.png  \n",
            "  inflating: omniglot/data/Cyrillic/character03/0220_07.png  \n",
            "  inflating: omniglot/data/Cyrillic/character03/0220_13.png  \n",
            "  inflating: omniglot/data/Cyrillic/character03/0220_12.png  \n",
            "  inflating: omniglot/data/Cyrillic/character03/0220_06.png  \n",
            "  inflating: omniglot/data/Cyrillic/character03/0220_10.png  \n",
            "  inflating: omniglot/data/Cyrillic/character03/0220_04.png  \n",
            "  inflating: omniglot/data/Cyrillic/character03/0220_05.png  \n",
            "  inflating: omniglot/data/Cyrillic/character03/0220_11.png  \n",
            "  inflating: omniglot/data/Cyrillic/character03/0220_20.png  \n",
            "  inflating: omniglot/data/Cyrillic/character03/0220_08.png  \n",
            "  inflating: omniglot/data/Cyrillic/character03/0220_09.png  \n",
            "  inflating: omniglot/data/Cyrillic/character03/0220_19.png  \n",
            "  inflating: omniglot/data/Cyrillic/character03/0220_18.png  \n",
            "  inflating: omniglot/data/Cyrillic/character04/0221_09.png  \n",
            "  inflating: omniglot/data/Cyrillic/character04/0221_20.png  \n",
            "  inflating: omniglot/data/Cyrillic/character04/0221_08.png  \n",
            "  inflating: omniglot/data/Cyrillic/character04/0221_18.png  \n",
            "  inflating: omniglot/data/Cyrillic/character04/0221_19.png  \n",
            "  inflating: omniglot/data/Cyrillic/character04/0221_03.png  \n",
            "  inflating: omniglot/data/Cyrillic/character04/0221_17.png  \n",
            "  inflating: omniglot/data/Cyrillic/character04/0221_16.png  \n",
            "  inflating: omniglot/data/Cyrillic/character04/0221_02.png  \n",
            "  inflating: omniglot/data/Cyrillic/character04/0221_14.png  \n",
            "  inflating: omniglot/data/Cyrillic/character04/0221_01.png  \n",
            "  inflating: omniglot/data/Cyrillic/character04/0221_15.png  \n",
            "  inflating: omniglot/data/Cyrillic/character04/0221_11.png  \n",
            "  inflating: omniglot/data/Cyrillic/character04/0221_05.png  \n",
            "  inflating: omniglot/data/Cyrillic/character04/0221_04.png  \n",
            "  inflating: omniglot/data/Cyrillic/character04/0221_10.png  \n",
            "  inflating: omniglot/data/Cyrillic/character04/0221_06.png  \n",
            "  inflating: omniglot/data/Cyrillic/character04/0221_12.png  \n",
            "  inflating: omniglot/data/Cyrillic/character04/0221_13.png  \n",
            "  inflating: omniglot/data/Cyrillic/character04/0221_07.png  \n",
            "  inflating: omniglot/data/Cyrillic/character05/0222_10.png  \n",
            "  inflating: omniglot/data/Cyrillic/character05/0222_04.png  \n",
            "  inflating: omniglot/data/Cyrillic/character05/0222_05.png  \n",
            "  inflating: omniglot/data/Cyrillic/character05/0222_11.png  \n",
            "  inflating: omniglot/data/Cyrillic/character05/0222_07.png  \n",
            "  inflating: omniglot/data/Cyrillic/character05/0222_13.png  \n",
            "  inflating: omniglot/data/Cyrillic/character05/0222_12.png  \n",
            "  inflating: omniglot/data/Cyrillic/character05/0222_06.png  \n",
            "  inflating: omniglot/data/Cyrillic/character05/0222_02.png  \n",
            "  inflating: omniglot/data/Cyrillic/character05/0222_16.png  \n",
            "  inflating: omniglot/data/Cyrillic/character05/0222_17.png  \n",
            "  inflating: omniglot/data/Cyrillic/character05/0222_03.png  \n",
            "  inflating: omniglot/data/Cyrillic/character05/0222_15.png  \n",
            "  inflating: omniglot/data/Cyrillic/character05/0222_01.png  \n",
            "  inflating: omniglot/data/Cyrillic/character05/0222_14.png  \n",
            "  inflating: omniglot/data/Cyrillic/character05/0222_19.png  \n",
            "  inflating: omniglot/data/Cyrillic/character05/0222_18.png  \n",
            "  inflating: omniglot/data/Cyrillic/character05/0222_08.png  \n",
            "  inflating: omniglot/data/Cyrillic/character05/0222_20.png  \n",
            "  inflating: omniglot/data/Cyrillic/character05/0222_09.png  \n",
            "  inflating: omniglot/data/Cyrillic/character02/0219_19.png  \n",
            "  inflating: omniglot/data/Cyrillic/character02/0219_18.png  \n",
            "  inflating: omniglot/data/Cyrillic/character02/0219_08.png  \n",
            "  inflating: omniglot/data/Cyrillic/character02/0219_20.png  \n",
            "  inflating: omniglot/data/Cyrillic/character02/0219_09.png  \n",
            "  inflating: omniglot/data/Cyrillic/character02/0219_07.png  \n",
            "  inflating: omniglot/data/Cyrillic/character02/0219_13.png  \n",
            "  inflating: omniglot/data/Cyrillic/character02/0219_12.png  \n",
            "  inflating: omniglot/data/Cyrillic/character02/0219_06.png  \n",
            "  inflating: omniglot/data/Cyrillic/character02/0219_10.png  \n",
            "  inflating: omniglot/data/Cyrillic/character02/0219_04.png  \n",
            "  inflating: omniglot/data/Cyrillic/character02/0219_05.png  \n",
            "  inflating: omniglot/data/Cyrillic/character02/0219_11.png  \n",
            "  inflating: omniglot/data/Cyrillic/character02/0219_15.png  \n",
            "  inflating: omniglot/data/Cyrillic/character02/0219_01.png  \n",
            "  inflating: omniglot/data/Cyrillic/character02/0219_14.png  \n",
            "  inflating: omniglot/data/Cyrillic/character02/0219_02.png  \n",
            "  inflating: omniglot/data/Cyrillic/character02/0219_16.png  \n",
            "  inflating: omniglot/data/Cyrillic/character02/0219_17.png  \n",
            "  inflating: omniglot/data/Cyrillic/character02/0219_03.png  \n",
            "  inflating: omniglot/data/Cyrillic/character33/0250_09.png  \n",
            "  inflating: omniglot/data/Cyrillic/character33/0250_08.png  \n",
            "  inflating: omniglot/data/Cyrillic/character33/0250_20.png  \n",
            "  inflating: omniglot/data/Cyrillic/character33/0250_18.png  \n",
            "  inflating: omniglot/data/Cyrillic/character33/0250_19.png  \n",
            "  inflating: omniglot/data/Cyrillic/character33/0250_17.png  \n",
            "  inflating: omniglot/data/Cyrillic/character33/0250_03.png  \n",
            "  inflating: omniglot/data/Cyrillic/character33/0250_02.png  \n",
            "  inflating: omniglot/data/Cyrillic/character33/0250_16.png  \n",
            "  inflating: omniglot/data/Cyrillic/character33/0250_14.png  \n",
            "  inflating: omniglot/data/Cyrillic/character33/0250_15.png  \n",
            "  inflating: omniglot/data/Cyrillic/character33/0250_01.png  \n",
            "  inflating: omniglot/data/Cyrillic/character33/0250_05.png  \n",
            "  inflating: omniglot/data/Cyrillic/character33/0250_11.png  \n",
            "  inflating: omniglot/data/Cyrillic/character33/0250_10.png  \n",
            "  inflating: omniglot/data/Cyrillic/character33/0250_04.png  \n",
            "  inflating: omniglot/data/Cyrillic/character33/0250_12.png  \n",
            "  inflating: omniglot/data/Cyrillic/character33/0250_06.png  \n",
            "  inflating: omniglot/data/Cyrillic/character33/0250_07.png  \n",
            "  inflating: omniglot/data/Cyrillic/character33/0250_13.png  \n",
            "  inflating: omniglot/data/Cyrillic/character15/0232_01.png  \n",
            "  inflating: omniglot/data/Cyrillic/character15/0232_15.png  \n",
            "  inflating: omniglot/data/Cyrillic/character15/0232_14.png  \n",
            "  inflating: omniglot/data/Cyrillic/character15/0232_16.png  \n",
            "  inflating: omniglot/data/Cyrillic/character15/0232_02.png  \n",
            "  inflating: omniglot/data/Cyrillic/character15/0232_03.png  \n",
            "  inflating: omniglot/data/Cyrillic/character15/0232_17.png  \n",
            "  inflating: omniglot/data/Cyrillic/character15/0232_13.png  \n",
            "  inflating: omniglot/data/Cyrillic/character15/0232_07.png  \n",
            "  inflating: omniglot/data/Cyrillic/character15/0232_06.png  \n",
            "  inflating: omniglot/data/Cyrillic/character15/0232_12.png  \n",
            "  inflating: omniglot/data/Cyrillic/character15/0232_04.png  \n",
            "  inflating: omniglot/data/Cyrillic/character15/0232_10.png  \n",
            "  inflating: omniglot/data/Cyrillic/character15/0232_11.png  \n",
            "  inflating: omniglot/data/Cyrillic/character15/0232_05.png  \n",
            "  inflating: omniglot/data/Cyrillic/character15/0232_20.png  \n",
            "  inflating: omniglot/data/Cyrillic/character15/0232_08.png  \n",
            "  inflating: omniglot/data/Cyrillic/character15/0232_09.png  \n",
            "  inflating: omniglot/data/Cyrillic/character15/0232_19.png  \n",
            "  inflating: omniglot/data/Cyrillic/character15/0232_18.png  \n",
            "  inflating: omniglot/data/Cyrillic/character12/0229_19.png  \n",
            "  inflating: omniglot/data/Cyrillic/character12/0229_18.png  \n",
            "  inflating: omniglot/data/Cyrillic/character12/0229_08.png  \n",
            "  inflating: omniglot/data/Cyrillic/character12/0229_20.png  \n",
            "  inflating: omniglot/data/Cyrillic/character12/0229_09.png  \n",
            "  inflating: omniglot/data/Cyrillic/character12/0229_10.png  \n",
            "  inflating: omniglot/data/Cyrillic/character12/0229_04.png  \n",
            "  inflating: omniglot/data/Cyrillic/character12/0229_05.png  \n",
            "  inflating: omniglot/data/Cyrillic/character12/0229_11.png  \n",
            "  inflating: omniglot/data/Cyrillic/character12/0229_07.png  \n",
            "  inflating: omniglot/data/Cyrillic/character12/0229_13.png  \n",
            "  inflating: omniglot/data/Cyrillic/character12/0229_12.png  \n",
            "  inflating: omniglot/data/Cyrillic/character12/0229_06.png  \n",
            "  inflating: omniglot/data/Cyrillic/character12/0229_02.png  \n",
            "  inflating: omniglot/data/Cyrillic/character12/0229_16.png  \n",
            "  inflating: omniglot/data/Cyrillic/character12/0229_17.png  \n",
            "  inflating: omniglot/data/Cyrillic/character12/0229_03.png  \n",
            "  inflating: omniglot/data/Cyrillic/character12/0229_15.png  \n",
            "  inflating: omniglot/data/Cyrillic/character12/0229_01.png  \n",
            "  inflating: omniglot/data/Cyrillic/character12/0229_14.png  \n",
            "  inflating: omniglot/data/Cyrillic/character24/0241_10.png  \n",
            "  inflating: omniglot/data/Cyrillic/character24/0241_04.png  \n",
            "  inflating: omniglot/data/Cyrillic/character24/0241_05.png  \n",
            "  inflating: omniglot/data/Cyrillic/character24/0241_11.png  \n",
            "  inflating: omniglot/data/Cyrillic/character24/0241_07.png  \n",
            "  inflating: omniglot/data/Cyrillic/character24/0241_13.png  \n",
            "  inflating: omniglot/data/Cyrillic/character24/0241_12.png  \n",
            "  inflating: omniglot/data/Cyrillic/character24/0241_06.png  \n",
            "  inflating: omniglot/data/Cyrillic/character24/0241_02.png  \n",
            "  inflating: omniglot/data/Cyrillic/character24/0241_16.png  \n",
            "  inflating: omniglot/data/Cyrillic/character24/0241_17.png  \n",
            "  inflating: omniglot/data/Cyrillic/character24/0241_03.png  \n",
            "  inflating: omniglot/data/Cyrillic/character24/0241_15.png  \n",
            "  inflating: omniglot/data/Cyrillic/character24/0241_01.png  \n",
            "  inflating: omniglot/data/Cyrillic/character24/0241_14.png  \n",
            "  inflating: omniglot/data/Cyrillic/character24/0241_19.png  \n",
            "  inflating: omniglot/data/Cyrillic/character24/0241_18.png  \n",
            "  inflating: omniglot/data/Cyrillic/character24/0241_20.png  \n",
            "  inflating: omniglot/data/Cyrillic/character24/0241_08.png  \n",
            "  inflating: omniglot/data/Cyrillic/character24/0241_09.png  \n",
            "  inflating: omniglot/data/Cyrillic/character23/0240_18.png  \n",
            "  inflating: omniglot/data/Cyrillic/character23/0240_19.png  \n",
            "  inflating: omniglot/data/Cyrillic/character23/0240_09.png  \n",
            "  inflating: omniglot/data/Cyrillic/character23/0240_20.png  \n",
            "  inflating: omniglot/data/Cyrillic/character23/0240_08.png  \n",
            "  inflating: omniglot/data/Cyrillic/character23/0240_06.png  \n",
            "  inflating: omniglot/data/Cyrillic/character23/0240_12.png  \n",
            "  inflating: omniglot/data/Cyrillic/character23/0240_13.png  \n",
            "  inflating: omniglot/data/Cyrillic/character23/0240_07.png  \n",
            "  inflating: omniglot/data/Cyrillic/character23/0240_11.png  \n",
            "  inflating: omniglot/data/Cyrillic/character23/0240_05.png  \n",
            "  inflating: omniglot/data/Cyrillic/character23/0240_04.png  \n",
            "  inflating: omniglot/data/Cyrillic/character23/0240_10.png  \n",
            "  inflating: omniglot/data/Cyrillic/character23/0240_14.png  \n",
            "  inflating: omniglot/data/Cyrillic/character23/0240_01.png  \n",
            "  inflating: omniglot/data/Cyrillic/character23/0240_15.png  \n",
            "  inflating: omniglot/data/Cyrillic/character23/0240_03.png  \n",
            "  inflating: omniglot/data/Cyrillic/character23/0240_17.png  \n",
            "  inflating: omniglot/data/Cyrillic/character23/0240_16.png  \n",
            "  inflating: omniglot/data/Cyrillic/character23/0240_02.png  \n",
            "  inflating: omniglot/data/Cyrillic/character22/0239_20.png  \n",
            "  inflating: omniglot/data/Cyrillic/character22/0239_08.png  \n",
            "  inflating: omniglot/data/Cyrillic/character22/0239_09.png  \n",
            "  inflating: omniglot/data/Cyrillic/character22/0239_19.png  \n",
            "  inflating: omniglot/data/Cyrillic/character22/0239_18.png  \n",
            "  inflating: omniglot/data/Cyrillic/character22/0239_01.png  \n",
            "  inflating: omniglot/data/Cyrillic/character22/0239_15.png  \n",
            "  inflating: omniglot/data/Cyrillic/character22/0239_14.png  \n",
            "  inflating: omniglot/data/Cyrillic/character22/0239_16.png  \n",
            "  inflating: omniglot/data/Cyrillic/character22/0239_02.png  \n",
            "  inflating: omniglot/data/Cyrillic/character22/0239_03.png  \n",
            "  inflating: omniglot/data/Cyrillic/character22/0239_17.png  \n",
            "  inflating: omniglot/data/Cyrillic/character22/0239_13.png  \n",
            "  inflating: omniglot/data/Cyrillic/character22/0239_07.png  \n",
            "  inflating: omniglot/data/Cyrillic/character22/0239_06.png  \n",
            "  inflating: omniglot/data/Cyrillic/character22/0239_12.png  \n",
            "  inflating: omniglot/data/Cyrillic/character22/0239_04.png  \n",
            "  inflating: omniglot/data/Cyrillic/character22/0239_10.png  \n",
            "  inflating: omniglot/data/Cyrillic/character22/0239_11.png  \n",
            "  inflating: omniglot/data/Cyrillic/character22/0239_05.png  \n",
            "  inflating: omniglot/data/Cyrillic/character25/0242_09.png  \n",
            "  inflating: omniglot/data/Cyrillic/character25/0242_08.png  \n",
            "  inflating: omniglot/data/Cyrillic/character25/0242_20.png  \n",
            "  inflating: omniglot/data/Cyrillic/character25/0242_18.png  \n",
            "  inflating: omniglot/data/Cyrillic/character25/0242_19.png  \n",
            "  inflating: omniglot/data/Cyrillic/character25/0242_03.png  \n",
            "  inflating: omniglot/data/Cyrillic/character25/0242_17.png  \n",
            "  inflating: omniglot/data/Cyrillic/character25/0242_16.png  \n",
            "  inflating: omniglot/data/Cyrillic/character25/0242_02.png  \n",
            "  inflating: omniglot/data/Cyrillic/character25/0242_14.png  \n",
            "  inflating: omniglot/data/Cyrillic/character25/0242_01.png  \n",
            "  inflating: omniglot/data/Cyrillic/character25/0242_15.png  \n",
            "  inflating: omniglot/data/Cyrillic/character25/0242_11.png  \n",
            "  inflating: omniglot/data/Cyrillic/character25/0242_05.png  \n",
            "  inflating: omniglot/data/Cyrillic/character25/0242_04.png  \n",
            "  inflating: omniglot/data/Cyrillic/character25/0242_10.png  \n",
            "  inflating: omniglot/data/Cyrillic/character25/0242_06.png  \n",
            "  inflating: omniglot/data/Cyrillic/character25/0242_12.png  \n",
            "  inflating: omniglot/data/Cyrillic/character25/0242_13.png  \n",
            "  inflating: omniglot/data/Cyrillic/character25/0242_07.png  \n",
            "  inflating: omniglot/data/Cyrillic/character13/0230_04.png  \n",
            "  inflating: omniglot/data/Cyrillic/character13/0230_10.png  \n",
            "  inflating: omniglot/data/Cyrillic/character13/0230_11.png  \n",
            "  inflating: omniglot/data/Cyrillic/character13/0230_05.png  \n",
            "  inflating: omniglot/data/Cyrillic/character13/0230_13.png  \n",
            "  inflating: omniglot/data/Cyrillic/character13/0230_07.png  \n",
            "  inflating: omniglot/data/Cyrillic/character13/0230_06.png  \n",
            "  inflating: omniglot/data/Cyrillic/character13/0230_12.png  \n",
            "  inflating: omniglot/data/Cyrillic/character13/0230_16.png  \n",
            "  inflating: omniglot/data/Cyrillic/character13/0230_02.png  \n",
            "  inflating: omniglot/data/Cyrillic/character13/0230_03.png  \n",
            "  inflating: omniglot/data/Cyrillic/character13/0230_17.png  \n",
            "  inflating: omniglot/data/Cyrillic/character13/0230_01.png  \n",
            "  inflating: omniglot/data/Cyrillic/character13/0230_15.png  \n",
            "  inflating: omniglot/data/Cyrillic/character13/0230_14.png  \n",
            "  inflating: omniglot/data/Cyrillic/character13/0230_19.png  \n",
            "  inflating: omniglot/data/Cyrillic/character13/0230_18.png  \n",
            "  inflating: omniglot/data/Cyrillic/character13/0230_08.png  \n",
            "  inflating: omniglot/data/Cyrillic/character13/0230_20.png  \n",
            "  inflating: omniglot/data/Cyrillic/character13/0230_09.png  \n",
            "  inflating: omniglot/data/Cyrillic/character14/0231_18.png  \n",
            "  inflating: omniglot/data/Cyrillic/character14/0231_19.png  \n",
            "  inflating: omniglot/data/Cyrillic/character14/0231_09.png  \n",
            "  inflating: omniglot/data/Cyrillic/character14/0231_08.png  \n",
            "  inflating: omniglot/data/Cyrillic/character14/0231_20.png  \n",
            "  inflating: omniglot/data/Cyrillic/character14/0231_12.png  \n",
            "  inflating: omniglot/data/Cyrillic/character14/0231_06.png  \n",
            "  inflating: omniglot/data/Cyrillic/character14/0231_07.png  \n",
            "  inflating: omniglot/data/Cyrillic/character14/0231_13.png  \n",
            "  inflating: omniglot/data/Cyrillic/character14/0231_05.png  \n",
            "  inflating: omniglot/data/Cyrillic/character14/0231_11.png  \n",
            "  inflating: omniglot/data/Cyrillic/character14/0231_10.png  \n",
            "  inflating: omniglot/data/Cyrillic/character14/0231_04.png  \n",
            "  inflating: omniglot/data/Cyrillic/character14/0231_14.png  \n",
            "  inflating: omniglot/data/Cyrillic/character14/0231_15.png  \n",
            "  inflating: omniglot/data/Cyrillic/character14/0231_01.png  \n",
            "  inflating: omniglot/data/Cyrillic/character14/0231_17.png  \n",
            "  inflating: omniglot/data/Cyrillic/character14/0231_03.png  \n",
            "  inflating: omniglot/data/Cyrillic/character14/0231_02.png  \n",
            "  inflating: omniglot/data/Cyrillic/character14/0231_16.png  \n",
            "  inflating: omniglot/data/Cyrillic/character09/0226_17.png  \n",
            "  inflating: omniglot/data/Cyrillic/character09/0226_03.png  \n",
            "  inflating: omniglot/data/Cyrillic/character09/0226_02.png  \n",
            "  inflating: omniglot/data/Cyrillic/character09/0226_16.png  \n",
            "  inflating: omniglot/data/Cyrillic/character09/0226_14.png  \n",
            "  inflating: omniglot/data/Cyrillic/character09/0226_15.png  \n",
            "  inflating: omniglot/data/Cyrillic/character09/0226_01.png  \n",
            "  inflating: omniglot/data/Cyrillic/character09/0226_05.png  \n",
            "  inflating: omniglot/data/Cyrillic/character09/0226_11.png  \n",
            "  inflating: omniglot/data/Cyrillic/character09/0226_10.png  \n",
            "  inflating: omniglot/data/Cyrillic/character09/0226_04.png  \n",
            "  inflating: omniglot/data/Cyrillic/character09/0226_12.png  \n",
            "  inflating: omniglot/data/Cyrillic/character09/0226_06.png  \n",
            "  inflating: omniglot/data/Cyrillic/character09/0226_07.png  \n",
            "  inflating: omniglot/data/Cyrillic/character09/0226_13.png  \n",
            "  inflating: omniglot/data/Cyrillic/character09/0226_09.png  \n",
            "  inflating: omniglot/data/Cyrillic/character09/0226_08.png  \n",
            "  inflating: omniglot/data/Cyrillic/character09/0226_20.png  \n",
            "  inflating: omniglot/data/Cyrillic/character09/0226_18.png  \n",
            "  inflating: omniglot/data/Cyrillic/character09/0226_19.png  \n",
            "  inflating: omniglot/data/Cyrillic/character31/0248_08.png  \n",
            "  inflating: omniglot/data/Cyrillic/character31/0248_20.png  \n",
            "  inflating: omniglot/data/Cyrillic/character31/0248_09.png  \n",
            "  inflating: omniglot/data/Cyrillic/character31/0248_19.png  \n",
            "  inflating: omniglot/data/Cyrillic/character31/0248_18.png  \n",
            "  inflating: omniglot/data/Cyrillic/character31/0248_15.png  \n",
            "  inflating: omniglot/data/Cyrillic/character31/0248_01.png  \n",
            "  inflating: omniglot/data/Cyrillic/character31/0248_14.png  \n",
            "  inflating: omniglot/data/Cyrillic/character31/0248_02.png  \n",
            "  inflating: omniglot/data/Cyrillic/character31/0248_16.png  \n",
            "  inflating: omniglot/data/Cyrillic/character31/0248_17.png  \n",
            "  inflating: omniglot/data/Cyrillic/character31/0248_03.png  \n",
            "  inflating: omniglot/data/Cyrillic/character31/0248_07.png  \n",
            "  inflating: omniglot/data/Cyrillic/character31/0248_13.png  \n",
            "  inflating: omniglot/data/Cyrillic/character31/0248_12.png  \n",
            "  inflating: omniglot/data/Cyrillic/character31/0248_06.png  \n",
            "  inflating: omniglot/data/Cyrillic/character31/0248_10.png  \n",
            "  inflating: omniglot/data/Cyrillic/character31/0248_04.png  \n",
            "  inflating: omniglot/data/Cyrillic/character31/0248_05.png  \n",
            "  inflating: omniglot/data/Cyrillic/character31/0248_11.png  \n",
            "  inflating: omniglot/data/Cyrillic/character07/0224_12.png  \n",
            "  inflating: omniglot/data/Cyrillic/character07/0224_06.png  \n",
            "  inflating: omniglot/data/Cyrillic/character07/0224_07.png  \n",
            "  inflating: omniglot/data/Cyrillic/character07/0224_13.png  \n",
            "  inflating: omniglot/data/Cyrillic/character07/0224_05.png  \n",
            "  inflating: omniglot/data/Cyrillic/character07/0224_11.png  \n",
            "  inflating: omniglot/data/Cyrillic/character07/0224_10.png  \n",
            "  inflating: omniglot/data/Cyrillic/character07/0224_04.png  \n",
            "  inflating: omniglot/data/Cyrillic/character07/0224_14.png  \n",
            "  inflating: omniglot/data/Cyrillic/character07/0224_15.png  \n",
            "  inflating: omniglot/data/Cyrillic/character07/0224_01.png  \n",
            "  inflating: omniglot/data/Cyrillic/character07/0224_17.png  \n",
            "  inflating: omniglot/data/Cyrillic/character07/0224_03.png  \n",
            "  inflating: omniglot/data/Cyrillic/character07/0224_02.png  \n",
            "  inflating: omniglot/data/Cyrillic/character07/0224_16.png  \n",
            "  inflating: omniglot/data/Cyrillic/character07/0224_18.png  \n",
            "  inflating: omniglot/data/Cyrillic/character07/0224_19.png  \n",
            "  inflating: omniglot/data/Cyrillic/character07/0224_09.png  \n",
            "  inflating: omniglot/data/Cyrillic/character07/0224_20.png  \n",
            "  inflating: omniglot/data/Cyrillic/character07/0224_08.png  \n",
            "  inflating: omniglot/data/Cyrillic/character01/0218_11.png  \n",
            "  inflating: omniglot/data/Cyrillic/character01/0218_05.png  \n",
            "  inflating: omniglot/data/Cyrillic/character01/0218_04.png  \n",
            "  inflating: omniglot/data/Cyrillic/character01/0218_10.png  \n",
            "  inflating: omniglot/data/Cyrillic/character01/0218_06.png  \n",
            "  inflating: omniglot/data/Cyrillic/character01/0218_12.png  \n",
            "  inflating: omniglot/data/Cyrillic/character01/0218_13.png  \n",
            "  inflating: omniglot/data/Cyrillic/character01/0218_07.png  \n",
            "  inflating: omniglot/data/Cyrillic/character01/0218_03.png  \n",
            "  inflating: omniglot/data/Cyrillic/character01/0218_17.png  \n",
            "  inflating: omniglot/data/Cyrillic/character01/0218_16.png  \n",
            "  inflating: omniglot/data/Cyrillic/character01/0218_02.png  \n",
            "  inflating: omniglot/data/Cyrillic/character01/0218_14.png  \n",
            "  inflating: omniglot/data/Cyrillic/character01/0218_01.png  \n",
            "  inflating: omniglot/data/Cyrillic/character01/0218_15.png  \n",
            "  inflating: omniglot/data/Cyrillic/character01/0218_18.png  \n",
            "  inflating: omniglot/data/Cyrillic/character01/0218_19.png  \n",
            "  inflating: omniglot/data/Cyrillic/character01/0218_09.png  \n",
            "  inflating: omniglot/data/Cyrillic/character01/0218_08.png  \n",
            "  inflating: omniglot/data/Cyrillic/character01/0218_20.png  \n",
            "  inflating: omniglot/data/Cyrillic/character06/0223_18.png  \n",
            "  inflating: omniglot/data/Cyrillic/character06/0223_19.png  \n",
            "  inflating: omniglot/data/Cyrillic/character06/0223_09.png  \n",
            "  inflating: omniglot/data/Cyrillic/character06/0223_08.png  \n",
            "  inflating: omniglot/data/Cyrillic/character06/0223_20.png  \n",
            "  inflating: omniglot/data/Cyrillic/character06/0223_06.png  \n",
            "  inflating: omniglot/data/Cyrillic/character06/0223_12.png  \n",
            "  inflating: omniglot/data/Cyrillic/character06/0223_13.png  \n",
            "  inflating: omniglot/data/Cyrillic/character06/0223_07.png  \n",
            "  inflating: omniglot/data/Cyrillic/character06/0223_11.png  \n",
            "  inflating: omniglot/data/Cyrillic/character06/0223_05.png  \n",
            "  inflating: omniglot/data/Cyrillic/character06/0223_04.png  \n",
            "  inflating: omniglot/data/Cyrillic/character06/0223_10.png  \n",
            "  inflating: omniglot/data/Cyrillic/character06/0223_14.png  \n",
            "  inflating: omniglot/data/Cyrillic/character06/0223_01.png  \n",
            "  inflating: omniglot/data/Cyrillic/character06/0223_15.png  \n",
            "  inflating: omniglot/data/Cyrillic/character06/0223_03.png  \n",
            "  inflating: omniglot/data/Cyrillic/character06/0223_17.png  \n",
            "  inflating: omniglot/data/Cyrillic/character06/0223_16.png  \n",
            "  inflating: omniglot/data/Cyrillic/character06/0223_02.png  \n",
            "  inflating: omniglot/data/Cyrillic/character30/0247_12.png  \n",
            "  inflating: omniglot/data/Cyrillic/character30/0247_06.png  \n",
            "  inflating: omniglot/data/Cyrillic/character30/0247_07.png  \n",
            "  inflating: omniglot/data/Cyrillic/character30/0247_13.png  \n",
            "  inflating: omniglot/data/Cyrillic/character30/0247_05.png  \n",
            "  inflating: omniglot/data/Cyrillic/character30/0247_11.png  \n",
            "  inflating: omniglot/data/Cyrillic/character30/0247_10.png  \n",
            "  inflating: omniglot/data/Cyrillic/character30/0247_04.png  \n",
            "  inflating: omniglot/data/Cyrillic/character30/0247_14.png  \n",
            "  inflating: omniglot/data/Cyrillic/character30/0247_15.png  \n",
            "  inflating: omniglot/data/Cyrillic/character30/0247_01.png  \n",
            "  inflating: omniglot/data/Cyrillic/character30/0247_17.png  \n",
            "  inflating: omniglot/data/Cyrillic/character30/0247_03.png  \n",
            "  inflating: omniglot/data/Cyrillic/character30/0247_02.png  \n",
            "  inflating: omniglot/data/Cyrillic/character30/0247_16.png  \n",
            "  inflating: omniglot/data/Cyrillic/character30/0247_18.png  \n",
            "  inflating: omniglot/data/Cyrillic/character30/0247_19.png  \n",
            "  inflating: omniglot/data/Cyrillic/character30/0247_09.png  \n",
            "  inflating: omniglot/data/Cyrillic/character30/0247_08.png  \n",
            "  inflating: omniglot/data/Cyrillic/character30/0247_20.png  \n",
            "  inflating: omniglot/data/Cyrillic/character08/0225_19.png  \n",
            "  inflating: omniglot/data/Cyrillic/character08/0225_18.png  \n",
            "  inflating: omniglot/data/Cyrillic/character08/0225_20.png  \n",
            "  inflating: omniglot/data/Cyrillic/character08/0225_08.png  \n",
            "  inflating: omniglot/data/Cyrillic/character08/0225_09.png  \n",
            "  inflating: omniglot/data/Cyrillic/character08/0225_04.png  \n",
            "  inflating: omniglot/data/Cyrillic/character08/0225_10.png  \n",
            "  inflating: omniglot/data/Cyrillic/character08/0225_11.png  \n",
            "  inflating: omniglot/data/Cyrillic/character08/0225_05.png  \n",
            "  inflating: omniglot/data/Cyrillic/character08/0225_13.png  \n",
            "  inflating: omniglot/data/Cyrillic/character08/0225_07.png  \n",
            "  inflating: omniglot/data/Cyrillic/character08/0225_06.png  \n",
            "  inflating: omniglot/data/Cyrillic/character08/0225_12.png  \n",
            "  inflating: omniglot/data/Cyrillic/character08/0225_16.png  \n",
            "  inflating: omniglot/data/Cyrillic/character08/0225_02.png  \n",
            "  inflating: omniglot/data/Cyrillic/character08/0225_03.png  \n",
            "  inflating: omniglot/data/Cyrillic/character08/0225_17.png  \n",
            "  inflating: omniglot/data/Cyrillic/character08/0225_01.png  \n",
            "  inflating: omniglot/data/Cyrillic/character08/0225_15.png  \n",
            "  inflating: omniglot/data/Cyrillic/character08/0225_14.png  \n",
            "  inflating: omniglot/data/Bengali/character42/0173_19.png  \n",
            "  inflating: omniglot/data/Bengali/character42/0173_18.png  \n",
            "  inflating: omniglot/data/Bengali/character42/0173_08.png  \n",
            "  inflating: omniglot/data/Bengali/character42/0173_20.png  \n",
            "  inflating: omniglot/data/Bengali/character42/0173_09.png  \n",
            "  inflating: omniglot/data/Bengali/character42/0173_07.png  \n",
            "  inflating: omniglot/data/Bengali/character42/0173_13.png  \n",
            "  inflating: omniglot/data/Bengali/character42/0173_12.png  \n",
            "  inflating: omniglot/data/Bengali/character42/0173_06.png  \n",
            "  inflating: omniglot/data/Bengali/character42/0173_10.png  \n",
            "  inflating: omniglot/data/Bengali/character42/0173_04.png  \n",
            "  inflating: omniglot/data/Bengali/character42/0173_05.png  \n",
            "  inflating: omniglot/data/Bengali/character42/0173_11.png  \n",
            "  inflating: omniglot/data/Bengali/character42/0173_15.png  \n",
            "  inflating: omniglot/data/Bengali/character42/0173_01.png  \n",
            "  inflating: omniglot/data/Bengali/character42/0173_14.png  \n",
            "  inflating: omniglot/data/Bengali/character42/0173_02.png  \n",
            "  inflating: omniglot/data/Bengali/character42/0173_16.png  \n",
            "  inflating: omniglot/data/Bengali/character42/0173_17.png  \n",
            "  inflating: omniglot/data/Bengali/character42/0173_03.png  \n",
            "  inflating: omniglot/data/Bengali/character45/0176_16.png  \n",
            "  inflating: omniglot/data/Bengali/character45/0176_02.png  \n",
            "  inflating: omniglot/data/Bengali/character45/0176_03.png  \n",
            "  inflating: omniglot/data/Bengali/character45/0176_17.png  \n",
            "  inflating: omniglot/data/Bengali/character45/0176_01.png  \n",
            "  inflating: omniglot/data/Bengali/character45/0176_15.png  \n",
            "  inflating: omniglot/data/Bengali/character45/0176_14.png  \n",
            "  inflating: omniglot/data/Bengali/character45/0176_04.png  \n",
            "  inflating: omniglot/data/Bengali/character45/0176_10.png  \n",
            "  inflating: omniglot/data/Bengali/character45/0176_11.png  \n",
            "  inflating: omniglot/data/Bengali/character45/0176_05.png  \n",
            "  inflating: omniglot/data/Bengali/character45/0176_13.png  \n",
            "  inflating: omniglot/data/Bengali/character45/0176_07.png  \n",
            "  inflating: omniglot/data/Bengali/character45/0176_06.png  \n",
            "  inflating: omniglot/data/Bengali/character45/0176_12.png  \n",
            "  inflating: omniglot/data/Bengali/character45/0176_08.png  \n",
            "  inflating: omniglot/data/Bengali/character45/0176_20.png  \n",
            "  inflating: omniglot/data/Bengali/character45/0176_09.png  \n",
            "  inflating: omniglot/data/Bengali/character45/0176_19.png  \n",
            "  inflating: omniglot/data/Bengali/character45/0176_18.png  \n",
            "  inflating: omniglot/data/Bengali/character11/0142_06.png  \n",
            "  inflating: omniglot/data/Bengali/character11/0142_12.png  \n",
            "  inflating: omniglot/data/Bengali/character11/0142_13.png  \n",
            "  inflating: omniglot/data/Bengali/character11/0142_07.png  \n",
            "  inflating: omniglot/data/Bengali/character11/0142_11.png  \n",
            "  inflating: omniglot/data/Bengali/character11/0142_05.png  \n",
            "  inflating: omniglot/data/Bengali/character11/0142_04.png  \n",
            "  inflating: omniglot/data/Bengali/character11/0142_10.png  \n",
            "  inflating: omniglot/data/Bengali/character11/0142_14.png  \n",
            "  inflating: omniglot/data/Bengali/character11/0142_01.png  \n",
            "  inflating: omniglot/data/Bengali/character11/0142_15.png  \n",
            "  inflating: omniglot/data/Bengali/character11/0142_03.png  \n",
            "  inflating: omniglot/data/Bengali/character11/0142_17.png  \n",
            "  inflating: omniglot/data/Bengali/character11/0142_16.png  \n",
            "  inflating: omniglot/data/Bengali/character11/0142_02.png  \n",
            "  inflating: omniglot/data/Bengali/character11/0142_18.png  \n",
            "  inflating: omniglot/data/Bengali/character11/0142_19.png  \n",
            "  inflating: omniglot/data/Bengali/character11/0142_09.png  \n",
            "  inflating: omniglot/data/Bengali/character11/0142_08.png  \n",
            "  inflating: omniglot/data/Bengali/character11/0142_20.png  \n",
            "  inflating: omniglot/data/Bengali/character16/0147_09.png  \n",
            "  inflating: omniglot/data/Bengali/character16/0147_08.png  \n",
            "  inflating: omniglot/data/Bengali/character16/0147_20.png  \n",
            "  inflating: omniglot/data/Bengali/character16/0147_18.png  \n",
            "  inflating: omniglot/data/Bengali/character16/0147_19.png  \n",
            "  inflating: omniglot/data/Bengali/character16/0147_17.png  \n",
            "  inflating: omniglot/data/Bengali/character16/0147_03.png  \n",
            "  inflating: omniglot/data/Bengali/character16/0147_02.png  \n",
            "  inflating: omniglot/data/Bengali/character16/0147_16.png  \n",
            "  inflating: omniglot/data/Bengali/character16/0147_14.png  \n",
            "  inflating: omniglot/data/Bengali/character16/0147_15.png  \n",
            "  inflating: omniglot/data/Bengali/character16/0147_01.png  \n",
            "  inflating: omniglot/data/Bengali/character16/0147_05.png  \n",
            "  inflating: omniglot/data/Bengali/character16/0147_11.png  \n",
            "  inflating: omniglot/data/Bengali/character16/0147_10.png  \n",
            "  inflating: omniglot/data/Bengali/character16/0147_04.png  \n",
            "  inflating: omniglot/data/Bengali/character16/0147_12.png  \n",
            "  inflating: omniglot/data/Bengali/character16/0147_06.png  \n",
            "  inflating: omniglot/data/Bengali/character16/0147_07.png  \n",
            "  inflating: omniglot/data/Bengali/character16/0147_13.png  \n",
            "  inflating: omniglot/data/Bengali/character29/0160_05.png  \n",
            "  inflating: omniglot/data/Bengali/character29/0160_11.png  \n",
            "  inflating: omniglot/data/Bengali/character29/0160_10.png  \n",
            "  inflating: omniglot/data/Bengali/character29/0160_04.png  \n",
            "  inflating: omniglot/data/Bengali/character29/0160_12.png  \n",
            "  inflating: omniglot/data/Bengali/character29/0160_06.png  \n",
            "  inflating: omniglot/data/Bengali/character29/0160_07.png  \n",
            "  inflating: omniglot/data/Bengali/character29/0160_13.png  \n",
            "  inflating: omniglot/data/Bengali/character29/0160_17.png  \n",
            "  inflating: omniglot/data/Bengali/character29/0160_03.png  \n",
            "  inflating: omniglot/data/Bengali/character29/0160_02.png  \n",
            "  inflating: omniglot/data/Bengali/character29/0160_16.png  \n",
            "  inflating: omniglot/data/Bengali/character29/0160_14.png  \n",
            "  inflating: omniglot/data/Bengali/character29/0160_15.png  \n",
            "  inflating: omniglot/data/Bengali/character29/0160_01.png  \n",
            "  inflating: omniglot/data/Bengali/character29/0160_18.png  \n",
            "  inflating: omniglot/data/Bengali/character29/0160_19.png  \n",
            "  inflating: omniglot/data/Bengali/character29/0160_09.png  \n",
            "  inflating: omniglot/data/Bengali/character29/0160_08.png  \n",
            "  inflating: omniglot/data/Bengali/character29/0160_20.png  \n",
            "  inflating: omniglot/data/Bengali/character20/0151_19.png  \n",
            "  inflating: omniglot/data/Bengali/character20/0151_18.png  \n",
            "  inflating: omniglot/data/Bengali/character20/0151_08.png  \n",
            "  inflating: omniglot/data/Bengali/character20/0151_20.png  \n",
            "  inflating: omniglot/data/Bengali/character20/0151_09.png  \n",
            "  inflating: omniglot/data/Bengali/character20/0151_04.png  \n",
            "  inflating: omniglot/data/Bengali/character20/0151_10.png  \n",
            "  inflating: omniglot/data/Bengali/character20/0151_11.png  \n",
            "  inflating: omniglot/data/Bengali/character20/0151_05.png  \n",
            "  inflating: omniglot/data/Bengali/character20/0151_13.png  \n",
            "  inflating: omniglot/data/Bengali/character20/0151_07.png  \n",
            "  inflating: omniglot/data/Bengali/character20/0151_06.png  \n",
            "  inflating: omniglot/data/Bengali/character20/0151_12.png  \n",
            "  inflating: omniglot/data/Bengali/character20/0151_16.png  \n",
            "  inflating: omniglot/data/Bengali/character20/0151_02.png  \n",
            "  inflating: omniglot/data/Bengali/character20/0151_03.png  \n",
            "  inflating: omniglot/data/Bengali/character20/0151_17.png  \n",
            "  inflating: omniglot/data/Bengali/character20/0151_01.png  \n",
            "  inflating: omniglot/data/Bengali/character20/0151_15.png  \n",
            "  inflating: omniglot/data/Bengali/character20/0151_14.png  \n",
            "  inflating: omniglot/data/Bengali/character27/0158_01.png  \n",
            "  inflating: omniglot/data/Bengali/character27/0158_15.png  \n",
            "  inflating: omniglot/data/Bengali/character27/0158_14.png  \n",
            "  inflating: omniglot/data/Bengali/character27/0158_16.png  \n",
            "  inflating: omniglot/data/Bengali/character27/0158_02.png  \n",
            "  inflating: omniglot/data/Bengali/character27/0158_03.png  \n",
            "  inflating: omniglot/data/Bengali/character27/0158_17.png  \n",
            "  inflating: omniglot/data/Bengali/character27/0158_13.png  \n",
            "  inflating: omniglot/data/Bengali/character27/0158_07.png  \n",
            "  inflating: omniglot/data/Bengali/character27/0158_06.png  \n",
            "  inflating: omniglot/data/Bengali/character27/0158_12.png  \n",
            "  inflating: omniglot/data/Bengali/character27/0158_04.png  \n",
            "  inflating: omniglot/data/Bengali/character27/0158_10.png  \n",
            "  inflating: omniglot/data/Bengali/character27/0158_11.png  \n",
            "  inflating: omniglot/data/Bengali/character27/0158_05.png  \n",
            "  inflating: omniglot/data/Bengali/character27/0158_20.png  \n",
            "  inflating: omniglot/data/Bengali/character27/0158_08.png  \n",
            "  inflating: omniglot/data/Bengali/character27/0158_09.png  \n",
            "  inflating: omniglot/data/Bengali/character27/0158_19.png  \n",
            "  inflating: omniglot/data/Bengali/character27/0158_18.png  \n",
            "  inflating: omniglot/data/Bengali/character18/0149_18.png  \n",
            "  inflating: omniglot/data/Bengali/character18/0149_19.png  \n",
            "  inflating: omniglot/data/Bengali/character18/0149_09.png  \n",
            "  inflating: omniglot/data/Bengali/character18/0149_08.png  \n",
            "  inflating: omniglot/data/Bengali/character18/0149_20.png  \n",
            "  inflating: omniglot/data/Bengali/character18/0149_06.png  \n",
            "  inflating: omniglot/data/Bengali/character18/0149_12.png  \n",
            "  inflating: omniglot/data/Bengali/character18/0149_13.png  \n",
            "  inflating: omniglot/data/Bengali/character18/0149_07.png  \n",
            "  inflating: omniglot/data/Bengali/character18/0149_11.png  \n",
            "  inflating: omniglot/data/Bengali/character18/0149_05.png  \n",
            "  inflating: omniglot/data/Bengali/character18/0149_04.png  \n",
            "  inflating: omniglot/data/Bengali/character18/0149_10.png  \n",
            "  inflating: omniglot/data/Bengali/character18/0149_14.png  \n",
            "  inflating: omniglot/data/Bengali/character18/0149_01.png  \n",
            "  inflating: omniglot/data/Bengali/character18/0149_15.png  \n",
            "  inflating: omniglot/data/Bengali/character18/0149_03.png  \n",
            "  inflating: omniglot/data/Bengali/character18/0149_17.png  \n",
            "  inflating: omniglot/data/Bengali/character18/0149_16.png  \n",
            "  inflating: omniglot/data/Bengali/character18/0149_02.png  \n",
            "  inflating: omniglot/data/Bengali/character44/0175_18.png  \n",
            "  inflating: omniglot/data/Bengali/character44/0175_19.png  \n",
            "  inflating: omniglot/data/Bengali/character44/0175_09.png  \n",
            "  inflating: omniglot/data/Bengali/character44/0175_20.png  \n",
            "  inflating: omniglot/data/Bengali/character44/0175_08.png  \n",
            "  inflating: omniglot/data/Bengali/character44/0175_05.png  \n",
            "  inflating: omniglot/data/Bengali/character44/0175_11.png  \n",
            "  inflating: omniglot/data/Bengali/character44/0175_10.png  \n",
            "  inflating: omniglot/data/Bengali/character44/0175_04.png  \n",
            "  inflating: omniglot/data/Bengali/character44/0175_12.png  \n",
            "  inflating: omniglot/data/Bengali/character44/0175_06.png  \n",
            "  inflating: omniglot/data/Bengali/character44/0175_07.png  \n",
            "  inflating: omniglot/data/Bengali/character44/0175_13.png  \n",
            "  inflating: omniglot/data/Bengali/character44/0175_17.png  \n",
            "  inflating: omniglot/data/Bengali/character44/0175_03.png  \n",
            "  inflating: omniglot/data/Bengali/character44/0175_02.png  \n",
            "  inflating: omniglot/data/Bengali/character44/0175_16.png  \n",
            "  inflating: omniglot/data/Bengali/character44/0175_14.png  \n",
            "  inflating: omniglot/data/Bengali/character44/0175_15.png  \n",
            "  inflating: omniglot/data/Bengali/character44/0175_01.png  \n",
            "  inflating: omniglot/data/Bengali/character43/0174_13.png  \n",
            "  inflating: omniglot/data/Bengali/character43/0174_07.png  \n",
            "  inflating: omniglot/data/Bengali/character43/0174_06.png  \n",
            "  inflating: omniglot/data/Bengali/character43/0174_12.png  \n",
            "  inflating: omniglot/data/Bengali/character43/0174_04.png  \n",
            "  inflating: omniglot/data/Bengali/character43/0174_10.png  \n",
            "  inflating: omniglot/data/Bengali/character43/0174_11.png  \n",
            "  inflating: omniglot/data/Bengali/character43/0174_05.png  \n",
            "  inflating: omniglot/data/Bengali/character43/0174_01.png  \n",
            "  inflating: omniglot/data/Bengali/character43/0174_15.png  \n",
            "  inflating: omniglot/data/Bengali/character43/0174_14.png  \n",
            "  inflating: omniglot/data/Bengali/character43/0174_16.png  \n",
            "  inflating: omniglot/data/Bengali/character43/0174_02.png  \n",
            "  inflating: omniglot/data/Bengali/character43/0174_03.png  \n",
            "  inflating: omniglot/data/Bengali/character43/0174_17.png  \n",
            "  inflating: omniglot/data/Bengali/character43/0174_19.png  \n",
            "  inflating: omniglot/data/Bengali/character43/0174_18.png  \n",
            "  inflating: omniglot/data/Bengali/character43/0174_20.png  \n",
            "  inflating: omniglot/data/Bengali/character43/0174_08.png  \n",
            "  inflating: omniglot/data/Bengali/character43/0174_09.png  \n",
            "  inflating: omniglot/data/Bengali/character26/0157_18.png  \n",
            "  inflating: omniglot/data/Bengali/character26/0157_19.png  \n",
            "  inflating: omniglot/data/Bengali/character26/0157_09.png  \n",
            "  inflating: omniglot/data/Bengali/character26/0157_20.png  \n",
            "  inflating: omniglot/data/Bengali/character26/0157_08.png  \n",
            "  inflating: omniglot/data/Bengali/character26/0157_06.png  \n",
            "  inflating: omniglot/data/Bengali/character26/0157_12.png  \n",
            "  inflating: omniglot/data/Bengali/character26/0157_13.png  \n",
            "  inflating: omniglot/data/Bengali/character26/0157_07.png  \n",
            "  inflating: omniglot/data/Bengali/character26/0157_11.png  \n",
            "  inflating: omniglot/data/Bengali/character26/0157_05.png  \n",
            "  inflating: omniglot/data/Bengali/character26/0157_04.png  \n",
            "  inflating: omniglot/data/Bengali/character26/0157_10.png  \n",
            "  inflating: omniglot/data/Bengali/character26/0157_14.png  \n",
            "  inflating: omniglot/data/Bengali/character26/0157_01.png  \n",
            "  inflating: omniglot/data/Bengali/character26/0157_15.png  \n",
            "  inflating: omniglot/data/Bengali/character26/0157_03.png  \n",
            "  inflating: omniglot/data/Bengali/character26/0157_17.png  \n",
            "  inflating: omniglot/data/Bengali/character26/0157_16.png  \n",
            "  inflating: omniglot/data/Bengali/character26/0157_02.png  \n",
            "  inflating: omniglot/data/Bengali/character19/0150_12.png  \n",
            "  inflating: omniglot/data/Bengali/character19/0150_06.png  \n",
            "  inflating: omniglot/data/Bengali/character19/0150_07.png  \n",
            "  inflating: omniglot/data/Bengali/character19/0150_13.png  \n",
            "  inflating: omniglot/data/Bengali/character19/0150_05.png  \n",
            "  inflating: omniglot/data/Bengali/character19/0150_11.png  \n",
            "  inflating: omniglot/data/Bengali/character19/0150_10.png  \n",
            "  inflating: omniglot/data/Bengali/character19/0150_04.png  \n",
            "  inflating: omniglot/data/Bengali/character19/0150_14.png  \n",
            "  inflating: omniglot/data/Bengali/character19/0150_15.png  \n",
            "  inflating: omniglot/data/Bengali/character19/0150_01.png  \n",
            "  inflating: omniglot/data/Bengali/character19/0150_17.png  \n",
            "  inflating: omniglot/data/Bengali/character19/0150_03.png  \n",
            "  inflating: omniglot/data/Bengali/character19/0150_02.png  \n",
            "  inflating: omniglot/data/Bengali/character19/0150_16.png  \n",
            "  inflating: omniglot/data/Bengali/character19/0150_18.png  \n",
            "  inflating: omniglot/data/Bengali/character19/0150_19.png  \n",
            "  inflating: omniglot/data/Bengali/character19/0150_09.png  \n",
            "  inflating: omniglot/data/Bengali/character19/0150_08.png  \n",
            "  inflating: omniglot/data/Bengali/character19/0150_20.png  \n",
            "  inflating: omniglot/data/Bengali/character21/0152_17.png  \n",
            "  inflating: omniglot/data/Bengali/character21/0152_03.png  \n",
            "  inflating: omniglot/data/Bengali/character21/0152_02.png  \n",
            "  inflating: omniglot/data/Bengali/character21/0152_16.png  \n",
            "  inflating: omniglot/data/Bengali/character21/0152_14.png  \n",
            "  inflating: omniglot/data/Bengali/character21/0152_15.png  \n",
            "  inflating: omniglot/data/Bengali/character21/0152_01.png  \n",
            "  inflating: omniglot/data/Bengali/character21/0152_05.png  \n",
            "  inflating: omniglot/data/Bengali/character21/0152_11.png  \n",
            "  inflating: omniglot/data/Bengali/character21/0152_10.png  \n",
            "  inflating: omniglot/data/Bengali/character21/0152_04.png  \n",
            "  inflating: omniglot/data/Bengali/character21/0152_12.png  \n",
            "  inflating: omniglot/data/Bengali/character21/0152_06.png  \n",
            "  inflating: omniglot/data/Bengali/character21/0152_07.png  \n",
            "  inflating: omniglot/data/Bengali/character21/0152_13.png  \n",
            "  inflating: omniglot/data/Bengali/character21/0152_09.png  \n",
            "  inflating: omniglot/data/Bengali/character21/0152_20.png  \n",
            "  inflating: omniglot/data/Bengali/character21/0152_08.png  \n",
            "  inflating: omniglot/data/Bengali/character21/0152_18.png  \n",
            "  inflating: omniglot/data/Bengali/character21/0152_19.png  \n",
            "  inflating: omniglot/data/Bengali/character17/0148_10.png  \n",
            "  inflating: omniglot/data/Bengali/character17/0148_04.png  \n",
            "  inflating: omniglot/data/Bengali/character17/0148_05.png  \n",
            "  inflating: omniglot/data/Bengali/character17/0148_11.png  \n",
            "  inflating: omniglot/data/Bengali/character17/0148_07.png  \n",
            "  inflating: omniglot/data/Bengali/character17/0148_13.png  \n",
            "  inflating: omniglot/data/Bengali/character17/0148_12.png  \n",
            "  inflating: omniglot/data/Bengali/character17/0148_06.png  \n",
            "  inflating: omniglot/data/Bengali/character17/0148_02.png  \n",
            "  inflating: omniglot/data/Bengali/character17/0148_16.png  \n",
            "  inflating: omniglot/data/Bengali/character17/0148_17.png  \n",
            "  inflating: omniglot/data/Bengali/character17/0148_03.png  \n",
            "  inflating: omniglot/data/Bengali/character17/0148_15.png  \n",
            "  inflating: omniglot/data/Bengali/character17/0148_01.png  \n",
            "  inflating: omniglot/data/Bengali/character17/0148_14.png  \n",
            "  inflating: omniglot/data/Bengali/character17/0148_19.png  \n",
            "  inflating: omniglot/data/Bengali/character17/0148_18.png  \n",
            "  inflating: omniglot/data/Bengali/character17/0148_08.png  \n",
            "  inflating: omniglot/data/Bengali/character17/0148_20.png  \n",
            "  inflating: omniglot/data/Bengali/character17/0148_09.png  \n",
            "  inflating: omniglot/data/Bengali/character28/0159_09.png  \n",
            "  inflating: omniglot/data/Bengali/character28/0159_20.png  \n",
            "  inflating: omniglot/data/Bengali/character28/0159_08.png  \n",
            "  inflating: omniglot/data/Bengali/character28/0159_18.png  \n",
            "  inflating: omniglot/data/Bengali/character28/0159_19.png  \n",
            "  inflating: omniglot/data/Bengali/character28/0159_17.png  \n",
            "  inflating: omniglot/data/Bengali/character28/0159_03.png  \n",
            "  inflating: omniglot/data/Bengali/character28/0159_02.png  \n",
            "  inflating: omniglot/data/Bengali/character28/0159_16.png  \n",
            "  inflating: omniglot/data/Bengali/character28/0159_14.png  \n",
            "  inflating: omniglot/data/Bengali/character28/0159_15.png  \n",
            "  inflating: omniglot/data/Bengali/character28/0159_01.png  \n",
            "  inflating: omniglot/data/Bengali/character28/0159_05.png  \n",
            "  inflating: omniglot/data/Bengali/character28/0159_11.png  \n",
            "  inflating: omniglot/data/Bengali/character28/0159_10.png  \n",
            "  inflating: omniglot/data/Bengali/character28/0159_04.png  \n",
            "  inflating: omniglot/data/Bengali/character28/0159_12.png  \n",
            "  inflating: omniglot/data/Bengali/character28/0159_06.png  \n",
            "  inflating: omniglot/data/Bengali/character28/0159_07.png  \n",
            "  inflating: omniglot/data/Bengali/character28/0159_13.png  \n",
            "  inflating: omniglot/data/Bengali/character10/0141_20.png  \n",
            "  inflating: omniglot/data/Bengali/character10/0141_08.png  \n",
            "  inflating: omniglot/data/Bengali/character10/0141_09.png  \n",
            "  inflating: omniglot/data/Bengali/character10/0141_19.png  \n",
            "  inflating: omniglot/data/Bengali/character10/0141_18.png  \n",
            "  inflating: omniglot/data/Bengali/character10/0141_15.png  \n",
            "  inflating: omniglot/data/Bengali/character10/0141_01.png  \n",
            "  inflating: omniglot/data/Bengali/character10/0141_14.png  \n",
            "  inflating: omniglot/data/Bengali/character10/0141_02.png  \n",
            "  inflating: omniglot/data/Bengali/character10/0141_16.png  \n",
            "  inflating: omniglot/data/Bengali/character10/0141_17.png  \n",
            "  inflating: omniglot/data/Bengali/character10/0141_03.png  \n",
            "  inflating: omniglot/data/Bengali/character10/0141_07.png  \n",
            "  inflating: omniglot/data/Bengali/character10/0141_13.png  \n",
            "  inflating: omniglot/data/Bengali/character10/0141_12.png  \n",
            "  inflating: omniglot/data/Bengali/character10/0141_06.png  \n",
            "  inflating: omniglot/data/Bengali/character10/0141_10.png  \n",
            "  inflating: omniglot/data/Bengali/character10/0141_04.png  \n",
            "  inflating: omniglot/data/Bengali/character10/0141_05.png  \n",
            "  inflating: omniglot/data/Bengali/character10/0141_11.png  \n",
            "  inflating: omniglot/data/Bengali/character32/0163_20.png  \n",
            "  inflating: omniglot/data/Bengali/character32/0163_08.png  \n",
            "  inflating: omniglot/data/Bengali/character32/0163_09.png  \n",
            "  inflating: omniglot/data/Bengali/character32/0163_19.png  \n",
            "  inflating: omniglot/data/Bengali/character32/0163_18.png  \n",
            "  inflating: omniglot/data/Bengali/character32/0163_16.png  \n",
            "  inflating: omniglot/data/Bengali/character32/0163_02.png  \n",
            "  inflating: omniglot/data/Bengali/character32/0163_03.png  \n",
            "  inflating: omniglot/data/Bengali/character32/0163_17.png  \n",
            "  inflating: omniglot/data/Bengali/character32/0163_01.png  \n",
            "  inflating: omniglot/data/Bengali/character32/0163_15.png  \n",
            "  inflating: omniglot/data/Bengali/character32/0163_14.png  \n",
            "  inflating: omniglot/data/Bengali/character32/0163_04.png  \n",
            "  inflating: omniglot/data/Bengali/character32/0163_10.png  \n",
            "  inflating: omniglot/data/Bengali/character32/0163_11.png  \n",
            "  inflating: omniglot/data/Bengali/character32/0163_05.png  \n",
            "  inflating: omniglot/data/Bengali/character32/0163_13.png  \n",
            "  inflating: omniglot/data/Bengali/character32/0163_07.png  \n",
            "  inflating: omniglot/data/Bengali/character32/0163_06.png  \n",
            "  inflating: omniglot/data/Bengali/character32/0163_12.png  \n",
            "  inflating: omniglot/data/Bengali/character35/0166_07.png  \n",
            "  inflating: omniglot/data/Bengali/character35/0166_13.png  \n",
            "  inflating: omniglot/data/Bengali/character35/0166_12.png  \n",
            "  inflating: omniglot/data/Bengali/character35/0166_06.png  \n",
            "  inflating: omniglot/data/Bengali/character35/0166_10.png  \n",
            "  inflating: omniglot/data/Bengali/character35/0166_04.png  \n",
            "  inflating: omniglot/data/Bengali/character35/0166_05.png  \n",
            "  inflating: omniglot/data/Bengali/character35/0166_11.png  \n",
            "  inflating: omniglot/data/Bengali/character35/0166_15.png  \n",
            "  inflating: omniglot/data/Bengali/character35/0166_01.png  \n",
            "  inflating: omniglot/data/Bengali/character35/0166_14.png  \n",
            "  inflating: omniglot/data/Bengali/character35/0166_02.png  \n",
            "  inflating: omniglot/data/Bengali/character35/0166_16.png  \n",
            "  inflating: omniglot/data/Bengali/character35/0166_17.png  \n",
            "  inflating: omniglot/data/Bengali/character35/0166_03.png  \n",
            "  inflating: omniglot/data/Bengali/character35/0166_19.png  \n",
            "  inflating: omniglot/data/Bengali/character35/0166_18.png  \n",
            "  inflating: omniglot/data/Bengali/character35/0166_20.png  \n",
            "  inflating: omniglot/data/Bengali/character35/0166_08.png  \n",
            "  inflating: omniglot/data/Bengali/character35/0166_09.png  \n",
            "  inflating: omniglot/data/Bengali/character03/0134_18.png  \n",
            "  inflating: omniglot/data/Bengali/character03/0134_19.png  \n",
            "  inflating: omniglot/data/Bengali/character03/0134_09.png  \n",
            "  inflating: omniglot/data/Bengali/character03/0134_08.png  \n",
            "  inflating: omniglot/data/Bengali/character03/0134_20.png  \n",
            "  inflating: omniglot/data/Bengali/character03/0134_06.png  \n",
            "  inflating: omniglot/data/Bengali/character03/0134_12.png  \n",
            "  inflating: omniglot/data/Bengali/character03/0134_13.png  \n",
            "  inflating: omniglot/data/Bengali/character03/0134_07.png  \n",
            "  inflating: omniglot/data/Bengali/character03/0134_11.png  \n",
            "  inflating: omniglot/data/Bengali/character03/0134_05.png  \n",
            "  inflating: omniglot/data/Bengali/character03/0134_04.png  \n",
            "  inflating: omniglot/data/Bengali/character03/0134_10.png  \n",
            "  inflating: omniglot/data/Bengali/character03/0134_14.png  \n",
            "  inflating: omniglot/data/Bengali/character03/0134_01.png  \n",
            "  inflating: omniglot/data/Bengali/character03/0134_15.png  \n",
            "  inflating: omniglot/data/Bengali/character03/0134_03.png  \n",
            "  inflating: omniglot/data/Bengali/character03/0134_17.png  \n",
            "  inflating: omniglot/data/Bengali/character03/0134_16.png  \n",
            "  inflating: omniglot/data/Bengali/character03/0134_02.png  \n",
            "  inflating: omniglot/data/Bengali/character04/0135_10.png  \n",
            "  inflating: omniglot/data/Bengali/character04/0135_04.png  \n",
            "  inflating: omniglot/data/Bengali/character04/0135_05.png  \n",
            "  inflating: omniglot/data/Bengali/character04/0135_11.png  \n",
            "  inflating: omniglot/data/Bengali/character04/0135_07.png  \n",
            "  inflating: omniglot/data/Bengali/character04/0135_13.png  \n",
            "  inflating: omniglot/data/Bengali/character04/0135_12.png  \n",
            "  inflating: omniglot/data/Bengali/character04/0135_06.png  \n",
            "  inflating: omniglot/data/Bengali/character04/0135_02.png  \n",
            "  inflating: omniglot/data/Bengali/character04/0135_16.png  \n",
            "  inflating: omniglot/data/Bengali/character04/0135_17.png  \n",
            "  inflating: omniglot/data/Bengali/character04/0135_03.png  \n",
            "  inflating: omniglot/data/Bengali/character04/0135_15.png  \n",
            "  inflating: omniglot/data/Bengali/character04/0135_01.png  \n",
            "  inflating: omniglot/data/Bengali/character04/0135_14.png  \n",
            "  inflating: omniglot/data/Bengali/character04/0135_19.png  \n",
            "  inflating: omniglot/data/Bengali/character04/0135_18.png  \n",
            "  inflating: omniglot/data/Bengali/character04/0135_08.png  \n",
            "  inflating: omniglot/data/Bengali/character04/0135_20.png  \n",
            "  inflating: omniglot/data/Bengali/character04/0135_09.png  \n",
            "  inflating: omniglot/data/Bengali/character05/0136_09.png  \n",
            "  inflating: omniglot/data/Bengali/character05/0136_20.png  \n",
            "  inflating: omniglot/data/Bengali/character05/0136_08.png  \n",
            "  inflating: omniglot/data/Bengali/character05/0136_18.png  \n",
            "  inflating: omniglot/data/Bengali/character05/0136_19.png  \n",
            "  inflating: omniglot/data/Bengali/character05/0136_03.png  \n",
            "  inflating: omniglot/data/Bengali/character05/0136_17.png  \n",
            "  inflating: omniglot/data/Bengali/character05/0136_16.png  \n",
            "  inflating: omniglot/data/Bengali/character05/0136_02.png  \n",
            "  inflating: omniglot/data/Bengali/character05/0136_14.png  \n",
            "  inflating: omniglot/data/Bengali/character05/0136_01.png  \n",
            "  inflating: omniglot/data/Bengali/character05/0136_15.png  \n",
            "  inflating: omniglot/data/Bengali/character05/0136_11.png  \n",
            "  inflating: omniglot/data/Bengali/character05/0136_05.png  \n",
            "  inflating: omniglot/data/Bengali/character05/0136_04.png  \n",
            "  inflating: omniglot/data/Bengali/character05/0136_10.png  \n",
            "  inflating: omniglot/data/Bengali/character05/0136_06.png  \n",
            "  inflating: omniglot/data/Bengali/character05/0136_12.png  \n",
            "  inflating: omniglot/data/Bengali/character05/0136_13.png  \n",
            "  inflating: omniglot/data/Bengali/character05/0136_07.png  \n",
            "  inflating: omniglot/data/Bengali/character02/0133_12.png  \n",
            "  inflating: omniglot/data/Bengali/character02/0133_06.png  \n",
            "  inflating: omniglot/data/Bengali/character02/0133_07.png  \n",
            "  inflating: omniglot/data/Bengali/character02/0133_13.png  \n",
            "  inflating: omniglot/data/Bengali/character02/0133_05.png  \n",
            "  inflating: omniglot/data/Bengali/character02/0133_11.png  \n",
            "  inflating: omniglot/data/Bengali/character02/0133_10.png  \n",
            "  inflating: omniglot/data/Bengali/character02/0133_04.png  \n",
            "  inflating: omniglot/data/Bengali/character02/0133_14.png  \n",
            "  inflating: omniglot/data/Bengali/character02/0133_15.png  \n",
            "  inflating: omniglot/data/Bengali/character02/0133_01.png  \n",
            "  inflating: omniglot/data/Bengali/character02/0133_17.png  \n",
            "  inflating: omniglot/data/Bengali/character02/0133_03.png  \n",
            "  inflating: omniglot/data/Bengali/character02/0133_02.png  \n",
            "  inflating: omniglot/data/Bengali/character02/0133_16.png  \n",
            "  inflating: omniglot/data/Bengali/character02/0133_18.png  \n",
            "  inflating: omniglot/data/Bengali/character02/0133_19.png  \n",
            "  inflating: omniglot/data/Bengali/character02/0133_09.png  \n",
            "  inflating: omniglot/data/Bengali/character02/0133_20.png  \n",
            "  inflating: omniglot/data/Bengali/character02/0133_08.png  \n",
            "  inflating: omniglot/data/Bengali/character34/0165_09.png  \n",
            "  inflating: omniglot/data/Bengali/character34/0165_08.png  \n",
            "  inflating: omniglot/data/Bengali/character34/0165_20.png  \n",
            "  inflating: omniglot/data/Bengali/character34/0165_18.png  \n",
            "  inflating: omniglot/data/Bengali/character34/0165_19.png  \n",
            "  inflating: omniglot/data/Bengali/character34/0165_14.png  \n",
            "  inflating: omniglot/data/Bengali/character34/0165_01.png  \n",
            "  inflating: omniglot/data/Bengali/character34/0165_15.png  \n",
            "  inflating: omniglot/data/Bengali/character34/0165_03.png  \n",
            "  inflating: omniglot/data/Bengali/character34/0165_17.png  \n",
            "  inflating: omniglot/data/Bengali/character34/0165_16.png  \n",
            "  inflating: omniglot/data/Bengali/character34/0165_02.png  \n",
            "  inflating: omniglot/data/Bengali/character34/0165_06.png  \n",
            "  inflating: omniglot/data/Bengali/character34/0165_12.png  \n",
            "  inflating: omniglot/data/Bengali/character34/0165_13.png  \n",
            "  inflating: omniglot/data/Bengali/character34/0165_07.png  \n",
            "  inflating: omniglot/data/Bengali/character34/0165_11.png  \n",
            "  inflating: omniglot/data/Bengali/character34/0165_05.png  \n",
            "  inflating: omniglot/data/Bengali/character34/0165_04.png  \n",
            "  inflating: omniglot/data/Bengali/character34/0165_10.png  \n",
            "  inflating: omniglot/data/Bengali/character33/0164_02.png  \n",
            "  inflating: omniglot/data/Bengali/character33/0164_16.png  \n",
            "  inflating: omniglot/data/Bengali/character33/0164_17.png  \n",
            "  inflating: omniglot/data/Bengali/character33/0164_03.png  \n",
            "  inflating: omniglot/data/Bengali/character33/0164_15.png  \n",
            "  inflating: omniglot/data/Bengali/character33/0164_01.png  \n",
            "  inflating: omniglot/data/Bengali/character33/0164_14.png  \n",
            "  inflating: omniglot/data/Bengali/character33/0164_10.png  \n",
            "  inflating: omniglot/data/Bengali/character33/0164_04.png  \n",
            "  inflating: omniglot/data/Bengali/character33/0164_05.png  \n",
            "  inflating: omniglot/data/Bengali/character33/0164_11.png  \n",
            "  inflating: omniglot/data/Bengali/character33/0164_07.png  \n",
            "  inflating: omniglot/data/Bengali/character33/0164_13.png  \n",
            "  inflating: omniglot/data/Bengali/character33/0164_12.png  \n",
            "  inflating: omniglot/data/Bengali/character33/0164_06.png  \n",
            "  inflating: omniglot/data/Bengali/character33/0164_08.png  \n",
            "  inflating: omniglot/data/Bengali/character33/0164_20.png  \n",
            "  inflating: omniglot/data/Bengali/character33/0164_09.png  \n",
            "  inflating: omniglot/data/Bengali/character33/0164_19.png  \n",
            "  inflating: omniglot/data/Bengali/character33/0164_18.png  \n",
            "  inflating: omniglot/data/Bengali/character15/0146_01.png  \n",
            "  inflating: omniglot/data/Bengali/character15/0146_15.png  \n",
            "  inflating: omniglot/data/Bengali/character15/0146_14.png  \n",
            "  inflating: omniglot/data/Bengali/character15/0146_16.png  \n",
            "  inflating: omniglot/data/Bengali/character15/0146_02.png  \n",
            "  inflating: omniglot/data/Bengali/character15/0146_03.png  \n",
            "  inflating: omniglot/data/Bengali/character15/0146_17.png  \n",
            "  inflating: omniglot/data/Bengali/character15/0146_13.png  \n",
            "  inflating: omniglot/data/Bengali/character15/0146_07.png  \n",
            "  inflating: omniglot/data/Bengali/character15/0146_06.png  \n",
            "  inflating: omniglot/data/Bengali/character15/0146_12.png  \n",
            "  inflating: omniglot/data/Bengali/character15/0146_04.png  \n",
            "  inflating: omniglot/data/Bengali/character15/0146_10.png  \n",
            "  inflating: omniglot/data/Bengali/character15/0146_11.png  \n",
            "  inflating: omniglot/data/Bengali/character15/0146_05.png  \n",
            "  inflating: omniglot/data/Bengali/character15/0146_08.png  \n",
            "  inflating: omniglot/data/Bengali/character15/0146_20.png  \n",
            "  inflating: omniglot/data/Bengali/character15/0146_09.png  \n",
            "  inflating: omniglot/data/Bengali/character15/0146_19.png  \n",
            "  inflating: omniglot/data/Bengali/character15/0146_18.png  \n",
            "  inflating: omniglot/data/Bengali/character12/0143_19.png  \n",
            "  inflating: omniglot/data/Bengali/character12/0143_18.png  \n",
            "  inflating: omniglot/data/Bengali/character12/0143_08.png  \n",
            "  inflating: omniglot/data/Bengali/character12/0143_20.png  \n",
            "  inflating: omniglot/data/Bengali/character12/0143_09.png  \n",
            "  inflating: omniglot/data/Bengali/character12/0143_10.png  \n",
            "  inflating: omniglot/data/Bengali/character12/0143_04.png  \n",
            "  inflating: omniglot/data/Bengali/character12/0143_05.png  \n",
            "  inflating: omniglot/data/Bengali/character12/0143_11.png  \n",
            "  inflating: omniglot/data/Bengali/character12/0143_07.png  \n",
            "  inflating: omniglot/data/Bengali/character12/0143_13.png  \n",
            "  inflating: omniglot/data/Bengali/character12/0143_12.png  \n",
            "  inflating: omniglot/data/Bengali/character12/0143_06.png  \n",
            "  inflating: omniglot/data/Bengali/character12/0143_02.png  \n",
            "  inflating: omniglot/data/Bengali/character12/0143_16.png  \n",
            "  inflating: omniglot/data/Bengali/character12/0143_17.png  \n",
            "  inflating: omniglot/data/Bengali/character12/0143_03.png  \n",
            "  inflating: omniglot/data/Bengali/character12/0143_15.png  \n",
            "  inflating: omniglot/data/Bengali/character12/0143_01.png  \n",
            "  inflating: omniglot/data/Bengali/character12/0143_14.png  \n",
            "  inflating: omniglot/data/Bengali/character24/0155_09.png  \n",
            "  inflating: omniglot/data/Bengali/character24/0155_08.png  \n",
            "  inflating: omniglot/data/Bengali/character24/0155_20.png  \n",
            "  inflating: omniglot/data/Bengali/character24/0155_18.png  \n",
            "  inflating: omniglot/data/Bengali/character24/0155_19.png  \n",
            "  inflating: omniglot/data/Bengali/character24/0155_03.png  \n",
            "  inflating: omniglot/data/Bengali/character24/0155_17.png  \n",
            "  inflating: omniglot/data/Bengali/character24/0155_16.png  \n",
            "  inflating: omniglot/data/Bengali/character24/0155_02.png  \n",
            "  inflating: omniglot/data/Bengali/character24/0155_14.png  \n",
            "  inflating: omniglot/data/Bengali/character24/0155_01.png  \n",
            "  inflating: omniglot/data/Bengali/character24/0155_15.png  \n",
            "  inflating: omniglot/data/Bengali/character24/0155_11.png  \n",
            "  inflating: omniglot/data/Bengali/character24/0155_05.png  \n",
            "  inflating: omniglot/data/Bengali/character24/0155_04.png  \n",
            "  inflating: omniglot/data/Bengali/character24/0155_10.png  \n",
            "  inflating: omniglot/data/Bengali/character24/0155_06.png  \n",
            "  inflating: omniglot/data/Bengali/character24/0155_12.png  \n",
            "  inflating: omniglot/data/Bengali/character24/0155_13.png  \n",
            "  inflating: omniglot/data/Bengali/character24/0155_07.png  \n",
            "  inflating: omniglot/data/Bengali/character23/0154_15.png  \n",
            "  inflating: omniglot/data/Bengali/character23/0154_01.png  \n",
            "  inflating: omniglot/data/Bengali/character23/0154_14.png  \n",
            "  inflating: omniglot/data/Bengali/character23/0154_02.png  \n",
            "  inflating: omniglot/data/Bengali/character23/0154_16.png  \n",
            "  inflating: omniglot/data/Bengali/character23/0154_17.png  \n",
            "  inflating: omniglot/data/Bengali/character23/0154_03.png  \n",
            "  inflating: omniglot/data/Bengali/character23/0154_07.png  \n",
            "  inflating: omniglot/data/Bengali/character23/0154_13.png  \n",
            "  inflating: omniglot/data/Bengali/character23/0154_12.png  \n",
            "  inflating: omniglot/data/Bengali/character23/0154_06.png  \n",
            "  inflating: omniglot/data/Bengali/character23/0154_10.png  \n",
            "  inflating: omniglot/data/Bengali/character23/0154_04.png  \n",
            "  inflating: omniglot/data/Bengali/character23/0154_05.png  \n",
            "  inflating: omniglot/data/Bengali/character23/0154_11.png  \n",
            "  inflating: omniglot/data/Bengali/character23/0154_08.png  \n",
            "  inflating: omniglot/data/Bengali/character23/0154_20.png  \n",
            "  inflating: omniglot/data/Bengali/character23/0154_09.png  \n",
            "  inflating: omniglot/data/Bengali/character23/0154_19.png  \n",
            "  inflating: omniglot/data/Bengali/character23/0154_18.png  \n",
            "  inflating: omniglot/data/Bengali/character46/0177_09.png  \n",
            "  inflating: omniglot/data/Bengali/character46/0177_08.png  \n",
            "  inflating: omniglot/data/Bengali/character46/0177_20.png  \n",
            "  inflating: omniglot/data/Bengali/character46/0177_18.png  \n",
            "  inflating: omniglot/data/Bengali/character46/0177_19.png  \n",
            "  inflating: omniglot/data/Bengali/character46/0177_14.png  \n",
            "  inflating: omniglot/data/Bengali/character46/0177_15.png  \n",
            "  inflating: omniglot/data/Bengali/character46/0177_01.png  \n",
            "  inflating: omniglot/data/Bengali/character46/0177_17.png  \n",
            "  inflating: omniglot/data/Bengali/character46/0177_03.png  \n",
            "  inflating: omniglot/data/Bengali/character46/0177_02.png  \n",
            "  inflating: omniglot/data/Bengali/character46/0177_16.png  \n",
            "  inflating: omniglot/data/Bengali/character46/0177_12.png  \n",
            "  inflating: omniglot/data/Bengali/character46/0177_06.png  \n",
            "  inflating: omniglot/data/Bengali/character46/0177_07.png  \n",
            "  inflating: omniglot/data/Bengali/character46/0177_13.png  \n",
            "  inflating: omniglot/data/Bengali/character46/0177_05.png  \n",
            "  inflating: omniglot/data/Bengali/character46/0177_11.png  \n",
            "  inflating: omniglot/data/Bengali/character46/0177_10.png  \n",
            "  inflating: omniglot/data/Bengali/character46/0177_04.png  \n",
            "  inflating: omniglot/data/Bengali/character41/0172_11.png  \n",
            "  inflating: omniglot/data/Bengali/character41/0172_05.png  \n",
            "  inflating: omniglot/data/Bengali/character41/0172_04.png  \n",
            "  inflating: omniglot/data/Bengali/character41/0172_10.png  \n",
            "  inflating: omniglot/data/Bengali/character41/0172_06.png  \n",
            "  inflating: omniglot/data/Bengali/character41/0172_12.png  \n",
            "  inflating: omniglot/data/Bengali/character41/0172_13.png  \n",
            "  inflating: omniglot/data/Bengali/character41/0172_07.png  \n",
            "  inflating: omniglot/data/Bengali/character41/0172_03.png  \n",
            "  inflating: omniglot/data/Bengali/character41/0172_17.png  \n",
            "  inflating: omniglot/data/Bengali/character41/0172_16.png  \n",
            "  inflating: omniglot/data/Bengali/character41/0172_02.png  \n",
            "  inflating: omniglot/data/Bengali/character41/0172_14.png  \n",
            "  inflating: omniglot/data/Bengali/character41/0172_01.png  \n",
            "  inflating: omniglot/data/Bengali/character41/0172_15.png  \n",
            "  inflating: omniglot/data/Bengali/character41/0172_18.png  \n",
            "  inflating: omniglot/data/Bengali/character41/0172_19.png  \n",
            "  inflating: omniglot/data/Bengali/character41/0172_09.png  \n",
            "  inflating: omniglot/data/Bengali/character41/0172_08.png  \n",
            "  inflating: omniglot/data/Bengali/character41/0172_20.png  \n",
            "  inflating: omniglot/data/Bengali/character22/0153_20.png  \n",
            "  inflating: omniglot/data/Bengali/character22/0153_08.png  \n",
            "  inflating: omniglot/data/Bengali/character22/0153_09.png  \n",
            "  inflating: omniglot/data/Bengali/character22/0153_19.png  \n",
            "  inflating: omniglot/data/Bengali/character22/0153_18.png  \n",
            "  inflating: omniglot/data/Bengali/character22/0153_01.png  \n",
            "  inflating: omniglot/data/Bengali/character22/0153_15.png  \n",
            "  inflating: omniglot/data/Bengali/character22/0153_14.png  \n",
            "  inflating: omniglot/data/Bengali/character22/0153_16.png  \n",
            "  inflating: omniglot/data/Bengali/character22/0153_02.png  \n",
            "  inflating: omniglot/data/Bengali/character22/0153_03.png  \n",
            "  inflating: omniglot/data/Bengali/character22/0153_17.png  \n",
            "  inflating: omniglot/data/Bengali/character22/0153_13.png  \n",
            "  inflating: omniglot/data/Bengali/character22/0153_07.png  \n",
            "  inflating: omniglot/data/Bengali/character22/0153_06.png  \n",
            "  inflating: omniglot/data/Bengali/character22/0153_12.png  \n",
            "  inflating: omniglot/data/Bengali/character22/0153_04.png  \n",
            "  inflating: omniglot/data/Bengali/character22/0153_10.png  \n",
            "  inflating: omniglot/data/Bengali/character22/0153_11.png  \n",
            "  inflating: omniglot/data/Bengali/character22/0153_05.png  \n",
            "  inflating: omniglot/data/Bengali/character25/0156_10.png  \n",
            "  inflating: omniglot/data/Bengali/character25/0156_04.png  \n",
            "  inflating: omniglot/data/Bengali/character25/0156_05.png  \n",
            "  inflating: omniglot/data/Bengali/character25/0156_11.png  \n",
            "  inflating: omniglot/data/Bengali/character25/0156_07.png  \n",
            "  inflating: omniglot/data/Bengali/character25/0156_13.png  \n",
            "  inflating: omniglot/data/Bengali/character25/0156_12.png  \n",
            "  inflating: omniglot/data/Bengali/character25/0156_06.png  \n",
            "  inflating: omniglot/data/Bengali/character25/0156_02.png  \n",
            "  inflating: omniglot/data/Bengali/character25/0156_16.png  \n",
            "  inflating: omniglot/data/Bengali/character25/0156_17.png  \n",
            "  inflating: omniglot/data/Bengali/character25/0156_03.png  \n",
            "  inflating: omniglot/data/Bengali/character25/0156_15.png  \n",
            "  inflating: omniglot/data/Bengali/character25/0156_01.png  \n",
            "  inflating: omniglot/data/Bengali/character25/0156_14.png  \n",
            "  inflating: omniglot/data/Bengali/character25/0156_19.png  \n",
            "  inflating: omniglot/data/Bengali/character25/0156_18.png  \n",
            "  inflating: omniglot/data/Bengali/character25/0156_20.png  \n",
            "  inflating: omniglot/data/Bengali/character25/0156_08.png  \n",
            "  inflating: omniglot/data/Bengali/character25/0156_09.png  \n",
            "  inflating: omniglot/data/Bengali/character13/0144_04.png  \n",
            "  inflating: omniglot/data/Bengali/character13/0144_10.png  \n",
            "  inflating: omniglot/data/Bengali/character13/0144_11.png  \n",
            "  inflating: omniglot/data/Bengali/character13/0144_05.png  \n",
            "  inflating: omniglot/data/Bengali/character13/0144_13.png  \n",
            "  inflating: omniglot/data/Bengali/character13/0144_07.png  \n",
            "  inflating: omniglot/data/Bengali/character13/0144_06.png  \n",
            "  inflating: omniglot/data/Bengali/character13/0144_12.png  \n",
            "  inflating: omniglot/data/Bengali/character13/0144_16.png  \n",
            "  inflating: omniglot/data/Bengali/character13/0144_02.png  \n",
            "  inflating: omniglot/data/Bengali/character13/0144_03.png  \n",
            "  inflating: omniglot/data/Bengali/character13/0144_17.png  \n",
            "  inflating: omniglot/data/Bengali/character13/0144_01.png  \n",
            "  inflating: omniglot/data/Bengali/character13/0144_15.png  \n",
            "  inflating: omniglot/data/Bengali/character13/0144_14.png  \n",
            "  inflating: omniglot/data/Bengali/character13/0144_19.png  \n",
            "  inflating: omniglot/data/Bengali/character13/0144_18.png  \n",
            "  inflating: omniglot/data/Bengali/character13/0144_20.png  \n",
            "  inflating: omniglot/data/Bengali/character13/0144_08.png  \n",
            "  inflating: omniglot/data/Bengali/character13/0144_09.png  \n",
            "  inflating: omniglot/data/Bengali/character14/0145_18.png  \n",
            "  inflating: omniglot/data/Bengali/character14/0145_19.png  \n",
            "  inflating: omniglot/data/Bengali/character14/0145_09.png  \n",
            "  inflating: omniglot/data/Bengali/character14/0145_20.png  \n",
            "  inflating: omniglot/data/Bengali/character14/0145_08.png  \n",
            "  inflating: omniglot/data/Bengali/character14/0145_12.png  \n",
            "  inflating: omniglot/data/Bengali/character14/0145_06.png  \n",
            "  inflating: omniglot/data/Bengali/character14/0145_07.png  \n",
            "  inflating: omniglot/data/Bengali/character14/0145_13.png  \n",
            "  inflating: omniglot/data/Bengali/character14/0145_05.png  \n",
            "  inflating: omniglot/data/Bengali/character14/0145_11.png  \n",
            "  inflating: omniglot/data/Bengali/character14/0145_10.png  \n",
            "  inflating: omniglot/data/Bengali/character14/0145_04.png  \n",
            "  inflating: omniglot/data/Bengali/character14/0145_14.png  \n",
            "  inflating: omniglot/data/Bengali/character14/0145_15.png  \n",
            "  inflating: omniglot/data/Bengali/character14/0145_01.png  \n",
            "  inflating: omniglot/data/Bengali/character14/0145_17.png  \n",
            "  inflating: omniglot/data/Bengali/character14/0145_03.png  \n",
            "  inflating: omniglot/data/Bengali/character14/0145_02.png  \n",
            "  inflating: omniglot/data/Bengali/character14/0145_16.png  \n",
            "  inflating: omniglot/data/Bengali/character40/0171_20.png  \n",
            "  inflating: omniglot/data/Bengali/character40/0171_08.png  \n",
            "  inflating: omniglot/data/Bengali/character40/0171_09.png  \n",
            "  inflating: omniglot/data/Bengali/character40/0171_19.png  \n",
            "  inflating: omniglot/data/Bengali/character40/0171_18.png  \n",
            "  inflating: omniglot/data/Bengali/character40/0171_02.png  \n",
            "  inflating: omniglot/data/Bengali/character40/0171_16.png  \n",
            "  inflating: omniglot/data/Bengali/character40/0171_17.png  \n",
            "  inflating: omniglot/data/Bengali/character40/0171_03.png  \n",
            "  inflating: omniglot/data/Bengali/character40/0171_15.png  \n",
            "  inflating: omniglot/data/Bengali/character40/0171_01.png  \n",
            "  inflating: omniglot/data/Bengali/character40/0171_14.png  \n",
            "  inflating: omniglot/data/Bengali/character40/0171_10.png  \n",
            "  inflating: omniglot/data/Bengali/character40/0171_04.png  \n",
            "  inflating: omniglot/data/Bengali/character40/0171_05.png  \n",
            "  inflating: omniglot/data/Bengali/character40/0171_11.png  \n",
            "  inflating: omniglot/data/Bengali/character40/0171_07.png  \n",
            "  inflating: omniglot/data/Bengali/character40/0171_13.png  \n",
            "  inflating: omniglot/data/Bengali/character40/0171_12.png  \n",
            "  inflating: omniglot/data/Bengali/character40/0171_06.png  \n",
            "  inflating: omniglot/data/Bengali/character09/0140_03.png  \n",
            "  inflating: omniglot/data/Bengali/character09/0140_17.png  \n",
            "  inflating: omniglot/data/Bengali/character09/0140_16.png  \n",
            "  inflating: omniglot/data/Bengali/character09/0140_02.png  \n",
            "  inflating: omniglot/data/Bengali/character09/0140_14.png  \n",
            "  inflating: omniglot/data/Bengali/character09/0140_01.png  \n",
            "  inflating: omniglot/data/Bengali/character09/0140_15.png  \n",
            "  inflating: omniglot/data/Bengali/character09/0140_11.png  \n",
            "  inflating: omniglot/data/Bengali/character09/0140_05.png  \n",
            "  inflating: omniglot/data/Bengali/character09/0140_04.png  \n",
            "  inflating: omniglot/data/Bengali/character09/0140_10.png  \n",
            "  inflating: omniglot/data/Bengali/character09/0140_06.png  \n",
            "  inflating: omniglot/data/Bengali/character09/0140_12.png  \n",
            "  inflating: omniglot/data/Bengali/character09/0140_13.png  \n",
            "  inflating: omniglot/data/Bengali/character09/0140_07.png  \n",
            "  inflating: omniglot/data/Bengali/character09/0140_09.png  \n",
            "  inflating: omniglot/data/Bengali/character09/0140_20.png  \n",
            "  inflating: omniglot/data/Bengali/character09/0140_08.png  \n",
            "  inflating: omniglot/data/Bengali/character09/0140_18.png  \n",
            "  inflating: omniglot/data/Bengali/character09/0140_19.png  \n",
            "  inflating: omniglot/data/Bengali/character36/0167_18.png  \n",
            "  inflating: omniglot/data/Bengali/character36/0167_19.png  \n",
            "  inflating: omniglot/data/Bengali/character36/0167_09.png  \n",
            "  inflating: omniglot/data/Bengali/character36/0167_20.png  \n",
            "  inflating: omniglot/data/Bengali/character36/0167_08.png  \n",
            "  inflating: omniglot/data/Bengali/character36/0167_11.png  \n",
            "  inflating: omniglot/data/Bengali/character36/0167_05.png  \n",
            "  inflating: omniglot/data/Bengali/character36/0167_04.png  \n",
            "  inflating: omniglot/data/Bengali/character36/0167_10.png  \n",
            "  inflating: omniglot/data/Bengali/character36/0167_06.png  \n",
            "  inflating: omniglot/data/Bengali/character36/0167_12.png  \n",
            "  inflating: omniglot/data/Bengali/character36/0167_13.png  \n",
            "  inflating: omniglot/data/Bengali/character36/0167_07.png  \n",
            "  inflating: omniglot/data/Bengali/character36/0167_03.png  \n",
            "  inflating: omniglot/data/Bengali/character36/0167_17.png  \n",
            "  inflating: omniglot/data/Bengali/character36/0167_16.png  \n",
            "  inflating: omniglot/data/Bengali/character36/0167_02.png  \n",
            "  inflating: omniglot/data/Bengali/character36/0167_14.png  \n",
            "  inflating: omniglot/data/Bengali/character36/0167_01.png  \n",
            "  inflating: omniglot/data/Bengali/character36/0167_15.png  \n",
            "  inflating: omniglot/data/Bengali/character31/0162_14.png  \n",
            "  inflating: omniglot/data/Bengali/character31/0162_15.png  \n",
            "  inflating: omniglot/data/Bengali/character31/0162_01.png  \n",
            "  inflating: omniglot/data/Bengali/character31/0162_17.png  \n",
            "  inflating: omniglot/data/Bengali/character31/0162_03.png  \n",
            "  inflating: omniglot/data/Bengali/character31/0162_02.png  \n",
            "  inflating: omniglot/data/Bengali/character31/0162_16.png  \n",
            "  inflating: omniglot/data/Bengali/character31/0162_12.png  \n",
            "  inflating: omniglot/data/Bengali/character31/0162_06.png  \n",
            "  inflating: omniglot/data/Bengali/character31/0162_07.png  \n",
            "  inflating: omniglot/data/Bengali/character31/0162_13.png  \n",
            "  inflating: omniglot/data/Bengali/character31/0162_05.png  \n",
            "  inflating: omniglot/data/Bengali/character31/0162_11.png  \n",
            "  inflating: omniglot/data/Bengali/character31/0162_10.png  \n",
            "  inflating: omniglot/data/Bengali/character31/0162_04.png  \n",
            "  inflating: omniglot/data/Bengali/character31/0162_09.png  \n",
            "  inflating: omniglot/data/Bengali/character31/0162_20.png  \n",
            "  inflating: omniglot/data/Bengali/character31/0162_08.png  \n",
            "  inflating: omniglot/data/Bengali/character31/0162_18.png  \n",
            "  inflating: omniglot/data/Bengali/character31/0162_19.png  \n",
            "  inflating: omniglot/data/Bengali/character38/0169_09.png  \n",
            "  inflating: omniglot/data/Bengali/character38/0169_20.png  \n",
            "  inflating: omniglot/data/Bengali/character38/0169_08.png  \n",
            "  inflating: omniglot/data/Bengali/character38/0169_18.png  \n",
            "  inflating: omniglot/data/Bengali/character38/0169_19.png  \n",
            "  inflating: omniglot/data/Bengali/character38/0169_14.png  \n",
            "  inflating: omniglot/data/Bengali/character38/0169_15.png  \n",
            "  inflating: omniglot/data/Bengali/character38/0169_01.png  \n",
            "  inflating: omniglot/data/Bengali/character38/0169_17.png  \n",
            "  inflating: omniglot/data/Bengali/character38/0169_03.png  \n",
            "  inflating: omniglot/data/Bengali/character38/0169_02.png  \n",
            "  inflating: omniglot/data/Bengali/character38/0169_16.png  \n",
            "  inflating: omniglot/data/Bengali/character38/0169_12.png  \n",
            "  inflating: omniglot/data/Bengali/character38/0169_06.png  \n",
            "  inflating: omniglot/data/Bengali/character38/0169_07.png  \n",
            "  inflating: omniglot/data/Bengali/character38/0169_13.png  \n",
            "  inflating: omniglot/data/Bengali/character38/0169_05.png  \n",
            "  inflating: omniglot/data/Bengali/character38/0169_11.png  \n",
            "  inflating: omniglot/data/Bengali/character38/0169_10.png  \n",
            "  inflating: omniglot/data/Bengali/character38/0169_04.png  \n",
            "  inflating: omniglot/data/Bengali/character07/0138_18.png  \n",
            "  inflating: omniglot/data/Bengali/character07/0138_19.png  \n",
            "  inflating: omniglot/data/Bengali/character07/0138_09.png  \n",
            "  inflating: omniglot/data/Bengali/character07/0138_20.png  \n",
            "  inflating: omniglot/data/Bengali/character07/0138_08.png  \n",
            "  inflating: omniglot/data/Bengali/character07/0138_12.png  \n",
            "  inflating: omniglot/data/Bengali/character07/0138_06.png  \n",
            "  inflating: omniglot/data/Bengali/character07/0138_07.png  \n",
            "  inflating: omniglot/data/Bengali/character07/0138_13.png  \n",
            "  inflating: omniglot/data/Bengali/character07/0138_05.png  \n",
            "  inflating: omniglot/data/Bengali/character07/0138_11.png  \n",
            "  inflating: omniglot/data/Bengali/character07/0138_10.png  \n",
            "  inflating: omniglot/data/Bengali/character07/0138_04.png  \n",
            "  inflating: omniglot/data/Bengali/character07/0138_14.png  \n",
            "  inflating: omniglot/data/Bengali/character07/0138_15.png  \n",
            "  inflating: omniglot/data/Bengali/character07/0138_01.png  \n",
            "  inflating: omniglot/data/Bengali/character07/0138_17.png  \n",
            "  inflating: omniglot/data/Bengali/character07/0138_03.png  \n",
            "  inflating: omniglot/data/Bengali/character07/0138_02.png  \n",
            "  inflating: omniglot/data/Bengali/character07/0138_16.png  \n",
            "  inflating: omniglot/data/Bengali/character01/0132_19.png  \n",
            "  inflating: omniglot/data/Bengali/character01/0132_18.png  \n",
            "  inflating: omniglot/data/Bengali/character01/0132_20.png  \n",
            "  inflating: omniglot/data/Bengali/character01/0132_08.png  \n",
            "  inflating: omniglot/data/Bengali/character01/0132_09.png  \n",
            "  inflating: omniglot/data/Bengali/character01/0132_04.png  \n",
            "  inflating: omniglot/data/Bengali/character01/0132_10.png  \n",
            "  inflating: omniglot/data/Bengali/character01/0132_11.png  \n",
            "  inflating: omniglot/data/Bengali/character01/0132_05.png  \n",
            "  inflating: omniglot/data/Bengali/character01/0132_13.png  \n",
            "  inflating: omniglot/data/Bengali/character01/0132_07.png  \n",
            "  inflating: omniglot/data/Bengali/character01/0132_06.png  \n",
            "  inflating: omniglot/data/Bengali/character01/0132_12.png  \n",
            "  inflating: omniglot/data/Bengali/character01/0132_16.png  \n",
            "  inflating: omniglot/data/Bengali/character01/0132_02.png  \n",
            "  inflating: omniglot/data/Bengali/character01/0132_03.png  \n",
            "  inflating: omniglot/data/Bengali/character01/0132_17.png  \n",
            "  inflating: omniglot/data/Bengali/character01/0132_01.png  \n",
            "  inflating: omniglot/data/Bengali/character01/0132_15.png  \n",
            "  inflating: omniglot/data/Bengali/character01/0132_14.png  \n",
            "  inflating: omniglot/data/Bengali/character39/0170_14.png  \n",
            "  inflating: omniglot/data/Bengali/character39/0170_01.png  \n",
            "  inflating: omniglot/data/Bengali/character39/0170_15.png  \n",
            "  inflating: omniglot/data/Bengali/character39/0170_03.png  \n",
            "  inflating: omniglot/data/Bengali/character39/0170_17.png  \n",
            "  inflating: omniglot/data/Bengali/character39/0170_16.png  \n",
            "  inflating: omniglot/data/Bengali/character39/0170_02.png  \n",
            "  inflating: omniglot/data/Bengali/character39/0170_06.png  \n",
            "  inflating: omniglot/data/Bengali/character39/0170_12.png  \n",
            "  inflating: omniglot/data/Bengali/character39/0170_13.png  \n",
            "  inflating: omniglot/data/Bengali/character39/0170_07.png  \n",
            "  inflating: omniglot/data/Bengali/character39/0170_11.png  \n",
            "  inflating: omniglot/data/Bengali/character39/0170_05.png  \n",
            "  inflating: omniglot/data/Bengali/character39/0170_04.png  \n",
            "  inflating: omniglot/data/Bengali/character39/0170_10.png  \n",
            "  inflating: omniglot/data/Bengali/character39/0170_09.png  \n",
            "  inflating: omniglot/data/Bengali/character39/0170_20.png  \n",
            "  inflating: omniglot/data/Bengali/character39/0170_08.png  \n",
            "  inflating: omniglot/data/Bengali/character39/0170_18.png  \n",
            "  inflating: omniglot/data/Bengali/character39/0170_19.png  \n",
            "  inflating: omniglot/data/Bengali/character06/0137_15.png  \n",
            "  inflating: omniglot/data/Bengali/character06/0137_01.png  \n",
            "  inflating: omniglot/data/Bengali/character06/0137_14.png  \n",
            "  inflating: omniglot/data/Bengali/character06/0137_02.png  \n",
            "  inflating: omniglot/data/Bengali/character06/0137_16.png  \n",
            "  inflating: omniglot/data/Bengali/character06/0137_17.png  \n",
            "  inflating: omniglot/data/Bengali/character06/0137_03.png  \n",
            "  inflating: omniglot/data/Bengali/character06/0137_07.png  \n",
            "  inflating: omniglot/data/Bengali/character06/0137_13.png  \n",
            "  inflating: omniglot/data/Bengali/character06/0137_12.png  \n",
            "  inflating: omniglot/data/Bengali/character06/0137_06.png  \n",
            "  inflating: omniglot/data/Bengali/character06/0137_10.png  \n",
            "  inflating: omniglot/data/Bengali/character06/0137_04.png  \n",
            "  inflating: omniglot/data/Bengali/character06/0137_05.png  \n",
            "  inflating: omniglot/data/Bengali/character06/0137_11.png  \n",
            "  inflating: omniglot/data/Bengali/character06/0137_20.png  \n",
            "  inflating: omniglot/data/Bengali/character06/0137_08.png  \n",
            "  inflating: omniglot/data/Bengali/character06/0137_09.png  \n",
            "  inflating: omniglot/data/Bengali/character06/0137_19.png  \n",
            "  inflating: omniglot/data/Bengali/character06/0137_18.png  \n",
            "  inflating: omniglot/data/Bengali/character30/0161_19.png  \n",
            "  inflating: omniglot/data/Bengali/character30/0161_18.png  \n",
            "  inflating: omniglot/data/Bengali/character30/0161_08.png  \n",
            "  inflating: omniglot/data/Bengali/character30/0161_20.png  \n",
            "  inflating: omniglot/data/Bengali/character30/0161_09.png  \n",
            "  inflating: omniglot/data/Bengali/character30/0161_13.png  \n",
            "  inflating: omniglot/data/Bengali/character30/0161_07.png  \n",
            "  inflating: omniglot/data/Bengali/character30/0161_06.png  \n",
            "  inflating: omniglot/data/Bengali/character30/0161_12.png  \n",
            "  inflating: omniglot/data/Bengali/character30/0161_04.png  \n",
            "  inflating: omniglot/data/Bengali/character30/0161_10.png  \n",
            "  inflating: omniglot/data/Bengali/character30/0161_11.png  \n",
            "  inflating: omniglot/data/Bengali/character30/0161_05.png  \n",
            "  inflating: omniglot/data/Bengali/character30/0161_01.png  \n",
            "  inflating: omniglot/data/Bengali/character30/0161_15.png  \n",
            "  inflating: omniglot/data/Bengali/character30/0161_14.png  \n",
            "  inflating: omniglot/data/Bengali/character30/0161_16.png  \n",
            "  inflating: omniglot/data/Bengali/character30/0161_02.png  \n",
            "  inflating: omniglot/data/Bengali/character30/0161_03.png  \n",
            "  inflating: omniglot/data/Bengali/character30/0161_17.png  \n",
            "  inflating: omniglot/data/Bengali/character08/0139_04.png  \n",
            "  inflating: omniglot/data/Bengali/character08/0139_10.png  \n",
            "  inflating: omniglot/data/Bengali/character08/0139_11.png  \n",
            "  inflating: omniglot/data/Bengali/character08/0139_05.png  \n",
            "  inflating: omniglot/data/Bengali/character08/0139_13.png  \n",
            "  inflating: omniglot/data/Bengali/character08/0139_07.png  \n",
            "  inflating: omniglot/data/Bengali/character08/0139_06.png  \n",
            "  inflating: omniglot/data/Bengali/character08/0139_12.png  \n",
            "  inflating: omniglot/data/Bengali/character08/0139_16.png  \n",
            "  inflating: omniglot/data/Bengali/character08/0139_02.png  \n",
            "  inflating: omniglot/data/Bengali/character08/0139_03.png  \n",
            "  inflating: omniglot/data/Bengali/character08/0139_17.png  \n",
            "  inflating: omniglot/data/Bengali/character08/0139_01.png  \n",
            "  inflating: omniglot/data/Bengali/character08/0139_15.png  \n",
            "  inflating: omniglot/data/Bengali/character08/0139_14.png  \n",
            "  inflating: omniglot/data/Bengali/character08/0139_19.png  \n",
            "  inflating: omniglot/data/Bengali/character08/0139_18.png  \n",
            "  inflating: omniglot/data/Bengali/character08/0139_20.png  \n",
            "  inflating: omniglot/data/Bengali/character08/0139_08.png  \n",
            "  inflating: omniglot/data/Bengali/character08/0139_09.png  \n",
            "  inflating: omniglot/data/Bengali/character37/0168_16.png  \n",
            "  inflating: omniglot/data/Bengali/character37/0168_02.png  \n",
            "  inflating: omniglot/data/Bengali/character37/0168_03.png  \n",
            "  inflating: omniglot/data/Bengali/character37/0168_17.png  \n",
            "  inflating: omniglot/data/Bengali/character37/0168_01.png  \n",
            "  inflating: omniglot/data/Bengali/character37/0168_15.png  \n",
            "  inflating: omniglot/data/Bengali/character37/0168_14.png  \n",
            "  inflating: omniglot/data/Bengali/character37/0168_04.png  \n",
            "  inflating: omniglot/data/Bengali/character37/0168_10.png  \n",
            "  inflating: omniglot/data/Bengali/character37/0168_11.png  \n",
            "  inflating: omniglot/data/Bengali/character37/0168_05.png  \n",
            "  inflating: omniglot/data/Bengali/character37/0168_13.png  \n",
            "  inflating: omniglot/data/Bengali/character37/0168_07.png  \n",
            "  inflating: omniglot/data/Bengali/character37/0168_06.png  \n",
            "  inflating: omniglot/data/Bengali/character37/0168_12.png  \n",
            "  inflating: omniglot/data/Bengali/character37/0168_20.png  \n",
            "  inflating: omniglot/data/Bengali/character37/0168_08.png  \n",
            "  inflating: omniglot/data/Bengali/character37/0168_09.png  \n",
            "  inflating: omniglot/data/Bengali/character37/0168_19.png  \n",
            "  inflating: omniglot/data/Bengali/character37/0168_18.png  \n",
            "  inflating: omniglot/data/Glagolitic/character42/1156_10.png  \n",
            "  inflating: omniglot/data/Glagolitic/character42/1156_04.png  \n",
            "  inflating: omniglot/data/Glagolitic/character42/1156_05.png  \n",
            "  inflating: omniglot/data/Glagolitic/character42/1156_11.png  \n",
            "  inflating: omniglot/data/Glagolitic/character42/1156_07.png  \n",
            "  inflating: omniglot/data/Glagolitic/character42/1156_13.png  \n",
            "  inflating: omniglot/data/Glagolitic/character42/1156_12.png  \n",
            "  inflating: omniglot/data/Glagolitic/character42/1156_06.png  \n",
            "  inflating: omniglot/data/Glagolitic/character42/1156_02.png  \n",
            "  inflating: omniglot/data/Glagolitic/character42/1156_16.png  \n",
            "  inflating: omniglot/data/Glagolitic/character42/1156_17.png  \n",
            "  inflating: omniglot/data/Glagolitic/character42/1156_03.png  \n",
            "  inflating: omniglot/data/Glagolitic/character42/1156_15.png  \n",
            "  inflating: omniglot/data/Glagolitic/character42/1156_01.png  \n",
            "  inflating: omniglot/data/Glagolitic/character42/1156_14.png  \n",
            "  inflating: omniglot/data/Glagolitic/character42/1156_19.png  \n",
            "  inflating: omniglot/data/Glagolitic/character42/1156_18.png  \n",
            "  inflating: omniglot/data/Glagolitic/character42/1156_08.png  \n",
            "  inflating: omniglot/data/Glagolitic/character42/1156_20.png  \n",
            "  inflating: omniglot/data/Glagolitic/character42/1156_09.png  \n",
            "  inflating: omniglot/data/Glagolitic/character45/1159_09.png  \n",
            "  inflating: omniglot/data/Glagolitic/character45/1159_08.png  \n",
            "  inflating: omniglot/data/Glagolitic/character45/1159_20.png  \n",
            "  inflating: omniglot/data/Glagolitic/character45/1159_18.png  \n",
            "  inflating: omniglot/data/Glagolitic/character45/1159_19.png  \n",
            "  inflating: omniglot/data/Glagolitic/character45/1159_17.png  \n",
            "  inflating: omniglot/data/Glagolitic/character45/1159_03.png  \n",
            "  inflating: omniglot/data/Glagolitic/character45/1159_02.png  \n",
            "  inflating: omniglot/data/Glagolitic/character45/1159_16.png  \n",
            "  inflating: omniglot/data/Glagolitic/character45/1159_14.png  \n",
            "  inflating: omniglot/data/Glagolitic/character45/1159_15.png  \n",
            "  inflating: omniglot/data/Glagolitic/character45/1159_01.png  \n",
            "  inflating: omniglot/data/Glagolitic/character45/1159_05.png  \n",
            "  inflating: omniglot/data/Glagolitic/character45/1159_11.png  \n",
            "  inflating: omniglot/data/Glagolitic/character45/1159_10.png  \n",
            "  inflating: omniglot/data/Glagolitic/character45/1159_04.png  \n",
            "  inflating: omniglot/data/Glagolitic/character45/1159_12.png  \n",
            "  inflating: omniglot/data/Glagolitic/character45/1159_06.png  \n",
            "  inflating: omniglot/data/Glagolitic/character45/1159_07.png  \n",
            "  inflating: omniglot/data/Glagolitic/character45/1159_13.png  \n",
            "  inflating: omniglot/data/Glagolitic/character11/1125_01.png  \n",
            "  inflating: omniglot/data/Glagolitic/character11/1125_15.png  \n",
            "  inflating: omniglot/data/Glagolitic/character11/1125_14.png  \n",
            "  inflating: omniglot/data/Glagolitic/character11/1125_16.png  \n",
            "  inflating: omniglot/data/Glagolitic/character11/1125_02.png  \n",
            "  inflating: omniglot/data/Glagolitic/character11/1125_03.png  \n",
            "  inflating: omniglot/data/Glagolitic/character11/1125_17.png  \n",
            "  inflating: omniglot/data/Glagolitic/character11/1125_13.png  \n",
            "  inflating: omniglot/data/Glagolitic/character11/1125_07.png  \n",
            "  inflating: omniglot/data/Glagolitic/character11/1125_06.png  \n",
            "  inflating: omniglot/data/Glagolitic/character11/1125_12.png  \n",
            "  inflating: omniglot/data/Glagolitic/character11/1125_04.png  \n",
            "  inflating: omniglot/data/Glagolitic/character11/1125_10.png  \n",
            "  inflating: omniglot/data/Glagolitic/character11/1125_11.png  \n",
            "  inflating: omniglot/data/Glagolitic/character11/1125_05.png  \n",
            "  inflating: omniglot/data/Glagolitic/character11/1125_08.png  \n",
            "  inflating: omniglot/data/Glagolitic/character11/1125_20.png  \n",
            "  inflating: omniglot/data/Glagolitic/character11/1125_09.png  \n",
            "  inflating: omniglot/data/Glagolitic/character11/1125_19.png  \n",
            "  inflating: omniglot/data/Glagolitic/character11/1125_18.png  \n",
            "  inflating: omniglot/data/Glagolitic/character16/1130_20.png  \n",
            "  inflating: omniglot/data/Glagolitic/character16/1130_08.png  \n",
            "  inflating: omniglot/data/Glagolitic/character16/1130_09.png  \n",
            "  inflating: omniglot/data/Glagolitic/character16/1130_19.png  \n",
            "  inflating: omniglot/data/Glagolitic/character16/1130_18.png  \n",
            "  inflating: omniglot/data/Glagolitic/character16/1130_01.png  \n",
            "  inflating: omniglot/data/Glagolitic/character16/1130_15.png  \n",
            "  inflating: omniglot/data/Glagolitic/character16/1130_14.png  \n",
            "  inflating: omniglot/data/Glagolitic/character16/1130_16.png  \n",
            "  inflating: omniglot/data/Glagolitic/character16/1130_02.png  \n",
            "  inflating: omniglot/data/Glagolitic/character16/1130_03.png  \n",
            "  inflating: omniglot/data/Glagolitic/character16/1130_17.png  \n",
            "  inflating: omniglot/data/Glagolitic/character16/1130_13.png  \n",
            "  inflating: omniglot/data/Glagolitic/character16/1130_07.png  \n",
            "  inflating: omniglot/data/Glagolitic/character16/1130_06.png  \n",
            "  inflating: omniglot/data/Glagolitic/character16/1130_12.png  \n",
            "  inflating: omniglot/data/Glagolitic/character16/1130_04.png  \n",
            "  inflating: omniglot/data/Glagolitic/character16/1130_10.png  \n",
            "  inflating: omniglot/data/Glagolitic/character16/1130_11.png  \n",
            "  inflating: omniglot/data/Glagolitic/character16/1130_05.png  \n",
            "  inflating: omniglot/data/Glagolitic/character29/1143_19.png  \n",
            "  inflating: omniglot/data/Glagolitic/character29/1143_18.png  \n",
            "  inflating: omniglot/data/Glagolitic/character29/1143_20.png  \n",
            "  inflating: omniglot/data/Glagolitic/character29/1143_08.png  \n",
            "  inflating: omniglot/data/Glagolitic/character29/1143_09.png  \n",
            "  inflating: omniglot/data/Glagolitic/character29/1143_10.png  \n",
            "  inflating: omniglot/data/Glagolitic/character29/1143_04.png  \n",
            "  inflating: omniglot/data/Glagolitic/character29/1143_05.png  \n",
            "  inflating: omniglot/data/Glagolitic/character29/1143_11.png  \n",
            "  inflating: omniglot/data/Glagolitic/character29/1143_07.png  \n",
            "  inflating: omniglot/data/Glagolitic/character29/1143_13.png  \n",
            "  inflating: omniglot/data/Glagolitic/character29/1143_12.png  \n",
            "  inflating: omniglot/data/Glagolitic/character29/1143_06.png  \n",
            "  inflating: omniglot/data/Glagolitic/character29/1143_02.png  \n",
            "  inflating: omniglot/data/Glagolitic/character29/1143_16.png  \n",
            "  inflating: omniglot/data/Glagolitic/character29/1143_17.png  \n",
            "  inflating: omniglot/data/Glagolitic/character29/1143_03.png  \n",
            "  inflating: omniglot/data/Glagolitic/character29/1143_15.png  \n",
            "  inflating: omniglot/data/Glagolitic/character29/1143_01.png  \n",
            "  inflating: omniglot/data/Glagolitic/character29/1143_14.png  \n",
            "  inflating: omniglot/data/Glagolitic/character20/1134_18.png  \n",
            "  inflating: omniglot/data/Glagolitic/character20/1134_19.png  \n",
            "  inflating: omniglot/data/Glagolitic/character20/1134_09.png  \n",
            "  inflating: omniglot/data/Glagolitic/character20/1134_20.png  \n",
            "  inflating: omniglot/data/Glagolitic/character20/1134_08.png  \n",
            "  inflating: omniglot/data/Glagolitic/character20/1134_06.png  \n",
            "  inflating: omniglot/data/Glagolitic/character20/1134_12.png  \n",
            "  inflating: omniglot/data/Glagolitic/character20/1134_13.png  \n",
            "  inflating: omniglot/data/Glagolitic/character20/1134_07.png  \n",
            "  inflating: omniglot/data/Glagolitic/character20/1134_11.png  \n",
            "  inflating: omniglot/data/Glagolitic/character20/1134_05.png  \n",
            "  inflating: omniglot/data/Glagolitic/character20/1134_04.png  \n",
            "  inflating: omniglot/data/Glagolitic/character20/1134_10.png  \n",
            "  inflating: omniglot/data/Glagolitic/character20/1134_14.png  \n",
            "  inflating: omniglot/data/Glagolitic/character20/1134_01.png  \n",
            "  inflating: omniglot/data/Glagolitic/character20/1134_15.png  \n",
            "  inflating: omniglot/data/Glagolitic/character20/1134_03.png  \n",
            "  inflating: omniglot/data/Glagolitic/character20/1134_17.png  \n",
            "  inflating: omniglot/data/Glagolitic/character20/1134_16.png  \n",
            "  inflating: omniglot/data/Glagolitic/character20/1134_02.png  \n",
            "  inflating: omniglot/data/Glagolitic/character27/1141_08.png  \n",
            "  inflating: omniglot/data/Glagolitic/character27/1141_20.png  \n",
            "  inflating: omniglot/data/Glagolitic/character27/1141_09.png  \n",
            "  inflating: omniglot/data/Glagolitic/character27/1141_19.png  \n",
            "  inflating: omniglot/data/Glagolitic/character27/1141_18.png  \n",
            "  inflating: omniglot/data/Glagolitic/character27/1141_15.png  \n",
            "  inflating: omniglot/data/Glagolitic/character27/1141_01.png  \n",
            "  inflating: omniglot/data/Glagolitic/character27/1141_14.png  \n",
            "  inflating: omniglot/data/Glagolitic/character27/1141_02.png  \n",
            "  inflating: omniglot/data/Glagolitic/character27/1141_16.png  \n",
            "  inflating: omniglot/data/Glagolitic/character27/1141_17.png  \n",
            "  inflating: omniglot/data/Glagolitic/character27/1141_03.png  \n",
            "  inflating: omniglot/data/Glagolitic/character27/1141_07.png  \n",
            "  inflating: omniglot/data/Glagolitic/character27/1141_13.png  \n",
            "  inflating: omniglot/data/Glagolitic/character27/1141_12.png  \n",
            "  inflating: omniglot/data/Glagolitic/character27/1141_06.png  \n",
            "  inflating: omniglot/data/Glagolitic/character27/1141_10.png  \n",
            "  inflating: omniglot/data/Glagolitic/character27/1141_04.png  \n",
            "  inflating: omniglot/data/Glagolitic/character27/1141_05.png  \n",
            "  inflating: omniglot/data/Glagolitic/character27/1141_11.png  \n",
            "  inflating: omniglot/data/Glagolitic/character18/1132_19.png  \n",
            "  inflating: omniglot/data/Glagolitic/character18/1132_18.png  \n",
            "  inflating: omniglot/data/Glagolitic/character18/1132_08.png  \n",
            "  inflating: omniglot/data/Glagolitic/character18/1132_20.png  \n",
            "  inflating: omniglot/data/Glagolitic/character18/1132_09.png  \n",
            "  inflating: omniglot/data/Glagolitic/character18/1132_04.png  \n",
            "  inflating: omniglot/data/Glagolitic/character18/1132_10.png  \n",
            "  inflating: omniglot/data/Glagolitic/character18/1132_11.png  \n",
            "  inflating: omniglot/data/Glagolitic/character18/1132_05.png  \n",
            "  inflating: omniglot/data/Glagolitic/character18/1132_13.png  \n",
            "  inflating: omniglot/data/Glagolitic/character18/1132_07.png  \n",
            "  inflating: omniglot/data/Glagolitic/character18/1132_06.png  \n",
            "  inflating: omniglot/data/Glagolitic/character18/1132_12.png  \n",
            "  inflating: omniglot/data/Glagolitic/character18/1132_16.png  \n",
            "  inflating: omniglot/data/Glagolitic/character18/1132_02.png  \n",
            "  inflating: omniglot/data/Glagolitic/character18/1132_03.png  \n",
            "  inflating: omniglot/data/Glagolitic/character18/1132_17.png  \n",
            "  inflating: omniglot/data/Glagolitic/character18/1132_01.png  \n",
            "  inflating: omniglot/data/Glagolitic/character18/1132_15.png  \n",
            "  inflating: omniglot/data/Glagolitic/character18/1132_14.png  \n",
            "  inflating: omniglot/data/Glagolitic/character44/1158_01.png  \n",
            "  inflating: omniglot/data/Glagolitic/character44/1158_15.png  \n",
            "  inflating: omniglot/data/Glagolitic/character44/1158_14.png  \n",
            "  inflating: omniglot/data/Glagolitic/character44/1158_16.png  \n",
            "  inflating: omniglot/data/Glagolitic/character44/1158_02.png  \n",
            "  inflating: omniglot/data/Glagolitic/character44/1158_03.png  \n",
            "  inflating: omniglot/data/Glagolitic/character44/1158_17.png  \n",
            "  inflating: omniglot/data/Glagolitic/character44/1158_13.png  \n",
            "  inflating: omniglot/data/Glagolitic/character44/1158_07.png  \n",
            "  inflating: omniglot/data/Glagolitic/character44/1158_06.png  \n",
            "  inflating: omniglot/data/Glagolitic/character44/1158_12.png  \n",
            "  inflating: omniglot/data/Glagolitic/character44/1158_04.png  \n",
            "  inflating: omniglot/data/Glagolitic/character44/1158_10.png  \n",
            "  inflating: omniglot/data/Glagolitic/character44/1158_11.png  \n",
            "  inflating: omniglot/data/Glagolitic/character44/1158_05.png  \n",
            "  inflating: omniglot/data/Glagolitic/character44/1158_08.png  \n",
            "  inflating: omniglot/data/Glagolitic/character44/1158_20.png  \n",
            "  inflating: omniglot/data/Glagolitic/character44/1158_09.png  \n",
            "  inflating: omniglot/data/Glagolitic/character44/1158_19.png  \n",
            "  inflating: omniglot/data/Glagolitic/character44/1158_18.png  \n",
            "  inflating: omniglot/data/Glagolitic/character43/1157_18.png  \n",
            "  inflating: omniglot/data/Glagolitic/character43/1157_19.png  \n",
            "  inflating: omniglot/data/Glagolitic/character43/1157_09.png  \n",
            "  inflating: omniglot/data/Glagolitic/character43/1157_08.png  \n",
            "  inflating: omniglot/data/Glagolitic/character43/1157_20.png  \n",
            "  inflating: omniglot/data/Glagolitic/character43/1157_06.png  \n",
            "  inflating: omniglot/data/Glagolitic/character43/1157_12.png  \n",
            "  inflating: omniglot/data/Glagolitic/character43/1157_13.png  \n",
            "  inflating: omniglot/data/Glagolitic/character43/1157_07.png  \n",
            "  inflating: omniglot/data/Glagolitic/character43/1157_11.png  \n",
            "  inflating: omniglot/data/Glagolitic/character43/1157_05.png  \n",
            "  inflating: omniglot/data/Glagolitic/character43/1157_04.png  \n",
            "  inflating: omniglot/data/Glagolitic/character43/1157_10.png  \n",
            "  inflating: omniglot/data/Glagolitic/character43/1157_14.png  \n",
            "  inflating: omniglot/data/Glagolitic/character43/1157_01.png  \n",
            "  inflating: omniglot/data/Glagolitic/character43/1157_15.png  \n",
            "  inflating: omniglot/data/Glagolitic/character43/1157_03.png  \n",
            "  inflating: omniglot/data/Glagolitic/character43/1157_17.png  \n",
            "  inflating: omniglot/data/Glagolitic/character43/1157_16.png  \n",
            "  inflating: omniglot/data/Glagolitic/character43/1157_02.png  \n",
            "  inflating: omniglot/data/Glagolitic/character26/1140_03.png  \n",
            "  inflating: omniglot/data/Glagolitic/character26/1140_17.png  \n",
            "  inflating: omniglot/data/Glagolitic/character26/1140_16.png  \n",
            "  inflating: omniglot/data/Glagolitic/character26/1140_02.png  \n",
            "  inflating: omniglot/data/Glagolitic/character26/1140_14.png  \n",
            "  inflating: omniglot/data/Glagolitic/character26/1140_01.png  \n",
            "  inflating: omniglot/data/Glagolitic/character26/1140_15.png  \n",
            "  inflating: omniglot/data/Glagolitic/character26/1140_11.png  \n",
            "  inflating: omniglot/data/Glagolitic/character26/1140_05.png  \n",
            "  inflating: omniglot/data/Glagolitic/character26/1140_04.png  \n",
            "  inflating: omniglot/data/Glagolitic/character26/1140_10.png  \n",
            "  inflating: omniglot/data/Glagolitic/character26/1140_06.png  \n",
            "  inflating: omniglot/data/Glagolitic/character26/1140_12.png  \n",
            "  inflating: omniglot/data/Glagolitic/character26/1140_13.png  \n",
            "  inflating: omniglot/data/Glagolitic/character26/1140_07.png  \n",
            "  inflating: omniglot/data/Glagolitic/character26/1140_09.png  \n",
            "  inflating: omniglot/data/Glagolitic/character26/1140_08.png  \n",
            "  inflating: omniglot/data/Glagolitic/character26/1140_20.png  \n",
            "  inflating: omniglot/data/Glagolitic/character26/1140_18.png  \n",
            "  inflating: omniglot/data/Glagolitic/character26/1140_19.png  \n",
            "  inflating: omniglot/data/Glagolitic/character19/1133_12.png  \n",
            "  inflating: omniglot/data/Glagolitic/character19/1133_06.png  \n",
            "  inflating: omniglot/data/Glagolitic/character19/1133_07.png  \n",
            "  inflating: omniglot/data/Glagolitic/character19/1133_13.png  \n",
            "  inflating: omniglot/data/Glagolitic/character19/1133_05.png  \n",
            "  inflating: omniglot/data/Glagolitic/character19/1133_11.png  \n",
            "  inflating: omniglot/data/Glagolitic/character19/1133_10.png  \n",
            "  inflating: omniglot/data/Glagolitic/character19/1133_04.png  \n",
            "  inflating: omniglot/data/Glagolitic/character19/1133_14.png  \n",
            "  inflating: omniglot/data/Glagolitic/character19/1133_15.png  \n",
            "  inflating: omniglot/data/Glagolitic/character19/1133_01.png  \n",
            "  inflating: omniglot/data/Glagolitic/character19/1133_17.png  \n",
            "  inflating: omniglot/data/Glagolitic/character19/1133_03.png  \n",
            "  inflating: omniglot/data/Glagolitic/character19/1133_02.png  \n",
            "  inflating: omniglot/data/Glagolitic/character19/1133_16.png  \n",
            "  inflating: omniglot/data/Glagolitic/character19/1133_18.png  \n",
            "  inflating: omniglot/data/Glagolitic/character19/1133_19.png  \n",
            "  inflating: omniglot/data/Glagolitic/character19/1133_09.png  \n",
            "  inflating: omniglot/data/Glagolitic/character19/1133_08.png  \n",
            "  inflating: omniglot/data/Glagolitic/character19/1133_20.png  \n",
            "  inflating: omniglot/data/Glagolitic/character21/1135_10.png  \n",
            "  inflating: omniglot/data/Glagolitic/character21/1135_04.png  \n",
            "  inflating: omniglot/data/Glagolitic/character21/1135_05.png  \n",
            "  inflating: omniglot/data/Glagolitic/character21/1135_11.png  \n",
            "  inflating: omniglot/data/Glagolitic/character21/1135_07.png  \n",
            "  inflating: omniglot/data/Glagolitic/character21/1135_13.png  \n",
            "  inflating: omniglot/data/Glagolitic/character21/1135_12.png  \n",
            "  inflating: omniglot/data/Glagolitic/character21/1135_06.png  \n",
            "  inflating: omniglot/data/Glagolitic/character21/1135_02.png  \n",
            "  inflating: omniglot/data/Glagolitic/character21/1135_16.png  \n",
            "  inflating: omniglot/data/Glagolitic/character21/1135_17.png  \n",
            "  inflating: omniglot/data/Glagolitic/character21/1135_03.png  \n",
            "  inflating: omniglot/data/Glagolitic/character21/1135_15.png  \n",
            "  inflating: omniglot/data/Glagolitic/character21/1135_01.png  \n",
            "  inflating: omniglot/data/Glagolitic/character21/1135_14.png  \n",
            "  inflating: omniglot/data/Glagolitic/character21/1135_19.png  \n",
            "  inflating: omniglot/data/Glagolitic/character21/1135_18.png  \n",
            "  inflating: omniglot/data/Glagolitic/character21/1135_20.png  \n",
            "  inflating: omniglot/data/Glagolitic/character21/1135_08.png  \n",
            "  inflating: omniglot/data/Glagolitic/character21/1135_09.png  \n",
            "  inflating: omniglot/data/Glagolitic/character17/1131_17.png  \n",
            "  inflating: omniglot/data/Glagolitic/character17/1131_03.png  \n",
            "  inflating: omniglot/data/Glagolitic/character17/1131_02.png  \n",
            "  inflating: omniglot/data/Glagolitic/character17/1131_16.png  \n",
            "  inflating: omniglot/data/Glagolitic/character17/1131_14.png  \n",
            "  inflating: omniglot/data/Glagolitic/character17/1131_15.png  \n",
            "  inflating: omniglot/data/Glagolitic/character17/1131_01.png  \n",
            "  inflating: omniglot/data/Glagolitic/character17/1131_05.png  \n",
            "  inflating: omniglot/data/Glagolitic/character17/1131_11.png  \n",
            "  inflating: omniglot/data/Glagolitic/character17/1131_10.png  \n",
            "  inflating: omniglot/data/Glagolitic/character17/1131_04.png  \n",
            "  inflating: omniglot/data/Glagolitic/character17/1131_12.png  \n",
            "  inflating: omniglot/data/Glagolitic/character17/1131_06.png  \n",
            "  inflating: omniglot/data/Glagolitic/character17/1131_07.png  \n",
            "  inflating: omniglot/data/Glagolitic/character17/1131_13.png  \n",
            "  inflating: omniglot/data/Glagolitic/character17/1131_09.png  \n",
            "  inflating: omniglot/data/Glagolitic/character17/1131_20.png  \n",
            "  inflating: omniglot/data/Glagolitic/character17/1131_08.png  \n",
            "  inflating: omniglot/data/Glagolitic/character17/1131_18.png  \n",
            "  inflating: omniglot/data/Glagolitic/character17/1131_19.png  \n",
            "  inflating: omniglot/data/Glagolitic/character28/1142_06.png  \n",
            "  inflating: omniglot/data/Glagolitic/character28/1142_12.png  \n",
            "  inflating: omniglot/data/Glagolitic/character28/1142_13.png  \n",
            "  inflating: omniglot/data/Glagolitic/character28/1142_07.png  \n",
            "  inflating: omniglot/data/Glagolitic/character28/1142_11.png  \n",
            "  inflating: omniglot/data/Glagolitic/character28/1142_05.png  \n",
            "  inflating: omniglot/data/Glagolitic/character28/1142_04.png  \n",
            "  inflating: omniglot/data/Glagolitic/character28/1142_10.png  \n",
            "  inflating: omniglot/data/Glagolitic/character28/1142_14.png  \n",
            "  inflating: omniglot/data/Glagolitic/character28/1142_01.png  \n",
            "  inflating: omniglot/data/Glagolitic/character28/1142_15.png  \n",
            "  inflating: omniglot/data/Glagolitic/character28/1142_03.png  \n",
            "  inflating: omniglot/data/Glagolitic/character28/1142_17.png  \n",
            "  inflating: omniglot/data/Glagolitic/character28/1142_16.png  \n",
            "  inflating: omniglot/data/Glagolitic/character28/1142_02.png  \n",
            "  inflating: omniglot/data/Glagolitic/character28/1142_18.png  \n",
            "  inflating: omniglot/data/Glagolitic/character28/1142_19.png  \n",
            "  inflating: omniglot/data/Glagolitic/character28/1142_09.png  \n",
            "  inflating: omniglot/data/Glagolitic/character28/1142_20.png  \n",
            "  inflating: omniglot/data/Glagolitic/character28/1142_08.png  \n",
            "  inflating: omniglot/data/Glagolitic/character10/1124_09.png  \n",
            "  inflating: omniglot/data/Glagolitic/character10/1124_08.png  \n",
            "  inflating: omniglot/data/Glagolitic/character10/1124_20.png  \n",
            "  inflating: omniglot/data/Glagolitic/character10/1124_18.png  \n",
            "  inflating: omniglot/data/Glagolitic/character10/1124_19.png  \n",
            "  inflating: omniglot/data/Glagolitic/character10/1124_17.png  \n",
            "  inflating: omniglot/data/Glagolitic/character10/1124_03.png  \n",
            "  inflating: omniglot/data/Glagolitic/character10/1124_02.png  \n",
            "  inflating: omniglot/data/Glagolitic/character10/1124_16.png  \n",
            "  inflating: omniglot/data/Glagolitic/character10/1124_14.png  \n",
            "  inflating: omniglot/data/Glagolitic/character10/1124_15.png  \n",
            "  inflating: omniglot/data/Glagolitic/character10/1124_01.png  \n",
            "  inflating: omniglot/data/Glagolitic/character10/1124_05.png  \n",
            "  inflating: omniglot/data/Glagolitic/character10/1124_11.png  \n",
            "  inflating: omniglot/data/Glagolitic/character10/1124_10.png  \n",
            "  inflating: omniglot/data/Glagolitic/character10/1124_04.png  \n",
            "  inflating: omniglot/data/Glagolitic/character10/1124_12.png  \n",
            "  inflating: omniglot/data/Glagolitic/character10/1124_06.png  \n",
            "  inflating: omniglot/data/Glagolitic/character10/1124_07.png  \n",
            "  inflating: omniglot/data/Glagolitic/character10/1124_13.png  \n",
            "  inflating: omniglot/data/Glagolitic/character32/1146_01.png  \n",
            "  inflating: omniglot/data/Glagolitic/character32/1146_15.png  \n",
            "  inflating: omniglot/data/Glagolitic/character32/1146_14.png  \n",
            "  inflating: omniglot/data/Glagolitic/character32/1146_16.png  \n",
            "  inflating: omniglot/data/Glagolitic/character32/1146_02.png  \n",
            "  inflating: omniglot/data/Glagolitic/character32/1146_03.png  \n",
            "  inflating: omniglot/data/Glagolitic/character32/1146_17.png  \n",
            "  inflating: omniglot/data/Glagolitic/character32/1146_13.png  \n",
            "  inflating: omniglot/data/Glagolitic/character32/1146_07.png  \n",
            "  inflating: omniglot/data/Glagolitic/character32/1146_06.png  \n",
            "  inflating: omniglot/data/Glagolitic/character32/1146_12.png  \n",
            "  inflating: omniglot/data/Glagolitic/character32/1146_04.png  \n",
            "  inflating: omniglot/data/Glagolitic/character32/1146_10.png  \n",
            "  inflating: omniglot/data/Glagolitic/character32/1146_11.png  \n",
            "  inflating: omniglot/data/Glagolitic/character32/1146_05.png  \n",
            "  inflating: omniglot/data/Glagolitic/character32/1146_20.png  \n",
            "  inflating: omniglot/data/Glagolitic/character32/1146_08.png  \n",
            "  inflating: omniglot/data/Glagolitic/character32/1146_09.png  \n",
            "  inflating: omniglot/data/Glagolitic/character32/1146_19.png  \n",
            "  inflating: omniglot/data/Glagolitic/character32/1146_18.png  \n",
            "  inflating: omniglot/data/Glagolitic/character35/1149_18.png  \n",
            "  inflating: omniglot/data/Glagolitic/character35/1149_19.png  \n",
            "  inflating: omniglot/data/Glagolitic/character35/1149_09.png  \n",
            "  inflating: omniglot/data/Glagolitic/character35/1149_20.png  \n",
            "  inflating: omniglot/data/Glagolitic/character35/1149_08.png  \n",
            "  inflating: omniglot/data/Glagolitic/character35/1149_06.png  \n",
            "  inflating: omniglot/data/Glagolitic/character35/1149_12.png  \n",
            "  inflating: omniglot/data/Glagolitic/character35/1149_13.png  \n",
            "  inflating: omniglot/data/Glagolitic/character35/1149_07.png  \n",
            "  inflating: omniglot/data/Glagolitic/character35/1149_11.png  \n",
            "  inflating: omniglot/data/Glagolitic/character35/1149_05.png  \n",
            "  inflating: omniglot/data/Glagolitic/character35/1149_04.png  \n",
            "  inflating: omniglot/data/Glagolitic/character35/1149_10.png  \n",
            "  inflating: omniglot/data/Glagolitic/character35/1149_14.png  \n",
            "  inflating: omniglot/data/Glagolitic/character35/1149_01.png  \n",
            "  inflating: omniglot/data/Glagolitic/character35/1149_15.png  \n",
            "  inflating: omniglot/data/Glagolitic/character35/1149_03.png  \n",
            "  inflating: omniglot/data/Glagolitic/character35/1149_17.png  \n",
            "  inflating: omniglot/data/Glagolitic/character35/1149_16.png  \n",
            "  inflating: omniglot/data/Glagolitic/character35/1149_02.png  \n",
            "  inflating: omniglot/data/Glagolitic/character03/1117_13.png  \n",
            "  inflating: omniglot/data/Glagolitic/character03/1117_07.png  \n",
            "  inflating: omniglot/data/Glagolitic/character03/1117_06.png  \n",
            "  inflating: omniglot/data/Glagolitic/character03/1117_12.png  \n",
            "  inflating: omniglot/data/Glagolitic/character03/1117_04.png  \n",
            "  inflating: omniglot/data/Glagolitic/character03/1117_10.png  \n",
            "  inflating: omniglot/data/Glagolitic/character03/1117_11.png  \n",
            "  inflating: omniglot/data/Glagolitic/character03/1117_05.png  \n",
            "  inflating: omniglot/data/Glagolitic/character03/1117_01.png  \n",
            "  inflating: omniglot/data/Glagolitic/character03/1117_15.png  \n",
            "  inflating: omniglot/data/Glagolitic/character03/1117_14.png  \n",
            "  inflating: omniglot/data/Glagolitic/character03/1117_16.png  \n",
            "  inflating: omniglot/data/Glagolitic/character03/1117_02.png  \n",
            "  inflating: omniglot/data/Glagolitic/character03/1117_03.png  \n",
            "  inflating: omniglot/data/Glagolitic/character03/1117_17.png  \n",
            "  inflating: omniglot/data/Glagolitic/character03/1117_19.png  \n",
            "  inflating: omniglot/data/Glagolitic/character03/1117_18.png  \n",
            "  inflating: omniglot/data/Glagolitic/character03/1117_20.png  \n",
            "  inflating: omniglot/data/Glagolitic/character03/1117_08.png  \n",
            "  inflating: omniglot/data/Glagolitic/character03/1117_09.png  \n",
            "  inflating: omniglot/data/Glagolitic/character04/1118_09.png  \n",
            "  inflating: omniglot/data/Glagolitic/character04/1118_20.png  \n",
            "  inflating: omniglot/data/Glagolitic/character04/1118_08.png  \n",
            "  inflating: omniglot/data/Glagolitic/character04/1118_18.png  \n",
            "  inflating: omniglot/data/Glagolitic/character04/1118_19.png  \n",
            "  inflating: omniglot/data/Glagolitic/character04/1118_14.png  \n",
            "  inflating: omniglot/data/Glagolitic/character04/1118_01.png  \n",
            "  inflating: omniglot/data/Glagolitic/character04/1118_15.png  \n",
            "  inflating: omniglot/data/Glagolitic/character04/1118_03.png  \n",
            "  inflating: omniglot/data/Glagolitic/character04/1118_17.png  \n",
            "  inflating: omniglot/data/Glagolitic/character04/1118_16.png  \n",
            "  inflating: omniglot/data/Glagolitic/character04/1118_02.png  \n",
            "  inflating: omniglot/data/Glagolitic/character04/1118_06.png  \n",
            "  inflating: omniglot/data/Glagolitic/character04/1118_12.png  \n",
            "  inflating: omniglot/data/Glagolitic/character04/1118_13.png  \n",
            "  inflating: omniglot/data/Glagolitic/character04/1118_07.png  \n",
            "  inflating: omniglot/data/Glagolitic/character04/1118_11.png  \n",
            "  inflating: omniglot/data/Glagolitic/character04/1118_05.png  \n",
            "  inflating: omniglot/data/Glagolitic/character04/1118_04.png  \n",
            "  inflating: omniglot/data/Glagolitic/character04/1118_10.png  \n",
            "  inflating: omniglot/data/Glagolitic/character05/1119_02.png  \n",
            "  inflating: omniglot/data/Glagolitic/character05/1119_16.png  \n",
            "  inflating: omniglot/data/Glagolitic/character05/1119_17.png  \n",
            "  inflating: omniglot/data/Glagolitic/character05/1119_03.png  \n",
            "  inflating: omniglot/data/Glagolitic/character05/1119_15.png  \n",
            "  inflating: omniglot/data/Glagolitic/character05/1119_01.png  \n",
            "  inflating: omniglot/data/Glagolitic/character05/1119_14.png  \n",
            "  inflating: omniglot/data/Glagolitic/character05/1119_10.png  \n",
            "  inflating: omniglot/data/Glagolitic/character05/1119_04.png  \n",
            "  inflating: omniglot/data/Glagolitic/character05/1119_05.png  \n",
            "  inflating: omniglot/data/Glagolitic/character05/1119_11.png  \n",
            "  inflating: omniglot/data/Glagolitic/character05/1119_07.png  \n",
            "  inflating: omniglot/data/Glagolitic/character05/1119_13.png  \n",
            "  inflating: omniglot/data/Glagolitic/character05/1119_12.png  \n",
            "  inflating: omniglot/data/Glagolitic/character05/1119_06.png  \n",
            "  inflating: omniglot/data/Glagolitic/character05/1119_20.png  \n",
            "  inflating: omniglot/data/Glagolitic/character05/1119_08.png  \n",
            "  inflating: omniglot/data/Glagolitic/character05/1119_09.png  \n",
            "  inflating: omniglot/data/Glagolitic/character05/1119_19.png  \n",
            "  inflating: omniglot/data/Glagolitic/character05/1119_18.png  \n",
            "  inflating: omniglot/data/Glagolitic/character02/1116_18.png  \n",
            "  inflating: omniglot/data/Glagolitic/character02/1116_19.png  \n",
            "  inflating: omniglot/data/Glagolitic/character02/1116_09.png  \n",
            "  inflating: omniglot/data/Glagolitic/character02/1116_20.png  \n",
            "  inflating: omniglot/data/Glagolitic/character02/1116_08.png  \n",
            "  inflating: omniglot/data/Glagolitic/character02/1116_05.png  \n",
            "  inflating: omniglot/data/Glagolitic/character02/1116_11.png  \n",
            "  inflating: omniglot/data/Glagolitic/character02/1116_10.png  \n",
            "  inflating: omniglot/data/Glagolitic/character02/1116_04.png  \n",
            "  inflating: omniglot/data/Glagolitic/character02/1116_12.png  \n",
            "  inflating: omniglot/data/Glagolitic/character02/1116_06.png  \n",
            "  inflating: omniglot/data/Glagolitic/character02/1116_07.png  \n",
            "  inflating: omniglot/data/Glagolitic/character02/1116_13.png  \n",
            "  inflating: omniglot/data/Glagolitic/character02/1116_17.png  \n",
            "  inflating: omniglot/data/Glagolitic/character02/1116_03.png  \n",
            "  inflating: omniglot/data/Glagolitic/character02/1116_02.png  \n",
            "  inflating: omniglot/data/Glagolitic/character02/1116_16.png  \n",
            "  inflating: omniglot/data/Glagolitic/character02/1116_14.png  \n",
            "  inflating: omniglot/data/Glagolitic/character02/1116_15.png  \n",
            "  inflating: omniglot/data/Glagolitic/character02/1116_01.png  \n",
            "  inflating: omniglot/data/Glagolitic/character34/1148_10.png  \n",
            "  inflating: omniglot/data/Glagolitic/character34/1148_04.png  \n",
            "  inflating: omniglot/data/Glagolitic/character34/1148_05.png  \n",
            "  inflating: omniglot/data/Glagolitic/character34/1148_11.png  \n",
            "  inflating: omniglot/data/Glagolitic/character34/1148_07.png  \n",
            "  inflating: omniglot/data/Glagolitic/character34/1148_13.png  \n",
            "  inflating: omniglot/data/Glagolitic/character34/1148_12.png  \n",
            "  inflating: omniglot/data/Glagolitic/character34/1148_06.png  \n",
            "  inflating: omniglot/data/Glagolitic/character34/1148_02.png  \n",
            "  inflating: omniglot/data/Glagolitic/character34/1148_16.png  \n",
            "  inflating: omniglot/data/Glagolitic/character34/1148_17.png  \n",
            "  inflating: omniglot/data/Glagolitic/character34/1148_03.png  \n",
            "  inflating: omniglot/data/Glagolitic/character34/1148_15.png  \n",
            "  inflating: omniglot/data/Glagolitic/character34/1148_01.png  \n",
            "  inflating: omniglot/data/Glagolitic/character34/1148_14.png  \n",
            "  inflating: omniglot/data/Glagolitic/character34/1148_19.png  \n",
            "  inflating: omniglot/data/Glagolitic/character34/1148_18.png  \n",
            "  inflating: omniglot/data/Glagolitic/character34/1148_20.png  \n",
            "  inflating: omniglot/data/Glagolitic/character34/1148_08.png  \n",
            "  inflating: omniglot/data/Glagolitic/character34/1148_09.png  \n",
            "  inflating: omniglot/data/Glagolitic/character33/1147_09.png  \n",
            "  inflating: omniglot/data/Glagolitic/character33/1147_20.png  \n",
            "  inflating: omniglot/data/Glagolitic/character33/1147_08.png  \n",
            "  inflating: omniglot/data/Glagolitic/character33/1147_18.png  \n",
            "  inflating: omniglot/data/Glagolitic/character33/1147_19.png  \n",
            "  inflating: omniglot/data/Glagolitic/character33/1147_17.png  \n",
            "  inflating: omniglot/data/Glagolitic/character33/1147_03.png  \n",
            "  inflating: omniglot/data/Glagolitic/character33/1147_02.png  \n",
            "  inflating: omniglot/data/Glagolitic/character33/1147_16.png  \n",
            "  inflating: omniglot/data/Glagolitic/character33/1147_14.png  \n",
            "  inflating: omniglot/data/Glagolitic/character33/1147_15.png  \n",
            "  inflating: omniglot/data/Glagolitic/character33/1147_01.png  \n",
            "  inflating: omniglot/data/Glagolitic/character33/1147_05.png  \n",
            "  inflating: omniglot/data/Glagolitic/character33/1147_11.png  \n",
            "  inflating: omniglot/data/Glagolitic/character33/1147_10.png  \n",
            "  inflating: omniglot/data/Glagolitic/character33/1147_04.png  \n",
            "  inflating: omniglot/data/Glagolitic/character33/1147_12.png  \n",
            "  inflating: omniglot/data/Glagolitic/character33/1147_06.png  \n",
            "  inflating: omniglot/data/Glagolitic/character33/1147_07.png  \n",
            "  inflating: omniglot/data/Glagolitic/character33/1147_13.png  \n",
            "  inflating: omniglot/data/Glagolitic/character15/1129_15.png  \n",
            "  inflating: omniglot/data/Glagolitic/character15/1129_01.png  \n",
            "  inflating: omniglot/data/Glagolitic/character15/1129_14.png  \n",
            "  inflating: omniglot/data/Glagolitic/character15/1129_02.png  \n",
            "  inflating: omniglot/data/Glagolitic/character15/1129_16.png  \n",
            "  inflating: omniglot/data/Glagolitic/character15/1129_17.png  \n",
            "  inflating: omniglot/data/Glagolitic/character15/1129_03.png  \n",
            "  inflating: omniglot/data/Glagolitic/character15/1129_07.png  \n",
            "  inflating: omniglot/data/Glagolitic/character15/1129_13.png  \n",
            "  inflating: omniglot/data/Glagolitic/character15/1129_12.png  \n",
            "  inflating: omniglot/data/Glagolitic/character15/1129_06.png  \n",
            "  inflating: omniglot/data/Glagolitic/character15/1129_10.png  \n",
            "  inflating: omniglot/data/Glagolitic/character15/1129_04.png  \n",
            "  inflating: omniglot/data/Glagolitic/character15/1129_05.png  \n",
            "  inflating: omniglot/data/Glagolitic/character15/1129_11.png  \n",
            "  inflating: omniglot/data/Glagolitic/character15/1129_20.png  \n",
            "  inflating: omniglot/data/Glagolitic/character15/1129_08.png  \n",
            "  inflating: omniglot/data/Glagolitic/character15/1129_09.png  \n",
            "  inflating: omniglot/data/Glagolitic/character15/1129_19.png  \n",
            "  inflating: omniglot/data/Glagolitic/character15/1129_18.png  \n",
            "  inflating: omniglot/data/Glagolitic/character12/1126_18.png  \n",
            "  inflating: omniglot/data/Glagolitic/character12/1126_19.png  \n",
            "  inflating: omniglot/data/Glagolitic/character12/1126_09.png  \n",
            "  inflating: omniglot/data/Glagolitic/character12/1126_20.png  \n",
            "  inflating: omniglot/data/Glagolitic/character12/1126_08.png  \n",
            "  inflating: omniglot/data/Glagolitic/character12/1126_12.png  \n",
            "  inflating: omniglot/data/Glagolitic/character12/1126_06.png  \n",
            "  inflating: omniglot/data/Glagolitic/character12/1126_07.png  \n",
            "  inflating: omniglot/data/Glagolitic/character12/1126_13.png  \n",
            "  inflating: omniglot/data/Glagolitic/character12/1126_05.png  \n",
            "  inflating: omniglot/data/Glagolitic/character12/1126_11.png  \n",
            "  inflating: omniglot/data/Glagolitic/character12/1126_10.png  \n",
            "  inflating: omniglot/data/Glagolitic/character12/1126_04.png  \n",
            "  inflating: omniglot/data/Glagolitic/character12/1126_14.png  \n",
            "  inflating: omniglot/data/Glagolitic/character12/1126_15.png  \n",
            "  inflating: omniglot/data/Glagolitic/character12/1126_01.png  \n",
            "  inflating: omniglot/data/Glagolitic/character12/1126_17.png  \n",
            "  inflating: omniglot/data/Glagolitic/character12/1126_03.png  \n",
            "  inflating: omniglot/data/Glagolitic/character12/1126_02.png  \n",
            "  inflating: omniglot/data/Glagolitic/character12/1126_16.png  \n",
            "  inflating: omniglot/data/Glagolitic/character24/1138_18.png  \n",
            "  inflating: omniglot/data/Glagolitic/character24/1138_19.png  \n",
            "  inflating: omniglot/data/Glagolitic/character24/1138_09.png  \n",
            "  inflating: omniglot/data/Glagolitic/character24/1138_08.png  \n",
            "  inflating: omniglot/data/Glagolitic/character24/1138_20.png  \n",
            "  inflating: omniglot/data/Glagolitic/character24/1138_12.png  \n",
            "  inflating: omniglot/data/Glagolitic/character24/1138_06.png  \n",
            "  inflating: omniglot/data/Glagolitic/character24/1138_07.png  \n",
            "  inflating: omniglot/data/Glagolitic/character24/1138_13.png  \n",
            "  inflating: omniglot/data/Glagolitic/character24/1138_05.png  \n",
            "  inflating: omniglot/data/Glagolitic/character24/1138_11.png  \n",
            "  inflating: omniglot/data/Glagolitic/character24/1138_10.png  \n",
            "  inflating: omniglot/data/Glagolitic/character24/1138_04.png  \n",
            "  inflating: omniglot/data/Glagolitic/character24/1138_14.png  \n",
            "  inflating: omniglot/data/Glagolitic/character24/1138_15.png  \n",
            "  inflating: omniglot/data/Glagolitic/character24/1138_01.png  \n",
            "  inflating: omniglot/data/Glagolitic/character24/1138_17.png  \n",
            "  inflating: omniglot/data/Glagolitic/character24/1138_03.png  \n",
            "  inflating: omniglot/data/Glagolitic/character24/1138_02.png  \n",
            "  inflating: omniglot/data/Glagolitic/character24/1138_16.png  \n",
            "  inflating: omniglot/data/Glagolitic/character23/1137_15.png  \n",
            "  inflating: omniglot/data/Glagolitic/character23/1137_01.png  \n",
            "  inflating: omniglot/data/Glagolitic/character23/1137_14.png  \n",
            "  inflating: omniglot/data/Glagolitic/character23/1137_02.png  \n",
            "  inflating: omniglot/data/Glagolitic/character23/1137_16.png  \n",
            "  inflating: omniglot/data/Glagolitic/character23/1137_17.png  \n",
            "  inflating: omniglot/data/Glagolitic/character23/1137_03.png  \n",
            "  inflating: omniglot/data/Glagolitic/character23/1137_07.png  \n",
            "  inflating: omniglot/data/Glagolitic/character23/1137_13.png  \n",
            "  inflating: omniglot/data/Glagolitic/character23/1137_12.png  \n",
            "  inflating: omniglot/data/Glagolitic/character23/1137_06.png  \n",
            "  inflating: omniglot/data/Glagolitic/character23/1137_10.png  \n",
            "  inflating: omniglot/data/Glagolitic/character23/1137_04.png  \n",
            "  inflating: omniglot/data/Glagolitic/character23/1137_05.png  \n",
            "  inflating: omniglot/data/Glagolitic/character23/1137_11.png  \n",
            "  inflating: omniglot/data/Glagolitic/character23/1137_08.png  \n",
            "  inflating: omniglot/data/Glagolitic/character23/1137_20.png  \n",
            "  inflating: omniglot/data/Glagolitic/character23/1137_09.png  \n",
            "  inflating: omniglot/data/Glagolitic/character23/1137_19.png  \n",
            "  inflating: omniglot/data/Glagolitic/character23/1137_18.png  \n",
            "  inflating: omniglot/data/Glagolitic/character41/1155_09.png  \n",
            "  inflating: omniglot/data/Glagolitic/character41/1155_20.png  \n",
            "  inflating: omniglot/data/Glagolitic/character41/1155_08.png  \n",
            "  inflating: omniglot/data/Glagolitic/character41/1155_18.png  \n",
            "  inflating: omniglot/data/Glagolitic/character41/1155_19.png  \n",
            "  inflating: omniglot/data/Glagolitic/character41/1155_03.png  \n",
            "  inflating: omniglot/data/Glagolitic/character41/1155_17.png  \n",
            "  inflating: omniglot/data/Glagolitic/character41/1155_16.png  \n",
            "  inflating: omniglot/data/Glagolitic/character41/1155_02.png  \n",
            "  inflating: omniglot/data/Glagolitic/character41/1155_14.png  \n",
            "  inflating: omniglot/data/Glagolitic/character41/1155_01.png  \n",
            "  inflating: omniglot/data/Glagolitic/character41/1155_15.png  \n",
            "  inflating: omniglot/data/Glagolitic/character41/1155_11.png  \n",
            "  inflating: omniglot/data/Glagolitic/character41/1155_05.png  \n",
            "  inflating: omniglot/data/Glagolitic/character41/1155_04.png  \n",
            "  inflating: omniglot/data/Glagolitic/character41/1155_10.png  \n",
            "  inflating: omniglot/data/Glagolitic/character41/1155_06.png  \n",
            "  inflating: omniglot/data/Glagolitic/character41/1155_12.png  \n",
            "  inflating: omniglot/data/Glagolitic/character41/1155_13.png  \n",
            "  inflating: omniglot/data/Glagolitic/character41/1155_07.png  \n",
            "  inflating: omniglot/data/Glagolitic/character22/1136_09.png  \n",
            "  inflating: omniglot/data/Glagolitic/character22/1136_08.png  \n",
            "  inflating: omniglot/data/Glagolitic/character22/1136_20.png  \n",
            "  inflating: omniglot/data/Glagolitic/character22/1136_18.png  \n",
            "  inflating: omniglot/data/Glagolitic/character22/1136_19.png  \n",
            "  inflating: omniglot/data/Glagolitic/character22/1136_03.png  \n",
            "  inflating: omniglot/data/Glagolitic/character22/1136_17.png  \n",
            "  inflating: omniglot/data/Glagolitic/character22/1136_16.png  \n",
            "  inflating: omniglot/data/Glagolitic/character22/1136_02.png  \n",
            "  inflating: omniglot/data/Glagolitic/character22/1136_14.png  \n",
            "  inflating: omniglot/data/Glagolitic/character22/1136_01.png  \n",
            "  inflating: omniglot/data/Glagolitic/character22/1136_15.png  \n",
            "  inflating: omniglot/data/Glagolitic/character22/1136_11.png  \n",
            "  inflating: omniglot/data/Glagolitic/character22/1136_05.png  \n",
            "  inflating: omniglot/data/Glagolitic/character22/1136_04.png  \n",
            "  inflating: omniglot/data/Glagolitic/character22/1136_10.png  \n",
            "  inflating: omniglot/data/Glagolitic/character22/1136_06.png  \n",
            "  inflating: omniglot/data/Glagolitic/character22/1136_12.png  \n",
            "  inflating: omniglot/data/Glagolitic/character22/1136_13.png  \n",
            "  inflating: omniglot/data/Glagolitic/character22/1136_07.png  \n",
            "  inflating: omniglot/data/Glagolitic/character25/1139_04.png  \n",
            "  inflating: omniglot/data/Glagolitic/character25/1139_10.png  \n",
            "  inflating: omniglot/data/Glagolitic/character25/1139_11.png  \n",
            "  inflating: omniglot/data/Glagolitic/character25/1139_05.png  \n",
            "  inflating: omniglot/data/Glagolitic/character25/1139_13.png  \n",
            "  inflating: omniglot/data/Glagolitic/character25/1139_07.png  \n",
            "  inflating: omniglot/data/Glagolitic/character25/1139_06.png  \n",
            "  inflating: omniglot/data/Glagolitic/character25/1139_12.png  \n",
            "  inflating: omniglot/data/Glagolitic/character25/1139_16.png  \n",
            "  inflating: omniglot/data/Glagolitic/character25/1139_02.png  \n",
            "  inflating: omniglot/data/Glagolitic/character25/1139_03.png  \n",
            "  inflating: omniglot/data/Glagolitic/character25/1139_17.png  \n",
            "  inflating: omniglot/data/Glagolitic/character25/1139_01.png  \n",
            "  inflating: omniglot/data/Glagolitic/character25/1139_15.png  \n",
            "  inflating: omniglot/data/Glagolitic/character25/1139_14.png  \n",
            "  inflating: omniglot/data/Glagolitic/character25/1139_19.png  \n",
            "  inflating: omniglot/data/Glagolitic/character25/1139_18.png  \n",
            "  inflating: omniglot/data/Glagolitic/character25/1139_08.png  \n",
            "  inflating: omniglot/data/Glagolitic/character25/1139_20.png  \n",
            "  inflating: omniglot/data/Glagolitic/character25/1139_09.png  \n",
            "  inflating: omniglot/data/Glagolitic/character13/1127_04.png  \n",
            "  inflating: omniglot/data/Glagolitic/character13/1127_10.png  \n",
            "  inflating: omniglot/data/Glagolitic/character13/1127_11.png  \n",
            "  inflating: omniglot/data/Glagolitic/character13/1127_05.png  \n",
            "  inflating: omniglot/data/Glagolitic/character13/1127_13.png  \n",
            "  inflating: omniglot/data/Glagolitic/character13/1127_07.png  \n",
            "  inflating: omniglot/data/Glagolitic/character13/1127_06.png  \n",
            "  inflating: omniglot/data/Glagolitic/character13/1127_12.png  \n",
            "  inflating: omniglot/data/Glagolitic/character13/1127_16.png  \n",
            "  inflating: omniglot/data/Glagolitic/character13/1127_02.png  \n",
            "  inflating: omniglot/data/Glagolitic/character13/1127_03.png  \n",
            "  inflating: omniglot/data/Glagolitic/character13/1127_17.png  \n",
            "  inflating: omniglot/data/Glagolitic/character13/1127_01.png  \n",
            "  inflating: omniglot/data/Glagolitic/character13/1127_15.png  \n",
            "  inflating: omniglot/data/Glagolitic/character13/1127_14.png  \n",
            "  inflating: omniglot/data/Glagolitic/character13/1127_19.png  \n",
            "  inflating: omniglot/data/Glagolitic/character13/1127_18.png  \n",
            "  inflating: omniglot/data/Glagolitic/character13/1127_20.png  \n",
            "  inflating: omniglot/data/Glagolitic/character13/1127_08.png  \n",
            "  inflating: omniglot/data/Glagolitic/character13/1127_09.png  \n",
            "  inflating: omniglot/data/Glagolitic/character14/1128_09.png  \n",
            "  inflating: omniglot/data/Glagolitic/character14/1128_20.png  \n",
            "  inflating: omniglot/data/Glagolitic/character14/1128_08.png  \n",
            "  inflating: omniglot/data/Glagolitic/character14/1128_18.png  \n",
            "  inflating: omniglot/data/Glagolitic/character14/1128_19.png  \n",
            "  inflating: omniglot/data/Glagolitic/character14/1128_03.png  \n",
            "  inflating: omniglot/data/Glagolitic/character14/1128_17.png  \n",
            "  inflating: omniglot/data/Glagolitic/character14/1128_16.png  \n",
            "  inflating: omniglot/data/Glagolitic/character14/1128_02.png  \n",
            "  inflating: omniglot/data/Glagolitic/character14/1128_14.png  \n",
            "  inflating: omniglot/data/Glagolitic/character14/1128_01.png  \n",
            "  inflating: omniglot/data/Glagolitic/character14/1128_15.png  \n",
            "  inflating: omniglot/data/Glagolitic/character14/1128_11.png  \n",
            "  inflating: omniglot/data/Glagolitic/character14/1128_05.png  \n",
            "  inflating: omniglot/data/Glagolitic/character14/1128_04.png  \n",
            "  inflating: omniglot/data/Glagolitic/character14/1128_10.png  \n",
            "  inflating: omniglot/data/Glagolitic/character14/1128_06.png  \n",
            "  inflating: omniglot/data/Glagolitic/character14/1128_12.png  \n",
            "  inflating: omniglot/data/Glagolitic/character14/1128_13.png  \n",
            "  inflating: omniglot/data/Glagolitic/character14/1128_07.png  \n",
            "  inflating: omniglot/data/Glagolitic/character40/1154_15.png  \n",
            "  inflating: omniglot/data/Glagolitic/character40/1154_01.png  \n",
            "  inflating: omniglot/data/Glagolitic/character40/1154_14.png  \n",
            "  inflating: omniglot/data/Glagolitic/character40/1154_02.png  \n",
            "  inflating: omniglot/data/Glagolitic/character40/1154_16.png  \n",
            "  inflating: omniglot/data/Glagolitic/character40/1154_17.png  \n",
            "  inflating: omniglot/data/Glagolitic/character40/1154_03.png  \n",
            "  inflating: omniglot/data/Glagolitic/character40/1154_07.png  \n",
            "  inflating: omniglot/data/Glagolitic/character40/1154_13.png  \n",
            "  inflating: omniglot/data/Glagolitic/character40/1154_12.png  \n",
            "  inflating: omniglot/data/Glagolitic/character40/1154_06.png  \n",
            "  inflating: omniglot/data/Glagolitic/character40/1154_10.png  \n",
            "  inflating: omniglot/data/Glagolitic/character40/1154_04.png  \n",
            "  inflating: omniglot/data/Glagolitic/character40/1154_05.png  \n",
            "  inflating: omniglot/data/Glagolitic/character40/1154_11.png  \n",
            "  inflating: omniglot/data/Glagolitic/character40/1154_20.png  \n",
            "  inflating: omniglot/data/Glagolitic/character40/1154_08.png  \n",
            "  inflating: omniglot/data/Glagolitic/character40/1154_09.png  \n",
            "  inflating: omniglot/data/Glagolitic/character40/1154_19.png  \n",
            "  inflating: omniglot/data/Glagolitic/character40/1154_18.png  \n",
            "  inflating: omniglot/data/Glagolitic/character09/1123_03.png  \n",
            "  inflating: omniglot/data/Glagolitic/character09/1123_17.png  \n",
            "  inflating: omniglot/data/Glagolitic/character09/1123_16.png  \n",
            "  inflating: omniglot/data/Glagolitic/character09/1123_02.png  \n",
            "  inflating: omniglot/data/Glagolitic/character09/1123_14.png  \n",
            "  inflating: omniglot/data/Glagolitic/character09/1123_01.png  \n",
            "  inflating: omniglot/data/Glagolitic/character09/1123_15.png  \n",
            "  inflating: omniglot/data/Glagolitic/character09/1123_11.png  \n",
            "  inflating: omniglot/data/Glagolitic/character09/1123_05.png  \n",
            "  inflating: omniglot/data/Glagolitic/character09/1123_04.png  \n",
            "  inflating: omniglot/data/Glagolitic/character09/1123_10.png  \n",
            "  inflating: omniglot/data/Glagolitic/character09/1123_06.png  \n",
            "  inflating: omniglot/data/Glagolitic/character09/1123_12.png  \n",
            "  inflating: omniglot/data/Glagolitic/character09/1123_13.png  \n",
            "  inflating: omniglot/data/Glagolitic/character09/1123_07.png  \n",
            "  inflating: omniglot/data/Glagolitic/character09/1123_09.png  \n",
            "  inflating: omniglot/data/Glagolitic/character09/1123_20.png  \n",
            "  inflating: omniglot/data/Glagolitic/character09/1123_08.png  \n",
            "  inflating: omniglot/data/Glagolitic/character09/1123_18.png  \n",
            "  inflating: omniglot/data/Glagolitic/character09/1123_19.png  \n",
            "  inflating: omniglot/data/Glagolitic/character36/1150_12.png  \n",
            "  inflating: omniglot/data/Glagolitic/character36/1150_06.png  \n",
            "  inflating: omniglot/data/Glagolitic/character36/1150_07.png  \n",
            "  inflating: omniglot/data/Glagolitic/character36/1150_13.png  \n",
            "  inflating: omniglot/data/Glagolitic/character36/1150_05.png  \n",
            "  inflating: omniglot/data/Glagolitic/character36/1150_11.png  \n",
            "  inflating: omniglot/data/Glagolitic/character36/1150_10.png  \n",
            "  inflating: omniglot/data/Glagolitic/character36/1150_04.png  \n",
            "  inflating: omniglot/data/Glagolitic/character36/1150_14.png  \n",
            "  inflating: omniglot/data/Glagolitic/character36/1150_15.png  \n",
            "  inflating: omniglot/data/Glagolitic/character36/1150_01.png  \n",
            "  inflating: omniglot/data/Glagolitic/character36/1150_17.png  \n",
            "  inflating: omniglot/data/Glagolitic/character36/1150_03.png  \n",
            "  inflating: omniglot/data/Glagolitic/character36/1150_02.png  \n",
            "  inflating: omniglot/data/Glagolitic/character36/1150_16.png  \n",
            "  inflating: omniglot/data/Glagolitic/character36/1150_18.png  \n",
            "  inflating: omniglot/data/Glagolitic/character36/1150_19.png  \n",
            "  inflating: omniglot/data/Glagolitic/character36/1150_09.png  \n",
            "  inflating: omniglot/data/Glagolitic/character36/1150_20.png  \n",
            "  inflating: omniglot/data/Glagolitic/character36/1150_08.png  \n",
            "  inflating: omniglot/data/Glagolitic/character31/1145_18.png  \n",
            "  inflating: omniglot/data/Glagolitic/character31/1145_19.png  \n",
            "  inflating: omniglot/data/Glagolitic/character31/1145_09.png  \n",
            "  inflating: omniglot/data/Glagolitic/character31/1145_08.png  \n",
            "  inflating: omniglot/data/Glagolitic/character31/1145_20.png  \n",
            "  inflating: omniglot/data/Glagolitic/character31/1145_12.png  \n",
            "  inflating: omniglot/data/Glagolitic/character31/1145_06.png  \n",
            "  inflating: omniglot/data/Glagolitic/character31/1145_07.png  \n",
            "  inflating: omniglot/data/Glagolitic/character31/1145_13.png  \n",
            "  inflating: omniglot/data/Glagolitic/character31/1145_05.png  \n",
            "  inflating: omniglot/data/Glagolitic/character31/1145_11.png  \n",
            "  inflating: omniglot/data/Glagolitic/character31/1145_10.png  \n",
            "  inflating: omniglot/data/Glagolitic/character31/1145_04.png  \n",
            "  inflating: omniglot/data/Glagolitic/character31/1145_14.png  \n",
            "  inflating: omniglot/data/Glagolitic/character31/1145_15.png  \n",
            "  inflating: omniglot/data/Glagolitic/character31/1145_01.png  \n",
            "  inflating: omniglot/data/Glagolitic/character31/1145_17.png  \n",
            "  inflating: omniglot/data/Glagolitic/character31/1145_03.png  \n",
            "  inflating: omniglot/data/Glagolitic/character31/1145_02.png  \n",
            "  inflating: omniglot/data/Glagolitic/character31/1145_16.png  \n",
            "  inflating: omniglot/data/Glagolitic/character38/1152_17.png  \n",
            "  inflating: omniglot/data/Glagolitic/character38/1152_03.png  \n",
            "  inflating: omniglot/data/Glagolitic/character38/1152_02.png  \n",
            "  inflating: omniglot/data/Glagolitic/character38/1152_16.png  \n",
            "  inflating: omniglot/data/Glagolitic/character38/1152_14.png  \n",
            "  inflating: omniglot/data/Glagolitic/character38/1152_15.png  \n",
            "  inflating: omniglot/data/Glagolitic/character38/1152_01.png  \n",
            "  inflating: omniglot/data/Glagolitic/character38/1152_05.png  \n",
            "  inflating: omniglot/data/Glagolitic/character38/1152_11.png  \n",
            "  inflating: omniglot/data/Glagolitic/character38/1152_10.png  \n",
            "  inflating: omniglot/data/Glagolitic/character38/1152_04.png  \n",
            "  inflating: omniglot/data/Glagolitic/character38/1152_12.png  \n",
            "  inflating: omniglot/data/Glagolitic/character38/1152_06.png  \n",
            "  inflating: omniglot/data/Glagolitic/character38/1152_07.png  \n",
            "  inflating: omniglot/data/Glagolitic/character38/1152_13.png  \n",
            "  inflating: omniglot/data/Glagolitic/character38/1152_09.png  \n",
            "  inflating: omniglot/data/Glagolitic/character38/1152_08.png  \n",
            "  inflating: omniglot/data/Glagolitic/character38/1152_20.png  \n",
            "  inflating: omniglot/data/Glagolitic/character38/1152_18.png  \n",
            "  inflating: omniglot/data/Glagolitic/character38/1152_19.png  \n",
            "  inflating: omniglot/data/Glagolitic/character07/1121_06.png  \n",
            "  inflating: omniglot/data/Glagolitic/character07/1121_12.png  \n",
            "  inflating: omniglot/data/Glagolitic/character07/1121_13.png  \n",
            "  inflating: omniglot/data/Glagolitic/character07/1121_07.png  \n",
            "  inflating: omniglot/data/Glagolitic/character07/1121_11.png  \n",
            "  inflating: omniglot/data/Glagolitic/character07/1121_05.png  \n",
            "  inflating: omniglot/data/Glagolitic/character07/1121_04.png  \n",
            "  inflating: omniglot/data/Glagolitic/character07/1121_10.png  \n",
            "  inflating: omniglot/data/Glagolitic/character07/1121_14.png  \n",
            "  inflating: omniglot/data/Glagolitic/character07/1121_01.png  \n",
            "  inflating: omniglot/data/Glagolitic/character07/1121_15.png  \n",
            "  inflating: omniglot/data/Glagolitic/character07/1121_03.png  \n",
            "  inflating: omniglot/data/Glagolitic/character07/1121_17.png  \n",
            "  inflating: omniglot/data/Glagolitic/character07/1121_16.png  \n",
            "  inflating: omniglot/data/Glagolitic/character07/1121_02.png  \n",
            "  inflating: omniglot/data/Glagolitic/character07/1121_18.png  \n",
            "  inflating: omniglot/data/Glagolitic/character07/1121_19.png  \n",
            "  inflating: omniglot/data/Glagolitic/character07/1121_09.png  \n",
            "  inflating: omniglot/data/Glagolitic/character07/1121_08.png  \n",
            "  inflating: omniglot/data/Glagolitic/character07/1121_20.png  \n",
            "  inflating: omniglot/data/Glagolitic/character01/1115_16.png  \n",
            "  inflating: omniglot/data/Glagolitic/character01/1115_02.png  \n",
            "  inflating: omniglot/data/Glagolitic/character01/1115_03.png  \n",
            "  inflating: omniglot/data/Glagolitic/character01/1115_17.png  \n",
            "  inflating: omniglot/data/Glagolitic/character01/1115_01.png  \n",
            "  inflating: omniglot/data/Glagolitic/character01/1115_15.png  \n",
            "  inflating: omniglot/data/Glagolitic/character01/1115_14.png  \n",
            "  inflating: omniglot/data/Glagolitic/character01/1115_04.png  \n",
            "  inflating: omniglot/data/Glagolitic/character01/1115_10.png  \n",
            "  inflating: omniglot/data/Glagolitic/character01/1115_11.png  \n",
            "  inflating: omniglot/data/Glagolitic/character01/1115_05.png  \n",
            "  inflating: omniglot/data/Glagolitic/character01/1115_13.png  \n",
            "  inflating: omniglot/data/Glagolitic/character01/1115_07.png  \n",
            "  inflating: omniglot/data/Glagolitic/character01/1115_06.png  \n",
            "  inflating: omniglot/data/Glagolitic/character01/1115_12.png  \n",
            "  inflating: omniglot/data/Glagolitic/character01/1115_08.png  \n",
            "  inflating: omniglot/data/Glagolitic/character01/1115_20.png  \n",
            "  inflating: omniglot/data/Glagolitic/character01/1115_09.png  \n",
            "  inflating: omniglot/data/Glagolitic/character01/1115_19.png  \n",
            "  inflating: omniglot/data/Glagolitic/character01/1115_18.png  \n",
            "  inflating: omniglot/data/Glagolitic/character39/1153_08.png  \n",
            "  inflating: omniglot/data/Glagolitic/character39/1153_20.png  \n",
            "  inflating: omniglot/data/Glagolitic/character39/1153_09.png  \n",
            "  inflating: omniglot/data/Glagolitic/character39/1153_19.png  \n",
            "  inflating: omniglot/data/Glagolitic/character39/1153_18.png  \n",
            "  inflating: omniglot/data/Glagolitic/character39/1153_01.png  \n",
            "  inflating: omniglot/data/Glagolitic/character39/1153_15.png  \n",
            "  inflating: omniglot/data/Glagolitic/character39/1153_14.png  \n",
            "  inflating: omniglot/data/Glagolitic/character39/1153_16.png  \n",
            "  inflating: omniglot/data/Glagolitic/character39/1153_02.png  \n",
            "  inflating: omniglot/data/Glagolitic/character39/1153_03.png  \n",
            "  inflating: omniglot/data/Glagolitic/character39/1153_17.png  \n",
            "  inflating: omniglot/data/Glagolitic/character39/1153_13.png  \n",
            "  inflating: omniglot/data/Glagolitic/character39/1153_07.png  \n",
            "  inflating: omniglot/data/Glagolitic/character39/1153_06.png  \n",
            "  inflating: omniglot/data/Glagolitic/character39/1153_12.png  \n",
            "  inflating: omniglot/data/Glagolitic/character39/1153_04.png  \n",
            "  inflating: omniglot/data/Glagolitic/character39/1153_10.png  \n",
            "  inflating: omniglot/data/Glagolitic/character39/1153_11.png  \n",
            "  inflating: omniglot/data/Glagolitic/character39/1153_05.png  \n",
            "  inflating: omniglot/data/Glagolitic/character06/1120_19.png  \n",
            "  inflating: omniglot/data/Glagolitic/character06/1120_18.png  \n",
            "  inflating: omniglot/data/Glagolitic/character06/1120_08.png  \n",
            "  inflating: omniglot/data/Glagolitic/character06/1120_20.png  \n",
            "  inflating: omniglot/data/Glagolitic/character06/1120_09.png  \n",
            "  inflating: omniglot/data/Glagolitic/character06/1120_10.png  \n",
            "  inflating: omniglot/data/Glagolitic/character06/1120_04.png  \n",
            "  inflating: omniglot/data/Glagolitic/character06/1120_05.png  \n",
            "  inflating: omniglot/data/Glagolitic/character06/1120_11.png  \n",
            "  inflating: omniglot/data/Glagolitic/character06/1120_07.png  \n",
            "  inflating: omniglot/data/Glagolitic/character06/1120_13.png  \n",
            "  inflating: omniglot/data/Glagolitic/character06/1120_12.png  \n",
            "  inflating: omniglot/data/Glagolitic/character06/1120_06.png  \n",
            "  inflating: omniglot/data/Glagolitic/character06/1120_02.png  \n",
            "  inflating: omniglot/data/Glagolitic/character06/1120_16.png  \n",
            "  inflating: omniglot/data/Glagolitic/character06/1120_17.png  \n",
            "  inflating: omniglot/data/Glagolitic/character06/1120_03.png  \n",
            "  inflating: omniglot/data/Glagolitic/character06/1120_15.png  \n",
            "  inflating: omniglot/data/Glagolitic/character06/1120_01.png  \n",
            "  inflating: omniglot/data/Glagolitic/character06/1120_14.png  \n",
            "  inflating: omniglot/data/Glagolitic/character30/1144_04.png  \n",
            "  inflating: omniglot/data/Glagolitic/character30/1144_10.png  \n",
            "  inflating: omniglot/data/Glagolitic/character30/1144_11.png  \n",
            "  inflating: omniglot/data/Glagolitic/character30/1144_05.png  \n",
            "  inflating: omniglot/data/Glagolitic/character30/1144_13.png  \n",
            "  inflating: omniglot/data/Glagolitic/character30/1144_07.png  \n",
            "  inflating: omniglot/data/Glagolitic/character30/1144_06.png  \n",
            "  inflating: omniglot/data/Glagolitic/character30/1144_12.png  \n",
            "  inflating: omniglot/data/Glagolitic/character30/1144_16.png  \n",
            "  inflating: omniglot/data/Glagolitic/character30/1144_02.png  \n",
            "  inflating: omniglot/data/Glagolitic/character30/1144_03.png  \n",
            "  inflating: omniglot/data/Glagolitic/character30/1144_17.png  \n",
            "  inflating: omniglot/data/Glagolitic/character30/1144_01.png  \n",
            "  inflating: omniglot/data/Glagolitic/character30/1144_15.png  \n",
            "  inflating: omniglot/data/Glagolitic/character30/1144_14.png  \n",
            "  inflating: omniglot/data/Glagolitic/character30/1144_19.png  \n",
            "  inflating: omniglot/data/Glagolitic/character30/1144_18.png  \n",
            "  inflating: omniglot/data/Glagolitic/character30/1144_08.png  \n",
            "  inflating: omniglot/data/Glagolitic/character30/1144_20.png  \n",
            "  inflating: omniglot/data/Glagolitic/character30/1144_09.png  \n",
            "  inflating: omniglot/data/Glagolitic/character08/1122_20.png  \n",
            "  inflating: omniglot/data/Glagolitic/character08/1122_08.png  \n",
            "  inflating: omniglot/data/Glagolitic/character08/1122_09.png  \n",
            "  inflating: omniglot/data/Glagolitic/character08/1122_19.png  \n",
            "  inflating: omniglot/data/Glagolitic/character08/1122_18.png  \n",
            "  inflating: omniglot/data/Glagolitic/character08/1122_15.png  \n",
            "  inflating: omniglot/data/Glagolitic/character08/1122_01.png  \n",
            "  inflating: omniglot/data/Glagolitic/character08/1122_14.png  \n",
            "  inflating: omniglot/data/Glagolitic/character08/1122_02.png  \n",
            "  inflating: omniglot/data/Glagolitic/character08/1122_16.png  \n",
            "  inflating: omniglot/data/Glagolitic/character08/1122_17.png  \n",
            "  inflating: omniglot/data/Glagolitic/character08/1122_03.png  \n",
            "  inflating: omniglot/data/Glagolitic/character08/1122_07.png  \n",
            "  inflating: omniglot/data/Glagolitic/character08/1122_13.png  \n",
            "  inflating: omniglot/data/Glagolitic/character08/1122_12.png  \n",
            "  inflating: omniglot/data/Glagolitic/character08/1122_06.png  \n",
            "  inflating: omniglot/data/Glagolitic/character08/1122_10.png  \n",
            "  inflating: omniglot/data/Glagolitic/character08/1122_04.png  \n",
            "  inflating: omniglot/data/Glagolitic/character08/1122_05.png  \n",
            "  inflating: omniglot/data/Glagolitic/character08/1122_11.png  \n",
            "  inflating: omniglot/data/Glagolitic/character37/1151_19.png  \n",
            "  inflating: omniglot/data/Glagolitic/character37/1151_18.png  \n",
            "  inflating: omniglot/data/Glagolitic/character37/1151_20.png  \n",
            "  inflating: omniglot/data/Glagolitic/character37/1151_08.png  \n",
            "  inflating: omniglot/data/Glagolitic/character37/1151_09.png  \n",
            "  inflating: omniglot/data/Glagolitic/character37/1151_04.png  \n",
            "  inflating: omniglot/data/Glagolitic/character37/1151_10.png  \n",
            "  inflating: omniglot/data/Glagolitic/character37/1151_11.png  \n",
            "  inflating: omniglot/data/Glagolitic/character37/1151_05.png  \n",
            "  inflating: omniglot/data/Glagolitic/character37/1151_13.png  \n",
            "  inflating: omniglot/data/Glagolitic/character37/1151_07.png  \n",
            "  inflating: omniglot/data/Glagolitic/character37/1151_06.png  \n",
            "  inflating: omniglot/data/Glagolitic/character37/1151_12.png  \n",
            "  inflating: omniglot/data/Glagolitic/character37/1151_16.png  \n",
            "  inflating: omniglot/data/Glagolitic/character37/1151_02.png  \n",
            "  inflating: omniglot/data/Glagolitic/character37/1151_03.png  \n",
            "  inflating: omniglot/data/Glagolitic/character37/1151_17.png  \n",
            "  inflating: omniglot/data/Glagolitic/character37/1151_01.png  \n",
            "  inflating: omniglot/data/Glagolitic/character37/1151_15.png  \n",
            "  inflating: omniglot/data/Glagolitic/character37/1151_14.png  \n",
            "  inflating: omniglot/data/Inuktitut_(Canadian_Aboriginal_Syllabics)/character11/0550_18.png  \n",
            "  inflating: omniglot/data/Inuktitut_(Canadian_Aboriginal_Syllabics)/character11/0550_19.png  \n",
            "  inflating: omniglot/data/Inuktitut_(Canadian_Aboriginal_Syllabics)/character11/0550_09.png  \n",
            "  inflating: omniglot/data/Inuktitut_(Canadian_Aboriginal_Syllabics)/character11/0550_08.png  \n",
            "  inflating: omniglot/data/Inuktitut_(Canadian_Aboriginal_Syllabics)/character11/0550_20.png  \n",
            "  inflating: omniglot/data/Inuktitut_(Canadian_Aboriginal_Syllabics)/character11/0550_05.png  \n",
            "  inflating: omniglot/data/Inuktitut_(Canadian_Aboriginal_Syllabics)/character11/0550_11.png  \n",
            "  inflating: omniglot/data/Inuktitut_(Canadian_Aboriginal_Syllabics)/character11/0550_10.png  \n",
            "  inflating: omniglot/data/Inuktitut_(Canadian_Aboriginal_Syllabics)/character11/0550_04.png  \n",
            "  inflating: omniglot/data/Inuktitut_(Canadian_Aboriginal_Syllabics)/character11/0550_12.png  \n",
            "  inflating: omniglot/data/Inuktitut_(Canadian_Aboriginal_Syllabics)/character11/0550_06.png  \n",
            "  inflating: omniglot/data/Inuktitut_(Canadian_Aboriginal_Syllabics)/character11/0550_07.png  \n",
            "  inflating: omniglot/data/Inuktitut_(Canadian_Aboriginal_Syllabics)/character11/0550_13.png  \n",
            "  inflating: omniglot/data/Inuktitut_(Canadian_Aboriginal_Syllabics)/character11/0550_17.png  \n",
            "  inflating: omniglot/data/Inuktitut_(Canadian_Aboriginal_Syllabics)/character11/0550_03.png  \n",
            "  inflating: omniglot/data/Inuktitut_(Canadian_Aboriginal_Syllabics)/character11/0550_02.png  \n",
            "  inflating: omniglot/data/Inuktitut_(Canadian_Aboriginal_Syllabics)/character11/0550_16.png  \n",
            "  inflating: omniglot/data/Inuktitut_(Canadian_Aboriginal_Syllabics)/character11/0550_14.png  \n",
            "  inflating: omniglot/data/Inuktitut_(Canadian_Aboriginal_Syllabics)/character11/0550_15.png  \n",
            "  inflating: omniglot/data/Inuktitut_(Canadian_Aboriginal_Syllabics)/character11/0550_01.png  \n",
            "  inflating: omniglot/data/Inuktitut_(Canadian_Aboriginal_Syllabics)/character16/0555_14.png  \n",
            "  inflating: omniglot/data/Inuktitut_(Canadian_Aboriginal_Syllabics)/character16/0555_01.png  \n",
            "  inflating: omniglot/data/Inuktitut_(Canadian_Aboriginal_Syllabics)/character16/0555_15.png  \n",
            "  inflating: omniglot/data/Inuktitut_(Canadian_Aboriginal_Syllabics)/character16/0555_03.png  \n",
            "  inflating: omniglot/data/Inuktitut_(Canadian_Aboriginal_Syllabics)/character16/0555_17.png  \n",
            "  inflating: omniglot/data/Inuktitut_(Canadian_Aboriginal_Syllabics)/character16/0555_16.png  \n",
            "  inflating: omniglot/data/Inuktitut_(Canadian_Aboriginal_Syllabics)/character16/0555_02.png  \n",
            "  inflating: omniglot/data/Inuktitut_(Canadian_Aboriginal_Syllabics)/character16/0555_06.png  \n",
            "  inflating: omniglot/data/Inuktitut_(Canadian_Aboriginal_Syllabics)/character16/0555_12.png  \n",
            "  inflating: omniglot/data/Inuktitut_(Canadian_Aboriginal_Syllabics)/character16/0555_13.png  \n",
            "  inflating: omniglot/data/Inuktitut_(Canadian_Aboriginal_Syllabics)/character16/0555_07.png  \n",
            "  inflating: omniglot/data/Inuktitut_(Canadian_Aboriginal_Syllabics)/character16/0555_11.png  \n",
            "  inflating: omniglot/data/Inuktitut_(Canadian_Aboriginal_Syllabics)/character16/0555_05.png  \n",
            "  inflating: omniglot/data/Inuktitut_(Canadian_Aboriginal_Syllabics)/character16/0555_04.png  \n",
            "  inflating: omniglot/data/Inuktitut_(Canadian_Aboriginal_Syllabics)/character16/0555_10.png  \n",
            "  inflating: omniglot/data/Inuktitut_(Canadian_Aboriginal_Syllabics)/character16/0555_09.png  \n",
            "  inflating: omniglot/data/Inuktitut_(Canadian_Aboriginal_Syllabics)/character16/0555_08.png  \n",
            "  inflating: omniglot/data/Inuktitut_(Canadian_Aboriginal_Syllabics)/character16/0555_20.png  \n",
            "  inflating: omniglot/data/Inuktitut_(Canadian_Aboriginal_Syllabics)/character16/0555_18.png  \n",
            "  inflating: omniglot/data/Inuktitut_(Canadian_Aboriginal_Syllabics)/character16/0555_19.png  \n",
            "  inflating: omniglot/data/Inuktitut_(Canadian_Aboriginal_Syllabics)/character10/0549_11.png  \n",
            "  inflating: omniglot/data/Inuktitut_(Canadian_Aboriginal_Syllabics)/character10/0549_05.png  \n",
            "  inflating: omniglot/data/Inuktitut_(Canadian_Aboriginal_Syllabics)/character10/0549_04.png  \n",
            "  inflating: omniglot/data/Inuktitut_(Canadian_Aboriginal_Syllabics)/character10/0549_10.png  \n",
            "  inflating: omniglot/data/Inuktitut_(Canadian_Aboriginal_Syllabics)/character10/0549_06.png  \n",
            "  inflating: omniglot/data/Inuktitut_(Canadian_Aboriginal_Syllabics)/character10/0549_12.png  \n",
            "  inflating: omniglot/data/Inuktitut_(Canadian_Aboriginal_Syllabics)/character10/0549_13.png  \n",
            "  inflating: omniglot/data/Inuktitut_(Canadian_Aboriginal_Syllabics)/character10/0549_07.png  \n",
            "  inflating: omniglot/data/Inuktitut_(Canadian_Aboriginal_Syllabics)/character10/0549_03.png  \n",
            "  inflating: omniglot/data/Inuktitut_(Canadian_Aboriginal_Syllabics)/character10/0549_17.png  \n",
            "  inflating: omniglot/data/Inuktitut_(Canadian_Aboriginal_Syllabics)/character10/0549_16.png  \n",
            "  inflating: omniglot/data/Inuktitut_(Canadian_Aboriginal_Syllabics)/character10/0549_02.png  \n",
            "  inflating: omniglot/data/Inuktitut_(Canadian_Aboriginal_Syllabics)/character10/0549_14.png  \n",
            "  inflating: omniglot/data/Inuktitut_(Canadian_Aboriginal_Syllabics)/character10/0549_01.png  \n",
            "  inflating: omniglot/data/Inuktitut_(Canadian_Aboriginal_Syllabics)/character10/0549_15.png  \n",
            "  inflating: omniglot/data/Inuktitut_(Canadian_Aboriginal_Syllabics)/character10/0549_18.png  \n",
            "  inflating: omniglot/data/Inuktitut_(Canadian_Aboriginal_Syllabics)/character10/0549_19.png  \n",
            "  inflating: omniglot/data/Inuktitut_(Canadian_Aboriginal_Syllabics)/character10/0549_09.png  \n",
            "  inflating: omniglot/data/Inuktitut_(Canadian_Aboriginal_Syllabics)/character10/0549_08.png  \n",
            "  inflating: omniglot/data/Inuktitut_(Canadian_Aboriginal_Syllabics)/character10/0549_20.png  \n",
            "  inflating: omniglot/data/Inuktitut_(Canadian_Aboriginal_Syllabics)/character03/0542_18.png  \n",
            "  inflating: omniglot/data/Inuktitut_(Canadian_Aboriginal_Syllabics)/character03/0542_19.png  \n",
            "  inflating: omniglot/data/Inuktitut_(Canadian_Aboriginal_Syllabics)/character03/0542_09.png  \n",
            "  inflating: omniglot/data/Inuktitut_(Canadian_Aboriginal_Syllabics)/character03/0542_08.png  \n",
            "  inflating: omniglot/data/Inuktitut_(Canadian_Aboriginal_Syllabics)/character03/0542_20.png  \n",
            "  inflating: omniglot/data/Inuktitut_(Canadian_Aboriginal_Syllabics)/character03/0542_11.png  \n",
            "  inflating: omniglot/data/Inuktitut_(Canadian_Aboriginal_Syllabics)/character03/0542_05.png  \n",
            "  inflating: omniglot/data/Inuktitut_(Canadian_Aboriginal_Syllabics)/character03/0542_04.png  \n",
            "  inflating: omniglot/data/Inuktitut_(Canadian_Aboriginal_Syllabics)/character03/0542_10.png  \n",
            "  inflating: omniglot/data/Inuktitut_(Canadian_Aboriginal_Syllabics)/character03/0542_06.png  \n",
            "  inflating: omniglot/data/Inuktitut_(Canadian_Aboriginal_Syllabics)/character03/0542_12.png  \n",
            "  inflating: omniglot/data/Inuktitut_(Canadian_Aboriginal_Syllabics)/character03/0542_13.png  \n",
            "  inflating: omniglot/data/Inuktitut_(Canadian_Aboriginal_Syllabics)/character03/0542_07.png  \n",
            "  inflating: omniglot/data/Inuktitut_(Canadian_Aboriginal_Syllabics)/character03/0542_03.png  \n",
            "  inflating: omniglot/data/Inuktitut_(Canadian_Aboriginal_Syllabics)/character03/0542_17.png  \n",
            "  inflating: omniglot/data/Inuktitut_(Canadian_Aboriginal_Syllabics)/character03/0542_16.png  \n",
            "  inflating: omniglot/data/Inuktitut_(Canadian_Aboriginal_Syllabics)/character03/0542_02.png  \n",
            "  inflating: omniglot/data/Inuktitut_(Canadian_Aboriginal_Syllabics)/character03/0542_14.png  \n",
            "  inflating: omniglot/data/Inuktitut_(Canadian_Aboriginal_Syllabics)/character03/0542_01.png  \n",
            "  inflating: omniglot/data/Inuktitut_(Canadian_Aboriginal_Syllabics)/character03/0542_15.png  \n",
            "  inflating: omniglot/data/Inuktitut_(Canadian_Aboriginal_Syllabics)/character04/0543_07.png  \n",
            "  inflating: omniglot/data/Inuktitut_(Canadian_Aboriginal_Syllabics)/character04/0543_13.png  \n",
            "  inflating: omniglot/data/Inuktitut_(Canadian_Aboriginal_Syllabics)/character04/0543_12.png  \n",
            "  inflating: omniglot/data/Inuktitut_(Canadian_Aboriginal_Syllabics)/character04/0543_06.png  \n",
            "  inflating: omniglot/data/Inuktitut_(Canadian_Aboriginal_Syllabics)/character04/0543_10.png  \n",
            "  inflating: omniglot/data/Inuktitut_(Canadian_Aboriginal_Syllabics)/character04/0543_04.png  \n",
            "  inflating: omniglot/data/Inuktitut_(Canadian_Aboriginal_Syllabics)/character04/0543_05.png  \n",
            "  inflating: omniglot/data/Inuktitut_(Canadian_Aboriginal_Syllabics)/character04/0543_11.png  \n",
            "  inflating: omniglot/data/Inuktitut_(Canadian_Aboriginal_Syllabics)/character04/0543_15.png  \n",
            "  inflating: omniglot/data/Inuktitut_(Canadian_Aboriginal_Syllabics)/character04/0543_01.png  \n",
            "  inflating: omniglot/data/Inuktitut_(Canadian_Aboriginal_Syllabics)/character04/0543_14.png  \n",
            "  inflating: omniglot/data/Inuktitut_(Canadian_Aboriginal_Syllabics)/character04/0543_02.png  \n",
            "  inflating: omniglot/data/Inuktitut_(Canadian_Aboriginal_Syllabics)/character04/0543_16.png  \n",
            "  inflating: omniglot/data/Inuktitut_(Canadian_Aboriginal_Syllabics)/character04/0543_17.png  \n",
            "  inflating: omniglot/data/Inuktitut_(Canadian_Aboriginal_Syllabics)/character04/0543_03.png  \n",
            "  inflating: omniglot/data/Inuktitut_(Canadian_Aboriginal_Syllabics)/character04/0543_19.png  \n",
            "  inflating: omniglot/data/Inuktitut_(Canadian_Aboriginal_Syllabics)/character04/0543_18.png  \n",
            "  inflating: omniglot/data/Inuktitut_(Canadian_Aboriginal_Syllabics)/character04/0543_08.png  \n",
            "  inflating: omniglot/data/Inuktitut_(Canadian_Aboriginal_Syllabics)/character04/0543_20.png  \n",
            "  inflating: omniglot/data/Inuktitut_(Canadian_Aboriginal_Syllabics)/character04/0543_09.png  \n",
            "  inflating: omniglot/data/Inuktitut_(Canadian_Aboriginal_Syllabics)/character05/0544_19.png  \n",
            "  inflating: omniglot/data/Inuktitut_(Canadian_Aboriginal_Syllabics)/character05/0544_18.png  \n",
            "  inflating: omniglot/data/Inuktitut_(Canadian_Aboriginal_Syllabics)/character05/0544_20.png  \n",
            "  inflating: omniglot/data/Inuktitut_(Canadian_Aboriginal_Syllabics)/character05/0544_08.png  \n",
            "  inflating: omniglot/data/Inuktitut_(Canadian_Aboriginal_Syllabics)/character05/0544_09.png  \n",
            "  inflating: omniglot/data/Inuktitut_(Canadian_Aboriginal_Syllabics)/character05/0544_13.png  \n",
            "  inflating: omniglot/data/Inuktitut_(Canadian_Aboriginal_Syllabics)/character05/0544_07.png  \n",
            "  inflating: omniglot/data/Inuktitut_(Canadian_Aboriginal_Syllabics)/character05/0544_06.png  \n",
            "  inflating: omniglot/data/Inuktitut_(Canadian_Aboriginal_Syllabics)/character05/0544_12.png  \n",
            "  inflating: omniglot/data/Inuktitut_(Canadian_Aboriginal_Syllabics)/character05/0544_04.png  \n",
            "  inflating: omniglot/data/Inuktitut_(Canadian_Aboriginal_Syllabics)/character05/0544_10.png  \n",
            "  inflating: omniglot/data/Inuktitut_(Canadian_Aboriginal_Syllabics)/character05/0544_11.png  \n",
            "  inflating: omniglot/data/Inuktitut_(Canadian_Aboriginal_Syllabics)/character05/0544_05.png  \n",
            "  inflating: omniglot/data/Inuktitut_(Canadian_Aboriginal_Syllabics)/character05/0544_01.png  \n",
            "  inflating: omniglot/data/Inuktitut_(Canadian_Aboriginal_Syllabics)/character05/0544_15.png  \n",
            "  inflating: omniglot/data/Inuktitut_(Canadian_Aboriginal_Syllabics)/character05/0544_14.png  \n",
            "  inflating: omniglot/data/Inuktitut_(Canadian_Aboriginal_Syllabics)/character05/0544_16.png  \n",
            "  inflating: omniglot/data/Inuktitut_(Canadian_Aboriginal_Syllabics)/character05/0544_02.png  \n",
            "  inflating: omniglot/data/Inuktitut_(Canadian_Aboriginal_Syllabics)/character05/0544_03.png  \n",
            "  inflating: omniglot/data/Inuktitut_(Canadian_Aboriginal_Syllabics)/character05/0544_17.png  \n",
            "  inflating: omniglot/data/Inuktitut_(Canadian_Aboriginal_Syllabics)/character02/0541_02.png  \n",
            "  inflating: omniglot/data/Inuktitut_(Canadian_Aboriginal_Syllabics)/character02/0541_16.png  \n",
            "  inflating: omniglot/data/Inuktitut_(Canadian_Aboriginal_Syllabics)/character02/0541_17.png  \n",
            "  inflating: omniglot/data/Inuktitut_(Canadian_Aboriginal_Syllabics)/character02/0541_03.png  \n",
            "  inflating: omniglot/data/Inuktitut_(Canadian_Aboriginal_Syllabics)/character02/0541_15.png  \n",
            "  inflating: omniglot/data/Inuktitut_(Canadian_Aboriginal_Syllabics)/character02/0541_01.png  \n",
            "  inflating: omniglot/data/Inuktitut_(Canadian_Aboriginal_Syllabics)/character02/0541_14.png  \n",
            "  inflating: omniglot/data/Inuktitut_(Canadian_Aboriginal_Syllabics)/character02/0541_10.png  \n",
            "  inflating: omniglot/data/Inuktitut_(Canadian_Aboriginal_Syllabics)/character02/0541_04.png  \n",
            "  inflating: omniglot/data/Inuktitut_(Canadian_Aboriginal_Syllabics)/character02/0541_05.png  \n",
            "  inflating: omniglot/data/Inuktitut_(Canadian_Aboriginal_Syllabics)/character02/0541_11.png  \n",
            "  inflating: omniglot/data/Inuktitut_(Canadian_Aboriginal_Syllabics)/character02/0541_07.png  \n",
            "  inflating: omniglot/data/Inuktitut_(Canadian_Aboriginal_Syllabics)/character02/0541_13.png  \n",
            "  inflating: omniglot/data/Inuktitut_(Canadian_Aboriginal_Syllabics)/character02/0541_12.png  \n",
            "  inflating: omniglot/data/Inuktitut_(Canadian_Aboriginal_Syllabics)/character02/0541_06.png  \n",
            "  inflating: omniglot/data/Inuktitut_(Canadian_Aboriginal_Syllabics)/character02/0541_20.png  \n",
            "  inflating: omniglot/data/Inuktitut_(Canadian_Aboriginal_Syllabics)/character02/0541_08.png  \n",
            "  inflating: omniglot/data/Inuktitut_(Canadian_Aboriginal_Syllabics)/character02/0541_09.png  \n",
            "  inflating: omniglot/data/Inuktitut_(Canadian_Aboriginal_Syllabics)/character02/0541_19.png  \n",
            "  inflating: omniglot/data/Inuktitut_(Canadian_Aboriginal_Syllabics)/character02/0541_18.png  \n",
            "  inflating: omniglot/data/Inuktitut_(Canadian_Aboriginal_Syllabics)/character15/0554_08.png  \n",
            "  inflating: omniglot/data/Inuktitut_(Canadian_Aboriginal_Syllabics)/character15/0554_20.png  \n",
            "  inflating: omniglot/data/Inuktitut_(Canadian_Aboriginal_Syllabics)/character15/0554_09.png  \n",
            "  inflating: omniglot/data/Inuktitut_(Canadian_Aboriginal_Syllabics)/character15/0554_19.png  \n",
            "  inflating: omniglot/data/Inuktitut_(Canadian_Aboriginal_Syllabics)/character15/0554_18.png  \n",
            "  inflating: omniglot/data/Inuktitut_(Canadian_Aboriginal_Syllabics)/character15/0554_02.png  \n",
            "  inflating: omniglot/data/Inuktitut_(Canadian_Aboriginal_Syllabics)/character15/0554_16.png  \n",
            "  inflating: omniglot/data/Inuktitut_(Canadian_Aboriginal_Syllabics)/character15/0554_17.png  \n",
            "  inflating: omniglot/data/Inuktitut_(Canadian_Aboriginal_Syllabics)/character15/0554_03.png  \n",
            "  inflating: omniglot/data/Inuktitut_(Canadian_Aboriginal_Syllabics)/character15/0554_15.png  \n",
            "  inflating: omniglot/data/Inuktitut_(Canadian_Aboriginal_Syllabics)/character15/0554_01.png  \n",
            "  inflating: omniglot/data/Inuktitut_(Canadian_Aboriginal_Syllabics)/character15/0554_14.png  \n",
            "  inflating: omniglot/data/Inuktitut_(Canadian_Aboriginal_Syllabics)/character15/0554_10.png  \n",
            "  inflating: omniglot/data/Inuktitut_(Canadian_Aboriginal_Syllabics)/character15/0554_04.png  \n",
            "  inflating: omniglot/data/Inuktitut_(Canadian_Aboriginal_Syllabics)/character15/0554_05.png  \n",
            "  inflating: omniglot/data/Inuktitut_(Canadian_Aboriginal_Syllabics)/character15/0554_11.png  \n",
            "  inflating: omniglot/data/Inuktitut_(Canadian_Aboriginal_Syllabics)/character15/0554_07.png  \n",
            "  inflating: omniglot/data/Inuktitut_(Canadian_Aboriginal_Syllabics)/character15/0554_13.png  \n",
            "  inflating: omniglot/data/Inuktitut_(Canadian_Aboriginal_Syllabics)/character15/0554_12.png  \n",
            "  inflating: omniglot/data/Inuktitut_(Canadian_Aboriginal_Syllabics)/character15/0554_06.png  \n",
            "  inflating: omniglot/data/Inuktitut_(Canadian_Aboriginal_Syllabics)/character12/0551_13.png  \n",
            "  inflating: omniglot/data/Inuktitut_(Canadian_Aboriginal_Syllabics)/character12/0551_07.png  \n",
            "  inflating: omniglot/data/Inuktitut_(Canadian_Aboriginal_Syllabics)/character12/0551_06.png  \n",
            "  inflating: omniglot/data/Inuktitut_(Canadian_Aboriginal_Syllabics)/character12/0551_12.png  \n",
            "  inflating: omniglot/data/Inuktitut_(Canadian_Aboriginal_Syllabics)/character12/0551_04.png  \n",
            "  inflating: omniglot/data/Inuktitut_(Canadian_Aboriginal_Syllabics)/character12/0551_10.png  \n",
            "  inflating: omniglot/data/Inuktitut_(Canadian_Aboriginal_Syllabics)/character12/0551_11.png  \n",
            "  inflating: omniglot/data/Inuktitut_(Canadian_Aboriginal_Syllabics)/character12/0551_05.png  \n",
            "  inflating: omniglot/data/Inuktitut_(Canadian_Aboriginal_Syllabics)/character12/0551_01.png  \n",
            "  inflating: omniglot/data/Inuktitut_(Canadian_Aboriginal_Syllabics)/character12/0551_15.png  \n",
            "  inflating: omniglot/data/Inuktitut_(Canadian_Aboriginal_Syllabics)/character12/0551_14.png  \n",
            "  inflating: omniglot/data/Inuktitut_(Canadian_Aboriginal_Syllabics)/character12/0551_16.png  \n",
            "  inflating: omniglot/data/Inuktitut_(Canadian_Aboriginal_Syllabics)/character12/0551_02.png  \n",
            "  inflating: omniglot/data/Inuktitut_(Canadian_Aboriginal_Syllabics)/character12/0551_03.png  \n",
            "  inflating: omniglot/data/Inuktitut_(Canadian_Aboriginal_Syllabics)/character12/0551_17.png  \n",
            "  inflating: omniglot/data/Inuktitut_(Canadian_Aboriginal_Syllabics)/character12/0551_19.png  \n",
            "  inflating: omniglot/data/Inuktitut_(Canadian_Aboriginal_Syllabics)/character12/0551_18.png  \n",
            "  inflating: omniglot/data/Inuktitut_(Canadian_Aboriginal_Syllabics)/character12/0551_08.png  \n",
            "  inflating: omniglot/data/Inuktitut_(Canadian_Aboriginal_Syllabics)/character12/0551_20.png  \n",
            "  inflating: omniglot/data/Inuktitut_(Canadian_Aboriginal_Syllabics)/character12/0551_09.png  \n",
            "  inflating: omniglot/data/Inuktitut_(Canadian_Aboriginal_Syllabics)/character13/0552_09.png  \n",
            "  inflating: omniglot/data/Inuktitut_(Canadian_Aboriginal_Syllabics)/character13/0552_20.png  \n",
            "  inflating: omniglot/data/Inuktitut_(Canadian_Aboriginal_Syllabics)/character13/0552_08.png  \n",
            "  inflating: omniglot/data/Inuktitut_(Canadian_Aboriginal_Syllabics)/character13/0552_18.png  \n",
            "  inflating: omniglot/data/Inuktitut_(Canadian_Aboriginal_Syllabics)/character13/0552_19.png  \n",
            "  inflating: omniglot/data/Inuktitut_(Canadian_Aboriginal_Syllabics)/character13/0552_14.png  \n",
            "  inflating: omniglot/data/Inuktitut_(Canadian_Aboriginal_Syllabics)/character13/0552_15.png  \n",
            "  inflating: omniglot/data/Inuktitut_(Canadian_Aboriginal_Syllabics)/character13/0552_01.png  \n",
            "  inflating: omniglot/data/Inuktitut_(Canadian_Aboriginal_Syllabics)/character13/0552_17.png  \n",
            "  inflating: omniglot/data/Inuktitut_(Canadian_Aboriginal_Syllabics)/character13/0552_03.png  \n",
            "  inflating: omniglot/data/Inuktitut_(Canadian_Aboriginal_Syllabics)/character13/0552_02.png  \n",
            "  inflating: omniglot/data/Inuktitut_(Canadian_Aboriginal_Syllabics)/character13/0552_16.png  \n",
            "  inflating: omniglot/data/Inuktitut_(Canadian_Aboriginal_Syllabics)/character13/0552_12.png  \n",
            "  inflating: omniglot/data/Inuktitut_(Canadian_Aboriginal_Syllabics)/character13/0552_06.png  \n",
            "  inflating: omniglot/data/Inuktitut_(Canadian_Aboriginal_Syllabics)/character13/0552_07.png  \n",
            "  inflating: omniglot/data/Inuktitut_(Canadian_Aboriginal_Syllabics)/character13/0552_13.png  \n",
            "  inflating: omniglot/data/Inuktitut_(Canadian_Aboriginal_Syllabics)/character13/0552_05.png  \n",
            "  inflating: omniglot/data/Inuktitut_(Canadian_Aboriginal_Syllabics)/character13/0552_11.png  \n",
            "  inflating: omniglot/data/Inuktitut_(Canadian_Aboriginal_Syllabics)/character13/0552_10.png  \n",
            "  inflating: omniglot/data/Inuktitut_(Canadian_Aboriginal_Syllabics)/character13/0552_04.png  \n",
            "  inflating: omniglot/data/Inuktitut_(Canadian_Aboriginal_Syllabics)/character14/0553_16.png  \n",
            "  inflating: omniglot/data/Inuktitut_(Canadian_Aboriginal_Syllabics)/character14/0553_02.png  \n",
            "  inflating: omniglot/data/Inuktitut_(Canadian_Aboriginal_Syllabics)/character14/0553_03.png  \n",
            "  inflating: omniglot/data/Inuktitut_(Canadian_Aboriginal_Syllabics)/character14/0553_17.png  \n",
            "  inflating: omniglot/data/Inuktitut_(Canadian_Aboriginal_Syllabics)/character14/0553_01.png  \n",
            "  inflating: omniglot/data/Inuktitut_(Canadian_Aboriginal_Syllabics)/character14/0553_15.png  \n",
            "  inflating: omniglot/data/Inuktitut_(Canadian_Aboriginal_Syllabics)/character14/0553_14.png  \n",
            "  inflating: omniglot/data/Inuktitut_(Canadian_Aboriginal_Syllabics)/character14/0553_04.png  \n",
            "  inflating: omniglot/data/Inuktitut_(Canadian_Aboriginal_Syllabics)/character14/0553_10.png  \n",
            "  inflating: omniglot/data/Inuktitut_(Canadian_Aboriginal_Syllabics)/character14/0553_11.png  \n",
            "  inflating: omniglot/data/Inuktitut_(Canadian_Aboriginal_Syllabics)/character14/0553_05.png  \n",
            "  inflating: omniglot/data/Inuktitut_(Canadian_Aboriginal_Syllabics)/character14/0553_13.png  \n",
            "  inflating: omniglot/data/Inuktitut_(Canadian_Aboriginal_Syllabics)/character14/0553_07.png  \n",
            "  inflating: omniglot/data/Inuktitut_(Canadian_Aboriginal_Syllabics)/character14/0553_06.png  \n",
            "  inflating: omniglot/data/Inuktitut_(Canadian_Aboriginal_Syllabics)/character14/0553_12.png  \n",
            "  inflating: omniglot/data/Inuktitut_(Canadian_Aboriginal_Syllabics)/character14/0553_20.png  \n",
            "  inflating: omniglot/data/Inuktitut_(Canadian_Aboriginal_Syllabics)/character14/0553_08.png  \n",
            "  inflating: omniglot/data/Inuktitut_(Canadian_Aboriginal_Syllabics)/character14/0553_09.png  \n",
            "  inflating: omniglot/data/Inuktitut_(Canadian_Aboriginal_Syllabics)/character14/0553_19.png  \n",
            "  inflating: omniglot/data/Inuktitut_(Canadian_Aboriginal_Syllabics)/character14/0553_18.png  \n",
            "  inflating: omniglot/data/Inuktitut_(Canadian_Aboriginal_Syllabics)/character09/0548_19.png  \n",
            "  inflating: omniglot/data/Inuktitut_(Canadian_Aboriginal_Syllabics)/character09/0548_18.png  \n",
            "  inflating: omniglot/data/Inuktitut_(Canadian_Aboriginal_Syllabics)/character09/0548_08.png  \n",
            "  inflating: omniglot/data/Inuktitut_(Canadian_Aboriginal_Syllabics)/character09/0548_20.png  \n",
            "  inflating: omniglot/data/Inuktitut_(Canadian_Aboriginal_Syllabics)/character09/0548_09.png  \n",
            "  inflating: omniglot/data/Inuktitut_(Canadian_Aboriginal_Syllabics)/character09/0548_07.png  \n",
            "  inflating: omniglot/data/Inuktitut_(Canadian_Aboriginal_Syllabics)/character09/0548_13.png  \n",
            "  inflating: omniglot/data/Inuktitut_(Canadian_Aboriginal_Syllabics)/character09/0548_12.png  \n",
            "  inflating: omniglot/data/Inuktitut_(Canadian_Aboriginal_Syllabics)/character09/0548_06.png  \n",
            "  inflating: omniglot/data/Inuktitut_(Canadian_Aboriginal_Syllabics)/character09/0548_10.png  \n",
            "  inflating: omniglot/data/Inuktitut_(Canadian_Aboriginal_Syllabics)/character09/0548_04.png  \n",
            "  inflating: omniglot/data/Inuktitut_(Canadian_Aboriginal_Syllabics)/character09/0548_05.png  \n",
            "  inflating: omniglot/data/Inuktitut_(Canadian_Aboriginal_Syllabics)/character09/0548_11.png  \n",
            "  inflating: omniglot/data/Inuktitut_(Canadian_Aboriginal_Syllabics)/character09/0548_15.png  \n",
            "  inflating: omniglot/data/Inuktitut_(Canadian_Aboriginal_Syllabics)/character09/0548_01.png  \n",
            "  inflating: omniglot/data/Inuktitut_(Canadian_Aboriginal_Syllabics)/character09/0548_14.png  \n",
            "  inflating: omniglot/data/Inuktitut_(Canadian_Aboriginal_Syllabics)/character09/0548_02.png  \n",
            "  inflating: omniglot/data/Inuktitut_(Canadian_Aboriginal_Syllabics)/character09/0548_16.png  \n",
            "  inflating: omniglot/data/Inuktitut_(Canadian_Aboriginal_Syllabics)/character09/0548_17.png  \n",
            "  inflating: omniglot/data/Inuktitut_(Canadian_Aboriginal_Syllabics)/character09/0548_03.png  \n",
            "  inflating: omniglot/data/Inuktitut_(Canadian_Aboriginal_Syllabics)/character07/0546_08.png  \n",
            "  inflating: omniglot/data/Inuktitut_(Canadian_Aboriginal_Syllabics)/character07/0546_20.png  \n",
            "  inflating: omniglot/data/Inuktitut_(Canadian_Aboriginal_Syllabics)/character07/0546_09.png  \n",
            "  inflating: omniglot/data/Inuktitut_(Canadian_Aboriginal_Syllabics)/character07/0546_19.png  \n",
            "  inflating: omniglot/data/Inuktitut_(Canadian_Aboriginal_Syllabics)/character07/0546_18.png  \n",
            "  inflating: omniglot/data/Inuktitut_(Canadian_Aboriginal_Syllabics)/character07/0546_16.png  \n",
            "  inflating: omniglot/data/Inuktitut_(Canadian_Aboriginal_Syllabics)/character07/0546_02.png  \n",
            "  inflating: omniglot/data/Inuktitut_(Canadian_Aboriginal_Syllabics)/character07/0546_03.png  \n",
            "  inflating: omniglot/data/Inuktitut_(Canadian_Aboriginal_Syllabics)/character07/0546_17.png  \n",
            "  inflating: omniglot/data/Inuktitut_(Canadian_Aboriginal_Syllabics)/character07/0546_01.png  \n",
            "  inflating: omniglot/data/Inuktitut_(Canadian_Aboriginal_Syllabics)/character07/0546_15.png  \n",
            "  inflating: omniglot/data/Inuktitut_(Canadian_Aboriginal_Syllabics)/character07/0546_14.png  \n",
            "  inflating: omniglot/data/Inuktitut_(Canadian_Aboriginal_Syllabics)/character07/0546_04.png  \n",
            "  inflating: omniglot/data/Inuktitut_(Canadian_Aboriginal_Syllabics)/character07/0546_10.png  \n",
            "  inflating: omniglot/data/Inuktitut_(Canadian_Aboriginal_Syllabics)/character07/0546_11.png  \n",
            "  inflating: omniglot/data/Inuktitut_(Canadian_Aboriginal_Syllabics)/character07/0546_05.png  \n",
            "  inflating: omniglot/data/Inuktitut_(Canadian_Aboriginal_Syllabics)/character07/0546_13.png  \n",
            "  inflating: omniglot/data/Inuktitut_(Canadian_Aboriginal_Syllabics)/character07/0546_07.png  \n",
            "  inflating: omniglot/data/Inuktitut_(Canadian_Aboriginal_Syllabics)/character07/0546_06.png  \n",
            "  inflating: omniglot/data/Inuktitut_(Canadian_Aboriginal_Syllabics)/character07/0546_12.png  \n",
            "  inflating: omniglot/data/Inuktitut_(Canadian_Aboriginal_Syllabics)/character01/0540_09.png  \n",
            "  inflating: omniglot/data/Inuktitut_(Canadian_Aboriginal_Syllabics)/character01/0540_20.png  \n",
            "  inflating: omniglot/data/Inuktitut_(Canadian_Aboriginal_Syllabics)/character01/0540_08.png  \n",
            "  inflating: omniglot/data/Inuktitut_(Canadian_Aboriginal_Syllabics)/character01/0540_18.png  \n",
            "  inflating: omniglot/data/Inuktitut_(Canadian_Aboriginal_Syllabics)/character01/0540_19.png  \n",
            "  inflating: omniglot/data/Inuktitut_(Canadian_Aboriginal_Syllabics)/character01/0540_14.png  \n",
            "  inflating: omniglot/data/Inuktitut_(Canadian_Aboriginal_Syllabics)/character01/0540_01.png  \n",
            "  inflating: omniglot/data/Inuktitut_(Canadian_Aboriginal_Syllabics)/character01/0540_15.png  \n",
            "  inflating: omniglot/data/Inuktitut_(Canadian_Aboriginal_Syllabics)/character01/0540_03.png  \n",
            "  inflating: omniglot/data/Inuktitut_(Canadian_Aboriginal_Syllabics)/character01/0540_17.png  \n",
            "  inflating: omniglot/data/Inuktitut_(Canadian_Aboriginal_Syllabics)/character01/0540_16.png  \n",
            "  inflating: omniglot/data/Inuktitut_(Canadian_Aboriginal_Syllabics)/character01/0540_02.png  \n",
            "  inflating: omniglot/data/Inuktitut_(Canadian_Aboriginal_Syllabics)/character01/0540_06.png  \n",
            "  inflating: omniglot/data/Inuktitut_(Canadian_Aboriginal_Syllabics)/character01/0540_12.png  \n",
            "  inflating: omniglot/data/Inuktitut_(Canadian_Aboriginal_Syllabics)/character01/0540_13.png  \n",
            "  inflating: omniglot/data/Inuktitut_(Canadian_Aboriginal_Syllabics)/character01/0540_07.png  \n",
            "  inflating: omniglot/data/Inuktitut_(Canadian_Aboriginal_Syllabics)/character01/0540_11.png  \n",
            "  inflating: omniglot/data/Inuktitut_(Canadian_Aboriginal_Syllabics)/character01/0540_05.png  \n",
            "  inflating: omniglot/data/Inuktitut_(Canadian_Aboriginal_Syllabics)/character01/0540_04.png  \n",
            "  inflating: omniglot/data/Inuktitut_(Canadian_Aboriginal_Syllabics)/character01/0540_10.png  \n",
            "  inflating: omniglot/data/Inuktitut_(Canadian_Aboriginal_Syllabics)/character06/0545_05.png  \n",
            "  inflating: omniglot/data/Inuktitut_(Canadian_Aboriginal_Syllabics)/character06/0545_11.png  \n",
            "  inflating: omniglot/data/Inuktitut_(Canadian_Aboriginal_Syllabics)/character06/0545_10.png  \n",
            "  inflating: omniglot/data/Inuktitut_(Canadian_Aboriginal_Syllabics)/character06/0545_04.png  \n",
            "  inflating: omniglot/data/Inuktitut_(Canadian_Aboriginal_Syllabics)/character06/0545_12.png  \n",
            "  inflating: omniglot/data/Inuktitut_(Canadian_Aboriginal_Syllabics)/character06/0545_06.png  \n",
            "  inflating: omniglot/data/Inuktitut_(Canadian_Aboriginal_Syllabics)/character06/0545_07.png  \n",
            "  inflating: omniglot/data/Inuktitut_(Canadian_Aboriginal_Syllabics)/character06/0545_13.png  \n",
            "  inflating: omniglot/data/Inuktitut_(Canadian_Aboriginal_Syllabics)/character06/0545_17.png  \n",
            "  inflating: omniglot/data/Inuktitut_(Canadian_Aboriginal_Syllabics)/character06/0545_03.png  \n",
            "  inflating: omniglot/data/Inuktitut_(Canadian_Aboriginal_Syllabics)/character06/0545_02.png  \n",
            "  inflating: omniglot/data/Inuktitut_(Canadian_Aboriginal_Syllabics)/character06/0545_16.png  \n",
            "  inflating: omniglot/data/Inuktitut_(Canadian_Aboriginal_Syllabics)/character06/0545_14.png  \n",
            "  inflating: omniglot/data/Inuktitut_(Canadian_Aboriginal_Syllabics)/character06/0545_15.png  \n",
            "  inflating: omniglot/data/Inuktitut_(Canadian_Aboriginal_Syllabics)/character06/0545_01.png  \n",
            "  inflating: omniglot/data/Inuktitut_(Canadian_Aboriginal_Syllabics)/character06/0545_18.png  \n",
            "  inflating: omniglot/data/Inuktitut_(Canadian_Aboriginal_Syllabics)/character06/0545_19.png  \n",
            "  inflating: omniglot/data/Inuktitut_(Canadian_Aboriginal_Syllabics)/character06/0545_09.png  \n",
            "  inflating: omniglot/data/Inuktitut_(Canadian_Aboriginal_Syllabics)/character06/0545_20.png  \n",
            "  inflating: omniglot/data/Inuktitut_(Canadian_Aboriginal_Syllabics)/character06/0545_08.png  \n",
            "  inflating: omniglot/data/Inuktitut_(Canadian_Aboriginal_Syllabics)/character08/0547_14.png  \n",
            "  inflating: omniglot/data/Inuktitut_(Canadian_Aboriginal_Syllabics)/character08/0547_15.png  \n",
            "  inflating: omniglot/data/Inuktitut_(Canadian_Aboriginal_Syllabics)/character08/0547_01.png  \n",
            "  inflating: omniglot/data/Inuktitut_(Canadian_Aboriginal_Syllabics)/character08/0547_17.png  \n",
            "  inflating: omniglot/data/Inuktitut_(Canadian_Aboriginal_Syllabics)/character08/0547_03.png  \n",
            "  inflating: omniglot/data/Inuktitut_(Canadian_Aboriginal_Syllabics)/character08/0547_02.png  \n",
            "  inflating: omniglot/data/Inuktitut_(Canadian_Aboriginal_Syllabics)/character08/0547_16.png  \n",
            "  inflating: omniglot/data/Inuktitut_(Canadian_Aboriginal_Syllabics)/character08/0547_12.png  \n",
            "  inflating: omniglot/data/Inuktitut_(Canadian_Aboriginal_Syllabics)/character08/0547_06.png  \n",
            "  inflating: omniglot/data/Inuktitut_(Canadian_Aboriginal_Syllabics)/character08/0547_07.png  \n",
            "  inflating: omniglot/data/Inuktitut_(Canadian_Aboriginal_Syllabics)/character08/0547_13.png  \n",
            "  inflating: omniglot/data/Inuktitut_(Canadian_Aboriginal_Syllabics)/character08/0547_05.png  \n",
            "  inflating: omniglot/data/Inuktitut_(Canadian_Aboriginal_Syllabics)/character08/0547_11.png  \n",
            "  inflating: omniglot/data/Inuktitut_(Canadian_Aboriginal_Syllabics)/character08/0547_10.png  \n",
            "  inflating: omniglot/data/Inuktitut_(Canadian_Aboriginal_Syllabics)/character08/0547_04.png  \n",
            "  inflating: omniglot/data/Inuktitut_(Canadian_Aboriginal_Syllabics)/character08/0547_09.png  \n",
            "  inflating: omniglot/data/Inuktitut_(Canadian_Aboriginal_Syllabics)/character08/0547_08.png  \n",
            "  inflating: omniglot/data/Inuktitut_(Canadian_Aboriginal_Syllabics)/character08/0547_20.png  \n",
            "  inflating: omniglot/data/Inuktitut_(Canadian_Aboriginal_Syllabics)/character08/0547_18.png  \n",
            "  inflating: omniglot/data/Inuktitut_(Canadian_Aboriginal_Syllabics)/character08/0547_19.png  \n"
          ]
        }
      ],
      "source": [
        "!unzip omniglot.zip"
      ]
    },
    {
      "cell_type": "code",
      "execution_count": 4,
      "metadata": {
        "colab": {
          "base_uri": "https://localhost:8080/"
        },
        "id": "O-ppSGJJxwpU",
        "outputId": "a4a2fea3-578c-4e92-9e4d-e0d19e788958"
      },
      "outputs": [
        {
          "output_type": "stream",
          "name": "stdout",
          "text": [
            "omniglot/splits/vinyals/train.txt\n",
            "Angelic/character01/rot180\n",
            "omniglot/splits/vinyals/val.txt\n",
            "Hebrew/character01/rot180\n",
            "omniglot/splits/vinyals/test.txt\n",
            "Gurmukhi/character42/rot180\n"
          ]
        }
      ],
      "source": [
        "root_dir = 'omniglot/'\n",
        "train_split_path = os.path.join(root_dir, 'splits', 'vinyals', 'train.txt')\n",
        "print(train_split_path)\n",
        "\n",
        "with open(train_split_path, 'r') as train_split:\n",
        "    train_classes = [line.rstrip() for line in train_split.readlines()]\n",
        "print(train_classes[2])\n",
        "\n",
        "val_split_path = os.path.join(root_dir, 'splits', 'vinyals', 'val.txt')\n",
        "print(val_split_path)\n",
        "\n",
        "with open(val_split_path, 'r') as val_split:\n",
        "    val_classes = [line.rstrip() for line in val_split.readlines()]\n",
        "print(val_classes[2])\n",
        "\n",
        "test_split_path = os.path.join(root_dir, 'splits', 'vinyals', 'test.txt')\n",
        "print(test_split_path)\n",
        "\n",
        "with open(test_split_path, 'r') as test_split:\n",
        "    test_classes = [line.rstrip() for line in test_split.readlines()]\n",
        "print(test_classes[2])"
      ]
    },
    {
      "cell_type": "code",
      "execution_count": 5,
      "metadata": {
        "colab": {
          "base_uri": "https://localhost:8080/"
        },
        "id": "f_X6zjtGyI67",
        "outputId": "ab4abe0a-a78e-4b00-a54f-f85afbc10e85"
      },
      "outputs": [
        {
          "output_type": "stream",
          "name": "stdout",
          "text": [
            "4112\n",
            "688\n",
            "1692\n"
          ]
        }
      ],
      "source": [
        "no_train_classes = len(train_classes)\n",
        "print(no_train_classes)\n",
        "\n",
        "no_val_classes = len(val_classes)\n",
        "print(no_val_classes)\n",
        "\n",
        "no_test_classes = len(test_classes)\n",
        "print(no_test_classes)"
      ]
    },
    {
      "cell_type": "code",
      "execution_count": 6,
      "metadata": {
        "id": "4p8qsGsoyKQW"
      },
      "outputs": [],
      "source": [
        "#number of examples per class\n",
        "num_examples = 20\n",
        "\n",
        "#image width\n",
        "img_width = 32\n",
        "\n",
        "#image height\n",
        "img_height = 32\n",
        "\n",
        "#channels\n",
        "channels = 1"
      ]
    },
    {
      "cell_type": "code",
      "execution_count": 7,
      "metadata": {
        "colab": {
          "base_uri": "https://localhost:8080/"
        },
        "id": "hPNWXVZpyOaS",
        "outputId": "38dd6ac1-6b8c-41cc-9856-8d40ad3a0a3d"
      },
      "outputs": [
        {
          "output_type": "stream",
          "name": "stdout",
          "text": [
            "(4112, 20, 32, 32)\n",
            "(688, 20, 32, 32)\n",
            "(1692, 20, 32, 32)\n"
          ]
        }
      ],
      "source": [
        "train_dataset = np.zeros([no_train_classes, num_examples, img_height, img_width], dtype=np.float32)\n",
        "print(train_dataset.shape)\n",
        "\n",
        "val_dataset = np.zeros([no_val_classes, num_examples, img_height, img_width], dtype=np.float32)\n",
        "print(val_dataset.shape)\n",
        "\n",
        "test_dataset = np.zeros([no_test_classes, num_examples, img_height, img_width], dtype=np.float32)\n",
        "print(test_dataset.shape)\n"
      ]
    },
    {
      "cell_type": "code",
      "execution_count": 8,
      "metadata": {
        "id": "DXyR-ms5yRm-"
      },
      "outputs": [],
      "source": [
        "def populate_dataset(classes, dataset):\n",
        "  for label, name in enumerate(classes):\n",
        "    alphabet, character, rotation = name.split('/')\n",
        "    rotation = float(rotation[3:])\n",
        "    img_dir = os.path.join(root_dir, 'data', alphabet, character)\n",
        "    img_files = sorted(glob.glob(os.path.join(img_dir, '*.png')))\n",
        "    \n",
        "    for index, img_file in enumerate(img_files):\n",
        "      \n",
        "      img = Image.open(img_file).resize((img_height, img_width)).rotate(rotation)\n",
        "      img = np.asarray(img)\n",
        "      img = 1 - img\n",
        "      dataset[label, index] = img\n",
        "\n",
        "  return dataset\n",
        "\n",
        "\n",
        "train_dataset = populate_dataset(train_classes, train_dataset)\n",
        "val_dataset = populate_dataset(val_classes, val_dataset)\n",
        "test_dataset = populate_dataset(test_classes, test_dataset)\n"
      ]
    },
    {
      "cell_type": "code",
      "source": [
        "#Increase the axis by 1 to accomodate channel\n",
        "train_dataset = np.expand_dims(train_dataset, axis=-1)\n",
        "val_dataset = np.expand_dims(val_dataset, axis=-1)\n",
        "test_dataset = np.expand_dims(test_dataset, axis=-1)\n",
        "\n",
        "print(train_dataset.shape)\n",
        "print(val_dataset.shape)\n",
        "print(test_dataset.shape)"
      ],
      "metadata": {
        "colab": {
          "base_uri": "https://localhost:8080/"
        },
        "id": "wmSzuInpwRyq",
        "outputId": "f61f76cb-d674-4739-f065-6a3111afb9c1"
      },
      "execution_count": 9,
      "outputs": [
        {
          "output_type": "stream",
          "name": "stdout",
          "text": [
            "(4112, 20, 32, 32, 1)\n",
            "(688, 20, 32, 32, 1)\n",
            "(1692, 20, 32, 32, 1)\n"
          ]
        }
      ]
    },
    {
      "cell_type": "code",
      "execution_count": 10,
      "metadata": {
        "id": "5qUbRNbW4aOF"
      },
      "outputs": [],
      "source": [
        "# This will be used to get the next set of support and query dataset for the episode\n",
        "def get_next_episode(dataset, num_way, num_shot, num_query, no_of_classes):\n",
        "  support = np.zeros([num_way, num_shot, img_height, img_width, channels], dtype=np.float32)\n",
        "  query = np.zeros([num_way, num_query, img_height, img_width, channels], dtype=np.float32)\n",
        "  episodic_classes = np.random.permutation(no_of_classes)[:num_way]\n",
        "\n",
        "  for index, class_ in enumerate(episodic_classes):\n",
        "    selected = np.random.permutation(num_examples)[:num_shot + num_query]\n",
        "    \n",
        "    support[index] = dataset[class_][selected[:num_shot]]\n",
        "    query[index] = dataset[class_][selected[num_shot:]]\n",
        "    \n",
        "  return support, query\n",
        "\n",
        "def euclidean_distance(a, b):\n",
        "\n",
        "    N, D = tf.shape(a)[0], tf.shape(a)[1]\n",
        "    M = tf.shape(b)[0]\n",
        "    a = tf.tile(tf.expand_dims(a, axis=1), (1, M, 1))\n",
        "    b = tf.tile(tf.expand_dims(b, axis=0), (N, 1, 1))\n",
        "    return tf.reduce_mean(tf.square(a - b), axis=2)\n"
      ]
    },
    {
      "cell_type": "code",
      "execution_count": 11,
      "metadata": {
        "id": "Cux0E-nPAd1o"
      },
      "outputs": [],
      "source": [
        "from tensorflow.keras.layers import Dense, Flatten, Conv2D, BatchNormalization, Dropout, GlobalMaxPooling2D\n",
        "from tensorflow.keras import Model\n",
        "\n",
        "class Prototypical(Model):\n",
        "   \n",
        "    def __init__(self, n_support, n_query, w, h, c):\n",
        "       \n",
        "        super(Prototypical, self).__init__()\n",
        "        self.w, self.h, self.c = w, h, c\n",
        "\n",
        "        # Encoder of CNN with 4 blocks\n",
        "        self.encoder = tf.keras.Sequential([\n",
        "            tf.keras.layers.Conv2D(filters=64, kernel_size=3, padding='same'),\n",
        "            tf.keras.layers.BatchNormalization(),\n",
        "            tf.keras.layers.ReLU(),\n",
        "            tf.keras.layers.MaxPool2D((2, 2)),\n",
        "\n",
        "            tf.keras.layers.Conv2D(filters=64, kernel_size=3, padding='same'),\n",
        "            tf.keras.layers.BatchNormalization(),\n",
        "            tf.keras.layers.ReLU(),\n",
        "            tf.keras.layers.MaxPool2D((2, 2)),\n",
        "\n",
        "            tf.keras.layers.Conv2D(filters=64, kernel_size=3, padding='same'),\n",
        "            tf.keras.layers.BatchNormalization(),\n",
        "            tf.keras.layers.ReLU(),\n",
        "            tf.keras.layers.MaxPool2D((2, 2)),\n",
        "\n",
        "            tf.keras.layers.Conv2D(filters=64, kernel_size=3, padding='same'),\n",
        "            tf.keras.layers.BatchNormalization(),\n",
        "            tf.keras.layers.ReLU(),\n",
        "            tf.keras.layers.MaxPool2D((2, 2)), Flatten()]\n",
        "        )\n",
        "\n",
        "    def call(self, support, query):\n",
        "        n_class = support.shape[0]\n",
        "        n_support = support.shape[1]\n",
        "        n_query = query.shape[1]\n",
        "        y = np.tile(np.arange(n_class)[:, np.newaxis], (1, n_query))\n",
        "        y_onehot = tf.cast(tf.one_hot(y, n_class), tf.float32)\n",
        "\n",
        "        # correct indices of support samples (just natural order)\n",
        "        target_inds = tf.reshape(tf.range(n_class), [n_class, 1])\n",
        "        target_inds = tf.tile(target_inds, [1, n_query])\n",
        "\n",
        "        # merge support and query to forward through encoder\n",
        "        cat = tf.concat([\n",
        "            tf.reshape(support, [n_class * n_support,\n",
        "                                 self.w, self.h, self.c]),\n",
        "            tf.reshape(query, [n_class * n_query,\n",
        "                               self.w, self.h, self.c])], axis=0)\n",
        "        z = self.encoder(cat)\n",
        "\n",
        "        # Divide embedding into support and query\n",
        "        z_prototypes = tf.reshape(z[:n_class * n_support],\n",
        "                                  [n_class, n_support, z.shape[-1]])\n",
        "        # Prototypes\n",
        "        z_prototypes = tf.math.reduce_mean(z_prototypes, axis=1)\n",
        "        z_query = z[n_class * n_support:]\n",
        "\n",
        "        # Calculate distances between query and prototypes\n",
        "        dists = euclidean_distance(z_query, z_prototypes)\n",
        "\n",
        "        # log softmax \n",
        "        log_p_y = tf.nn.log_softmax(-dists, axis=-1)\n",
        "        log_p_y = tf.reshape(log_p_y, [n_class, n_query, -1])\n",
        "        \n",
        "        loss = -tf.reduce_mean(tf.reshape(tf.reduce_sum(tf.multiply(y_onehot, log_p_y), axis=-1), [-1]))\n",
        "        eq = tf.cast(tf.equal(\n",
        "            tf.cast(tf.argmax(log_p_y, axis=-1), tf.int32), \n",
        "            tf.cast(y, tf.int32)), tf.float32)\n",
        "        acc = tf.reduce_mean(eq)\n",
        "        return loss, acc\n",
        "\n",
        "    def save(self, model_path):\n",
        "        \n",
        "        self.encoder.save(model_path)\n",
        "\n",
        "    def load(self, model_path):\n",
        "        \n",
        "        self.encoder(tf.zeros([1, self.w, self.h, self.c]))\n",
        "        self.encoder.load_weights(model_path)"
      ]
    },
    {
      "cell_type": "code",
      "source": [
        "# Lists to hold values for N-way k-shots experiments\n",
        "train_num_ways = [60, 60, 40, 40]\n",
        "test_num_ways = [5, 5, 20, 20]\n",
        "num_shots = [5, 1, 5, 1]\n",
        "learning_rate = 0.001"
      ],
      "metadata": {
        "id": "2r5D2zBeOo69"
      },
      "execution_count": 12,
      "outputs": []
    },
    {
      "cell_type": "code",
      "source": [
        "#Run prototypical model with only training set\n",
        "# This will be using the first values from the lists for the experiment\n",
        "num_epochs = 80\n",
        "num_episodes = 100\n",
        "save_path = \"./results/models/omniglot_train0.h5\"\n",
        "\n",
        "train_loss = tf.metrics.Mean(name='train_loss')\n",
        "train_acc = tf.metrics.Mean(name='train_accuracy')\n",
        "\n",
        "\n",
        "#number of classes\n",
        "num_way = train_num_ways[0] \n",
        "\n",
        "#number of examples per class for support set\n",
        "num_shot = num_shots[0]  \n",
        "\n",
        "#number of query points\n",
        "num_query = num_shots[0] \n",
        "\n",
        "least_loss = {'least_loss': 100.00}\n",
        "\n",
        "support = np.zeros([num_way, num_shot, img_width, img_height, channels], dtype=np.float32)\n",
        "query = np.zeros([num_way, num_query, img_width, img_height, channels], dtype=np.float32)\n",
        "model = Prototypical(support, query, img_width, img_height, channels)\n",
        "optimizer = tf.keras.optimizers.Adam(learning_rate)\n",
        "\n",
        "@tf.function\n",
        "def loss(support, query):\n",
        "  loss, acc = model(support, query)\n",
        "  return loss, acc\n",
        "\n",
        "least_loss = {'least_loss': 100.00}\n",
        "\n",
        "@tf.function\n",
        "def train_step(support, query):\n",
        "  with tf.GradientTape() as tape:\n",
        "    loss, acc = model(support, query)\n",
        "  gradients = tape.gradient(loss, model.trainable_variables)\n",
        "  optimizer.apply_gradients(\n",
        "        zip(gradients, model.trainable_variables))\n",
        "  train_loss(loss)\n",
        "  train_acc(acc)\n",
        "\n",
        "for epoch in range(num_epochs):\n",
        "  train_loss.reset_states()\n",
        "  train_acc.reset_states()\n",
        "\n",
        "  for episode in range(num_episodes):\n",
        "    train_support, train_query = get_next_episode(train_dataset, num_way, num_shot, num_query, no_train_classes)\n",
        "    train_step(train_support, train_query)\n",
        "\n",
        "  cur_loss = train_loss.result().numpy()\n",
        "  if cur_loss < least_loss['least_loss']:\n",
        "      print(\"Saving new best model with loss: \", cur_loss)\n",
        "      least_loss['least_loss'] = cur_loss\n",
        "      model.save(save_path)\n",
        "  \n",
        "  template = 'Epoch {}, Loss: {}, Accuracy: {}'\n",
        "  print(template.format(epoch + 1, train_loss.result(), train_acc.result() * 100))"
      ],
      "metadata": {
        "colab": {
          "base_uri": "https://localhost:8080/"
        },
        "id": "q6IIezLGt-iF",
        "outputId": "f9bb0ab9-f3b1-406c-9cbc-dc74f8c9e70c"
      },
      "execution_count": 13,
      "outputs": [
        {
          "output_type": "stream",
          "name": "stderr",
          "text": [
            "WARNING:tensorflow:Compiled the loaded model, but the compiled metrics have yet to be built. `model.compile_metrics` will be empty until you train or evaluate the model.\n"
          ]
        },
        {
          "output_type": "stream",
          "name": "stdout",
          "text": [
            "Saving new best model with loss:  1.8223703\n",
            "Epoch 1, Loss: 1.8223702907562256, Accuracy: 59.45664596557617\n"
          ]
        },
        {
          "output_type": "stream",
          "name": "stderr",
          "text": [
            "WARNING:tensorflow:Compiled the loaded model, but the compiled metrics have yet to be built. `model.compile_metrics` will be empty until you train or evaluate the model.\n"
          ]
        },
        {
          "output_type": "stream",
          "name": "stdout",
          "text": [
            "Saving new best model with loss:  0.6934691\n",
            "Epoch 2, Loss: 0.6934691071510315, Accuracy: 80.90666198730469\n"
          ]
        },
        {
          "output_type": "stream",
          "name": "stderr",
          "text": [
            "WARNING:tensorflow:Compiled the loaded model, but the compiled metrics have yet to be built. `model.compile_metrics` will be empty until you train or evaluate the model.\n"
          ]
        },
        {
          "output_type": "stream",
          "name": "stdout",
          "text": [
            "Saving new best model with loss:  0.39470193\n",
            "Epoch 3, Loss: 0.39470192790031433, Accuracy: 88.8933334350586\n"
          ]
        },
        {
          "output_type": "stream",
          "name": "stderr",
          "text": [
            "WARNING:tensorflow:Compiled the loaded model, but the compiled metrics have yet to be built. `model.compile_metrics` will be empty until you train or evaluate the model.\n"
          ]
        },
        {
          "output_type": "stream",
          "name": "stdout",
          "text": [
            "Saving new best model with loss:  0.26275072\n",
            "Epoch 4, Loss: 0.2627507150173187, Accuracy: 92.49332427978516\n"
          ]
        },
        {
          "output_type": "stream",
          "name": "stderr",
          "text": [
            "WARNING:tensorflow:Compiled the loaded model, but the compiled metrics have yet to be built. `model.compile_metrics` will be empty until you train or evaluate the model.\n"
          ]
        },
        {
          "output_type": "stream",
          "name": "stdout",
          "text": [
            "Saving new best model with loss:  0.21018419\n",
            "Epoch 5, Loss: 0.21018418669700623, Accuracy: 93.8800048828125\n"
          ]
        },
        {
          "output_type": "stream",
          "name": "stderr",
          "text": [
            "WARNING:tensorflow:Compiled the loaded model, but the compiled metrics have yet to be built. `model.compile_metrics` will be empty until you train or evaluate the model.\n"
          ]
        },
        {
          "output_type": "stream",
          "name": "stdout",
          "text": [
            "Saving new best model with loss:  0.19405496\n",
            "Epoch 6, Loss: 0.1940549612045288, Accuracy: 94.44332885742188\n"
          ]
        },
        {
          "output_type": "stream",
          "name": "stderr",
          "text": [
            "WARNING:tensorflow:Compiled the loaded model, but the compiled metrics have yet to be built. `model.compile_metrics` will be empty until you train or evaluate the model.\n"
          ]
        },
        {
          "output_type": "stream",
          "name": "stdout",
          "text": [
            "Saving new best model with loss:  0.1841898\n",
            "Epoch 7, Loss: 0.1841897964477539, Accuracy: 95.08998107910156\n"
          ]
        },
        {
          "output_type": "stream",
          "name": "stderr",
          "text": [
            "WARNING:tensorflow:Compiled the loaded model, but the compiled metrics have yet to be built. `model.compile_metrics` will be empty until you train or evaluate the model.\n"
          ]
        },
        {
          "output_type": "stream",
          "name": "stdout",
          "text": [
            "Saving new best model with loss:  0.16692977\n",
            "Epoch 8, Loss: 0.16692976653575897, Accuracy: 95.0433120727539\n"
          ]
        },
        {
          "output_type": "stream",
          "name": "stderr",
          "text": [
            "WARNING:tensorflow:Compiled the loaded model, but the compiled metrics have yet to be built. `model.compile_metrics` will be empty until you train or evaluate the model.\n"
          ]
        },
        {
          "output_type": "stream",
          "name": "stdout",
          "text": [
            "Saving new best model with loss:  0.14996357\n",
            "Epoch 9, Loss: 0.14996357262134552, Accuracy: 95.72666931152344\n",
            "Epoch 10, Loss: 0.1519554853439331, Accuracy: 95.62998962402344\n"
          ]
        },
        {
          "output_type": "stream",
          "name": "stderr",
          "text": [
            "WARNING:tensorflow:Compiled the loaded model, but the compiled metrics have yet to be built. `model.compile_metrics` will be empty until you train or evaluate the model.\n"
          ]
        },
        {
          "output_type": "stream",
          "name": "stdout",
          "text": [
            "Saving new best model with loss:  0.13310142\n",
            "Epoch 11, Loss: 0.1331014186143875, Accuracy: 96.25334930419922\n",
            "Epoch 12, Loss: 0.13790582120418549, Accuracy: 95.98333740234375\n"
          ]
        },
        {
          "output_type": "stream",
          "name": "stderr",
          "text": [
            "WARNING:tensorflow:Compiled the loaded model, but the compiled metrics have yet to be built. `model.compile_metrics` will be empty until you train or evaluate the model.\n"
          ]
        },
        {
          "output_type": "stream",
          "name": "stdout",
          "text": [
            "Saving new best model with loss:  0.12336545\n",
            "Epoch 13, Loss: 0.12336544692516327, Accuracy: 96.4699935913086\n",
            "Epoch 14, Loss: 0.12367140501737595, Accuracy: 96.43665313720703\n"
          ]
        },
        {
          "output_type": "stream",
          "name": "stderr",
          "text": [
            "WARNING:tensorflow:Compiled the loaded model, but the compiled metrics have yet to be built. `model.compile_metrics` will be empty until you train or evaluate the model.\n"
          ]
        },
        {
          "output_type": "stream",
          "name": "stdout",
          "text": [
            "Saving new best model with loss:  0.11403987\n",
            "Epoch 15, Loss: 0.11403986811637878, Accuracy: 96.75335693359375\n"
          ]
        },
        {
          "output_type": "stream",
          "name": "stderr",
          "text": [
            "WARNING:tensorflow:Compiled the loaded model, but the compiled metrics have yet to be built. `model.compile_metrics` will be empty until you train or evaluate the model.\n"
          ]
        },
        {
          "output_type": "stream",
          "name": "stdout",
          "text": [
            "Saving new best model with loss:  0.11082628\n",
            "Epoch 16, Loss: 0.1108262836933136, Accuracy: 96.60667419433594\n"
          ]
        },
        {
          "output_type": "stream",
          "name": "stderr",
          "text": [
            "WARNING:tensorflow:Compiled the loaded model, but the compiled metrics have yet to be built. `model.compile_metrics` will be empty until you train or evaluate the model.\n"
          ]
        },
        {
          "output_type": "stream",
          "name": "stdout",
          "text": [
            "Saving new best model with loss:  0.10802282\n",
            "Epoch 17, Loss: 0.10802281647920609, Accuracy: 96.9800033569336\n",
            "Epoch 18, Loss: 0.10821503400802612, Accuracy: 96.89334869384766\n"
          ]
        },
        {
          "output_type": "stream",
          "name": "stderr",
          "text": [
            "WARNING:tensorflow:Compiled the loaded model, but the compiled metrics have yet to be built. `model.compile_metrics` will be empty until you train or evaluate the model.\n"
          ]
        },
        {
          "output_type": "stream",
          "name": "stdout",
          "text": [
            "Saving new best model with loss:  0.09590104\n",
            "Epoch 19, Loss: 0.09590104222297668, Accuracy: 97.11670684814453\n"
          ]
        },
        {
          "output_type": "stream",
          "name": "stderr",
          "text": [
            "WARNING:tensorflow:Compiled the loaded model, but the compiled metrics have yet to be built. `model.compile_metrics` will be empty until you train or evaluate the model.\n"
          ]
        },
        {
          "output_type": "stream",
          "name": "stdout",
          "text": [
            "Saving new best model with loss:  0.089777514\n",
            "Epoch 20, Loss: 0.08977751433849335, Accuracy: 97.18999481201172\n",
            "Epoch 21, Loss: 0.0924503356218338, Accuracy: 97.23333740234375\n"
          ]
        },
        {
          "output_type": "stream",
          "name": "stderr",
          "text": [
            "WARNING:tensorflow:Compiled the loaded model, but the compiled metrics have yet to be built. `model.compile_metrics` will be empty until you train or evaluate the model.\n"
          ]
        },
        {
          "output_type": "stream",
          "name": "stdout",
          "text": [
            "Saving new best model with loss:  0.08829202\n",
            "Epoch 22, Loss: 0.08829201757907867, Accuracy: 97.33670043945312\n"
          ]
        },
        {
          "output_type": "stream",
          "name": "stderr",
          "text": [
            "WARNING:tensorflow:Compiled the loaded model, but the compiled metrics have yet to be built. `model.compile_metrics` will be empty until you train or evaluate the model.\n"
          ]
        },
        {
          "output_type": "stream",
          "name": "stdout",
          "text": [
            "Saving new best model with loss:  0.08785015\n",
            "Epoch 23, Loss: 0.08785015344619751, Accuracy: 97.46332550048828\n"
          ]
        },
        {
          "output_type": "stream",
          "name": "stderr",
          "text": [
            "WARNING:tensorflow:Compiled the loaded model, but the compiled metrics have yet to be built. `model.compile_metrics` will be empty until you train or evaluate the model.\n"
          ]
        },
        {
          "output_type": "stream",
          "name": "stdout",
          "text": [
            "Saving new best model with loss:  0.08562172\n",
            "Epoch 24, Loss: 0.08562172204256058, Accuracy: 97.46669006347656\n"
          ]
        },
        {
          "output_type": "stream",
          "name": "stderr",
          "text": [
            "WARNING:tensorflow:Compiled the loaded model, but the compiled metrics have yet to be built. `model.compile_metrics` will be empty until you train or evaluate the model.\n"
          ]
        },
        {
          "output_type": "stream",
          "name": "stdout",
          "text": [
            "Saving new best model with loss:  0.081191294\n",
            "Epoch 25, Loss: 0.0811912938952446, Accuracy: 97.52999114990234\n"
          ]
        },
        {
          "output_type": "stream",
          "name": "stderr",
          "text": [
            "WARNING:tensorflow:Compiled the loaded model, but the compiled metrics have yet to be built. `model.compile_metrics` will be empty until you train or evaluate the model.\n"
          ]
        },
        {
          "output_type": "stream",
          "name": "stdout",
          "text": [
            "Saving new best model with loss:  0.07741179\n",
            "Epoch 26, Loss: 0.07741179317235947, Accuracy: 97.72000885009766\n",
            "Epoch 27, Loss: 0.0844140350818634, Accuracy: 97.3466796875\n",
            "Epoch 28, Loss: 0.08009614795446396, Accuracy: 97.60002136230469\n"
          ]
        },
        {
          "output_type": "stream",
          "name": "stderr",
          "text": [
            "WARNING:tensorflow:Compiled the loaded model, but the compiled metrics have yet to be built. `model.compile_metrics` will be empty until you train or evaluate the model.\n"
          ]
        },
        {
          "output_type": "stream",
          "name": "stdout",
          "text": [
            "Saving new best model with loss:  0.0759286\n",
            "Epoch 29, Loss: 0.07592859864234924, Accuracy: 97.77333068847656\n",
            "Epoch 30, Loss: 0.07720301300287247, Accuracy: 97.61665344238281\n"
          ]
        },
        {
          "output_type": "stream",
          "name": "stderr",
          "text": [
            "WARNING:tensorflow:Compiled the loaded model, but the compiled metrics have yet to be built. `model.compile_metrics` will be empty until you train or evaluate the model.\n"
          ]
        },
        {
          "output_type": "stream",
          "name": "stdout",
          "text": [
            "Saving new best model with loss:  0.07560368\n",
            "Epoch 31, Loss: 0.0756036788225174, Accuracy: 97.68999481201172\n"
          ]
        },
        {
          "output_type": "stream",
          "name": "stderr",
          "text": [
            "WARNING:tensorflow:Compiled the loaded model, but the compiled metrics have yet to be built. `model.compile_metrics` will be empty until you train or evaluate the model.\n"
          ]
        },
        {
          "output_type": "stream",
          "name": "stdout",
          "text": [
            "Saving new best model with loss:  0.07480076\n",
            "Epoch 32, Loss: 0.0748007595539093, Accuracy: 97.78331756591797\n"
          ]
        },
        {
          "output_type": "stream",
          "name": "stderr",
          "text": [
            "WARNING:tensorflow:Compiled the loaded model, but the compiled metrics have yet to be built. `model.compile_metrics` will be empty until you train or evaluate the model.\n"
          ]
        },
        {
          "output_type": "stream",
          "name": "stdout",
          "text": [
            "Saving new best model with loss:  0.07120441\n",
            "Epoch 33, Loss: 0.07120440900325775, Accuracy: 97.84333801269531\n"
          ]
        },
        {
          "output_type": "stream",
          "name": "stderr",
          "text": [
            "WARNING:tensorflow:Compiled the loaded model, but the compiled metrics have yet to be built. `model.compile_metrics` will be empty until you train or evaluate the model.\n"
          ]
        },
        {
          "output_type": "stream",
          "name": "stdout",
          "text": [
            "Saving new best model with loss:  0.066211425\n",
            "Epoch 34, Loss: 0.06621142476797104, Accuracy: 97.87662506103516\n",
            "Epoch 35, Loss: 0.07591696083545685, Accuracy: 97.79329681396484\n",
            "Epoch 36, Loss: 0.06903688609600067, Accuracy: 97.90000915527344\n",
            "Epoch 37, Loss: 0.06786845624446869, Accuracy: 97.89999389648438\n"
          ]
        },
        {
          "output_type": "stream",
          "name": "stderr",
          "text": [
            "WARNING:tensorflow:Compiled the loaded model, but the compiled metrics have yet to be built. `model.compile_metrics` will be empty until you train or evaluate the model.\n"
          ]
        },
        {
          "output_type": "stream",
          "name": "stdout",
          "text": [
            "Saving new best model with loss:  0.06406434\n",
            "Epoch 38, Loss: 0.06406433880329132, Accuracy: 98.00334167480469\n",
            "Epoch 39, Loss: 0.06704043596982956, Accuracy: 97.95332336425781\n"
          ]
        },
        {
          "output_type": "stream",
          "name": "stderr",
          "text": [
            "WARNING:tensorflow:Compiled the loaded model, but the compiled metrics have yet to be built. `model.compile_metrics` will be empty until you train or evaluate the model.\n"
          ]
        },
        {
          "output_type": "stream",
          "name": "stdout",
          "text": [
            "Saving new best model with loss:  0.06285743\n",
            "Epoch 40, Loss: 0.06285742670297623, Accuracy: 97.95331573486328\n"
          ]
        },
        {
          "output_type": "stream",
          "name": "stderr",
          "text": [
            "WARNING:tensorflow:Compiled the loaded model, but the compiled metrics have yet to be built. `model.compile_metrics` will be empty until you train or evaluate the model.\n"
          ]
        },
        {
          "output_type": "stream",
          "name": "stdout",
          "text": [
            "Saving new best model with loss:  0.06086492\n",
            "Epoch 41, Loss: 0.060864921659231186, Accuracy: 98.11331939697266\n",
            "Epoch 42, Loss: 0.0624455064535141, Accuracy: 98.11997985839844\n",
            "Epoch 43, Loss: 0.06483400613069534, Accuracy: 97.99998474121094\n"
          ]
        },
        {
          "output_type": "stream",
          "name": "stderr",
          "text": [
            "WARNING:tensorflow:Compiled the loaded model, but the compiled metrics have yet to be built. `model.compile_metrics` will be empty until you train or evaluate the model.\n"
          ]
        },
        {
          "output_type": "stream",
          "name": "stdout",
          "text": [
            "Saving new best model with loss:  0.057385873\n",
            "Epoch 44, Loss: 0.057385873049497604, Accuracy: 98.22663879394531\n"
          ]
        },
        {
          "output_type": "stream",
          "name": "stderr",
          "text": [
            "WARNING:tensorflow:Compiled the loaded model, but the compiled metrics have yet to be built. `model.compile_metrics` will be empty until you train or evaluate the model.\n"
          ]
        },
        {
          "output_type": "stream",
          "name": "stdout",
          "text": [
            "Saving new best model with loss:  0.055491377\n",
            "Epoch 45, Loss: 0.0554913766682148, Accuracy: 98.17667388916016\n",
            "Epoch 46, Loss: 0.055811136960983276, Accuracy: 98.25665283203125\n",
            "Epoch 47, Loss: 0.05992266535758972, Accuracy: 98.09332275390625\n",
            "Epoch 48, Loss: 0.05678478255867958, Accuracy: 98.26664733886719\n"
          ]
        },
        {
          "output_type": "stream",
          "name": "stderr",
          "text": [
            "WARNING:tensorflow:Compiled the loaded model, but the compiled metrics have yet to be built. `model.compile_metrics` will be empty until you train or evaluate the model.\n"
          ]
        },
        {
          "output_type": "stream",
          "name": "stdout",
          "text": [
            "Saving new best model with loss:  0.05422054\n",
            "Epoch 49, Loss: 0.0542205385863781, Accuracy: 98.28331756591797\n"
          ]
        },
        {
          "output_type": "stream",
          "name": "stderr",
          "text": [
            "WARNING:tensorflow:Compiled the loaded model, but the compiled metrics have yet to be built. `model.compile_metrics` will be empty until you train or evaluate the model.\n"
          ]
        },
        {
          "output_type": "stream",
          "name": "stdout",
          "text": [
            "Saving new best model with loss:  0.04798604\n",
            "Epoch 50, Loss: 0.04798604175448418, Accuracy: 98.41331481933594\n",
            "Epoch 51, Loss: 0.05636012554168701, Accuracy: 98.16332244873047\n",
            "Epoch 52, Loss: 0.05462675914168358, Accuracy: 98.22999572753906\n",
            "Epoch 53, Loss: 0.050800736993551254, Accuracy: 98.38664245605469\n",
            "Epoch 54, Loss: 0.04990335926413536, Accuracy: 98.38997650146484\n",
            "Epoch 55, Loss: 0.05164864659309387, Accuracy: 98.29330444335938\n",
            "Epoch 56, Loss: 0.04850419983267784, Accuracy: 98.4066390991211\n",
            "Epoch 57, Loss: 0.05317254364490509, Accuracy: 98.17333221435547\n",
            "Epoch 58, Loss: 0.0535234659910202, Accuracy: 98.19329071044922\n"
          ]
        },
        {
          "output_type": "stream",
          "name": "stderr",
          "text": [
            "WARNING:tensorflow:Compiled the loaded model, but the compiled metrics have yet to be built. `model.compile_metrics` will be empty until you train or evaluate the model.\n"
          ]
        },
        {
          "output_type": "stream",
          "name": "stdout",
          "text": [
            "Saving new best model with loss:  0.04409799\n",
            "Epoch 59, Loss: 0.04409798979759216, Accuracy: 98.56663513183594\n",
            "Epoch 60, Loss: 0.050138920545578, Accuracy: 98.37664031982422\n"
          ]
        },
        {
          "output_type": "stream",
          "name": "stderr",
          "text": [
            "WARNING:tensorflow:Compiled the loaded model, but the compiled metrics have yet to be built. `model.compile_metrics` will be empty until you train or evaluate the model.\n"
          ]
        },
        {
          "output_type": "stream",
          "name": "stdout",
          "text": [
            "Saving new best model with loss:  0.043723036\n",
            "Epoch 61, Loss: 0.04372303560376167, Accuracy: 98.51663208007812\n",
            "Epoch 62, Loss: 0.046944886445999146, Accuracy: 98.50330352783203\n",
            "Epoch 63, Loss: 0.04587273672223091, Accuracy: 98.4832992553711\n",
            "Epoch 64, Loss: 0.049494363367557526, Accuracy: 98.31330871582031\n"
          ]
        },
        {
          "output_type": "stream",
          "name": "stderr",
          "text": [
            "WARNING:tensorflow:Compiled the loaded model, but the compiled metrics have yet to be built. `model.compile_metrics` will be empty until you train or evaluate the model.\n"
          ]
        },
        {
          "output_type": "stream",
          "name": "stdout",
          "text": [
            "Saving new best model with loss:  0.04034471\n",
            "Epoch 65, Loss: 0.040344711393117905, Accuracy: 98.6032943725586\n",
            "Epoch 66, Loss: 0.041141342371702194, Accuracy: 98.5533218383789\n",
            "Epoch 67, Loss: 0.04525251314043999, Accuracy: 98.47332000732422\n",
            "Epoch 68, Loss: 0.04823112487792969, Accuracy: 98.35997009277344\n"
          ]
        },
        {
          "output_type": "stream",
          "name": "stderr",
          "text": [
            "WARNING:tensorflow:Compiled the loaded model, but the compiled metrics have yet to be built. `model.compile_metrics` will be empty until you train or evaluate the model.\n"
          ]
        },
        {
          "output_type": "stream",
          "name": "stdout",
          "text": [
            "Saving new best model with loss:  0.038025767\n",
            "Epoch 69, Loss: 0.03802576661109924, Accuracy: 98.75662994384766\n",
            "Epoch 70, Loss: 0.04090440645813942, Accuracy: 98.61662292480469\n",
            "Epoch 71, Loss: 0.04670336842536926, Accuracy: 98.43667602539062\n",
            "Epoch 72, Loss: 0.0420367605984211, Accuracy: 98.60327911376953\n",
            "Epoch 73, Loss: 0.04615261033177376, Accuracy: 98.45331573486328\n",
            "Epoch 74, Loss: 0.04139649495482445, Accuracy: 98.61663818359375\n",
            "Epoch 75, Loss: 0.04341845586895943, Accuracy: 98.6133041381836\n",
            "Epoch 76, Loss: 0.0422544851899147, Accuracy: 98.52996063232422\n"
          ]
        },
        {
          "output_type": "stream",
          "name": "stderr",
          "text": [
            "WARNING:tensorflow:Compiled the loaded model, but the compiled metrics have yet to be built. `model.compile_metrics` will be empty until you train or evaluate the model.\n"
          ]
        },
        {
          "output_type": "stream",
          "name": "stdout",
          "text": [
            "Saving new best model with loss:  0.03801883\n",
            "Epoch 77, Loss: 0.03801883012056351, Accuracy: 98.65997314453125\n"
          ]
        },
        {
          "output_type": "stream",
          "name": "stderr",
          "text": [
            "WARNING:tensorflow:Compiled the loaded model, but the compiled metrics have yet to be built. `model.compile_metrics` will be empty until you train or evaluate the model.\n"
          ]
        },
        {
          "output_type": "stream",
          "name": "stdout",
          "text": [
            "Saving new best model with loss:  0.036466975\n",
            "Epoch 78, Loss: 0.03646697476506233, Accuracy: 98.76663208007812\n",
            "Epoch 79, Loss: 0.03946603462100029, Accuracy: 98.6099624633789\n",
            "Epoch 80, Loss: 0.04077218100428581, Accuracy: 98.5699691772461\n"
          ]
        }
      ]
    },
    {
      "cell_type": "code",
      "source": [
        "#Run prototypical model with only training set\n",
        "# This will be using the second values from the lists for the experiment\n",
        "num_epochs = 80\n",
        "num_episodes = 100\n",
        "save_path = \"./results/models/omniglot_train1.h5\"\n",
        "\n",
        "train_loss = tf.metrics.Mean(name='train_loss')\n",
        "train_acc = tf.metrics.Mean(name='train_accuracy')\n",
        "\n",
        "\n",
        "#number of classes\n",
        "num_way = train_num_ways[1] \n",
        "\n",
        "#number of examples per class for support set\n",
        "num_shot = num_shots[1]  \n",
        "\n",
        "#number of query points\n",
        "num_query = num_shots[1] \n",
        "\n",
        "least_loss = {'least_loss': 100.00}\n",
        "\n",
        "support = np.zeros([num_way, num_shot, img_width, img_height, channels], dtype=np.float32)\n",
        "query = np.zeros([num_way, num_query, img_width, img_height, channels], dtype=np.float32)\n",
        "model = Prototypical(support, query, img_width, img_height, channels)\n",
        "optimizer = tf.keras.optimizers.Adam(learning_rate)\n",
        "\n",
        "@tf.function\n",
        "def loss(support, query):\n",
        "  loss, acc = model(support, query)\n",
        "  return loss, acc\n",
        "\n",
        "least_loss = {'least_loss': 100.00}\n",
        "\n",
        "@tf.function\n",
        "def train_step(support, query):\n",
        "  with tf.GradientTape() as tape:\n",
        "    loss, acc = model(support, query)\n",
        "  gradients = tape.gradient(loss, model.trainable_variables)\n",
        "  optimizer.apply_gradients(\n",
        "        zip(gradients, model.trainable_variables))\n",
        "  train_loss(loss)\n",
        "  train_acc(acc)\n",
        "\n",
        "for epoch in range(num_epochs):\n",
        "  train_loss.reset_states()\n",
        "  train_acc.reset_states()\n",
        "\n",
        "  for episode in range(num_episodes):\n",
        "    train_support, train_query = get_next_episode(train_dataset, num_way, num_shot, num_query, no_train_classes)\n",
        "    train_step(train_support, train_query)\n",
        "\n",
        "  cur_loss = train_loss.result().numpy()\n",
        "  if cur_loss < least_loss['least_loss']:\n",
        "      print(\"Saving new best model with loss: \", cur_loss)\n",
        "      least_loss['least_loss'] = cur_loss\n",
        "      model.save(save_path)\n",
        "  \n",
        "  template = 'Epoch {}, Loss: {}, Accuracy: {}'\n",
        "  print(template.format(epoch + 1, train_loss.result(), train_acc.result() * 100))"
      ],
      "metadata": {
        "colab": {
          "base_uri": "https://localhost:8080/"
        },
        "id": "aAxDnUMnEeWl",
        "outputId": "ddd02755-fcc7-46a9-e399-71022582332d"
      },
      "execution_count": 14,
      "outputs": [
        {
          "output_type": "stream",
          "name": "stderr",
          "text": [
            "WARNING:tensorflow:Compiled the loaded model, but the compiled metrics have yet to be built. `model.compile_metrics` will be empty until you train or evaluate the model.\n"
          ]
        },
        {
          "output_type": "stream",
          "name": "stdout",
          "text": [
            "Saving new best model with loss:  2.725025\n",
            "Epoch 1, Loss: 2.725024938583374, Accuracy: 38.58333206176758\n"
          ]
        },
        {
          "output_type": "stream",
          "name": "stderr",
          "text": [
            "WARNING:tensorflow:Compiled the loaded model, but the compiled metrics have yet to be built. `model.compile_metrics` will be empty until you train or evaluate the model.\n"
          ]
        },
        {
          "output_type": "stream",
          "name": "stdout",
          "text": [
            "Saving new best model with loss:  1.6814504\n",
            "Epoch 2, Loss: 1.681450366973877, Accuracy: 56.53331756591797\n"
          ]
        },
        {
          "output_type": "stream",
          "name": "stderr",
          "text": [
            "WARNING:tensorflow:Compiled the loaded model, but the compiled metrics have yet to be built. `model.compile_metrics` will be empty until you train or evaluate the model.\n"
          ]
        },
        {
          "output_type": "stream",
          "name": "stdout",
          "text": [
            "Saving new best model with loss:  1.2530684\n",
            "Epoch 3, Loss: 1.253068447113037, Accuracy: 67.20002746582031\n"
          ]
        },
        {
          "output_type": "stream",
          "name": "stderr",
          "text": [
            "WARNING:tensorflow:Compiled the loaded model, but the compiled metrics have yet to be built. `model.compile_metrics` will be empty until you train or evaluate the model.\n"
          ]
        },
        {
          "output_type": "stream",
          "name": "stdout",
          "text": [
            "Saving new best model with loss:  0.897805\n",
            "Epoch 4, Loss: 0.8978049755096436, Accuracy: 74.76666259765625\n"
          ]
        },
        {
          "output_type": "stream",
          "name": "stderr",
          "text": [
            "WARNING:tensorflow:Compiled the loaded model, but the compiled metrics have yet to be built. `model.compile_metrics` will be empty until you train or evaluate the model.\n"
          ]
        },
        {
          "output_type": "stream",
          "name": "stdout",
          "text": [
            "Saving new best model with loss:  0.75266457\n",
            "Epoch 5, Loss: 0.7526645660400391, Accuracy: 79.08333587646484\n"
          ]
        },
        {
          "output_type": "stream",
          "name": "stderr",
          "text": [
            "WARNING:tensorflow:Compiled the loaded model, but the compiled metrics have yet to be built. `model.compile_metrics` will be empty until you train or evaluate the model.\n"
          ]
        },
        {
          "output_type": "stream",
          "name": "stdout",
          "text": [
            "Saving new best model with loss:  0.6636819\n",
            "Epoch 6, Loss: 0.6636819243431091, Accuracy: 81.61664581298828\n"
          ]
        },
        {
          "output_type": "stream",
          "name": "stderr",
          "text": [
            "WARNING:tensorflow:Compiled the loaded model, but the compiled metrics have yet to be built. `model.compile_metrics` will be empty until you train or evaluate the model.\n"
          ]
        },
        {
          "output_type": "stream",
          "name": "stdout",
          "text": [
            "Saving new best model with loss:  0.6004457\n",
            "Epoch 7, Loss: 0.6004456877708435, Accuracy: 83.08332061767578\n"
          ]
        },
        {
          "output_type": "stream",
          "name": "stderr",
          "text": [
            "WARNING:tensorflow:Compiled the loaded model, but the compiled metrics have yet to be built. `model.compile_metrics` will be empty until you train or evaluate the model.\n"
          ]
        },
        {
          "output_type": "stream",
          "name": "stdout",
          "text": [
            "Saving new best model with loss:  0.5677421\n",
            "Epoch 8, Loss: 0.567742109298706, Accuracy: 83.59999084472656\n"
          ]
        },
        {
          "output_type": "stream",
          "name": "stderr",
          "text": [
            "WARNING:tensorflow:Compiled the loaded model, but the compiled metrics have yet to be built. `model.compile_metrics` will be empty until you train or evaluate the model.\n"
          ]
        },
        {
          "output_type": "stream",
          "name": "stdout",
          "text": [
            "Saving new best model with loss:  0.5464982\n",
            "Epoch 9, Loss: 0.54649817943573, Accuracy: 84.76666259765625\n"
          ]
        },
        {
          "output_type": "stream",
          "name": "stderr",
          "text": [
            "WARNING:tensorflow:Compiled the loaded model, but the compiled metrics have yet to be built. `model.compile_metrics` will be empty until you train or evaluate the model.\n"
          ]
        },
        {
          "output_type": "stream",
          "name": "stdout",
          "text": [
            "Saving new best model with loss:  0.51183605\n",
            "Epoch 10, Loss: 0.511836051940918, Accuracy: 85.39997863769531\n"
          ]
        },
        {
          "output_type": "stream",
          "name": "stderr",
          "text": [
            "WARNING:tensorflow:Compiled the loaded model, but the compiled metrics have yet to be built. `model.compile_metrics` will be empty until you train or evaluate the model.\n"
          ]
        },
        {
          "output_type": "stream",
          "name": "stdout",
          "text": [
            "Saving new best model with loss:  0.49727196\n",
            "Epoch 11, Loss: 0.49727195501327515, Accuracy: 86.09999084472656\n"
          ]
        },
        {
          "output_type": "stream",
          "name": "stderr",
          "text": [
            "WARNING:tensorflow:Compiled the loaded model, but the compiled metrics have yet to be built. `model.compile_metrics` will be empty until you train or evaluate the model.\n"
          ]
        },
        {
          "output_type": "stream",
          "name": "stdout",
          "text": [
            "Saving new best model with loss:  0.4672421\n",
            "Epoch 12, Loss: 0.4672420918941498, Accuracy: 86.15000915527344\n"
          ]
        },
        {
          "output_type": "stream",
          "name": "stderr",
          "text": [
            "WARNING:tensorflow:Compiled the loaded model, but the compiled metrics have yet to be built. `model.compile_metrics` will be empty until you train or evaluate the model.\n"
          ]
        },
        {
          "output_type": "stream",
          "name": "stdout",
          "text": [
            "Saving new best model with loss:  0.4445419\n",
            "Epoch 13, Loss: 0.44454190135002136, Accuracy: 86.433349609375\n"
          ]
        },
        {
          "output_type": "stream",
          "name": "stderr",
          "text": [
            "WARNING:tensorflow:Compiled the loaded model, but the compiled metrics have yet to be built. `model.compile_metrics` will be empty until you train or evaluate the model.\n"
          ]
        },
        {
          "output_type": "stream",
          "name": "stdout",
          "text": [
            "Saving new best model with loss:  0.40536222\n",
            "Epoch 14, Loss: 0.40536221861839294, Accuracy: 87.84998321533203\n",
            "Epoch 15, Loss: 0.41128113865852356, Accuracy: 88.36665344238281\n"
          ]
        },
        {
          "output_type": "stream",
          "name": "stderr",
          "text": [
            "WARNING:tensorflow:Compiled the loaded model, but the compiled metrics have yet to be built. `model.compile_metrics` will be empty until you train or evaluate the model.\n"
          ]
        },
        {
          "output_type": "stream",
          "name": "stdout",
          "text": [
            "Saving new best model with loss:  0.3874309\n",
            "Epoch 16, Loss: 0.38743090629577637, Accuracy: 89.33333587646484\n",
            "Epoch 17, Loss: 0.39466017484664917, Accuracy: 88.81664276123047\n"
          ]
        },
        {
          "output_type": "stream",
          "name": "stderr",
          "text": [
            "WARNING:tensorflow:Compiled the loaded model, but the compiled metrics have yet to be built. `model.compile_metrics` will be empty until you train or evaluate the model.\n"
          ]
        },
        {
          "output_type": "stream",
          "name": "stdout",
          "text": [
            "Saving new best model with loss:  0.3787293\n",
            "Epoch 18, Loss: 0.37872931361198425, Accuracy: 88.76667022705078\n"
          ]
        },
        {
          "output_type": "stream",
          "name": "stderr",
          "text": [
            "WARNING:tensorflow:Compiled the loaded model, but the compiled metrics have yet to be built. `model.compile_metrics` will be empty until you train or evaluate the model.\n"
          ]
        },
        {
          "output_type": "stream",
          "name": "stdout",
          "text": [
            "Saving new best model with loss:  0.37445432\n",
            "Epoch 19, Loss: 0.3744543194770813, Accuracy: 89.1166763305664\n"
          ]
        },
        {
          "output_type": "stream",
          "name": "stderr",
          "text": [
            "WARNING:tensorflow:Compiled the loaded model, but the compiled metrics have yet to be built. `model.compile_metrics` will be empty until you train or evaluate the model.\n"
          ]
        },
        {
          "output_type": "stream",
          "name": "stdout",
          "text": [
            "Saving new best model with loss:  0.33138332\n",
            "Epoch 20, Loss: 0.3313833177089691, Accuracy: 89.98334503173828\n",
            "Epoch 21, Loss: 0.33626270294189453, Accuracy: 90.30000305175781\n",
            "Epoch 22, Loss: 0.3342527747154236, Accuracy: 90.29998779296875\n"
          ]
        },
        {
          "output_type": "stream",
          "name": "stderr",
          "text": [
            "WARNING:tensorflow:Compiled the loaded model, but the compiled metrics have yet to be built. `model.compile_metrics` will be empty until you train or evaluate the model.\n"
          ]
        },
        {
          "output_type": "stream",
          "name": "stdout",
          "text": [
            "Saving new best model with loss:  0.30722943\n",
            "Epoch 23, Loss: 0.3072294294834137, Accuracy: 91.1166763305664\n",
            "Epoch 24, Loss: 0.33041003346443176, Accuracy: 90.48334503173828\n",
            "Epoch 25, Loss: 0.32819080352783203, Accuracy: 90.19999694824219\n",
            "Epoch 26, Loss: 0.31369906663894653, Accuracy: 91.21668243408203\n",
            "Epoch 27, Loss: 0.31752869486808777, Accuracy: 90.88334655761719\n",
            "Epoch 28, Loss: 0.3087031841278076, Accuracy: 91.21666717529297\n"
          ]
        },
        {
          "output_type": "stream",
          "name": "stderr",
          "text": [
            "WARNING:tensorflow:Compiled the loaded model, but the compiled metrics have yet to be built. `model.compile_metrics` will be empty until you train or evaluate the model.\n"
          ]
        },
        {
          "output_type": "stream",
          "name": "stdout",
          "text": [
            "Saving new best model with loss:  0.2926168\n",
            "Epoch 29, Loss: 0.2926168143749237, Accuracy: 91.0833511352539\n",
            "Epoch 30, Loss: 0.2935243844985962, Accuracy: 91.31668853759766\n"
          ]
        },
        {
          "output_type": "stream",
          "name": "stderr",
          "text": [
            "WARNING:tensorflow:Compiled the loaded model, but the compiled metrics have yet to be built. `model.compile_metrics` will be empty until you train or evaluate the model.\n"
          ]
        },
        {
          "output_type": "stream",
          "name": "stdout",
          "text": [
            "Saving new best model with loss:  0.27271786\n",
            "Epoch 31, Loss: 0.2727178633213043, Accuracy: 92.08333587646484\n",
            "Epoch 32, Loss: 0.27623119950294495, Accuracy: 91.71666717529297\n"
          ]
        },
        {
          "output_type": "stream",
          "name": "stderr",
          "text": [
            "WARNING:tensorflow:Compiled the loaded model, but the compiled metrics have yet to be built. `model.compile_metrics` will be empty until you train or evaluate the model.\n"
          ]
        },
        {
          "output_type": "stream",
          "name": "stdout",
          "text": [
            "Saving new best model with loss:  0.26507512\n",
            "Epoch 33, Loss: 0.26507511734962463, Accuracy: 91.9000015258789\n",
            "Epoch 34, Loss: 0.27261221408843994, Accuracy: 92.23335266113281\n"
          ]
        },
        {
          "output_type": "stream",
          "name": "stderr",
          "text": [
            "WARNING:tensorflow:Compiled the loaded model, but the compiled metrics have yet to be built. `model.compile_metrics` will be empty until you train or evaluate the model.\n"
          ]
        },
        {
          "output_type": "stream",
          "name": "stdout",
          "text": [
            "Saving new best model with loss:  0.24351121\n",
            "Epoch 35, Loss: 0.24351121485233307, Accuracy: 92.54998779296875\n",
            "Epoch 36, Loss: 0.27500736713409424, Accuracy: 92.2667007446289\n",
            "Epoch 37, Loss: 0.272095263004303, Accuracy: 91.81666564941406\n",
            "Epoch 38, Loss: 0.26221275329589844, Accuracy: 92.14999389648438\n",
            "Epoch 39, Loss: 0.24995751678943634, Accuracy: 92.86666107177734\n"
          ]
        },
        {
          "output_type": "stream",
          "name": "stderr",
          "text": [
            "WARNING:tensorflow:Compiled the loaded model, but the compiled metrics have yet to be built. `model.compile_metrics` will be empty until you train or evaluate the model.\n"
          ]
        },
        {
          "output_type": "stream",
          "name": "stdout",
          "text": [
            "Saving new best model with loss:  0.24329633\n",
            "Epoch 40, Loss: 0.2432963252067566, Accuracy: 92.5999755859375\n",
            "Epoch 41, Loss: 0.2574007213115692, Accuracy: 92.9666748046875\n",
            "Epoch 42, Loss: 0.27080008387565613, Accuracy: 92.18333435058594\n",
            "Epoch 43, Loss: 0.24451416730880737, Accuracy: 92.91665649414062\n"
          ]
        },
        {
          "output_type": "stream",
          "name": "stderr",
          "text": [
            "WARNING:tensorflow:Compiled the loaded model, but the compiled metrics have yet to be built. `model.compile_metrics` will be empty until you train or evaluate the model.\n"
          ]
        },
        {
          "output_type": "stream",
          "name": "stdout",
          "text": [
            "Saving new best model with loss:  0.2365124\n",
            "Epoch 44, Loss: 0.23651239275932312, Accuracy: 93.19998931884766\n"
          ]
        },
        {
          "output_type": "stream",
          "name": "stderr",
          "text": [
            "WARNING:tensorflow:Compiled the loaded model, but the compiled metrics have yet to be built. `model.compile_metrics` will be empty until you train or evaluate the model.\n"
          ]
        },
        {
          "output_type": "stream",
          "name": "stdout",
          "text": [
            "Saving new best model with loss:  0.22734477\n",
            "Epoch 45, Loss: 0.22734476625919342, Accuracy: 92.99999237060547\n",
            "Epoch 46, Loss: 0.23016513884067535, Accuracy: 93.48333740234375\n",
            "Epoch 47, Loss: 0.2321457713842392, Accuracy: 92.8333511352539\n"
          ]
        },
        {
          "output_type": "stream",
          "name": "stderr",
          "text": [
            "WARNING:tensorflow:Compiled the loaded model, but the compiled metrics have yet to be built. `model.compile_metrics` will be empty until you train or evaluate the model.\n"
          ]
        },
        {
          "output_type": "stream",
          "name": "stdout",
          "text": [
            "Saving new best model with loss:  0.21407971\n",
            "Epoch 48, Loss: 0.21407970786094666, Accuracy: 93.60000610351562\n",
            "Epoch 49, Loss: 0.21843059360980988, Accuracy: 93.04998779296875\n",
            "Epoch 50, Loss: 0.24128396809101105, Accuracy: 93.18333435058594\n"
          ]
        },
        {
          "output_type": "stream",
          "name": "stderr",
          "text": [
            "WARNING:tensorflow:Compiled the loaded model, but the compiled metrics have yet to be built. `model.compile_metrics` will be empty until you train or evaluate the model.\n"
          ]
        },
        {
          "output_type": "stream",
          "name": "stdout",
          "text": [
            "Saving new best model with loss:  0.20946911\n",
            "Epoch 51, Loss: 0.20946910977363586, Accuracy: 93.5833511352539\n"
          ]
        },
        {
          "output_type": "stream",
          "name": "stderr",
          "text": [
            "WARNING:tensorflow:Compiled the loaded model, but the compiled metrics have yet to be built. `model.compile_metrics` will be empty until you train or evaluate the model.\n"
          ]
        },
        {
          "output_type": "stream",
          "name": "stdout",
          "text": [
            "Saving new best model with loss:  0.20709206\n",
            "Epoch 52, Loss: 0.2070920616388321, Accuracy: 94.01666259765625\n",
            "Epoch 53, Loss: 0.22769029438495636, Accuracy: 93.38333129882812\n",
            "Epoch 54, Loss: 0.21028442680835724, Accuracy: 94.04998016357422\n",
            "Epoch 55, Loss: 0.2184450775384903, Accuracy: 93.55001068115234\n"
          ]
        },
        {
          "output_type": "stream",
          "name": "stderr",
          "text": [
            "WARNING:tensorflow:Compiled the loaded model, but the compiled metrics have yet to be built. `model.compile_metrics` will be empty until you train or evaluate the model.\n"
          ]
        },
        {
          "output_type": "stream",
          "name": "stdout",
          "text": [
            "Saving new best model with loss:  0.19155377\n",
            "Epoch 56, Loss: 0.1915537714958191, Accuracy: 94.11666107177734\n",
            "Epoch 57, Loss: 0.21993903815746307, Accuracy: 93.16667938232422\n",
            "Epoch 58, Loss: 0.1945711374282837, Accuracy: 94.3833236694336\n",
            "Epoch 59, Loss: 0.19814616441726685, Accuracy: 93.93331146240234\n",
            "Epoch 60, Loss: 0.19905954599380493, Accuracy: 93.94999694824219\n",
            "Epoch 61, Loss: 0.20597705245018005, Accuracy: 94.13331604003906\n",
            "Epoch 62, Loss: 0.21292129158973694, Accuracy: 93.96666717529297\n",
            "Epoch 63, Loss: 0.1921580731868744, Accuracy: 94.24998474121094\n"
          ]
        },
        {
          "output_type": "stream",
          "name": "stderr",
          "text": [
            "WARNING:tensorflow:Compiled the loaded model, but the compiled metrics have yet to be built. `model.compile_metrics` will be empty until you train or evaluate the model.\n"
          ]
        },
        {
          "output_type": "stream",
          "name": "stdout",
          "text": [
            "Saving new best model with loss:  0.18370558\n",
            "Epoch 64, Loss: 0.18370558321475983, Accuracy: 94.36666870117188\n",
            "Epoch 65, Loss: 0.2319098263978958, Accuracy: 93.04999542236328\n",
            "Epoch 66, Loss: 0.1956406980752945, Accuracy: 93.95001220703125\n",
            "Epoch 67, Loss: 0.19223757088184357, Accuracy: 93.94998168945312\n",
            "Epoch 68, Loss: 0.18465524911880493, Accuracy: 94.24998474121094\n",
            "Epoch 69, Loss: 0.18447345495224, Accuracy: 94.06665802001953\n"
          ]
        },
        {
          "output_type": "stream",
          "name": "stderr",
          "text": [
            "WARNING:tensorflow:Compiled the loaded model, but the compiled metrics have yet to be built. `model.compile_metrics` will be empty until you train or evaluate the model.\n"
          ]
        },
        {
          "output_type": "stream",
          "name": "stdout",
          "text": [
            "Saving new best model with loss:  0.1738064\n",
            "Epoch 70, Loss: 0.17380639910697937, Accuracy: 94.6333236694336\n",
            "Epoch 71, Loss: 0.19733457267284393, Accuracy: 94.23332977294922\n",
            "Epoch 72, Loss: 0.1998845338821411, Accuracy: 94.13331604003906\n",
            "Epoch 73, Loss: 0.180770143866539, Accuracy: 94.68331909179688\n",
            "Epoch 74, Loss: 0.1760677546262741, Accuracy: 94.43331146240234\n",
            "Epoch 75, Loss: 0.18751540780067444, Accuracy: 94.19998931884766\n",
            "Epoch 76, Loss: 0.1813250184059143, Accuracy: 94.46664428710938\n",
            "Epoch 77, Loss: 0.1927918940782547, Accuracy: 94.04999542236328\n",
            "Epoch 78, Loss: 0.18336202204227448, Accuracy: 94.38330841064453\n",
            "Epoch 79, Loss: 0.19591639935970306, Accuracy: 93.93334197998047\n"
          ]
        },
        {
          "output_type": "stream",
          "name": "stderr",
          "text": [
            "WARNING:tensorflow:Compiled the loaded model, but the compiled metrics have yet to be built. `model.compile_metrics` will be empty until you train or evaluate the model.\n"
          ]
        },
        {
          "output_type": "stream",
          "name": "stdout",
          "text": [
            "Saving new best model with loss:  0.16431047\n",
            "Epoch 80, Loss: 0.16431047022342682, Accuracy: 95.36666107177734\n"
          ]
        }
      ]
    },
    {
      "cell_type": "code",
      "source": [
        "#Run prototypical model with only training set\n",
        "# This will be using the third values from the lists for the experiment\n",
        "num_epochs = 80\n",
        "num_episodes = 100\n",
        "save_path = \"./results/models/omniglot_train2.h5\"\n",
        "\n",
        "train_loss = tf.metrics.Mean(name='train_loss')\n",
        "train_acc = tf.metrics.Mean(name='train_accuracy')\n",
        "\n",
        "\n",
        "#number of classes\n",
        "num_way = train_num_ways[2] \n",
        "\n",
        "#number of examples per class for support set\n",
        "num_shot = num_shots[2]  \n",
        "\n",
        "#number of query points\n",
        "num_query = num_shots[2] \n",
        "\n",
        "least_loss = {'least_loss': 100.00}\n",
        "\n",
        "support = np.zeros([num_way, num_shot, img_width, img_height, channels], dtype=np.float32)\n",
        "query = np.zeros([num_way, num_query, img_width, img_height, channels], dtype=np.float32)\n",
        "model = Prototypical(support, query, img_width, img_height, channels)\n",
        "optimizer = tf.keras.optimizers.Adam(learning_rate)\n",
        "\n",
        "@tf.function\n",
        "def loss(support, query):\n",
        "  loss, acc = model(support, query)\n",
        "  return loss, acc\n",
        "\n",
        "least_loss = {'least_loss': 100.00}\n",
        "\n",
        "@tf.function\n",
        "def train_step(support, query):\n",
        "  with tf.GradientTape() as tape:\n",
        "    loss, acc = model(support, query)\n",
        "  gradients = tape.gradient(loss, model.trainable_variables)\n",
        "  optimizer.apply_gradients(\n",
        "        zip(gradients, model.trainable_variables))\n",
        "  train_loss(loss)\n",
        "  train_acc(acc)\n",
        "\n",
        "for epoch in range(num_epochs):\n",
        "  train_loss.reset_states()\n",
        "  train_acc.reset_states()\n",
        "\n",
        "  for episode in range(num_episodes):\n",
        "    train_support, train_query = get_next_episode(train_dataset, num_way, num_shot, num_query, no_train_classes)\n",
        "    train_step(train_support, train_query)\n",
        "\n",
        "  cur_loss = train_loss.result().numpy()\n",
        "  if cur_loss < least_loss['least_loss']:\n",
        "      print(\"Saving new best model with loss: \", cur_loss)\n",
        "      least_loss['least_loss'] = cur_loss\n",
        "      model.save(save_path)\n",
        "  \n",
        "  template = 'Epoch {}, Loss: {}, Accuracy: {}'\n",
        "  print(template.format(epoch + 1, train_loss.result(), train_acc.result() * 100))"
      ],
      "metadata": {
        "colab": {
          "base_uri": "https://localhost:8080/"
        },
        "id": "kR3AksMIEeuR",
        "outputId": "54988981-0858-404a-8a69-79fa4f5329f7"
      },
      "execution_count": 15,
      "outputs": [
        {
          "output_type": "stream",
          "name": "stderr",
          "text": [
            "WARNING:tensorflow:Compiled the loaded model, but the compiled metrics have yet to be built. `model.compile_metrics` will be empty until you train or evaluate the model.\n"
          ]
        },
        {
          "output_type": "stream",
          "name": "stdout",
          "text": [
            "Saving new best model with loss:  1.6227574\n",
            "Epoch 1, Loss: 1.6227574348449707, Accuracy: 62.99502182006836\n"
          ]
        },
        {
          "output_type": "stream",
          "name": "stderr",
          "text": [
            "WARNING:tensorflow:Compiled the loaded model, but the compiled metrics have yet to be built. `model.compile_metrics` will be empty until you train or evaluate the model.\n"
          ]
        },
        {
          "output_type": "stream",
          "name": "stdout",
          "text": [
            "Saving new best model with loss:  0.61009717\n",
            "Epoch 2, Loss: 0.6100971698760986, Accuracy: 83.37998962402344\n"
          ]
        },
        {
          "output_type": "stream",
          "name": "stderr",
          "text": [
            "WARNING:tensorflow:Compiled the loaded model, but the compiled metrics have yet to be built. `model.compile_metrics` will be empty until you train or evaluate the model.\n"
          ]
        },
        {
          "output_type": "stream",
          "name": "stdout",
          "text": [
            "Saving new best model with loss:  0.40875885\n",
            "Epoch 3, Loss: 0.40875884890556335, Accuracy: 88.61997985839844\n"
          ]
        },
        {
          "output_type": "stream",
          "name": "stderr",
          "text": [
            "WARNING:tensorflow:Compiled the loaded model, but the compiled metrics have yet to be built. `model.compile_metrics` will be empty until you train or evaluate the model.\n"
          ]
        },
        {
          "output_type": "stream",
          "name": "stdout",
          "text": [
            "Saving new best model with loss:  0.2541982\n",
            "Epoch 4, Loss: 0.25419819355010986, Accuracy: 92.61499786376953\n"
          ]
        },
        {
          "output_type": "stream",
          "name": "stderr",
          "text": [
            "WARNING:tensorflow:Compiled the loaded model, but the compiled metrics have yet to be built. `model.compile_metrics` will be empty until you train or evaluate the model.\n"
          ]
        },
        {
          "output_type": "stream",
          "name": "stdout",
          "text": [
            "Saving new best model with loss:  0.2009862\n",
            "Epoch 5, Loss: 0.20098620653152466, Accuracy: 94.19498443603516\n"
          ]
        },
        {
          "output_type": "stream",
          "name": "stderr",
          "text": [
            "WARNING:tensorflow:Compiled the loaded model, but the compiled metrics have yet to be built. `model.compile_metrics` will be empty until you train or evaluate the model.\n"
          ]
        },
        {
          "output_type": "stream",
          "name": "stdout",
          "text": [
            "Saving new best model with loss:  0.17222165\n",
            "Epoch 6, Loss: 0.17222164571285248, Accuracy: 95.19499969482422\n"
          ]
        },
        {
          "output_type": "stream",
          "name": "stderr",
          "text": [
            "WARNING:tensorflow:Compiled the loaded model, but the compiled metrics have yet to be built. `model.compile_metrics` will be empty until you train or evaluate the model.\n"
          ]
        },
        {
          "output_type": "stream",
          "name": "stdout",
          "text": [
            "Saving new best model with loss:  0.15148762\n",
            "Epoch 7, Loss: 0.15148761868476868, Accuracy: 95.51998901367188\n"
          ]
        },
        {
          "output_type": "stream",
          "name": "stderr",
          "text": [
            "WARNING:tensorflow:Compiled the loaded model, but the compiled metrics have yet to be built. `model.compile_metrics` will be empty until you train or evaluate the model.\n"
          ]
        },
        {
          "output_type": "stream",
          "name": "stdout",
          "text": [
            "Saving new best model with loss:  0.13440822\n",
            "Epoch 8, Loss: 0.13440822064876556, Accuracy: 95.95999908447266\n"
          ]
        },
        {
          "output_type": "stream",
          "name": "stderr",
          "text": [
            "WARNING:tensorflow:Compiled the loaded model, but the compiled metrics have yet to be built. `model.compile_metrics` will be empty until you train or evaluate the model.\n"
          ]
        },
        {
          "output_type": "stream",
          "name": "stdout",
          "text": [
            "Saving new best model with loss:  0.1269744\n",
            "Epoch 9, Loss: 0.12697440385818481, Accuracy: 96.48501586914062\n",
            "Epoch 10, Loss: 0.13051262497901917, Accuracy: 96.43999481201172\n",
            "Epoch 11, Loss: 0.1296151578426361, Accuracy: 96.38500213623047\n"
          ]
        },
        {
          "output_type": "stream",
          "name": "stderr",
          "text": [
            "WARNING:tensorflow:Compiled the loaded model, but the compiled metrics have yet to be built. `model.compile_metrics` will be empty until you train or evaluate the model.\n"
          ]
        },
        {
          "output_type": "stream",
          "name": "stdout",
          "text": [
            "Saving new best model with loss:  0.110336736\n",
            "Epoch 12, Loss: 0.11033673584461212, Accuracy: 96.8399887084961\n",
            "Epoch 13, Loss: 0.1169830709695816, Accuracy: 96.63497161865234\n"
          ]
        },
        {
          "output_type": "stream",
          "name": "stderr",
          "text": [
            "WARNING:tensorflow:Compiled the loaded model, but the compiled metrics have yet to be built. `model.compile_metrics` will be empty until you train or evaluate the model.\n"
          ]
        },
        {
          "output_type": "stream",
          "name": "stdout",
          "text": [
            "Saving new best model with loss:  0.10468605\n",
            "Epoch 14, Loss: 0.10468605160713196, Accuracy: 96.9999771118164\n",
            "Epoch 15, Loss: 0.10516892373561859, Accuracy: 96.9749755859375\n"
          ]
        },
        {
          "output_type": "stream",
          "name": "stderr",
          "text": [
            "WARNING:tensorflow:Compiled the loaded model, but the compiled metrics have yet to be built. `model.compile_metrics` will be empty until you train or evaluate the model.\n"
          ]
        },
        {
          "output_type": "stream",
          "name": "stdout",
          "text": [
            "Saving new best model with loss:  0.095324956\n",
            "Epoch 16, Loss: 0.09532495588064194, Accuracy: 97.24000549316406\n"
          ]
        },
        {
          "output_type": "stream",
          "name": "stderr",
          "text": [
            "WARNING:tensorflow:Compiled the loaded model, but the compiled metrics have yet to be built. `model.compile_metrics` will be empty until you train or evaluate the model.\n"
          ]
        },
        {
          "output_type": "stream",
          "name": "stdout",
          "text": [
            "Saving new best model with loss:  0.094640724\n",
            "Epoch 17, Loss: 0.09464072436094284, Accuracy: 97.19998931884766\n"
          ]
        },
        {
          "output_type": "stream",
          "name": "stderr",
          "text": [
            "WARNING:tensorflow:Compiled the loaded model, but the compiled metrics have yet to be built. `model.compile_metrics` will be empty until you train or evaluate the model.\n"
          ]
        },
        {
          "output_type": "stream",
          "name": "stdout",
          "text": [
            "Saving new best model with loss:  0.09175509\n",
            "Epoch 18, Loss: 0.09175509214401245, Accuracy: 97.33002471923828\n",
            "Epoch 19, Loss: 0.09726627171039581, Accuracy: 97.13497161865234\n"
          ]
        },
        {
          "output_type": "stream",
          "name": "stderr",
          "text": [
            "WARNING:tensorflow:Compiled the loaded model, but the compiled metrics have yet to be built. `model.compile_metrics` will be empty until you train or evaluate the model.\n"
          ]
        },
        {
          "output_type": "stream",
          "name": "stdout",
          "text": [
            "Saving new best model with loss:  0.08630772\n",
            "Epoch 20, Loss: 0.08630771934986115, Accuracy: 97.48001861572266\n"
          ]
        },
        {
          "output_type": "stream",
          "name": "stderr",
          "text": [
            "WARNING:tensorflow:Compiled the loaded model, but the compiled metrics have yet to be built. `model.compile_metrics` will be empty until you train or evaluate the model.\n"
          ]
        },
        {
          "output_type": "stream",
          "name": "stdout",
          "text": [
            "Saving new best model with loss:  0.08023305\n",
            "Epoch 21, Loss: 0.08023305237293243, Accuracy: 97.60999298095703\n",
            "Epoch 22, Loss: 0.09092296659946442, Accuracy: 97.37499237060547\n",
            "Epoch 23, Loss: 0.08091194182634354, Accuracy: 97.6449966430664\n",
            "Epoch 24, Loss: 0.08320652693510056, Accuracy: 97.59502410888672\n"
          ]
        },
        {
          "output_type": "stream",
          "name": "stderr",
          "text": [
            "WARNING:tensorflow:Compiled the loaded model, but the compiled metrics have yet to be built. `model.compile_metrics` will be empty until you train or evaluate the model.\n"
          ]
        },
        {
          "output_type": "stream",
          "name": "stdout",
          "text": [
            "Saving new best model with loss:  0.076925345\n",
            "Epoch 25, Loss: 0.07692534476518631, Accuracy: 97.79000854492188\n"
          ]
        },
        {
          "output_type": "stream",
          "name": "stderr",
          "text": [
            "WARNING:tensorflow:Compiled the loaded model, but the compiled metrics have yet to be built. `model.compile_metrics` will be empty until you train or evaluate the model.\n"
          ]
        },
        {
          "output_type": "stream",
          "name": "stdout",
          "text": [
            "Saving new best model with loss:  0.069000535\n",
            "Epoch 26, Loss: 0.06900053471326828, Accuracy: 97.93502807617188\n"
          ]
        },
        {
          "output_type": "stream",
          "name": "stderr",
          "text": [
            "WARNING:tensorflow:Compiled the loaded model, but the compiled metrics have yet to be built. `model.compile_metrics` will be empty until you train or evaluate the model.\n"
          ]
        },
        {
          "output_type": "stream",
          "name": "stdout",
          "text": [
            "Saving new best model with loss:  0.06650753\n",
            "Epoch 27, Loss: 0.06650753319263458, Accuracy: 98.09000396728516\n",
            "Epoch 28, Loss: 0.07391633093357086, Accuracy: 97.7750244140625\n"
          ]
        },
        {
          "output_type": "stream",
          "name": "stderr",
          "text": [
            "WARNING:tensorflow:Compiled the loaded model, but the compiled metrics have yet to be built. `model.compile_metrics` will be empty until you train or evaluate the model.\n"
          ]
        },
        {
          "output_type": "stream",
          "name": "stdout",
          "text": [
            "Saving new best model with loss:  0.065626495\n",
            "Epoch 29, Loss: 0.06562649458646774, Accuracy: 98.10501861572266\n",
            "Epoch 30, Loss: 0.0714334174990654, Accuracy: 97.90502166748047\n"
          ]
        },
        {
          "output_type": "stream",
          "name": "stderr",
          "text": [
            "WARNING:tensorflow:Compiled the loaded model, but the compiled metrics have yet to be built. `model.compile_metrics` will be empty until you train or evaluate the model.\n"
          ]
        },
        {
          "output_type": "stream",
          "name": "stdout",
          "text": [
            "Saving new best model with loss:  0.06554047\n",
            "Epoch 31, Loss: 0.06554047018289566, Accuracy: 98.1250228881836\n",
            "Epoch 32, Loss: 0.06598136574029922, Accuracy: 98.02501678466797\n"
          ]
        },
        {
          "output_type": "stream",
          "name": "stderr",
          "text": [
            "WARNING:tensorflow:Compiled the loaded model, but the compiled metrics have yet to be built. `model.compile_metrics` will be empty until you train or evaluate the model.\n"
          ]
        },
        {
          "output_type": "stream",
          "name": "stdout",
          "text": [
            "Saving new best model with loss:  0.06062045\n",
            "Epoch 33, Loss: 0.06062044948339462, Accuracy: 98.2600326538086\n",
            "Epoch 34, Loss: 0.0613446943461895, Accuracy: 98.23001098632812\n",
            "Epoch 35, Loss: 0.06438524276018143, Accuracy: 98.24504089355469\n",
            "Epoch 36, Loss: 0.062764011323452, Accuracy: 98.14000701904297\n"
          ]
        },
        {
          "output_type": "stream",
          "name": "stderr",
          "text": [
            "WARNING:tensorflow:Compiled the loaded model, but the compiled metrics have yet to be built. `model.compile_metrics` will be empty until you train or evaluate the model.\n"
          ]
        },
        {
          "output_type": "stream",
          "name": "stdout",
          "text": [
            "Saving new best model with loss:  0.056746468\n",
            "Epoch 37, Loss: 0.0567464679479599, Accuracy: 98.24996948242188\n",
            "Epoch 38, Loss: 0.05694327875971794, Accuracy: 98.28002166748047\n",
            "Epoch 39, Loss: 0.06123363599181175, Accuracy: 98.27503204345703\n",
            "Epoch 40, Loss: 0.060527220368385315, Accuracy: 98.1600341796875\n"
          ]
        },
        {
          "output_type": "stream",
          "name": "stderr",
          "text": [
            "WARNING:tensorflow:Compiled the loaded model, but the compiled metrics have yet to be built. `model.compile_metrics` will be empty until you train or evaluate the model.\n"
          ]
        },
        {
          "output_type": "stream",
          "name": "stdout",
          "text": [
            "Saving new best model with loss:  0.056584787\n",
            "Epoch 41, Loss: 0.056584786623716354, Accuracy: 98.2300033569336\n",
            "Epoch 42, Loss: 0.06263496726751328, Accuracy: 98.12500762939453\n",
            "Epoch 43, Loss: 0.057165659964084625, Accuracy: 98.30001068115234\n"
          ]
        },
        {
          "output_type": "stream",
          "name": "stderr",
          "text": [
            "WARNING:tensorflow:Compiled the loaded model, but the compiled metrics have yet to be built. `model.compile_metrics` will be empty until you train or evaluate the model.\n"
          ]
        },
        {
          "output_type": "stream",
          "name": "stdout",
          "text": [
            "Saving new best model with loss:  0.056099433\n",
            "Epoch 44, Loss: 0.056099433451890945, Accuracy: 98.14501190185547\n"
          ]
        },
        {
          "output_type": "stream",
          "name": "stderr",
          "text": [
            "WARNING:tensorflow:Compiled the loaded model, but the compiled metrics have yet to be built. `model.compile_metrics` will be empty until you train or evaluate the model.\n"
          ]
        },
        {
          "output_type": "stream",
          "name": "stdout",
          "text": [
            "Saving new best model with loss:  0.051375803\n",
            "Epoch 45, Loss: 0.05137580260634422, Accuracy: 98.48001098632812\n",
            "Epoch 46, Loss: 0.057831112295389175, Accuracy: 98.40003204345703\n"
          ]
        },
        {
          "output_type": "stream",
          "name": "stderr",
          "text": [
            "WARNING:tensorflow:Compiled the loaded model, but the compiled metrics have yet to be built. `model.compile_metrics` will be empty until you train or evaluate the model.\n"
          ]
        },
        {
          "output_type": "stream",
          "name": "stdout",
          "text": [
            "Saving new best model with loss:  0.04980312\n",
            "Epoch 47, Loss: 0.04980311915278435, Accuracy: 98.36998748779297\n",
            "Epoch 48, Loss: 0.052008915692567825, Accuracy: 98.33001708984375\n"
          ]
        },
        {
          "output_type": "stream",
          "name": "stderr",
          "text": [
            "WARNING:tensorflow:Compiled the loaded model, but the compiled metrics have yet to be built. `model.compile_metrics` will be empty until you train or evaluate the model.\n"
          ]
        },
        {
          "output_type": "stream",
          "name": "stdout",
          "text": [
            "Saving new best model with loss:  0.04547982\n",
            "Epoch 49, Loss: 0.04547981917858124, Accuracy: 98.56999969482422\n",
            "Epoch 50, Loss: 0.04967110604047775, Accuracy: 98.50501251220703\n",
            "Epoch 51, Loss: 0.04874469339847565, Accuracy: 98.5250244140625\n",
            "Epoch 52, Loss: 0.04835718125104904, Accuracy: 98.4300308227539\n"
          ]
        },
        {
          "output_type": "stream",
          "name": "stderr",
          "text": [
            "WARNING:tensorflow:Compiled the loaded model, but the compiled metrics have yet to be built. `model.compile_metrics` will be empty until you train or evaluate the model.\n"
          ]
        },
        {
          "output_type": "stream",
          "name": "stdout",
          "text": [
            "Saving new best model with loss:  0.043321237\n",
            "Epoch 53, Loss: 0.043321236968040466, Accuracy: 98.59502410888672\n",
            "Epoch 54, Loss: 0.04388178884983063, Accuracy: 98.64500427246094\n"
          ]
        },
        {
          "output_type": "stream",
          "name": "stderr",
          "text": [
            "WARNING:tensorflow:Compiled the loaded model, but the compiled metrics have yet to be built. `model.compile_metrics` will be empty until you train or evaluate the model.\n"
          ]
        },
        {
          "output_type": "stream",
          "name": "stdout",
          "text": [
            "Saving new best model with loss:  0.04258868\n",
            "Epoch 55, Loss: 0.04258868098258972, Accuracy: 98.73004913330078\n"
          ]
        },
        {
          "output_type": "stream",
          "name": "stderr",
          "text": [
            "WARNING:tensorflow:Compiled the loaded model, but the compiled metrics have yet to be built. `model.compile_metrics` will be empty until you train or evaluate the model.\n"
          ]
        },
        {
          "output_type": "stream",
          "name": "stdout",
          "text": [
            "Saving new best model with loss:  0.03957807\n",
            "Epoch 56, Loss: 0.039578069001436234, Accuracy: 98.7550277709961\n",
            "Epoch 57, Loss: 0.04682217910885811, Accuracy: 98.50003814697266\n",
            "Epoch 58, Loss: 0.04339703172445297, Accuracy: 98.73003387451172\n",
            "Epoch 59, Loss: 0.044392503798007965, Accuracy: 98.5150375366211\n",
            "Epoch 60, Loss: 0.042854052037000656, Accuracy: 98.67002868652344\n"
          ]
        },
        {
          "output_type": "stream",
          "name": "stderr",
          "text": [
            "WARNING:tensorflow:Compiled the loaded model, but the compiled metrics have yet to be built. `model.compile_metrics` will be empty until you train or evaluate the model.\n"
          ]
        },
        {
          "output_type": "stream",
          "name": "stdout",
          "text": [
            "Saving new best model with loss:  0.037011\n",
            "Epoch 61, Loss: 0.037011001259088516, Accuracy: 98.73001098632812\n",
            "Epoch 62, Loss: 0.0456576868891716, Accuracy: 98.59501647949219\n",
            "Epoch 63, Loss: 0.039380885660648346, Accuracy: 98.69503021240234\n",
            "Epoch 64, Loss: 0.04404246434569359, Accuracy: 98.6750259399414\n",
            "Epoch 65, Loss: 0.04271294176578522, Accuracy: 98.61502838134766\n"
          ]
        },
        {
          "output_type": "stream",
          "name": "stderr",
          "text": [
            "WARNING:tensorflow:Compiled the loaded model, but the compiled metrics have yet to be built. `model.compile_metrics` will be empty until you train or evaluate the model.\n"
          ]
        },
        {
          "output_type": "stream",
          "name": "stdout",
          "text": [
            "Saving new best model with loss:  0.03624097\n",
            "Epoch 66, Loss: 0.036240968853235245, Accuracy: 98.7650146484375\n",
            "Epoch 67, Loss: 0.03726862370967865, Accuracy: 98.78002166748047\n",
            "Epoch 68, Loss: 0.03950682654976845, Accuracy: 98.66002655029297\n"
          ]
        },
        {
          "output_type": "stream",
          "name": "stderr",
          "text": [
            "WARNING:tensorflow:Compiled the loaded model, but the compiled metrics have yet to be built. `model.compile_metrics` will be empty until you train or evaluate the model.\n"
          ]
        },
        {
          "output_type": "stream",
          "name": "stdout",
          "text": [
            "Saving new best model with loss:  0.036107734\n",
            "Epoch 69, Loss: 0.036107733845710754, Accuracy: 98.85003662109375\n",
            "Epoch 70, Loss: 0.0373772457242012, Accuracy: 98.635009765625\n",
            "Epoch 71, Loss: 0.037399400025606155, Accuracy: 98.81500244140625\n"
          ]
        },
        {
          "output_type": "stream",
          "name": "stderr",
          "text": [
            "WARNING:tensorflow:Compiled the loaded model, but the compiled metrics have yet to be built. `model.compile_metrics` will be empty until you train or evaluate the model.\n"
          ]
        },
        {
          "output_type": "stream",
          "name": "stdout",
          "text": [
            "Saving new best model with loss:  0.034875084\n",
            "Epoch 72, Loss: 0.03487508371472359, Accuracy: 98.88504028320312\n",
            "Epoch 73, Loss: 0.04054630175232887, Accuracy: 98.74002838134766\n"
          ]
        },
        {
          "output_type": "stream",
          "name": "stderr",
          "text": [
            "WARNING:tensorflow:Compiled the loaded model, but the compiled metrics have yet to be built. `model.compile_metrics` will be empty until you train or evaluate the model.\n"
          ]
        },
        {
          "output_type": "stream",
          "name": "stdout",
          "text": [
            "Saving new best model with loss:  0.032696187\n",
            "Epoch 74, Loss: 0.0326961874961853, Accuracy: 98.95502471923828\n",
            "Epoch 75, Loss: 0.035186897963285446, Accuracy: 98.81002807617188\n",
            "Epoch 76, Loss: 0.034691277891397476, Accuracy: 98.7550277709961\n",
            "Epoch 77, Loss: 0.034321557730436325, Accuracy: 98.96003723144531\n"
          ]
        },
        {
          "output_type": "stream",
          "name": "stderr",
          "text": [
            "WARNING:tensorflow:Compiled the loaded model, but the compiled metrics have yet to be built. `model.compile_metrics` will be empty until you train or evaluate the model.\n"
          ]
        },
        {
          "output_type": "stream",
          "name": "stdout",
          "text": [
            "Saving new best model with loss:  0.031905357\n",
            "Epoch 78, Loss: 0.03190535679459572, Accuracy: 98.91503143310547\n",
            "Epoch 79, Loss: 0.03580688312649727, Accuracy: 98.86001586914062\n",
            "Epoch 80, Loss: 0.03340233862400055, Accuracy: 98.90503692626953\n"
          ]
        }
      ]
    },
    {
      "cell_type": "code",
      "source": [
        "#Run prototypical model with only training set\n",
        "# This will be using the fourth values from the lists for the experiment\n",
        "num_epochs = 80\n",
        "num_episodes = 100\n",
        "save_path = \"./results/models/omniglot_train3.h5\"\n",
        "\n",
        "train_loss = tf.metrics.Mean(name='train_loss')\n",
        "train_acc = tf.metrics.Mean(name='train_accuracy')\n",
        "\n",
        "\n",
        "#number of classes\n",
        "num_way = train_num_ways[3] \n",
        "\n",
        "#number of examples per class for support set\n",
        "num_shot = num_shots[3]  \n",
        "\n",
        "#number of query points\n",
        "num_query = num_shots[3] \n",
        "\n",
        "least_loss = {'least_loss': 100.00}\n",
        "\n",
        "support = np.zeros([num_way, num_shot, img_width, img_height, channels], dtype=np.float32)\n",
        "query = np.zeros([num_way, num_query, img_width, img_height, channels], dtype=np.float32)\n",
        "model = Prototypical(support, query, img_width, img_height, channels)\n",
        "optimizer = tf.keras.optimizers.Adam(learning_rate)\n",
        "\n",
        "@tf.function\n",
        "def loss(support, query):\n",
        "  loss, acc = model(support, query)\n",
        "  return loss, acc\n",
        "\n",
        "least_loss = {'least_loss': 100.00}\n",
        "\n",
        "@tf.function\n",
        "def train_step(support, query):\n",
        "  with tf.GradientTape() as tape:\n",
        "    loss, acc = model(support, query)\n",
        "  gradients = tape.gradient(loss, model.trainable_variables)\n",
        "  optimizer.apply_gradients(\n",
        "        zip(gradients, model.trainable_variables))\n",
        "  train_loss(loss)\n",
        "  train_acc(acc)\n",
        "\n",
        "for epoch in range(num_epochs):\n",
        "  train_loss.reset_states()\n",
        "  train_acc.reset_states()\n",
        "\n",
        "  for episode in range(num_episodes):\n",
        "    train_support, train_query = get_next_episode(train_dataset, num_way, num_shot, num_query, no_train_classes)\n",
        "    train_step(train_support, train_query)\n",
        "\n",
        "  cur_loss = train_loss.result().numpy()\n",
        "  if cur_loss < least_loss['least_loss']:\n",
        "      print(\"Saving new best model with loss: \", cur_loss)\n",
        "      least_loss['least_loss'] = cur_loss\n",
        "      model.save(save_path)\n",
        "  \n",
        "  template = 'Epoch {}, Loss: {}, Accuracy: {}'\n",
        "  print(template.format(epoch + 1, train_loss.result(), train_acc.result() * 100))"
      ],
      "metadata": {
        "colab": {
          "base_uri": "https://localhost:8080/"
        },
        "id": "PHc95Z5QEfQY",
        "outputId": "6fb26ce2-d231-42b2-800d-514b3be5c92b"
      },
      "execution_count": 16,
      "outputs": [
        {
          "output_type": "stream",
          "name": "stderr",
          "text": [
            "WARNING:tensorflow:Compiled the loaded model, but the compiled metrics have yet to be built. `model.compile_metrics` will be empty until you train or evaluate the model.\n"
          ]
        },
        {
          "output_type": "stream",
          "name": "stdout",
          "text": [
            "Saving new best model with loss:  2.4195518\n",
            "Epoch 1, Loss: 2.4195518493652344, Accuracy: 41.549991607666016\n"
          ]
        },
        {
          "output_type": "stream",
          "name": "stderr",
          "text": [
            "WARNING:tensorflow:Compiled the loaded model, but the compiled metrics have yet to be built. `model.compile_metrics` will be empty until you train or evaluate the model.\n"
          ]
        },
        {
          "output_type": "stream",
          "name": "stdout",
          "text": [
            "Saving new best model with loss:  1.5646489\n",
            "Epoch 2, Loss: 1.5646488666534424, Accuracy: 58.124996185302734\n"
          ]
        },
        {
          "output_type": "stream",
          "name": "stderr",
          "text": [
            "WARNING:tensorflow:Compiled the loaded model, but the compiled metrics have yet to be built. `model.compile_metrics` will be empty until you train or evaluate the model.\n"
          ]
        },
        {
          "output_type": "stream",
          "name": "stdout",
          "text": [
            "Saving new best model with loss:  1.197028\n",
            "Epoch 3, Loss: 1.1970280408859253, Accuracy: 68.25001525878906\n"
          ]
        },
        {
          "output_type": "stream",
          "name": "stderr",
          "text": [
            "WARNING:tensorflow:Compiled the loaded model, but the compiled metrics have yet to be built. `model.compile_metrics` will be empty until you train or evaluate the model.\n"
          ]
        },
        {
          "output_type": "stream",
          "name": "stdout",
          "text": [
            "Saving new best model with loss:  0.93336415\n",
            "Epoch 4, Loss: 0.9333641529083252, Accuracy: 74.8499984741211\n"
          ]
        },
        {
          "output_type": "stream",
          "name": "stderr",
          "text": [
            "WARNING:tensorflow:Compiled the loaded model, but the compiled metrics have yet to be built. `model.compile_metrics` will be empty until you train or evaluate the model.\n"
          ]
        },
        {
          "output_type": "stream",
          "name": "stdout",
          "text": [
            "Saving new best model with loss:  0.7554164\n",
            "Epoch 5, Loss: 0.7554163932800293, Accuracy: 78.92499542236328\n"
          ]
        },
        {
          "output_type": "stream",
          "name": "stderr",
          "text": [
            "WARNING:tensorflow:Compiled the loaded model, but the compiled metrics have yet to be built. `model.compile_metrics` will be empty until you train or evaluate the model.\n"
          ]
        },
        {
          "output_type": "stream",
          "name": "stdout",
          "text": [
            "Saving new best model with loss:  0.6486669\n",
            "Epoch 6, Loss: 0.6486669182777405, Accuracy: 81.69998931884766\n"
          ]
        },
        {
          "output_type": "stream",
          "name": "stderr",
          "text": [
            "WARNING:tensorflow:Compiled the loaded model, but the compiled metrics have yet to be built. `model.compile_metrics` will be empty until you train or evaluate the model.\n"
          ]
        },
        {
          "output_type": "stream",
          "name": "stdout",
          "text": [
            "Saving new best model with loss:  0.53964937\n",
            "Epoch 7, Loss: 0.5396493673324585, Accuracy: 83.95000457763672\n",
            "Epoch 8, Loss: 0.5504009127616882, Accuracy: 84.42501068115234\n"
          ]
        },
        {
          "output_type": "stream",
          "name": "stderr",
          "text": [
            "WARNING:tensorflow:Compiled the loaded model, but the compiled metrics have yet to be built. `model.compile_metrics` will be empty until you train or evaluate the model.\n"
          ]
        },
        {
          "output_type": "stream",
          "name": "stdout",
          "text": [
            "Saving new best model with loss:  0.53839815\n",
            "Epoch 9, Loss: 0.5383981466293335, Accuracy: 84.67500305175781\n"
          ]
        },
        {
          "output_type": "stream",
          "name": "stderr",
          "text": [
            "WARNING:tensorflow:Compiled the loaded model, but the compiled metrics have yet to be built. `model.compile_metrics` will be empty until you train or evaluate the model.\n"
          ]
        },
        {
          "output_type": "stream",
          "name": "stdout",
          "text": [
            "Saving new best model with loss:  0.4961293\n",
            "Epoch 10, Loss: 0.4961293041706085, Accuracy: 85.39999389648438\n"
          ]
        },
        {
          "output_type": "stream",
          "name": "stderr",
          "text": [
            "WARNING:tensorflow:Compiled the loaded model, but the compiled metrics have yet to be built. `model.compile_metrics` will be empty until you train or evaluate the model.\n"
          ]
        },
        {
          "output_type": "stream",
          "name": "stdout",
          "text": [
            "Saving new best model with loss:  0.46690175\n",
            "Epoch 11, Loss: 0.4669017493724823, Accuracy: 85.87499237060547\n"
          ]
        },
        {
          "output_type": "stream",
          "name": "stderr",
          "text": [
            "WARNING:tensorflow:Compiled the loaded model, but the compiled metrics have yet to be built. `model.compile_metrics` will be empty until you train or evaluate the model.\n"
          ]
        },
        {
          "output_type": "stream",
          "name": "stdout",
          "text": [
            "Saving new best model with loss:  0.4231772\n",
            "Epoch 12, Loss: 0.42317721247673035, Accuracy: 87.47498321533203\n",
            "Epoch 13, Loss: 0.4266640841960907, Accuracy: 87.5\n"
          ]
        },
        {
          "output_type": "stream",
          "name": "stderr",
          "text": [
            "WARNING:tensorflow:Compiled the loaded model, but the compiled metrics have yet to be built. `model.compile_metrics` will be empty until you train or evaluate the model.\n"
          ]
        },
        {
          "output_type": "stream",
          "name": "stdout",
          "text": [
            "Saving new best model with loss:  0.41178444\n",
            "Epoch 14, Loss: 0.41178444027900696, Accuracy: 88.15000915527344\n",
            "Epoch 15, Loss: 0.42782458662986755, Accuracy: 87.82500457763672\n"
          ]
        },
        {
          "output_type": "stream",
          "name": "stderr",
          "text": [
            "WARNING:tensorflow:Compiled the loaded model, but the compiled metrics have yet to be built. `model.compile_metrics` will be empty until you train or evaluate the model.\n"
          ]
        },
        {
          "output_type": "stream",
          "name": "stdout",
          "text": [
            "Saving new best model with loss:  0.39471427\n",
            "Epoch 16, Loss: 0.39471426606178284, Accuracy: 88.34999084472656\n",
            "Epoch 17, Loss: 0.40809595584869385, Accuracy: 88.42501068115234\n"
          ]
        },
        {
          "output_type": "stream",
          "name": "stderr",
          "text": [
            "WARNING:tensorflow:Compiled the loaded model, but the compiled metrics have yet to be built. `model.compile_metrics` will be empty until you train or evaluate the model.\n"
          ]
        },
        {
          "output_type": "stream",
          "name": "stdout",
          "text": [
            "Saving new best model with loss:  0.3613637\n",
            "Epoch 18, Loss: 0.3613637089729309, Accuracy: 89.12499237060547\n",
            "Epoch 19, Loss: 0.36413004994392395, Accuracy: 90.12500762939453\n"
          ]
        },
        {
          "output_type": "stream",
          "name": "stderr",
          "text": [
            "WARNING:tensorflow:Compiled the loaded model, but the compiled metrics have yet to be built. `model.compile_metrics` will be empty until you train or evaluate the model.\n"
          ]
        },
        {
          "output_type": "stream",
          "name": "stdout",
          "text": [
            "Saving new best model with loss:  0.34734336\n",
            "Epoch 20, Loss: 0.3473433554172516, Accuracy: 89.67500305175781\n"
          ]
        },
        {
          "output_type": "stream",
          "name": "stderr",
          "text": [
            "WARNING:tensorflow:Compiled the loaded model, but the compiled metrics have yet to be built. `model.compile_metrics` will be empty until you train or evaluate the model.\n"
          ]
        },
        {
          "output_type": "stream",
          "name": "stdout",
          "text": [
            "Saving new best model with loss:  0.32184768\n",
            "Epoch 21, Loss: 0.32184767723083496, Accuracy: 90.07500457763672\n",
            "Epoch 22, Loss: 0.3282147943973541, Accuracy: 90.32500457763672\n",
            "Epoch 23, Loss: 0.3235490024089813, Accuracy: 90.85002136230469\n"
          ]
        },
        {
          "output_type": "stream",
          "name": "stderr",
          "text": [
            "WARNING:tensorflow:Compiled the loaded model, but the compiled metrics have yet to be built. `model.compile_metrics` will be empty until you train or evaluate the model.\n"
          ]
        },
        {
          "output_type": "stream",
          "name": "stdout",
          "text": [
            "Saving new best model with loss:  0.32103541\n",
            "Epoch 24, Loss: 0.3210354149341583, Accuracy: 91.17499542236328\n",
            "Epoch 25, Loss: 0.330936998128891, Accuracy: 90.6500015258789\n",
            "Epoch 26, Loss: 0.32598984241485596, Accuracy: 91.30000305175781\n"
          ]
        },
        {
          "output_type": "stream",
          "name": "stderr",
          "text": [
            "WARNING:tensorflow:Compiled the loaded model, but the compiled metrics have yet to be built. `model.compile_metrics` will be empty until you train or evaluate the model.\n"
          ]
        },
        {
          "output_type": "stream",
          "name": "stdout",
          "text": [
            "Saving new best model with loss:  0.2809907\n",
            "Epoch 27, Loss: 0.28099068999290466, Accuracy: 91.85000610351562\n"
          ]
        },
        {
          "output_type": "stream",
          "name": "stderr",
          "text": [
            "WARNING:tensorflow:Compiled the loaded model, but the compiled metrics have yet to be built. `model.compile_metrics` will be empty until you train or evaluate the model.\n"
          ]
        },
        {
          "output_type": "stream",
          "name": "stdout",
          "text": [
            "Saving new best model with loss:  0.2762402\n",
            "Epoch 28, Loss: 0.27624019980430603, Accuracy: 91.92495727539062\n",
            "Epoch 29, Loss: 0.2905048131942749, Accuracy: 92.37501525878906\n",
            "Epoch 30, Loss: 0.2983030378818512, Accuracy: 91.54997253417969\n",
            "Epoch 31, Loss: 0.2829934358596802, Accuracy: 91.82502746582031\n",
            "Epoch 32, Loss: 0.2817455530166626, Accuracy: 91.85002136230469\n"
          ]
        },
        {
          "output_type": "stream",
          "name": "stderr",
          "text": [
            "WARNING:tensorflow:Compiled the loaded model, but the compiled metrics have yet to be built. `model.compile_metrics` will be empty until you train or evaluate the model.\n"
          ]
        },
        {
          "output_type": "stream",
          "name": "stdout",
          "text": [
            "Saving new best model with loss:  0.2520608\n",
            "Epoch 33, Loss: 0.25206080079078674, Accuracy: 92.67498779296875\n",
            "Epoch 34, Loss: 0.25306397676467896, Accuracy: 92.30001068115234\n"
          ]
        },
        {
          "output_type": "stream",
          "name": "stderr",
          "text": [
            "WARNING:tensorflow:Compiled the loaded model, but the compiled metrics have yet to be built. `model.compile_metrics` will be empty until you train or evaluate the model.\n"
          ]
        },
        {
          "output_type": "stream",
          "name": "stdout",
          "text": [
            "Saving new best model with loss:  0.24240406\n",
            "Epoch 35, Loss: 0.2424040585756302, Accuracy: 92.45002746582031\n",
            "Epoch 36, Loss: 0.2451450526714325, Accuracy: 92.50003051757812\n",
            "Epoch 37, Loss: 0.2536834180355072, Accuracy: 92.94998931884766\n",
            "Epoch 38, Loss: 0.2831035256385803, Accuracy: 91.64998626708984\n",
            "Epoch 39, Loss: 0.24772199988365173, Accuracy: 92.87498474121094\n"
          ]
        },
        {
          "output_type": "stream",
          "name": "stderr",
          "text": [
            "WARNING:tensorflow:Compiled the loaded model, but the compiled metrics have yet to be built. `model.compile_metrics` will be empty until you train or evaluate the model.\n"
          ]
        },
        {
          "output_type": "stream",
          "name": "stdout",
          "text": [
            "Saving new best model with loss:  0.23566636\n",
            "Epoch 40, Loss: 0.23566636443138123, Accuracy: 92.59998321533203\n",
            "Epoch 41, Loss: 0.25991758704185486, Accuracy: 92.15000915527344\n",
            "Epoch 42, Loss: 0.24799737334251404, Accuracy: 92.625\n"
          ]
        },
        {
          "output_type": "stream",
          "name": "stderr",
          "text": [
            "WARNING:tensorflow:Compiled the loaded model, but the compiled metrics have yet to be built. `model.compile_metrics` will be empty until you train or evaluate the model.\n"
          ]
        },
        {
          "output_type": "stream",
          "name": "stdout",
          "text": [
            "Saving new best model with loss:  0.22769514\n",
            "Epoch 43, Loss: 0.22769513726234436, Accuracy: 93.72500610351562\n",
            "Epoch 44, Loss: 0.2522781491279602, Accuracy: 92.39997863769531\n"
          ]
        },
        {
          "output_type": "stream",
          "name": "stderr",
          "text": [
            "WARNING:tensorflow:Compiled the loaded model, but the compiled metrics have yet to be built. `model.compile_metrics` will be empty until you train or evaluate the model.\n"
          ]
        },
        {
          "output_type": "stream",
          "name": "stdout",
          "text": [
            "Saving new best model with loss:  0.2263587\n",
            "Epoch 45, Loss: 0.22635869681835175, Accuracy: 93.7750015258789\n"
          ]
        },
        {
          "output_type": "stream",
          "name": "stderr",
          "text": [
            "WARNING:tensorflow:Compiled the loaded model, but the compiled metrics have yet to be built. `model.compile_metrics` will be empty until you train or evaluate the model.\n"
          ]
        },
        {
          "output_type": "stream",
          "name": "stdout",
          "text": [
            "Saving new best model with loss:  0.21088253\n",
            "Epoch 46, Loss: 0.2108825296163559, Accuracy: 93.12498474121094\n",
            "Epoch 47, Loss: 0.21524576842784882, Accuracy: 93.52497100830078\n",
            "Epoch 48, Loss: 0.24230070412158966, Accuracy: 92.64997863769531\n",
            "Epoch 49, Loss: 0.2222149521112442, Accuracy: 93.12499237060547\n",
            "Epoch 50, Loss: 0.2392786145210266, Accuracy: 92.75001525878906\n"
          ]
        },
        {
          "output_type": "stream",
          "name": "stderr",
          "text": [
            "WARNING:tensorflow:Compiled the loaded model, but the compiled metrics have yet to be built. `model.compile_metrics` will be empty until you train or evaluate the model.\n"
          ]
        },
        {
          "output_type": "stream",
          "name": "stdout",
          "text": [
            "Saving new best model with loss:  0.19183627\n",
            "Epoch 51, Loss: 0.19183626770973206, Accuracy: 94.32498931884766\n",
            "Epoch 52, Loss: 0.21516595780849457, Accuracy: 93.57498168945312\n",
            "Epoch 53, Loss: 0.22133274376392365, Accuracy: 92.94996643066406\n"
          ]
        },
        {
          "output_type": "stream",
          "name": "stderr",
          "text": [
            "WARNING:tensorflow:Compiled the loaded model, but the compiled metrics have yet to be built. `model.compile_metrics` will be empty until you train or evaluate the model.\n"
          ]
        },
        {
          "output_type": "stream",
          "name": "stdout",
          "text": [
            "Saving new best model with loss:  0.18847893\n",
            "Epoch 54, Loss: 0.18847893178462982, Accuracy: 94.22498321533203\n",
            "Epoch 55, Loss: 0.21808242797851562, Accuracy: 93.49995422363281\n",
            "Epoch 56, Loss: 0.20452998578548431, Accuracy: 93.72500610351562\n",
            "Epoch 57, Loss: 0.20025140047073364, Accuracy: 94.07499694824219\n",
            "Epoch 58, Loss: 0.20591992139816284, Accuracy: 93.64998626708984\n",
            "Epoch 59, Loss: 0.20623888075351715, Accuracy: 93.9749984741211\n",
            "Epoch 60, Loss: 0.19467797875404358, Accuracy: 94.39998626708984\n"
          ]
        },
        {
          "output_type": "stream",
          "name": "stderr",
          "text": [
            "WARNING:tensorflow:Compiled the loaded model, but the compiled metrics have yet to be built. `model.compile_metrics` will be empty until you train or evaluate the model.\n"
          ]
        },
        {
          "output_type": "stream",
          "name": "stdout",
          "text": [
            "Saving new best model with loss:  0.18176337\n",
            "Epoch 61, Loss: 0.18176336586475372, Accuracy: 94.02497100830078\n",
            "Epoch 62, Loss: 0.18789023160934448, Accuracy: 94.60000610351562\n",
            "Epoch 63, Loss: 0.1919507533311844, Accuracy: 94.59999084472656\n",
            "Epoch 64, Loss: 0.18456722795963287, Accuracy: 94.67495727539062\n"
          ]
        },
        {
          "output_type": "stream",
          "name": "stderr",
          "text": [
            "WARNING:tensorflow:Compiled the loaded model, but the compiled metrics have yet to be built. `model.compile_metrics` will be empty until you train or evaluate the model.\n"
          ]
        },
        {
          "output_type": "stream",
          "name": "stdout",
          "text": [
            "Saving new best model with loss:  0.1750999\n",
            "Epoch 65, Loss: 0.17509989440441132, Accuracy: 94.5999755859375\n"
          ]
        },
        {
          "output_type": "stream",
          "name": "stderr",
          "text": [
            "WARNING:tensorflow:Compiled the loaded model, but the compiled metrics have yet to be built. `model.compile_metrics` will be empty until you train or evaluate the model.\n"
          ]
        },
        {
          "output_type": "stream",
          "name": "stdout",
          "text": [
            "Saving new best model with loss:  0.15712206\n",
            "Epoch 66, Loss: 0.15712206065654755, Accuracy: 95.57496643066406\n",
            "Epoch 67, Loss: 0.17420987784862518, Accuracy: 94.52496337890625\n",
            "Epoch 68, Loss: 0.18387925624847412, Accuracy: 94.87496948242188\n",
            "Epoch 69, Loss: 0.17550747096538544, Accuracy: 94.5999755859375\n",
            "Epoch 70, Loss: 0.17219987511634827, Accuracy: 94.47496795654297\n",
            "Epoch 71, Loss: 0.18452712893486023, Accuracy: 94.57498168945312\n",
            "Epoch 72, Loss: 0.19801875948905945, Accuracy: 94.59998321533203\n",
            "Epoch 73, Loss: 0.17818252742290497, Accuracy: 94.50000762939453\n",
            "Epoch 74, Loss: 0.19622284173965454, Accuracy: 93.90000915527344\n",
            "Epoch 75, Loss: 0.17716480791568756, Accuracy: 94.5999755859375\n",
            "Epoch 76, Loss: 0.1686609983444214, Accuracy: 94.69996643066406\n",
            "Epoch 77, Loss: 0.19023028016090393, Accuracy: 94.74999237060547\n",
            "Epoch 78, Loss: 0.16630807518959045, Accuracy: 95.19995880126953\n",
            "Epoch 79, Loss: 0.1677059680223465, Accuracy: 94.94998168945312\n",
            "Epoch 80, Loss: 0.16286741197109222, Accuracy: 95.17497253417969\n"
          ]
        }
      ]
    },
    {
      "cell_type": "code",
      "source": [
        "save_paths = [\"./results/models/omniglot_train0.h5\", \"./results/models/omniglot_train1.h5\", \"./results/models/omniglot_train2.h5\", \"./results/models/omniglot_train3.h5\"]"
      ],
      "metadata": {
        "id": "fDVrI_WdDcOZ"
      },
      "execution_count": 17,
      "outputs": []
    },
    {
      "cell_type": "code",
      "source": [
        "def calc_loss(support, query):\n",
        "  loss, acc = model(support, query)\n",
        "  return loss, acc"
      ],
      "metadata": {
        "id": "xXl6xNwFDcsV"
      },
      "execution_count": 18,
      "outputs": []
    },
    {
      "cell_type": "code",
      "source": [
        "accuracies_proto_0 = {}\n",
        "for save_path in save_paths:\n",
        "  model_path = save_path\n",
        "  model.load(model_path)\n",
        "  print(\"Model loaded.\")\n",
        "  num_episodes = 1000\n",
        "\n",
        "  #number of classes\n",
        "  num_way = test_num_ways[0]\n",
        "\n",
        "  #number of examples per class for support set\n",
        "  num_shot = num_shots[0]  \n",
        "\n",
        "  #number of query points\n",
        "  num_query = num_shots[0] \n",
        "\n",
        "  # Metrics to gather\n",
        "  test_loss = tf.metrics.Mean(name='test_loss')\n",
        "  test_acc = tf.metrics.Mean(name='test_accuracy')\n",
        "\n",
        "\n",
        "  for i_episode in range(num_episodes):\n",
        "    test_support, test_query = get_next_episode(test_dataset, num_way, num_shot, num_shot, no_test_classes)\n",
        "    loss, acc = calc_loss(test_support, test_query)\n",
        "    test_loss(loss)\n",
        "    test_acc(acc)\n",
        "\n",
        "  loss = test_loss.result().numpy()\n",
        "  accuracy = test_acc.result().numpy() * 100\n",
        "  print(\"Loss: \", loss)\n",
        "  print(\"Accuracy: \", accuracy)\n",
        "  accuracies_proto_0[model_path] = accuracy\n"
      ],
      "metadata": {
        "colab": {
          "base_uri": "https://localhost:8080/"
        },
        "id": "_06eo22J5Ucl",
        "outputId": "f8d189de-6807-41f9-ab43-01075c4a08c2"
      },
      "execution_count": 19,
      "outputs": [
        {
          "output_type": "stream",
          "name": "stdout",
          "text": [
            "Model loaded.\n",
            "Loss:  0.01443269\n",
            "Accuracy:  99.65207576751709\n",
            "Model loaded.\n",
            "Loss:  0.017238224\n",
            "Accuracy:  99.6001124382019\n",
            "Model loaded.\n",
            "Loss:  0.022710524\n",
            "Accuracy:  99.52009320259094\n",
            "Model loaded.\n",
            "Loss:  0.017339597\n",
            "Accuracy:  99.56807494163513\n"
          ]
        }
      ]
    },
    {
      "cell_type": "code",
      "source": [
        "accuracies_proto_1 = {}\n",
        "for save_path in save_paths:\n",
        "  model_path = save_path\n",
        "  model.load(model_path)\n",
        "  print(\"Model with path {} loaded.\".format(save_path))\n",
        "  num_episodes = 1000\n",
        "\n",
        "  #number of classes\n",
        "  num_way = test_num_ways[1]\n",
        "\n",
        "  #number of examples per class for support set\n",
        "  num_shot = num_shots[1]  \n",
        "\n",
        "  #number of query points\n",
        "  num_query = num_shots[1] \n",
        "\n",
        "  # Metrics to gather\n",
        "  test_loss = tf.metrics.Mean(name='test_loss')\n",
        "  test_acc = tf.metrics.Mean(name='test_accuracy')\n",
        "\n",
        "\n",
        "  for i_episode in range(num_episodes):\n",
        "    test_support, test_query = get_next_episode(test_dataset, num_way, num_shot, num_shot, no_test_classes)\n",
        "    loss, acc = calc_loss(test_support, test_query)\n",
        "    test_loss(loss)\n",
        "    test_acc(acc)\n",
        "\n",
        "  loss = test_loss.result().numpy()\n",
        "  accuracy = test_acc.result().numpy() * 100\n",
        "  print(\"Loss: \", loss)\n",
        "  print(\"Accuracy: \", accuracy)\n",
        "  accuracies_proto_1[model_path] = accuracy\n"
      ],
      "metadata": {
        "colab": {
          "base_uri": "https://localhost:8080/"
        },
        "id": "FVU5VDN_HOMr",
        "outputId": "024054e9-16dd-4aa6-f9ef-ace5413a7fe5"
      },
      "execution_count": 20,
      "outputs": [
        {
          "output_type": "stream",
          "name": "stdout",
          "text": [
            "Model with path ./results/models/omniglot_train0.h5 loaded.\n",
            "Loss:  0.10468974\n",
            "Accuracy:  97.63989448547363\n",
            "Model with path ./results/models/omniglot_train1.h5 loaded.\n",
            "Loss:  0.064977564\n",
            "Accuracy:  98.13992977142334\n",
            "Model with path ./results/models/omniglot_train2.h5 loaded.\n",
            "Loss:  0.122516006\n",
            "Accuracy:  97.03988432884216\n",
            "Model with path ./results/models/omniglot_train3.h5 loaded.\n",
            "Loss:  0.06688529\n",
            "Accuracy:  98.11992049217224\n"
          ]
        }
      ]
    },
    {
      "cell_type": "code",
      "source": [
        "accuracies_proto_2 = {}\n",
        "for save_path in save_paths:\n",
        "  model_path = save_path\n",
        "  model.load(model_path)\n",
        "\n",
        "  num_episodes = 1000\n",
        "\n",
        "  #number of classes\n",
        "  num_way = test_num_ways[2]\n",
        "\n",
        "  #number of examples per class for support set\n",
        "  num_shot = num_shots[2]  \n",
        "\n",
        "  #number of query points\n",
        "  num_query = num_shots[2] \n",
        "\n",
        "  # Metrics to gather\n",
        "  test_loss = tf.metrics.Mean(name='test_loss')\n",
        "  test_acc = tf.metrics.Mean(name='test_accuracy')\n",
        "\n",
        "  print(\"Testing {} way {} shot\".format(num_way, num_shot))\n",
        "  print(\"Model with path {} loaded.\".format(save_path))\n",
        "\n",
        "  for i_episode in range(num_episodes):\n",
        "    test_support, test_query = get_next_episode(test_dataset, num_way, num_shot, num_shot, no_test_classes)\n",
        "    loss, acc = calc_loss(test_support, test_query)\n",
        "    test_loss(loss)\n",
        "    test_acc(acc)\n",
        "\n",
        "  loss = test_loss.result().numpy()\n",
        "  accuracy = test_acc.result().numpy() * 100\n",
        "  print(\"Loss: \", loss)\n",
        "  print(\"Accuracy: \", accuracy)\n",
        "  accuracies_proto_2[model_path] = accuracy"
      ],
      "metadata": {
        "colab": {
          "base_uri": "https://localhost:8080/"
        },
        "id": "0isHAB5fHOlZ",
        "outputId": "cd458c0d-ec24-442d-e59e-7ff8dcb67a56"
      },
      "execution_count": 21,
      "outputs": [
        {
          "output_type": "stream",
          "name": "stdout",
          "text": [
            "Model with path ./results/models/omniglot_train0.h5 loaded.\n",
            "Loss:  0.049333546\n",
            "Accuracy:  98.63952994346619\n",
            "Model with path ./results/models/omniglot_train1.h5 loaded.\n",
            "Loss:  0.050810993\n",
            "Accuracy:  98.72457981109619\n",
            "Model with path ./results/models/omniglot_train2.h5 loaded.\n",
            "Loss:  0.060099393\n",
            "Accuracy:  98.33952188491821\n",
            "Model with path ./results/models/omniglot_train3.h5 loaded.\n",
            "Loss:  0.059270512\n",
            "Accuracy:  98.42256903648376\n"
          ]
        }
      ]
    },
    {
      "cell_type": "code",
      "source": [
        "accuracies_proto_3 = {}\n",
        "\n",
        "def calc_loss(support, query):\n",
        "  loss, acc = model(support, query)\n",
        "  return loss, acc\n",
        "\n",
        "for save_path in save_paths:\n",
        "  model_path = save_path\n",
        "  model.load(model_path)\n",
        "  print(\"Model with path {} loaded.\".format(save_path))\n",
        "  num_episodes = 1000\n",
        "\n",
        "  #number of classes\n",
        "  num_way = test_num_ways[3]\n",
        "\n",
        "  #number of examples per class for support set\n",
        "  num_shot = num_shots[3]  \n",
        "\n",
        "  #number of query points\n",
        "  num_query = num_shots[3] \n",
        "\n",
        "  # Metrics to gather\n",
        "  test_loss = tf.metrics.Mean(name='test_loss')\n",
        "  test_acc = tf.metrics.Mean(name='test_accuracy')\n",
        "\n",
        "\n",
        "  for i_episode in range(num_episodes):\n",
        "    test_support, test_query = get_next_episode(test_dataset, num_way, num_shot, num_shot, no_test_classes)\n",
        "    loss, acc = calc_loss(test_support, test_query)\n",
        "    test_loss(loss)\n",
        "    test_acc(acc)\n",
        "\n",
        "  loss = test_loss.result().numpy()\n",
        "  accuracy = test_acc.result().numpy() * 100\n",
        "  print(\"Loss: \", loss)\n",
        "  print(\"Accuracy: \", accuracy)\n",
        "  accuracies_proto_3[model_path] = accuracy"
      ],
      "metadata": {
        "colab": {
          "base_uri": "https://localhost:8080/"
        },
        "id": "TDGY8C04HO81",
        "outputId": "292a9ea7-1add-4a90-ea85-fa4475515d1e"
      },
      "execution_count": 22,
      "outputs": [
        {
          "output_type": "stream",
          "name": "stdout",
          "text": [
            "Model with path ./results/models/omniglot_train0.h5 loaded.\n",
            "Loss:  0.3221269\n",
            "Accuracy:  92.59039759635925\n",
            "Model with path ./results/models/omniglot_train1.h5 loaded.\n",
            "Loss:  0.16637978\n",
            "Accuracy:  95.2004075050354\n",
            "Model with path ./results/models/omniglot_train2.h5 loaded.\n",
            "Loss:  0.3385203\n",
            "Accuracy:  91.7953372001648\n",
            "Model with path ./results/models/omniglot_train3.h5 loaded.\n",
            "Loss:  0.23058069\n",
            "Accuracy:  93.64041090011597\n"
          ]
        }
      ]
    },
    {
      "cell_type": "code",
      "source": [
        "#Combi Proto + Reptile for first values from the list ie 60-way 5-shot experiment\n",
        "\n",
        "meta_step_size = 0.25\n",
        "\n",
        "#Interval between running SGD on the validation dataset\n",
        "eval_interval = 4\n",
        "\n",
        "#number of classes\n",
        "num_way = train_num_ways[0]\n",
        "\n",
        "#number of examples per class for support set\n",
        "num_shot = num_shots[0]  \n",
        "\n",
        "#number of query points\n",
        "num_query = num_shots[0] \n",
        "\n",
        "\n",
        "train_loss = tf.metrics.Mean(name='train_loss')\n",
        "val_loss = tf.metrics.Mean(name='val_loss')\n",
        "train_acc = tf.metrics.Mean(name='train_accuracy')\n",
        "val_acc = tf.metrics.Mean(name='val_accuracy')\n",
        "support = np.zeros([num_way, num_shot, img_height, img_width, channels], dtype=np.float32)\n",
        "query = np.zeros([num_way, num_shot, img_height, img_width, channels], dtype=np.float32)\n",
        "model = Prototypical(support, query, img_height, img_width, channels)\n",
        "optimizer_adam = tf.keras.optimizers.Adam(learning_rate, beta_1=0)\n",
        "optimizer_sgd = tf.keras.optimizers.SGD(learning_rate)\n",
        "\n",
        "num_epochs = 241\n",
        "num_episodes = 100\n",
        "save_path = \"./results/models/omniglot_train_reptile0.h5\"\n",
        "\n",
        "@tf.function\n",
        "def loss(support, query):\n",
        "  loss, acc = model(support, query)\n",
        "  return loss, acc\n",
        "\n",
        "@tf.function\n",
        "def train_step(support, query, optimizer):\n",
        "  with tf.GradientTape() as tape:\n",
        "    loss, acc = model(support, query)\n",
        "  gradients = tape.gradient(loss, model.trainable_variables)\n",
        "  optimizer.apply_gradients(\n",
        "        zip(gradients, model.trainable_variables))\n",
        "  \n",
        "  train_loss(loss)\n",
        "  train_acc(acc)\n",
        "  \n",
        "\n",
        "@tf.function\n",
        "def val_step(support, query, optimizer):\n",
        "  with tf.GradientTape() as tape:\n",
        "    loss, acc = model(support, query)\n",
        "  gradients = tape.gradient(loss, model.trainable_variables)\n",
        "  optimizer.apply_gradients(\n",
        "        zip(gradients, model.trainable_variables))\n",
        "  \n",
        "  val_loss(loss)\n",
        "  val_acc(acc)\n",
        "\n",
        "\n",
        "least_loss = {'least_loss': 100.00}\n",
        "for epoch in range(num_epochs):\n",
        "  train_loss.reset_states()\n",
        "  val_loss.reset_states()\n",
        "  train_acc.reset_states()\n",
        "  val_acc.reset_states()\n",
        "\n",
        "  for episode in range(num_episodes):\n",
        "    frac_done = episode / num_episodes\n",
        "    cur_meta_step_size = (1 - frac_done) * meta_step_size\n",
        "    train_support, train_query = get_next_episode(train_dataset, num_way, num_shot, num_query, no_train_classes)\n",
        "    \n",
        "    model = Prototypical(train_support, train_query, img_width, img_height, channels)\n",
        "    model.call(train_support, train_query)\n",
        "    old_weights = model.get_weights()\n",
        "    train_step(train_support, train_query, optimizer_sgd)\n",
        "    new_weights = model.get_weights()\n",
        "\n",
        "    for part_weight in range(len(new_weights)):\n",
        "        new_weights[part_weight] = old_weights[part_weight] + (\n",
        "            (new_weights[part_weight] - old_weights[part_weight]) * cur_meta_step_size\n",
        "        )\n",
        "\n",
        "    model.set_weights(new_weights)\n",
        "    if epoch % eval_interval == 0:\n",
        "      eval_support, eval_query = get_next_episode(train_dataset, num_way, num_shot, num_query, no_train_classes)\n",
        "      old_vars = model.get_weights()\n",
        "      val_step(eval_support, eval_query, optimizer_adam)\n",
        "      model.set_weights(old_vars)\n",
        "      \n",
        "  cur_loss = val_loss.result().numpy()\n",
        "\n",
        "  if (epoch % eval_interval == 0):\n",
        "    template = 'Epoch {}, Loss: {}, Accuracy: {}, ' \\\n",
        "                  'Val Loss: {}, Val Accuracy: {}'\n",
        "    print(template.format(epoch + 1, train_loss.result(), train_acc.result() * 100, val_loss.result(),\n",
        "                            val_acc.result() * 100))\n",
        "    if cur_loss < least_loss['least_loss']:\n",
        "      print(\"Saving new best model with loss: \", cur_loss)\n",
        "      least_loss['least_loss'] = cur_loss\n",
        "      model.save(save_path)"
      ],
      "metadata": {
        "colab": {
          "base_uri": "https://localhost:8080/"
        },
        "id": "IHJFZVni6Cmv",
        "outputId": "f8daca3d-7863-42ea-c443-fde70f78eb75"
      },
      "execution_count": 23,
      "outputs": [
        {
          "output_type": "stream",
          "name": "stderr",
          "text": [
            "WARNING:tensorflow:Compiled the loaded model, but the compiled metrics have yet to be built. `model.compile_metrics` will be empty until you train or evaluate the model.\n"
          ]
        },
        {
          "output_type": "stream",
          "name": "stdout",
          "text": [
            "Epoch 1, Loss: 1.5062423944473267, Accuracy: 65.39667510986328, Val Loss: 1.534399390220642, Val Accuracy: 65.55000305175781\n",
            "Saving new best model with loss:  1.5343994\n"
          ]
        },
        {
          "output_type": "stream",
          "name": "stderr",
          "text": [
            "WARNING:tensorflow:Compiled the loaded model, but the compiled metrics have yet to be built. `model.compile_metrics` will be empty until you train or evaluate the model.\n"
          ]
        },
        {
          "output_type": "stream",
          "name": "stdout",
          "text": [
            "Epoch 5, Loss: 0.5645511746406555, Accuracy: 84.56001281738281, Val Loss: 0.5675460696220398, Val Accuracy: 84.68998718261719\n",
            "Saving new best model with loss:  0.56754607\n"
          ]
        },
        {
          "output_type": "stream",
          "name": "stderr",
          "text": [
            "WARNING:tensorflow:Compiled the loaded model, but the compiled metrics have yet to be built. `model.compile_metrics` will be empty until you train or evaluate the model.\n"
          ]
        },
        {
          "output_type": "stream",
          "name": "stdout",
          "text": [
            "Epoch 9, Loss: 0.3253828287124634, Accuracy: 90.81998443603516, Val Loss: 0.33602410554885864, Val Accuracy: 90.38001251220703\n",
            "Saving new best model with loss:  0.3360241\n"
          ]
        },
        {
          "output_type": "stream",
          "name": "stderr",
          "text": [
            "WARNING:tensorflow:Compiled the loaded model, but the compiled metrics have yet to be built. `model.compile_metrics` will be empty until you train or evaluate the model.\n"
          ]
        },
        {
          "output_type": "stream",
          "name": "stdout",
          "text": [
            "Epoch 13, Loss: 0.25109007954597473, Accuracy: 92.83332061767578, Val Loss: 0.2403283715248108, Val Accuracy: 93.19664764404297\n",
            "Saving new best model with loss:  0.24032837\n"
          ]
        },
        {
          "output_type": "stream",
          "name": "stderr",
          "text": [
            "WARNING:tensorflow:Compiled the loaded model, but the compiled metrics have yet to be built. `model.compile_metrics` will be empty until you train or evaluate the model.\n"
          ]
        },
        {
          "output_type": "stream",
          "name": "stdout",
          "text": [
            "Epoch 17, Loss: 0.21814675629138947, Accuracy: 93.75997924804688, Val Loss: 0.2108759880065918, Val Accuracy: 93.95664978027344\n",
            "Saving new best model with loss:  0.21087599\n"
          ]
        },
        {
          "output_type": "stream",
          "name": "stderr",
          "text": [
            "WARNING:tensorflow:Compiled the loaded model, but the compiled metrics have yet to be built. `model.compile_metrics` will be empty until you train or evaluate the model.\n"
          ]
        },
        {
          "output_type": "stream",
          "name": "stdout",
          "text": [
            "Epoch 21, Loss: 0.1934673935174942, Accuracy: 94.67998504638672, Val Loss: 0.18680429458618164, Val Accuracy: 94.61332702636719\n",
            "Saving new best model with loss:  0.1868043\n"
          ]
        },
        {
          "output_type": "stream",
          "name": "stderr",
          "text": [
            "WARNING:tensorflow:Compiled the loaded model, but the compiled metrics have yet to be built. `model.compile_metrics` will be empty until you train or evaluate the model.\n"
          ]
        },
        {
          "output_type": "stream",
          "name": "stdout",
          "text": [
            "Epoch 25, Loss: 0.17535510659217834, Accuracy: 94.96666717529297, Val Loss: 0.17445963621139526, Val Accuracy: 95.13663482666016\n",
            "Saving new best model with loss:  0.17445964\n"
          ]
        },
        {
          "output_type": "stream",
          "name": "stderr",
          "text": [
            "WARNING:tensorflow:Compiled the loaded model, but the compiled metrics have yet to be built. `model.compile_metrics` will be empty until you train or evaluate the model.\n"
          ]
        },
        {
          "output_type": "stream",
          "name": "stdout",
          "text": [
            "Epoch 29, Loss: 0.17094850540161133, Accuracy: 95.0799560546875, Val Loss: 0.17354947328567505, Val Accuracy: 94.94664001464844\n",
            "Saving new best model with loss:  0.17354947\n"
          ]
        },
        {
          "output_type": "stream",
          "name": "stderr",
          "text": [
            "WARNING:tensorflow:Compiled the loaded model, but the compiled metrics have yet to be built. `model.compile_metrics` will be empty until you train or evaluate the model.\n"
          ]
        },
        {
          "output_type": "stream",
          "name": "stdout",
          "text": [
            "Epoch 33, Loss: 0.14992772042751312, Accuracy: 95.50666046142578, Val Loss: 0.15987858176231384, Val Accuracy: 95.49665832519531\n",
            "Saving new best model with loss:  0.15987858\n"
          ]
        },
        {
          "output_type": "stream",
          "name": "stderr",
          "text": [
            "WARNING:tensorflow:Compiled the loaded model, but the compiled metrics have yet to be built. `model.compile_metrics` will be empty until you train or evaluate the model.\n"
          ]
        },
        {
          "output_type": "stream",
          "name": "stdout",
          "text": [
            "Epoch 37, Loss: 0.14858967065811157, Accuracy: 95.72665405273438, Val Loss: 0.1533307433128357, Val Accuracy: 95.40998077392578\n",
            "Saving new best model with loss:  0.15333074\n"
          ]
        },
        {
          "output_type": "stream",
          "name": "stderr",
          "text": [
            "WARNING:tensorflow:Compiled the loaded model, but the compiled metrics have yet to be built. `model.compile_metrics` will be empty until you train or evaluate the model.\n"
          ]
        },
        {
          "output_type": "stream",
          "name": "stdout",
          "text": [
            "Epoch 41, Loss: 0.1381675750017166, Accuracy: 95.9333267211914, Val Loss: 0.1428695172071457, Val Accuracy: 95.99998474121094\n",
            "Saving new best model with loss:  0.14286952\n"
          ]
        },
        {
          "output_type": "stream",
          "name": "stderr",
          "text": [
            "WARNING:tensorflow:Compiled the loaded model, but the compiled metrics have yet to be built. `model.compile_metrics` will be empty until you train or evaluate the model.\n"
          ]
        },
        {
          "output_type": "stream",
          "name": "stdout",
          "text": [
            "Epoch 45, Loss: 0.14077039062976837, Accuracy: 95.90333557128906, Val Loss: 0.13679207861423492, Val Accuracy: 96.17334747314453\n",
            "Saving new best model with loss:  0.13679208\n"
          ]
        },
        {
          "output_type": "stream",
          "name": "stderr",
          "text": [
            "WARNING:tensorflow:Compiled the loaded model, but the compiled metrics have yet to be built. `model.compile_metrics` will be empty until you train or evaluate the model.\n"
          ]
        },
        {
          "output_type": "stream",
          "name": "stdout",
          "text": [
            "Epoch 49, Loss: 0.12903937697410583, Accuracy: 96.43331909179688, Val Loss: 0.13245835900306702, Val Accuracy: 96.07999420166016\n",
            "Saving new best model with loss:  0.13245836\n"
          ]
        },
        {
          "output_type": "stream",
          "name": "stderr",
          "text": [
            "WARNING:tensorflow:Compiled the loaded model, but the compiled metrics have yet to be built. `model.compile_metrics` will be empty until you train or evaluate the model.\n"
          ]
        },
        {
          "output_type": "stream",
          "name": "stdout",
          "text": [
            "Epoch 53, Loss: 0.13278600573539734, Accuracy: 96.12664794921875, Val Loss: 0.12212850898504257, Val Accuracy: 96.36666107177734\n",
            "Saving new best model with loss:  0.12212851\n"
          ]
        },
        {
          "output_type": "stream",
          "name": "stderr",
          "text": [
            "WARNING:tensorflow:Compiled the loaded model, but the compiled metrics have yet to be built. `model.compile_metrics` will be empty until you train or evaluate the model.\n"
          ]
        },
        {
          "output_type": "stream",
          "name": "stdout",
          "text": [
            "Epoch 57, Loss: 0.11669649928808212, Accuracy: 96.58000946044922, Val Loss: 0.12099897116422653, Val Accuracy: 96.39334869384766\n",
            "Saving new best model with loss:  0.12099897\n",
            "Epoch 61, Loss: 0.10465839505195618, Accuracy: 96.72999572753906, Val Loss: 0.1215125247836113, Val Accuracy: 96.58667755126953\n"
          ]
        },
        {
          "output_type": "stream",
          "name": "stderr",
          "text": [
            "WARNING:tensorflow:Compiled the loaded model, but the compiled metrics have yet to be built. `model.compile_metrics` will be empty until you train or evaluate the model.\n"
          ]
        },
        {
          "output_type": "stream",
          "name": "stdout",
          "text": [
            "Epoch 65, Loss: 0.11495956778526306, Accuracy: 96.56665802001953, Val Loss: 0.11471110582351685, Val Accuracy: 96.72001647949219\n",
            "Saving new best model with loss:  0.114711106\n"
          ]
        },
        {
          "output_type": "stream",
          "name": "stderr",
          "text": [
            "WARNING:tensorflow:Compiled the loaded model, but the compiled metrics have yet to be built. `model.compile_metrics` will be empty until you train or evaluate the model.\n"
          ]
        },
        {
          "output_type": "stream",
          "name": "stdout",
          "text": [
            "Epoch 69, Loss: 0.10859204083681107, Accuracy: 96.9466781616211, Val Loss: 0.11390692740678787, Val Accuracy: 96.75334167480469\n",
            "Saving new best model with loss:  0.11390693\n"
          ]
        },
        {
          "output_type": "stream",
          "name": "stderr",
          "text": [
            "WARNING:tensorflow:Compiled the loaded model, but the compiled metrics have yet to be built. `model.compile_metrics` will be empty until you train or evaluate the model.\n"
          ]
        },
        {
          "output_type": "stream",
          "name": "stdout",
          "text": [
            "Epoch 73, Loss: 0.10960789024829865, Accuracy: 96.836669921875, Val Loss: 0.10245170444250107, Val Accuracy: 96.96332550048828\n",
            "Saving new best model with loss:  0.102451704\n",
            "Epoch 77, Loss: 0.10231249034404755, Accuracy: 96.9767074584961, Val Loss: 0.10789843648672104, Val Accuracy: 97.00000762939453\n",
            "Epoch 81, Loss: 0.10448313504457474, Accuracy: 97.00001525878906, Val Loss: 0.10534705966711044, Val Accuracy: 96.86000061035156\n"
          ]
        },
        {
          "output_type": "stream",
          "name": "stderr",
          "text": [
            "WARNING:tensorflow:Compiled the loaded model, but the compiled metrics have yet to be built. `model.compile_metrics` will be empty until you train or evaluate the model.\n"
          ]
        },
        {
          "output_type": "stream",
          "name": "stdout",
          "text": [
            "Epoch 85, Loss: 0.0963558480143547, Accuracy: 97.16666412353516, Val Loss: 0.09785986691713333, Val Accuracy: 97.16333770751953\n",
            "Saving new best model with loss:  0.09785987\n"
          ]
        },
        {
          "output_type": "stream",
          "name": "stderr",
          "text": [
            "WARNING:tensorflow:Compiled the loaded model, but the compiled metrics have yet to be built. `model.compile_metrics` will be empty until you train or evaluate the model.\n"
          ]
        },
        {
          "output_type": "stream",
          "name": "stdout",
          "text": [
            "Epoch 89, Loss: 0.09173659980297089, Accuracy: 97.36668395996094, Val Loss: 0.08927443623542786, Val Accuracy: 97.3933334350586\n",
            "Saving new best model with loss:  0.089274436\n"
          ]
        },
        {
          "output_type": "stream",
          "name": "stderr",
          "text": [
            "WARNING:tensorflow:Compiled the loaded model, but the compiled metrics have yet to be built. `model.compile_metrics` will be empty until you train or evaluate the model.\n"
          ]
        },
        {
          "output_type": "stream",
          "name": "stdout",
          "text": [
            "Epoch 93, Loss: 0.08714421093463898, Accuracy: 97.47665405273438, Val Loss: 0.08654215931892395, Val Accuracy: 97.42667388916016\n",
            "Saving new best model with loss:  0.08654216\n",
            "Epoch 97, Loss: 0.09014296531677246, Accuracy: 97.35668182373047, Val Loss: 0.09032967686653137, Val Accuracy: 97.3166732788086\n",
            "Epoch 101, Loss: 0.09032999724149704, Accuracy: 97.34000396728516, Val Loss: 0.09109177440404892, Val Accuracy: 97.27002716064453\n"
          ]
        },
        {
          "output_type": "stream",
          "name": "stderr",
          "text": [
            "WARNING:tensorflow:Compiled the loaded model, but the compiled metrics have yet to be built. `model.compile_metrics` will be empty until you train or evaluate the model.\n"
          ]
        },
        {
          "output_type": "stream",
          "name": "stdout",
          "text": [
            "Epoch 105, Loss: 0.07244934886693954, Accuracy: 97.81000518798828, Val Loss: 0.085663340985775, Val Accuracy: 97.5300064086914\n",
            "Saving new best model with loss:  0.08566334\n"
          ]
        },
        {
          "output_type": "stream",
          "name": "stderr",
          "text": [
            "WARNING:tensorflow:Compiled the loaded model, but the compiled metrics have yet to be built. `model.compile_metrics` will be empty until you train or evaluate the model.\n"
          ]
        },
        {
          "output_type": "stream",
          "name": "stdout",
          "text": [
            "Epoch 109, Loss: 0.07231861352920532, Accuracy: 97.816650390625, Val Loss: 0.07462868839502335, Val Accuracy: 97.85668182373047\n",
            "Saving new best model with loss:  0.07462869\n",
            "Epoch 113, Loss: 0.08488763123750687, Accuracy: 97.39998626708984, Val Loss: 0.08205202221870422, Val Accuracy: 97.61998748779297\n",
            "Epoch 117, Loss: 0.07680276781320572, Accuracy: 97.71333312988281, Val Loss: 0.08500378578901291, Val Accuracy: 97.41665649414062\n"
          ]
        },
        {
          "output_type": "stream",
          "name": "stderr",
          "text": [
            "WARNING:tensorflow:Compiled the loaded model, but the compiled metrics have yet to be built. `model.compile_metrics` will be empty until you train or evaluate the model.\n"
          ]
        },
        {
          "output_type": "stream",
          "name": "stdout",
          "text": [
            "Epoch 121, Loss: 0.07930541038513184, Accuracy: 97.77332305908203, Val Loss: 0.0705096423625946, Val Accuracy: 97.89002990722656\n",
            "Saving new best model with loss:  0.07050964\n",
            "Epoch 125, Loss: 0.06691918522119522, Accuracy: 97.9732894897461, Val Loss: 0.07690373063087463, Val Accuracy: 97.75666046142578\n",
            "Epoch 129, Loss: 0.07669711858034134, Accuracy: 97.586669921875, Val Loss: 0.07658062130212784, Val Accuracy: 97.69666290283203\n",
            "Epoch 133, Loss: 0.07282193005084991, Accuracy: 97.82664489746094, Val Loss: 0.07250259071588516, Val Accuracy: 97.72334289550781\n",
            "Epoch 137, Loss: 0.07340239733457565, Accuracy: 97.74667358398438, Val Loss: 0.07449744641780853, Val Accuracy: 97.66666412353516\n",
            "Epoch 141, Loss: 0.07206247001886368, Accuracy: 97.87334442138672, Val Loss: 0.07100342214107513, Val Accuracy: 97.87999725341797\n"
          ]
        },
        {
          "output_type": "stream",
          "name": "stderr",
          "text": [
            "WARNING:tensorflow:Compiled the loaded model, but the compiled metrics have yet to be built. `model.compile_metrics` will be empty until you train or evaluate the model.\n"
          ]
        },
        {
          "output_type": "stream",
          "name": "stdout",
          "text": [
            "Epoch 145, Loss: 0.07218322157859802, Accuracy: 97.91999816894531, Val Loss: 0.06482996046543121, Val Accuracy: 97.9666748046875\n",
            "Saving new best model with loss:  0.06482996\n",
            "Epoch 149, Loss: 0.06644316017627716, Accuracy: 97.90666198730469, Val Loss: 0.06819895654916763, Val Accuracy: 97.97669982910156\n"
          ]
        },
        {
          "output_type": "stream",
          "name": "stderr",
          "text": [
            "WARNING:tensorflow:Compiled the loaded model, but the compiled metrics have yet to be built. `model.compile_metrics` will be empty until you train or evaluate the model.\n"
          ]
        },
        {
          "output_type": "stream",
          "name": "stdout",
          "text": [
            "Epoch 153, Loss: 0.07064341753721237, Accuracy: 97.89998626708984, Val Loss: 0.06364583969116211, Val Accuracy: 97.93668365478516\n",
            "Saving new best model with loss:  0.06364584\n",
            "Epoch 157, Loss: 0.06660594791173935, Accuracy: 97.8266830444336, Val Loss: 0.06763284653425217, Val Accuracy: 97.90003204345703\n"
          ]
        },
        {
          "output_type": "stream",
          "name": "stderr",
          "text": [
            "WARNING:tensorflow:Compiled the loaded model, but the compiled metrics have yet to be built. `model.compile_metrics` will be empty until you train or evaluate the model.\n"
          ]
        },
        {
          "output_type": "stream",
          "name": "stdout",
          "text": [
            "Epoch 161, Loss: 0.06180991977453232, Accuracy: 98.05999755859375, Val Loss: 0.059995800256729126, Val Accuracy: 98.20999908447266\n",
            "Saving new best model with loss:  0.0599958\n"
          ]
        },
        {
          "output_type": "stream",
          "name": "stderr",
          "text": [
            "WARNING:tensorflow:Compiled the loaded model, but the compiled metrics have yet to be built. `model.compile_metrics` will be empty until you train or evaluate the model.\n"
          ]
        },
        {
          "output_type": "stream",
          "name": "stdout",
          "text": [
            "Epoch 165, Loss: 0.05534041300415993, Accuracy: 98.32000732421875, Val Loss: 0.05855554714798927, Val Accuracy: 98.13998413085938\n",
            "Saving new best model with loss:  0.058555547\n",
            "Epoch 169, Loss: 0.05830049142241478, Accuracy: 98.12996673583984, Val Loss: 0.05952426418662071, Val Accuracy: 98.10997009277344\n"
          ]
        },
        {
          "output_type": "stream",
          "name": "stderr",
          "text": [
            "WARNING:tensorflow:Compiled the loaded model, but the compiled metrics have yet to be built. `model.compile_metrics` will be empty until you train or evaluate the model.\n"
          ]
        },
        {
          "output_type": "stream",
          "name": "stdout",
          "text": [
            "Epoch 173, Loss: 0.06476714462041855, Accuracy: 98.04664611816406, Val Loss: 0.05787741765379906, Val Accuracy: 98.11000061035156\n",
            "Saving new best model with loss:  0.057877418\n"
          ]
        },
        {
          "output_type": "stream",
          "name": "stderr",
          "text": [
            "WARNING:tensorflow:Compiled the loaded model, but the compiled metrics have yet to be built. `model.compile_metrics` will be empty until you train or evaluate the model.\n"
          ]
        },
        {
          "output_type": "stream",
          "name": "stdout",
          "text": [
            "Epoch 177, Loss: 0.05526799336075783, Accuracy: 98.25332641601562, Val Loss: 0.0575527586042881, Val Accuracy: 98.23998260498047\n",
            "Saving new best model with loss:  0.05755276\n",
            "Epoch 181, Loss: 0.05736425891518593, Accuracy: 98.15664672851562, Val Loss: 0.06108621135354042, Val Accuracy: 98.10002136230469\n",
            "Epoch 185, Loss: 0.0550750195980072, Accuracy: 98.20999145507812, Val Loss: 0.06354694813489914, Val Accuracy: 97.97332000732422\n"
          ]
        },
        {
          "output_type": "stream",
          "name": "stderr",
          "text": [
            "WARNING:tensorflow:Compiled the loaded model, but the compiled metrics have yet to be built. `model.compile_metrics` will be empty until you train or evaluate the model.\n"
          ]
        },
        {
          "output_type": "stream",
          "name": "stdout",
          "text": [
            "Epoch 189, Loss: 0.054399359971284866, Accuracy: 98.22333526611328, Val Loss: 0.05400128662586212, Val Accuracy: 98.35999298095703\n",
            "Saving new best model with loss:  0.054001287\n"
          ]
        },
        {
          "output_type": "stream",
          "name": "stderr",
          "text": [
            "WARNING:tensorflow:Compiled the loaded model, but the compiled metrics have yet to be built. `model.compile_metrics` will be empty until you train or evaluate the model.\n"
          ]
        },
        {
          "output_type": "stream",
          "name": "stdout",
          "text": [
            "Epoch 193, Loss: 0.054537512362003326, Accuracy: 98.37665557861328, Val Loss: 0.0524386502802372, Val Accuracy: 98.36331176757812\n",
            "Saving new best model with loss:  0.05243865\n",
            "Epoch 197, Loss: 0.053780246526002884, Accuracy: 98.28997802734375, Val Loss: 0.05883496254682541, Val Accuracy: 98.07667541503906\n",
            "Epoch 201, Loss: 0.05303064361214638, Accuracy: 98.3299560546875, Val Loss: 0.055257946252822876, Val Accuracy: 98.29666137695312\n"
          ]
        },
        {
          "output_type": "stream",
          "name": "stderr",
          "text": [
            "WARNING:tensorflow:Compiled the loaded model, but the compiled metrics have yet to be built. `model.compile_metrics` will be empty until you train or evaluate the model.\n"
          ]
        },
        {
          "output_type": "stream",
          "name": "stdout",
          "text": [
            "Epoch 205, Loss: 0.052976205945014954, Accuracy: 98.39665985107422, Val Loss: 0.04552629962563515, Val Accuracy: 98.51995849609375\n",
            "Saving new best model with loss:  0.0455263\n",
            "Epoch 209, Loss: 0.051373306661844254, Accuracy: 98.35332489013672, Val Loss: 0.05278395116329193, Val Accuracy: 98.2933349609375\n",
            "Epoch 213, Loss: 0.05315212160348892, Accuracy: 98.23663330078125, Val Loss: 0.05116524547338486, Val Accuracy: 98.29663848876953\n",
            "Epoch 217, Loss: 0.04985051229596138, Accuracy: 98.48330688476562, Val Loss: 0.04787299782037735, Val Accuracy: 98.36997985839844\n",
            "Epoch 221, Loss: 0.048713792115449905, Accuracy: 98.30663299560547, Val Loss: 0.0480974055826664, Val Accuracy: 98.42664337158203\n",
            "Epoch 225, Loss: 0.049977127462625504, Accuracy: 98.37332153320312, Val Loss: 0.05241459235548973, Val Accuracy: 98.35330200195312\n",
            "Epoch 229, Loss: 0.050369992852211, Accuracy: 98.35665893554688, Val Loss: 0.046472545713186264, Val Accuracy: 98.47332763671875\n",
            "Epoch 233, Loss: 0.04515768587589264, Accuracy: 98.5132827758789, Val Loss: 0.0469575934112072, Val Accuracy: 98.39331817626953\n",
            "Epoch 237, Loss: 0.04671917110681534, Accuracy: 98.54331970214844, Val Loss: 0.04756598174571991, Val Accuracy: 98.45330810546875\n",
            "Epoch 241, Loss: 0.049940869212150574, Accuracy: 98.3699951171875, Val Loss: 0.05397486314177513, Val Accuracy: 98.30329895019531\n"
          ]
        }
      ]
    },
    {
      "cell_type": "code",
      "source": [
        "#Combi Proto + Reptile for second values from the list ie 60-way 1-shot experiment\n",
        "\n",
        "meta_step_size = 0.25\n",
        "\n",
        "#Interval between running SGD on the validation dataset\n",
        "eval_interval = 4\n",
        "\n",
        "#number of classes\n",
        "num_way = train_num_ways[1]\n",
        "\n",
        "#number of examples per class for support set\n",
        "num_shot = num_shots[1]  \n",
        "\n",
        "#number of query points\n",
        "num_query = num_shots[1] \n",
        "\n",
        "\n",
        "train_loss = tf.metrics.Mean(name='train_loss')\n",
        "val_loss = tf.metrics.Mean(name='val_loss')\n",
        "train_acc = tf.metrics.Mean(name='train_accuracy')\n",
        "val_acc = tf.metrics.Mean(name='val_accuracy')\n",
        "support = np.zeros([num_way, num_shot, img_height, img_width, channels], dtype=np.float32)\n",
        "query = np.zeros([num_way, num_shot, img_height, img_width, channels], dtype=np.float32)\n",
        "model = Prototypical(support, query, img_height, img_width, channels)\n",
        "optimizer_adam = tf.keras.optimizers.Adam(learning_rate, beta_1=0)\n",
        "optimizer_sgd = tf.keras.optimizers.SGD(learning_rate)\n",
        "\n",
        "num_epochs = 241\n",
        "num_episodes = 100\n",
        "save_path = \"./results/models/omniglot_train_reptile1.h5\"\n",
        "\n",
        "@tf.function\n",
        "def loss(support, query):\n",
        "  loss, acc = model(support, query)\n",
        "  return loss, acc\n",
        "\n",
        "@tf.function\n",
        "def train_step(support, query, optimizer):\n",
        "  with tf.GradientTape() as tape:\n",
        "    loss, acc = model(support, query)\n",
        "  gradients = tape.gradient(loss, model.trainable_variables)\n",
        "  optimizer.apply_gradients(\n",
        "        zip(gradients, model.trainable_variables))\n",
        "  \n",
        "  train_loss(loss)\n",
        "  train_acc(acc)\n",
        "  \n",
        "\n",
        "@tf.function\n",
        "def val_step(support, query, optimizer):\n",
        "  with tf.GradientTape() as tape:\n",
        "    loss, acc = model(support, query)\n",
        "  gradients = tape.gradient(loss, model.trainable_variables)\n",
        "  optimizer.apply_gradients(\n",
        "        zip(gradients, model.trainable_variables))\n",
        "  \n",
        "  val_loss(loss)\n",
        "  val_acc(acc)\n",
        "\n",
        "\n",
        "least_loss = {'least_loss': 100.00}\n",
        "for epoch in range(num_epochs):\n",
        "  train_loss.reset_states()\n",
        "  val_loss.reset_states()\n",
        "  train_acc.reset_states()\n",
        "  val_acc.reset_states()\n",
        "\n",
        "  for episode in range(num_episodes):\n",
        "    frac_done = episode / num_episodes\n",
        "    cur_meta_step_size = (1 - frac_done) * meta_step_size\n",
        "    train_support, train_query = get_next_episode(train_dataset, num_way, num_shot, num_query, no_train_classes)\n",
        "    \n",
        "    model = Prototypical(train_support, train_query, img_width, img_height, channels)\n",
        "    model.call(train_support, train_query)\n",
        "    old_weights = model.get_weights()\n",
        "    train_step(train_support, train_query, optimizer_sgd)\n",
        "    new_weights = model.get_weights()\n",
        "\n",
        "    for part_weight in range(len(new_weights)):\n",
        "        new_weights[part_weight] = old_weights[part_weight] + (\n",
        "            (new_weights[part_weight] - old_weights[part_weight]) * cur_meta_step_size\n",
        "        )\n",
        "\n",
        "    model.set_weights(new_weights)\n",
        "    if epoch % eval_interval == 0:\n",
        "      eval_support, eval_query = get_next_episode(train_dataset, num_way, num_shot, num_query, no_train_classes)\n",
        "      old_vars = model.get_weights()\n",
        "      val_step(eval_support, eval_query, optimizer_adam)\n",
        "      model.set_weights(old_vars)\n",
        "      \n",
        "  cur_loss = val_loss.result().numpy()\n",
        "\n",
        "  if (epoch % eval_interval == 0):\n",
        "    template = 'Epoch {}, Loss: {}, Accuracy: {}, ' \\\n",
        "                  'Val Loss: {}, Val Accuracy: {}'\n",
        "    print(template.format(epoch + 1, train_loss.result(), train_acc.result() * 100, val_loss.result(),\n",
        "                            val_acc.result() * 100))\n",
        "    if cur_loss < least_loss['least_loss']:\n",
        "      print(\"Saving new best model with loss: \", cur_loss)\n",
        "      least_loss['least_loss'] = cur_loss\n",
        "      model.save(save_path)"
      ],
      "metadata": {
        "colab": {
          "base_uri": "https://localhost:8080/"
        },
        "id": "1nWKj5NIJmT1",
        "outputId": "c4605be9-a23f-436d-f85c-b201c7bed837"
      },
      "execution_count": 24,
      "outputs": [
        {
          "output_type": "stream",
          "name": "stderr",
          "text": [
            "WARNING:tensorflow:Compiled the loaded model, but the compiled metrics have yet to be built. `model.compile_metrics` will be empty until you train or evaluate the model.\n"
          ]
        },
        {
          "output_type": "stream",
          "name": "stdout",
          "text": [
            "Epoch 1, Loss: 2.6033387184143066, Accuracy: 40.98332977294922, Val Loss: 2.576746940612793, Val Accuracy: 41.04999923706055\n",
            "Saving new best model with loss:  2.576747\n"
          ]
        },
        {
          "output_type": "stream",
          "name": "stderr",
          "text": [
            "WARNING:tensorflow:Compiled the loaded model, but the compiled metrics have yet to be built. `model.compile_metrics` will be empty until you train or evaluate the model.\n"
          ]
        },
        {
          "output_type": "stream",
          "name": "stdout",
          "text": [
            "Epoch 5, Loss: 1.7560092210769653, Accuracy: 56.23332214355469, Val Loss: 1.7480398416519165, Val Accuracy: 55.94999313354492\n",
            "Saving new best model with loss:  1.7480398\n"
          ]
        },
        {
          "output_type": "stream",
          "name": "stderr",
          "text": [
            "WARNING:tensorflow:Compiled the loaded model, but the compiled metrics have yet to be built. `model.compile_metrics` will be empty until you train or evaluate the model.\n"
          ]
        },
        {
          "output_type": "stream",
          "name": "stdout",
          "text": [
            "Epoch 9, Loss: 1.218807339668274, Accuracy: 68.01668548583984, Val Loss: 1.1998348236083984, Val Accuracy: 68.35002136230469\n",
            "Saving new best model with loss:  1.1998348\n"
          ]
        },
        {
          "output_type": "stream",
          "name": "stderr",
          "text": [
            "WARNING:tensorflow:Compiled the loaded model, but the compiled metrics have yet to be built. `model.compile_metrics` will be empty until you train or evaluate the model.\n"
          ]
        },
        {
          "output_type": "stream",
          "name": "stdout",
          "text": [
            "Epoch 13, Loss: 0.8729893565177917, Accuracy: 75.8833236694336, Val Loss: 0.9005581140518188, Val Accuracy: 75.55000305175781\n",
            "Saving new best model with loss:  0.9005581\n"
          ]
        },
        {
          "output_type": "stream",
          "name": "stderr",
          "text": [
            "WARNING:tensorflow:Compiled the loaded model, but the compiled metrics have yet to be built. `model.compile_metrics` will be empty until you train or evaluate the model.\n"
          ]
        },
        {
          "output_type": "stream",
          "name": "stdout",
          "text": [
            "Epoch 17, Loss: 0.7501782774925232, Accuracy: 79.44998931884766, Val Loss: 0.7413337826728821, Val Accuracy: 79.44998931884766\n",
            "Saving new best model with loss:  0.7413338\n"
          ]
        },
        {
          "output_type": "stream",
          "name": "stderr",
          "text": [
            "WARNING:tensorflow:Compiled the loaded model, but the compiled metrics have yet to be built. `model.compile_metrics` will be empty until you train or evaluate the model.\n"
          ]
        },
        {
          "output_type": "stream",
          "name": "stdout",
          "text": [
            "Epoch 21, Loss: 0.6730606555938721, Accuracy: 81.41667175292969, Val Loss: 0.6669648885726929, Val Accuracy: 81.41665649414062\n",
            "Saving new best model with loss:  0.6669649\n"
          ]
        },
        {
          "output_type": "stream",
          "name": "stderr",
          "text": [
            "WARNING:tensorflow:Compiled the loaded model, but the compiled metrics have yet to be built. `model.compile_metrics` will be empty until you train or evaluate the model.\n"
          ]
        },
        {
          "output_type": "stream",
          "name": "stdout",
          "text": [
            "Epoch 25, Loss: 0.6462421417236328, Accuracy: 81.28330993652344, Val Loss: 0.6190152168273926, Val Accuracy: 82.61666107177734\n",
            "Saving new best model with loss:  0.6190152\n"
          ]
        },
        {
          "output_type": "stream",
          "name": "stderr",
          "text": [
            "WARNING:tensorflow:Compiled the loaded model, but the compiled metrics have yet to be built. `model.compile_metrics` will be empty until you train or evaluate the model.\n"
          ]
        },
        {
          "output_type": "stream",
          "name": "stdout",
          "text": [
            "Epoch 29, Loss: 0.5937665700912476, Accuracy: 83.73331451416016, Val Loss: 0.6171714663505554, Val Accuracy: 82.84998321533203\n",
            "Saving new best model with loss:  0.61717147\n"
          ]
        },
        {
          "output_type": "stream",
          "name": "stderr",
          "text": [
            "WARNING:tensorflow:Compiled the loaded model, but the compiled metrics have yet to be built. `model.compile_metrics` will be empty until you train or evaluate the model.\n"
          ]
        },
        {
          "output_type": "stream",
          "name": "stdout",
          "text": [
            "Epoch 33, Loss: 0.5191134214401245, Accuracy: 84.6166763305664, Val Loss: 0.567471981048584, Val Accuracy: 84.23333740234375\n",
            "Saving new best model with loss:  0.567472\n",
            "Epoch 37, Loss: 0.5327808260917664, Accuracy: 84.91667175292969, Val Loss: 0.569898247718811, Val Accuracy: 84.14999389648438\n"
          ]
        },
        {
          "output_type": "stream",
          "name": "stderr",
          "text": [
            "WARNING:tensorflow:Compiled the loaded model, but the compiled metrics have yet to be built. `model.compile_metrics` will be empty until you train or evaluate the model.\n"
          ]
        },
        {
          "output_type": "stream",
          "name": "stdout",
          "text": [
            "Epoch 41, Loss: 0.4995056390762329, Accuracy: 85.54998779296875, Val Loss: 0.4828377068042755, Val Accuracy: 86.03335571289062\n",
            "Saving new best model with loss:  0.4828377\n",
            "Epoch 45, Loss: 0.4843531548976898, Accuracy: 85.91665649414062, Val Loss: 0.48674947023391724, Val Accuracy: 86.36669921875\n"
          ]
        },
        {
          "output_type": "stream",
          "name": "stderr",
          "text": [
            "WARNING:tensorflow:Compiled the loaded model, but the compiled metrics have yet to be built. `model.compile_metrics` will be empty until you train or evaluate the model.\n"
          ]
        },
        {
          "output_type": "stream",
          "name": "stdout",
          "text": [
            "Epoch 49, Loss: 0.4435310661792755, Accuracy: 86.8499984741211, Val Loss: 0.4413152039051056, Val Accuracy: 86.58334350585938\n",
            "Saving new best model with loss:  0.4413152\n"
          ]
        },
        {
          "output_type": "stream",
          "name": "stderr",
          "text": [
            "WARNING:tensorflow:Compiled the loaded model, but the compiled metrics have yet to be built. `model.compile_metrics` will be empty until you train or evaluate the model.\n"
          ]
        },
        {
          "output_type": "stream",
          "name": "stdout",
          "text": [
            "Epoch 53, Loss: 0.44662415981292725, Accuracy: 87.4999771118164, Val Loss: 0.4246196448802948, Val Accuracy: 87.80000305175781\n",
            "Saving new best model with loss:  0.42461964\n",
            "Epoch 57, Loss: 0.43235546350479126, Accuracy: 87.33333587646484, Val Loss: 0.46410396695137024, Val Accuracy: 86.61666870117188\n"
          ]
        },
        {
          "output_type": "stream",
          "name": "stderr",
          "text": [
            "WARNING:tensorflow:Compiled the loaded model, but the compiled metrics have yet to be built. `model.compile_metrics` will be empty until you train or evaluate the model.\n"
          ]
        },
        {
          "output_type": "stream",
          "name": "stdout",
          "text": [
            "Epoch 61, Loss: 0.395089328289032, Accuracy: 88.56666564941406, Val Loss: 0.4057287275791168, Val Accuracy: 88.23332977294922\n",
            "Saving new best model with loss:  0.40572873\n",
            "Epoch 65, Loss: 0.4130925238132477, Accuracy: 88.1833267211914, Val Loss: 0.4181597828865051, Val Accuracy: 88.28334045410156\n"
          ]
        },
        {
          "output_type": "stream",
          "name": "stderr",
          "text": [
            "WARNING:tensorflow:Compiled the loaded model, but the compiled metrics have yet to be built. `model.compile_metrics` will be empty until you train or evaluate the model.\n"
          ]
        },
        {
          "output_type": "stream",
          "name": "stdout",
          "text": [
            "Epoch 69, Loss: 0.4024318754673004, Accuracy: 88.71665954589844, Val Loss: 0.40200015902519226, Val Accuracy: 88.43331909179688\n",
            "Saving new best model with loss:  0.40200016\n"
          ]
        },
        {
          "output_type": "stream",
          "name": "stderr",
          "text": [
            "WARNING:tensorflow:Compiled the loaded model, but the compiled metrics have yet to be built. `model.compile_metrics` will be empty until you train or evaluate the model.\n"
          ]
        },
        {
          "output_type": "stream",
          "name": "stdout",
          "text": [
            "Epoch 73, Loss: 0.3813064992427826, Accuracy: 88.69998168945312, Val Loss: 0.37829458713531494, Val Accuracy: 89.0500259399414\n",
            "Saving new best model with loss:  0.3782946\n"
          ]
        },
        {
          "output_type": "stream",
          "name": "stderr",
          "text": [
            "WARNING:tensorflow:Compiled the loaded model, but the compiled metrics have yet to be built. `model.compile_metrics` will be empty until you train or evaluate the model.\n"
          ]
        },
        {
          "output_type": "stream",
          "name": "stdout",
          "text": [
            "Epoch 77, Loss: 0.3885118067264557, Accuracy: 89.29998016357422, Val Loss: 0.35086002945899963, Val Accuracy: 89.5\n",
            "Saving new best model with loss:  0.35086003\n",
            "Epoch 81, Loss: 0.38140255212783813, Accuracy: 89.48332977294922, Val Loss: 0.3570939004421234, Val Accuracy: 89.25001525878906\n"
          ]
        },
        {
          "output_type": "stream",
          "name": "stderr",
          "text": [
            "WARNING:tensorflow:Compiled the loaded model, but the compiled metrics have yet to be built. `model.compile_metrics` will be empty until you train or evaluate the model.\n"
          ]
        },
        {
          "output_type": "stream",
          "name": "stdout",
          "text": [
            "Epoch 85, Loss: 0.3444972634315491, Accuracy: 90.06666564941406, Val Loss: 0.34407129883766174, Val Accuracy: 89.76666259765625\n",
            "Saving new best model with loss:  0.3440713\n",
            "Epoch 89, Loss: 0.34334155917167664, Accuracy: 90.06669616699219, Val Loss: 0.3639553487300873, Val Accuracy: 89.433349609375\n"
          ]
        },
        {
          "output_type": "stream",
          "name": "stderr",
          "text": [
            "WARNING:tensorflow:Compiled the loaded model, but the compiled metrics have yet to be built. `model.compile_metrics` will be empty until you train or evaluate the model.\n"
          ]
        },
        {
          "output_type": "stream",
          "name": "stdout",
          "text": [
            "Epoch 93, Loss: 0.34783488512039185, Accuracy: 89.95000457763672, Val Loss: 0.32922694087028503, Val Accuracy: 89.76666259765625\n",
            "Saving new best model with loss:  0.32922694\n",
            "Epoch 97, Loss: 0.3368595242500305, Accuracy: 90.61666107177734, Val Loss: 0.3538930416107178, Val Accuracy: 89.7833251953125\n",
            "Epoch 101, Loss: 0.3091639280319214, Accuracy: 91.0, Val Loss: 0.3430728018283844, Val Accuracy: 90.08334350585938\n"
          ]
        },
        {
          "output_type": "stream",
          "name": "stderr",
          "text": [
            "WARNING:tensorflow:Compiled the loaded model, but the compiled metrics have yet to be built. `model.compile_metrics` will be empty until you train or evaluate the model.\n"
          ]
        },
        {
          "output_type": "stream",
          "name": "stdout",
          "text": [
            "Epoch 105, Loss: 0.33324486017227173, Accuracy: 90.4000244140625, Val Loss: 0.32130300998687744, Val Accuracy: 91.35002136230469\n",
            "Saving new best model with loss:  0.321303\n",
            "Epoch 109, Loss: 0.31750863790512085, Accuracy: 90.51668548583984, Val Loss: 0.32648587226867676, Val Accuracy: 90.75001525878906\n"
          ]
        },
        {
          "output_type": "stream",
          "name": "stderr",
          "text": [
            "WARNING:tensorflow:Compiled the loaded model, but the compiled metrics have yet to be built. `model.compile_metrics` will be empty until you train or evaluate the model.\n"
          ]
        },
        {
          "output_type": "stream",
          "name": "stdout",
          "text": [
            "Epoch 113, Loss: 0.3268447518348694, Accuracy: 90.53335571289062, Val Loss: 0.29836785793304443, Val Accuracy: 91.36666870117188\n",
            "Saving new best model with loss:  0.29836786\n",
            "Epoch 117, Loss: 0.2909415364265442, Accuracy: 91.98332214355469, Val Loss: 0.3043321669101715, Val Accuracy: 91.16666412353516\n"
          ]
        },
        {
          "output_type": "stream",
          "name": "stderr",
          "text": [
            "WARNING:tensorflow:Compiled the loaded model, but the compiled metrics have yet to be built. `model.compile_metrics` will be empty until you train or evaluate the model.\n"
          ]
        },
        {
          "output_type": "stream",
          "name": "stdout",
          "text": [
            "Epoch 121, Loss: 0.30339571833610535, Accuracy: 91.23333740234375, Val Loss: 0.29539692401885986, Val Accuracy: 91.51667785644531\n",
            "Saving new best model with loss:  0.29539692\n"
          ]
        },
        {
          "output_type": "stream",
          "name": "stderr",
          "text": [
            "WARNING:tensorflow:Compiled the loaded model, but the compiled metrics have yet to be built. `model.compile_metrics` will be empty until you train or evaluate the model.\n"
          ]
        },
        {
          "output_type": "stream",
          "name": "stdout",
          "text": [
            "Epoch 125, Loss: 0.295055627822876, Accuracy: 91.36666870117188, Val Loss: 0.28974902629852295, Val Accuracy: 91.05001068115234\n",
            "Saving new best model with loss:  0.28974903\n"
          ]
        },
        {
          "output_type": "stream",
          "name": "stderr",
          "text": [
            "WARNING:tensorflow:Compiled the loaded model, but the compiled metrics have yet to be built. `model.compile_metrics` will be empty until you train or evaluate the model.\n"
          ]
        },
        {
          "output_type": "stream",
          "name": "stdout",
          "text": [
            "Epoch 129, Loss: 0.2984561622142792, Accuracy: 91.14999389648438, Val Loss: 0.287800133228302, Val Accuracy: 91.55001831054688\n",
            "Saving new best model with loss:  0.28780013\n"
          ]
        },
        {
          "output_type": "stream",
          "name": "stderr",
          "text": [
            "WARNING:tensorflow:Compiled the loaded model, but the compiled metrics have yet to be built. `model.compile_metrics` will be empty until you train or evaluate the model.\n"
          ]
        },
        {
          "output_type": "stream",
          "name": "stdout",
          "text": [
            "Epoch 133, Loss: 0.2784733474254608, Accuracy: 91.88333892822266, Val Loss: 0.2821562886238098, Val Accuracy: 92.25001525878906\n",
            "Saving new best model with loss:  0.2821563\n"
          ]
        },
        {
          "output_type": "stream",
          "name": "stderr",
          "text": [
            "WARNING:tensorflow:Compiled the loaded model, but the compiled metrics have yet to be built. `model.compile_metrics` will be empty until you train or evaluate the model.\n"
          ]
        },
        {
          "output_type": "stream",
          "name": "stdout",
          "text": [
            "Epoch 137, Loss: 0.2901659309864044, Accuracy: 91.34998321533203, Val Loss: 0.2797023057937622, Val Accuracy: 91.98331451416016\n",
            "Saving new best model with loss:  0.2797023\n"
          ]
        },
        {
          "output_type": "stream",
          "name": "stderr",
          "text": [
            "WARNING:tensorflow:Compiled the loaded model, but the compiled metrics have yet to be built. `model.compile_metrics` will be empty until you train or evaluate the model.\n"
          ]
        },
        {
          "output_type": "stream",
          "name": "stdout",
          "text": [
            "Epoch 141, Loss: 0.2647792100906372, Accuracy: 92.25, Val Loss: 0.2779799699783325, Val Accuracy: 92.26665496826172\n",
            "Saving new best model with loss:  0.27797997\n"
          ]
        },
        {
          "output_type": "stream",
          "name": "stderr",
          "text": [
            "WARNING:tensorflow:Compiled the loaded model, but the compiled metrics have yet to be built. `model.compile_metrics` will be empty until you train or evaluate the model.\n"
          ]
        },
        {
          "output_type": "stream",
          "name": "stdout",
          "text": [
            "Epoch 145, Loss: 0.2638787031173706, Accuracy: 92.2166519165039, Val Loss: 0.27233457565307617, Val Accuracy: 92.23335266113281\n",
            "Saving new best model with loss:  0.27233458\n",
            "Epoch 149, Loss: 0.2719774544239044, Accuracy: 92.25, Val Loss: 0.2743369936943054, Val Accuracy: 91.91666412353516\n",
            "Epoch 153, Loss: 0.26623570919036865, Accuracy: 92.5333251953125, Val Loss: 0.27610480785369873, Val Accuracy: 91.46666717529297\n"
          ]
        },
        {
          "output_type": "stream",
          "name": "stderr",
          "text": [
            "WARNING:tensorflow:Compiled the loaded model, but the compiled metrics have yet to be built. `model.compile_metrics` will be empty until you train or evaluate the model.\n"
          ]
        },
        {
          "output_type": "stream",
          "name": "stdout",
          "text": [
            "Epoch 157, Loss: 0.26589515805244446, Accuracy: 92.4333267211914, Val Loss: 0.2687501013278961, Val Accuracy: 92.20001220703125\n",
            "Saving new best model with loss:  0.2687501\n"
          ]
        },
        {
          "output_type": "stream",
          "name": "stderr",
          "text": [
            "WARNING:tensorflow:Compiled the loaded model, but the compiled metrics have yet to be built. `model.compile_metrics` will be empty until you train or evaluate the model.\n"
          ]
        },
        {
          "output_type": "stream",
          "name": "stdout",
          "text": [
            "Epoch 161, Loss: 0.24144817888736725, Accuracy: 92.64998626708984, Val Loss: 0.25260043144226074, Val Accuracy: 93.11665344238281\n",
            "Saving new best model with loss:  0.25260043\n",
            "Epoch 165, Loss: 0.2553168535232544, Accuracy: 92.49998474121094, Val Loss: 0.2614561915397644, Val Accuracy: 92.36666107177734\n"
          ]
        },
        {
          "output_type": "stream",
          "name": "stderr",
          "text": [
            "WARNING:tensorflow:Compiled the loaded model, but the compiled metrics have yet to be built. `model.compile_metrics` will be empty until you train or evaluate the model.\n"
          ]
        },
        {
          "output_type": "stream",
          "name": "stdout",
          "text": [
            "Epoch 169, Loss: 0.2714557945728302, Accuracy: 92.09999084472656, Val Loss: 0.24429307878017426, Val Accuracy: 92.98333740234375\n",
            "Saving new best model with loss:  0.24429308\n"
          ]
        },
        {
          "output_type": "stream",
          "name": "stderr",
          "text": [
            "WARNING:tensorflow:Compiled the loaded model, but the compiled metrics have yet to be built. `model.compile_metrics` will be empty until you train or evaluate the model.\n"
          ]
        },
        {
          "output_type": "stream",
          "name": "stdout",
          "text": [
            "Epoch 173, Loss: 0.2563086748123169, Accuracy: 93.04999542236328, Val Loss: 0.23052774369716644, Val Accuracy: 93.23332977294922\n",
            "Saving new best model with loss:  0.23052774\n",
            "Epoch 177, Loss: 0.24664954841136932, Accuracy: 93.04998016357422, Val Loss: 0.2368330955505371, Val Accuracy: 92.8499984741211\n",
            "Epoch 181, Loss: 0.22733066976070404, Accuracy: 92.91666412353516, Val Loss: 0.24814777076244354, Val Accuracy: 92.48332214355469\n",
            "Epoch 185, Loss: 0.2377336621284485, Accuracy: 92.39999389648438, Val Loss: 0.2308473438024521, Val Accuracy: 93.1333236694336\n",
            "Epoch 189, Loss: 0.24759028851985931, Accuracy: 93.1500015258789, Val Loss: 0.23694837093353271, Val Accuracy: 93.01665496826172\n",
            "Epoch 193, Loss: 0.22300229966640472, Accuracy: 93.45001220703125, Val Loss: 0.24687905609607697, Val Accuracy: 92.6166763305664\n"
          ]
        },
        {
          "output_type": "stream",
          "name": "stderr",
          "text": [
            "WARNING:tensorflow:Compiled the loaded model, but the compiled metrics have yet to be built. `model.compile_metrics` will be empty until you train or evaluate the model.\n"
          ]
        },
        {
          "output_type": "stream",
          "name": "stdout",
          "text": [
            "Epoch 197, Loss: 0.2479996234178543, Accuracy: 93.48332977294922, Val Loss: 0.21971751749515533, Val Accuracy: 93.7166519165039\n",
            "Saving new best model with loss:  0.21971752\n",
            "Epoch 201, Loss: 0.23086856305599213, Accuracy: 93.25000762939453, Val Loss: 0.2370212972164154, Val Accuracy: 93.24998474121094\n",
            "Epoch 205, Loss: 0.22050286829471588, Accuracy: 93.58332061767578, Val Loss: 0.22989103198051453, Val Accuracy: 93.43331146240234\n"
          ]
        },
        {
          "output_type": "stream",
          "name": "stderr",
          "text": [
            "WARNING:tensorflow:Compiled the loaded model, but the compiled metrics have yet to be built. `model.compile_metrics` will be empty until you train or evaluate the model.\n"
          ]
        },
        {
          "output_type": "stream",
          "name": "stdout",
          "text": [
            "Epoch 209, Loss: 0.22516338527202606, Accuracy: 92.98333740234375, Val Loss: 0.2149752825498581, Val Accuracy: 93.36665344238281\n",
            "Saving new best model with loss:  0.21497528\n"
          ]
        },
        {
          "output_type": "stream",
          "name": "stderr",
          "text": [
            "WARNING:tensorflow:Compiled the loaded model, but the compiled metrics have yet to be built. `model.compile_metrics` will be empty until you train or evaluate the model.\n"
          ]
        },
        {
          "output_type": "stream",
          "name": "stdout",
          "text": [
            "Epoch 213, Loss: 0.20225901901721954, Accuracy: 93.86664581298828, Val Loss: 0.21099480986595154, Val Accuracy: 93.80001068115234\n",
            "Saving new best model with loss:  0.21099481\n",
            "Epoch 217, Loss: 0.24796682596206665, Accuracy: 92.93333435058594, Val Loss: 0.23946760594844818, Val Accuracy: 92.98332214355469\n"
          ]
        },
        {
          "output_type": "stream",
          "name": "stderr",
          "text": [
            "WARNING:tensorflow:Compiled the loaded model, but the compiled metrics have yet to be built. `model.compile_metrics` will be empty until you train or evaluate the model.\n"
          ]
        },
        {
          "output_type": "stream",
          "name": "stdout",
          "text": [
            "Epoch 221, Loss: 0.22618892788887024, Accuracy: 93.33332061767578, Val Loss: 0.20968016982078552, Val Accuracy: 93.78334045410156\n",
            "Saving new best model with loss:  0.20968017\n",
            "Epoch 225, Loss: 0.20451462268829346, Accuracy: 93.4666519165039, Val Loss: 0.2385098785161972, Val Accuracy: 93.05000305175781\n"
          ]
        },
        {
          "output_type": "stream",
          "name": "stderr",
          "text": [
            "WARNING:tensorflow:Compiled the loaded model, but the compiled metrics have yet to be built. `model.compile_metrics` will be empty until you train or evaluate the model.\n"
          ]
        },
        {
          "output_type": "stream",
          "name": "stdout",
          "text": [
            "Epoch 229, Loss: 0.1802801936864853, Accuracy: 94.3499984741211, Val Loss: 0.2032293826341629, Val Accuracy: 94.04998016357422\n",
            "Saving new best model with loss:  0.20322938\n",
            "Epoch 233, Loss: 0.21104231476783752, Accuracy: 93.81666564941406, Val Loss: 0.2121756225824356, Val Accuracy: 93.78331756591797\n",
            "Epoch 237, Loss: 0.22431673109531403, Accuracy: 93.73332977294922, Val Loss: 0.21172069013118744, Val Accuracy: 93.55001068115234\n"
          ]
        },
        {
          "output_type": "stream",
          "name": "stderr",
          "text": [
            "WARNING:tensorflow:Compiled the loaded model, but the compiled metrics have yet to be built. `model.compile_metrics` will be empty until you train or evaluate the model.\n"
          ]
        },
        {
          "output_type": "stream",
          "name": "stdout",
          "text": [
            "Epoch 241, Loss: 0.2029552310705185, Accuracy: 94.0333251953125, Val Loss: 0.20284609496593475, Val Accuracy: 93.88333129882812\n",
            "Saving new best model with loss:  0.2028461\n"
          ]
        }
      ]
    },
    {
      "cell_type": "code",
      "source": [
        "#Combi Proto + Reptile for first values from the list ie 40-way 5-shot experiment\n",
        "\n",
        "meta_step_size = 0.25\n",
        "\n",
        "#Interval between running SGD on the validation dataset\n",
        "eval_interval = 4\n",
        "\n",
        "#number of classes\n",
        "num_way = train_num_ways[2]\n",
        "\n",
        "#number of examples per class for support set\n",
        "num_shot = num_shots[2]  \n",
        "\n",
        "#number of query points\n",
        "num_query = num_shots[2] \n",
        "\n",
        "\n",
        "train_loss = tf.metrics.Mean(name='train_loss')\n",
        "val_loss = tf.metrics.Mean(name='val_loss')\n",
        "train_acc = tf.metrics.Mean(name='train_accuracy')\n",
        "val_acc = tf.metrics.Mean(name='val_accuracy')\n",
        "support = np.zeros([num_way, num_shot, img_height, img_width, channels], dtype=np.float32)\n",
        "query = np.zeros([num_way, num_shot, img_height, img_width, channels], dtype=np.float32)\n",
        "model = Prototypical(support, query, img_height, img_width, channels)\n",
        "optimizer_adam = tf.keras.optimizers.Adam(learning_rate, beta_1=0)\n",
        "optimizer_sgd = tf.keras.optimizers.SGD(learning_rate)\n",
        "\n",
        "num_epochs = 241\n",
        "num_episodes = 100\n",
        "save_path = \"./results/models/omniglot_train_reptile2.h5\"\n",
        "\n",
        "@tf.function\n",
        "def loss(support, query):\n",
        "  loss, acc = model(support, query)\n",
        "  return loss, acc\n",
        "\n",
        "@tf.function\n",
        "def train_step(support, query, optimizer):\n",
        "  with tf.GradientTape() as tape:\n",
        "    loss, acc = model(support, query)\n",
        "  gradients = tape.gradient(loss, model.trainable_variables)\n",
        "  optimizer.apply_gradients(\n",
        "        zip(gradients, model.trainable_variables))\n",
        "  \n",
        "  train_loss(loss)\n",
        "  train_acc(acc)\n",
        "  \n",
        "\n",
        "@tf.function\n",
        "def val_step(support, query, optimizer):\n",
        "  with tf.GradientTape() as tape:\n",
        "    loss, acc = model(support, query)\n",
        "  gradients = tape.gradient(loss, model.trainable_variables)\n",
        "  optimizer.apply_gradients(\n",
        "        zip(gradients, model.trainable_variables))\n",
        "  \n",
        "  val_loss(loss)\n",
        "  val_acc(acc)\n",
        "\n",
        "\n",
        "least_loss = {'least_loss': 100.00}\n",
        "for epoch in range(num_epochs):\n",
        "  train_loss.reset_states()\n",
        "  val_loss.reset_states()\n",
        "  train_acc.reset_states()\n",
        "  val_acc.reset_states()\n",
        "\n",
        "  for episode in range(num_episodes):\n",
        "    frac_done = episode / num_episodes\n",
        "    cur_meta_step_size = (1 - frac_done) * meta_step_size\n",
        "    train_support, train_query = get_next_episode(train_dataset, num_way, num_shot, num_query, no_train_classes)\n",
        "    \n",
        "    model = Prototypical(train_support, train_query, img_width, img_height, channels)\n",
        "    model.call(train_support, train_query)\n",
        "    old_weights = model.get_weights()\n",
        "    train_step(train_support, train_query, optimizer_sgd)\n",
        "    new_weights = model.get_weights()\n",
        "\n",
        "    for part_weight in range(len(new_weights)):\n",
        "        new_weights[part_weight] = old_weights[part_weight] + (\n",
        "            (new_weights[part_weight] - old_weights[part_weight]) * cur_meta_step_size\n",
        "        )\n",
        "\n",
        "    model.set_weights(new_weights)\n",
        "    if epoch % eval_interval == 0:\n",
        "      eval_support, eval_query = get_next_episode(train_dataset, num_way, num_shot, num_query, no_train_classes)\n",
        "      old_vars = model.get_weights()\n",
        "      val_step(eval_support, eval_query, optimizer_adam)\n",
        "      model.set_weights(old_vars)\n",
        "      \n",
        "  cur_loss = val_loss.result().numpy()\n",
        "\n",
        "  if (epoch % eval_interval == 0):\n",
        "    template = 'Epoch {}, Loss: {}, Accuracy: {}, ' \\\n",
        "                  'Val Loss: {}, Val Accuracy: {}'\n",
        "    print(template.format(epoch + 1, train_loss.result(), train_acc.result() * 100, val_loss.result(),\n",
        "                            val_acc.result() * 100))\n",
        "    if cur_loss < least_loss['least_loss']:\n",
        "      print(\"Saving new best model with loss: \", cur_loss)\n",
        "      least_loss['least_loss'] = cur_loss\n",
        "      model.save(save_path)"
      ],
      "metadata": {
        "colab": {
          "base_uri": "https://localhost:8080/"
        },
        "id": "2Ab2pzEwJmsk",
        "outputId": "2aeb64ec-ef78-4478-9f39-30eaff72871b"
      },
      "execution_count": 25,
      "outputs": [
        {
          "output_type": "stream",
          "name": "stderr",
          "text": [
            "WARNING:tensorflow:Compiled the loaded model, but the compiled metrics have yet to be built. `model.compile_metrics` will be empty until you train or evaluate the model.\n"
          ]
        },
        {
          "output_type": "stream",
          "name": "stdout",
          "text": [
            "Epoch 1, Loss: 1.2778325080871582, Accuracy: 70.7650146484375, Val Loss: 1.2833958864212036, Val Accuracy: 70.57499694824219\n",
            "Saving new best model with loss:  1.2833959\n"
          ]
        },
        {
          "output_type": "stream",
          "name": "stderr",
          "text": [
            "WARNING:tensorflow:Compiled the loaded model, but the compiled metrics have yet to be built. `model.compile_metrics` will be empty until you train or evaluate the model.\n"
          ]
        },
        {
          "output_type": "stream",
          "name": "stdout",
          "text": [
            "Epoch 5, Loss: 0.531635046005249, Accuracy: 85.2649917602539, Val Loss: 0.5366384387016296, Val Accuracy: 85.49000549316406\n",
            "Saving new best model with loss:  0.53663844\n"
          ]
        },
        {
          "output_type": "stream",
          "name": "stderr",
          "text": [
            "WARNING:tensorflow:Compiled the loaded model, but the compiled metrics have yet to be built. `model.compile_metrics` will be empty until you train or evaluate the model.\n"
          ]
        },
        {
          "output_type": "stream",
          "name": "stdout",
          "text": [
            "Epoch 9, Loss: 0.3411201536655426, Accuracy: 90.114990234375, Val Loss: 0.3406173288822174, Val Accuracy: 90.59001922607422\n",
            "Saving new best model with loss:  0.34061733\n"
          ]
        },
        {
          "output_type": "stream",
          "name": "stderr",
          "text": [
            "WARNING:tensorflow:Compiled the loaded model, but the compiled metrics have yet to be built. `model.compile_metrics` will be empty until you train or evaluate the model.\n"
          ]
        },
        {
          "output_type": "stream",
          "name": "stdout",
          "text": [
            "Epoch 13, Loss: 0.24660103023052216, Accuracy: 92.8499755859375, Val Loss: 0.2399563193321228, Val Accuracy: 93.18499755859375\n",
            "Saving new best model with loss:  0.23995632\n"
          ]
        },
        {
          "output_type": "stream",
          "name": "stderr",
          "text": [
            "WARNING:tensorflow:Compiled the loaded model, but the compiled metrics have yet to be built. `model.compile_metrics` will be empty until you train or evaluate the model.\n"
          ]
        },
        {
          "output_type": "stream",
          "name": "stdout",
          "text": [
            "Epoch 17, Loss: 0.19253690540790558, Accuracy: 94.36499786376953, Val Loss: 0.18862922489643097, Val Accuracy: 94.62498474121094\n",
            "Saving new best model with loss:  0.18862922\n"
          ]
        },
        {
          "output_type": "stream",
          "name": "stderr",
          "text": [
            "WARNING:tensorflow:Compiled the loaded model, but the compiled metrics have yet to be built. `model.compile_metrics` will be empty until you train or evaluate the model.\n"
          ]
        },
        {
          "output_type": "stream",
          "name": "stdout",
          "text": [
            "Epoch 21, Loss: 0.16575631499290466, Accuracy: 95.18496704101562, Val Loss: 0.16646651923656464, Val Accuracy: 95.26000213623047\n",
            "Saving new best model with loss:  0.16646652\n"
          ]
        },
        {
          "output_type": "stream",
          "name": "stderr",
          "text": [
            "WARNING:tensorflow:Compiled the loaded model, but the compiled metrics have yet to be built. `model.compile_metrics` will be empty until you train or evaluate the model.\n"
          ]
        },
        {
          "output_type": "stream",
          "name": "stdout",
          "text": [
            "Epoch 25, Loss: 0.14937224984169006, Accuracy: 95.65497589111328, Val Loss: 0.162489116191864, Val Accuracy: 95.49998474121094\n",
            "Saving new best model with loss:  0.16248912\n"
          ]
        },
        {
          "output_type": "stream",
          "name": "stderr",
          "text": [
            "WARNING:tensorflow:Compiled the loaded model, but the compiled metrics have yet to be built. `model.compile_metrics` will be empty until you train or evaluate the model.\n"
          ]
        },
        {
          "output_type": "stream",
          "name": "stdout",
          "text": [
            "Epoch 29, Loss: 0.1354098618030548, Accuracy: 96.05501556396484, Val Loss: 0.15481416881084442, Val Accuracy: 95.65499877929688\n",
            "Saving new best model with loss:  0.15481417\n"
          ]
        },
        {
          "output_type": "stream",
          "name": "stderr",
          "text": [
            "WARNING:tensorflow:Compiled the loaded model, but the compiled metrics have yet to be built. `model.compile_metrics` will be empty until you train or evaluate the model.\n"
          ]
        },
        {
          "output_type": "stream",
          "name": "stdout",
          "text": [
            "Epoch 33, Loss: 0.13597017526626587, Accuracy: 95.89000701904297, Val Loss: 0.13422712683677673, Val Accuracy: 95.97000122070312\n",
            "Saving new best model with loss:  0.13422713\n"
          ]
        },
        {
          "output_type": "stream",
          "name": "stderr",
          "text": [
            "WARNING:tensorflow:Compiled the loaded model, but the compiled metrics have yet to be built. `model.compile_metrics` will be empty until you train or evaluate the model.\n"
          ]
        },
        {
          "output_type": "stream",
          "name": "stdout",
          "text": [
            "Epoch 37, Loss: 0.12829512357711792, Accuracy: 96.1399917602539, Val Loss: 0.12371604144573212, Val Accuracy: 96.3899917602539\n",
            "Saving new best model with loss:  0.12371604\n"
          ]
        },
        {
          "output_type": "stream",
          "name": "stderr",
          "text": [
            "WARNING:tensorflow:Compiled the loaded model, but the compiled metrics have yet to be built. `model.compile_metrics` will be empty until you train or evaluate the model.\n"
          ]
        },
        {
          "output_type": "stream",
          "name": "stdout",
          "text": [
            "Epoch 41, Loss: 0.11664925515651703, Accuracy: 96.6199951171875, Val Loss: 0.11615307629108429, Val Accuracy: 96.78997802734375\n",
            "Saving new best model with loss:  0.11615308\n"
          ]
        },
        {
          "output_type": "stream",
          "name": "stderr",
          "text": [
            "WARNING:tensorflow:Compiled the loaded model, but the compiled metrics have yet to be built. `model.compile_metrics` will be empty until you train or evaluate the model.\n"
          ]
        },
        {
          "output_type": "stream",
          "name": "stdout",
          "text": [
            "Epoch 45, Loss: 0.1089835911989212, Accuracy: 96.7750015258789, Val Loss: 0.11496764421463013, Val Accuracy: 96.75000762939453\n",
            "Saving new best model with loss:  0.114967644\n"
          ]
        },
        {
          "output_type": "stream",
          "name": "stderr",
          "text": [
            "WARNING:tensorflow:Compiled the loaded model, but the compiled metrics have yet to be built. `model.compile_metrics` will be empty until you train or evaluate the model.\n"
          ]
        },
        {
          "output_type": "stream",
          "name": "stdout",
          "text": [
            "Epoch 49, Loss: 0.10411446541547775, Accuracy: 96.87002563476562, Val Loss: 0.10971865057945251, Val Accuracy: 96.80998992919922\n",
            "Saving new best model with loss:  0.10971865\n"
          ]
        },
        {
          "output_type": "stream",
          "name": "stderr",
          "text": [
            "WARNING:tensorflow:Compiled the loaded model, but the compiled metrics have yet to be built. `model.compile_metrics` will be empty until you train or evaluate the model.\n"
          ]
        },
        {
          "output_type": "stream",
          "name": "stdout",
          "text": [
            "Epoch 53, Loss: 0.10446824878454208, Accuracy: 97.11498260498047, Val Loss: 0.10837903618812561, Val Accuracy: 96.99000549316406\n",
            "Saving new best model with loss:  0.108379036\n"
          ]
        },
        {
          "output_type": "stream",
          "name": "stderr",
          "text": [
            "WARNING:tensorflow:Compiled the loaded model, but the compiled metrics have yet to be built. `model.compile_metrics` will be empty until you train or evaluate the model.\n"
          ]
        },
        {
          "output_type": "stream",
          "name": "stdout",
          "text": [
            "Epoch 57, Loss: 0.1053667664527893, Accuracy: 96.9649887084961, Val Loss: 0.1079777255654335, Val Accuracy: 96.87500762939453\n",
            "Saving new best model with loss:  0.107977726\n"
          ]
        },
        {
          "output_type": "stream",
          "name": "stderr",
          "text": [
            "WARNING:tensorflow:Compiled the loaded model, but the compiled metrics have yet to be built. `model.compile_metrics` will be empty until you train or evaluate the model.\n"
          ]
        },
        {
          "output_type": "stream",
          "name": "stdout",
          "text": [
            "Epoch 61, Loss: 0.09492173790931702, Accuracy: 97.37001037597656, Val Loss: 0.09298408776521683, Val Accuracy: 97.22500610351562\n",
            "Saving new best model with loss:  0.09298409\n",
            "Epoch 65, Loss: 0.08910074830055237, Accuracy: 97.41000366210938, Val Loss: 0.10031209141016006, Val Accuracy: 97.17500305175781\n"
          ]
        },
        {
          "output_type": "stream",
          "name": "stderr",
          "text": [
            "WARNING:tensorflow:Compiled the loaded model, but the compiled metrics have yet to be built. `model.compile_metrics` will be empty until you train or evaluate the model.\n"
          ]
        },
        {
          "output_type": "stream",
          "name": "stdout",
          "text": [
            "Epoch 69, Loss: 0.09257641434669495, Accuracy: 97.31503295898438, Val Loss: 0.09135586768388748, Val Accuracy: 97.31999969482422\n",
            "Saving new best model with loss:  0.09135587\n"
          ]
        },
        {
          "output_type": "stream",
          "name": "stderr",
          "text": [
            "WARNING:tensorflow:Compiled the loaded model, but the compiled metrics have yet to be built. `model.compile_metrics` will be empty until you train or evaluate the model.\n"
          ]
        },
        {
          "output_type": "stream",
          "name": "stdout",
          "text": [
            "Epoch 73, Loss: 0.08452310413122177, Accuracy: 97.5400161743164, Val Loss: 0.08601638674736023, Val Accuracy: 97.45498657226562\n",
            "Saving new best model with loss:  0.08601639\n",
            "Epoch 77, Loss: 0.0793399065732956, Accuracy: 97.68501281738281, Val Loss: 0.08982040733098984, Val Accuracy: 97.22002410888672\n",
            "Epoch 81, Loss: 0.08369364589452744, Accuracy: 97.61000061035156, Val Loss: 0.09161774814128876, Val Accuracy: 97.27999877929688\n",
            "Epoch 85, Loss: 0.08576440811157227, Accuracy: 97.64498901367188, Val Loss: 0.08863837271928787, Val Accuracy: 97.39500427246094\n"
          ]
        },
        {
          "output_type": "stream",
          "name": "stderr",
          "text": [
            "WARNING:tensorflow:Compiled the loaded model, but the compiled metrics have yet to be built. `model.compile_metrics` will be empty until you train or evaluate the model.\n"
          ]
        },
        {
          "output_type": "stream",
          "name": "stdout",
          "text": [
            "Epoch 89, Loss: 0.0896897092461586, Accuracy: 97.44500732421875, Val Loss: 0.07857168465852737, Val Accuracy: 97.68999481201172\n",
            "Saving new best model with loss:  0.078571685\n"
          ]
        },
        {
          "output_type": "stream",
          "name": "stderr",
          "text": [
            "WARNING:tensorflow:Compiled the loaded model, but the compiled metrics have yet to be built. `model.compile_metrics` will be empty until you train or evaluate the model.\n"
          ]
        },
        {
          "output_type": "stream",
          "name": "stdout",
          "text": [
            "Epoch 93, Loss: 0.0873657613992691, Accuracy: 97.51000213623047, Val Loss: 0.07182144373655319, Val Accuracy: 97.67000579833984\n",
            "Saving new best model with loss:  0.071821444\n",
            "Epoch 97, Loss: 0.07409047335386276, Accuracy: 97.91000366210938, Val Loss: 0.07194408029317856, Val Accuracy: 98.07003021240234\n",
            "Epoch 101, Loss: 0.07202820479869843, Accuracy: 97.87001037597656, Val Loss: 0.078948974609375, Val Accuracy: 97.7600326538086\n",
            "Epoch 105, Loss: 0.07309170067310333, Accuracy: 97.81001281738281, Val Loss: 0.07566153258085251, Val Accuracy: 97.905029296875\n",
            "Epoch 109, Loss: 0.0657123327255249, Accuracy: 98.0199966430664, Val Loss: 0.07335759699344635, Val Accuracy: 97.90999603271484\n",
            "Epoch 113, Loss: 0.07673897594213486, Accuracy: 97.80001068115234, Val Loss: 0.07334624975919724, Val Accuracy: 97.80500793457031\n",
            "Epoch 117, Loss: 0.06711799651384354, Accuracy: 97.96500396728516, Val Loss: 0.0720212310552597, Val Accuracy: 97.83000183105469\n"
          ]
        },
        {
          "output_type": "stream",
          "name": "stderr",
          "text": [
            "WARNING:tensorflow:Compiled the loaded model, but the compiled metrics have yet to be built. `model.compile_metrics` will be empty until you train or evaluate the model.\n"
          ]
        },
        {
          "output_type": "stream",
          "name": "stdout",
          "text": [
            "Epoch 121, Loss: 0.07333584129810333, Accuracy: 97.76500701904297, Val Loss: 0.06762539595365524, Val Accuracy: 97.7950210571289\n",
            "Saving new best model with loss:  0.067625396\n",
            "Epoch 125, Loss: 0.06426732987165451, Accuracy: 98.10503387451172, Val Loss: 0.07328392565250397, Val Accuracy: 97.80001068115234\n"
          ]
        },
        {
          "output_type": "stream",
          "name": "stderr",
          "text": [
            "WARNING:tensorflow:Compiled the loaded model, but the compiled metrics have yet to be built. `model.compile_metrics` will be empty until you train or evaluate the model.\n"
          ]
        },
        {
          "output_type": "stream",
          "name": "stdout",
          "text": [
            "Epoch 129, Loss: 0.06347328424453735, Accuracy: 98.1300277709961, Val Loss: 0.06303703784942627, Val Accuracy: 98.21002197265625\n",
            "Saving new best model with loss:  0.06303704\n",
            "Epoch 133, Loss: 0.0629470944404602, Accuracy: 97.99999237060547, Val Loss: 0.07302965968847275, Val Accuracy: 97.63003540039062\n",
            "Epoch 137, Loss: 0.07035204023122787, Accuracy: 98.06000518798828, Val Loss: 0.0642375573515892, Val Accuracy: 98.16500854492188\n",
            "Epoch 141, Loss: 0.060604143887758255, Accuracy: 98.16503143310547, Val Loss: 0.06728161871433258, Val Accuracy: 98.11502075195312\n",
            "Epoch 145, Loss: 0.05995490401983261, Accuracy: 98.30000305175781, Val Loss: 0.06557169556617737, Val Accuracy: 98.12498474121094\n"
          ]
        },
        {
          "output_type": "stream",
          "name": "stderr",
          "text": [
            "WARNING:tensorflow:Compiled the loaded model, but the compiled metrics have yet to be built. `model.compile_metrics` will be empty until you train or evaluate the model.\n"
          ]
        },
        {
          "output_type": "stream",
          "name": "stdout",
          "text": [
            "Epoch 149, Loss: 0.05880499258637428, Accuracy: 98.15503692626953, Val Loss: 0.06254205107688904, Val Accuracy: 98.17501831054688\n",
            "Saving new best model with loss:  0.06254205\n"
          ]
        },
        {
          "output_type": "stream",
          "name": "stderr",
          "text": [
            "WARNING:tensorflow:Compiled the loaded model, but the compiled metrics have yet to be built. `model.compile_metrics` will be empty until you train or evaluate the model.\n"
          ]
        },
        {
          "output_type": "stream",
          "name": "stdout",
          "text": [
            "Epoch 153, Loss: 0.05897952616214752, Accuracy: 98.25001525878906, Val Loss: 0.0623171441257, Val Accuracy: 98.0350112915039\n",
            "Saving new best model with loss:  0.062317144\n"
          ]
        },
        {
          "output_type": "stream",
          "name": "stderr",
          "text": [
            "WARNING:tensorflow:Compiled the loaded model, but the compiled metrics have yet to be built. `model.compile_metrics` will be empty until you train or evaluate the model.\n"
          ]
        },
        {
          "output_type": "stream",
          "name": "stdout",
          "text": [
            "Epoch 157, Loss: 0.06327632814645767, Accuracy: 97.98003387451172, Val Loss: 0.051997341215610504, Val Accuracy: 98.40001678466797\n",
            "Saving new best model with loss:  0.05199734\n",
            "Epoch 161, Loss: 0.05255850404500961, Accuracy: 98.2900161743164, Val Loss: 0.059324730187654495, Val Accuracy: 98.26001739501953\n",
            "Epoch 165, Loss: 0.06512188166379929, Accuracy: 98.08502960205078, Val Loss: 0.05904696509242058, Val Accuracy: 98.09001922607422\n",
            "Epoch 169, Loss: 0.05091585963964462, Accuracy: 98.32002258300781, Val Loss: 0.056442905217409134, Val Accuracy: 98.32501220703125\n"
          ]
        },
        {
          "output_type": "stream",
          "name": "stderr",
          "text": [
            "WARNING:tensorflow:Compiled the loaded model, but the compiled metrics have yet to be built. `model.compile_metrics` will be empty until you train or evaluate the model.\n"
          ]
        },
        {
          "output_type": "stream",
          "name": "stdout",
          "text": [
            "Epoch 173, Loss: 0.05552484840154648, Accuracy: 98.34504699707031, Val Loss: 0.046321965754032135, Val Accuracy: 98.59003448486328\n",
            "Saving new best model with loss:  0.046321966\n",
            "Epoch 177, Loss: 0.05484458804130554, Accuracy: 98.32502746582031, Val Loss: 0.05130770802497864, Val Accuracy: 98.33003997802734\n",
            "Epoch 181, Loss: 0.05601535737514496, Accuracy: 98.27001953125, Val Loss: 0.05257531255483627, Val Accuracy: 98.25501251220703\n",
            "Epoch 185, Loss: 0.05296824499964714, Accuracy: 98.3900375366211, Val Loss: 0.05188318341970444, Val Accuracy: 98.42002868652344\n",
            "Epoch 189, Loss: 0.048764124512672424, Accuracy: 98.43000793457031, Val Loss: 0.04891091212630272, Val Accuracy: 98.54502868652344\n",
            "Epoch 193, Loss: 0.05324413254857063, Accuracy: 98.46501159667969, Val Loss: 0.0491485558450222, Val Accuracy: 98.5250015258789\n"
          ]
        },
        {
          "output_type": "stream",
          "name": "stderr",
          "text": [
            "WARNING:tensorflow:Compiled the loaded model, but the compiled metrics have yet to be built. `model.compile_metrics` will be empty until you train or evaluate the model.\n"
          ]
        },
        {
          "output_type": "stream",
          "name": "stdout",
          "text": [
            "Epoch 197, Loss: 0.05165988579392433, Accuracy: 98.42501068115234, Val Loss: 0.04530874267220497, Val Accuracy: 98.48002624511719\n",
            "Saving new best model with loss:  0.045308743\n",
            "Epoch 201, Loss: 0.04475121200084686, Accuracy: 98.55001831054688, Val Loss: 0.04991777241230011, Val Accuracy: 98.3900146484375\n"
          ]
        },
        {
          "output_type": "stream",
          "name": "stderr",
          "text": [
            "WARNING:tensorflow:Compiled the loaded model, but the compiled metrics have yet to be built. `model.compile_metrics` will be empty until you train or evaluate the model.\n"
          ]
        },
        {
          "output_type": "stream",
          "name": "stdout",
          "text": [
            "Epoch 205, Loss: 0.05244136229157448, Accuracy: 98.34001922607422, Val Loss: 0.04506022483110428, Val Accuracy: 98.54503631591797\n",
            "Saving new best model with loss:  0.045060225\n",
            "Epoch 209, Loss: 0.053685903549194336, Accuracy: 98.44002532958984, Val Loss: 0.04774003475904465, Val Accuracy: 98.53001403808594\n",
            "Epoch 213, Loss: 0.04466458410024643, Accuracy: 98.59001922607422, Val Loss: 0.051700323820114136, Val Accuracy: 98.6250228881836\n",
            "Epoch 217, Loss: 0.04466061666607857, Accuracy: 98.56502532958984, Val Loss: 0.046057119965553284, Val Accuracy: 98.54002380371094\n",
            "Epoch 221, Loss: 0.04654303193092346, Accuracy: 98.51502227783203, Val Loss: 0.04824216291308403, Val Accuracy: 98.49504089355469\n"
          ]
        },
        {
          "output_type": "stream",
          "name": "stderr",
          "text": [
            "WARNING:tensorflow:Compiled the loaded model, but the compiled metrics have yet to be built. `model.compile_metrics` will be empty until you train or evaluate the model.\n"
          ]
        },
        {
          "output_type": "stream",
          "name": "stdout",
          "text": [
            "Epoch 225, Loss: 0.04849007725715637, Accuracy: 98.60501861572266, Val Loss: 0.04121449589729309, Val Accuracy: 98.7650375366211\n",
            "Saving new best model with loss:  0.041214496\n"
          ]
        },
        {
          "output_type": "stream",
          "name": "stderr",
          "text": [
            "WARNING:tensorflow:Compiled the loaded model, but the compiled metrics have yet to be built. `model.compile_metrics` will be empty until you train or evaluate the model.\n"
          ]
        },
        {
          "output_type": "stream",
          "name": "stdout",
          "text": [
            "Epoch 229, Loss: 0.045249711722135544, Accuracy: 98.55001831054688, Val Loss: 0.039442431181669235, Val Accuracy: 98.68502044677734\n",
            "Saving new best model with loss:  0.03944243\n",
            "Epoch 233, Loss: 0.040863752365112305, Accuracy: 98.63504028320312, Val Loss: 0.04529554396867752, Val Accuracy: 98.59504699707031\n",
            "Epoch 237, Loss: 0.047326575964689255, Accuracy: 98.42503356933594, Val Loss: 0.04339262843132019, Val Accuracy: 98.6600341796875\n",
            "Epoch 241, Loss: 0.04493933171033859, Accuracy: 98.44500732421875, Val Loss: 0.04194182530045509, Val Accuracy: 98.68501281738281\n"
          ]
        }
      ]
    },
    {
      "cell_type": "code",
      "source": [
        "#Combi Proto + Reptile for first values from the list ie 40-way 1-shot experiment\n",
        "\n",
        "meta_step_size = 0.25\n",
        "\n",
        "#Interval between running SGD on the validation dataset\n",
        "eval_interval = 4\n",
        "\n",
        "#number of classes\n",
        "num_way = train_num_ways[3]\n",
        "\n",
        "#number of examples per class for support set\n",
        "num_shot = num_shots[3]  \n",
        "\n",
        "#number of query points\n",
        "num_query = num_shots[3] \n",
        "\n",
        "\n",
        "train_loss = tf.metrics.Mean(name='train_loss')\n",
        "val_loss = tf.metrics.Mean(name='val_loss')\n",
        "train_acc = tf.metrics.Mean(name='train_accuracy')\n",
        "val_acc = tf.metrics.Mean(name='val_accuracy')\n",
        "support = np.zeros([num_way, num_shot, img_height, img_width, channels], dtype=np.float32)\n",
        "query = np.zeros([num_way, num_shot, img_height, img_width, channels], dtype=np.float32)\n",
        "model = Prototypical(support, query, img_height, img_width, channels)\n",
        "optimizer_adam = tf.keras.optimizers.Adam(learning_rate, beta_1=0)\n",
        "optimizer_sgd = tf.keras.optimizers.SGD(learning_rate)\n",
        "\n",
        "num_epochs = 241\n",
        "num_episodes = 100\n",
        "save_path = \"./results/models/omniglot_train_reptile3.h5\"\n",
        "\n",
        "@tf.function\n",
        "def loss(support, query):\n",
        "  loss, acc = model(support, query)\n",
        "  return loss, acc\n",
        "\n",
        "@tf.function\n",
        "def train_step(support, query, optimizer):\n",
        "  with tf.GradientTape() as tape:\n",
        "    loss, acc = model(support, query)\n",
        "  gradients = tape.gradient(loss, model.trainable_variables)\n",
        "  optimizer.apply_gradients(\n",
        "        zip(gradients, model.trainable_variables))\n",
        "  \n",
        "  train_loss(loss)\n",
        "  train_acc(acc)\n",
        "  \n",
        "\n",
        "@tf.function\n",
        "def val_step(support, query, optimizer):\n",
        "  with tf.GradientTape() as tape:\n",
        "    loss, acc = model(support, query)\n",
        "  gradients = tape.gradient(loss, model.trainable_variables)\n",
        "  optimizer.apply_gradients(\n",
        "        zip(gradients, model.trainable_variables))\n",
        "  \n",
        "  val_loss(loss)\n",
        "  val_acc(acc)\n",
        "\n",
        "\n",
        "least_loss = {'least_loss': 100.00}\n",
        "for epoch in range(num_epochs):\n",
        "  train_loss.reset_states()\n",
        "  val_loss.reset_states()\n",
        "  train_acc.reset_states()\n",
        "  val_acc.reset_states()\n",
        "\n",
        "  for episode in range(num_episodes):\n",
        "    frac_done = episode / num_episodes\n",
        "    cur_meta_step_size = (1 - frac_done) * meta_step_size\n",
        "    train_support, train_query = get_next_episode(train_dataset, num_way, num_shot, num_query, no_train_classes)\n",
        "    \n",
        "    model = Prototypical(train_support, train_query, img_width, img_height, channels)\n",
        "    model.call(train_support, train_query)\n",
        "    old_weights = model.get_weights()\n",
        "    train_step(train_support, train_query, optimizer_sgd)\n",
        "    new_weights = model.get_weights()\n",
        "\n",
        "    for part_weight in range(len(new_weights)):\n",
        "        new_weights[part_weight] = old_weights[part_weight] + (\n",
        "            (new_weights[part_weight] - old_weights[part_weight]) * cur_meta_step_size\n",
        "        )\n",
        "\n",
        "    model.set_weights(new_weights)\n",
        "    if epoch % eval_interval == 0:\n",
        "      eval_support, eval_query = get_next_episode(train_dataset, num_way, num_shot, num_query, no_train_classes)\n",
        "      old_vars = model.get_weights()\n",
        "      val_step(eval_support, eval_query, optimizer_adam)\n",
        "      model.set_weights(old_vars)\n",
        "      \n",
        "  cur_loss = val_loss.result().numpy()\n",
        "\n",
        "  if (epoch % eval_interval == 0):\n",
        "    template = 'Epoch {}, Loss: {}, Accuracy: {}, ' \\\n",
        "                  'Val Loss: {}, Val Accuracy: {}'\n",
        "    print(template.format(epoch + 1, train_loss.result(), train_acc.result() * 100, val_loss.result(),\n",
        "                            val_acc.result() * 100))\n",
        "    if cur_loss < least_loss['least_loss']:\n",
        "      print(\"Saving new best model with loss: \", cur_loss)\n",
        "      least_loss['least_loss'] = cur_loss\n",
        "      model.save(save_path)"
      ],
      "metadata": {
        "colab": {
          "base_uri": "https://localhost:8080/"
        },
        "id": "8KjbU3EQJnIK",
        "outputId": "9d321de6-5757-4ec7-c369-d0a9acffe8d9"
      },
      "execution_count": 26,
      "outputs": [
        {
          "output_type": "stream",
          "name": "stderr",
          "text": [
            "WARNING:tensorflow:Compiled the loaded model, but the compiled metrics have yet to be built. `model.compile_metrics` will be empty until you train or evaluate the model.\n"
          ]
        },
        {
          "output_type": "stream",
          "name": "stdout",
          "text": [
            "Epoch 1, Loss: 2.2832324504852295, Accuracy: 45.125, Val Loss: 2.2794322967529297, Val Accuracy: 46.64999771118164\n",
            "Saving new best model with loss:  2.2794323\n"
          ]
        },
        {
          "output_type": "stream",
          "name": "stderr",
          "text": [
            "WARNING:tensorflow:Compiled the loaded model, but the compiled metrics have yet to be built. `model.compile_metrics` will be empty until you train or evaluate the model.\n"
          ]
        },
        {
          "output_type": "stream",
          "name": "stdout",
          "text": [
            "Epoch 5, Loss: 1.5152398347854614, Accuracy: 61.07499694824219, Val Loss: 1.4932222366333008, Val Accuracy: 62.350006103515625\n",
            "Saving new best model with loss:  1.4932222\n"
          ]
        },
        {
          "output_type": "stream",
          "name": "stderr",
          "text": [
            "WARNING:tensorflow:Compiled the loaded model, but the compiled metrics have yet to be built. `model.compile_metrics` will be empty until you train or evaluate the model.\n"
          ]
        },
        {
          "output_type": "stream",
          "name": "stdout",
          "text": [
            "Epoch 9, Loss: 1.1236075162887573, Accuracy: 70.52499389648438, Val Loss: 1.1055552959442139, Val Accuracy: 69.07499694824219\n",
            "Saving new best model with loss:  1.1055553\n"
          ]
        },
        {
          "output_type": "stream",
          "name": "stderr",
          "text": [
            "WARNING:tensorflow:Compiled the loaded model, but the compiled metrics have yet to be built. `model.compile_metrics` will be empty until you train or evaluate the model.\n"
          ]
        },
        {
          "output_type": "stream",
          "name": "stdout",
          "text": [
            "Epoch 13, Loss: 0.7904539704322815, Accuracy: 78.07499694824219, Val Loss: 0.7906769514083862, Val Accuracy: 77.92498779296875\n",
            "Saving new best model with loss:  0.79067695\n"
          ]
        },
        {
          "output_type": "stream",
          "name": "stderr",
          "text": [
            "WARNING:tensorflow:Compiled the loaded model, but the compiled metrics have yet to be built. `model.compile_metrics` will be empty until you train or evaluate the model.\n"
          ]
        },
        {
          "output_type": "stream",
          "name": "stdout",
          "text": [
            "Epoch 17, Loss: 0.7175846695899963, Accuracy: 79.79999542236328, Val Loss: 0.6741983294487, Val Accuracy: 80.9000015258789\n",
            "Saving new best model with loss:  0.6741983\n"
          ]
        },
        {
          "output_type": "stream",
          "name": "stderr",
          "text": [
            "WARNING:tensorflow:Compiled the loaded model, but the compiled metrics have yet to be built. `model.compile_metrics` will be empty until you train or evaluate the model.\n"
          ]
        },
        {
          "output_type": "stream",
          "name": "stdout",
          "text": [
            "Epoch 21, Loss: 0.596682608127594, Accuracy: 83.30000305175781, Val Loss: 0.5750295519828796, Val Accuracy: 84.04998779296875\n",
            "Saving new best model with loss:  0.57502955\n",
            "Epoch 25, Loss: 0.5701245665550232, Accuracy: 83.4999771118164, Val Loss: 0.5775517821311951, Val Accuracy: 84.4749984741211\n"
          ]
        },
        {
          "output_type": "stream",
          "name": "stderr",
          "text": [
            "WARNING:tensorflow:Compiled the loaded model, but the compiled metrics have yet to be built. `model.compile_metrics` will be empty until you train or evaluate the model.\n"
          ]
        },
        {
          "output_type": "stream",
          "name": "stdout",
          "text": [
            "Epoch 29, Loss: 0.5589112639427185, Accuracy: 84.8750228881836, Val Loss: 0.509955883026123, Val Accuracy: 85.37499237060547\n",
            "Saving new best model with loss:  0.5099559\n"
          ]
        },
        {
          "output_type": "stream",
          "name": "stderr",
          "text": [
            "WARNING:tensorflow:Compiled the loaded model, but the compiled metrics have yet to be built. `model.compile_metrics` will be empty until you train or evaluate the model.\n"
          ]
        },
        {
          "output_type": "stream",
          "name": "stdout",
          "text": [
            "Epoch 33, Loss: 0.5344743132591248, Accuracy: 84.47498321533203, Val Loss: 0.4585547149181366, Val Accuracy: 86.54998779296875\n",
            "Saving new best model with loss:  0.45855471\n",
            "Epoch 37, Loss: 0.45885294675827026, Accuracy: 86.29998779296875, Val Loss: 0.47332248091697693, Val Accuracy: 86.39998626708984\n"
          ]
        },
        {
          "output_type": "stream",
          "name": "stderr",
          "text": [
            "WARNING:tensorflow:Compiled the loaded model, but the compiled metrics have yet to be built. `model.compile_metrics` will be empty until you train or evaluate the model.\n"
          ]
        },
        {
          "output_type": "stream",
          "name": "stdout",
          "text": [
            "Epoch 41, Loss: 0.4515961706638336, Accuracy: 86.77500915527344, Val Loss: 0.44246596097946167, Val Accuracy: 87.20001220703125\n",
            "Saving new best model with loss:  0.44246596\n"
          ]
        },
        {
          "output_type": "stream",
          "name": "stderr",
          "text": [
            "WARNING:tensorflow:Compiled the loaded model, but the compiled metrics have yet to be built. `model.compile_metrics` will be empty until you train or evaluate the model.\n"
          ]
        },
        {
          "output_type": "stream",
          "name": "stdout",
          "text": [
            "Epoch 45, Loss: 0.473781555891037, Accuracy: 86.32500457763672, Val Loss: 0.42289459705352783, Val Accuracy: 86.64999389648438\n",
            "Saving new best model with loss:  0.4228946\n"
          ]
        },
        {
          "output_type": "stream",
          "name": "stderr",
          "text": [
            "WARNING:tensorflow:Compiled the loaded model, but the compiled metrics have yet to be built. `model.compile_metrics` will be empty until you train or evaluate the model.\n"
          ]
        },
        {
          "output_type": "stream",
          "name": "stdout",
          "text": [
            "Epoch 49, Loss: 0.4183744490146637, Accuracy: 87.95000457763672, Val Loss: 0.4212239384651184, Val Accuracy: 88.77501678466797\n",
            "Saving new best model with loss:  0.42122394\n"
          ]
        },
        {
          "output_type": "stream",
          "name": "stderr",
          "text": [
            "WARNING:tensorflow:Compiled the loaded model, but the compiled metrics have yet to be built. `model.compile_metrics` will be empty until you train or evaluate the model.\n"
          ]
        },
        {
          "output_type": "stream",
          "name": "stdout",
          "text": [
            "Epoch 53, Loss: 0.39514362812042236, Accuracy: 88.02500915527344, Val Loss: 0.39987286925315857, Val Accuracy: 87.95000457763672\n",
            "Saving new best model with loss:  0.39987287\n",
            "Epoch 57, Loss: 0.39457637071609497, Accuracy: 88.69999694824219, Val Loss: 0.4061111807823181, Val Accuracy: 87.82498931884766\n"
          ]
        },
        {
          "output_type": "stream",
          "name": "stderr",
          "text": [
            "WARNING:tensorflow:Compiled the loaded model, but the compiled metrics have yet to be built. `model.compile_metrics` will be empty until you train or evaluate the model.\n"
          ]
        },
        {
          "output_type": "stream",
          "name": "stdout",
          "text": [
            "Epoch 61, Loss: 0.42657870054244995, Accuracy: 87.79999542236328, Val Loss: 0.38755154609680176, Val Accuracy: 88.54999542236328\n",
            "Saving new best model with loss:  0.38755155\n",
            "Epoch 65, Loss: 0.36409518122673035, Accuracy: 89.57503509521484, Val Loss: 0.39198046922683716, Val Accuracy: 88.27499389648438\n"
          ]
        },
        {
          "output_type": "stream",
          "name": "stderr",
          "text": [
            "WARNING:tensorflow:Compiled the loaded model, but the compiled metrics have yet to be built. `model.compile_metrics` will be empty until you train or evaluate the model.\n"
          ]
        },
        {
          "output_type": "stream",
          "name": "stdout",
          "text": [
            "Epoch 69, Loss: 0.38136303424835205, Accuracy: 89.12499237060547, Val Loss: 0.36226391792297363, Val Accuracy: 89.70001220703125\n",
            "Saving new best model with loss:  0.36226392\n",
            "Epoch 73, Loss: 0.37955912947654724, Accuracy: 88.72501373291016, Val Loss: 0.38923558592796326, Val Accuracy: 88.97499084472656\n"
          ]
        },
        {
          "output_type": "stream",
          "name": "stderr",
          "text": [
            "WARNING:tensorflow:Compiled the loaded model, but the compiled metrics have yet to be built. `model.compile_metrics` will be empty until you train or evaluate the model.\n"
          ]
        },
        {
          "output_type": "stream",
          "name": "stdout",
          "text": [
            "Epoch 77, Loss: 0.3851100504398346, Accuracy: 89.64998626708984, Val Loss: 0.3371191918849945, Val Accuracy: 90.14998626708984\n",
            "Saving new best model with loss:  0.3371192\n"
          ]
        },
        {
          "output_type": "stream",
          "name": "stderr",
          "text": [
            "WARNING:tensorflow:Compiled the loaded model, but the compiled metrics have yet to be built. `model.compile_metrics` will be empty until you train or evaluate the model.\n"
          ]
        },
        {
          "output_type": "stream",
          "name": "stdout",
          "text": [
            "Epoch 81, Loss: 0.3253534436225891, Accuracy: 89.55000305175781, Val Loss: 0.3144795894622803, Val Accuracy: 90.70003509521484\n",
            "Saving new best model with loss:  0.3144796\n",
            "Epoch 85, Loss: 0.3460928797721863, Accuracy: 90.4000015258789, Val Loss: 0.33219459652900696, Val Accuracy: 90.37499237060547\n"
          ]
        },
        {
          "output_type": "stream",
          "name": "stderr",
          "text": [
            "WARNING:tensorflow:Compiled the loaded model, but the compiled metrics have yet to be built. `model.compile_metrics` will be empty until you train or evaluate the model.\n"
          ]
        },
        {
          "output_type": "stream",
          "name": "stdout",
          "text": [
            "Epoch 89, Loss: 0.32944121956825256, Accuracy: 91.20001983642578, Val Loss: 0.31071996688842773, Val Accuracy: 91.32498931884766\n",
            "Saving new best model with loss:  0.31071997\n",
            "Epoch 93, Loss: 0.33780524134635925, Accuracy: 89.85001373291016, Val Loss: 0.32075339555740356, Val Accuracy: 90.7249984741211\n"
          ]
        },
        {
          "output_type": "stream",
          "name": "stderr",
          "text": [
            "WARNING:tensorflow:Compiled the loaded model, but the compiled metrics have yet to be built. `model.compile_metrics` will be empty until you train or evaluate the model.\n"
          ]
        },
        {
          "output_type": "stream",
          "name": "stdout",
          "text": [
            "Epoch 97, Loss: 0.3245494067668915, Accuracy: 91.15001678466797, Val Loss: 0.2985217571258545, Val Accuracy: 91.74998474121094\n",
            "Saving new best model with loss:  0.29852176\n"
          ]
        },
        {
          "output_type": "stream",
          "name": "stderr",
          "text": [
            "WARNING:tensorflow:Compiled the loaded model, but the compiled metrics have yet to be built. `model.compile_metrics` will be empty until you train or evaluate the model.\n"
          ]
        },
        {
          "output_type": "stream",
          "name": "stdout",
          "text": [
            "Epoch 101, Loss: 0.28559476137161255, Accuracy: 91.7750015258789, Val Loss: 0.2969822585582733, Val Accuracy: 90.92498779296875\n",
            "Saving new best model with loss:  0.29698226\n"
          ]
        },
        {
          "output_type": "stream",
          "name": "stderr",
          "text": [
            "WARNING:tensorflow:Compiled the loaded model, but the compiled metrics have yet to be built. `model.compile_metrics` will be empty until you train or evaluate the model.\n"
          ]
        },
        {
          "output_type": "stream",
          "name": "stdout",
          "text": [
            "Epoch 105, Loss: 0.30014467239379883, Accuracy: 91.55000305175781, Val Loss: 0.2726583182811737, Val Accuracy: 92.24998474121094\n",
            "Saving new best model with loss:  0.27265832\n",
            "Epoch 109, Loss: 0.2911600172519684, Accuracy: 91.57501220703125, Val Loss: 0.30165091156959534, Val Accuracy: 91.02501678466797\n",
            "Epoch 113, Loss: 0.2899489104747772, Accuracy: 91.625, Val Loss: 0.2847962975502014, Val Accuracy: 91.99998474121094\n"
          ]
        },
        {
          "output_type": "stream",
          "name": "stderr",
          "text": [
            "WARNING:tensorflow:Compiled the loaded model, but the compiled metrics have yet to be built. `model.compile_metrics` will be empty until you train or evaluate the model.\n"
          ]
        },
        {
          "output_type": "stream",
          "name": "stdout",
          "text": [
            "Epoch 117, Loss: 0.27020856738090515, Accuracy: 91.6500015258789, Val Loss: 0.2704337239265442, Val Accuracy: 91.80001831054688\n",
            "Saving new best model with loss:  0.27043372\n",
            "Epoch 121, Loss: 0.24964532256126404, Accuracy: 92.29999542236328, Val Loss: 0.28163671493530273, Val Accuracy: 92.02499389648438\n",
            "Epoch 125, Loss: 0.2722587287425995, Accuracy: 92.14998626708984, Val Loss: 0.270659863948822, Val Accuracy: 91.92498779296875\n",
            "Epoch 129, Loss: 0.2793567180633545, Accuracy: 91.8499984741211, Val Loss: 0.2874007821083069, Val Accuracy: 91.5250015258789\n",
            "Epoch 133, Loss: 0.2729196846485138, Accuracy: 91.95001983642578, Val Loss: 0.28019216656684875, Val Accuracy: 91.3499984741211\n"
          ]
        },
        {
          "output_type": "stream",
          "name": "stderr",
          "text": [
            "WARNING:tensorflow:Compiled the loaded model, but the compiled metrics have yet to be built. `model.compile_metrics` will be empty until you train or evaluate the model.\n"
          ]
        },
        {
          "output_type": "stream",
          "name": "stdout",
          "text": [
            "Epoch 137, Loss: 0.2395811527967453, Accuracy: 92.875, Val Loss: 0.2593238055706024, Val Accuracy: 92.77499389648438\n",
            "Saving new best model with loss:  0.2593238\n"
          ]
        },
        {
          "output_type": "stream",
          "name": "stderr",
          "text": [
            "WARNING:tensorflow:Compiled the loaded model, but the compiled metrics have yet to be built. `model.compile_metrics` will be empty until you train or evaluate the model.\n"
          ]
        },
        {
          "output_type": "stream",
          "name": "stdout",
          "text": [
            "Epoch 141, Loss: 0.2539675235748291, Accuracy: 92.62500762939453, Val Loss: 0.2395191192626953, Val Accuracy: 92.64998626708984\n",
            "Saving new best model with loss:  0.23951912\n"
          ]
        },
        {
          "output_type": "stream",
          "name": "stderr",
          "text": [
            "WARNING:tensorflow:Compiled the loaded model, but the compiled metrics have yet to be built. `model.compile_metrics` will be empty until you train or evaluate the model.\n"
          ]
        },
        {
          "output_type": "stream",
          "name": "stdout",
          "text": [
            "Epoch 145, Loss: 0.2812284529209137, Accuracy: 91.92499542236328, Val Loss: 0.23839332163333893, Val Accuracy: 92.57501983642578\n",
            "Saving new best model with loss:  0.23839332\n"
          ]
        },
        {
          "output_type": "stream",
          "name": "stderr",
          "text": [
            "WARNING:tensorflow:Compiled the loaded model, but the compiled metrics have yet to be built. `model.compile_metrics` will be empty until you train or evaluate the model.\n"
          ]
        },
        {
          "output_type": "stream",
          "name": "stdout",
          "text": [
            "Epoch 149, Loss: 0.2630496919155121, Accuracy: 92.29998779296875, Val Loss: 0.22634939849376678, Val Accuracy: 93.2249984741211\n",
            "Saving new best model with loss:  0.2263494\n",
            "Epoch 153, Loss: 0.2675328850746155, Accuracy: 92.42500305175781, Val Loss: 0.2674693763256073, Val Accuracy: 92.02501678466797\n",
            "Epoch 157, Loss: 0.251404345035553, Accuracy: 92.82499694824219, Val Loss: 0.2337638884782791, Val Accuracy: 93.12498474121094\n"
          ]
        },
        {
          "output_type": "stream",
          "name": "stderr",
          "text": [
            "WARNING:tensorflow:Compiled the loaded model, but the compiled metrics have yet to be built. `model.compile_metrics` will be empty until you train or evaluate the model.\n"
          ]
        },
        {
          "output_type": "stream",
          "name": "stdout",
          "text": [
            "Epoch 161, Loss: 0.25193464756011963, Accuracy: 92.79998779296875, Val Loss: 0.2179429680109024, Val Accuracy: 93.27497863769531\n",
            "Saving new best model with loss:  0.21794297\n"
          ]
        },
        {
          "output_type": "stream",
          "name": "stderr",
          "text": [
            "WARNING:tensorflow:Compiled the loaded model, but the compiled metrics have yet to be built. `model.compile_metrics` will be empty until you train or evaluate the model.\n"
          ]
        },
        {
          "output_type": "stream",
          "name": "stdout",
          "text": [
            "Epoch 165, Loss: 0.22168253362178802, Accuracy: 93.45000457763672, Val Loss: 0.20432928204536438, Val Accuracy: 93.60000610351562\n",
            "Saving new best model with loss:  0.20432928\n",
            "Epoch 169, Loss: 0.23721417784690857, Accuracy: 92.84998321533203, Val Loss: 0.20978718996047974, Val Accuracy: 93.67501068115234\n",
            "Epoch 173, Loss: 0.2343026101589203, Accuracy: 93.32502746582031, Val Loss: 0.23101498186588287, Val Accuracy: 93.29999542236328\n",
            "Epoch 177, Loss: 0.23195543885231018, Accuracy: 93.09999084472656, Val Loss: 0.22966672480106354, Val Accuracy: 93.80001068115234\n",
            "Epoch 181, Loss: 0.21852423250675201, Accuracy: 93.84996795654297, Val Loss: 0.2323383390903473, Val Accuracy: 92.87500762939453\n",
            "Epoch 185, Loss: 0.22868211567401886, Accuracy: 93.57498168945312, Val Loss: 0.24987754225730896, Val Accuracy: 92.89997863769531\n",
            "Epoch 189, Loss: 0.21965712308883667, Accuracy: 93.04997253417969, Val Loss: 0.2370077520608902, Val Accuracy: 92.5999984741211\n",
            "Epoch 193, Loss: 0.2252950221300125, Accuracy: 93.15000915527344, Val Loss: 0.22244574129581451, Val Accuracy: 93.22500610351562\n"
          ]
        },
        {
          "output_type": "stream",
          "name": "stderr",
          "text": [
            "WARNING:tensorflow:Compiled the loaded model, but the compiled metrics have yet to be built. `model.compile_metrics` will be empty until you train or evaluate the model.\n"
          ]
        },
        {
          "output_type": "stream",
          "name": "stdout",
          "text": [
            "Epoch 197, Loss: 0.23177404701709747, Accuracy: 93.77497863769531, Val Loss: 0.19102539122104645, Val Accuracy: 94.3249740600586\n",
            "Saving new best model with loss:  0.19102539\n"
          ]
        },
        {
          "output_type": "stream",
          "name": "stderr",
          "text": [
            "WARNING:tensorflow:Compiled the loaded model, but the compiled metrics have yet to be built. `model.compile_metrics` will be empty until you train or evaluate the model.\n"
          ]
        },
        {
          "output_type": "stream",
          "name": "stdout",
          "text": [
            "Epoch 201, Loss: 0.22074775397777557, Accuracy: 93.6500015258789, Val Loss: 0.18636654317378998, Val Accuracy: 94.52497100830078\n",
            "Saving new best model with loss:  0.18636654\n",
            "Epoch 205, Loss: 0.2062712460756302, Accuracy: 93.77498626708984, Val Loss: 0.2193373143672943, Val Accuracy: 93.49998474121094\n",
            "Epoch 209, Loss: 0.19275163114070892, Accuracy: 94.29998779296875, Val Loss: 0.1966104954481125, Val Accuracy: 94.27497863769531\n",
            "Epoch 213, Loss: 0.22827354073524475, Accuracy: 93.57501220703125, Val Loss: 0.2046828418970108, Val Accuracy: 93.97500610351562\n",
            "Epoch 217, Loss: 0.22473737597465515, Accuracy: 93.79998779296875, Val Loss: 0.2085060477256775, Val Accuracy: 93.82498168945312\n",
            "Epoch 221, Loss: 0.18876248598098755, Accuracy: 94.44995880126953, Val Loss: 0.19851471483707428, Val Accuracy: 93.90001678466797\n",
            "Epoch 225, Loss: 0.20458747446537018, Accuracy: 94.22498321533203, Val Loss: 0.19220851361751556, Val Accuracy: 94.22494506835938\n",
            "Epoch 229, Loss: 0.16747373342514038, Accuracy: 95.12498474121094, Val Loss: 0.2074844241142273, Val Accuracy: 94.375\n",
            "Epoch 233, Loss: 0.20765013992786407, Accuracy: 93.60000610351562, Val Loss: 0.19490648806095123, Val Accuracy: 94.14996337890625\n",
            "Epoch 237, Loss: 0.17880433797836304, Accuracy: 94.42496490478516, Val Loss: 0.19729934632778168, Val Accuracy: 94.54996490478516\n"
          ]
        },
        {
          "output_type": "stream",
          "name": "stderr",
          "text": [
            "WARNING:tensorflow:Compiled the loaded model, but the compiled metrics have yet to be built. `model.compile_metrics` will be empty until you train or evaluate the model.\n"
          ]
        },
        {
          "output_type": "stream",
          "name": "stdout",
          "text": [
            "Epoch 241, Loss: 0.18552295863628387, Accuracy: 94.40000915527344, Val Loss: 0.18530941009521484, Val Accuracy: 94.57499694824219\n",
            "Saving new best model with loss:  0.18530941\n"
          ]
        }
      ]
    },
    {
      "cell_type": "code",
      "source": [
        "reptile_save_paths = [\"./results/models/omniglot_train_reptile0.h5\", \"./results/models/omniglot_train_reptile1.h5\", \\\n",
        "                      \"./results/models/omniglot_train_reptile2.h5\",\\\n",
        "                      \"./results/models/omniglot_train_reptile3.h5\"]"
      ],
      "metadata": {
        "id": "G5ejbxBcPJmY"
      },
      "execution_count": 27,
      "outputs": []
    },
    {
      "cell_type": "code",
      "source": [
        "accuracies_reptile_0 = {}\n",
        "support = np.zeros([num_way, num_shot, img_width, img_height, channels], dtype=np.float32)\n",
        "query = np.zeros([num_way, num_query, img_width, img_height, channels], dtype=np.float32)\n",
        "model = Prototypical(support, query, img_width, img_height, channels)\n",
        "\n",
        "def calc_loss(model, support, query):\n",
        "  loss, acc = model.call(support, query)\n",
        "  return loss, acc\n",
        "\n",
        "for save_path in reptile_save_paths:\n",
        "  model_path = save_path\n",
        "  model.load(model_path)\n",
        "  print(\"Model with path {} loaded.\".format(save_path))\n",
        "  num_episodes = 1000\n",
        "\n",
        "  #number of classes\n",
        "  num_way = test_num_ways[0]\n",
        "\n",
        "  #number of examples per class for support set\n",
        "  num_shot = num_shots[0]  \n",
        "\n",
        "  #number of query points\n",
        "  num_query = num_shots[0] \n",
        "\n",
        "  # Metrics to gather\n",
        "  test_loss = tf.metrics.Mean(name='test_loss')\n",
        "  test_acc = tf.metrics.Mean(name='test_accuracy')\n",
        "\n",
        "\n",
        "  for i_episode in range(num_episodes):\n",
        "    test_support, test_query = get_next_episode(test_dataset, num_way, num_shot, num_shot, no_test_classes)\n",
        "    loss, acc = calc_loss(model, test_support, test_query)\n",
        "    test_loss(loss)\n",
        "    test_acc(acc)\n",
        "\n",
        "  loss = test_loss.result().numpy()\n",
        "  accuracy = test_acc.result().numpy() * 100\n",
        "  print(\"Loss: \", loss)\n",
        "  print(\"Accuracy: \", accuracy)\n",
        "  accuracies_reptile_0[model_path] = accuracy"
      ],
      "metadata": {
        "colab": {
          "base_uri": "https://localhost:8080/"
        },
        "id": "kUC2gghmiSnf",
        "outputId": "d2bdc2cd-8899-4d41-ace5-0722a9f25c21"
      },
      "execution_count": 34,
      "outputs": [
        {
          "output_type": "stream",
          "name": "stdout",
          "text": [
            "Model with path ./results/models/omniglot_train_reptile0.h5 loaded.\n",
            "Loss:  1.6092929\n",
            "Accuracy:  82.28806853294373\n",
            "Model with path ./results/models/omniglot_train_reptile1.h5 loaded.\n",
            "Loss:  1.6091865\n",
            "Accuracy:  81.18806481361389\n",
            "Model with path ./results/models/omniglot_train_reptile2.h5 loaded.\n",
            "Loss:  1.6092588\n",
            "Accuracy:  82.27205872535706\n",
            "Model with path ./results/models/omniglot_train_reptile3.h5 loaded.\n",
            "Loss:  1.6092482\n",
            "Accuracy:  81.26807808876038\n"
          ]
        }
      ]
    },
    {
      "cell_type": "code",
      "source": [
        "accuracies_reptile_1 = {}\n",
        "\n",
        "def calc_loss(model, support, query):\n",
        "  loss, acc = model.call(support, query)\n",
        "  return loss, acc\n",
        "\n",
        "for save_path in reptile_save_paths:\n",
        "  model_path = save_path\n",
        "  model.load(model_path)\n",
        "  print(\"Model with path {} loaded.\".format(save_path))\n",
        "  num_episodes = 1000\n",
        "\n",
        "  #number of classes\n",
        "  num_way = test_num_ways[1]\n",
        "\n",
        "  #number of examples per class for support set\n",
        "  num_shot = num_shots[1]  \n",
        "\n",
        "  #number of query points\n",
        "  num_query = num_shots[1] \n",
        "\n",
        "  # Metrics to gather\n",
        "  test_loss = tf.metrics.Mean(name='test_loss')\n",
        "  test_acc = tf.metrics.Mean(name='test_accuracy')\n",
        "\n",
        "  print(\"Testing {} way {} shot\".format(num_way, num_shot))\n",
        "\n",
        "  for i_episode in range(num_episodes):\n",
        "    test_support, test_query = get_next_episode(test_dataset, num_way, num_shot, num_shot, no_test_classes)\n",
        "    loss, acc = calc_loss(model, test_support, test_query)\n",
        "    test_loss(loss)\n",
        "    test_acc(acc)\n",
        "\n",
        "  loss = test_loss.result().numpy()\n",
        "  accuracy = test_acc.result().numpy() * 100\n",
        "  print(\"Loss: \", loss)\n",
        "  print(\"Accuracy: \", accuracy)\n",
        "  accuracies_reptile_1[model_path] = accuracy"
      ],
      "metadata": {
        "colab": {
          "base_uri": "https://localhost:8080/"
        },
        "id": "VXUZAiuoSn03",
        "outputId": "833491cf-5a7a-4738-a64f-945ae4600580"
      },
      "execution_count": 35,
      "outputs": [
        {
          "output_type": "stream",
          "name": "stdout",
          "text": [
            "Model with path ./results/models/omniglot_train_reptile0.h5 loaded.\n",
            "Testing 5 way 1 shot\n",
            "Loss:  1.6092882\n",
            "Accuracy:  63.75981569290161\n",
            "Model with path ./results/models/omniglot_train_reptile1.h5 loaded.\n",
            "Testing 5 way 1 shot\n",
            "Loss:  1.6091793\n",
            "Accuracy:  64.97978568077087\n",
            "Model with path ./results/models/omniglot_train_reptile2.h5 loaded.\n",
            "Testing 5 way 1 shot\n",
            "Loss:  1.6092618\n",
            "Accuracy:  65.17989039421082\n",
            "Model with path ./results/models/omniglot_train_reptile3.h5 loaded.\n",
            "Testing 5 way 1 shot\n",
            "Loss:  1.6092479\n",
            "Accuracy:  63.45980763435364\n"
          ]
        }
      ]
    },
    {
      "cell_type": "code",
      "source": [
        "accuracies_reptile_2 = {}\n",
        "\n",
        "def calc_loss(model, support, query):\n",
        "  loss, acc = model.call(support, query)\n",
        "  return loss, acc\n",
        "\n",
        "for save_path in reptile_save_paths:\n",
        "  model_path = save_path\n",
        "  model.load(model_path)\n",
        "  print(\"Model with path {} loaded.\".format(save_path))\n",
        "  num_episodes = 1000\n",
        "\n",
        "  #number of classes\n",
        "  num_way = test_num_ways[2]\n",
        "\n",
        "  #number of examples per class for support set\n",
        "  num_shot = num_shots[2]  \n",
        "\n",
        "  #number of query points\n",
        "  num_query = num_shots[2] \n",
        "\n",
        "  # Metrics to gather\n",
        "  test_loss = tf.metrics.Mean(name='test_loss')\n",
        "  test_acc = tf.metrics.Mean(name='test_accuracy')\n",
        "\n",
        "  print(\"Testing {} way {} shot\".format(num_way, num_shot))\n",
        "\n",
        "  for i_episode in range(num_episodes):\n",
        "    test_support, test_query = get_next_episode(test_dataset, num_way, num_shot, num_shot, no_test_classes)\n",
        "    loss, acc = calc_loss(model, test_support, test_query)\n",
        "    test_loss(loss)\n",
        "    test_acc(acc)\n",
        "\n",
        "  loss = test_loss.result().numpy()\n",
        "  accuracy = test_acc.result().numpy() * 100\n",
        "  print(\"Loss: \", loss)\n",
        "  print(\"Accuracy: \", accuracy)\n",
        "  accuracies_reptile_2[model_path] = accuracy"
      ],
      "metadata": {
        "colab": {
          "base_uri": "https://localhost:8080/"
        },
        "id": "IYvKleVrSoNU",
        "outputId": "0b86cd9f-f2d4-4285-a860-bac3763dbb1c"
      },
      "execution_count": 36,
      "outputs": [
        {
          "output_type": "stream",
          "name": "stdout",
          "text": [
            "Model with path ./results/models/omniglot_train_reptile0.h5 loaded.\n",
            "Testing 20 way 5 shot\n",
            "Loss:  2.9955788\n",
            "Accuracy:  64.20199871063232\n",
            "Model with path ./results/models/omniglot_train_reptile1.h5 loaded.\n",
            "Testing 20 way 5 shot\n",
            "Loss:  2.9954238\n",
            "Accuracy:  61.94004416465759\n",
            "Model with path ./results/models/omniglot_train_reptile2.h5 loaded.\n",
            "Testing 20 way 5 shot\n",
            "Loss:  2.995539\n",
            "Accuracy:  63.39397430419922\n",
            "Model with path ./results/models/omniglot_train_reptile3.h5 loaded.\n",
            "Testing 20 way 5 shot\n",
            "Loss:  2.9955156\n",
            "Accuracy:  61.36692762374878\n"
          ]
        }
      ]
    },
    {
      "cell_type": "code",
      "source": [
        "accuracies_reptile_3 = {}\n",
        "\n",
        "def calc_loss(model, support, query):\n",
        "  loss, acc = model.call(support, query)\n",
        "  return loss, acc\n",
        "\n",
        "for save_path in reptile_save_paths:\n",
        "  model_path = save_path\n",
        "  model.load(model_path)\n",
        "  print(\"Model with path {} loaded.\".format(save_path))\n",
        "  num_episodes = 1000\n",
        "\n",
        "  #number of classes\n",
        "  num_way = test_num_ways[3]\n",
        "\n",
        "  #number of examples per class for support set\n",
        "  num_shot = num_shots[3]  \n",
        "\n",
        "  #number of query points\n",
        "  num_query = num_shots[3] \n",
        "\n",
        "  # Metrics to gather\n",
        "  test_loss = tf.metrics.Mean(name='test_loss')\n",
        "  test_acc = tf.metrics.Mean(name='test_accuracy')\n",
        "\n",
        "  print(\"Testing {} way {} shot\".format(num_way, num_shot))\n",
        "\n",
        "  for i_episode in range(num_episodes):\n",
        "    test_support, test_query = get_next_episode(test_dataset, num_way, num_shot, num_shot, no_test_classes)\n",
        "    loss, acc = calc_loss(model, test_support, test_query)\n",
        "    test_loss(loss)\n",
        "    test_acc(acc)\n",
        "\n",
        "  loss = test_loss.result().numpy()\n",
        "  accuracy = test_acc.result().numpy() * 100\n",
        "  print(\"Loss: \", loss)\n",
        "  print(\"Accuracy: \", accuracy)\n",
        "  accuracies_reptile_3[model_path] = accuracy"
      ],
      "metadata": {
        "colab": {
          "base_uri": "https://localhost:8080/"
        },
        "id": "AvUmmPA4SolS",
        "outputId": "18035c12-ec83-4c45-9e20-929de44b4c0a"
      },
      "execution_count": 37,
      "outputs": [
        {
          "output_type": "stream",
          "name": "stdout",
          "text": [
            "Model with path ./results/models/omniglot_train_reptile0.h5 loaded.\n",
            "Testing 20 way 1 shot\n",
            "Loss:  2.9955764\n",
            "Accuracy:  41.069960594177246\n",
            "Model with path ./results/models/omniglot_train_reptile1.h5 loaded.\n",
            "Testing 20 way 1 shot\n",
            "Loss:  2.9954288\n",
            "Accuracy:  40.87496995925903\n",
            "Model with path ./results/models/omniglot_train_reptile2.h5 loaded.\n",
            "Testing 20 way 1 shot\n",
            "Loss:  2.99553\n",
            "Accuracy:  42.574989795684814\n",
            "Model with path ./results/models/omniglot_train_reptile3.h5 loaded.\n",
            "Testing 20 way 1 shot\n",
            "Loss:  2.9955115\n",
            "Accuracy:  40.43997526168823\n"
          ]
        }
      ]
    },
    {
      "cell_type": "code",
      "source": [
        "def build_combined_dataset(train_dataset, val_dataset, test_dataset):\n",
        "  total_rows = train_dataset.shape[0] + val_dataset.shape[0] + test_dataset.shape[0]\n",
        "  train_dataset_images = int(train_dataset.shape[1]/2)\n",
        "  test_dataset_images = int(train_dataset.shape[1]/4)\n",
        "  val_dataset_images = int(train_dataset.shape[1]/4)\n",
        "  combined_train_dataset = np.zeros([total_rows, train_dataset_images, img_height, img_width, channels], dtype=np.float32)\n",
        "  combined_val_dataset = np.zeros([total_rows, val_dataset_images, img_height, img_width, channels], dtype=np.float32)\n",
        "  combined_test_dataset = np.zeros([total_rows, test_dataset_images, img_height, img_width, channels], dtype=np.float32)\n",
        "\n",
        "  for i in range(train_dataset.shape[0]):\n",
        "    for j in range(train_dataset_images):\n",
        "      combined_train_dataset[i][j] = train_dataset[i][j]\n",
        "    for k in range(val_dataset_images):\n",
        "      combined_val_dataset[i][k] = train_dataset[i][train_dataset_images + k]\n",
        "      combined_test_dataset[i][k] = train_dataset[i][train_dataset_images + val_dataset_images + k]\n",
        "\n",
        "  for i in range (val_dataset.shape[0]):\n",
        "    for j in range(train_dataset_images):\n",
        "      combined_train_dataset[train_dataset.shape[0] + i][j] = val_dataset[i][j]\n",
        "    for k in range(val_dataset_images):\n",
        "      combined_val_dataset[train_dataset.shape[0] + i][k] = val_dataset[i][train_dataset_images + k]\n",
        "      combined_test_dataset[train_dataset.shape[0] + i][k] = train_dataset[i][train_dataset_images + val_dataset_images + k]\n",
        "\n",
        "  for i in range (test_dataset.shape[0]):\n",
        "    for j in range(train_dataset_images):\n",
        "      combined_train_dataset[train_dataset.shape[0] + val_dataset.shape[0] + i][j] = test_dataset[i][j]\n",
        "    for k in range(val_dataset_images):\n",
        "      combined_val_dataset[train_dataset.shape[0] + val_dataset.shape[0] + i][k] = test_dataset[i][train_dataset_images + k]\n",
        "      combined_test_dataset[train_dataset.shape[0] + val_dataset.shape[0] + i][k] = train_dataset[i][train_dataset_images + val_dataset_images + k]\n",
        "\n",
        "  return combined_train_dataset, combined_val_dataset, combined_test_dataset"
      ],
      "metadata": {
        "id": "HlEeOit45irG"
      },
      "execution_count": null,
      "outputs": []
    },
    {
      "cell_type": "code",
      "source": [
        "combined_train_dataset, combined_val_dataset, combined_test_dataset = build_combined_dataset(train_dataset, val_dataset, test_dataset)\n",
        " "
      ],
      "metadata": {
        "id": "yDb-c5Yo54nw"
      },
      "execution_count": null,
      "outputs": []
    },
    {
      "cell_type": "code",
      "source": [
        "print(combined_train_dataset.shape)\n",
        "print(combined_val_dataset.shape)\n",
        "print(combined_test_dataset.shape)"
      ],
      "metadata": {
        "colab": {
          "base_uri": "https://localhost:8080/"
        },
        "id": "-dXRd2plCEgg",
        "outputId": "0546788f-7498-4e39-ef68-313ed2cfca32"
      },
      "execution_count": null,
      "outputs": [
        {
          "output_type": "stream",
          "name": "stdout",
          "text": [
            "(6492, 10, 32, 32, 1)\n",
            "(6492, 5, 32, 32, 1)\n",
            "(6492, 5, 32, 32, 1)\n"
          ]
        }
      ]
    },
    {
      "cell_type": "code",
      "source": [
        "combined_train_dataset_reshaped = combined_train_dataset.reshape(64920, 32, 32, 1)\n",
        "combined_val_dataset_reshaped = combined_val_dataset.reshape(32460, 32, 32, 1)\n",
        "combined_test_dataset_reshaped = combined_test_dataset.reshape(32460, 32, 32, 1)"
      ],
      "metadata": {
        "id": "JCPmxSutJlon"
      },
      "execution_count": null,
      "outputs": []
    },
    {
      "cell_type": "code",
      "source": [
        "train_labels = np.zeros(combined_train_dataset_reshaped.shape[0])\n",
        "val_labels = np.zeros(combined_val_dataset_reshaped.shape[0])\n",
        "test_labels = np.zeros(combined_test_dataset_reshaped.shape[0])\n",
        "val = 0\n",
        "for i in range(combined_train_dataset.shape[0]):\n",
        "  for j in range(combined_train_dataset.shape[1]):\n",
        "    train_labels[(i * 10) + j] = val\n",
        "  val = val + 1\n",
        "\n",
        "val = 0\n",
        "for i in range(combined_val_dataset.shape[0]):\n",
        "  for j in range(combined_val_dataset.shape[1]):\n",
        "    val_labels[(i * 5) + j] = val\n",
        "    test_labels[(i * 5) + j] = val\n",
        "  val = val + 1\n",
        "\n",
        "train_labels[64500:]"
      ],
      "metadata": {
        "id": "lNba8AjNK0NS",
        "colab": {
          "base_uri": "https://localhost:8080/"
        },
        "outputId": "81d0bca6-41d6-41d2-b948-0d074c761931"
      },
      "execution_count": null,
      "outputs": [
        {
          "output_type": "execute_result",
          "data": {
            "text/plain": [
              "array([6450., 6450., 6450., 6450., 6450., 6450., 6450., 6450., 6450.,\n",
              "       6450., 6451., 6451., 6451., 6451., 6451., 6451., 6451., 6451.,\n",
              "       6451., 6451., 6452., 6452., 6452., 6452., 6452., 6452., 6452.,\n",
              "       6452., 6452., 6452., 6453., 6453., 6453., 6453., 6453., 6453.,\n",
              "       6453., 6453., 6453., 6453., 6454., 6454., 6454., 6454., 6454.,\n",
              "       6454., 6454., 6454., 6454., 6454., 6455., 6455., 6455., 6455.,\n",
              "       6455., 6455., 6455., 6455., 6455., 6455., 6456., 6456., 6456.,\n",
              "       6456., 6456., 6456., 6456., 6456., 6456., 6456., 6457., 6457.,\n",
              "       6457., 6457., 6457., 6457., 6457., 6457., 6457., 6457., 6458.,\n",
              "       6458., 6458., 6458., 6458., 6458., 6458., 6458., 6458., 6458.,\n",
              "       6459., 6459., 6459., 6459., 6459., 6459., 6459., 6459., 6459.,\n",
              "       6459., 6460., 6460., 6460., 6460., 6460., 6460., 6460., 6460.,\n",
              "       6460., 6460., 6461., 6461., 6461., 6461., 6461., 6461., 6461.,\n",
              "       6461., 6461., 6461., 6462., 6462., 6462., 6462., 6462., 6462.,\n",
              "       6462., 6462., 6462., 6462., 6463., 6463., 6463., 6463., 6463.,\n",
              "       6463., 6463., 6463., 6463., 6463., 6464., 6464., 6464., 6464.,\n",
              "       6464., 6464., 6464., 6464., 6464., 6464., 6465., 6465., 6465.,\n",
              "       6465., 6465., 6465., 6465., 6465., 6465., 6465., 6466., 6466.,\n",
              "       6466., 6466., 6466., 6466., 6466., 6466., 6466., 6466., 6467.,\n",
              "       6467., 6467., 6467., 6467., 6467., 6467., 6467., 6467., 6467.,\n",
              "       6468., 6468., 6468., 6468., 6468., 6468., 6468., 6468., 6468.,\n",
              "       6468., 6469., 6469., 6469., 6469., 6469., 6469., 6469., 6469.,\n",
              "       6469., 6469., 6470., 6470., 6470., 6470., 6470., 6470., 6470.,\n",
              "       6470., 6470., 6470., 6471., 6471., 6471., 6471., 6471., 6471.,\n",
              "       6471., 6471., 6471., 6471., 6472., 6472., 6472., 6472., 6472.,\n",
              "       6472., 6472., 6472., 6472., 6472., 6473., 6473., 6473., 6473.,\n",
              "       6473., 6473., 6473., 6473., 6473., 6473., 6474., 6474., 6474.,\n",
              "       6474., 6474., 6474., 6474., 6474., 6474., 6474., 6475., 6475.,\n",
              "       6475., 6475., 6475., 6475., 6475., 6475., 6475., 6475., 6476.,\n",
              "       6476., 6476., 6476., 6476., 6476., 6476., 6476., 6476., 6476.,\n",
              "       6477., 6477., 6477., 6477., 6477., 6477., 6477., 6477., 6477.,\n",
              "       6477., 6478., 6478., 6478., 6478., 6478., 6478., 6478., 6478.,\n",
              "       6478., 6478., 6479., 6479., 6479., 6479., 6479., 6479., 6479.,\n",
              "       6479., 6479., 6479., 6480., 6480., 6480., 6480., 6480., 6480.,\n",
              "       6480., 6480., 6480., 6480., 6481., 6481., 6481., 6481., 6481.,\n",
              "       6481., 6481., 6481., 6481., 6481., 6482., 6482., 6482., 6482.,\n",
              "       6482., 6482., 6482., 6482., 6482., 6482., 6483., 6483., 6483.,\n",
              "       6483., 6483., 6483., 6483., 6483., 6483., 6483., 6484., 6484.,\n",
              "       6484., 6484., 6484., 6484., 6484., 6484., 6484., 6484., 6485.,\n",
              "       6485., 6485., 6485., 6485., 6485., 6485., 6485., 6485., 6485.,\n",
              "       6486., 6486., 6486., 6486., 6486., 6486., 6486., 6486., 6486.,\n",
              "       6486., 6487., 6487., 6487., 6487., 6487., 6487., 6487., 6487.,\n",
              "       6487., 6487., 6488., 6488., 6488., 6488., 6488., 6488., 6488.,\n",
              "       6488., 6488., 6488., 6489., 6489., 6489., 6489., 6489., 6489.,\n",
              "       6489., 6489., 6489., 6489., 6490., 6490., 6490., 6490., 6490.,\n",
              "       6490., 6490., 6490., 6490., 6490., 6491., 6491., 6491., 6491.,\n",
              "       6491., 6491., 6491., 6491., 6491., 6491.])"
            ]
          },
          "metadata": {},
          "execution_count": 48
        }
      ]
    },
    {
      "cell_type": "code",
      "source": [
        "from numpy import argmax\n",
        "from tensorflow.keras.utils import to_categorical\n",
        "# one hot encode\n",
        "train_labels_encoded = to_categorical(train_labels)\n",
        "val_labels_encoded = to_categorical(val_labels)\n",
        "test_labels_encoded = to_categorical(test_labels)\n",
        "print(train_labels_encoded.shape)\n",
        "print(val_labels_encoded.shape)\n",
        "print(test_labels_encoded.shape)"
      ],
      "metadata": {
        "colab": {
          "base_uri": "https://localhost:8080/"
        },
        "id": "OuawHOx2C5n3",
        "outputId": "8694d5ea-4a7f-49d6-dced-4aacd7a4880b"
      },
      "execution_count": null,
      "outputs": [
        {
          "output_type": "stream",
          "name": "stdout",
          "text": [
            "(64920, 6492)\n",
            "(32460, 6492)\n",
            "(32460, 6492)\n"
          ]
        }
      ]
    },
    {
      "cell_type": "code",
      "source": [
        "from tensorflow.keras import applications\n",
        "from tensorflow.keras.models import Sequential\n",
        "\n",
        "base_model = applications.resnet50.ResNet50(weights= None, include_top=False, input_shape= (img_height,img_width,1))\n",
        "x = base_model.output\n",
        "x = GlobalMaxPooling2D()(x)\n",
        "x = Dropout(0.7)(x)\n",
        "predictions = Dense(6492, activation= 'softmax')(x)\n",
        "model = Model(inputs = base_model.input, outputs = predictions)\n",
        "optimizer = tf.keras.optimizers.Adam(learning_rate)\n",
        "model.compile(optimizer= optimizer, loss='categorical_crossentropy', metrics=['accuracy'])\n",
        "model.fit(combined_train_dataset_reshaped, train_labels_encoded, epochs = 100, batch_size = 64, validation_data=(combined_val_dataset_reshaped, val_labels_encoded))\n"
      ],
      "metadata": {
        "colab": {
          "base_uri": "https://localhost:8080/"
        },
        "id": "FMVBdGxDDxxL",
        "outputId": "9f52dc67-765f-498a-90ad-7098b154864a"
      },
      "execution_count": null,
      "outputs": [
        {
          "output_type": "stream",
          "name": "stdout",
          "text": [
            "Epoch 1/100\n",
            "1015/1015 [==============================] - 71s 63ms/step - loss: 10.2822 - accuracy: 7.7018e-05 - val_loss: 112.8816 - val_accuracy: 9.2421e-05\n",
            "Epoch 2/100\n",
            "1015/1015 [==============================] - 61s 60ms/step - loss: 9.6603 - accuracy: 1.8484e-04 - val_loss: 8.8060 - val_accuracy: 1.5404e-04\n",
            "Epoch 3/100\n",
            "1015/1015 [==============================] - 61s 60ms/step - loss: 8.9651 - accuracy: 3.8509e-04 - val_loss: 10.4517 - val_accuracy: 1.8484e-04\n",
            "Epoch 4/100\n",
            "1015/1015 [==============================] - 61s 60ms/step - loss: 8.6685 - accuracy: 3.0807e-04 - val_loss: 8.5928 - val_accuracy: 3.0807e-04\n",
            "Epoch 5/100\n",
            "1015/1015 [==============================] - 61s 60ms/step - loss: 8.5340 - accuracy: 3.2348e-04 - val_loss: 8.9433 - val_accuracy: 3.3888e-04\n",
            "Epoch 6/100\n",
            "1015/1015 [==============================] - 61s 61ms/step - loss: 8.4391 - accuracy: 3.0807e-04 - val_loss: 9.4202 - val_accuracy: 4.0049e-04\n",
            "Epoch 7/100\n",
            "1015/1015 [==============================] - 62s 61ms/step - loss: 8.3710 - accuracy: 4.3130e-04 - val_loss: 8.5446 - val_accuracy: 4.9291e-04\n",
            "Epoch 8/100\n",
            "1015/1015 [==============================] - 62s 61ms/step - loss: 8.3426 - accuracy: 3.5428e-04 - val_loss: 8.8224 - val_accuracy: 4.3130e-04\n",
            "Epoch 9/100\n",
            "1015/1015 [==============================] - 61s 60ms/step - loss: 8.4373 - accuracy: 4.0049e-04 - val_loss: 8.4210 - val_accuracy: 4.6211e-04\n",
            "Epoch 10/100\n",
            "1015/1015 [==============================] - 61s 60ms/step - loss: 8.2566 - accuracy: 4.6211e-04 - val_loss: 8.0258 - val_accuracy: 7.7018e-04\n",
            "Epoch 11/100\n",
            "1015/1015 [==============================] - 61s 60ms/step - loss: 8.2379 - accuracy: 3.6969e-04 - val_loss: 8.2706 - val_accuracy: 4.9291e-04\n",
            "Epoch 12/100\n",
            "1015/1015 [==============================] - 61s 60ms/step - loss: 8.1187 - accuracy: 9.0881e-04 - val_loss: 8.2007 - val_accuracy: 3.3888e-04\n",
            "Epoch 13/100\n",
            "1015/1015 [==============================] - 61s 60ms/step - loss: 8.1163 - accuracy: 5.8534e-04 - val_loss: 7.9185 - val_accuracy: 0.0010\n",
            "Epoch 14/100\n",
            "1015/1015 [==============================] - 60s 59ms/step - loss: 8.0790 - accuracy: 6.6235e-04 - val_loss: 13.3053 - val_accuracy: 2.4646e-04\n",
            "Epoch 15/100\n",
            "1015/1015 [==============================] - 59s 58ms/step - loss: 8.0338 - accuracy: 8.0099e-04 - val_loss: 8.5217 - val_accuracy: 8.3179e-04\n",
            "Epoch 16/100\n",
            "1015/1015 [==============================] - 59s 58ms/step - loss: 8.0015 - accuracy: 6.4695e-04 - val_loss: 8.7441 - val_accuracy: 8.9341e-04\n",
            "Epoch 17/100\n",
            "1015/1015 [==============================] - 59s 58ms/step - loss: 8.0968 - accuracy: 6.1614e-04 - val_loss: 8.0420 - val_accuracy: 8.3179e-04\n",
            "Epoch 18/100\n",
            "1015/1015 [==============================] - 59s 58ms/step - loss: 7.9923 - accuracy: 6.6235e-04 - val_loss: 240.1901 - val_accuracy: 1.5404e-04\n",
            "Epoch 19/100\n",
            "1015/1015 [==============================] - 59s 58ms/step - loss: 8.0064 - accuracy: 6.7776e-04 - val_loss: 8.0023 - val_accuracy: 0.0011\n",
            "Epoch 20/100\n",
            "1015/1015 [==============================] - 59s 58ms/step - loss: 7.9299 - accuracy: 7.5478e-04 - val_loss: 7.9117 - val_accuracy: 0.0011\n",
            "Epoch 21/100\n",
            "1015/1015 [==============================] - 59s 58ms/step - loss: 7.9217 - accuracy: 8.0099e-04 - val_loss: 8.3701 - val_accuracy: 0.0010\n",
            "Epoch 22/100\n",
            "1015/1015 [==============================] - 59s 58ms/step - loss: 7.9034 - accuracy: 7.2397e-04 - val_loss: 7.8981 - val_accuracy: 0.0014\n",
            "Epoch 23/100\n",
            "1015/1015 [==============================] - 59s 58ms/step - loss: 7.8836 - accuracy: 9.3962e-04 - val_loss: 7.7874 - val_accuracy: 0.0016\n",
            "Epoch 24/100\n",
            "1015/1015 [==============================] - 59s 58ms/step - loss: 7.8858 - accuracy: 0.0011 - val_loss: 8.1706 - val_accuracy: 0.0014\n",
            "Epoch 25/100\n",
            "1015/1015 [==============================] - 58s 58ms/step - loss: 7.8502 - accuracy: 9.7043e-04 - val_loss: 8.7476 - val_accuracy: 0.0014\n",
            "Epoch 26/100\n",
            "1015/1015 [==============================] - 59s 58ms/step - loss: 7.9846 - accuracy: 7.7018e-04 - val_loss: 8.7038 - val_accuracy: 8.0099e-04\n",
            "Epoch 27/100\n",
            "1015/1015 [==============================] - 59s 58ms/step - loss: 7.9616 - accuracy: 5.6993e-04 - val_loss: 9.4118 - val_accuracy: 3.3888e-04\n",
            "Epoch 28/100\n",
            "1015/1015 [==============================] - 59s 58ms/step - loss: 8.0031 - accuracy: 6.3155e-04 - val_loss: 7.7756 - val_accuracy: 0.0016\n",
            "Epoch 29/100\n",
            "1015/1015 [==============================] - 59s 58ms/step - loss: 7.8704 - accuracy: 6.9316e-04 - val_loss: 7.8653 - val_accuracy: 0.0014\n",
            "Epoch 30/100\n",
            "1015/1015 [==============================] - 59s 58ms/step - loss: 7.8400 - accuracy: 9.3962e-04 - val_loss: 7.9543 - val_accuracy: 0.0012\n",
            "Epoch 31/100\n",
            "1015/1015 [==============================] - 59s 58ms/step - loss: 7.8179 - accuracy: 0.0010 - val_loss: 9.4389 - val_accuracy: 0.0014\n",
            "Epoch 32/100\n",
            "1015/1015 [==============================] - 58s 58ms/step - loss: 7.7891 - accuracy: 8.0099e-04 - val_loss: 8.6690 - val_accuracy: 0.0013\n",
            "Epoch 33/100\n",
            "1015/1015 [==============================] - 59s 58ms/step - loss: 7.7839 - accuracy: 9.5502e-04 - val_loss: 9.4055 - val_accuracy: 0.0018\n",
            "Epoch 34/100\n",
            "1015/1015 [==============================] - 59s 58ms/step - loss: 7.7553 - accuracy: 9.8583e-04 - val_loss: 11.8007 - val_accuracy: 0.0018\n",
            "Epoch 35/100\n",
            "1015/1015 [==============================] - 59s 58ms/step - loss: 7.7199 - accuracy: 0.0012 - val_loss: 11.2859 - val_accuracy: 0.0018\n",
            "Epoch 36/100\n",
            "1015/1015 [==============================] - 59s 58ms/step - loss: 7.7789 - accuracy: 0.0012 - val_loss: 10.2019 - val_accuracy: 0.0014\n",
            "Epoch 37/100\n",
            "1015/1015 [==============================] - 59s 58ms/step - loss: 7.9021 - accuracy: 8.9341e-04 - val_loss: 9.6966 - val_accuracy: 0.0013\n",
            "Epoch 38/100\n",
            "1015/1015 [==============================] - 59s 58ms/step - loss: 7.7992 - accuracy: 9.3962e-04 - val_loss: 12.8615 - val_accuracy: 0.0020\n",
            "Epoch 39/100\n",
            "1015/1015 [==============================] - 59s 58ms/step - loss: 7.6907 - accuracy: 0.0014 - val_loss: 12.1178 - val_accuracy: 0.0025\n",
            "Epoch 40/100\n",
            "1015/1015 [==============================] - 59s 58ms/step - loss: 7.6622 - accuracy: 0.0015 - val_loss: 89.0714 - val_accuracy: 0.0025\n",
            "Epoch 41/100\n",
            "1015/1015 [==============================] - 59s 58ms/step - loss: 7.6402 - accuracy: 0.0016 - val_loss: 50.6000 - val_accuracy: 0.0023\n",
            "Epoch 42/100\n",
            "1015/1015 [==============================] - 59s 58ms/step - loss: 7.6092 - accuracy: 0.0018 - val_loss: 29.0970 - val_accuracy: 0.0035\n",
            "Epoch 43/100\n",
            "1015/1015 [==============================] - 59s 58ms/step - loss: 7.6188 - accuracy: 0.0017 - val_loss: 24.4566 - val_accuracy: 6.7776e-04\n",
            "Epoch 44/100\n",
            "1015/1015 [==============================] - 59s 58ms/step - loss: 7.6311 - accuracy: 0.0015 - val_loss: 12.3888 - val_accuracy: 0.0034\n",
            "Epoch 45/100\n",
            "1015/1015 [==============================] - 59s 58ms/step - loss: 7.6123 - accuracy: 0.0016 - val_loss: 20.0569 - val_accuracy: 0.0035\n",
            "Epoch 46/100\n",
            "1015/1015 [==============================] - 59s 58ms/step - loss: 7.6782 - accuracy: 0.0016 - val_loss: 8.7296 - val_accuracy: 0.0018\n",
            "Epoch 47/100\n",
            "1015/1015 [==============================] - 59s 58ms/step - loss: 7.6057 - accuracy: 0.0016 - val_loss: 36.4122 - val_accuracy: 0.0010\n",
            "Epoch 48/100\n",
            "1015/1015 [==============================] - 59s 58ms/step - loss: 7.5570 - accuracy: 0.0018 - val_loss: 18.6682 - val_accuracy: 0.0044\n",
            "Epoch 49/100\n",
            "1015/1015 [==============================] - 60s 59ms/step - loss: 7.6027 - accuracy: 0.0018 - val_loss: 7.9572 - val_accuracy: 0.0035\n",
            "Epoch 50/100\n",
            "1015/1015 [==============================] - 59s 58ms/step - loss: 7.5377 - accuracy: 0.0019 - val_loss: 23.6680 - val_accuracy: 0.0019\n",
            "Epoch 51/100\n",
            "1015/1015 [==============================] - 59s 58ms/step - loss: 7.5279 - accuracy: 0.0020 - val_loss: 8.9615 - val_accuracy: 0.0048\n",
            "Epoch 52/100\n",
            "1015/1015 [==============================] - 59s 58ms/step - loss: 7.4559 - accuracy: 0.0022 - val_loss: 8.9440 - val_accuracy: 0.0056\n",
            "Epoch 53/100\n",
            "1015/1015 [==============================] - 59s 58ms/step - loss: 7.5091 - accuracy: 0.0020 - val_loss: 9.1618 - val_accuracy: 0.0052\n",
            "Epoch 54/100\n",
            "1015/1015 [==============================] - 59s 58ms/step - loss: 7.4223 - accuracy: 0.0024 - val_loss: 10.8869 - val_accuracy: 0.0066\n",
            "Epoch 55/100\n",
            "1015/1015 [==============================] - 59s 58ms/step - loss: 7.8174 - accuracy: 0.0014 - val_loss: 7.9797 - val_accuracy: 0.0016\n",
            "Epoch 56/100\n",
            "1015/1015 [==============================] - 59s 58ms/step - loss: 7.9396 - accuracy: 0.0013 - val_loss: 7.7551 - val_accuracy: 0.0028\n",
            "Epoch 57/100\n",
            "1015/1015 [==============================] - 59s 58ms/step - loss: 7.7779 - accuracy: 0.0019 - val_loss: 7.6843 - val_accuracy: 0.0038\n",
            "Epoch 58/100\n",
            "1015/1015 [==============================] - 61s 60ms/step - loss: 7.6691 - accuracy: 0.0022 - val_loss: 7.9855 - val_accuracy: 0.0040\n",
            "Epoch 59/100\n",
            "1015/1015 [==============================] - 59s 58ms/step - loss: 7.5840 - accuracy: 0.0022 - val_loss: 8.0235 - val_accuracy: 0.0059\n",
            "Epoch 60/100\n",
            "1015/1015 [==============================] - 59s 58ms/step - loss: 7.4869 - accuracy: 0.0034 - val_loss: 8.3899 - val_accuracy: 0.0063\n",
            "Epoch 61/100\n",
            "1015/1015 [==============================] - 58s 57ms/step - loss: 7.5128 - accuracy: 0.0028 - val_loss: 8.5475 - val_accuracy: 0.0069\n",
            "Epoch 62/100\n",
            "1015/1015 [==============================] - 57s 56ms/step - loss: 7.5160 - accuracy: 0.0033 - val_loss: 10.1215 - val_accuracy: 0.0078\n",
            "Epoch 63/100\n",
            "1015/1015 [==============================] - 58s 57ms/step - loss: 7.4632 - accuracy: 0.0034 - val_loss: 9.8987 - val_accuracy: 0.0068\n",
            "Epoch 64/100\n",
            "1015/1015 [==============================] - 58s 57ms/step - loss: 7.4765 - accuracy: 0.0029 - val_loss: 7.1657 - val_accuracy: 0.0080\n",
            "Epoch 65/100\n",
            "1015/1015 [==============================] - 58s 57ms/step - loss: 7.3862 - accuracy: 0.0037 - val_loss: 10.8226 - val_accuracy: 0.0103\n",
            "Epoch 66/100\n",
            "1015/1015 [==============================] - 57s 57ms/step - loss: 7.3811 - accuracy: 0.0039 - val_loss: 14.6329 - val_accuracy: 0.0081\n",
            "Epoch 67/100\n",
            "1015/1015 [==============================] - 58s 57ms/step - loss: 7.3217 - accuracy: 0.0042 - val_loss: 8.3588 - val_accuracy: 0.0075\n",
            "Epoch 68/100\n",
            "1015/1015 [==============================] - 58s 57ms/step - loss: 7.4577 - accuracy: 0.0035 - val_loss: 7.1254 - val_accuracy: 0.0107\n",
            "Epoch 69/100\n",
            "1015/1015 [==============================] - 57s 57ms/step - loss: 7.3026 - accuracy: 0.0045 - val_loss: 27.3922 - val_accuracy: 0.0087\n",
            "Epoch 70/100\n",
            "1015/1015 [==============================] - 58s 57ms/step - loss: 7.2018 - accuracy: 0.0048 - val_loss: 12.8188 - val_accuracy: 0.0129\n",
            "Epoch 71/100\n",
            "1015/1015 [==============================] - 57s 57ms/step - loss: 7.3045 - accuracy: 0.0045 - val_loss: 20.0119 - val_accuracy: 0.0118\n",
            "Epoch 72/100\n",
            "1015/1015 [==============================] - 58s 57ms/step - loss: 7.1816 - accuracy: 0.0058 - val_loss: 14.6434 - val_accuracy: 0.0185\n",
            "Epoch 73/100\n",
            "1015/1015 [==============================] - 57s 57ms/step - loss: 7.2295 - accuracy: 0.0056 - val_loss: 12.0492 - val_accuracy: 0.0127\n",
            "Epoch 74/100\n",
            "1015/1015 [==============================] - 57s 57ms/step - loss: 7.2513 - accuracy: 0.0051 - val_loss: 372.3262 - val_accuracy: 0.0012\n",
            "Epoch 75/100\n",
            "1015/1015 [==============================] - 58s 57ms/step - loss: 7.3819 - accuracy: 0.0045 - val_loss: 7.9318 - val_accuracy: 0.0081\n",
            "Epoch 76/100\n",
            "1015/1015 [==============================] - 57s 57ms/step - loss: 7.1597 - accuracy: 0.0058 - val_loss: 14.0365 - val_accuracy: 0.0126\n",
            "Epoch 77/100\n",
            "1015/1015 [==============================] - 58s 57ms/step - loss: 7.0395 - accuracy: 0.0065 - val_loss: 14.2340 - val_accuracy: 0.0162\n",
            "Epoch 78/100\n",
            "1015/1015 [==============================] - 57s 57ms/step - loss: 7.1579 - accuracy: 0.0065 - val_loss: 9.3305 - val_accuracy: 0.0029\n",
            "Epoch 79/100\n",
            "1015/1015 [==============================] - 58s 57ms/step - loss: 7.6396 - accuracy: 0.0039 - val_loss: 14.1900 - val_accuracy: 0.0108\n",
            "Epoch 80/100\n",
            "1015/1015 [==============================] - 57s 57ms/step - loss: 7.3947 - accuracy: 0.0056 - val_loss: 20.6375 - val_accuracy: 0.0112\n",
            "Epoch 81/100\n",
            "1015/1015 [==============================] - 58s 57ms/step - loss: 7.1405 - accuracy: 0.0065 - val_loss: 12.1916 - val_accuracy: 0.0161\n",
            "Epoch 82/100\n",
            "1015/1015 [==============================] - 57s 57ms/step - loss: 6.9866 - accuracy: 0.0076 - val_loss: 16.1763 - val_accuracy: 0.0166\n",
            "Epoch 83/100\n",
            "1015/1015 [==============================] - 58s 57ms/step - loss: 6.9288 - accuracy: 0.0086 - val_loss: 8.8339 - val_accuracy: 0.0235\n",
            "Epoch 84/100\n",
            "1015/1015 [==============================] - 58s 57ms/step - loss: 6.9474 - accuracy: 0.0092 - val_loss: 11.9633 - val_accuracy: 0.0194\n",
            "Epoch 85/100\n",
            "1015/1015 [==============================] - 57s 57ms/step - loss: 6.9521 - accuracy: 0.0089 - val_loss: 11.9943 - val_accuracy: 0.0085\n",
            "Epoch 86/100\n",
            "1015/1015 [==============================] - 58s 57ms/step - loss: 6.9448 - accuracy: 0.0087 - val_loss: 26.6000 - val_accuracy: 0.0216\n",
            "Epoch 87/100\n",
            "1015/1015 [==============================] - 58s 57ms/step - loss: 7.0464 - accuracy: 0.0079 - val_loss: 6.5375 - val_accuracy: 0.0259\n",
            "Epoch 88/100\n",
            "1015/1015 [==============================] - 59s 58ms/step - loss: 6.8719 - accuracy: 0.0097 - val_loss: 6.5841 - val_accuracy: 0.0246\n",
            "Epoch 89/100\n",
            "1015/1015 [==============================] - 58s 57ms/step - loss: 6.7709 - accuracy: 0.0108 - val_loss: 6.6525 - val_accuracy: 0.0318\n",
            "Epoch 90/100\n",
            "1015/1015 [==============================] - 58s 57ms/step - loss: 6.7392 - accuracy: 0.0107 - val_loss: 6.8699 - val_accuracy: 0.0298\n",
            "Epoch 91/100\n",
            "1015/1015 [==============================] - 58s 57ms/step - loss: 6.8552 - accuracy: 0.0100 - val_loss: 6.9716 - val_accuracy: 0.0276\n",
            "Epoch 92/100\n",
            "1015/1015 [==============================] - 59s 58ms/step - loss: 6.6788 - accuracy: 0.0126 - val_loss: 6.8753 - val_accuracy: 0.0319\n",
            "Epoch 93/100\n",
            "1015/1015 [==============================] - 59s 58ms/step - loss: 6.6427 - accuracy: 0.0130 - val_loss: 6.4836 - val_accuracy: 0.0282\n",
            "Epoch 94/100\n",
            "1015/1015 [==============================] - 58s 58ms/step - loss: 6.6522 - accuracy: 0.0130 - val_loss: 8.2597 - val_accuracy: 0.0244\n",
            "Epoch 95/100\n",
            "1015/1015 [==============================] - 58s 58ms/step - loss: 6.5977 - accuracy: 0.0147 - val_loss: 10.3360 - val_accuracy: 0.0361\n",
            "Epoch 96/100\n",
            "1015/1015 [==============================] - 58s 57ms/step - loss: 6.6168 - accuracy: 0.0144 - val_loss: 7.5408 - val_accuracy: 0.0256\n",
            "Epoch 97/100\n",
            "1015/1015 [==============================] - 59s 58ms/step - loss: 6.6096 - accuracy: 0.0145 - val_loss: 14.6145 - val_accuracy: 0.0223\n",
            "Epoch 98/100\n",
            "1015/1015 [==============================] - 59s 58ms/step - loss: 6.5932 - accuracy: 0.0152 - val_loss: 11.8544 - val_accuracy: 0.0374\n",
            "Epoch 99/100\n",
            "1015/1015 [==============================] - 59s 58ms/step - loss: 6.9373 - accuracy: 0.0103 - val_loss: 20.6199 - val_accuracy: 0.0235\n",
            "Epoch 100/100\n",
            "1015/1015 [==============================] - 59s 58ms/step - loss: 6.7887 - accuracy: 0.0119 - val_loss: 9.6541 - val_accuracy: 0.0231\n"
          ]
        },
        {
          "output_type": "execute_result",
          "data": {
            "text/plain": [
              "<keras.callbacks.History at 0x7fa6601f39d0>"
            ]
          },
          "metadata": {},
          "execution_count": 50
        }
      ]
    },
    {
      "cell_type": "code",
      "source": [
        "preds = model.evaluate(combined_test_dataset_reshaped, test_labels_encoded)\n",
        "print (\"Loss = \" + str(preds[0]))\n",
        "print (\"Test Accuracy = \" + str(preds[1]))"
      ],
      "metadata": {
        "colab": {
          "base_uri": "https://localhost:8080/"
        },
        "id": "SPze6Wsn31EV",
        "outputId": "61c930e1-7db7-4915-e2ba-2ddb6fe9ecab"
      },
      "execution_count": null,
      "outputs": [
        {
          "output_type": "stream",
          "name": "stdout",
          "text": [
            "1015/1015 [==============================] - 14s 14ms/step - loss: 14.6651 - accuracy: 0.0147\n",
            "Loss = 14.665081024169922\n",
            "Test Accuracy = 0.014725816436111927\n"
          ]
        }
      ]
    }
  ],
  "metadata": {
    "accelerator": "GPU",
    "colab": {
      "collapsed_sections": [],
      "machine_shape": "hm",
      "provenance": [],
      "authorship_tag": "ABX9TyMr3u0Zj5m+M8ksI3v8zQiF",
      "include_colab_link": true
    },
    "gpuClass": "standard",
    "kernelspec": {
      "display_name": "Python 3",
      "name": "python3"
    },
    "language_info": {
      "name": "python"
    }
  },
  "nbformat": 4,
  "nbformat_minor": 0
}